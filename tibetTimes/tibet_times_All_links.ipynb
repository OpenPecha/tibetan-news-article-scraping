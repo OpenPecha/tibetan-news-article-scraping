{
 "cells": [
  {
   "cell_type": "code",
   "execution_count": 1,
   "metadata": {},
   "outputs": [],
   "source": [
    "import requests\n",
    "from bs4 import BeautifulSoup\n",
    "import json\n",
    "import time\n",
    "from tqdm import tqdm"
   ]
  },
  {
   "cell_type": "code",
   "execution_count": 2,
   "metadata": {},
   "outputs": [],
   "source": [
    "import TibetTimes_utils"
   ]
  },
  {
   "cell_type": "markdown",
   "metadata": {},
   "source": [
    "## Here we will extract all the articles links from TibetTimes webpage\n",
    "URL: https://tibettimes.net/"
   ]
  },
  {
   "cell_type": "markdown",
   "metadata": {},
   "source": [
    "## with the help of TibetTimes_utils we can use two main function\n",
    "1. **extract_all_tt_page_article_links: Extracts all article links from a given TibetTimes webpage.**\n",
    "2. scrape_tt_article_content: Scrapes an article from the TibetTimes website.\n",
    "\n",
    "\n",
    "------------\n",
    "-----------\n",
    "------------\n",
    "------------\n",
    "------------"
   ]
  },
  {
   "cell_type": "code",
   "execution_count": 3,
   "metadata": {},
   "outputs": [],
   "source": [
    "def loop_article_page(total_page, custom_url, key_code):\n",
    "    \"\"\"\n",
    "    \n",
    "    \"\"\"\n",
    "    return_file = {\n",
    "        \"Data\": [],\n",
    "        \"message\": \"success\",\n",
    "        \"response\": 200\n",
    "    }\n",
    "    All_url_links = {}\n",
    "    \n",
    "    try:\n",
    "        for i in tqdm(range(1, total_page)):\n",
    "            final_url = custom_url + str(i) +\"/\"\n",
    "            found_url_links = TibetTimes_utils.extract_all_tt_page_article_links(final_url)\n",
    "            key = key_code + str(i)\n",
    "            All_url_links[key] = found_url_links\n",
    "        return_file[\"Data\"] = All_url_links\n",
    "        return return_file\n",
    "    \n",
    "    except Exception as e:\n",
    "        return_file[\"Data\"] = All_url_links\n",
    "        return_file[\"message\"] = e\n",
    "        return_file[\"response\"] = 404\n",
    "        return return_file"
   ]
  },
  {
   "cell_type": "code",
   "execution_count": 4,
   "metadata": {},
   "outputs": [],
   "source": [
    "def check_error_in_links(All_url_link, page_code, print_each_error=False):\n",
    "    \"\"\"\n",
    "    \n",
    "    \"\"\"\n",
    "\n",
    "    error_counter = 0\n",
    "    for page_id in range(1, len(All_url_link)):\n",
    "        page_key = page_code + str(page_id)\n",
    "        try:\n",
    "            All_url_link.get(page_key)\n",
    "            if  All_url_link.get(page_key)[\"Response\"]!= 200:\n",
    "                error_counter += 1\n",
    "                if print_each_error:\n",
    "                    print(page_key, All_url_link.get(page_key)[\"message\"])\n",
    "        except Exception as e:\n",
    "            print(page_key, e)\n",
    "\n",
    "    print(f\"Total error in {page_code}: {error_counter}\")"
   ]
  },
  {
   "cell_type": "code",
   "execution_count": 11,
   "metadata": {},
   "outputs": [],
   "source": [
    "def save_json(path, file_name, data):\n",
    "    \"\"\"\n",
    "    \n",
    "    \"\"\"\n",
    "    with open(path+file_name, \"w\") as outfile:\n",
    "        json.dump(data, outfile, indent=4)\n",
    "        print(f\"Successfully saved: {file_name}\")"
   ]
  },
  {
   "cell_type": "markdown",
   "metadata": {},
   "source": [
    "------------\n",
    "------------\n",
    "------------\n",
    "\n",
    "\n",
    "\n",
    "# A. Extracting all Article links from ༸གོང་ས་མཆོག གསར་འགྱུར།\n",
    "- Base url: https://tibettimes.net/category/news/dalai-lama/\n",
    "- Custom URL: https://tibettimes.net/category/news/dalai-lama/page/ + str(i)\n",
    "- Total page:127"
   ]
  },
  {
   "cell_type": "code",
   "execution_count": 5,
   "metadata": {},
   "outputs": [
    {
     "name": "stderr",
     "output_type": "stream",
     "text": [
      "100%|██████████| 127/127 [03:03<00:00,  1.45s/it]\n"
     ]
    }
   ],
   "source": [
    "total_page = 127 + 1\n",
    "custom_url_གོངསམཆོག= \"https://tibettimes.net/category/news/dalai-lama/page/\"\n",
    "key_code = \"Page གོང་ས་མཆོག \"\n",
    "\n",
    "all_links_གོངསམཆོག = loop_article_page(total_page, custom_url_གོངསམཆོག, key_code)\n"
   ]
  },
  {
   "cell_type": "code",
   "execution_count": 6,
   "metadata": {},
   "outputs": [
    {
     "name": "stdout",
     "output_type": "stream",
     "text": [
      "Total page in གོང་ས་མཆོག: 127\n"
     ]
    }
   ],
   "source": [
    "print(f\"Total page in གོང་ས་མཆོག: {len(all_links_གོངསམཆོག['Data'])}\")"
   ]
  },
  {
   "cell_type": "code",
   "execution_count": 9,
   "metadata": {},
   "outputs": [
    {
     "name": "stdout",
     "output_type": "stream",
     "text": [
      "Total error in Page གོང་ས་མཆོག : 0\n"
     ]
    }
   ],
   "source": [
    "check_error_in_links(all_links_གོངསམཆོག['Data'], key_code, print_each_error=True)"
   ]
  },
  {
   "cell_type": "code",
   "execution_count": 12,
   "metadata": {},
   "outputs": [
    {
     "name": "stdout",
     "output_type": "stream",
     "text": [
      "Successfully saved: TT_ALL_link_གོང་ས་མཆོག.json\n"
     ]
    }
   ],
   "source": [
    "# Saving the final file\n",
    "path = \"./data/\"\n",
    "file_name = \"TT_ALL_link_གོང་ས་མཆོག.json\"\n",
    "save_json(path, file_name, all_links_གོངསམཆོག['Data'])"
   ]
  },
  {
   "cell_type": "code",
   "execution_count": null,
   "metadata": {},
   "outputs": [],
   "source": [
    "\n",
    "    "
   ]
  },
  {
   "cell_type": "code",
   "execution_count": 20,
   "metadata": {},
   "outputs": [],
   "source": []
  },
  {
   "cell_type": "markdown",
   "metadata": {},
   "source": [
    "----------\n",
    "----------\n",
    "----------\n",
    "\n",
    "\n",
    "\n",
    "# B. Extracting all Article links from བཙན་བྱོལ།\n",
    "- Base url: https://tibettimes.net/category/news/exiled/\n",
    "- Custom URL: https://tibettimes.net/category/news/exiled/page/ + str(i)\n",
    "- Total page:805\n"
   ]
  },
  {
   "cell_type": "code",
   "execution_count": 13,
   "metadata": {},
   "outputs": [
    {
     "name": "stderr",
     "output_type": "stream",
     "text": [
      "100%|██████████| 805/805 [33:46<00:00,  2.52s/it]\n"
     ]
    }
   ],
   "source": [
    "total_page = 805 + 1\n",
    "custom_url_བཙན= \"https://tibettimes.net/category/news/exiled/page/\"\n",
    "key_code = \"Page བཙན་བྱོལ། \"\n",
    "\n",
    "all_links_བཙན = loop_article_page(total_page, custom_url_བཙན, key_code)\n"
   ]
  },
  {
   "cell_type": "code",
   "execution_count": 14,
   "metadata": {},
   "outputs": [
    {
     "name": "stdout",
     "output_type": "stream",
     "text": [
      "Total page in བཙན་བྱོལ།: 805\n"
     ]
    }
   ],
   "source": [
    "print(f\"Total page in བཙན་བྱོལ།: {len(all_links_བཙན['Data'])}\")"
   ]
  },
  {
   "cell_type": "code",
   "execution_count": 15,
   "metadata": {},
   "outputs": [
    {
     "name": "stdout",
     "output_type": "stream",
     "text": [
      "Page བཙན་བྱོལ། 749 'message'\n",
      "Page བཙན་བྱོལ། 750 'message'\n",
      "Total error in Page བཙན་བྱོལ། : 2\n"
     ]
    }
   ],
   "source": [
    "check_error_in_links(all_links_བཙན['Data'], key_code, print_each_error=True)"
   ]
  },
  {
   "cell_type": "code",
   "execution_count": 16,
   "metadata": {},
   "outputs": [
    {
     "name": "stdout",
     "output_type": "stream",
     "text": [
      "Successfully saved: TT_ALL_link_བཙན.json\n"
     ]
    }
   ],
   "source": [
    "# Saving the final file\n",
    "path = \"./data/\"\n",
    "file_name = \"TT_ALL_link_བཙན.json\"\n",
    "save_json(path, file_name, all_links_བཙན['Data'])"
   ]
  },
  {
   "cell_type": "code",
   "execution_count": null,
   "metadata": {},
   "outputs": [],
   "source": []
  },
  {
   "cell_type": "markdown",
   "metadata": {},
   "source": [
    "----------\n",
    "----------\n",
    "----------\n",
    "\n",
    "\n",
    "\n",
    "# C. Extracting all Article links from བོད་ནང་།\n",
    "- Base url: https://tibettimes.net/category/news/tibet/\n",
    "- Custom URL: https://tibettimes.net/category/news/tibet/page/ + str(i)\n",
    "- Total page: 389\n"
   ]
  },
  {
   "cell_type": "code",
   "execution_count": 17,
   "metadata": {},
   "outputs": [
    {
     "name": "stderr",
     "output_type": "stream",
     "text": [
      "100%|██████████| 388/388 [15:30<00:00,  2.40s/it]\n"
     ]
    }
   ],
   "source": [
    "total_page = 389\n",
    "custom_url = \"https://tibettimes.net/category/news/tibet/page/\"\n",
    "key_code = \"Page བོད་ནང་། \"\n",
    "\n",
    "all_links = loop_article_page(total_page, custom_url, key_code)\n"
   ]
  },
  {
   "cell_type": "code",
   "execution_count": 18,
   "metadata": {},
   "outputs": [
    {
     "name": "stdout",
     "output_type": "stream",
     "text": [
      "Total page in བོད་ནང་།: 388\n"
     ]
    }
   ],
   "source": [
    "print(f\"Total page in བོད་ནང་།: {len(all_links['Data'])}\")"
   ]
  },
  {
   "cell_type": "code",
   "execution_count": 19,
   "metadata": {},
   "outputs": [
    {
     "name": "stdout",
     "output_type": "stream",
     "text": [
      "Total error in Page བོད་ནང་། : 0\n"
     ]
    }
   ],
   "source": [
    "check_error_in_links(all_links['Data'], key_code, print_each_error=True)"
   ]
  },
  {
   "cell_type": "code",
   "execution_count": 20,
   "metadata": {},
   "outputs": [
    {
     "name": "stdout",
     "output_type": "stream",
     "text": [
      "Successfully saved: TT_ALL_link_བོད.json\n"
     ]
    }
   ],
   "source": [
    "# Saving the final file\n",
    "path = \"./data/\"\n",
    "file_name = \"TT_ALL_link_བོད.json\"\n",
    "save_json(path, file_name, all_links['Data'])"
   ]
  },
  {
   "cell_type": "code",
   "execution_count": null,
   "metadata": {},
   "outputs": [],
   "source": []
  },
  {
   "cell_type": "code",
   "execution_count": null,
   "metadata": {},
   "outputs": [],
   "source": []
  },
  {
   "cell_type": "markdown",
   "metadata": {},
   "source": [
    "----------\n",
    "----------\n",
    "----------\n",
    "\n",
    "\n",
    "\n",
    "# D. Extracting all Article links from རྒྱལ་སྤྱི།\n",
    "- Base url: https://tibettimes.net/category/news/international/\n",
    "- Custom URL: https://tibettimes.net/category/news/international/page/ + str(i)\n",
    "- Total page: 418\n"
   ]
  },
  {
   "cell_type": "code",
   "execution_count": 21,
   "metadata": {},
   "outputs": [
    {
     "name": "stderr",
     "output_type": "stream",
     "text": [
      "100%|██████████| 417/417 [16:57<00:00,  2.44s/it]\n"
     ]
    }
   ],
   "source": [
    "total_page = 418\n",
    "custom_url = \"https://tibettimes.net/category/news/international/page/\"\n",
    "key_code = \"Page རྒྱལ་སྤྱི། \"\n",
    "\n",
    "all_links = loop_article_page(total_page, custom_url, key_code)\n"
   ]
  },
  {
   "cell_type": "code",
   "execution_count": 22,
   "metadata": {},
   "outputs": [
    {
     "name": "stdout",
     "output_type": "stream",
     "text": [
      "Total page in རྒྱལ་སྤྱི།: 417\n"
     ]
    }
   ],
   "source": [
    "print(f\"Total page in རྒྱལ་སྤྱི།: {len(all_links['Data'])}\")"
   ]
  },
  {
   "cell_type": "code",
   "execution_count": 23,
   "metadata": {},
   "outputs": [
    {
     "name": "stdout",
     "output_type": "stream",
     "text": [
      "Total error in Page རྒྱལ་སྤྱི། : 0\n"
     ]
    }
   ],
   "source": [
    "check_error_in_links(all_links['Data'], key_code, print_each_error=True)"
   ]
  },
  {
   "cell_type": "code",
   "execution_count": 24,
   "metadata": {},
   "outputs": [
    {
     "name": "stdout",
     "output_type": "stream",
     "text": [
      "Successfully saved: TT_ALL_link_རྒྱལ་སྤྱི།.json\n"
     ]
    }
   ],
   "source": [
    "# Saving the final file \n",
    "path = \"./data/\"\n",
    "file_name = \"TT_ALL_link_རྒྱལ་སྤྱི།.json\"\n",
    "save_json(path, file_name, all_links['Data'])"
   ]
  },
  {
   "cell_type": "code",
   "execution_count": null,
   "metadata": {},
   "outputs": [],
   "source": []
  },
  {
   "cell_type": "code",
   "execution_count": null,
   "metadata": {},
   "outputs": [],
   "source": []
  },
  {
   "cell_type": "markdown",
   "metadata": {},
   "source": [
    "----------\n",
    "----------\n",
    "----------\n",
    "\n",
    "\n",
    "\n",
    "# E. Extracting all Article links from རྒྱ་ནག\n",
    "- Base url: https://tibettimes.net/category/news/china/\n",
    "- Custom URL: https://tibettimes.net/category/news/china/page/ + str(i)\n",
    "- Total page: 189\n"
   ]
  },
  {
   "cell_type": "code",
   "execution_count": 25,
   "metadata": {},
   "outputs": [
    {
     "name": "stderr",
     "output_type": "stream",
     "text": [
      "100%|██████████| 188/188 [07:24<00:00,  2.36s/it]\n"
     ]
    }
   ],
   "source": [
    "total_page = 189\n",
    "custom_url = \"https://tibettimes.net/category/news/china/page/\"\n",
    "key_code = \"Page རྒྱ་ནག \"\n",
    "\n",
    "all_links = loop_article_page(total_page, custom_url, key_code)\n"
   ]
  },
  {
   "cell_type": "code",
   "execution_count": 26,
   "metadata": {},
   "outputs": [
    {
     "name": "stdout",
     "output_type": "stream",
     "text": [
      "Total page in རྒྱ་ནག: 188\n"
     ]
    }
   ],
   "source": [
    "print(f\"Total page in རྒྱ་ནག: {len(all_links['Data'])}\")"
   ]
  },
  {
   "cell_type": "code",
   "execution_count": 27,
   "metadata": {},
   "outputs": [
    {
     "name": "stdout",
     "output_type": "stream",
     "text": [
      "Total error in Page རྒྱ་ནག : 0\n"
     ]
    }
   ],
   "source": [
    "check_error_in_links(all_links['Data'], key_code, print_each_error=True)"
   ]
  },
  {
   "cell_type": "code",
   "execution_count": 28,
   "metadata": {},
   "outputs": [
    {
     "name": "stdout",
     "output_type": "stream",
     "text": [
      "Successfully saved: TT_ALL_link_རྒྱ་ནག.json\n"
     ]
    }
   ],
   "source": [
    "# Saving the final file\n",
    "path = \"./data/\"\n",
    "file_name = \"TT_ALL_link_རྒྱ་ནག.json\"\n",
    "save_json(path, file_name, all_links['Data'])"
   ]
  },
  {
   "cell_type": "code",
   "execution_count": null,
   "metadata": {},
   "outputs": [],
   "source": []
  },
  {
   "cell_type": "code",
   "execution_count": null,
   "metadata": {},
   "outputs": [],
   "source": []
  },
  {
   "cell_type": "markdown",
   "metadata": {},
   "source": [
    "----------\n",
    "----------\n",
    "----------\n",
    "\n",
    "\n",
    "\n",
    "# F. Extracting all Article links from ༧གོང་ས་མཆོག གསུང་འཕྲིན།\n",
    "- Base url: https://tibettimes.net/category/news/dalai-lama-statement/\n",
    "- Custom URL: https://tibettimes.net/category/news/dalai-lama-statement/page/ + str(i)\n",
    "- Total page: 13\n"
   ]
  },
  {
   "cell_type": "code",
   "execution_count": 29,
   "metadata": {},
   "outputs": [
    {
     "name": "stderr",
     "output_type": "stream",
     "text": [
      "100%|██████████| 12/12 [00:29<00:00,  2.50s/it]\n"
     ]
    }
   ],
   "source": [
    "total_page = 13\n",
    "custom_url = \"https://tibettimes.net/category/news/dalai-lama-statement/page/\"\n",
    "key_code = \"Page གསུང་འཕྲིན། \"\n",
    "\n",
    "all_links = loop_article_page(total_page, custom_url, key_code)\n"
   ]
  },
  {
   "cell_type": "code",
   "execution_count": 30,
   "metadata": {},
   "outputs": [
    {
     "name": "stdout",
     "output_type": "stream",
     "text": [
      "Total page in ༧གོང་ས་མཆོག གསུང་འཕྲིན།: 12\n"
     ]
    }
   ],
   "source": [
    "print(f\"Total page in ༧གོང་ས་མཆོག གསུང་འཕྲིན།: {len(all_links['Data'])}\")"
   ]
  },
  {
   "cell_type": "code",
   "execution_count": 31,
   "metadata": {},
   "outputs": [
    {
     "name": "stdout",
     "output_type": "stream",
     "text": [
      "Total error in Page གསུང་འཕྲིན། : 0\n"
     ]
    }
   ],
   "source": [
    "check_error_in_links(all_links['Data'], key_code, print_each_error=True)"
   ]
  },
  {
   "cell_type": "code",
   "execution_count": 32,
   "metadata": {},
   "outputs": [
    {
     "name": "stdout",
     "output_type": "stream",
     "text": [
      "Successfully saved: TT_ALL_link_གསུང་འཕྲིན།.json\n"
     ]
    }
   ],
   "source": [
    "# Saving the final file\n",
    "path = \"./data/\"\n",
    "file_name = \"TT_ALL_link_གསུང་འཕྲིན།.json\"\n",
    "save_json(path, file_name, all_links['Data'])"
   ]
  },
  {
   "cell_type": "code",
   "execution_count": null,
   "metadata": {},
   "outputs": [],
   "source": []
  },
  {
   "cell_type": "code",
   "execution_count": null,
   "metadata": {},
   "outputs": [],
   "source": []
  },
  {
   "cell_type": "code",
   "execution_count": null,
   "metadata": {},
   "outputs": [],
   "source": []
  },
  {
   "cell_type": "markdown",
   "metadata": {},
   "source": [
    "----------\n",
    "----------\n",
    "----------\n",
    "\n",
    "\n",
    "\n",
    "# G. Extracting all Article links from བསམ་ཚུལ།\n",
    "- Base url: https://tibettimes.net/category/arti/opinion/\n",
    "- Custom URL: https://tibettimes.net/category/arti/opinion/page/ + str(i)\n",
    "- Total page: 272\n"
   ]
  },
  {
   "cell_type": "code",
   "execution_count": 33,
   "metadata": {},
   "outputs": [
    {
     "name": "stderr",
     "output_type": "stream",
     "text": [
      "100%|██████████| 271/271 [11:39<00:00,  2.58s/it]\n"
     ]
    }
   ],
   "source": [
    "total_page = 272\n",
    "custom_url = \"https://tibettimes.net/category/arti/opinion/page/\"\n",
    "key_code = \"Page བསམ་ཚུལ \"\n",
    "\n",
    "all_links = loop_article_page(total_page, custom_url, key_code)"
   ]
  },
  {
   "cell_type": "code",
   "execution_count": 34,
   "metadata": {},
   "outputs": [
    {
     "name": "stdout",
     "output_type": "stream",
     "text": [
      "Total page in བསམ་ཚུལ།: 271\n"
     ]
    }
   ],
   "source": [
    "print(f\"Total page in བསམ་ཚུལ།: {len(all_links['Data'])}\")"
   ]
  },
  {
   "cell_type": "code",
   "execution_count": 35,
   "metadata": {},
   "outputs": [
    {
     "name": "stdout",
     "output_type": "stream",
     "text": [
      "Total error in Page བསམ་ཚུལ : 0\n"
     ]
    }
   ],
   "source": [
    "check_error_in_links(all_links['Data'], key_code, print_each_error=True)"
   ]
  },
  {
   "cell_type": "code",
   "execution_count": 36,
   "metadata": {},
   "outputs": [
    {
     "name": "stdout",
     "output_type": "stream",
     "text": [
      "Successfully saved: TT_ALL_link_བསམ་ཚུལ།.json\n"
     ]
    }
   ],
   "source": [
    "# Saving the final file\n",
    "path = \"./data/\"\n",
    "file_name = \"TT_ALL_link_བསམ་ཚུལ།.json\"\n",
    "save_json(path, file_name, all_links['Data'])"
   ]
  },
  {
   "cell_type": "code",
   "execution_count": null,
   "metadata": {},
   "outputs": [],
   "source": []
  },
  {
   "cell_type": "code",
   "execution_count": null,
   "metadata": {},
   "outputs": [],
   "source": []
  },
  {
   "cell_type": "markdown",
   "metadata": {},
   "source": [
    "----------\n",
    "----------\n",
    "----------\n",
    "\n",
    "\n",
    "\n",
    "# H. Extracting all Article links from སྒྱུར་རྩོམ།\n",
    "- Base url: https://tibettimes.net/category/arti/trans/\n",
    "- Custom URL: https://tibettimes.net/category/arti/trans/page/ + str(i)\n",
    "- Total page: 30\n"
   ]
  },
  {
   "cell_type": "code",
   "execution_count": 37,
   "metadata": {},
   "outputs": [
    {
     "name": "stderr",
     "output_type": "stream",
     "text": [
      "100%|██████████| 29/29 [01:10<00:00,  2.43s/it]\n"
     ]
    }
   ],
   "source": [
    "total_page = 30\n",
    "custom_url = \"https://tibettimes.net/category/arti/trans/page/\"\n",
    "key_code = \"Page སྒྱུར་རྩོམ \"\n",
    "\n",
    "all_links = loop_article_page(total_page, custom_url, key_code)"
   ]
  },
  {
   "cell_type": "code",
   "execution_count": 38,
   "metadata": {},
   "outputs": [
    {
     "name": "stdout",
     "output_type": "stream",
     "text": [
      "Total page in སྒྱུར་རྩོམ།: 29\n"
     ]
    }
   ],
   "source": [
    "print(f\"Total page in སྒྱུར་རྩོམ།: {len(all_links['Data'])}\")"
   ]
  },
  {
   "cell_type": "code",
   "execution_count": 39,
   "metadata": {},
   "outputs": [
    {
     "name": "stdout",
     "output_type": "stream",
     "text": [
      "Total error in Page སྒྱུར་རྩོམ : 0\n"
     ]
    }
   ],
   "source": [
    "check_error_in_links(all_links['Data'], key_code, print_each_error=True)"
   ]
  },
  {
   "cell_type": "code",
   "execution_count": 40,
   "metadata": {},
   "outputs": [
    {
     "name": "stdout",
     "output_type": "stream",
     "text": [
      "Successfully saved: TT_ALL_link_སྒྱུར་རྩོམ།.json\n"
     ]
    }
   ],
   "source": [
    "# Saving the final file\n",
    "path = \"./data/\"\n",
    "file_name = \"TT_ALL_link_སྒྱུར་རྩོམ།.json\"\n",
    "save_json(path, file_name, all_links['Data'])"
   ]
  },
  {
   "cell_type": "code",
   "execution_count": null,
   "metadata": {},
   "outputs": [],
   "source": []
  },
  {
   "cell_type": "code",
   "execution_count": null,
   "metadata": {},
   "outputs": [],
   "source": []
  },
  {
   "cell_type": "markdown",
   "metadata": {},
   "source": [
    "----------\n",
    "----------\n",
    "----------\n",
    "\n",
    "\n",
    "\n",
    "# I. Extracting all Article links from རྩོམ་སྒྲིག་པའི་གཏམ།\n",
    "- Base url: https://tibettimes.net/category/editorials\n",
    "- Custom URL: https://tibettimes.net/category/editorials/page/ + str(i)\n",
    "- Total page:28\n"
   ]
  },
  {
   "cell_type": "code",
   "execution_count": 41,
   "metadata": {},
   "outputs": [
    {
     "name": "stderr",
     "output_type": "stream",
     "text": [
      "100%|██████████| 27/27 [01:03<00:00,  2.37s/it]\n"
     ]
    }
   ],
   "source": [
    "total_page = 28\n",
    "custom_url = \"https://tibettimes.net/category/editorials/page/\"\n",
    "key_code = \"Page རྩོམ་སྒྲིག་པའི་གཏམ། \"\n",
    "\n",
    "all_links = loop_article_page(total_page, custom_url, key_code)\n"
   ]
  },
  {
   "cell_type": "code",
   "execution_count": 42,
   "metadata": {},
   "outputs": [
    {
     "name": "stdout",
     "output_type": "stream",
     "text": [
      "Total page in རྩོམ་སྒྲིག་པའི་གཏམ།: 27\n"
     ]
    }
   ],
   "source": [
    "print(f\"Total page in རྩོམ་སྒྲིག་པའི་གཏམ།: {len(all_links['Data'])}\")"
   ]
  },
  {
   "cell_type": "code",
   "execution_count": 43,
   "metadata": {},
   "outputs": [
    {
     "name": "stdout",
     "output_type": "stream",
     "text": [
      "Total error in Page རྩོམ་སྒྲིག་པའི་གཏམ། : 0\n"
     ]
    }
   ],
   "source": [
    "check_error_in_links(all_links['Data'], key_code, print_each_error=True)"
   ]
  },
  {
   "cell_type": "code",
   "execution_count": 44,
   "metadata": {},
   "outputs": [
    {
     "name": "stdout",
     "output_type": "stream",
     "text": [
      "Successfully saved: TT_ALL_link_རྩོམ་སྒྲིག་པའི་གཏམ།.json\n"
     ]
    }
   ],
   "source": [
    "# Saving the final file\n",
    "path = \"./data/\"\n",
    "file_name = \"TT_ALL_link_རྩོམ་སྒྲིག་པའི་གཏམ།.json\"\n",
    "save_json(path, file_name, all_links['Data'])"
   ]
  },
  {
   "cell_type": "code",
   "execution_count": null,
   "metadata": {},
   "outputs": [],
   "source": []
  },
  {
   "cell_type": "code",
   "execution_count": null,
   "metadata": {},
   "outputs": [],
   "source": []
  },
  {
   "cell_type": "code",
   "execution_count": null,
   "metadata": {},
   "outputs": [],
   "source": []
  },
  {
   "cell_type": "code",
   "execution_count": null,
   "metadata": {},
   "outputs": [],
   "source": []
  },
  {
   "cell_type": "code",
   "execution_count": null,
   "metadata": {},
   "outputs": [],
   "source": []
  },
  {
   "cell_type": "code",
   "execution_count": null,
   "metadata": {},
   "outputs": [],
   "source": []
  },
  {
   "cell_type": "code",
   "execution_count": null,
   "metadata": {},
   "outputs": [],
   "source": []
  },
  {
   "cell_type": "code",
   "execution_count": null,
   "metadata": {},
   "outputs": [],
   "source": []
  },
  {
   "cell_type": "code",
   "execution_count": null,
   "metadata": {},
   "outputs": [],
   "source": []
  },
  {
   "cell_type": "code",
   "execution_count": null,
   "metadata": {},
   "outputs": [],
   "source": []
  }
 ],
 "metadata": {
  "kernelspec": {
   "display_name": "base",
   "language": "python",
   "name": "python3"
  },
  "language_info": {
   "codemirror_mode": {
    "name": "ipython",
    "version": 3
   },
   "file_extension": ".py",
   "mimetype": "text/x-python",
   "name": "python",
   "nbconvert_exporter": "python",
   "pygments_lexer": "ipython3",
   "version": "3.9.13"
  }
 },
 "nbformat": 4,
 "nbformat_minor": 2
}
