{
 "cells": [
  {
   "cell_type": "code",
   "execution_count": 1,
   "metadata": {},
   "outputs": [],
   "source": [
    "import requests\n",
    "from bs4 import BeautifulSoup\n",
    "import json\n",
    "import time\n",
    "from tqdm import tqdm"
   ]
  },
  {
   "cell_type": "code",
   "execution_count": 2,
   "metadata": {},
   "outputs": [],
   "source": [
    "import TibetTimes_utils"
   ]
  },
  {
   "cell_type": "markdown",
   "metadata": {},
   "source": [
    "## Here we will extract all the articles content from TibetTimes webpage\n",
    "URL: https://tibettimes.net/"
   ]
  },
  {
   "cell_type": "code",
   "execution_count": 3,
   "metadata": {},
   "outputs": [],
   "source": [
    "def save_json(path, file_name, data):\n",
    "    \"\"\"\n",
    "    \n",
    "    \"\"\"\n",
    "    with open(path+file_name, \"w\") as outfile:\n",
    "        json.dump(data, outfile, indent=4)\n",
    "        print(f\"Successfully saved: {file_name}\")"
   ]
  },
  {
   "cell_type": "code",
   "execution_count": 4,
   "metadata": {},
   "outputs": [],
   "source": [
    "def read_json(path, file_name):\n",
    "    \"\"\"\n",
    "    \n",
    "    \"\"\"\n",
    "    with open(path+file_name, 'r') as openfile:\n",
    "        # Reading from json file\n",
    "        Loaded_file = json.load(openfile)\n",
    "        print(f\"Successfully loaded: {file_name}\")\n",
    "\n",
    "    return Loaded_file\n"
   ]
  },
  {
   "cell_type": "code",
   "execution_count": null,
   "metadata": {},
   "outputs": [],
   "source": []
  },
  {
   "cell_type": "markdown",
   "metadata": {},
   "source": [
    "## all TT_ALL_link_རྒྱལ་སྤྱི།"
   ]
  },
  {
   "cell_type": "code",
   "execution_count": 5,
   "metadata": {},
   "outputs": [
    {
     "name": "stdout",
     "output_type": "stream",
     "text": [
      "Successfully loaded: TT_ALL_link_རྒྱལ་སྤྱི།.json\n",
      "Total page in TT_ALL_link_རྒྱལ་སྤྱི།.json: 417\n"
     ]
    }
   ],
   "source": [
    "path = \"./data/\"\n",
    "file_name = \"TT_ALL_link_རྒྱལ་སྤྱི།.json\"\n",
    "All_links_data = read_json(path, file_name)\n",
    "Total_lenght = len(All_links_data)\n",
    "print(f\"Total page in {file_name}: {Total_lenght}\")"
   ]
  },
  {
   "cell_type": "code",
   "execution_count": 6,
   "metadata": {},
   "outputs": [
    {
     "name": "stdout",
     "output_type": "stream",
     "text": [
      "page key name: Page རྒྱལ་སྤྱི། 2\n",
      "Page key code: Page རྒྱལ་སྤྱི། \n"
     ]
    }
   ],
   "source": [
    "print(f\"page key name: {list(All_links_data.keys())[1]}\")\n",
    "page_key_list = list(All_links_data.keys())[1].split(\" \")\n",
    "\n",
    "page_key_code = \"Page \"+page_key_list[1]+\" \"\n",
    "print(f\"Page key code: {page_key_code}\")"
   ]
  },
  {
   "cell_type": "code",
   "execution_count": 7,
   "metadata": {},
   "outputs": [
    {
     "name": "stderr",
     "output_type": "stream",
     "text": [
      "100%|██████████| 417/417 [2:40:50<00:00, 23.14s/it]  \n"
     ]
    }
   ],
   "source": [
    "# running batch of 50 pages \n",
    "start = 1\n",
    "# if Total_lenght - start > 50:\n",
    "#     n = 50\n",
    "# else:\n",
    "#     n = Total_lenght - start\n",
    "all_article = {}\n",
    "\n",
    "for i in tqdm(range(start, Total_lenght+1)):\n",
    "    page_key = page_key_code + str(i)\n",
    "    all_link_page = All_links_data[page_key][\"Links\"]\n",
    "    page_article_index = 1\n",
    "    \n",
    "    for each_URL in all_link_page:\n",
    "        article_content = TibetTimes_utils.scrape_tt_article_content(each_URL, tags=page_key_list[1])\n",
    "        article_key = page_key + \"_TT_Article_\" + str(page_article_index)\n",
    "        page_article_index += 1\n",
    "        all_article[article_key] = article_content"
   ]
  },
  {
   "cell_type": "code",
   "execution_count": 8,
   "metadata": {},
   "outputs": [
    {
     "name": "stdout",
     "output_type": "stream",
     "text": [
      "total Failure in the རྒྱལ་སྤྱི། article: 0\n"
     ]
    }
   ],
   "source": [
    "Failure_count = 0\n",
    "for each_article_key in all_article:\n",
    "    if all_article[each_article_key][\"Response\"] != 200:\n",
    "        print(each_article_key)\n",
    "        Failure_count += 1\n",
    "\n",
    "print(f\"total Failure in the {page_key_list[1]} article: {Failure_count}\")"
   ]
  },
  {
   "cell_type": "markdown",
   "metadata": {},
   "source": [
    "### saving file"
   ]
  },
  {
   "cell_type": "code",
   "execution_count": 9,
   "metadata": {},
   "outputs": [
    {
     "name": "stdout",
     "output_type": "stream",
     "text": [
      "Successfully saved: TT_ALL_content_རྒྱལ་སྤྱི།.json\n"
     ]
    }
   ],
   "source": [
    "save_file_name = \"TT_ALL_content_རྒྱལ་སྤྱི།.json\"\n",
    "save_json(path, save_file_name, all_article)"
   ]
  },
  {
   "cell_type": "code",
   "execution_count": null,
   "metadata": {},
   "outputs": [],
   "source": []
  },
  {
   "cell_type": "code",
   "execution_count": null,
   "metadata": {},
   "outputs": [],
   "source": []
  },
  {
   "cell_type": "markdown",
   "metadata": {},
   "source": [
    "## all TT_ALL_link_གསུང་འཕྲིན།"
   ]
  },
  {
   "cell_type": "code",
   "execution_count": 10,
   "metadata": {},
   "outputs": [
    {
     "name": "stdout",
     "output_type": "stream",
     "text": [
      "Successfully loaded: TT_ALL_link_གསུང་འཕྲིན།.json\n",
      "Total page in TT_ALL_link_གསུང་འཕྲིན།.json: 12\n"
     ]
    }
   ],
   "source": [
    "path = \"./data/\"\n",
    "file_name = \"TT_ALL_link_གསུང་འཕྲིན།.json\"\n",
    "All_links_data = read_json(path, file_name)\n",
    "Total_lenght = len(All_links_data)\n",
    "print(f\"Total page in {file_name}: {Total_lenght}\")"
   ]
  },
  {
   "cell_type": "code",
   "execution_count": 11,
   "metadata": {},
   "outputs": [
    {
     "name": "stdout",
     "output_type": "stream",
     "text": [
      "page key name: Page གསུང་འཕྲིན། 2\n",
      "Page key code: Page གསུང་འཕྲིན། \n"
     ]
    }
   ],
   "source": [
    "print(f\"page key name: {list(All_links_data.keys())[1]}\")\n",
    "page_key_list = list(All_links_data.keys())[1].split(\" \")\n",
    "\n",
    "page_key_code = \"Page \"+page_key_list[1]+\" \"\n",
    "print(f\"Page key code: {page_key_code}\")"
   ]
  },
  {
   "cell_type": "code",
   "execution_count": 12,
   "metadata": {},
   "outputs": [
    {
     "name": "stderr",
     "output_type": "stream",
     "text": [
      "  0%|          | 0/12 [00:00<?, ?it/s]"
     ]
    },
    {
     "name": "stderr",
     "output_type": "stream",
     "text": [
      "100%|██████████| 12/12 [04:11<00:00, 20.92s/it]\n"
     ]
    }
   ],
   "source": [
    "# running batch of 50 pages \n",
    "start = 1\n",
    "# if Total_lenght - start > 50:\n",
    "#     n = 50\n",
    "# else:\n",
    "#     n = Total_lenght - start\n",
    "all_article = {}\n",
    "\n",
    "for i in tqdm(range(start, Total_lenght+1)):\n",
    "    page_key = page_key_code + str(i)\n",
    "    all_link_page = All_links_data[page_key][\"Links\"]\n",
    "    page_article_index = 1\n",
    "    \n",
    "    for each_URL in all_link_page:\n",
    "        article_content = TibetTimes_utils.scrape_tt_article_content(each_URL, tags=page_key_list[1])\n",
    "        article_key = page_key + \"_TT_Article_\" + str(page_article_index)\n",
    "        page_article_index += 1\n",
    "        all_article[article_key] = article_content"
   ]
  },
  {
   "cell_type": "code",
   "execution_count": 13,
   "metadata": {},
   "outputs": [
    {
     "name": "stdout",
     "output_type": "stream",
     "text": [
      "total Failure in the གསུང་འཕྲིན། article: 0\n"
     ]
    }
   ],
   "source": [
    "Failure_count = 0\n",
    "for each_article_key in all_article:\n",
    "    if all_article[each_article_key][\"Response\"] != 200:\n",
    "        print(each_article_key)\n",
    "        Failure_count += 1\n",
    "\n",
    "print(f\"total Failure in the {page_key_list[1]} article: {Failure_count}\")"
   ]
  },
  {
   "cell_type": "code",
   "execution_count": null,
   "metadata": {},
   "outputs": [],
   "source": []
  },
  {
   "cell_type": "code",
   "execution_count": 14,
   "metadata": {},
   "outputs": [
    {
     "name": "stdout",
     "output_type": "stream",
     "text": [
      "Successfully saved: TT_ALL_content_གསུང་འཕྲིན།.json\n"
     ]
    }
   ],
   "source": [
    "save_file_name = \"TT_ALL_content_གསུང་འཕྲིན།.json\"\n",
    "save_json(path, save_file_name, all_article)"
   ]
  },
  {
   "cell_type": "code",
   "execution_count": null,
   "metadata": {},
   "outputs": [],
   "source": []
  },
  {
   "cell_type": "code",
   "execution_count": null,
   "metadata": {},
   "outputs": [],
   "source": []
  },
  {
   "cell_type": "code",
   "execution_count": null,
   "metadata": {},
   "outputs": [],
   "source": []
  },
  {
   "cell_type": "markdown",
   "metadata": {},
   "source": [
    "## all TT_ALL_link_བསམ་ཚུལ།"
   ]
  },
  {
   "cell_type": "code",
   "execution_count": 15,
   "metadata": {},
   "outputs": [
    {
     "name": "stdout",
     "output_type": "stream",
     "text": [
      "Successfully loaded: TT_ALL_link_བསམ་ཚུལ།.json\n",
      "Total page in TT_ALL_link_བསམ་ཚུལ།.json: 271\n"
     ]
    }
   ],
   "source": [
    "path = \"./data/\"\n",
    "file_name = \"TT_ALL_link_བསམ་ཚུལ།.json\"\n",
    "All_links_data = read_json(path, file_name)\n",
    "Total_lenght = len(All_links_data)\n",
    "print(f\"Total page in {file_name}: {Total_lenght}\")"
   ]
  },
  {
   "cell_type": "code",
   "execution_count": 16,
   "metadata": {},
   "outputs": [
    {
     "name": "stdout",
     "output_type": "stream",
     "text": [
      "page key name: Page བསམ་ཚུལ 2\n",
      "Page key code: Page བསམ་ཚུལ \n"
     ]
    }
   ],
   "source": [
    "print(f\"page key name: {list(All_links_data.keys())[1]}\")\n",
    "page_key_list = list(All_links_data.keys())[1].split(\" \")\n",
    "\n",
    "page_key_code = \"Page \"+page_key_list[1]+\" \"\n",
    "print(f\"Page key code: {page_key_code}\")"
   ]
  },
  {
   "cell_type": "code",
   "execution_count": 17,
   "metadata": {},
   "outputs": [
    {
     "name": "stderr",
     "output_type": "stream",
     "text": [
      "100%|██████████| 271/271 [1:47:23<00:00, 23.78s/it]\n"
     ]
    }
   ],
   "source": [
    "# running batch of 50 pages \n",
    "start = 1\n",
    "# if Total_lenght - start > 50:\n",
    "#     n = 50\n",
    "# else:\n",
    "#     n = Total_lenght - start\n",
    "all_article = {}\n",
    "\n",
    "for i in tqdm(range(start, Total_lenght+1)):\n",
    "    page_key = page_key_code + str(i)\n",
    "    all_link_page = All_links_data[page_key][\"Links\"]\n",
    "    page_article_index = 1\n",
    "    \n",
    "    for each_URL in all_link_page:\n",
    "        article_content = TibetTimes_utils.scrape_tt_article_content(each_URL, tags=page_key_list[1])\n",
    "        article_key = page_key + \"_TT_Article_\" + str(page_article_index)\n",
    "        page_article_index += 1\n",
    "        all_article[article_key] = article_content"
   ]
  },
  {
   "cell_type": "code",
   "execution_count": 18,
   "metadata": {},
   "outputs": [
    {
     "name": "stdout",
     "output_type": "stream",
     "text": [
      "total Failure in the བསམ་ཚུལ article: 0\n"
     ]
    }
   ],
   "source": [
    "Failure_count = 0\n",
    "for each_article_key in all_article:\n",
    "    if all_article[each_article_key][\"Response\"] != 200:\n",
    "        print(each_article_key)\n",
    "        Failure_count += 1\n",
    "\n",
    "print(f\"total Failure in the {page_key_list[1]} article: {Failure_count}\")"
   ]
  },
  {
   "cell_type": "code",
   "execution_count": null,
   "metadata": {},
   "outputs": [],
   "source": []
  },
  {
   "cell_type": "code",
   "execution_count": 19,
   "metadata": {},
   "outputs": [
    {
     "name": "stdout",
     "output_type": "stream",
     "text": [
      "Successfully saved: TT_ALL_content_བསམ་ཚུལ།.json\n"
     ]
    }
   ],
   "source": [
    "save_file_name = \"TT_ALL_content_བསམ་ཚུལ།.json\"\n",
    "save_json(path, save_file_name, all_article)"
   ]
  },
  {
   "cell_type": "code",
   "execution_count": null,
   "metadata": {},
   "outputs": [],
   "source": []
  },
  {
   "cell_type": "code",
   "execution_count": null,
   "metadata": {},
   "outputs": [],
   "source": []
  },
  {
   "cell_type": "code",
   "execution_count": null,
   "metadata": {},
   "outputs": [],
   "source": []
  },
  {
   "cell_type": "code",
   "execution_count": null,
   "metadata": {},
   "outputs": [],
   "source": []
  },
  {
   "cell_type": "markdown",
   "metadata": {},
   "source": [
    "## all TT_ALL_link_སྒྱུར་རྩོམ།"
   ]
  },
  {
   "cell_type": "code",
   "execution_count": 20,
   "metadata": {},
   "outputs": [
    {
     "name": "stdout",
     "output_type": "stream",
     "text": [
      "Successfully loaded: TT_ALL_link_སྒྱུར་རྩོམ།.json\n",
      "Total page in TT_ALL_link_སྒྱུར་རྩོམ།.json: 29\n"
     ]
    }
   ],
   "source": [
    "path = \"./data/\"\n",
    "file_name = \"TT_ALL_link_སྒྱུར་རྩོམ།.json\"\n",
    "All_links_data = read_json(path, file_name)\n",
    "Total_lenght = len(All_links_data)\n",
    "print(f\"Total page in {file_name}: {Total_lenght}\")"
   ]
  },
  {
   "cell_type": "code",
   "execution_count": 21,
   "metadata": {},
   "outputs": [
    {
     "name": "stdout",
     "output_type": "stream",
     "text": [
      "page key name: Page སྒྱུར་རྩོམ 2\n",
      "Page key code: Page སྒྱུར་རྩོམ \n"
     ]
    }
   ],
   "source": [
    "print(f\"page key name: {list(All_links_data.keys())[1]}\")\n",
    "page_key_list = list(All_links_data.keys())[1].split(\" \")\n",
    "\n",
    "page_key_code = \"Page \"+page_key_list[1]+\" \"\n",
    "print(f\"Page key code: {page_key_code}\")"
   ]
  },
  {
   "cell_type": "code",
   "execution_count": 22,
   "metadata": {},
   "outputs": [
    {
     "name": "stderr",
     "output_type": "stream",
     "text": [
      "100%|██████████| 29/29 [11:47<00:00, 24.39s/it]\n"
     ]
    }
   ],
   "source": [
    "# running batch of 50 pages \n",
    "start = 1\n",
    "# if Total_lenght - start > 50:\n",
    "#     n = 50\n",
    "# else:\n",
    "#     n = Total_lenght - start\n",
    "all_article = {}\n",
    "\n",
    "for i in tqdm(range(start, Total_lenght+1)):\n",
    "    page_key = page_key_code + str(i)\n",
    "    all_link_page = All_links_data[page_key][\"Links\"]\n",
    "    page_article_index = 1\n",
    "    \n",
    "    for each_URL in all_link_page:\n",
    "        article_content = TibetTimes_utils.scrape_tt_article_content(each_URL, tags=page_key_list[1])\n",
    "        article_key = page_key + \"_TT_Article_\" + str(page_article_index)\n",
    "        page_article_index += 1\n",
    "        all_article[article_key] = article_content"
   ]
  },
  {
   "cell_type": "code",
   "execution_count": 23,
   "metadata": {},
   "outputs": [
    {
     "name": "stdout",
     "output_type": "stream",
     "text": [
      "total Failure in the སྒྱུར་རྩོམ article: 0\n"
     ]
    }
   ],
   "source": [
    "Failure_count = 0\n",
    "for each_article_key in all_article:\n",
    "    if all_article[each_article_key][\"Response\"] != 200:\n",
    "        print(each_article_key)\n",
    "        Failure_count += 1\n",
    "\n",
    "print(f\"total Failure in the {page_key_list[1]} article: {Failure_count}\")"
   ]
  },
  {
   "cell_type": "code",
   "execution_count": null,
   "metadata": {},
   "outputs": [],
   "source": []
  },
  {
   "cell_type": "code",
   "execution_count": 24,
   "metadata": {},
   "outputs": [
    {
     "name": "stdout",
     "output_type": "stream",
     "text": [
      "Successfully saved: TT_ALL_content_སྒྱུར་རྩོམ།.json\n"
     ]
    }
   ],
   "source": [
    "save_file_name = \"TT_ALL_content_སྒྱུར་རྩོམ།.json\"\n",
    "save_json(path, save_file_name, all_article)"
   ]
  },
  {
   "cell_type": "code",
   "execution_count": null,
   "metadata": {},
   "outputs": [],
   "source": []
  },
  {
   "cell_type": "code",
   "execution_count": null,
   "metadata": {},
   "outputs": [],
   "source": []
  },
  {
   "cell_type": "code",
   "execution_count": null,
   "metadata": {},
   "outputs": [],
   "source": []
  },
  {
   "cell_type": "code",
   "execution_count": null,
   "metadata": {},
   "outputs": [],
   "source": []
  },
  {
   "cell_type": "code",
   "execution_count": null,
   "metadata": {},
   "outputs": [],
   "source": []
  },
  {
   "cell_type": "code",
   "execution_count": null,
   "metadata": {},
   "outputs": [],
   "source": []
  }
 ],
 "metadata": {
  "kernelspec": {
   "display_name": "base",
   "language": "python",
   "name": "python3"
  },
  "language_info": {
   "codemirror_mode": {
    "name": "ipython",
    "version": 3
   },
   "file_extension": ".py",
   "mimetype": "text/x-python",
   "name": "python",
   "nbconvert_exporter": "python",
   "pygments_lexer": "ipython3",
   "version": "3.9.13"
  }
 },
 "nbformat": 4,
 "nbformat_minor": 2
}
