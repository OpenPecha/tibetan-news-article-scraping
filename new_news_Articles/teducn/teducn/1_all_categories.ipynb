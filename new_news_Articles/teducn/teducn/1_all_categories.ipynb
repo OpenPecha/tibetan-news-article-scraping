{
 "cells": [
  {
   "cell_type": "code",
   "execution_count": 30,
   "id": "46ee2202-8595-4f7f-89e5-597fb6b904fa",
   "metadata": {},
   "outputs": [],
   "source": [
    "from bs4 import BeautifulSoup\n",
    "import requests\n",
    "import re\n",
    "\n",
    "from urllib.parse import urljoin\n",
    "\n",
    "\n",
    "from tqdm import tqdm"
   ]
  },
  {
   "cell_type": "code",
   "execution_count": null,
   "id": "6a6b471d-42a7-4378-af4d-26869217a131",
   "metadata": {},
   "outputs": [],
   "source": []
  },
  {
   "cell_type": "code",
   "execution_count": 13,
   "id": "f3dc8abc-2068-4a13-8655-7c50f29c1df1",
   "metadata": {
    "scrolled": true
   },
   "outputs": [
    {
     "name": "stdout",
     "output_type": "stream",
     "text": [
      "[<tr>\n",
      "<td width=\"138\"><img height=\"185\" src=\"/images/logo.png\" width=\"164\"/></td>\n",
      "<td><table align=\"left\" border=\"0\" cellpadding=\"0\" cellspacing=\"0\" width=\"98%\">\n",
      "<tr>\n",
      "<td height=\"98\" valign=\"top\" width=\"51%\"><img height=\"113\" src=\"/images/name.png\" width=\"415\"/></td>\n",
      "<td valign=\"top\" width=\"49%\"><table border=\"0\" cellpadding=\"0\" cellspacing=\"0\" width=\"100%\">\n",
      "<tr>\n",
      "<td width=\"44%\"> </td>\n",
      "<td width=\"29%\"><a href=\"/chinese/\"><img border=\"0\" src=\"/images/hw.png\"/></a></td>\n",
      "<td width=\"27%\"><div align=\"left\"><a href=\"/english/\"><img border=\"0\" src=\"/images/yw.png\"/></a></div></td>\n",
      "</tr>\n",
      "<tr>\n",
      "<td> </td>\n",
      "<td> </td>\n",
      "<td> </td>\n",
      "</tr>\n",
      "<tr>\n",
      "<td> </td>\n",
      "<td> </td>\n",
      "<td> </td>\n",
      "</tr>\n",
      "</table></td>\n",
      "</tr>\n",
      "<tr>\n",
      "<td colspan=\"2\" valign=\"bottom\"><table border=\"0\" cellpadding=\"0\" cellspacing=\"1\" width=\"100%\">\n",
      "<tr>\n",
      "<td><a href=\"/news/\"><span class=\"lan_22\">སྐབས་དོན་འཕྲིན་གསར།</span></a></td>\n",
      "<td><a href=\"/fagui/\"><span class=\"lan_22\">སྲིད་ཇུས་བཅོས་ཁྲིམས།</span></a></td>\n",
      "<td><a href=\"/cidian/\" target=\"_blank\"><span class=\"lan_22\">ཚིག་མཛོད།</span></a></td>\n",
      "<td><a href=\"/kecheng/\"><span class=\"lan_22\">བསླབ་གཞིའི་ལྟེ་གནས།</span></a></td>\n",
      "<td><a href=\"/xuekejiaoxue/\"><span class=\"lan_22\">རིག་ཚན་སློབ་ཁྲིད།</span></a></td>\n",
      "<td><a href=\"/chuantongjiaoyu/\"><span class=\"lan_22\">སྲོལ་རྒྱུན་སློབ་གསོ།</span></a></td>\n",
      "<td class=\"lan_22\"><a href=\"/shuangyujiaoxue/\"><span class=\"lan_22\">སྐད་གཉིས་སློབ་གསོ།</span></a></td>\n",
      "<td><a href=\"/kechixu/\"><span class=\"lan_22\">རྒྱུན་སྐྱོང་སློབ་གསོ།</span></a></td>\n",
      "</tr>\n",
      "</table></td>\n",
      "</tr>\n",
      "<tr>\n",
      "<td colspan=\"2\" valign=\"bottom\"><table border=\"0\" cellpadding=\"0\" cellspacing=\"1\" width=\"100%\">\n",
      "<tr>\n",
      "<td><a href=\"/lilunyanjiu/\"><span class=\"lan_22\">གཞུང་ལུགས་ཞིབ་འཇུག</span></a></td>\n",
      "<td class=\"lan_22\"><a href=\"/zhuanyeshuyu/\"><span class=\"lan_22\">ཆེད་ལས་ཐ་སྙད།</span></a></td>\n",
      "<td><a href=\"/xuexiaojieshao/\"><span class=\"lan_22\">སློབ་གྲྭ་མཚམས་སྦྱོར།</span></a></td>\n",
      "<td><a href=\"/renwu/\"><span class=\"lan_22\">མི་སྣ་མཚམས་སྦྱོར།</span></a></td>\n",
      "<td><a href=\"/download/\"><span class=\"lan_22\">ཐོན་ཁུངས་ཕབ་སྤྱོད།</span></a></td>\n",
      "<td><a href=\"/movie/\"><span class=\"lan_22\">བརྙན་གཟུགས་ཕྱོགས་འདུས།</span></a></td>\n",
      "<td><a href=\"/qikan/\"><span class=\"lan_22\">འབྲེལ་ཡོད་དུས་དེབ།</span></a></td>\n",
      "<td><a href=\"/bbs/\"><span class=\"lan_22\">གླེང་སྟེགས།</span></a></td>\n",
      "</tr>\n",
      "</table></td>\n",
      "</tr>\n",
      "</table></td>\n",
      "</tr>, <tr>\n",
      "<td height=\"98\" valign=\"top\" width=\"51%\"><img height=\"113\" src=\"/images/name.png\" width=\"415\"/></td>\n",
      "<td valign=\"top\" width=\"49%\"><table border=\"0\" cellpadding=\"0\" cellspacing=\"0\" width=\"100%\">\n",
      "<tr>\n",
      "<td width=\"44%\"> </td>\n",
      "<td width=\"29%\"><a href=\"/chinese/\"><img border=\"0\" src=\"/images/hw.png\"/></a></td>\n",
      "<td width=\"27%\"><div align=\"left\"><a href=\"/english/\"><img border=\"0\" src=\"/images/yw.png\"/></a></div></td>\n",
      "</tr>\n",
      "<tr>\n",
      "<td> </td>\n",
      "<td> </td>\n",
      "<td> </td>\n",
      "</tr>\n",
      "<tr>\n",
      "<td> </td>\n",
      "<td> </td>\n",
      "<td> </td>\n",
      "</tr>\n",
      "</table></td>\n",
      "</tr>, <tr>\n",
      "<td width=\"44%\"> </td>\n",
      "<td width=\"29%\"><a href=\"/chinese/\"><img border=\"0\" src=\"/images/hw.png\"/></a></td>\n",
      "<td width=\"27%\"><div align=\"left\"><a href=\"/english/\"><img border=\"0\" src=\"/images/yw.png\"/></a></div></td>\n",
      "</tr>, <tr>\n",
      "<td> </td>\n",
      "<td> </td>\n",
      "<td> </td>\n",
      "</tr>, <tr>\n",
      "<td> </td>\n",
      "<td> </td>\n",
      "<td> </td>\n",
      "</tr>, <tr>\n",
      "<td colspan=\"2\" valign=\"bottom\"><table border=\"0\" cellpadding=\"0\" cellspacing=\"1\" width=\"100%\">\n",
      "<tr>\n",
      "<td><a href=\"/news/\"><span class=\"lan_22\">སྐབས་དོན་འཕྲིན་གསར།</span></a></td>\n",
      "<td><a href=\"/fagui/\"><span class=\"lan_22\">སྲིད་ཇུས་བཅོས་ཁྲིམས།</span></a></td>\n",
      "<td><a href=\"/cidian/\" target=\"_blank\"><span class=\"lan_22\">ཚིག་མཛོད།</span></a></td>\n",
      "<td><a href=\"/kecheng/\"><span class=\"lan_22\">བསླབ་གཞིའི་ལྟེ་གནས།</span></a></td>\n",
      "<td><a href=\"/xuekejiaoxue/\"><span class=\"lan_22\">རིག་ཚན་སློབ་ཁྲིད།</span></a></td>\n",
      "<td><a href=\"/chuantongjiaoyu/\"><span class=\"lan_22\">སྲོལ་རྒྱུན་སློབ་གསོ།</span></a></td>\n",
      "<td class=\"lan_22\"><a href=\"/shuangyujiaoxue/\"><span class=\"lan_22\">སྐད་གཉིས་སློབ་གསོ།</span></a></td>\n",
      "<td><a href=\"/kechixu/\"><span class=\"lan_22\">རྒྱུན་སྐྱོང་སློབ་གསོ།</span></a></td>\n",
      "</tr>\n",
      "</table></td>\n",
      "</tr>, <tr>\n",
      "<td><a href=\"/news/\"><span class=\"lan_22\">སྐབས་དོན་འཕྲིན་གསར།</span></a></td>\n",
      "<td><a href=\"/fagui/\"><span class=\"lan_22\">སྲིད་ཇུས་བཅོས་ཁྲིམས།</span></a></td>\n",
      "<td><a href=\"/cidian/\" target=\"_blank\"><span class=\"lan_22\">ཚིག་མཛོད།</span></a></td>\n",
      "<td><a href=\"/kecheng/\"><span class=\"lan_22\">བསླབ་གཞིའི་ལྟེ་གནས།</span></a></td>\n",
      "<td><a href=\"/xuekejiaoxue/\"><span class=\"lan_22\">རིག་ཚན་སློབ་ཁྲིད།</span></a></td>\n",
      "<td><a href=\"/chuantongjiaoyu/\"><span class=\"lan_22\">སྲོལ་རྒྱུན་སློབ་གསོ།</span></a></td>\n",
      "<td class=\"lan_22\"><a href=\"/shuangyujiaoxue/\"><span class=\"lan_22\">སྐད་གཉིས་སློབ་གསོ།</span></a></td>\n",
      "<td><a href=\"/kechixu/\"><span class=\"lan_22\">རྒྱུན་སྐྱོང་སློབ་གསོ།</span></a></td>\n",
      "</tr>, <tr>\n",
      "<td colspan=\"2\" valign=\"bottom\"><table border=\"0\" cellpadding=\"0\" cellspacing=\"1\" width=\"100%\">\n",
      "<tr>\n",
      "<td><a href=\"/lilunyanjiu/\"><span class=\"lan_22\">གཞུང་ལུགས་ཞིབ་འཇུག</span></a></td>\n",
      "<td class=\"lan_22\"><a href=\"/zhuanyeshuyu/\"><span class=\"lan_22\">ཆེད་ལས་ཐ་སྙད།</span></a></td>\n",
      "<td><a href=\"/xuexiaojieshao/\"><span class=\"lan_22\">སློབ་གྲྭ་མཚམས་སྦྱོར།</span></a></td>\n",
      "<td><a href=\"/renwu/\"><span class=\"lan_22\">མི་སྣ་མཚམས་སྦྱོར།</span></a></td>\n",
      "<td><a href=\"/download/\"><span class=\"lan_22\">ཐོན་ཁུངས་ཕབ་སྤྱོད།</span></a></td>\n",
      "<td><a href=\"/movie/\"><span class=\"lan_22\">བརྙན་གཟུགས་ཕྱོགས་འདུས།</span></a></td>\n",
      "<td><a href=\"/qikan/\"><span class=\"lan_22\">འབྲེལ་ཡོད་དུས་དེབ།</span></a></td>\n",
      "<td><a href=\"/bbs/\"><span class=\"lan_22\">གླེང་སྟེགས།</span></a></td>\n",
      "</tr>\n",
      "</table></td>\n",
      "</tr>]\n"
     ]
    }
   ],
   "source": [
    "url = \"http://www.teducn.com/\"\n",
    "base_url = \"http://www.teducn.com\"\n",
    "headers = {\n",
    "    'accept': 'text/html,application/xhtml+xml,application/xml;q=0.9,image/avif,image/webp,image/apng,*/*;q=0.8,application/signed-exchange;v=b3;q=0.7',\n",
    "    'accept-encoding': 'gzip, deflate',\n",
    "    'accept-language': 'en-US,en;q=0.9,en-IN;q=0.8',\n",
    "    'cache-control': 'max-age=0',\n",
    "    'connection': 'keep-alive',\n",
    "    'cookie': 'rhldeecookieinforecord=%2C168-99%2C',\n",
    "    'host': 'www.teducn.com',\n",
    "    'upgrade-insecure-requests': '1',\n",
    "    'user-agent': 'Mozilla/5.0 (Windows NT 10.0; Win64; x64) AppleWebKit/537.36 (KHTML, like Gecko) Chrome/129.0.0.0 Safari/537.36 Edg/129.0.0.0'\n",
    "}\n",
    "response = requests.get(url, headers=headers)\n",
    "response.raise_for_status()\n",
    "\n",
    "# Parse the page content with BeautifulSoup\n",
    "soup = BeautifulSoup(response.content, 'html.parser')\n",
    "\n",
    "all_categories = []\n",
    "catgory_center = soup.find(\"table\", class_=\"banner\")\n",
    "if catgory_center:\n",
    "    # print(catgory_center)\n",
    "    get_menu_center = catgory_center.find_all(\"tr\")\n",
    "    if get_menu_center:\n",
    "        get_menu_center = get_menu_center[1:-1]\n",
    "        print(get_menu_center)\n",
    "        for each_menu_center in get_menu_center:\n",
    "            catgory_center = each_menu_center.find_all('a',)\n",
    "            if catgory_center:\n",
    "                # Find all 'a' tags\n",
    "                for each_link in catgory_center:\n",
    "                    full_url = urljoin(base_url, each_link.get(\"href\"))\n",
    "                    text = each_link.get_text(strip=True)\n",
    "                    all_categories.append((text, full_url))\n",
    "            "
   ]
  },
  {
   "cell_type": "code",
   "execution_count": 14,
   "id": "0c731687-54b2-4d27-9b22-156b284fbf10",
   "metadata": {
    "scrolled": true
   },
   "outputs": [
    {
     "data": {
      "text/plain": [
       "[('', 'http://www.teducn.com/chinese/'),\n",
       " ('', 'http://www.teducn.com/english/'),\n",
       " ('སྐབས་དོན་འཕྲིན་གསར།', 'http://www.teducn.com/news/'),\n",
       " ('སྲིད་ཇུས་བཅོས་ཁྲིམས།', 'http://www.teducn.com/fagui/'),\n",
       " ('ཚིག་མཛོད།', 'http://www.teducn.com/cidian/'),\n",
       " ('བསླབ་གཞིའི་ལྟེ་གནས།', 'http://www.teducn.com/kecheng/'),\n",
       " ('རིག་ཚན་སློབ་ཁྲིད།', 'http://www.teducn.com/xuekejiaoxue/'),\n",
       " ('སྲོལ་རྒྱུན་སློབ་གསོ།', 'http://www.teducn.com/chuantongjiaoyu/'),\n",
       " ('སྐད་གཉིས་སློབ་གསོ།', 'http://www.teducn.com/shuangyujiaoxue/'),\n",
       " ('རྒྱུན་སྐྱོང་སློབ་གསོ།', 'http://www.teducn.com/kechixu/'),\n",
       " ('གཞུང་ལུགས་ཞིབ་འཇུག', 'http://www.teducn.com/lilunyanjiu/'),\n",
       " ('ཆེད་ལས་ཐ་སྙད།', 'http://www.teducn.com/zhuanyeshuyu/'),\n",
       " ('སློབ་གྲྭ་མཚམས་སྦྱོར།', 'http://www.teducn.com/xuexiaojieshao/'),\n",
       " ('མི་སྣ་མཚམས་སྦྱོར།', 'http://www.teducn.com/renwu/'),\n",
       " ('ཐོན་ཁུངས་ཕབ་སྤྱོད།', 'http://www.teducn.com/download/'),\n",
       " ('བརྙན་གཟུགས་ཕྱོགས་འདུས།', 'http://www.teducn.com/movie/'),\n",
       " ('འབྲེལ་ཡོད་དུས་དེབ།', 'http://www.teducn.com/qikan/'),\n",
       " ('གླེང་སྟེགས།', 'http://www.teducn.com/bbs/'),\n",
       " ('', 'http://www.teducn.com/chinese/'),\n",
       " ('', 'http://www.teducn.com/english/'),\n",
       " ('', 'http://www.teducn.com/chinese/'),\n",
       " ('', 'http://www.teducn.com/english/'),\n",
       " ('སྐབས་དོན་འཕྲིན་གསར།', 'http://www.teducn.com/news/'),\n",
       " ('སྲིད་ཇུས་བཅོས་ཁྲིམས།', 'http://www.teducn.com/fagui/'),\n",
       " ('ཚིག་མཛོད།', 'http://www.teducn.com/cidian/'),\n",
       " ('བསླབ་གཞིའི་ལྟེ་གནས།', 'http://www.teducn.com/kecheng/'),\n",
       " ('རིག་ཚན་སློབ་ཁྲིད།', 'http://www.teducn.com/xuekejiaoxue/'),\n",
       " ('སྲོལ་རྒྱུན་སློབ་གསོ།', 'http://www.teducn.com/chuantongjiaoyu/'),\n",
       " ('སྐད་གཉིས་སློབ་གསོ།', 'http://www.teducn.com/shuangyujiaoxue/'),\n",
       " ('རྒྱུན་སྐྱོང་སློབ་གསོ།', 'http://www.teducn.com/kechixu/'),\n",
       " ('སྐབས་དོན་འཕྲིན་གསར།', 'http://www.teducn.com/news/'),\n",
       " ('སྲིད་ཇུས་བཅོས་ཁྲིམས།', 'http://www.teducn.com/fagui/'),\n",
       " ('ཚིག་མཛོད།', 'http://www.teducn.com/cidian/'),\n",
       " ('བསླབ་གཞིའི་ལྟེ་གནས།', 'http://www.teducn.com/kecheng/'),\n",
       " ('རིག་ཚན་སློབ་ཁྲིད།', 'http://www.teducn.com/xuekejiaoxue/'),\n",
       " ('སྲོལ་རྒྱུན་སློབ་གསོ།', 'http://www.teducn.com/chuantongjiaoyu/'),\n",
       " ('སྐད་གཉིས་སློབ་གསོ།', 'http://www.teducn.com/shuangyujiaoxue/'),\n",
       " ('རྒྱུན་སྐྱོང་སློབ་གསོ།', 'http://www.teducn.com/kechixu/'),\n",
       " ('གཞུང་ལུགས་ཞིབ་འཇུག', 'http://www.teducn.com/lilunyanjiu/'),\n",
       " ('ཆེད་ལས་ཐ་སྙད།', 'http://www.teducn.com/zhuanyeshuyu/'),\n",
       " ('སློབ་གྲྭ་མཚམས་སྦྱོར།', 'http://www.teducn.com/xuexiaojieshao/'),\n",
       " ('མི་སྣ་མཚམས་སྦྱོར།', 'http://www.teducn.com/renwu/'),\n",
       " ('ཐོན་ཁུངས་ཕབ་སྤྱོད།', 'http://www.teducn.com/download/'),\n",
       " ('བརྙན་གཟུགས་ཕྱོགས་འདུས།', 'http://www.teducn.com/movie/'),\n",
       " ('འབྲེལ་ཡོད་དུས་དེབ།', 'http://www.teducn.com/qikan/'),\n",
       " ('གླེང་སྟེགས།', 'http://www.teducn.com/bbs/')]"
      ]
     },
     "execution_count": 14,
     "metadata": {},
     "output_type": "execute_result"
    }
   ],
   "source": [
    "all_categories"
   ]
  },
  {
   "cell_type": "code",
   "execution_count": 17,
   "id": "15e83146-1cf9-49e4-8400-3a4cde215796",
   "metadata": {},
   "outputs": [
    {
     "data": {
      "text/plain": [
       "[('སྐབས་དོན་འཕྲིན་གསར།', 'http://www.teducn.com/news/'),\n",
       " ('སྲིད་ཇུས་བཅོས་ཁྲིམས།', 'http://www.teducn.com/fagui/'),\n",
       " ('ཚིག་མཛོད།', 'http://www.teducn.com/cidian/'),\n",
       " ('བསླབ་གཞིའི་ལྟེ་གནས།', 'http://www.teducn.com/kecheng/'),\n",
       " ('རིག་ཚན་སློབ་ཁྲིད།', 'http://www.teducn.com/xuekejiaoxue/'),\n",
       " ('སྲོལ་རྒྱུན་སློབ་གསོ།', 'http://www.teducn.com/chuantongjiaoyu/'),\n",
       " ('སྐད་གཉིས་སློབ་གསོ།', 'http://www.teducn.com/shuangyujiaoxue/'),\n",
       " ('རྒྱུན་སྐྱོང་སློབ་གསོ།', 'http://www.teducn.com/kechixu/'),\n",
       " ('གཞུང་ལུགས་ཞིབ་འཇུག', 'http://www.teducn.com/lilunyanjiu/'),\n",
       " ('ཆེད་ལས་ཐ་སྙད།', 'http://www.teducn.com/zhuanyeshuyu/'),\n",
       " ('སློབ་གྲྭ་མཚམས་སྦྱོར།', 'http://www.teducn.com/xuexiaojieshao/'),\n",
       " ('མི་སྣ་མཚམས་སྦྱོར།', 'http://www.teducn.com/renwu/'),\n",
       " ('ཐོན་ཁུངས་ཕབ་སྤྱོད།', 'http://www.teducn.com/download/'),\n",
       " ('བརྙན་གཟུགས་ཕྱོགས་འདུས།', 'http://www.teducn.com/movie/'),\n",
       " ('འབྲེལ་ཡོད་དུས་དེབ།', 'http://www.teducn.com/qikan/'),\n",
       " ('གླེང་སྟེགས།', 'http://www.teducn.com/bbs/')]"
      ]
     },
     "execution_count": 17,
     "metadata": {},
     "output_type": "execute_result"
    }
   ],
   "source": [
    "all_categories = all_categories[2:18]\n",
    "all_categories"
   ]
  },
  {
   "cell_type": "code",
   "execution_count": 18,
   "id": "e68c29a1-3f1c-40af-b025-3bbeec98745b",
   "metadata": {},
   "outputs": [
    {
     "data": {
      "text/plain": [
       "16"
      ]
     },
     "execution_count": 18,
     "metadata": {},
     "output_type": "execute_result"
    }
   ],
   "source": [
    "len(all_categories)"
   ]
  },
  {
   "cell_type": "markdown",
   "id": "87a07a09-7113-480a-9796-ae6e2edbd0c4",
   "metadata": {},
   "source": [
    "## extract sub categories"
   ]
  },
  {
   "cell_type": "code",
   "execution_count": 27,
   "id": "e7f0da83-6c30-41d6-8319-c8805e4ab292",
   "metadata": {},
   "outputs": [],
   "source": [
    "def get_content(url):\n",
    "    \"\"\"\n",
    "    \n",
    "    \"\"\"\n",
    "\n",
    "    headers = {\n",
    "        'accept': 'text/html,application/xhtml+xml,application/xml;q=0.9,image/avif,image/webp,image/apng,*/*;q=0.8,application/signed-exchange;v=b3;q=0.7',\n",
    "        'accept-encoding': 'gzip, deflate',\n",
    "        'accept-language': 'en-US,en;q=0.9,en-IN;q=0.8',\n",
    "        'cache-control': 'max-age=0',\n",
    "        'connection': 'keep-alive',\n",
    "        'cookie': 'rhldeecookieinforecord=%2C168-99%2C',\n",
    "        'host': 'www.teducn.com',\n",
    "        'upgrade-insecure-requests': '1',\n",
    "        'user-agent': 'Mozilla/5.0 (Windows NT 10.0; Win64; x64) AppleWebKit/537.36 (KHTML, like Gecko) Chrome/129.0.0.0 Safari/537.36 Edg/129.0.0.0'\n",
    "    }\n",
    "    try:\n",
    "        # Make the request to the URL\n",
    "        response = requests.get(url, headers=headers)\n",
    "        response.raise_for_status()\n",
    "        soup = BeautifulSoup(response.content, 'html.parser')\n",
    "        \n",
    "         # Find all tables with the specified attributes\n",
    "        # Find all tables with the specified attributes\n",
    "        tables = soup.find_all('table', attrs={\n",
    "            'width': '100%',\n",
    "            'border': '0',\n",
    "            'cellpadding': '0',\n",
    "            'cellspacing': '1',\n",
    "            'bgcolor': '#B3DEF0'\n",
    "        })\n",
    "        \n",
    "        links_and_text_list = []\n",
    "        for table in tables:\n",
    "            # Check if the table is empty\n",
    "            inner_table = table.find('table', class_='box')\n",
    "            if inner_table:\n",
    "                inner_td = inner_table.find('td')\n",
    "                if inner_td and not inner_td.get_text(strip=True):\n",
    "                    continue  # Skip this table as it's empty\n",
    "            \n",
    "            # If the table is not empty, proceed with extraction\n",
    "            inner_table = table.find('table', class_='fm')\n",
    "            if inner_table:\n",
    "                tds = inner_table.find_all('td')\n",
    "                if len(tds) == 3:\n",
    "                    text = tds[1].get_text(strip=True)\n",
    "                    a_tag = tds[2].find('a')\n",
    "                    if a_tag:\n",
    "                        href = a_tag.get('href')\n",
    "                        links_and_text_list.append({'href': href, 'text': text})\n",
    "        \n",
    "        return links_and_text_list\n",
    "        \n",
    "    except Exception as e:\n",
    "        print(e)\n",
    "        return None\n",
    "\n"
   ]
  },
  {
   "cell_type": "code",
   "execution_count": 28,
   "id": "32ccd5a8-53ee-4a63-8413-6f2dca117dde",
   "metadata": {},
   "outputs": [
    {
     "data": {
      "text/plain": [
       "[{'href': 'http://www.teducn.com/news/jiaoyu/', 'text': 'སློབ་གསོ་གསར་འགྱུར།'},\n",
       " {'href': 'http://www.teducn.com/news/xiaoyuan/',\n",
       "  'text': 'སློབ་རའི་གསར་འགྱུར།'}]"
      ]
     },
     "execution_count": 28,
     "metadata": {},
     "output_type": "execute_result"
    }
   ],
   "source": [
    "get_content(\"http://www.teducn.com/news/\")"
   ]
  },
  {
   "cell_type": "code",
   "execution_count": null,
   "id": "2444abaf-4377-4b24-a4a7-a9536e14f969",
   "metadata": {},
   "outputs": [],
   "source": []
  },
  {
   "cell_type": "code",
   "execution_count": 31,
   "id": "b068eaa0-b71f-476c-98e2-623ddbd94a29",
   "metadata": {},
   "outputs": [
    {
     "name": "stderr",
     "output_type": "stream",
     "text": [
      "  0%|          | 0/16 [00:00<?, ?it/s]"
     ]
    },
    {
     "name": "stdout",
     "output_type": "stream",
     "text": [
      "\n",
      "('སྐབས་དོན་འཕྲིན་གསར།', 'http://www.teducn.com/news/')\n"
     ]
    },
    {
     "name": "stderr",
     "output_type": "stream",
     "text": [
      "  6%|▋         | 1/16 [00:05<01:29,  5.96s/it]"
     ]
    },
    {
     "name": "stdout",
     "output_type": "stream",
     "text": [
      "[{'href': 'http://www.teducn.com/news/jiaoyu/', 'text': 'སློབ་གསོ་གསར་འགྱུར།'}, {'href': 'http://www.teducn.com/news/xiaoyuan/', 'text': 'སློབ་རའི་གསར་འགྱུར།'}]\n",
      "\n",
      "('སྲིད་ཇུས་བཅོས་ཁྲིམས།', 'http://www.teducn.com/fagui/')\n"
     ]
    },
    {
     "name": "stderr",
     "output_type": "stream",
     "text": [
      " 12%|█▎        | 2/16 [02:21<19:08, 82.04s/it]"
     ]
    },
    {
     "name": "stdout",
     "output_type": "stream",
     "text": [
      "[{'href': 'http://www.teducn.com/fagui/minzuzhengce/', 'text': 'མི་རིགས་སྲིད་ཇུས།'}, {'href': 'http://www.teducn.com/fagui/difangfagui/', 'text': 'ས་གནས་བཅའ་ཁྲིམས།'}]\n",
      "\n",
      "('ཚིག་མཛོད།', 'http://www.teducn.com/cidian/')\n"
     ]
    },
    {
     "name": "stderr",
     "output_type": "stream",
     "text": [
      " 19%|█▉        | 3/16 [04:36<23:01, 106.29s/it]"
     ]
    },
    {
     "name": "stdout",
     "output_type": "stream",
     "text": [
      "[{'href': 'http://www.teducn.com/cidian/ruanjian/', 'text': 'སྙི་ཆས་གྱི་སྐོར།'}, {'href': 'http://www.teducn.com/cidian/PDF/', 'text': 'PDFགྱི་སྐོར།'}]\n",
      "\n",
      "('བསླབ་གཞིའི་ལྟེ་གནས།', 'http://www.teducn.com/kecheng/')\n"
     ]
    },
    {
     "name": "stderr",
     "output_type": "stream",
     "text": [
      " 25%|██▌       | 4/16 [06:51<23:32, 117.71s/it]"
     ]
    },
    {
     "name": "stdout",
     "output_type": "stream",
     "text": [
      "[{'href': 'http://www.teducn.com/kecheng/kechengjiaocai/', 'text': 'བསླབ་གཞིའི་སློབ་དེབ།'}, {'href': 'http://www.teducn.com/kecheng/kechengjiaofa/', 'text': 'བསླབ་གཞིའི་ཁྲིད་ཐབས།'}, {'href': 'http://www.teducn.com/kecheng/kechengpinggu/', 'text': 'བསླབ་གཞིའི་གདེང་འཇོག'}, {'href': 'http://www.teducn.com/kecheng/jiaochengzhengce/', 'text': 'བསླབ་གཞིའི་སྲིད་ཇུས།'}]\n",
      "\n",
      "('རིག་ཚན་སློབ་ཁྲིད།', 'http://www.teducn.com/xuekejiaoxue/')\n"
     ]
    },
    {
     "name": "stderr",
     "output_type": "stream",
     "text": [
      " 31%|███▏      | 5/16 [06:58<14:15, 77.76s/it] "
     ]
    },
    {
     "name": "stdout",
     "output_type": "stream",
     "text": [
      "[{'href': 'http://www.teducn.com/xuekejiaoxue/jisuanji/', 'text': 'རྩིས་འཁོར།'}, {'href': 'http://www.teducn.com/xuekejiaoxue/zangwen/', 'text': 'བོད་ཡིག'}]\n",
      "\n",
      "('སྲོལ་རྒྱུན་སློབ་གསོ།', 'http://www.teducn.com/chuantongjiaoyu/')\n"
     ]
    },
    {
     "name": "stderr",
     "output_type": "stream",
     "text": [
      " 38%|███▊      | 6/16 [07:02<08:47, 52.78s/it]"
     ]
    },
    {
     "name": "stdout",
     "output_type": "stream",
     "text": [
      "[{'href': 'http://www.teducn.com/chuantongjiaoyu/jiating/', 'text': 'ཁྱིམ་ཚང་སློབ་གསོ།'}, {'href': 'http://www.teducn.com/chuantongjiaoyu/siyuanjieshao/', 'text': 'དགོན་སྡེ་མཚམས་སྦྱོར།'}, {'href': 'http://www.teducn.com/chuantongjiaoyu/chuantongxueke/', 'text': 'སྲོལ་རྒྱུན་རིག་ཚན།'}, {'href': 'http://www.teducn.com/chuantongjiaoyu/mingzhudaodu/', 'text': 'གསུང་རབ་བང་མཛོད།'}, {'href': 'http://www.teducn.com/chuantongjiaoyu/jiaoyulishi/', 'text': 'སློབ་གསོའི་ལོ་རྒྱུས།'}, {'href': 'http://www.teducn.com/chuantongjiaoyu/zongjiaowenhua/', 'text': 'ཆོས་ལུགས་རིག་གནས།'}, {'href': 'http://www.teducn.com/chuantongjiaoyu/fojiaopaibie/', 'text': 'ནང་བའི་གྲུབ་མཐའ།'}]\n",
      "\n",
      "('སྐད་གཉིས་སློབ་གསོ།', 'http://www.teducn.com/shuangyujiaoxue/')\n"
     ]
    },
    {
     "name": "stderr",
     "output_type": "stream",
     "text": [
      " 44%|████▍     | 7/16 [09:19<12:03, 80.36s/it]"
     ]
    },
    {
     "name": "stdout",
     "output_type": "stream",
     "text": [
      "[{'href': 'http://www.teducn.com/shuangyujiaoxue/shangyuke/', 'text': 'སྐད་གཉིས་གཞུང་ལུགས།'}, {'href': 'http://www.teducn.com/shuangyujiaoxue/shuangyulilun/', 'text': 'མིང་བརྡ་གཅིག་གྱུར།'}]\n",
      "\n",
      "('རྒྱུན་སྐྱོང་སློབ་གསོ།', 'http://www.teducn.com/kechixu/')\n"
     ]
    },
    {
     "name": "stderr",
     "output_type": "stream",
     "text": [
      " 50%|█████     | 8/16 [11:36<13:05, 98.19s/it]"
     ]
    },
    {
     "name": "stdout",
     "output_type": "stream",
     "text": [
      "[{'href': 'http://www.teducn.com/kechixu/linian/', 'text': 'སློབ་གསོའི་དགོངས་པ།'}, {'href': 'http://www.teducn.com/kechixu/huanbao/', 'text': 'ཁོར་ཡུག་དང་སློབ་གསོ།'}, {'href': 'http://www.teducn.com/kechixu/huanbaowenhua/', 'text': 'ཁོར་ཡུག་དང་རིག་གནས།'}, {'href': 'http://www.teducn.com/kechixu/huanbaoshehui/', 'text': 'ཁོར་ཡུག་དང་སྤྱི་ཚོགས།'}]\n",
      "\n",
      "('གཞུང་ལུགས་ཞིབ་འཇུག', 'http://www.teducn.com/lilunyanjiu/')\n"
     ]
    },
    {
     "name": "stderr",
     "output_type": "stream",
     "text": [
      " 56%|█████▋    | 9/16 [13:53<12:52, 110.37s/it]"
     ]
    },
    {
     "name": "stdout",
     "output_type": "stream",
     "text": [
      "[{'href': 'http://www.teducn.com/lilunyanjiu/jisuanji/', 'text': 'རྩིས་འཁོར།'}, {'href': 'http://www.teducn.com/lilunyanjiu/zangwen/', 'text': 'བོད་ཡིག'}, {'href': 'http://www.teducn.com/lilunyanjiu/yintimei/', 'text': 'རོལ་དབྱངས། ལུས་རྩལ། རི་མོ།'}]\n",
      "\n",
      "('ཆེད་ལས་ཐ་སྙད།', 'http://www.teducn.com/zhuanyeshuyu/')\n"
     ]
    },
    {
     "name": "stderr",
     "output_type": "stream",
     "text": [
      " 62%|██████▎   | 10/16 [13:59<07:48, 78.13s/it]"
     ]
    },
    {
     "name": "stdout",
     "output_type": "stream",
     "text": [
      "[{'href': 'http://www.teducn.com/zhuanyeshuyu/wuli/', 'text': 'དངོས་ལུགས།'}, {'href': 'http://www.teducn.com/zhuanyeshuyu/shengwu/', 'text': 'སྐྱེ་དངོས།'}, {'href': 'http://www.teducn.com/zhuanyeshuyu/jisuanji/', 'text': 'རྩིས་འཁོར།'}, {'href': 'http://www.teducn.com/zhuanyeshuyu/zangwen/', 'text': 'བོད་ཡིག'}, {'href': 'http://www.teducn.com/zhuanyeshuyu/hanwen/', 'text': 'རྒྱ་ཡིག'}, {'href': 'http://www.teducn.com/zhuanyeshuyu/yintimei/', 'text': 'རོལ་དབྱངས། ལུས་རྩལ། རི་མོ།'}]\n",
      "\n",
      "('སློབ་གྲྭ་མཚམས་སྦྱོར།', 'http://www.teducn.com/xuexiaojieshao/')\n"
     ]
    },
    {
     "name": "stderr",
     "output_type": "stream",
     "text": [
      " 69%|██████▉   | 11/16 [14:04<04:38, 55.73s/it]"
     ]
    },
    {
     "name": "stdout",
     "output_type": "stream",
     "text": [
      "[{'href': 'http://www.teducn.com/xuexiaojieshao/daxue/', 'text': 'སློབ་ཆེན་སློབ་གྲྭ།'}, {'href': 'http://www.teducn.com/xuexiaojieshao/zhongxue/', 'text': 'སློབ་འབྲིང་སློབ་གྲྭ།'}, {'href': 'http://www.teducn.com/xuexiaojieshao/xiaoxue/', 'text': 'སློབ་ཆུང་སློབ་གྲྭ།'}]\n",
      "\n",
      "('མི་སྣ་མཚམས་སྦྱོར།', 'http://www.teducn.com/renwu/')\n"
     ]
    },
    {
     "name": "stderr",
     "output_type": "stream",
     "text": [
      " 75%|███████▌  | 12/16 [16:20<05:21, 80.32s/it]"
     ]
    },
    {
     "name": "stdout",
     "output_type": "stream",
     "text": [
      "[{'href': 'http://www.teducn.com/renwu/dashihuicui/', 'text': 'མཁས་བའི་ཁྱུ་མཆོག'}, {'href': 'http://www.teducn.com/renwu/xiandairenwu/', 'text': 'དེང་རབས་གྲགས་ཅན།'}]\n",
      "\n",
      "('ཐོན་ཁུངས་ཕབ་སྤྱོད།', 'http://www.teducn.com/download/')\n"
     ]
    },
    {
     "name": "stderr",
     "output_type": "stream",
     "text": [
      " 81%|████████▏ | 13/16 [16:26<02:53, 57.79s/it]"
     ]
    },
    {
     "name": "stdout",
     "output_type": "stream",
     "text": [
      "[{'href': 'http://www.teducn.com/download/shuxue/', 'text': 'གྲངས་རིག་གི་སྐོར།'}, {'href': 'http://www.teducn.com/download/wuli/', 'text': 'དངོས་ལུགས་ཀྱི་སྐོར།'}, {'href': 'http://www.teducn.com/download/jisuanji/', 'text': 'རྩིས་འཁོར་གྱི་སྐོར།'}, {'href': 'http://www.teducn.com/download/zangwen/', 'text': 'བོད་ཡིག་གི་སྐོར།'}, {'href': 'http://www.teducn.com/download/hanwen/', 'text': 'རྒྱ་ཡིག་གི་སྐོར།'}, {'href': 'http://www.teducn.com/download/changyongruanjian/', 'text': 'རྒྱུན་བཀོལ་མཉེན་ཆས།'}]\n",
      "\n",
      "('བརྙན་གཟུགས་ཕྱོགས་འདུས།', 'http://www.teducn.com/movie/')\n"
     ]
    },
    {
     "name": "stderr",
     "output_type": "stream",
     "text": [
      " 88%|████████▊ | 14/16 [16:32<01:23, 41.94s/it]"
     ]
    },
    {
     "name": "stdout",
     "output_type": "stream",
     "text": [
      "[{'href': 'http://www.teducn.com/movie/shuxue/', 'text': 'གྲངས་རིག་གི་སྐོར།'}, {'href': 'http://www.teducn.com/movie/wuli/', 'text': 'དངོས་ལུགས་ཀྱི་སྐོར།'}, {'href': 'http://www.teducn.com/movie/yingyu/', 'text': 'དབྱིན་ཡིག་གི་སྐོར།'}, {'href': 'http://www.teducn.com/movie/zangwen/', 'text': 'བོད་ཡིག་གི་སྐོར།'}, {'href': 'http://www.teducn.com/movie/hanwen/', 'text': 'གཞན་དག'}, {'href': 'http://www.teducn.com/movie/jisuanji/', 'text': 'རྩིས་འཁོར་གྱི་སྐོར།'}, {'href': 'http://www.teducn.com/movie/shengwu/', 'text': 'སྐྱེ་དངོས་ཀྱི་སྐོར།'}, {'href': 'http://www.teducn.com/movie/yintimei/', 'text': 'རོལ་དབྱངས། ལུས་རྩལ། རི་མོ།'}, {'href': 'http://www.teducn.com/movie/ertongleyuan/', 'text': 'བྱིས་པའི་རྩེད་ར།'}, {'href': 'http://www.teducn.com/movie/gewuhaiyang/', 'text': 'གླུ་གར་གྱི་རྒྱ་མཚོ།'}]\n",
      "\n",
      "('འབྲེལ་ཡོད་དུས་དེབ།', 'http://www.teducn.com/qikan/')\n"
     ]
    },
    {
     "name": "stderr",
     "output_type": "stream",
     "text": [
      " 94%|█████████▍| 15/16 [18:48<01:10, 70.36s/it]"
     ]
    },
    {
     "name": "stdout",
     "output_type": "stream",
     "text": [
      "[{'href': 'http://www.teducn.com//qikan/zangzujiaoyu/', 'text': 'བོད་ཀྱི་སློབ་གསོ།'}, {'href': 'http://www.teducn.com//qikan/qunwentiandi/', 'text': 'མང་ཚོགས་སྒྱུ་རྩལ།'}]\n",
      "\n",
      "('གླེང་སྟེགས།', 'http://www.teducn.com/bbs/')\n"
     ]
    },
    {
     "name": "stderr",
     "output_type": "stream",
     "text": [
      "100%|██████████| 16/16 [21:07<00:00, 79.22s/it]"
     ]
    },
    {
     "name": "stdout",
     "output_type": "stream",
     "text": [
      "404 Client Error: Not Found for url: http://www.teducn.com/bbs/\n"
     ]
    },
    {
     "name": "stderr",
     "output_type": "stream",
     "text": [
      "\n"
     ]
    }
   ],
   "source": [
    "i = 0\n",
    "new_categories = []\n",
    "\n",
    "\n",
    "for each_link in tqdm(all_categories):\n",
    "    print()\n",
    "    print(each_link)\n",
    "    link = each_link[1]\n",
    "    other_content = get_content(link)\n",
    "    if other_content:\n",
    "        print(other_content)\n",
    "        new_categories.extend(other_content)\n",
    "    else:\n",
    "        new_categories.append(each_link)"
   ]
  },
  {
   "cell_type": "code",
   "execution_count": null,
   "id": "1879b76e-568c-4cee-8b18-b3661268882e",
   "metadata": {},
   "outputs": [],
   "source": []
  },
  {
   "cell_type": "code",
   "execution_count": 41,
   "id": "af1b54d4-b489-4ea6-9326-65fdeef26613",
   "metadata": {},
   "outputs": [
    {
     "data": {
      "text/plain": [
       "58"
      ]
     },
     "execution_count": 41,
     "metadata": {},
     "output_type": "execute_result"
    }
   ],
   "source": [
    "len(new_categories)"
   ]
  },
  {
   "cell_type": "code",
   "execution_count": 42,
   "id": "8a0f12c6-5862-433e-851e-d1ad1151762e",
   "metadata": {
    "scrolled": true
   },
   "outputs": [
    {
     "data": {
      "text/plain": [
       "[{'href': 'http://www.teducn.com/news/jiaoyu/', 'text': 'སློབ་གསོ་གསར་འགྱུར།'},\n",
       " {'href': 'http://www.teducn.com/news/xiaoyuan/',\n",
       "  'text': 'སློབ་རའི་གསར་འགྱུར།'},\n",
       " {'href': 'http://www.teducn.com/fagui/minzuzhengce/',\n",
       "  'text': 'མི་རིགས་སྲིད་ཇུས།'},\n",
       " {'href': 'http://www.teducn.com/fagui/difangfagui/',\n",
       "  'text': 'ས་གནས་བཅའ་ཁྲིམས།'},\n",
       " {'href': 'http://www.teducn.com/cidian/ruanjian/',\n",
       "  'text': 'སྙི་ཆས་གྱི་སྐོར།'},\n",
       " {'href': 'http://www.teducn.com/cidian/PDF/', 'text': 'PDFགྱི་སྐོར།'},\n",
       " {'href': 'http://www.teducn.com/kecheng/kechengjiaocai/',\n",
       "  'text': 'བསླབ་གཞིའི་སློབ་དེབ།'},\n",
       " {'href': 'http://www.teducn.com/kecheng/kechengjiaofa/',\n",
       "  'text': 'བསླབ་གཞིའི་ཁྲིད་ཐབས།'},\n",
       " {'href': 'http://www.teducn.com/kecheng/kechengpinggu/',\n",
       "  'text': 'བསླབ་གཞིའི་གདེང་འཇོག'},\n",
       " {'href': 'http://www.teducn.com/kecheng/jiaochengzhengce/',\n",
       "  'text': 'བསླབ་གཞིའི་སྲིད་ཇུས།'},\n",
       " {'href': 'http://www.teducn.com/xuekejiaoxue/jisuanji/',\n",
       "  'text': 'རྩིས་འཁོར།'},\n",
       " {'href': 'http://www.teducn.com/xuekejiaoxue/zangwen/', 'text': 'བོད་ཡིག'},\n",
       " {'href': 'http://www.teducn.com/chuantongjiaoyu/jiating/',\n",
       "  'text': 'ཁྱིམ་ཚང་སློབ་གསོ།'},\n",
       " {'href': 'http://www.teducn.com/chuantongjiaoyu/siyuanjieshao/',\n",
       "  'text': 'དགོན་སྡེ་མཚམས་སྦྱོར།'},\n",
       " {'href': 'http://www.teducn.com/chuantongjiaoyu/chuantongxueke/',\n",
       "  'text': 'སྲོལ་རྒྱུན་རིག་ཚན།'},\n",
       " {'href': 'http://www.teducn.com/chuantongjiaoyu/mingzhudaodu/',\n",
       "  'text': 'གསུང་རབ་བང་མཛོད།'},\n",
       " {'href': 'http://www.teducn.com/chuantongjiaoyu/jiaoyulishi/',\n",
       "  'text': 'སློབ་གསོའི་ལོ་རྒྱུས།'},\n",
       " {'href': 'http://www.teducn.com/chuantongjiaoyu/zongjiaowenhua/',\n",
       "  'text': 'ཆོས་ལུགས་རིག་གནས།'},\n",
       " {'href': 'http://www.teducn.com/chuantongjiaoyu/fojiaopaibie/',\n",
       "  'text': 'ནང་བའི་གྲུབ་མཐའ།'},\n",
       " {'href': 'http://www.teducn.com/shuangyujiaoxue/shangyuke/',\n",
       "  'text': 'སྐད་གཉིས་གཞུང་ལུགས།'},\n",
       " {'href': 'http://www.teducn.com/shuangyujiaoxue/shuangyulilun/',\n",
       "  'text': 'མིང་བརྡ་གཅིག་གྱུར།'},\n",
       " {'href': 'http://www.teducn.com/kechixu/linian/',\n",
       "  'text': 'སློབ་གསོའི་དགོངས་པ།'},\n",
       " {'href': 'http://www.teducn.com/kechixu/huanbao/',\n",
       "  'text': 'ཁོར་ཡུག་དང་སློབ་གསོ།'},\n",
       " {'href': 'http://www.teducn.com/kechixu/huanbaowenhua/',\n",
       "  'text': 'ཁོར་ཡུག་དང་རིག་གནས།'},\n",
       " {'href': 'http://www.teducn.com/kechixu/huanbaoshehui/',\n",
       "  'text': 'ཁོར་ཡུག་དང་སྤྱི་ཚོགས།'},\n",
       " {'href': 'http://www.teducn.com/lilunyanjiu/jisuanji/', 'text': 'རྩིས་འཁོར།'},\n",
       " {'href': 'http://www.teducn.com/lilunyanjiu/zangwen/', 'text': 'བོད་ཡིག'},\n",
       " {'href': 'http://www.teducn.com/lilunyanjiu/yintimei/',\n",
       "  'text': 'རོལ་དབྱངས། ལུས་རྩལ། རི་མོ།'},\n",
       " {'href': 'http://www.teducn.com/zhuanyeshuyu/wuli/', 'text': 'དངོས་ལུགས།'},\n",
       " {'href': 'http://www.teducn.com/zhuanyeshuyu/shengwu/', 'text': 'སྐྱེ་དངོས།'},\n",
       " {'href': 'http://www.teducn.com/zhuanyeshuyu/jisuanji/',\n",
       "  'text': 'རྩིས་འཁོར།'},\n",
       " {'href': 'http://www.teducn.com/zhuanyeshuyu/zangwen/', 'text': 'བོད་ཡིག'},\n",
       " {'href': 'http://www.teducn.com/zhuanyeshuyu/hanwen/', 'text': 'རྒྱ་ཡིག'},\n",
       " {'href': 'http://www.teducn.com/zhuanyeshuyu/yintimei/',\n",
       "  'text': 'རོལ་དབྱངས། ལུས་རྩལ། རི་མོ།'},\n",
       " {'href': 'http://www.teducn.com/xuexiaojieshao/daxue/',\n",
       "  'text': 'སློབ་ཆེན་སློབ་གྲྭ།'},\n",
       " {'href': 'http://www.teducn.com/xuexiaojieshao/zhongxue/',\n",
       "  'text': 'སློབ་འབྲིང་སློབ་གྲྭ།'},\n",
       " {'href': 'http://www.teducn.com/xuexiaojieshao/xiaoxue/',\n",
       "  'text': 'སློབ་ཆུང་སློབ་གྲྭ།'},\n",
       " {'href': 'http://www.teducn.com/renwu/dashihuicui/',\n",
       "  'text': 'མཁས་བའི་ཁྱུ་མཆོག'},\n",
       " {'href': 'http://www.teducn.com/renwu/xiandairenwu/',\n",
       "  'text': 'དེང་རབས་གྲགས་ཅན།'},\n",
       " {'href': 'http://www.teducn.com/download/shuxue/',\n",
       "  'text': 'གྲངས་རིག་གི་སྐོར།'},\n",
       " {'href': 'http://www.teducn.com/download/wuli/',\n",
       "  'text': 'དངོས་ལུགས་ཀྱི་སྐོར།'},\n",
       " {'href': 'http://www.teducn.com/download/jisuanji/',\n",
       "  'text': 'རྩིས་འཁོར་གྱི་སྐོར།'},\n",
       " {'href': 'http://www.teducn.com/download/zangwen/',\n",
       "  'text': 'བོད་ཡིག་གི་སྐོར།'},\n",
       " {'href': 'http://www.teducn.com/download/hanwen/',\n",
       "  'text': 'རྒྱ་ཡིག་གི་སྐོར།'},\n",
       " {'href': 'http://www.teducn.com/download/changyongruanjian/',\n",
       "  'text': 'རྒྱུན་བཀོལ་མཉེན་ཆས།'},\n",
       " {'href': 'http://www.teducn.com/movie/shuxue/', 'text': 'གྲངས་རིག་གི་སྐོར།'},\n",
       " {'href': 'http://www.teducn.com/movie/wuli/', 'text': 'དངོས་ལུགས་ཀྱི་སྐོར།'},\n",
       " {'href': 'http://www.teducn.com/movie/yingyu/', 'text': 'དབྱིན་ཡིག་གི་སྐོར།'},\n",
       " {'href': 'http://www.teducn.com/movie/zangwen/', 'text': 'བོད་ཡིག་གི་སྐོར།'},\n",
       " {'href': 'http://www.teducn.com/movie/hanwen/', 'text': 'གཞན་དག'},\n",
       " {'href': 'http://www.teducn.com/movie/jisuanji/',\n",
       "  'text': 'རྩིས་འཁོར་གྱི་སྐོར།'},\n",
       " {'href': 'http://www.teducn.com/movie/shengwu/',\n",
       "  'text': 'སྐྱེ་དངོས་ཀྱི་སྐོར།'},\n",
       " {'href': 'http://www.teducn.com/movie/yintimei/',\n",
       "  'text': 'རོལ་དབྱངས། ལུས་རྩལ། རི་མོ།'},\n",
       " {'href': 'http://www.teducn.com/movie/ertongleyuan/',\n",
       "  'text': 'བྱིས་པའི་རྩེད་ར།'},\n",
       " {'href': 'http://www.teducn.com/movie/gewuhaiyang/',\n",
       "  'text': 'གླུ་གར་གྱི་རྒྱ་མཚོ།'},\n",
       " {'href': 'http://www.teducn.com//qikan/zangzujiaoyu/',\n",
       "  'text': 'བོད་ཀྱི་སློབ་གསོ།'},\n",
       " {'href': 'http://www.teducn.com//qikan/qunwentiandi/',\n",
       "  'text': 'མང་ཚོགས་སྒྱུ་རྩལ།'},\n",
       " ('གླེང་སྟེགས།', 'http://www.teducn.com/bbs/')]"
      ]
     },
     "execution_count": 42,
     "metadata": {},
     "output_type": "execute_result"
    }
   ],
   "source": [
    "new_categories"
   ]
  },
  {
   "cell_type": "code",
   "execution_count": null,
   "id": "8c6f770b-8319-4eea-bb55-5eebb99ba945",
   "metadata": {},
   "outputs": [],
   "source": []
  },
  {
   "cell_type": "markdown",
   "id": "748060f9-8f9d-4c1d-97a1-b6b66cf79fe5",
   "metadata": {},
   "source": [
    "## Extarct each categories page number"
   ]
  },
  {
   "cell_type": "code",
   "execution_count": 51,
   "id": "bdf84d27-ff81-48dc-aaed-fc7e255fc468",
   "metadata": {},
   "outputs": [],
   "source": [
    "import requests\n",
    "from bs4 import BeautifulSoup\n",
    "import re\n",
    "from requests.adapters import HTTPAdapter\n",
    "from urllib3.util.retry import Retry\n",
    "\n",
    "def get_page_no(url, max_retries=3, backoff_factor=0.3, timeout=10):\n",
    "    headers = {\n",
    "        'accept': 'text/html,application/xhtml+xml,application/xml;q=0.9,image/avif,image/webp,image/apng,*/*;q=0.8,application/signed-exchange;v=b3;q=0.7',\n",
    "        'accept-encoding': 'gzip, deflate',\n",
    "        'accept-language': 'en-US,en;q=0.9,en-IN;q=0.8',\n",
    "        'cache-control': 'max-age=0',\n",
    "        'connection': 'keep-alive',\n",
    "        'cookie': 'rhldeecookieinforecord=%2C168-99%2C',\n",
    "        'host': 'www.teducn.com',\n",
    "        'upgrade-insecure-requests': '1',\n",
    "        'user-agent': 'Mozilla/5.0 (Windows NT 10.0; Win64; x64) AppleWebKit/537.36 (KHTML, like Gecko) Chrome/129.0.0.0 Safari/537.36 Edg/129.0.0.0'\n",
    "    }\n",
    "    \n",
    "    # Setup retries\n",
    "    retry_strategy = Retry(\n",
    "        total=max_retries,\n",
    "        backoff_factor=backoff_factor,\n",
    "        status_forcelist=[429, 500, 502, 503, 504],\n",
    "        allowed_methods=[\"HEAD\", \"GET\", \"OPTIONS\"]\n",
    "    )\n",
    "    adapter = HTTPAdapter(max_retries=retry_strategy)\n",
    "    \n",
    "    with requests.Session() as session:\n",
    "        session.mount(\"http://\", adapter)\n",
    "        session.mount(\"https://\", adapter)\n",
    "        \n",
    "        try:\n",
    "            # Make the request to the URL\n",
    "            response = session.get(url, headers=headers, timeout=timeout)\n",
    "            response.raise_for_status()\n",
    "            \n",
    "            # Parse the page content with BeautifulSoup\n",
    "            soup = BeautifulSoup(response.content, 'html.parser')\n",
    "            last_page = soup.find(\"span\", class_=\"lv_zw\")\n",
    "            if last_page:\n",
    "                last_page = last_page.get_text(strip=True)\n",
    "                match = re.search(r'ངོས་\\d+/(\\d+)', last_page)\n",
    "        \n",
    "                if match:\n",
    "                    last_page_no = int(match.group(1))\n",
    "                else:\n",
    "                    last_page_no = 1\n",
    "                return [last_page, last_page_no]\n",
    "            else:\n",
    "                return [\"no link last page link\", 1]\n",
    "                \n",
    "        except requests.exceptions.RequestException as e:\n",
    "            print(f\"Request failed: {e}\")\n",
    "            return [\"no link last page link\", 1]\n",
    "        except Exception as e:\n",
    "            print(f\"An unexpected error occurred: {e}\")\n",
    "            return [\"no link last page link\", 1]"
   ]
  },
  {
   "cell_type": "code",
   "execution_count": 52,
   "id": "eabf2fc9-3f11-4ec8-ac7a-38678c9f5197",
   "metadata": {},
   "outputs": [
    {
     "data": {
      "text/plain": [
       "['ངོས་1/1\\xa0 ངོས་རེར་ནང་དོན་ངོས། 25\\xa0སྡོམ་7\\xa0\\xa0\\xa0\\xa0\\xa0མདུན་ངོས།\\xa0\\xa0上一页\\xa0\\xa0下一页\\xa0\\xa0尾页\\xa0\\xa0\\xa0\\xa0བསྒྱུར་ཐོན\\r\\n:第 1 页',\n",
       " 1]"
      ]
     },
     "execution_count": 52,
     "metadata": {},
     "output_type": "execute_result"
    }
   ],
   "source": [
    "url = \"http://www.teducn.com/renwu/dashihuicui/\"\n",
    "url = \"http://www.teducn.com/fagui/difangfagui/\"\n",
    "# url = \"http://www.tbmgar.com/lcqwbw.asp?id=369#ndbwNdCam\"\n",
    "\n",
    "get_page_no(url)"
   ]
  },
  {
   "cell_type": "code",
   "execution_count": null,
   "id": "9df2802d-7053-46c1-9974-f593018ecf1d",
   "metadata": {},
   "outputs": [],
   "source": []
  },
  {
   "cell_type": "code",
   "execution_count": null,
   "id": "c9774fba-555d-419e-adf3-04849d0dfeaa",
   "metadata": {},
   "outputs": [],
   "source": []
  },
  {
   "cell_type": "code",
   "execution_count": null,
   "id": "94601585-67c3-4c97-9638-9b132ad263a3",
   "metadata": {},
   "outputs": [],
   "source": []
  },
  {
   "cell_type": "code",
   "execution_count": 53,
   "id": "029a9b6f-1b97-493b-8501-87bc3436f7ec",
   "metadata": {
    "scrolled": true
   },
   "outputs": [
    {
     "name": "stderr",
     "output_type": "stream",
     "text": [
      "  2%|▏         | 1/58 [00:18<17:20, 18.26s/it]"
     ]
    },
    {
     "name": "stdout",
     "output_type": "stream",
     "text": [
      "['http://www.teducn.com/news/jiaoyu/', 'སློབ་གསོ་གསར་འགྱུར།', 'ངོས་1/1\\xa0 ངོས་རེར་ནང་དོན་ངོས། 25\\xa0སྡོམ་18\\xa0\\xa0\\xa0\\xa0\\xa0མདུན་ངོས།\\xa0\\xa0上一页\\xa0\\xa0下一页\\xa0\\xa0尾页\\xa0\\xa0\\xa0\\xa0བསྒྱུར་ཐོན\\r\\n:第 1 页', 1]\n"
     ]
    },
    {
     "name": "stderr",
     "output_type": "stream",
     "text": [
      "  3%|▎         | 2/58 [00:24<10:14, 10.98s/it]"
     ]
    },
    {
     "name": "stdout",
     "output_type": "stream",
     "text": [
      "['http://www.teducn.com/news/xiaoyuan/', 'སློབ་རའི་གསར་འགྱུར།', 'ངོས་1/1\\xa0 ངོས་རེར་ནང་དོན་ངོས། 25\\xa0སྡོམ་7\\xa0\\xa0\\xa0\\xa0\\xa0མདུན་ངོས།\\xa0\\xa0上一页\\xa0\\xa0下一页\\xa0\\xa0尾页\\xa0\\xa0\\xa0\\xa0བསྒྱུར་ཐོན\\r\\n:第 1 页', 1]\n"
     ]
    },
    {
     "name": "stderr",
     "output_type": "stream",
     "text": [
      "  5%|▌         | 3/58 [00:39<11:44, 12.81s/it]"
     ]
    },
    {
     "name": "stdout",
     "output_type": "stream",
     "text": [
      "['http://www.teducn.com/fagui/minzuzhengce/', 'མི་རིགས་སྲིད་ཇུས།', 'ངོས་1/1\\xa0 ངོས་རེར་ནང་དོན་ངོས། 25\\xa0སྡོམ་2\\xa0\\xa0\\xa0\\xa0\\xa0མདུན་ངོས།\\xa0\\xa0上一页\\xa0\\xa0下一页\\xa0\\xa0尾页\\xa0\\xa0\\xa0\\xa0བསྒྱུར་ཐོན\\r\\n:第 1 页', 1]\n"
     ]
    },
    {
     "name": "stderr",
     "output_type": "stream",
     "text": [
      "  7%|▋         | 4/58 [01:47<31:17, 34.76s/it]"
     ]
    },
    {
     "name": "stdout",
     "output_type": "stream",
     "text": [
      "['http://www.teducn.com/fagui/difangfagui/', 'ས་གནས་བཅའ་ཁྲིམས།', 'ངོས་1/1\\xa0 ངོས་རེར་ནང་དོན་ངོས། 25\\xa0སྡོམ་7\\xa0\\xa0\\xa0\\xa0\\xa0མདུན་ངོས།\\xa0\\xa0上一页\\xa0\\xa0下一页\\xa0\\xa0尾页\\xa0\\xa0\\xa0\\xa0བསྒྱུར་ཐོན\\r\\n:第 1 页', 1]\n"
     ]
    },
    {
     "name": "stderr",
     "output_type": "stream",
     "text": [
      "  9%|▊         | 5/58 [01:54<21:42, 24.58s/it]"
     ]
    },
    {
     "name": "stdout",
     "output_type": "stream",
     "text": [
      "['http://www.teducn.com/cidian/ruanjian/', 'སྙི་ཆས་གྱི་སྐོར།', 'སྐད་རིགས།', 1]\n",
      "5\n"
     ]
    },
    {
     "name": "stderr",
     "output_type": "stream",
     "text": [
      " 10%|█         | 6/58 [02:08<18:13, 21.03s/it]"
     ]
    },
    {
     "name": "stdout",
     "output_type": "stream",
     "text": [
      "['http://www.teducn.com/cidian/PDF/', 'PDFགྱི་སྐོར།', 'སྐད་རིགས།', 1]\n"
     ]
    },
    {
     "name": "stderr",
     "output_type": "stream",
     "text": [
      " 12%|█▏        | 7/58 [02:24<16:26, 19.35s/it]"
     ]
    },
    {
     "name": "stdout",
     "output_type": "stream",
     "text": [
      "['http://www.teducn.com/kecheng/kechengjiaocai/', 'བསླབ་གཞིའི་སློབ་དེབ།', 'ངོས་1/1\\xa0 ངོས་རེར་ནང་དོན་ངོས། 25\\xa0སྡོམ་4\\xa0\\xa0\\xa0\\xa0\\xa0མདུན་ངོས།\\xa0\\xa0上一页\\xa0\\xa0下一页\\xa0\\xa0尾页\\xa0\\xa0\\xa0\\xa0བསྒྱུར་ཐོན\\r\\n:第 1 页', 1]\n"
     ]
    },
    {
     "name": "stderr",
     "output_type": "stream",
     "text": [
      " 14%|█▍        | 8/58 [02:30<12:48, 15.38s/it]"
     ]
    },
    {
     "name": "stdout",
     "output_type": "stream",
     "text": [
      "['http://www.teducn.com/kecheng/kechengjiaofa/', 'བསླབ་གཞིའི་ཁྲིད་ཐབས།', 'ངོས་1/1\\xa0 ངོས་རེར་ནང་དོན་ངོས། 25\\xa0སྡོམ་3\\xa0\\xa0\\xa0\\xa0\\xa0མདུན་ངོས།\\xa0\\xa0上一页\\xa0\\xa0下一页\\xa0\\xa0尾页\\xa0\\xa0\\xa0\\xa0བསྒྱུར་ཐོན\\r\\n:第 1 页', 1]\n"
     ]
    },
    {
     "name": "stderr",
     "output_type": "stream",
     "text": [
      " 16%|█▌        | 9/58 [02:45<12:24, 15.19s/it]"
     ]
    },
    {
     "name": "stdout",
     "output_type": "stream",
     "text": [
      "['http://www.teducn.com/kecheng/kechengpinggu/', 'བསླབ་གཞིའི་གདེང་འཇོག', 'ངོས་1/1\\xa0 ངོས་རེར་ནང་དོན་ངོས། 25\\xa0སྡོམ་1\\xa0\\xa0\\xa0\\xa0\\xa0མདུན་ངོས།\\xa0\\xa0上一页\\xa0\\xa0下一页\\xa0\\xa0尾页\\xa0\\xa0\\xa0\\xa0བསྒྱུར་ཐོན\\r\\n:第 1 页', 1]\n"
     ]
    },
    {
     "name": "stderr",
     "output_type": "stream",
     "text": [
      " 17%|█▋        | 10/58 [03:52<24:49, 31.03s/it]"
     ]
    },
    {
     "name": "stdout",
     "output_type": "stream",
     "text": [
      "['http://www.teducn.com/kecheng/jiaochengzhengce/', 'བསླབ་གཞིའི་སྲིད་ཇུས།', 'ངོས་1/1\\xa0 ངོས་རེར་ནང་དོན་ངོས། 25\\xa0སྡོམ་1\\xa0\\xa0\\xa0\\xa0\\xa0མདུན་ངོས།\\xa0\\xa0上一页\\xa0\\xa0下一页\\xa0\\xa0尾页\\xa0\\xa0\\xa0\\xa0བསྒྱུར་ཐོན\\r\\n:第 1 页', 1]\n",
      "10\n"
     ]
    },
    {
     "name": "stderr",
     "output_type": "stream",
     "text": [
      " 19%|█▉        | 11/58 [04:10<21:20, 27.24s/it]"
     ]
    },
    {
     "name": "stdout",
     "output_type": "stream",
     "text": [
      "['http://www.teducn.com/xuekejiaoxue/jisuanji/', 'རྩིས་འཁོར།', 'ངོས་1/1\\xa0 ངོས་རེར་ནང་དོན་ངོས། 25\\xa0སྡོམ་1\\xa0\\xa0\\xa0\\xa0\\xa0མདུན་ངོས།\\xa0\\xa0上一页\\xa0\\xa0下一页\\xa0\\xa0尾页\\xa0\\xa0\\xa0\\xa0བསྒྱུར་ཐོན\\r\\n:第 1 页', 1]\n"
     ]
    },
    {
     "name": "stderr",
     "output_type": "stream",
     "text": [
      " 21%|██        | 12/58 [04:30<19:07, 24.95s/it]"
     ]
    },
    {
     "name": "stdout",
     "output_type": "stream",
     "text": [
      "['http://www.teducn.com/xuekejiaoxue/zangwen/', 'བོད་ཡིག', 'ངོས་1/1\\xa0 ངོས་རེར་ནང་དོན་ངོས། 25\\xa0སྡོམ་20\\xa0\\xa0\\xa0\\xa0\\xa0མདུན་ངོས།\\xa0\\xa0上一页\\xa0\\xa0下一页\\xa0\\xa0尾页\\xa0\\xa0\\xa0\\xa0བསྒྱུར་ཐོན\\r\\n:第 1 页', 1]\n"
     ]
    },
    {
     "name": "stderr",
     "output_type": "stream",
     "text": [
      " 22%|██▏       | 13/58 [04:46<16:43, 22.30s/it]"
     ]
    },
    {
     "name": "stdout",
     "output_type": "stream",
     "text": [
      "['http://www.teducn.com/chuantongjiaoyu/jiating/', 'ཁྱིམ་ཚང་སློབ་གསོ།', 'ངོས་1/4\\xa0 ངོས་རེར་ནང་དོན་ངོས། 25\\xa0སྡོམ་79\\xa0\\xa0\\xa0\\xa0\\xa0མདུན་ངོས།\\xa0\\xa0上一页下一页尾页བསྒྱུར་ཐོན\\r\\n:第 1 页第 2 页第 3 页第 4 页', 4]\n"
     ]
    },
    {
     "name": "stderr",
     "output_type": "stream",
     "text": [
      " 24%|██▍       | 14/58 [04:52<12:38, 17.25s/it]"
     ]
    },
    {
     "name": "stdout",
     "output_type": "stream",
     "text": [
      "['http://www.teducn.com/chuantongjiaoyu/siyuanjieshao/', 'དགོན་སྡེ་མཚམས་སྦྱོར།', 'ངོས་1/3\\xa0 ངོས་རེར་ནང་དོན་ངོས། 25\\xa0སྡོམ་75\\xa0\\xa0\\xa0\\xa0\\xa0མདུན་ངོས།\\xa0\\xa0上一页下一页尾页བསྒྱུར་ཐོན\\r\\n:第 1 页第 2 页第 3 页', 3]\n"
     ]
    },
    {
     "name": "stderr",
     "output_type": "stream",
     "text": [
      " 26%|██▌       | 15/58 [04:57<09:43, 13.57s/it]"
     ]
    },
    {
     "name": "stdout",
     "output_type": "stream",
     "text": [
      "['http://www.teducn.com/chuantongjiaoyu/chuantongxueke/', 'སྲོལ་རྒྱུན་རིག་ཚན།', 'ངོས་1/1\\xa0 ངོས་རེར་ནང་དོན་ངོས། 25\\xa0སྡོམ་12\\xa0\\xa0\\xa0\\xa0\\xa0མདུན་ངོས།\\xa0\\xa0上一页\\xa0\\xa0下一页\\xa0\\xa0尾页\\xa0\\xa0\\xa0\\xa0བསྒྱུར་ཐོན\\r\\n:第 1 页', 1]\n",
      "15\n"
     ]
    },
    {
     "name": "stderr",
     "output_type": "stream",
     "text": [
      " 28%|██▊       | 16/58 [05:03<07:50, 11.19s/it]"
     ]
    },
    {
     "name": "stdout",
     "output_type": "stream",
     "text": [
      "['http://www.teducn.com/chuantongjiaoyu/mingzhudaodu/', 'གསུང་རབ་བང་མཛོད།', 'ངོས་1/1\\xa0 ངོས་རེར་ནང་དོན་ངོས། 25\\xa0སྡོམ་7\\xa0\\xa0\\xa0\\xa0\\xa0མདུན་ངོས།\\xa0\\xa0上一页\\xa0\\xa0下一页\\xa0\\xa0尾页\\xa0\\xa0\\xa0\\xa0བསྒྱུར་ཐོན\\r\\n:第 1 页', 1]\n"
     ]
    },
    {
     "name": "stderr",
     "output_type": "stream",
     "text": [
      " 29%|██▉       | 17/58 [05:13<07:35, 11.10s/it]"
     ]
    },
    {
     "name": "stdout",
     "output_type": "stream",
     "text": [
      "['http://www.teducn.com/chuantongjiaoyu/jiaoyulishi/', 'སློབ་གསོའི་ལོ་རྒྱུས།', 'ངོས་1/1\\xa0 ངོས་རེར་ནང་དོན་ངོས། 25\\xa0སྡོམ་1\\xa0\\xa0\\xa0\\xa0\\xa0མདུན་ངོས།\\xa0\\xa0上一页\\xa0\\xa0下一页\\xa0\\xa0尾页\\xa0\\xa0\\xa0\\xa0བསྒྱུར་ཐོན\\r\\n:第 1 页', 1]\n"
     ]
    },
    {
     "name": "stderr",
     "output_type": "stream",
     "text": [
      " 31%|███       | 18/58 [05:20<06:31,  9.79s/it]"
     ]
    },
    {
     "name": "stdout",
     "output_type": "stream",
     "text": [
      "['http://www.teducn.com/chuantongjiaoyu/zongjiaowenhua/', 'ཆོས་ལུགས་རིག་གནས།', 'ངོས་1/4\\xa0 ངོས་རེར་ནང་དོན་ངོས། 25\\xa0སྡོམ་89\\xa0\\xa0\\xa0\\xa0\\xa0མདུན་ངོས།\\xa0\\xa0上一页下一页尾页བསྒྱུར་ཐོན\\r\\n:第 1 页第 2 页第 3 页第 4 页', 4]\n"
     ]
    },
    {
     "name": "stderr",
     "output_type": "stream",
     "text": [
      " 33%|███▎      | 19/58 [05:34<07:10, 11.04s/it]"
     ]
    },
    {
     "name": "stdout",
     "output_type": "stream",
     "text": [
      "['http://www.teducn.com/chuantongjiaoyu/fojiaopaibie/', 'ནང་བའི་གྲུབ་མཐའ།', 'ངོས་1/1\\xa0 ངོས་རེར་ནང་དོན་ངོས། 25\\xa0སྡོམ་25\\xa0\\xa0\\xa0\\xa0\\xa0མདུན་ངོས།\\xa0\\xa0上一页\\xa0\\xa0下一页\\xa0\\xa0尾页\\xa0\\xa0\\xa0\\xa0བསྒྱུར་ཐོན\\r\\n:第 1 页', 1]\n"
     ]
    },
    {
     "name": "stderr",
     "output_type": "stream",
     "text": [
      " 34%|███▍      | 20/58 [05:50<07:52, 12.43s/it]"
     ]
    },
    {
     "name": "stdout",
     "output_type": "stream",
     "text": [
      "['http://www.teducn.com/shuangyujiaoxue/shangyuke/', 'སྐད་གཉིས་གཞུང་ལུགས།', 'ངོས་1/1\\xa0 ངོས་རེར་ནང་དོན་ངོས། 25\\xa0སྡོམ་1\\xa0\\xa0\\xa0\\xa0\\xa0མདུན་ངོས།\\xa0\\xa0上一页\\xa0\\xa0下一页\\xa0\\xa0尾页\\xa0\\xa0\\xa0\\xa0བསྒྱུར་ཐོན\\r\\n:第 1 页', 1]\n",
      "20\n"
     ]
    },
    {
     "name": "stderr",
     "output_type": "stream",
     "text": [
      " 36%|███▌      | 21/58 [06:06<08:19, 13.49s/it]"
     ]
    },
    {
     "name": "stdout",
     "output_type": "stream",
     "text": [
      "['http://www.teducn.com/shuangyujiaoxue/shuangyulilun/', 'མིང་བརྡ་གཅིག་གྱུར།', 'ངོས་1/1\\xa0 ངོས་རེར་ནང་དོན་ངོས། 25\\xa0སྡོམ་1\\xa0\\xa0\\xa0\\xa0\\xa0མདུན་ངོས།\\xa0\\xa0上一页\\xa0\\xa0下一页\\xa0\\xa0尾页\\xa0\\xa0\\xa0\\xa0བསྒྱུར་ཐོན\\r\\n:第 1 页', 1]\n"
     ]
    },
    {
     "name": "stderr",
     "output_type": "stream",
     "text": [
      " 38%|███▊      | 22/58 [06:22<08:30, 14.17s/it]"
     ]
    },
    {
     "name": "stdout",
     "output_type": "stream",
     "text": [
      "['http://www.teducn.com/kechixu/linian/', 'སློབ་གསོའི་དགོངས་པ།', 'ངོས་1/1\\xa0 ངོས་རེར་ནང་དོན་ངོས། 25\\xa0སྡོམ་1\\xa0\\xa0\\xa0\\xa0\\xa0མདུན་ངོས།\\xa0\\xa0上一页\\xa0\\xa0下一页\\xa0\\xa0尾页\\xa0\\xa0\\xa0\\xa0བསྒྱུར་ཐོན\\r\\n:第 1 页', 1]\n"
     ]
    },
    {
     "name": "stderr",
     "output_type": "stream",
     "text": [
      " 40%|███▉      | 23/58 [06:38<08:41, 14.89s/it]"
     ]
    },
    {
     "name": "stdout",
     "output_type": "stream",
     "text": [
      "['http://www.teducn.com/kechixu/huanbao/', 'ཁོར་ཡུག་དང་སློབ་གསོ།', 'ངོས་1/1\\xa0 ངོས་རེར་ནང་དོན་ངོས། 25\\xa0སྡོམ་8\\xa0\\xa0\\xa0\\xa0\\xa0མདུན་ངོས།\\xa0\\xa0上一页\\xa0\\xa0下一页\\xa0\\xa0尾页\\xa0\\xa0\\xa0\\xa0བསྒྱུར་ཐོན\\r\\n:第 1 页', 1]\n"
     ]
    },
    {
     "name": "stderr",
     "output_type": "stream",
     "text": [
      " 41%|████▏     | 24/58 [07:05<10:26, 18.43s/it]"
     ]
    },
    {
     "name": "stdout",
     "output_type": "stream",
     "text": [
      "['http://www.teducn.com/kechixu/huanbaowenhua/', 'ཁོར་ཡུག་དང་རིག་གནས།', 'ངོས་1/1\\xa0 ངོས་རེར་ནང་དོན་ངོས། 25\\xa0སྡོམ་9\\xa0\\xa0\\xa0\\xa0\\xa0མདུན་ངོས།\\xa0\\xa0上一页\\xa0\\xa0下一页\\xa0\\xa0尾页\\xa0\\xa0\\xa0\\xa0བསྒྱུར་ཐོན\\r\\n:第 1 页', 1]\n"
     ]
    },
    {
     "name": "stderr",
     "output_type": "stream",
     "text": [
      " 43%|████▎     | 25/58 [07:20<09:40, 17.59s/it]"
     ]
    },
    {
     "name": "stdout",
     "output_type": "stream",
     "text": [
      "['http://www.teducn.com/kechixu/huanbaoshehui/', 'ཁོར་ཡུག་དང་སྤྱི་ཚོགས།', 'ངོས་1/1\\xa0 ངོས་རེར་ནང་དོན་ངོས། 25\\xa0སྡོམ་8\\xa0\\xa0\\xa0\\xa0\\xa0མདུན་ངོས།\\xa0\\xa0上一页\\xa0\\xa0下一页\\xa0\\xa0尾页\\xa0\\xa0\\xa0\\xa0བསྒྱུར་ཐོན\\r\\n:第 1 页', 1]\n",
      "25\n"
     ]
    },
    {
     "name": "stderr",
     "output_type": "stream",
     "text": [
      " 45%|████▍     | 26/58 [07:26<07:27, 13.99s/it]"
     ]
    },
    {
     "name": "stdout",
     "output_type": "stream",
     "text": [
      "['http://www.teducn.com/lilunyanjiu/jisuanji/', 'རྩིས་འཁོར།', 'ངོས་1/1\\xa0 ངོས་རེར་ནང་དོན་ངོས། 25\\xa0སྡོམ་1\\xa0\\xa0\\xa0\\xa0\\xa0མདུན་ངོས།\\xa0\\xa0上一页\\xa0\\xa0下一页\\xa0\\xa0尾页\\xa0\\xa0\\xa0\\xa0བསྒྱུར་ཐོན\\r\\n:第 1 页', 1]\n"
     ]
    },
    {
     "name": "stderr",
     "output_type": "stream",
     "text": [
      " 47%|████▋     | 27/58 [07:31<05:50, 11.30s/it]"
     ]
    },
    {
     "name": "stdout",
     "output_type": "stream",
     "text": [
      "['http://www.teducn.com/lilunyanjiu/zangwen/', 'བོད་ཡིག', 'ངོས་1/1\\xa0 ངོས་རེར་ནང་དོན་ངོས། 25\\xa0སྡོམ་11\\xa0\\xa0\\xa0\\xa0\\xa0མདུན་ངོས།\\xa0\\xa0上一页\\xa0\\xa0下一页\\xa0\\xa0尾页\\xa0\\xa0\\xa0\\xa0བསྒྱུར་ཐོན\\r\\n:第 1 页', 1]\n"
     ]
    },
    {
     "name": "stderr",
     "output_type": "stream",
     "text": [
      " 48%|████▊     | 28/58 [07:37<04:47,  9.60s/it]"
     ]
    },
    {
     "name": "stdout",
     "output_type": "stream",
     "text": [
      "['http://www.teducn.com/lilunyanjiu/yintimei/', 'རོལ་དབྱངས། ལུས་རྩལ། རི་མོ།', 'ངོས་1/1\\xa0 ངོས་རེར་ནང་དོན་ངོས། 25\\xa0སྡོམ་18\\xa0\\xa0\\xa0\\xa0\\xa0མདུན་ངོས།\\xa0\\xa0上一页\\xa0\\xa0下一页\\xa0\\xa0尾页\\xa0\\xa0\\xa0\\xa0བསྒྱུར་ཐོན\\r\\n:第 1 页', 1]\n"
     ]
    },
    {
     "name": "stderr",
     "output_type": "stream",
     "text": [
      " 50%|█████     | 29/58 [07:52<05:26, 11.28s/it]"
     ]
    },
    {
     "name": "stdout",
     "output_type": "stream",
     "text": [
      "['http://www.teducn.com/zhuanyeshuyu/wuli/', 'དངོས་ལུགས།', 'ངོས་1/1\\xa0 ངོས་རེར་ནང་དོན་ངོས། 25\\xa0སྡོམ་5\\xa0\\xa0\\xa0\\xa0\\xa0མདུན་ངོས།\\xa0\\xa0上一页\\xa0\\xa0下一页\\xa0\\xa0尾页\\xa0\\xa0\\xa0\\xa0བསྒྱུར་ཐོན\\r\\n:第 1 页', 1]\n"
     ]
    },
    {
     "name": "stderr",
     "output_type": "stream",
     "text": [
      " 52%|█████▏    | 30/58 [07:58<04:36,  9.86s/it]"
     ]
    },
    {
     "name": "stdout",
     "output_type": "stream",
     "text": [
      "['http://www.teducn.com/zhuanyeshuyu/shengwu/', 'སྐྱེ་དངོས།', 'ངོས་1/2\\xa0 ངོས་རེར་ནང་དོན་ངོས། 25\\xa0སྡོམ་40\\xa0\\xa0\\xa0\\xa0\\xa0མདུན་ངོས།\\xa0\\xa0上一页下一页尾页བསྒྱུར་ཐོན\\r\\n:第 1 页第 2 页', 2]\n",
      "30\n"
     ]
    },
    {
     "name": "stderr",
     "output_type": "stream",
     "text": [
      " 53%|█████▎    | 31/58 [08:13<05:02, 11.21s/it]"
     ]
    },
    {
     "name": "stdout",
     "output_type": "stream",
     "text": [
      "['http://www.teducn.com/zhuanyeshuyu/jisuanji/', 'རྩིས་འཁོར།', 'ངོས་1/1\\xa0 ངོས་རེར་ནང་དོན་ངོས། 25\\xa0སྡོམ་2\\xa0\\xa0\\xa0\\xa0\\xa0མདུན་ངོས།\\xa0\\xa0上一页\\xa0\\xa0下一页\\xa0\\xa0尾页\\xa0\\xa0\\xa0\\xa0བསྒྱུར་ཐོན\\r\\n:第 1 页', 1]\n"
     ]
    },
    {
     "name": "stderr",
     "output_type": "stream",
     "text": [
      " 55%|█████▌    | 32/58 [08:19<04:15,  9.84s/it]"
     ]
    },
    {
     "name": "stdout",
     "output_type": "stream",
     "text": [
      "['http://www.teducn.com/zhuanyeshuyu/zangwen/', 'བོད་ཡིག', 'ངོས་1/1\\xa0 ངོས་རེར་ནང་དོན་ངོས། 25\\xa0སྡོམ་1\\xa0\\xa0\\xa0\\xa0\\xa0མདུན་ངོས།\\xa0\\xa0上一页\\xa0\\xa0下一页\\xa0\\xa0尾页\\xa0\\xa0\\xa0\\xa0བསྒྱུར་ཐོན\\r\\n:第 1 页', 1]\n"
     ]
    },
    {
     "name": "stderr",
     "output_type": "stream",
     "text": [
      " 57%|█████▋    | 33/58 [08:23<03:22,  8.08s/it]"
     ]
    },
    {
     "name": "stdout",
     "output_type": "stream",
     "text": [
      "['http://www.teducn.com/zhuanyeshuyu/hanwen/', 'རྒྱ་ཡིག', 'ངོས་1/1\\xa0 ངོས་རེར་ནང་དོན་ངོས། 25\\xa0སྡོམ་13\\xa0\\xa0\\xa0\\xa0\\xa0མདུན་ངོས།\\xa0\\xa0上一页\\xa0\\xa0下一页\\xa0\\xa0尾页\\xa0\\xa0\\xa0\\xa0བསྒྱུར་ཐོན\\r\\n:第 1 页', 1]\n"
     ]
    },
    {
     "name": "stderr",
     "output_type": "stream",
     "text": [
      " 59%|█████▊    | 34/58 [08:33<03:24,  8.54s/it]"
     ]
    },
    {
     "name": "stdout",
     "output_type": "stream",
     "text": [
      "['http://www.teducn.com/zhuanyeshuyu/yintimei/', 'རོལ་དབྱངས། ལུས་རྩལ། རི་མོ།', 'ངོས་1/1\\xa0 ངོས་རེར་ནང་དོན་ངོས། 25\\xa0སྡོམ་4\\xa0\\xa0\\xa0\\xa0\\xa0མདུན་ངོས།\\xa0\\xa0上一页\\xa0\\xa0下一页\\xa0\\xa0尾页\\xa0\\xa0\\xa0\\xa0བསྒྱུར་ཐོན\\r\\n:第 1 页', 1]\n"
     ]
    },
    {
     "name": "stderr",
     "output_type": "stream",
     "text": [
      " 60%|██████    | 35/58 [08:44<03:33,  9.28s/it]"
     ]
    },
    {
     "name": "stdout",
     "output_type": "stream",
     "text": [
      "['http://www.teducn.com/xuexiaojieshao/daxue/', 'སློབ་ཆེན་སློབ་གྲྭ།', 'ངོས་1/1\\xa0 ངོས་རེར་ནང་དོན་ངོས། 25\\xa0སྡོམ་2\\xa0\\xa0\\xa0\\xa0\\xa0མདུན་ངོས།\\xa0\\xa0上一页\\xa0\\xa0下一页\\xa0\\xa0尾页\\xa0\\xa0\\xa0\\xa0བསྒྱུར་ཐོན\\r\\n:第 1 页', 1]\n",
      "35\n"
     ]
    },
    {
     "name": "stderr",
     "output_type": "stream",
     "text": [
      " 62%|██████▏   | 36/58 [08:50<02:59,  8.18s/it]"
     ]
    },
    {
     "name": "stdout",
     "output_type": "stream",
     "text": [
      "['http://www.teducn.com/xuexiaojieshao/zhongxue/', 'སློབ་འབྲིང་སློབ་གྲྭ།', 'ངོས་1/1\\xa0 ངོས་རེར་ནང་དོན་ངོས། 25\\xa0སྡོམ་1\\xa0\\xa0\\xa0\\xa0\\xa0མདུན་ངོས།\\xa0\\xa0上一页\\xa0\\xa0下一页\\xa0\\xa0尾页\\xa0\\xa0\\xa0\\xa0བསྒྱུར་ཐོན\\r\\n:第 1 页', 1]\n"
     ]
    },
    {
     "name": "stderr",
     "output_type": "stream",
     "text": [
      " 64%|██████▍   | 37/58 [09:05<03:34, 10.22s/it]"
     ]
    },
    {
     "name": "stdout",
     "output_type": "stream",
     "text": [
      "['http://www.teducn.com/xuexiaojieshao/xiaoxue/', 'སློབ་ཆུང་སློབ་གྲྭ།', 'ངོས་1/1\\xa0 ངོས་རེར་ནང་དོན་ངོས། 25\\xa0སྡོམ་2\\xa0\\xa0\\xa0\\xa0\\xa0མདུན་ངོས།\\xa0\\xa0上一页\\xa0\\xa0下一页\\xa0\\xa0尾页\\xa0\\xa0\\xa0\\xa0བསྒྱུར་ཐོན\\r\\n:第 1 页', 1]\n"
     ]
    },
    {
     "name": "stderr",
     "output_type": "stream",
     "text": [
      " 66%|██████▌   | 38/58 [09:14<03:22, 10.10s/it]"
     ]
    },
    {
     "name": "stdout",
     "output_type": "stream",
     "text": [
      "['http://www.teducn.com/renwu/dashihuicui/', 'མཁས་བའི་ཁྱུ་མཆོག', 'ངོས་1/10\\xa0 ངོས་རེར་ནང་དོན་ངོས། 25\\xa0སྡོམ་235\\xa0\\xa0\\xa0\\xa0\\xa0མདུན་ངོས།\\xa0\\xa0上一页下一页尾页བསྒྱུར་ཐོན\\r\\n:第 1 页第 2 页第 3 页第 4 页第 5 页第 6 页第 7 页第 8 页第 9 页第 10 页', 10]\n"
     ]
    },
    {
     "name": "stderr",
     "output_type": "stream",
     "text": [
      " 67%|██████▋   | 39/58 [09:25<03:15, 10.30s/it]"
     ]
    },
    {
     "name": "stdout",
     "output_type": "stream",
     "text": [
      "['http://www.teducn.com/renwu/xiandairenwu/', 'དེང་རབས་གྲགས་ཅན།', 'ངོས་1/1\\xa0 ངོས་རེར་ནང་དོན་ངོས། 25\\xa0སྡོམ་2\\xa0\\xa0\\xa0\\xa0\\xa0མདུན་ངོས།\\xa0\\xa0上一页\\xa0\\xa0下一页\\xa0\\xa0尾页\\xa0\\xa0\\xa0\\xa0བསྒྱུར་ཐོན\\r\\n:第 1 页', 1]\n"
     ]
    },
    {
     "name": "stderr",
     "output_type": "stream",
     "text": [
      " 69%|██████▉   | 40/58 [09:42<03:40, 12.27s/it]"
     ]
    },
    {
     "name": "stdout",
     "output_type": "stream",
     "text": [
      "['http://www.teducn.com/download/shuxue/', 'གྲངས་རིག་གི་སྐོར།', 'སྐད་རིགས།', 1]\n",
      "40\n"
     ]
    },
    {
     "name": "stderr",
     "output_type": "stream",
     "text": [
      " 71%|███████   | 41/58 [09:58<03:45, 13.27s/it]"
     ]
    },
    {
     "name": "stdout",
     "output_type": "stream",
     "text": [
      "['http://www.teducn.com/download/wuli/', 'དངོས་ལུགས་ཀྱི་སྐོར།', 'སྐད་རིགས།', 1]\n"
     ]
    },
    {
     "name": "stderr",
     "output_type": "stream",
     "text": [
      " 72%|███████▏  | 42/58 [10:03<02:55, 10.97s/it]"
     ]
    },
    {
     "name": "stdout",
     "output_type": "stream",
     "text": [
      "['http://www.teducn.com/download/jisuanji/', 'རྩིས་འཁོར་གྱི་སྐོར།', 'སྐད་རིགས།', 1]\n"
     ]
    },
    {
     "name": "stderr",
     "output_type": "stream",
     "text": [
      " 74%|███████▍  | 43/58 [10:20<03:09, 12.63s/it]"
     ]
    },
    {
     "name": "stdout",
     "output_type": "stream",
     "text": [
      "['http://www.teducn.com/download/zangwen/', 'བོད་ཡིག་གི་སྐོར།', 'སྐད་རིགས།', 1]\n"
     ]
    },
    {
     "name": "stderr",
     "output_type": "stream",
     "text": [
      " 76%|███████▌  | 44/58 [10:25<02:27, 10.53s/it]"
     ]
    },
    {
     "name": "stdout",
     "output_type": "stream",
     "text": [
      "['http://www.teducn.com/download/hanwen/', 'རྒྱ་ཡིག་གི་སྐོར།', 'སྐད་རིགས།', 1]\n"
     ]
    },
    {
     "name": "stderr",
     "output_type": "stream",
     "text": [
      " 78%|███████▊  | 45/58 [10:41<02:35, 11.96s/it]"
     ]
    },
    {
     "name": "stdout",
     "output_type": "stream",
     "text": [
      "['http://www.teducn.com/download/changyongruanjian/', 'རྒྱུན་བཀོལ་མཉེན་ཆས།', 'སྐད་རིགས།', 1]\n",
      "45\n"
     ]
    },
    {
     "name": "stderr",
     "output_type": "stream",
     "text": [
      " 79%|███████▉  | 46/58 [11:20<04:03, 20.30s/it]"
     ]
    },
    {
     "name": "stdout",
     "output_type": "stream",
     "text": [
      "['http://www.teducn.com/movie/shuxue/', 'གྲངས་རིག་གི་སྐོར།', 'ངོས་1/1\\xa0 ངོས་རེར་ནང་དོན་ངོས། 20\\xa0སྡོམ་3\\xa0\\xa0\\xa0\\xa0\\xa0མདུན་ངོས།\\xa0\\xa0上一页\\xa0\\xa0下一页\\xa0\\xa0尾页\\xa0\\xa0\\xa0\\xa0བསྒྱུར་ཐོན\\r\\n:第 1 页', 1]\n"
     ]
    },
    {
     "name": "stderr",
     "output_type": "stream",
     "text": [
      " 81%|████████  | 47/58 [12:36<06:46, 36.91s/it]"
     ]
    },
    {
     "name": "stdout",
     "output_type": "stream",
     "text": [
      "['http://www.teducn.com/movie/wuli/', 'དངོས་ལུགས་ཀྱི་སྐོར།', 'ངོས་1/1\\xa0 ངོས་རེར་ནང་དོན་ངོས། 20\\xa0སྡོམ་3\\xa0\\xa0\\xa0\\xa0\\xa0མདུན་ངོས།\\xa0\\xa0上一页\\xa0\\xa0下一页\\xa0\\xa0尾页\\xa0\\xa0\\xa0\\xa0བསྒྱུར་ཐོན\\r\\n:第 1 页', 1]\n"
     ]
    },
    {
     "name": "stderr",
     "output_type": "stream",
     "text": [
      " 83%|████████▎ | 48/58 [12:39<04:26, 26.69s/it]"
     ]
    },
    {
     "name": "stdout",
     "output_type": "stream",
     "text": [
      "['http://www.teducn.com/movie/yingyu/', 'དབྱིན་ཡིག་གི་སྐོར།', 'ངོས་1/1\\xa0 ངོས་རེར་ནང་དོན་ངོས། 20\\xa0སྡོམ་10\\xa0\\xa0\\xa0\\xa0\\xa0མདུན་ངོས།\\xa0\\xa0上一页\\xa0\\xa0下一页\\xa0\\xa0尾页\\xa0\\xa0\\xa0\\xa0བསྒྱུར་ཐོན\\r\\n:第 1 页', 1]\n"
     ]
    },
    {
     "name": "stderr",
     "output_type": "stream",
     "text": [
      " 84%|████████▍ | 49/58 [13:10<04:10, 27.87s/it]"
     ]
    },
    {
     "name": "stdout",
     "output_type": "stream",
     "text": [
      "Request failed: HTTPConnectionPool(host='www.teducn.com', port=80): Read timed out.\n",
      "['http://www.teducn.com/movie/zangwen/', 'བོད་ཡིག་གི་སྐོར།', 'no link last page link', 1]\n"
     ]
    },
    {
     "name": "stderr",
     "output_type": "stream",
     "text": [
      " 86%|████████▌ | 50/58 [13:48<04:08, 31.07s/it]"
     ]
    },
    {
     "name": "stdout",
     "output_type": "stream",
     "text": [
      "['http://www.teducn.com/movie/hanwen/', 'གཞན་དག', 'ངོས་1/1\\xa0 ངོས་རེར་ནང་དོན་ངོས། 25\\xa0སྡོམ་5\\xa0\\xa0\\xa0\\xa0\\xa0མདུན་ངོས།\\xa0\\xa0上一页\\xa0\\xa0下一页\\xa0\\xa0尾页\\xa0\\xa0\\xa0\\xa0བསྒྱུར་ཐོན\\r\\n:第 1 页', 1]\n",
      "50\n"
     ]
    },
    {
     "name": "stderr",
     "output_type": "stream",
     "text": [
      " 88%|████████▊ | 51/58 [14:05<03:07, 26.76s/it]"
     ]
    },
    {
     "name": "stdout",
     "output_type": "stream",
     "text": [
      "Request failed: HTTPConnectionPool(host='www.teducn.com', port=80): Read timed out.\n",
      "['http://www.teducn.com/movie/jisuanji/', 'རྩིས་འཁོར་གྱི་སྐོར།', 'no link last page link', 1]\n"
     ]
    },
    {
     "name": "stderr",
     "output_type": "stream",
     "text": [
      " 90%|████████▉ | 52/58 [15:41<04:44, 47.49s/it]"
     ]
    },
    {
     "name": "stdout",
     "output_type": "stream",
     "text": [
      "['http://www.teducn.com/movie/shengwu/', 'སྐྱེ་དངོས་ཀྱི་སྐོར།', 'ངོས་1/1\\xa0 ངོས་རེར་ནང་དོན་ངོས། 25\\xa0སྡོམ་1\\xa0\\xa0\\xa0\\xa0\\xa0མདུན་ངོས།\\xa0\\xa0上一页\\xa0\\xa0下一页\\xa0\\xa0尾页\\xa0\\xa0\\xa0\\xa0བསྒྱུར་ཐོན\\r\\n:第 1 页', 1]\n"
     ]
    },
    {
     "name": "stderr",
     "output_type": "stream",
     "text": [
      " 91%|█████████▏| 53/58 [16:32<04:03, 48.63s/it]"
     ]
    },
    {
     "name": "stdout",
     "output_type": "stream",
     "text": [
      "Request failed: HTTPConnectionPool(host='www.teducn.com', port=80): Read timed out.\n",
      "['http://www.teducn.com/movie/yintimei/', 'རོལ་དབྱངས། ལུས་རྩལ། རི་མོ།', 'no link last page link', 1]\n"
     ]
    },
    {
     "name": "stderr",
     "output_type": "stream",
     "text": [
      " 93%|█████████▎| 54/58 [18:15<04:19, 64.89s/it]"
     ]
    },
    {
     "name": "stdout",
     "output_type": "stream",
     "text": [
      "Request failed: HTTPConnectionPool(host='www.teducn.com', port=80): Max retries exceeded with url: /movie/ertongleyuan/ (Caused by ConnectTimeoutError(<urllib3.connection.HTTPConnection object at 0x7f50858d9c90>, 'Connection to www.teducn.com timed out. (connect timeout=10)'))\n",
      "['http://www.teducn.com/movie/ertongleyuan/', 'བྱིས་པའི་རྩེད་ར།', 'no link last page link', 1]\n"
     ]
    },
    {
     "name": "stderr",
     "output_type": "stream",
     "text": [
      " 95%|█████████▍| 55/58 [18:53<02:50, 56.78s/it]"
     ]
    },
    {
     "name": "stdout",
     "output_type": "stream",
     "text": [
      "Request failed: HTTPConnectionPool(host='www.teducn.com', port=80): Read timed out.\n",
      "['http://www.teducn.com/movie/gewuhaiyang/', 'གླུ་གར་གྱི་རྒྱ་མཚོ།', 'no link last page link', 1]\n",
      "55\n"
     ]
    },
    {
     "name": "stderr",
     "output_type": "stream",
     "text": [
      " 97%|█████████▋| 56/58 [19:35<01:44, 52.48s/it]"
     ]
    },
    {
     "name": "stdout",
     "output_type": "stream",
     "text": [
      "['http://www.teducn.com//qikan/zangzujiaoyu/', 'བོད་ཀྱི་སློབ་གསོ།', 'ངོས་1/7\\xa0 ངོས་རེར་ནང་དོན་ངོས། 10\\xa0སྡོམ་64\\xa0\\xa0\\xa0\\xa0\\xa0མདུན་ངོས།\\xa0\\xa0上一页下一页尾页བསྒྱུར་ཐོན\\r\\n:第 1 页第 2 页第 3 页第 4 页第 5 页第 6 页第 7 页', 7]\n"
     ]
    },
    {
     "name": "stderr",
     "output_type": "stream",
     "text": [
      " 98%|█████████▊| 57/58 [19:42<00:20, 20.75s/it]"
     ]
    },
    {
     "name": "stdout",
     "output_type": "stream",
     "text": [
      "['http://www.teducn.com//qikan/qunwentiandi/', 'མང་ཚོགས་སྒྱུ་རྩལ།', 'ངོས་1/1\\xa0 ངོས་རེར་ནང་དོན་ངོས། 25\\xa0སྡོམ་10\\xa0\\xa0\\xa0\\xa0\\xa0མདུན་ངོས།\\xa0\\xa0上一页\\xa0\\xa0下一页\\xa0\\xa0尾页\\xa0\\xa0\\xa0\\xa0བསྒྱུར་ཐོན\\r\\n:第 1 页', 1]\n"
     ]
    },
    {
     "name": "stderr",
     "output_type": "stream",
     "text": [
      "\n"
     ]
    },
    {
     "ename": "TypeError",
     "evalue": "tuple indices must be integers or slices, not str",
     "output_type": "error",
     "traceback": [
      "\u001b[0;31m---------------------------------------------------------------------------\u001b[0m",
      "\u001b[0;31mTypeError\u001b[0m                                 Traceback (most recent call last)",
      "Cell \u001b[0;32mIn[53], line 5\u001b[0m\n\u001b[1;32m      2\u001b[0m i \u001b[38;5;241m=\u001b[39m \u001b[38;5;241m0\u001b[39m\n\u001b[1;32m      3\u001b[0m \u001b[38;5;28;01mfor\u001b[39;00m each_link \u001b[38;5;129;01min\u001b[39;00m tqdm(new_categories):\n\u001b[1;32m      4\u001b[0m     \u001b[38;5;66;03m# print(each_link)\u001b[39;00m\n\u001b[0;32m----> 5\u001b[0m     link \u001b[38;5;241m=\u001b[39m \u001b[43meach_link\u001b[49m\u001b[43m[\u001b[49m\u001b[38;5;124;43m\"\u001b[39;49m\u001b[38;5;124;43mhref\u001b[39;49m\u001b[38;5;124;43m\"\u001b[39;49m\u001b[43m]\u001b[49m\n\u001b[1;32m      6\u001b[0m     text \u001b[38;5;241m=\u001b[39m each_link[\u001b[38;5;124m\"\u001b[39m\u001b[38;5;124mtext\u001b[39m\u001b[38;5;124m\"\u001b[39m]\n\u001b[1;32m      8\u001b[0m     page_no \u001b[38;5;241m=\u001b[39m get_page_no(link)\n",
      "\u001b[0;31mTypeError\u001b[0m: tuple indices must be integers or slices, not str"
     ]
    }
   ],
   "source": [
    "final_link = []\n",
    "i = 0\n",
    "for each_link in tqdm(new_categories):\n",
    "    # print(each_link)\n",
    "    link = each_link[\"href\"]\n",
    "    text = each_link[\"text\"]\n",
    "    \n",
    "    page_no = get_page_no(link)\n",
    "    clean_list = []\n",
    "    clean_list.append(link)\n",
    "    clean_list.append(text)\n",
    "    # print(clean_list)\n",
    "    \n",
    "    if page_no is not None:\n",
    "        clean_list.extend(page_no)\n",
    "        final_link.append(clean_list)\n",
    "        print(final_link[-1])\n",
    "    i = i+1\n",
    "    if i%5 == 0:\n",
    "        print(i)\n"
   ]
  },
  {
   "cell_type": "code",
   "execution_count": 54,
   "id": "d9cb015a-793e-4c47-a5f8-827d6bbaf00b",
   "metadata": {},
   "outputs": [
    {
     "data": {
      "text/plain": [
       "[['http://www.teducn.com/news/jiaoyu/',\n",
       "  'སློབ་གསོ་གསར་འགྱུར།',\n",
       "  'ངོས་1/1\\xa0 ངོས་རེར་ནང་དོན་ངོས། 25\\xa0སྡོམ་18\\xa0\\xa0\\xa0\\xa0\\xa0མདུན་ངོས།\\xa0\\xa0上一页\\xa0\\xa0下一页\\xa0\\xa0尾页\\xa0\\xa0\\xa0\\xa0བསྒྱུར་ཐོན\\r\\n:第 1 页',\n",
       "  1],\n",
       " ['http://www.teducn.com/news/xiaoyuan/',\n",
       "  'སློབ་རའི་གསར་འགྱུར།',\n",
       "  'ངོས་1/1\\xa0 ངོས་རེར་ནང་དོན་ངོས། 25\\xa0སྡོམ་7\\xa0\\xa0\\xa0\\xa0\\xa0མདུན་ངོས།\\xa0\\xa0上一页\\xa0\\xa0下一页\\xa0\\xa0尾页\\xa0\\xa0\\xa0\\xa0བསྒྱུར་ཐོན\\r\\n:第 1 页',\n",
       "  1],\n",
       " ['http://www.teducn.com/fagui/minzuzhengce/',\n",
       "  'མི་རིགས་སྲིད་ཇུས།',\n",
       "  'ངོས་1/1\\xa0 ངོས་རེར་ནང་དོན་ངོས། 25\\xa0སྡོམ་2\\xa0\\xa0\\xa0\\xa0\\xa0མདུན་ངོས།\\xa0\\xa0上一页\\xa0\\xa0下一页\\xa0\\xa0尾页\\xa0\\xa0\\xa0\\xa0བསྒྱུར་ཐོན\\r\\n:第 1 页',\n",
       "  1],\n",
       " ['http://www.teducn.com/fagui/difangfagui/',\n",
       "  'ས་གནས་བཅའ་ཁྲིམས།',\n",
       "  'ངོས་1/1\\xa0 ངོས་རེར་ནང་དོན་ངོས། 25\\xa0སྡོམ་7\\xa0\\xa0\\xa0\\xa0\\xa0མདུན་ངོས།\\xa0\\xa0上一页\\xa0\\xa0下一页\\xa0\\xa0尾页\\xa0\\xa0\\xa0\\xa0བསྒྱུར་ཐོན\\r\\n:第 1 页',\n",
       "  1],\n",
       " ['http://www.teducn.com/cidian/ruanjian/',\n",
       "  'སྙི་ཆས་གྱི་སྐོར།',\n",
       "  'སྐད་རིགས།',\n",
       "  1],\n",
       " ['http://www.teducn.com/cidian/PDF/', 'PDFགྱི་སྐོར།', 'སྐད་རིགས།', 1],\n",
       " ['http://www.teducn.com/kecheng/kechengjiaocai/',\n",
       "  'བསླབ་གཞིའི་སློབ་དེབ།',\n",
       "  'ངོས་1/1\\xa0 ངོས་རེར་ནང་དོན་ངོས། 25\\xa0སྡོམ་4\\xa0\\xa0\\xa0\\xa0\\xa0མདུན་ངོས།\\xa0\\xa0上一页\\xa0\\xa0下一页\\xa0\\xa0尾页\\xa0\\xa0\\xa0\\xa0བསྒྱུར་ཐོན\\r\\n:第 1 页',\n",
       "  1],\n",
       " ['http://www.teducn.com/kecheng/kechengjiaofa/',\n",
       "  'བསླབ་གཞིའི་ཁྲིད་ཐབས།',\n",
       "  'ངོས་1/1\\xa0 ངོས་རེར་ནང་དོན་ངོས། 25\\xa0སྡོམ་3\\xa0\\xa0\\xa0\\xa0\\xa0མདུན་ངོས།\\xa0\\xa0上一页\\xa0\\xa0下一页\\xa0\\xa0尾页\\xa0\\xa0\\xa0\\xa0བསྒྱུར་ཐོན\\r\\n:第 1 页',\n",
       "  1],\n",
       " ['http://www.teducn.com/kecheng/kechengpinggu/',\n",
       "  'བསླབ་གཞིའི་གདེང་འཇོག',\n",
       "  'ངོས་1/1\\xa0 ངོས་རེར་ནང་དོན་ངོས། 25\\xa0སྡོམ་1\\xa0\\xa0\\xa0\\xa0\\xa0མདུན་ངོས།\\xa0\\xa0上一页\\xa0\\xa0下一页\\xa0\\xa0尾页\\xa0\\xa0\\xa0\\xa0བསྒྱུར་ཐོན\\r\\n:第 1 页',\n",
       "  1],\n",
       " ['http://www.teducn.com/kecheng/jiaochengzhengce/',\n",
       "  'བསླབ་གཞིའི་སྲིད་ཇུས།',\n",
       "  'ངོས་1/1\\xa0 ངོས་རེར་ནང་དོན་ངོས། 25\\xa0སྡོམ་1\\xa0\\xa0\\xa0\\xa0\\xa0མདུན་ངོས།\\xa0\\xa0上一页\\xa0\\xa0下一页\\xa0\\xa0尾页\\xa0\\xa0\\xa0\\xa0བསྒྱུར་ཐོན\\r\\n:第 1 页',\n",
       "  1]]"
      ]
     },
     "execution_count": 54,
     "metadata": {},
     "output_type": "execute_result"
    }
   ],
   "source": [
    "final_link[:10]"
   ]
  },
  {
   "cell_type": "code",
   "execution_count": null,
   "id": "99eaa940-3e9f-4242-8fb4-5eddf762c916",
   "metadata": {},
   "outputs": [],
   "source": []
  },
  {
   "cell_type": "code",
   "execution_count": 55,
   "id": "b3cd8de9-dce3-43d4-9bf1-5fe4f55316df",
   "metadata": {},
   "outputs": [],
   "source": [
    "import pandas as pd"
   ]
  },
  {
   "cell_type": "code",
   "execution_count": 56,
   "id": "2fa6a92b-8907-4222-b860-e5275ef8759f",
   "metadata": {},
   "outputs": [
    {
     "data": {
      "text/html": [
       "<div>\n",
       "<style scoped>\n",
       "    .dataframe tbody tr th:only-of-type {\n",
       "        vertical-align: middle;\n",
       "    }\n",
       "\n",
       "    .dataframe tbody tr th {\n",
       "        vertical-align: top;\n",
       "    }\n",
       "\n",
       "    .dataframe thead th {\n",
       "        text-align: right;\n",
       "    }\n",
       "</style>\n",
       "<table border=\"1\" class=\"dataframe\">\n",
       "  <thead>\n",
       "    <tr style=\"text-align: right;\">\n",
       "      <th></th>\n",
       "      <th>original_url</th>\n",
       "      <th>name_of_cate</th>\n",
       "      <th>Last_page_link</th>\n",
       "      <th>list_page_no</th>\n",
       "    </tr>\n",
       "  </thead>\n",
       "  <tbody>\n",
       "    <tr>\n",
       "      <th>0</th>\n",
       "      <td>http://www.teducn.com/news/jiaoyu/</td>\n",
       "      <td>སློབ་གསོ་གསར་འགྱུར།</td>\n",
       "      <td>ངོས་1/1  ངོས་རེར་ནང་དོན་ངོས། 25 སྡོམ་18     མད...</td>\n",
       "      <td>1</td>\n",
       "    </tr>\n",
       "    <tr>\n",
       "      <th>1</th>\n",
       "      <td>http://www.teducn.com/news/xiaoyuan/</td>\n",
       "      <td>སློབ་རའི་གསར་འགྱུར།</td>\n",
       "      <td>ངོས་1/1  ངོས་རེར་ནང་དོན་ངོས། 25 སྡོམ་7     མདུ...</td>\n",
       "      <td>1</td>\n",
       "    </tr>\n",
       "    <tr>\n",
       "      <th>2</th>\n",
       "      <td>http://www.teducn.com/fagui/minzuzhengce/</td>\n",
       "      <td>མི་རིགས་སྲིད་ཇུས།</td>\n",
       "      <td>ངོས་1/1  ངོས་རེར་ནང་དོན་ངོས། 25 སྡོམ་2     མདུ...</td>\n",
       "      <td>1</td>\n",
       "    </tr>\n",
       "    <tr>\n",
       "      <th>3</th>\n",
       "      <td>http://www.teducn.com/fagui/difangfagui/</td>\n",
       "      <td>ས་གནས་བཅའ་ཁྲིམས།</td>\n",
       "      <td>ངོས་1/1  ངོས་རེར་ནང་དོན་ངོས། 25 སྡོམ་7     མདུ...</td>\n",
       "      <td>1</td>\n",
       "    </tr>\n",
       "    <tr>\n",
       "      <th>4</th>\n",
       "      <td>http://www.teducn.com/cidian/ruanjian/</td>\n",
       "      <td>སྙི་ཆས་གྱི་སྐོར།</td>\n",
       "      <td>སྐད་རིགས།</td>\n",
       "      <td>1</td>\n",
       "    </tr>\n",
       "  </tbody>\n",
       "</table>\n",
       "</div>"
      ],
      "text/plain": [
       "                                original_url         name_of_cate  \\\n",
       "0         http://www.teducn.com/news/jiaoyu/  སློབ་གསོ་གསར་འགྱུར།   \n",
       "1       http://www.teducn.com/news/xiaoyuan/  སློབ་རའི་གསར་འགྱུར།   \n",
       "2  http://www.teducn.com/fagui/minzuzhengce/    མི་རིགས་སྲིད་ཇུས།   \n",
       "3   http://www.teducn.com/fagui/difangfagui/     ས་གནས་བཅའ་ཁྲིམས།   \n",
       "4     http://www.teducn.com/cidian/ruanjian/     སྙི་ཆས་གྱི་སྐོར།   \n",
       "\n",
       "                                      Last_page_link  list_page_no  \n",
       "0  ངོས་1/1  ངོས་རེར་ནང་དོན་ངོས། 25 སྡོམ་18     མད...             1  \n",
       "1  ངོས་1/1  ངོས་རེར་ནང་དོན་ངོས། 25 སྡོམ་7     མདུ...             1  \n",
       "2  ངོས་1/1  ངོས་རེར་ནང་དོན་ངོས། 25 སྡོམ་2     མདུ...             1  \n",
       "3  ངོས་1/1  ངོས་རེར་ནང་དོན་ངོས། 25 སྡོམ་7     མདུ...             1  \n",
       "4                                          སྐད་རིགས།             1  "
      ]
     },
     "execution_count": 56,
     "metadata": {},
     "output_type": "execute_result"
    }
   ],
   "source": [
    "df = pd.DataFrame(final_link, columns=['original_url', 'name_of_cate', 'Last_page_link', 'list_page_no'])\n",
    "df.head()"
   ]
  },
  {
   "cell_type": "code",
   "execution_count": 57,
   "id": "eb2e841b-1fa8-411d-8b77-a640bbba3ad5",
   "metadata": {},
   "outputs": [
    {
     "data": {
      "text/html": [
       "<div>\n",
       "<style scoped>\n",
       "    .dataframe tbody tr th:only-of-type {\n",
       "        vertical-align: middle;\n",
       "    }\n",
       "\n",
       "    .dataframe tbody tr th {\n",
       "        vertical-align: top;\n",
       "    }\n",
       "\n",
       "    .dataframe thead th {\n",
       "        text-align: right;\n",
       "    }\n",
       "</style>\n",
       "<table border=\"1\" class=\"dataframe\">\n",
       "  <thead>\n",
       "    <tr style=\"text-align: right;\">\n",
       "      <th></th>\n",
       "      <th>original_url</th>\n",
       "      <th>name_of_cate</th>\n",
       "      <th>Last_page_link</th>\n",
       "      <th>list_page_no</th>\n",
       "    </tr>\n",
       "  </thead>\n",
       "  <tbody>\n",
       "    <tr>\n",
       "      <th>48</th>\n",
       "      <td>http://www.teducn.com/movie/zangwen/</td>\n",
       "      <td>བོད་ཡིག་གི་སྐོར།</td>\n",
       "      <td>no link last page link</td>\n",
       "      <td>1</td>\n",
       "    </tr>\n",
       "    <tr>\n",
       "      <th>50</th>\n",
       "      <td>http://www.teducn.com/movie/jisuanji/</td>\n",
       "      <td>རྩིས་འཁོར་གྱི་སྐོར།</td>\n",
       "      <td>no link last page link</td>\n",
       "      <td>1</td>\n",
       "    </tr>\n",
       "    <tr>\n",
       "      <th>52</th>\n",
       "      <td>http://www.teducn.com/movie/yintimei/</td>\n",
       "      <td>རོལ་དབྱངས། ལུས་རྩལ། རི་མོ།</td>\n",
       "      <td>no link last page link</td>\n",
       "      <td>1</td>\n",
       "    </tr>\n",
       "    <tr>\n",
       "      <th>53</th>\n",
       "      <td>http://www.teducn.com/movie/ertongleyuan/</td>\n",
       "      <td>བྱིས་པའི་རྩེད་ར།</td>\n",
       "      <td>no link last page link</td>\n",
       "      <td>1</td>\n",
       "    </tr>\n",
       "    <tr>\n",
       "      <th>54</th>\n",
       "      <td>http://www.teducn.com/movie/gewuhaiyang/</td>\n",
       "      <td>གླུ་གར་གྱི་རྒྱ་མཚོ།</td>\n",
       "      <td>no link last page link</td>\n",
       "      <td>1</td>\n",
       "    </tr>\n",
       "  </tbody>\n",
       "</table>\n",
       "</div>"
      ],
      "text/plain": [
       "                                 original_url                name_of_cate  \\\n",
       "48       http://www.teducn.com/movie/zangwen/            བོད་ཡིག་གི་སྐོར།   \n",
       "50      http://www.teducn.com/movie/jisuanji/         རྩིས་འཁོར་གྱི་སྐོར།   \n",
       "52      http://www.teducn.com/movie/yintimei/  རོལ་དབྱངས། ལུས་རྩལ། རི་མོ།   \n",
       "53  http://www.teducn.com/movie/ertongleyuan/            བྱིས་པའི་རྩེད་ར།   \n",
       "54   http://www.teducn.com/movie/gewuhaiyang/         གླུ་གར་གྱི་རྒྱ་མཚོ།   \n",
       "\n",
       "            Last_page_link  list_page_no  \n",
       "48  no link last page link             1  \n",
       "50  no link last page link             1  \n",
       "52  no link last page link             1  \n",
       "53  no link last page link             1  \n",
       "54  no link last page link             1  "
      ]
     },
     "execution_count": 57,
     "metadata": {},
     "output_type": "execute_result"
    }
   ],
   "source": [
    "remaning_links_df = df.loc[df.Last_page_link == \"no link last page link\"]\n",
    "remaning_links_df.head()"
   ]
  },
  {
   "cell_type": "code",
   "execution_count": null,
   "id": "02713225-cc56-420c-94fe-d97dde7a4cc3",
   "metadata": {},
   "outputs": [],
   "source": []
  },
  {
   "cell_type": "code",
   "execution_count": 59,
   "id": "7a9dddfc-9d54-4c6f-9457-a0ca703d678f",
   "metadata": {},
   "outputs": [],
   "source": [
    "df.to_csv(\"./data/All_cate.csv\", index=False)"
   ]
  },
  {
   "cell_type": "code",
   "execution_count": 60,
   "id": "b8ece6f1-8be4-45ac-bd8b-e65ed382227f",
   "metadata": {},
   "outputs": [
    {
     "data": {
      "text/plain": [
       "(57, 4)"
      ]
     },
     "execution_count": 60,
     "metadata": {},
     "output_type": "execute_result"
    }
   ],
   "source": [
    "df.shape"
   ]
  },
  {
   "cell_type": "code",
   "execution_count": 63,
   "id": "2e51ea1d-e3ae-46a0-854e-bfa98abf2aec",
   "metadata": {
    "scrolled": true
   },
   "outputs": [
    {
     "data": {
      "text/plain": [
       "47"
      ]
     },
     "execution_count": 63,
     "metadata": {},
     "output_type": "execute_result"
    }
   ],
   "source": [
    "len(df.name_of_cate.unique())"
   ]
  },
  {
   "cell_type": "code",
   "execution_count": 64,
   "id": "38ce0fac-4f64-4253-831f-fd273055671a",
   "metadata": {},
   "outputs": [],
   "source": [
    "import pandas as pd\n",
    "\n",
    "# Assuming you already have a DataFrame named 'df' with the columns mentioned\n",
    "# If not, you would first create it from your data source\n",
    "\n",
    "# Sort the DataFrame by 'name_of_cate' and 'list_page_no' in descending order\n",
    "df_sorted = df.sort_values(['name_of_cate', 'list_page_no'], ascending=[True, False])\n",
    "\n",
    "# Drop duplicates, keeping the first occurrence (which will be the one with the highest list_page_no)\n",
    "df_deduplicated = df_sorted.drop_duplicates(subset='name_of_cate', keep='first')\n",
    "\n",
    "# Reset the index if needed\n",
    "df_deduplicated = df_deduplicated.reset_index(drop=True)\n",
    "\n",
    "# Now df_deduplicated contains only unique name_of_cate entries with the highest list_page_no"
   ]
  },
  {
   "cell_type": "code",
   "execution_count": 65,
   "id": "c2e0d14b-a014-42f0-8019-873f883e1458",
   "metadata": {
    "scrolled": true
   },
   "outputs": [
    {
     "data": {
      "text/html": [
       "<div>\n",
       "<style scoped>\n",
       "    .dataframe tbody tr th:only-of-type {\n",
       "        vertical-align: middle;\n",
       "    }\n",
       "\n",
       "    .dataframe tbody tr th {\n",
       "        vertical-align: top;\n",
       "    }\n",
       "\n",
       "    .dataframe thead th {\n",
       "        text-align: right;\n",
       "    }\n",
       "</style>\n",
       "<table border=\"1\" class=\"dataframe\">\n",
       "  <thead>\n",
       "    <tr style=\"text-align: right;\">\n",
       "      <th></th>\n",
       "      <th>original_url</th>\n",
       "      <th>name_of_cate</th>\n",
       "      <th>Last_page_link</th>\n",
       "      <th>list_page_no</th>\n",
       "    </tr>\n",
       "  </thead>\n",
       "  <tbody>\n",
       "    <tr>\n",
       "      <th>0</th>\n",
       "      <td>http://www.teducn.com/cidian/PDF/</td>\n",
       "      <td>PDFགྱི་སྐོར།</td>\n",
       "      <td>སྐད་རིགས།</td>\n",
       "      <td>1</td>\n",
       "    </tr>\n",
       "    <tr>\n",
       "      <th>1</th>\n",
       "      <td>http://www.teducn.com/kechixu/huanbaowenhua/</td>\n",
       "      <td>ཁོར་ཡུག་དང་རིག་གནས།</td>\n",
       "      <td>ངོས་1/1  ངོས་རེར་ནང་དོན་ངོས། 25 སྡོམ་9     མདུ...</td>\n",
       "      <td>1</td>\n",
       "    </tr>\n",
       "    <tr>\n",
       "      <th>2</th>\n",
       "      <td>http://www.teducn.com/kechixu/huanbaoshehui/</td>\n",
       "      <td>ཁོར་ཡུག་དང་སྤྱི་ཚོགས།</td>\n",
       "      <td>ངོས་1/1  ངོས་རེར་ནང་དོན་ངོས། 25 སྡོམ་8     མདུ...</td>\n",
       "      <td>1</td>\n",
       "    </tr>\n",
       "    <tr>\n",
       "      <th>3</th>\n",
       "      <td>http://www.teducn.com/kechixu/huanbao/</td>\n",
       "      <td>ཁོར་ཡུག་དང་སློབ་གསོ།</td>\n",
       "      <td>ངོས་1/1  ངོས་རེར་ནང་དོན་ངོས། 25 སྡོམ་8     མདུ...</td>\n",
       "      <td>1</td>\n",
       "    </tr>\n",
       "    <tr>\n",
       "      <th>4</th>\n",
       "      <td>http://www.teducn.com/chuantongjiaoyu/jiating/</td>\n",
       "      <td>ཁྱིམ་ཚང་སློབ་གསོ།</td>\n",
       "      <td>ངོས་1/4  ངོས་རེར་ནང་དོན་ངོས། 25 སྡོམ་79     མད...</td>\n",
       "      <td>4</td>\n",
       "    </tr>\n",
       "    <tr>\n",
       "      <th>5</th>\n",
       "      <td>http://www.teducn.com/movie/hanwen/</td>\n",
       "      <td>གཞན་དག</td>\n",
       "      <td>ངོས་1/1  ངོས་རེར་ནང་དོན་ངོས། 25 སྡོམ་5     མདུ...</td>\n",
       "      <td>1</td>\n",
       "    </tr>\n",
       "    <tr>\n",
       "      <th>6</th>\n",
       "      <td>http://www.teducn.com/chuantongjiaoyu/mingzhud...</td>\n",
       "      <td>གསུང་རབ་བང་མཛོད།</td>\n",
       "      <td>ངོས་1/1  ངོས་རེར་ནང་དོན་ངོས། 25 སྡོམ་7     མདུ...</td>\n",
       "      <td>1</td>\n",
       "    </tr>\n",
       "    <tr>\n",
       "      <th>7</th>\n",
       "      <td>http://www.teducn.com/download/shuxue/</td>\n",
       "      <td>གྲངས་རིག་གི་སྐོར།</td>\n",
       "      <td>སྐད་རིགས།</td>\n",
       "      <td>1</td>\n",
       "    </tr>\n",
       "    <tr>\n",
       "      <th>8</th>\n",
       "      <td>http://www.teducn.com/movie/gewuhaiyang/</td>\n",
       "      <td>གླུ་གར་གྱི་རྒྱ་མཚོ།</td>\n",
       "      <td>no link last page link</td>\n",
       "      <td>1</td>\n",
       "    </tr>\n",
       "    <tr>\n",
       "      <th>9</th>\n",
       "      <td>http://www.teducn.com/chuantongjiaoyu/zongjiao...</td>\n",
       "      <td>ཆོས་ལུགས་རིག་གནས།</td>\n",
       "      <td>ངོས་1/4  ངོས་རེར་ནང་དོན་ངོས། 25 སྡོམ་89     མད...</td>\n",
       "      <td>4</td>\n",
       "    </tr>\n",
       "    <tr>\n",
       "      <th>10</th>\n",
       "      <td>http://www.teducn.com/chuantongjiaoyu/siyuanji...</td>\n",
       "      <td>དགོན་སྡེ་མཚམས་སྦྱོར།</td>\n",
       "      <td>ངོས་1/3  ངོས་རེར་ནང་དོན་ངོས། 25 སྡོམ་75     མད...</td>\n",
       "      <td>3</td>\n",
       "    </tr>\n",
       "    <tr>\n",
       "      <th>11</th>\n",
       "      <td>http://www.teducn.com/download/wuli/</td>\n",
       "      <td>དངོས་ལུགས་ཀྱི་སྐོར།</td>\n",
       "      <td>སྐད་རིགས།</td>\n",
       "      <td>1</td>\n",
       "    </tr>\n",
       "    <tr>\n",
       "      <th>12</th>\n",
       "      <td>http://www.teducn.com/zhuanyeshuyu/wuli/</td>\n",
       "      <td>དངོས་ལུགས།</td>\n",
       "      <td>ངོས་1/1  ངོས་རེར་ནང་དོན་ངོས། 25 སྡོམ་5     མདུ...</td>\n",
       "      <td>1</td>\n",
       "    </tr>\n",
       "    <tr>\n",
       "      <th>13</th>\n",
       "      <td>http://www.teducn.com/movie/yingyu/</td>\n",
       "      <td>དབྱིན་ཡིག་གི་སྐོར།</td>\n",
       "      <td>ངོས་1/1  ངོས་རེར་ནང་དོན་ངོས། 20 སྡོམ་10     མད...</td>\n",
       "      <td>1</td>\n",
       "    </tr>\n",
       "    <tr>\n",
       "      <th>14</th>\n",
       "      <td>http://www.teducn.com/renwu/xiandairenwu/</td>\n",
       "      <td>དེང་རབས་གྲགས་ཅན།</td>\n",
       "      <td>ངོས་1/1  ངོས་རེར་ནང་དོན་ངོས། 25 སྡོམ་2     མདུ...</td>\n",
       "      <td>1</td>\n",
       "    </tr>\n",
       "    <tr>\n",
       "      <th>15</th>\n",
       "      <td>http://www.teducn.com/chuantongjiaoyu/fojiaopa...</td>\n",
       "      <td>ནང་བའི་གྲུབ་མཐའ།</td>\n",
       "      <td>ངོས་1/1  ངོས་རེར་ནང་དོན་ངོས། 25 སྡོམ་25     མད...</td>\n",
       "      <td>1</td>\n",
       "    </tr>\n",
       "    <tr>\n",
       "      <th>16</th>\n",
       "      <td>http://www.teducn.com/kecheng/kechengjiaofa/</td>\n",
       "      <td>བསླབ་གཞིའི་ཁྲིད་ཐབས།</td>\n",
       "      <td>ངོས་1/1  ངོས་རེར་ནང་དོན་ངོས། 25 སྡོམ་3     མདུ...</td>\n",
       "      <td>1</td>\n",
       "    </tr>\n",
       "    <tr>\n",
       "      <th>17</th>\n",
       "      <td>http://www.teducn.com/kecheng/kechengpinggu/</td>\n",
       "      <td>བསླབ་གཞིའི་གདེང་འཇོག</td>\n",
       "      <td>ངོས་1/1  ངོས་རེར་ནང་དོན་ངོས། 25 སྡོམ་1     མདུ...</td>\n",
       "      <td>1</td>\n",
       "    </tr>\n",
       "    <tr>\n",
       "      <th>18</th>\n",
       "      <td>http://www.teducn.com/kecheng/jiaochengzhengce/</td>\n",
       "      <td>བསླབ་གཞིའི་སྲིད་ཇུས།</td>\n",
       "      <td>ངོས་1/1  ངོས་རེར་ནང་དོན་ངོས། 25 སྡོམ་1     མདུ...</td>\n",
       "      <td>1</td>\n",
       "    </tr>\n",
       "    <tr>\n",
       "      <th>19</th>\n",
       "      <td>http://www.teducn.com/kecheng/kechengjiaocai/</td>\n",
       "      <td>བསླབ་གཞིའི་སློབ་དེབ།</td>\n",
       "      <td>ངོས་1/1  ངོས་རེར་ནང་དོན་ངོས། 25 སྡོམ་4     མདུ...</td>\n",
       "      <td>1</td>\n",
       "    </tr>\n",
       "    <tr>\n",
       "      <th>20</th>\n",
       "      <td>http://www.teducn.com//qikan/zangzujiaoyu/</td>\n",
       "      <td>བོད་ཀྱི་སློབ་གསོ།</td>\n",
       "      <td>ངོས་1/7  ངོས་རེར་ནང་དོན་ངོས། 10 སྡོམ་64     མད...</td>\n",
       "      <td>7</td>\n",
       "    </tr>\n",
       "    <tr>\n",
       "      <th>21</th>\n",
       "      <td>http://www.teducn.com/xuekejiaoxue/zangwen/</td>\n",
       "      <td>བོད་ཡིག</td>\n",
       "      <td>ངོས་1/1  ངོས་རེར་ནང་དོན་ངོས། 25 སྡོམ་20     མད...</td>\n",
       "      <td>1</td>\n",
       "    </tr>\n",
       "    <tr>\n",
       "      <th>22</th>\n",
       "      <td>http://www.teducn.com/download/zangwen/</td>\n",
       "      <td>བོད་ཡིག་གི་སྐོར།</td>\n",
       "      <td>སྐད་རིགས།</td>\n",
       "      <td>1</td>\n",
       "    </tr>\n",
       "    <tr>\n",
       "      <th>23</th>\n",
       "      <td>http://www.teducn.com/movie/ertongleyuan/</td>\n",
       "      <td>བྱིས་པའི་རྩེད་ར།</td>\n",
       "      <td>no link last page link</td>\n",
       "      <td>1</td>\n",
       "    </tr>\n",
       "    <tr>\n",
       "      <th>24</th>\n",
       "      <td>http://www.teducn.com/renwu/dashihuicui/</td>\n",
       "      <td>མཁས་བའི་ཁྱུ་མཆོག</td>\n",
       "      <td>ངོས་1/10  ངོས་རེར་ནང་དོན་ངོས། 25 སྡོམ་235     ...</td>\n",
       "      <td>10</td>\n",
       "    </tr>\n",
       "    <tr>\n",
       "      <th>25</th>\n",
       "      <td>http://www.teducn.com//qikan/qunwentiandi/</td>\n",
       "      <td>མང་ཚོགས་སྒྱུ་རྩལ།</td>\n",
       "      <td>ངོས་1/1  ངོས་རེར་ནང་དོན་ངོས། 25 སྡོམ་10     མད...</td>\n",
       "      <td>1</td>\n",
       "    </tr>\n",
       "    <tr>\n",
       "      <th>26</th>\n",
       "      <td>http://www.teducn.com/fagui/minzuzhengce/</td>\n",
       "      <td>མི་རིགས་སྲིད་ཇུས།</td>\n",
       "      <td>ངོས་1/1  ངོས་རེར་ནང་དོན་ངོས། 25 སྡོམ་2     མདུ...</td>\n",
       "      <td>1</td>\n",
       "    </tr>\n",
       "    <tr>\n",
       "      <th>27</th>\n",
       "      <td>http://www.teducn.com/shuangyujiaoxue/shuangyu...</td>\n",
       "      <td>མིང་བརྡ་གཅིག་གྱུར།</td>\n",
       "      <td>ངོས་1/1  ངོས་རེར་ནང་དོན་ངོས། 25 སྡོམ་1     མདུ...</td>\n",
       "      <td>1</td>\n",
       "    </tr>\n",
       "    <tr>\n",
       "      <th>28</th>\n",
       "      <td>http://www.teducn.com/lilunyanjiu/yintimei/</td>\n",
       "      <td>རོལ་དབྱངས། ལུས་རྩལ། རི་མོ།</td>\n",
       "      <td>ངོས་1/1  ངོས་རེར་ནང་དོན་ངོས། 25 སྡོམ་18     མད...</td>\n",
       "      <td>1</td>\n",
       "    </tr>\n",
       "    <tr>\n",
       "      <th>29</th>\n",
       "      <td>http://www.teducn.com/zhuanyeshuyu/hanwen/</td>\n",
       "      <td>རྒྱ་ཡིག</td>\n",
       "      <td>ངོས་1/1  ངོས་རེར་ནང་དོན་ངོས། 25 སྡོམ་13     མད...</td>\n",
       "      <td>1</td>\n",
       "    </tr>\n",
       "    <tr>\n",
       "      <th>30</th>\n",
       "      <td>http://www.teducn.com/download/hanwen/</td>\n",
       "      <td>རྒྱ་ཡིག་གི་སྐོར།</td>\n",
       "      <td>སྐད་རིགས།</td>\n",
       "      <td>1</td>\n",
       "    </tr>\n",
       "    <tr>\n",
       "      <th>31</th>\n",
       "      <td>http://www.teducn.com/download/changyongruanjian/</td>\n",
       "      <td>རྒྱུན་བཀོལ་མཉེན་ཆས།</td>\n",
       "      <td>སྐད་རིགས།</td>\n",
       "      <td>1</td>\n",
       "    </tr>\n",
       "    <tr>\n",
       "      <th>32</th>\n",
       "      <td>http://www.teducn.com/download/jisuanji/</td>\n",
       "      <td>རྩིས་འཁོར་གྱི་སྐོར།</td>\n",
       "      <td>སྐད་རིགས།</td>\n",
       "      <td>1</td>\n",
       "    </tr>\n",
       "    <tr>\n",
       "      <th>33</th>\n",
       "      <td>http://www.teducn.com/xuekejiaoxue/jisuanji/</td>\n",
       "      <td>རྩིས་འཁོར།</td>\n",
       "      <td>ངོས་1/1  ངོས་རེར་ནང་དོན་ངོས། 25 སྡོམ་1     མདུ...</td>\n",
       "      <td>1</td>\n",
       "    </tr>\n",
       "    <tr>\n",
       "      <th>34</th>\n",
       "      <td>http://www.teducn.com/fagui/difangfagui/</td>\n",
       "      <td>ས་གནས་བཅའ་ཁྲིམས།</td>\n",
       "      <td>ངོས་1/1  ངོས་རེར་ནང་དོན་ངོས། 25 སྡོམ་7     མདུ...</td>\n",
       "      <td>1</td>\n",
       "    </tr>\n",
       "    <tr>\n",
       "      <th>35</th>\n",
       "      <td>http://www.teducn.com/shuangyujiaoxue/shangyuke/</td>\n",
       "      <td>སྐད་གཉིས་གཞུང་ལུགས།</td>\n",
       "      <td>ངོས་1/1  ངོས་རེར་ནང་དོན་ངོས། 25 སྡོམ་1     མདུ...</td>\n",
       "      <td>1</td>\n",
       "    </tr>\n",
       "    <tr>\n",
       "      <th>36</th>\n",
       "      <td>http://www.teducn.com/movie/shengwu/</td>\n",
       "      <td>སྐྱེ་དངོས་ཀྱི་སྐོར།</td>\n",
       "      <td>ངོས་1/1  ངོས་རེར་ནང་དོན་ངོས། 25 སྡོམ་1     མདུ...</td>\n",
       "      <td>1</td>\n",
       "    </tr>\n",
       "    <tr>\n",
       "      <th>37</th>\n",
       "      <td>http://www.teducn.com/zhuanyeshuyu/shengwu/</td>\n",
       "      <td>སྐྱེ་དངོས།</td>\n",
       "      <td>ངོས་1/2  ངོས་རེར་ནང་དོན་ངོས། 25 སྡོམ་40     མད...</td>\n",
       "      <td>2</td>\n",
       "    </tr>\n",
       "    <tr>\n",
       "      <th>38</th>\n",
       "      <td>http://www.teducn.com/cidian/ruanjian/</td>\n",
       "      <td>སྙི་ཆས་གྱི་སྐོར།</td>\n",
       "      <td>སྐད་རིགས།</td>\n",
       "      <td>1</td>\n",
       "    </tr>\n",
       "    <tr>\n",
       "      <th>39</th>\n",
       "      <td>http://www.teducn.com/chuantongjiaoyu/chuanton...</td>\n",
       "      <td>སྲོལ་རྒྱུན་རིག་ཚན།</td>\n",
       "      <td>ངོས་1/1  ངོས་རེར་ནང་དོན་ངོས། 25 སྡོམ་12     མད...</td>\n",
       "      <td>1</td>\n",
       "    </tr>\n",
       "    <tr>\n",
       "      <th>40</th>\n",
       "      <td>http://www.teducn.com/news/jiaoyu/</td>\n",
       "      <td>སློབ་གསོ་གསར་འགྱུར།</td>\n",
       "      <td>ངོས་1/1  ངོས་རེར་ནང་དོན་ངོས། 25 སྡོམ་18     མད...</td>\n",
       "      <td>1</td>\n",
       "    </tr>\n",
       "    <tr>\n",
       "      <th>41</th>\n",
       "      <td>http://www.teducn.com/kechixu/linian/</td>\n",
       "      <td>སློབ་གསོའི་དགོངས་པ།</td>\n",
       "      <td>ངོས་1/1  ངོས་རེར་ནང་དོན་ངོས། 25 སྡོམ་1     མདུ...</td>\n",
       "      <td>1</td>\n",
       "    </tr>\n",
       "    <tr>\n",
       "      <th>42</th>\n",
       "      <td>http://www.teducn.com/chuantongjiaoyu/jiaoyuli...</td>\n",
       "      <td>སློབ་གསོའི་ལོ་རྒྱུས།</td>\n",
       "      <td>ངོས་1/1  ངོས་རེར་ནང་དོན་ངོས། 25 སྡོམ་1     མདུ...</td>\n",
       "      <td>1</td>\n",
       "    </tr>\n",
       "    <tr>\n",
       "      <th>43</th>\n",
       "      <td>http://www.teducn.com/xuexiaojieshao/xiaoxue/</td>\n",
       "      <td>སློབ་ཆུང་སློབ་གྲྭ།</td>\n",
       "      <td>ངོས་1/1  ངོས་རེར་ནང་དོན་ངོས། 25 སྡོམ་2     མདུ...</td>\n",
       "      <td>1</td>\n",
       "    </tr>\n",
       "    <tr>\n",
       "      <th>44</th>\n",
       "      <td>http://www.teducn.com/xuexiaojieshao/daxue/</td>\n",
       "      <td>སློབ་ཆེན་སློབ་གྲྭ།</td>\n",
       "      <td>ངོས་1/1  ངོས་རེར་ནང་དོན་ངོས། 25 སྡོམ་2     མདུ...</td>\n",
       "      <td>1</td>\n",
       "    </tr>\n",
       "    <tr>\n",
       "      <th>45</th>\n",
       "      <td>http://www.teducn.com/xuexiaojieshao/zhongxue/</td>\n",
       "      <td>སློབ་འབྲིང་སློབ་གྲྭ།</td>\n",
       "      <td>ངོས་1/1  ངོས་རེར་ནང་དོན་ངོས། 25 སྡོམ་1     མདུ...</td>\n",
       "      <td>1</td>\n",
       "    </tr>\n",
       "    <tr>\n",
       "      <th>46</th>\n",
       "      <td>http://www.teducn.com/news/xiaoyuan/</td>\n",
       "      <td>སློབ་རའི་གསར་འགྱུར།</td>\n",
       "      <td>ངོས་1/1  ངོས་རེར་ནང་དོན་ངོས། 25 སྡོམ་7     མདུ...</td>\n",
       "      <td>1</td>\n",
       "    </tr>\n",
       "  </tbody>\n",
       "</table>\n",
       "</div>"
      ],
      "text/plain": [
       "                                         original_url  \\\n",
       "0                   http://www.teducn.com/cidian/PDF/   \n",
       "1        http://www.teducn.com/kechixu/huanbaowenhua/   \n",
       "2        http://www.teducn.com/kechixu/huanbaoshehui/   \n",
       "3              http://www.teducn.com/kechixu/huanbao/   \n",
       "4      http://www.teducn.com/chuantongjiaoyu/jiating/   \n",
       "5                 http://www.teducn.com/movie/hanwen/   \n",
       "6   http://www.teducn.com/chuantongjiaoyu/mingzhud...   \n",
       "7              http://www.teducn.com/download/shuxue/   \n",
       "8            http://www.teducn.com/movie/gewuhaiyang/   \n",
       "9   http://www.teducn.com/chuantongjiaoyu/zongjiao...   \n",
       "10  http://www.teducn.com/chuantongjiaoyu/siyuanji...   \n",
       "11               http://www.teducn.com/download/wuli/   \n",
       "12           http://www.teducn.com/zhuanyeshuyu/wuli/   \n",
       "13                http://www.teducn.com/movie/yingyu/   \n",
       "14          http://www.teducn.com/renwu/xiandairenwu/   \n",
       "15  http://www.teducn.com/chuantongjiaoyu/fojiaopa...   \n",
       "16       http://www.teducn.com/kecheng/kechengjiaofa/   \n",
       "17       http://www.teducn.com/kecheng/kechengpinggu/   \n",
       "18    http://www.teducn.com/kecheng/jiaochengzhengce/   \n",
       "19      http://www.teducn.com/kecheng/kechengjiaocai/   \n",
       "20         http://www.teducn.com//qikan/zangzujiaoyu/   \n",
       "21        http://www.teducn.com/xuekejiaoxue/zangwen/   \n",
       "22            http://www.teducn.com/download/zangwen/   \n",
       "23          http://www.teducn.com/movie/ertongleyuan/   \n",
       "24           http://www.teducn.com/renwu/dashihuicui/   \n",
       "25         http://www.teducn.com//qikan/qunwentiandi/   \n",
       "26          http://www.teducn.com/fagui/minzuzhengce/   \n",
       "27  http://www.teducn.com/shuangyujiaoxue/shuangyu...   \n",
       "28        http://www.teducn.com/lilunyanjiu/yintimei/   \n",
       "29         http://www.teducn.com/zhuanyeshuyu/hanwen/   \n",
       "30             http://www.teducn.com/download/hanwen/   \n",
       "31  http://www.teducn.com/download/changyongruanjian/   \n",
       "32           http://www.teducn.com/download/jisuanji/   \n",
       "33       http://www.teducn.com/xuekejiaoxue/jisuanji/   \n",
       "34           http://www.teducn.com/fagui/difangfagui/   \n",
       "35   http://www.teducn.com/shuangyujiaoxue/shangyuke/   \n",
       "36               http://www.teducn.com/movie/shengwu/   \n",
       "37        http://www.teducn.com/zhuanyeshuyu/shengwu/   \n",
       "38             http://www.teducn.com/cidian/ruanjian/   \n",
       "39  http://www.teducn.com/chuantongjiaoyu/chuanton...   \n",
       "40                 http://www.teducn.com/news/jiaoyu/   \n",
       "41              http://www.teducn.com/kechixu/linian/   \n",
       "42  http://www.teducn.com/chuantongjiaoyu/jiaoyuli...   \n",
       "43      http://www.teducn.com/xuexiaojieshao/xiaoxue/   \n",
       "44        http://www.teducn.com/xuexiaojieshao/daxue/   \n",
       "45     http://www.teducn.com/xuexiaojieshao/zhongxue/   \n",
       "46               http://www.teducn.com/news/xiaoyuan/   \n",
       "\n",
       "                  name_of_cate  \\\n",
       "0                 PDFགྱི་སྐོར།   \n",
       "1          ཁོར་ཡུག་དང་རིག་གནས།   \n",
       "2        ཁོར་ཡུག་དང་སྤྱི་ཚོགས།   \n",
       "3         ཁོར་ཡུག་དང་སློབ་གསོ།   \n",
       "4            ཁྱིམ་ཚང་སློབ་གསོ།   \n",
       "5                       གཞན་དག   \n",
       "6             གསུང་རབ་བང་མཛོད།   \n",
       "7            གྲངས་རིག་གི་སྐོར།   \n",
       "8          གླུ་གར་གྱི་རྒྱ་མཚོ།   \n",
       "9            ཆོས་ལུགས་རིག་གནས།   \n",
       "10        དགོན་སྡེ་མཚམས་སྦྱོར།   \n",
       "11         དངོས་ལུགས་ཀྱི་སྐོར།   \n",
       "12                  དངོས་ལུགས།   \n",
       "13          དབྱིན་ཡིག་གི་སྐོར།   \n",
       "14            དེང་རབས་གྲགས་ཅན།   \n",
       "15            ནང་བའི་གྲུབ་མཐའ།   \n",
       "16        བསླབ་གཞིའི་ཁྲིད་ཐབས།   \n",
       "17        བསླབ་གཞིའི་གདེང་འཇོག   \n",
       "18        བསླབ་གཞིའི་སྲིད་ཇུས།   \n",
       "19        བསླབ་གཞིའི་སློབ་དེབ།   \n",
       "20           བོད་ཀྱི་སློབ་གསོ།   \n",
       "21                     བོད་ཡིག   \n",
       "22            བོད་ཡིག་གི་སྐོར།   \n",
       "23            བྱིས་པའི་རྩེད་ར།   \n",
       "24            མཁས་བའི་ཁྱུ་མཆོག   \n",
       "25           མང་ཚོགས་སྒྱུ་རྩལ།   \n",
       "26           མི་རིགས་སྲིད་ཇུས།   \n",
       "27          མིང་བརྡ་གཅིག་གྱུར།   \n",
       "28  རོལ་དབྱངས། ལུས་རྩལ། རི་མོ།   \n",
       "29                     རྒྱ་ཡིག   \n",
       "30            རྒྱ་ཡིག་གི་སྐོར།   \n",
       "31         རྒྱུན་བཀོལ་མཉེན་ཆས།   \n",
       "32         རྩིས་འཁོར་གྱི་སྐོར།   \n",
       "33                  རྩིས་འཁོར།   \n",
       "34            ས་གནས་བཅའ་ཁྲིམས།   \n",
       "35         སྐད་གཉིས་གཞུང་ལུགས།   \n",
       "36         སྐྱེ་དངོས་ཀྱི་སྐོར།   \n",
       "37                  སྐྱེ་དངོས།   \n",
       "38            སྙི་ཆས་གྱི་སྐོར།   \n",
       "39          སྲོལ་རྒྱུན་རིག་ཚན།   \n",
       "40         སློབ་གསོ་གསར་འགྱུར།   \n",
       "41         སློབ་གསོའི་དགོངས་པ།   \n",
       "42        སློབ་གསོའི་ལོ་རྒྱུས།   \n",
       "43          སློབ་ཆུང་སློབ་གྲྭ།   \n",
       "44          སློབ་ཆེན་སློབ་གྲྭ།   \n",
       "45        སློབ་འབྲིང་སློབ་གྲྭ།   \n",
       "46         སློབ་རའི་གསར་འགྱུར།   \n",
       "\n",
       "                                       Last_page_link  list_page_no  \n",
       "0                                           སྐད་རིགས།             1  \n",
       "1   ངོས་1/1  ངོས་རེར་ནང་དོན་ངོས། 25 སྡོམ་9     མདུ...             1  \n",
       "2   ངོས་1/1  ངོས་རེར་ནང་དོན་ངོས། 25 སྡོམ་8     མདུ...             1  \n",
       "3   ངོས་1/1  ངོས་རེར་ནང་དོན་ངོས། 25 སྡོམ་8     མདུ...             1  \n",
       "4   ངོས་1/4  ངོས་རེར་ནང་དོན་ངོས། 25 སྡོམ་79     མད...             4  \n",
       "5   ངོས་1/1  ངོས་རེར་ནང་དོན་ངོས། 25 སྡོམ་5     མདུ...             1  \n",
       "6   ངོས་1/1  ངོས་རེར་ནང་དོན་ངོས། 25 སྡོམ་7     མདུ...             1  \n",
       "7                                           སྐད་རིགས།             1  \n",
       "8                              no link last page link             1  \n",
       "9   ངོས་1/4  ངོས་རེར་ནང་དོན་ངོས། 25 སྡོམ་89     མད...             4  \n",
       "10  ངོས་1/3  ངོས་རེར་ནང་དོན་ངོས། 25 སྡོམ་75     མད...             3  \n",
       "11                                          སྐད་རིགས།             1  \n",
       "12  ངོས་1/1  ངོས་རེར་ནང་དོན་ངོས། 25 སྡོམ་5     མདུ...             1  \n",
       "13  ངོས་1/1  ངོས་རེར་ནང་དོན་ངོས། 20 སྡོམ་10     མད...             1  \n",
       "14  ངོས་1/1  ངོས་རེར་ནང་དོན་ངོས། 25 སྡོམ་2     མདུ...             1  \n",
       "15  ངོས་1/1  ངོས་རེར་ནང་དོན་ངོས། 25 སྡོམ་25     མད...             1  \n",
       "16  ངོས་1/1  ངོས་རེར་ནང་དོན་ངོས། 25 སྡོམ་3     མདུ...             1  \n",
       "17  ངོས་1/1  ངོས་རེར་ནང་དོན་ངོས། 25 སྡོམ་1     མདུ...             1  \n",
       "18  ངོས་1/1  ངོས་རེར་ནང་དོན་ངོས། 25 སྡོམ་1     མདུ...             1  \n",
       "19  ངོས་1/1  ངོས་རེར་ནང་དོན་ངོས། 25 སྡོམ་4     མདུ...             1  \n",
       "20  ངོས་1/7  ངོས་རེར་ནང་དོན་ངོས། 10 སྡོམ་64     མད...             7  \n",
       "21  ངོས་1/1  ངོས་རེར་ནང་དོན་ངོས། 25 སྡོམ་20     མད...             1  \n",
       "22                                          སྐད་རིགས།             1  \n",
       "23                             no link last page link             1  \n",
       "24  ངོས་1/10  ངོས་རེར་ནང་དོན་ངོས། 25 སྡོམ་235     ...            10  \n",
       "25  ངོས་1/1  ངོས་རེར་ནང་དོན་ངོས། 25 སྡོམ་10     མད...             1  \n",
       "26  ངོས་1/1  ངོས་རེར་ནང་དོན་ངོས། 25 སྡོམ་2     མདུ...             1  \n",
       "27  ངོས་1/1  ངོས་རེར་ནང་དོན་ངོས། 25 སྡོམ་1     མདུ...             1  \n",
       "28  ངོས་1/1  ངོས་རེར་ནང་དོན་ངོས། 25 སྡོམ་18     མད...             1  \n",
       "29  ངོས་1/1  ངོས་རེར་ནང་དོན་ངོས། 25 སྡོམ་13     མད...             1  \n",
       "30                                          སྐད་རིགས།             1  \n",
       "31                                          སྐད་རིགས།             1  \n",
       "32                                          སྐད་རིགས།             1  \n",
       "33  ངོས་1/1  ངོས་རེར་ནང་དོན་ངོས། 25 སྡོམ་1     མདུ...             1  \n",
       "34  ངོས་1/1  ངོས་རེར་ནང་དོན་ངོས། 25 སྡོམ་7     མདུ...             1  \n",
       "35  ངོས་1/1  ངོས་རེར་ནང་དོན་ངོས། 25 སྡོམ་1     མདུ...             1  \n",
       "36  ངོས་1/1  ངོས་རེར་ནང་དོན་ངོས། 25 སྡོམ་1     མདུ...             1  \n",
       "37  ངོས་1/2  ངོས་རེར་ནང་དོན་ངོས། 25 སྡོམ་40     མད...             2  \n",
       "38                                          སྐད་རིགས།             1  \n",
       "39  ངོས་1/1  ངོས་རེར་ནང་དོན་ངོས། 25 སྡོམ་12     མད...             1  \n",
       "40  ངོས་1/1  ངོས་རེར་ནང་དོན་ངོས། 25 སྡོམ་18     མད...             1  \n",
       "41  ངོས་1/1  ངོས་རེར་ནང་དོན་ངོས། 25 སྡོམ་1     མདུ...             1  \n",
       "42  ངོས་1/1  ངོས་རེར་ནང་དོན་ངོས། 25 སྡོམ་1     མདུ...             1  \n",
       "43  ངོས་1/1  ངོས་རེར་ནང་དོན་ངོས། 25 སྡོམ་2     མདུ...             1  \n",
       "44  ངོས་1/1  ངོས་རེར་ནང་དོན་ངོས། 25 སྡོམ་2     མདུ...             1  \n",
       "45  ངོས་1/1  ངོས་རེར་ནང་དོན་ངོས། 25 སྡོམ་1     མདུ...             1  \n",
       "46  ངོས་1/1  ངོས་རེར་ནང་དོན་ངོས། 25 སྡོམ་7     མདུ...             1  "
      ]
     },
     "execution_count": 65,
     "metadata": {},
     "output_type": "execute_result"
    }
   ],
   "source": [
    "df_deduplicated"
   ]
  },
  {
   "cell_type": "code",
   "execution_count": 66,
   "id": "baf85d25-e28f-4143-881e-4e83c57a8d0f",
   "metadata": {},
   "outputs": [],
   "source": [
    "df_deduplicated.to_csv(\"./data/All_cate.csv\", index=False)"
   ]
  },
  {
   "cell_type": "code",
   "execution_count": null,
   "id": "ff70665e-4db7-41f2-898e-e3b1d5742d67",
   "metadata": {},
   "outputs": [],
   "source": []
  }
 ],
 "metadata": {
  "kernelspec": {
   "display_name": "Python 3 (ipykernel)",
   "language": "python",
   "name": "python3"
  },
  "language_info": {
   "codemirror_mode": {
    "name": "ipython",
    "version": 3
   },
   "file_extension": ".py",
   "mimetype": "text/x-python",
   "name": "python",
   "nbconvert_exporter": "python",
   "pygments_lexer": "ipython3",
   "version": "3.10.13"
  }
 },
 "nbformat": 4,
 "nbformat_minor": 5
}
