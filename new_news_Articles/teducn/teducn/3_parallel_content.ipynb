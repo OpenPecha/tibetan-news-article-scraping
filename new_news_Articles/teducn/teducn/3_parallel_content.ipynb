{
 "cells": [
  {
   "cell_type": "code",
   "execution_count": 3,
   "id": "0a7d67bb-5be9-45c7-a6b3-6223b36ee383",
   "metadata": {},
   "outputs": [],
   "source": [
    "import json\n",
    "from bs4 import Tag\n",
    "from tqdm import tqdm\n",
    "import teducn_utils\n",
    "import os\n",
    "from concurrent.futures import ThreadPoolExecutor, as_completed\n"
   ]
  },
  {
   "cell_type": "code",
   "execution_count": null,
   "id": "119b597b-9082-413a-8efd-0c60a714d878",
   "metadata": {},
   "outputs": [],
   "source": []
  },
  {
   "cell_type": "code",
   "execution_count": null,
   "id": "201514da-b27a-447f-92ad-4255528e7d46",
   "metadata": {},
   "outputs": [],
   "source": []
  },
  {
   "cell_type": "code",
   "execution_count": 16,
   "id": "69ee8588-92ef-426e-83d8-f63ee7dd8512",
   "metadata": {},
   "outputs": [],
   "source": [
    "\n",
    "class CustomJSONEncoder(json.JSONEncoder):\n",
    "    def default(self, obj):\n",
    "        if isinstance(obj, Tag):\n",
    "            return obj.get_text()\n",
    "        return str(obj)\n",
    "\n",
    "def save_json(path, file_name, data):\n",
    "    try: \n",
    "        with open(path + file_name, \"w\", encoding='utf-8') as outfile:\n",
    "            json.dump(data, outfile, indent=4, ensure_ascii=False, cls=CustomJSONEncoder)\n",
    "        print(f\"Successfully saved: {file_name}\")\n",
    "    except Exception as e:\n",
    "        print(f\"Error saving {file_name}: {str(e)}\")\n",
    "\n",
    "def scrape_article(url, page_key_code):\n",
    "    try:\n",
    "        article_content = teducn_utils.scrape_teducn_article_content(url, tags=page_key_code)\n",
    "        return article_content\n",
    "    except Exception as e:\n",
    "        print(f\"Error scraping {url}: {str(e)}\")\n",
    "        return None\n",
    "\n",
    "def get_content(All_links_data, Total_lenght, page_key_code, page_key_list):\n",
    "    all_article = {}\n",
    "    \n",
    "    with ThreadPoolExecutor(max_workers=10) as executor:\n",
    "        future_to_url = {}\n",
    "        start = 1\n",
    "        for i in range(start, Total_lenght+1):\n",
    "            page_key = page_key_code + str(i)\n",
    "            all_link_page = All_links_data[page_key][\"Links\"]\n",
    "            for url in all_link_page:\n",
    "                future = executor.submit(scrape_article, url, page_key_code)\n",
    "                future_to_url[future] = (page_key, url)\n",
    "        \n",
    "        for future in tqdm(as_completed(future_to_url), total=len(future_to_url)):\n",
    "            page_key, url = future_to_url[future]\n",
    "            try:\n",
    "                article_content = future.result()\n",
    "                if article_content:\n",
    "                    article_key = f\"{page_key}_teducn_Article_{len([k for k in all_article if k.startswith(page_key)]) + 1}\"\n",
    "                    all_article[article_key] = article_content\n",
    "            except Exception as e:\n",
    "                print(f\"Error processing {url}: {str(e)}\")\n",
    "    \n",
    "    Failure_count = sum(1 for article in all_article.values() if article[\"Response\"] != 200)\n",
    "    print(f\"Total Failure in the {page_key_list[1]} article: {Failure_count}\")\n",
    "    \n",
    "    save_file_name = f\"teducn_ALL_content_{page_key_list[1]}.json\"\n",
    "    print(save_file_name)\n",
    "    path = \"./data/parallel_content/\"\n",
    "    save_json(path, save_file_name, all_article)\n",
    "\n",
    "def process_json_file(file_path):\n",
    "    try:\n",
    "        with open(file_path, 'r', encoding='utf-8') as file:\n",
    "            All_links_data = json.load(file)\n",
    "            Total_lenght = len(All_links_data)\n",
    "            print(f\"Total page in {os.path.basename(file_path)}: {Total_lenght}\")\n",
    "        \n",
    "            print(f\"page key name: {list(All_links_data.keys())[-1]}\")\n",
    "            page_key_list = list(All_links_data.keys())[-1].split(\" \")\n",
    "            key_code_short = \" \".join(page_key_list[1:-1])\n",
    "            page_key_code = \"Page \" + key_code_short + \" \"\n",
    "            print(f\"Page key code: {page_key_code}\")\n",
    "            get_content(All_links_data, Total_lenght, page_key_code, page_key_list)\n",
    "    except json.JSONDecodeError as e:\n",
    "        print(f\"Error decoding JSON in file {os.path.basename(file_path)}: {str(e)}\")\n",
    "    except Exception as e:\n",
    "        print(f\"Error processing file {os.path.basename(file_path)}: {str(e)}\")\n",
    "\n",
    "def get_json_files(directory):\n",
    "    json_files = [os.path.join(directory, f) for f in os.listdir(directory) if f.endswith('.json')]\n",
    "    \n",
    "    with ThreadPoolExecutor(max_workers=10) as executor:\n",
    "        list(tqdm(executor.map(process_json_file, json_files), total=len(json_files)))\n",
    "    \n",
    "    print(f\"Processed {len(json_files)} files\")\n"
   ]
  },
  {
   "cell_type": "code",
   "execution_count": 12,
   "id": "06b3dc37-3602-43b2-abee-92e5f5bf7e9f",
   "metadata": {
    "scrolled": true
   },
   "outputs": [
    {
     "name": "stdout",
     "output_type": "stream",
     "text": [
      "Total page in teducn_ALL_link_སློབ་རའི་གསར་འགྱུར།.json: 1\n",
      "page key name: Page སློབ་རའི་གསར་འགྱུར། 1\n",
      "Error processing file teducn_ALL_link_སློབ་རའི་གསར་འགྱུར།.json: 'list' object has no attribute 'join'\n",
      "Total page in teducn_ALL_link_སློབ་གསོ་གསར་འགྱུར།.json: 1\n",
      "page key name: Page སློབ་གསོ་གསར་འགྱུར། 1\n",
      "Error processing file teducn_ALL_link_སློབ་གསོ་གསར་འགྱུར།.json: 'list' object has no attribute 'join'\n",
      "Total page in teducn_ALL_link_མི་རིགས་སྲིད་ཇུས།.json: 1\n",
      "page key name: Page མི་རིགས་སྲིད་ཇུས། 1\n",
      "Error processing file teducn_ALL_link_མི་རིགས་སྲིད་ཇུས།.json: 'list' object has no attribute 'join'\n",
      "Total page in teducn_ALL_link_ས་གནས་བཅའ་ཁྲིམས།.json: 1\n",
      "page key name: Page ས་གནས་བཅའ་ཁྲིམས། 1\n",
      "Error processing file teducn_ALL_link_ས་གནས་བཅའ་ཁྲིམས།.json: 'list' object has no attribute 'join'\n",
      "Total page in teducn_ALL_link_བསླབ་གཞིའི་སློབ་དེབ།.json: 1\n",
      "page key name: Page བསླབ་གཞིའི་སློབ་དེབ། 1\n",
      "Error processing file teducn_ALL_link_བསླབ་གཞིའི་སློབ་དེབ།.json: 'list' object has no attribute 'join'\n",
      "Total page in teducn_ALL_link_སྙི་ཆས་གྱི་སྐོར།.json: 1\n",
      "page key name: Page སྙི་ཆས་གྱི་སྐོར། 1\n",
      "Total page in teducn_ALL_link_བསླབ་གཞིའི་ཁྲིད་ཐབས།.json: 1\n",
      "page key name: Page བསླབ་གཞིའི་ཁྲིད་ཐབས། 1\n",
      "Error processing file teducn_ALL_link_བསླབ་གཞིའི་ཁྲིད་ཐབས།.json: 'list' object has no attribute 'join'\n",
      "Total page in teducn_ALL_link_བསླབ་གཞིའི་གདེང་འཇོག.json: 1\n",
      "page key name: Page བསླབ་གཞིའི་གདེང་འཇོག 1\n",
      "Error processing file teducn_ALL_link_བསླབ་གཞིའི་གདེང་འཇོག.json: 'list' object has no attribute 'join'\n",
      "Error processing file teducn_ALL_link_སྙི་ཆས་གྱི་སྐོར།.json: 'list' object has no attribute 'join'\n",
      "Total page in teducn_ALL_link_རྩིས་འཁོར།.json: 1\n",
      "page key name: Page རྩིས་འཁོར། 1\n",
      "Total page in teducn_ALL_link_PDFགྱི་སྐོར།.json: 1\n",
      "page key name: Page PDFགྱི་སྐོར། 1\n",
      "Error processing file teducn_ALL_link_PDFགྱི་སྐོར།.json: 'list' object has no attribute 'join'\n",
      "Total page in teducn_ALL_link_བསླབ་གཞིའི་སྲིད་ཇུས།.json: 1\n",
      "page key name: Page བསླབ་གཞིའི་སྲིད་ཇུས། 1\n",
      "Total page in teducn_ALL_link_བོད་ཡིག.json: 1\n",
      "page key name: Page བོད་ཡིག 1\n",
      "Error processing file teducn_ALL_link_བོད་ཡིག.json: 'list' object has no attribute 'join'\n",
      "Total page in teducn_ALL_link_དགོན་སྡེ་མཚམས་སྦྱོར།.json: 3\n",
      "page key name: Page དགོན་སྡེ་མཚམས་སྦྱོར། 3\n",
      "Error processing file teducn_ALL_link_དགོན་སྡེ་མཚམས་སྦྱོར།.json: 'list' object has no attribute 'join'\n",
      "Error processing file teducn_ALL_link_བསླབ་གཞིའི་སྲིད་ཇུས།.json: 'list' object has no attribute 'join'\n",
      "Error processing file teducn_ALL_link_རྩིས་འཁོར།.json: 'list' object has no attribute 'join'\n",
      "Total page in teducn_ALL_link_སྲོལ་རྒྱུན་རིག་ཚན།.json: 1\n",
      "page key name: Page སྲོལ་རྒྱུན་རིག་ཚན། 1\n",
      "Total page in teducn_ALL_link_ཆོས་ལུགས་རིག་གནས།.json: 4\n",
      "page key name: Page ཆོས་ལུགས་རིག་གནས། 4\n",
      "Error processing file teducn_ALL_link_ཆོས་ལུགས་རིག་གནས།.json: 'list' object has no attribute 'join'\n",
      "Total page in teducn_ALL_link_ཁྱིམ་ཚང་སློབ་གསོ།.json: 4\n",
      "page key name: Page ཁྱིམ་ཚང་སློབ་གསོ། 4\n",
      "Error processing file teducn_ALL_link_སྲོལ་རྒྱུན་རིག་ཚན།.json: 'list' object has no attribute 'join'\n",
      "Total page in teducn_ALL_link_གསུང་རབ་བང་མཛོད།.json: 1\n",
      "page key name: Page གསུང་རབ་བང་མཛོད། 1\n",
      "Error processing file teducn_ALL_link_གསུང་རབ་བང་མཛོད།.json: 'list' object has no attribute 'join'\n",
      "Error processing file teducn_ALL_link_ཁྱིམ་ཚང་སློབ་གསོ།.json: 'list' object has no attribute 'join'\n",
      "Total page in teducn_ALL_link_སློབ་གསོའི་ལོ་རྒྱུས།.json: 1\n",
      "page key name: Page སློབ་གསོའི་ལོ་རྒྱུས། 1\n",
      "Total page in teducn_ALL_link_སློབ་གསོའི་དགོངས་པ།.json: 1\n",
      "page key name: Page སློབ་གསོའི་དགོངས་པ། 1\n",
      "Error processing file teducn_ALL_link_སློབ་གསོའི་ལོ་རྒྱུས།.json: 'list' object has no attribute 'join'\n",
      "Error processing file teducn_ALL_link_སློབ་གསོའི་དགོངས་པ།.json: 'list' object has no attribute 'join'\n",
      "Total page in teducn_ALL_link_ནང་བའི་གྲུབ་མཐའ།.json: 1\n",
      "page key name: Page ནང་བའི་གྲུབ་མཐའ། 1\n",
      "Total page in teducn_ALL_link_སྐད་གཉིས་གཞུང་ལུགས།.json: 1\n",
      "page key name: Page སྐད་གཉིས་གཞུང་ལུགས། 1\n",
      "Total page in teducn_ALL_link_ཁོར་ཡུག་དང་སྤྱི་ཚོགས།.json: 1\n",
      "page key name: Page ཁོར་ཡུག་དང་སྤྱི་ཚོགས། 1\n",
      "Error processing file teducn_ALL_link_སྐད་གཉིས་གཞུང་ལུགས།.json: 'list' object has no attribute 'join'\n",
      "Total page in teducn_ALL_link_མིང་བརྡ་གཅིག་གྱུར།.json: 1\n",
      "page key name: Page མིང་བརྡ་གཅིག་གྱུར། 1\n",
      "Error processing file teducn_ALL_link_མིང་བརྡ་གཅིག་གྱུར།.json: 'list' object has no attribute 'join'\n",
      "Total page in teducn_ALL_link_ཁོར་ཡུག་དང་རིག་གནས།.json: 1\n",
      "page key name: Page ཁོར་ཡུག་དང་རིག་གནས། 1\n",
      "Total page in teducn_ALL_link_རོལ་དབྱངས། ལུས་རྩལ། རི་མོ།.json: 1\n",
      "page key name: Page རོལ་དབྱངས། ལུས་རྩལ། རི་མོ། 1\n"
     ]
    },
    {
     "name": "stderr",
     "output_type": "stream",
     "text": [
      "100%|██████████| 47/47 [00:00<00:00, 38547.57it/s]"
     ]
    },
    {
     "name": "stdout",
     "output_type": "stream",
     "text": [
      "Error processing file teducn_ALL_link_ནང་བའི་གྲུབ་མཐའ།.json: 'list' object has no attribute 'join'\n",
      "Error processing file teducn_ALL_link_ཁོར་ཡུག་དང་སྤྱི་ཚོགས།.json: 'list' object has no attribute 'join'\n",
      "Error processing file teducn_ALL_link_ཁོར་ཡུག་དང་རིག་གནས།.json: 'list' object has no attribute 'join'\n",
      "Error processing file teducn_ALL_link_རོལ་དབྱངས། ལུས་རྩལ། རི་མོ།.json: 'list' object has no attribute 'join'\n",
      "Total page in teducn_ALL_link_ཁོར་ཡུག་དང་སློབ་གསོ།.json: 1\n",
      "page key name: Page ཁོར་ཡུག་དང་སློབ་གསོ། 1\n",
      "Error processing file teducn_ALL_link_ཁོར་ཡུག་དང་སློབ་གསོ།.json: 'list' object has no attribute 'join'\n",
      "Total page in teducn_ALL_link_མཁས་བའི་ཁྱུ་མཆོག.json: 10\n",
      "page key name: Page མཁས་བའི་ཁྱུ་མཆོག 10\n",
      "Error processing file teducn_ALL_link_མཁས་བའི་ཁྱུ་མཆོག.json: 'list' object has no attribute 'join'\n",
      "Total page in teducn_ALL_link_དངོས་ལུགས།.json: 1\n",
      "page key name: Page དངོས་ལུགས། 1\n",
      "Total page in teducn_ALL_link_སློབ་འབྲིང་སློབ་གྲྭ།.json: 1\n",
      "page key name: Page སློབ་འབྲིང་སློབ་གྲྭ། 1\n",
      "Total page in teducn_ALL_link_རྒྱ་ཡིག.json: 1\n",
      "page key name: Page རྒྱ་ཡིག 1\n",
      "Error processing file teducn_ALL_link_རྒྱ་ཡིག.json: 'list' object has no attribute 'join'\n",
      "Total page in teducn_ALL_link_དངོས་ལུགས་ཀྱི་སྐོར།.json: 1\n",
      "page key name: Page དངོས་ལུགས་ཀྱི་སྐོར། 1\n",
      "Error processing file teducn_ALL_link_དངོས་ལུགས་ཀྱི་སྐོར།.json: 'list' object has no attribute 'join'\n",
      "Error processing file teducn_ALL_link_སློབ་འབྲིང་སློབ་གྲྭ།.json: 'list' object has no attribute 'join'\n",
      "Total page in teducn_ALL_link_སློབ་ཆེན་སློབ་གྲྭ།.json: 1\n",
      "page key name: Page སློབ་ཆེན་སློབ་གྲྭ། 1\n",
      "Total page in teducn_ALL_link_སློབ་ཆུང་སློབ་གྲྭ།.json: 1\n",
      "page key name: Page སློབ་ཆུང་སློབ་གྲྭ། 1\n",
      "Error processing file teducn_ALL_link_དངོས་ལུགས།.json: 'list' object has no attribute 'join'\n",
      "Total page in teducn_ALL_link_རྒྱུན་བཀོལ་མཉེན་ཆས།.json: 1\n",
      "page key name: Page རྒྱུན་བཀོལ་མཉེན་ཆས། 1\n",
      "Error processing file teducn_ALL_link_སློབ་ཆུང་སློབ་གྲྭ།.json: 'list' object has no attribute 'join'\n",
      "Error processing file teducn_ALL_link_སློབ་ཆེན་སློབ་གྲྭ།.json: 'list' object has no attribute 'join'\n",
      "Total page in teducn_ALL_link_རྩིས་འཁོར་གྱི་སྐོར།.json: 1\n",
      "page key name: Page རྩིས་འཁོར་གྱི་སྐོར། 1\n",
      "Error processing file teducn_ALL_link_རྩིས་འཁོར་གྱི་སྐོར།.json: 'list' object has no attribute 'join'\n",
      "Total page in teducn_ALL_link_སྐྱེ་དངོས།.json: 2\n",
      "page key name: Page སྐྱེ་དངོས། 2\n",
      "Error processing file teducn_ALL_link_སྐྱེ་དངོས།.json: 'list' object has no attribute 'join'\n",
      "Error processing file teducn_ALL_link_རྒྱུན་བཀོལ་མཉེན་ཆས།.json: 'list' object has no attribute 'join'\n",
      "Total page in teducn_ALL_link_རྒྱ་ཡིག་གི་སྐོར།.json: 1\n",
      "page key name: Page རྒྱ་ཡིག་གི་སྐོར། 1\n",
      "Error processing file teducn_ALL_link_རྒྱ་ཡིག་གི་སྐོར།.json: 'list' object has no attribute 'join'\n",
      "Total page in teducn_ALL_link_གཞན་དག.json: 1\n",
      "page key name: Page གཞན་དག 1\n",
      "Error processing file teducn_ALL_link_གཞན་དག.json: 'list' object has no attribute 'join'\n",
      "Total page in teducn_ALL_link_གྲངས་རིག་གི་སྐོར།.json: 1\n",
      "page key name: Page གྲངས་རིག་གི་སྐོར། 1\n",
      "Error processing file teducn_ALL_link_གྲངས་རིག་གི་སྐོར།.json: 'list' object has no attribute 'join'\n",
      "Total page in teducn_ALL_link_བོད་ཡིག་གི་སྐོར།.json: 1\n",
      "page key name: Page བོད་ཡིག་གི་སྐོར། 1\n",
      "Total page in teducn_ALL_link_དེང་རབས་གྲགས་ཅན།.json: 1\n",
      "page key name: Page དེང་རབས་གྲགས་ཅན། 1\n",
      "Total page in teducn_ALL_link_བོད་ཀྱི་སློབ་གསོ།.json: 7\n",
      "page key name: Page བོད་ཀྱི་སློབ་གསོ། 7\n",
      "Error processing file teducn_ALL_link_དེང་རབས་གྲགས་ཅན།.json: 'list' object has no attribute 'join'\n",
      "Total page in teducn_ALL_link_གླུ་གར་གྱི་རྒྱ་མཚོ།.json: 1\n",
      "page key name: Page གླུ་གར་གྱི་རྒྱ་མཚོ། 1\n",
      "Error processing file teducn_ALL_link_གླུ་གར་གྱི་རྒྱ་མཚོ།.json: 'list' object has no attribute 'join'\n",
      "Total page in teducn_ALL_link_སྐྱེ་དངོས་ཀྱི་སྐོར།.json: 1\n",
      "page key name: Page སྐྱེ་དངོས་ཀྱི་སྐོར། 1\n",
      "Error processing file teducn_ALL_link_བོད་ཀྱི་སློབ་གསོ།.json: 'list' object has no attribute 'join'\n",
      "Total page in teducn_ALL_link_བྱིས་པའི་རྩེད་ར།.json: 1\n",
      "page key name: Page བྱིས་པའི་རྩེད་ར། 1\n",
      "Error processing file teducn_ALL_link_བྱིས་པའི་རྩེད་ར།.json: 'list' object has no attribute 'join'\n",
      "Error processing file teducn_ALL_link_བོད་ཡིག་གི་སྐོར།.json: 'list' object has no attribute 'join'\n",
      "Error processing file teducn_ALL_link_སྐྱེ་དངོས་ཀྱི་སྐོར།.json: 'list' object has no attribute 'join'\n",
      "Total page in teducn_ALL_link_མང་ཚོགས་སྒྱུ་རྩལ།.json: 1\n",
      "page key name: Page མང་ཚོགས་སྒྱུ་རྩལ། 1\n",
      "Total page in teducn_ALL_link_དབྱིན་ཡིག་གི་སྐོར།.json: 1\n",
      "page key name: Page དབྱིན་ཡིག་གི་སྐོར། 1\n",
      "Error processing file teducn_ALL_link_མང་ཚོགས་སྒྱུ་རྩལ།.json: 'list' object has no attribute 'join'\n",
      "Error processing file teducn_ALL_link_དབྱིན་ཡིག་གི་སྐོར།.json: 'list' object has no attribute 'join'\n",
      "Processed 47 files\n",
      "CPU times: user 22.6 ms, sys: 251 µs, total: 22.8 ms\n",
      "Wall time: 17.4 ms\n"
     ]
    },
    {
     "name": "stderr",
     "output_type": "stream",
     "text": [
      "\n"
     ]
    }
   ],
   "source": [
    "%%time\n",
    "# Example usage\n",
    "directory_path = './data/links/'\n",
    "get_json_files(directory_path)"
   ]
  },
  {
   "cell_type": "code",
   "execution_count": null,
   "id": "efbef8a7-b17a-48dc-89b4-0e48a6f9a09c",
   "metadata": {},
   "outputs": [],
   "source": [
    "# 14:44"
   ]
  },
  {
   "cell_type": "code",
   "execution_count": null,
   "id": "2eaa385a-ddde-4593-882f-3d223a33118e",
   "metadata": {},
   "outputs": [],
   "source": []
  },
  {
   "cell_type": "markdown",
   "id": "e338a67c-9490-42d2-84aa-cf407c05ddf0",
   "metadata": {},
   "source": [
    "## fixing missing file"
   ]
  },
  {
   "cell_type": "code",
   "execution_count": 17,
   "id": "be2643b6-49c7-4c05-9962-2b6ef80d76a5",
   "metadata": {
    "scrolled": true
   },
   "outputs": [
    {
     "name": "stdout",
     "output_type": "stream",
     "text": [
      "Total page in teducn_ALL_link_རོལ་དབྱངས། ལུས་རྩལ། རི་མོ།.json: 1\n",
      "page key name: Page རོལ་དབྱངས། ལུས་རྩལ། རི་མོ། 1\n",
      "Page key code: Page རོལ་དབྱངས། ལུས་རྩལ། རི་མོ། \n"
     ]
    },
    {
     "name": "stderr",
     "output_type": "stream",
     "text": [
      "  0%|          | 0/1 [00:00<?, ?it/s]\n",
      "  0%|          | 0/18 [00:00<?, ?it/s]\u001b[A\n",
      "  6%|▌         | 1/18 [00:07<02:11,  7.75s/it]\u001b[A"
     ]
    },
    {
     "name": "stdout",
     "output_type": "stream",
     "text": [
      "<table bgcolor=\"#DBF3FF\" border=\"0\" cellpadding=\"2\" cellspacing=\"1\" width=\"100%\">\n",
      "<tr>\n",
      "<td bgcolor=\"#F0FBFF\" height=\"30\"><span class=\"lan_22\">ད་སྔ་གཟིགས་བཞིན་པ། <a href=\"http://www.teducn.com/index.php\"> མདུན་ངོས།</a> &gt; <a href=\"http://www.teducn.com/lilunyanjiu/\">གཞུང་ལུགས་ཞིབ་འཇུག</a> &gt; <a href=\"http://www.teducn.com/lilunyanjiu/yintimei/\">རོལ་དབྱངས། ལུས་རྩལ། རི་མོ།</a></span></td>\n",
      "</tr>\n",
      "</table><table bgcolor=\"#DBF3FF\" border=\"0\" cellpadding=\"2\" cellspacing=\"1\" width=\"100%\">\n",
      "<tr>\n",
      "<td bgcolor=\"#F0FBFF\" height=\"30\"><span class=\"lan_22\">ད་སྔ་གཟིགས་བཞིན་པ། <a href=\"http://www.teducn.com/index.php\"> མདུན་ངོས།</a> &gt; <a href=\"http://www.teducn.com/lilunyanjiu/\">གཞུང་ལུགས་ཞིབ་འཇུག</a> &gt; <a href=\"http://www.teducn.com/lilunyanjiu/yintimei/\">རོལ་དབྱངས། ལུས་རྩལ། རི་མོ།</a></span></td>\n",
      "</tr>\n",
      "</table>\n",
      "['མདུན་ངོས།', 'གཞུང་ལུགས་ཞིབ་འཇུག', 'རོལ་དབྱངས། ལུས་རྩལ། རི་མོ།']\n",
      "<table border=\"0\" cellpadding=\"0\" cellspacing=\"0\" class=\"title_info\" width=\"100%\">\n",
      "<tr>\n",
      "<td><span class=\"lan_19\">༄༅། །བོད་ཀྱི་འཇུ་རེས་རྒྱག་ཚུལ། །</span></td>\n",
      "</tr>\n",
      "<tr>\n",
      "<td class=\"hei_zw\">སྤེལ་དུས།03-20  ཡོང་ཁུངས།ཀྲུང་གོའི་བོད་ཀྱི་སློབ་གསོ་དྲ་བ།  རྩོམ་པ་པོ། གཅན་ཉི་གཞོན</td>\n",
      "</tr>\n",
      "</table>\n",
      "\n",
      "['མདུན་ངོས།', 'གཞུང་ལུགས་ཞིབ་འཇུག', 'རོལ་དབྱངས། ལུས་རྩལ། རི་མོ།']\n",
      "<table border=\"0\" cellpadding=\"0\" cellspacing=\"0\" class=\"title_info\" width=\"100%\">\n",
      "<tr>\n",
      "<td><span class=\"lan_19\">༄༅། །བོད་ཀྱི་མགུར་གླུའི་བྱུང་འཕེལ་སྐོར་གླེང་བ།</span></td>\n",
      "</tr>\n",
      "<tr>\n",
      "<td class=\"hei_zw\">སྤེལ་དུས།03-20  ཡོང་ཁུངས།བོད་ལྗོངས་སྒྱུ་རྩལ་ཞིབ་འཇུག  རྩོམ་པ་པོ།ཕུན་ཚོགས་ཡོན་ཏན།</td>\n",
      "</tr>\n",
      "</table>\n",
      "<table bgcolor=\"#DBF3FF\" border=\"0\" cellpadding=\"2\" cellspacing=\"1\" width=\"100%\">\n",
      "<tr>\n",
      "<td bgcolor=\"#F0FBFF\" height=\"30\"><span class=\"lan_22\">ད་སྔ་གཟིགས་བཞིན་པ། <a href=\"http://www.teducn.com/index.php\"> མདུན་ངོས།</a> &gt; <a href=\"http://www.teducn.com/lilunyanjiu/\">གཞུང་ལུགས་ཞིབ་འཇུག</a> &gt; <a href=\"http://www.teducn.com/lilunyanjiu/yintimei/\">རོལ་དབྱངས། ལུས་རྩལ། རི་མོ།</a></span></td>\n",
      "</tr>\n",
      "</table>\n",
      "['མདུན་ངོས།', 'གཞུང་ལུགས་ཞིབ་འཇུག', 'རོལ་དབྱངས། ལུས་རྩལ། རི་མོ།']\n",
      "<table border=\"0\" cellpadding=\"0\" cellspacing=\"0\" class=\"title_info\" width=\"100%\">\n",
      "<tr>\n",
      "<td><span class=\"lan_19\">༄༅། །འུར་རྡོ་འཕེན་པ།</span></td>\n",
      "</tr>\n",
      "<tr>\n",
      "<td class=\"hei_zw\">སྤེལ་དུས།03-20  ཡོང་ཁུངས།ཀྲུང་གོའི་བོད་ཀྱི་སློབ་གསོ་དྲ་བ།  རྩོམ་པ་པོ། གཅན་ཉི་གཞོན</td>\n",
      "</tr>\n",
      "</table>\n"
     ]
    },
    {
     "name": "stderr",
     "output_type": "stream",
     "text": [
      "\n",
      " 22%|██▏       | 4/18 [00:08<00:24,  1.73s/it]\u001b[A\n",
      " 28%|██▊       | 5/18 [00:08<00:16,  1.28s/it]\u001b[A"
     ]
    },
    {
     "name": "stdout",
     "output_type": "stream",
     "text": [
      "<table bgcolor=\"#DBF3FF\" border=\"0\" cellpadding=\"2\" cellspacing=\"1\" width=\"100%\">\n",
      "<tr>\n",
      "<td bgcolor=\"#F0FBFF\" height=\"30\"><span class=\"lan_22\">ད་སྔ་གཟིགས་བཞིན་པ། <a href=\"http://www.teducn.com/index.php\"> མདུན་ངོས།</a> &gt; <a href=\"http://www.teducn.com/lilunyanjiu/\">གཞུང་ལུགས་ཞིབ་འཇུག</a> &gt; <a href=\"http://www.teducn.com/lilunyanjiu/yintimei/\">རོལ་དབྱངས། ལུས་རྩལ། རི་མོ།</a></span></td>\n",
      "</tr>\n",
      "</table>\n",
      "['མདུན་ངོས།', 'གཞུང་ལུགས་ཞིབ་འཇུག', 'རོལ་དབྱངས། ལུས་རྩལ། རི་མོ།']\n",
      "<table border=\"0\" cellpadding=\"0\" cellspacing=\"0\" class=\"title_info\" width=\"100%\">\n",
      "<tr>\n",
      "<td><span class=\"lan_19\">༄༅། །ཞང་བོད་ཀྱི་རི་སུལ་ནས་མཆེད་པའི་གནའ་བོའི་གླུ་གར་བྲོ་གསུམ་ལ་དཔྱད་པའི་གཏམ།</span></td>\n",
      "</tr>\n",
      "<tr>\n",
      "<td class=\"hei_zw\">སྤེལ་དུས།03-21  ཡོང་ཁུངས། ཧི་མ་ལ་ཡའི་བོན་དྲ་བ།  རྩོམ་པ་པོ། དགེ་བཤེས་བློ་གྲོས་རབ་གསལ།</td>\n",
      "</tr>\n",
      "</table>\n",
      "<table bgcolor=\"#DBF3FF\" border=\"0\" cellpadding=\"2\" cellspacing=\"1\" width=\"100%\">\n",
      "<tr>\n",
      "<td bgcolor=\"#F0FBFF\" height=\"30\"><span class=\"lan_22\">ད་སྔ་གཟིགས་བཞིན་པ། <a href=\"http://www.teducn.com/index.php\"> མདུན་ངོས།</a> &gt; <a href=\"http://www.teducn.com/lilunyanjiu/\">གཞུང་ལུགས་ཞིབ་འཇུག</a> &gt; <a href=\"http://www.teducn.com/lilunyanjiu/yintimei/\">རོལ་དབྱངས། ལུས་རྩལ། རི་མོ།</a></span></td>\n",
      "</tr>\n",
      "</table>\n",
      "['མདུན་ངོས།', 'གཞུང་ལུགས་ཞིབ་འཇུག', 'རོལ་དབྱངས། ལུས་རྩལ། རི་མོ།']\n",
      "<table border=\"0\" cellpadding=\"0\" cellspacing=\"0\" class=\"title_info\" width=\"100%\">\n",
      "<tr>\n",
      "<td><span class=\"lan_19\">༄༅། །མིག་མངས།</span></td>\n",
      "</tr>\n",
      "<tr>\n",
      "<td class=\"hei_zw\">སྤེལ་དུས།03-20  ཡོང་ཁུངས།  རྩོམ་པ་པོ།</td>\n",
      "</tr>\n",
      "</table>\n"
     ]
    },
    {
     "name": "stderr",
     "output_type": "stream",
     "text": [
      "\n",
      " 33%|███▎      | 6/18 [00:12<00:22,  1.91s/it]\u001b[A"
     ]
    },
    {
     "name": "stdout",
     "output_type": "stream",
     "text": [
      "<table bgcolor=\"#DBF3FF\" border=\"0\" cellpadding=\"2\" cellspacing=\"1\" width=\"100%\">\n",
      "<tr>\n",
      "<td bgcolor=\"#F0FBFF\" height=\"30\"><span class=\"lan_22\">ད་སྔ་གཟིགས་བཞིན་པ། <a href=\"http://www.teducn.com/index.php\"> མདུན་ངོས།</a> &gt; <a href=\"http://www.teducn.com/lilunyanjiu/\">གཞུང་ལུགས་ཞིབ་འཇུག</a> &gt; <a href=\"http://www.teducn.com/lilunyanjiu/yintimei/\">རོལ་དབྱངས། ལུས་རྩལ། རི་མོ།</a></span></td>\n",
      "</tr>\n",
      "</table>\n",
      "['མདུན་ངོས།', 'གཞུང་ལུགས་ཞིབ་འཇུག', 'རོལ་དབྱངས། ལུས་རྩལ། རི་མོ།']\n",
      "<table border=\"0\" cellpadding=\"0\" cellspacing=\"0\" class=\"title_info\" width=\"100%\">\n",
      "<tr>\n",
      "<td><span class=\"lan_19\">༄༅། །བྱིས་པ་ཚོ་ཨ་ཡའི་ཁབ་རྩེ་བ།</span></td>\n",
      "</tr>\n",
      "<tr>\n",
      "<td class=\"hei_zw\">སྤེལ་དུས།03-20  ཡོང་ཁུངས།<a href=\"http://\" target=\"_blank\">http://www.teducn.com</a>  རྩོམ་པ་པོ། སེམས་ཉིད་དཔལ་ཆེན་གྱིས་བསྡུས </td>\n",
      "</tr>\n",
      "</table>\n",
      "<table bgcolor=\"#DBF3FF\" border=\"0\" cellpadding=\"2\" cellspacing=\"1\" width=\"100%\">\n",
      "<tr>\n",
      "<td bgcolor=\"#F0FBFF\" height=\"30\"><span class=\"lan_22\">ད་སྔ་གཟིགས་བཞིན་པ། <a href=\"http://www.teducn.com/index.php\"> མདུན་ངོས།</a> &gt; <a href=\"http://www.teducn.com/lilunyanjiu/\">གཞུང་ལུགས་ཞིབ་འཇུག</a> &gt; <a href=\"http://www.teducn.com/lilunyanjiu/yintimei/\">རོལ་དབྱངས། ལུས་རྩལ། རི་མོ།</a></span></td>\n",
      "</tr>\n",
      "</table>\n",
      "['མདུན་ངོས།', 'གཞུང་ལུགས་ཞིབ་འཇུག', 'རོལ་དབྱངས། ལུས་རྩལ། རི་མོ།']\n",
      "<table border=\"0\" cellpadding=\"0\" cellspacing=\"0\" class=\"title_info\" width=\"100%\">\n",
      "<tr>\n",
      "<td><span class=\"lan_19\">༄༅། །རྩེད་མོ་རྩེ་སྟངས།</span></td>\n",
      "</tr>\n",
      "<tr>\n",
      "<td class=\"hei_zw\">སྤེལ་དུས།03-20  ཡོང་ཁུངས།<a href=\"http://\" target=\"_blank\">http://www.teducn.com</a>  རྩོམ་པ་པོ། སེམས་ཉིད་དཔལ་ཆེན་གྱིས་བསྡུས </td>\n",
      "</tr>\n",
      "</table>\n"
     ]
    },
    {
     "name": "stderr",
     "output_type": "stream",
     "text": [
      "\n",
      " 44%|████▍     | 8/18 [00:15<00:17,  1.78s/it]\u001b[A"
     ]
    },
    {
     "name": "stdout",
     "output_type": "stream",
     "text": [
      "<table bgcolor=\"#DBF3FF\" border=\"0\" cellpadding=\"2\" cellspacing=\"1\" width=\"100%\">\n",
      "<tr>\n",
      "<td bgcolor=\"#F0FBFF\" height=\"30\"><span class=\"lan_22\">ད་སྔ་གཟིགས་བཞིན་པ། <a href=\"http://www.teducn.com/index.php\"> མདུན་ངོས།</a> &gt; <a href=\"http://www.teducn.com/lilunyanjiu/\">གཞུང་ལུགས་ཞིབ་འཇུག</a> &gt; <a href=\"http://www.teducn.com/lilunyanjiu/yintimei/\">རོལ་དབྱངས། ལུས་རྩལ། རི་མོ།</a></span></td>\n",
      "</tr>\n",
      "</table>\n",
      "['མདུན་ངོས།', 'གཞུང་ལུགས་ཞིབ་འཇུག', 'རོལ་དབྱངས། ལུས་རྩལ། རི་མོ།']\n",
      "<table border=\"0\" cellpadding=\"0\" cellspacing=\"0\" class=\"title_info\" width=\"100%\">\n",
      "<tr>\n",
      "<td><span class=\"lan_19\">༄༅། །རྡེའུ་རྩེད །</span></td>\n",
      "</tr>\n",
      "<tr>\n",
      "<td class=\"hei_zw\">སྤེལ་དུས།03-20  ཡོང་ཁུངས།<a href=\"http://\" target=\"_blank\">http://www.teducn.com</a>  རྩོམ་པ་པོ། གཅན་ཉི་གཞོན</td>\n",
      "</tr>\n",
      "</table>\n"
     ]
    },
    {
     "name": "stderr",
     "output_type": "stream",
     "text": [
      "\n",
      " 50%|█████     | 9/18 [02:18<04:40, 31.11s/it]\u001b[A"
     ]
    },
    {
     "name": "stdout",
     "output_type": "stream",
     "text": [
      "<table bgcolor=\"#DBF3FF\" border=\"0\" cellpadding=\"2\" cellspacing=\"1\" width=\"100%\">\n",
      "<tr>\n",
      "<td bgcolor=\"#F0FBFF\" height=\"30\"><span class=\"lan_22\">ད་སྔ་གཟིགས་བཞིན་པ། <a href=\"http://www.teducn.com/index.php\"> མདུན་ངོས།</a> &gt; <a href=\"http://www.teducn.com/lilunyanjiu/\">གཞུང་ལུགས་ཞིབ་འཇུག</a> &gt; <a href=\"http://www.teducn.com/lilunyanjiu/yintimei/\">རོལ་དབྱངས། ལུས་རྩལ། རི་མོ།</a></span></td>\n",
      "</tr>\n",
      "</table>\n",
      "['མདུན་ངོས།', 'གཞུང་ལུགས་ཞིབ་འཇུག', 'རོལ་དབྱངས། ལུས་རྩལ། རི་མོ།']\n",
      "<table border=\"0\" cellpadding=\"0\" cellspacing=\"0\" class=\"title_info\" width=\"100%\">\n",
      "<tr>\n",
      "<td><span class=\"lan_19\">༄༅། །རྗེ་སི་ཏུའི་ཕྱག་བྲིས་རྩ་ཆེན། །</span></td>\n",
      "</tr>\n",
      "<tr>\n",
      "<td class=\"hei_zw\">སྤེལ་དུས།03-20  ཡོང་ཁུངས།  རྩོམ་པ་པོ།</td>\n",
      "</tr>\n",
      "</table>\n"
     ]
    },
    {
     "name": "stderr",
     "output_type": "stream",
     "text": [
      "\n",
      " 56%|█████▌    | 10/18 [02:18<03:05, 23.18s/it]\u001b[A\n",
      " 61%|██████    | 11/18 [02:18<01:58, 16.98s/it]\u001b[A"
     ]
    },
    {
     "name": "stdout",
     "output_type": "stream",
     "text": [
      "<table bgcolor=\"#DBF3FF\" border=\"0\" cellpadding=\"2\" cellspacing=\"1\" width=\"100%\">\n",
      "<tr>\n",
      "<td bgcolor=\"#F0FBFF\" height=\"30\"><span class=\"lan_22\">ད་སྔ་གཟིགས་བཞིན་པ། <a href=\"http://www.teducn.com/index.php\"> མདུན་ངོས།</a> &gt; <a href=\"http://www.teducn.com/lilunyanjiu/\">གཞུང་ལུགས་ཞིབ་འཇུག</a> &gt; <a href=\"http://www.teducn.com/lilunyanjiu/yintimei/\">རོལ་དབྱངས། ལུས་རྩལ། རི་མོ།</a></span></td>\n",
      "</tr>\n",
      "</table>\n",
      "['མདུན་ངོས།', 'གཞུང་ལུགས་ཞིབ་འཇུག', 'རོལ་དབྱངས། ལུས་རྩལ། རི་མོ།']\n",
      "<table border=\"0\" cellpadding=\"0\" cellspacing=\"0\" class=\"title_info\" width=\"100%\">\n",
      "<tr>\n",
      "<td><span class=\"lan_19\">༄༅། །བོད་ཀྱི་འུར་རྡོའི་བྱུང་རིམ་དང་རིན་ཐང་ །</span></td>\n",
      "</tr>\n",
      "<tr>\n",
      "<td class=\"hei_zw\">སྤེལ་དུས།03-21  ཡོང་ཁུངས། གཉན་པོ་གཡི་རྩེའི་ཤེས་རིག་ལྟེ་གནས།   རྩོམ་པ་པོ།</td>\n",
      "</tr>\n",
      "</table>\n",
      "<table bgcolor=\"#DBF3FF\" border=\"0\" cellpadding=\"2\" cellspacing=\"1\" width=\"100%\">\n",
      "<tr>\n",
      "<td bgcolor=\"#F0FBFF\" height=\"30\"><span class=\"lan_22\">ད་སྔ་གཟིགས་བཞིན་པ། <a href=\"http://www.teducn.com/index.php\"> མདུན་ངོས།</a> &gt; <a href=\"http://www.teducn.com/lilunyanjiu/\">གཞུང་ལུགས་ཞིབ་འཇུག</a> &gt; <a href=\"http://www.teducn.com/lilunyanjiu/yintimei/\">རོལ་དབྱངས། ལུས་རྩལ། རི་མོ།</a></span></td>\n",
      "</tr>\n",
      "</table>\n",
      "['མདུན་ངོས།', 'གཞུང་ལུགས་ཞིབ་འཇུག', 'རོལ་དབྱངས། ལུས་རྩལ། རི་མོ།']\n",
      "<table border=\"0\" cellpadding=\"0\" cellspacing=\"0\" class=\"title_info\" width=\"100%\">\n",
      "<tr>\n",
      "<td><span class=\"lan_19\">༄༅། །བྲོ་དང་གླུ་ཡི་དོན།</span></td>\n",
      "</tr>\n",
      "<tr>\n",
      "<td class=\"hei_zw\">སྤེལ་དུས།03-20  ཡོང་ཁུངས།  རྩོམ་པ་པོ། ཤེས་རབ།</td>\n",
      "</tr>\n",
      "</table>\n",
      "<table bgcolor=\"#DBF3FF\" border=\"0\" cellpadding=\"2\" cellspacing=\"1\" width=\"100%\">\n",
      "<tr>\n",
      "<td bgcolor=\"#F0FBFF\" height=\"30\"><span class=\"lan_22\">ད་སྔ་གཟིགས་བཞིན་པ། <a href=\"http://www.teducn.com/index.php\"> མདུན་ངོས།</a> &gt; <a href=\"http://www.teducn.com/lilunyanjiu/\">གཞུང་ལུགས་ཞིབ་འཇུག</a> &gt; <a href=\"http://www.teducn.com/lilunyanjiu/yintimei/\">རོལ་དབྱངས། ལུས་རྩལ། རི་མོ།</a></span></td>\n",
      "</tr>\n",
      "</table>\n",
      "['མདུན་ངོས།', 'གཞུང་ལུགས་ཞིབ་འཇུག', 'རོལ་དབྱངས། ལུས་རྩལ། རི་མོ།']\n",
      "<table border=\"0\" cellpadding=\"0\" cellspacing=\"0\" class=\"title_info\" width=\"100%\">\n",
      "<tr>\n",
      "<td><span class=\"lan_19\">༄༅། །གདོད་མའི་གླུ་གར་གྱི་བྱུང་བ་རགས་ཙམ་བརྗོད་པ།</span></td>\n",
      "</tr>\n",
      "<tr>\n",
      "<td class=\"hei_zw\">སྤེལ་དུས།03-20  ཡོང་ཁུངས།མང་ཚོགས་སྒྱུ་རྕལ་  རྩོམ་པ་པོ།ཚེ་ཐར་སྐྱིད།</td>\n",
      "</tr>\n",
      "</table>\n",
      "<table bgcolor=\"#DBF3FF\" border=\"0\" cellpadding=\"2\" cellspacing=\"1\" width=\"100%\">\n",
      "<tr>\n",
      "<td bgcolor=\"#F0FBFF\" height=\"30\"><span class=\"lan_22\">ད་སྔ་གཟིགས་བཞིན་པ། <a href=\"http://www.teducn.com/index.php\"> མདུན་ངོས།</a> &gt; <a href=\"http://www.teducn.com/lilunyanjiu/\">གཞུང་ལུགས་ཞིབ་འཇུག</a> &gt; <a href=\"http://www.teducn.com/lilunyanjiu/yintimei/\">རོལ་དབྱངས། ལུས་རྩལ། རི་མོ།</a></span></td>\n",
      "</tr>\n",
      "</table>\n",
      "['མདུན་ངོས།', 'གཞུང་ལུགས་ཞིབ་འཇུག', 'རོལ་དབྱངས། ལུས་རྩལ། རི་མོ།']\n",
      "<table border=\"0\" cellpadding=\"0\" cellspacing=\"0\" class=\"title_info\" width=\"100%\">\n",
      "<tr>\n",
      "<td><span class=\"lan_19\">༄༅། །རོལ་མོའི་བསྟན་བཅོས་ཞེས་བྱ་བ་བཞུགས་སོ། །</span></td>\n",
      "</tr>\n",
      "<tr>\n",
      "<td class=\"hei_zw\">སྤེལ་དུས།03-20  ཡོང་ཁུངས།  རྩོམ་པ་པོ།ས་སྐྱ་པཎ་ཆེན།</td>\n",
      "</tr>\n",
      "</table>\n"
     ]
    },
    {
     "name": "stderr",
     "output_type": "stream",
     "text": [
      "\n",
      " 78%|███████▊  | 14/18 [02:22<00:34,  8.54s/it]\u001b[A"
     ]
    },
    {
     "name": "stdout",
     "output_type": "stream",
     "text": [
      "<table bgcolor=\"#DBF3FF\" border=\"0\" cellpadding=\"2\" cellspacing=\"1\" width=\"100%\">\n",
      "<tr>\n",
      "<td bgcolor=\"#F0FBFF\" height=\"30\"><span class=\"lan_22\">ད་སྔ་གཟིགས་བཞིན་པ། <a href=\"http://www.teducn.com/index.php\"> མདུན་ངོས།</a> &gt; <a href=\"http://www.teducn.com/lilunyanjiu/\">གཞུང་ལུགས་ཞིབ་འཇུག</a> &gt; <a href=\"http://www.teducn.com/lilunyanjiu/yintimei/\">རོལ་དབྱངས། ལུས་རྩལ། རི་མོ།</a></span></td>\n",
      "</tr>\n",
      "</table>\n",
      "['མདུན་ངོས།', 'གཞུང་ལུགས་ཞིབ་འཇུག', 'རོལ་དབྱངས། ལུས་རྩལ། རི་མོ།']\n",
      "<table border=\"0\" cellpadding=\"0\" cellspacing=\"0\" class=\"title_info\" width=\"100%\">\n",
      "<tr>\n",
      "<td><span class=\"lan_19\">༄༅། །ཀ་མ་ཀ་ཡེ་དེའི་རྩེད་ལུགས</span></td>\n",
      "</tr>\n",
      "<tr>\n",
      "<td class=\"hei_zw\">སྤེལ་དུས།03-20  ཡོང་ཁུངས། བོད་ལྗོངས་ཞིབ་འཇུག  རྩོམ་པ་པོ། གཅན་ཉི་གཞོན</td>\n",
      "</tr>\n",
      "</table>\n"
     ]
    },
    {
     "name": "stderr",
     "output_type": "stream",
     "text": [
      "\n",
      " 83%|████████▎ | 15/18 [02:26<00:22,  7.64s/it]\u001b[A"
     ]
    },
    {
     "name": "stdout",
     "output_type": "stream",
     "text": [
      "<table bgcolor=\"#DBF3FF\" border=\"0\" cellpadding=\"2\" cellspacing=\"1\" width=\"100%\">\n",
      "<tr>\n",
      "<td bgcolor=\"#F0FBFF\" height=\"30\"><span class=\"lan_22\">ད་སྔ་གཟིགས་བཞིན་པ། <a href=\"http://www.teducn.com/index.php\"> མདུན་ངོས།</a> &gt; <a href=\"http://www.teducn.com/lilunyanjiu/\">གཞུང་ལུགས་ཞིབ་འཇུག</a> &gt; <a href=\"http://www.teducn.com/lilunyanjiu/yintimei/\">རོལ་དབྱངས། ལུས་རྩལ། རི་མོ།</a></span></td>\n",
      "</tr>\n",
      "</table>\n",
      "['མདུན་ངོས།', 'གཞུང་ལུགས་ཞིབ་འཇུག', 'རོལ་དབྱངས། ལུས་རྩལ། རི་མོ།']\n",
      "<table border=\"0\" cellpadding=\"0\" cellspacing=\"0\" class=\"title_info\" width=\"100%\">\n",
      "<tr>\n",
      "<td><span class=\"lan_19\">༄༅། །བོད་ཀྱི་ཐག་འཐེན།</span></td>\n",
      "</tr>\n",
      "<tr>\n",
      "<td class=\"hei_zw\">སྤེལ་དུས།03-20  ཡོང་ཁུངས། བོད་ལྗོངས་ཞིབ་འཇུག  རྩོམ་པ་པོ།</td>\n",
      "</tr>\n",
      "</table>\n"
     ]
    },
    {
     "name": "stderr",
     "output_type": "stream",
     "text": [
      "\n",
      " 89%|████████▉ | 16/18 [02:30<00:13,  6.86s/it]\u001b[A"
     ]
    },
    {
     "name": "stdout",
     "output_type": "stream",
     "text": [
      "<table bgcolor=\"#DBF3FF\" border=\"0\" cellpadding=\"2\" cellspacing=\"1\" width=\"100%\">\n",
      "<tr>\n",
      "<td bgcolor=\"#F0FBFF\" height=\"30\"><span class=\"lan_22\">ད་སྔ་གཟིགས་བཞིན་པ། <a href=\"http://www.teducn.com/index.php\"> མདུན་ངོས།</a> &gt; <a href=\"http://www.teducn.com/lilunyanjiu/\">གཞུང་ལུགས་ཞིབ་འཇུག</a> &gt; <a href=\"http://www.teducn.com/lilunyanjiu/yintimei/\">རོལ་དབྱངས། ལུས་རྩལ། རི་མོ།</a></span></td>\n",
      "</tr>\n",
      "</table>\n",
      "['མདུན་ངོས།', 'གཞུང་ལུགས་ཞིབ་འཇུག', 'རོལ་དབྱངས། ལུས་རྩལ། རི་མོ།']\n",
      "<table border=\"0\" cellpadding=\"0\" cellspacing=\"0\" class=\"title_info\" width=\"100%\">\n",
      "<tr>\n",
      "<td><span class=\"lan_19\">༄༅། །ཚག་དཀའ་མོ་རྡོ་འཕེན་པ།</span></td>\n",
      "</tr>\n",
      "<tr>\n",
      "<td class=\"hei_zw\">སྤེལ་དུས།03-20  ཡོང་ཁུངས།<a href=\"http://\" target=\"_blank\">http://www.teducn.com</a>  རྩོམ་པ་པོ། ས་གོང་དབང་འདུས། </td>\n",
      "</tr>\n",
      "</table>\n",
      "<table bgcolor=\"#DBF3FF\" border=\"0\" cellpadding=\"2\" cellspacing=\"1\" width=\"100%\">\n",
      "<tr>\n",
      "<td bgcolor=\"#F0FBFF\" height=\"30\"><span class=\"lan_22\">ད་སྔ་གཟིགས་བཞིན་པ། <a href=\"http://www.teducn.com/index.php\"> མདུན་ངོས།</a> &gt; <a href=\"http://www.teducn.com/lilunyanjiu/\">གཞུང་ལུགས་ཞིབ་འཇུག</a> &gt; <a href=\"http://www.teducn.com/lilunyanjiu/yintimei/\">རོལ་དབྱངས། ལུས་རྩལ། རི་མོ།</a></span></td>\n",
      "</tr>\n",
      "</table>\n",
      "['མདུན་ངོས།', 'གཞུང་ལུགས་ཞིབ་འཇུག', 'རོལ་དབྱངས། ལུས་རྩལ། རི་མོ།']\n",
      "<table border=\"0\" cellpadding=\"0\" cellspacing=\"0\" class=\"title_info\" width=\"100%\">\n",
      "<tr>\n",
      "<td><span class=\"lan_19\">༄༅། །ཐག་མཆོང་།</span></td>\n",
      "</tr>\n",
      "<tr>\n",
      "<td class=\"hei_zw\">སྤེལ་དུས།03-20  ཡོང་ཁུངས།<a href=\"http://\" target=\"_blank\">http://www.teducn.com</a>  རྩོམ་པ་པོ། ས་གོང་དབང་འདུས།</td>\n",
      "</tr>\n",
      "</table>\n"
     ]
    },
    {
     "name": "stderr",
     "output_type": "stream",
     "text": [
      "\n",
      "100%|██████████| 18/18 [02:33<00:00,  8.53s/it]\u001b[A\n",
      "100%|██████████| 1/1 [02:33<00:00, 153.58s/it]"
     ]
    },
    {
     "name": "stdout",
     "output_type": "stream",
     "text": [
      "<table bgcolor=\"#DBF3FF\" border=\"0\" cellpadding=\"2\" cellspacing=\"1\" width=\"100%\">\n",
      "<tr>\n",
      "<td bgcolor=\"#F0FBFF\" height=\"30\"><span class=\"lan_22\">ད་སྔ་གཟིགས་བཞིན་པ། <a href=\"http://www.teducn.com/index.php\"> མདུན་ངོས།</a> &gt; <a href=\"http://www.teducn.com/lilunyanjiu/\">གཞུང་ལུགས་ཞིབ་འཇུག</a> &gt; <a href=\"http://www.teducn.com/lilunyanjiu/yintimei/\">རོལ་དབྱངས། ལུས་རྩལ། རི་མོ།</a></span></td>\n",
      "</tr>\n",
      "</table>\n",
      "['མདུན་ངོས།', 'གཞུང་ལུགས་ཞིབ་འཇུག', 'རོལ་དབྱངས། ལུས་རྩལ། རི་མོ།']\n",
      "<table border=\"0\" cellpadding=\"0\" cellspacing=\"0\" class=\"title_info\" width=\"100%\">\n",
      "<tr>\n",
      "<td><span class=\"lan_19\">༄༅། །རྟ་ཐོག་མདའ་རྩལ་།</span></td>\n",
      "</tr>\n",
      "<tr>\n",
      "<td class=\"hei_zw\">སྤེལ་དུས།03-20  ཡོང་ཁུངས།<a href=\"http://\" target=\"_blank\">http://www.teducn.com</a>  རྩོམ་པ་པོ། ས་གོང་དབང་འདུས། </td>\n",
      "</tr>\n",
      "</table>\n",
      "Total Failure in the རོལ་དབྱངས། article: 0\n",
      "teducn_ALL_content_རོལ་དབྱངས།.json\n",
      "Successfully saved: teducn_ALL_content_རོལ་དབྱངས།.json\n",
      "Processed 1 files\n"
     ]
    },
    {
     "name": "stderr",
     "output_type": "stream",
     "text": [
      "\n"
     ]
    }
   ],
   "source": [
    "json_files = [\"./data/links/teducn_ALL_link_རོལ་དབྱངས། ལུས་རྩལ། རི་མོ།.json\"]\n",
    "    \n",
    "with ThreadPoolExecutor(max_workers=10) as executor:\n",
    "    list(tqdm(executor.map(process_json_file, json_files), total=len(json_files)))\n",
    "\n",
    "print(f\"Processed {len(json_files)} files\")"
   ]
  },
  {
   "cell_type": "code",
   "execution_count": null,
   "id": "2420a0f1-3dab-4edc-ac63-3db729fe8adc",
   "metadata": {},
   "outputs": [],
   "source": []
  },
  {
   "cell_type": "code",
   "execution_count": null,
   "id": "cf9f9cc4-8bf1-4902-b8ea-415194ce942a",
   "metadata": {},
   "outputs": [],
   "source": []
  },
  {
   "cell_type": "code",
   "execution_count": null,
   "id": "87d92934-c3d8-41f3-960d-87b5d0dc0e28",
   "metadata": {},
   "outputs": [],
   "source": [
    "len(json_files)"
   ]
  },
  {
   "cell_type": "code",
   "execution_count": null,
   "id": "63d8b4d0-21e1-4524-ba2d-e286317295fb",
   "metadata": {},
   "outputs": [],
   "source": []
  },
  {
   "cell_type": "code",
   "execution_count": null,
   "id": "71a99bd1-a62c-48ad-8dbc-156858878aeb",
   "metadata": {},
   "outputs": [],
   "source": []
  },
  {
   "cell_type": "code",
   "execution_count": null,
   "id": "47e5f1ed-f97d-4718-992a-12602558bfb9",
   "metadata": {},
   "outputs": [],
   "source": []
  },
  {
   "cell_type": "code",
   "execution_count": null,
   "id": "fd0740d3-48a4-4c87-8699-3cc2117904ea",
   "metadata": {},
   "outputs": [],
   "source": []
  }
 ],
 "metadata": {
  "kernelspec": {
   "display_name": "Python 3 (ipykernel)",
   "language": "python",
   "name": "python3"
  },
  "language_info": {
   "codemirror_mode": {
    "name": "ipython",
    "version": 3
   },
   "file_extension": ".py",
   "mimetype": "text/x-python",
   "name": "python",
   "nbconvert_exporter": "python",
   "pygments_lexer": "ipython3",
   "version": "3.10.13"
  }
 },
 "nbformat": 4,
 "nbformat_minor": 5
}
