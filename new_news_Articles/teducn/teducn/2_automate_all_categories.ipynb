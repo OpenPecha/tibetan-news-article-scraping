{
 "cells": [
  {
   "cell_type": "code",
   "execution_count": 28,
   "id": "40147810-a5ac-49c4-9891-123f743b40eb",
   "metadata": {},
   "outputs": [],
   "source": [
    "import requests\n",
    "from bs4 import BeautifulSoup\n",
    "import json\n",
    "import time\n",
    "\n",
    "from tqdm import tqdm"
   ]
  },
  {
   "cell_type": "code",
   "execution_count": 29,
   "id": "7c3970d1-04ce-402d-afa7-fbf8323f6284",
   "metadata": {},
   "outputs": [],
   "source": [
    "import teducn_utils\n",
    "import pandas as pd"
   ]
  },
  {
   "cell_type": "code",
   "execution_count": null,
   "id": "ca1d7bbc-d27b-4c64-aa2d-5d27409915d7",
   "metadata": {},
   "outputs": [],
   "source": []
  },
  {
   "cell_type": "markdown",
   "id": "685b9b9e-98a7-4a1f-a674-2125437e3fe4",
   "metadata": {},
   "source": [
    "\n",
    "## base_url = \"http://www.teducn.com\""
   ]
  },
  {
   "cell_type": "markdown",
   "id": "95f69b28-a91e-479a-9d51-3e2d466692a6",
   "metadata": {},
   "source": [
    "Tabs not extracted:\n",
    "\"http://www.teducn.com\"\n"
   ]
  },
  {
   "cell_type": "code",
   "execution_count": null,
   "id": "53f131a3-9008-4061-a1c1-191bf90cab51",
   "metadata": {},
   "outputs": [],
   "source": []
  },
  {
   "cell_type": "markdown",
   "id": "acd071a1-9fce-42e8-9d49-0e71dc3b42e4",
   "metadata": {},
   "source": [
    "\n",
    "------------\n",
    "-----------\n",
    "------------\n",
    "------------\n",
    "------------"
   ]
  },
  {
   "cell_type": "code",
   "execution_count": null,
   "id": "25790012-6125-4ff5-8f51-eae50f5078ef",
   "metadata": {},
   "outputs": [],
   "source": []
  },
  {
   "cell_type": "code",
   "execution_count": 30,
   "id": "467da2b4-69ca-4b77-b0b5-01ec39d844bc",
   "metadata": {},
   "outputs": [],
   "source": [
    "def loop_article_page(total_page, custom_url, key_code):\n",
    "    \"\"\"\n",
    "    \n",
    "    \"\"\"\n",
    "    return_file = {\n",
    "        \"Data\": [],\n",
    "        \"message\": \"success\",\n",
    "        \"response\": 200\n",
    "    }\n",
    "    All_url_links = {}\n",
    "    if total_page == 0:\n",
    "        total_page = 1\n",
    "    \n",
    "    try:\n",
    "        for i in tqdm(range(1, total_page+1)):\n",
    "            if i == 1:\n",
    "                final_url = custom_url\n",
    "            else:\n",
    "                final_url = custom_url + \"index_\" + str(i) + \".html\"\n",
    "                \n",
    "            # print(final_url)\n",
    "            found_url_links = teducn_utils.extract_teducn_page_article_links(final_url)\n",
    "            key = key_code + str(i)\n",
    "            All_url_links[key] = found_url_links\n",
    "        return_file[\"Data\"] = All_url_links\n",
    "        return return_file\n",
    "    \n",
    "    except Exception as e:\n",
    "        return_file[\"Data\"] = All_url_links\n",
    "        return_file[\"message\"] = e\n",
    "        return_file[\"response\"] = 404\n",
    "        return return_file"
   ]
  },
  {
   "cell_type": "code",
   "execution_count": 31,
   "id": "36d048db-f75b-4bbf-99ba-333eb7639175",
   "metadata": {},
   "outputs": [],
   "source": [
    "def check_error_in_links(All_url_link, page_code, print_each_error=False):\n",
    "    \"\"\"\n",
    "    \n",
    "    \n",
    "    \"\"\"\n",
    "\n",
    "    error_counter = 0\n",
    "    for page_id in range(1, len(All_url_link)):\n",
    "        page_key = page_code + str(page_id)\n",
    "        try:\n",
    "            All_url_link.get(page_key)\n",
    "            if  All_url_link.get(page_key)[\"Response\"]!= 200:\n",
    "                error_counter += 1\n",
    "                if print_each_error:\n",
    "                    print(page_key, All_url_link.get(page_key)[\"message\"])\n",
    "        except Exception as e:\n",
    "            print(page_key, e)\n",
    "\n",
    "    print(f\"Total error in {page_code}: {error_counter}\")"
   ]
  },
  {
   "cell_type": "code",
   "execution_count": 32,
   "id": "43edc8d7-14ca-44e8-9fda-7ec78d5e7fe8",
   "metadata": {},
   "outputs": [],
   "source": [
    "def save_json(path, file_name, data):\n",
    "    \"\"\"\n",
    "    \n",
    "    \"\"\"\n",
    "    with open(path+file_name, \"w\") as outfile:\n",
    "        json.dump(data, outfile, indent=4, ensure_ascii=False)\n",
    "        print(f\"\\n\\nSuccessfully saved: {file_name}\")"
   ]
  },
  {
   "cell_type": "code",
   "execution_count": null,
   "id": "1f46d139-cd34-40d1-be5f-93f40630ccbb",
   "metadata": {},
   "outputs": [],
   "source": []
  },
  {
   "cell_type": "code",
   "execution_count": null,
   "id": "2dfeb92c-62d7-404c-83cc-f2ec569ddadb",
   "metadata": {},
   "outputs": [],
   "source": []
  },
  {
   "cell_type": "markdown",
   "id": "8285b51c-3a40-4e55-bf05-b132ecb3d64c",
   "metadata": {},
   "source": [
    "### all data"
   ]
  },
  {
   "cell_type": "code",
   "execution_count": 38,
   "id": "25b41ef0-af0c-4cee-ad0f-2e6c73282629",
   "metadata": {
    "scrolled": true
   },
   "outputs": [
    {
     "data": {
      "text/html": [
       "<div>\n",
       "<style scoped>\n",
       "    .dataframe tbody tr th:only-of-type {\n",
       "        vertical-align: middle;\n",
       "    }\n",
       "\n",
       "    .dataframe tbody tr th {\n",
       "        vertical-align: top;\n",
       "    }\n",
       "\n",
       "    .dataframe thead th {\n",
       "        text-align: right;\n",
       "    }\n",
       "</style>\n",
       "<table border=\"1\" class=\"dataframe\">\n",
       "  <thead>\n",
       "    <tr style=\"text-align: right;\">\n",
       "      <th></th>\n",
       "      <th>original_url</th>\n",
       "      <th>name_of_cate</th>\n",
       "      <th>Last_page_link</th>\n",
       "      <th>list_page_no</th>\n",
       "    </tr>\n",
       "  </thead>\n",
       "  <tbody>\n",
       "    <tr>\n",
       "      <th>0</th>\n",
       "      <td>http://www.teducn.com/cidian/PDF/</td>\n",
       "      <td>PDFགྱི་སྐོར།</td>\n",
       "      <td>སྐད་རིགས།</td>\n",
       "      <td>1</td>\n",
       "    </tr>\n",
       "    <tr>\n",
       "      <th>1</th>\n",
       "      <td>http://www.teducn.com/kechixu/huanbaowenhua/</td>\n",
       "      <td>ཁོར་ཡུག་དང་རིག་གནས།</td>\n",
       "      <td>ངོས་1/1  ངོས་རེར་ནང་དོན་ངོས། 25 སྡོམ་9     མདུ...</td>\n",
       "      <td>1</td>\n",
       "    </tr>\n",
       "    <tr>\n",
       "      <th>2</th>\n",
       "      <td>http://www.teducn.com/kechixu/huanbaoshehui/</td>\n",
       "      <td>ཁོར་ཡུག་དང་སྤྱི་ཚོགས།</td>\n",
       "      <td>ངོས་1/1  ངོས་རེར་ནང་དོན་ངོས། 25 སྡོམ་8     མདུ...</td>\n",
       "      <td>1</td>\n",
       "    </tr>\n",
       "    <tr>\n",
       "      <th>3</th>\n",
       "      <td>http://www.teducn.com/kechixu/huanbao/</td>\n",
       "      <td>ཁོར་ཡུག་དང་སློབ་གསོ།</td>\n",
       "      <td>ངོས་1/1  ངོས་རེར་ནང་དོན་ངོས། 25 སྡོམ་8     མདུ...</td>\n",
       "      <td>1</td>\n",
       "    </tr>\n",
       "    <tr>\n",
       "      <th>4</th>\n",
       "      <td>http://www.teducn.com/chuantongjiaoyu/jiating/</td>\n",
       "      <td>ཁྱིམ་ཚང་སློབ་གསོ།</td>\n",
       "      <td>ངོས་1/4  ངོས་རེར་ནང་དོན་ངོས། 25 སྡོམ་79     མད...</td>\n",
       "      <td>4</td>\n",
       "    </tr>\n",
       "    <tr>\n",
       "      <th>5</th>\n",
       "      <td>http://www.teducn.com/movie/hanwen/</td>\n",
       "      <td>གཞན་དག</td>\n",
       "      <td>ངོས་1/1  ངོས་རེར་ནང་དོན་ངོས། 25 སྡོམ་5     མདུ...</td>\n",
       "      <td>1</td>\n",
       "    </tr>\n",
       "    <tr>\n",
       "      <th>6</th>\n",
       "      <td>http://www.teducn.com/chuantongjiaoyu/mingzhud...</td>\n",
       "      <td>གསུང་རབ་བང་མཛོད།</td>\n",
       "      <td>ངོས་1/1  ངོས་རེར་ནང་དོན་ངོས། 25 སྡོམ་7     མདུ...</td>\n",
       "      <td>1</td>\n",
       "    </tr>\n",
       "    <tr>\n",
       "      <th>7</th>\n",
       "      <td>http://www.teducn.com/download/shuxue/</td>\n",
       "      <td>གྲངས་རིག་གི་སྐོར།</td>\n",
       "      <td>སྐད་རིགས།</td>\n",
       "      <td>1</td>\n",
       "    </tr>\n",
       "    <tr>\n",
       "      <th>8</th>\n",
       "      <td>http://www.teducn.com/movie/gewuhaiyang/</td>\n",
       "      <td>གླུ་གར་གྱི་རྒྱ་མཚོ།</td>\n",
       "      <td>no link last page link</td>\n",
       "      <td>1</td>\n",
       "    </tr>\n",
       "    <tr>\n",
       "      <th>9</th>\n",
       "      <td>http://www.teducn.com/chuantongjiaoyu/zongjiao...</td>\n",
       "      <td>ཆོས་ལུགས་རིག་གནས།</td>\n",
       "      <td>ངོས་1/4  ངོས་རེར་ནང་དོན་ངོས། 25 སྡོམ་89     མད...</td>\n",
       "      <td>4</td>\n",
       "    </tr>\n",
       "    <tr>\n",
       "      <th>10</th>\n",
       "      <td>http://www.teducn.com/chuantongjiaoyu/siyuanji...</td>\n",
       "      <td>དགོན་སྡེ་མཚམས་སྦྱོར།</td>\n",
       "      <td>ངོས་1/3  ངོས་རེར་ནང་དོན་ངོས། 25 སྡོམ་75     མད...</td>\n",
       "      <td>3</td>\n",
       "    </tr>\n",
       "    <tr>\n",
       "      <th>11</th>\n",
       "      <td>http://www.teducn.com/download/wuli/</td>\n",
       "      <td>དངོས་ལུགས་ཀྱི་སྐོར།</td>\n",
       "      <td>སྐད་རིགས།</td>\n",
       "      <td>1</td>\n",
       "    </tr>\n",
       "    <tr>\n",
       "      <th>12</th>\n",
       "      <td>http://www.teducn.com/zhuanyeshuyu/wuli/</td>\n",
       "      <td>དངོས་ལུགས།</td>\n",
       "      <td>ངོས་1/1  ངོས་རེར་ནང་དོན་ངོས། 25 སྡོམ་5     མདུ...</td>\n",
       "      <td>1</td>\n",
       "    </tr>\n",
       "    <tr>\n",
       "      <th>13</th>\n",
       "      <td>http://www.teducn.com/movie/yingyu/</td>\n",
       "      <td>དབྱིན་ཡིག་གི་སྐོར།</td>\n",
       "      <td>ངོས་1/1  ངོས་རེར་ནང་དོན་ངོས། 20 སྡོམ་10     མད...</td>\n",
       "      <td>1</td>\n",
       "    </tr>\n",
       "    <tr>\n",
       "      <th>14</th>\n",
       "      <td>http://www.teducn.com/renwu/xiandairenwu/</td>\n",
       "      <td>དེང་རབས་གྲགས་ཅན།</td>\n",
       "      <td>ངོས་1/1  ངོས་རེར་ནང་དོན་ངོས། 25 སྡོམ་2     མདུ...</td>\n",
       "      <td>1</td>\n",
       "    </tr>\n",
       "    <tr>\n",
       "      <th>15</th>\n",
       "      <td>http://www.teducn.com/chuantongjiaoyu/fojiaopa...</td>\n",
       "      <td>ནང་བའི་གྲུབ་མཐའ།</td>\n",
       "      <td>ངོས་1/1  ངོས་རེར་ནང་དོན་ངོས། 25 སྡོམ་25     མད...</td>\n",
       "      <td>1</td>\n",
       "    </tr>\n",
       "    <tr>\n",
       "      <th>16</th>\n",
       "      <td>http://www.teducn.com/kecheng/kechengjiaofa/</td>\n",
       "      <td>བསླབ་གཞིའི་ཁྲིད་ཐབས།</td>\n",
       "      <td>ངོས་1/1  ངོས་རེར་ནང་དོན་ངོས། 25 སྡོམ་3     མདུ...</td>\n",
       "      <td>1</td>\n",
       "    </tr>\n",
       "    <tr>\n",
       "      <th>17</th>\n",
       "      <td>http://www.teducn.com/kecheng/kechengpinggu/</td>\n",
       "      <td>བསླབ་གཞིའི་གདེང་འཇོག</td>\n",
       "      <td>ངོས་1/1  ངོས་རེར་ནང་དོན་ངོས། 25 སྡོམ་1     མདུ...</td>\n",
       "      <td>1</td>\n",
       "    </tr>\n",
       "    <tr>\n",
       "      <th>18</th>\n",
       "      <td>http://www.teducn.com/kecheng/jiaochengzhengce/</td>\n",
       "      <td>བསླབ་གཞིའི་སྲིད་ཇུས།</td>\n",
       "      <td>ངོས་1/1  ངོས་རེར་ནང་དོན་ངོས། 25 སྡོམ་1     མདུ...</td>\n",
       "      <td>1</td>\n",
       "    </tr>\n",
       "    <tr>\n",
       "      <th>19</th>\n",
       "      <td>http://www.teducn.com/kecheng/kechengjiaocai/</td>\n",
       "      <td>བསླབ་གཞིའི་སློབ་དེབ།</td>\n",
       "      <td>ངོས་1/1  ངོས་རེར་ནང་དོན་ངོས། 25 སྡོམ་4     མདུ...</td>\n",
       "      <td>1</td>\n",
       "    </tr>\n",
       "  </tbody>\n",
       "</table>\n",
       "</div>"
      ],
      "text/plain": [
       "                                         original_url           name_of_cate  \\\n",
       "0                   http://www.teducn.com/cidian/PDF/           PDFགྱི་སྐོར།   \n",
       "1        http://www.teducn.com/kechixu/huanbaowenhua/    ཁོར་ཡུག་དང་རིག་གནས།   \n",
       "2        http://www.teducn.com/kechixu/huanbaoshehui/  ཁོར་ཡུག་དང་སྤྱི་ཚོགས།   \n",
       "3              http://www.teducn.com/kechixu/huanbao/   ཁོར་ཡུག་དང་སློབ་གསོ།   \n",
       "4      http://www.teducn.com/chuantongjiaoyu/jiating/      ཁྱིམ་ཚང་སློབ་གསོ།   \n",
       "5                 http://www.teducn.com/movie/hanwen/                 གཞན་དག   \n",
       "6   http://www.teducn.com/chuantongjiaoyu/mingzhud...       གསུང་རབ་བང་མཛོད།   \n",
       "7              http://www.teducn.com/download/shuxue/      གྲངས་རིག་གི་སྐོར།   \n",
       "8            http://www.teducn.com/movie/gewuhaiyang/    གླུ་གར་གྱི་རྒྱ་མཚོ།   \n",
       "9   http://www.teducn.com/chuantongjiaoyu/zongjiao...      ཆོས་ལུགས་རིག་གནས།   \n",
       "10  http://www.teducn.com/chuantongjiaoyu/siyuanji...   དགོན་སྡེ་མཚམས་སྦྱོར།   \n",
       "11               http://www.teducn.com/download/wuli/    དངོས་ལུགས་ཀྱི་སྐོར།   \n",
       "12           http://www.teducn.com/zhuanyeshuyu/wuli/             དངོས་ལུགས།   \n",
       "13                http://www.teducn.com/movie/yingyu/     དབྱིན་ཡིག་གི་སྐོར།   \n",
       "14          http://www.teducn.com/renwu/xiandairenwu/       དེང་རབས་གྲགས་ཅན།   \n",
       "15  http://www.teducn.com/chuantongjiaoyu/fojiaopa...       ནང་བའི་གྲུབ་མཐའ།   \n",
       "16       http://www.teducn.com/kecheng/kechengjiaofa/   བསླབ་གཞིའི་ཁྲིད་ཐབས།   \n",
       "17       http://www.teducn.com/kecheng/kechengpinggu/   བསླབ་གཞིའི་གདེང་འཇོག   \n",
       "18    http://www.teducn.com/kecheng/jiaochengzhengce/   བསླབ་གཞིའི་སྲིད་ཇུས།   \n",
       "19      http://www.teducn.com/kecheng/kechengjiaocai/   བསླབ་གཞིའི་སློབ་དེབ།   \n",
       "\n",
       "                                       Last_page_link  list_page_no  \n",
       "0                                           སྐད་རིགས།             1  \n",
       "1   ངོས་1/1  ངོས་རེར་ནང་དོན་ངོས། 25 སྡོམ་9     མདུ...             1  \n",
       "2   ངོས་1/1  ངོས་རེར་ནང་དོན་ངོས། 25 སྡོམ་8     མདུ...             1  \n",
       "3   ངོས་1/1  ངོས་རེར་ནང་དོན་ངོས། 25 སྡོམ་8     མདུ...             1  \n",
       "4   ངོས་1/4  ངོས་རེར་ནང་དོན་ངོས། 25 སྡོམ་79     མད...             4  \n",
       "5   ངོས་1/1  ངོས་རེར་ནང་དོན་ངོས། 25 སྡོམ་5     མདུ...             1  \n",
       "6   ངོས་1/1  ངོས་རེར་ནང་དོན་ངོས། 25 སྡོམ་7     མདུ...             1  \n",
       "7                                           སྐད་རིགས།             1  \n",
       "8                              no link last page link             1  \n",
       "9   ངོས་1/4  ངོས་རེར་ནང་དོན་ངོས། 25 སྡོམ་89     མད...             4  \n",
       "10  ངོས་1/3  ངོས་རེར་ནང་དོན་ངོས། 25 སྡོམ་75     མད...             3  \n",
       "11                                          སྐད་རིགས།             1  \n",
       "12  ངོས་1/1  ངོས་རེར་ནང་དོན་ངོས། 25 སྡོམ་5     མདུ...             1  \n",
       "13  ངོས་1/1  ངོས་རེར་ནང་དོན་ངོས། 20 སྡོམ་10     མད...             1  \n",
       "14  ངོས་1/1  ངོས་རེར་ནང་དོན་ངོས། 25 སྡོམ་2     མདུ...             1  \n",
       "15  ངོས་1/1  ངོས་རེར་ནང་དོན་ངོས། 25 སྡོམ་25     མད...             1  \n",
       "16  ངོས་1/1  ངོས་རེར་ནང་དོན་ངོས། 25 སྡོམ་3     མདུ...             1  \n",
       "17  ངོས་1/1  ངོས་རེར་ནང་དོན་ངོས། 25 སྡོམ་1     མདུ...             1  \n",
       "18  ངོས་1/1  ངོས་རེར་ནང་དོན་ངོས། 25 སྡོམ་1     མདུ...             1  \n",
       "19  ངོས་1/1  ངོས་རེར་ནང་དོན་ངོས། 25 སྡོམ་4     མདུ...             1  "
      ]
     },
     "execution_count": 38,
     "metadata": {},
     "output_type": "execute_result"
    }
   ],
   "source": [
    "df = pd.read_csv(\"./data/All_cate.csv\")\n",
    "df.head(20)"
   ]
  },
  {
   "cell_type": "code",
   "execution_count": 39,
   "id": "3d271a88-5471-41a0-bd2d-838eca8b02d0",
   "metadata": {},
   "outputs": [
    {
     "data": {
      "text/plain": [
       "(47, 4)"
      ]
     },
     "execution_count": 39,
     "metadata": {},
     "output_type": "execute_result"
    }
   ],
   "source": [
    "sample_df = df\n",
    "sample_df.shape"
   ]
  },
  {
   "cell_type": "code",
   "execution_count": 36,
   "id": "01bc0c85-ba0a-4e57-a946-cb8fb04cf7cc",
   "metadata": {},
   "outputs": [],
   "source": [
    "file_name_code = \"teducn\""
   ]
  },
  {
   "cell_type": "code",
   "execution_count": 40,
   "id": "81485921-1ab2-4589-9c7d-ab4ff580093d",
   "metadata": {
    "scrolled": true
   },
   "outputs": [
    {
     "name": "stderr",
     "output_type": "stream",
     "text": [
      "100%|██████████| 1/1 [00:05<00:00,  5.86s/it]\n"
     ]
    },
    {
     "name": "stdout",
     "output_type": "stream",
     "text": [
      "Total page in PDFགྱི་སྐོར།: 1\n",
      "Total error in Page PDFགྱི་སྐོར། : 0\n",
      "\n",
      "\n",
      "Successfully saved: teducn_ALL_link_PDFགྱི་སྐོར།.json\n"
     ]
    },
    {
     "name": "stderr",
     "output_type": "stream",
     "text": [
      "100%|██████████| 1/1 [00:04<00:00,  4.99s/it]\n"
     ]
    },
    {
     "name": "stdout",
     "output_type": "stream",
     "text": [
      "Total page in ཁོར་ཡུག་དང་རིག་གནས།: 1\n",
      "Total error in Page ཁོར་ཡུག་དང་རིག་གནས། : 0\n",
      "\n",
      "\n",
      "Successfully saved: teducn_ALL_link_ཁོར་ཡུག་དང་རིག་གནས།.json\n"
     ]
    },
    {
     "name": "stderr",
     "output_type": "stream",
     "text": [
      "100%|██████████| 1/1 [00:05<00:00,  5.90s/it]\n"
     ]
    },
    {
     "name": "stdout",
     "output_type": "stream",
     "text": [
      "Total page in ཁོར་ཡུག་དང་སྤྱི་ཚོགས།: 1\n",
      "Total error in Page ཁོར་ཡུག་དང་སྤྱི་ཚོགས། : 0\n",
      "\n",
      "\n",
      "Successfully saved: teducn_ALL_link_ཁོར་ཡུག་དང་སྤྱི་ཚོགས།.json\n"
     ]
    },
    {
     "name": "stderr",
     "output_type": "stream",
     "text": [
      "100%|██████████| 1/1 [00:09<00:00,  9.94s/it]\n"
     ]
    },
    {
     "name": "stdout",
     "output_type": "stream",
     "text": [
      "Total page in ཁོར་ཡུག་དང་སློབ་གསོ།: 1\n",
      "Total error in Page ཁོར་ཡུག་དང་སློབ་གསོ། : 0\n",
      "\n",
      "\n",
      "Successfully saved: teducn_ALL_link_ཁོར་ཡུག་དང་སློབ་གསོ།.json\n"
     ]
    },
    {
     "name": "stderr",
     "output_type": "stream",
     "text": [
      "100%|██████████| 4/4 [01:33<00:00, 23.39s/it]\n"
     ]
    },
    {
     "name": "stdout",
     "output_type": "stream",
     "text": [
      "Total page in ཁྱིམ་ཚང་སློབ་གསོ།: 4\n",
      "Total error in Page ཁྱིམ་ཚང་སློབ་གསོ། : 0\n",
      "\n",
      "\n",
      "Successfully saved: teducn_ALL_link_ཁྱིམ་ཚང་སློབ་གསོ།.json\n"
     ]
    },
    {
     "name": "stderr",
     "output_type": "stream",
     "text": [
      "100%|██████████| 1/1 [00:15<00:00, 15.03s/it]\n"
     ]
    },
    {
     "name": "stdout",
     "output_type": "stream",
     "text": [
      "Total page in གཞན་དག: 1\n",
      "Total error in Page གཞན་དག : 0\n",
      "\n",
      "\n",
      "Successfully saved: teducn_ALL_link_གཞན་དག.json\n"
     ]
    },
    {
     "name": "stderr",
     "output_type": "stream",
     "text": [
      "100%|██████████| 1/1 [00:15<00:00, 15.06s/it]\n"
     ]
    },
    {
     "name": "stdout",
     "output_type": "stream",
     "text": [
      "Total page in གསུང་རབ་བང་མཛོད།: 1\n",
      "Total error in Page གསུང་རབ་བང་མཛོད། : 0\n",
      "\n",
      "\n",
      "Successfully saved: teducn_ALL_link_གསུང་རབ་བང་མཛོད།.json\n"
     ]
    },
    {
     "name": "stderr",
     "output_type": "stream",
     "text": [
      "100%|██████████| 1/1 [00:33<00:00, 33.95s/it]\n"
     ]
    },
    {
     "name": "stdout",
     "output_type": "stream",
     "text": [
      "Total page in གྲངས་རིག་གི་སྐོར།: 1\n",
      "Total error in Page གྲངས་རིག་གི་སྐོར། : 0\n",
      "\n",
      "\n",
      "Successfully saved: teducn_ALL_link_གྲངས་རིག་གི་སྐོར།.json\n"
     ]
    },
    {
     "name": "stderr",
     "output_type": "stream",
     "text": [
      "100%|██████████| 1/1 [00:15<00:00, 15.27s/it]\n"
     ]
    },
    {
     "name": "stdout",
     "output_type": "stream",
     "text": [
      "Total page in གླུ་གར་གྱི་རྒྱ་མཚོ།: 1\n",
      "Total error in Page གླུ་གར་གྱི་རྒྱ་མཚོ། : 0\n",
      "\n",
      "\n",
      "Successfully saved: teducn_ALL_link_གླུ་གར་གྱི་རྒྱ་མཚོ།.json\n"
     ]
    },
    {
     "name": "stderr",
     "output_type": "stream",
     "text": [
      "100%|██████████| 4/4 [01:09<00:00, 17.37s/it]\n"
     ]
    },
    {
     "name": "stdout",
     "output_type": "stream",
     "text": [
      "Total page in ཆོས་ལུགས་རིག་གནས།: 4\n",
      "Page ཆོས་ལུགས་རིག་གནས། 1 'message'\n",
      "Total error in Page ཆོས་ལུགས་རིག་གནས། : 1\n",
      "\n",
      "\n",
      "Successfully saved: teducn_ALL_link_ཆོས་ལུགས་རིག་གནས།.json\n"
     ]
    },
    {
     "name": "stderr",
     "output_type": "stream",
     "text": [
      "100%|██████████| 3/3 [00:26<00:00,  8.78s/it]\n"
     ]
    },
    {
     "name": "stdout",
     "output_type": "stream",
     "text": [
      "Total page in དགོན་སྡེ་མཚམས་སྦྱོར།: 3\n",
      "Total error in Page དགོན་སྡེ་མཚམས་སྦྱོར། : 0\n",
      "\n",
      "\n",
      "Successfully saved: teducn_ALL_link_དགོན་སྡེ་མཚམས་སྦྱོར།.json\n"
     ]
    },
    {
     "name": "stderr",
     "output_type": "stream",
     "text": [
      "100%|██████████| 1/1 [00:05<00:00,  5.20s/it]\n"
     ]
    },
    {
     "name": "stdout",
     "output_type": "stream",
     "text": [
      "Total page in དངོས་ལུགས་ཀྱི་སྐོར།: 1\n",
      "Total error in Page དངོས་ལུགས་ཀྱི་སྐོར། : 0\n",
      "\n",
      "\n",
      "Successfully saved: teducn_ALL_link_དངོས་ལུགས་ཀྱི་སྐོར།.json\n"
     ]
    },
    {
     "name": "stderr",
     "output_type": "stream",
     "text": [
      "100%|██████████| 1/1 [00:10<00:00, 10.60s/it]\n"
     ]
    },
    {
     "name": "stdout",
     "output_type": "stream",
     "text": [
      "Total page in དངོས་ལུགས།: 1\n",
      "Total error in Page དངོས་ལུགས། : 0\n",
      "\n",
      "\n",
      "Successfully saved: teducn_ALL_link_དངོས་ལུགས།.json\n"
     ]
    },
    {
     "name": "stderr",
     "output_type": "stream",
     "text": [
      "100%|██████████| 1/1 [00:05<00:00,  5.89s/it]\n"
     ]
    },
    {
     "name": "stdout",
     "output_type": "stream",
     "text": [
      "Total page in དབྱིན་ཡིག་གི་སྐོར།: 1\n",
      "Total error in Page དབྱིན་ཡིག་གི་སྐོར། : 0\n",
      "\n",
      "\n",
      "Successfully saved: teducn_ALL_link_དབྱིན་ཡིག་གི་སྐོར།.json\n"
     ]
    },
    {
     "name": "stderr",
     "output_type": "stream",
     "text": [
      "100%|██████████| 1/1 [00:09<00:00,  9.71s/it]\n"
     ]
    },
    {
     "name": "stdout",
     "output_type": "stream",
     "text": [
      "Total page in དེང་རབས་གྲགས་ཅན།: 1\n",
      "Total error in Page དེང་རབས་གྲགས་ཅན། : 0\n",
      "\n",
      "\n",
      "Successfully saved: teducn_ALL_link_དེང་རབས་གྲགས་ཅན།.json\n"
     ]
    },
    {
     "name": "stderr",
     "output_type": "stream",
     "text": [
      "100%|██████████| 1/1 [00:10<00:00, 10.91s/it]\n"
     ]
    },
    {
     "name": "stdout",
     "output_type": "stream",
     "text": [
      "Total page in ནང་བའི་གྲུབ་མཐའ།: 1\n",
      "Total error in Page ནང་བའི་གྲུབ་མཐའ། : 0\n",
      "\n",
      "\n",
      "Successfully saved: teducn_ALL_link_ནང་བའི་གྲུབ་མཐའ།.json\n"
     ]
    },
    {
     "name": "stderr",
     "output_type": "stream",
     "text": [
      "100%|██████████| 1/1 [00:13<00:00, 13.65s/it]\n"
     ]
    },
    {
     "name": "stdout",
     "output_type": "stream",
     "text": [
      "Total page in བསླབ་གཞིའི་ཁྲིད་ཐབས།: 1\n",
      "Total error in Page བསླབ་གཞིའི་ཁྲིད་ཐབས། : 0\n",
      "\n",
      "\n",
      "Successfully saved: teducn_ALL_link_བསླབ་གཞིའི་ཁྲིད་ཐབས།.json\n"
     ]
    },
    {
     "name": "stderr",
     "output_type": "stream",
     "text": [
      "100%|██████████| 1/1 [00:15<00:00, 15.03s/it]\n"
     ]
    },
    {
     "name": "stdout",
     "output_type": "stream",
     "text": [
      "Total page in བསླབ་གཞིའི་གདེང་འཇོག: 1\n",
      "Total error in Page བསླབ་གཞིའི་གདེང་འཇོག : 0\n",
      "\n",
      "\n",
      "Successfully saved: teducn_ALL_link_བསླབ་གཞིའི་གདེང་འཇོག.json\n"
     ]
    },
    {
     "name": "stderr",
     "output_type": "stream",
     "text": [
      "100%|██████████| 1/1 [00:15<00:00, 15.03s/it]\n"
     ]
    },
    {
     "name": "stdout",
     "output_type": "stream",
     "text": [
      "Total page in བསླབ་གཞིའི་སྲིད་ཇུས།: 1\n",
      "Total error in Page བསླབ་གཞིའི་སྲིད་ཇུས། : 0\n",
      "\n",
      "\n",
      "Successfully saved: teducn_ALL_link_བསླབ་གཞིའི་སྲིད་ཇུས།.json\n"
     ]
    },
    {
     "name": "stderr",
     "output_type": "stream",
     "text": [
      "100%|██████████| 1/1 [00:06<00:00,  6.95s/it]\n"
     ]
    },
    {
     "name": "stdout",
     "output_type": "stream",
     "text": [
      "Total page in བསླབ་གཞིའི་སློབ་དེབ།: 1\n",
      "Total error in Page བསླབ་གཞིའི་སློབ་དེབ། : 0\n",
      "\n",
      "\n",
      "Successfully saved: teducn_ALL_link_བསླབ་གཞིའི་སློབ་དེབ།.json\n"
     ]
    },
    {
     "name": "stderr",
     "output_type": "stream",
     "text": [
      "100%|██████████| 7/7 [00:40<00:00,  5.83s/it]\n"
     ]
    },
    {
     "name": "stdout",
     "output_type": "stream",
     "text": [
      "Total page in བོད་ཀྱི་སློབ་གསོ།: 7\n",
      "Total error in Page བོད་ཀྱི་སློབ་གསོ། : 0\n",
      "\n",
      "\n",
      "Successfully saved: teducn_ALL_link_བོད་ཀྱི་སློབ་གསོ།.json\n"
     ]
    },
    {
     "name": "stderr",
     "output_type": "stream",
     "text": [
      "100%|██████████| 1/1 [00:05<00:00,  5.64s/it]\n"
     ]
    },
    {
     "name": "stdout",
     "output_type": "stream",
     "text": [
      "Total page in བོད་ཡིག: 1\n",
      "Total error in Page བོད་ཡིག : 0\n",
      "\n",
      "\n",
      "Successfully saved: teducn_ALL_link_བོད་ཡིག.json\n"
     ]
    },
    {
     "name": "stderr",
     "output_type": "stream",
     "text": [
      "100%|██████████| 1/1 [00:11<00:00, 11.22s/it]\n"
     ]
    },
    {
     "name": "stdout",
     "output_type": "stream",
     "text": [
      "Total page in བོད་ཡིག་གི་སྐོར།: 1\n",
      "Total error in Page བོད་ཡིག་གི་སྐོར། : 0\n",
      "\n",
      "\n",
      "Successfully saved: teducn_ALL_link_བོད་ཡིག་གི་སྐོར།.json\n"
     ]
    },
    {
     "name": "stderr",
     "output_type": "stream",
     "text": [
      "100%|██████████| 1/1 [00:11<00:00, 11.71s/it]\n"
     ]
    },
    {
     "name": "stdout",
     "output_type": "stream",
     "text": [
      "Total page in བྱིས་པའི་རྩེད་ར།: 1\n",
      "Total error in Page བྱིས་པའི་རྩེད་ར། : 0\n",
      "\n",
      "\n",
      "Successfully saved: teducn_ALL_link_བྱིས་པའི་རྩེད་ར།.json\n"
     ]
    },
    {
     "name": "stderr",
     "output_type": "stream",
     "text": [
      "100%|██████████| 10/10 [01:13<00:00,  7.35s/it]\n"
     ]
    },
    {
     "name": "stdout",
     "output_type": "stream",
     "text": [
      "Total page in མཁས་བའི་ཁྱུ་མཆོག: 10\n",
      "Total error in Page མཁས་བའི་ཁྱུ་མཆོག : 0\n",
      "\n",
      "\n",
      "Successfully saved: teducn_ALL_link_མཁས་བའི་ཁྱུ་མཆོག.json\n"
     ]
    },
    {
     "name": "stderr",
     "output_type": "stream",
     "text": [
      "100%|██████████| 1/1 [00:09<00:00,  9.74s/it]\n"
     ]
    },
    {
     "name": "stdout",
     "output_type": "stream",
     "text": [
      "Total page in མང་ཚོགས་སྒྱུ་རྩལ།: 1\n",
      "Total error in Page མང་ཚོགས་སྒྱུ་རྩལ། : 0\n",
      "\n",
      "\n",
      "Successfully saved: teducn_ALL_link_མང་ཚོགས་སྒྱུ་རྩལ།.json\n"
     ]
    },
    {
     "name": "stderr",
     "output_type": "stream",
     "text": [
      "100%|██████████| 1/1 [00:05<00:00,  5.59s/it]\n"
     ]
    },
    {
     "name": "stdout",
     "output_type": "stream",
     "text": [
      "Total page in མི་རིགས་སྲིད་ཇུས།: 1\n",
      "Total error in Page མི་རིགས་སྲིད་ཇུས། : 0\n",
      "\n",
      "\n",
      "Successfully saved: teducn_ALL_link_མི་རིགས་སྲིད་ཇུས།.json\n"
     ]
    },
    {
     "name": "stderr",
     "output_type": "stream",
     "text": [
      "100%|██████████| 1/1 [00:10<00:00, 10.01s/it]\n"
     ]
    },
    {
     "name": "stdout",
     "output_type": "stream",
     "text": [
      "Total page in མིང་བརྡ་གཅིག་གྱུར།: 1\n",
      "Total error in Page མིང་བརྡ་གཅིག་གྱུར། : 0\n",
      "\n",
      "\n",
      "Successfully saved: teducn_ALL_link_མིང་བརྡ་གཅིག་གྱུར།.json\n"
     ]
    },
    {
     "name": "stderr",
     "output_type": "stream",
     "text": [
      "100%|██████████| 1/1 [00:05<00:00,  5.63s/it]\n"
     ]
    },
    {
     "name": "stdout",
     "output_type": "stream",
     "text": [
      "Total page in རོལ་དབྱངས། ལུས་རྩལ། རི་མོ།: 1\n",
      "Total error in Page རོལ་དབྱངས། ལུས་རྩལ། རི་མོ། : 0\n",
      "\n",
      "\n",
      "Successfully saved: teducn_ALL_link_རོལ་དབྱངས། ལུས་རྩལ། རི་མོ།.json\n"
     ]
    },
    {
     "name": "stderr",
     "output_type": "stream",
     "text": [
      "100%|██████████| 1/1 [00:04<00:00,  4.98s/it]\n"
     ]
    },
    {
     "name": "stdout",
     "output_type": "stream",
     "text": [
      "Total page in རྒྱ་ཡིག: 1\n",
      "Total error in Page རྒྱ་ཡིག : 0\n",
      "\n",
      "\n",
      "Successfully saved: teducn_ALL_link_རྒྱ་ཡིག.json\n"
     ]
    },
    {
     "name": "stderr",
     "output_type": "stream",
     "text": [
      "100%|██████████| 1/1 [00:10<00:00, 10.64s/it]\n"
     ]
    },
    {
     "name": "stdout",
     "output_type": "stream",
     "text": [
      "Total page in རྒྱ་ཡིག་གི་སྐོར།: 1\n",
      "Total error in Page རྒྱ་ཡིག་གི་སྐོར། : 0\n",
      "\n",
      "\n",
      "Successfully saved: teducn_ALL_link_རྒྱ་ཡིག་གི་སྐོར།.json\n"
     ]
    },
    {
     "name": "stderr",
     "output_type": "stream",
     "text": [
      "100%|██████████| 1/1 [00:05<00:00,  5.68s/it]\n"
     ]
    },
    {
     "name": "stdout",
     "output_type": "stream",
     "text": [
      "Total page in རྒྱུན་བཀོལ་མཉེན་ཆས།: 1\n",
      "Total error in Page རྒྱུན་བཀོལ་མཉེན་ཆས། : 0\n",
      "\n",
      "\n",
      "Successfully saved: teducn_ALL_link_རྒྱུན་བཀོལ་མཉེན་ཆས།.json\n"
     ]
    },
    {
     "name": "stderr",
     "output_type": "stream",
     "text": [
      "100%|██████████| 1/1 [00:04<00:00,  4.91s/it]\n"
     ]
    },
    {
     "name": "stdout",
     "output_type": "stream",
     "text": [
      "Total page in རྩིས་འཁོར་གྱི་སྐོར།: 1\n",
      "Total error in Page རྩིས་འཁོར་གྱི་སྐོར། : 0\n",
      "\n",
      "\n",
      "Successfully saved: teducn_ALL_link_རྩིས་འཁོར་གྱི་སྐོར།.json\n"
     ]
    },
    {
     "name": "stderr",
     "output_type": "stream",
     "text": [
      "100%|██████████| 1/1 [00:05<00:00,  5.59s/it]\n"
     ]
    },
    {
     "name": "stdout",
     "output_type": "stream",
     "text": [
      "Total page in རྩིས་འཁོར།: 1\n",
      "Total error in Page རྩིས་འཁོར། : 0\n",
      "\n",
      "\n",
      "Successfully saved: teducn_ALL_link_རྩིས་འཁོར།.json\n"
     ]
    },
    {
     "name": "stderr",
     "output_type": "stream",
     "text": [
      "100%|██████████| 1/1 [00:05<00:00,  5.03s/it]\n"
     ]
    },
    {
     "name": "stdout",
     "output_type": "stream",
     "text": [
      "Total page in ས་གནས་བཅའ་ཁྲིམས།: 1\n",
      "Total error in Page ས་གནས་བཅའ་ཁྲིམས། : 0\n",
      "\n",
      "\n",
      "Successfully saved: teducn_ALL_link_ས་གནས་བཅའ་ཁྲིམས།.json\n"
     ]
    },
    {
     "name": "stderr",
     "output_type": "stream",
     "text": [
      "100%|██████████| 1/1 [00:05<00:00,  5.59s/it]\n"
     ]
    },
    {
     "name": "stdout",
     "output_type": "stream",
     "text": [
      "Total page in སྐད་གཉིས་གཞུང་ལུགས།: 1\n",
      "Total error in Page སྐད་གཉིས་གཞུང་ལུགས། : 0\n",
      "\n",
      "\n",
      "Successfully saved: teducn_ALL_link_སྐད་གཉིས་གཞུང་ལུགས།.json\n"
     ]
    },
    {
     "name": "stderr",
     "output_type": "stream",
     "text": [
      "100%|██████████| 1/1 [00:10<00:00, 10.26s/it]\n"
     ]
    },
    {
     "name": "stdout",
     "output_type": "stream",
     "text": [
      "Total page in སྐྱེ་དངོས་ཀྱི་སྐོར།: 1\n",
      "Total error in Page སྐྱེ་དངོས་ཀྱི་སྐོར། : 0\n",
      "\n",
      "\n",
      "Successfully saved: teducn_ALL_link_སྐྱེ་དངོས་ཀྱི་སྐོར།.json\n"
     ]
    },
    {
     "name": "stderr",
     "output_type": "stream",
     "text": [
      "100%|██████████| 2/2 [00:15<00:00,  7.92s/it]\n"
     ]
    },
    {
     "name": "stdout",
     "output_type": "stream",
     "text": [
      "Total page in སྐྱེ་དངོས།: 2\n",
      "Total error in Page སྐྱེ་དངོས། : 0\n",
      "\n",
      "\n",
      "Successfully saved: teducn_ALL_link_སྐྱེ་དངོས།.json\n"
     ]
    },
    {
     "name": "stderr",
     "output_type": "stream",
     "text": [
      "100%|██████████| 1/1 [00:05<00:00,  5.82s/it]\n"
     ]
    },
    {
     "name": "stdout",
     "output_type": "stream",
     "text": [
      "Total page in སྙི་ཆས་གྱི་སྐོར།: 1\n",
      "Total error in Page སྙི་ཆས་གྱི་སྐོར། : 0\n",
      "\n",
      "\n",
      "Successfully saved: teducn_ALL_link_སྙི་ཆས་གྱི་སྐོར།.json\n"
     ]
    },
    {
     "name": "stderr",
     "output_type": "stream",
     "text": [
      "100%|██████████| 1/1 [00:04<00:00,  4.81s/it]\n"
     ]
    },
    {
     "name": "stdout",
     "output_type": "stream",
     "text": [
      "Total page in སྲོལ་རྒྱུན་རིག་ཚན།: 1\n",
      "Total error in Page སྲོལ་རྒྱུན་རིག་ཚན། : 0\n",
      "\n",
      "\n",
      "Successfully saved: teducn_ALL_link_སྲོལ་རྒྱུན་རིག་ཚན།.json\n"
     ]
    },
    {
     "name": "stderr",
     "output_type": "stream",
     "text": [
      "100%|██████████| 1/1 [00:10<00:00, 10.65s/it]\n"
     ]
    },
    {
     "name": "stdout",
     "output_type": "stream",
     "text": [
      "Total page in སློབ་གསོ་གསར་འགྱུར།: 1\n",
      "Total error in Page སློབ་གསོ་གསར་འགྱུར། : 0\n",
      "\n",
      "\n",
      "Successfully saved: teducn_ALL_link_སློབ་གསོ་གསར་འགྱུར།.json\n"
     ]
    },
    {
     "name": "stderr",
     "output_type": "stream",
     "text": [
      "100%|██████████| 1/1 [00:05<00:00,  5.59s/it]\n"
     ]
    },
    {
     "name": "stdout",
     "output_type": "stream",
     "text": [
      "Total page in སློབ་གསོའི་དགོངས་པ།: 1\n",
      "Total error in Page སློབ་གསོའི་དགོངས་པ། : 0\n",
      "\n",
      "\n",
      "Successfully saved: teducn_ALL_link_སློབ་གསོའི་དགོངས་པ།.json\n"
     ]
    },
    {
     "name": "stderr",
     "output_type": "stream",
     "text": [
      "100%|██████████| 1/1 [00:05<00:00,  5.00s/it]\n"
     ]
    },
    {
     "name": "stdout",
     "output_type": "stream",
     "text": [
      "Total page in སློབ་གསོའི་ལོ་རྒྱུས།: 1\n",
      "Total error in Page སློབ་གསོའི་ལོ་རྒྱུས། : 0\n",
      "\n",
      "\n",
      "Successfully saved: teducn_ALL_link_སློབ་གསོའི་ལོ་རྒྱུས།.json\n"
     ]
    },
    {
     "name": "stderr",
     "output_type": "stream",
     "text": [
      "100%|██████████| 1/1 [00:10<00:00, 10.85s/it]\n"
     ]
    },
    {
     "name": "stdout",
     "output_type": "stream",
     "text": [
      "Total page in སློབ་ཆུང་སློབ་གྲྭ།: 1\n",
      "Total error in Page སློབ་ཆུང་སློབ་གྲྭ། : 0\n",
      "\n",
      "\n",
      "Successfully saved: teducn_ALL_link_སློབ་ཆུང་སློབ་གྲྭ།.json\n"
     ]
    },
    {
     "name": "stderr",
     "output_type": "stream",
     "text": [
      "100%|██████████| 1/1 [00:10<00:00, 10.61s/it]\n"
     ]
    },
    {
     "name": "stdout",
     "output_type": "stream",
     "text": [
      "Total page in སློབ་ཆེན་སློབ་གྲྭ།: 1\n",
      "Total error in Page སློབ་ཆེན་སློབ་གྲྭ། : 0\n",
      "\n",
      "\n",
      "Successfully saved: teducn_ALL_link_སློབ་ཆེན་སློབ་གྲྭ།.json\n"
     ]
    },
    {
     "name": "stderr",
     "output_type": "stream",
     "text": [
      "100%|██████████| 1/1 [00:05<00:00,  5.62s/it]\n"
     ]
    },
    {
     "name": "stdout",
     "output_type": "stream",
     "text": [
      "Total page in སློབ་འབྲིང་སློབ་གྲྭ།: 1\n",
      "Total error in Page སློབ་འབྲིང་སློབ་གྲྭ། : 0\n",
      "\n",
      "\n",
      "Successfully saved: teducn_ALL_link_སློབ་འབྲིང་སློབ་གྲྭ།.json\n"
     ]
    },
    {
     "name": "stderr",
     "output_type": "stream",
     "text": [
      "100%|██████████| 1/1 [00:10<00:00, 10.28s/it]"
     ]
    },
    {
     "name": "stdout",
     "output_type": "stream",
     "text": [
      "Total page in སློབ་རའི་གསར་འགྱུར།: 1\n",
      "Total error in Page སློབ་རའི་གསར་འགྱུར། : 0\n",
      "\n",
      "\n",
      "Successfully saved: teducn_ALL_link_སློབ་རའི་གསར་འགྱུར།.json\n",
      "CPU times: user 4.4 s, sys: 135 ms, total: 4.54 s\n",
      "Wall time: 11min 40s\n"
     ]
    },
    {
     "name": "stderr",
     "output_type": "stream",
     "text": [
      "\n"
     ]
    }
   ],
   "source": [
    "%%time\n",
    "\n",
    "for index, row in sample_df.iterrows():\n",
    "    # print(row)\n",
    "    name_of_cate = row[\"name_of_cate\"]\n",
    "    original_url = row[\"original_url\"]\n",
    "    Last_page_link = row[\"Last_page_link\"]\n",
    "    list_page_no = row[\"list_page_no\"]\n",
    "\n",
    "    custom_url = original_url\n",
    "\n",
    "    total_page = list_page_no\n",
    "    article_tag = name_of_cate\n",
    "    key_code = \"Page \" + article_tag + \" \"\n",
    "    all_links = loop_article_page(total_page, custom_url, key_code)\n",
    "    \n",
    "    print(f\"Total page in {article_tag}: {len(all_links['Data'])}\")\n",
    "    check_error_in_links(all_links['Data'], key_code, print_each_error=True)\n",
    "\n",
    "    # Saving the final file\n",
    "    path = \"./data/links/\"\n",
    "    file_name = f\"{file_name_code}_ALL_link_{article_tag}.json\"\n",
    "    save_json(path, file_name, all_links['Data'])"
   ]
  },
  {
   "cell_type": "code",
   "execution_count": null,
   "id": "9f5b009e-18db-4c0c-a6e8-85796931a527",
   "metadata": {},
   "outputs": [],
   "source": []
  },
  {
   "cell_type": "code",
   "execution_count": null,
   "id": "07dbafae-8dae-43e7-909f-2eb631654e88",
   "metadata": {},
   "outputs": [],
   "source": []
  },
  {
   "cell_type": "code",
   "execution_count": null,
   "id": "ab872ff2-8780-4a34-ab1d-2ac06abcf112",
   "metadata": {},
   "outputs": [],
   "source": []
  },
  {
   "cell_type": "code",
   "execution_count": 17,
   "id": "a731a864-4c05-4271-a381-2e88c537185b",
   "metadata": {},
   "outputs": [],
   "source": [
    "\n",
    "# row = []\n",
    "# name_of_cate = \"མཁས་བའི་ཁྱུ་མཆོག\"\n",
    "# original_url = \"http://www.teducn.com/renwu/dashihuicui/\"\n",
    "# Last_page_link = \"ssss\"\n",
    "# list_page_no = 10\n",
    "\n",
    "# custom_url = original_url\n",
    "\n",
    "# total_page = list_page_no\n",
    "# article_tag = name_of_cate\n",
    "# key_code = \"Page \" + article_tag + \" \"\n",
    "# all_links = loop_article_page(total_page, custom_url, key_code)\n",
    "\n",
    "# print(f\"Total page in {article_tag}: {len(all_links['Data'])}\")\n",
    "# check_error_in_links(all_links['Data'], key_code, print_each_error=True)\n",
    "\n",
    "# # Saving the final file\n",
    "# path = \"./data/links/\"\n",
    "# file_name = f\"{file_name_code}_ALL_link_{article_tag}.json\"\n",
    "# save_json(path, file_name, all_links['Data'])"
   ]
  },
  {
   "cell_type": "code",
   "execution_count": 18,
   "id": "be32abdc-e0e4-44cf-a5d7-670b8166464a",
   "metadata": {},
   "outputs": [],
   "source": [
    "# all_links"
   ]
  },
  {
   "cell_type": "code",
   "execution_count": null,
   "id": "c3c2c076-6910-4c93-8c01-55bb14c60f0a",
   "metadata": {},
   "outputs": [],
   "source": []
  }
 ],
 "metadata": {
  "kernelspec": {
   "display_name": "Python 3 (ipykernel)",
   "language": "python",
   "name": "python3"
  },
  "language_info": {
   "codemirror_mode": {
    "name": "ipython",
    "version": 3
   },
   "file_extension": ".py",
   "mimetype": "text/x-python",
   "name": "python",
   "nbconvert_exporter": "python",
   "pygments_lexer": "ipython3",
   "version": "3.10.13"
  }
 },
 "nbformat": 4,
 "nbformat_minor": 5
}
