{
 "cells": [
  {
   "cell_type": "code",
   "execution_count": 4,
   "metadata": {},
   "outputs": [],
   "source": [
    "import requests\n",
    "from bs4 import BeautifulSoup\n",
    "import json\n",
    "import time\n",
    "\n",
    "from tqdm import tqdm\n",
    "\n"
   ]
  },
  {
   "cell_type": "code",
   "execution_count": 5,
   "metadata": {},
   "outputs": [],
   "source": [
    "import tb_tibet_cn_utils"
   ]
  },
  {
   "cell_type": "code",
   "execution_count": null,
   "metadata": {},
   "outputs": [],
   "source": []
  },
  {
   "cell_type": "markdown",
   "metadata": {},
   "source": [
    "## Here we will extract all the articles links from http://tb.tibet.cn/ webpage\n",
    "URL: http://tb.tibet.cn/"
   ]
  },
  {
   "cell_type": "markdown",
   "metadata": {},
   "source": [
    "Tabs not extracted\n",
    "\n",
    "- རྩོམ་རིག: http://tb.tibet.cn/tb/literature/\n",
    "- རོལ་དབྱངས།: http://tb.tibet.cn/tb/disport/\n",
    "- པར་མཛོད།: http://tb.tibet.cn/tb/vidoe/\n",
    "- དམངས་སྲོལ།: http://tb.tibet.cn/tb/folkways/\n",
    "- ཆོས་ལུགས།: http://tb.tibet.cn/tb/religion/\n",
    "- གསོ་རིག: http://tb.tibet.cn/tb/medicine/\n",
    "- ཁྲིམས་ལུགས།: http://tb.tibet.cn/tb/law/\n",
    "- བོད་སྐྱོར།: http://tb.tibet.cn/tb/aid_tibet/"
   ]
  },
  {
   "cell_type": "code",
   "execution_count": null,
   "metadata": {},
   "outputs": [],
   "source": []
  },
  {
   "cell_type": "markdown",
   "metadata": {},
   "source": [
    "\n",
    "------------\n",
    "-----------\n",
    "------------\n",
    "------------\n",
    "------------"
   ]
  },
  {
   "cell_type": "code",
   "execution_count": 6,
   "metadata": {},
   "outputs": [],
   "source": [
    "def loop_article_page(total_page, custom_url, key_code, base_url):\n",
    "    \"\"\"\n",
    "    \n",
    "    \"\"\"\n",
    "    return_file = {\n",
    "        \"Data\": [],\n",
    "        \"message\": \"success\",\n",
    "        \"response\": 200\n",
    "    }\n",
    "    All_url_links = {}\n",
    "    \n",
    "    try:\n",
    "        for i in tqdm(range(0, total_page)):\n",
    "            if i == 0:\n",
    "                final_url = base_url  + \"index.html\"\n",
    "            else:\n",
    "                final_url = custom_url + str(i) + \".html\"\n",
    "                \n",
    "            found_url_links = tb_tibet_cn_utils.extract_all_tb_tibet_cn_page_article_links(final_url, base_url)\n",
    "            key = key_code + str(i)\n",
    "            All_url_links[key] = found_url_links\n",
    "        return_file[\"Data\"] = All_url_links\n",
    "        return return_file\n",
    "    \n",
    "    except Exception as e:\n",
    "        return_file[\"Data\"] = All_url_links\n",
    "        return_file[\"message\"] = e\n",
    "        return_file[\"response\"] = 404\n",
    "        return return_file"
   ]
  },
  {
   "cell_type": "code",
   "execution_count": 7,
   "metadata": {},
   "outputs": [],
   "source": [
    "def check_error_in_links(All_url_link, page_code, print_each_error=False):\n",
    "    \"\"\"\n",
    "    \n",
    "    \n",
    "    \"\"\"\n",
    "\n",
    "    error_counter = 0\n",
    "    for page_id in range(0, len(All_url_link)):\n",
    "        page_key = page_code + str(page_id)\n",
    "        try:\n",
    "            All_url_link.get(page_key)\n",
    "            if  All_url_link.get(page_key)[\"Response\"]!= 200:\n",
    "                error_counter += 1\n",
    "                if print_each_error:\n",
    "                    print(page_key, All_url_link.get(page_key)[\"message\"])\n",
    "        except Exception as e:\n",
    "            print(page_key, e)\n",
    "\n",
    "    print(f\"Total error in {page_code}: {error_counter}\")"
   ]
  },
  {
   "cell_type": "code",
   "execution_count": 8,
   "metadata": {},
   "outputs": [],
   "source": [
    "def save_json(path, file_name, data):\n",
    "    \"\"\"\n",
    "    \n",
    "    \"\"\"\n",
    "    with open(path+file_name, \"w\") as outfile:\n",
    "        json.dump(data, outfile, indent=4, ensure_ascii=False)\n",
    "        print(f\"Successfully saved: {file_name}\")"
   ]
  },
  {
   "cell_type": "code",
   "execution_count": null,
   "metadata": {},
   "outputs": [],
   "source": []
  },
  {
   "cell_type": "markdown",
   "metadata": {},
   "source": []
  },
  {
   "cell_type": "markdown",
   "metadata": {},
   "source": [
    "------------\n",
    "------------\n",
    "------------\n",
    "\n",
    "\n",
    "\n",
    "# A. Extracting all Article links from དཔྱད་གཏམ། page \n",
    "- Base URL: http://tb.tibet.cn/tb/review/\n",
    "- http://tb.tibet.cn/tb/review/index_1.html\n",
    "- Custom URL: http://tb.tibet.cn/tb/review/index_ + str(i) + \".html\"\n",
    "- Total page:20"
   ]
  },
  {
   "cell_type": "code",
   "execution_count": 11,
   "metadata": {},
   "outputs": [
    {
     "name": "stderr",
     "output_type": "stream",
     "text": [
      "100%|██████████| 20/20 [00:13<00:00,  1.52it/s]\n"
     ]
    }
   ],
   "source": [
    "total_page = 20\n",
    "custom_url= \"http://tb.tibet.cn/tb/review/index_\"\n",
    "base_url = \"http://tb.tibet.cn/tb/review/\"\n",
    "article_tag = \"དཔྱད་གཏམ།\"\n",
    "key_code = \"Page \" + article_tag + \" \"\n",
    "all_links = loop_article_page(total_page, custom_url, key_code, base_url)\n"
   ]
  },
  {
   "cell_type": "code",
   "execution_count": 12,
   "metadata": {},
   "outputs": [
    {
     "name": "stdout",
     "output_type": "stream",
     "text": [
      "Total page in དཔྱད་གཏམ།: 20\n"
     ]
    }
   ],
   "source": [
    "print(f\"Total page in {article_tag}: {len(all_links['Data'])}\")"
   ]
  },
  {
   "cell_type": "code",
   "execution_count": 13,
   "metadata": {},
   "outputs": [
    {
     "name": "stdout",
     "output_type": "stream",
     "text": [
      "Total error in Page དཔྱད་གཏམ། : 0\n"
     ]
    }
   ],
   "source": [
    "check_error_in_links(all_links['Data'], key_code, print_each_error=True)"
   ]
  },
  {
   "cell_type": "code",
   "execution_count": 14,
   "metadata": {},
   "outputs": [
    {
     "name": "stdout",
     "output_type": "stream",
     "text": [
      "Successfully saved: tb_tibet_cn_ALL_link_དཔྱད་གཏམ།.json\n"
     ]
    }
   ],
   "source": [
    "# Saving the final file\n",
    "path = \"./data/\"\n",
    "file_name = f\"tb_tibet_cn_ALL_link_{article_tag}.json\"\n",
    "save_json(path, file_name, all_links['Data'])"
   ]
  },
  {
   "cell_type": "code",
   "execution_count": null,
   "metadata": {},
   "outputs": [],
   "source": [
    "\n",
    "    "
   ]
  },
  {
   "cell_type": "code",
   "execution_count": null,
   "metadata": {},
   "outputs": [],
   "source": []
  },
  {
   "cell_type": "code",
   "execution_count": null,
   "metadata": {},
   "outputs": [],
   "source": []
  },
  {
   "cell_type": "markdown",
   "metadata": {},
   "source": [
    "------------\n",
    "------------\n",
    "------------\n",
    "\n",
    "\n",
    "\n",
    "# B. Extracting all Article links from མི་སྣ། page \n",
    "- Base URL: http://tb.tibet.cn/tb/people/\n",
    "- http://tb.tibet.cn/tb/people/index_1.html\n",
    "- Custom URL: http://tb.tibet.cn/tb/people/index_ + str(i) + \".html\"\n",
    "- Total page:11"
   ]
  },
  {
   "cell_type": "code",
   "execution_count": 15,
   "metadata": {},
   "outputs": [
    {
     "name": "stderr",
     "output_type": "stream",
     "text": [
      "100%|██████████| 11/11 [00:10<00:00,  1.06it/s]\n"
     ]
    }
   ],
   "source": [
    "total_page = 11\n",
    "custom_url= \"http://tb.tibet.cn/tb/people/index_\"\n",
    "base_url = \"http://tb.tibet.cn/tb/people/\"\n",
    "article_tag = \"མི་སྣ།\"\n",
    "key_code = \"Page \" + article_tag + \" \"\n",
    "all_links = loop_article_page(total_page, custom_url, key_code, base_url)\n"
   ]
  },
  {
   "cell_type": "code",
   "execution_count": 16,
   "metadata": {},
   "outputs": [
    {
     "name": "stdout",
     "output_type": "stream",
     "text": [
      "Total page in མི་སྣ།: 11\n"
     ]
    }
   ],
   "source": [
    "print(f\"Total page in {article_tag}: {len(all_links['Data'])}\")"
   ]
  },
  {
   "cell_type": "code",
   "execution_count": 17,
   "metadata": {},
   "outputs": [
    {
     "name": "stdout",
     "output_type": "stream",
     "text": [
      "Total error in Page མི་སྣ། : 0\n"
     ]
    }
   ],
   "source": [
    "check_error_in_links(all_links['Data'], key_code, print_each_error=True)"
   ]
  },
  {
   "cell_type": "code",
   "execution_count": 18,
   "metadata": {},
   "outputs": [
    {
     "name": "stdout",
     "output_type": "stream",
     "text": [
      "Successfully saved: tb_tibet_cn_ALL_link_མི་སྣ།.json\n"
     ]
    }
   ],
   "source": [
    "# Saving the final file\n",
    "path = \"./data/\"\n",
    "file_name = f\"tb_tibet_cn_ALL_link_{article_tag}.json\"\n",
    "save_json(path, file_name, all_links['Data'])"
   ]
  },
  {
   "cell_type": "code",
   "execution_count": null,
   "metadata": {},
   "outputs": [],
   "source": [
    "\n",
    "    "
   ]
  },
  {
   "cell_type": "code",
   "execution_count": null,
   "metadata": {},
   "outputs": [],
   "source": []
  },
  {
   "cell_type": "code",
   "execution_count": null,
   "metadata": {},
   "outputs": [],
   "source": []
  },
  {
   "cell_type": "code",
   "execution_count": null,
   "metadata": {},
   "outputs": [],
   "source": []
  },
  {
   "cell_type": "code",
   "execution_count": null,
   "metadata": {},
   "outputs": [],
   "source": []
  },
  {
   "cell_type": "markdown",
   "metadata": {},
   "source": [
    "------------\n",
    "------------\n",
    "------------\n",
    "\n",
    "\n",
    "\n",
    "# C. Extracting all Article links from ཚན་རྩལ།། page \n",
    "- Base URL: http://tb.tibet.cn/tb/popular/\n",
    "- http://tb.tibet.cn/tb/popular/index_1.html\n",
    "- Custom URL: http://tb.tibet.cn/tb/popular/index_ + str(i) + \".html\"\n",
    "- Total page:6"
   ]
  },
  {
   "cell_type": "code",
   "execution_count": 19,
   "metadata": {},
   "outputs": [
    {
     "name": "stderr",
     "output_type": "stream",
     "text": [
      "100%|██████████| 6/6 [00:05<00:00,  1.05it/s]\n"
     ]
    }
   ],
   "source": [
    "total_page = 6\n",
    "custom_url= \"http://tb.tibet.cn/tb/popular/index_\"\n",
    "base_url = \"http://tb.tibet.cn/tb/popular/\"\n",
    "article_tag = \"ཚན་རྩལ།།\"\n",
    "key_code = \"Page \" + article_tag + \" \"\n",
    "all_links = loop_article_page(total_page, custom_url, key_code, base_url)\n"
   ]
  },
  {
   "cell_type": "code",
   "execution_count": 20,
   "metadata": {},
   "outputs": [
    {
     "name": "stdout",
     "output_type": "stream",
     "text": [
      "Total page in ཚན་རྩལ།།: 6\n"
     ]
    }
   ],
   "source": [
    "print(f\"Total page in {article_tag}: {len(all_links['Data'])}\")"
   ]
  },
  {
   "cell_type": "code",
   "execution_count": 21,
   "metadata": {},
   "outputs": [
    {
     "name": "stdout",
     "output_type": "stream",
     "text": [
      "Total error in Page ཚན་རྩལ།། : 0\n"
     ]
    }
   ],
   "source": [
    "check_error_in_links(all_links['Data'], key_code, print_each_error=True)"
   ]
  },
  {
   "cell_type": "code",
   "execution_count": 22,
   "metadata": {},
   "outputs": [
    {
     "name": "stdout",
     "output_type": "stream",
     "text": [
      "Successfully saved: tb_tibet_cn_ALL_link_ཚན་རྩལ།།.json\n"
     ]
    }
   ],
   "source": [
    "# Saving the final file\n",
    "path = \"./data/\"\n",
    "file_name = f\"tb_tibet_cn_ALL_link_{article_tag}.json\"\n",
    "save_json(path, file_name, all_links['Data'])"
   ]
  },
  {
   "cell_type": "code",
   "execution_count": null,
   "metadata": {},
   "outputs": [],
   "source": [
    "\n",
    "    "
   ]
  },
  {
   "cell_type": "code",
   "execution_count": null,
   "metadata": {},
   "outputs": [],
   "source": []
  },
  {
   "cell_type": "code",
   "execution_count": null,
   "metadata": {},
   "outputs": [],
   "source": []
  },
  {
   "cell_type": "code",
   "execution_count": null,
   "metadata": {},
   "outputs": [],
   "source": []
  },
  {
   "cell_type": "code",
   "execution_count": null,
   "metadata": {},
   "outputs": [],
   "source": []
  },
  {
   "cell_type": "code",
   "execution_count": null,
   "metadata": {},
   "outputs": [],
   "source": []
  },
  {
   "cell_type": "markdown",
   "metadata": {},
   "source": [
    "------------\n",
    "------------\n",
    "------------\n",
    "\n",
    "\n",
    "\n",
    "# D. Extracting all Article links from སློབ་གསོ། page \n",
    "- Base URL: https://tb.tibet.cn/tb/edu/\n",
    "- http://tb.tibet.cn/tb/edu/index_15.html\n",
    "- Custom URL: http://tb.tibet.cn/tb/edu/index_ + str(i) + \".html\"\n",
    "- Total page:15"
   ]
  },
  {
   "cell_type": "code",
   "execution_count": 9,
   "metadata": {},
   "outputs": [
    {
     "name": "stderr",
     "output_type": "stream",
     "text": [
      "100%|██████████| 15/15 [00:18<00:00,  1.26s/it]\n"
     ]
    }
   ],
   "source": [
    "total_page = 15\n",
    "custom_url= \"http://tb.tibet.cn/tb/edu/index_\"\n",
    "base_url = \"http://tb.tibet.cn/tb/edu/\"\n",
    "article_tag = \"སློབ་གསོ།\"\n",
    "key_code = \"Page \" + article_tag + \" \"\n",
    "all_links = loop_article_page(total_page, custom_url, key_code, base_url)\n"
   ]
  },
  {
   "cell_type": "code",
   "execution_count": 10,
   "metadata": {},
   "outputs": [
    {
     "name": "stdout",
     "output_type": "stream",
     "text": [
      "Total page in སློབ་གསོ།: 15\n"
     ]
    }
   ],
   "source": [
    "print(f\"Total page in {article_tag}: {len(all_links['Data'])}\")"
   ]
  },
  {
   "cell_type": "code",
   "execution_count": 11,
   "metadata": {},
   "outputs": [
    {
     "name": "stdout",
     "output_type": "stream",
     "text": [
      "Total error in Page སློབ་གསོ། : 0\n"
     ]
    }
   ],
   "source": [
    "check_error_in_links(all_links['Data'], key_code, print_each_error=True)"
   ]
  },
  {
   "cell_type": "code",
   "execution_count": 12,
   "metadata": {},
   "outputs": [
    {
     "name": "stdout",
     "output_type": "stream",
     "text": [
      "Successfully saved: tb_tibet_cn_ALL_link_སློབ་གསོ།.json\n"
     ]
    }
   ],
   "source": [
    "# Saving the final file\n",
    "path = \"./data/\"\n",
    "file_name = f\"tb_tibet_cn_ALL_link_{article_tag}.json\"\n",
    "save_json(path, file_name, all_links['Data'])"
   ]
  },
  {
   "cell_type": "code",
   "execution_count": null,
   "metadata": {},
   "outputs": [],
   "source": [
    "\n",
    "    "
   ]
  },
  {
   "cell_type": "code",
   "execution_count": null,
   "metadata": {},
   "outputs": [],
   "source": []
  },
  {
   "cell_type": "code",
   "execution_count": null,
   "metadata": {},
   "outputs": [],
   "source": []
  },
  {
   "cell_type": "code",
   "execution_count": null,
   "metadata": {},
   "outputs": [],
   "source": []
  },
  {
   "cell_type": "code",
   "execution_count": null,
   "metadata": {},
   "outputs": [],
   "source": []
  },
  {
   "cell_type": "code",
   "execution_count": null,
   "metadata": {},
   "outputs": [],
   "source": []
  },
  {
   "cell_type": "code",
   "execution_count": null,
   "metadata": {},
   "outputs": [],
   "source": []
  },
  {
   "cell_type": "code",
   "execution_count": null,
   "metadata": {},
   "outputs": [],
   "source": []
  },
  {
   "cell_type": "code",
   "execution_count": null,
   "metadata": {},
   "outputs": [],
   "source": []
  }
 ],
 "metadata": {
  "kernelspec": {
   "display_name": "Python 3 (ipykernel)",
   "language": "python",
   "name": "python3"
  },
  "language_info": {
   "codemirror_mode": {
    "name": "ipython",
    "version": 3
   },
   "file_extension": ".py",
   "mimetype": "text/x-python",
   "name": "python",
   "nbconvert_exporter": "python",
   "pygments_lexer": "ipython3",
   "version": "3.10.13"
  }
 },
 "nbformat": 4,
 "nbformat_minor": 4
}
