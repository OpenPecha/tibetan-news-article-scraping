{
 "cells": [
  {
   "cell_type": "code",
   "execution_count": 1,
   "id": "40147810-a5ac-49c4-9891-123f743b40eb",
   "metadata": {},
   "outputs": [],
   "source": [
    "import requests\n",
    "from bs4 import BeautifulSoup\n",
    "import json\n",
    "import time\n",
    "\n",
    "from tqdm import tqdm"
   ]
  },
  {
   "cell_type": "code",
   "execution_count": 2,
   "id": "7c3970d1-04ce-402d-afa7-fbf8323f6284",
   "metadata": {},
   "outputs": [],
   "source": [
    "import tb1025_utils\n",
    "import pandas as pd"
   ]
  },
  {
   "cell_type": "code",
   "execution_count": null,
   "id": "ca1d7bbc-d27b-4c64-aa2d-5d27409915d7",
   "metadata": {},
   "outputs": [],
   "source": []
  },
  {
   "cell_type": "markdown",
   "id": "685b9b9e-98a7-4a1f-a674-2125437e3fe4",
   "metadata": {},
   "source": [
    "## Here we will extract all the articles links from https://www.tb1025.cn/ webpage\n",
    "URL:  https://www.tb1025.cn/"
   ]
  },
  {
   "cell_type": "markdown",
   "id": "95f69b28-a91e-479a-9d51-3e2d466692a6",
   "metadata": {},
   "source": [
    "Tabs not extracted:\n",
    "https://www.tb1025.cn/"
   ]
  },
  {
   "cell_type": "code",
   "execution_count": null,
   "id": "53f131a3-9008-4061-a1c1-191bf90cab51",
   "metadata": {},
   "outputs": [],
   "source": []
  },
  {
   "cell_type": "markdown",
   "id": "acd071a1-9fce-42e8-9d49-0e71dc3b42e4",
   "metadata": {},
   "source": [
    "\n",
    "------------\n",
    "-----------\n",
    "------------\n",
    "------------\n",
    "------------"
   ]
  },
  {
   "cell_type": "code",
   "execution_count": 4,
   "id": "467da2b4-69ca-4b77-b0b5-01ec39d844bc",
   "metadata": {},
   "outputs": [],
   "source": [
    "def loop_article_page(total_page, custom_url, key_code, base_url):\n",
    "    \"\"\"\n",
    "    \n",
    "    \"\"\"\n",
    "    return_file = {\n",
    "        \"Data\": [],\n",
    "        \"message\": \"success\",\n",
    "        \"response\": 200\n",
    "    }\n",
    "    All_url_links = {}\n",
    "    if total_page == 0:\n",
    "        total_page = 1\n",
    "    \n",
    "    try:\n",
    "        for i in tqdm(range(1, total_page+1)):\n",
    "            if i==1:\n",
    "                final_url = custom_url+ \"index.html\"\n",
    "            else:\n",
    "                final_url = custom_url+ \"index_\" + str(i) + \".html\"\n",
    "                \n",
    "            found_url_links = tb1025_utils.extract_tb1025_page_article_links(final_url, base_url)\n",
    "            key = key_code + str(i)\n",
    "            All_url_links[key] = found_url_links\n",
    "        return_file[\"Data\"] = All_url_links\n",
    "        return return_file\n",
    "    \n",
    "    except Exception as e:\n",
    "        return_file[\"Data\"] = All_url_links\n",
    "        return_file[\"message\"] = e\n",
    "        return_file[\"response\"] = 404\n",
    "        return return_file"
   ]
  },
  {
   "cell_type": "code",
   "execution_count": 5,
   "id": "36d048db-f75b-4bbf-99ba-333eb7639175",
   "metadata": {},
   "outputs": [],
   "source": [
    "def check_error_in_links(All_url_link, page_code, print_each_error=False):\n",
    "    \"\"\"\n",
    "    \n",
    "    \n",
    "    \"\"\"\n",
    "\n",
    "    error_counter = 0\n",
    "    for page_id in range(1, len(All_url_link)):\n",
    "        page_key = page_code + str(page_id)\n",
    "        try:\n",
    "            All_url_link.get(page_key)\n",
    "            if  All_url_link.get(page_key)[\"Response\"]!= 200:\n",
    "                error_counter += 1\n",
    "                if print_each_error:\n",
    "                    print(page_key, All_url_link.get(page_key)[\"message\"])\n",
    "        except Exception as e:\n",
    "            print(page_key, e)\n",
    "\n",
    "    print(f\"Total error in {page_code}: {error_counter}\")"
   ]
  },
  {
   "cell_type": "code",
   "execution_count": 6,
   "id": "43edc8d7-14ca-44e8-9fda-7ec78d5e7fe8",
   "metadata": {},
   "outputs": [],
   "source": [
    "def save_json(path, file_name, data):\n",
    "    \"\"\"\n",
    "    \n",
    "    \"\"\"\n",
    "    with open(path+file_name, \"w\") as outfile:\n",
    "        json.dump(data, outfile, indent=4, ensure_ascii=False)\n",
    "        print(f\"\\n\\nSuccessfully saved: {file_name}\")"
   ]
  },
  {
   "cell_type": "code",
   "execution_count": null,
   "id": "1f46d139-cd34-40d1-be5f-93f40630ccbb",
   "metadata": {},
   "outputs": [],
   "source": []
  },
  {
   "cell_type": "code",
   "execution_count": null,
   "id": "2dfeb92c-62d7-404c-83cc-f2ec569ddadb",
   "metadata": {},
   "outputs": [],
   "source": []
  },
  {
   "cell_type": "markdown",
   "id": "8285b51c-3a40-4e55-bf05-b132ecb3d64c",
   "metadata": {},
   "source": [
    "### all data"
   ]
  },
  {
   "cell_type": "code",
   "execution_count": 3,
   "id": "25b41ef0-af0c-4cee-ad0f-2e6c73282629",
   "metadata": {},
   "outputs": [
    {
     "data": {
      "text/html": [
       "<div>\n",
       "<style scoped>\n",
       "    .dataframe tbody tr th:only-of-type {\n",
       "        vertical-align: middle;\n",
       "    }\n",
       "\n",
       "    .dataframe tbody tr th {\n",
       "        vertical-align: top;\n",
       "    }\n",
       "\n",
       "    .dataframe thead th {\n",
       "        text-align: right;\n",
       "    }\n",
       "</style>\n",
       "<table border=\"1\" class=\"dataframe\">\n",
       "  <thead>\n",
       "    <tr style=\"text-align: right;\">\n",
       "      <th></th>\n",
       "      <th>name_of_cate</th>\n",
       "      <th>original_url</th>\n",
       "      <th>Last_page_link</th>\n",
       "      <th>list_page_no</th>\n",
       "    </tr>\n",
       "  </thead>\n",
       "  <tbody>\n",
       "    <tr>\n",
       "      <th>0</th>\n",
       "      <td>གསར་འགྱུར།</td>\n",
       "      <td>https://www.tb1025.cn/sj/</td>\n",
       "      <td>/sj/index_2.html</td>\n",
       "      <td>2</td>\n",
       "    </tr>\n",
       "    <tr>\n",
       "      <th>1</th>\n",
       "      <td>ཆོས་འབྱུང་།</td>\n",
       "      <td>https://www.tb1025.cn/lg/qijun/</td>\n",
       "      <td>/lg/qijun/index_16.html</td>\n",
       "      <td>16</td>\n",
       "    </tr>\n",
       "    <tr>\n",
       "      <th>2</th>\n",
       "      <td>བཀའ་འགྱུར།</td>\n",
       "      <td>https://www.tb1025.cn/gj/</td>\n",
       "      <td>/gj/index_7.html</td>\n",
       "      <td>7</td>\n",
       "    </tr>\n",
       "    <tr>\n",
       "      <th>3</th>\n",
       "      <td>བསྟན་འགྱུར།</td>\n",
       "      <td>https://www.tb1025.cn/dj/</td>\n",
       "      <td>/dj/index_6.html</td>\n",
       "      <td>6</td>\n",
       "    </tr>\n",
       "    <tr>\n",
       "      <th>4</th>\n",
       "      <td>ཚད་མ།</td>\n",
       "      <td>https://www.tb1025.cn/dn/canma/</td>\n",
       "      <td>/dn/canma/index_3.html</td>\n",
       "      <td>3</td>\n",
       "    </tr>\n",
       "    <tr>\n",
       "      <th>5</th>\n",
       "      <td>ཕར་ཕྱིན།</td>\n",
       "      <td>https://www.tb1025.cn/dn/paxing/</td>\n",
       "      <td>/dn/paxing/index_11.html</td>\n",
       "      <td>11</td>\n",
       "    </tr>\n",
       "    <tr>\n",
       "      <th>6</th>\n",
       "      <td>དབུ་མ།</td>\n",
       "      <td>https://www.tb1025.cn/dn/huma/</td>\n",
       "      <td>/dn/huma/index_2.html</td>\n",
       "      <td>2</td>\n",
       "    </tr>\n",
       "    <tr>\n",
       "      <th>7</th>\n",
       "      <td>སྔགས།</td>\n",
       "      <td>https://www.tb1025.cn/dn/ne/</td>\n",
       "      <td>/dn/ne/index_2.html</td>\n",
       "      <td>2</td>\n",
       "    </tr>\n",
       "    <tr>\n",
       "      <th>8</th>\n",
       "      <td>ཆོ་ག</td>\n",
       "      <td>https://www.tb1025.cn/qj/qiaoga/</td>\n",
       "      <td>/qj/qiaoga/index_2.html</td>\n",
       "      <td>2</td>\n",
       "    </tr>\n",
       "    <tr>\n",
       "      <th>9</th>\n",
       "      <td>ཞལ་འདོན།</td>\n",
       "      <td>https://www.tb1025.cn/qj/xiaduan/</td>\n",
       "      <td>/qj/xiaduan/index_8.html</td>\n",
       "      <td>8</td>\n",
       "    </tr>\n",
       "    <tr>\n",
       "      <th>10</th>\n",
       "      <td>རྒྱུན་ཤེས་དམར་ཁྲིད།</td>\n",
       "      <td>https://www.tb1025.cn/jx/jxmc/</td>\n",
       "      <td>/jx/jxmc/index_4.html</td>\n",
       "      <td>4</td>\n",
       "    </tr>\n",
       "    <tr>\n",
       "      <th>11</th>\n",
       "      <td>སྤྲུལ་སྐུའི་མིང་མཛོད།</td>\n",
       "      <td>https://www.tb1025.cn/jx/zgmz/</td>\n",
       "      <td>/jx/zgmz/index_6.html</td>\n",
       "      <td>6</td>\n",
       "    </tr>\n",
       "    <tr>\n",
       "      <th>12</th>\n",
       "      <td>སྙན་ངག</td>\n",
       "      <td>https://www.tb1025.cn/sz/nianna/</td>\n",
       "      <td>/sz/nianna/index_2.html</td>\n",
       "      <td>2</td>\n",
       "    </tr>\n",
       "    <tr>\n",
       "      <th>13</th>\n",
       "      <td>ལྷུག་རྩོམ།</td>\n",
       "      <td>https://www.tb1025.cn/sz/lezuan/</td>\n",
       "      <td>/sz/lezuan/index_3.html</td>\n",
       "      <td>3</td>\n",
       "    </tr>\n",
       "    <tr>\n",
       "      <th>14</th>\n",
       "      <td>དཔྱད་རྩོམ།</td>\n",
       "      <td>https://www.tb1025.cn/xj/xiaizuan/</td>\n",
       "      <td>/xj/xiaizuan/index_3.html</td>\n",
       "      <td>3</td>\n",
       "    </tr>\n",
       "    <tr>\n",
       "      <th>15</th>\n",
       "      <td>དཀར་ཆག</td>\n",
       "      <td>https://www.tb1025.cn/xry/gajia/</td>\n",
       "      <td>/xry/gajia/index_11.html</td>\n",
       "      <td>11</td>\n",
       "    </tr>\n",
       "    <tr>\n",
       "      <th>16</th>\n",
       "      <td>རྣམ་ཐར།</td>\n",
       "      <td>https://www.tb1025.cn/jlm/nantai/</td>\n",
       "      <td>/jlm/nantai/index_9.html</td>\n",
       "      <td>9</td>\n",
       "    </tr>\n",
       "    <tr>\n",
       "      <th>17</th>\n",
       "      <td>བསྟོད་ཚོགས།</td>\n",
       "      <td>https://www.tb1025.cn/jlm/duocuo/</td>\n",
       "      <td>/jlm/duocuo/index_2.html</td>\n",
       "      <td>2</td>\n",
       "    </tr>\n",
       "    <tr>\n",
       "      <th>18</th>\n",
       "      <td>གསུང་འབུམ།</td>\n",
       "      <td>https://www.tb1025.cn/jlm/songben/</td>\n",
       "      <td>/jlm/songben/index_6.html</td>\n",
       "      <td>6</td>\n",
       "    </tr>\n",
       "    <tr>\n",
       "      <th>19</th>\n",
       "      <td>གཞན་དག</td>\n",
       "      <td>https://www.tb1025.cn/jlm/xiande1/</td>\n",
       "      <td>/jlm/xiande1/index_2.html</td>\n",
       "      <td>2</td>\n",
       "    </tr>\n",
       "  </tbody>\n",
       "</table>\n",
       "</div>"
      ],
      "text/plain": [
       "             name_of_cate                        original_url  \\\n",
       "0              གསར་འགྱུར།           https://www.tb1025.cn/sj/   \n",
       "1             ཆོས་འབྱུང་།     https://www.tb1025.cn/lg/qijun/   \n",
       "2              བཀའ་འགྱུར།           https://www.tb1025.cn/gj/   \n",
       "3             བསྟན་འགྱུར།           https://www.tb1025.cn/dj/   \n",
       "4                   ཚད་མ།     https://www.tb1025.cn/dn/canma/   \n",
       "5                ཕར་ཕྱིན།    https://www.tb1025.cn/dn/paxing/   \n",
       "6                  དབུ་མ།      https://www.tb1025.cn/dn/huma/   \n",
       "7                   སྔགས།        https://www.tb1025.cn/dn/ne/   \n",
       "8                    ཆོ་ག    https://www.tb1025.cn/qj/qiaoga/   \n",
       "9                ཞལ་འདོན།   https://www.tb1025.cn/qj/xiaduan/   \n",
       "10    རྒྱུན་ཤེས་དམར་ཁྲིད།      https://www.tb1025.cn/jx/jxmc/   \n",
       "11  སྤྲུལ་སྐུའི་མིང་མཛོད།      https://www.tb1025.cn/jx/zgmz/   \n",
       "12                 སྙན་ངག    https://www.tb1025.cn/sz/nianna/   \n",
       "13             ལྷུག་རྩོམ།    https://www.tb1025.cn/sz/lezuan/   \n",
       "14             དཔྱད་རྩོམ།  https://www.tb1025.cn/xj/xiaizuan/   \n",
       "15                 དཀར་ཆག    https://www.tb1025.cn/xry/gajia/   \n",
       "16                རྣམ་ཐར།   https://www.tb1025.cn/jlm/nantai/   \n",
       "17            བསྟོད་ཚོགས།   https://www.tb1025.cn/jlm/duocuo/   \n",
       "18             གསུང་འབུམ།  https://www.tb1025.cn/jlm/songben/   \n",
       "19                 གཞན་དག  https://www.tb1025.cn/jlm/xiande1/   \n",
       "\n",
       "               Last_page_link  list_page_no  \n",
       "0            /sj/index_2.html             2  \n",
       "1     /lg/qijun/index_16.html            16  \n",
       "2            /gj/index_7.html             7  \n",
       "3            /dj/index_6.html             6  \n",
       "4      /dn/canma/index_3.html             3  \n",
       "5    /dn/paxing/index_11.html            11  \n",
       "6       /dn/huma/index_2.html             2  \n",
       "7         /dn/ne/index_2.html             2  \n",
       "8     /qj/qiaoga/index_2.html             2  \n",
       "9    /qj/xiaduan/index_8.html             8  \n",
       "10      /jx/jxmc/index_4.html             4  \n",
       "11      /jx/zgmz/index_6.html             6  \n",
       "12    /sz/nianna/index_2.html             2  \n",
       "13    /sz/lezuan/index_3.html             3  \n",
       "14  /xj/xiaizuan/index_3.html             3  \n",
       "15   /xry/gajia/index_11.html            11  \n",
       "16   /jlm/nantai/index_9.html             9  \n",
       "17   /jlm/duocuo/index_2.html             2  \n",
       "18  /jlm/songben/index_6.html             6  \n",
       "19  /jlm/xiande1/index_2.html             2  "
      ]
     },
     "execution_count": 3,
     "metadata": {},
     "output_type": "execute_result"
    }
   ],
   "source": [
    "df = pd.read_csv(\"./data/All_cate.csv\")\n",
    "df.head(20)"
   ]
  },
  {
   "cell_type": "code",
   "execution_count": 14,
   "id": "3d271a88-5471-41a0-bd2d-838eca8b02d0",
   "metadata": {},
   "outputs": [],
   "source": [
    "# sample_df = df.iloc[0:1]\n",
    "sample_df = df"
   ]
  },
  {
   "cell_type": "markdown",
   "id": "c7220ef0-a997-4dfe-8662-9d563082e6fd",
   "metadata": {},
   "source": [
    "## check those\n",
    "- file_name_code\n",
    "- base_url\n",
    "- starting index for page.\n",
    "   - if lowest is 0 then index is 0 else 1"
   ]
  },
  {
   "cell_type": "code",
   "execution_count": 11,
   "id": "01bc0c85-ba0a-4e57-a946-cb8fb04cf7cc",
   "metadata": {},
   "outputs": [],
   "source": [
    "file_name_code = \"tb1025\"\n",
    "base_url = \"https://www.tb1025.cn\""
   ]
  },
  {
   "cell_type": "code",
   "execution_count": null,
   "id": "e4eab7fa-8cb2-462a-8cdb-cfdac2f97134",
   "metadata": {},
   "outputs": [],
   "source": []
  },
  {
   "cell_type": "code",
   "execution_count": null,
   "id": "0806c97f-1029-414e-bf67-278fc4b87ba0",
   "metadata": {},
   "outputs": [],
   "source": []
  },
  {
   "cell_type": "code",
   "execution_count": 15,
   "id": "81485921-1ab2-4589-9c7d-ab4ff580093d",
   "metadata": {
    "scrolled": true
   },
   "outputs": [
    {
     "name": "stderr",
     "output_type": "stream",
     "text": [
      "100%|██████████| 2/2 [00:01<00:00,  1.07it/s]\n"
     ]
    },
    {
     "name": "stdout",
     "output_type": "stream",
     "text": [
      "Total page in གསར་འགྱུར།: 2\n",
      "Total error in Page གསར་འགྱུར། : 0\n",
      "\n",
      "\n",
      "Successfully saved: tb1025_ALL_link_གསར་འགྱུར།.json\n"
     ]
    },
    {
     "name": "stderr",
     "output_type": "stream",
     "text": [
      "100%|██████████| 16/16 [00:15<00:00,  1.06it/s]\n"
     ]
    },
    {
     "name": "stdout",
     "output_type": "stream",
     "text": [
      "Total page in ཆོས་འབྱུང་།: 16\n",
      "Total error in Page ཆོས་འབྱུང་། : 0\n",
      "\n",
      "\n",
      "Successfully saved: tb1025_ALL_link_ཆོས་འབྱུང་།.json\n"
     ]
    },
    {
     "name": "stderr",
     "output_type": "stream",
     "text": [
      "100%|██████████| 7/7 [00:06<00:00,  1.07it/s]\n"
     ]
    },
    {
     "name": "stdout",
     "output_type": "stream",
     "text": [
      "Total page in བཀའ་འགྱུར།: 7\n",
      "Total error in Page བཀའ་འགྱུར། : 0\n",
      "\n",
      "\n",
      "Successfully saved: tb1025_ALL_link_བཀའ་འགྱུར།.json\n"
     ]
    },
    {
     "name": "stderr",
     "output_type": "stream",
     "text": [
      "100%|██████████| 6/6 [00:05<00:00,  1.06it/s]\n"
     ]
    },
    {
     "name": "stdout",
     "output_type": "stream",
     "text": [
      "Total page in བསྟན་འགྱུར།: 6\n",
      "Total error in Page བསྟན་འགྱུར། : 0\n",
      "\n",
      "\n",
      "Successfully saved: tb1025_ALL_link_བསྟན་འགྱུར།.json\n"
     ]
    },
    {
     "name": "stderr",
     "output_type": "stream",
     "text": [
      "100%|██████████| 3/3 [00:02<00:00,  1.08it/s]\n"
     ]
    },
    {
     "name": "stdout",
     "output_type": "stream",
     "text": [
      "Total page in ཚད་མ།: 3\n",
      "Total error in Page ཚད་མ། : 0\n",
      "\n",
      "\n",
      "Successfully saved: tb1025_ALL_link_ཚད་མ།.json\n"
     ]
    },
    {
     "name": "stderr",
     "output_type": "stream",
     "text": [
      "100%|██████████| 11/11 [00:10<00:00,  1.04it/s]\n"
     ]
    },
    {
     "name": "stdout",
     "output_type": "stream",
     "text": [
      "Total page in ཕར་ཕྱིན།: 11\n",
      "Total error in Page ཕར་ཕྱིན། : 0\n",
      "\n",
      "\n",
      "Successfully saved: tb1025_ALL_link_ཕར་ཕྱིན།.json\n"
     ]
    },
    {
     "name": "stderr",
     "output_type": "stream",
     "text": [
      "100%|██████████| 2/2 [00:01<00:00,  1.05it/s]\n"
     ]
    },
    {
     "name": "stdout",
     "output_type": "stream",
     "text": [
      "Total page in དབུ་མ།: 2\n",
      "Total error in Page དབུ་མ། : 0\n",
      "\n",
      "\n",
      "Successfully saved: tb1025_ALL_link_དབུ་མ།.json\n"
     ]
    },
    {
     "name": "stderr",
     "output_type": "stream",
     "text": [
      "100%|██████████| 2/2 [00:01<00:00,  1.06it/s]\n"
     ]
    },
    {
     "name": "stdout",
     "output_type": "stream",
     "text": [
      "Total page in སྔགས།: 2\n",
      "Total error in Page སྔགས། : 0\n",
      "\n",
      "\n",
      "Successfully saved: tb1025_ALL_link_སྔགས།.json\n"
     ]
    },
    {
     "name": "stderr",
     "output_type": "stream",
     "text": [
      "100%|██████████| 2/2 [00:01<00:00,  1.06it/s]\n"
     ]
    },
    {
     "name": "stdout",
     "output_type": "stream",
     "text": [
      "Total page in ཆོ་ག: 2\n",
      "Total error in Page ཆོ་ག : 0\n",
      "\n",
      "\n",
      "Successfully saved: tb1025_ALL_link_ཆོ་ག.json\n"
     ]
    },
    {
     "name": "stderr",
     "output_type": "stream",
     "text": [
      "100%|██████████| 8/8 [00:07<00:00,  1.06it/s]\n"
     ]
    },
    {
     "name": "stdout",
     "output_type": "stream",
     "text": [
      "Total page in ཞལ་འདོན།: 8\n",
      "Total error in Page ཞལ་འདོན། : 0\n",
      "\n",
      "\n",
      "Successfully saved: tb1025_ALL_link_ཞལ་འདོན།.json\n"
     ]
    },
    {
     "name": "stderr",
     "output_type": "stream",
     "text": [
      "100%|██████████| 4/4 [00:03<00:00,  1.05it/s]\n"
     ]
    },
    {
     "name": "stdout",
     "output_type": "stream",
     "text": [
      "Total page in རྒྱུན་ཤེས་དམར་ཁྲིད།: 4\n",
      "Total error in Page རྒྱུན་ཤེས་དམར་ཁྲིད། : 0\n",
      "\n",
      "\n",
      "Successfully saved: tb1025_ALL_link_རྒྱུན་ཤེས་དམར་ཁྲིད།.json\n"
     ]
    },
    {
     "name": "stderr",
     "output_type": "stream",
     "text": [
      "100%|██████████| 6/6 [00:05<00:00,  1.05it/s]\n"
     ]
    },
    {
     "name": "stdout",
     "output_type": "stream",
     "text": [
      "Total page in སྤྲུལ་སྐུའི་མིང་མཛོད།: 6\n",
      "Total error in Page སྤྲུལ་སྐུའི་མིང་མཛོད། : 0\n",
      "\n",
      "\n",
      "Successfully saved: tb1025_ALL_link_སྤྲུལ་སྐུའི་མིང་མཛོད།.json\n"
     ]
    },
    {
     "name": "stderr",
     "output_type": "stream",
     "text": [
      "100%|██████████| 2/2 [00:01<00:00,  1.06it/s]\n"
     ]
    },
    {
     "name": "stdout",
     "output_type": "stream",
     "text": [
      "Total page in སྙན་ངག: 2\n",
      "Total error in Page སྙན་ངག : 0\n",
      "\n",
      "\n",
      "Successfully saved: tb1025_ALL_link_སྙན་ངག.json\n"
     ]
    },
    {
     "name": "stderr",
     "output_type": "stream",
     "text": [
      "100%|██████████| 3/3 [00:02<00:00,  1.05it/s]\n"
     ]
    },
    {
     "name": "stdout",
     "output_type": "stream",
     "text": [
      "Total page in ལྷུག་རྩོམ།: 3\n",
      "Total error in Page ལྷུག་རྩོམ། : 0\n",
      "\n",
      "\n",
      "Successfully saved: tb1025_ALL_link_ལྷུག་རྩོམ།.json\n"
     ]
    },
    {
     "name": "stderr",
     "output_type": "stream",
     "text": [
      "100%|██████████| 3/3 [00:02<00:00,  1.09it/s]\n"
     ]
    },
    {
     "name": "stdout",
     "output_type": "stream",
     "text": [
      "Total page in དཔྱད་རྩོམ།: 3\n",
      "Total error in Page དཔྱད་རྩོམ། : 0\n",
      "\n",
      "\n",
      "Successfully saved: tb1025_ALL_link_དཔྱད་རྩོམ།.json\n"
     ]
    },
    {
     "name": "stderr",
     "output_type": "stream",
     "text": [
      "100%|██████████| 11/11 [00:10<00:00,  1.05it/s]\n"
     ]
    },
    {
     "name": "stdout",
     "output_type": "stream",
     "text": [
      "Total page in དཀར་ཆག: 11\n",
      "Total error in Page དཀར་ཆག : 0\n",
      "\n",
      "\n",
      "Successfully saved: tb1025_ALL_link_དཀར་ཆག.json\n"
     ]
    },
    {
     "name": "stderr",
     "output_type": "stream",
     "text": [
      "100%|██████████| 9/9 [00:08<00:00,  1.06it/s]\n"
     ]
    },
    {
     "name": "stdout",
     "output_type": "stream",
     "text": [
      "Total page in རྣམ་ཐར།: 9\n",
      "Total error in Page རྣམ་ཐར། : 0\n",
      "\n",
      "\n",
      "Successfully saved: tb1025_ALL_link_རྣམ་ཐར།.json\n"
     ]
    },
    {
     "name": "stderr",
     "output_type": "stream",
     "text": [
      "100%|██████████| 2/2 [00:01<00:00,  1.06it/s]\n"
     ]
    },
    {
     "name": "stdout",
     "output_type": "stream",
     "text": [
      "Total page in བསྟོད་ཚོགས།: 2\n",
      "Total error in Page བསྟོད་ཚོགས། : 0\n",
      "\n",
      "\n",
      "Successfully saved: tb1025_ALL_link_བསྟོད་ཚོགས།.json\n"
     ]
    },
    {
     "name": "stderr",
     "output_type": "stream",
     "text": [
      "100%|██████████| 6/6 [00:05<00:00,  1.09it/s]\n"
     ]
    },
    {
     "name": "stdout",
     "output_type": "stream",
     "text": [
      "Total page in གསུང་འབུམ།: 6\n",
      "Total error in Page གསུང་འབུམ། : 0\n",
      "\n",
      "\n",
      "Successfully saved: tb1025_ALL_link_གསུང་འབུམ།.json\n"
     ]
    },
    {
     "name": "stderr",
     "output_type": "stream",
     "text": [
      "100%|██████████| 2/2 [00:01<00:00,  1.08it/s]\n"
     ]
    },
    {
     "name": "stdout",
     "output_type": "stream",
     "text": [
      "Total page in གཞན་དག: 2\n",
      "Total error in Page གཞན་དག : 0\n",
      "\n",
      "\n",
      "Successfully saved: tb1025_ALL_link_གཞན་དག.json\n"
     ]
    },
    {
     "name": "stderr",
     "output_type": "stream",
     "text": [
      "100%|██████████| 10/10 [00:09<00:00,  1.06it/s]\n"
     ]
    },
    {
     "name": "stdout",
     "output_type": "stream",
     "text": [
      "Total page in རྩོམ་རིག: 10\n",
      "Total error in Page རྩོམ་རིག : 0\n",
      "\n",
      "\n",
      "Successfully saved: tb1025_ALL_link_རྩོམ་རིག.json\n"
     ]
    },
    {
     "name": "stderr",
     "output_type": "stream",
     "text": [
      "100%|██████████| 3/3 [00:02<00:00,  1.04it/s]\n"
     ]
    },
    {
     "name": "stdout",
     "output_type": "stream",
     "text": [
      "Total page in བསླབ་བྱ།: 3\n",
      "Total error in Page བསླབ་བྱ། : 0\n",
      "\n",
      "\n",
      "Successfully saved: tb1025_ALL_link_བསླབ་བྱ།.json\n"
     ]
    },
    {
     "name": "stderr",
     "output_type": "stream",
     "text": [
      "100%|██████████| 2/2 [00:01<00:00,  1.05it/s]\n"
     ]
    },
    {
     "name": "stdout",
     "output_type": "stream",
     "text": [
      "Total page in གཞན་དག: 2\n",
      "Total error in Page གཞན་དག : 0\n",
      "\n",
      "\n",
      "Successfully saved: tb1025_ALL_link_གཞན་དག.json\n"
     ]
    },
    {
     "name": "stderr",
     "output_type": "stream",
     "text": [
      "100%|██████████| 2/2 [00:01<00:00,  1.07it/s]\n"
     ]
    },
    {
     "name": "stdout",
     "output_type": "stream",
     "text": [
      "Total page in བོད་འགྱུར།: 2\n",
      "Total error in Page བོད་འགྱུར། : 0\n",
      "\n",
      "\n",
      "Successfully saved: tb1025_ALL_link_བོད་འགྱུར།.json\n"
     ]
    },
    {
     "name": "stderr",
     "output_type": "stream",
     "text": [
      "100%|██████████| 3/3 [00:02<00:00,  1.08it/s]\n"
     ]
    },
    {
     "name": "stdout",
     "output_type": "stream",
     "text": [
      "Total page in བོད་རྒྱ་ཤན་སྦྱོར།: 3\n",
      "Total error in Page བོད་རྒྱ་ཤན་སྦྱོར། : 0\n",
      "\n",
      "\n",
      "Successfully saved: tb1025_ALL_link_བོད་རྒྱ་ཤན་སྦྱོར།.json\n"
     ]
    },
    {
     "name": "stderr",
     "output_type": "stream",
     "text": [
      "100%|██████████| 2/2 [00:01<00:00,  1.05it/s]\n"
     ]
    },
    {
     "name": "stdout",
     "output_type": "stream",
     "text": [
      "Total page in གནས་རི།: 2\n",
      "Total error in Page གནས་རི། : 0\n",
      "\n",
      "\n",
      "Successfully saved: tb1025_ALL_link_གནས་རི།.json\n"
     ]
    },
    {
     "name": "stderr",
     "output_type": "stream",
     "text": [
      "100%|██████████| 2/2 [00:01<00:00,  1.08it/s]\n"
     ]
    },
    {
     "name": "stdout",
     "output_type": "stream",
     "text": [
      "Total page in གཞན་དག: 2\n",
      "Total error in Page གཞན་དག : 0\n",
      "\n",
      "\n",
      "Successfully saved: tb1025_ALL_link_གཞན་དག.json\n"
     ]
    },
    {
     "name": "stderr",
     "output_type": "stream",
     "text": [
      "100%|██████████| 14/14 [00:13<00:00,  1.06it/s]\n"
     ]
    },
    {
     "name": "stdout",
     "output_type": "stream",
     "text": [
      "Total page in གསེར་ཁྲི།: 14\n",
      "Total error in Page གསེར་ཁྲི། : 0\n",
      "\n",
      "\n",
      "Successfully saved: tb1025_ALL_link_གསེར་ཁྲི།.json\n"
     ]
    },
    {
     "name": "stderr",
     "output_type": "stream",
     "text": [
      "100%|██████████| 5/5 [00:04<00:00,  1.08it/s]\n"
     ]
    },
    {
     "name": "stdout",
     "output_type": "stream",
     "text": [
      "Total page in ཕྱི་དར་བསྟན་འཛིན།: 5\n",
      "Total error in Page ཕྱི་དར་བསྟན་འཛིན། : 0\n",
      "\n",
      "\n",
      "Successfully saved: tb1025_ALL_link_ཕྱི་དར་བསྟན་འཛིན།.json\n"
     ]
    },
    {
     "name": "stderr",
     "output_type": "stream",
     "text": [
      "100%|██████████| 4/4 [00:03<00:00,  1.06it/s]\n"
     ]
    },
    {
     "name": "stdout",
     "output_type": "stream",
     "text": [
      "Total page in ཡང་དར་བསྟན་འཛིན།: 4\n",
      "Total error in Page ཡང་དར་བསྟན་འཛིན། : 0\n",
      "\n",
      "\n",
      "Successfully saved: tb1025_ALL_link_ཡང་དར་བསྟན་འཛིན།.json\n"
     ]
    },
    {
     "name": "stderr",
     "output_type": "stream",
     "text": [
      "100%|██████████| 2/2 [00:01<00:00,  1.03it/s]\n"
     ]
    },
    {
     "name": "stdout",
     "output_type": "stream",
     "text": [
      "Total page in གཞན་དག: 2\n",
      "Total error in Page གཞན་དག : 0\n",
      "\n",
      "\n",
      "Successfully saved: tb1025_ALL_link_གཞན་དག.json\n"
     ]
    },
    {
     "name": "stderr",
     "output_type": "stream",
     "text": [
      "100%|██████████| 1/1 [00:00<00:00,  1.04it/s]\n"
     ]
    },
    {
     "name": "stdout",
     "output_type": "stream",
     "text": [
      "Total page in མཆོད་རྟེན།: 1\n",
      "Total error in Page མཆོད་རྟེན། : 0\n",
      "\n",
      "\n",
      "Successfully saved: tb1025_ALL_link_མཆོད་རྟེན།.json\n"
     ]
    },
    {
     "name": "stderr",
     "output_type": "stream",
     "text": [
      "100%|██████████| 1/1 [00:00<00:00,  1.06it/s]\n"
     ]
    },
    {
     "name": "stdout",
     "output_type": "stream",
     "text": [
      "Total page in མངོན་པ།: 1\n",
      "Total error in Page མངོན་པ། : 0\n",
      "\n",
      "\n",
      "Successfully saved: tb1025_ALL_link_མངོན་པ།.json\n"
     ]
    },
    {
     "name": "stderr",
     "output_type": "stream",
     "text": [
      "100%|██████████| 1/1 [00:00<00:00,  1.01it/s]\n"
     ]
    },
    {
     "name": "stdout",
     "output_type": "stream",
     "text": [
      "Total page in འདུལ་བ།: 1\n",
      "Total error in Page འདུལ་བ། : 0\n",
      "\n",
      "\n",
      "Successfully saved: tb1025_ALL_link_འདུལ་བ།.json\n"
     ]
    },
    {
     "name": "stderr",
     "output_type": "stream",
     "text": [
      "100%|██████████| 1/1 [00:00<00:00,  1.11it/s]\n"
     ]
    },
    {
     "name": "stdout",
     "output_type": "stream",
     "text": [
      "Total page in གྲུབ་མཐའ།: 1\n",
      "Total error in Page གྲུབ་མཐའ། : 0\n",
      "\n",
      "\n",
      "Successfully saved: tb1025_ALL_link_གྲུབ་མཐའ།.json\n"
     ]
    },
    {
     "name": "stderr",
     "output_type": "stream",
     "text": [
      "100%|██████████| 1/1 [00:00<00:00,  1.05it/s]\n"
     ]
    },
    {
     "name": "stdout",
     "output_type": "stream",
     "text": [
      "Total page in བློ་སྦྱོང་།: 1\n",
      "Total error in Page བློ་སྦྱོང་། : 0\n",
      "\n",
      "\n",
      "Successfully saved: tb1025_ALL_link_བློ་སྦྱོང་།.json\n"
     ]
    },
    {
     "name": "stderr",
     "output_type": "stream",
     "text": [
      "100%|██████████| 1/1 [00:00<00:00,  1.07it/s]\n"
     ]
    },
    {
     "name": "stdout",
     "output_type": "stream",
     "text": [
      "Total page in ལམ་རིམ།: 1\n",
      "Total error in Page ལམ་རིམ། : 0\n",
      "\n",
      "\n",
      "Successfully saved: tb1025_ALL_link_ལམ་རིམ།.json\n"
     ]
    },
    {
     "name": "stderr",
     "output_type": "stream",
     "text": [
      "100%|██████████| 1/1 [00:01<00:00,  1.02s/it]\n"
     ]
    },
    {
     "name": "stdout",
     "output_type": "stream",
     "text": [
      "Total page in སྒྲུབ་ཐབས།: 1\n",
      "Total error in Page སྒྲུབ་ཐབས། : 0\n",
      "\n",
      "\n",
      "Successfully saved: tb1025_ALL_link_སྒྲུབ་ཐབས།.json\n"
     ]
    },
    {
     "name": "stderr",
     "output_type": "stream",
     "text": [
      "100%|██████████| 1/1 [00:00<00:00,  1.08it/s]\n"
     ]
    },
    {
     "name": "stdout",
     "output_type": "stream",
     "text": [
      "Total page in བསྙེན་ཡིག: 1\n",
      "Total error in Page བསྙེན་ཡིག : 0\n",
      "\n",
      "\n",
      "Successfully saved: tb1025_ALL_link_བསྙེན་ཡིག.json\n"
     ]
    },
    {
     "name": "stderr",
     "output_type": "stream",
     "text": [
      "100%|██████████| 1/1 [00:00<00:00,  1.08it/s]\n"
     ]
    },
    {
     "name": "stdout",
     "output_type": "stream",
     "text": [
      "Total page in དོགས་ལན་ནག་འགྲོས།: 1\n",
      "Total error in Page དོགས་ལན་ནག་འགྲོས། : 0\n",
      "\n",
      "\n",
      "Successfully saved: tb1025_ALL_link_དོགས་ལན་ནག་འགྲོས།.json\n"
     ]
    },
    {
     "name": "stderr",
     "output_type": "stream",
     "text": [
      "100%|██████████| 1/1 [00:00<00:00,  1.07it/s]\n"
     ]
    },
    {
     "name": "stdout",
     "output_type": "stream",
     "text": [
      "Total page in གཏམ་རྒྱུད།: 1\n",
      "Total error in Page གཏམ་རྒྱུད། : 0\n",
      "\n",
      "\n",
      "Successfully saved: tb1025_ALL_link_གཏམ་རྒྱུད།.json\n"
     ]
    },
    {
     "name": "stderr",
     "output_type": "stream",
     "text": [
      "100%|██████████| 1/1 [00:00<00:00,  1.04it/s]\n"
     ]
    },
    {
     "name": "stdout",
     "output_type": "stream",
     "text": [
      "Total page in ཆེད་རྩོམ།: 1\n",
      "Total error in Page ཆེད་རྩོམ། : 0\n",
      "\n",
      "\n",
      "Successfully saved: tb1025_ALL_link_ཆེད་རྩོམ།.json\n"
     ]
    },
    {
     "name": "stderr",
     "output_type": "stream",
     "text": [
      "100%|██████████| 1/1 [00:00<00:00,  1.10it/s]\n"
     ]
    },
    {
     "name": "stdout",
     "output_type": "stream",
     "text": [
      "Total page in རྟེན་བཞེངས།: 1\n",
      "Total error in Page རྟེན་བཞེངས། : 0\n",
      "\n",
      "\n",
      "Successfully saved: tb1025_ALL_link_རྟེན་བཞེངས།.json\n"
     ]
    },
    {
     "name": "stderr",
     "output_type": "stream",
     "text": [
      "100%|██████████| 1/1 [00:00<00:00,  1.10it/s]\n"
     ]
    },
    {
     "name": "stdout",
     "output_type": "stream",
     "text": [
      "Total page in བརྟེན་པ།: 1\n",
      "Total error in Page བརྟེན་པ། : 0\n",
      "\n",
      "\n",
      "Successfully saved: tb1025_ALL_link_བརྟེན་པ།.json\n"
     ]
    },
    {
     "name": "stderr",
     "output_type": "stream",
     "text": [
      "100%|██████████| 1/1 [00:00<00:00,  1.01it/s]\n"
     ]
    },
    {
     "name": "stdout",
     "output_type": "stream",
     "text": [
      "Total page in ཐང་ག: 1\n",
      "Total error in Page ཐང་ག : 0\n",
      "\n",
      "\n",
      "Successfully saved: tb1025_ALL_link_ཐང་ག.json\n"
     ]
    },
    {
     "name": "stderr",
     "output_type": "stream",
     "text": [
      "100%|██████████| 1/1 [00:00<00:00,  1.15it/s]\n"
     ]
    },
    {
     "name": "stdout",
     "output_type": "stream",
     "text": [
      "Total page in འདྲ་པར།: 1\n",
      "Total error in Page འདྲ་པར། : 0\n",
      "\n",
      "\n",
      "Successfully saved: tb1025_ALL_link_འདྲ་པར།.json\n"
     ]
    },
    {
     "name": "stderr",
     "output_type": "stream",
     "text": [
      "100%|██████████| 1/1 [00:00<00:00,  1.07it/s]\n"
     ]
    },
    {
     "name": "stdout",
     "output_type": "stream",
     "text": [
      "Total page in རི་མོ།: 1\n",
      "Total error in Page རི་མོ། : 0\n",
      "\n",
      "\n",
      "Successfully saved: tb1025_ALL_link_རི་མོ།.json\n"
     ]
    },
    {
     "name": "stderr",
     "output_type": "stream",
     "text": [
      "100%|██████████| 1/1 [00:00<00:00,  1.09it/s]\n"
     ]
    },
    {
     "name": "stdout",
     "output_type": "stream",
     "text": [
      "Total page in གཞན་དག: 1\n",
      "Total error in Page གཞན་དག : 0\n",
      "\n",
      "\n",
      "Successfully saved: tb1025_ALL_link_གཞན་དག.json\n"
     ]
    },
    {
     "name": "stderr",
     "output_type": "stream",
     "text": [
      "100%|██████████| 1/1 [00:00<00:00,  1.05it/s]\n"
     ]
    },
    {
     "name": "stdout",
     "output_type": "stream",
     "text": [
      "Total page in བགྲོ་གླེང་།: 1\n",
      "Total error in Page བགྲོ་གླེང་། : 0\n",
      "\n",
      "\n",
      "Successfully saved: tb1025_ALL_link_བགྲོ་གླེང་།.json\n"
     ]
    },
    {
     "name": "stderr",
     "output_type": "stream",
     "text": [
      "100%|██████████| 1/1 [00:00<00:00,  1.12it/s]\n"
     ]
    },
    {
     "name": "stdout",
     "output_type": "stream",
     "text": [
      "Total page in གཞན་དག: 1\n",
      "Total error in Page གཞན་དག : 0\n",
      "\n",
      "\n",
      "Successfully saved: tb1025_ALL_link_གཞན་དག.json\n"
     ]
    },
    {
     "name": "stderr",
     "output_type": "stream",
     "text": [
      "100%|██████████| 1/1 [00:01<00:00,  1.05s/it]\n"
     ]
    },
    {
     "name": "stdout",
     "output_type": "stream",
     "text": [
      "Total page in གློག་བརྙན།: 1\n",
      "Total error in Page གློག་བརྙན། : 0\n",
      "\n",
      "\n",
      "Successfully saved: tb1025_ALL_link_གློག་བརྙན།.json\n"
     ]
    },
    {
     "name": "stderr",
     "output_type": "stream",
     "text": [
      "100%|██████████| 1/1 [00:00<00:00,  1.06it/s]\n"
     ]
    },
    {
     "name": "stdout",
     "output_type": "stream",
     "text": [
      "Total page in དཔེ་ཁྲིད།: 1\n",
      "Total error in Page དཔེ་ཁྲིད། : 0\n",
      "\n",
      "\n",
      "Successfully saved: tb1025_ALL_link_དཔེ་ཁྲིད།.json\n"
     ]
    },
    {
     "name": "stderr",
     "output_type": "stream",
     "text": [
      "100%|██████████| 1/1 [00:00<00:00,  1.07it/s]\n"
     ]
    },
    {
     "name": "stdout",
     "output_type": "stream",
     "text": [
      "Total page in དབྱངས།: 1\n",
      "Total error in Page དབྱངས། : 0\n",
      "\n",
      "\n",
      "Successfully saved: tb1025_ALL_link_དབྱངས།.json\n"
     ]
    },
    {
     "name": "stderr",
     "output_type": "stream",
     "text": [
      "100%|██████████| 1/1 [00:00<00:00,  1.10it/s]\n"
     ]
    },
    {
     "name": "stdout",
     "output_type": "stream",
     "text": [
      "Total page in ཞལ་འདོན་ཀུན་འདུས།: 1\n",
      "Total error in Page ཞལ་འདོན་ཀུན་འདུས། : 0\n",
      "\n",
      "\n",
      "Successfully saved: tb1025_ALL_link_ཞལ་འདོན་ཀུན་འདུས།.json\n"
     ]
    },
    {
     "name": "stderr",
     "output_type": "stream",
     "text": [
      "100%|██████████| 1/1 [00:00<00:00,  1.03it/s]\n"
     ]
    },
    {
     "name": "stdout",
     "output_type": "stream",
     "text": [
      "Total page in དྲ་བའི་གནས་ཚུལ།: 1\n",
      "Total error in Page དྲ་བའི་གནས་ཚུལ། : 0\n",
      "\n",
      "\n",
      "Successfully saved: tb1025_ALL_link_དྲ་བའི་གནས་ཚུལ།.json\n"
     ]
    },
    {
     "name": "stderr",
     "output_type": "stream",
     "text": [
      "100%|██████████| 1/1 [00:00<00:00,  1.14it/s]\n"
     ]
    },
    {
     "name": "stdout",
     "output_type": "stream",
     "text": [
      "Total page in ཞལ་འདེབས།: 1\n",
      "Total error in Page ཞལ་འདེབས། : 0\n",
      "\n",
      "\n",
      "Successfully saved: tb1025_ALL_link_ཞལ་འདེབས།.json\n"
     ]
    },
    {
     "name": "stderr",
     "output_type": "stream",
     "text": [
      "100%|██████████| 1/1 [00:00<00:00,  1.03it/s]\n"
     ]
    },
    {
     "name": "stdout",
     "output_type": "stream",
     "text": [
      "Total page in སྐད་འཇོག་པ།: 1\n",
      "Total error in Page སྐད་འཇོག་པ། : 0\n",
      "\n",
      "\n",
      "Successfully saved: tb1025_ALL_link_སྐད་འཇོག་པ།.json\n"
     ]
    },
    {
     "name": "stderr",
     "output_type": "stream",
     "text": [
      "100%|██████████| 1/1 [00:00<00:00,  1.13it/s]\n"
     ]
    },
    {
     "name": "stdout",
     "output_type": "stream",
     "text": [
      "Total page in ཤེས་རབ་གཡང་དཔེ་མཛོད་ཁང་།: 1\n",
      "Total error in Page ཤེས་རབ་གཡང་དཔེ་མཛོད་ཁང་། : 0\n",
      "\n",
      "\n",
      "Successfully saved: tb1025_ALL_link_ཤེས་རབ་གཡང་དཔེ་མཛོད་ཁང་།.json\n"
     ]
    },
    {
     "name": "stderr",
     "output_type": "stream",
     "text": [
      "100%|██████████| 1/1 [00:00<00:00,  1.12it/s]\n"
     ]
    },
    {
     "name": "stdout",
     "output_type": "stream",
     "text": [
      "Total page in དཔེ་ཆ་ལེན་ས།: 1\n",
      "Total error in Page དཔེ་ཆ་ལེན་ས། : 0\n",
      "\n",
      "\n",
      "Successfully saved: tb1025_ALL_link_དཔེ་ཆ་ལེན་ས།.json\n"
     ]
    },
    {
     "name": "stderr",
     "output_type": "stream",
     "text": [
      "100%|██████████| 1/1 [00:00<00:00,  1.06it/s]\n"
     ]
    },
    {
     "name": "stdout",
     "output_type": "stream",
     "text": [
      "Total page in གཞན་དག: 1\n",
      "Total error in Page གཞན་དག : 0\n",
      "\n",
      "\n",
      "Successfully saved: tb1025_ALL_link_གཞན་དག.json\n"
     ]
    },
    {
     "name": "stderr",
     "output_type": "stream",
     "text": [
      "100%|██████████| 1/1 [00:00<00:00,  1.08it/s]\n"
     ]
    },
    {
     "name": "stdout",
     "output_type": "stream",
     "text": [
      "Total page in མི་ཆོས།: 1\n",
      "Total error in Page མི་ཆོས། : 0\n",
      "\n",
      "\n",
      "Successfully saved: tb1025_ALL_link_མི་ཆོས།.json\n"
     ]
    },
    {
     "name": "stderr",
     "output_type": "stream",
     "text": [
      "100%|██████████| 1/1 [00:01<00:00,  1.04s/it]\n"
     ]
    },
    {
     "name": "stdout",
     "output_type": "stream",
     "text": [
      "Total page in ལོ་ཙཱ་པ།: 1\n",
      "Total error in Page ལོ་ཙཱ་པ། : 0\n",
      "\n",
      "\n",
      "Successfully saved: tb1025_ALL_link_ལོ་ཙཱ་པ།.json\n"
     ]
    },
    {
     "name": "stderr",
     "output_type": "stream",
     "text": [
      "100%|██████████| 1/1 [00:00<00:00,  1.12it/s]\n"
     ]
    },
    {
     "name": "stdout",
     "output_type": "stream",
     "text": [
      "Total page in གཞན་དག: 1\n",
      "Total error in Page གཞན་དག : 0\n",
      "\n",
      "\n",
      "Successfully saved: tb1025_ALL_link_གཞན་དག.json\n"
     ]
    },
    {
     "name": "stderr",
     "output_type": "stream",
     "text": [
      "100%|██████████| 1/1 [00:01<00:00,  1.19s/it]\n"
     ]
    },
    {
     "name": "stdout",
     "output_type": "stream",
     "text": [
      "Total page in མཚོ་སྔོན།: 1\n",
      "Total error in Page མཚོ་སྔོན། : 0\n",
      "\n",
      "\n",
      "Successfully saved: tb1025_ALL_link_མཚོ་སྔོན།.json\n"
     ]
    },
    {
     "name": "stderr",
     "output_type": "stream",
     "text": [
      "100%|██████████| 1/1 [00:00<00:00,  1.06it/s]\n"
     ]
    },
    {
     "name": "stdout",
     "output_type": "stream",
     "text": [
      "Total page in ཟི་ཁྲོན།: 1\n",
      "Total error in Page ཟི་ཁྲོན། : 0\n",
      "\n",
      "\n",
      "Successfully saved: tb1025_ALL_link_ཟི་ཁྲོན།.json\n"
     ]
    },
    {
     "name": "stderr",
     "output_type": "stream",
     "text": [
      "100%|██████████| 1/1 [00:00<00:00,  1.06it/s]\n"
     ]
    },
    {
     "name": "stdout",
     "output_type": "stream",
     "text": [
      "Total page in ཡུན་ནན།: 1\n",
      "Total error in Page ཡུན་ནན། : 0\n",
      "\n",
      "\n",
      "Successfully saved: tb1025_ALL_link_ཡུན་ནན།.json\n"
     ]
    },
    {
     "name": "stderr",
     "output_type": "stream",
     "text": [
      "100%|██████████| 1/1 [00:00<00:00,  1.04it/s]\n"
     ]
    },
    {
     "name": "stdout",
     "output_type": "stream",
     "text": [
      "Total page in ཀན་སུའུ།: 1\n",
      "Total error in Page ཀན་སུའུ། : 0\n",
      "\n",
      "\n",
      "Successfully saved: tb1025_ALL_link_ཀན་སུའུ།.json\n"
     ]
    },
    {
     "name": "stderr",
     "output_type": "stream",
     "text": [
      "100%|██████████| 1/1 [00:00<00:00,  1.06it/s]\n"
     ]
    },
    {
     "name": "stdout",
     "output_type": "stream",
     "text": [
      "Total page in བོད་ལྗོངས།: 1\n",
      "Total error in Page བོད་ལྗོངས། : 0\n",
      "\n",
      "\n",
      "Successfully saved: tb1025_ALL_link_བོད་ལྗོངས།.json\n"
     ]
    },
    {
     "name": "stderr",
     "output_type": "stream",
     "text": [
      "100%|██████████| 1/1 [00:00<00:00,  1.10it/s]\n"
     ]
    },
    {
     "name": "stdout",
     "output_type": "stream",
     "text": [
      "Total page in ནང་ལོགས།: 1\n",
      "Total error in Page ནང་ལོགས། : 0\n",
      "\n",
      "\n",
      "Successfully saved: tb1025_ALL_link_ནང་ལོགས།.json\n"
     ]
    },
    {
     "name": "stderr",
     "output_type": "stream",
     "text": [
      "100%|██████████| 1/1 [00:01<00:00,  1.01s/it]"
     ]
    },
    {
     "name": "stdout",
     "output_type": "stream",
     "text": [
      "Total page in ལྷ་ཁང་།: 1\n",
      "Total error in Page ལྷ་ཁང་། : 0\n",
      "\n",
      "\n",
      "Successfully saved: tb1025_ALL_link_ལྷ་ཁང་།.json\n"
     ]
    },
    {
     "name": "stderr",
     "output_type": "stream",
     "text": [
      "\n"
     ]
    }
   ],
   "source": [
    "for index, row in sample_df.iterrows():\n",
    "    # print(row)\n",
    "    name_of_cate = row[\"name_of_cate\"]\n",
    "    original_url = row[\"original_url\"]\n",
    "    Last_page_link = row[\"Last_page_link\"]\n",
    "    list_page_no = row[\"list_page_no\"]\n",
    "\n",
    "    custom_url = original_url\n",
    "\n",
    "    total_page = list_page_no\n",
    "    article_tag = name_of_cate\n",
    "    key_code = \"Page \" + article_tag + \" \"\n",
    "    all_links = loop_article_page(total_page, custom_url, key_code, base_url)\n",
    "    \n",
    "    print(f\"Total page in {article_tag}: {len(all_links['Data'])}\")\n",
    "    check_error_in_links(all_links['Data'], key_code, print_each_error=True)\n",
    "\n",
    "    # Saving the final file\n",
    "    path = \"./data/links/\"\n",
    "    file_name = f\"{file_name_code}_ALL_link_{article_tag}.json\"\n",
    "    save_json(path, file_name, all_links['Data'])"
   ]
  },
  {
   "cell_type": "code",
   "execution_count": null,
   "id": "9f5b009e-18db-4c0c-a6e8-85796931a527",
   "metadata": {},
   "outputs": [],
   "source": []
  },
  {
   "cell_type": "code",
   "execution_count": null,
   "id": "07dbafae-8dae-43e7-909f-2eb631654e88",
   "metadata": {},
   "outputs": [],
   "source": []
  }
 ],
 "metadata": {
  "kernelspec": {
   "display_name": "Python 3 (ipykernel)",
   "language": "python",
   "name": "python3"
  },
  "language_info": {
   "codemirror_mode": {
    "name": "ipython",
    "version": 3
   },
   "file_extension": ".py",
   "mimetype": "text/x-python",
   "name": "python",
   "nbconvert_exporter": "python",
   "pygments_lexer": "ipython3",
   "version": "3.10.13"
  }
 },
 "nbformat": 4,
 "nbformat_minor": 5
}
