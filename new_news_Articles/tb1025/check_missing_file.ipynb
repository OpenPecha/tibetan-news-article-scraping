{
 "cells": [
  {
   "cell_type": "code",
   "execution_count": 13,
   "id": "3a461d57-2faf-4cbe-8847-30750eee0544",
   "metadata": {},
   "outputs": [],
   "source": [
    "import os"
   ]
  },
  {
   "cell_type": "code",
   "execution_count": 14,
   "id": "bf585d8f-0e00-4241-b333-ff3069f824ae",
   "metadata": {},
   "outputs": [],
   "source": [
    "directory = './data/links/'"
   ]
  },
  {
   "cell_type": "code",
   "execution_count": 15,
   "id": "7491e53b-78da-49af-a4f3-b043d7b86884",
   "metadata": {
    "scrolled": true
   },
   "outputs": [
    {
     "data": {
      "text/plain": [
       "['./data/links/tb1025_ALL_link_གསར་འགྱུར།.json',\n",
       " './data/links/tb1025_ALL_link_ཆོས་འབྱུང་།.json',\n",
       " './data/links/tb1025_ALL_link_བཀའ་འགྱུར།.json',\n",
       " './data/links/tb1025_ALL_link_བསྟན་འགྱུར།.json',\n",
       " './data/links/tb1025_ALL_link_ཚད་མ།.json',\n",
       " './data/links/tb1025_ALL_link_ཕར་ཕྱིན།.json',\n",
       " './data/links/tb1025_ALL_link_དབུ་མ།.json',\n",
       " './data/links/tb1025_ALL_link_སྔགས།.json',\n",
       " './data/links/tb1025_ALL_link_ཆོ་ག.json',\n",
       " './data/links/tb1025_ALL_link_ཞལ་འདོན།.json',\n",
       " './data/links/tb1025_ALL_link_རྒྱུན་ཤེས་དམར་ཁྲིད།.json',\n",
       " './data/links/tb1025_ALL_link_སྤྲུལ་སྐུའི་མིང་མཛོད།.json',\n",
       " './data/links/tb1025_ALL_link_སྙན་ངག.json',\n",
       " './data/links/tb1025_ALL_link_ལྷུག་རྩོམ།.json',\n",
       " './data/links/tb1025_ALL_link_དཔྱད་རྩོམ།.json',\n",
       " './data/links/tb1025_ALL_link_དཀར་ཆག.json',\n",
       " './data/links/tb1025_ALL_link_རྣམ་ཐར།.json',\n",
       " './data/links/tb1025_ALL_link_བསྟོད་ཚོགས།.json',\n",
       " './data/links/tb1025_ALL_link_གསུང་འབུམ།.json',\n",
       " './data/links/tb1025_ALL_link_གཞན་དག.json',\n",
       " './data/links/tb1025_ALL_link_རྩོམ་རིག.json',\n",
       " './data/links/tb1025_ALL_link_བསླབ་བྱ།.json',\n",
       " './data/links/tb1025_ALL_link_བོད་འགྱུར།.json',\n",
       " './data/links/tb1025_ALL_link_བོད་རྒྱ་ཤན་སྦྱོར།.json',\n",
       " './data/links/tb1025_ALL_link_གནས་རི།.json',\n",
       " './data/links/tb1025_ALL_link_གསེར་ཁྲི།.json',\n",
       " './data/links/tb1025_ALL_link_ཕྱི་དར་བསྟན་འཛིན།.json',\n",
       " './data/links/tb1025_ALL_link_ཡང་དར་བསྟན་འཛིན།.json',\n",
       " './data/links/tb1025_ALL_link_མཆོད་རྟེན།.json',\n",
       " './data/links/tb1025_ALL_link_མངོན་པ།.json',\n",
       " './data/links/tb1025_ALL_link_འདུལ་བ།.json',\n",
       " './data/links/tb1025_ALL_link_གྲུབ་མཐའ།.json',\n",
       " './data/links/tb1025_ALL_link_བློ་སྦྱོང་།.json',\n",
       " './data/links/tb1025_ALL_link_ལམ་རིམ།.json',\n",
       " './data/links/tb1025_ALL_link_སྒྲུབ་ཐབས།.json',\n",
       " './data/links/tb1025_ALL_link_བསྙེན་ཡིག.json',\n",
       " './data/links/tb1025_ALL_link_དོགས་ལན་ནག་འགྲོས།.json',\n",
       " './data/links/tb1025_ALL_link_གཏམ་རྒྱུད།.json',\n",
       " './data/links/tb1025_ALL_link_ཆེད་རྩོམ།.json',\n",
       " './data/links/tb1025_ALL_link_རྟེན་བཞེངས།.json',\n",
       " './data/links/tb1025_ALL_link_བརྟེན་པ།.json',\n",
       " './data/links/tb1025_ALL_link_ཐང་ག.json',\n",
       " './data/links/tb1025_ALL_link_འདྲ་པར།.json',\n",
       " './data/links/tb1025_ALL_link_རི་མོ།.json',\n",
       " './data/links/tb1025_ALL_link_བགྲོ་གླེང་།.json',\n",
       " './data/links/tb1025_ALL_link_གློག་བརྙན།.json',\n",
       " './data/links/tb1025_ALL_link_དཔེ་ཁྲིད།.json',\n",
       " './data/links/tb1025_ALL_link_དབྱངས།.json',\n",
       " './data/links/tb1025_ALL_link_ཞལ་འདོན་ཀུན་འདུས།.json',\n",
       " './data/links/tb1025_ALL_link_དྲ་བའི་གནས་ཚུལ།.json',\n",
       " './data/links/tb1025_ALL_link_ཞལ་འདེབས།.json',\n",
       " './data/links/tb1025_ALL_link_སྐད་འཇོག་པ།.json',\n",
       " './data/links/tb1025_ALL_link_ཤེས་རབ་གཡང་དཔེ་མཛོད་ཁང་།.json',\n",
       " './data/links/tb1025_ALL_link_དཔེ་ཆ་ལེན་ས།.json',\n",
       " './data/links/tb1025_ALL_link_མི་ཆོས།.json',\n",
       " './data/links/tb1025_ALL_link_ལོ་ཙཱ་པ།.json',\n",
       " './data/links/tb1025_ALL_link_མཚོ་སྔོན།.json',\n",
       " './data/links/tb1025_ALL_link_ཟི་ཁྲོན།.json',\n",
       " './data/links/tb1025_ALL_link_ཡུན་ནན།.json',\n",
       " './data/links/tb1025_ALL_link_ལྷ་ཁང་།.json',\n",
       " './data/links/tb1025_ALL_link_ཀན་སུའུ།.json',\n",
       " './data/links/tb1025_ALL_link_བོད་ལྗོངས།.json',\n",
       " './data/links/tb1025_ALL_link_ནང་ལོགས།.json']"
      ]
     },
     "execution_count": 15,
     "metadata": {},
     "output_type": "execute_result"
    }
   ],
   "source": [
    "json_files = [os.path.join(directory, f) for f in os.listdir(directory) if f.endswith('.json')]\n",
    "json_files"
   ]
  },
  {
   "cell_type": "code",
   "execution_count": 16,
   "id": "9da14d91-e9c1-4171-93cf-497f6fb9f9f0",
   "metadata": {},
   "outputs": [
    {
     "data": {
      "text/plain": [
       "63"
      ]
     },
     "execution_count": 16,
     "metadata": {},
     "output_type": "execute_result"
    }
   ],
   "source": [
    "len(json_files)"
   ]
  },
  {
   "cell_type": "code",
   "execution_count": 17,
   "id": "b885050f-30e4-4aee-ad33-a29f70f66362",
   "metadata": {},
   "outputs": [],
   "source": [
    "path_name_list = []\n",
    "\n",
    "for each_path in json_files:\n",
    "    # Split the filename by underscore\n",
    "    parts = each_path.split('_')\n",
    "    \n",
    "    # The Tibetan word is the last part, without the .json extension\n",
    "    tibetan_word = parts[-1].split('.')[0]\n",
    "\n",
    "    path_name_list.append(tibetan_word)\n",
    "    \n",
    "    # print(f\"The extracted Tibetan word is: {tibetan_word}\")"
   ]
  },
  {
   "cell_type": "code",
   "execution_count": 18,
   "id": "d922339f-fce6-4910-bbea-d1a063e1403a",
   "metadata": {},
   "outputs": [
    {
     "data": {
      "text/plain": [
       "63"
      ]
     },
     "execution_count": 18,
     "metadata": {},
     "output_type": "execute_result"
    }
   ],
   "source": [
    "len(path_name_list)"
   ]
  },
  {
   "cell_type": "code",
   "execution_count": null,
   "id": "e736c403-97e2-4e8f-8146-52d0237e14e9",
   "metadata": {},
   "outputs": [],
   "source": []
  },
  {
   "cell_type": "code",
   "execution_count": null,
   "id": "ffa43eff-8e7f-414e-b21e-3058202a0b1d",
   "metadata": {},
   "outputs": [],
   "source": []
  },
  {
   "cell_type": "code",
   "execution_count": null,
   "id": "ae03b49f-ab8e-4e8e-86f4-2a964597bff5",
   "metadata": {},
   "outputs": [],
   "source": []
  },
  {
   "cell_type": "code",
   "execution_count": 19,
   "id": "7e7ef688-a638-476f-9cba-7a46b999501e",
   "metadata": {},
   "outputs": [],
   "source": [
    "directory_parallel = './data/parallel_content/'"
   ]
  },
  {
   "cell_type": "code",
   "execution_count": 20,
   "id": "487f6f4d-c25d-43e5-9114-a6660bc28417",
   "metadata": {},
   "outputs": [
    {
     "data": {
      "text/plain": [
       "63"
      ]
     },
     "execution_count": 20,
     "metadata": {},
     "output_type": "execute_result"
    }
   ],
   "source": [
    "json_files_parallel = [os.path.join(directory_parallel, f) for f in os.listdir(directory_parallel) if f.endswith('.json')]\n",
    "len(json_files_parallel)"
   ]
  },
  {
   "cell_type": "code",
   "execution_count": 21,
   "id": "e2f1ad39-89dd-408c-93c4-fa5b85426294",
   "metadata": {},
   "outputs": [],
   "source": [
    "path_content_list = []\n",
    "\n",
    "for each_path in json_files_parallel:\n",
    "    # Split the filename by underscore\n",
    "    parts = each_path.split('_')\n",
    "    \n",
    "    # The Tibetan word is the last part, without the .json extension\n",
    "    tibetan_word = parts[-1].split('.')[0]\n",
    "\n",
    "    path_content_list.append(tibetan_word)\n",
    "    \n",
    "    # print(f\"The extracted Tibetan word is: {tibetan_word}\")"
   ]
  },
  {
   "cell_type": "code",
   "execution_count": 22,
   "id": "44f19689-37d5-4c1e-8b6a-1531f7df2618",
   "metadata": {},
   "outputs": [
    {
     "data": {
      "text/plain": [
       "63"
      ]
     },
     "execution_count": 22,
     "metadata": {},
     "output_type": "execute_result"
    }
   ],
   "source": [
    "len(path_content_list)"
   ]
  },
  {
   "cell_type": "code",
   "execution_count": null,
   "id": "b128dec0-7324-42b3-9b7f-35f21d0e92eb",
   "metadata": {},
   "outputs": [],
   "source": []
  },
  {
   "cell_type": "code",
   "execution_count": null,
   "id": "76bc7d4d-ca03-42c8-9b3f-917dac982432",
   "metadata": {},
   "outputs": [],
   "source": []
  },
  {
   "cell_type": "code",
   "execution_count": 23,
   "id": "02b4a310-136a-48d2-87a3-fdbdbe362352",
   "metadata": {},
   "outputs": [],
   "source": [
    "for each_link in path_name_list:\n",
    "    if each_link not in path_content_list:\n",
    "        print(each_link)"
   ]
  },
  {
   "cell_type": "code",
   "execution_count": null,
   "id": "9589407f-000f-4371-9681-1b341481965d",
   "metadata": {},
   "outputs": [],
   "source": []
  },
  {
   "cell_type": "code",
   "execution_count": null,
   "id": "5cb71c69-15ae-41d8-9e53-6567339e7042",
   "metadata": {},
   "outputs": [],
   "source": []
  },
  {
   "cell_type": "code",
   "execution_count": 12,
   "id": "3fc1e5b9-54eb-4cf7-b8e8-92a37375bea5",
   "metadata": {},
   "outputs": [
    {
     "ename": "IndentationError",
     "evalue": "unexpected indent (1992567367.py, line 2)",
     "output_type": "error",
     "traceback": [
      "\u001b[0;36m  Cell \u001b[0;32mIn[12], line 2\u001b[0;36m\u001b[0m\n\u001b[0;31m    './data/links/tibetcm_ALL_link_ཁམས་ཀྱི་ཁྱབ་ཁོངས།.json',\u001b[0m\n\u001b[0m    ^\u001b[0m\n\u001b[0;31mIndentationError\u001b[0m\u001b[0;31m:\u001b[0m unexpected indent\n"
     ]
    }
   ],
   "source": [
    "'./data/links/tibetcm_ALL_link_ཆེད་བསྒྲིགས་གསར་འགྱུར།.json',\n",
    " './data/links/tibetcm_ALL_link_ཁམས་ཀྱི་ཁྱབ་ཁོངས།.json',\n",
    " './data/links/tibetcm_ALL_link_ཁམས་ཁུལ་གསར་འགྱུར།.json',\n",
    " './data/links/tibetcm_ALL_link_རྒྱལ་ནང་གསར་འགྱུར།.json',\n",
    " './data/links/tibetcm_ALL_link_རྒྱལ་སྤྱི་གསར་འགྱུར།.json',\n",
    " './data/links/tibetcm_ALL_link_རི་ཆུ།.json',\n",
    " './data/links/tibetcm_ALL_link_གནའ་ཤུལ།.json',\n",
    " './data/links/tibetcm_ALL_link_ཁམས་ཀྱི་ཡུལ་སྲོལ།.json',\n",
    " './data/links/tibetcm_ALL_link_རྒྱན་གོས།.json',\n",
    " './data/links/tibetcm_ALL_link_རིག་རྩལ།.json',\n",
    " './data/links/tibetcm_ALL_link_ཁམས་ཀྱི་འཛུགས་སྐྲུན །.json',\n",
    " './data/links/tibetcm_ALL_link_ཁམས་ཀྱི་མི་སྣ།.json',\n",
    " './data/links/tibetcm_ALL_link_སྒྲུང་རྩོམ།.json',\n",
    " './data/links/tibetcm_ALL_link_ལྷུག་རྩོམ.json',\n",
    " './data/links/tibetcm_ALL_link_སྙན་རྩོམ།.json',\n",
    " './data/links/tibetcm_ALL_link_སྙན་ཞུ་རྩོམ་རིག།.json',\n",
    " './data/links/tibetcm_ALL_link_ཕུལ་བྱུང་འགྱུར་རྩོམ།.json',\n",
    " './data/links/tibetcm_ALL_link_དམངས་ཁྲོད་རྩོམ་རིག.json',\n",
    " './data/links/tibetcm_ALL_link_རིག་རྩལ་དཔྱད་རྩོམ།.json',\n",
    " './data/links/tibetcm_ALL_link_སློབ་མའི་སྦྱངས་རྩོམ།.json',\n",
    " './data/links/tibetcm_ALL_link_ཁ་མཚར།.json',\n",
    " './data/links/tibetcm_ALL_link_བསྐལ་པ་ཡ་ཐོག.json',\n",
    " './data/links/tibetcm_ALL_link_མངའ་མཛད་དུས་རབས།.json',\n",
    " './data/links/tibetcm_ALL_link_སྤུ་རྒྱལ་དུས་རབས།.json',\n",
    " './data/links/tibetcm_ALL_link_ཆོས་ལྡན་རྒྱལ་རབས།.json',\n",
    " './data/links/tibetcm_ALL_link_བོད་སིལ་བུའི་དུས།.json',\n",
    " './data/links/tibetcm_ALL_link_ས་སྐྱའི་དུས།.json',\n",
    " './data/links/tibetcm_ALL_link_ཕག་གྲུའི་དུས།.json',\n",
    " './data/links/tibetcm_ALL_link_གཙང་པའི་དུས།.json',\n",
    " './data/links/tibetcm_ALL_link_དགའ་ལྡན་དུས།.json',\n",
    " './data/links/tibetcm_ALL_link_ཀྲུང་ཧྭའི་དུས།.json',\n",
    " './data/links/tibetcm_ALL_link_ལོ་རྒྱུས་དཔྱད་རྩོམ།.json',\n",
    " './data/links/tibetcm_ALL_link_གེ་སར་འཁྲུངས་ཡུལ།.json',\n",
    " './data/links/tibetcm_ALL_link_གླིང་སྒྲུང་མི་སྣ།.json',\n",
    " './data/links/tibetcm_ALL_link_གེ་སར་གནའ་ཤུལ།.json',\n",
    " './data/links/tibetcm_ALL_link_གེ་སར་ཞིབ་འཇུག.json',\n",
    " './data/links/tibetcm_ALL_link_སྒྲུང་ཡིག.json',\n",
    " './data/links/tibetcm_ALL_link_སྒྲུང་མཁན།.json',\n",
    " './data/links/tibetcm_ALL_link_གེ་སར་ཞལ་ཐང་།.json',\n",
    " './data/links/tibetcm_ALL_link_གསོ་རིག་ལོ་རྒྱུས།.json',\n",
    " './data/links/tibetcm_ALL_link_ཟུར་ལུགས་བོད་སྨན།.json',\n",
    " './data/links/tibetcm_ALL_link_གསོ་རིག་མཁས་དབང་།.json',\n",
    " './data/links/tibetcm_ALL_link_གསོ་རིག་དཔྱད་རྩོམ།.json',\n",
    " './data/links/tibetcm_ALL_link_རྒྱུུན་མཁོའི་བོད་སྨན།.json',\n",
    " './data/links/tibetcm_ALL_link_སྨན་ཁང་ངོ་སྤྲོད།.json',\n",
    " './data/links/tibetcm_ALL_link_འཕྲོད་བསྟེན་རྒྱུན་ཤེས།.json',\n",
    " './data/links/tibetcm_ALL_link_ལོ་རྒྱུས་མི་སྣ།.json',\n",
    " './data/links/tibetcm_ALL_link_དེང་རབས་མི་སྣ།.json',\n",
    " './data/links/tibetcm_ALL_link_གསར་འགྱུར་མི་སྣ།.json',\n",
    " './data/links/tibetcm_ALL_link_ཚན་རིག་པ་གྲགས་ཅན།.json',\n",
    " './data/links/tibetcm_ALL_link_ཚོང་དཔོན་གྲགས་ཅན།.json',\n",
    " './data/links/tibetcm_ALL_link_སློབ་གསོ།.json',\n",
    " './data/links/tibetcm_ALL_link_བོད་ཀྱི་གནས་རི།.json',\n",
    " './data/links/tibetcm_ALL_link_བོད་ཀྱི་གཙང་པོ།.json',\n",
    " './data/links/tibetcm_ALL_link_བོད་ཀྱི་མཚོ་དང་མཚེའུ།.json',\n",
    " './data/links/tibetcm_ALL_link_བོད་ཀྱི་གནའ་ཤུལ།.json',\n",
    " './data/links/tibetcm_ALL_link_གནས་སྐོར་ཟིན་བྲིས།.json',\n",
    " './data/links/tibetcm_ALL_link_ནང་བསྟན་སྤྱི་བཤད།.json',\n",
    " './data/links/tibetcm_ALL_link_གཡུང་དྲུང་བོན་བསྟན།.json',\n",
    " './data/links/tibetcm_ALL_link_དགོན་སྡེའི་ངོ་སྤྲོད།.json',\n",
    " './data/links/tibetcm_ALL_link_ཆོས་ལུགས་དུས་ཆེན།.json',\n",
    " './data/links/tibetcm_ALL_link_གསུང་རབ།.json',\n",
    " './data/links/tibetcm_ALL_link_ཆོས་ལུགས་ཞིབ་འཇུག.json',\n",
    " './data/links/tibetcm_ALL_link_ཆོས་ལུགས་གཞན་དག.json',\n",
    " './data/links/tibetcm_ALL_link_གནའ་རབས་ཀྱི་ལོ་ཙྰ་བ།.json',\n",
    " './data/links/tibetcm_ALL_link_བརྡ་ཆད་གསར་པ།.json',\n",
    " './data/links/tibetcm_ALL_link_ཕུལ་བྱུང་འགྱུར་བརྩམས།.json',\n",
    " './data/links/tibetcm_ALL_link_ཡིག་བསྒྱུར་དཔྱད་རྩོམ།.json',\n",
    " './data/links/tibetcm_ALL_link_ཡིག་གཟུགས་ཀྱི་ལོ་རྒྱུས།.json',\n",
    " './data/links/tibetcm_ALL_link_བྲིས་རྒྱུན་སྣ་ཚོགས།.json',\n",
    " './data/links/tibetcm_ALL_link_བྲིས་རྒྱུན་དར་ཚུལ།.json',\n",
    " './data/links/tibetcm_ALL_link_ཡིག་གཟུགས་རོལ་མྱོང་།.json',\n",
    " './data/links/tibetcm_ALL_link_སྣག་ཚ་བཟོ་སྟངས།.json',\n",
    " './data/links/tibetcm_ALL_link_སྨྱུ་གུ་གཞོག་སྟངས།.json',\n",
    " './data/links/tibetcm_ALL_link_བྲིས་པ།.json',\n",
    " './data/links/tibetcm_ALL_link_ཁོར་ཡུག་སྲུང་སྐྱོང་།.json',\n",
    " './data/links/tibetcm_ALL_link_སྲུང་སྐྱོང་རྒྱུན་ཤེས།.json',\n",
    " './data/links/tibetcm_ALL_link_རྩི་ཤིང་དང་སྲོག་ཆགས།.json',\n",
    " './data/links/tibetcm_ALL_link_སྲུང་སྐྱོང་ས་ཁུལ།.json',\n",
    " './data/links/tibetcm_ALL_link_སྲིད་ཇུས་ཁྲིམས་སྲོལ།.json',\n",
    " './data/links/tibetcm_ALL_link_དམངས་གླུ།.json',\n",
    " './data/links/tibetcm_ALL_link_མགུར་གླུ།.json',\n",
    " './data/links/tibetcm_ALL_link_ལ་གཞས།.json',\n",
    " './data/links/tibetcm_ALL_link_འཆམ།.json',\n",
    " './data/links/tibetcm_ALL_link_ཟློས་གར།.json',\n",
    " './data/links/tibetcm_ALL_link_རས་པ།.json',\n",
    " './data/links/tibetcm_ALL_link_གླུ་བ་དང་གླུ་མ་གྲགས་ཅན།.json',\n",
    " './data/links/tibetcm_ALL_link_གར་མཁན་གྲགས་ཅན།.json',\n",
    " './data/links/tibetcm_ALL_link_བྲོ་གཞས།.json',\n",
    " './data/links/tibetcm_ALL_link_བཀྲ་ཤིས་པའི་རི་མོ།.json',\n",
    " './data/links/tibetcm_ALL_link_མི་སྣ།.json',\n",
    " './data/links/tibetcm_ALL_link_ཆོས་ཆས།.json',\n",
    " './data/links/tibetcm_ALL_link_རང་བྱུང་ཡུལ་ལྗོངས།.json',\n",
    " './data/links/tibetcm_ALL_link_བཟོ་བཀོད།.json',\n",
    " './data/links/tibetcm_ALL_link_སྲོག་ཆགས།.json',\n",
    " './data/links/tibetcm_ALL_link_སྐྱེ་དངོས།.json',\n",
    " './data/links/tibetcm_ALL_link_གོས་རྒྱན།.json',\n",
    " './data/links/tibetcm_ALL_link_ཐོན་སྐྱེད་ཡོ་བྱད།.json',\n",
    " './data/links/tibetcm_ALL_link_ཡུལ་སྲོལ་གོམས་གཤིས།.json',\n",
    " './data/links/tibetcm_ALL_link_རྒྱལ་ཁབ་བཅའ་ཁྲིམས།.json',\n",
    " './data/links/tibetcm_ALL_link_བོད་སྲོལ་གནའ་ཁྲིམས.json',\n",
    " './data/links/tibetcm_ALL_link_སྲིད་ཇུས་འགྲེལ་བཤད།.json',\n",
    " './data/links/tibetcm_ALL_link_བོད་ཀྱི་བཟའ་བཏུང་།.json',\n",
    " './data/links/tibetcm_ALL_link_མིང་མཛོད།.json',\n",
    " './data/links/tibetcm_ALL_link_དེང་རབས་གླུ་དབྱངས།.json',\n",
    " './data/links/tibetcm_ALL_link_གསར་བྱུང་འོད་སྡེར།.json',\n",
    " './data/links/tibetcm_ALL_link_རོལ་ཆས་ངོ་སྤྲོད།.json',\n",
    " './data/links/tibetcm_ALL_link_གླུ་བ་གླུ་མ།.json',\n",
    " './data/links/tibetcm_ALL_link_རོལ་མོའི་གླེང་སྟེགས།.json',\n",
    " './data/links/tibetcm_ALL_link_འཚོ་བའི་ཤེས་བྱ།.json']"
   ]
  },
  {
   "cell_type": "code",
   "execution_count": null,
   "id": "9b01876d-631e-4f05-97b8-cfa25704dcd8",
   "metadata": {},
   "outputs": [],
   "source": []
  }
 ],
 "metadata": {
  "kernelspec": {
   "display_name": "Python 3 (ipykernel)",
   "language": "python",
   "name": "python3"
  },
  "language_info": {
   "codemirror_mode": {
    "name": "ipython",
    "version": 3
   },
   "file_extension": ".py",
   "mimetype": "text/x-python",
   "name": "python",
   "nbconvert_exporter": "python",
   "pygments_lexer": "ipython3",
   "version": "3.10.13"
  }
 },
 "nbformat": 4,
 "nbformat_minor": 5
}
