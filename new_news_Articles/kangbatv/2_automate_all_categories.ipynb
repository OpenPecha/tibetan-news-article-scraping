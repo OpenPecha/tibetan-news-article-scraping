{
 "cells": [
  {
   "cell_type": "code",
   "execution_count": 5,
   "id": "40147810-a5ac-49c4-9891-123f743b40eb",
   "metadata": {},
   "outputs": [],
   "source": [
    "import requests\n",
    "from bs4 import BeautifulSoup\n",
    "import json\n",
    "import time\n",
    "\n",
    "from tqdm import tqdm"
   ]
  },
  {
   "cell_type": "code",
   "execution_count": 15,
   "id": "7c3970d1-04ce-402d-afa7-fbf8323f6284",
   "metadata": {},
   "outputs": [],
   "source": [
    "import kangbatv_utils\n",
    "import pandas as pd"
   ]
  },
  {
   "cell_type": "code",
   "execution_count": null,
   "id": "ca1d7bbc-d27b-4c64-aa2d-5d27409915d7",
   "metadata": {},
   "outputs": [],
   "source": []
  },
  {
   "cell_type": "markdown",
   "id": "685b9b9e-98a7-4a1f-a674-2125437e3fe4",
   "metadata": {},
   "source": [
    "## Here we will extract all the articles links from https://tb.kangbatv.com/ webpage\n"
   ]
  },
  {
   "cell_type": "markdown",
   "id": "95f69b28-a91e-479a-9d51-3e2d466692a6",
   "metadata": {},
   "source": [
    "Tabs not extracted\n",
    "\n",
    "https://tb.kangbatv.com/"
   ]
  },
  {
   "cell_type": "code",
   "execution_count": null,
   "id": "53f131a3-9008-4061-a1c1-191bf90cab51",
   "metadata": {},
   "outputs": [],
   "source": []
  },
  {
   "cell_type": "markdown",
   "id": "acd071a1-9fce-42e8-9d49-0e71dc3b42e4",
   "metadata": {},
   "source": [
    "\n",
    "------------\n",
    "-----------\n",
    "------------\n",
    "------------\n",
    "------------"
   ]
  },
  {
   "cell_type": "code",
   "execution_count": 28,
   "id": "467da2b4-69ca-4b77-b0b5-01ec39d844bc",
   "metadata": {},
   "outputs": [],
   "source": [
    "def loop_article_page(total_page, custom_url, key_code, base_url):\n",
    "    \"\"\"\n",
    "    \n",
    "    \"\"\"\n",
    "    return_file = {\n",
    "        \"Data\": [],\n",
    "        \"message\": \"success\",\n",
    "        \"response\": 200\n",
    "    }\n",
    "    All_url_links = {}\n",
    "    # print(custom_url)\n",
    "    \n",
    "    try:\n",
    "        for i in tqdm(range(1, total_page+1)):\n",
    "            if i == 1:\n",
    "                final_url = custom_url + \"index.html\"\n",
    "            else:\n",
    "                final_url = custom_url+ \"index_\" + str(i) + \".html\"\n",
    "                \n",
    "            found_url_links = kangbatv_utils.extract_all_kangbatv_page_article_links(final_url, base_url)\n",
    "            key = key_code + str(i)\n",
    "            All_url_links[key] = found_url_links\n",
    "        return_file[\"Data\"] = All_url_links\n",
    "        return return_file\n",
    "    \n",
    "    except Exception as e:\n",
    "        print(f\"falied: {custom_url} \\n {e}\")\n",
    "        return_file[\"Data\"] = All_url_links\n",
    "        return_file[\"message\"] = e\n",
    "        return_file[\"response\"] = 404\n",
    "        return return_file"
   ]
  },
  {
   "cell_type": "code",
   "execution_count": 29,
   "id": "36d048db-f75b-4bbf-99ba-333eb7639175",
   "metadata": {},
   "outputs": [],
   "source": [
    "def check_error_in_links(All_url_link, page_code, print_each_error=False):\n",
    "    \"\"\"\n",
    "    \n",
    "    \n",
    "    \"\"\"\n",
    "\n",
    "    error_counter = 0\n",
    "    for page_id in range(1, len(All_url_link)):\n",
    "        page_key = page_code + str(page_id)\n",
    "        try:\n",
    "            All_url_link.get(page_key)\n",
    "            if  All_url_link.get(page_key)[\"Response\"]!= 200:\n",
    "                error_counter += 1\n",
    "                if print_each_error:\n",
    "                    print(page_key, All_url_link.get(page_key)[\"message\"])\n",
    "        except Exception as e:\n",
    "            print(page_key, e)\n",
    "\n",
    "    print(f\"Total error in {page_code}: {error_counter}\")"
   ]
  },
  {
   "cell_type": "code",
   "execution_count": 30,
   "id": "43edc8d7-14ca-44e8-9fda-7ec78d5e7fe8",
   "metadata": {},
   "outputs": [],
   "source": [
    "def save_json(path, file_name, data):\n",
    "    \"\"\"\n",
    "    \n",
    "    \"\"\"\n",
    "    with open(path+file_name, \"w\") as outfile:\n",
    "        json.dump(data, outfile, indent=4, ensure_ascii=False)\n",
    "        print(f\"Successfully saved: {file_name}\")"
   ]
  },
  {
   "cell_type": "code",
   "execution_count": null,
   "id": "1f46d139-cd34-40d1-be5f-93f40630ccbb",
   "metadata": {},
   "outputs": [],
   "source": []
  },
  {
   "cell_type": "code",
   "execution_count": null,
   "id": "2dfeb92c-62d7-404c-83cc-f2ec569ddadb",
   "metadata": {},
   "outputs": [],
   "source": []
  },
  {
   "cell_type": "markdown",
   "id": "8285b51c-3a40-4e55-bf05-b132ecb3d64c",
   "metadata": {},
   "source": [
    "### all data"
   ]
  },
  {
   "cell_type": "code",
   "execution_count": 43,
   "id": "25b41ef0-af0c-4cee-ad0f-2e6c73282629",
   "metadata": {},
   "outputs": [
    {
     "data": {
      "text/html": [
       "<div>\n",
       "<style scoped>\n",
       "    .dataframe tbody tr th:only-of-type {\n",
       "        vertical-align: middle;\n",
       "    }\n",
       "\n",
       "    .dataframe tbody tr th {\n",
       "        vertical-align: top;\n",
       "    }\n",
       "\n",
       "    .dataframe thead th {\n",
       "        text-align: right;\n",
       "    }\n",
       "</style>\n",
       "<table border=\"1\" class=\"dataframe\">\n",
       "  <thead>\n",
       "    <tr style=\"text-align: right;\">\n",
       "      <th></th>\n",
       "      <th>name_of_cate</th>\n",
       "      <th>original_url</th>\n",
       "      <th>Last_page_link</th>\n",
       "      <th>list_page_no</th>\n",
       "    </tr>\n",
       "  </thead>\n",
       "  <tbody>\n",
       "    <tr>\n",
       "      <th>0</th>\n",
       "      <td>ཀྲུང་དབྱང་གསར་འགྱུར་མཉམ་བསྒྲགས།</td>\n",
       "      <td>https://tb.kangbatv.com/xw/ysxw/</td>\n",
       "      <td>https://tb.kangbatv.com/xw/ysxw/index_20.html</td>\n",
       "      <td>20</td>\n",
       "    </tr>\n",
       "    <tr>\n",
       "      <th>1</th>\n",
       "      <td>ཁམས་པའི་བརྙན་འཕྲིན་གསར་འགྱུར།</td>\n",
       "      <td>https://tb.kangbatv.com/kbwsxw/</td>\n",
       "      <td>https://tb.kangbatv.com/kbwsxw/index_20.html</td>\n",
       "      <td>20</td>\n",
       "    </tr>\n",
       "    <tr>\n",
       "      <th>2</th>\n",
       "      <td>བོད་ཁུལ་གསར་འགྱུར།</td>\n",
       "      <td>https://tb.kangbatv.com/xw/zqxw/</td>\n",
       "      <td>https://tb.kangbatv.com/xw/zqxw/index_20.html</td>\n",
       "      <td>20</td>\n",
       "    </tr>\n",
       "    <tr>\n",
       "      <th>3</th>\n",
       "      <td>རྒྱལ་སྤྱིའི་གསར་འགྱུར།</td>\n",
       "      <td>https://tb.kangbatv.com/xw/gjxw/</td>\n",
       "      <td>https://tb.kangbatv.com/xw/gjxw/index_20.html</td>\n",
       "      <td>20</td>\n",
       "    </tr>\n",
       "    <tr>\n",
       "      <th>4</th>\n",
       "      <td>རྒྱལ་ནང་གསར་འགྱུར།</td>\n",
       "      <td>https://tb.kangbatv.com/xw/gnxw/</td>\n",
       "      <td>https://tb.kangbatv.com/xw/gnxw/index_20.html</td>\n",
       "      <td>20</td>\n",
       "    </tr>\n",
       "  </tbody>\n",
       "</table>\n",
       "</div>"
      ],
      "text/plain": [
       "                      name_of_cate                      original_url  \\\n",
       "0  ཀྲུང་དབྱང་གསར་འགྱུར་མཉམ་བསྒྲགས།  https://tb.kangbatv.com/xw/ysxw/   \n",
       "1    ཁམས་པའི་བརྙན་འཕྲིན་གསར་འགྱུར།   https://tb.kangbatv.com/kbwsxw/   \n",
       "2               བོད་ཁུལ་གསར་འགྱུར།  https://tb.kangbatv.com/xw/zqxw/   \n",
       "3           རྒྱལ་སྤྱིའི་གསར་འགྱུར།  https://tb.kangbatv.com/xw/gjxw/   \n",
       "4               རྒྱལ་ནང་གསར་འགྱུར།  https://tb.kangbatv.com/xw/gnxw/   \n",
       "\n",
       "                                  Last_page_link  list_page_no  \n",
       "0  https://tb.kangbatv.com/xw/ysxw/index_20.html            20  \n",
       "1   https://tb.kangbatv.com/kbwsxw/index_20.html            20  \n",
       "2  https://tb.kangbatv.com/xw/zqxw/index_20.html            20  \n",
       "3  https://tb.kangbatv.com/xw/gjxw/index_20.html            20  \n",
       "4  https://tb.kangbatv.com/xw/gnxw/index_20.html            20  "
      ]
     },
     "execution_count": 43,
     "metadata": {},
     "output_type": "execute_result"
    }
   ],
   "source": [
    "df = pd.read_csv(\"./data/All_cate.csv\")\n",
    "df.head()"
   ]
  },
  {
   "cell_type": "code",
   "execution_count": 46,
   "id": "ec585589-8afc-4f77-bf22-b94c7a9fac28",
   "metadata": {},
   "outputs": [
    {
     "data": {
      "text/plain": [
       "83"
      ]
     },
     "execution_count": 46,
     "metadata": {},
     "output_type": "execute_result"
    }
   ],
   "source": [
    "len(df.name_of_cate.unique())"
   ]
  },
  {
   "cell_type": "code",
   "execution_count": null,
   "id": "a4b8d4f7-7fc6-4334-a62c-0dbdff0b3f1f",
   "metadata": {},
   "outputs": [],
   "source": []
  },
  {
   "cell_type": "code",
   "execution_count": 44,
   "id": "0698b6c2-cf10-4868-b4b6-700d0b11cf56",
   "metadata": {},
   "outputs": [
    {
     "data": {
      "text/html": [
       "<div>\n",
       "<style scoped>\n",
       "    .dataframe tbody tr th:only-of-type {\n",
       "        vertical-align: middle;\n",
       "    }\n",
       "\n",
       "    .dataframe tbody tr th {\n",
       "        vertical-align: top;\n",
       "    }\n",
       "\n",
       "    .dataframe thead th {\n",
       "        text-align: right;\n",
       "    }\n",
       "</style>\n",
       "<table border=\"1\" class=\"dataframe\">\n",
       "  <thead>\n",
       "    <tr style=\"text-align: right;\">\n",
       "      <th></th>\n",
       "      <th>name_of_cate</th>\n",
       "      <th>original_url</th>\n",
       "      <th>Last_page_link</th>\n",
       "      <th>list_page_no</th>\n",
       "    </tr>\n",
       "  </thead>\n",
       "  <tbody>\n",
       "    <tr>\n",
       "      <th>5</th>\n",
       "      <td>ཐད་གཏོང་།</td>\n",
       "      <td>https://tb.kangbatv.com/zb/</td>\n",
       "      <td>no link last page link</td>\n",
       "      <td>1</td>\n",
       "    </tr>\n",
       "    <tr>\n",
       "      <th>6</th>\n",
       "      <td>གློག་བརྙན།</td>\n",
       "      <td>https://tb.kangbatv.com/kbdst/grzt2/zp/</td>\n",
       "      <td>https://tb.kangbatv.com/kbdst/grzt2/zp/index_2...</td>\n",
       "      <td>2</td>\n",
       "    </tr>\n",
       "    <tr>\n",
       "      <th>7</th>\n",
       "      <td>འཆད་ཁྲིད་སྒྲོན་མེ།</td>\n",
       "      <td>https://tb.kangbatv.com/kbdst/kbjt2/</td>\n",
       "      <td>https://tb.kangbatv.com/kbdst/kbjt2/index_11.html</td>\n",
       "      <td>11</td>\n",
       "    </tr>\n",
       "    <tr>\n",
       "      <th>8</th>\n",
       "      <td>བྱམས་པའི་ཁ་བརྡ།</td>\n",
       "      <td>https://tb.kangbatv.com/kbdst/xblt2/</td>\n",
       "      <td>https://tb.kangbatv.com/kbdst/xblt2/index_10.html</td>\n",
       "      <td>10</td>\n",
       "    </tr>\n",
       "    <tr>\n",
       "      <th>9</th>\n",
       "      <td>ཁམས་པའི་དགའ་ཚལ།</td>\n",
       "      <td>https://tb.kangbatv.com/kbdst/kbhlh2/</td>\n",
       "      <td>https://tb.kangbatv.com/kbdst/kbhlh2/index_20....</td>\n",
       "      <td>20</td>\n",
       "    </tr>\n",
       "    <tr>\n",
       "      <th>10</th>\n",
       "      <td>དྲི་ཟའི་གླུ་དབྱངས།</td>\n",
       "      <td>https://tb.kangbatv.com/kbdst/zgjq2/</td>\n",
       "      <td>https://tb.kangbatv.com/kbdst/zgjq2/index_10.html</td>\n",
       "      <td>10</td>\n",
       "    </tr>\n",
       "    <tr>\n",
       "      <th>11</th>\n",
       "      <td>དགའ་སྤྲོའི་ཕོ་ཉ།</td>\n",
       "      <td>https://tb.kangbatv.com/kbdst/hlxbk/</td>\n",
       "      <td>https://tb.kangbatv.com/kbdst/hlxbk/index_6.html</td>\n",
       "      <td>6</td>\n",
       "    </tr>\n",
       "    <tr>\n",
       "      <th>12</th>\n",
       "      <td>འཆི་མེད་ཀྱི་གླེང་མོལ།</td>\n",
       "      <td>https://tb.kangbatv.com/kbdst/qmsj2/</td>\n",
       "      <td>https://tb.kangbatv.com/kbdst/qmsj2/index_11.html</td>\n",
       "      <td>11</td>\n",
       "    </tr>\n",
       "    <tr>\n",
       "      <th>13</th>\n",
       "      <td>སྐད་གཉིས་སློབ་ར།</td>\n",
       "      <td>https://tb.kangbatv.com/ysj/klhzy_22717/</td>\n",
       "      <td>https://tb.kangbatv.com/ysj/klhzy_22717/2018-0...</td>\n",
       "      <td>12</td>\n",
       "    </tr>\n",
       "    <tr>\n",
       "      <th>14</th>\n",
       "      <td>ཁྲིམས་སྐྱོང་མེ་ལོང་།</td>\n",
       "      <td>https://tb.kangbatv.com/kbdst/fzmj2/</td>\n",
       "      <td>https://tb.kangbatv.com/kbdst/fzmj2/index_10.html</td>\n",
       "      <td>10</td>\n",
       "    </tr>\n",
       "    <tr>\n",
       "      <th>15</th>\n",
       "      <td>གཟའ་མཇུག་གར་སྟེགས།</td>\n",
       "      <td>https://tb.kangbatv.com/kbdst/zmdwt2/</td>\n",
       "      <td>https://tb.kangbatv.com/kbdst/zmdwt2/index_10....</td>\n",
       "      <td>10</td>\n",
       "    </tr>\n",
       "    <tr>\n",
       "      <th>16</th>\n",
       "      <td>གངས་ཅན་མཐོ་སྒང་།</td>\n",
       "      <td>https://tb.kangbatv.com/kbdst/xygy2/</td>\n",
       "      <td>https://tb.kangbatv.com/kbdst/xygy2/index_10.html</td>\n",
       "      <td>10</td>\n",
       "    </tr>\n",
       "    <tr>\n",
       "      <th>17</th>\n",
       "      <td>སྐལ་བཟང་མེ་ཏོག</td>\n",
       "      <td>https://tb.kangbatv.com/kbdst/gshk_22707/</td>\n",
       "      <td>https://tb.kangbatv.com/kbdst/gshk_22707/index...</td>\n",
       "      <td>5</td>\n",
       "    </tr>\n",
       "    <tr>\n",
       "      <th>18</th>\n",
       "      <td>དབང་མོའི་གནམ་གཤིས་ཁང་།</td>\n",
       "      <td>https://tb.kangbatv.com/wmbtq/</td>\n",
       "      <td>https://tb.kangbatv.com/wmbtq/index_20.html</td>\n",
       "      <td>20</td>\n",
       "    </tr>\n",
       "    <tr>\n",
       "      <th>19</th>\n",
       "      <td>ཚན་རིག་ཡོན་ཏན།</td>\n",
       "      <td>https://tb.kangbatv.com/kbdst/ydkpy2/</td>\n",
       "      <td>https://tb.kangbatv.com/kbdst/ydkpy2/index_9.html</td>\n",
       "      <td>9</td>\n",
       "    </tr>\n",
       "    <tr>\n",
       "      <th>20</th>\n",
       "      <td>ཀྲུང་དབྱང་གསར་འགྱུར་མཉམ་བསྒྲགས།</td>\n",
       "      <td>https://tb.kangbatv.com/kbdst/ysxwlb_22694/</td>\n",
       "      <td>https://tb.kangbatv.com/kbdst/ysxwlb_22694/ind...</td>\n",
       "      <td>20</td>\n",
       "    </tr>\n",
       "    <tr>\n",
       "      <th>21</th>\n",
       "      <td>ཁམས་པའི་བརྙན་འཕྲིན་གསར་འགྱུར།</td>\n",
       "      <td>https://tb.kangbatv.com/kbwsxw/</td>\n",
       "      <td>https://tb.kangbatv.com/kbwsxw/index_20.html</td>\n",
       "      <td>20</td>\n",
       "    </tr>\n",
       "  </tbody>\n",
       "</table>\n",
       "</div>"
      ],
      "text/plain": [
       "                       name_of_cate  \\\n",
       "5                         ཐད་གཏོང་།   \n",
       "6                        གློག་བརྙན།   \n",
       "7                འཆད་ཁྲིད་སྒྲོན་མེ།   \n",
       "8                   བྱམས་པའི་ཁ་བརྡ།   \n",
       "9                   ཁམས་པའི་དགའ་ཚལ།   \n",
       "10               དྲི་ཟའི་གླུ་དབྱངས།   \n",
       "11                 དགའ་སྤྲོའི་ཕོ་ཉ།   \n",
       "12            འཆི་མེད་ཀྱི་གླེང་མོལ།   \n",
       "13                 སྐད་གཉིས་སློབ་ར།   \n",
       "14             ཁྲིམས་སྐྱོང་མེ་ལོང་།   \n",
       "15               གཟའ་མཇུག་གར་སྟེགས།   \n",
       "16                 གངས་ཅན་མཐོ་སྒང་།   \n",
       "17                   སྐལ་བཟང་མེ་ཏོག   \n",
       "18           དབང་མོའི་གནམ་གཤིས་ཁང་།   \n",
       "19                   ཚན་རིག་ཡོན་ཏན།   \n",
       "20  ཀྲུང་དབྱང་གསར་འགྱུར་མཉམ་བསྒྲགས།   \n",
       "21    ཁམས་པའི་བརྙན་འཕྲིན་གསར་འགྱུར།   \n",
       "\n",
       "                                   original_url  \\\n",
       "5                   https://tb.kangbatv.com/zb/   \n",
       "6       https://tb.kangbatv.com/kbdst/grzt2/zp/   \n",
       "7          https://tb.kangbatv.com/kbdst/kbjt2/   \n",
       "8          https://tb.kangbatv.com/kbdst/xblt2/   \n",
       "9         https://tb.kangbatv.com/kbdst/kbhlh2/   \n",
       "10         https://tb.kangbatv.com/kbdst/zgjq2/   \n",
       "11         https://tb.kangbatv.com/kbdst/hlxbk/   \n",
       "12         https://tb.kangbatv.com/kbdst/qmsj2/   \n",
       "13     https://tb.kangbatv.com/ysj/klhzy_22717/   \n",
       "14         https://tb.kangbatv.com/kbdst/fzmj2/   \n",
       "15        https://tb.kangbatv.com/kbdst/zmdwt2/   \n",
       "16         https://tb.kangbatv.com/kbdst/xygy2/   \n",
       "17    https://tb.kangbatv.com/kbdst/gshk_22707/   \n",
       "18               https://tb.kangbatv.com/wmbtq/   \n",
       "19        https://tb.kangbatv.com/kbdst/ydkpy2/   \n",
       "20  https://tb.kangbatv.com/kbdst/ysxwlb_22694/   \n",
       "21              https://tb.kangbatv.com/kbwsxw/   \n",
       "\n",
       "                                       Last_page_link  list_page_no  \n",
       "5                              no link last page link             1  \n",
       "6   https://tb.kangbatv.com/kbdst/grzt2/zp/index_2...             2  \n",
       "7   https://tb.kangbatv.com/kbdst/kbjt2/index_11.html            11  \n",
       "8   https://tb.kangbatv.com/kbdst/xblt2/index_10.html            10  \n",
       "9   https://tb.kangbatv.com/kbdst/kbhlh2/index_20....            20  \n",
       "10  https://tb.kangbatv.com/kbdst/zgjq2/index_10.html            10  \n",
       "11   https://tb.kangbatv.com/kbdst/hlxbk/index_6.html             6  \n",
       "12  https://tb.kangbatv.com/kbdst/qmsj2/index_11.html            11  \n",
       "13  https://tb.kangbatv.com/ysj/klhzy_22717/2018-0...            12  \n",
       "14  https://tb.kangbatv.com/kbdst/fzmj2/index_10.html            10  \n",
       "15  https://tb.kangbatv.com/kbdst/zmdwt2/index_10....            10  \n",
       "16  https://tb.kangbatv.com/kbdst/xygy2/index_10.html            10  \n",
       "17  https://tb.kangbatv.com/kbdst/gshk_22707/index...             5  \n",
       "18        https://tb.kangbatv.com/wmbtq/index_20.html            20  \n",
       "19  https://tb.kangbatv.com/kbdst/ydkpy2/index_9.html             9  \n",
       "20  https://tb.kangbatv.com/kbdst/ysxwlb_22694/ind...            20  \n",
       "21       https://tb.kangbatv.com/kbwsxw/index_20.html            20  "
      ]
     },
     "execution_count": 44,
     "metadata": {},
     "output_type": "execute_result"
    }
   ],
   "source": [
    "df.iloc[5:22]"
   ]
  },
  {
   "cell_type": "code",
   "execution_count": null,
   "id": "da2f16cf-3e87-43c9-bcc0-550f054d9bab",
   "metadata": {},
   "outputs": [],
   "source": []
  },
  {
   "cell_type": "code",
   "execution_count": 37,
   "id": "3d271a88-5471-41a0-bd2d-838eca8b02d0",
   "metadata": {},
   "outputs": [
    {
     "data": {
      "text/plain": [
       "(87, 4)"
      ]
     },
     "execution_count": 37,
     "metadata": {},
     "output_type": "execute_result"
    }
   ],
   "source": [
    "sample_df = df\n",
    "# sample_df.shape\n",
    "sample_df.shape"
   ]
  },
  {
   "cell_type": "code",
   "execution_count": null,
   "id": "81485921-1ab2-4589-9c7d-ab4ff580093d",
   "metadata": {},
   "outputs": [
    {
     "name": "stderr",
     "output_type": "stream",
     "text": [
      "100%|██████████| 20/20 [01:43<00:00,  5.15s/it]\n"
     ]
    },
    {
     "name": "stdout",
     "output_type": "stream",
     "text": [
      "Total page in ཀྲུང་དབྱང་གསར་འགྱུར་མཉམ་བསྒྲགས།: 20\n",
      "Total error in Page ཀྲུང་དབྱང་གསར་འགྱུར་མཉམ་བསྒྲགས། : 0\n",
      "Successfully saved: kangbatv_ALL_link_ཀྲུང་དབྱང་གསར་འགྱུར་མཉམ་བསྒྲགས།.json\n"
     ]
    },
    {
     "name": "stderr",
     "output_type": "stream",
     "text": [
      "100%|██████████| 20/20 [01:43<00:00,  5.16s/it]\n"
     ]
    },
    {
     "name": "stdout",
     "output_type": "stream",
     "text": [
      "Total page in ཁམས་པའི་བརྙན་འཕྲིན་གསར་འགྱུར།: 20\n",
      "Total error in Page ཁམས་པའི་བརྙན་འཕྲིན་གསར་འགྱུར། : 0\n",
      "Successfully saved: kangbatv_ALL_link_ཁམས་པའི་བརྙན་འཕྲིན་གསར་འགྱུར།.json\n"
     ]
    },
    {
     "name": "stderr",
     "output_type": "stream",
     "text": [
      "100%|██████████| 20/20 [02:12<00:00,  6.65s/it]\n"
     ]
    },
    {
     "name": "stdout",
     "output_type": "stream",
     "text": [
      "Total page in བོད་ཁུལ་གསར་འགྱུར།: 20\n",
      "Total error in Page བོད་ཁུལ་གསར་འགྱུར། : 0\n",
      "Successfully saved: kangbatv_ALL_link_བོད་ཁུལ་གསར་འགྱུར།.json\n"
     ]
    },
    {
     "name": "stderr",
     "output_type": "stream",
     "text": [
      "100%|██████████| 20/20 [02:33<00:00,  7.67s/it]\n"
     ]
    },
    {
     "name": "stdout",
     "output_type": "stream",
     "text": [
      "Total page in རྒྱལ་སྤྱིའི་གསར་འགྱུར།: 20\n",
      "Total error in Page རྒྱལ་སྤྱིའི་གསར་འགྱུར། : 0\n",
      "Successfully saved: kangbatv_ALL_link_རྒྱལ་སྤྱིའི་གསར་འགྱུར།.json\n"
     ]
    },
    {
     "name": "stderr",
     "output_type": "stream",
     "text": [
      "100%|██████████| 20/20 [02:02<00:00,  6.13s/it]\n"
     ]
    },
    {
     "name": "stdout",
     "output_type": "stream",
     "text": [
      "Total page in རྒྱལ་ནང་གསར་འགྱུར།: 20\n",
      "Total error in Page རྒྱལ་ནང་གསར་འགྱུར། : 0\n",
      "Successfully saved: kangbatv_ALL_link_རྒྱལ་ནང་གསར་འགྱུར།.json\n"
     ]
    },
    {
     "name": "stderr",
     "output_type": "stream",
     "text": [
      "100%|██████████| 1/1 [00:06<00:00,  6.20s/it]\n"
     ]
    },
    {
     "name": "stdout",
     "output_type": "stream",
     "text": [
      "Total page in ཐད་གཏོང་།: 1\n",
      "Total error in Page ཐད་གཏོང་། : 0\n",
      "Successfully saved: kangbatv_ALL_link_ཐད་གཏོང་།.json\n"
     ]
    },
    {
     "name": "stderr",
     "output_type": "stream",
     "text": [
      "100%|██████████| 2/2 [00:11<00:00,  5.80s/it]\n"
     ]
    },
    {
     "name": "stdout",
     "output_type": "stream",
     "text": [
      "Total page in གློག་བརྙན།: 2\n",
      "Total error in Page གློག་བརྙན། : 0\n",
      "Successfully saved: kangbatv_ALL_link_གློག་བརྙན།.json\n"
     ]
    },
    {
     "name": "stderr",
     "output_type": "stream",
     "text": [
      "100%|██████████| 11/11 [00:59<00:00,  5.45s/it]\n"
     ]
    },
    {
     "name": "stdout",
     "output_type": "stream",
     "text": [
      "Total page in འཆད་ཁྲིད་སྒྲོན་མེ།: 11\n",
      "Total error in Page འཆད་ཁྲིད་སྒྲོན་མེ། : 0\n",
      "Successfully saved: kangbatv_ALL_link_འཆད་ཁྲིད་སྒྲོན་མེ།.json\n"
     ]
    },
    {
     "name": "stderr",
     "output_type": "stream",
     "text": [
      "100%|██████████| 10/10 [00:55<00:00,  5.57s/it]\n"
     ]
    },
    {
     "name": "stdout",
     "output_type": "stream",
     "text": [
      "Total page in བྱམས་པའི་ཁ་བརྡ།: 10\n",
      "Total error in Page བྱམས་པའི་ཁ་བརྡ། : 0\n",
      "Successfully saved: kangbatv_ALL_link_བྱམས་པའི་ཁ་བརྡ།.json\n"
     ]
    },
    {
     "name": "stderr",
     "output_type": "stream",
     "text": [
      "100%|██████████| 20/20 [02:48<00:00,  8.41s/it]\n"
     ]
    },
    {
     "name": "stdout",
     "output_type": "stream",
     "text": [
      "Total page in ཁམས་པའི་དགའ་ཚལ།: 20\n",
      "Page ཁམས་པའི་དགའ་ཚལ། 5 'message'\n",
      "Total error in Page ཁམས་པའི་དགའ་ཚལ། : 1\n",
      "Successfully saved: kangbatv_ALL_link_ཁམས་པའི་དགའ་ཚལ།.json\n"
     ]
    },
    {
     "name": "stderr",
     "output_type": "stream",
     "text": [
      "100%|██████████| 10/10 [01:26<00:00,  8.67s/it]\n"
     ]
    },
    {
     "name": "stdout",
     "output_type": "stream",
     "text": [
      "Total page in དྲི་ཟའི་གླུ་དབྱངས།: 10\n",
      "Total error in Page དྲི་ཟའི་གླུ་དབྱངས། : 0\n",
      "Successfully saved: kangbatv_ALL_link_དྲི་ཟའི་གླུ་དབྱངས།.json\n"
     ]
    },
    {
     "name": "stderr",
     "output_type": "stream",
     "text": [
      "100%|██████████| 6/6 [00:33<00:00,  5.54s/it]\n"
     ]
    },
    {
     "name": "stdout",
     "output_type": "stream",
     "text": [
      "Total page in དགའ་སྤྲོའི་ཕོ་ཉ།: 6\n",
      "Total error in Page དགའ་སྤྲོའི་ཕོ་ཉ། : 0\n",
      "Successfully saved: kangbatv_ALL_link_དགའ་སྤྲོའི་ཕོ་ཉ།.json\n"
     ]
    },
    {
     "name": "stderr",
     "output_type": "stream",
     "text": [
      "100%|██████████| 11/11 [01:02<00:00,  5.65s/it]\n"
     ]
    },
    {
     "name": "stdout",
     "output_type": "stream",
     "text": [
      "Total page in འཆི་མེད་ཀྱི་གླེང་མོལ།: 11\n",
      "Total error in Page འཆི་མེད་ཀྱི་གླེང་མོལ། : 0\n",
      "Successfully saved: kangbatv_ALL_link_འཆི་མེད་ཀྱི་གླེང་མོལ།.json\n"
     ]
    },
    {
     "name": "stderr",
     "output_type": "stream",
     "text": [
      "100%|██████████| 12/12 [01:17<00:00,  6.46s/it]\n"
     ]
    },
    {
     "name": "stdout",
     "output_type": "stream",
     "text": [
      "Total page in སྐད་གཉིས་སློབ་ར།: 12\n",
      "Total error in Page སྐད་གཉིས་སློབ་ར། : 0\n",
      "Successfully saved: kangbatv_ALL_link_སྐད་གཉིས་སློབ་ར།.json\n"
     ]
    },
    {
     "name": "stderr",
     "output_type": "stream",
     "text": [
      "100%|██████████| 10/10 [01:18<00:00,  7.80s/it]\n"
     ]
    },
    {
     "name": "stdout",
     "output_type": "stream",
     "text": [
      "Total page in ཁྲིམས་སྐྱོང་མེ་ལོང་།: 10\n",
      "Total error in Page ཁྲིམས་སྐྱོང་མེ་ལོང་། : 0\n",
      "Successfully saved: kangbatv_ALL_link_ཁྲིམས་སྐྱོང་མེ་ལོང་།.json\n"
     ]
    },
    {
     "name": "stderr",
     "output_type": "stream",
     "text": [
      "100%|██████████| 10/10 [00:56<00:00,  5.61s/it]\n"
     ]
    },
    {
     "name": "stdout",
     "output_type": "stream",
     "text": [
      "Total page in གཟའ་མཇུག་གར་སྟེགས།: 10\n",
      "Total error in Page གཟའ་མཇུག་གར་སྟེགས། : 0\n",
      "Successfully saved: kangbatv_ALL_link_གཟའ་མཇུག་གར་སྟེགས།.json\n"
     ]
    },
    {
     "name": "stderr",
     "output_type": "stream",
     "text": [
      "100%|██████████| 10/10 [00:55<00:00,  5.56s/it]\n"
     ]
    },
    {
     "name": "stdout",
     "output_type": "stream",
     "text": [
      "Total page in གངས་ཅན་མཐོ་སྒང་།: 10\n",
      "Total error in Page གངས་ཅན་མཐོ་སྒང་། : 0\n",
      "Successfully saved: kangbatv_ALL_link_གངས་ཅན་མཐོ་སྒང་།.json\n"
     ]
    },
    {
     "name": "stderr",
     "output_type": "stream",
     "text": [
      "100%|██████████| 5/5 [00:37<00:00,  7.54s/it]\n"
     ]
    },
    {
     "name": "stdout",
     "output_type": "stream",
     "text": [
      "Total page in སྐལ་བཟང་མེ་ཏོག: 5\n",
      "Total error in Page སྐལ་བཟང་མེ་ཏོག : 0\n",
      "Successfully saved: kangbatv_ALL_link_སྐལ་བཟང་མེ་ཏོག.json\n"
     ]
    },
    {
     "name": "stderr",
     "output_type": "stream",
     "text": [
      " 10%|█         | 2/20 [00:57<09:45, 32.54s/it]"
     ]
    },
    {
     "name": "stdout",
     "output_type": "stream",
     "text": [
      "This ULR Took more then 50s: https://tb.kangbatv.com/wmbtq/index_2.html\n"
     ]
    },
    {
     "name": "stderr",
     "output_type": "stream",
     "text": [
      "100%|██████████| 20/20 [02:47<00:00,  8.37s/it]\n"
     ]
    },
    {
     "name": "stdout",
     "output_type": "stream",
     "text": [
      "Total page in དབང་མོའི་གནམ་གཤིས་ཁང་།: 20\n",
      "Total error in Page དབང་མོའི་གནམ་གཤིས་ཁང་། : 0\n",
      "Successfully saved: kangbatv_ALL_link_དབང་མོའི་གནམ་གཤིས་ཁང་།.json\n"
     ]
    },
    {
     "name": "stderr",
     "output_type": "stream",
     "text": [
      "100%|██████████| 9/9 [00:50<00:00,  5.63s/it]\n"
     ]
    },
    {
     "name": "stdout",
     "output_type": "stream",
     "text": [
      "Total page in ཚན་རིག་ཡོན་ཏན།: 9\n",
      "Total error in Page ཚན་རིག་ཡོན་ཏན། : 0\n",
      "Successfully saved: kangbatv_ALL_link_ཚན་རིག་ཡོན་ཏན།.json\n"
     ]
    },
    {
     "name": "stderr",
     "output_type": "stream",
     "text": [
      "100%|██████████| 20/20 [02:02<00:00,  6.11s/it]\n"
     ]
    },
    {
     "name": "stdout",
     "output_type": "stream",
     "text": [
      "Total page in ཀྲུང་དབྱང་གསར་འགྱུར་མཉམ་བསྒྲགས།: 20\n",
      "Total error in Page ཀྲུང་དབྱང་གསར་འགྱུར་མཉམ་བསྒྲགས། : 0\n",
      "Successfully saved: kangbatv_ALL_link_ཀྲུང་དབྱང་གསར་འགྱུར་མཉམ་བསྒྲགས།.json\n"
     ]
    },
    {
     "name": "stderr",
     "output_type": "stream",
     "text": [
      "100%|██████████| 20/20 [01:43<00:00,  5.19s/it]\n"
     ]
    },
    {
     "name": "stdout",
     "output_type": "stream",
     "text": [
      "Total page in ཁམས་པའི་བརྙན་འཕྲིན་གསར་འགྱུར།: 20\n",
      "Total error in Page ཁམས་པའི་བརྙན་འཕྲིན་གསར་འགྱུར། : 0\n",
      "Successfully saved: kangbatv_ALL_link_ཁམས་པའི་བརྙན་འཕྲིན་གསར་འགྱུར།.json\n"
     ]
    },
    {
     "name": "stderr",
     "output_type": "stream",
     "text": [
      "100%|██████████| 2/2 [00:11<00:00,  5.58s/it]\n"
     ]
    },
    {
     "name": "stdout",
     "output_type": "stream",
     "text": [
      "Total page in ཆོས་ལུགས་རིག་གནས།: 2\n",
      "Total error in Page ཆོས་ལུགས་རིག་གནས། : 0\n",
      "Successfully saved: kangbatv_ALL_link_ཆོས་ལུགས་རིག་གནས།.json\n"
     ]
    },
    {
     "name": "stderr",
     "output_type": "stream",
     "text": [
      "100%|██████████| 1/1 [00:26<00:00, 26.81s/it]\n"
     ]
    },
    {
     "name": "stdout",
     "output_type": "stream",
     "text": [
      "Total page in གྲུབ་མཐའ་ངོ་སྤྲོད།: 1\n",
      "Total error in Page གྲུབ་མཐའ་ངོ་སྤྲོད། : 0\n",
      "Successfully saved: kangbatv_ALL_link_གྲུབ་མཐའ་ངོ་སྤྲོད།.json\n"
     ]
    },
    {
     "name": "stderr",
     "output_type": "stream",
     "text": [
      "100%|██████████| 8/8 [01:37<00:00, 12.14s/it]\n"
     ]
    },
    {
     "name": "stdout",
     "output_type": "stream",
     "text": [
      "Total page in དགོན་པ།: 8\n",
      "Total error in Page དགོན་པ། : 0\n",
      "Successfully saved: kangbatv_ALL_link_དགོན་པ།.json\n"
     ]
    },
    {
     "name": "stderr",
     "output_type": "stream",
     "text": [
      "100%|██████████| 5/5 [00:28<00:00,  5.67s/it]\n"
     ]
    },
    {
     "name": "stdout",
     "output_type": "stream",
     "text": [
      "Total page in མཁན་པོ་བླ་སྤྲུལ།: 5\n",
      "Total error in Page མཁན་པོ་བླ་སྤྲུལ། : 0\n",
      "Successfully saved: kangbatv_ALL_link_མཁན་པོ་བླ་སྤྲུལ།.json\n"
     ]
    },
    {
     "name": "stderr",
     "output_type": "stream",
     "text": [
      "100%|██████████| 12/12 [01:59<00:00,  9.97s/it]\n"
     ]
    },
    {
     "name": "stdout",
     "output_type": "stream",
     "text": [
      "Total page in བསྟན་བཅོས།: 12\n",
      "Total error in Page བསྟན་བཅོས། : 0\n",
      "Successfully saved: kangbatv_ALL_link_བསྟན་བཅོས།.json\n"
     ]
    },
    {
     "name": "stderr",
     "output_type": "stream",
     "text": [
      "100%|██████████| 1/1 [00:04<00:00,  4.94s/it]\n"
     ]
    },
    {
     "name": "stdout",
     "output_type": "stream",
     "text": [
      "Total page in ནང་བསྟན་ངོ་སྤྲོད།: 1\n",
      "Total error in Page ནང་བསྟན་ངོ་སྤྲོད། : 0\n",
      "Successfully saved: kangbatv_ALL_link_ནང་བསྟན་ངོ་སྤྲོད།.json\n"
     ]
    },
    {
     "name": "stderr",
     "output_type": "stream",
     "text": [
      "100%|██████████| 1/1 [00:05<00:00,  6.00s/it]\n"
     ]
    },
    {
     "name": "stdout",
     "output_type": "stream",
     "text": [
      "Total page in སྤྱི་ཕན་དགེ་ལས།: 1\n",
      "Total error in Page སྤྱི་ཕན་དགེ་ལས། : 0\n",
      "Successfully saved: kangbatv_ALL_link_སྤྱི་ཕན་དགེ་ལས།.json\n"
     ]
    },
    {
     "name": "stderr",
     "output_type": "stream",
     "text": [
      "100%|██████████| 1/1 [00:05<00:00,  5.10s/it]\n"
     ]
    },
    {
     "name": "stdout",
     "output_type": "stream",
     "text": [
      "Total page in ཤམ་བྷ་ལའི་དཔེ་ཀློག: 1\n",
      "Total error in Page ཤམ་བྷ་ལའི་དཔེ་ཀློག : 0\n",
      "Successfully saved: kangbatv_ALL_link_ཤམ་བྷ་ལའི་དཔེ་ཀློག.json\n"
     ]
    },
    {
     "name": "stderr",
     "output_type": "stream",
     "text": [
      "100%|██████████| 8/8 [00:43<00:00,  5.48s/it]\n"
     ]
    },
    {
     "name": "stdout",
     "output_type": "stream",
     "text": [
      "Total page in སྔོན་བྱོན་མཁས་དབང་།: 8\n",
      "Total error in Page སྔོན་བྱོན་མཁས་དབང་། : 0\n",
      "Successfully saved: kangbatv_ALL_link_སྔོན་བྱོན་མཁས་དབང་།.json\n"
     ]
    },
    {
     "name": "stderr",
     "output_type": "stream",
     "text": [
      "100%|██████████| 8/8 [00:44<00:00,  5.56s/it]\n"
     ]
    },
    {
     "name": "stdout",
     "output_type": "stream",
     "text": [
      "Total page in ལོ་རྒྱུས་མི་སྣ།: 8\n",
      "Total error in Page ལོ་རྒྱུས་མི་སྣ། : 0\n",
      "Successfully saved: kangbatv_ALL_link_ལོ་རྒྱུས་མི་སྣ།.json\n"
     ]
    },
    {
     "name": "stderr",
     "output_type": "stream",
     "text": [
      "100%|██████████| 2/2 [00:11<00:00,  5.50s/it]\n"
     ]
    },
    {
     "name": "stdout",
     "output_type": "stream",
     "text": [
      "Total page in རིག་པ་སྨྲ་བ།: 2\n",
      "Total error in Page རིག་པ་སྨྲ་བ། : 0\n",
      "Successfully saved: kangbatv_ALL_link_རིག་པ་སྨྲ་བ།.json\n"
     ]
    },
    {
     "name": "stderr",
     "output_type": "stream",
     "text": [
      "100%|██████████| 5/5 [00:49<00:00,  9.83s/it]\n"
     ]
    },
    {
     "name": "stdout",
     "output_type": "stream",
     "text": [
      "Total page in མཁན་ཆེན་བླ་སྤྲུལ།: 5\n",
      "Total error in Page མཁན་ཆེན་བླ་སྤྲུལ། : 0\n",
      "Successfully saved: kangbatv_ALL_link_མཁན་ཆེན་བླ་སྤྲུལ།.json\n"
     ]
    },
    {
     "name": "stderr",
     "output_type": "stream",
     "text": [
      "100%|██████████| 9/9 [00:49<00:00,  5.51s/it]\n"
     ]
    },
    {
     "name": "stdout",
     "output_type": "stream",
     "text": [
      "Total page in རྩོམ་པ་པོ།: 9\n",
      "Total error in Page རྩོམ་པ་པོ། : 0\n",
      "Successfully saved: kangbatv_ALL_link_རྩོམ་པ་པོ།.json\n"
     ]
    },
    {
     "name": "stderr",
     "output_type": "stream",
     "text": [
      "100%|██████████| 2/2 [00:11<00:00,  5.50s/it]\n"
     ]
    },
    {
     "name": "stdout",
     "output_type": "stream",
     "text": [
      "Total page in སྒྱུ་རྩལ་པ།: 2\n",
      "Total error in Page སྒྱུ་རྩལ་པ། : 0\n",
      "Successfully saved: kangbatv_ALL_link_སྒྱུ་རྩལ་པ།.json\n"
     ]
    },
    {
     "name": "stderr",
     "output_type": "stream",
     "text": [
      "100%|██████████| 1/1 [00:05<00:00,  5.88s/it]\n"
     ]
    },
    {
     "name": "stdout",
     "output_type": "stream",
     "text": [
      "Total page in ཁེ་ལས་པ།: 1\n",
      "Total error in Page ཁེ་ལས་པ། : 0\n",
      "Successfully saved: kangbatv_ALL_link_ཁེ་ལས་པ།.json\n"
     ]
    },
    {
     "name": "stderr",
     "output_type": "stream",
     "text": [
      "100%|██████████| 1/1 [00:05<00:00,  5.15s/it]\n"
     ]
    },
    {
     "name": "stdout",
     "output_type": "stream",
     "text": [
      "Total page in དམངས་ཁྲོད་མི་སྣ།: 1\n",
      "Total error in Page དམངས་ཁྲོད་མི་སྣ། : 0\n",
      "Successfully saved: kangbatv_ALL_link_དམངས་ཁྲོད་མི་སྣ།.json\n"
     ]
    },
    {
     "name": "stderr",
     "output_type": "stream",
     "text": [
      "100%|██████████| 1/1 [00:05<00:00,  5.88s/it]\n"
     ]
    },
    {
     "name": "stdout",
     "output_type": "stream",
     "text": [
      "Total page in ཡིག་རིས་གསར་འགྱུར།: 1\n",
      "Total error in Page ཡིག་རིས་གསར་འགྱུར། : 0\n",
      "Successfully saved: kangbatv_ALL_link_ཡིག་རིས་གསར་འགྱུར།.json\n"
     ]
    },
    {
     "name": "stderr",
     "output_type": "stream",
     "text": [
      "100%|██████████| 9/9 [01:11<00:00,  7.90s/it]\n"
     ]
    },
    {
     "name": "stdout",
     "output_type": "stream",
     "text": [
      "Total page in ལོ་རྒྱུས།: 9\n",
      "Total error in Page ལོ་རྒྱུས། : 0\n",
      "Successfully saved: kangbatv_ALL_link_ལོ་རྒྱུས།.json\n"
     ]
    },
    {
     "name": "stderr",
     "output_type": "stream",
     "text": [
      "100%|██████████| 2/2 [00:11<00:00,  5.62s/it]\n"
     ]
    },
    {
     "name": "stdout",
     "output_type": "stream",
     "text": [
      "Total page in སྒྲུང་གཏམ།: 2\n",
      "Total error in Page སྒྲུང་གཏམ། : 0\n",
      "Successfully saved: kangbatv_ALL_link_སྒྲུང་གཏམ།.json\n"
     ]
    },
    {
     "name": "stderr",
     "output_type": "stream",
     "text": [
      "100%|██████████| 6/6 [00:33<00:00,  5.54s/it]\n"
     ]
    },
    {
     "name": "stdout",
     "output_type": "stream",
     "text": [
      "Total page in སྙན་ངག: 6\n",
      "Total error in Page སྙན་ངག : 0\n",
      "Successfully saved: kangbatv_ALL_link_སྙན་ངག.json\n"
     ]
    },
    {
     "name": "stderr",
     "output_type": "stream",
     "text": [
      "100%|██████████| 2/2 [00:10<00:00,  5.47s/it]\n"
     ]
    },
    {
     "name": "stdout",
     "output_type": "stream",
     "text": [
      "Total page in ལྷུག་རྩོམ།: 2\n",
      "Total error in Page ལྷུག་རྩོམ། : 0\n",
      "Successfully saved: kangbatv_ALL_link_ལྷུག་རྩོམ།.json\n"
     ]
    },
    {
     "name": "stderr",
     "output_type": "stream",
     "text": [
      "100%|██████████| 1/1 [00:06<00:00,  6.05s/it]\n"
     ]
    },
    {
     "name": "stdout",
     "output_type": "stream",
     "text": [
      "Total page in བསྒྱུར་རྩོམ།: 1\n",
      "Total error in Page བསྒྱུར་རྩོམ། : 0\n",
      "Successfully saved: kangbatv_ALL_link_བསྒྱུར་རྩོམ།.json\n"
     ]
    },
    {
     "name": "stderr",
     "output_type": "stream",
     "text": [
      "100%|██████████| 1/1 [00:05<00:00,  5.10s/it]\n"
     ]
    },
    {
     "name": "stdout",
     "output_type": "stream",
     "text": [
      "Total page in དམངས་ཁྲོད་རྩོམ་རིག: 1\n",
      "Total error in Page དམངས་ཁྲོད་རྩོམ་རིག : 0\n",
      "Successfully saved: kangbatv_ALL_link_དམངས་ཁྲོད་རྩོམ་རིག.json\n"
     ]
    },
    {
     "name": "stderr",
     "output_type": "stream",
     "text": [
      "100%|██████████| 15/15 [01:34<00:00,  6.30s/it]\n"
     ]
    },
    {
     "name": "stdout",
     "output_type": "stream",
     "text": [
      "Total page in དཔྱད་རྩོམ།: 15\n",
      "Total error in Page དཔྱད་རྩོམ། : 0\n",
      "Successfully saved: kangbatv_ALL_link_དཔྱད་རྩོམ།.json\n"
     ]
    },
    {
     "name": "stderr",
     "output_type": "stream",
     "text": [
      "100%|██████████| 5/5 [00:47<00:00,  9.59s/it]\n"
     ]
    },
    {
     "name": "stdout",
     "output_type": "stream",
     "text": [
      "Total page in གེ་སར།: 5\n",
      "Total error in Page གེ་སར། : 0\n",
      "Successfully saved: kangbatv_ALL_link_གེ་སར།.json\n"
     ]
    },
    {
     "name": "stderr",
     "output_type": "stream",
     "text": [
      "100%|██████████| 1/1 [00:05<00:00,  6.00s/it]\n"
     ]
    },
    {
     "name": "stdout",
     "output_type": "stream",
     "text": [
      "Total page in བརྡ་སྤྲོད།: 1\n",
      "Total error in Page བརྡ་སྤྲོད། : 0\n",
      "Successfully saved: kangbatv_ALL_link_བརྡ་སྤྲོད།.json\n"
     ]
    },
    {
     "name": "stderr",
     "output_type": "stream",
     "text": [
      "100%|██████████| 1/1 [00:05<00:00,  5.20s/it]\n"
     ]
    },
    {
     "name": "stdout",
     "output_type": "stream",
     "text": [
      "Total page in ལེགས་བཤད།: 1\n",
      "Total error in Page ལེགས་བཤད། : 0\n",
      "Successfully saved: kangbatv_ALL_link_ལེགས་བཤད།.json\n"
     ]
    },
    {
     "name": "stderr",
     "output_type": "stream",
     "text": [
      "100%|██████████| 2/2 [00:11<00:00,  5.78s/it]\n"
     ]
    },
    {
     "name": "stdout",
     "output_type": "stream",
     "text": [
      "Total page in གནའ་དེང་བརྩམས་ཆོས།: 2\n",
      "Total error in Page གནའ་དེང་བརྩམས་ཆོས། : 0\n",
      "Successfully saved: kangbatv_ALL_link_གནའ་དེང་བརྩམས་ཆོས།.json\n"
     ]
    },
    {
     "name": "stderr",
     "output_type": "stream",
     "text": [
      "100%|██████████| 1/1 [00:05<00:00,  5.99s/it]\n"
     ]
    },
    {
     "name": "stdout",
     "output_type": "stream",
     "text": [
      "Total page in ཁྲིམས་ལུགས་ཤེས་བྱ།: 1\n",
      "Total error in Page ཁྲིམས་ལུགས་ཤེས་བྱ། : 0\n",
      "Successfully saved: kangbatv_ALL_link_ཁྲིམས་ལུགས་ཤེས་བྱ།.json\n"
     ]
    },
    {
     "name": "stderr",
     "output_type": "stream",
     "text": [
      "100%|██████████| 2/2 [00:11<00:00,  5.57s/it]\n"
     ]
    },
    {
     "name": "stdout",
     "output_type": "stream",
     "text": [
      "Total page in གསོ་རིག: 2\n",
      "Total error in Page གསོ་རིག : 0\n",
      "Successfully saved: kangbatv_ALL_link_གསོ་རིག.json\n"
     ]
    },
    {
     "name": "stderr",
     "output_type": "stream",
     "text": [
      "100%|██████████| 2/2 [00:11<00:00,  5.68s/it]\n"
     ]
    },
    {
     "name": "stdout",
     "output_type": "stream",
     "text": [
      "Total page in དཔལ་འབྱོར།: 2\n",
      "Total error in Page དཔལ་འབྱོར། : 0\n",
      "Successfully saved: kangbatv_ALL_link_དཔལ་འབྱོར།.json\n"
     ]
    },
    {
     "name": "stderr",
     "output_type": "stream",
     "text": [
      "100%|██████████| 1/1 [00:04<00:00,  4.45s/it]\n"
     ]
    },
    {
     "name": "stdout",
     "output_type": "stream",
     "text": [
      "Total page in བྲིས་པའི་དགའ་ཚལ།: 1\n",
      "Total error in Page བྲིས་པའི་དགའ་ཚལ། : 0\n",
      "Successfully saved: kangbatv_ALL_link_བྲིས་པའི་དགའ་ཚལ།.json\n"
     ]
    },
    {
     "name": "stderr",
     "output_type": "stream",
     "text": [
      "100%|██████████| 6/6 [00:33<00:00,  5.57s/it]\n"
     ]
    },
    {
     "name": "stdout",
     "output_type": "stream",
     "text": [
      "Total page in གློག་བརྙན།: 6\n",
      "Total error in Page གློག་བརྙན། : 0\n",
      "Successfully saved: kangbatv_ALL_link_གློག་བརྙན།.json\n"
     ]
    },
    {
     "name": "stderr",
     "output_type": "stream",
     "text": [
      "100%|██████████| 10/10 [01:05<00:00,  6.54s/it]\n"
     ]
    },
    {
     "name": "stdout",
     "output_type": "stream",
     "text": [
      "Total page in བརྙན་འཕྲིན་ཟློས་གར།: 10\n",
      "Total error in Page བརྙན་འཕྲིན་ཟློས་གར། : 0\n",
      "Successfully saved: kangbatv_ALL_link_བརྙན་འཕྲིན་ཟློས་གར།.json\n"
     ]
    },
    {
     "name": "stderr",
     "output_type": "stream",
     "text": [
      "100%|██████████| 10/10 [00:55<00:00,  5.58s/it]\n"
     ]
    },
    {
     "name": "stdout",
     "output_type": "stream",
     "text": [
      "Total page in འགུལ་རིས་བརྙན་ཕབ།: 10\n",
      "Total error in Page འགུལ་རིས་བརྙན་ཕབ། : 0\n",
      "Successfully saved: kangbatv_ALL_link_འགུལ་རིས་བརྙན་ཕབ།.json\n"
     ]
    },
    {
     "name": "stderr",
     "output_type": "stream",
     "text": [
      " 90%|█████████ | 9/10 [01:11<00:08,  8.81s/it]"
     ]
    }
   ],
   "source": [
    "for index, row in sample_df.iterrows():\n",
    "    # print(row)\n",
    "    name_of_cate = row[\"name_of_cate\"]\n",
    "    original_url = row[\"original_url\"]\n",
    "    Last_page_link = row[\"Last_page_link\"]\n",
    "    list_page_no = row[\"list_page_no\"]\n",
    "\n",
    "    base_url = \"https:\"\n",
    "\n",
    "    total_page = list_page_no\n",
    "    custom_url = original_url\n",
    "    article_tag = name_of_cate\n",
    "    key_code = \"Page \" + article_tag + \" \"\n",
    "    all_links = loop_article_page(total_page, custom_url, key_code, base_url)\n",
    "    \n",
    "    print(f\"Total page in {article_tag}: {len(all_links['Data'])}\")\n",
    "    check_error_in_links(all_links['Data'], key_code, print_each_error=True)\n",
    "\n",
    "    # Saving the final file\n",
    "    path = \"./data/links/\"\n",
    "    file_name = f\"kangbatv_ALL_link_{article_tag}.json\"\n",
    "    save_json(path, file_name, all_links['Data'])\n",
    "    "
   ]
  },
  {
   "cell_type": "code",
   "execution_count": null,
   "id": "9f5b009e-18db-4c0c-a6e8-85796931a527",
   "metadata": {},
   "outputs": [],
   "source": []
  },
  {
   "cell_type": "code",
   "execution_count": 40,
   "id": "07dbafae-8dae-43e7-909f-2eb631654e88",
   "metadata": {},
   "outputs": [],
   "source": [
    "import os\n",
    "directory = './data/links/'"
   ]
  },
  {
   "cell_type": "code",
   "execution_count": 41,
   "id": "035d4d71-7251-454e-96e6-eb2908810cb2",
   "metadata": {},
   "outputs": [
    {
     "data": {
      "text/plain": [
       "['./data/links/kangbatv_ALL_link_ཀྲུང་དབྱང་གསར་འགྱུར་མཉམ་བསྒྲགས།.json',\n",
       " './data/links/kangbatv_ALL_link_ཁམས་པའི་བརྙན་འཕྲིན་གསར་འགྱུར།.json',\n",
       " './data/links/kangbatv_ALL_link_བོད་ཁུལ་གསར་འགྱུར།.json',\n",
       " './data/links/kangbatv_ALL_link_རྒྱལ་སྤྱིའི་གསར་འགྱུར།.json',\n",
       " './data/links/kangbatv_ALL_link_རྒྱལ་ནང་གསར་འགྱུར།.json',\n",
       " './data/links/kangbatv_ALL_link_ཐད་གཏོང་།.json',\n",
       " './data/links/kangbatv_ALL_link_གློག་བརྙན།.json',\n",
       " './data/links/kangbatv_ALL_link_འཆད་ཁྲིད་སྒྲོན་མེ།.json',\n",
       " './data/links/kangbatv_ALL_link_བྱམས་པའི་ཁ་བརྡ།.json',\n",
       " './data/links/kangbatv_ALL_link_ཁམས་པའི་དགའ་ཚལ།.json',\n",
       " './data/links/kangbatv_ALL_link_དྲི་ཟའི་གླུ་དབྱངས།.json',\n",
       " './data/links/kangbatv_ALL_link_དགའ་སྤྲོའི་ཕོ་ཉ།.json',\n",
       " './data/links/kangbatv_ALL_link_འཆི་མེད་ཀྱི་གླེང་མོལ།.json',\n",
       " './data/links/kangbatv_ALL_link_སྐད་གཉིས་སློབ་ར།.json',\n",
       " './data/links/kangbatv_ALL_link_ཁྲིམས་སྐྱོང་མེ་ལོང་།.json',\n",
       " './data/links/kangbatv_ALL_link_གཟའ་མཇུག་གར་སྟེགས།.json',\n",
       " './data/links/kangbatv_ALL_link_གངས་ཅན་མཐོ་སྒང་།.json',\n",
       " './data/links/kangbatv_ALL_link_སྐལ་བཟང་མེ་ཏོག.json',\n",
       " './data/links/kangbatv_ALL_link_དབང་མོའི་གནམ་གཤིས་ཁང་།.json',\n",
       " './data/links/kangbatv_ALL_link_ཚན་རིག་ཡོན་ཏན།.json',\n",
       " './data/links/kangbatv_ALL_link_ཆོས་ལུགས་རིག་གནས།.json',\n",
       " './data/links/kangbatv_ALL_link_གྲུབ་མཐའ་ངོ་སྤྲོད།.json',\n",
       " './data/links/kangbatv_ALL_link_དགོན་པ།.json',\n",
       " './data/links/kangbatv_ALL_link_མཁན་པོ་བླ་སྤྲུལ།.json',\n",
       " './data/links/kangbatv_ALL_link_བསྟན་བཅོས།.json',\n",
       " './data/links/kangbatv_ALL_link_ནང་བསྟན་ངོ་སྤྲོད།.json',\n",
       " './data/links/kangbatv_ALL_link_སྤྱི་ཕན་དགེ་ལས།.json',\n",
       " './data/links/kangbatv_ALL_link_ཤམ་བྷ་ལའི་དཔེ་ཀློག.json',\n",
       " './data/links/kangbatv_ALL_link_སྔོན་བྱོན་མཁས་དབང་།.json',\n",
       " './data/links/kangbatv_ALL_link_ལོ་རྒྱུས་མི་སྣ།.json',\n",
       " './data/links/kangbatv_ALL_link_རིག་པ་སྨྲ་བ།.json',\n",
       " './data/links/kangbatv_ALL_link_མཁན་ཆེན་བླ་སྤྲུལ།.json',\n",
       " './data/links/kangbatv_ALL_link_རྩོམ་པ་པོ།.json',\n",
       " './data/links/kangbatv_ALL_link_སྒྱུ་རྩལ་པ།.json',\n",
       " './data/links/kangbatv_ALL_link_ཁེ་ལས་པ།.json',\n",
       " './data/links/kangbatv_ALL_link_དམངས་ཁྲོད་མི་སྣ།.json',\n",
       " './data/links/kangbatv_ALL_link_ཡིག་རིས་གསར་འགྱུར།.json',\n",
       " './data/links/kangbatv_ALL_link_ལོ་རྒྱུས།.json',\n",
       " './data/links/kangbatv_ALL_link_སྒྲུང་གཏམ།.json',\n",
       " './data/links/kangbatv_ALL_link_སྙན་ངག.json',\n",
       " './data/links/kangbatv_ALL_link_ལྷུག་རྩོམ།.json',\n",
       " './data/links/kangbatv_ALL_link_བསྒྱུར་རྩོམ།.json',\n",
       " './data/links/kangbatv_ALL_link_དམངས་ཁྲོད་རྩོམ་རིག.json',\n",
       " './data/links/kangbatv_ALL_link_དཔྱད་རྩོམ།.json',\n",
       " './data/links/kangbatv_ALL_link_གེ་སར།.json',\n",
       " './data/links/kangbatv_ALL_link_བརྡ་སྤྲོད།.json',\n",
       " './data/links/kangbatv_ALL_link_ལེགས་བཤད།.json',\n",
       " './data/links/kangbatv_ALL_link_གནའ་དེང་བརྩམས་ཆོས།.json',\n",
       " './data/links/kangbatv_ALL_link_ཁྲིམས་ལུགས་ཤེས་བྱ།.json',\n",
       " './data/links/kangbatv_ALL_link_གསོ་རིག.json',\n",
       " './data/links/kangbatv_ALL_link_དཔལ་འབྱོར།.json',\n",
       " './data/links/kangbatv_ALL_link_བྲིས་པའི་དགའ་ཚལ།.json',\n",
       " './data/links/kangbatv_ALL_link_བརྙན་འཕྲིན་ཟློས་གར།.json',\n",
       " './data/links/kangbatv_ALL_link_འགུལ་རིས་བརྙན་ཕབ།.json',\n",
       " './data/links/kangbatv_ALL_link_དངོས་ཟིན་བརྙན་ཕབ།.json',\n",
       " './data/links/kangbatv_ALL_link_ཆེད་སྒྲིག་བརྙན་ཕབ།.json',\n",
       " './data/links/kangbatv_ALL_link_ཅང་ཙེ་རྨིན་གྱི་རླབས་ཆེ་ཞིང་འོད་སྟོང་འབར་བའི་སྐུ་ཚེ་ཧྲིལ་པོ།.json',\n",
       " './data/links/kangbatv_ALL_link_པར་རིས།.json',\n",
       " './data/links/kangbatv_ALL_link_བྱེད་སྒོ.json',\n",
       " './data/links/kangbatv_ALL_link_བོད་གཞས།.json',\n",
       " './data/links/kangbatv_ALL_link_སློབ་གསོའི་འཕྲིན་གསར།.json',\n",
       " './data/links/kangbatv_ALL_link_སློབ་ཆུང་སློབ་གསོ།.json',\n",
       " './data/links/kangbatv_ALL_link_སློབ་འབྲིང་སློབ་གསོ།.json',\n",
       " './data/links/kangbatv_ALL_link_སློབ་ཆེན་སློབ་གསོ།.json',\n",
       " './data/links/kangbatv_ALL_link_སྤྱི་ཚོགས་སློབ་གསོ།.json',\n",
       " './data/links/kangbatv_ALL_link_དགོན་པའི་སློབ་གསོ།.json',\n",
       " './data/links/kangbatv_ALL_link_སློབ་གསོའི་གླེང་སྟེགས།.json',\n",
       " './data/links/kangbatv_ALL_link_སློབ་མའི་རྒྱུགས་གཞི།.json',\n",
       " './data/links/kangbatv_ALL_link_ཁང་གཞིས།.json',\n",
       " './data/links/kangbatv_ALL_link_རྒྱན་གོས་ཆ་ལུགས།.json',\n",
       " './data/links/kangbatv_ALL_link_གཉེན་སྟོན།.json',\n",
       " './data/links/kangbatv_ALL_link_དུར་འཇུག.json',\n",
       " './data/links/kangbatv_ALL_link_དུས་ཆེན།.json',\n",
       " './data/links/kangbatv_ALL_link_ཐོན་སྐྱེད།.json',\n",
       " './data/links/kangbatv_ALL_link_ཀུན་བཏུས།.json',\n",
       " './data/links/kangbatv_ALL_link_多彩文明 荣耀光影：首届金熊猫奖.json',\n",
       " './data/links/kangbatv_ALL_link_རང་བྱུང་མཛེས་ལྗོངས།.json',\n",
       " './data/links/kangbatv_ALL_link_གནས་སྐོར་ཚོང་ཟོག.json',\n",
       " './data/links/kangbatv_ALL_link_གནས་སྐོར་ལམ་ཐིག.json',\n",
       " './data/links/kangbatv_ALL_link_བོད་ཀྱི་གླུ་གར།.json',\n",
       " './data/links/kangbatv_ALL_link_བརྙན་མཐོང་།.json',\n",
       " './data/links/kangbatv_ALL_link_ཡུལ་སྐོར་མྱོང་ཚོར།.json',\n",
       " './data/links/kangbatv_ALL_link_རྒྱ་ནག་གནས་ཆེན།.json']"
      ]
     },
     "execution_count": 41,
     "metadata": {},
     "output_type": "execute_result"
    }
   ],
   "source": [
    "json_files = [os.path.join(directory, f) for f in os.listdir(directory) if f.endswith('.json')]\n",
    "json_files"
   ]
  },
  {
   "cell_type": "code",
   "execution_count": 42,
   "id": "3e84d808-18ba-4762-9e42-78c98d6390c1",
   "metadata": {},
   "outputs": [
    {
     "data": {
      "text/plain": [
       "83"
      ]
     },
     "execution_count": 42,
     "metadata": {},
     "output_type": "execute_result"
    }
   ],
   "source": [
    "len(json_files)"
   ]
  },
  {
   "cell_type": "code",
   "execution_count": null,
   "id": "a99cbc47-5701-4fa5-a6b9-c9b4563bc08c",
   "metadata": {},
   "outputs": [],
   "source": []
  }
 ],
 "metadata": {
  "kernelspec": {
   "display_name": "Python 3 (ipykernel)",
   "language": "python",
   "name": "python3"
  },
  "language_info": {
   "codemirror_mode": {
    "name": "ipython",
    "version": 3
   },
   "file_extension": ".py",
   "mimetype": "text/x-python",
   "name": "python",
   "nbconvert_exporter": "python",
   "pygments_lexer": "ipython3",
   "version": "3.10.13"
  }
 },
 "nbformat": 4,
 "nbformat_minor": 5
}
