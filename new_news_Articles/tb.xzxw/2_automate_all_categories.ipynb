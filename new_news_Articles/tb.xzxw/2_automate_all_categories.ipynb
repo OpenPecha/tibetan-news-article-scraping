{
 "cells": [
  {
   "cell_type": "code",
   "execution_count": 4,
   "id": "40147810-a5ac-49c4-9891-123f743b40eb",
   "metadata": {},
   "outputs": [],
   "source": [
    "import requests\n",
    "from bs4 import BeautifulSoup\n",
    "import json\n",
    "import time\n",
    "\n",
    "from tqdm import tqdm"
   ]
  },
  {
   "cell_type": "code",
   "execution_count": 6,
   "id": "7c3970d1-04ce-402d-afa7-fbf8323f6284",
   "metadata": {},
   "outputs": [],
   "source": [
    "import tb_xzxw_utils\n",
    "import pandas as pd"
   ]
  },
  {
   "cell_type": "code",
   "execution_count": null,
   "id": "ca1d7bbc-d27b-4c64-aa2d-5d27409915d7",
   "metadata": {},
   "outputs": [],
   "source": []
  },
  {
   "cell_type": "markdown",
   "id": "685b9b9e-98a7-4a1f-a674-2125437e3fe4",
   "metadata": {},
   "source": [
    "## Here we will extract all the articles links from https://tb.xzxw.com/ webpage\n",
    "URL:  hhttps://tb.xzxw.com/"
   ]
  },
  {
   "cell_type": "markdown",
   "id": "95f69b28-a91e-479a-9d51-3e2d466692a6",
   "metadata": {},
   "source": [
    "Tabs not extracted:\n",
    "\n",
    "https://tb.xzxw.com/"
   ]
  },
  {
   "cell_type": "code",
   "execution_count": null,
   "id": "53f131a3-9008-4061-a1c1-191bf90cab51",
   "metadata": {},
   "outputs": [],
   "source": []
  },
  {
   "cell_type": "markdown",
   "id": "acd071a1-9fce-42e8-9d49-0e71dc3b42e4",
   "metadata": {},
   "source": [
    "\n",
    "------------\n",
    "-----------\n",
    "------------\n",
    "------------\n",
    "------------"
   ]
  },
  {
   "cell_type": "code",
   "execution_count": 23,
   "id": "467da2b4-69ca-4b77-b0b5-01ec39d844bc",
   "metadata": {},
   "outputs": [],
   "source": [
    "def loop_article_page(total_page, custom_url, key_code):\n",
    "    \"\"\"\n",
    "    \n",
    "    \"\"\"\n",
    "    return_file = {\n",
    "        \"Data\": [],\n",
    "        \"message\": \"success\",\n",
    "        \"response\": 200\n",
    "    }\n",
    "    All_url_links = {}\n",
    "    if total_page == 0:\n",
    "        total_page = 1\n",
    "    \n",
    "    try:\n",
    "        for i in tqdm(range(1, total_page+1)):\n",
    "            if i == 1:\n",
    "                final_url = custom_url + \".html\"\n",
    "            else:\n",
    "                final_url = custom_url+ \"_\" + str(i) + \".html\"\n",
    "            found_url_links = tb_xzxw_utils.extract_tb_xzxw_page_article_links(final_url)\n",
    "            key = key_code + str(i)\n",
    "            All_url_links[key] = found_url_links\n",
    "        return_file[\"Data\"] = All_url_links\n",
    "        return return_file\n",
    "    \n",
    "    except Exception as e:\n",
    "        return_file[\"Data\"] = All_url_links\n",
    "        return_file[\"message\"] = e\n",
    "        return_file[\"response\"] = 404\n",
    "        return return_file"
   ]
  },
  {
   "cell_type": "code",
   "execution_count": 24,
   "id": "36d048db-f75b-4bbf-99ba-333eb7639175",
   "metadata": {},
   "outputs": [],
   "source": [
    "def check_error_in_links(All_url_link, page_code, print_each_error=False):\n",
    "    \"\"\"\n",
    "    \n",
    "    \n",
    "    \"\"\"\n",
    "\n",
    "    error_counter = 0\n",
    "    for page_id in range(1, len(All_url_link)):\n",
    "        page_key = page_code + str(page_id)\n",
    "        try:\n",
    "            All_url_link.get(page_key)\n",
    "            if  All_url_link.get(page_key)[\"Response\"]!= 200:\n",
    "                error_counter += 1\n",
    "                if print_each_error:\n",
    "                    print(page_key, All_url_link.get(page_key)[\"message\"])\n",
    "        except Exception as e:\n",
    "            print(page_key, e)\n",
    "\n",
    "    print(f\"Total error in {page_code}: {error_counter}\")"
   ]
  },
  {
   "cell_type": "code",
   "execution_count": 25,
   "id": "43edc8d7-14ca-44e8-9fda-7ec78d5e7fe8",
   "metadata": {},
   "outputs": [],
   "source": [
    "def save_json(path, file_name, data):\n",
    "    \"\"\"\n",
    "    \n",
    "    \"\"\"\n",
    "    with open(path+file_name, \"w\") as outfile:\n",
    "        json.dump(data, outfile, indent=4, ensure_ascii=False)\n",
    "        print(f\"\\n\\nSuccessfully saved: {file_name}\")"
   ]
  },
  {
   "cell_type": "code",
   "execution_count": null,
   "id": "1f46d139-cd34-40d1-be5f-93f40630ccbb",
   "metadata": {},
   "outputs": [],
   "source": []
  },
  {
   "cell_type": "code",
   "execution_count": null,
   "id": "2dfeb92c-62d7-404c-83cc-f2ec569ddadb",
   "metadata": {},
   "outputs": [],
   "source": []
  },
  {
   "cell_type": "markdown",
   "id": "8285b51c-3a40-4e55-bf05-b132ecb3d64c",
   "metadata": {},
   "source": [
    "### all data"
   ]
  },
  {
   "cell_type": "code",
   "execution_count": 26,
   "id": "25b41ef0-af0c-4cee-ad0f-2e6c73282629",
   "metadata": {},
   "outputs": [
    {
     "data": {
      "text/html": [
       "<div>\n",
       "<style scoped>\n",
       "    .dataframe tbody tr th:only-of-type {\n",
       "        vertical-align: middle;\n",
       "    }\n",
       "\n",
       "    .dataframe tbody tr th {\n",
       "        vertical-align: top;\n",
       "    }\n",
       "\n",
       "    .dataframe thead th {\n",
       "        text-align: right;\n",
       "    }\n",
       "</style>\n",
       "<table border=\"1\" class=\"dataframe\">\n",
       "  <thead>\n",
       "    <tr style=\"text-align: right;\">\n",
       "      <th></th>\n",
       "      <th>name_of_cate</th>\n",
       "      <th>original_url</th>\n",
       "      <th>Last_page_link</th>\n",
       "      <th>list_page_no</th>\n",
       "    </tr>\n",
       "  </thead>\n",
       "  <tbody>\n",
       "    <tr>\n",
       "      <th>17</th>\n",
       "      <td>ཁྲིམས་དང་སྤྱི་ཚོགས།</td>\n",
       "      <td>https://tb.xzxw.com/fz/node_25942.html</td>\n",
       "      <td>&lt;a href=\"https://tb.xzxw.com/fz/node_25942_30....</td>\n",
       "      <td>30</td>\n",
       "    </tr>\n",
       "    <tr>\n",
       "      <th>18</th>\n",
       "      <td>ཞི་མཐུན་ས་མཐོ།</td>\n",
       "      <td>https://tb.xzxw.com/fz/node_25943.html</td>\n",
       "      <td>&lt;a href=\"https://tb.xzxw.com/fz/node_25943_30....</td>\n",
       "      <td>30</td>\n",
       "    </tr>\n",
       "    <tr>\n",
       "      <th>19</th>\n",
       "      <td>བཅའ་ཁྲིམས་རྒྱུན་ཤེས།</td>\n",
       "      <td>https://tb.xzxw.com/fz/node_25944.html</td>\n",
       "      <td>&lt;a href=\"https://tb.xzxw.com/fz/node_25944_30....</td>\n",
       "      <td>30</td>\n",
       "    </tr>\n",
       "    <tr>\n",
       "      <th>20</th>\n",
       "      <td>ཁྲིམས་སྐྱོང་དོ་རྭ།</td>\n",
       "      <td>https://tb.xzxw.com/fz/node_25945.html</td>\n",
       "      <td>&lt;a href=\"https://tb.xzxw.com/fz/node_25945_30....</td>\n",
       "      <td>30</td>\n",
       "    </tr>\n",
       "    <tr>\n",
       "      <th>21</th>\n",
       "      <td>སློབ་གསོའི་གསར་འགྱུར།</td>\n",
       "      <td>https://tb.xzxw.com/kjws/node_25952.html</td>\n",
       "      <td>&lt;a href=\"https://tb.xzxw.com/kjws/node_25952_3...</td>\n",
       "      <td>30</td>\n",
       "    </tr>\n",
       "    <tr>\n",
       "      <th>22</th>\n",
       "      <td>འཕྲོད་བསྟེན་གསར་འགྱུར།</td>\n",
       "      <td>https://tb.xzxw.com/kjws/node_25953.html</td>\n",
       "      <td>&lt;a href=\"https://tb.xzxw.com/kjws/node_25953_3...</td>\n",
       "      <td>30</td>\n",
       "    </tr>\n",
       "    <tr>\n",
       "      <th>23</th>\n",
       "      <td>ཚན་རྩལ་གསར་འགྱུར།</td>\n",
       "      <td>https://tb.xzxw.com/kjws/node_25954.html</td>\n",
       "      <td>&lt;a href=\"https://tb.xzxw.com/kjws/node_25954_3...</td>\n",
       "      <td>30</td>\n",
       "    </tr>\n",
       "    <tr>\n",
       "      <th>24</th>\n",
       "      <td>ཚན་རྩལ་ཁྱབ་གདལ།</td>\n",
       "      <td>https://tb.xzxw.com/kjws/node_25955.html</td>\n",
       "      <td>&lt;a href=\"https://tb.xzxw.com/kjws/node_25955_5...</td>\n",
       "      <td>5</td>\n",
       "    </tr>\n",
       "    <tr>\n",
       "      <th>25</th>\n",
       "      <td>ལུས་ཁམས་འཕྲོད་སྦྱོར།</td>\n",
       "      <td>https://tb.xzxw.com/kjws/node_25960.html</td>\n",
       "      <td>&lt;a href=\"https://tb.xzxw.com/kjws/node_25960_2...</td>\n",
       "      <td>28</td>\n",
       "    </tr>\n",
       "    <tr>\n",
       "      <th>26</th>\n",
       "      <td>སྤྱི་ཕན་བྱེད་སྒོ།</td>\n",
       "      <td>https://tb.xzxw.com/kjws/node_25961.html</td>\n",
       "      <td>&lt;a href=\"https://tb.xzxw.com/kjws/node_25961_1...</td>\n",
       "      <td>14</td>\n",
       "    </tr>\n",
       "    <tr>\n",
       "      <th>27</th>\n",
       "      <td>སློབ་གསོའི་ལྡུམ་རྭ།</td>\n",
       "      <td>https://tb.xzxw.com/kjws/node_25962.html</td>\n",
       "      <td>&lt;a href=\"https://tb.xzxw.com/kjws/node_25962_5...</td>\n",
       "      <td>5</td>\n",
       "    </tr>\n",
       "    <tr>\n",
       "      <th>28</th>\n",
       "      <td>སློབ་གྲྭའི་པར་རིས།</td>\n",
       "      <td>https://tb.xzxw.com/kjws/node_25967.html</td>\n",
       "      <td>&lt;a href=\"https://tb.xzxw.com/kjws/node_25967_3...</td>\n",
       "      <td>30</td>\n",
       "    </tr>\n",
       "    <tr>\n",
       "      <th>29</th>\n",
       "      <td>བོད་ལྗོངས་སྒྱུ་རྩལ།</td>\n",
       "      <td>https://tb.xzxw.com/wxys/node_25972.html</td>\n",
       "      <td>&lt;a href=\"https://tb.xzxw.com/wxys/node_25972_3...</td>\n",
       "      <td>30</td>\n",
       "    </tr>\n",
       "    <tr>\n",
       "      <th>30</th>\n",
       "      <td>བོད་ཀྱི་རྩོམ་རིག</td>\n",
       "      <td>https://tb.xzxw.com/wxys/node_25973.html</td>\n",
       "      <td>&lt;a href=\"https://tb.xzxw.com/wxys/node_25973_3...</td>\n",
       "      <td>30</td>\n",
       "    </tr>\n",
       "    <tr>\n",
       "      <th>31</th>\n",
       "      <td>མངོན་མིན་རིག་གནས་ཤུལ་བཞག</td>\n",
       "      <td>https://tb.xzxw.com/wxys/node_25975.html</td>\n",
       "      <td>&lt;a href=\"https://tb.xzxw.com/wxys/node_25975_2...</td>\n",
       "      <td>29</td>\n",
       "    </tr>\n",
       "    <tr>\n",
       "      <th>32</th>\n",
       "      <td>མི་སྣ།</td>\n",
       "      <td>https://tb.xzxw.com/wxys/node_25980.html</td>\n",
       "      <td>&lt;a href=\"https://tb.xzxw.com/wxys/node_25980_2...</td>\n",
       "      <td>24</td>\n",
       "    </tr>\n",
       "    <tr>\n",
       "      <th>33</th>\n",
       "      <td>བོད་རིག་པ།</td>\n",
       "      <td>https://tb.xzxw.com/wxys/node_32402.html</td>\n",
       "      <td>&lt;a href=\"https://tb.xzxw.com/wxys/node_32402_1...</td>\n",
       "      <td>14</td>\n",
       "    </tr>\n",
       "    <tr>\n",
       "      <th>34</th>\n",
       "      <td>བོད་ལྗོངས་སྣོད་བཅུད།</td>\n",
       "      <td>https://tb.xzxw.com/stly/node_26032.html</td>\n",
       "      <td>&lt;a href=\"https://tb.xzxw.com/stly/node_26032_3...</td>\n",
       "      <td>30</td>\n",
       "    </tr>\n",
       "    <tr>\n",
       "      <th>35</th>\n",
       "      <td>ཁོར་ཡུག་སྲུང་སྐྱོང་།</td>\n",
       "      <td>https://tb.xzxw.com/stly/node_26033.html</td>\n",
       "      <td>&lt;a href=\"https://tb.xzxw.com/stly/node_26033_3...</td>\n",
       "      <td>30</td>\n",
       "    </tr>\n",
       "    <tr>\n",
       "      <th>36</th>\n",
       "      <td>བོད་ལྗོངས་ཡུལ་སྐོར།</td>\n",
       "      <td>https://tb.xzxw.com/stly/node_26034.html</td>\n",
       "      <td>&lt;a href=\"https://tb.xzxw.com/stly/node_26034_3...</td>\n",
       "      <td>30</td>\n",
       "    </tr>\n",
       "    <tr>\n",
       "      <th>37</th>\n",
       "      <td>ཡུལ་སྐོར་ཕྱོགས་སྟོན།</td>\n",
       "      <td>https://tb.xzxw.com/stly/node_26035.html</td>\n",
       "      <td>no link last page link</td>\n",
       "      <td>1</td>\n",
       "    </tr>\n",
       "    <tr>\n",
       "      <th>38</th>\n",
       "      <td>ལྗོངས་ཕྱིའི་ཡུལ་སྐོར།</td>\n",
       "      <td>https://tb.xzxw.com/stly/node_26040.html</td>\n",
       "      <td>&lt;a href=\"https://tb.xzxw.com/stly/node_26040_3...</td>\n",
       "      <td>30</td>\n",
       "    </tr>\n",
       "    <tr>\n",
       "      <th>39</th>\n",
       "      <td>བདག་གི་ཡུལ་སྐོར་མཐོང་ཐོས།</td>\n",
       "      <td>https://tb.xzxw.com/stly/node_26041.html</td>\n",
       "      <td>&lt;a href=\"https://tb.xzxw.com/stly/node_26041_8...</td>\n",
       "      <td>8</td>\n",
       "    </tr>\n",
       "    <tr>\n",
       "      <th>40</th>\n",
       "      <td>དུས་ཐོག་གསར་འགྱུར།</td>\n",
       "      <td>https://tb.xzxw.com/fysj/node_26043.html</td>\n",
       "      <td>&lt;a href=\"https://tb.xzxw.com/fysj/node_26043_3...</td>\n",
       "      <td>30</td>\n",
       "    </tr>\n",
       "    <tr>\n",
       "      <th>41</th>\n",
       "      <td>འཛམ་གླིང་རྒྱལ་ཁབ་དང་ས་ཁུལ།</td>\n",
       "      <td>https://tb.xzxw.com/fysj/node_26044.html</td>\n",
       "      <td>&lt;a href=\"https://tb.xzxw.com/fysj/node_26044_3...</td>\n",
       "      <td>3</td>\n",
       "    </tr>\n",
       "    <tr>\n",
       "      <th>42</th>\n",
       "      <td>གོ་ལ་ཧྲིལ་པོར་ལྟ་བ།</td>\n",
       "      <td>https://tb.xzxw.com/fysj/node_26048.html</td>\n",
       "      <td>&lt;a href=\"https://tb.xzxw.com/fysj/node_26048_2...</td>\n",
       "      <td>25</td>\n",
       "    </tr>\n",
       "    <tr>\n",
       "      <th>43</th>\n",
       "      <td>འཛམ་གླིང་གིས་བོད་ལ་ལྟ་བ།</td>\n",
       "      <td>https://tb.xzxw.com/fysj/node_26049.html</td>\n",
       "      <td>&lt;a href=\"https://tb.xzxw.com/fysj/node_26049_2...</td>\n",
       "      <td>2</td>\n",
       "    </tr>\n",
       "    <tr>\n",
       "      <th>44</th>\n",
       "      <td>འཛམ་གླིང་གྲགས་ཅན་མཛེས་ལྗོངས།</td>\n",
       "      <td>https://tb.xzxw.com/fysj/node_26045.html</td>\n",
       "      <td>&lt;a href=\"https://tb.xzxw.com/fysj/node_26045_5...</td>\n",
       "      <td>5</td>\n",
       "    </tr>\n",
       "    <tr>\n",
       "      <th>45</th>\n",
       "      <td>བརྙན་ཐུང་།</td>\n",
       "      <td>https://tb.xzxw.com/ysppd/node_26056.html</td>\n",
       "      <td>&lt;a href=\"https://tb.xzxw.com/ysppd/node_26056_...</td>\n",
       "      <td>16</td>\n",
       "    </tr>\n",
       "    <tr>\n",
       "      <th>46</th>\n",
       "      <td>བོད་གཞས།</td>\n",
       "      <td>https://tb.xzxw.com/ysppd/node_26052.html</td>\n",
       "      <td>no link last page link</td>\n",
       "      <td>1</td>\n",
       "    </tr>\n",
       "    <tr>\n",
       "      <th>47</th>\n",
       "      <td>རིག་གནས།</td>\n",
       "      <td>https://tb.xzxw.com/ysppd/node_26053.html</td>\n",
       "      <td>&lt;a href=\"https://tb.xzxw.com/ysppd/node_26053_...</td>\n",
       "      <td>3</td>\n",
       "    </tr>\n",
       "    <tr>\n",
       "      <th>48</th>\n",
       "      <td>བོད་ལྗོངས་པར་རིས།</td>\n",
       "      <td>https://tb.xzxw.com/tkpd/node_26058.html</td>\n",
       "      <td>&lt;a href=\"https://tb.xzxw.com/tkpd/node_26058_3...</td>\n",
       "      <td>30</td>\n",
       "    </tr>\n",
       "    <tr>\n",
       "      <th>49</th>\n",
       "      <td>པར་མཁན།</td>\n",
       "      <td>https://tb.xzxw.com/tkpd/node_26059.html</td>\n",
       "      <td>&lt;a href=\"https://tb.xzxw.com/tkpd/node_26059_3...</td>\n",
       "      <td>30</td>\n",
       "    </tr>\n",
       "    <tr>\n",
       "      <th>50</th>\n",
       "      <td>བརྙན་ཐུང་།</td>\n",
       "      <td>https://tb.xzxw.com/ysppd/node_26056.html</td>\n",
       "      <td>&lt;a href=\"https://tb.xzxw.com/ysppd/node_26056_...</td>\n",
       "      <td>16</td>\n",
       "    </tr>\n",
       "    <tr>\n",
       "      <th>51</th>\n",
       "      <td>བོད་གཞས།</td>\n",
       "      <td>https://tb.xzxw.com/ysppd/node_26052.html</td>\n",
       "      <td>no link last page link</td>\n",
       "      <td>1</td>\n",
       "    </tr>\n",
       "    <tr>\n",
       "      <th>52</th>\n",
       "      <td>རིག་གནས།</td>\n",
       "      <td>https://tb.xzxw.com/ysppd/node_26053.html</td>\n",
       "      <td>&lt;a href=\"https://tb.xzxw.com/ysppd/node_26053_...</td>\n",
       "      <td>3</td>\n",
       "    </tr>\n",
       "    <tr>\n",
       "      <th>53</th>\n",
       "      <td>བོད་ལྗོངས་པར་རིས།</td>\n",
       "      <td>https://tb.xzxw.com/tkpd/node_26058.html</td>\n",
       "      <td>&lt;a href=\"https://tb.xzxw.com/tkpd/node_26058_3...</td>\n",
       "      <td>30</td>\n",
       "    </tr>\n",
       "    <tr>\n",
       "      <th>54</th>\n",
       "      <td>པར་མཁན།</td>\n",
       "      <td>https://tb.xzxw.com/tkpd/node_26059.html</td>\n",
       "      <td>&lt;a href=\"https://tb.xzxw.com/tkpd/node_26059_3...</td>\n",
       "      <td>30</td>\n",
       "    </tr>\n",
       "    <tr>\n",
       "      <th>55</th>\n",
       "      <td>ཆེད་སྒྲིག</td>\n",
       "      <td>https://tb.xzxw.com/zt/</td>\n",
       "      <td>no link last page link</td>\n",
       "      <td>1</td>\n",
       "    </tr>\n",
       "    <tr>\n",
       "      <th>56</th>\n",
       "      <td>བརྩམས་ཆོས་ལྟ་ཀློག</td>\n",
       "      <td>https://tb.xzxw.com/wxys/node_25974.html</td>\n",
       "      <td>&lt;a href=\"https://tb.xzxw.com/wxys/node_25974_4...</td>\n",
       "      <td>4</td>\n",
       "    </tr>\n",
       "  </tbody>\n",
       "</table>\n",
       "</div>"
      ],
      "text/plain": [
       "                    name_of_cate                               original_url  \\\n",
       "17           ཁྲིམས་དང་སྤྱི་ཚོགས།     https://tb.xzxw.com/fz/node_25942.html   \n",
       "18                ཞི་མཐུན་ས་མཐོ།     https://tb.xzxw.com/fz/node_25943.html   \n",
       "19          བཅའ་ཁྲིམས་རྒྱུན་ཤེས།     https://tb.xzxw.com/fz/node_25944.html   \n",
       "20            ཁྲིམས་སྐྱོང་དོ་རྭ།     https://tb.xzxw.com/fz/node_25945.html   \n",
       "21         སློབ་གསོའི་གསར་འགྱུར།   https://tb.xzxw.com/kjws/node_25952.html   \n",
       "22        འཕྲོད་བསྟེན་གསར་འགྱུར།   https://tb.xzxw.com/kjws/node_25953.html   \n",
       "23             ཚན་རྩལ་གསར་འགྱུར།   https://tb.xzxw.com/kjws/node_25954.html   \n",
       "24               ཚན་རྩལ་ཁྱབ་གདལ།   https://tb.xzxw.com/kjws/node_25955.html   \n",
       "25          ལུས་ཁམས་འཕྲོད་སྦྱོར།   https://tb.xzxw.com/kjws/node_25960.html   \n",
       "26             སྤྱི་ཕན་བྱེད་སྒོ།   https://tb.xzxw.com/kjws/node_25961.html   \n",
       "27           སློབ་གསོའི་ལྡུམ་རྭ།   https://tb.xzxw.com/kjws/node_25962.html   \n",
       "28            སློབ་གྲྭའི་པར་རིས།   https://tb.xzxw.com/kjws/node_25967.html   \n",
       "29           བོད་ལྗོངས་སྒྱུ་རྩལ།   https://tb.xzxw.com/wxys/node_25972.html   \n",
       "30              བོད་ཀྱི་རྩོམ་རིག   https://tb.xzxw.com/wxys/node_25973.html   \n",
       "31      མངོན་མིན་རིག་གནས་ཤུལ་བཞག   https://tb.xzxw.com/wxys/node_25975.html   \n",
       "32                        མི་སྣ།   https://tb.xzxw.com/wxys/node_25980.html   \n",
       "33                    བོད་རིག་པ།   https://tb.xzxw.com/wxys/node_32402.html   \n",
       "34          བོད་ལྗོངས་སྣོད་བཅུད།   https://tb.xzxw.com/stly/node_26032.html   \n",
       "35          ཁོར་ཡུག་སྲུང་སྐྱོང་།   https://tb.xzxw.com/stly/node_26033.html   \n",
       "36           བོད་ལྗོངས་ཡུལ་སྐོར།   https://tb.xzxw.com/stly/node_26034.html   \n",
       "37          ཡུལ་སྐོར་ཕྱོགས་སྟོན།   https://tb.xzxw.com/stly/node_26035.html   \n",
       "38         ལྗོངས་ཕྱིའི་ཡུལ་སྐོར།   https://tb.xzxw.com/stly/node_26040.html   \n",
       "39     བདག་གི་ཡུལ་སྐོར་མཐོང་ཐོས།   https://tb.xzxw.com/stly/node_26041.html   \n",
       "40            དུས་ཐོག་གསར་འགྱུར།   https://tb.xzxw.com/fysj/node_26043.html   \n",
       "41    འཛམ་གླིང་རྒྱལ་ཁབ་དང་ས་ཁུལ།   https://tb.xzxw.com/fysj/node_26044.html   \n",
       "42           གོ་ལ་ཧྲིལ་པོར་ལྟ་བ།   https://tb.xzxw.com/fysj/node_26048.html   \n",
       "43      འཛམ་གླིང་གིས་བོད་ལ་ལྟ་བ།   https://tb.xzxw.com/fysj/node_26049.html   \n",
       "44  འཛམ་གླིང་གྲགས་ཅན་མཛེས་ལྗོངས།   https://tb.xzxw.com/fysj/node_26045.html   \n",
       "45                    བརྙན་ཐུང་།  https://tb.xzxw.com/ysppd/node_26056.html   \n",
       "46                      བོད་གཞས།  https://tb.xzxw.com/ysppd/node_26052.html   \n",
       "47                      རིག་གནས།  https://tb.xzxw.com/ysppd/node_26053.html   \n",
       "48             བོད་ལྗོངས་པར་རིས།   https://tb.xzxw.com/tkpd/node_26058.html   \n",
       "49                       པར་མཁན།   https://tb.xzxw.com/tkpd/node_26059.html   \n",
       "50                    བརྙན་ཐུང་།  https://tb.xzxw.com/ysppd/node_26056.html   \n",
       "51                      བོད་གཞས།  https://tb.xzxw.com/ysppd/node_26052.html   \n",
       "52                      རིག་གནས།  https://tb.xzxw.com/ysppd/node_26053.html   \n",
       "53             བོད་ལྗོངས་པར་རིས།   https://tb.xzxw.com/tkpd/node_26058.html   \n",
       "54                       པར་མཁན།   https://tb.xzxw.com/tkpd/node_26059.html   \n",
       "55                     ཆེད་སྒྲིག                    https://tb.xzxw.com/zt/   \n",
       "56             བརྩམས་ཆོས་ལྟ་ཀློག   https://tb.xzxw.com/wxys/node_25974.html   \n",
       "\n",
       "                                       Last_page_link  list_page_no  \n",
       "17  <a href=\"https://tb.xzxw.com/fz/node_25942_30....            30  \n",
       "18  <a href=\"https://tb.xzxw.com/fz/node_25943_30....            30  \n",
       "19  <a href=\"https://tb.xzxw.com/fz/node_25944_30....            30  \n",
       "20  <a href=\"https://tb.xzxw.com/fz/node_25945_30....            30  \n",
       "21  <a href=\"https://tb.xzxw.com/kjws/node_25952_3...            30  \n",
       "22  <a href=\"https://tb.xzxw.com/kjws/node_25953_3...            30  \n",
       "23  <a href=\"https://tb.xzxw.com/kjws/node_25954_3...            30  \n",
       "24  <a href=\"https://tb.xzxw.com/kjws/node_25955_5...             5  \n",
       "25  <a href=\"https://tb.xzxw.com/kjws/node_25960_2...            28  \n",
       "26  <a href=\"https://tb.xzxw.com/kjws/node_25961_1...            14  \n",
       "27  <a href=\"https://tb.xzxw.com/kjws/node_25962_5...             5  \n",
       "28  <a href=\"https://tb.xzxw.com/kjws/node_25967_3...            30  \n",
       "29  <a href=\"https://tb.xzxw.com/wxys/node_25972_3...            30  \n",
       "30  <a href=\"https://tb.xzxw.com/wxys/node_25973_3...            30  \n",
       "31  <a href=\"https://tb.xzxw.com/wxys/node_25975_2...            29  \n",
       "32  <a href=\"https://tb.xzxw.com/wxys/node_25980_2...            24  \n",
       "33  <a href=\"https://tb.xzxw.com/wxys/node_32402_1...            14  \n",
       "34  <a href=\"https://tb.xzxw.com/stly/node_26032_3...            30  \n",
       "35  <a href=\"https://tb.xzxw.com/stly/node_26033_3...            30  \n",
       "36  <a href=\"https://tb.xzxw.com/stly/node_26034_3...            30  \n",
       "37                             no link last page link             1  \n",
       "38  <a href=\"https://tb.xzxw.com/stly/node_26040_3...            30  \n",
       "39  <a href=\"https://tb.xzxw.com/stly/node_26041_8...             8  \n",
       "40  <a href=\"https://tb.xzxw.com/fysj/node_26043_3...            30  \n",
       "41  <a href=\"https://tb.xzxw.com/fysj/node_26044_3...             3  \n",
       "42  <a href=\"https://tb.xzxw.com/fysj/node_26048_2...            25  \n",
       "43  <a href=\"https://tb.xzxw.com/fysj/node_26049_2...             2  \n",
       "44  <a href=\"https://tb.xzxw.com/fysj/node_26045_5...             5  \n",
       "45  <a href=\"https://tb.xzxw.com/ysppd/node_26056_...            16  \n",
       "46                             no link last page link             1  \n",
       "47  <a href=\"https://tb.xzxw.com/ysppd/node_26053_...             3  \n",
       "48  <a href=\"https://tb.xzxw.com/tkpd/node_26058_3...            30  \n",
       "49  <a href=\"https://tb.xzxw.com/tkpd/node_26059_3...            30  \n",
       "50  <a href=\"https://tb.xzxw.com/ysppd/node_26056_...            16  \n",
       "51                             no link last page link             1  \n",
       "52  <a href=\"https://tb.xzxw.com/ysppd/node_26053_...             3  \n",
       "53  <a href=\"https://tb.xzxw.com/tkpd/node_26058_3...            30  \n",
       "54  <a href=\"https://tb.xzxw.com/tkpd/node_26059_3...            30  \n",
       "55                             no link last page link             1  \n",
       "56  <a href=\"https://tb.xzxw.com/wxys/node_25974_4...             4  "
      ]
     },
     "execution_count": 26,
     "metadata": {},
     "output_type": "execute_result"
    }
   ],
   "source": [
    "df = pd.read_csv(\"./data/All_cate.csv\")\n",
    "df.tail(40)"
   ]
  },
  {
   "cell_type": "code",
   "execution_count": 35,
   "id": "5dfd117b-f69d-4254-b729-99587d8af85e",
   "metadata": {},
   "outputs": [
    {
     "data": {
      "text/plain": [
       "(57, 4)"
      ]
     },
     "execution_count": 35,
     "metadata": {},
     "output_type": "execute_result"
    }
   ],
   "source": [
    "df.shape"
   ]
  },
  {
   "cell_type": "code",
   "execution_count": 31,
   "id": "3d271a88-5471-41a0-bd2d-838eca8b02d0",
   "metadata": {},
   "outputs": [],
   "source": [
    "sample_df = df\n",
    "# sample_df"
   ]
  },
  {
   "cell_type": "code",
   "execution_count": null,
   "id": "de52f6fb-f9c5-4d11-af58-8c6c303b08b5",
   "metadata": {},
   "outputs": [],
   "source": []
  },
  {
   "cell_type": "code",
   "execution_count": null,
   "id": "e5081ac1-9080-4e04-84f6-bc857546e5d4",
   "metadata": {},
   "outputs": [],
   "source": []
  },
  {
   "cell_type": "code",
   "execution_count": null,
   "id": "7d00166b-da3f-45f5-b695-2b72b1824fdf",
   "metadata": {},
   "outputs": [],
   "source": []
  },
  {
   "cell_type": "code",
   "execution_count": null,
   "id": "df6d6ba4-de9a-434b-a470-1bc2c060be8a",
   "metadata": {},
   "outputs": [],
   "source": []
  },
  {
   "cell_type": "code",
   "execution_count": 32,
   "id": "01bc0c85-ba0a-4e57-a946-cb8fb04cf7cc",
   "metadata": {},
   "outputs": [],
   "source": [
    "file_name_code = \"tb_xzxw\""
   ]
  },
  {
   "cell_type": "code",
   "execution_count": 33,
   "id": "81485921-1ab2-4589-9c7d-ab4ff580093d",
   "metadata": {
    "scrolled": true
   },
   "outputs": [
    {
     "name": "stderr",
     "output_type": "stream",
     "text": [
      "100%|██████████| 30/30 [03:09<00:00,  6.32s/it]\n"
     ]
    },
    {
     "name": "stdout",
     "output_type": "stream",
     "text": [
      "Total page in སྲིད་དོན་གསར་འགྱུར།: 30\n",
      "Total error in Page སྲིད་དོན་གསར་འགྱུར། : 0\n",
      "\n",
      "\n",
      "Successfully saved: tb_xzxw_ALL_link_སྲིད་དོན་གསར་འགྱུར།.json\n"
     ]
    },
    {
     "name": "stderr",
     "output_type": "stream",
     "text": [
      "100%|██████████| 30/30 [03:10<00:00,  6.36s/it]\n"
     ]
    },
    {
     "name": "stdout",
     "output_type": "stream",
     "text": [
      "Total page in སྲིད་གཞུང་སྤྱི་བསྒྲགས།: 30\n",
      "Total error in Page སྲིད་གཞུང་སྤྱི་བསྒྲགས། : 0\n",
      "\n",
      "\n",
      "Successfully saved: tb_xzxw_ALL_link_སྲིད་གཞུང་སྤྱི་བསྒྲགས།.json\n"
     ]
    },
    {
     "name": "stderr",
     "output_type": "stream",
     "text": [
      "100%|██████████| 30/30 [04:40<00:00,  9.34s/it]\n"
     ]
    },
    {
     "name": "stdout",
     "output_type": "stream",
     "text": [
      "Total page in འགོ་ཁྲིད་བྱེད་སྒོ།: 30\n",
      "Page འགོ་ཁྲིད་བྱེད་སྒོ། 26 'message'\n",
      "Total error in Page འགོ་ཁྲིད་བྱེད་སྒོ། : 1\n",
      "\n",
      "\n",
      "Successfully saved: tb_xzxw_ALL_link_འགོ་ཁྲིད་བྱེད་སྒོ།.json\n"
     ]
    },
    {
     "name": "stderr",
     "output_type": "stream",
     "text": [
      "100%|██████████| 30/30 [03:15<00:00,  6.50s/it]\n"
     ]
    },
    {
     "name": "stdout",
     "output_type": "stream",
     "text": [
      "Total page in སྲིད་གཞུང་ཡིག་ཆ།: 30\n",
      "Total error in Page སྲིད་གཞུང་ཡིག་ཆ། : 0\n",
      "\n",
      "\n",
      "Successfully saved: tb_xzxw_ALL_link_སྲིད་གཞུང་ཡིག་ཆ།.json\n"
     ]
    },
    {
     "name": "stderr",
     "output_type": "stream",
     "text": [
      "100%|██████████| 30/30 [03:00<00:00,  6.02s/it]\n"
     ]
    },
    {
     "name": "stdout",
     "output_type": "stream",
     "text": [
      "Total page in སྲིད་ཇུས་གསལ་འགྲེལ།: 30\n",
      "Total error in Page སྲིད་ཇུས་གསལ་འགྲེལ། : 0\n",
      "\n",
      "\n",
      "Successfully saved: tb_xzxw_ALL_link_སྲིད་ཇུས་གསལ་འགྲེལ།.json\n"
     ]
    },
    {
     "name": "stderr",
     "output_type": "stream",
     "text": [
      "100%|██████████| 17/17 [01:40<00:00,  5.89s/it]\n"
     ]
    },
    {
     "name": "stdout",
     "output_type": "stream",
     "text": [
      "Total page in ཏང་སྲིད་སྒྲིག་གཞི།: 17\n",
      "Total error in Page ཏང་སྲིད་སྒྲིག་གཞི། : 0\n",
      "\n",
      "\n",
      "Successfully saved: tb_xzxw_ALL_link_ཏང་སྲིད་སྒྲིག་གཞི།.json\n"
     ]
    },
    {
     "name": "stderr",
     "output_type": "stream",
     "text": [
      "100%|██████████| 17/17 [01:44<00:00,  6.16s/it]\n"
     ]
    },
    {
     "name": "stdout",
     "output_type": "stream",
     "text": [
      "Total page in མི་དོན་བསྐོ་འཐེན།: 17\n",
      "Total error in Page མི་དོན་བསྐོ་འཐེན། : 0\n",
      "\n",
      "\n",
      "Successfully saved: tb_xzxw_ALL_link_མི་དོན་བསྐོ་འཐེན།.json\n"
     ]
    },
    {
     "name": "stderr",
     "output_type": "stream",
     "text": [
      "100%|██████████| 4/4 [00:23<00:00,  5.92s/it]\n"
     ]
    },
    {
     "name": "stdout",
     "output_type": "stream",
     "text": [
      "Total page in རྒྱབ་ཤ་དཀར་པོའི་དེབ།: 4\n",
      "Total error in Page རྒྱབ་ཤ་དཀར་པོའི་དེབ། : 0\n",
      "\n",
      "\n",
      "Successfully saved: tb_xzxw_ALL_link_རྒྱབ་ཤ་དཀར་པོའི་དེབ།.json\n"
     ]
    },
    {
     "name": "stderr",
     "output_type": "stream",
     "text": [
      "100%|██████████| 18/18 [02:21<00:00,  7.88s/it]\n"
     ]
    },
    {
     "name": "stdout",
     "output_type": "stream",
     "text": [
      "Total page in དམངས་ཕན་སྲིད་ཇུས།: 18\n",
      "Total error in Page དམངས་ཕན་སྲིད་ཇུས། : 0\n",
      "\n",
      "\n",
      "Successfully saved: tb_xzxw_ALL_link_དམངས་ཕན་སྲིད་ཇུས།.json\n"
     ]
    },
    {
     "name": "stderr",
     "output_type": "stream",
     "text": [
      "100%|██████████| 30/30 [03:12<00:00,  6.41s/it]\n"
     ]
    },
    {
     "name": "stdout",
     "output_type": "stream",
     "text": [
      "Total page in གྲོང་གསེབ་གསར་པ་འཛུགས་སྐྲུན།: 30\n",
      "Total error in Page གྲོང་གསེབ་གསར་པ་འཛུགས་སྐྲུན། : 0\n",
      "\n",
      "\n",
      "Successfully saved: tb_xzxw_ALL_link_གྲོང་གསེབ་གསར་པ་འཛུགས་སྐྲུན།.json\n"
     ]
    },
    {
     "name": "stderr",
     "output_type": "stream",
     "text": [
      "100%|██████████| 30/30 [03:04<00:00,  6.16s/it]\n"
     ]
    },
    {
     "name": "stdout",
     "output_type": "stream",
     "text": [
      "Total page in ཕྱུག་འགྱུར་ལམ་བུ།: 30\n",
      "Total error in Page ཕྱུག་འགྱུར་ལམ་བུ། : 0\n",
      "\n",
      "\n",
      "Successfully saved: tb_xzxw_ALL_link_ཕྱུག་འགྱུར་ལམ་བུ།.json\n"
     ]
    },
    {
     "name": "stderr",
     "output_type": "stream",
     "text": [
      "100%|██████████| 5/5 [00:29<00:00,  5.83s/it]\n"
     ]
    },
    {
     "name": "stdout",
     "output_type": "stream",
     "text": [
      "Total page in ལས་མིའི་ལྡུམ་རྭ།: 5\n",
      "Total error in Page ལས་མིའི་ལྡུམ་རྭ། : 0\n",
      "\n",
      "\n",
      "Successfully saved: tb_xzxw_ALL_link_ལས་མིའི་ལྡུམ་རྭ།.json\n"
     ]
    },
    {
     "name": "stderr",
     "output_type": "stream",
     "text": [
      "100%|██████████| 7/7 [00:49<00:00,  7.07s/it]\n"
     ]
    },
    {
     "name": "stdout",
     "output_type": "stream",
     "text": [
      "Total page in ཞིང་འབྲོག་ཤེས་བྱ།: 7\n",
      "Total error in Page ཞིང་འབྲོག་ཤེས་བྱ། : 0\n",
      "\n",
      "\n",
      "Successfully saved: tb_xzxw_ALL_link_ཞིང་འབྲོག་ཤེས་བྱ།.json\n"
     ]
    },
    {
     "name": "stderr",
     "output_type": "stream",
     "text": [
      "100%|██████████| 18/18 [01:53<00:00,  6.32s/it]\n"
     ]
    },
    {
     "name": "stdout",
     "output_type": "stream",
     "text": [
      "Total page in ཁྱད་ལྡན་ཐོན་ཟོག: 18\n",
      "Total error in Page ཁྱད་ལྡན་ཐོན་ཟོག : 0\n",
      "\n",
      "\n",
      "Successfully saved: tb_xzxw_ALL_link_ཁྱད་ལྡན་ཐོན་ཟོག.json\n"
     ]
    },
    {
     "name": "stderr",
     "output_type": "stream",
     "text": [
      "100%|██████████| 30/30 [03:03<00:00,  6.12s/it]\n"
     ]
    },
    {
     "name": "stdout",
     "output_type": "stream",
     "text": [
      "Total page in ཁྲིམས་ལུགས་གསར་འགྱུར།: 30\n",
      "Total error in Page ཁྲིམས་ལུགས་གསར་འགྱུར། : 0\n",
      "\n",
      "\n",
      "Successfully saved: tb_xzxw_ALL_link_ཁྲིམས་ལུགས་གསར་འགྱུར།.json\n"
     ]
    },
    {
     "name": "stderr",
     "output_type": "stream",
     "text": [
      "100%|██████████| 30/30 [03:06<00:00,  6.23s/it]\n"
     ]
    },
    {
     "name": "stdout",
     "output_type": "stream",
     "text": [
      "Total page in བརྟན་ལྷིང་གསེར་ཕུབ།: 30\n",
      "Total error in Page བརྟན་ལྷིང་གསེར་ཕུབ། : 0\n",
      "\n",
      "\n",
      "Successfully saved: tb_xzxw_ALL_link_བརྟན་ལྷིང་གསེར་ཕུབ།.json\n"
     ]
    },
    {
     "name": "stderr",
     "output_type": "stream",
     "text": [
      "100%|██████████| 17/17 [02:32<00:00,  9.00s/it]\n"
     ]
    },
    {
     "name": "stdout",
     "output_type": "stream",
     "text": [
      "Total page in བཅའ་ཁྲིམས་བློ་འདྲི།: 17\n",
      "Page བཅའ་ཁྲིམས་བློ་འདྲི། 3 'message'\n",
      "Page བཅའ་ཁྲིམས་བློ་འདྲི། 4 'message'\n",
      "Page བཅའ་ཁྲིམས་བློ་འདྲི། 5 'message'\n",
      "Total error in Page བཅའ་ཁྲིམས་བློ་འདྲི། : 3\n",
      "\n",
      "\n",
      "Successfully saved: tb_xzxw_ALL_link_བཅའ་ཁྲིམས་བློ་འདྲི།.json\n"
     ]
    },
    {
     "name": "stderr",
     "output_type": "stream",
     "text": [
      "100%|██████████| 30/30 [04:12<00:00,  8.40s/it]\n"
     ]
    },
    {
     "name": "stdout",
     "output_type": "stream",
     "text": [
      "Total page in ཁྲིམས་དང་སྤྱི་ཚོགས།: 30\n",
      "Total error in Page ཁྲིམས་དང་སྤྱི་ཚོགས། : 0\n",
      "\n",
      "\n",
      "Successfully saved: tb_xzxw_ALL_link_ཁྲིམས་དང་སྤྱི་ཚོགས།.json\n"
     ]
    },
    {
     "name": "stderr",
     "output_type": "stream",
     "text": [
      "100%|██████████| 30/30 [03:00<00:00,  6.03s/it]\n"
     ]
    },
    {
     "name": "stdout",
     "output_type": "stream",
     "text": [
      "Total page in ཞི་མཐུན་ས་མཐོ།: 30\n",
      "Total error in Page ཞི་མཐུན་ས་མཐོ། : 0\n",
      "\n",
      "\n",
      "Successfully saved: tb_xzxw_ALL_link_ཞི་མཐུན་ས་མཐོ།.json\n"
     ]
    },
    {
     "name": "stderr",
     "output_type": "stream",
     "text": [
      "100%|██████████| 30/30 [03:05<00:00,  6.18s/it]\n"
     ]
    },
    {
     "name": "stdout",
     "output_type": "stream",
     "text": [
      "Total page in བཅའ་ཁྲིམས་རྒྱུན་ཤེས།: 30\n",
      "Total error in Page བཅའ་ཁྲིམས་རྒྱུན་ཤེས། : 0\n",
      "\n",
      "\n",
      "Successfully saved: tb_xzxw_ALL_link_བཅའ་ཁྲིམས་རྒྱུན་ཤེས།.json\n"
     ]
    },
    {
     "name": "stderr",
     "output_type": "stream",
     "text": [
      "100%|██████████| 30/30 [03:03<00:00,  6.11s/it]\n"
     ]
    },
    {
     "name": "stdout",
     "output_type": "stream",
     "text": [
      "Total page in ཁྲིམས་སྐྱོང་དོ་རྭ།: 30\n",
      "Total error in Page ཁྲིམས་སྐྱོང་དོ་རྭ། : 0\n",
      "\n",
      "\n",
      "Successfully saved: tb_xzxw_ALL_link_ཁྲིམས་སྐྱོང་དོ་རྭ།.json\n"
     ]
    },
    {
     "name": "stderr",
     "output_type": "stream",
     "text": [
      "100%|██████████| 30/30 [03:01<00:00,  6.05s/it]\n"
     ]
    },
    {
     "name": "stdout",
     "output_type": "stream",
     "text": [
      "Total page in སློབ་གསོའི་གསར་འགྱུར།: 30\n",
      "Total error in Page སློབ་གསོའི་གསར་འགྱུར། : 0\n",
      "\n",
      "\n",
      "Successfully saved: tb_xzxw_ALL_link_སློབ་གསོའི་གསར་འགྱུར།.json\n"
     ]
    },
    {
     "name": "stderr",
     "output_type": "stream",
     "text": [
      "100%|██████████| 30/30 [03:10<00:00,  6.35s/it]\n"
     ]
    },
    {
     "name": "stdout",
     "output_type": "stream",
     "text": [
      "Total page in འཕྲོད་བསྟེན་གསར་འགྱུར།: 30\n",
      "Total error in Page འཕྲོད་བསྟེན་གསར་འགྱུར། : 0\n",
      "\n",
      "\n",
      "Successfully saved: tb_xzxw_ALL_link_འཕྲོད་བསྟེན་གསར་འགྱུར།.json\n"
     ]
    },
    {
     "name": "stderr",
     "output_type": "stream",
     "text": [
      "100%|██████████| 30/30 [03:17<00:00,  6.58s/it]\n"
     ]
    },
    {
     "name": "stdout",
     "output_type": "stream",
     "text": [
      "Total page in ཚན་རྩལ་གསར་འགྱུར།: 30\n",
      "Total error in Page ཚན་རྩལ་གསར་འགྱུར། : 0\n",
      "\n",
      "\n",
      "Successfully saved: tb_xzxw_ALL_link_ཚན་རྩལ་གསར་འགྱུར།.json\n"
     ]
    },
    {
     "name": "stderr",
     "output_type": "stream",
     "text": [
      "100%|██████████| 5/5 [00:30<00:00,  6.15s/it]\n"
     ]
    },
    {
     "name": "stdout",
     "output_type": "stream",
     "text": [
      "Total page in ཚན་རྩལ་ཁྱབ་གདལ།: 5\n",
      "Total error in Page ཚན་རྩལ་ཁྱབ་གདལ། : 0\n",
      "\n",
      "\n",
      "Successfully saved: tb_xzxw_ALL_link_ཚན་རྩལ་ཁྱབ་གདལ།.json\n"
     ]
    },
    {
     "name": "stderr",
     "output_type": "stream",
     "text": [
      "100%|██████████| 28/28 [02:46<00:00,  5.94s/it]\n"
     ]
    },
    {
     "name": "stdout",
     "output_type": "stream",
     "text": [
      "Total page in ལུས་ཁམས་འཕྲོད་སྦྱོར།: 28\n",
      "Total error in Page ལུས་ཁམས་འཕྲོད་སྦྱོར། : 0\n",
      "\n",
      "\n",
      "Successfully saved: tb_xzxw_ALL_link_ལུས་ཁམས་འཕྲོད་སྦྱོར།.json\n"
     ]
    },
    {
     "name": "stderr",
     "output_type": "stream",
     "text": [
      "100%|██████████| 14/14 [01:48<00:00,  7.78s/it]\n"
     ]
    },
    {
     "name": "stdout",
     "output_type": "stream",
     "text": [
      "Total page in སྤྱི་ཕན་བྱེད་སྒོ།: 14\n",
      "Page སྤྱི་ཕན་བྱེད་སྒོ། 6 'message'\n",
      "Page སྤྱི་ཕན་བྱེད་སྒོ། 7 'message'\n",
      "Page སྤྱི་ཕན་བྱེད་སྒོ། 8 'message'\n",
      "Page སྤྱི་ཕན་བྱེད་སྒོ། 9 'message'\n",
      "Page སྤྱི་ཕན་བྱེད་སྒོ། 10 'message'\n",
      "Total error in Page སྤྱི་ཕན་བྱེད་སྒོ། : 5\n",
      "\n",
      "\n",
      "Successfully saved: tb_xzxw_ALL_link_སྤྱི་ཕན་བྱེད་སྒོ།.json\n"
     ]
    },
    {
     "name": "stderr",
     "output_type": "stream",
     "text": [
      "100%|██████████| 5/5 [00:30<00:00,  6.12s/it]\n"
     ]
    },
    {
     "name": "stdout",
     "output_type": "stream",
     "text": [
      "Total page in སློབ་གསོའི་ལྡུམ་རྭ།: 5\n",
      "Total error in Page སློབ་གསོའི་ལྡུམ་རྭ། : 0\n",
      "\n",
      "\n",
      "Successfully saved: tb_xzxw_ALL_link_སློབ་གསོའི་ལྡུམ་རྭ།.json\n"
     ]
    },
    {
     "name": "stderr",
     "output_type": "stream",
     "text": [
      "100%|██████████| 30/30 [04:14<00:00,  8.48s/it]\n"
     ]
    },
    {
     "name": "stdout",
     "output_type": "stream",
     "text": [
      "Total page in སློབ་གྲྭའི་པར་རིས།: 30\n",
      "Page སློབ་གྲྭའི་པར་རིས། 16 'message'\n",
      "Page སློབ་གྲྭའི་པར་རིས། 17 'message'\n",
      "Page སློབ་གྲྭའི་པར་རིས། 18 'message'\n",
      "Page སློབ་གྲྭའི་པར་རིས། 19 'message'\n",
      "Page སློབ་གྲྭའི་པར་རིས། 20 'message'\n",
      "Total error in Page སློབ་གྲྭའི་པར་རིས། : 5\n",
      "\n",
      "\n",
      "Successfully saved: tb_xzxw_ALL_link_སློབ་གྲྭའི་པར་རིས།.json\n"
     ]
    },
    {
     "name": "stderr",
     "output_type": "stream",
     "text": [
      "100%|██████████| 30/30 [03:43<00:00,  7.46s/it]\n"
     ]
    },
    {
     "name": "stdout",
     "output_type": "stream",
     "text": [
      "Total page in བོད་ལྗོངས་སྒྱུ་རྩལ།: 30\n",
      "Page བོད་ལྗོངས་སྒྱུ་རྩལ། 15 'message'\n",
      "Page བོད་ལྗོངས་སྒྱུ་རྩལ། 16 'message'\n",
      "Page བོད་ལྗོངས་སྒྱུ་རྩལ། 17 'message'\n",
      "Page བོད་ལྗོངས་སྒྱུ་རྩལ། 18 'message'\n",
      "Page བོད་ལྗོངས་སྒྱུ་རྩལ། 19 'message'\n",
      "Page བོད་ལྗོངས་སྒྱུ་རྩལ། 20 'message'\n",
      "Total error in Page བོད་ལྗོངས་སྒྱུ་རྩལ། : 6\n",
      "\n",
      "\n",
      "Successfully saved: tb_xzxw_ALL_link_བོད་ལྗོངས་སྒྱུ་རྩལ།.json\n"
     ]
    },
    {
     "name": "stderr",
     "output_type": "stream",
     "text": [
      "100%|██████████| 30/30 [03:01<00:00,  6.05s/it]\n"
     ]
    },
    {
     "name": "stdout",
     "output_type": "stream",
     "text": [
      "Total page in བོད་ཀྱི་རྩོམ་རིག: 30\n",
      "Total error in Page བོད་ཀྱི་རྩོམ་རིག : 0\n",
      "\n",
      "\n",
      "Successfully saved: tb_xzxw_ALL_link_བོད་ཀྱི་རྩོམ་རིག.json\n"
     ]
    },
    {
     "name": "stderr",
     "output_type": "stream",
     "text": [
      "100%|██████████| 29/29 [03:23<00:00,  7.01s/it]\n"
     ]
    },
    {
     "name": "stdout",
     "output_type": "stream",
     "text": [
      "Total page in མངོན་མིན་རིག་གནས་ཤུལ་བཞག: 29\n",
      "Page མངོན་མིན་རིག་གནས་ཤུལ་བཞག 15 'message'\n",
      "Total error in Page མངོན་མིན་རིག་གནས་ཤུལ་བཞག : 1\n",
      "\n",
      "\n",
      "Successfully saved: tb_xzxw_ALL_link_མངོན་མིན་རིག་གནས་ཤུལ་བཞག.json\n"
     ]
    },
    {
     "name": "stderr",
     "output_type": "stream",
     "text": [
      "100%|██████████| 24/24 [02:37<00:00,  6.55s/it]\n"
     ]
    },
    {
     "name": "stdout",
     "output_type": "stream",
     "text": [
      "Total page in མི་སྣ།: 24\n",
      "Page མི་སྣ། 14 'message'\n",
      "Total error in Page མི་སྣ། : 1\n",
      "\n",
      "\n",
      "Successfully saved: tb_xzxw_ALL_link_མི་སྣ།.json\n"
     ]
    },
    {
     "name": "stderr",
     "output_type": "stream",
     "text": [
      "100%|██████████| 14/14 [01:28<00:00,  6.31s/it]\n"
     ]
    },
    {
     "name": "stdout",
     "output_type": "stream",
     "text": [
      "Total page in བོད་རིག་པ།: 14\n",
      "Total error in Page བོད་རིག་པ། : 0\n",
      "\n",
      "\n",
      "Successfully saved: tb_xzxw_ALL_link_བོད་རིག་པ།.json\n"
     ]
    },
    {
     "name": "stderr",
     "output_type": "stream",
     "text": [
      "100%|██████████| 30/30 [03:08<00:00,  6.30s/it]\n"
     ]
    },
    {
     "name": "stdout",
     "output_type": "stream",
     "text": [
      "Total page in བོད་ལྗོངས་སྣོད་བཅུད།: 30\n",
      "Total error in Page བོད་ལྗོངས་སྣོད་བཅུད། : 0\n",
      "\n",
      "\n",
      "Successfully saved: tb_xzxw_ALL_link_བོད་ལྗོངས་སྣོད་བཅུད།.json\n"
     ]
    },
    {
     "name": "stderr",
     "output_type": "stream",
     "text": [
      "100%|██████████| 30/30 [03:07<00:00,  6.25s/it]\n"
     ]
    },
    {
     "name": "stdout",
     "output_type": "stream",
     "text": [
      "Total page in ཁོར་ཡུག་སྲུང་སྐྱོང་།: 30\n",
      "Total error in Page ཁོར་ཡུག་སྲུང་སྐྱོང་། : 0\n",
      "\n",
      "\n",
      "Successfully saved: tb_xzxw_ALL_link_ཁོར་ཡུག་སྲུང་སྐྱོང་།.json\n"
     ]
    },
    {
     "name": "stderr",
     "output_type": "stream",
     "text": [
      "100%|██████████| 30/30 [03:04<00:00,  6.16s/it]\n"
     ]
    },
    {
     "name": "stdout",
     "output_type": "stream",
     "text": [
      "Total page in བོད་ལྗོངས་ཡུལ་སྐོར།: 30\n",
      "Total error in Page བོད་ལྗོངས་ཡུལ་སྐོར། : 0\n",
      "\n",
      "\n",
      "Successfully saved: tb_xzxw_ALL_link_བོད་ལྗོངས་ཡུལ་སྐོར།.json\n"
     ]
    },
    {
     "name": "stderr",
     "output_type": "stream",
     "text": [
      "100%|██████████| 1/1 [00:07<00:00,  7.12s/it]\n"
     ]
    },
    {
     "name": "stdout",
     "output_type": "stream",
     "text": [
      "Total page in ཡུལ་སྐོར་ཕྱོགས་སྟོན།: 1\n",
      "Total error in Page ཡུལ་སྐོར་ཕྱོགས་སྟོན། : 0\n",
      "\n",
      "\n",
      "Successfully saved: tb_xzxw_ALL_link_ཡུལ་སྐོར་ཕྱོགས་སྟོན།.json\n"
     ]
    },
    {
     "name": "stderr",
     "output_type": "stream",
     "text": [
      "100%|██████████| 30/30 [03:09<00:00,  6.33s/it]\n"
     ]
    },
    {
     "name": "stdout",
     "output_type": "stream",
     "text": [
      "Total page in ལྗོངས་ཕྱིའི་ཡུལ་སྐོར།: 30\n",
      "Total error in Page ལྗོངས་ཕྱིའི་ཡུལ་སྐོར། : 0\n",
      "\n",
      "\n",
      "Successfully saved: tb_xzxw_ALL_link_ལྗོངས་ཕྱིའི་ཡུལ་སྐོར།.json\n"
     ]
    },
    {
     "name": "stderr",
     "output_type": "stream",
     "text": [
      "100%|██████████| 8/8 [00:55<00:00,  6.89s/it]\n"
     ]
    },
    {
     "name": "stdout",
     "output_type": "stream",
     "text": [
      "Total page in བདག་གི་ཡུལ་སྐོར་མཐོང་ཐོས།: 8\n",
      "Total error in Page བདག་གི་ཡུལ་སྐོར་མཐོང་ཐོས། : 0\n",
      "\n",
      "\n",
      "Successfully saved: tb_xzxw_ALL_link_བདག་གི་ཡུལ་སྐོར་མཐོང་ཐོས།.json\n"
     ]
    },
    {
     "name": "stderr",
     "output_type": "stream",
     "text": [
      "100%|██████████| 30/30 [03:25<00:00,  6.83s/it]\n"
     ]
    },
    {
     "name": "stdout",
     "output_type": "stream",
     "text": [
      "Total page in དུས་ཐོག་གསར་འགྱུར།: 30\n",
      "Total error in Page དུས་ཐོག་གསར་འགྱུར། : 0\n",
      "\n",
      "\n",
      "Successfully saved: tb_xzxw_ALL_link_དུས་ཐོག་གསར་འགྱུར།.json\n"
     ]
    },
    {
     "name": "stderr",
     "output_type": "stream",
     "text": [
      "100%|██████████| 3/3 [00:16<00:00,  5.62s/it]\n"
     ]
    },
    {
     "name": "stdout",
     "output_type": "stream",
     "text": [
      "Total page in འཛམ་གླིང་རྒྱལ་ཁབ་དང་ས་ཁུལ།: 3\n",
      "Total error in Page འཛམ་གླིང་རྒྱལ་ཁབ་དང་ས་ཁུལ། : 0\n",
      "\n",
      "\n",
      "Successfully saved: tb_xzxw_ALL_link_འཛམ་གླིང་རྒྱལ་ཁབ་དང་ས་ཁུལ།.json\n"
     ]
    },
    {
     "name": "stderr",
     "output_type": "stream",
     "text": [
      "100%|██████████| 25/25 [02:28<00:00,  5.95s/it]\n"
     ]
    },
    {
     "name": "stdout",
     "output_type": "stream",
     "text": [
      "Total page in གོ་ལ་ཧྲིལ་པོར་ལྟ་བ།: 25\n",
      "Total error in Page གོ་ལ་ཧྲིལ་པོར་ལྟ་བ། : 0\n",
      "\n",
      "\n",
      "Successfully saved: tb_xzxw_ALL_link_གོ་ལ་ཧྲིལ་པོར་ལྟ་བ།.json\n"
     ]
    },
    {
     "name": "stderr",
     "output_type": "stream",
     "text": [
      "100%|██████████| 2/2 [00:11<00:00,  5.83s/it]\n"
     ]
    },
    {
     "name": "stdout",
     "output_type": "stream",
     "text": [
      "Total page in འཛམ་གླིང་གིས་བོད་ལ་ལྟ་བ།: 2\n",
      "Total error in Page འཛམ་གླིང་གིས་བོད་ལ་ལྟ་བ། : 0\n",
      "\n",
      "\n",
      "Successfully saved: tb_xzxw_ALL_link_འཛམ་གླིང་གིས་བོད་ལ་ལྟ་བ།.json\n"
     ]
    },
    {
     "name": "stderr",
     "output_type": "stream",
     "text": [
      "100%|██████████| 5/5 [00:29<00:00,  5.94s/it]\n"
     ]
    },
    {
     "name": "stdout",
     "output_type": "stream",
     "text": [
      "Total page in འཛམ་གླིང་གྲགས་ཅན་མཛེས་ལྗོངས།: 5\n",
      "Total error in Page འཛམ་གླིང་གྲགས་ཅན་མཛེས་ལྗོངས། : 0\n",
      "\n",
      "\n",
      "Successfully saved: tb_xzxw_ALL_link_འཛམ་གླིང་གྲགས་ཅན་མཛེས་ལྗོངས།.json\n"
     ]
    },
    {
     "name": "stderr",
     "output_type": "stream",
     "text": [
      "100%|██████████| 16/16 [01:38<00:00,  6.15s/it]\n"
     ]
    },
    {
     "name": "stdout",
     "output_type": "stream",
     "text": [
      "Total page in བརྙན་ཐུང་།: 16\n",
      "Total error in Page བརྙན་ཐུང་། : 0\n",
      "\n",
      "\n",
      "Successfully saved: tb_xzxw_ALL_link_བརྙན་ཐུང་།.json\n"
     ]
    },
    {
     "name": "stderr",
     "output_type": "stream",
     "text": [
      "100%|██████████| 1/1 [00:02<00:00,  2.40s/it]\n"
     ]
    },
    {
     "name": "stdout",
     "output_type": "stream",
     "text": [
      "Total page in བོད་གཞས།: 1\n",
      "Total error in Page བོད་གཞས། : 0\n",
      "\n",
      "\n",
      "Successfully saved: tb_xzxw_ALL_link_བོད་གཞས།.json\n"
     ]
    },
    {
     "name": "stderr",
     "output_type": "stream",
     "text": [
      "100%|██████████| 3/3 [00:17<00:00,  5.94s/it]\n"
     ]
    },
    {
     "name": "stdout",
     "output_type": "stream",
     "text": [
      "Total page in རིག་གནས།: 3\n",
      "Total error in Page རིག་གནས། : 0\n",
      "\n",
      "\n",
      "Successfully saved: tb_xzxw_ALL_link_རིག་གནས།.json\n"
     ]
    },
    {
     "name": "stderr",
     "output_type": "stream",
     "text": [
      "100%|██████████| 30/30 [03:05<00:00,  6.17s/it]\n"
     ]
    },
    {
     "name": "stdout",
     "output_type": "stream",
     "text": [
      "Total page in བོད་ལྗོངས་པར་རིས།: 30\n",
      "Total error in Page བོད་ལྗོངས་པར་རིས། : 0\n",
      "\n",
      "\n",
      "Successfully saved: tb_xzxw_ALL_link_བོད་ལྗོངས་པར་རིས།.json\n"
     ]
    },
    {
     "name": "stderr",
     "output_type": "stream",
     "text": [
      "100%|██████████| 30/30 [03:03<00:00,  6.13s/it]\n"
     ]
    },
    {
     "name": "stdout",
     "output_type": "stream",
     "text": [
      "Total page in པར་མཁན།: 30\n",
      "Total error in Page པར་མཁན། : 0\n",
      "\n",
      "\n",
      "Successfully saved: tb_xzxw_ALL_link_པར་མཁན།.json\n"
     ]
    },
    {
     "name": "stderr",
     "output_type": "stream",
     "text": [
      "100%|██████████| 16/16 [01:33<00:00,  5.83s/it]\n"
     ]
    },
    {
     "name": "stdout",
     "output_type": "stream",
     "text": [
      "Total page in བརྙན་ཐུང་།: 16\n",
      "Total error in Page བརྙན་ཐུང་། : 0\n",
      "\n",
      "\n",
      "Successfully saved: tb_xzxw_ALL_link_བརྙན་ཐུང་།.json\n"
     ]
    },
    {
     "name": "stderr",
     "output_type": "stream",
     "text": [
      "100%|██████████| 1/1 [00:05<00:00,  5.06s/it]\n"
     ]
    },
    {
     "name": "stdout",
     "output_type": "stream",
     "text": [
      "Total page in བོད་གཞས།: 1\n",
      "Total error in Page བོད་གཞས། : 0\n",
      "\n",
      "\n",
      "Successfully saved: tb_xzxw_ALL_link_བོད་གཞས།.json\n"
     ]
    },
    {
     "name": "stderr",
     "output_type": "stream",
     "text": [
      "100%|██████████| 3/3 [00:19<00:00,  6.41s/it]\n"
     ]
    },
    {
     "name": "stdout",
     "output_type": "stream",
     "text": [
      "Total page in རིག་གནས།: 3\n",
      "Total error in Page རིག་གནས། : 0\n",
      "\n",
      "\n",
      "Successfully saved: tb_xzxw_ALL_link_རིག་གནས།.json\n"
     ]
    },
    {
     "name": "stderr",
     "output_type": "stream",
     "text": [
      "100%|██████████| 30/30 [03:21<00:00,  6.71s/it]\n"
     ]
    },
    {
     "name": "stdout",
     "output_type": "stream",
     "text": [
      "Total page in བོད་ལྗོངས་པར་རིས།: 30\n",
      "Total error in Page བོད་ལྗོངས་པར་རིས། : 0\n",
      "\n",
      "\n",
      "Successfully saved: tb_xzxw_ALL_link_བོད་ལྗོངས་པར་རིས།.json\n"
     ]
    },
    {
     "name": "stderr",
     "output_type": "stream",
     "text": [
      "100%|██████████| 30/30 [03:04<00:00,  6.14s/it]\n"
     ]
    },
    {
     "name": "stdout",
     "output_type": "stream",
     "text": [
      "Total page in པར་མཁན།: 30\n",
      "Total error in Page པར་མཁན། : 0\n",
      "\n",
      "\n",
      "Successfully saved: tb_xzxw_ALL_link_པར་མཁན།.json\n"
     ]
    },
    {
     "name": "stderr",
     "output_type": "stream",
     "text": [
      "100%|██████████| 1/1 [00:04<00:00,  4.35s/it]\n"
     ]
    },
    {
     "name": "stdout",
     "output_type": "stream",
     "text": [
      "Total page in ཆེད་སྒྲིག: 1\n",
      "Total error in Page ཆེད་སྒྲིག : 0\n",
      "\n",
      "\n",
      "Successfully saved: tb_xzxw_ALL_link_ཆེད་སྒྲིག.json\n"
     ]
    },
    {
     "name": "stderr",
     "output_type": "stream",
     "text": [
      "100%|██████████| 4/4 [00:23<00:00,  5.93s/it]"
     ]
    },
    {
     "name": "stdout",
     "output_type": "stream",
     "text": [
      "Total page in བརྩམས་ཆོས་ལྟ་ཀློག: 4\n",
      "Total error in Page བརྩམས་ཆོས་ལྟ་ཀློག : 0\n",
      "\n",
      "\n",
      "Successfully saved: tb_xzxw_ALL_link_བརྩམས་ཆོས་ལྟ་ཀློག.json\n"
     ]
    },
    {
     "name": "stderr",
     "output_type": "stream",
     "text": [
      "\n"
     ]
    }
   ],
   "source": [
    "for index, row in sample_df.iterrows():\n",
    "    # print(row)\n",
    "    name_of_cate = row[\"name_of_cate\"]\n",
    "    original_url = row[\"original_url\"]\n",
    "    Last_page_link = row[\"Last_page_link\"]\n",
    "    list_page_no = row[\"list_page_no\"]\n",
    "\n",
    "    custom_url = original_url.replace(\".html\", \"\")\n",
    "\n",
    "    total_page = list_page_no\n",
    "    article_tag = name_of_cate\n",
    "    key_code = \"Page \" + article_tag + \" \"\n",
    "    all_links = loop_article_page(total_page, custom_url, key_code)\n",
    "    \n",
    "    print(f\"Total page in {article_tag}: {len(all_links['Data'])}\")\n",
    "    check_error_in_links(all_links['Data'], key_code, print_each_error=True)\n",
    "\n",
    "    # Saving the final file\n",
    "    path = \"./data/links/\"\n",
    "    file_name = f\"{file_name_code}_ALL_link_{article_tag}.json\"\n",
    "    save_json(path, file_name, all_links['Data'])"
   ]
  },
  {
   "cell_type": "code",
   "execution_count": null,
   "id": "9f5b009e-18db-4c0c-a6e8-85796931a527",
   "metadata": {},
   "outputs": [],
   "source": []
  },
  {
   "cell_type": "code",
   "execution_count": null,
   "id": "07dbafae-8dae-43e7-909f-2eb631654e88",
   "metadata": {},
   "outputs": [],
   "source": []
  },
  {
   "cell_type": "code",
   "execution_count": null,
   "id": "f8297d1c-0f4d-474c-9a1f-d4cd749d46d1",
   "metadata": {},
   "outputs": [],
   "source": []
  },
  {
   "cell_type": "code",
   "execution_count": null,
   "id": "10cc62f4-0c24-4e55-972c-11151bdf8248",
   "metadata": {},
   "outputs": [],
   "source": []
  }
 ],
 "metadata": {
  "kernelspec": {
   "display_name": "Python 3 (ipykernel)",
   "language": "python",
   "name": "python3"
  },
  "language_info": {
   "codemirror_mode": {
    "name": "ipython",
    "version": 3
   },
   "file_extension": ".py",
   "mimetype": "text/x-python",
   "name": "python",
   "nbconvert_exporter": "python",
   "pygments_lexer": "ipython3",
   "version": "3.10.13"
  }
 },
 "nbformat": 4,
 "nbformat_minor": 5
}
