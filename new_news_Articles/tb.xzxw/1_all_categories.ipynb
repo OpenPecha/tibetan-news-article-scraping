{
 "cells": [
  {
   "cell_type": "code",
   "execution_count": 1,
   "id": "46ee2202-8595-4f7f-89e5-597fb6b904fa",
   "metadata": {},
   "outputs": [],
   "source": [
    "from bs4 import BeautifulSoup\n",
    "import requests\n",
    "import re\n"
   ]
  },
  {
   "cell_type": "code",
   "execution_count": null,
   "id": "6a6b471d-42a7-4378-af4d-26869217a131",
   "metadata": {},
   "outputs": [],
   "source": []
  },
  {
   "cell_type": "code",
   "execution_count": null,
   "id": "457ad338-815d-420e-ae38-2269298a0040",
   "metadata": {},
   "outputs": [],
   "source": []
  },
  {
   "cell_type": "code",
   "execution_count": 2,
   "id": "f3dc8abc-2068-4a13-8655-7c50f29c1df1",
   "metadata": {},
   "outputs": [],
   "source": [
    "url = \"https://tb.xzxw.com/xw/index.html\"\n",
    "\n",
    "headers = {\n",
    "        'User-Agent': 'Mozilla/5.0 (Windows NT 10.0; Win64; x64) AppleWebKit/537.36 (KHTML, like Gecko) Chrome/91.0.4472.124 Safari/537.36'\n",
    "    }\n",
    "response = requests.get(url, headers=headers)\n",
    "response.raise_for_status()\n",
    "\n",
    "# Parse the page content with BeautifulSoup\n",
    "soup = BeautifulSoup(response.content, 'html.parser')\n",
    "\n",
    "catgory_center = soup.find(\"div\", class_=\"pd_top_center\")\n",
    "if catgory_center:\n",
    "    catgory_center = catgory_center.find(\"ul\")\n",
    "    if catgory_center:\n",
    "        # Find all 'a' tags\n",
    "        links = catgory_center.find_all('a')\n",
    "        all_categories = []\n",
    "        # Extract and print the href attribute from each link\n",
    "        for link in links:\n",
    "            href = link.get('href')\n",
    "            if href:\n",
    "                text = link.get_text(strip=True)\n",
    "                all_categories.append((text, href))\n",
    "            # print(href)"
   ]
  },
  {
   "cell_type": "code",
   "execution_count": null,
   "id": "12117b0d-2c09-4d03-adba-80cf1ea7de93",
   "metadata": {},
   "outputs": [],
   "source": []
  },
  {
   "cell_type": "code",
   "execution_count": 3,
   "id": "0c731687-54b2-4d27-9b22-156b284fbf10",
   "metadata": {},
   "outputs": [
    {
     "data": {
      "text/plain": [
       "[('གསར་འགྱུར།', 'https://tb.xzxw.com/xw/index.html'),\n",
       " ('སྲིད་དོན།', 'https://tb.xzxw.com/zw/index.html'),\n",
       " ('ཞིང་འབྲོག་གསར་པ།', 'https://tb.xzxw.com/nmtd/index.html'),\n",
       " ('ཁྲིམས་ལུགས།', 'https://tb.xzxw.com/fz/index.html'),\n",
       " ('ཚན་སློབ་འཕྲོད་བསྟེན།', 'https://tb.xzxw.com/kjws/index.html'),\n",
       " ('བོད་ཀྱི་རིག་གནས།', 'https://tb.xzxw.com/wxys/index.html'),\n",
       " ('སྣོད་བཅུད་དང་ཡུལ་སྐོར།', 'https://tb.xzxw.com/stly/index.html'),\n",
       " ('འཛམ་གླིང་རྒྱང་ལྟ།', 'https://tb.xzxw.com/fysj/index.html'),\n",
       " ('སྒྲ་དབྱངས་བརྙན་མཐོང་།', 'https://tb.xzxw.com/ysppd/'),\n",
       " ('པར་མཛོད།', 'https://tb.xzxw.com/tkpd/'),\n",
       " ('ཆེད་སྒྲིག', 'https://tb.xzxw.com/zt/')]"
      ]
     },
     "execution_count": 3,
     "metadata": {},
     "output_type": "execute_result"
    }
   ],
   "source": [
    "all_categories"
   ]
  },
  {
   "cell_type": "code",
   "execution_count": 6,
   "id": "e68c29a1-3f1c-40af-b025-3bbeec98745b",
   "metadata": {},
   "outputs": [],
   "source": [
    "def get_content(url):\n",
    "    \"\"\"\n",
    "    \n",
    "    \"\"\"\n",
    "\n",
    "    headers = {\n",
    "        'User-Agent': 'Mozilla/5.0 (Windows NT 10.0; Win64; x64) AppleWebKit/537.36 (KHTML, like Gecko) Chrome/91.0.4472.124 Safari/537.36'\n",
    "    }\n",
    "    try:\n",
    "        # Make the request to the URL\n",
    "        response = requests.get(url, headers=headers)\n",
    "        response.raise_for_status()\n",
    "        \n",
    "        # Parse the page content with BeautifulSoup\n",
    "        soup = BeautifulSoup(response.content, 'html.parser')\n",
    "        # each_sub_cata = soup.find(\"div\", style=\"background-color: rgba(243, 243, 243, 0); height: auto; line-height: 2; text-align: center;\")\n",
    "        \n",
    "        # Find all 'a' tags within the div\n",
    "        pd_nav = soup.find('div', class_=\"pd_nav\")\n",
    "        if pd_nav:\n",
    "            link_box = pd_nav.find(\"ul\")\n",
    "            if link_box:\n",
    "                links = link_box.find_all('a')\n",
    "                # Extract and print the links and text\n",
    "                if links:\n",
    "                    all_new_link_text = []\n",
    "                    for link in links:\n",
    "                        href = link.get('href')\n",
    "                        text = link.get_text(strip=True)\n",
    "                        all_new_link_text.append([text, href])\n",
    "                    return all_new_link_text\n",
    "                    \n",
    "        return None\n",
    "          \n",
    "    except Exception as e:\n",
    "        print(e)\n",
    "\n"
   ]
  },
  {
   "cell_type": "code",
   "execution_count": 7,
   "id": "1e6e76f4-0d32-4c69-9b38-4e2c092855b9",
   "metadata": {},
   "outputs": [
    {
     "data": {
      "text/plain": [
       "[['སྐབས་དོན་ཆབ་སྲིད།', 'https://tb.xzxw.com/xw/node_25906.html'],\n",
       " ['དཔལ་འབྱོར།', 'https://tb.xzxw.com/xw/node_25907.html'],\n",
       " ['བརྙན་མཐོང་གསར་འགྱུར།', 'https://tb.xzxw.com/xw/node_25908.html'],\n",
       " ['བོད་སྐྱོར།', 'https://tb.xzxw.com/xw/node_25909.html'],\n",
       " ['མི་རིགས་མཐུན་སྒྲིལ།', 'https://tb.xzxw.com/xw/node_25910.html'],\n",
       " ['དམངས་འཚོ།', 'https://tb.xzxw.com/xw/node_25911.html'],\n",
       " ['བོད་འབྲེལ་གསར་འགྱུར།།', 'https://tb.xzxw.com/xw/node_25913.html'],\n",
       " ['རྒྱལ་ནང་།རྒྱལ་སྤྱི།', 'https://tb.xzxw.com/xw/node_25914.html'],\n",
       " ['གསར་འགྱུར་པར་མཛོད།', 'https://tb.xzxw.com/xw/node_25915.html']]"
      ]
     },
     "execution_count": 7,
     "metadata": {},
     "output_type": "execute_result"
    }
   ],
   "source": [
    "get_content(\"https://tb.xzxw.com/xw/index.html\")"
   ]
  },
  {
   "cell_type": "markdown",
   "id": "87a07a09-7113-480a-9796-ae6e2edbd0c4",
   "metadata": {},
   "source": [
    "## extract sub categories"
   ]
  },
  {
   "cell_type": "code",
   "execution_count": 8,
   "id": "b068eaa0-b71f-476c-98e2-623ddbd94a29",
   "metadata": {},
   "outputs": [
    {
     "name": "stdout",
     "output_type": "stream",
     "text": [
      "('སྲིད་དོན།', 'https://tb.xzxw.com/zw/index.html')\n",
      "[['སྲིད་དོན་གསར་འགྱུར།', 'https://tb.xzxw.com/zw/node_25917.html'], ['སྲིད་གཞུང་སྤྱི་བསྒྲགས།', 'https://tb.xzxw.com/zw/node_25918.html'], ['འགོ་ཁྲིད་བྱེད་སྒོ།', 'https://tb.xzxw.com/zw/node_25919.html'], ['སྲིད་གཞུང་ཡིག་ཆ།', 'https://tb.xzxw.com/zw/node_25920.html'], ['སྲིད་ཇུས་གསལ་འགྲེལ།', 'https://tb.xzxw.com/zw/node_25921.html'], ['ཏང་སྲིད་སྒྲིག་གཞི།', 'https://tb.xzxw.com/zw/node_25922.html'], ['མི་དོན་བསྐོ་འཐེན།', 'https://tb.xzxw.com/zw/node_25923.html'], ['རྒྱབ་ཤ་དཀར་པོའི་དེབ།', 'https://tb.xzxw.com/zw/node_25924.html']]\n",
      "('ཞིང་འབྲོག་གསར་པ།', 'https://tb.xzxw.com/nmtd/index.html')\n",
      "[['དམངས་ཕན་སྲིད་ཇུས།', 'https://tb.xzxw.com/nmtd/node_25926.html'], ['གྲོང་གསེབ་གསར་པ་འཛུགས་སྐྲུན།', 'https://tb.xzxw.com/nmtd/node_25927.html'], ['ཕྱུག་འགྱུར་ལམ་བུ།', 'https://tb.xzxw.com/nmtd/node_25928.html'], ['ལས་མིའི་ལྡུམ་རྭ།', 'https://tb.xzxw.com/nmtd/node_25929.html'], ['ཞིང་འབྲོག་ཤེས་བྱ།', 'https://tb.xzxw.com/nmtd/node_25934.html'], ['ཁྱད་ལྡན་ཐོན་ཟོག', 'https://tb.xzxw.com/nmtd/node_25935.html']]\n",
      "('ཁྲིམས་ལུགས།', 'https://tb.xzxw.com/fz/index.html')\n",
      "[['ཁྲིམས་ལུགས་གསར་འགྱུར།', 'https://tb.xzxw.com/fz/node_25937.html'], ['བརྟན་ལྷིང་གསེར་ཕུབ།', 'https://tb.xzxw.com/fz/node_25938.html'], ['བཅའ་ཁྲིམས་བློ་འདྲི།', 'https://tb.xzxw.com/fz/node_25939.html'], ['ཁྲིམས་དང་སྤྱི་ཚོགས།', 'https://tb.xzxw.com/fz/node_25942.html'], ['ཞི་མཐུན་ས་མཐོ།', 'https://tb.xzxw.com/fz/node_25943.html'], ['བཅའ་ཁྲིམས་རྒྱུན་ཤེས།', 'https://tb.xzxw.com/fz/node_25944.html'], ['ཁྲིམས་སྐྱོང་དོ་རྭ།', 'https://tb.xzxw.com/fz/node_25945.html']]\n",
      "('ཚན་སློབ་འཕྲོད་བསྟེན།', 'https://tb.xzxw.com/kjws/index.html')\n",
      "[['སློབ་གསོའི་གསར་འགྱུར།', 'https://tb.xzxw.com/kjws/node_25952.html'], ['འཕྲོད་བསྟེན་གསར་འགྱུར།', 'https://tb.xzxw.com/kjws/node_25953.html'], ['ཚན་རྩལ་གསར་འགྱུར།', 'https://tb.xzxw.com/kjws/node_25954.html'], ['ཚན་རྩལ་ཁྱབ་གདལ།', 'https://tb.xzxw.com/kjws/node_25955.html'], ['ལུས་ཁམས་འཕྲོད་སྦྱོར།', 'https://tb.xzxw.com/kjws/node_25960.html'], ['སྤྱི་ཕན་བྱེད་སྒོ།', 'https://tb.xzxw.com/kjws/node_25961.html'], ['སློབ་གསོའི་ལྡུམ་རྭ།', 'https://tb.xzxw.com/kjws/node_25962.html'], ['སློབ་གྲྭའི་པར་རིས།', 'https://tb.xzxw.com/kjws/node_25967.html']]\n",
      "('བོད་ཀྱི་རིག་གནས།', 'https://tb.xzxw.com/wxys/index.html')\n",
      "[['བོད་ལྗོངས་སྒྱུ་རྩལ།', 'https://tb.xzxw.com/wxys/node_25972.html'], ['བོད་ཀྱི་རྩོམ་རིག', 'https://tb.xzxw.com/wxys/node_25973.html'], ['མངོན་མིན་རིག་གནས་ཤུལ་བཞག', 'https://tb.xzxw.com/wxys/node_25975.html'], ['མི་སྣ།', 'https://tb.xzxw.com/wxys/node_25980.html'], ['བོད་རིག་པ།', 'https://tb.xzxw.com/wxys/node_32402.html'], ['བརྩམས་ཆོས་ལྟ་ཀློག', '.https://tb.xzxw.com/wxys/node_25974.html']]\n",
      "('སྣོད་བཅུད་དང་ཡུལ་སྐོར།', 'https://tb.xzxw.com/stly/index.html')\n",
      "[['བོད་ལྗོངས་སྣོད་བཅུད།', 'https://tb.xzxw.com/stly/node_26032.html'], ['ཁོར་ཡུག་སྲུང་སྐྱོང་།', 'https://tb.xzxw.com/stly/node_26033.html'], ['བོད་ལྗོངས་ཡུལ་སྐོར།', 'https://tb.xzxw.com/stly/node_26034.html'], ['ཡུལ་སྐོར་ཕྱོགས་སྟོན།', 'https://tb.xzxw.com/stly/node_26035.html'], ['ལྗོངས་ཕྱིའི་ཡུལ་སྐོར།', 'https://tb.xzxw.com/stly/node_26040.html'], ['བདག་གི་ཡུལ་སྐོར་མཐོང་ཐོས།', 'https://tb.xzxw.com/stly/node_26041.html']]\n",
      "('འཛམ་གླིང་རྒྱང་ལྟ།', 'https://tb.xzxw.com/fysj/index.html')\n",
      "[['དུས་ཐོག་གསར་འགྱུར།', 'https://tb.xzxw.com/fysj/node_26043.html'], ['འཛམ་གླིང་རྒྱལ་ཁབ་དང་ས་ཁུལ།', 'https://tb.xzxw.com/fysj/node_26044.html'], ['གོ་ལ་ཧྲིལ་པོར་ལྟ་བ།', 'https://tb.xzxw.com/fysj/node_26048.html'], ['འཛམ་གླིང་གིས་བོད་ལ་ལྟ་བ།', 'https://tb.xzxw.com/fysj/node_26049.html'], ['འཛམ་གླིང་གྲགས་ཅན་མཛེས་ལྗོངས།', 'https://tb.xzxw.com/fysj/node_26045.html']]\n",
      "('སྒྲ་དབྱངས་བརྙན་མཐོང་།', 'https://tb.xzxw.com/ysppd/')\n",
      "[['བརྙན་ཐུང་།', 'https://tb.xzxw.com/ysppd/node_26056.html'], ['བོད་གཞས།', 'https://tb.xzxw.com/ysppd/node_26052.html '], ['རིག་གནས།', 'https://tb.xzxw.com/ysppd/node_26053.html'], ['བོད་ལྗོངས་པར་རིས།', 'https://tb.xzxw.com/tkpd/node_26058.html'], ['པར་མཁན།', 'https://tb.xzxw.com/tkpd/node_26059.html']]\n",
      "('པར་མཛོད།', 'https://tb.xzxw.com/tkpd/')\n",
      "[['བརྙན་ཐུང་།', 'https://tb.xzxw.com/ysppd/node_26056.html'], ['བོད་གཞས།', 'https://tb.xzxw.com/ysppd/node_26052.html '], ['རིག་གནས།', 'https://tb.xzxw.com/ysppd/node_26053.html'], ['བོད་ལྗོངས་པར་རིས།', 'https://tb.xzxw.com/tkpd/node_26058.html'], ['པར་མཁན།', 'https://tb.xzxw.com/tkpd/node_26059.html']]\n",
      "('ཆེད་སྒྲིག', 'https://tb.xzxw.com/zt/')\n"
     ]
    }
   ],
   "source": [
    "i = 0\n",
    "new_categories = []\n",
    "\n",
    "\n",
    "for each_link in all_categories[1:]:\n",
    "    print(each_link)\n",
    "    link = each_link[1]\n",
    "    other_content = get_content(link)\n",
    "    if other_content:\n",
    "        print(other_content)\n",
    "        new_categories.extend(other_content)\n",
    "    else:\n",
    "        new_categories.append(each_link)"
   ]
  },
  {
   "cell_type": "code",
   "execution_count": null,
   "id": "1879b76e-568c-4cee-8b18-b3661268882e",
   "metadata": {},
   "outputs": [],
   "source": []
  },
  {
   "cell_type": "code",
   "execution_count": 9,
   "id": "af1b54d4-b489-4ea6-9326-65fdeef26613",
   "metadata": {},
   "outputs": [
    {
     "data": {
      "text/plain": [
       "[['སྲིད་དོན་གསར་འགྱུར།', 'https://tb.xzxw.com/zw/node_25917.html'],\n",
       " ['སྲིད་གཞུང་སྤྱི་བསྒྲགས།', 'https://tb.xzxw.com/zw/node_25918.html'],\n",
       " ['འགོ་ཁྲིད་བྱེད་སྒོ།', 'https://tb.xzxw.com/zw/node_25919.html'],\n",
       " ['སྲིད་གཞུང་ཡིག་ཆ།', 'https://tb.xzxw.com/zw/node_25920.html'],\n",
       " ['སྲིད་ཇུས་གསལ་འགྲེལ།', 'https://tb.xzxw.com/zw/node_25921.html'],\n",
       " ['ཏང་སྲིད་སྒྲིག་གཞི།', 'https://tb.xzxw.com/zw/node_25922.html'],\n",
       " ['མི་དོན་བསྐོ་འཐེན།', 'https://tb.xzxw.com/zw/node_25923.html'],\n",
       " ['རྒྱབ་ཤ་དཀར་པོའི་དེབ།', 'https://tb.xzxw.com/zw/node_25924.html'],\n",
       " ['དམངས་ཕན་སྲིད་ཇུས།', 'https://tb.xzxw.com/nmtd/node_25926.html'],\n",
       " ['གྲོང་གསེབ་གསར་པ་འཛུགས་སྐྲུན།', 'https://tb.xzxw.com/nmtd/node_25927.html'],\n",
       " ['ཕྱུག་འགྱུར་ལམ་བུ།', 'https://tb.xzxw.com/nmtd/node_25928.html'],\n",
       " ['ལས་མིའི་ལྡུམ་རྭ།', 'https://tb.xzxw.com/nmtd/node_25929.html'],\n",
       " ['ཞིང་འབྲོག་ཤེས་བྱ།', 'https://tb.xzxw.com/nmtd/node_25934.html'],\n",
       " ['ཁྱད་ལྡན་ཐོན་ཟོག', 'https://tb.xzxw.com/nmtd/node_25935.html'],\n",
       " ['ཁྲིམས་ལུགས་གསར་འགྱུར།', 'https://tb.xzxw.com/fz/node_25937.html'],\n",
       " ['བརྟན་ལྷིང་གསེར་ཕུབ།', 'https://tb.xzxw.com/fz/node_25938.html'],\n",
       " ['བཅའ་ཁྲིམས་བློ་འདྲི།', 'https://tb.xzxw.com/fz/node_25939.html'],\n",
       " ['ཁྲིམས་དང་སྤྱི་ཚོགས།', 'https://tb.xzxw.com/fz/node_25942.html'],\n",
       " ['ཞི་མཐུན་ས་མཐོ།', 'https://tb.xzxw.com/fz/node_25943.html'],\n",
       " ['བཅའ་ཁྲིམས་རྒྱུན་ཤེས།', 'https://tb.xzxw.com/fz/node_25944.html'],\n",
       " ['ཁྲིམས་སྐྱོང་དོ་རྭ།', 'https://tb.xzxw.com/fz/node_25945.html'],\n",
       " ['སློབ་གསོའི་གསར་འགྱུར།', 'https://tb.xzxw.com/kjws/node_25952.html'],\n",
       " ['འཕྲོད་བསྟེན་གསར་འགྱུར།', 'https://tb.xzxw.com/kjws/node_25953.html'],\n",
       " ['ཚན་རྩལ་གསར་འགྱུར།', 'https://tb.xzxw.com/kjws/node_25954.html'],\n",
       " ['ཚན་རྩལ་ཁྱབ་གདལ།', 'https://tb.xzxw.com/kjws/node_25955.html'],\n",
       " ['ལུས་ཁམས་འཕྲོད་སྦྱོར།', 'https://tb.xzxw.com/kjws/node_25960.html'],\n",
       " ['སྤྱི་ཕན་བྱེད་སྒོ།', 'https://tb.xzxw.com/kjws/node_25961.html'],\n",
       " ['སློབ་གསོའི་ལྡུམ་རྭ།', 'https://tb.xzxw.com/kjws/node_25962.html'],\n",
       " ['སློབ་གྲྭའི་པར་རིས།', 'https://tb.xzxw.com/kjws/node_25967.html'],\n",
       " ['བོད་ལྗོངས་སྒྱུ་རྩལ།', 'https://tb.xzxw.com/wxys/node_25972.html'],\n",
       " ['བོད་ཀྱི་རྩོམ་རིག', 'https://tb.xzxw.com/wxys/node_25973.html'],\n",
       " ['མངོན་མིན་རིག་གནས་ཤུལ་བཞག', 'https://tb.xzxw.com/wxys/node_25975.html'],\n",
       " ['མི་སྣ།', 'https://tb.xzxw.com/wxys/node_25980.html'],\n",
       " ['བོད་རིག་པ།', 'https://tb.xzxw.com/wxys/node_32402.html'],\n",
       " ['བརྩམས་ཆོས་ལྟ་ཀློག', '.https://tb.xzxw.com/wxys/node_25974.html'],\n",
       " ['བོད་ལྗོངས་སྣོད་བཅུད།', 'https://tb.xzxw.com/stly/node_26032.html'],\n",
       " ['ཁོར་ཡུག་སྲུང་སྐྱོང་།', 'https://tb.xzxw.com/stly/node_26033.html'],\n",
       " ['བོད་ལྗོངས་ཡུལ་སྐོར།', 'https://tb.xzxw.com/stly/node_26034.html'],\n",
       " ['ཡུལ་སྐོར་ཕྱོགས་སྟོན།', 'https://tb.xzxw.com/stly/node_26035.html'],\n",
       " ['ལྗོངས་ཕྱིའི་ཡུལ་སྐོར།', 'https://tb.xzxw.com/stly/node_26040.html'],\n",
       " ['བདག་གི་ཡུལ་སྐོར་མཐོང་ཐོས།', 'https://tb.xzxw.com/stly/node_26041.html'],\n",
       " ['དུས་ཐོག་གསར་འགྱུར།', 'https://tb.xzxw.com/fysj/node_26043.html'],\n",
       " ['འཛམ་གླིང་རྒྱལ་ཁབ་དང་ས་ཁུལ།', 'https://tb.xzxw.com/fysj/node_26044.html'],\n",
       " ['གོ་ལ་ཧྲིལ་པོར་ལྟ་བ།', 'https://tb.xzxw.com/fysj/node_26048.html'],\n",
       " ['འཛམ་གླིང་གིས་བོད་ལ་ལྟ་བ།', 'https://tb.xzxw.com/fysj/node_26049.html'],\n",
       " ['འཛམ་གླིང་གྲགས་ཅན་མཛེས་ལྗོངས།', 'https://tb.xzxw.com/fysj/node_26045.html'],\n",
       " ['བརྙན་ཐུང་།', 'https://tb.xzxw.com/ysppd/node_26056.html'],\n",
       " ['བོད་གཞས།', 'https://tb.xzxw.com/ysppd/node_26052.html '],\n",
       " ['རིག་གནས།', 'https://tb.xzxw.com/ysppd/node_26053.html'],\n",
       " ['བོད་ལྗོངས་པར་རིས།', 'https://tb.xzxw.com/tkpd/node_26058.html'],\n",
       " ['པར་མཁན།', 'https://tb.xzxw.com/tkpd/node_26059.html'],\n",
       " ['བརྙན་ཐུང་།', 'https://tb.xzxw.com/ysppd/node_26056.html'],\n",
       " ['བོད་གཞས།', 'https://tb.xzxw.com/ysppd/node_26052.html '],\n",
       " ['རིག་གནས།', 'https://tb.xzxw.com/ysppd/node_26053.html'],\n",
       " ['བོད་ལྗོངས་པར་རིས།', 'https://tb.xzxw.com/tkpd/node_26058.html'],\n",
       " ['པར་མཁན།', 'https://tb.xzxw.com/tkpd/node_26059.html'],\n",
       " ('ཆེད་སྒྲིག', 'https://tb.xzxw.com/zt/')]"
      ]
     },
     "execution_count": 9,
     "metadata": {},
     "output_type": "execute_result"
    }
   ],
   "source": [
    "(new_categories)"
   ]
  },
  {
   "cell_type": "code",
   "execution_count": 10,
   "id": "8a0f12c6-5862-433e-851e-d1ad1151762e",
   "metadata": {},
   "outputs": [
    {
     "data": {
      "text/plain": [
       "57"
      ]
     },
     "execution_count": 10,
     "metadata": {},
     "output_type": "execute_result"
    }
   ],
   "source": [
    "len(new_categories)"
   ]
  },
  {
   "cell_type": "markdown",
   "id": "6ea4605f-dc18-414d-856f-49fbd809d952",
   "metadata": {},
   "source": [
    "### cleaning the human error "
   ]
  },
  {
   "cell_type": "code",
   "execution_count": 19,
   "id": "d6e03d7a-e0e9-4750-93f7-98b84bdd6042",
   "metadata": {},
   "outputs": [
    {
     "data": {
      "text/plain": [
       "56"
      ]
     },
     "execution_count": 19,
     "metadata": {},
     "output_type": "execute_result"
    }
   ],
   "source": [
    "new_categories.remove(['བརྩམས་ཆོས་ལྟ་ཀློག', '.https://tb.xzxw.com/wxys/node_25974.html'])\n",
    "len(new_categories)"
   ]
  },
  {
   "cell_type": "code",
   "execution_count": 21,
   "id": "7e2c4f48-f9ca-4047-9a90-46993949b9f8",
   "metadata": {},
   "outputs": [
    {
     "data": {
      "text/plain": [
       "57"
      ]
     },
     "execution_count": 21,
     "metadata": {},
     "output_type": "execute_result"
    }
   ],
   "source": [
    "new_categories.append(['བརྩམས་ཆོས་ལྟ་ཀློག', 'https://tb.xzxw.com/wxys/node_25974.html'])\n",
    "len(new_categories)"
   ]
  },
  {
   "cell_type": "markdown",
   "id": "748060f9-8f9d-4c1d-97a1-b6b66cf79fe5",
   "metadata": {},
   "source": [
    "## Extarct each categories page number"
   ]
  },
  {
   "cell_type": "code",
   "execution_count": 22,
   "id": "bdf84d27-ff81-48dc-aaed-fc7e255fc468",
   "metadata": {},
   "outputs": [],
   "source": [
    "def get_page_no(url):\n",
    "    \"\"\"\n",
    "    \n",
    "    \"\"\"\n",
    "\n",
    "    headers = {\n",
    "        'User-Agent': 'Mozilla/5.0 (Windows NT 10.0; Win64; x64) AppleWebKit/537.36 (KHTML, like Gecko) Chrome/91.0.4472.124 Safari/537.36'\n",
    "    }\n",
    "    try:\n",
    "        # Make the request to the URL\n",
    "        response = requests.get(url, headers=headers)\n",
    "        response.raise_for_status()\n",
    "        \n",
    "        # Parse the page content with BeautifulSoup\n",
    "        soup = BeautifulSoup(response.content, 'html.parser')\n",
    "        page_content = soup.find(\"div\", class_=\"sj_left_list\")\n",
    "        if page_content:\n",
    "            page_ul = page_content.find(\"ul\", class_=\"pages\")\n",
    "            if page_ul:\n",
    "                all_page_link = page_ul.find_all(\"a\")\n",
    "                if all_page_link:\n",
    "                    last_page_no = all_page_link[-2].get_text(strip=True)\n",
    "                    return [all_page_link[-2], int(last_page_no)]\n",
    "                    \n",
    "        return [\"no link last page link\" , 0]\n",
    "    except Exception as e:\n",
    "        print(e)\n",
    "        print(url, \"\\n\\n\")\n",
    "        return [\"no link last page link\" , 0]\n"
   ]
  },
  {
   "cell_type": "code",
   "execution_count": 23,
   "id": "eabf2fc9-3f11-4ec8-ac7a-38678c9f5197",
   "metadata": {},
   "outputs": [
    {
     "data": {
      "text/plain": [
       "[<a href=\"https://tb.xzxw.com/xw/node_25915_30.html\">30</a>, 30]"
      ]
     },
     "execution_count": 23,
     "metadata": {},
     "output_type": "execute_result"
    }
   ],
   "source": [
    "url = \"https://tb.xzxw.com/xw/node_25915.html\"\n",
    "# url = \"https://ti.zangdiyg.com/category/index/id/134/p/2.html\"\n",
    "\n",
    "get_page_no(url)\n"
   ]
  },
  {
   "cell_type": "code",
   "execution_count": null,
   "id": "9df2802d-7053-46c1-9974-f593018ecf1d",
   "metadata": {},
   "outputs": [],
   "source": []
  },
  {
   "cell_type": "code",
   "execution_count": null,
   "id": "94601585-67c3-4c97-9638-9b132ad263a3",
   "metadata": {},
   "outputs": [],
   "source": []
  },
  {
   "cell_type": "code",
   "execution_count": 24,
   "id": "029a9b6f-1b97-493b-8501-87bc3436f7ec",
   "metadata": {},
   "outputs": [
    {
     "name": "stdout",
     "output_type": "stream",
     "text": [
      "5\n",
      "10\n",
      "15\n",
      "20\n",
      "25\n",
      "30\n",
      "35\n",
      "['no link last page link', 0]\n",
      "40\n",
      "45\n",
      "404 Client Error: Not Found for url: https://tb.xzxw.com/ysppd/node_26052.html%20\n",
      "https://tb.xzxw.com/ysppd/node_26052.html  \n",
      "\n",
      "\n",
      "['no link last page link', 0]\n",
      "50\n",
      "404 Client Error: Not Found for url: https://tb.xzxw.com/ysppd/node_26052.html%20\n",
      "https://tb.xzxw.com/ysppd/node_26052.html  \n",
      "\n",
      "\n",
      "['no link last page link', 0]\n",
      "55\n",
      "['no link last page link', 0]\n"
     ]
    }
   ],
   "source": [
    "final_link = []\n",
    "i = 0\n",
    "for each_link in new_categories:\n",
    "    link = each_link[1]\n",
    "    page_no = get_page_no(link)\n",
    "    if \"no link last page link\" == page_no[0]:\n",
    "        print(page_no)\n",
    "        \n",
    "    clean_list = []\n",
    "    clean_list.extend(each_link)\n",
    "    clean_list.extend(page_no)\n",
    "    # print(clean_list)\n",
    "    final_link.append(clean_list)\n",
    "    i = i+1\n",
    "    if i%5 == 0:\n",
    "        print(i)\n"
   ]
  },
  {
   "cell_type": "code",
   "execution_count": 25,
   "id": "d9cb015a-793e-4c47-a5f8-827d6bbaf00b",
   "metadata": {},
   "outputs": [
    {
     "data": {
      "text/plain": [
       "[['སྲིད་དོན་གསར་འགྱུར།',\n",
       "  'https://tb.xzxw.com/zw/node_25917.html',\n",
       "  <a href=\"https://tb.xzxw.com/zw/node_25917_30.html\">30</a>,\n",
       "  30],\n",
       " ['སྲིད་གཞུང་སྤྱི་བསྒྲགས།',\n",
       "  'https://tb.xzxw.com/zw/node_25918.html',\n",
       "  <a href=\"https://tb.xzxw.com/zw/node_25918_30.html\">30</a>,\n",
       "  30],\n",
       " ['འགོ་ཁྲིད་བྱེད་སྒོ།',\n",
       "  'https://tb.xzxw.com/zw/node_25919.html',\n",
       "  <a href=\"https://tb.xzxw.com/zw/node_25919_30.html\">30</a>,\n",
       "  30],\n",
       " ['སྲིད་གཞུང་ཡིག་ཆ།',\n",
       "  'https://tb.xzxw.com/zw/node_25920.html',\n",
       "  <a href=\"https://tb.xzxw.com/zw/node_25920_30.html\">30</a>,\n",
       "  30],\n",
       " ['སྲིད་ཇུས་གསལ་འགྲེལ།',\n",
       "  'https://tb.xzxw.com/zw/node_25921.html',\n",
       "  <a href=\"https://tb.xzxw.com/zw/node_25921_30.html\">30</a>,\n",
       "  30]]"
      ]
     },
     "execution_count": 25,
     "metadata": {},
     "output_type": "execute_result"
    }
   ],
   "source": [
    "final_link[:5]"
   ]
  },
  {
   "cell_type": "code",
   "execution_count": null,
   "id": "99eaa940-3e9f-4242-8fb4-5eddf762c916",
   "metadata": {},
   "outputs": [],
   "source": []
  },
  {
   "cell_type": "code",
   "execution_count": null,
   "id": "9186ec04-6952-4676-8fb1-e50963392fb9",
   "metadata": {},
   "outputs": [],
   "source": []
  },
  {
   "cell_type": "markdown",
   "id": "bc6fd405-fb81-4fcf-9f1e-562c13bbe227",
   "metadata": {},
   "source": [
    "## saving the final file"
   ]
  },
  {
   "cell_type": "code",
   "execution_count": 26,
   "id": "b3cd8de9-dce3-43d4-9bf1-5fe4f55316df",
   "metadata": {},
   "outputs": [],
   "source": [
    "import pandas as pd"
   ]
  },
  {
   "cell_type": "code",
   "execution_count": null,
   "id": "205aca67-bffb-442f-88d4-7b85f7943a9f",
   "metadata": {},
   "outputs": [],
   "source": []
  },
  {
   "cell_type": "code",
   "execution_count": 27,
   "id": "2fa6a92b-8907-4222-b860-e5275ef8759f",
   "metadata": {},
   "outputs": [
    {
     "data": {
      "text/html": [
       "<div>\n",
       "<style scoped>\n",
       "    .dataframe tbody tr th:only-of-type {\n",
       "        vertical-align: middle;\n",
       "    }\n",
       "\n",
       "    .dataframe tbody tr th {\n",
       "        vertical-align: top;\n",
       "    }\n",
       "\n",
       "    .dataframe thead th {\n",
       "        text-align: right;\n",
       "    }\n",
       "</style>\n",
       "<table border=\"1\" class=\"dataframe\">\n",
       "  <thead>\n",
       "    <tr style=\"text-align: right;\">\n",
       "      <th></th>\n",
       "      <th>name_of_cate</th>\n",
       "      <th>original_url</th>\n",
       "      <th>Last_page_link</th>\n",
       "      <th>list_page_no</th>\n",
       "    </tr>\n",
       "  </thead>\n",
       "  <tbody>\n",
       "    <tr>\n",
       "      <th>0</th>\n",
       "      <td>སྲིད་དོན་གསར་འགྱུར།</td>\n",
       "      <td>https://tb.xzxw.com/zw/node_25917.html</td>\n",
       "      <td>[30]</td>\n",
       "      <td>30</td>\n",
       "    </tr>\n",
       "    <tr>\n",
       "      <th>1</th>\n",
       "      <td>སྲིད་གཞུང་སྤྱི་བསྒྲགས།</td>\n",
       "      <td>https://tb.xzxw.com/zw/node_25918.html</td>\n",
       "      <td>[30]</td>\n",
       "      <td>30</td>\n",
       "    </tr>\n",
       "    <tr>\n",
       "      <th>2</th>\n",
       "      <td>འགོ་ཁྲིད་བྱེད་སྒོ།</td>\n",
       "      <td>https://tb.xzxw.com/zw/node_25919.html</td>\n",
       "      <td>[30]</td>\n",
       "      <td>30</td>\n",
       "    </tr>\n",
       "    <tr>\n",
       "      <th>3</th>\n",
       "      <td>སྲིད་གཞུང་ཡིག་ཆ།</td>\n",
       "      <td>https://tb.xzxw.com/zw/node_25920.html</td>\n",
       "      <td>[30]</td>\n",
       "      <td>30</td>\n",
       "    </tr>\n",
       "    <tr>\n",
       "      <th>4</th>\n",
       "      <td>སྲིད་ཇུས་གསལ་འགྲེལ།</td>\n",
       "      <td>https://tb.xzxw.com/zw/node_25921.html</td>\n",
       "      <td>[30]</td>\n",
       "      <td>30</td>\n",
       "    </tr>\n",
       "  </tbody>\n",
       "</table>\n",
       "</div>"
      ],
      "text/plain": [
       "             name_of_cate                            original_url  \\\n",
       "0     སྲིད་དོན་གསར་འགྱུར།  https://tb.xzxw.com/zw/node_25917.html   \n",
       "1  སྲིད་གཞུང་སྤྱི་བསྒྲགས།  https://tb.xzxw.com/zw/node_25918.html   \n",
       "2      འགོ་ཁྲིད་བྱེད་སྒོ།  https://tb.xzxw.com/zw/node_25919.html   \n",
       "3        སྲིད་གཞུང་ཡིག་ཆ།  https://tb.xzxw.com/zw/node_25920.html   \n",
       "4     སྲིད་ཇུས་གསལ་འགྲེལ།  https://tb.xzxw.com/zw/node_25921.html   \n",
       "\n",
       "  Last_page_link  list_page_no  \n",
       "0           [30]            30  \n",
       "1           [30]            30  \n",
       "2           [30]            30  \n",
       "3           [30]            30  \n",
       "4           [30]            30  "
      ]
     },
     "execution_count": 27,
     "metadata": {},
     "output_type": "execute_result"
    }
   ],
   "source": [
    "df = pd.DataFrame(final_link, columns=['name_of_cate', 'original_url', 'Last_page_link', 'list_page_no'])\n",
    "df.head()"
   ]
  },
  {
   "cell_type": "code",
   "execution_count": 28,
   "id": "53b3fcfa-ac75-4393-a6d6-ba7fdac59f70",
   "metadata": {},
   "outputs": [
    {
     "data": {
      "text/html": [
       "<div>\n",
       "<style scoped>\n",
       "    .dataframe tbody tr th:only-of-type {\n",
       "        vertical-align: middle;\n",
       "    }\n",
       "\n",
       "    .dataframe tbody tr th {\n",
       "        vertical-align: top;\n",
       "    }\n",
       "\n",
       "    .dataframe thead th {\n",
       "        text-align: right;\n",
       "    }\n",
       "</style>\n",
       "<table border=\"1\" class=\"dataframe\">\n",
       "  <thead>\n",
       "    <tr style=\"text-align: right;\">\n",
       "      <th></th>\n",
       "      <th>name_of_cate</th>\n",
       "      <th>original_url</th>\n",
       "      <th>Last_page_link</th>\n",
       "      <th>list_page_no</th>\n",
       "    </tr>\n",
       "  </thead>\n",
       "  <tbody>\n",
       "    <tr>\n",
       "      <th>0</th>\n",
       "      <td>སྲིད་དོན་གསར་འགྱུར།</td>\n",
       "      <td>https://tb.xzxw.com/zw/node_25917.html</td>\n",
       "      <td>[30]</td>\n",
       "      <td>30</td>\n",
       "    </tr>\n",
       "    <tr>\n",
       "      <th>1</th>\n",
       "      <td>སྲིད་གཞུང་སྤྱི་བསྒྲགས།</td>\n",
       "      <td>https://tb.xzxw.com/zw/node_25918.html</td>\n",
       "      <td>[30]</td>\n",
       "      <td>30</td>\n",
       "    </tr>\n",
       "    <tr>\n",
       "      <th>2</th>\n",
       "      <td>འགོ་ཁྲིད་བྱེད་སྒོ།</td>\n",
       "      <td>https://tb.xzxw.com/zw/node_25919.html</td>\n",
       "      <td>[30]</td>\n",
       "      <td>30</td>\n",
       "    </tr>\n",
       "    <tr>\n",
       "      <th>3</th>\n",
       "      <td>སྲིད་གཞུང་ཡིག་ཆ།</td>\n",
       "      <td>https://tb.xzxw.com/zw/node_25920.html</td>\n",
       "      <td>[30]</td>\n",
       "      <td>30</td>\n",
       "    </tr>\n",
       "    <tr>\n",
       "      <th>4</th>\n",
       "      <td>སྲིད་ཇུས་གསལ་འགྲེལ།</td>\n",
       "      <td>https://tb.xzxw.com/zw/node_25921.html</td>\n",
       "      <td>[30]</td>\n",
       "      <td>30</td>\n",
       "    </tr>\n",
       "    <tr>\n",
       "      <th>5</th>\n",
       "      <td>ཏང་སྲིད་སྒྲིག་གཞི།</td>\n",
       "      <td>https://tb.xzxw.com/zw/node_25922.html</td>\n",
       "      <td>[17]</td>\n",
       "      <td>17</td>\n",
       "    </tr>\n",
       "    <tr>\n",
       "      <th>6</th>\n",
       "      <td>མི་དོན་བསྐོ་འཐེན།</td>\n",
       "      <td>https://tb.xzxw.com/zw/node_25923.html</td>\n",
       "      <td>[17]</td>\n",
       "      <td>17</td>\n",
       "    </tr>\n",
       "    <tr>\n",
       "      <th>7</th>\n",
       "      <td>རྒྱབ་ཤ་དཀར་པོའི་དེབ།</td>\n",
       "      <td>https://tb.xzxw.com/zw/node_25924.html</td>\n",
       "      <td>[4]</td>\n",
       "      <td>4</td>\n",
       "    </tr>\n",
       "    <tr>\n",
       "      <th>8</th>\n",
       "      <td>དམངས་ཕན་སྲིད་ཇུས།</td>\n",
       "      <td>https://tb.xzxw.com/nmtd/node_25926.html</td>\n",
       "      <td>[18]</td>\n",
       "      <td>18</td>\n",
       "    </tr>\n",
       "    <tr>\n",
       "      <th>9</th>\n",
       "      <td>གྲོང་གསེབ་གསར་པ་འཛུགས་སྐྲུན།</td>\n",
       "      <td>https://tb.xzxw.com/nmtd/node_25927.html</td>\n",
       "      <td>[30]</td>\n",
       "      <td>30</td>\n",
       "    </tr>\n",
       "    <tr>\n",
       "      <th>10</th>\n",
       "      <td>ཕྱུག་འགྱུར་ལམ་བུ།</td>\n",
       "      <td>https://tb.xzxw.com/nmtd/node_25928.html</td>\n",
       "      <td>[30]</td>\n",
       "      <td>30</td>\n",
       "    </tr>\n",
       "    <tr>\n",
       "      <th>11</th>\n",
       "      <td>ལས་མིའི་ལྡུམ་རྭ།</td>\n",
       "      <td>https://tb.xzxw.com/nmtd/node_25929.html</td>\n",
       "      <td>[5]</td>\n",
       "      <td>5</td>\n",
       "    </tr>\n",
       "    <tr>\n",
       "      <th>12</th>\n",
       "      <td>ཞིང་འབྲོག་ཤེས་བྱ།</td>\n",
       "      <td>https://tb.xzxw.com/nmtd/node_25934.html</td>\n",
       "      <td>[7]</td>\n",
       "      <td>7</td>\n",
       "    </tr>\n",
       "    <tr>\n",
       "      <th>13</th>\n",
       "      <td>ཁྱད་ལྡན་ཐོན་ཟོག</td>\n",
       "      <td>https://tb.xzxw.com/nmtd/node_25935.html</td>\n",
       "      <td>[18]</td>\n",
       "      <td>18</td>\n",
       "    </tr>\n",
       "    <tr>\n",
       "      <th>14</th>\n",
       "      <td>ཁྲིམས་ལུགས་གསར་འགྱུར།</td>\n",
       "      <td>https://tb.xzxw.com/fz/node_25937.html</td>\n",
       "      <td>[30]</td>\n",
       "      <td>30</td>\n",
       "    </tr>\n",
       "    <tr>\n",
       "      <th>15</th>\n",
       "      <td>བརྟན་ལྷིང་གསེར་ཕུབ།</td>\n",
       "      <td>https://tb.xzxw.com/fz/node_25938.html</td>\n",
       "      <td>[30]</td>\n",
       "      <td>30</td>\n",
       "    </tr>\n",
       "    <tr>\n",
       "      <th>16</th>\n",
       "      <td>བཅའ་ཁྲིམས་བློ་འདྲི།</td>\n",
       "      <td>https://tb.xzxw.com/fz/node_25939.html</td>\n",
       "      <td>[17]</td>\n",
       "      <td>17</td>\n",
       "    </tr>\n",
       "    <tr>\n",
       "      <th>17</th>\n",
       "      <td>ཁྲིམས་དང་སྤྱི་ཚོགས།</td>\n",
       "      <td>https://tb.xzxw.com/fz/node_25942.html</td>\n",
       "      <td>[30]</td>\n",
       "      <td>30</td>\n",
       "    </tr>\n",
       "    <tr>\n",
       "      <th>18</th>\n",
       "      <td>ཞི་མཐུན་ས་མཐོ།</td>\n",
       "      <td>https://tb.xzxw.com/fz/node_25943.html</td>\n",
       "      <td>[30]</td>\n",
       "      <td>30</td>\n",
       "    </tr>\n",
       "    <tr>\n",
       "      <th>19</th>\n",
       "      <td>བཅའ་ཁྲིམས་རྒྱུན་ཤེས།</td>\n",
       "      <td>https://tb.xzxw.com/fz/node_25944.html</td>\n",
       "      <td>[30]</td>\n",
       "      <td>30</td>\n",
       "    </tr>\n",
       "    <tr>\n",
       "      <th>20</th>\n",
       "      <td>ཁྲིམས་སྐྱོང་དོ་རྭ།</td>\n",
       "      <td>https://tb.xzxw.com/fz/node_25945.html</td>\n",
       "      <td>[30]</td>\n",
       "      <td>30</td>\n",
       "    </tr>\n",
       "    <tr>\n",
       "      <th>21</th>\n",
       "      <td>སློབ་གསོའི་གསར་འགྱུར།</td>\n",
       "      <td>https://tb.xzxw.com/kjws/node_25952.html</td>\n",
       "      <td>[30]</td>\n",
       "      <td>30</td>\n",
       "    </tr>\n",
       "    <tr>\n",
       "      <th>22</th>\n",
       "      <td>འཕྲོད་བསྟེན་གསར་འགྱུར།</td>\n",
       "      <td>https://tb.xzxw.com/kjws/node_25953.html</td>\n",
       "      <td>[30]</td>\n",
       "      <td>30</td>\n",
       "    </tr>\n",
       "    <tr>\n",
       "      <th>23</th>\n",
       "      <td>ཚན་རྩལ་གསར་འགྱུར།</td>\n",
       "      <td>https://tb.xzxw.com/kjws/node_25954.html</td>\n",
       "      <td>[30]</td>\n",
       "      <td>30</td>\n",
       "    </tr>\n",
       "    <tr>\n",
       "      <th>24</th>\n",
       "      <td>ཚན་རྩལ་ཁྱབ་གདལ།</td>\n",
       "      <td>https://tb.xzxw.com/kjws/node_25955.html</td>\n",
       "      <td>[5]</td>\n",
       "      <td>5</td>\n",
       "    </tr>\n",
       "    <tr>\n",
       "      <th>25</th>\n",
       "      <td>ལུས་ཁམས་འཕྲོད་སྦྱོར།</td>\n",
       "      <td>https://tb.xzxw.com/kjws/node_25960.html</td>\n",
       "      <td>[28]</td>\n",
       "      <td>28</td>\n",
       "    </tr>\n",
       "    <tr>\n",
       "      <th>26</th>\n",
       "      <td>སྤྱི་ཕན་བྱེད་སྒོ།</td>\n",
       "      <td>https://tb.xzxw.com/kjws/node_25961.html</td>\n",
       "      <td>[14]</td>\n",
       "      <td>14</td>\n",
       "    </tr>\n",
       "    <tr>\n",
       "      <th>27</th>\n",
       "      <td>སློབ་གསོའི་ལྡུམ་རྭ།</td>\n",
       "      <td>https://tb.xzxw.com/kjws/node_25962.html</td>\n",
       "      <td>[5]</td>\n",
       "      <td>5</td>\n",
       "    </tr>\n",
       "    <tr>\n",
       "      <th>28</th>\n",
       "      <td>སློབ་གྲྭའི་པར་རིས།</td>\n",
       "      <td>https://tb.xzxw.com/kjws/node_25967.html</td>\n",
       "      <td>[30]</td>\n",
       "      <td>30</td>\n",
       "    </tr>\n",
       "    <tr>\n",
       "      <th>29</th>\n",
       "      <td>བོད་ལྗོངས་སྒྱུ་རྩལ།</td>\n",
       "      <td>https://tb.xzxw.com/wxys/node_25972.html</td>\n",
       "      <td>[30]</td>\n",
       "      <td>30</td>\n",
       "    </tr>\n",
       "  </tbody>\n",
       "</table>\n",
       "</div>"
      ],
      "text/plain": [
       "                    name_of_cate                              original_url  \\\n",
       "0            སྲིད་དོན་གསར་འགྱུར།    https://tb.xzxw.com/zw/node_25917.html   \n",
       "1         སྲིད་གཞུང་སྤྱི་བསྒྲགས།    https://tb.xzxw.com/zw/node_25918.html   \n",
       "2             འགོ་ཁྲིད་བྱེད་སྒོ།    https://tb.xzxw.com/zw/node_25919.html   \n",
       "3               སྲིད་གཞུང་ཡིག་ཆ།    https://tb.xzxw.com/zw/node_25920.html   \n",
       "4            སྲིད་ཇུས་གསལ་འགྲེལ།    https://tb.xzxw.com/zw/node_25921.html   \n",
       "5             ཏང་སྲིད་སྒྲིག་གཞི།    https://tb.xzxw.com/zw/node_25922.html   \n",
       "6              མི་དོན་བསྐོ་འཐེན།    https://tb.xzxw.com/zw/node_25923.html   \n",
       "7           རྒྱབ་ཤ་དཀར་པོའི་དེབ།    https://tb.xzxw.com/zw/node_25924.html   \n",
       "8              དམངས་ཕན་སྲིད་ཇུས།  https://tb.xzxw.com/nmtd/node_25926.html   \n",
       "9   གྲོང་གསེབ་གསར་པ་འཛུགས་སྐྲུན།  https://tb.xzxw.com/nmtd/node_25927.html   \n",
       "10             ཕྱུག་འགྱུར་ལམ་བུ།  https://tb.xzxw.com/nmtd/node_25928.html   \n",
       "11              ལས་མིའི་ལྡུམ་རྭ།  https://tb.xzxw.com/nmtd/node_25929.html   \n",
       "12             ཞིང་འབྲོག་ཤེས་བྱ།  https://tb.xzxw.com/nmtd/node_25934.html   \n",
       "13               ཁྱད་ལྡན་ཐོན་ཟོག  https://tb.xzxw.com/nmtd/node_25935.html   \n",
       "14         ཁྲིམས་ལུགས་གསར་འགྱུར།    https://tb.xzxw.com/fz/node_25937.html   \n",
       "15           བརྟན་ལྷིང་གསེར་ཕུབ།    https://tb.xzxw.com/fz/node_25938.html   \n",
       "16           བཅའ་ཁྲིམས་བློ་འདྲི།    https://tb.xzxw.com/fz/node_25939.html   \n",
       "17           ཁྲིམས་དང་སྤྱི་ཚོགས།    https://tb.xzxw.com/fz/node_25942.html   \n",
       "18                ཞི་མཐུན་ས་མཐོ།    https://tb.xzxw.com/fz/node_25943.html   \n",
       "19          བཅའ་ཁྲིམས་རྒྱུན་ཤེས།    https://tb.xzxw.com/fz/node_25944.html   \n",
       "20            ཁྲིམས་སྐྱོང་དོ་རྭ།    https://tb.xzxw.com/fz/node_25945.html   \n",
       "21         སློབ་གསོའི་གསར་འགྱུར།  https://tb.xzxw.com/kjws/node_25952.html   \n",
       "22        འཕྲོད་བསྟེན་གསར་འགྱུར།  https://tb.xzxw.com/kjws/node_25953.html   \n",
       "23             ཚན་རྩལ་གསར་འགྱུར།  https://tb.xzxw.com/kjws/node_25954.html   \n",
       "24               ཚན་རྩལ་ཁྱབ་གདལ།  https://tb.xzxw.com/kjws/node_25955.html   \n",
       "25          ལུས་ཁམས་འཕྲོད་སྦྱོར།  https://tb.xzxw.com/kjws/node_25960.html   \n",
       "26             སྤྱི་ཕན་བྱེད་སྒོ།  https://tb.xzxw.com/kjws/node_25961.html   \n",
       "27           སློབ་གསོའི་ལྡུམ་རྭ།  https://tb.xzxw.com/kjws/node_25962.html   \n",
       "28            སློབ་གྲྭའི་པར་རིས།  https://tb.xzxw.com/kjws/node_25967.html   \n",
       "29           བོད་ལྗོངས་སྒྱུ་རྩལ།  https://tb.xzxw.com/wxys/node_25972.html   \n",
       "\n",
       "   Last_page_link  list_page_no  \n",
       "0            [30]            30  \n",
       "1            [30]            30  \n",
       "2            [30]            30  \n",
       "3            [30]            30  \n",
       "4            [30]            30  \n",
       "5            [17]            17  \n",
       "6            [17]            17  \n",
       "7             [4]             4  \n",
       "8            [18]            18  \n",
       "9            [30]            30  \n",
       "10           [30]            30  \n",
       "11            [5]             5  \n",
       "12            [7]             7  \n",
       "13           [18]            18  \n",
       "14           [30]            30  \n",
       "15           [30]            30  \n",
       "16           [17]            17  \n",
       "17           [30]            30  \n",
       "18           [30]            30  \n",
       "19           [30]            30  \n",
       "20           [30]            30  \n",
       "21           [30]            30  \n",
       "22           [30]            30  \n",
       "23           [30]            30  \n",
       "24            [5]             5  \n",
       "25           [28]            28  \n",
       "26           [14]            14  \n",
       "27            [5]             5  \n",
       "28           [30]            30  \n",
       "29           [30]            30  "
      ]
     },
     "execution_count": 28,
     "metadata": {},
     "output_type": "execute_result"
    }
   ],
   "source": [
    "df.head(30)"
   ]
  },
  {
   "cell_type": "code",
   "execution_count": 32,
   "id": "68f72689-7f0b-4301-9cb8-e71dc582f3a3",
   "metadata": {},
   "outputs": [],
   "source": [
    "df['original_url'] = df['original_url'].str.strip()"
   ]
  },
  {
   "cell_type": "code",
   "execution_count": null,
   "id": "87b709f9-e16b-45fb-98d3-258d543a0606",
   "metadata": {},
   "outputs": [],
   "source": []
  },
  {
   "cell_type": "code",
   "execution_count": 36,
   "id": "eb2e841b-1fa8-411d-8b77-a640bbba3ad5",
   "metadata": {},
   "outputs": [
    {
     "data": {
      "text/html": [
       "<div>\n",
       "<style scoped>\n",
       "    .dataframe tbody tr th:only-of-type {\n",
       "        vertical-align: middle;\n",
       "    }\n",
       "\n",
       "    .dataframe tbody tr th {\n",
       "        vertical-align: top;\n",
       "    }\n",
       "\n",
       "    .dataframe thead th {\n",
       "        text-align: right;\n",
       "    }\n",
       "</style>\n",
       "<table border=\"1\" class=\"dataframe\">\n",
       "  <thead>\n",
       "    <tr style=\"text-align: right;\">\n",
       "      <th></th>\n",
       "      <th>name_of_cate</th>\n",
       "      <th>original_url</th>\n",
       "      <th>Last_page_link</th>\n",
       "      <th>list_page_no</th>\n",
       "    </tr>\n",
       "  </thead>\n",
       "  <tbody>\n",
       "    <tr>\n",
       "      <th>37</th>\n",
       "      <td>ཡུལ་སྐོར་ཕྱོགས་སྟོན།</td>\n",
       "      <td>https://tb.xzxw.com/stly/node_26035.html</td>\n",
       "      <td>no link last page link</td>\n",
       "      <td>0</td>\n",
       "    </tr>\n",
       "    <tr>\n",
       "      <th>46</th>\n",
       "      <td>བོད་གཞས།</td>\n",
       "      <td>https://tb.xzxw.com/ysppd/node_26052.html</td>\n",
       "      <td>no link last page link</td>\n",
       "      <td>0</td>\n",
       "    </tr>\n",
       "    <tr>\n",
       "      <th>51</th>\n",
       "      <td>བོད་གཞས།</td>\n",
       "      <td>https://tb.xzxw.com/ysppd/node_26052.html</td>\n",
       "      <td>no link last page link</td>\n",
       "      <td>0</td>\n",
       "    </tr>\n",
       "    <tr>\n",
       "      <th>55</th>\n",
       "      <td>ཆེད་སྒྲིག</td>\n",
       "      <td>https://tb.xzxw.com/zt/</td>\n",
       "      <td>no link last page link</td>\n",
       "      <td>0</td>\n",
       "    </tr>\n",
       "  </tbody>\n",
       "</table>\n",
       "</div>"
      ],
      "text/plain": [
       "            name_of_cate                               original_url  \\\n",
       "37  ཡུལ་སྐོར་ཕྱོགས་སྟོན།   https://tb.xzxw.com/stly/node_26035.html   \n",
       "46              བོད་གཞས།  https://tb.xzxw.com/ysppd/node_26052.html   \n",
       "51              བོད་གཞས།  https://tb.xzxw.com/ysppd/node_26052.html   \n",
       "55             ཆེད་སྒྲིག                    https://tb.xzxw.com/zt/   \n",
       "\n",
       "            Last_page_link  list_page_no  \n",
       "37  no link last page link             0  \n",
       "46  no link last page link             0  \n",
       "51  no link last page link             0  \n",
       "55  no link last page link             0  "
      ]
     },
     "execution_count": 36,
     "metadata": {},
     "output_type": "execute_result"
    }
   ],
   "source": [
    "remaning_links_df = df.loc[df.Last_page_link == \"no link last page link\"]\n",
    "remaning_links_df.head()"
   ]
  },
  {
   "cell_type": "code",
   "execution_count": 39,
   "id": "02713225-cc56-420c-94fe-d97dde7a4cc3",
   "metadata": {},
   "outputs": [],
   "source": [
    "df.list_page_no = df.list_page_no.apply(lambda x: 1 if x==0 else x)"
   ]
  },
  {
   "cell_type": "code",
   "execution_count": 40,
   "id": "5c46acd9-bd68-4198-9920-009a8b36e512",
   "metadata": {},
   "outputs": [
    {
     "data": {
      "text/html": [
       "<div>\n",
       "<style scoped>\n",
       "    .dataframe tbody tr th:only-of-type {\n",
       "        vertical-align: middle;\n",
       "    }\n",
       "\n",
       "    .dataframe tbody tr th {\n",
       "        vertical-align: top;\n",
       "    }\n",
       "\n",
       "    .dataframe thead th {\n",
       "        text-align: right;\n",
       "    }\n",
       "</style>\n",
       "<table border=\"1\" class=\"dataframe\">\n",
       "  <thead>\n",
       "    <tr style=\"text-align: right;\">\n",
       "      <th></th>\n",
       "      <th>name_of_cate</th>\n",
       "      <th>original_url</th>\n",
       "      <th>Last_page_link</th>\n",
       "      <th>list_page_no</th>\n",
       "    </tr>\n",
       "  </thead>\n",
       "  <tbody>\n",
       "    <tr>\n",
       "      <th>37</th>\n",
       "      <td>ཡུལ་སྐོར་ཕྱོགས་སྟོན།</td>\n",
       "      <td>https://tb.xzxw.com/stly/node_26035.html</td>\n",
       "      <td>no link last page link</td>\n",
       "      <td>1</td>\n",
       "    </tr>\n",
       "    <tr>\n",
       "      <th>46</th>\n",
       "      <td>བོད་གཞས།</td>\n",
       "      <td>https://tb.xzxw.com/ysppd/node_26052.html</td>\n",
       "      <td>no link last page link</td>\n",
       "      <td>1</td>\n",
       "    </tr>\n",
       "    <tr>\n",
       "      <th>51</th>\n",
       "      <td>བོད་གཞས།</td>\n",
       "      <td>https://tb.xzxw.com/ysppd/node_26052.html</td>\n",
       "      <td>no link last page link</td>\n",
       "      <td>1</td>\n",
       "    </tr>\n",
       "    <tr>\n",
       "      <th>55</th>\n",
       "      <td>ཆེད་སྒྲིག</td>\n",
       "      <td>https://tb.xzxw.com/zt/</td>\n",
       "      <td>no link last page link</td>\n",
       "      <td>1</td>\n",
       "    </tr>\n",
       "  </tbody>\n",
       "</table>\n",
       "</div>"
      ],
      "text/plain": [
       "            name_of_cate                               original_url  \\\n",
       "37  ཡུལ་སྐོར་ཕྱོགས་སྟོན།   https://tb.xzxw.com/stly/node_26035.html   \n",
       "46              བོད་གཞས།  https://tb.xzxw.com/ysppd/node_26052.html   \n",
       "51              བོད་གཞས།  https://tb.xzxw.com/ysppd/node_26052.html   \n",
       "55             ཆེད་སྒྲིག                    https://tb.xzxw.com/zt/   \n",
       "\n",
       "            Last_page_link  list_page_no  \n",
       "37  no link last page link             1  \n",
       "46  no link last page link             1  \n",
       "51  no link last page link             1  \n",
       "55  no link last page link             1  "
      ]
     },
     "execution_count": 40,
     "metadata": {},
     "output_type": "execute_result"
    }
   ],
   "source": [
    "remaning_links_df = df.loc[df.Last_page_link == \"no link last page link\"]\n",
    "remaning_links_df.head()"
   ]
  },
  {
   "cell_type": "code",
   "execution_count": null,
   "id": "22d8592d-3bc5-4df9-a367-36f721a4d21d",
   "metadata": {},
   "outputs": [],
   "source": []
  },
  {
   "cell_type": "code",
   "execution_count": 41,
   "id": "7a9dddfc-9d54-4c6f-9457-a0ca703d678f",
   "metadata": {},
   "outputs": [],
   "source": [
    "df.to_csv(\"./data/All_cate.csv\", index=False)"
   ]
  },
  {
   "cell_type": "code",
   "execution_count": 42,
   "id": "b8ece6f1-8be4-45ac-bd8b-e65ed382227f",
   "metadata": {},
   "outputs": [
    {
     "data": {
      "text/plain": [
       "(57, 4)"
      ]
     },
     "execution_count": 42,
     "metadata": {},
     "output_type": "execute_result"
    }
   ],
   "source": [
    "df.shape"
   ]
  },
  {
   "cell_type": "code",
   "execution_count": null,
   "id": "48301f20-5243-4fc9-9ea0-b6e870b3b226",
   "metadata": {},
   "outputs": [],
   "source": []
  },
  {
   "cell_type": "code",
   "execution_count": null,
   "id": "dc350e4f-e440-4879-af1d-ca2d9bb888bb",
   "metadata": {},
   "outputs": [],
   "source": []
  }
 ],
 "metadata": {
  "kernelspec": {
   "display_name": "Python 3 (ipykernel)",
   "language": "python",
   "name": "python3"
  },
  "language_info": {
   "codemirror_mode": {
    "name": "ipython",
    "version": 3
   },
   "file_extension": ".py",
   "mimetype": "text/x-python",
   "name": "python",
   "nbconvert_exporter": "python",
   "pygments_lexer": "ipython3",
   "version": "3.10.13"
  }
 },
 "nbformat": 4,
 "nbformat_minor": 5
}
