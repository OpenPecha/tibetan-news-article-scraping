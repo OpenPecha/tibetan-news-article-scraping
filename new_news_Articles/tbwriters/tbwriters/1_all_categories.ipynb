{
 "cells": [
  {
   "cell_type": "code",
   "execution_count": 2,
   "id": "46ee2202-8595-4f7f-89e5-597fb6b904fa",
   "metadata": {},
   "outputs": [],
   "source": [
    "from bs4 import BeautifulSoup\n",
    "import requests\n",
    "import re\n"
   ]
  },
  {
   "cell_type": "code",
   "execution_count": null,
   "id": "6a6b471d-42a7-4378-af4d-26869217a131",
   "metadata": {},
   "outputs": [],
   "source": []
  },
  {
   "cell_type": "code",
   "execution_count": null,
   "id": "457ad338-815d-420e-ae38-2269298a0040",
   "metadata": {},
   "outputs": [],
   "source": []
  },
  {
   "cell_type": "code",
   "execution_count": 6,
   "id": "f3dc8abc-2068-4a13-8655-7c50f29c1df1",
   "metadata": {},
   "outputs": [],
   "source": [
    "url = \"https://www.tbwriters.com/\"\n",
    "\n",
    "headers = {\n",
    "        'User-Agent': 'Mozilla/5.0 (Windows NT 10.0; Win64; x64) AppleWebKit/537.36 (KHTML, like Gecko) Chrome/91.0.4472.124 Safari/537.36'\n",
    "    }\n",
    "response = requests.get(url, headers=headers)\n",
    "response.raise_for_status()\n",
    "\n",
    "# Parse the page content with BeautifulSoup\n",
    "soup = BeautifulSoup(response.content, 'html.parser')\n",
    "all_menu = soup.find(\"div\", class_=\"navigation section no-padding bg-dark\")\n",
    "all_categories = []\n",
    "# print(all_menu)\n",
    "if all_menu:\n",
    "    all_menu_link = all_menu.find_all(\"a\")\n",
    "    for each_link in all_menu_link:\n",
    "        href = each_link.get('href')\n",
    "        if href:\n",
    "            text = each_link.get_text(strip=True)\n",
    "            all_categories.append((text, href))"
   ]
  },
  {
   "cell_type": "code",
   "execution_count": 4,
   "id": "1455ba9d-db9b-4bf8-9cf7-ed824d8bef9c",
   "metadata": {},
   "outputs": [
    {
     "data": {
      "text/plain": [
       "[('གདོང་ཤོག', 'http://www.tbwriters.com/'),\n",
       " ('སྙན་ངག', 'https://www.tbwriters.com/?cat=4'),\n",
       " ('ཟིན་བྲིས།', 'https://www.tbwriters.com/?cat=3'),\n",
       " ('དཔྱད་རྩོམ།', 'https://www.tbwriters.com/?cat=2'),\n",
       " ('ལྷུག་རྩོམ།', 'https://www.tbwriters.com/?cat=6'),\n",
       " ('བསྒྱུར་རྩོམ།', 'https://www.tbwriters.com/?cat=5'),\n",
       " ('སྒྲུང་རྩོམ།', 'https://www.tbwriters.com/?cat=7'),\n",
       " ('ལོ་རྒྱུས།', 'https://www.tbwriters.com/?cat=8'),\n",
       " ('འབོལ་རྩོམ།', 'https://www.tbwriters.com/?cat=9'),\n",
       " ('བརྡ་ཁྱབ།', 'https://www.tbwriters.com/?cat=10'),\n",
       " ('ངེད་ཀྱི་སྐོར།', 'https://www.tbwriters.com/?cat=1')]"
      ]
     },
     "execution_count": 4,
     "metadata": {},
     "output_type": "execute_result"
    }
   ],
   "source": [
    "all_categories"
   ]
  },
  {
   "cell_type": "code",
   "execution_count": 5,
   "id": "a1d45cb2-eee1-4973-80cd-31242d5ba011",
   "metadata": {},
   "outputs": [
    {
     "data": {
      "text/plain": [
       "11"
      ]
     },
     "execution_count": 5,
     "metadata": {},
     "output_type": "execute_result"
    }
   ],
   "source": [
    "len(all_categories)"
   ]
  },
  {
   "cell_type": "code",
   "execution_count": null,
   "id": "5ae48407-a6e4-4bca-9f68-c4e69d0da80c",
   "metadata": {},
   "outputs": [],
   "source": []
  },
  {
   "cell_type": "code",
   "execution_count": null,
   "id": "0c731687-54b2-4d27-9b22-156b284fbf10",
   "metadata": {},
   "outputs": [],
   "source": []
  },
  {
   "cell_type": "code",
   "execution_count": null,
   "id": "e68c29a1-3f1c-40af-b025-3bbeec98745b",
   "metadata": {},
   "outputs": [],
   "source": []
  },
  {
   "cell_type": "markdown",
   "id": "26fe1033-18d3-45b4-8c39-17fa0f692dff",
   "metadata": {},
   "source": [
    "# We have to use loop because the web doesn't show how many pages there are per menu."
   ]
  },
  {
   "cell_type": "markdown",
   "id": "bc6fd405-fb81-4fcf-9f1e-562c13bbe227",
   "metadata": {},
   "source": [
    "## Saving the final file"
   ]
  },
  {
   "cell_type": "code",
   "execution_count": 8,
   "id": "b3cd8de9-dce3-43d4-9bf1-5fe4f55316df",
   "metadata": {},
   "outputs": [],
   "source": [
    "import pandas as pd"
   ]
  },
  {
   "cell_type": "code",
   "execution_count": 11,
   "id": "2fa6a92b-8907-4222-b860-e5275ef8759f",
   "metadata": {},
   "outputs": [
    {
     "data": {
      "text/html": [
       "<div>\n",
       "<style scoped>\n",
       "    .dataframe tbody tr th:only-of-type {\n",
       "        vertical-align: middle;\n",
       "    }\n",
       "\n",
       "    .dataframe tbody tr th {\n",
       "        vertical-align: top;\n",
       "    }\n",
       "\n",
       "    .dataframe thead th {\n",
       "        text-align: right;\n",
       "    }\n",
       "</style>\n",
       "<table border=\"1\" class=\"dataframe\">\n",
       "  <thead>\n",
       "    <tr style=\"text-align: right;\">\n",
       "      <th></th>\n",
       "      <th>name_of_cate</th>\n",
       "      <th>original_url</th>\n",
       "    </tr>\n",
       "  </thead>\n",
       "  <tbody>\n",
       "    <tr>\n",
       "      <th>0</th>\n",
       "      <td>གདོང་ཤོག</td>\n",
       "      <td>http://www.tbwriters.com/</td>\n",
       "    </tr>\n",
       "    <tr>\n",
       "      <th>1</th>\n",
       "      <td>སྙན་ངག</td>\n",
       "      <td>https://www.tbwriters.com/?cat=4</td>\n",
       "    </tr>\n",
       "    <tr>\n",
       "      <th>2</th>\n",
       "      <td>ཟིན་བྲིས།</td>\n",
       "      <td>https://www.tbwriters.com/?cat=3</td>\n",
       "    </tr>\n",
       "    <tr>\n",
       "      <th>3</th>\n",
       "      <td>དཔྱད་རྩོམ།</td>\n",
       "      <td>https://www.tbwriters.com/?cat=2</td>\n",
       "    </tr>\n",
       "    <tr>\n",
       "      <th>4</th>\n",
       "      <td>ལྷུག་རྩོམ།</td>\n",
       "      <td>https://www.tbwriters.com/?cat=6</td>\n",
       "    </tr>\n",
       "  </tbody>\n",
       "</table>\n",
       "</div>"
      ],
      "text/plain": [
       "  name_of_cate                      original_url\n",
       "0     གདོང་ཤོག         http://www.tbwriters.com/\n",
       "1       སྙན་ངག  https://www.tbwriters.com/?cat=4\n",
       "2    ཟིན་བྲིས།  https://www.tbwriters.com/?cat=3\n",
       "3   དཔྱད་རྩོམ།  https://www.tbwriters.com/?cat=2\n",
       "4   ལྷུག་རྩོམ།  https://www.tbwriters.com/?cat=6"
      ]
     },
     "execution_count": 11,
     "metadata": {},
     "output_type": "execute_result"
    }
   ],
   "source": [
    "df = pd.DataFrame(all_categories, columns=[ 'name_of_cate', 'original_url', ])\n",
    "df.head()"
   ]
  },
  {
   "cell_type": "code",
   "execution_count": 12,
   "id": "53b3fcfa-ac75-4393-a6d6-ba7fdac59f70",
   "metadata": {},
   "outputs": [
    {
     "data": {
      "text/html": [
       "<div>\n",
       "<style scoped>\n",
       "    .dataframe tbody tr th:only-of-type {\n",
       "        vertical-align: middle;\n",
       "    }\n",
       "\n",
       "    .dataframe tbody tr th {\n",
       "        vertical-align: top;\n",
       "    }\n",
       "\n",
       "    .dataframe thead th {\n",
       "        text-align: right;\n",
       "    }\n",
       "</style>\n",
       "<table border=\"1\" class=\"dataframe\">\n",
       "  <thead>\n",
       "    <tr style=\"text-align: right;\">\n",
       "      <th></th>\n",
       "      <th>name_of_cate</th>\n",
       "      <th>original_url</th>\n",
       "    </tr>\n",
       "  </thead>\n",
       "  <tbody>\n",
       "    <tr>\n",
       "      <th>0</th>\n",
       "      <td>གདོང་ཤོག</td>\n",
       "      <td>http://www.tbwriters.com/</td>\n",
       "    </tr>\n",
       "    <tr>\n",
       "      <th>1</th>\n",
       "      <td>སྙན་ངག</td>\n",
       "      <td>https://www.tbwriters.com/?cat=4</td>\n",
       "    </tr>\n",
       "    <tr>\n",
       "      <th>2</th>\n",
       "      <td>ཟིན་བྲིས།</td>\n",
       "      <td>https://www.tbwriters.com/?cat=3</td>\n",
       "    </tr>\n",
       "    <tr>\n",
       "      <th>3</th>\n",
       "      <td>དཔྱད་རྩོམ།</td>\n",
       "      <td>https://www.tbwriters.com/?cat=2</td>\n",
       "    </tr>\n",
       "    <tr>\n",
       "      <th>4</th>\n",
       "      <td>ལྷུག་རྩོམ།</td>\n",
       "      <td>https://www.tbwriters.com/?cat=6</td>\n",
       "    </tr>\n",
       "    <tr>\n",
       "      <th>5</th>\n",
       "      <td>བསྒྱུར་རྩོམ།</td>\n",
       "      <td>https://www.tbwriters.com/?cat=5</td>\n",
       "    </tr>\n",
       "    <tr>\n",
       "      <th>6</th>\n",
       "      <td>སྒྲུང་རྩོམ།</td>\n",
       "      <td>https://www.tbwriters.com/?cat=7</td>\n",
       "    </tr>\n",
       "    <tr>\n",
       "      <th>7</th>\n",
       "      <td>ལོ་རྒྱུས།</td>\n",
       "      <td>https://www.tbwriters.com/?cat=8</td>\n",
       "    </tr>\n",
       "    <tr>\n",
       "      <th>8</th>\n",
       "      <td>འབོལ་རྩོམ།</td>\n",
       "      <td>https://www.tbwriters.com/?cat=9</td>\n",
       "    </tr>\n",
       "    <tr>\n",
       "      <th>9</th>\n",
       "      <td>བརྡ་ཁྱབ།</td>\n",
       "      <td>https://www.tbwriters.com/?cat=10</td>\n",
       "    </tr>\n",
       "    <tr>\n",
       "      <th>10</th>\n",
       "      <td>ངེད་ཀྱི་སྐོར།</td>\n",
       "      <td>https://www.tbwriters.com/?cat=1</td>\n",
       "    </tr>\n",
       "  </tbody>\n",
       "</table>\n",
       "</div>"
      ],
      "text/plain": [
       "     name_of_cate                       original_url\n",
       "0        གདོང་ཤོག          http://www.tbwriters.com/\n",
       "1          སྙན་ངག   https://www.tbwriters.com/?cat=4\n",
       "2       ཟིན་བྲིས།   https://www.tbwriters.com/?cat=3\n",
       "3      དཔྱད་རྩོམ།   https://www.tbwriters.com/?cat=2\n",
       "4      ལྷུག་རྩོམ།   https://www.tbwriters.com/?cat=6\n",
       "5    བསྒྱུར་རྩོམ།   https://www.tbwriters.com/?cat=5\n",
       "6     སྒྲུང་རྩོམ།   https://www.tbwriters.com/?cat=7\n",
       "7       ལོ་རྒྱུས།   https://www.tbwriters.com/?cat=8\n",
       "8      འབོལ་རྩོམ།   https://www.tbwriters.com/?cat=9\n",
       "9        བརྡ་ཁྱབ།  https://www.tbwriters.com/?cat=10\n",
       "10  ངེད་ཀྱི་སྐོར།   https://www.tbwriters.com/?cat=1"
      ]
     },
     "execution_count": 12,
     "metadata": {},
     "output_type": "execute_result"
    }
   ],
   "source": [
    "df.head(30)"
   ]
  },
  {
   "cell_type": "code",
   "execution_count": 13,
   "id": "7a9dddfc-9d54-4c6f-9457-a0ca703d678f",
   "metadata": {},
   "outputs": [],
   "source": [
    "df.to_csv(\"./data/All_cate.csv\", index=False)"
   ]
  },
  {
   "cell_type": "code",
   "execution_count": 14,
   "id": "b8ece6f1-8be4-45ac-bd8b-e65ed382227f",
   "metadata": {},
   "outputs": [
    {
     "data": {
      "text/plain": [
       "(11, 2)"
      ]
     },
     "execution_count": 14,
     "metadata": {},
     "output_type": "execute_result"
    }
   ],
   "source": [
    "df.shape"
   ]
  },
  {
   "cell_type": "code",
   "execution_count": null,
   "id": "48301f20-5243-4fc9-9ea0-b6e870b3b226",
   "metadata": {},
   "outputs": [],
   "source": []
  }
 ],
 "metadata": {
  "kernelspec": {
   "display_name": "Python 3 (ipykernel)",
   "language": "python",
   "name": "python3"
  },
  "language_info": {
   "codemirror_mode": {
    "name": "ipython",
    "version": 3
   },
   "file_extension": ".py",
   "mimetype": "text/x-python",
   "name": "python",
   "nbconvert_exporter": "python",
   "pygments_lexer": "ipython3",
   "version": "3.10.13"
  }
 },
 "nbformat": 4,
 "nbformat_minor": 5
}
