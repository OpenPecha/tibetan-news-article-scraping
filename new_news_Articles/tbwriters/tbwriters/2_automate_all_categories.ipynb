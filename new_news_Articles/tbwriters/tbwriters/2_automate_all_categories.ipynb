{
 "cells": [
  {
   "cell_type": "code",
   "execution_count": 1,
   "id": "40147810-a5ac-49c4-9891-123f743b40eb",
   "metadata": {},
   "outputs": [],
   "source": [
    "import requests\n",
    "from bs4 import BeautifulSoup\n",
    "import json\n",
    "import time\n",
    "\n",
    "from tqdm import tqdm\n",
    "from urllib.parse import urljoin"
   ]
  },
  {
   "cell_type": "code",
   "execution_count": 2,
   "id": "7c3970d1-04ce-402d-afa7-fbf8323f6284",
   "metadata": {},
   "outputs": [],
   "source": [
    "import tbwriters_utils\n",
    "import pandas as pd"
   ]
  },
  {
   "cell_type": "code",
   "execution_count": null,
   "id": "ca1d7bbc-d27b-4c64-aa2d-5d27409915d7",
   "metadata": {},
   "outputs": [],
   "source": []
  },
  {
   "cell_type": "markdown",
   "id": "685b9b9e-98a7-4a1f-a674-2125437e3fe4",
   "metadata": {},
   "source": [
    "## Here we will extract all the articles links from https://www.tbwriters.com/ webpage\n"
   ]
  },
  {
   "cell_type": "markdown",
   "id": "95f69b28-a91e-479a-9d51-3e2d466692a6",
   "metadata": {},
   "source": [
    "Tabs not extracted:\n"
   ]
  },
  {
   "cell_type": "code",
   "execution_count": null,
   "id": "53f131a3-9008-4061-a1c1-191bf90cab51",
   "metadata": {},
   "outputs": [],
   "source": []
  },
  {
   "cell_type": "markdown",
   "id": "acd071a1-9fce-42e8-9d49-0e71dc3b42e4",
   "metadata": {},
   "source": [
    "\n",
    "------------\n",
    "-----------\n",
    "------------\n",
    "------------\n",
    "------------"
   ]
  },
  {
   "cell_type": "code",
   "execution_count": 35,
   "id": "467da2b4-69ca-4b77-b0b5-01ec39d844bc",
   "metadata": {},
   "outputs": [],
   "source": [
    "def loop_article_page(custom_url, key_code):\n",
    "    \"\"\"\n",
    "    \n",
    "    \"\"\"\n",
    "    return_file = {\n",
    "        \"Data\": [],\n",
    "        \"message\": \"success\",\n",
    "        \"response\": 200\n",
    "    }\n",
    "    All_url_links = {}\n",
    "    \n",
    "    print(custom_url, key_code)\n",
    "    try:\n",
    "        for i in tqdm(range(1, 1000)):\n",
    "            if i == 1:\n",
    "                final_url = custom_url\n",
    "            else:\n",
    "                second_part = \"&paged=\" + str(i)\n",
    "                final_url = custom_url + second_part\n",
    "            \n",
    "            if custom_url == \"http://www.tbwriters.com\":\n",
    "                second_part = \"/?paged=\" + str(i)\n",
    "                final_url = custom_url + second_part\n",
    "            \n",
    "            found_url_links, load_more = tbwriters_utils.extract_all_tbwriters_article_links(final_url)\n",
    "            key = key_code + str(i)\n",
    "            All_url_links[key] = found_url_links\n",
    "            print(final_url, load_more)\n",
    "            if found_url_links[\"Response\"] != 200:\n",
    "                print(found_url_links[\"Message\"], found_url_links[\"Response\"])\n",
    "            \n",
    "            if load_more == False or found_url_links[\"Response\"] == 404:\n",
    "                break\n",
    "                \n",
    "        return_file[\"Data\"] = All_url_links\n",
    "        return return_file\n",
    "    \n",
    "    except Exception as e:\n",
    "        print(e)\n",
    "        return_file[\"Data\"] = All_url_links\n",
    "        return_file[\"message\"] = e\n",
    "        return_file[\"response\"] = 404\n",
    "        return return_file"
   ]
  },
  {
   "cell_type": "code",
   "execution_count": 36,
   "id": "36d048db-f75b-4bbf-99ba-333eb7639175",
   "metadata": {},
   "outputs": [],
   "source": [
    "def check_error_in_links(All_url_link, page_code, print_each_error=False):\n",
    "    \"\"\"\n",
    "    \n",
    "    \n",
    "    \"\"\"\n",
    "\n",
    "    error_counter = 0\n",
    "    for page_id in range(1, len(All_url_link)):\n",
    "        page_key = page_code + str(page_id)\n",
    "        try:\n",
    "            All_url_link.get(page_key)\n",
    "            if  All_url_link.get(page_key)[\"Response\"]!= 200:\n",
    "                error_counter += 1\n",
    "                if print_each_error:\n",
    "                    print(page_key, All_url_link.get(page_key)[\"message\"])\n",
    "        except Exception as e:\n",
    "            print(page_key, e)\n",
    "\n",
    "    print(f\"Total error in {page_code}: {error_counter}\")"
   ]
  },
  {
   "cell_type": "code",
   "execution_count": 37,
   "id": "43edc8d7-14ca-44e8-9fda-7ec78d5e7fe8",
   "metadata": {},
   "outputs": [],
   "source": [
    "def save_json(path, file_name, data):\n",
    "    \"\"\"\n",
    "    \n",
    "    \"\"\"\n",
    "    with open(path+file_name, \"w\") as outfile:\n",
    "        json.dump(data, outfile, indent=4, ensure_ascii=False)\n",
    "        print(f\"\\n\\nSuccessfully saved: {file_name}\")"
   ]
  },
  {
   "cell_type": "code",
   "execution_count": null,
   "id": "1f46d139-cd34-40d1-be5f-93f40630ccbb",
   "metadata": {},
   "outputs": [],
   "source": []
  },
  {
   "cell_type": "code",
   "execution_count": null,
   "id": "2dfeb92c-62d7-404c-83cc-f2ec569ddadb",
   "metadata": {},
   "outputs": [],
   "source": []
  },
  {
   "cell_type": "markdown",
   "id": "8285b51c-3a40-4e55-bf05-b132ecb3d64c",
   "metadata": {},
   "source": [
    "### all data"
   ]
  },
  {
   "cell_type": "code",
   "execution_count": 38,
   "id": "25b41ef0-af0c-4cee-ad0f-2e6c73282629",
   "metadata": {},
   "outputs": [
    {
     "data": {
      "text/html": [
       "<div>\n",
       "<style scoped>\n",
       "    .dataframe tbody tr th:only-of-type {\n",
       "        vertical-align: middle;\n",
       "    }\n",
       "\n",
       "    .dataframe tbody tr th {\n",
       "        vertical-align: top;\n",
       "    }\n",
       "\n",
       "    .dataframe thead th {\n",
       "        text-align: right;\n",
       "    }\n",
       "</style>\n",
       "<table border=\"1\" class=\"dataframe\">\n",
       "  <thead>\n",
       "    <tr style=\"text-align: right;\">\n",
       "      <th></th>\n",
       "      <th>name_of_cate</th>\n",
       "      <th>original_url</th>\n",
       "    </tr>\n",
       "  </thead>\n",
       "  <tbody>\n",
       "    <tr>\n",
       "      <th>0</th>\n",
       "      <td>གདོང་ཤོག</td>\n",
       "      <td>http://www.tbwriters.com/</td>\n",
       "    </tr>\n",
       "    <tr>\n",
       "      <th>1</th>\n",
       "      <td>སྙན་ངག</td>\n",
       "      <td>https://www.tbwriters.com/?cat=4</td>\n",
       "    </tr>\n",
       "    <tr>\n",
       "      <th>2</th>\n",
       "      <td>ཟིན་བྲིས།</td>\n",
       "      <td>https://www.tbwriters.com/?cat=3</td>\n",
       "    </tr>\n",
       "    <tr>\n",
       "      <th>3</th>\n",
       "      <td>དཔྱད་རྩོམ།</td>\n",
       "      <td>https://www.tbwriters.com/?cat=2</td>\n",
       "    </tr>\n",
       "    <tr>\n",
       "      <th>4</th>\n",
       "      <td>ལྷུག་རྩོམ།</td>\n",
       "      <td>https://www.tbwriters.com/?cat=6</td>\n",
       "    </tr>\n",
       "    <tr>\n",
       "      <th>5</th>\n",
       "      <td>བསྒྱུར་རྩོམ།</td>\n",
       "      <td>https://www.tbwriters.com/?cat=5</td>\n",
       "    </tr>\n",
       "    <tr>\n",
       "      <th>6</th>\n",
       "      <td>སྒྲུང་རྩོམ།</td>\n",
       "      <td>https://www.tbwriters.com/?cat=7</td>\n",
       "    </tr>\n",
       "    <tr>\n",
       "      <th>7</th>\n",
       "      <td>ལོ་རྒྱུས།</td>\n",
       "      <td>https://www.tbwriters.com/?cat=8</td>\n",
       "    </tr>\n",
       "    <tr>\n",
       "      <th>8</th>\n",
       "      <td>འབོལ་རྩོམ།</td>\n",
       "      <td>https://www.tbwriters.com/?cat=9</td>\n",
       "    </tr>\n",
       "    <tr>\n",
       "      <th>9</th>\n",
       "      <td>བརྡ་ཁྱབ།</td>\n",
       "      <td>https://www.tbwriters.com/?cat=10</td>\n",
       "    </tr>\n",
       "    <tr>\n",
       "      <th>10</th>\n",
       "      <td>ངེད་ཀྱི་སྐོར།</td>\n",
       "      <td>https://www.tbwriters.com/?cat=1</td>\n",
       "    </tr>\n",
       "  </tbody>\n",
       "</table>\n",
       "</div>"
      ],
      "text/plain": [
       "     name_of_cate                       original_url\n",
       "0        གདོང་ཤོག          http://www.tbwriters.com/\n",
       "1          སྙན་ངག   https://www.tbwriters.com/?cat=4\n",
       "2       ཟིན་བྲིས།   https://www.tbwriters.com/?cat=3\n",
       "3      དཔྱད་རྩོམ།   https://www.tbwriters.com/?cat=2\n",
       "4      ལྷུག་རྩོམ།   https://www.tbwriters.com/?cat=6\n",
       "5    བསྒྱུར་རྩོམ།   https://www.tbwriters.com/?cat=5\n",
       "6     སྒྲུང་རྩོམ།   https://www.tbwriters.com/?cat=7\n",
       "7       ལོ་རྒྱུས།   https://www.tbwriters.com/?cat=8\n",
       "8      འབོལ་རྩོམ།   https://www.tbwriters.com/?cat=9\n",
       "9        བརྡ་ཁྱབ།  https://www.tbwriters.com/?cat=10\n",
       "10  ངེད་ཀྱི་སྐོར།   https://www.tbwriters.com/?cat=1"
      ]
     },
     "execution_count": 38,
     "metadata": {},
     "output_type": "execute_result"
    }
   ],
   "source": [
    "df = pd.read_csv(\"./data/All_cate.csv\")\n",
    "df.tail(40)"
   ]
  },
  {
   "cell_type": "code",
   "execution_count": 39,
   "id": "5dfd117b-f69d-4254-b729-99587d8af85e",
   "metadata": {},
   "outputs": [
    {
     "data": {
      "text/plain": [
       "(11, 2)"
      ]
     },
     "execution_count": 39,
     "metadata": {},
     "output_type": "execute_result"
    }
   ],
   "source": [
    "df.shape"
   ]
  },
  {
   "cell_type": "code",
   "execution_count": 44,
   "id": "3d271a88-5471-41a0-bd2d-838eca8b02d0",
   "metadata": {},
   "outputs": [
    {
     "data": {
      "text/html": [
       "<div>\n",
       "<style scoped>\n",
       "    .dataframe tbody tr th:only-of-type {\n",
       "        vertical-align: middle;\n",
       "    }\n",
       "\n",
       "    .dataframe tbody tr th {\n",
       "        vertical-align: top;\n",
       "    }\n",
       "\n",
       "    .dataframe thead th {\n",
       "        text-align: right;\n",
       "    }\n",
       "</style>\n",
       "<table border=\"1\" class=\"dataframe\">\n",
       "  <thead>\n",
       "    <tr style=\"text-align: right;\">\n",
       "      <th></th>\n",
       "      <th>name_of_cate</th>\n",
       "      <th>original_url</th>\n",
       "    </tr>\n",
       "  </thead>\n",
       "  <tbody>\n",
       "    <tr>\n",
       "      <th>0</th>\n",
       "      <td>གདོང་ཤོག</td>\n",
       "      <td>http://www.tbwriters.com/</td>\n",
       "    </tr>\n",
       "    <tr>\n",
       "      <th>1</th>\n",
       "      <td>སྙན་ངག</td>\n",
       "      <td>https://www.tbwriters.com/?cat=4</td>\n",
       "    </tr>\n",
       "    <tr>\n",
       "      <th>2</th>\n",
       "      <td>ཟིན་བྲིས།</td>\n",
       "      <td>https://www.tbwriters.com/?cat=3</td>\n",
       "    </tr>\n",
       "    <tr>\n",
       "      <th>3</th>\n",
       "      <td>དཔྱད་རྩོམ།</td>\n",
       "      <td>https://www.tbwriters.com/?cat=2</td>\n",
       "    </tr>\n",
       "    <tr>\n",
       "      <th>4</th>\n",
       "      <td>ལྷུག་རྩོམ།</td>\n",
       "      <td>https://www.tbwriters.com/?cat=6</td>\n",
       "    </tr>\n",
       "    <tr>\n",
       "      <th>5</th>\n",
       "      <td>བསྒྱུར་རྩོམ།</td>\n",
       "      <td>https://www.tbwriters.com/?cat=5</td>\n",
       "    </tr>\n",
       "    <tr>\n",
       "      <th>6</th>\n",
       "      <td>སྒྲུང་རྩོམ།</td>\n",
       "      <td>https://www.tbwriters.com/?cat=7</td>\n",
       "    </tr>\n",
       "    <tr>\n",
       "      <th>7</th>\n",
       "      <td>ལོ་རྒྱུས།</td>\n",
       "      <td>https://www.tbwriters.com/?cat=8</td>\n",
       "    </tr>\n",
       "    <tr>\n",
       "      <th>8</th>\n",
       "      <td>འབོལ་རྩོམ།</td>\n",
       "      <td>https://www.tbwriters.com/?cat=9</td>\n",
       "    </tr>\n",
       "    <tr>\n",
       "      <th>9</th>\n",
       "      <td>བརྡ་ཁྱབ།</td>\n",
       "      <td>https://www.tbwriters.com/?cat=10</td>\n",
       "    </tr>\n",
       "    <tr>\n",
       "      <th>10</th>\n",
       "      <td>ངེད་ཀྱི་སྐོར།</td>\n",
       "      <td>https://www.tbwriters.com/?cat=1</td>\n",
       "    </tr>\n",
       "  </tbody>\n",
       "</table>\n",
       "</div>"
      ],
      "text/plain": [
       "     name_of_cate                       original_url\n",
       "0        གདོང་ཤོག          http://www.tbwriters.com/\n",
       "1          སྙན་ངག   https://www.tbwriters.com/?cat=4\n",
       "2       ཟིན་བྲིས།   https://www.tbwriters.com/?cat=3\n",
       "3      དཔྱད་རྩོམ།   https://www.tbwriters.com/?cat=2\n",
       "4      ལྷུག་རྩོམ།   https://www.tbwriters.com/?cat=6\n",
       "5    བསྒྱུར་རྩོམ།   https://www.tbwriters.com/?cat=5\n",
       "6     སྒྲུང་རྩོམ།   https://www.tbwriters.com/?cat=7\n",
       "7       ལོ་རྒྱུས།   https://www.tbwriters.com/?cat=8\n",
       "8      འབོལ་རྩོམ།   https://www.tbwriters.com/?cat=9\n",
       "9        བརྡ་ཁྱབ།  https://www.tbwriters.com/?cat=10\n",
       "10  ངེད་ཀྱི་སྐོར།   https://www.tbwriters.com/?cat=1"
      ]
     },
     "execution_count": 44,
     "metadata": {},
     "output_type": "execute_result"
    }
   ],
   "source": [
    "sample_df = df\n",
    "sample_df.shape\n",
    "sample_df"
   ]
  },
  {
   "cell_type": "code",
   "execution_count": null,
   "id": "df6d6ba4-de9a-434b-a470-1bc2c060be8a",
   "metadata": {},
   "outputs": [],
   "source": []
  },
  {
   "cell_type": "code",
   "execution_count": 45,
   "id": "01bc0c85-ba0a-4e57-a946-cb8fb04cf7cc",
   "metadata": {},
   "outputs": [],
   "source": [
    "file_name_code = \"tbwriters\""
   ]
  },
  {
   "cell_type": "code",
   "execution_count": 46,
   "id": "81485921-1ab2-4589-9c7d-ab4ff580093d",
   "metadata": {
    "scrolled": true
   },
   "outputs": [
    {
     "name": "stdout",
     "output_type": "stream",
     "text": [
      "name_of_cate                     གདོང་ཤོག\n",
      "original_url    http://www.tbwriters.com/\n",
      "Name: 0, dtype: object\n",
      "http://www.tbwriters.com Page གདོང་ཤོག \n"
     ]
    },
    {
     "name": "stderr",
     "output_type": "stream",
     "text": [
      "  0%|          | 1/999 [00:08<2:20:05,  8.42s/it]"
     ]
    },
    {
     "name": "stdout",
     "output_type": "stream",
     "text": [
      "http://www.tbwriters.com/?paged=1 True\n"
     ]
    },
    {
     "name": "stderr",
     "output_type": "stream",
     "text": [
      "  0%|          | 2/999 [00:11<1:30:30,  5.45s/it]"
     ]
    },
    {
     "name": "stdout",
     "output_type": "stream",
     "text": [
      "http://www.tbwriters.com/?paged=2 True\n"
     ]
    },
    {
     "name": "stderr",
     "output_type": "stream",
     "text": [
      "  0%|          | 3/999 [00:18<1:41:51,  6.14s/it]"
     ]
    },
    {
     "name": "stdout",
     "output_type": "stream",
     "text": [
      "http://www.tbwriters.com/?paged=3 True\n"
     ]
    },
    {
     "name": "stderr",
     "output_type": "stream",
     "text": [
      "  0%|          | 4/999 [00:23<1:33:42,  5.65s/it]"
     ]
    },
    {
     "name": "stdout",
     "output_type": "stream",
     "text": [
      "http://www.tbwriters.com/?paged=4 True\n"
     ]
    },
    {
     "name": "stderr",
     "output_type": "stream",
     "text": [
      "  1%|          | 5/999 [00:30<1:39:36,  6.01s/it]"
     ]
    },
    {
     "name": "stdout",
     "output_type": "stream",
     "text": [
      "http://www.tbwriters.com/?paged=5 True\n"
     ]
    },
    {
     "name": "stderr",
     "output_type": "stream",
     "text": [
      "  1%|          | 6/999 [00:35<1:32:58,  5.62s/it]"
     ]
    },
    {
     "name": "stdout",
     "output_type": "stream",
     "text": [
      "http://www.tbwriters.com/?paged=6 True\n"
     ]
    },
    {
     "name": "stderr",
     "output_type": "stream",
     "text": [
      "  1%|          | 7/999 [00:42<1:40:18,  6.07s/it]"
     ]
    },
    {
     "name": "stdout",
     "output_type": "stream",
     "text": [
      "http://www.tbwriters.com/?paged=7 True\n"
     ]
    },
    {
     "name": "stderr",
     "output_type": "stream",
     "text": [
      "  1%|          | 8/999 [00:46<1:32:14,  5.58s/it]"
     ]
    },
    {
     "name": "stdout",
     "output_type": "stream",
     "text": [
      "http://www.tbwriters.com/?paged=8 True\n"
     ]
    },
    {
     "name": "stderr",
     "output_type": "stream",
     "text": [
      "  1%|          | 9/999 [00:53<1:36:40,  5.86s/it]"
     ]
    },
    {
     "name": "stdout",
     "output_type": "stream",
     "text": [
      "http://www.tbwriters.com/?paged=9 True\n"
     ]
    },
    {
     "name": "stderr",
     "output_type": "stream",
     "text": [
      "  1%|          | 10/999 [00:58<1:34:49,  5.75s/it]"
     ]
    },
    {
     "name": "stdout",
     "output_type": "stream",
     "text": [
      "http://www.tbwriters.com/?paged=10 True\n"
     ]
    },
    {
     "name": "stderr",
     "output_type": "stream",
     "text": [
      "  1%|          | 11/999 [01:05<1:39:21,  6.03s/it]"
     ]
    },
    {
     "name": "stdout",
     "output_type": "stream",
     "text": [
      "http://www.tbwriters.com/?paged=11 True\n"
     ]
    },
    {
     "name": "stderr",
     "output_type": "stream",
     "text": [
      "  1%|          | 12/999 [01:10<1:34:06,  5.72s/it]"
     ]
    },
    {
     "name": "stdout",
     "output_type": "stream",
     "text": [
      "http://www.tbwriters.com/?paged=12 True\n"
     ]
    },
    {
     "name": "stderr",
     "output_type": "stream",
     "text": [
      "  1%|▏         | 13/999 [01:16<1:38:05,  5.97s/it]"
     ]
    },
    {
     "name": "stdout",
     "output_type": "stream",
     "text": [
      "http://www.tbwriters.com/?paged=13 True\n"
     ]
    },
    {
     "name": "stderr",
     "output_type": "stream",
     "text": [
      "  1%|▏         | 14/999 [02:03<5:00:05, 18.28s/it]"
     ]
    },
    {
     "name": "stdout",
     "output_type": "stream",
     "text": [
      "http://www.tbwriters.com/?paged=14 True\n"
     ]
    },
    {
     "name": "stderr",
     "output_type": "stream",
     "text": [
      "  2%|▏         | 15/999 [02:10<4:05:21, 14.96s/it]"
     ]
    },
    {
     "name": "stdout",
     "output_type": "stream",
     "text": [
      "http://www.tbwriters.com/?paged=15 True\n"
     ]
    },
    {
     "name": "stderr",
     "output_type": "stream",
     "text": [
      "  2%|▏         | 16/999 [02:15<3:11:52, 11.71s/it]"
     ]
    },
    {
     "name": "stdout",
     "output_type": "stream",
     "text": [
      "http://www.tbwriters.com/?paged=16 True\n"
     ]
    },
    {
     "name": "stderr",
     "output_type": "stream",
     "text": [
      "  2%|▏         | 17/999 [02:21<2:46:01, 10.14s/it]"
     ]
    },
    {
     "name": "stdout",
     "output_type": "stream",
     "text": [
      "http://www.tbwriters.com/?paged=17 True\n"
     ]
    },
    {
     "name": "stderr",
     "output_type": "stream",
     "text": [
      "  2%|▏         | 18/999 [02:26<2:21:01,  8.63s/it]"
     ]
    },
    {
     "name": "stdout",
     "output_type": "stream",
     "text": [
      "http://www.tbwriters.com/?paged=18 True\n"
     ]
    },
    {
     "name": "stderr",
     "output_type": "stream",
     "text": [
      "  2%|▏         | 19/999 [02:33<2:10:56,  8.02s/it]"
     ]
    },
    {
     "name": "stdout",
     "output_type": "stream",
     "text": [
      "http://www.tbwriters.com/?paged=19 True\n"
     ]
    },
    {
     "name": "stderr",
     "output_type": "stream",
     "text": [
      "  2%|▏         | 20/999 [02:38<1:56:02,  7.11s/it]"
     ]
    },
    {
     "name": "stdout",
     "output_type": "stream",
     "text": [
      "http://www.tbwriters.com/?paged=20 True\n"
     ]
    },
    {
     "name": "stderr",
     "output_type": "stream",
     "text": [
      "  2%|▏         | 21/999 [02:44<1:52:43,  6.92s/it]"
     ]
    },
    {
     "name": "stdout",
     "output_type": "stream",
     "text": [
      "http://www.tbwriters.com/?paged=21 True\n"
     ]
    },
    {
     "name": "stderr",
     "output_type": "stream",
     "text": [
      "  2%|▏         | 22/999 [02:50<1:45:10,  6.46s/it]"
     ]
    },
    {
     "name": "stdout",
     "output_type": "stream",
     "text": [
      "http://www.tbwriters.com/?paged=22 True\n"
     ]
    },
    {
     "name": "stderr",
     "output_type": "stream",
     "text": [
      "  2%|▏         | 23/999 [02:56<1:46:02,  6.52s/it]"
     ]
    },
    {
     "name": "stdout",
     "output_type": "stream",
     "text": [
      "http://www.tbwriters.com/?paged=23 True\n"
     ]
    },
    {
     "name": "stderr",
     "output_type": "stream",
     "text": [
      "  2%|▏         | 24/999 [03:01<1:38:02,  6.03s/it]"
     ]
    },
    {
     "name": "stdout",
     "output_type": "stream",
     "text": [
      "http://www.tbwriters.com/?paged=24 True\n"
     ]
    },
    {
     "name": "stderr",
     "output_type": "stream",
     "text": [
      "  2%|▏         | 24/999 [03:08<2:07:26,  7.84s/it]\n"
     ]
    },
    {
     "name": "stdout",
     "output_type": "stream",
     "text": [
      "http://www.tbwriters.com/?paged=25 False\n",
      "Total page in གདོང་ཤོག: 25\n",
      "Total error in Page གདོང་ཤོག : 0\n",
      "\n",
      "\n",
      "Successfully saved: tbwriters_ALL_link_གདོང་ཤོག.json\n",
      "name_of_cate                              སྙན་ངག\n",
      "original_url    https://www.tbwriters.com/?cat=4\n",
      "Name: 1, dtype: object\n",
      "https://www.tbwriters.com/?cat=4 Page སྙན་ངག \n"
     ]
    },
    {
     "name": "stderr",
     "output_type": "stream",
     "text": [
      "  0%|          | 1/999 [00:05<1:25:56,  5.17s/it]"
     ]
    },
    {
     "name": "stdout",
     "output_type": "stream",
     "text": [
      "https://www.tbwriters.com/?cat=4 True\n"
     ]
    },
    {
     "name": "stderr",
     "output_type": "stream",
     "text": [
      "  0%|          | 1/999 [00:12<3:20:15, 12.04s/it]\n"
     ]
    },
    {
     "name": "stdout",
     "output_type": "stream",
     "text": [
      "https://www.tbwriters.com/?cat=4&paged=2 False\n",
      "Total page in སྙན་ངག: 2\n",
      "Total error in Page སྙན་ངག : 0\n",
      "\n",
      "\n",
      "Successfully saved: tbwriters_ALL_link_སྙན་ངག.json\n",
      "name_of_cate                           ཟིན་བྲིས།\n",
      "original_url    https://www.tbwriters.com/?cat=3\n",
      "Name: 2, dtype: object\n",
      "https://www.tbwriters.com/?cat=3 Page ཟིན་བྲིས། \n"
     ]
    },
    {
     "name": "stderr",
     "output_type": "stream",
     "text": [
      "  0%|          | 1/999 [00:06<1:43:38,  6.23s/it]"
     ]
    },
    {
     "name": "stdout",
     "output_type": "stream",
     "text": [
      "https://www.tbwriters.com/?cat=3 True\n"
     ]
    },
    {
     "name": "stderr",
     "output_type": "stream",
     "text": [
      "  0%|          | 2/999 [00:13<1:50:08,  6.63s/it]"
     ]
    },
    {
     "name": "stdout",
     "output_type": "stream",
     "text": [
      "https://www.tbwriters.com/?cat=3&paged=2 True\n"
     ]
    },
    {
     "name": "stderr",
     "output_type": "stream",
     "text": [
      "  0%|          | 3/999 [00:17<1:36:24,  5.81s/it]"
     ]
    },
    {
     "name": "stdout",
     "output_type": "stream",
     "text": [
      "https://www.tbwriters.com/?cat=3&paged=3 True\n"
     ]
    },
    {
     "name": "stderr",
     "output_type": "stream",
     "text": [
      "  0%|          | 4/999 [00:24<1:44:02,  6.27s/it]"
     ]
    },
    {
     "name": "stdout",
     "output_type": "stream",
     "text": [
      "https://www.tbwriters.com/?cat=3&paged=4 True\n"
     ]
    },
    {
     "name": "stderr",
     "output_type": "stream",
     "text": [
      "  1%|          | 5/999 [00:29<1:35:47,  5.78s/it]"
     ]
    },
    {
     "name": "stdout",
     "output_type": "stream",
     "text": [
      "https://www.tbwriters.com/?cat=3&paged=5 True\n"
     ]
    },
    {
     "name": "stderr",
     "output_type": "stream",
     "text": [
      "  1%|          | 6/999 [00:36<1:41:16,  6.12s/it]"
     ]
    },
    {
     "name": "stdout",
     "output_type": "stream",
     "text": [
      "https://www.tbwriters.com/?cat=3&paged=6 True\n"
     ]
    },
    {
     "name": "stderr",
     "output_type": "stream",
     "text": [
      "  1%|          | 6/999 [00:41<1:54:35,  6.92s/it]\n"
     ]
    },
    {
     "name": "stdout",
     "output_type": "stream",
     "text": [
      "https://www.tbwriters.com/?cat=3&paged=7 False\n",
      "Total page in ཟིན་བྲིས།: 7\n",
      "Total error in Page ཟིན་བྲིས། : 0\n",
      "\n",
      "\n",
      "Successfully saved: tbwriters_ALL_link_ཟིན་བྲིས།.json\n",
      "name_of_cate                          དཔྱད་རྩོམ།\n",
      "original_url    https://www.tbwriters.com/?cat=2\n",
      "Name: 3, dtype: object\n",
      "https://www.tbwriters.com/?cat=2 Page དཔྱད་རྩོམ། \n"
     ]
    },
    {
     "name": "stderr",
     "output_type": "stream",
     "text": [
      "  0%|          | 1/999 [00:06<1:54:25,  6.88s/it]"
     ]
    },
    {
     "name": "stdout",
     "output_type": "stream",
     "text": [
      "https://www.tbwriters.com/?cat=2 True\n"
     ]
    },
    {
     "name": "stderr",
     "output_type": "stream",
     "text": [
      "  0%|          | 2/999 [00:11<1:33:38,  5.64s/it]"
     ]
    },
    {
     "name": "stdout",
     "output_type": "stream",
     "text": [
      "https://www.tbwriters.com/?cat=2&paged=2 True\n"
     ]
    },
    {
     "name": "stderr",
     "output_type": "stream",
     "text": [
      "  0%|          | 3/999 [00:19<1:49:59,  6.63s/it]"
     ]
    },
    {
     "name": "stdout",
     "output_type": "stream",
     "text": [
      "https://www.tbwriters.com/?cat=2&paged=3 True\n"
     ]
    },
    {
     "name": "stderr",
     "output_type": "stream",
     "text": [
      "  0%|          | 4/999 [00:23<1:35:55,  5.78s/it]"
     ]
    },
    {
     "name": "stdout",
     "output_type": "stream",
     "text": [
      "https://www.tbwriters.com/?cat=2&paged=4 True\n"
     ]
    },
    {
     "name": "stderr",
     "output_type": "stream",
     "text": [
      "  1%|          | 5/999 [00:30<1:42:26,  6.18s/it]"
     ]
    },
    {
     "name": "stdout",
     "output_type": "stream",
     "text": [
      "https://www.tbwriters.com/?cat=2&paged=5 True\n"
     ]
    },
    {
     "name": "stderr",
     "output_type": "stream",
     "text": [
      "  1%|          | 5/999 [00:35<1:58:15,  7.14s/it]\n"
     ]
    },
    {
     "name": "stdout",
     "output_type": "stream",
     "text": [
      "https://www.tbwriters.com/?cat=2&paged=6 False\n",
      "Total page in དཔྱད་རྩོམ།: 6\n",
      "Total error in Page དཔྱད་རྩོམ། : 0\n",
      "\n",
      "\n",
      "Successfully saved: tbwriters_ALL_link_དཔྱད་རྩོམ།.json\n",
      "name_of_cate                          ལྷུག་རྩོམ།\n",
      "original_url    https://www.tbwriters.com/?cat=6\n",
      "Name: 4, dtype: object\n",
      "https://www.tbwriters.com/?cat=6 Page ལྷུག་རྩོམ། \n"
     ]
    },
    {
     "name": "stderr",
     "output_type": "stream",
     "text": [
      "  0%|          | 0/999 [00:38<?, ?it/s]\n"
     ]
    },
    {
     "name": "stdout",
     "output_type": "stream",
     "text": [
      "https://www.tbwriters.com/?cat=6 False\n",
      "Total page in ལྷུག་རྩོམ།: 1\n",
      "Total error in Page ལྷུག་རྩོམ། : 0\n",
      "\n",
      "\n",
      "Successfully saved: tbwriters_ALL_link_ལྷུག་རྩོམ།.json\n",
      "name_of_cate                        བསྒྱུར་རྩོམ།\n",
      "original_url    https://www.tbwriters.com/?cat=5\n",
      "Name: 5, dtype: object\n",
      "https://www.tbwriters.com/?cat=5 Page བསྒྱུར་རྩོམ། \n"
     ]
    },
    {
     "name": "stderr",
     "output_type": "stream",
     "text": [
      "  0%|          | 1/999 [00:06<1:53:19,  6.81s/it]"
     ]
    },
    {
     "name": "stdout",
     "output_type": "stream",
     "text": [
      "https://www.tbwriters.com/?cat=5 True\n"
     ]
    },
    {
     "name": "stderr",
     "output_type": "stream",
     "text": [
      "  0%|          | 2/999 [00:11<1:35:52,  5.77s/it]"
     ]
    },
    {
     "name": "stdout",
     "output_type": "stream",
     "text": [
      "https://www.tbwriters.com/?cat=5&paged=2 True\n"
     ]
    },
    {
     "name": "stderr",
     "output_type": "stream",
     "text": [
      "  0%|          | 2/999 [00:18<2:32:41,  9.19s/it]\n"
     ]
    },
    {
     "name": "stdout",
     "output_type": "stream",
     "text": [
      "https://www.tbwriters.com/?cat=5&paged=3 False\n",
      "Total page in བསྒྱུར་རྩོམ།: 3\n",
      "Total error in Page བསྒྱུར་རྩོམ། : 0\n",
      "\n",
      "\n",
      "Successfully saved: tbwriters_ALL_link_བསྒྱུར་རྩོམ།.json\n",
      "name_of_cate                         སྒྲུང་རྩོམ།\n",
      "original_url    https://www.tbwriters.com/?cat=7\n",
      "Name: 6, dtype: object\n",
      "https://www.tbwriters.com/?cat=7 Page སྒྲུང་རྩོམ། \n"
     ]
    },
    {
     "name": "stderr",
     "output_type": "stream",
     "text": [
      "  0%|          | 1/999 [00:05<1:28:14,  5.31s/it]"
     ]
    },
    {
     "name": "stdout",
     "output_type": "stream",
     "text": [
      "https://www.tbwriters.com/?cat=7 True\n"
     ]
    },
    {
     "name": "stderr",
     "output_type": "stream",
     "text": [
      "  0%|          | 1/999 [00:11<3:18:16, 11.92s/it]\n"
     ]
    },
    {
     "name": "stdout",
     "output_type": "stream",
     "text": [
      "https://www.tbwriters.com/?cat=7&paged=2 False\n",
      "Total page in སྒྲུང་རྩོམ།: 2\n",
      "Total error in Page སྒྲུང་རྩོམ། : 0\n",
      "\n",
      "\n",
      "Successfully saved: tbwriters_ALL_link_སྒྲུང་རྩོམ།.json\n",
      "name_of_cate                           ལོ་རྒྱུས།\n",
      "original_url    https://www.tbwriters.com/?cat=8\n",
      "Name: 7, dtype: object\n",
      "https://www.tbwriters.com/?cat=8 Page ལོ་རྒྱུས། \n"
     ]
    },
    {
     "name": "stderr",
     "output_type": "stream",
     "text": [
      "  0%|          | 1/999 [00:05<1:29:09,  5.36s/it]"
     ]
    },
    {
     "name": "stdout",
     "output_type": "stream",
     "text": [
      "https://www.tbwriters.com/?cat=8 True\n"
     ]
    },
    {
     "name": "stderr",
     "output_type": "stream",
     "text": [
      "  0%|          | 1/999 [00:11<3:16:43, 11.83s/it]\n"
     ]
    },
    {
     "name": "stdout",
     "output_type": "stream",
     "text": [
      "https://www.tbwriters.com/?cat=8&paged=2 False\n",
      "Total page in ལོ་རྒྱུས།: 2\n",
      "Total error in Page ལོ་རྒྱུས། : 0\n",
      "\n",
      "\n",
      "Successfully saved: tbwriters_ALL_link_ལོ་རྒྱུས།.json\n",
      "name_of_cate                          འབོལ་རྩོམ།\n",
      "original_url    https://www.tbwriters.com/?cat=9\n",
      "Name: 8, dtype: object\n",
      "https://www.tbwriters.com/?cat=9 Page འབོལ་རྩོམ། \n"
     ]
    },
    {
     "name": "stderr",
     "output_type": "stream",
     "text": [
      "  0%|          | 0/999 [00:04<?, ?it/s]\n"
     ]
    },
    {
     "name": "stdout",
     "output_type": "stream",
     "text": [
      "https://www.tbwriters.com/?cat=9 False\n",
      "Total page in འབོལ་རྩོམ།: 1\n",
      "Total error in Page འབོལ་རྩོམ། : 0\n",
      "\n",
      "\n",
      "Successfully saved: tbwriters_ALL_link_འབོལ་རྩོམ།.json\n",
      "name_of_cate                             བརྡ་ཁྱབ།\n",
      "original_url    https://www.tbwriters.com/?cat=10\n",
      "Name: 9, dtype: object\n",
      "https://www.tbwriters.com/?cat=10 Page བརྡ་ཁྱབ། \n"
     ]
    },
    {
     "name": "stderr",
     "output_type": "stream",
     "text": [
      "  0%|          | 0/999 [00:06<?, ?it/s]\n"
     ]
    },
    {
     "name": "stdout",
     "output_type": "stream",
     "text": [
      "https://www.tbwriters.com/?cat=10 False\n",
      "Total page in བརྡ་ཁྱབ།: 1\n",
      "Total error in Page བརྡ་ཁྱབ། : 0\n",
      "\n",
      "\n",
      "Successfully saved: tbwriters_ALL_link_བརྡ་ཁྱབ།.json\n",
      "name_of_cate                       ངེད་ཀྱི་སྐོར།\n",
      "original_url    https://www.tbwriters.com/?cat=1\n",
      "Name: 10, dtype: object\n",
      "https://www.tbwriters.com/?cat=1 Page ངེད་ཀྱི་སྐོར། \n"
     ]
    },
    {
     "name": "stderr",
     "output_type": "stream",
     "text": [
      "  0%|          | 1/999 [00:05<1:25:02,  5.11s/it]"
     ]
    },
    {
     "name": "stdout",
     "output_type": "stream",
     "text": [
      "https://www.tbwriters.com/?cat=1 True\n"
     ]
    },
    {
     "name": "stderr",
     "output_type": "stream",
     "text": [
      "  0%|          | 2/999 [00:11<1:41:11,  6.09s/it]"
     ]
    },
    {
     "name": "stdout",
     "output_type": "stream",
     "text": [
      "https://www.tbwriters.com/?cat=1&paged=2 True\n"
     ]
    },
    {
     "name": "stderr",
     "output_type": "stream",
     "text": [
      "  0%|          | 3/999 [00:16<1:33:10,  5.61s/it]"
     ]
    },
    {
     "name": "stdout",
     "output_type": "stream",
     "text": [
      "https://www.tbwriters.com/?cat=1&paged=3 True\n"
     ]
    },
    {
     "name": "stderr",
     "output_type": "stream",
     "text": [
      "  0%|          | 4/999 [00:23<1:40:20,  6.05s/it]"
     ]
    },
    {
     "name": "stdout",
     "output_type": "stream",
     "text": [
      "https://www.tbwriters.com/?cat=1&paged=4 True\n"
     ]
    },
    {
     "name": "stderr",
     "output_type": "stream",
     "text": [
      "  1%|          | 5/999 [00:28<1:34:04,  5.68s/it]"
     ]
    },
    {
     "name": "stdout",
     "output_type": "stream",
     "text": [
      "https://www.tbwriters.com/?cat=1&paged=5 True\n"
     ]
    },
    {
     "name": "stderr",
     "output_type": "stream",
     "text": [
      "  1%|          | 6/999 [00:35<1:40:45,  6.09s/it]"
     ]
    },
    {
     "name": "stdout",
     "output_type": "stream",
     "text": [
      "https://www.tbwriters.com/?cat=1&paged=6 True\n"
     ]
    },
    {
     "name": "stderr",
     "output_type": "stream",
     "text": [
      "  1%|          | 6/999 [00:40<1:50:47,  6.69s/it]"
     ]
    },
    {
     "name": "stdout",
     "output_type": "stream",
     "text": [
      "https://www.tbwriters.com/?cat=1&paged=7 False\n",
      "Total page in ངེད་ཀྱི་སྐོར།: 7\n",
      "Total error in Page ངེད་ཀྱི་སྐོར། : 0\n",
      "\n",
      "\n",
      "Successfully saved: tbwriters_ALL_link_ངེད་ཀྱི་སྐོར།.json\n"
     ]
    },
    {
     "name": "stderr",
     "output_type": "stream",
     "text": [
      "\n"
     ]
    }
   ],
   "source": [
    "for index, row in sample_df.iterrows():\n",
    "    # print(row)\n",
    "    name_of_cate = row[\"name_of_cate\"]\n",
    "    original_url = row[\"original_url\"]\n",
    "\n",
    "    custom_url = original_url\n",
    "    print(row)\n",
    "    if custom_url == \"http://www.tbwriters.com/\":\n",
    "        custom_url = \"http://www.tbwriters.com\"\n",
    "\n",
    "    article_tag = name_of_cate\n",
    "    key_code = \"Page \" + article_tag + \" \"\n",
    "    all_links = loop_article_page(custom_url, key_code)\n",
    "    \n",
    "    print(f\"Total page in {article_tag}: {len(all_links['Data'])}\")\n",
    "    check_error_in_links(all_links['Data'], key_code, print_each_error=True)\n",
    "\n",
    "    # Saving the final file\n",
    "    path = \"./data/links/\"\n",
    "    file_name = f\"{file_name_code}_ALL_link_{article_tag}.json\"\n",
    "    save_json(path, file_name, all_links['Data'])"
   ]
  },
  {
   "cell_type": "code",
   "execution_count": null,
   "id": "9f5b009e-18db-4c0c-a6e8-85796931a527",
   "metadata": {},
   "outputs": [],
   "source": []
  },
  {
   "cell_type": "code",
   "execution_count": 47,
   "id": "07dbafae-8dae-43e7-909f-2eb631654e88",
   "metadata": {},
   "outputs": [],
   "source": [
    "import os"
   ]
  },
  {
   "cell_type": "code",
   "execution_count": 48,
   "id": "f8297d1c-0f4d-474c-9a1f-d4cd749d46d1",
   "metadata": {},
   "outputs": [
    {
     "data": {
      "text/plain": [
       "['./data/links/tbwriters_ALL_link_སྙན་ངག.json',\n",
       " './data/links/tbwriters_ALL_link_ཟིན་བྲིས།.json',\n",
       " './data/links/tbwriters_ALL_link_གདོང་ཤོག.json',\n",
       " './data/links/tbwriters_ALL_link_དཔྱད་རྩོམ།.json',\n",
       " './data/links/tbwriters_ALL_link_ལྷུག་རྩོམ།.json',\n",
       " './data/links/tbwriters_ALL_link_བསྒྱུར་རྩོམ།.json',\n",
       " './data/links/tbwriters_ALL_link_སྒྲུང་རྩོམ།.json',\n",
       " './data/links/tbwriters_ALL_link_ལོ་རྒྱུས།.json',\n",
       " './data/links/tbwriters_ALL_link_འབོལ་རྩོམ།.json',\n",
       " './data/links/tbwriters_ALL_link_བརྡ་ཁྱབ།.json',\n",
       " './data/links/tbwriters_ALL_link_ངེད་ཀྱི་སྐོར།.json']"
      ]
     },
     "execution_count": 48,
     "metadata": {},
     "output_type": "execute_result"
    }
   ],
   "source": [
    "directory = './data/links/'\n",
    "json_files = [os.path.join(directory, f) for f in os.listdir(directory) if f.endswith('.json')]\n",
    "json_files"
   ]
  },
  {
   "cell_type": "code",
   "execution_count": 49,
   "id": "10cc62f4-0c24-4e55-972c-11151bdf8248",
   "metadata": {},
   "outputs": [
    {
     "data": {
      "text/plain": [
       "11"
      ]
     },
     "execution_count": 49,
     "metadata": {},
     "output_type": "execute_result"
    }
   ],
   "source": [
    "len(json_files)"
   ]
  },
  {
   "cell_type": "code",
   "execution_count": null,
   "id": "6202dd90-eb9d-43dd-8c96-0aa8c15f191a",
   "metadata": {},
   "outputs": [],
   "source": []
  }
 ],
 "metadata": {
  "kernelspec": {
   "display_name": "Python 3 (ipykernel)",
   "language": "python",
   "name": "python3"
  },
  "language_info": {
   "codemirror_mode": {
    "name": "ipython",
    "version": 3
   },
   "file_extension": ".py",
   "mimetype": "text/x-python",
   "name": "python",
   "nbconvert_exporter": "python",
   "pygments_lexer": "ipython3",
   "version": "3.10.13"
  }
 },
 "nbformat": 4,
 "nbformat_minor": 5
}
