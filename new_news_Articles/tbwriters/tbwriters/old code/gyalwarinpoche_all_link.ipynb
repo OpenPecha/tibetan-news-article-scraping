{
 "cells": [
  {
   "cell_type": "code",
   "execution_count": 3,
   "metadata": {},
   "outputs": [],
   "source": [
    "import requests\n",
    "from bs4 import BeautifulSoup\n",
    "from typing import Dict, Any, List\n",
    "import time\n",
    "from tqdm import tqdm \n",
    "import json"
   ]
  },
  {
   "cell_type": "code",
   "execution_count": 4,
   "metadata": {},
   "outputs": [],
   "source": [
    "import gyalwarinpoche_utils"
   ]
  },
  {
   "cell_type": "code",
   "execution_count": null,
   "metadata": {},
   "outputs": [],
   "source": []
  },
  {
   "cell_type": "code",
   "execution_count": null,
   "metadata": {},
   "outputs": [],
   "source": []
  },
  {
   "cell_type": "markdown",
   "metadata": {},
   "source": [
    "## with the help of gyalwarinpoche_utils.py we can use two main function\n",
    "1. **extract_all_gyalwarinpoche_article_links: Extracts all article links from a given gyalwarinpoche webpage.**\n",
    "\n",
    "\n",
    "------------\n",
    "-----------\n",
    "------------\n",
    "------------\n",
    "------------"
   ]
  },
  {
   "cell_type": "code",
   "execution_count": 1,
   "metadata": {},
   "outputs": [],
   "source": [
    "def loop_article_page(total_page, custom_url, key_code):\n",
    "    \"\"\"\n",
    "    \n",
    "    \"\"\"\n",
    "    return_file = {\n",
    "        \"Data\": [],\n",
    "        \"message\": \"success\",\n",
    "        \"response\": 200\n",
    "    }\n",
    "    All_url_links = {}\n",
    "    \n",
    "    try:\n",
    "        for i in tqdm(range(1, total_page)):\n",
    "            final_url = custom_url + str(i) \n",
    "            found_url_links, load_more = gyalwarinpoche_utils.extract_all_gyalwarinpoche_article_links(final_url)\n",
    "            key = key_code + str(i)\n",
    "            All_url_links[key] = found_url_links\n",
    "            if load_more==False:\n",
    "                print(f\"Final page number: {i}\")\n",
    "                break\n",
    "        return_file[\"Data\"] = All_url_links\n",
    "        return return_file\n",
    "    \n",
    "    except Exception as e:\n",
    "        return_file[\"Data\"] = All_url_links\n",
    "        return_file[\"message\"] = e\n",
    "        return_file[\"response\"] = 404\n",
    "        return return_file"
   ]
  },
  {
   "cell_type": "code",
   "execution_count": 2,
   "metadata": {},
   "outputs": [],
   "source": [
    "def check_error_in_links(All_url_link, page_code, print_each_error=False):\n",
    "    \"\"\"\n",
    "    \n",
    "    \"\"\"\n",
    "\n",
    "    error_counter = 0\n",
    "    for page_id in range(1, len(All_url_link)):\n",
    "        page_key = page_code + str(page_id)\n",
    "        try:\n",
    "            All_url_link.get(page_key)\n",
    "            if  All_url_link.get(page_key)[\"Response\"]!= 200:\n",
    "                error_counter += 1\n",
    "                if print_each_error:\n",
    "                    print(page_key, All_url_link.get(page_key)[\"message\"])\n",
    "        except Exception as e:\n",
    "            print(page_key, e)\n",
    "\n",
    "    print(f\"Total error in {page_code}: {error_counter}\")"
   ]
  },
  {
   "cell_type": "code",
   "execution_count": 5,
   "metadata": {},
   "outputs": [],
   "source": [
    "def save_json(path, file_name, data):\n",
    "    \"\"\"\n",
    "    \n",
    "    \"\"\"\n",
    "    with open(path+file_name, \"w\") as outfile:\n",
    "        json.dump(data, outfile, indent=4)\n",
    "        print(f\"Successfully saved: {file_name}\")"
   ]
  },
  {
   "cell_type": "markdown",
   "metadata": {},
   "source": [
    "------------\n",
    "------------\n",
    "------------\n",
    "\n",
    "\n",
    "\n",
    "# A. Extracting all Article links from འཕྲིན་གསར། \n",
    "- Base url: https://gyalwarinpoche.com/news/p2\n",
    "- Custom URL: https://gyalwarinpoche.com/news/p + str(i) \n",
    "- Total page: unknown"
   ]
  },
  {
   "cell_type": "code",
   "execution_count": 6,
   "metadata": {},
   "outputs": [
    {
     "name": "stdout",
     "output_type": "stream",
     "text": [
      "Page code: Page འཕྲིན་གསར། \n"
     ]
    },
    {
     "name": "stderr",
     "output_type": "stream",
     "text": [
      "  0%|          | 0/999 [00:00<?, ?it/s]"
     ]
    },
    {
     "name": "stderr",
     "output_type": "stream",
     "text": [
      " 10%|▉         | 95/999 [02:32<24:13,  1.61s/it]"
     ]
    },
    {
     "name": "stdout",
     "output_type": "stream",
     "text": [
      "Final page number: 96\n"
     ]
    },
    {
     "name": "stderr",
     "output_type": "stream",
     "text": [
      "\n"
     ]
    }
   ],
   "source": [
    "total_page = 1000 # for custom check\n",
    "custom_url= \"https://gyalwarinpoche.com/news/p\"\n",
    "article_tag = \"འཕྲིན་གསར།\"\n",
    "key_code = \"Page \" + article_tag + \" \"\n",
    "print(f\"Page code: {key_code}\")\n",
    "\n",
    "all_links = loop_article_page(total_page, custom_url, key_code)\n"
   ]
  },
  {
   "cell_type": "code",
   "execution_count": 7,
   "metadata": {},
   "outputs": [
    {
     "name": "stdout",
     "output_type": "stream",
     "text": [
      "Total page in འཕྲིན་གསར།: 96\n"
     ]
    }
   ],
   "source": [
    "print(f\"Total page in {article_tag}: {len(all_links['Data'])}\")"
   ]
  },
  {
   "cell_type": "code",
   "execution_count": 8,
   "metadata": {},
   "outputs": [
    {
     "name": "stdout",
     "output_type": "stream",
     "text": [
      "Total error in Page འཕྲིན་གསར། : 0\n"
     ]
    }
   ],
   "source": [
    "check_error_in_links(all_links['Data'], key_code, print_each_error=True)"
   ]
  },
  {
   "cell_type": "code",
   "execution_count": 9,
   "metadata": {},
   "outputs": [
    {
     "name": "stdout",
     "output_type": "stream",
     "text": [
      "Successfully saved: gyalwarinpoche_ALL_link_འཕྲིན་གསར།.json\n"
     ]
    }
   ],
   "source": [
    "# Saving the final file\n",
    "path = \"./data/\"\n",
    "file_name = f\"gyalwarinpoche_ALL_link_{article_tag}.json\"\n",
    "save_json(path, file_name, all_links['Data'])"
   ]
  },
  {
   "cell_type": "code",
   "execution_count": null,
   "metadata": {},
   "outputs": [],
   "source": []
  },
  {
   "cell_type": "code",
   "execution_count": null,
   "metadata": {},
   "outputs": [],
   "source": []
  },
  {
   "cell_type": "code",
   "execution_count": null,
   "metadata": {},
   "outputs": [],
   "source": []
  },
  {
   "cell_type": "code",
   "execution_count": null,
   "metadata": {},
   "outputs": [],
   "source": []
  }
 ],
 "metadata": {
  "kernelspec": {
   "display_name": "Python 3 (ipykernel)",
   "language": "python",
   "name": "python3"
  },
  "language_info": {
   "codemirror_mode": {
    "name": "ipython",
    "version": 3
   },
   "file_extension": ".py",
   "mimetype": "text/x-python",
   "name": "python",
   "nbconvert_exporter": "python",
   "pygments_lexer": "ipython3",
   "version": "3.10.13"
  }
 },
 "nbformat": 4,
 "nbformat_minor": 4
}
