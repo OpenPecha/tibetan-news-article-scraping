{
 "cells": [
  {
   "cell_type": "code",
   "execution_count": 1,
   "id": "46ee2202-8595-4f7f-89e5-597fb6b904fa",
   "metadata": {},
   "outputs": [],
   "source": [
    "from bs4 import BeautifulSoup\n",
    "import requests\n",
    "import re\n"
   ]
  },
  {
   "cell_type": "code",
   "execution_count": null,
   "id": "6a6b471d-42a7-4378-af4d-26869217a131",
   "metadata": {},
   "outputs": [],
   "source": []
  },
  {
   "cell_type": "code",
   "execution_count": null,
   "id": "457ad338-815d-420e-ae38-2269298a0040",
   "metadata": {},
   "outputs": [],
   "source": []
  },
  {
   "cell_type": "code",
   "execution_count": 5,
   "id": "f3dc8abc-2068-4a13-8655-7c50f29c1df1",
   "metadata": {},
   "outputs": [
    {
     "name": "stdout",
     "output_type": "stream",
     "text": [
      "<div class=\"nav\">\n",
      "<span><a href=\"http://www.tibetcnr.com\">མདུན་ཤོག</a></span>\n",
      "<span><a href=\"http://www.tibetcnr.com/zdgz2019/\">དམིགས་བསལ་དོ་ཁུར།</a></span>\n",
      "<span><a href=\"http://www.tibetcnr.com/zl/\">འོས་སྦྱོར།</a></span>\n",
      "<span><a href=\"http://www.tibetcnr.com/zhnew/mtxs/\">པར་མཛོད།</a></span>\n",
      "<span><a href=\"http://www.tibetcnr.com/xwnew/gdxwnew/\">གསར་འགྱུར།</a></span>\n",
      "<span><a href=\"http://www.tibetcnr.com/zhnew/wh/\">འཛམ་གླིང་སྐར་ཁུང་།</a></span>\n",
      "<span><a href=\"http://www.tibetcnr.com/shbk/\">འཚོ་བའི་རྒྱུན་ཤེས།</a></span>\n",
      "<!--\n",
      "\t\t\t<span><a href=\"http://www.tibetcnr.com/qtnew/ylsp/\">རིག་རྩལ།</a></span>           \n",
      "\t\t\t<span><a href=\"\">རླུང་འཕྲིན།</a></span>\n",
      "\t\t\t-->\n",
      "</div>\n"
     ]
    }
   ],
   "source": [
    "url = \"http://www.tibetcnr.com/\"\n",
    "\n",
    "headers = {\n",
    "        'User-Agent': 'Mozilla/5.0 (Windows NT 10.0; Win64; x64) AppleWebKit/537.36 (KHTML, like Gecko) Chrome/91.0.4472.124 Safari/537.36'\n",
    "    }\n",
    "response = requests.get(url, headers=headers)\n",
    "response.raise_for_status()\n",
    "\n",
    "# Parse the page content with BeautifulSoup\n",
    "soup = BeautifulSoup(response.content, 'html.parser')\n",
    "all_menu = soup.find(\"div\", class_=\"nav\")\n",
    "all_categories = []\n",
    "print(all_menu)\n",
    "if all_menu:\n",
    "    all_menu_link = all_menu.find_all(\"a\")\n",
    "    for each_link in all_menu_link:\n",
    "        href = each_link.get('href')\n",
    "        if href:\n",
    "            text = each_link.get_text(strip=True)\n",
    "            all_categories.append((text, href))"
   ]
  },
  {
   "cell_type": "code",
   "execution_count": 6,
   "id": "1455ba9d-db9b-4bf8-9cf7-ed824d8bef9c",
   "metadata": {},
   "outputs": [
    {
     "data": {
      "text/plain": [
       "[('མདུན་ཤོག', 'http://www.tibetcnr.com'),\n",
       " ('དམིགས་བསལ་དོ་ཁུར།', 'http://www.tibetcnr.com/zdgz2019/'),\n",
       " ('འོས་སྦྱོར།', 'http://www.tibetcnr.com/zl/'),\n",
       " ('པར་མཛོད།', 'http://www.tibetcnr.com/zhnew/mtxs/'),\n",
       " ('གསར་འགྱུར།', 'http://www.tibetcnr.com/xwnew/gdxwnew/'),\n",
       " ('འཛམ་གླིང་སྐར་ཁུང་།', 'http://www.tibetcnr.com/zhnew/wh/'),\n",
       " ('འཚོ་བའི་རྒྱུན་ཤེས།', 'http://www.tibetcnr.com/shbk/')]"
      ]
     },
     "execution_count": 6,
     "metadata": {},
     "output_type": "execute_result"
    }
   ],
   "source": [
    "all_categories"
   ]
  },
  {
   "cell_type": "code",
   "execution_count": 7,
   "id": "a1d45cb2-eee1-4973-80cd-31242d5ba011",
   "metadata": {},
   "outputs": [
    {
     "data": {
      "text/plain": [
       "7"
      ]
     },
     "execution_count": 7,
     "metadata": {},
     "output_type": "execute_result"
    }
   ],
   "source": [
    "len(all_categories)"
   ]
  },
  {
   "cell_type": "code",
   "execution_count": null,
   "id": "5ae48407-a6e4-4bca-9f68-c4e69d0da80c",
   "metadata": {},
   "outputs": [],
   "source": []
  },
  {
   "cell_type": "code",
   "execution_count": null,
   "id": "0c731687-54b2-4d27-9b22-156b284fbf10",
   "metadata": {},
   "outputs": [],
   "source": []
  },
  {
   "cell_type": "code",
   "execution_count": null,
   "id": "e68c29a1-3f1c-40af-b025-3bbeec98745b",
   "metadata": {},
   "outputs": [],
   "source": []
  },
  {
   "cell_type": "code",
   "execution_count": null,
   "id": "1e6e76f4-0d32-4c69-9b38-4e2c092855b9",
   "metadata": {},
   "outputs": [],
   "source": []
  },
  {
   "cell_type": "markdown",
   "id": "748060f9-8f9d-4c1d-97a1-b6b66cf79fe5",
   "metadata": {},
   "source": [
    "## Extarct each categories page number"
   ]
  },
  {
   "cell_type": "code",
   "execution_count": 23,
   "id": "bdf84d27-ff81-48dc-aaed-fc7e255fc468",
   "metadata": {},
   "outputs": [],
   "source": [
    "def get_page_no(url):\n",
    "    \"\"\"\n",
    "    \n",
    "    \"\"\"\n",
    "\n",
    "    headers = {\n",
    "        'User-Agent': 'Mozilla/5.0 (Windows NT 10.0; Win64; x64) AppleWebKit/537.36 (KHTML, like Gecko) Chrome/91.0.4472.124 Safari/537.36'\n",
    "    }\n",
    "    try:\n",
    "        # Make the request to the URL\n",
    "        response = requests.get(url, headers=headers)\n",
    "        response.raise_for_status()\n",
    "        \n",
    "        # Parse the page content with BeautifulSoup\n",
    "        soup = BeautifulSoup(response.content, 'html.parser')\n",
    "        # print(soup)\n",
    "        page_content = soup.find(\"div\", id=\"page\")\n",
    "        print(page_content)\n",
    "        if page_content:\n",
    "            all_page_link = page_content.find(\"span\", class_=\"num\")\n",
    "            if all_page_link:\n",
    "                page_no = all_page_link.get_text(strip=True)\n",
    "                if page_no:\n",
    "                    page_text_split = page_no.split(\"/\")\n",
    "                    page_number = int(page_text_split[-1])\n",
    "                    return [all_page_link.get(\"href\"), page_number]\n",
    "        all_page_link = soup.find(\"span\", class_=\"num\")\n",
    "        print(all_page_link)\n",
    "        return [\"no link last page link\" , 0]\n",
    "    except Exception as e:\n",
    "        print(e)\n",
    "        print(url, \"\\n\\n\")\n",
    "        return [\"no link last page link\" , 0]"
   ]
  },
  {
   "cell_type": "code",
   "execution_count": 24,
   "id": "eabf2fc9-3f11-4ec8-ac7a-38678c9f5197",
   "metadata": {},
   "outputs": [
    {
     "name": "stdout",
     "output_type": "stream",
     "text": [
      "<div class=\"page\" id=\"page\"></div>\n",
      "None\n"
     ]
    },
    {
     "data": {
      "text/plain": [
       "['no link last page link', 0]"
      ]
     },
     "execution_count": 24,
     "metadata": {},
     "output_type": "execute_result"
    }
   ],
   "source": [
    "url = \"http://www.tibetcnr.com/zl/\"\n",
    "url = \"http://www.tibetcnr.com/shbk/\"\n",
    "\n",
    "get_page_no(url)\n"
   ]
  },
  {
   "cell_type": "code",
   "execution_count": null,
   "id": "fc64a061-a056-4e59-8ae1-8e1d53a2af17",
   "metadata": {},
   "outputs": [],
   "source": []
  },
  {
   "cell_type": "code",
   "execution_count": null,
   "id": "dd48ab80-ad8e-4c2f-a5c1-0218a8ef5778",
   "metadata": {},
   "outputs": [],
   "source": []
  },
  {
   "cell_type": "code",
   "execution_count": null,
   "id": "665a9616-e38b-4198-9bbb-1a99968f2313",
   "metadata": {},
   "outputs": [],
   "source": []
  },
  {
   "cell_type": "code",
   "execution_count": null,
   "id": "d5d6046b-dc27-45f8-857c-276251790f67",
   "metadata": {},
   "outputs": [],
   "source": []
  },
  {
   "cell_type": "code",
   "execution_count": 25,
   "id": "f7ebab88-4e68-4823-a27d-d9e02f9da8dd",
   "metadata": {},
   "outputs": [],
   "source": []
  },
  {
   "cell_type": "code",
   "execution_count": null,
   "id": "bc1d1fa0-90e8-4b64-a9f6-2320c748e0b5",
   "metadata": {},
   "outputs": [],
   "source": []
  },
  {
   "cell_type": "code",
   "execution_count": null,
   "id": "2f518518-df28-433b-abd2-14c796cc460a",
   "metadata": {},
   "outputs": [],
   "source": []
  },
  {
   "cell_type": "code",
   "execution_count": 26,
   "id": "029a9b6f-1b97-493b-8501-87bc3436f7ec",
   "metadata": {},
   "outputs": [],
   "source": [
    "# final_link = []\n",
    "# new_categories = all_categories\n",
    "# i = 0\n",
    "# for each_link in new_categories:\n",
    "#     link = each_link[0]\n",
    "#     page_no = get_page_no(link)\n",
    "#     if \"no link last page link\" == page_no[0]:\n",
    "#         print(page_no)\n",
    "        \n",
    "#     clean_list = []\n",
    "#     clean_list.extend(each_link)\n",
    "#     clean_list.extend(page_no)\n",
    "#     # print(clean_list)\n",
    "#     final_link.append(clean_list)\n",
    "#     i = i+1\n",
    "#     if i%5 == 0:\n",
    "#         print(i)\n"
   ]
  },
  {
   "cell_type": "markdown",
   "id": "f6bc88a2-f519-4a14-a26b-8cf81b682470",
   "metadata": {},
   "source": [
    "## having issue with page no and going manual"
   ]
  },
  {
   "cell_type": "code",
   "execution_count": 32,
   "id": "e2e3f498-4043-4433-a531-f14dbc25b065",
   "metadata": {},
   "outputs": [],
   "source": [
    "final_link = [('དམིགས་བསལ་དོ་ཁུར།', 'http://www.tibetcnr.com/zdgz2019/', 20, 20 ),\n",
    " ('འོས་སྦྱོར།', 'http://www.tibetcnr.com/zl/', 20, 20 ),\n",
    " ('པར་མཛོད།', 'http://www.tibetcnr.com/zhnew/mtxs/', 20, 20),\n",
    " ('གསར་འགྱུར།', 'http://www.tibetcnr.com/xwnew/gdxwnew/', 20, 20),\n",
    " ('འཛམ་གླིང་སྐར་ཁུང་།', 'http://www.tibetcnr.com/zhnew/wh/', 20, 20),\n",
    " ('འཚོ་བའི་རྒྱུན་ཤེས།', 'http://www.tibetcnr.com/shbk/', 18, 18)]"
   ]
  },
  {
   "cell_type": "code",
   "execution_count": 33,
   "id": "d9cb015a-793e-4c47-a5f8-827d6bbaf00b",
   "metadata": {},
   "outputs": [
    {
     "data": {
      "text/plain": [
       "[('དམིགས་བསལ་དོ་ཁུར།', 'http://www.tibetcnr.com/zdgz2019/', 20, 20),\n",
       " ('འོས་སྦྱོར།', 'http://www.tibetcnr.com/zl/', 20, 20),\n",
       " ('པར་མཛོད།', 'http://www.tibetcnr.com/zhnew/mtxs/', 20, 20),\n",
       " ('གསར་འགྱུར།', 'http://www.tibetcnr.com/xwnew/gdxwnew/', 20, 20),\n",
       " ('འཛམ་གླིང་སྐར་ཁུང་།', 'http://www.tibetcnr.com/zhnew/wh/', 20, 20)]"
      ]
     },
     "execution_count": 33,
     "metadata": {},
     "output_type": "execute_result"
    }
   ],
   "source": [
    "final_link[:5]"
   ]
  },
  {
   "cell_type": "code",
   "execution_count": null,
   "id": "99eaa940-3e9f-4242-8fb4-5eddf762c916",
   "metadata": {},
   "outputs": [],
   "source": []
  },
  {
   "cell_type": "code",
   "execution_count": null,
   "id": "9186ec04-6952-4676-8fb1-e50963392fb9",
   "metadata": {},
   "outputs": [],
   "source": []
  },
  {
   "cell_type": "markdown",
   "id": "bc6fd405-fb81-4fcf-9f1e-562c13bbe227",
   "metadata": {},
   "source": [
    "## saving the final file"
   ]
  },
  {
   "cell_type": "code",
   "execution_count": 29,
   "id": "b3cd8de9-dce3-43d4-9bf1-5fe4f55316df",
   "metadata": {},
   "outputs": [],
   "source": [
    "import pandas as pd"
   ]
  },
  {
   "cell_type": "code",
   "execution_count": null,
   "id": "205aca67-bffb-442f-88d4-7b85f7943a9f",
   "metadata": {},
   "outputs": [],
   "source": []
  },
  {
   "cell_type": "code",
   "execution_count": 34,
   "id": "2fa6a92b-8907-4222-b860-e5275ef8759f",
   "metadata": {},
   "outputs": [
    {
     "data": {
      "text/html": [
       "<div>\n",
       "<style scoped>\n",
       "    .dataframe tbody tr th:only-of-type {\n",
       "        vertical-align: middle;\n",
       "    }\n",
       "\n",
       "    .dataframe tbody tr th {\n",
       "        vertical-align: top;\n",
       "    }\n",
       "\n",
       "    .dataframe thead th {\n",
       "        text-align: right;\n",
       "    }\n",
       "</style>\n",
       "<table border=\"1\" class=\"dataframe\">\n",
       "  <thead>\n",
       "    <tr style=\"text-align: right;\">\n",
       "      <th></th>\n",
       "      <th>original_url</th>\n",
       "      <th>name_of_cate</th>\n",
       "      <th>Last_page_link</th>\n",
       "      <th>list_page_no</th>\n",
       "    </tr>\n",
       "  </thead>\n",
       "  <tbody>\n",
       "    <tr>\n",
       "      <th>0</th>\n",
       "      <td>དམིགས་བསལ་དོ་ཁུར།</td>\n",
       "      <td>http://www.tibetcnr.com/zdgz2019/</td>\n",
       "      <td>20</td>\n",
       "      <td>20</td>\n",
       "    </tr>\n",
       "    <tr>\n",
       "      <th>1</th>\n",
       "      <td>འོས་སྦྱོར།</td>\n",
       "      <td>http://www.tibetcnr.com/zl/</td>\n",
       "      <td>20</td>\n",
       "      <td>20</td>\n",
       "    </tr>\n",
       "    <tr>\n",
       "      <th>2</th>\n",
       "      <td>པར་མཛོད།</td>\n",
       "      <td>http://www.tibetcnr.com/zhnew/mtxs/</td>\n",
       "      <td>20</td>\n",
       "      <td>20</td>\n",
       "    </tr>\n",
       "    <tr>\n",
       "      <th>3</th>\n",
       "      <td>གསར་འགྱུར།</td>\n",
       "      <td>http://www.tibetcnr.com/xwnew/gdxwnew/</td>\n",
       "      <td>20</td>\n",
       "      <td>20</td>\n",
       "    </tr>\n",
       "    <tr>\n",
       "      <th>4</th>\n",
       "      <td>འཛམ་གླིང་སྐར་ཁུང་།</td>\n",
       "      <td>http://www.tibetcnr.com/zhnew/wh/</td>\n",
       "      <td>20</td>\n",
       "      <td>20</td>\n",
       "    </tr>\n",
       "  </tbody>\n",
       "</table>\n",
       "</div>"
      ],
      "text/plain": [
       "         original_url                            name_of_cate  Last_page_link  \\\n",
       "0   དམིགས་བསལ་དོ་ཁུར།       http://www.tibetcnr.com/zdgz2019/              20   \n",
       "1          འོས་སྦྱོར།             http://www.tibetcnr.com/zl/              20   \n",
       "2            པར་མཛོད།     http://www.tibetcnr.com/zhnew/mtxs/              20   \n",
       "3          གསར་འགྱུར།  http://www.tibetcnr.com/xwnew/gdxwnew/              20   \n",
       "4  འཛམ་གླིང་སྐར་ཁུང་།       http://www.tibetcnr.com/zhnew/wh/              20   \n",
       "\n",
       "   list_page_no  \n",
       "0            20  \n",
       "1            20  \n",
       "2            20  \n",
       "3            20  \n",
       "4            20  "
      ]
     },
     "execution_count": 34,
     "metadata": {},
     "output_type": "execute_result"
    }
   ],
   "source": [
    "df = pd.DataFrame(final_link, columns=[ 'original_url', 'name_of_cate', 'Last_page_link', 'list_page_no'])\n",
    "df.head()"
   ]
  },
  {
   "cell_type": "code",
   "execution_count": 35,
   "id": "53b3fcfa-ac75-4393-a6d6-ba7fdac59f70",
   "metadata": {},
   "outputs": [
    {
     "data": {
      "text/html": [
       "<div>\n",
       "<style scoped>\n",
       "    .dataframe tbody tr th:only-of-type {\n",
       "        vertical-align: middle;\n",
       "    }\n",
       "\n",
       "    .dataframe tbody tr th {\n",
       "        vertical-align: top;\n",
       "    }\n",
       "\n",
       "    .dataframe thead th {\n",
       "        text-align: right;\n",
       "    }\n",
       "</style>\n",
       "<table border=\"1\" class=\"dataframe\">\n",
       "  <thead>\n",
       "    <tr style=\"text-align: right;\">\n",
       "      <th></th>\n",
       "      <th>original_url</th>\n",
       "      <th>name_of_cate</th>\n",
       "      <th>Last_page_link</th>\n",
       "      <th>list_page_no</th>\n",
       "    </tr>\n",
       "  </thead>\n",
       "  <tbody>\n",
       "    <tr>\n",
       "      <th>0</th>\n",
       "      <td>དམིགས་བསལ་དོ་ཁུར།</td>\n",
       "      <td>http://www.tibetcnr.com/zdgz2019/</td>\n",
       "      <td>20</td>\n",
       "      <td>20</td>\n",
       "    </tr>\n",
       "    <tr>\n",
       "      <th>1</th>\n",
       "      <td>འོས་སྦྱོར།</td>\n",
       "      <td>http://www.tibetcnr.com/zl/</td>\n",
       "      <td>20</td>\n",
       "      <td>20</td>\n",
       "    </tr>\n",
       "    <tr>\n",
       "      <th>2</th>\n",
       "      <td>པར་མཛོད།</td>\n",
       "      <td>http://www.tibetcnr.com/zhnew/mtxs/</td>\n",
       "      <td>20</td>\n",
       "      <td>20</td>\n",
       "    </tr>\n",
       "    <tr>\n",
       "      <th>3</th>\n",
       "      <td>གསར་འགྱུར།</td>\n",
       "      <td>http://www.tibetcnr.com/xwnew/gdxwnew/</td>\n",
       "      <td>20</td>\n",
       "      <td>20</td>\n",
       "    </tr>\n",
       "    <tr>\n",
       "      <th>4</th>\n",
       "      <td>འཛམ་གླིང་སྐར་ཁུང་།</td>\n",
       "      <td>http://www.tibetcnr.com/zhnew/wh/</td>\n",
       "      <td>20</td>\n",
       "      <td>20</td>\n",
       "    </tr>\n",
       "    <tr>\n",
       "      <th>5</th>\n",
       "      <td>འཚོ་བའི་རྒྱུན་ཤེས།</td>\n",
       "      <td>http://www.tibetcnr.com/shbk/</td>\n",
       "      <td>18</td>\n",
       "      <td>18</td>\n",
       "    </tr>\n",
       "  </tbody>\n",
       "</table>\n",
       "</div>"
      ],
      "text/plain": [
       "         original_url                            name_of_cate  Last_page_link  \\\n",
       "0   དམིགས་བསལ་དོ་ཁུར།       http://www.tibetcnr.com/zdgz2019/              20   \n",
       "1          འོས་སྦྱོར།             http://www.tibetcnr.com/zl/              20   \n",
       "2            པར་མཛོད།     http://www.tibetcnr.com/zhnew/mtxs/              20   \n",
       "3          གསར་འགྱུར།  http://www.tibetcnr.com/xwnew/gdxwnew/              20   \n",
       "4  འཛམ་གླིང་སྐར་ཁུང་།       http://www.tibetcnr.com/zhnew/wh/              20   \n",
       "5  འཚོ་བའི་རྒྱུན་ཤེས།           http://www.tibetcnr.com/shbk/              18   \n",
       "\n",
       "   list_page_no  \n",
       "0            20  \n",
       "1            20  \n",
       "2            20  \n",
       "3            20  \n",
       "4            20  \n",
       "5            18  "
      ]
     },
     "execution_count": 35,
     "metadata": {},
     "output_type": "execute_result"
    }
   ],
   "source": [
    "df.head(30)"
   ]
  },
  {
   "cell_type": "code",
   "execution_count": null,
   "id": "68f72689-7f0b-4301-9cb8-e71dc582f3a3",
   "metadata": {},
   "outputs": [],
   "source": []
  },
  {
   "cell_type": "code",
   "execution_count": null,
   "id": "87b709f9-e16b-45fb-98d3-258d543a0606",
   "metadata": {},
   "outputs": [],
   "source": []
  },
  {
   "cell_type": "code",
   "execution_count": 36,
   "id": "7a9dddfc-9d54-4c6f-9457-a0ca703d678f",
   "metadata": {},
   "outputs": [],
   "source": [
    "df.to_csv(\"./data/All_cate.csv\", index=False)"
   ]
  },
  {
   "cell_type": "code",
   "execution_count": 37,
   "id": "b8ece6f1-8be4-45ac-bd8b-e65ed382227f",
   "metadata": {},
   "outputs": [
    {
     "data": {
      "text/plain": [
       "(6, 4)"
      ]
     },
     "execution_count": 37,
     "metadata": {},
     "output_type": "execute_result"
    }
   ],
   "source": [
    "df.shape"
   ]
  },
  {
   "cell_type": "code",
   "execution_count": null,
   "id": "48301f20-5243-4fc9-9ea0-b6e870b3b226",
   "metadata": {},
   "outputs": [],
   "source": []
  }
 ],
 "metadata": {
  "kernelspec": {
   "display_name": "Python 3 (ipykernel)",
   "language": "python",
   "name": "python3"
  },
  "language_info": {
   "codemirror_mode": {
    "name": "ipython",
    "version": 3
   },
   "file_extension": ".py",
   "mimetype": "text/x-python",
   "name": "python",
   "nbconvert_exporter": "python",
   "pygments_lexer": "ipython3",
   "version": "3.10.13"
  }
 },
 "nbformat": 4,
 "nbformat_minor": 5
}
