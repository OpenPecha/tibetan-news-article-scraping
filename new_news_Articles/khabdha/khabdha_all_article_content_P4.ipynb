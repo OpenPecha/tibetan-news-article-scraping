{
 "cells": [
  {
   "cell_type": "code",
   "execution_count": 24,
   "metadata": {},
   "outputs": [],
   "source": [
    "import requests\n",
    "from bs4 import BeautifulSoup\n",
    "import json\n",
    "import time\n",
    "from tqdm import tqdm\n",
    "import re"
   ]
  },
  {
   "cell_type": "code",
   "execution_count": 25,
   "metadata": {},
   "outputs": [],
   "source": [
    "import khabdha_utils"
   ]
  },
  {
   "cell_type": "markdown",
   "metadata": {},
   "source": [
    "## Here we will extract all the articles content from khabdha webpage\n",
    "URL: https://www.khabdha.org/"
   ]
  },
  {
   "cell_type": "code",
   "execution_count": 26,
   "metadata": {},
   "outputs": [],
   "source": [
    "def save_json(path, file_name, data):\n",
    "    \"\"\"\n",
    "    \n",
    "    \"\"\"\n",
    "    with open(path+file_name, \"w\") as outfile:\n",
    "        json.dump(data, outfile, indent=4, ensure_ascii=False)\n",
    "        print(f\"Successfully saved: {file_name}\")"
   ]
  },
  {
   "cell_type": "code",
   "execution_count": 27,
   "metadata": {},
   "outputs": [],
   "source": [
    "def read_json(path, file_name):\n",
    "    \"\"\"\n",
    "    \n",
    "    \"\"\"\n",
    "    with open(path+file_name, 'r') as openfile:\n",
    "        # Reading from json file\n",
    "        Loaded_file = json.load(openfile)\n",
    "        print(f\"Successfully loaded: {file_name}\")\n",
    "\n",
    "    return Loaded_file\n"
   ]
  },
  {
   "cell_type": "code",
   "execution_count": null,
   "metadata": {},
   "outputs": [],
   "source": []
  },
  {
   "cell_type": "code",
   "execution_count": null,
   "metadata": {},
   "outputs": [],
   "source": []
  },
  {
   "cell_type": "code",
   "execution_count": null,
   "metadata": {},
   "outputs": [],
   "source": []
  },
  {
   "cell_type": "markdown",
   "metadata": {},
   "source": [
    "## all khabdha_ALL_link_མདུན་ངོས།.json"
   ]
  },
  {
   "cell_type": "code",
   "execution_count": 28,
   "metadata": {},
   "outputs": [
    {
     "name": "stdout",
     "output_type": "stream",
     "text": [
      "Successfully loaded: khabdha_ALL_link_མདུན་ངོས།.json\n",
      "Total page in khabdha_ALL_link_མདུན་ངོས།.json: 905\n"
     ]
    }
   ],
   "source": [
    "path = \"./data/\"\n",
    "file_name = \"khabdha_ALL_link_མདུན་ངོས།.json\"\n",
    "All_links_data = read_json(path, file_name)\n",
    "Total_lenght = len(All_links_data)\n",
    "print(f\"Total page in {file_name}: {Total_lenght}\")"
   ]
  },
  {
   "cell_type": "code",
   "execution_count": 29,
   "metadata": {},
   "outputs": [
    {
     "name": "stdout",
     "output_type": "stream",
     "text": [
      "page key name: Page མདུན་ངོས། 2\n",
      "Page key code: Page མདུན་ངོས། \n"
     ]
    }
   ],
   "source": [
    "print(f\"page key name: {list(All_links_data.keys())[1]}\")\n",
    "page_key_list = list(All_links_data.keys())[1].split(\" \")\n",
    "\n",
    "page_key_code = \"Page \"+page_key_list[1]+\" \"\n",
    "print(f\"Page key code: {page_key_code}\")"
   ]
  },
  {
   "cell_type": "code",
   "execution_count": 30,
   "metadata": {},
   "outputs": [
    {
     "name": "stderr",
     "output_type": "stream",
     "text": [
      "100%|██████████| 905/905 [3:07:32<00:00, 12.43s/it]  \n"
     ]
    }
   ],
   "source": [
    "start = 1\n",
    "all_article = {}\n",
    "\n",
    "for i in tqdm(range(start, Total_lenght+1)):\n",
    "    page_key = page_key_code + str(i)\n",
    "    all_link_page = All_links_data[page_key][\"Links\"]\n",
    "    page_article_index = 1\n",
    "    \n",
    "    for each_URL in all_link_page:\n",
    "        article_content = khabdha_utils.scrape_khabdha_article_content(each_URL)\n",
    "        article_key = page_key + \"_khabdha_Article_\" + str(page_article_index)\n",
    "        page_article_index += 1\n",
    "        all_article[article_key] = article_content"
   ]
  },
  {
   "cell_type": "code",
   "execution_count": 31,
   "metadata": {},
   "outputs": [
    {
     "name": "stdout",
     "output_type": "stream",
     "text": [
      "Page མདུན་ངོས། 426_khabdha_Article_5\n",
      "Page མདུན་ངོས། 430_khabdha_Article_5\n",
      "Page མདུན་ངོས། 431_khabdha_Article_10\n",
      "Page མདུན་ངོས། 431_khabdha_Article_11\n",
      "Page མདུན་ངོས། 432_khabdha_Article_2\n",
      "Page མདུན་ངོས། 432_khabdha_Article_19\n",
      "Page མདུན་ངོས། 433_khabdha_Article_3\n",
      "Page མདུན་ངོས། 434_khabdha_Article_12\n",
      "Page མདུན་ངོས། 435_khabdha_Article_1\n",
      "Page མདུན་ངོས། 435_khabdha_Article_18\n",
      "Page མདུན་ངོས། 436_khabdha_Article_1\n",
      "Page མདུན་ངོས། 437_khabdha_Article_6\n",
      "Page མདུན་ངོས། 437_khabdha_Article_8\n",
      "Page མདུན་ངོས། 437_khabdha_Article_20\n",
      "Page མདུན་ངོས། 440_khabdha_Article_4\n",
      "Page མདུན་ངོས། 440_khabdha_Article_5\n",
      "Page མདུན་ངོས། 440_khabdha_Article_19\n",
      "Page མདུན་ངོས། 441_khabdha_Article_7\n",
      "Page མདུན་ངོས། 441_khabdha_Article_18\n",
      "Page མདུན་ངོས། 443_khabdha_Article_3\n",
      "Page མདུན་ངོས། 444_khabdha_Article_11\n",
      "Page མདུན་ངོས། 445_khabdha_Article_1\n",
      "Page མདུན་ངོས། 448_khabdha_Article_2\n",
      "Page མདུན་ངོས། 448_khabdha_Article_11\n",
      "Page མདུན་ངོས། 449_khabdha_Article_17\n",
      "Page མདུན་ངོས། 451_khabdha_Article_17\n",
      "Page མདུན་ངོས། 453_khabdha_Article_11\n",
      "Page མདུན་ངོས། 455_khabdha_Article_10\n",
      "Page མདུན་ངོས། 456_khabdha_Article_7\n",
      "Page མདུན་ངོས། 457_khabdha_Article_13\n",
      "Page མདུན་ངོས། 458_khabdha_Article_8\n",
      "Page མདུན་ངོས། 458_khabdha_Article_16\n",
      "Page མདུན་ངོས། 460_khabdha_Article_4\n",
      "Page མདུན་ངོས། 461_khabdha_Article_5\n",
      "Page མདུན་ངོས། 461_khabdha_Article_6\n",
      "Page མདུན་ངོས། 462_khabdha_Article_11\n",
      "Page མདུན་ངོས། 484_khabdha_Article_7\n",
      "Page མདུན་ངོས། 518_khabdha_Article_2\n",
      "Page མདུན་ངོས། 555_khabdha_Article_9\n",
      "Page མདུན་ངོས། 557_khabdha_Article_16\n",
      "Page མདུན་ངོས། 579_khabdha_Article_18\n",
      "Page མདུན་ངོས། 608_khabdha_Article_5\n",
      "Page མདུན་ངོས། 608_khabdha_Article_12\n",
      "Page མདུན་ངོས། 610_khabdha_Article_2\n",
      "Page མདུན་ངོས། 613_khabdha_Article_2\n",
      "Page མདུན་ངོས། 614_khabdha_Article_16\n",
      "Page མདུན་ངོས། 616_khabdha_Article_1\n",
      "Page མདུན་ངོས། 616_khabdha_Article_10\n",
      "Page མདུན་ངོས། 678_khabdha_Article_2\n",
      "Page མདུན་ངོས། 679_khabdha_Article_9\n",
      "Page མདུན་ངོས། 679_khabdha_Article_16\n",
      "Page མདུན་ངོས། 681_khabdha_Article_4\n",
      "Page མདུན་ངོས། 682_khabdha_Article_12\n",
      "Page མདུན་ངོས། 683_khabdha_Article_1\n",
      "Page མདུན་ངོས། 683_khabdha_Article_13\n",
      "Page མདུན་ངོས། 684_khabdha_Article_16\n",
      "Page མདུན་ངོས། 685_khabdha_Article_4\n",
      "Page མདུན་ངོས། 685_khabdha_Article_18\n",
      "Page མདུན་ངོས། 686_khabdha_Article_7\n",
      "Page མདུན་ངོས། 686_khabdha_Article_11\n",
      "Page མདུན་ངོས། 687_khabdha_Article_1\n",
      "Page མདུན་ངོས། 687_khabdha_Article_4\n",
      "Page མདུན་ངོས། 687_khabdha_Article_10\n",
      "Page མདུན་ངོས། 687_khabdha_Article_17\n",
      "Page མདུན་ངོས། 688_khabdha_Article_2\n",
      "Page མདུན་ངོས། 688_khabdha_Article_17\n",
      "Page མདུན་ངོས། 690_khabdha_Article_2\n",
      "Page མདུན་ངོས། 690_khabdha_Article_9\n",
      "Page མདུན་ངོས། 691_khabdha_Article_4\n",
      "Page མདུན་ངོས། 691_khabdha_Article_18\n",
      "Page མདུན་ངོས། 692_khabdha_Article_6\n",
      "Page མདུན་ངོས། 698_khabdha_Article_3\n",
      "Page མདུན་ངོས། 706_khabdha_Article_15\n",
      "Page མདུན་ངོས། 718_khabdha_Article_11\n",
      "Page མདུན་ངོས། 743_khabdha_Article_12\n",
      "Page མདུན་ངོས། 755_khabdha_Article_5\n",
      "Page མདུན་ངོས། 770_khabdha_Article_5\n",
      "Page མདུན་ངོས། 772_khabdha_Article_5\n",
      "Page མདུན་ངོས། 773_khabdha_Article_18\n",
      "Page མདུན་ངོས། 816_khabdha_Article_13\n",
      "Page མདུན་ངོས། 897_khabdha_Article_18\n",
      "total Failure in the མདུན་ངོས། article: 81\n"
     ]
    }
   ],
   "source": [
    "Failure_count = 0\n",
    "for each_article_key in all_article:\n",
    "    if all_article[each_article_key][\"Response\"] != 200:\n",
    "        print(each_article_key)\n",
    "        Failure_count += 1\n",
    "\n",
    "print(f\"total Failure in the {page_key_list[1]} article: {Failure_count}\")"
   ]
  },
  {
   "cell_type": "markdown",
   "metadata": {},
   "source": [
    "### saving file"
   ]
  },
  {
   "cell_type": "code",
   "execution_count": 32,
   "metadata": {},
   "outputs": [
    {
     "name": "stdout",
     "output_type": "stream",
     "text": [
      "Successfully saved: khabdha_ALL_content_མདུན་ངོས།.json\n"
     ]
    }
   ],
   "source": [
    "save_file_name = f\"khabdha_ALL_content_{page_key_list[1]}.json\"\n",
    "save_json(path, save_file_name, all_article)"
   ]
  },
  {
   "cell_type": "code",
   "execution_count": 33,
   "metadata": {},
   "outputs": [
    {
     "data": {
      "text/plain": [
       "18088"
      ]
     },
     "execution_count": 33,
     "metadata": {},
     "output_type": "execute_result"
    }
   ],
   "source": [
    "len(all_article)"
   ]
  },
  {
   "cell_type": "code",
   "execution_count": null,
   "metadata": {},
   "outputs": [],
   "source": []
  },
  {
   "cell_type": "code",
   "execution_count": null,
   "metadata": {},
   "outputs": [],
   "source": []
  },
  {
   "cell_type": "code",
   "execution_count": null,
   "metadata": {},
   "outputs": [],
   "source": []
  },
  {
   "cell_type": "code",
   "execution_count": null,
   "metadata": {},
   "outputs": [],
   "source": []
  },
  {
   "cell_type": "code",
   "execution_count": null,
   "metadata": {},
   "outputs": [],
   "source": []
  },
  {
   "cell_type": "code",
   "execution_count": null,
   "metadata": {},
   "outputs": [],
   "source": []
  },
  {
   "cell_type": "code",
   "execution_count": null,
   "metadata": {},
   "outputs": [],
   "source": []
  },
  {
   "cell_type": "code",
   "execution_count": null,
   "metadata": {},
   "outputs": [],
   "source": []
  },
  {
   "cell_type": "code",
   "execution_count": null,
   "metadata": {},
   "outputs": [],
   "source": []
  },
  {
   "cell_type": "code",
   "execution_count": null,
   "metadata": {},
   "outputs": [],
   "source": []
  },
  {
   "cell_type": "code",
   "execution_count": null,
   "metadata": {},
   "outputs": [],
   "source": []
  },
  {
   "cell_type": "code",
   "execution_count": null,
   "metadata": {},
   "outputs": [],
   "source": []
  },
  {
   "cell_type": "code",
   "execution_count": null,
   "metadata": {},
   "outputs": [],
   "source": []
  },
  {
   "cell_type": "code",
   "execution_count": null,
   "metadata": {},
   "outputs": [],
   "source": []
  }
 ],
 "metadata": {
  "kernelspec": {
   "display_name": "Python 3 (ipykernel)",
   "language": "python",
   "name": "python3"
  },
  "language_info": {
   "codemirror_mode": {
    "name": "ipython",
    "version": 3
   },
   "file_extension": ".py",
   "mimetype": "text/x-python",
   "name": "python",
   "nbconvert_exporter": "python",
   "pygments_lexer": "ipython3",
   "version": "3.10.13"
  }
 },
 "nbformat": 4,
 "nbformat_minor": 4
}
