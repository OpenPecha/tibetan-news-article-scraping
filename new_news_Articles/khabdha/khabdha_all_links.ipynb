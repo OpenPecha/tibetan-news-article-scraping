{
 "cells": [
  {
   "cell_type": "code",
   "execution_count": 1,
   "metadata": {},
   "outputs": [],
   "source": [
    "import requests\n",
    "from bs4 import BeautifulSoup\n",
    "import json\n",
    "import time\n",
    "\n",
    "from tqdm import tqdm\n",
    "\n"
   ]
  },
  {
   "cell_type": "code",
   "execution_count": 3,
   "metadata": {},
   "outputs": [],
   "source": [
    "import khabdha_utils"
   ]
  },
  {
   "cell_type": "code",
   "execution_count": null,
   "metadata": {},
   "outputs": [],
   "source": []
  },
  {
   "cell_type": "markdown",
   "metadata": {},
   "source": [
    "## Here we will extract all the articles links from khabdha webpage\n",
    "URL: https://www.khabdha.org/"
   ]
  },
  {
   "cell_type": "markdown",
   "metadata": {},
   "source": [
    "\n",
    "------------\n",
    "-----------\n",
    "------------\n",
    "------------\n",
    "------------"
   ]
  },
  {
   "cell_type": "code",
   "execution_count": 4,
   "metadata": {},
   "outputs": [],
   "source": [
    "def loop_article_page(total_page, custom_url, key_code):\n",
    "    \"\"\"\n",
    "    \n",
    "    \"\"\"\n",
    "    return_file = {\n",
    "        \"Data\": [],\n",
    "        \"message\": \"success\",\n",
    "        \"response\": 200\n",
    "    }\n",
    "    All_url_links = {}\n",
    "    \n",
    "    try:\n",
    "        for i in tqdm(range(1, total_page)):\n",
    "            final_url = custom_url + str(i) +\"/\"\n",
    "            found_url_links = khabdha_utils.extract_all_khabdha_page_article_links(final_url)\n",
    "            key = key_code + str(i)\n",
    "            All_url_links[key] = found_url_links\n",
    "        return_file[\"Data\"] = All_url_links\n",
    "        return return_file\n",
    "    \n",
    "    except Exception as e:\n",
    "        return_file[\"Data\"] = All_url_links\n",
    "        return_file[\"message\"] = e\n",
    "        return_file[\"response\"] = 404\n",
    "        return return_file"
   ]
  },
  {
   "cell_type": "code",
   "execution_count": 5,
   "metadata": {},
   "outputs": [],
   "source": [
    "def check_error_in_links(All_url_link, page_code, print_each_error=False):\n",
    "    \"\"\"\n",
    "    \n",
    "    \"\"\"\n",
    "\n",
    "    error_counter = 0\n",
    "    for page_id in range(1, len(All_url_link)):\n",
    "        page_key = page_code + str(page_id)\n",
    "        try:\n",
    "            All_url_link.get(page_key)\n",
    "            if  All_url_link.get(page_key)[\"Response\"]!= 200:\n",
    "                error_counter += 1\n",
    "                if print_each_error:\n",
    "                    print(page_key, All_url_link.get(page_key)[\"message\"])\n",
    "        except Exception as e:\n",
    "            print(page_key, e)\n",
    "\n",
    "    print(f\"Total error in {page_code}: {error_counter}\")"
   ]
  },
  {
   "cell_type": "code",
   "execution_count": 6,
   "metadata": {},
   "outputs": [],
   "source": [
    "def save_json(path, file_name, data):\n",
    "    \"\"\"\n",
    "    \n",
    "    \"\"\"\n",
    "    with open(path+file_name, \"w\") as outfile:\n",
    "        json.dump(data, outfile, indent=4, ensure_ascii=False)\n",
    "        print(f\"Successfully saved: {file_name}\")"
   ]
  },
  {
   "cell_type": "markdown",
   "metadata": {},
   "source": [
    "------------\n",
    "------------\n",
    "------------\n",
    "\n",
    "\n",
    "\n",
    "# A. Extracting all Article links from home page\n",
    "- Base URL: https://www.khabdha.org/page/2/\n",
    "- Custom URL: https://www.khabdha.org/page/ + str(i) + \"/\"\n",
    "- Total page:905"
   ]
  },
  {
   "cell_type": "code",
   "execution_count": 7,
   "metadata": {},
   "outputs": [
    {
     "name": "stderr",
     "output_type": "stream",
     "text": [
      "100%|██████████| 905/905 [12:52<00:00,  1.17it/s] \n"
     ]
    }
   ],
   "source": [
    "total_page = 905 + 1\n",
    "custom_url= \"https://www.khabdha.org/page/\"\n",
    "\n",
    "article_tag = \"མདུན་ངོས།\"\n",
    "key_code = \"Page \" + article_tag + \" \"\n",
    "all_links = loop_article_page(total_page, custom_url, key_code)\n"
   ]
  },
  {
   "cell_type": "code",
   "execution_count": 8,
   "metadata": {},
   "outputs": [
    {
     "name": "stdout",
     "output_type": "stream",
     "text": [
      "Total page in མདུན་ངོས།: 905\n"
     ]
    }
   ],
   "source": [
    "print(f\"Total page in {article_tag}: {len(all_links['Data'])}\")"
   ]
  },
  {
   "cell_type": "code",
   "execution_count": 9,
   "metadata": {},
   "outputs": [
    {
     "name": "stdout",
     "output_type": "stream",
     "text": [
      "Total error in Page མདུན་ངོས། : 0\n"
     ]
    }
   ],
   "source": [
    "check_error_in_links(all_links['Data'], key_code, print_each_error=True)"
   ]
  },
  {
   "cell_type": "code",
   "execution_count": 10,
   "metadata": {},
   "outputs": [
    {
     "name": "stdout",
     "output_type": "stream",
     "text": [
      "Successfully saved: khabdha_ALL_link_མདུན་ངོས།.json\n"
     ]
    }
   ],
   "source": [
    "# Saving the final file\n",
    "path = \"./data/\"\n",
    "file_name = f\"khabdha_ALL_link_{article_tag}.json\"\n",
    "save_json(path, file_name, all_links['Data'])"
   ]
  },
  {
   "cell_type": "code",
   "execution_count": null,
   "metadata": {},
   "outputs": [],
   "source": [
    "\n",
    "    "
   ]
  },
  {
   "cell_type": "code",
   "execution_count": null,
   "metadata": {},
   "outputs": [],
   "source": []
  },
  {
   "cell_type": "markdown",
   "metadata": {},
   "source": [
    "------------\n",
    "------------\n",
    "------------\n",
    "\n",
    "\n",
    "\n",
    "\n",
    "# B. Extracting all Article links from བསམ་ཚུལ\n",
    "- Base url: https://www.khabdha.org/category/%e0%bd%96%e0%bd%a6%e0%bd%98%e0%bc%8b%e0%bd%9a%e0%bd%b4%e0%bd%a3%e0%bc%8d/page/2/\n",
    "- Custom URL: https://www.khabdha.org/category/%e0%bd%96%e0%bd%a6%e0%bd%98%e0%bc%8b%e0%bd%9a%e0%bd%b4%e0%bd%a3%e0%bc%8d/page/+ str(i) + \"/\"\n",
    "- Total page: 60"
   ]
  },
  {
   "cell_type": "code",
   "execution_count": null,
   "metadata": {},
   "outputs": [],
   "source": []
  },
  {
   "cell_type": "code",
   "execution_count": 11,
   "metadata": {},
   "outputs": [
    {
     "name": "stderr",
     "output_type": "stream",
     "text": [
      "100%|██████████| 60/60 [00:43<00:00,  1.39it/s]\n"
     ]
    }
   ],
   "source": [
    "total_page = 60 + 1\n",
    "custom_url= \"https://www.khabdha.org/category/%e0%bd%96%e0%bd%a6%e0%bd%98%e0%bc%8b%e0%bd%9a%e0%bd%b4%e0%bd%a3%e0%bc%8d/page/\"\n",
    "\n",
    "article_tag = \"བསམ་ཚུལ\"\n",
    "key_code = \"Page \" + article_tag + \" \"\n",
    "all_links = loop_article_page(total_page, custom_url, key_code)\n"
   ]
  },
  {
   "cell_type": "code",
   "execution_count": 12,
   "metadata": {},
   "outputs": [
    {
     "name": "stdout",
     "output_type": "stream",
     "text": [
      "Total page in བསམ་ཚུལ: 60\n"
     ]
    }
   ],
   "source": [
    "print(f\"Total page in {article_tag}: {len(all_links['Data'])}\")"
   ]
  },
  {
   "cell_type": "code",
   "execution_count": 13,
   "metadata": {},
   "outputs": [
    {
     "name": "stdout",
     "output_type": "stream",
     "text": [
      "Total error in Page བསམ་ཚུལ : 0\n"
     ]
    }
   ],
   "source": [
    "check_error_in_links(all_links['Data'], key_code, print_each_error=True)"
   ]
  },
  {
   "cell_type": "code",
   "execution_count": 15,
   "metadata": {},
   "outputs": [
    {
     "name": "stdout",
     "output_type": "stream",
     "text": [
      "Successfully saved: khabdha_ALL_link_བསམ་ཚུལ.json\n"
     ]
    }
   ],
   "source": [
    "# Saving the final file\n",
    "path = \"./data/\"\n",
    "file_name = f\"khabdha_ALL_link_{article_tag}.json\"\n",
    "save_json(path, file_name, all_links['Data'])"
   ]
  },
  {
   "cell_type": "code",
   "execution_count": null,
   "metadata": {},
   "outputs": [],
   "source": [
    "\n",
    "    "
   ]
  },
  {
   "cell_type": "code",
   "execution_count": null,
   "metadata": {},
   "outputs": [],
   "source": []
  },
  {
   "cell_type": "markdown",
   "metadata": {},
   "source": [
    "------------\n",
    "------------\n",
    "------------\n",
    "\n",
    "\n",
    "\n",
    "# C. Extracting all Article links from འགྱུར་རྩོམ།\n",
    "- Base url: https://www.khabdha.org/category/essay/translation/page/2/\n",
    "- Custom URL: https://www.khabdha.org/category/essay/translation/page/ + str(i) + \"/\"\n",
    "- Total page: 36"
   ]
  },
  {
   "cell_type": "code",
   "execution_count": null,
   "metadata": {},
   "outputs": [],
   "source": []
  },
  {
   "cell_type": "code",
   "execution_count": 16,
   "metadata": {},
   "outputs": [
    {
     "name": "stderr",
     "output_type": "stream",
     "text": [
      "100%|██████████| 36/36 [00:24<00:00,  1.44it/s]\n"
     ]
    }
   ],
   "source": [
    "total_page = 36 + 1\n",
    "custom_url= \"https://www.khabdha.org/category/essay/translation/page/\"\n",
    "\n",
    "article_tag = \"འགྱུར་རྩོམ།\"\n",
    "key_code = \"Page \" + article_tag + \" \"\n",
    "all_links = loop_article_page(total_page, custom_url, key_code)\n"
   ]
  },
  {
   "cell_type": "code",
   "execution_count": 17,
   "metadata": {},
   "outputs": [
    {
     "name": "stdout",
     "output_type": "stream",
     "text": [
      "Total page in འགྱུར་རྩོམ།: 36\n"
     ]
    }
   ],
   "source": [
    "print(f\"Total page in {article_tag}: {len(all_links['Data'])}\")"
   ]
  },
  {
   "cell_type": "code",
   "execution_count": 18,
   "metadata": {},
   "outputs": [
    {
     "name": "stdout",
     "output_type": "stream",
     "text": [
      "Total error in Page འགྱུར་རྩོམ། : 0\n"
     ]
    }
   ],
   "source": [
    "check_error_in_links(all_links['Data'], key_code, print_each_error=True)"
   ]
  },
  {
   "cell_type": "code",
   "execution_count": 19,
   "metadata": {},
   "outputs": [
    {
     "name": "stdout",
     "output_type": "stream",
     "text": [
      "Successfully saved: khabdha_ALL_link_འགྱུར་རྩོམ།.json\n"
     ]
    }
   ],
   "source": [
    "# Saving the final file\n",
    "path = \"./data/\"\n",
    "file_name = f\"khabdha_ALL_link_{article_tag}.json\"\n",
    "save_json(path, file_name, all_links['Data'])"
   ]
  },
  {
   "cell_type": "code",
   "execution_count": null,
   "metadata": {},
   "outputs": [],
   "source": [
    "\n",
    "    "
   ]
  },
  {
   "cell_type": "code",
   "execution_count": null,
   "metadata": {},
   "outputs": [],
   "source": []
  },
  {
   "cell_type": "code",
   "execution_count": null,
   "metadata": {},
   "outputs": [],
   "source": []
  },
  {
   "cell_type": "code",
   "execution_count": null,
   "metadata": {},
   "outputs": [],
   "source": []
  },
  {
   "cell_type": "markdown",
   "metadata": {},
   "source": [
    "------------\n",
    "------------\n",
    "------------\n",
    "\n",
    "\n",
    "\n",
    "\n",
    "# D. Extracting all Article links from དཔྱད་རྩོམ།\n",
    "- Base url: https://www.khabdha.org/category/%e0%bd%91%e0%bd%94%e0%be%b1%e0%bd%91%e0%bc%8b%e0%bd%a2%e0%be%a9%e0%bd%bc%e0%bd%98%e0%bc%8d/page/2/\n",
    "- Custom URL: https://www.khabdha.org/category/%e0%bd%91%e0%bd%94%e0%be%b1%e0%bd%91%e0%bc%8b%e0%bd%a2%e0%be%a9%e0%bd%bc%e0%bd%98%e0%bc%8d/page/+ str(i) + \"/\"\n",
    "- Total page: 34"
   ]
  },
  {
   "cell_type": "code",
   "execution_count": null,
   "metadata": {},
   "outputs": [],
   "source": []
  },
  {
   "cell_type": "code",
   "execution_count": 20,
   "metadata": {},
   "outputs": [
    {
     "name": "stderr",
     "output_type": "stream",
     "text": [
      "100%|██████████| 34/34 [00:23<00:00,  1.43it/s]\n"
     ]
    }
   ],
   "source": [
    "total_page = 34 + 1\n",
    "custom_url= \"https://www.khabdha.org/category/%e0%bd%91%e0%bd%94%e0%be%b1%e0%bd%91%e0%bc%8b%e0%bd%a2%e0%be%a9%e0%bd%bc%e0%bd%98%e0%bc%8d/page/\"\n",
    "\n",
    "article_tag = \"དཔྱད་རྩོམ།\"\n",
    "key_code = \"Page \" + article_tag + \" \"\n",
    "all_links = loop_article_page(total_page, custom_url, key_code)\n"
   ]
  },
  {
   "cell_type": "code",
   "execution_count": 21,
   "metadata": {},
   "outputs": [
    {
     "name": "stdout",
     "output_type": "stream",
     "text": [
      "Total page in དཔྱད་རྩོམ།: 34\n"
     ]
    }
   ],
   "source": [
    "print(f\"Total page in {article_tag}: {len(all_links['Data'])}\")"
   ]
  },
  {
   "cell_type": "code",
   "execution_count": 22,
   "metadata": {},
   "outputs": [
    {
     "name": "stdout",
     "output_type": "stream",
     "text": [
      "Total error in Page དཔྱད་རྩོམ། : 0\n"
     ]
    }
   ],
   "source": [
    "check_error_in_links(all_links['Data'], key_code, print_each_error=True)"
   ]
  },
  {
   "cell_type": "code",
   "execution_count": 23,
   "metadata": {},
   "outputs": [
    {
     "name": "stdout",
     "output_type": "stream",
     "text": [
      "Successfully saved: khabdha_ALL_link_དཔྱད་རྩོམ།.json\n"
     ]
    }
   ],
   "source": [
    "# Saving the final file\n",
    "path = \"./data/\"\n",
    "file_name = f\"khabdha_ALL_link_{article_tag}.json\"\n",
    "save_json(path, file_name, all_links['Data'])"
   ]
  },
  {
   "cell_type": "code",
   "execution_count": null,
   "metadata": {},
   "outputs": [],
   "source": [
    "\n",
    "    "
   ]
  },
  {
   "cell_type": "code",
   "execution_count": null,
   "metadata": {},
   "outputs": [],
   "source": []
  },
  {
   "cell_type": "markdown",
   "metadata": {},
   "source": [
    "------------\n",
    "------------\n",
    "------------\n",
    "\n",
    "\n",
    "\n",
    "# E. Extracting all Article links from གསར་འགྱུར།\n",
    "- Base url: https://www.khabdha.org/category/news/page/2/\n",
    "- Custom URL: https://www.khabdha.org/category/news/page/ + str(i) + \"/\"\n",
    "- Total page: 211"
   ]
  },
  {
   "cell_type": "code",
   "execution_count": null,
   "metadata": {},
   "outputs": [],
   "source": []
  },
  {
   "cell_type": "code",
   "execution_count": 24,
   "metadata": {},
   "outputs": [
    {
     "name": "stderr",
     "output_type": "stream",
     "text": [
      "100%|██████████| 211/211 [02:59<00:00,  1.18it/s]\n"
     ]
    }
   ],
   "source": [
    "total_page = 211 + 1\n",
    "custom_url= \"https://www.khabdha.org/category/news/page/\"\n",
    "\n",
    "article_tag = \"གསར་འགྱུར།\"\n",
    "key_code = \"Page \" + article_tag + \" \"\n",
    "all_links = loop_article_page(total_page, custom_url, key_code)\n"
   ]
  },
  {
   "cell_type": "code",
   "execution_count": 25,
   "metadata": {},
   "outputs": [
    {
     "name": "stdout",
     "output_type": "stream",
     "text": [
      "Total page in གསར་འགྱུར།: 211\n"
     ]
    }
   ],
   "source": [
    "print(f\"Total page in {article_tag}: {len(all_links['Data'])}\")"
   ]
  },
  {
   "cell_type": "code",
   "execution_count": 26,
   "metadata": {},
   "outputs": [
    {
     "name": "stdout",
     "output_type": "stream",
     "text": [
      "Total error in Page གསར་འགྱུར། : 0\n"
     ]
    }
   ],
   "source": [
    "check_error_in_links(all_links['Data'], key_code, print_each_error=True)"
   ]
  },
  {
   "cell_type": "code",
   "execution_count": 27,
   "metadata": {},
   "outputs": [
    {
     "name": "stdout",
     "output_type": "stream",
     "text": [
      "Successfully saved: khabdha_ALL_link_གསར་འགྱུར།.json\n"
     ]
    }
   ],
   "source": [
    "# Saving the final file\n",
    "path = \"./data/\"\n",
    "file_name = f\"khabdha_ALL_link_{article_tag}.json\"\n",
    "save_json(path, file_name, all_links['Data'])"
   ]
  },
  {
   "cell_type": "code",
   "execution_count": null,
   "metadata": {},
   "outputs": [],
   "source": [
    "\n",
    "    "
   ]
  },
  {
   "cell_type": "code",
   "execution_count": null,
   "metadata": {},
   "outputs": [],
   "source": []
  },
  {
   "cell_type": "code",
   "execution_count": null,
   "metadata": {},
   "outputs": [],
   "source": []
  },
  {
   "cell_type": "code",
   "execution_count": null,
   "metadata": {},
   "outputs": [],
   "source": []
  },
  {
   "cell_type": "markdown",
   "metadata": {},
   "source": []
  },
  {
   "cell_type": "markdown",
   "metadata": {},
   "source": [
    "------------\n",
    "------------\n",
    "------------\n",
    "\n",
    "\n",
    "\n",
    "# F. Extracting all Article links from རྩོམ་རིག\n",
    "- Base URL: https://www.khabdha.org/category/essay/page/2/\n",
    "- Custom URL: https://www.khabdha.org/category/essay/page/ + str(i) + \"/\"\n",
    "- Total page: 381"
   ]
  },
  {
   "cell_type": "code",
   "execution_count": 36,
   "metadata": {},
   "outputs": [
    {
     "name": "stderr",
     "output_type": "stream",
     "text": [
      "100%|██████████| 381/381 [04:49<00:00,  1.32it/s]\n"
     ]
    }
   ],
   "source": [
    "total_page = 381 + 1\n",
    "custom_url= \"https://www.khabdha.org/category/essay/page/\"\n",
    "\n",
    "article_tag = \"རྩོམ་རིག།\"\n",
    "key_code = \"Page \" + article_tag + \" \"\n",
    "all_links = loop_article_page(total_page, custom_url, key_code)\n"
   ]
  },
  {
   "cell_type": "code",
   "execution_count": 37,
   "metadata": {},
   "outputs": [
    {
     "name": "stdout",
     "output_type": "stream",
     "text": [
      "Total page in རྩོམ་རིག།: 381\n"
     ]
    }
   ],
   "source": [
    "print(f\"Total page in {article_tag}: {len(all_links['Data'])}\")"
   ]
  },
  {
   "cell_type": "code",
   "execution_count": 38,
   "metadata": {},
   "outputs": [
    {
     "name": "stdout",
     "output_type": "stream",
     "text": [
      "Total error in Page རྩོམ་རིག། : 0\n"
     ]
    }
   ],
   "source": [
    "check_error_in_links(all_links['Data'], key_code, print_each_error=True)"
   ]
  },
  {
   "cell_type": "code",
   "execution_count": 39,
   "metadata": {},
   "outputs": [
    {
     "name": "stdout",
     "output_type": "stream",
     "text": [
      "Successfully saved: khabdha_ALL_link_རྩོམ་རིག།.json\n"
     ]
    }
   ],
   "source": [
    "# Saving the final file\n",
    "path = \"./data/\"\n",
    "file_name = f\"khabdha_ALL_link_{article_tag}.json\"\n",
    "save_json(path, file_name, all_links['Data'])"
   ]
  },
  {
   "cell_type": "code",
   "execution_count": null,
   "metadata": {},
   "outputs": [],
   "source": [
    "\n",
    "    "
   ]
  },
  {
   "cell_type": "code",
   "execution_count": null,
   "metadata": {},
   "outputs": [],
   "source": []
  },
  {
   "cell_type": "code",
   "execution_count": null,
   "metadata": {},
   "outputs": [],
   "source": []
  },
  {
   "cell_type": "code",
   "execution_count": null,
   "metadata": {},
   "outputs": [],
   "source": []
  },
  {
   "cell_type": "markdown",
   "metadata": {},
   "source": [
    "------------\n",
    "------------\n",
    "------------\n",
    "\n",
    "\n",
    "\n",
    "\n",
    "# G. Extracting all Article links from སྣ་ཚོགས།\n",
    "- Base url: https://www.khabdha.org/category/uncategorized/page/2/\n",
    "- Custom URL: https://www.khabdha.org/category/uncategorized/page/+ str(i) + \"/\"\n",
    "- Total page: 146"
   ]
  },
  {
   "cell_type": "code",
   "execution_count": null,
   "metadata": {},
   "outputs": [],
   "source": []
  },
  {
   "cell_type": "code",
   "execution_count": 32,
   "metadata": {},
   "outputs": [
    {
     "name": "stderr",
     "output_type": "stream",
     "text": [
      " 32%|███▏      | 47/146 [00:33<01:10,  1.41it/s]Some characters could not be decoded, and were replaced with REPLACEMENT CHARACTER.\n",
      "100%|██████████| 146/146 [01:44<00:00,  1.40it/s]\n"
     ]
    }
   ],
   "source": [
    "total_page = 146 + 1\n",
    "custom_url= \"https://www.khabdha.org/category/uncategorized/page/\"\n",
    "\n",
    "article_tag = \"སྣ་ཚོགས།\"\n",
    "key_code = \"Page \" + article_tag + \" \"\n",
    "all_links = loop_article_page(total_page, custom_url, key_code)\n"
   ]
  },
  {
   "cell_type": "code",
   "execution_count": 33,
   "metadata": {},
   "outputs": [
    {
     "name": "stdout",
     "output_type": "stream",
     "text": [
      "Total page in སྣ་ཚོགས།: 146\n"
     ]
    }
   ],
   "source": [
    "print(f\"Total page in {article_tag}: {len(all_links['Data'])}\")"
   ]
  },
  {
   "cell_type": "code",
   "execution_count": 34,
   "metadata": {},
   "outputs": [
    {
     "name": "stdout",
     "output_type": "stream",
     "text": [
      "Total error in Page སྣ་ཚོགས། : 0\n"
     ]
    }
   ],
   "source": [
    "check_error_in_links(all_links['Data'], key_code, print_each_error=True)"
   ]
  },
  {
   "cell_type": "code",
   "execution_count": 35,
   "metadata": {},
   "outputs": [
    {
     "name": "stdout",
     "output_type": "stream",
     "text": [
      "Successfully saved: khabdha_ALL_link_སྣ་ཚོགས།.json\n"
     ]
    }
   ],
   "source": [
    "# Saving the final file\n",
    "path = \"./data/\"\n",
    "file_name = f\"khabdha_ALL_link_{article_tag}.json\"\n",
    "save_json(path, file_name, all_links['Data'])"
   ]
  },
  {
   "cell_type": "code",
   "execution_count": null,
   "metadata": {},
   "outputs": [],
   "source": [
    "\n",
    "    "
   ]
  },
  {
   "cell_type": "code",
   "execution_count": null,
   "metadata": {},
   "outputs": [],
   "source": []
  },
  {
   "cell_type": "code",
   "execution_count": null,
   "metadata": {},
   "outputs": [],
   "source": []
  },
  {
   "cell_type": "code",
   "execution_count": null,
   "metadata": {},
   "outputs": [],
   "source": []
  }
 ],
 "metadata": {
  "kernelspec": {
   "display_name": "Python 3 (ipykernel)",
   "language": "python",
   "name": "python3"
  },
  "language_info": {
   "codemirror_mode": {
    "name": "ipython",
    "version": 3
   },
   "file_extension": ".py",
   "mimetype": "text/x-python",
   "name": "python",
   "nbconvert_exporter": "python",
   "pygments_lexer": "ipython3",
   "version": "3.10.13"
  }
 },
 "nbformat": 4,
 "nbformat_minor": 4
}
