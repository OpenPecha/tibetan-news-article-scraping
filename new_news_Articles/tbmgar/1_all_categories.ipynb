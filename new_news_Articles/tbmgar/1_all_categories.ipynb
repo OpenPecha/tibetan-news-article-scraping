{
 "cells": [
  {
   "cell_type": "code",
   "execution_count": 2,
   "id": "46ee2202-8595-4f7f-89e5-597fb6b904fa",
   "metadata": {},
   "outputs": [],
   "source": [
    "from bs4 import BeautifulSoup\n",
    "import requests\n",
    "import re\n",
    "\n",
    "from urllib.parse import urljoin"
   ]
  },
  {
   "cell_type": "code",
   "execution_count": null,
   "id": "6a6b471d-42a7-4378-af4d-26869217a131",
   "metadata": {},
   "outputs": [],
   "source": []
  },
  {
   "cell_type": "code",
   "execution_count": 3,
   "id": "f3dc8abc-2068-4a13-8655-7c50f29c1df1",
   "metadata": {},
   "outputs": [],
   "source": [
    "url = \"http://www.tbmgar.com/lcqbbw.asp?id=177\"\n",
    "base_url = \"http://www.tbmgar.com\"\n",
    "headers = {\n",
    "        'User-Agent': 'Mozilla/5.0 (Windows NT 10.0; Win64; x64) AppleWebKit/537.36 (KHTML, like Gecko) Chrome/91.0.4472.124 Safari/537.36'\n",
    "    }\n",
    "response = requests.get(url, headers=headers)\n",
    "response.raise_for_status()\n",
    "\n",
    "# Parse the page content with BeautifulSoup\n",
    "soup = BeautifulSoup(response.content, 'html.parser')\n",
    "\n",
    "all_categories = []\n",
    "catgory_center = soup.find(\"table\", class_=\"GxWt\")\n",
    "if catgory_center:\n",
    "    catgory_center = catgory_center.find_all('a', class_=\"GxYg\")\n",
    "    if catgory_center:\n",
    "        # Find all 'a' tags\n",
    "        for each_link in catgory_center:\n",
    "            full_url = urljoin(base_url, each_link.get(\"href\"))\n",
    "            text = each_link.get_text(strip=True)\n",
    "            all_categories.append((text, full_url))\n",
    "            "
   ]
  },
  {
   "cell_type": "code",
   "execution_count": null,
   "id": "12117b0d-2c09-4d03-adba-80cf1ea7de93",
   "metadata": {},
   "outputs": [],
   "source": []
  },
  {
   "cell_type": "code",
   "execution_count": 4,
   "id": "0c731687-54b2-4d27-9b22-156b284fbf10",
   "metadata": {},
   "outputs": [
    {
     "data": {
      "text/plain": [
       "[('གཙོ་ངོས།', 'http://www.tbmgar.com/lcqbbw.asp?id=177'),\n",
       " ('ཆོས་ལུགས།', 'http://www.tbmgar.com/lcqbbw.asp?id=181'),\n",
       " ('རྩོམ་རིག', 'http://www.tbmgar.com/lcqbbw.asp?id=178'),\n",
       " ('ལོ་རྒྱུས།', 'http://www.tbmgar.com/lcqbbw.asp?id=182'),\n",
       " ('རུས་རྒྱུད།', 'http://www.tbmgar.com/lcqbbw.asp?id=183'),\n",
       " ('དམངས་སྲོལ།', 'http://www.tbmgar.com/lcqbbw.asp?id=184'),\n",
       " ('སྒྱུ་རྩལ།', 'http://www.tbmgar.com/lcqbbw.asp?id=185'),\n",
       " ('དཔལ་འབྱོར།', 'http://www.tbmgar.com/lcqbbw.asp?id=186'),\n",
       " ('མི་སྣ།', 'http://www.tbmgar.com/lcqbbw.asp?id=187'),\n",
       " ('སློབ་གསོ།', 'http://www.tbmgar.com/lcqbbw.asp?id=188')]"
      ]
     },
     "execution_count": 4,
     "metadata": {},
     "output_type": "execute_result"
    }
   ],
   "source": [
    "all_categories"
   ]
  },
  {
   "cell_type": "code",
   "execution_count": 5,
   "id": "e68c29a1-3f1c-40af-b025-3bbeec98745b",
   "metadata": {},
   "outputs": [
    {
     "data": {
      "text/plain": [
       "10"
      ]
     },
     "execution_count": 5,
     "metadata": {},
     "output_type": "execute_result"
    }
   ],
   "source": [
    "len(all_categories)"
   ]
  },
  {
   "cell_type": "markdown",
   "id": "87a07a09-7113-480a-9796-ae6e2edbd0c4",
   "metadata": {},
   "source": [
    "## extract sub categories"
   ]
  },
  {
   "cell_type": "code",
   "execution_count": 30,
   "id": "e7f0da83-6c30-41d6-8319-c8805e4ab292",
   "metadata": {},
   "outputs": [],
   "source": [
    "def get_content(url, base_url):\n",
    "    \"\"\"\n",
    "    \n",
    "    \"\"\"\n",
    "\n",
    "    headers = {\n",
    "        'User-Agent': 'Mozilla/5.0 (Windows NT 10.0; Win64; x64) AppleWebKit/537.36 (KHTML, like Gecko) Chrome/91.0.4472.124 Safari/537.36'\n",
    "    }\n",
    "    try:\n",
    "        # Make the request to the URL\n",
    "        response = requests.get(url, headers=headers)\n",
    "        response.raise_for_status()\n",
    "        \n",
    "        # Parse the page content with BeautifulSoup\n",
    "        soup = BeautifulSoup(response.content, 'html.parser')\n",
    "        links = soup.find_all('a', href=re.compile(r'lcqwbw\\.asp\\?id=\\d+#ndbwNdCam'))\n",
    "        results = []\n",
    "        if links:\n",
    "            for link in links:\n",
    "                href = link.get('href')\n",
    "                href = base_url + href\n",
    "                span = link.find('span', class_='dw_lcqwKxYg')\n",
    "                if span:\n",
    "                    text = span.text.strip()\n",
    "                    results.append((href, text))\n",
    "            return results\n",
    "        else:\n",
    "            return None\n",
    "    except Exception as e:\n",
    "        print(e)\n",
    "\n"
   ]
  },
  {
   "cell_type": "code",
   "execution_count": null,
   "id": "32ccd5a8-53ee-4a63-8413-6f2dca117dde",
   "metadata": {},
   "outputs": [],
   "source": []
  },
  {
   "cell_type": "code",
   "execution_count": null,
   "id": "2444abaf-4377-4b24-a4a7-a9536e14f969",
   "metadata": {},
   "outputs": [],
   "source": []
  },
  {
   "cell_type": "code",
   "execution_count": 37,
   "id": "b068eaa0-b71f-476c-98e2-623ddbd94a29",
   "metadata": {},
   "outputs": [
    {
     "name": "stdout",
     "output_type": "stream",
     "text": [
      "\n",
      "('གཙོ་ངོས།', 'http://www.tbmgar.com/lcqbbw.asp?id=177')\n",
      "[('http://www.tbmgar.com/lcqwbw.asp?id=282#ndbwNdCam', 'འཛམ་གླིང་གསར་འགྱུར།'), ('http://www.tbmgar.com/lcqwbw.asp?id=283#ndbwNdCam', 'རྒྱལ་ནང་གསར་འགྱུར།'), ('http://www.tbmgar.com/lcqwbw.asp?id=284#ndbwNdCam', 'བོད་ནང་གསར་འགྱུར།'), ('http://www.tbmgar.com/lcqwbw.asp?id=327#ndbwNdCam', 'བཅའ་ཁྲིམས་ཤེས་བྱ།'), ('http://www.tbmgar.com/lcqwbw.asp?id=328#ndbwNdCam', 'འཕྲོད་བསྟེན། འཛེམ་བྱ།'), ('http://www.tbmgar.com/lcqwbw.asp?id=329#ndbwNdCam', 'ཁོར་ཡུག་སྲུང་སྐྱོབ།'), ('http://www.tbmgar.com/lcqwbw.asp?id=285#ndbwNdCam', 'དེབ་གསར་འོས་སྦྱོར།'), ('http://www.tbmgar.com/lcqwbw.asp?id=330#ndbwNdCam', 'ངེད་དྲ་བ།'), ('http://www.tbmgar.com/lcqwbw.asp?id=353#ndbwNdCam', 'སྤྱི་ཚོགས་གླེང་བརྗོད།'), ('http://www.tbmgar.com/lcqwbw.asp?id=367#ndbwNdCam', 'ནང་བསྟན། ལོ་རྒྱུས།'), ('http://www.tbmgar.com/lcqwbw.asp?id=368#ndbwNdCam', 'རྩོམ་རིག ཉེར་མཁོ།'), ('http://www.tbmgar.com/lcqwbw.asp?id=369#ndbwNdCam', 'བརྡ་སྤྲོད།  རྒྱུན་ཤེས།')]\n",
      "\n",
      "('ཆོས་ལུགས།', 'http://www.tbmgar.com/lcqbbw.asp?id=181')\n",
      "[('http://www.tbmgar.com/lcqwbw.asp?id=342#ndbwNdCam', 'འཛམ་གླིང་ཆོས་ལུགས།'), ('http://www.tbmgar.com/lcqwbw.asp?id=343#ndbwNdCam', 'ནང་བསྟན་གྲུབ་མཐའ།'), ('http://www.tbmgar.com/lcqwbw.asp?id=344#ndbwNdCam', 'རྒྱུན་ཤེས།  ཆོས་སྤྱོད།'), ('http://www.tbmgar.com/lcqwbw.asp?id=345#ndbwNdCam', 'དགོན་སྡེ་ངོ་སྤྲོད།'), ('http://www.tbmgar.com/lcqwbw.asp?id=373#ndbwNdCam', 'དགོན་སྡེའི་གསར་འགྱུར།'), ('http://www.tbmgar.com/lcqwbw.asp?id=374#ndbwNdCam', 'དུས་ཆེན་ངོ་སྤྲོད།')]\n",
      "\n",
      "('རྩོམ་རིག', 'http://www.tbmgar.com/lcqbbw.asp?id=178')\n",
      "[('http://www.tbmgar.com/lcqwbw.asp?id=286#ndbwNdCam', 'སྙན་རྩོམ།'), ('http://www.tbmgar.com/lcqwbw.asp?id=287#ndbwNdCam', 'དཔྱད་རྩོམ།'), ('http://www.tbmgar.com/lcqwbw.asp?id=288#ndbwNdCam', 'འབོལ་རྩོམ།'), ('http://www.tbmgar.com/lcqwbw.asp?id=289#ndbwNdCam', 'རང་མོས།'), ('http://www.tbmgar.com/lcqwbw.asp?id=325#ndbwNdCam', 'བསྒྱུར་རྩོམ།'), ('http://www.tbmgar.com/lcqwbw.asp?id=326#ndbwNdCam', 'ལེགས་བཤད།'), ('http://www.tbmgar.com/lcqwbw.asp?id=335#ndbwNdCam', 'ལྷུག་རྩོམ།'), ('http://www.tbmgar.com/lcqwbw.asp?id=339#ndbwNdCam', 'ཁཱ་ཤེས་རབ་རྒྱ་མཚོ།'), ('http://www.tbmgar.com/lcqwbw.asp?id=378#ndbwNdCam', 'བདམས་བཀོད་རྩོམ་ཡིག')]\n",
      "\n",
      "('ལོ་རྒྱུས།', 'http://www.tbmgar.com/lcqbbw.asp?id=182')\n",
      "[('http://www.tbmgar.com/lcqwbw.asp?id=294#ndbwNdCam', 'འཛམ་གླིང་ལོ་རྒྱུས།'), ('http://www.tbmgar.com/lcqwbw.asp?id=302#ndbwNdCam', 'བོད་ཀྱི་རྒྱལ་རབས།'), ('http://www.tbmgar.com/lcqwbw.asp?id=303#ndbwNdCam', 'སྤྱི་ཚོགས་ལོ་རྒྱུས།'), ('http://www.tbmgar.com/lcqwbw.asp?id=333#ndbwNdCam', 'ཡུལ་སྐོར་ཟིན་ཐོ་དང་བཏུས་རྩོམ།')]\n",
      "\n",
      "('རུས་རྒྱུད།', 'http://www.tbmgar.com/lcqbbw.asp?id=183')\n",
      "[('http://www.tbmgar.com/lcqwbw.asp?id=295#ndbwNdCam', 'རུས་རྒྱུད་སྣ་ཚོགས་བྱུང་རིམ།'), ('http://www.tbmgar.com/lcqwbw.asp?id=296#ndbwNdCam', 'རུས་མགར་གྱི་བྱུང་བ་སྣ་ཚོགས།'), ('http://www.tbmgar.com/lcqwbw.asp?id=304#ndbwNdCam', 'རུས་མགར་ཚང་གི་བྱ་བཞག')]\n",
      "\n",
      "('དམངས་སྲོལ།', 'http://www.tbmgar.com/lcqbbw.asp?id=184')\n",
      "[('http://www.tbmgar.com/lcqwbw.asp?id=297#ndbwNdCam', 'གླེང་སྟེགས་བཅར་འདྲི།'), ('http://www.tbmgar.com/lcqwbw.asp?id=298#ndbwNdCam', 'ཡུལ་སྲོལ་དང་རྒྱུན་ཤེས།'), ('http://www.tbmgar.com/lcqwbw.asp?id=306#ndbwNdCam', 'གནའ་གཏམ་དང་སྒྲུང་།'), ('http://www.tbmgar.com/lcqwbw.asp?id=307#ndbwNdCam', 'གཏམ་དཔེ།'), ('http://www.tbmgar.com/lcqwbw.asp?id=366#ndbwNdCam', 'བརྡ་སྦྱོར་གླིང་།'), ('http://www.tbmgar.com/lcqwbw.asp?id=370#ndbwNdCam', 'ཚོགས་པ་ངོ་སྤྲོད།')]\n",
      "\n",
      "('སྒྱུ་རྩལ།', 'http://www.tbmgar.com/lcqbbw.asp?id=185')\n",
      "[('http://www.tbmgar.com/lcqwbw.asp?id=299#ndbwNdCam', 'བཀའ་སློབ་བརྙན་བསྡུས།'), ('http://www.tbmgar.com/lcqwbw.asp?id=308#ndbwNdCam', 'རི་མོ།'), ('http://www.tbmgar.com/lcqwbw.asp?id=309#ndbwNdCam', 'གཞས་ར་ཁྲ་མོ།'), ('http://www.tbmgar.com/lcqwbw.asp?id=310#ndbwNdCam', 'གློག་བརྙན།'), ('http://www.tbmgar.com/lcqwbw.asp?id=332#ndbwNdCam', 'སྒྱུ་རྩལ་དང་རྒྱུན་ཤེས།'), ('http://www.tbmgar.com/lcqwbw.asp?id=348#ndbwNdCam', 'སྤྱི་ཚོགས་གཏམ་བཤད།'), ('http://www.tbmgar.com/lcqwbw.asp?id=349#ndbwNdCam', 'རིག་དངོས་སྡེ་ཁག་འོས་སྦྱོར།'), ('http://www.tbmgar.com/lcqwbw.asp?id=350#ndbwNdCam', 'སྒྱུ་རྩལ་པ་འོས་སྦྱོར།'), ('http://www.tbmgar.com/lcqwbw.asp?id=371#ndbwNdCam', 'དགོང་ཚོགས། འོད་སྡེར་གསར་བ།'), ('http://www.tbmgar.com/lcqwbw.asp?id=379#ndbwNdCam', 'གླུ་དབྱངས།'), ('http://www.tbmgar.com/lcqwbw.asp?id=380#ndbwNdCam', 'དཔེ་ཁྲིད།'), ('http://www.tbmgar.com/lcqwbw.asp?id=381#ndbwNdCam', 'དམངས་གླུ།'), ('http://www.tbmgar.com/lcqwbw.asp?id=383#ndbwNdCam', 'སྒྲ་བརྙན་རྡུང་ལེན།')]\n",
      "\n",
      "('དཔལ་འབྱོར།', 'http://www.tbmgar.com/lcqbbw.asp?id=186')\n",
      "[('http://www.tbmgar.com/lcqwbw.asp?id=311#ndbwNdCam', 'དཔལ་འབྱོར་རིག་པ།'), ('http://www.tbmgar.com/lcqwbw.asp?id=312#ndbwNdCam', 'ཐོན་རྫས་གསར་བ་འོས་སྦྱོར།'), ('http://www.tbmgar.com/lcqwbw.asp?id=346#ndbwNdCam', 'ཚོང་ལས་འོས་སྦྱོར།')]\n",
      "\n",
      "('མི་སྣ།', 'http://www.tbmgar.com/lcqbbw.asp?id=187')\n",
      "[('http://www.tbmgar.com/lcqwbw.asp?id=313#ndbwNdCam', 'འཛམ་གླིང་མཁས་དབང་།'), ('http://www.tbmgar.com/lcqwbw.asp?id=315#ndbwNdCam', 'སློབ་གསོ་སྨྲ་བའི་སྡེ།'), ('http://www.tbmgar.com/lcqwbw.asp?id=316#ndbwNdCam', 'མགར་གྱི་མི་སྣ།'), ('http://www.tbmgar.com/lcqwbw.asp?id=334#ndbwNdCam', 'སྔོན་བྱོན་སྐྱེས་ཆེན།'), ('http://www.tbmgar.com/lcqwbw.asp?id=355#ndbwNdCam', 'ཤེས་ཡོན་པའི་སྡེ།'), ('http://www.tbmgar.com/lcqwbw.asp?id=356#ndbwNdCam', 'རིག་པ་སྨྲ་བའི་སྡེ།')]\n"
     ]
    }
   ],
   "source": [
    "i = 0\n",
    "new_categories = []\n",
    "base_url = \"http://www.tbmgar.com/\"\n",
    "\n",
    "\n",
    "for each_link in all_categories[0:-1]:\n",
    "    print()\n",
    "    print(each_link)\n",
    "    link = each_link[1]\n",
    "    other_content = get_content(link, base_url)\n",
    "    if other_content:\n",
    "        print(other_content)\n",
    "        new_categories.extend(other_content)\n",
    "    else:\n",
    "        new_categories.append(each_link)"
   ]
  },
  {
   "cell_type": "code",
   "execution_count": null,
   "id": "1879b76e-568c-4cee-8b18-b3661268882e",
   "metadata": {},
   "outputs": [],
   "source": []
  },
  {
   "cell_type": "code",
   "execution_count": 38,
   "id": "af1b54d4-b489-4ea6-9326-65fdeef26613",
   "metadata": {},
   "outputs": [
    {
     "data": {
      "text/plain": [
       "62"
      ]
     },
     "execution_count": 38,
     "metadata": {},
     "output_type": "execute_result"
    }
   ],
   "source": [
    "len(new_categories)"
   ]
  },
  {
   "cell_type": "code",
   "execution_count": 47,
   "id": "8a0f12c6-5862-433e-851e-d1ad1151762e",
   "metadata": {
    "scrolled": true
   },
   "outputs": [
    {
     "data": {
      "text/plain": [
       "[('http://www.tbmgar.com/lcqwbw.asp?id=282#ndbwNdCam', 'འཛམ་གླིང་གསར་འགྱུར།'),\n",
       " ('http://www.tbmgar.com/lcqwbw.asp?id=283#ndbwNdCam', 'རྒྱལ་ནང་གསར་འགྱུར།'),\n",
       " ('http://www.tbmgar.com/lcqwbw.asp?id=284#ndbwNdCam', 'བོད་ནང་གསར་འགྱུར།'),\n",
       " ('http://www.tbmgar.com/lcqwbw.asp?id=327#ndbwNdCam', 'བཅའ་ཁྲིམས་ཤེས་བྱ།'),\n",
       " ('http://www.tbmgar.com/lcqwbw.asp?id=328#ndbwNdCam',\n",
       "  'འཕྲོད་བསྟེན། འཛེམ་བྱ།'),\n",
       " ('http://www.tbmgar.com/lcqwbw.asp?id=329#ndbwNdCam', 'ཁོར་ཡུག་སྲུང་སྐྱོབ།'),\n",
       " ('http://www.tbmgar.com/lcqwbw.asp?id=285#ndbwNdCam', 'དེབ་གསར་འོས་སྦྱོར།'),\n",
       " ('http://www.tbmgar.com/lcqwbw.asp?id=330#ndbwNdCam', 'ངེད་དྲ་བ།'),\n",
       " ('http://www.tbmgar.com/lcqwbw.asp?id=353#ndbwNdCam',\n",
       "  'སྤྱི་ཚོགས་གླེང་བརྗོད།'),\n",
       " ('http://www.tbmgar.com/lcqwbw.asp?id=367#ndbwNdCam', 'ནང་བསྟན། ལོ་རྒྱུས།'),\n",
       " ('http://www.tbmgar.com/lcqwbw.asp?id=368#ndbwNdCam', 'རྩོམ་རིག ཉེར་མཁོ།'),\n",
       " ('http://www.tbmgar.com/lcqwbw.asp?id=369#ndbwNdCam',\n",
       "  'བརྡ་སྤྲོད།  རྒྱུན་ཤེས།'),\n",
       " ('http://www.tbmgar.com/lcqwbw.asp?id=342#ndbwNdCam', 'འཛམ་གླིང་ཆོས་ལུགས།'),\n",
       " ('http://www.tbmgar.com/lcqwbw.asp?id=343#ndbwNdCam', 'ནང་བསྟན་གྲུབ་མཐའ།'),\n",
       " ('http://www.tbmgar.com/lcqwbw.asp?id=344#ndbwNdCam',\n",
       "  'རྒྱུན་ཤེས།  ཆོས་སྤྱོད།'),\n",
       " ('http://www.tbmgar.com/lcqwbw.asp?id=345#ndbwNdCam', 'དགོན་སྡེ་ངོ་སྤྲོད།'),\n",
       " ('http://www.tbmgar.com/lcqwbw.asp?id=373#ndbwNdCam',\n",
       "  'དགོན་སྡེའི་གསར་འགྱུར།'),\n",
       " ('http://www.tbmgar.com/lcqwbw.asp?id=374#ndbwNdCam', 'དུས་ཆེན་ངོ་སྤྲོད།'),\n",
       " ('http://www.tbmgar.com/lcqwbw.asp?id=286#ndbwNdCam', 'སྙན་རྩོམ།'),\n",
       " ('http://www.tbmgar.com/lcqwbw.asp?id=287#ndbwNdCam', 'དཔྱད་རྩོམ།'),\n",
       " ('http://www.tbmgar.com/lcqwbw.asp?id=288#ndbwNdCam', 'འབོལ་རྩོམ།'),\n",
       " ('http://www.tbmgar.com/lcqwbw.asp?id=289#ndbwNdCam', 'རང་མོས།'),\n",
       " ('http://www.tbmgar.com/lcqwbw.asp?id=325#ndbwNdCam', 'བསྒྱུར་རྩོམ།'),\n",
       " ('http://www.tbmgar.com/lcqwbw.asp?id=326#ndbwNdCam', 'ལེགས་བཤད།'),\n",
       " ('http://www.tbmgar.com/lcqwbw.asp?id=335#ndbwNdCam', 'ལྷུག་རྩོམ།'),\n",
       " ('http://www.tbmgar.com/lcqwbw.asp?id=339#ndbwNdCam', 'ཁཱ་ཤེས་རབ་རྒྱ་མཚོ།'),\n",
       " ('http://www.tbmgar.com/lcqwbw.asp?id=378#ndbwNdCam', 'བདམས་བཀོད་རྩོམ་ཡིག'),\n",
       " ('http://www.tbmgar.com/lcqwbw.asp?id=294#ndbwNdCam', 'འཛམ་གླིང་ལོ་རྒྱུས།'),\n",
       " ('http://www.tbmgar.com/lcqwbw.asp?id=302#ndbwNdCam', 'བོད་ཀྱི་རྒྱལ་རབས།'),\n",
       " ('http://www.tbmgar.com/lcqwbw.asp?id=303#ndbwNdCam', 'སྤྱི་ཚོགས་ལོ་རྒྱུས།'),\n",
       " ('http://www.tbmgar.com/lcqwbw.asp?id=333#ndbwNdCam',\n",
       "  'ཡུལ་སྐོར་ཟིན་ཐོ་དང་བཏུས་རྩོམ།'),\n",
       " ('http://www.tbmgar.com/lcqwbw.asp?id=295#ndbwNdCam',\n",
       "  'རུས་རྒྱུད་སྣ་ཚོགས་བྱུང་རིམ།'),\n",
       " ('http://www.tbmgar.com/lcqwbw.asp?id=296#ndbwNdCam',\n",
       "  'རུས་མགར་གྱི་བྱུང་བ་སྣ་ཚོགས།'),\n",
       " ('http://www.tbmgar.com/lcqwbw.asp?id=304#ndbwNdCam', 'རུས་མགར་ཚང་གི་བྱ་བཞག'),\n",
       " ('http://www.tbmgar.com/lcqwbw.asp?id=297#ndbwNdCam', 'གླེང་སྟེགས་བཅར་འདྲི།'),\n",
       " ('http://www.tbmgar.com/lcqwbw.asp?id=298#ndbwNdCam',\n",
       "  'ཡུལ་སྲོལ་དང་རྒྱུན་ཤེས།'),\n",
       " ('http://www.tbmgar.com/lcqwbw.asp?id=306#ndbwNdCam', 'གནའ་གཏམ་དང་སྒྲུང་།'),\n",
       " ('http://www.tbmgar.com/lcqwbw.asp?id=307#ndbwNdCam', 'གཏམ་དཔེ།'),\n",
       " ('http://www.tbmgar.com/lcqwbw.asp?id=366#ndbwNdCam', 'བརྡ་སྦྱོར་གླིང་།'),\n",
       " ('http://www.tbmgar.com/lcqwbw.asp?id=370#ndbwNdCam', 'ཚོགས་པ་ངོ་སྤྲོད།'),\n",
       " ('http://www.tbmgar.com/lcqwbw.asp?id=299#ndbwNdCam', 'བཀའ་སློབ་བརྙན་བསྡུས།'),\n",
       " ('http://www.tbmgar.com/lcqwbw.asp?id=308#ndbwNdCam', 'རི་མོ།'),\n",
       " ('http://www.tbmgar.com/lcqwbw.asp?id=309#ndbwNdCam', 'གཞས་ར་ཁྲ་མོ།'),\n",
       " ('http://www.tbmgar.com/lcqwbw.asp?id=310#ndbwNdCam', 'གློག་བརྙན།'),\n",
       " ('http://www.tbmgar.com/lcqwbw.asp?id=332#ndbwNdCam',\n",
       "  'སྒྱུ་རྩལ་དང་རྒྱུན་ཤེས།'),\n",
       " ('http://www.tbmgar.com/lcqwbw.asp?id=348#ndbwNdCam', 'སྤྱི་ཚོགས་གཏམ་བཤད།'),\n",
       " ('http://www.tbmgar.com/lcqwbw.asp?id=349#ndbwNdCam',\n",
       "  'རིག་དངོས་སྡེ་ཁག་འོས་སྦྱོར།'),\n",
       " ('http://www.tbmgar.com/lcqwbw.asp?id=350#ndbwNdCam',\n",
       "  'སྒྱུ་རྩལ་པ་འོས་སྦྱོར།'),\n",
       " ('http://www.tbmgar.com/lcqwbw.asp?id=371#ndbwNdCam',\n",
       "  'དགོང་ཚོགས། འོད་སྡེར་གསར་བ།'),\n",
       " ('http://www.tbmgar.com/lcqwbw.asp?id=379#ndbwNdCam', 'གླུ་དབྱངས།'),\n",
       " ('http://www.tbmgar.com/lcqwbw.asp?id=380#ndbwNdCam', 'དཔེ་ཁྲིད།'),\n",
       " ('http://www.tbmgar.com/lcqwbw.asp?id=381#ndbwNdCam', 'དམངས་གླུ།'),\n",
       " ('http://www.tbmgar.com/lcqwbw.asp?id=383#ndbwNdCam', 'སྒྲ་བརྙན་རྡུང་ལེན།'),\n",
       " ('http://www.tbmgar.com/lcqwbw.asp?id=311#ndbwNdCam', 'དཔལ་འབྱོར་རིག་པ།'),\n",
       " ('http://www.tbmgar.com/lcqwbw.asp?id=312#ndbwNdCam',\n",
       "  'ཐོན་རྫས་གསར་བ་འོས་སྦྱོར།'),\n",
       " ('http://www.tbmgar.com/lcqwbw.asp?id=346#ndbwNdCam', 'ཚོང་ལས་འོས་སྦྱོར།'),\n",
       " ('http://www.tbmgar.com/lcqwbw.asp?id=313#ndbwNdCam', 'འཛམ་གླིང་མཁས་དབང་།'),\n",
       " ('http://www.tbmgar.com/lcqwbw.asp?id=315#ndbwNdCam',\n",
       "  'སློབ་གསོ་སྨྲ་བའི་སྡེ།'),\n",
       " ('http://www.tbmgar.com/lcqwbw.asp?id=316#ndbwNdCam', 'མགར་གྱི་མི་སྣ།'),\n",
       " ('http://www.tbmgar.com/lcqwbw.asp?id=334#ndbwNdCam', 'སྔོན་བྱོན་སྐྱེས་ཆེན།'),\n",
       " ('http://www.tbmgar.com/lcqwbw.asp?id=355#ndbwNdCam', 'ཤེས་ཡོན་པའི་སྡེ།'),\n",
       " ('http://www.tbmgar.com/lcqwbw.asp?id=356#ndbwNdCam', 'རིག་པ་སྨྲ་བའི་སྡེ།')]"
      ]
     },
     "execution_count": 47,
     "metadata": {},
     "output_type": "execute_result"
    }
   ],
   "source": [
    "new_categories"
   ]
  },
  {
   "cell_type": "code",
   "execution_count": null,
   "id": "8c6f770b-8319-4eea-bb55-5eebb99ba945",
   "metadata": {},
   "outputs": [],
   "source": []
  },
  {
   "cell_type": "markdown",
   "id": "748060f9-8f9d-4c1d-97a1-b6b66cf79fe5",
   "metadata": {},
   "source": [
    "## Extarct each categories page number"
   ]
  },
  {
   "cell_type": "code",
   "execution_count": 53,
   "id": "bdf84d27-ff81-48dc-aaed-fc7e255fc468",
   "metadata": {},
   "outputs": [],
   "source": [
    "def get_page_no(url):\n",
    "    \"\"\"\n",
    "    \n",
    "    \"\"\"\n",
    "\n",
    "    headers = {\n",
    "        'Accept': 'text/html,application/xhtml+xml,application/xml;q=0.9,image/avif,image/webp,image/apng,*/*;q=0.8,application/signed-exchange;v=b3;q=0.7',\n",
    "        'Accept-Encoding': 'gzip, deflate',\n",
    "        'Accept-Language': 'en-US,en;q=0.9,en-IN;q=0.8',\n",
    "        'Cache-Control': 'max-age=0',\n",
    "        'Connection': 'keep-alive',\n",
    "        'Cookie': 'ASPSESSIONIDACTSRBDQ=PIPBEFHCGOAOOBEFIPHLEBDL; ASPSESSIONIDCAQQTADQ=JONDLCJCDEJDLBEPJECOOFLH; ASPSESSIONIDCCQTRBBQ=KBEBJAKCANOIMFALCIAJCBJC; sdwaf-test-item=f0a72605020705085503530354075608075705525655525205000207030554070b0305490307061650014d01545d190b55',\n",
    "        'Host': 'www.tbmgar.com',\n",
    "        'Upgrade-Insecure-Requests': '1',\n",
    "        'User-Agent': 'Mozilla/5.0 (Windows NT 10.0; Win64; x64) AppleWebKit/537.36 (KHTML, like Gecko) Chrome/128.0.0.0 Safari/537.36 Edg/128.0.0.0'\n",
    "    }\n",
    "    try:\n",
    "        # Make the request to the URL\n",
    "        response = requests.get(url, headers=headers)\n",
    "        response.raise_for_status()\n",
    "        \n",
    "        # Parse the page content with BeautifulSoup\n",
    "        soup = BeautifulSoup(response.content, 'html.parser')\n",
    "        last_page = soup.find(\"font\", color=\"#FF0000\")\n",
    "        if last_page:\n",
    "            last_page = last_page.get_text(strip=True)\n",
    "            last_page_no = last_page.split(\"/\")[-1]\n",
    "            return [last_page, int(last_page_no)]\n",
    "        else:\n",
    "            return [\"no link last page link\" , 1]\n",
    "            \n",
    "    except Exception as e:\n",
    "        print(e)\n",
    "        return [\"no link last page link\" , 1]"
   ]
  },
  {
   "cell_type": "code",
   "execution_count": 52,
   "id": "eabf2fc9-3f11-4ec8-ac7a-38678c9f5197",
   "metadata": {},
   "outputs": [
    {
     "data": {
      "text/plain": [
       "['1/1', 1]"
      ]
     },
     "execution_count": 52,
     "metadata": {},
     "output_type": "execute_result"
    }
   ],
   "source": [
    "url = \"http://www.tbmgar.com/lcqwbw.asp?id=373#ndbwNdCam\"\n",
    "url = \"http://www.tbmgar.com/lcqwbw.asp?id=380#ndbwNdCam\"\n",
    "url = \"http://www.tbmgar.com/lcqwbw.asp?id=369#ndbwNdCam\"\n",
    "\n",
    "get_page_no(url)"
   ]
  },
  {
   "cell_type": "code",
   "execution_count": null,
   "id": "9df2802d-7053-46c1-9974-f593018ecf1d",
   "metadata": {},
   "outputs": [],
   "source": []
  },
  {
   "cell_type": "code",
   "execution_count": null,
   "id": "94601585-67c3-4c97-9638-9b132ad263a3",
   "metadata": {},
   "outputs": [],
   "source": []
  },
  {
   "cell_type": "code",
   "execution_count": 60,
   "id": "029a9b6f-1b97-493b-8501-87bc3436f7ec",
   "metadata": {
    "scrolled": true
   },
   "outputs": [
    {
     "name": "stdout",
     "output_type": "stream",
     "text": [
      "('http://www.tbmgar.com/lcqwbw.asp?id=282#ndbwNdCam', 'འཛམ་གླིང་གསར་འགྱུར།')\n",
      "['1/51', 51]\n",
      "('http://www.tbmgar.com/lcqwbw.asp?id=283#ndbwNdCam', 'རྒྱལ་ནང་གསར་འགྱུར།')\n",
      "['1/44', 44]\n",
      "('http://www.tbmgar.com/lcqwbw.asp?id=284#ndbwNdCam', 'བོད་ནང་གསར་འགྱུར།')\n",
      "['1/49', 49]\n",
      "('http://www.tbmgar.com/lcqwbw.asp?id=327#ndbwNdCam', 'བཅའ་ཁྲིམས་ཤེས་བྱ།')\n",
      "['1/2', 2]\n",
      "('http://www.tbmgar.com/lcqwbw.asp?id=328#ndbwNdCam', 'འཕྲོད་བསྟེན། འཛེམ་བྱ།')\n",
      "['1/4', 4]\n",
      "5\n",
      "('http://www.tbmgar.com/lcqwbw.asp?id=329#ndbwNdCam', 'ཁོར་ཡུག་སྲུང་སྐྱོབ།')\n",
      "['1/3', 3]\n",
      "('http://www.tbmgar.com/lcqwbw.asp?id=285#ndbwNdCam', 'དེབ་གསར་འོས་སྦྱོར།')\n",
      "['1/11', 11]\n",
      "('http://www.tbmgar.com/lcqwbw.asp?id=330#ndbwNdCam', 'ངེད་དྲ་བ།')\n",
      "['1/1', 1]\n",
      "('http://www.tbmgar.com/lcqwbw.asp?id=353#ndbwNdCam', 'སྤྱི་ཚོགས་གླེང་བརྗོད།')\n",
      "['1/2', 2]\n",
      "('http://www.tbmgar.com/lcqwbw.asp?id=367#ndbwNdCam', 'ནང་བསྟན། ལོ་རྒྱུས།')\n",
      "['1/1', 1]\n",
      "10\n",
      "('http://www.tbmgar.com/lcqwbw.asp?id=368#ndbwNdCam', 'རྩོམ་རིག ཉེར་མཁོ།')\n",
      "['1/2', 2]\n",
      "('http://www.tbmgar.com/lcqwbw.asp?id=369#ndbwNdCam', 'བརྡ་སྤྲོད།  རྒྱུན་ཤེས།')\n",
      "['1/1', 1]\n",
      "('http://www.tbmgar.com/lcqwbw.asp?id=342#ndbwNdCam', 'འཛམ་གླིང་ཆོས་ལུགས།')\n",
      "['1/1', 1]\n",
      "('http://www.tbmgar.com/lcqwbw.asp?id=343#ndbwNdCam', 'ནང་བསྟན་གྲུབ་མཐའ།')\n",
      "['1/2', 2]\n",
      "('http://www.tbmgar.com/lcqwbw.asp?id=344#ndbwNdCam', 'རྒྱུན་ཤེས།  ཆོས་སྤྱོད།')\n",
      "['1/6', 6]\n",
      "15\n",
      "('http://www.tbmgar.com/lcqwbw.asp?id=345#ndbwNdCam', 'དགོན་སྡེ་ངོ་སྤྲོད།')\n",
      "['1/4', 4]\n",
      "('http://www.tbmgar.com/lcqwbw.asp?id=373#ndbwNdCam', 'དགོན་སྡེའི་གསར་འགྱུར།')\n",
      "['1/4', 4]\n",
      "('http://www.tbmgar.com/lcqwbw.asp?id=374#ndbwNdCam', 'དུས་ཆེན་ངོ་སྤྲོད།')\n",
      "['1/1', 1]\n",
      "('http://www.tbmgar.com/lcqwbw.asp?id=286#ndbwNdCam', 'སྙན་རྩོམ།')\n",
      "['1/53', 53]\n",
      "('http://www.tbmgar.com/lcqwbw.asp?id=287#ndbwNdCam', 'དཔྱད་རྩོམ།')\n",
      "['1/11', 11]\n",
      "20\n",
      "('http://www.tbmgar.com/lcqwbw.asp?id=288#ndbwNdCam', 'འབོལ་རྩོམ།')\n",
      "['1/14', 14]\n",
      "('http://www.tbmgar.com/lcqwbw.asp?id=289#ndbwNdCam', 'རང་མོས།')\n",
      "['1/29', 29]\n",
      "('http://www.tbmgar.com/lcqwbw.asp?id=325#ndbwNdCam', 'བསྒྱུར་རྩོམ།')\n",
      "['1/9', 9]\n",
      "('http://www.tbmgar.com/lcqwbw.asp?id=326#ndbwNdCam', 'ལེགས་བཤད།')\n",
      "['1/6', 6]\n",
      "('http://www.tbmgar.com/lcqwbw.asp?id=335#ndbwNdCam', 'ལྷུག་རྩོམ།')\n",
      "['1/11', 11]\n",
      "25\n",
      "('http://www.tbmgar.com/lcqwbw.asp?id=339#ndbwNdCam', 'ཁཱ་ཤེས་རབ་རྒྱ་མཚོ།')\n",
      "['1/12', 12]\n",
      "('http://www.tbmgar.com/lcqwbw.asp?id=378#ndbwNdCam', 'བདམས་བཀོད་རྩོམ་ཡིག')\n",
      "['1/13', 13]\n",
      "('http://www.tbmgar.com/lcqwbw.asp?id=294#ndbwNdCam', 'འཛམ་གླིང་ལོ་རྒྱུས།')\n",
      "['1/1', 1]\n",
      "('http://www.tbmgar.com/lcqwbw.asp?id=302#ndbwNdCam', 'བོད་ཀྱི་རྒྱལ་རབས།')\n",
      "['1/2', 2]\n",
      "('http://www.tbmgar.com/lcqwbw.asp?id=303#ndbwNdCam', 'སྤྱི་ཚོགས་ལོ་རྒྱུས།')\n",
      "500 Server Error: Internal Server Error for url: http://www.tbmgar.com/lcqwbw.asp?id=303#ndbwNdCam\n",
      "['no link last page link', 1]\n",
      "30\n",
      "('http://www.tbmgar.com/lcqwbw.asp?id=333#ndbwNdCam', 'ཡུལ་སྐོར་ཟིན་ཐོ་དང་བཏུས་རྩོམ།')\n",
      "['1/2', 2]\n",
      "('http://www.tbmgar.com/lcqwbw.asp?id=295#ndbwNdCam', 'རུས་རྒྱུད་སྣ་ཚོགས་བྱུང་རིམ།')\n",
      "['1/2', 2]\n",
      "('http://www.tbmgar.com/lcqwbw.asp?id=296#ndbwNdCam', 'རུས་མགར་གྱི་བྱུང་བ་སྣ་ཚོགས།')\n",
      "['1/5', 5]\n",
      "('http://www.tbmgar.com/lcqwbw.asp?id=304#ndbwNdCam', 'རུས་མགར་ཚང་གི་བྱ་བཞག')\n",
      "['1/3', 3]\n",
      "('http://www.tbmgar.com/lcqwbw.asp?id=297#ndbwNdCam', 'གླེང་སྟེགས་བཅར་འདྲི།')\n",
      "['1/1', 1]\n",
      "35\n",
      "('http://www.tbmgar.com/lcqwbw.asp?id=298#ndbwNdCam', 'ཡུལ་སྲོལ་དང་རྒྱུན་ཤེས།')\n",
      "['1/4', 4]\n",
      "('http://www.tbmgar.com/lcqwbw.asp?id=306#ndbwNdCam', 'གནའ་གཏམ་དང་སྒྲུང་།')\n",
      "['1/3', 3]\n",
      "('http://www.tbmgar.com/lcqwbw.asp?id=307#ndbwNdCam', 'གཏམ་དཔེ།')\n",
      "['1/2', 2]\n",
      "('http://www.tbmgar.com/lcqwbw.asp?id=366#ndbwNdCam', 'བརྡ་སྦྱོར་གླིང་།')\n",
      "['1/4', 4]\n",
      "('http://www.tbmgar.com/lcqwbw.asp?id=370#ndbwNdCam', 'ཚོགས་པ་ངོ་སྤྲོད།')\n",
      "['1/1', 1]\n",
      "40\n",
      "('http://www.tbmgar.com/lcqwbw.asp?id=299#ndbwNdCam', 'བཀའ་སློབ་བརྙན་བསྡུས།')\n",
      "['1/1', 1]\n",
      "('http://www.tbmgar.com/lcqwbw.asp?id=308#ndbwNdCam', 'རི་མོ།')\n",
      "['1/1', 1]\n",
      "('http://www.tbmgar.com/lcqwbw.asp?id=309#ndbwNdCam', 'གཞས་ར་ཁྲ་མོ།')\n",
      "['1/7', 7]\n",
      "('http://www.tbmgar.com/lcqwbw.asp?id=310#ndbwNdCam', 'གློག་བརྙན།')\n",
      "['1/3', 3]\n",
      "('http://www.tbmgar.com/lcqwbw.asp?id=332#ndbwNdCam', 'སྒྱུ་རྩལ་དང་རྒྱུན་ཤེས།')\n",
      "['1/2', 2]\n",
      "45\n",
      "('http://www.tbmgar.com/lcqwbw.asp?id=348#ndbwNdCam', 'སྤྱི་ཚོགས་གཏམ་བཤད།')\n",
      "['1/2', 2]\n",
      "('http://www.tbmgar.com/lcqwbw.asp?id=349#ndbwNdCam', 'རིག་དངོས་སྡེ་ཁག་འོས་སྦྱོར།')\n",
      "['1/1', 1]\n",
      "('http://www.tbmgar.com/lcqwbw.asp?id=350#ndbwNdCam', 'སྒྱུ་རྩལ་པ་འོས་སྦྱོར།')\n",
      "['1/1', 1]\n",
      "('http://www.tbmgar.com/lcqwbw.asp?id=371#ndbwNdCam', 'དགོང་ཚོགས། འོད་སྡེར་གསར་བ།')\n",
      "['1/2', 2]\n",
      "('http://www.tbmgar.com/lcqwbw.asp?id=379#ndbwNdCam', 'གླུ་དབྱངས།')\n",
      "['1/1', 1]\n",
      "50\n",
      "('http://www.tbmgar.com/lcqwbw.asp?id=380#ndbwNdCam', 'དཔེ་ཁྲིད།')\n",
      "['1/1', 1]\n",
      "('http://www.tbmgar.com/lcqwbw.asp?id=381#ndbwNdCam', 'དམངས་གླུ།')\n",
      "['1/1', 1]\n",
      "('http://www.tbmgar.com/lcqwbw.asp?id=383#ndbwNdCam', 'སྒྲ་བརྙན་རྡུང་ལེན།')\n",
      "['1/1', 1]\n",
      "('http://www.tbmgar.com/lcqwbw.asp?id=311#ndbwNdCam', 'དཔལ་འབྱོར་རིག་པ།')\n",
      "['1/1', 1]\n",
      "('http://www.tbmgar.com/lcqwbw.asp?id=312#ndbwNdCam', 'ཐོན་རྫས་གསར་བ་འོས་སྦྱོར།')\n",
      "['1/2', 2]\n",
      "55\n",
      "('http://www.tbmgar.com/lcqwbw.asp?id=346#ndbwNdCam', 'ཚོང་ལས་འོས་སྦྱོར།')\n",
      "['1/2', 2]\n",
      "('http://www.tbmgar.com/lcqwbw.asp?id=313#ndbwNdCam', 'འཛམ་གླིང་མཁས་དབང་།')\n",
      "['1/2', 2]\n",
      "('http://www.tbmgar.com/lcqwbw.asp?id=315#ndbwNdCam', 'སློབ་གསོ་སྨྲ་བའི་སྡེ།')\n",
      "['1/2', 2]\n",
      "('http://www.tbmgar.com/lcqwbw.asp?id=316#ndbwNdCam', 'མགར་གྱི་མི་སྣ།')\n",
      "['1/1', 1]\n",
      "('http://www.tbmgar.com/lcqwbw.asp?id=334#ndbwNdCam', 'སྔོན་བྱོན་སྐྱེས་ཆེན།')\n",
      "['1/2', 2]\n",
      "60\n",
      "('http://www.tbmgar.com/lcqwbw.asp?id=355#ndbwNdCam', 'ཤེས་ཡོན་པའི་སྡེ།')\n",
      "['1/2', 2]\n",
      "('http://www.tbmgar.com/lcqwbw.asp?id=356#ndbwNdCam', 'རིག་པ་སྨྲ་བའི་སྡེ།')\n",
      "['1/2', 2]\n"
     ]
    }
   ],
   "source": [
    "final_link = []\n",
    "i = 0\n",
    "for each_link in new_categories:\n",
    "    print(each_link)\n",
    "    link = each_link[0]\n",
    "    page_no = get_page_no(link)\n",
    "    clean_list = []\n",
    "    \n",
    "    print(page_no)\n",
    "    if page_no is not None:\n",
    "        clean_list.extend(each_link)\n",
    "        clean_list.extend(page_no)\n",
    "        final_link.append(clean_list)\n",
    "    i = i+1\n",
    "    if i%5 == 0:\n",
    "        print(i)\n"
   ]
  },
  {
   "cell_type": "code",
   "execution_count": 61,
   "id": "d9cb015a-793e-4c47-a5f8-827d6bbaf00b",
   "metadata": {},
   "outputs": [
    {
     "data": {
      "text/plain": [
       "[['http://www.tbmgar.com/lcqwbw.asp?id=282#ndbwNdCam',\n",
       "  'འཛམ་གླིང་གསར་འགྱུར།',\n",
       "  '1/51',\n",
       "  51],\n",
       " ['http://www.tbmgar.com/lcqwbw.asp?id=283#ndbwNdCam',\n",
       "  'རྒྱལ་ནང་གསར་འགྱུར།',\n",
       "  '1/44',\n",
       "  44],\n",
       " ['http://www.tbmgar.com/lcqwbw.asp?id=284#ndbwNdCam',\n",
       "  'བོད་ནང་གསར་འགྱུར།',\n",
       "  '1/49',\n",
       "  49],\n",
       " ['http://www.tbmgar.com/lcqwbw.asp?id=327#ndbwNdCam',\n",
       "  'བཅའ་ཁྲིམས་ཤེས་བྱ།',\n",
       "  '1/2',\n",
       "  2],\n",
       " ['http://www.tbmgar.com/lcqwbw.asp?id=328#ndbwNdCam',\n",
       "  'འཕྲོད་བསྟེན། འཛེམ་བྱ།',\n",
       "  '1/4',\n",
       "  4],\n",
       " ['http://www.tbmgar.com/lcqwbw.asp?id=329#ndbwNdCam',\n",
       "  'ཁོར་ཡུག་སྲུང་སྐྱོབ།',\n",
       "  '1/3',\n",
       "  3],\n",
       " ['http://www.tbmgar.com/lcqwbw.asp?id=285#ndbwNdCam',\n",
       "  'དེབ་གསར་འོས་སྦྱོར།',\n",
       "  '1/11',\n",
       "  11],\n",
       " ['http://www.tbmgar.com/lcqwbw.asp?id=330#ndbwNdCam', 'ངེད་དྲ་བ།', '1/1', 1],\n",
       " ['http://www.tbmgar.com/lcqwbw.asp?id=353#ndbwNdCam',\n",
       "  'སྤྱི་ཚོགས་གླེང་བརྗོད།',\n",
       "  '1/2',\n",
       "  2],\n",
       " ['http://www.tbmgar.com/lcqwbw.asp?id=367#ndbwNdCam',\n",
       "  'ནང་བསྟན། ལོ་རྒྱུས།',\n",
       "  '1/1',\n",
       "  1]]"
      ]
     },
     "execution_count": 61,
     "metadata": {},
     "output_type": "execute_result"
    }
   ],
   "source": [
    "final_link[:10]"
   ]
  },
  {
   "cell_type": "code",
   "execution_count": null,
   "id": "99eaa940-3e9f-4242-8fb4-5eddf762c916",
   "metadata": {},
   "outputs": [],
   "source": []
  },
  {
   "cell_type": "code",
   "execution_count": 62,
   "id": "b3cd8de9-dce3-43d4-9bf1-5fe4f55316df",
   "metadata": {},
   "outputs": [],
   "source": [
    "import pandas as pd"
   ]
  },
  {
   "cell_type": "code",
   "execution_count": 63,
   "id": "2fa6a92b-8907-4222-b860-e5275ef8759f",
   "metadata": {},
   "outputs": [
    {
     "data": {
      "text/html": [
       "<div>\n",
       "<style scoped>\n",
       "    .dataframe tbody tr th:only-of-type {\n",
       "        vertical-align: middle;\n",
       "    }\n",
       "\n",
       "    .dataframe tbody tr th {\n",
       "        vertical-align: top;\n",
       "    }\n",
       "\n",
       "    .dataframe thead th {\n",
       "        text-align: right;\n",
       "    }\n",
       "</style>\n",
       "<table border=\"1\" class=\"dataframe\">\n",
       "  <thead>\n",
       "    <tr style=\"text-align: right;\">\n",
       "      <th></th>\n",
       "      <th>original_url</th>\n",
       "      <th>name_of_cate</th>\n",
       "      <th>Last_page_link</th>\n",
       "      <th>list_page_no</th>\n",
       "    </tr>\n",
       "  </thead>\n",
       "  <tbody>\n",
       "    <tr>\n",
       "      <th>0</th>\n",
       "      <td>http://www.tbmgar.com/lcqwbw.asp?id=282#ndbwNdCam</td>\n",
       "      <td>འཛམ་གླིང་གསར་འགྱུར།</td>\n",
       "      <td>1/51</td>\n",
       "      <td>51</td>\n",
       "    </tr>\n",
       "    <tr>\n",
       "      <th>1</th>\n",
       "      <td>http://www.tbmgar.com/lcqwbw.asp?id=283#ndbwNdCam</td>\n",
       "      <td>རྒྱལ་ནང་གསར་འགྱུར།</td>\n",
       "      <td>1/44</td>\n",
       "      <td>44</td>\n",
       "    </tr>\n",
       "    <tr>\n",
       "      <th>2</th>\n",
       "      <td>http://www.tbmgar.com/lcqwbw.asp?id=284#ndbwNdCam</td>\n",
       "      <td>བོད་ནང་གསར་འགྱུར།</td>\n",
       "      <td>1/49</td>\n",
       "      <td>49</td>\n",
       "    </tr>\n",
       "    <tr>\n",
       "      <th>3</th>\n",
       "      <td>http://www.tbmgar.com/lcqwbw.asp?id=327#ndbwNdCam</td>\n",
       "      <td>བཅའ་ཁྲིམས་ཤེས་བྱ།</td>\n",
       "      <td>1/2</td>\n",
       "      <td>2</td>\n",
       "    </tr>\n",
       "    <tr>\n",
       "      <th>4</th>\n",
       "      <td>http://www.tbmgar.com/lcqwbw.asp?id=328#ndbwNdCam</td>\n",
       "      <td>འཕྲོད་བསྟེན། འཛེམ་བྱ།</td>\n",
       "      <td>1/4</td>\n",
       "      <td>4</td>\n",
       "    </tr>\n",
       "  </tbody>\n",
       "</table>\n",
       "</div>"
      ],
      "text/plain": [
       "                                        original_url           name_of_cate  \\\n",
       "0  http://www.tbmgar.com/lcqwbw.asp?id=282#ndbwNdCam    འཛམ་གླིང་གསར་འགྱུར།   \n",
       "1  http://www.tbmgar.com/lcqwbw.asp?id=283#ndbwNdCam     རྒྱལ་ནང་གསར་འགྱུར།   \n",
       "2  http://www.tbmgar.com/lcqwbw.asp?id=284#ndbwNdCam      བོད་ནང་གསར་འགྱུར།   \n",
       "3  http://www.tbmgar.com/lcqwbw.asp?id=327#ndbwNdCam      བཅའ་ཁྲིམས་ཤེས་བྱ།   \n",
       "4  http://www.tbmgar.com/lcqwbw.asp?id=328#ndbwNdCam  འཕྲོད་བསྟེན། འཛེམ་བྱ།   \n",
       "\n",
       "  Last_page_link  list_page_no  \n",
       "0           1/51            51  \n",
       "1           1/44            44  \n",
       "2           1/49            49  \n",
       "3            1/2             2  \n",
       "4            1/4             4  "
      ]
     },
     "execution_count": 63,
     "metadata": {},
     "output_type": "execute_result"
    }
   ],
   "source": [
    "df = pd.DataFrame(final_link, columns=['original_url', 'name_of_cate', 'Last_page_link', 'list_page_no'])\n",
    "df.head()"
   ]
  },
  {
   "cell_type": "code",
   "execution_count": 65,
   "id": "eb2e841b-1fa8-411d-8b77-a640bbba3ad5",
   "metadata": {},
   "outputs": [
    {
     "data": {
      "text/html": [
       "<div>\n",
       "<style scoped>\n",
       "    .dataframe tbody tr th:only-of-type {\n",
       "        vertical-align: middle;\n",
       "    }\n",
       "\n",
       "    .dataframe tbody tr th {\n",
       "        vertical-align: top;\n",
       "    }\n",
       "\n",
       "    .dataframe thead th {\n",
       "        text-align: right;\n",
       "    }\n",
       "</style>\n",
       "<table border=\"1\" class=\"dataframe\">\n",
       "  <thead>\n",
       "    <tr style=\"text-align: right;\">\n",
       "      <th></th>\n",
       "      <th>original_url</th>\n",
       "      <th>name_of_cate</th>\n",
       "      <th>Last_page_link</th>\n",
       "      <th>list_page_no</th>\n",
       "    </tr>\n",
       "  </thead>\n",
       "  <tbody>\n",
       "    <tr>\n",
       "      <th>29</th>\n",
       "      <td>http://www.tbmgar.com/lcqwbw.asp?id=303#ndbwNdCam</td>\n",
       "      <td>སྤྱི་ཚོགས་ལོ་རྒྱུས།</td>\n",
       "      <td>no link last page link</td>\n",
       "      <td>1</td>\n",
       "    </tr>\n",
       "  </tbody>\n",
       "</table>\n",
       "</div>"
      ],
      "text/plain": [
       "                                         original_url         name_of_cate  \\\n",
       "29  http://www.tbmgar.com/lcqwbw.asp?id=303#ndbwNdCam  སྤྱི་ཚོགས་ལོ་རྒྱུས།   \n",
       "\n",
       "            Last_page_link  list_page_no  \n",
       "29  no link last page link             1  "
      ]
     },
     "execution_count": 65,
     "metadata": {},
     "output_type": "execute_result"
    }
   ],
   "source": [
    "remaning_links_df = df.loc[df.Last_page_link == \"no link last page link\"]\n",
    "remaning_links_df.head()"
   ]
  },
  {
   "cell_type": "code",
   "execution_count": null,
   "id": "02713225-cc56-420c-94fe-d97dde7a4cc3",
   "metadata": {},
   "outputs": [],
   "source": []
  },
  {
   "cell_type": "code",
   "execution_count": 66,
   "id": "7a9dddfc-9d54-4c6f-9457-a0ca703d678f",
   "metadata": {},
   "outputs": [],
   "source": [
    "df.to_csv(\"./data/All_cate.csv\", index=False)"
   ]
  },
  {
   "cell_type": "code",
   "execution_count": 67,
   "id": "b8ece6f1-8be4-45ac-bd8b-e65ed382227f",
   "metadata": {},
   "outputs": [
    {
     "data": {
      "text/plain": [
       "(62, 4)"
      ]
     },
     "execution_count": 67,
     "metadata": {},
     "output_type": "execute_result"
    }
   ],
   "source": [
    "df.shape"
   ]
  }
 ],
 "metadata": {
  "kernelspec": {
   "display_name": "Python 3 (ipykernel)",
   "language": "python",
   "name": "python3"
  },
  "language_info": {
   "codemirror_mode": {
    "name": "ipython",
    "version": 3
   },
   "file_extension": ".py",
   "mimetype": "text/x-python",
   "name": "python",
   "nbconvert_exporter": "python",
   "pygments_lexer": "ipython3",
   "version": "3.10.13"
  }
 },
 "nbformat": 4,
 "nbformat_minor": 5
}
