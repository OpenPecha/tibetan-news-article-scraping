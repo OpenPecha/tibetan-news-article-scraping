{
 "cells": [
  {
   "cell_type": "code",
   "execution_count": 18,
   "id": "3a461d57-2faf-4cbe-8847-30750eee0544",
   "metadata": {},
   "outputs": [],
   "source": [
    "import os"
   ]
  },
  {
   "cell_type": "code",
   "execution_count": 19,
   "id": "bf585d8f-0e00-4241-b333-ff3069f824ae",
   "metadata": {},
   "outputs": [],
   "source": [
    "directory = './data/links/'"
   ]
  },
  {
   "cell_type": "code",
   "execution_count": 20,
   "id": "7491e53b-78da-49af-a4f3-b043d7b86884",
   "metadata": {
    "scrolled": true
   },
   "outputs": [
    {
     "data": {
      "text/plain": [
       "['./data/links/tbmgar_ALL_link_བོད་ནང་གསར་འགྱུར།.json',\n",
       " './data/links/tbmgar_ALL_link_ཁཱ་ཤེས་རབ་རྒྱ་མཚོ།.json',\n",
       " './data/links/tbmgar_ALL_link_བདམས་བཀོད་རྩོམ་ཡིག.json',\n",
       " './data/links/tbmgar_ALL_link_ཁོར་ཡུག་སྲུང་སྐྱོབ།.json',\n",
       " './data/links/tbmgar_ALL_link_རི་མོ།.json',\n",
       " './data/links/tbmgar_ALL_link_གཏམ་དཔེ།.json',\n",
       " './data/links/tbmgar_ALL_link_མགར་གྱི་མི་སྣ།.json',\n",
       " './data/links/tbmgar_ALL_link_གནའ་གཏམ་དང་སྒྲུང་།.json',\n",
       " './data/links/tbmgar_ALL_link_གཞས་ར་ཁྲ་མོ།.json',\n",
       " './data/links/tbmgar_ALL_link_ལེགས་བཤད།.json',\n",
       " './data/links/tbmgar_ALL_link_གླུ་དབྱངས།.json',\n",
       " './data/links/tbmgar_ALL_link_བརྡ་སྤྲོད།  རྒྱུན་ཤེས།.json',\n",
       " './data/links/tbmgar_ALL_link_གླེང་སྟེགས་བཅར་འདྲི།.json',\n",
       " './data/links/tbmgar_ALL_link_ལྷུག་རྩོམ།.json',\n",
       " './data/links/tbmgar_ALL_link_གློག་བརྙན།.json',\n",
       " './data/links/tbmgar_ALL_link_སྙན་རྩོམ།.json',\n",
       " './data/links/tbmgar_ALL_link_ངེད་དྲ་བ།.json',\n",
       " './data/links/tbmgar_ALL_link_བསྒྱུར་རྩོམ།.json',\n",
       " './data/links/tbmgar_ALL_link_ཐོན་རྫས་གསར་བ་འོས་སྦྱོར།.json',\n",
       " './data/links/tbmgar_ALL_link_བཀའ་སློབ་བརྙན་བསྡུས།.json',\n",
       " './data/links/tbmgar_ALL_link_དགོང་ཚོགས། འོད་སྡེར་གསར་བ།.json',\n",
       " './data/links/tbmgar_ALL_link_ཚོགས་པ་ངོ་སྤྲོད།.json',\n",
       " './data/links/tbmgar_ALL_link_དགོན་སྡེ་ངོ་སྤྲོད།.json',\n",
       " './data/links/tbmgar_ALL_link_བོད་ཀྱི་རྒྱལ་རབས།.json',\n",
       " './data/links/tbmgar_ALL_link_དགོན་སྡེའི་གསར་འགྱུར།.json',\n",
       " './data/links/tbmgar_ALL_link_ཚོང་ལས་འོས་སྦྱོར།.json',\n",
       " './data/links/tbmgar_ALL_link_དཔལ་འབྱོར་རིག་པ།.json',\n",
       " './data/links/tbmgar_ALL_link_དཔེ་ཁྲིད།.json',\n",
       " './data/links/tbmgar_ALL_link_དཔྱད་རྩོམ།.json',\n",
       " './data/links/tbmgar_ALL_link_དམངས་གླུ།.json',\n",
       " './data/links/tbmgar_ALL_link_འཕྲོད་བསྟེན། འཛེམ་བྱ།.json',\n",
       " './data/links/tbmgar_ALL_link_དུས་ཆེན་ངོ་སྤྲོད།.json',\n",
       " './data/links/tbmgar_ALL_link_འབོལ་རྩོམ།.json',\n",
       " './data/links/tbmgar_ALL_link_དེབ་གསར་འོས་སྦྱོར།.json',\n",
       " './data/links/tbmgar_ALL_link_འཛམ་གླིང་གསར་འགྱུར།.json',\n",
       " './data/links/tbmgar_ALL_link_ནང་བསྟན་གྲུབ་མཐའ།.json',\n",
       " './data/links/tbmgar_ALL_link_འཛམ་གླིང་ཆོས་ལུགས།.json',\n",
       " './data/links/tbmgar_ALL_link_ནང་བསྟན། ལོ་རྒྱུས།.json',\n",
       " './data/links/tbmgar_ALL_link_བཅའ་ཁྲིམས་ཤེས་བྱ།.json',\n",
       " './data/links/tbmgar_ALL_link_བརྡ་སྦྱོར་གླིང་།.json',\n",
       " './data/links/tbmgar_ALL_link_རང་མོས།.json',\n",
       " './data/links/tbmgar_ALL_link_འཛམ་གླིང་མཁས་དབང་།.json',\n",
       " './data/links/tbmgar_ALL_link_འཛམ་གླིང་ལོ་རྒྱུས།.json',\n",
       " './data/links/tbmgar_ALL_link_ཡུལ་སྐོར་ཟིན་ཐོ་དང་བཏུས་རྩོམ།.json',\n",
       " './data/links/tbmgar_ALL_link_ཡུལ་སྲོལ་དང་རྒྱུན་ཤེས།.json',\n",
       " './data/links/tbmgar_ALL_link_རིག་དངོས་སྡེ་ཁག་འོས་སྦྱོར།.json',\n",
       " './data/links/tbmgar_ALL_link_རིག་པ་སྨྲ་བའི་སྡེ།.json',\n",
       " './data/links/tbmgar_ALL_link_རུས་མགར་གྱི་བྱུང་བ་སྣ་ཚོགས།.json',\n",
       " './data/links/tbmgar_ALL_link_རུས་མགར་ཚང་གི་བྱ་བཞག.json',\n",
       " './data/links/tbmgar_ALL_link_རུས་རྒྱུད་སྣ་ཚོགས་བྱུང་རིམ།.json',\n",
       " './data/links/tbmgar_ALL_link_རྒྱལ་ནང་གསར་འགྱུར།.json',\n",
       " './data/links/tbmgar_ALL_link_རྒྱུན་ཤེས།  ཆོས་སྤྱོད།.json',\n",
       " './data/links/tbmgar_ALL_link_རྩོམ་རིག ཉེར་མཁོ།.json',\n",
       " './data/links/tbmgar_ALL_link_ཤེས་ཡོན་པའི་སྡེ།.json',\n",
       " './data/links/tbmgar_ALL_link_སྒྱུ་རྩལ་དང་རྒྱུན་ཤེས།.json',\n",
       " './data/links/tbmgar_ALL_link_སྒྱུ་རྩལ་པ་འོས་སྦྱོར།.json',\n",
       " './data/links/tbmgar_ALL_link_སྒྲ་བརྙན་རྡུང་ལེན།.json',\n",
       " './data/links/tbmgar_ALL_link_སྔོན་བྱོན་སྐྱེས་ཆེན།.json',\n",
       " './data/links/tbmgar_ALL_link_སྤྱི་ཚོགས་གཏམ་བཤད།.json',\n",
       " './data/links/tbmgar_ALL_link_སྤྱི་ཚོགས་གླེང་བརྗོད།.json',\n",
       " './data/links/tbmgar_ALL_link_སྤྱི་ཚོགས་ལོ་རྒྱུས།.json',\n",
       " './data/links/tbmgar_ALL_link_སློབ་གསོ་སྨྲ་བའི་སྡེ།.json']"
      ]
     },
     "execution_count": 20,
     "metadata": {},
     "output_type": "execute_result"
    }
   ],
   "source": [
    "json_files = [os.path.join(directory, f) for f in os.listdir(directory) if f.endswith('.json')]\n",
    "json_files"
   ]
  },
  {
   "cell_type": "code",
   "execution_count": 21,
   "id": "9da14d91-e9c1-4171-93cf-497f6fb9f9f0",
   "metadata": {},
   "outputs": [
    {
     "data": {
      "text/plain": [
       "62"
      ]
     },
     "execution_count": 21,
     "metadata": {},
     "output_type": "execute_result"
    }
   ],
   "source": [
    "len(json_files)"
   ]
  },
  {
   "cell_type": "code",
   "execution_count": 22,
   "id": "b885050f-30e4-4aee-ad33-a29f70f66362",
   "metadata": {},
   "outputs": [],
   "source": [
    "path_name_list = []\n",
    "\n",
    "for each_path in json_files:\n",
    "    # Split the filename by underscore\n",
    "    parts = each_path.split('_')\n",
    "    \n",
    "    # The Tibetan word is the last part, without the .json extension\n",
    "    tibetan_word = parts[-1].split('.')[0]\n",
    "\n",
    "    path_name_list.append(tibetan_word)\n",
    "    \n",
    "    # print(f\"The extracted Tibetan word is: {tibetan_word}\")"
   ]
  },
  {
   "cell_type": "code",
   "execution_count": 23,
   "id": "d922339f-fce6-4910-bbea-d1a063e1403a",
   "metadata": {},
   "outputs": [
    {
     "data": {
      "text/plain": [
       "62"
      ]
     },
     "execution_count": 23,
     "metadata": {},
     "output_type": "execute_result"
    }
   ],
   "source": [
    "len(path_name_list)"
   ]
  },
  {
   "cell_type": "code",
   "execution_count": null,
   "id": "e736c403-97e2-4e8f-8146-52d0237e14e9",
   "metadata": {},
   "outputs": [],
   "source": []
  },
  {
   "cell_type": "code",
   "execution_count": null,
   "id": "ffa43eff-8e7f-414e-b21e-3058202a0b1d",
   "metadata": {},
   "outputs": [],
   "source": []
  },
  {
   "cell_type": "code",
   "execution_count": null,
   "id": "ae03b49f-ab8e-4e8e-86f4-2a964597bff5",
   "metadata": {},
   "outputs": [],
   "source": []
  },
  {
   "cell_type": "code",
   "execution_count": 24,
   "id": "7e7ef688-a638-476f-9cba-7a46b999501e",
   "metadata": {},
   "outputs": [],
   "source": [
    "directory_parallel = './data/parallel_content/'"
   ]
  },
  {
   "cell_type": "code",
   "execution_count": 25,
   "id": "487f6f4d-c25d-43e5-9114-a6660bc28417",
   "metadata": {},
   "outputs": [
    {
     "data": {
      "text/plain": [
       "56"
      ]
     },
     "execution_count": 25,
     "metadata": {},
     "output_type": "execute_result"
    }
   ],
   "source": [
    "json_files_parallel = [os.path.join(directory_parallel, f) for f in os.listdir(directory_parallel) if f.endswith('.json')]\n",
    "len(json_files_parallel)"
   ]
  },
  {
   "cell_type": "code",
   "execution_count": 26,
   "id": "e2f1ad39-89dd-408c-93c4-fa5b85426294",
   "metadata": {},
   "outputs": [],
   "source": [
    "path_content_list = []\n",
    "\n",
    "for each_path in json_files_parallel:\n",
    "    # Split the filename by underscore\n",
    "    parts = each_path.split('_')\n",
    "    \n",
    "    # The Tibetan word is the last part, without the .json extension\n",
    "    tibetan_word = parts[-1].split('.')[0]\n",
    "\n",
    "    path_content_list.append(tibetan_word)\n",
    "    \n",
    "    # print(f\"The extracted Tibetan word is: {tibetan_word}\")"
   ]
  },
  {
   "cell_type": "code",
   "execution_count": 27,
   "id": "44f19689-37d5-4c1e-8b6a-1531f7df2618",
   "metadata": {},
   "outputs": [
    {
     "data": {
      "text/plain": [
       "56"
      ]
     },
     "execution_count": 27,
     "metadata": {},
     "output_type": "execute_result"
    }
   ],
   "source": [
    "len(path_content_list)"
   ]
  },
  {
   "cell_type": "code",
   "execution_count": null,
   "id": "b128dec0-7324-42b3-9b7f-35f21d0e92eb",
   "metadata": {},
   "outputs": [],
   "source": []
  },
  {
   "cell_type": "code",
   "execution_count": null,
   "id": "76bc7d4d-ca03-42c8-9b3f-917dac982432",
   "metadata": {},
   "outputs": [],
   "source": []
  },
  {
   "cell_type": "code",
   "execution_count": 11,
   "id": "02b4a310-136a-48d2-87a3-fdbdbe362352",
   "metadata": {},
   "outputs": [
    {
     "name": "stdout",
     "output_type": "stream",
     "text": [
      "བོད་ནང་གསར་འགྱུར།\n",
      "བརྡ་སྤྲོད།  རྒྱུན་ཤེས།\n",
      "སྙན་རྩོམ།\n",
      "དགོང་ཚོགས། འོད་སྡེར་གསར་བ།\n",
      "དཔྱད་རྩོམ།\n",
      "འཕྲོད་བསྟེན། འཛེམ་བྱ།\n",
      "འབོལ་རྩོམ།\n",
      "དེབ་གསར་འོས་སྦྱོར།\n",
      "འཛམ་གླིང་གསར་འགྱུར།\n",
      "ནང་བསྟན་གྲུབ་མཐའ།\n",
      "ནང་བསྟན། ལོ་རྒྱུས།\n",
      "བཅའ་ཁྲིམས་ཤེས་བྱ།\n",
      "བརྡ་སྦྱོར་གླིང་།\n",
      "རྒྱུན་ཤེས།  ཆོས་སྤྱོད།\n",
      "རྩོམ་རིག ཉེར་མཁོ།\n"
     ]
    }
   ],
   "source": [
    "for each_link in path_name_list:\n",
    "    if each_link not in path_content_list:\n",
    "        print(each_link)"
   ]
  },
  {
   "cell_type": "code",
   "execution_count": null,
   "id": "9589407f-000f-4371-9681-1b341481965d",
   "metadata": {},
   "outputs": [],
   "source": []
  },
  {
   "cell_type": "code",
   "execution_count": null,
   "id": "5cb71c69-15ae-41d8-9e53-6567339e7042",
   "metadata": {},
   "outputs": [],
   "source": []
  },
  {
   "cell_type": "code",
   "execution_count": null,
   "id": "3fc1e5b9-54eb-4cf7-b8e8-92a37375bea5",
   "metadata": {},
   "outputs": [],
   "source": []
  },
  {
   "cell_type": "code",
   "execution_count": null,
   "id": "9b01876d-631e-4f05-97b8-cfa25704dcd8",
   "metadata": {},
   "outputs": [],
   "source": []
  }
 ],
 "metadata": {
  "kernelspec": {
   "display_name": "Python 3 (ipykernel)",
   "language": "python",
   "name": "python3"
  },
  "language_info": {
   "codemirror_mode": {
    "name": "ipython",
    "version": 3
   },
   "file_extension": ".py",
   "mimetype": "text/x-python",
   "name": "python",
   "nbconvert_exporter": "python",
   "pygments_lexer": "ipython3",
   "version": "3.10.13"
  }
 },
 "nbformat": 4,
 "nbformat_minor": 5
}
