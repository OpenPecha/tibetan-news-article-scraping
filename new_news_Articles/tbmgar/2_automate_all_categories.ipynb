{
 "cells": [
  {
   "cell_type": "code",
   "execution_count": 20,
   "id": "40147810-a5ac-49c4-9891-123f743b40eb",
   "metadata": {},
   "outputs": [],
   "source": [
    "import requests\n",
    "from bs4 import BeautifulSoup\n",
    "import json\n",
    "import time\n",
    "\n",
    "from tqdm import tqdm"
   ]
  },
  {
   "cell_type": "code",
   "execution_count": 21,
   "id": "7c3970d1-04ce-402d-afa7-fbf8323f6284",
   "metadata": {},
   "outputs": [],
   "source": [
    "import tbmgar_utils\n",
    "import pandas as pd"
   ]
  },
  {
   "cell_type": "code",
   "execution_count": null,
   "id": "ca1d7bbc-d27b-4c64-aa2d-5d27409915d7",
   "metadata": {},
   "outputs": [],
   "source": []
  },
  {
   "cell_type": "markdown",
   "id": "685b9b9e-98a7-4a1f-a674-2125437e3fe4",
   "metadata": {},
   "source": [
    "\n",
    "## base_url = \"http://www.tbmgar.com\""
   ]
  },
  {
   "cell_type": "markdown",
   "id": "95f69b28-a91e-479a-9d51-3e2d466692a6",
   "metadata": {},
   "source": [
    "Tabs not extracted:\n",
    "\"http://www.tbmgar.com\"\n"
   ]
  },
  {
   "cell_type": "code",
   "execution_count": null,
   "id": "53f131a3-9008-4061-a1c1-191bf90cab51",
   "metadata": {},
   "outputs": [],
   "source": []
  },
  {
   "cell_type": "markdown",
   "id": "acd071a1-9fce-42e8-9d49-0e71dc3b42e4",
   "metadata": {},
   "source": [
    "\n",
    "------------\n",
    "-----------\n",
    "------------\n",
    "------------\n",
    "------------"
   ]
  },
  {
   "cell_type": "code",
   "execution_count": null,
   "id": "25790012-6125-4ff5-8f51-eae50f5078ef",
   "metadata": {},
   "outputs": [],
   "source": [
    "# http://www.tbmgar.com/lcqwbw.asp?pages=2&id=327"
   ]
  },
  {
   "cell_type": "code",
   "execution_count": 46,
   "id": "467da2b4-69ca-4b77-b0b5-01ec39d844bc",
   "metadata": {},
   "outputs": [],
   "source": [
    "def loop_article_page(total_page, custom_url, key_code, base_url, id_value):\n",
    "    \"\"\"\n",
    "    \n",
    "    \"\"\"\n",
    "    return_file = {\n",
    "        \"Data\": [],\n",
    "        \"message\": \"success\",\n",
    "        \"response\": 200\n",
    "    }\n",
    "    All_url_links = {}\n",
    "    if total_page == 0:\n",
    "        total_page = 1\n",
    "    \n",
    "    try:\n",
    "        for i in tqdm(range(1, total_page+1)):\n",
    "            final_url = custom_url+ \"pages=\" + str(i) + \"&id=\" + id_value\n",
    "            # print(final_url)\n",
    "            found_url_links = tbmgar_utils.extract_tbmgar_page_article_links(final_url, base_url)\n",
    "            key = key_code + str(i)\n",
    "            All_url_links[key] = found_url_links\n",
    "        return_file[\"Data\"] = All_url_links\n",
    "        return return_file\n",
    "    \n",
    "    except Exception as e:\n",
    "        return_file[\"Data\"] = All_url_links\n",
    "        return_file[\"message\"] = e\n",
    "        return_file[\"response\"] = 404\n",
    "        return return_file"
   ]
  },
  {
   "cell_type": "code",
   "execution_count": 47,
   "id": "36d048db-f75b-4bbf-99ba-333eb7639175",
   "metadata": {},
   "outputs": [],
   "source": [
    "def check_error_in_links(All_url_link, page_code, print_each_error=False):\n",
    "    \"\"\"\n",
    "    \n",
    "    \n",
    "    \"\"\"\n",
    "\n",
    "    error_counter = 0\n",
    "    for page_id in range(1, len(All_url_link)):\n",
    "        page_key = page_code + str(page_id)\n",
    "        try:\n",
    "            All_url_link.get(page_key)\n",
    "            if  All_url_link.get(page_key)[\"Response\"]!= 200:\n",
    "                error_counter += 1\n",
    "                if print_each_error:\n",
    "                    print(page_key, All_url_link.get(page_key)[\"message\"])\n",
    "        except Exception as e:\n",
    "            print(page_key, e)\n",
    "\n",
    "    print(f\"Total error in {page_code}: {error_counter}\")"
   ]
  },
  {
   "cell_type": "code",
   "execution_count": 38,
   "id": "43edc8d7-14ca-44e8-9fda-7ec78d5e7fe8",
   "metadata": {},
   "outputs": [],
   "source": [
    "def save_json(path, file_name, data):\n",
    "    \"\"\"\n",
    "    \n",
    "    \"\"\"\n",
    "    with open(path+file_name, \"w\") as outfile:\n",
    "        json.dump(data, outfile, indent=4, ensure_ascii=False)\n",
    "        print(f\"\\n\\nSuccessfully saved: {file_name}\")"
   ]
  },
  {
   "cell_type": "code",
   "execution_count": null,
   "id": "1f46d139-cd34-40d1-be5f-93f40630ccbb",
   "metadata": {},
   "outputs": [],
   "source": []
  },
  {
   "cell_type": "code",
   "execution_count": null,
   "id": "2dfeb92c-62d7-404c-83cc-f2ec569ddadb",
   "metadata": {},
   "outputs": [],
   "source": []
  },
  {
   "cell_type": "markdown",
   "id": "8285b51c-3a40-4e55-bf05-b132ecb3d64c",
   "metadata": {},
   "source": [
    "### all data"
   ]
  },
  {
   "cell_type": "code",
   "execution_count": 39,
   "id": "25b41ef0-af0c-4cee-ad0f-2e6c73282629",
   "metadata": {
    "scrolled": true
   },
   "outputs": [
    {
     "data": {
      "text/html": [
       "<div>\n",
       "<style scoped>\n",
       "    .dataframe tbody tr th:only-of-type {\n",
       "        vertical-align: middle;\n",
       "    }\n",
       "\n",
       "    .dataframe tbody tr th {\n",
       "        vertical-align: top;\n",
       "    }\n",
       "\n",
       "    .dataframe thead th {\n",
       "        text-align: right;\n",
       "    }\n",
       "</style>\n",
       "<table border=\"1\" class=\"dataframe\">\n",
       "  <thead>\n",
       "    <tr style=\"text-align: right;\">\n",
       "      <th></th>\n",
       "      <th>original_url</th>\n",
       "      <th>name_of_cate</th>\n",
       "      <th>Last_page_link</th>\n",
       "      <th>list_page_no</th>\n",
       "    </tr>\n",
       "  </thead>\n",
       "  <tbody>\n",
       "    <tr>\n",
       "      <th>0</th>\n",
       "      <td>http://www.tbmgar.com/lcqwbw.asp?id=282#ndbwNdCam</td>\n",
       "      <td>འཛམ་གླིང་གསར་འགྱུར།</td>\n",
       "      <td>1/51</td>\n",
       "      <td>51</td>\n",
       "    </tr>\n",
       "    <tr>\n",
       "      <th>1</th>\n",
       "      <td>http://www.tbmgar.com/lcqwbw.asp?id=283#ndbwNdCam</td>\n",
       "      <td>རྒྱལ་ནང་གསར་འགྱུར།</td>\n",
       "      <td>1/44</td>\n",
       "      <td>44</td>\n",
       "    </tr>\n",
       "    <tr>\n",
       "      <th>2</th>\n",
       "      <td>http://www.tbmgar.com/lcqwbw.asp?id=284#ndbwNdCam</td>\n",
       "      <td>བོད་ནང་གསར་འགྱུར།</td>\n",
       "      <td>1/49</td>\n",
       "      <td>49</td>\n",
       "    </tr>\n",
       "    <tr>\n",
       "      <th>3</th>\n",
       "      <td>http://www.tbmgar.com/lcqwbw.asp?id=327#ndbwNdCam</td>\n",
       "      <td>བཅའ་ཁྲིམས་ཤེས་བྱ།</td>\n",
       "      <td>1/2</td>\n",
       "      <td>2</td>\n",
       "    </tr>\n",
       "    <tr>\n",
       "      <th>4</th>\n",
       "      <td>http://www.tbmgar.com/lcqwbw.asp?id=328#ndbwNdCam</td>\n",
       "      <td>འཕྲོད་བསྟེན། འཛེམ་བྱ།</td>\n",
       "      <td>1/4</td>\n",
       "      <td>4</td>\n",
       "    </tr>\n",
       "    <tr>\n",
       "      <th>5</th>\n",
       "      <td>http://www.tbmgar.com/lcqwbw.asp?id=329#ndbwNdCam</td>\n",
       "      <td>ཁོར་ཡུག་སྲུང་སྐྱོབ།</td>\n",
       "      <td>1/3</td>\n",
       "      <td>3</td>\n",
       "    </tr>\n",
       "    <tr>\n",
       "      <th>6</th>\n",
       "      <td>http://www.tbmgar.com/lcqwbw.asp?id=285#ndbwNdCam</td>\n",
       "      <td>དེབ་གསར་འོས་སྦྱོར།</td>\n",
       "      <td>1/11</td>\n",
       "      <td>11</td>\n",
       "    </tr>\n",
       "    <tr>\n",
       "      <th>7</th>\n",
       "      <td>http://www.tbmgar.com/lcqwbw.asp?id=330#ndbwNdCam</td>\n",
       "      <td>ངེད་དྲ་བ།</td>\n",
       "      <td>1/1</td>\n",
       "      <td>1</td>\n",
       "    </tr>\n",
       "    <tr>\n",
       "      <th>8</th>\n",
       "      <td>http://www.tbmgar.com/lcqwbw.asp?id=353#ndbwNdCam</td>\n",
       "      <td>སྤྱི་ཚོགས་གླེང་བརྗོད།</td>\n",
       "      <td>1/2</td>\n",
       "      <td>2</td>\n",
       "    </tr>\n",
       "    <tr>\n",
       "      <th>9</th>\n",
       "      <td>http://www.tbmgar.com/lcqwbw.asp?id=367#ndbwNdCam</td>\n",
       "      <td>ནང་བསྟན། ལོ་རྒྱུས།</td>\n",
       "      <td>1/1</td>\n",
       "      <td>1</td>\n",
       "    </tr>\n",
       "    <tr>\n",
       "      <th>10</th>\n",
       "      <td>http://www.tbmgar.com/lcqwbw.asp?id=368#ndbwNdCam</td>\n",
       "      <td>རྩོམ་རིག ཉེར་མཁོ།</td>\n",
       "      <td>1/2</td>\n",
       "      <td>2</td>\n",
       "    </tr>\n",
       "    <tr>\n",
       "      <th>11</th>\n",
       "      <td>http://www.tbmgar.com/lcqwbw.asp?id=369#ndbwNdCam</td>\n",
       "      <td>བརྡ་སྤྲོད།  རྒྱུན་ཤེས།</td>\n",
       "      <td>1/1</td>\n",
       "      <td>1</td>\n",
       "    </tr>\n",
       "    <tr>\n",
       "      <th>12</th>\n",
       "      <td>http://www.tbmgar.com/lcqwbw.asp?id=342#ndbwNdCam</td>\n",
       "      <td>འཛམ་གླིང་ཆོས་ལུགས།</td>\n",
       "      <td>1/1</td>\n",
       "      <td>1</td>\n",
       "    </tr>\n",
       "    <tr>\n",
       "      <th>13</th>\n",
       "      <td>http://www.tbmgar.com/lcqwbw.asp?id=343#ndbwNdCam</td>\n",
       "      <td>ནང་བསྟན་གྲུབ་མཐའ།</td>\n",
       "      <td>1/2</td>\n",
       "      <td>2</td>\n",
       "    </tr>\n",
       "    <tr>\n",
       "      <th>14</th>\n",
       "      <td>http://www.tbmgar.com/lcqwbw.asp?id=344#ndbwNdCam</td>\n",
       "      <td>རྒྱུན་ཤེས།  ཆོས་སྤྱོད།</td>\n",
       "      <td>1/6</td>\n",
       "      <td>6</td>\n",
       "    </tr>\n",
       "    <tr>\n",
       "      <th>15</th>\n",
       "      <td>http://www.tbmgar.com/lcqwbw.asp?id=345#ndbwNdCam</td>\n",
       "      <td>དགོན་སྡེ་ངོ་སྤྲོད།</td>\n",
       "      <td>1/4</td>\n",
       "      <td>4</td>\n",
       "    </tr>\n",
       "    <tr>\n",
       "      <th>16</th>\n",
       "      <td>http://www.tbmgar.com/lcqwbw.asp?id=373#ndbwNdCam</td>\n",
       "      <td>དགོན་སྡེའི་གསར་འགྱུར།</td>\n",
       "      <td>1/4</td>\n",
       "      <td>4</td>\n",
       "    </tr>\n",
       "    <tr>\n",
       "      <th>17</th>\n",
       "      <td>http://www.tbmgar.com/lcqwbw.asp?id=374#ndbwNdCam</td>\n",
       "      <td>དུས་ཆེན་ངོ་སྤྲོད།</td>\n",
       "      <td>1/1</td>\n",
       "      <td>1</td>\n",
       "    </tr>\n",
       "    <tr>\n",
       "      <th>18</th>\n",
       "      <td>http://www.tbmgar.com/lcqwbw.asp?id=286#ndbwNdCam</td>\n",
       "      <td>སྙན་རྩོམ།</td>\n",
       "      <td>1/53</td>\n",
       "      <td>53</td>\n",
       "    </tr>\n",
       "    <tr>\n",
       "      <th>19</th>\n",
       "      <td>http://www.tbmgar.com/lcqwbw.asp?id=287#ndbwNdCam</td>\n",
       "      <td>དཔྱད་རྩོམ།</td>\n",
       "      <td>1/11</td>\n",
       "      <td>11</td>\n",
       "    </tr>\n",
       "  </tbody>\n",
       "</table>\n",
       "</div>"
      ],
      "text/plain": [
       "                                         original_url            name_of_cate  \\\n",
       "0   http://www.tbmgar.com/lcqwbw.asp?id=282#ndbwNdCam     འཛམ་གླིང་གསར་འགྱུར།   \n",
       "1   http://www.tbmgar.com/lcqwbw.asp?id=283#ndbwNdCam      རྒྱལ་ནང་གསར་འགྱུར།   \n",
       "2   http://www.tbmgar.com/lcqwbw.asp?id=284#ndbwNdCam       བོད་ནང་གསར་འགྱུར།   \n",
       "3   http://www.tbmgar.com/lcqwbw.asp?id=327#ndbwNdCam       བཅའ་ཁྲིམས་ཤེས་བྱ།   \n",
       "4   http://www.tbmgar.com/lcqwbw.asp?id=328#ndbwNdCam   འཕྲོད་བསྟེན། འཛེམ་བྱ།   \n",
       "5   http://www.tbmgar.com/lcqwbw.asp?id=329#ndbwNdCam     ཁོར་ཡུག་སྲུང་སྐྱོབ།   \n",
       "6   http://www.tbmgar.com/lcqwbw.asp?id=285#ndbwNdCam      དེབ་གསར་འོས་སྦྱོར།   \n",
       "7   http://www.tbmgar.com/lcqwbw.asp?id=330#ndbwNdCam               ངེད་དྲ་བ།   \n",
       "8   http://www.tbmgar.com/lcqwbw.asp?id=353#ndbwNdCam   སྤྱི་ཚོགས་གླེང་བརྗོད།   \n",
       "9   http://www.tbmgar.com/lcqwbw.asp?id=367#ndbwNdCam      ནང་བསྟན། ལོ་རྒྱུས།   \n",
       "10  http://www.tbmgar.com/lcqwbw.asp?id=368#ndbwNdCam       རྩོམ་རིག ཉེར་མཁོ།   \n",
       "11  http://www.tbmgar.com/lcqwbw.asp?id=369#ndbwNdCam  བརྡ་སྤྲོད།  རྒྱུན་ཤེས།   \n",
       "12  http://www.tbmgar.com/lcqwbw.asp?id=342#ndbwNdCam      འཛམ་གླིང་ཆོས་ལུགས།   \n",
       "13  http://www.tbmgar.com/lcqwbw.asp?id=343#ndbwNdCam       ནང་བསྟན་གྲུབ་མཐའ།   \n",
       "14  http://www.tbmgar.com/lcqwbw.asp?id=344#ndbwNdCam  རྒྱུན་ཤེས།  ཆོས་སྤྱོད།   \n",
       "15  http://www.tbmgar.com/lcqwbw.asp?id=345#ndbwNdCam      དགོན་སྡེ་ངོ་སྤྲོད།   \n",
       "16  http://www.tbmgar.com/lcqwbw.asp?id=373#ndbwNdCam   དགོན་སྡེའི་གསར་འགྱུར།   \n",
       "17  http://www.tbmgar.com/lcqwbw.asp?id=374#ndbwNdCam       དུས་ཆེན་ངོ་སྤྲོད།   \n",
       "18  http://www.tbmgar.com/lcqwbw.asp?id=286#ndbwNdCam               སྙན་རྩོམ།   \n",
       "19  http://www.tbmgar.com/lcqwbw.asp?id=287#ndbwNdCam              དཔྱད་རྩོམ།   \n",
       "\n",
       "   Last_page_link  list_page_no  \n",
       "0            1/51            51  \n",
       "1            1/44            44  \n",
       "2            1/49            49  \n",
       "3             1/2             2  \n",
       "4             1/4             4  \n",
       "5             1/3             3  \n",
       "6            1/11            11  \n",
       "7             1/1             1  \n",
       "8             1/2             2  \n",
       "9             1/1             1  \n",
       "10            1/2             2  \n",
       "11            1/1             1  \n",
       "12            1/1             1  \n",
       "13            1/2             2  \n",
       "14            1/6             6  \n",
       "15            1/4             4  \n",
       "16            1/4             4  \n",
       "17            1/1             1  \n",
       "18           1/53            53  \n",
       "19           1/11            11  "
      ]
     },
     "execution_count": 39,
     "metadata": {},
     "output_type": "execute_result"
    }
   ],
   "source": [
    "df = pd.read_csv(\"./data/All_cate.csv\")\n",
    "df.head(20)"
   ]
  },
  {
   "cell_type": "code",
   "execution_count": 43,
   "id": "3d271a88-5471-41a0-bd2d-838eca8b02d0",
   "metadata": {},
   "outputs": [],
   "source": [
    "sample_df = df\n",
    "# sample_df"
   ]
  },
  {
   "cell_type": "code",
   "execution_count": 41,
   "id": "01bc0c85-ba0a-4e57-a946-cb8fb04cf7cc",
   "metadata": {},
   "outputs": [],
   "source": [
    "file_name_code = \"tbmgar\""
   ]
  },
  {
   "cell_type": "code",
   "execution_count": 48,
   "id": "81485921-1ab2-4589-9c7d-ab4ff580093d",
   "metadata": {},
   "outputs": [
    {
     "name": "stderr",
     "output_type": "stream",
     "text": [
      "100%|██████████| 51/51 [06:09<00:00,  7.24s/it]\n"
     ]
    },
    {
     "name": "stdout",
     "output_type": "stream",
     "text": [
      "Total page in འཛམ་གླིང་གསར་འགྱུར།: 51\n",
      "Total error in Page འཛམ་གླིང་གསར་འགྱུར། : 0\n",
      "\n",
      "\n",
      "Successfully saved: tbmgar_ALL_link_འཛམ་གླིང་གསར་འགྱུར།.json\n"
     ]
    },
    {
     "name": "stderr",
     "output_type": "stream",
     "text": [
      "100%|██████████| 44/44 [06:16<00:00,  8.56s/it]\n"
     ]
    },
    {
     "name": "stdout",
     "output_type": "stream",
     "text": [
      "Total page in རྒྱལ་ནང་གསར་འགྱུར།: 44\n",
      "Total error in Page རྒྱལ་ནང་གསར་འགྱུར། : 0\n",
      "\n",
      "\n",
      "Successfully saved: tbmgar_ALL_link_རྒྱལ་ནང་གསར་འགྱུར།.json\n"
     ]
    },
    {
     "name": "stderr",
     "output_type": "stream",
     "text": [
      "100%|██████████| 49/49 [07:55<00:00,  9.71s/it]\n"
     ]
    },
    {
     "name": "stdout",
     "output_type": "stream",
     "text": [
      "Total page in བོད་ནང་གསར་འགྱུར།: 49\n",
      "Total error in Page བོད་ནང་གསར་འགྱུར། : 0\n",
      "\n",
      "\n",
      "Successfully saved: tbmgar_ALL_link_བོད་ནང་གསར་འགྱུར།.json\n"
     ]
    },
    {
     "name": "stderr",
     "output_type": "stream",
     "text": [
      "100%|██████████| 2/2 [00:23<00:00, 11.67s/it]\n"
     ]
    },
    {
     "name": "stdout",
     "output_type": "stream",
     "text": [
      "Total page in བཅའ་ཁྲིམས་ཤེས་བྱ།: 2\n",
      "Total error in Page བཅའ་ཁྲིམས་ཤེས་བྱ། : 0\n",
      "\n",
      "\n",
      "Successfully saved: tbmgar_ALL_link_བཅའ་ཁྲིམས་ཤེས་བྱ།.json\n"
     ]
    },
    {
     "name": "stderr",
     "output_type": "stream",
     "text": [
      "100%|██████████| 4/4 [01:09<00:00, 17.29s/it]\n"
     ]
    },
    {
     "name": "stdout",
     "output_type": "stream",
     "text": [
      "Total page in འཕྲོད་བསྟེན། འཛེམ་བྱ།: 4\n",
      "Total error in Page འཕྲོད་བསྟེན། འཛེམ་བྱ། : 0\n",
      "\n",
      "\n",
      "Successfully saved: tbmgar_ALL_link_འཕྲོད་བསྟེན། འཛེམ་བྱ།.json\n"
     ]
    },
    {
     "name": "stderr",
     "output_type": "stream",
     "text": [
      "100%|██████████| 3/3 [00:52<00:00, 17.46s/it]\n"
     ]
    },
    {
     "name": "stdout",
     "output_type": "stream",
     "text": [
      "Total page in ཁོར་ཡུག་སྲུང་སྐྱོབ།: 3\n",
      "Total error in Page ཁོར་ཡུག་སྲུང་སྐྱོབ། : 0\n",
      "\n",
      "\n",
      "Successfully saved: tbmgar_ALL_link_ཁོར་ཡུག་སྲུང་སྐྱོབ།.json\n"
     ]
    },
    {
     "name": "stderr",
     "output_type": "stream",
     "text": [
      "100%|██████████| 11/11 [02:36<00:00, 14.21s/it]\n"
     ]
    },
    {
     "name": "stdout",
     "output_type": "stream",
     "text": [
      "Total page in དེབ་གསར་འོས་སྦྱོར།: 11\n",
      "Page དེབ་གསར་འོས་སྦྱོར། 6 'message'\n",
      "Total error in Page དེབ་གསར་འོས་སྦྱོར། : 1\n",
      "\n",
      "\n",
      "Successfully saved: tbmgar_ALL_link_དེབ་གསར་འོས་སྦྱོར།.json\n"
     ]
    },
    {
     "name": "stderr",
     "output_type": "stream",
     "text": [
      "100%|██████████| 1/1 [00:24<00:00, 24.03s/it]\n"
     ]
    },
    {
     "name": "stdout",
     "output_type": "stream",
     "text": [
      "Total page in ངེད་དྲ་བ།: 1\n",
      "Total error in Page ངེད་དྲ་བ། : 0\n",
      "\n",
      "\n",
      "Successfully saved: tbmgar_ALL_link_ངེད་དྲ་བ།.json\n"
     ]
    },
    {
     "name": "stderr",
     "output_type": "stream",
     "text": [
      "100%|██████████| 2/2 [00:35<00:00, 17.87s/it]\n"
     ]
    },
    {
     "name": "stdout",
     "output_type": "stream",
     "text": [
      "Total page in སྤྱི་ཚོགས་གླེང་བརྗོད།: 2\n",
      "Total error in Page སྤྱི་ཚོགས་གླེང་བརྗོད། : 0\n",
      "\n",
      "\n",
      "Successfully saved: tbmgar_ALL_link_སྤྱི་ཚོགས་གླེང་བརྗོད།.json\n"
     ]
    },
    {
     "name": "stderr",
     "output_type": "stream",
     "text": [
      "100%|██████████| 1/1 [00:07<00:00,  7.56s/it]\n"
     ]
    },
    {
     "name": "stdout",
     "output_type": "stream",
     "text": [
      "Total page in ནང་བསྟན། ལོ་རྒྱུས།: 1\n",
      "Total error in Page ནང་བསྟན། ལོ་རྒྱུས། : 0\n",
      "\n",
      "\n",
      "Successfully saved: tbmgar_ALL_link_ནང་བསྟན། ལོ་རྒྱུས།.json\n"
     ]
    },
    {
     "name": "stderr",
     "output_type": "stream",
     "text": [
      "100%|██████████| 2/2 [00:41<00:00, 20.53s/it]\n"
     ]
    },
    {
     "name": "stdout",
     "output_type": "stream",
     "text": [
      "Total page in རྩོམ་རིག ཉེར་མཁོ།: 2\n",
      "Total error in Page རྩོམ་རིག ཉེར་མཁོ། : 0\n",
      "\n",
      "\n",
      "Successfully saved: tbmgar_ALL_link_རྩོམ་རིག ཉེར་མཁོ།.json\n"
     ]
    },
    {
     "name": "stderr",
     "output_type": "stream",
     "text": [
      "100%|██████████| 1/1 [00:18<00:00, 18.17s/it]\n"
     ]
    },
    {
     "name": "stdout",
     "output_type": "stream",
     "text": [
      "Total page in བརྡ་སྤྲོད།  རྒྱུན་ཤེས།: 1\n",
      "Total error in Page བརྡ་སྤྲོད།  རྒྱུན་ཤེས། : 0\n",
      "\n",
      "\n",
      "Successfully saved: tbmgar_ALL_link_བརྡ་སྤྲོད།  རྒྱུན་ཤེས།.json\n"
     ]
    },
    {
     "name": "stderr",
     "output_type": "stream",
     "text": [
      "100%|██████████| 1/1 [00:21<00:00, 21.04s/it]\n"
     ]
    },
    {
     "name": "stdout",
     "output_type": "stream",
     "text": [
      "Total page in འཛམ་གླིང་ཆོས་ལུགས།: 1\n",
      "Total error in Page འཛམ་གླིང་ཆོས་ལུགས། : 0\n",
      "\n",
      "\n",
      "Successfully saved: tbmgar_ALL_link_འཛམ་གླིང་ཆོས་ལུགས།.json\n"
     ]
    },
    {
     "name": "stderr",
     "output_type": "stream",
     "text": [
      "100%|██████████| 2/2 [00:12<00:00,  6.47s/it]\n"
     ]
    },
    {
     "name": "stdout",
     "output_type": "stream",
     "text": [
      "Total page in ནང་བསྟན་གྲུབ་མཐའ།: 2\n",
      "Total error in Page ནང་བསྟན་གྲུབ་མཐའ། : 0\n",
      "\n",
      "\n",
      "Successfully saved: tbmgar_ALL_link_ནང་བསྟན་གྲུབ་མཐའ།.json\n"
     ]
    },
    {
     "name": "stderr",
     "output_type": "stream",
     "text": [
      "100%|██████████| 6/6 [00:41<00:00,  6.94s/it]\n"
     ]
    },
    {
     "name": "stdout",
     "output_type": "stream",
     "text": [
      "Total page in རྒྱུན་ཤེས།  ཆོས་སྤྱོད།: 6\n",
      "Total error in Page རྒྱུན་ཤེས།  ཆོས་སྤྱོད། : 0\n",
      "\n",
      "\n",
      "Successfully saved: tbmgar_ALL_link_རྒྱུན་ཤེས།  ཆོས་སྤྱོད།.json\n"
     ]
    },
    {
     "name": "stderr",
     "output_type": "stream",
     "text": [
      "100%|██████████| 4/4 [00:25<00:00,  6.39s/it]\n"
     ]
    },
    {
     "name": "stdout",
     "output_type": "stream",
     "text": [
      "Total page in དགོན་སྡེ་ངོ་སྤྲོད།: 4\n",
      "Total error in Page དགོན་སྡེ་ངོ་སྤྲོད། : 0\n",
      "\n",
      "\n",
      "Successfully saved: tbmgar_ALL_link_དགོན་སྡེ་ངོ་སྤྲོད།.json\n"
     ]
    },
    {
     "name": "stderr",
     "output_type": "stream",
     "text": [
      "100%|██████████| 4/4 [00:26<00:00,  6.66s/it]\n"
     ]
    },
    {
     "name": "stdout",
     "output_type": "stream",
     "text": [
      "Total page in དགོན་སྡེའི་གསར་འགྱུར།: 4\n",
      "Total error in Page དགོན་སྡེའི་གསར་འགྱུར། : 0\n",
      "\n",
      "\n",
      "Successfully saved: tbmgar_ALL_link_དགོན་སྡེའི་གསར་འགྱུར།.json\n"
     ]
    },
    {
     "name": "stderr",
     "output_type": "stream",
     "text": [
      "100%|██████████| 1/1 [00:07<00:00,  7.39s/it]\n"
     ]
    },
    {
     "name": "stdout",
     "output_type": "stream",
     "text": [
      "Total page in དུས་ཆེན་ངོ་སྤྲོད།: 1\n",
      "Total error in Page དུས་ཆེན་ངོ་སྤྲོད། : 0\n",
      "\n",
      "\n",
      "Successfully saved: tbmgar_ALL_link_དུས་ཆེན་ངོ་སྤྲོད།.json\n"
     ]
    },
    {
     "name": "stderr",
     "output_type": "stream",
     "text": [
      "100%|██████████| 53/53 [07:00<00:00,  7.93s/it]\n"
     ]
    },
    {
     "name": "stdout",
     "output_type": "stream",
     "text": [
      "Total page in སྙན་རྩོམ།: 53\n",
      "Page སྙན་རྩོམ། 11 'message'\n",
      "Total error in Page སྙན་རྩོམ། : 1\n",
      "\n",
      "\n",
      "Successfully saved: tbmgar_ALL_link_སྙན་རྩོམ།.json\n"
     ]
    },
    {
     "name": "stderr",
     "output_type": "stream",
     "text": [
      "100%|██████████| 11/11 [01:33<00:00,  8.46s/it]\n"
     ]
    },
    {
     "name": "stdout",
     "output_type": "stream",
     "text": [
      "Total page in དཔྱད་རྩོམ།: 11\n",
      "Total error in Page དཔྱད་རྩོམ། : 0\n",
      "\n",
      "\n",
      "Successfully saved: tbmgar_ALL_link_དཔྱད་རྩོམ།.json\n"
     ]
    },
    {
     "name": "stderr",
     "output_type": "stream",
     "text": [
      "100%|██████████| 14/14 [01:45<00:00,  7.50s/it]\n"
     ]
    },
    {
     "name": "stdout",
     "output_type": "stream",
     "text": [
      "Total page in འབོལ་རྩོམ།: 14\n",
      "Total error in Page འབོལ་རྩོམ། : 0\n",
      "\n",
      "\n",
      "Successfully saved: tbmgar_ALL_link_འབོལ་རྩོམ།.json\n"
     ]
    },
    {
     "name": "stderr",
     "output_type": "stream",
     "text": [
      "100%|██████████| 29/29 [03:52<00:00,  8.00s/it]\n"
     ]
    },
    {
     "name": "stdout",
     "output_type": "stream",
     "text": [
      "Total page in རང་མོས།: 29\n",
      "Total error in Page རང་མོས། : 0\n",
      "\n",
      "\n",
      "Successfully saved: tbmgar_ALL_link_རང་མོས།.json\n"
     ]
    },
    {
     "name": "stderr",
     "output_type": "stream",
     "text": [
      "100%|██████████| 9/9 [01:07<00:00,  7.50s/it]\n"
     ]
    },
    {
     "name": "stdout",
     "output_type": "stream",
     "text": [
      "Total page in བསྒྱུར་རྩོམ།: 9\n",
      "Total error in Page བསྒྱུར་རྩོམ། : 0\n",
      "\n",
      "\n",
      "Successfully saved: tbmgar_ALL_link_བསྒྱུར་རྩོམ།.json\n"
     ]
    },
    {
     "name": "stderr",
     "output_type": "stream",
     "text": [
      "100%|██████████| 6/6 [00:45<00:00,  7.55s/it]\n"
     ]
    },
    {
     "name": "stdout",
     "output_type": "stream",
     "text": [
      "Total page in ལེགས་བཤད།: 6\n",
      "Total error in Page ལེགས་བཤད། : 0\n",
      "\n",
      "\n",
      "Successfully saved: tbmgar_ALL_link_ལེགས་བཤད།.json\n"
     ]
    },
    {
     "name": "stderr",
     "output_type": "stream",
     "text": [
      "100%|██████████| 11/11 [01:17<00:00,  7.05s/it]\n"
     ]
    },
    {
     "name": "stdout",
     "output_type": "stream",
     "text": [
      "Total page in ལྷུག་རྩོམ།: 11\n",
      "Total error in Page ལྷུག་རྩོམ། : 0\n",
      "\n",
      "\n",
      "Successfully saved: tbmgar_ALL_link_ལྷུག་རྩོམ།.json\n"
     ]
    },
    {
     "name": "stderr",
     "output_type": "stream",
     "text": [
      "100%|██████████| 12/12 [01:28<00:00,  7.36s/it]\n"
     ]
    },
    {
     "name": "stdout",
     "output_type": "stream",
     "text": [
      "Total page in ཁཱ་ཤེས་རབ་རྒྱ་མཚོ།: 12\n",
      "Total error in Page ཁཱ་ཤེས་རབ་རྒྱ་མཚོ། : 0\n",
      "\n",
      "\n",
      "Successfully saved: tbmgar_ALL_link_ཁཱ་ཤེས་རབ་རྒྱ་མཚོ།.json\n"
     ]
    },
    {
     "name": "stderr",
     "output_type": "stream",
     "text": [
      "100%|██████████| 13/13 [01:33<00:00,  7.20s/it]\n"
     ]
    },
    {
     "name": "stdout",
     "output_type": "stream",
     "text": [
      "Total page in བདམས་བཀོད་རྩོམ་ཡིག: 13\n",
      "Total error in Page བདམས་བཀོད་རྩོམ་ཡིག : 0\n",
      "\n",
      "\n",
      "Successfully saved: tbmgar_ALL_link_བདམས་བཀོད་རྩོམ་ཡིག.json\n"
     ]
    },
    {
     "name": "stderr",
     "output_type": "stream",
     "text": [
      "100%|██████████| 1/1 [00:07<00:00,  7.25s/it]\n"
     ]
    },
    {
     "name": "stdout",
     "output_type": "stream",
     "text": [
      "Total page in འཛམ་གླིང་ལོ་རྒྱུས།: 1\n",
      "Total error in Page འཛམ་གླིང་ལོ་རྒྱུས། : 0\n",
      "\n",
      "\n",
      "Successfully saved: tbmgar_ALL_link_འཛམ་གླིང་ལོ་རྒྱུས།.json\n"
     ]
    },
    {
     "name": "stderr",
     "output_type": "stream",
     "text": [
      "100%|██████████| 2/2 [00:14<00:00,  7.47s/it]\n"
     ]
    },
    {
     "name": "stdout",
     "output_type": "stream",
     "text": [
      "Total page in བོད་ཀྱི་རྒྱལ་རབས།: 2\n",
      "Total error in Page བོད་ཀྱི་རྒྱལ་རབས། : 0\n",
      "\n",
      "\n",
      "Successfully saved: tbmgar_ALL_link_བོད་ཀྱི་རྒྱལ་རབས།.json\n"
     ]
    },
    {
     "name": "stderr",
     "output_type": "stream",
     "text": [
      "100%|██████████| 1/1 [00:08<00:00,  8.29s/it]\n"
     ]
    },
    {
     "name": "stdout",
     "output_type": "stream",
     "text": [
      "Total page in སྤྱི་ཚོགས་ལོ་རྒྱུས།: 1\n",
      "Total error in Page སྤྱི་ཚོགས་ལོ་རྒྱུས། : 0\n",
      "\n",
      "\n",
      "Successfully saved: tbmgar_ALL_link_སྤྱི་ཚོགས་ལོ་རྒྱུས།.json\n"
     ]
    },
    {
     "name": "stderr",
     "output_type": "stream",
     "text": [
      "100%|██████████| 2/2 [00:14<00:00,  7.43s/it]\n"
     ]
    },
    {
     "name": "stdout",
     "output_type": "stream",
     "text": [
      "Total page in ཡུལ་སྐོར་ཟིན་ཐོ་དང་བཏུས་རྩོམ།: 2\n",
      "Total error in Page ཡུལ་སྐོར་ཟིན་ཐོ་དང་བཏུས་རྩོམ། : 0\n",
      "\n",
      "\n",
      "Successfully saved: tbmgar_ALL_link_ཡུལ་སྐོར་ཟིན་ཐོ་དང་བཏུས་རྩོམ།.json\n"
     ]
    },
    {
     "name": "stderr",
     "output_type": "stream",
     "text": [
      "100%|██████████| 2/2 [00:13<00:00,  6.60s/it]\n"
     ]
    },
    {
     "name": "stdout",
     "output_type": "stream",
     "text": [
      "Total page in རུས་རྒྱུད་སྣ་ཚོགས་བྱུང་རིམ།: 2\n",
      "Total error in Page རུས་རྒྱུད་སྣ་ཚོགས་བྱུང་རིམ། : 0\n",
      "\n",
      "\n",
      "Successfully saved: tbmgar_ALL_link_རུས་རྒྱུད་སྣ་ཚོགས་བྱུང་རིམ།.json\n"
     ]
    },
    {
     "name": "stderr",
     "output_type": "stream",
     "text": [
      "100%|██████████| 5/5 [00:36<00:00,  7.39s/it]\n"
     ]
    },
    {
     "name": "stdout",
     "output_type": "stream",
     "text": [
      "Total page in རུས་མགར་གྱི་བྱུང་བ་སྣ་ཚོགས།: 5\n",
      "Total error in Page རུས་མགར་གྱི་བྱུང་བ་སྣ་ཚོགས། : 0\n",
      "\n",
      "\n",
      "Successfully saved: tbmgar_ALL_link_རུས་མགར་གྱི་བྱུང་བ་སྣ་ཚོགས།.json\n"
     ]
    },
    {
     "name": "stderr",
     "output_type": "stream",
     "text": [
      "100%|██████████| 3/3 [00:21<00:00,  7.33s/it]\n"
     ]
    },
    {
     "name": "stdout",
     "output_type": "stream",
     "text": [
      "Total page in རུས་མགར་ཚང་གི་བྱ་བཞག: 3\n",
      "Total error in Page རུས་མགར་ཚང་གི་བྱ་བཞག : 0\n",
      "\n",
      "\n",
      "Successfully saved: tbmgar_ALL_link_རུས་མགར་ཚང་གི་བྱ་བཞག.json\n"
     ]
    },
    {
     "name": "stderr",
     "output_type": "stream",
     "text": [
      "100%|██████████| 1/1 [00:07<00:00,  7.44s/it]\n"
     ]
    },
    {
     "name": "stdout",
     "output_type": "stream",
     "text": [
      "Total page in གླེང་སྟེགས་བཅར་འདྲི།: 1\n",
      "Total error in Page གླེང་སྟེགས་བཅར་འདྲི། : 0\n",
      "\n",
      "\n",
      "Successfully saved: tbmgar_ALL_link_གླེང་སྟེགས་བཅར་འདྲི།.json\n"
     ]
    },
    {
     "name": "stderr",
     "output_type": "stream",
     "text": [
      "100%|██████████| 4/4 [00:31<00:00,  7.82s/it]\n"
     ]
    },
    {
     "name": "stdout",
     "output_type": "stream",
     "text": [
      "Total page in ཡུལ་སྲོལ་དང་རྒྱུན་ཤེས།: 4\n",
      "Total error in Page ཡུལ་སྲོལ་དང་རྒྱུན་ཤེས། : 0\n",
      "\n",
      "\n",
      "Successfully saved: tbmgar_ALL_link_ཡུལ་སྲོལ་དང་རྒྱུན་ཤེས།.json\n"
     ]
    },
    {
     "name": "stderr",
     "output_type": "stream",
     "text": [
      "100%|██████████| 3/3 [00:20<00:00,  6.79s/it]\n"
     ]
    },
    {
     "name": "stdout",
     "output_type": "stream",
     "text": [
      "Total page in གནའ་གཏམ་དང་སྒྲུང་།: 3\n",
      "Total error in Page གནའ་གཏམ་དང་སྒྲུང་། : 0\n",
      "\n",
      "\n",
      "Successfully saved: tbmgar_ALL_link_གནའ་གཏམ་དང་སྒྲུང་།.json\n"
     ]
    },
    {
     "name": "stderr",
     "output_type": "stream",
     "text": [
      "100%|██████████| 2/2 [00:14<00:00,  7.29s/it]\n"
     ]
    },
    {
     "name": "stdout",
     "output_type": "stream",
     "text": [
      "Total page in གཏམ་དཔེ།: 2\n",
      "Total error in Page གཏམ་དཔེ། : 0\n",
      "\n",
      "\n",
      "Successfully saved: tbmgar_ALL_link_གཏམ་དཔེ།.json\n"
     ]
    },
    {
     "name": "stderr",
     "output_type": "stream",
     "text": [
      "100%|██████████| 4/4 [00:28<00:00,  7.22s/it]\n"
     ]
    },
    {
     "name": "stdout",
     "output_type": "stream",
     "text": [
      "Total page in བརྡ་སྦྱོར་གླིང་།: 4\n",
      "Total error in Page བརྡ་སྦྱོར་གླིང་། : 0\n",
      "\n",
      "\n",
      "Successfully saved: tbmgar_ALL_link_བརྡ་སྦྱོར་གླིང་།.json\n"
     ]
    },
    {
     "name": "stderr",
     "output_type": "stream",
     "text": [
      "100%|██████████| 1/1 [00:07<00:00,  7.51s/it]\n"
     ]
    },
    {
     "name": "stdout",
     "output_type": "stream",
     "text": [
      "Total page in ཚོགས་པ་ངོ་སྤྲོད།: 1\n",
      "Total error in Page ཚོགས་པ་ངོ་སྤྲོད། : 0\n",
      "\n",
      "\n",
      "Successfully saved: tbmgar_ALL_link_ཚོགས་པ་ངོ་སྤྲོད།.json\n"
     ]
    },
    {
     "name": "stderr",
     "output_type": "stream",
     "text": [
      "100%|██████████| 1/1 [00:07<00:00,  7.02s/it]\n"
     ]
    },
    {
     "name": "stdout",
     "output_type": "stream",
     "text": [
      "Total page in བཀའ་སློབ་བརྙན་བསྡུས།: 1\n",
      "Total error in Page བཀའ་སློབ་བརྙན་བསྡུས། : 0\n",
      "\n",
      "\n",
      "Successfully saved: tbmgar_ALL_link_བཀའ་སློབ་བརྙན་བསྡུས།.json\n"
     ]
    },
    {
     "name": "stderr",
     "output_type": "stream",
     "text": [
      "100%|██████████| 1/1 [00:06<00:00,  6.55s/it]\n"
     ]
    },
    {
     "name": "stdout",
     "output_type": "stream",
     "text": [
      "Total page in རི་མོ།: 1\n",
      "Total error in Page རི་མོ། : 0\n",
      "\n",
      "\n",
      "Successfully saved: tbmgar_ALL_link_རི་མོ།.json\n"
     ]
    },
    {
     "name": "stderr",
     "output_type": "stream",
     "text": [
      "100%|██████████| 7/7 [01:27<00:00, 12.44s/it]\n"
     ]
    },
    {
     "name": "stdout",
     "output_type": "stream",
     "text": [
      "Total page in གཞས་ར་ཁྲ་མོ།: 7\n",
      "Page གཞས་ར་ཁྲ་མོ། 5 'message'\n",
      "Total error in Page གཞས་ར་ཁྲ་མོ། : 1\n",
      "\n",
      "\n",
      "Successfully saved: tbmgar_ALL_link_གཞས་ར་ཁྲ་མོ།.json\n"
     ]
    },
    {
     "name": "stderr",
     "output_type": "stream",
     "text": [
      "100%|██████████| 3/3 [00:22<00:00,  7.52s/it]\n"
     ]
    },
    {
     "name": "stdout",
     "output_type": "stream",
     "text": [
      "Total page in གློག་བརྙན།: 3\n",
      "Total error in Page གློག་བརྙན། : 0\n",
      "\n",
      "\n",
      "Successfully saved: tbmgar_ALL_link_གློག་བརྙན།.json\n"
     ]
    },
    {
     "name": "stderr",
     "output_type": "stream",
     "text": [
      "100%|██████████| 2/2 [00:13<00:00,  6.85s/it]\n"
     ]
    },
    {
     "name": "stdout",
     "output_type": "stream",
     "text": [
      "Total page in སྒྱུ་རྩལ་དང་རྒྱུན་ཤེས།: 2\n",
      "Total error in Page སྒྱུ་རྩལ་དང་རྒྱུན་ཤེས། : 0\n",
      "\n",
      "\n",
      "Successfully saved: tbmgar_ALL_link_སྒྱུ་རྩལ་དང་རྒྱུན་ཤེས།.json\n"
     ]
    },
    {
     "name": "stderr",
     "output_type": "stream",
     "text": [
      "100%|██████████| 2/2 [00:14<00:00,  7.30s/it]\n"
     ]
    },
    {
     "name": "stdout",
     "output_type": "stream",
     "text": [
      "Total page in སྤྱི་ཚོགས་གཏམ་བཤད།: 2\n",
      "Total error in Page སྤྱི་ཚོགས་གཏམ་བཤད། : 0\n",
      "\n",
      "\n",
      "Successfully saved: tbmgar_ALL_link_སྤྱི་ཚོགས་གཏམ་བཤད།.json\n"
     ]
    },
    {
     "name": "stderr",
     "output_type": "stream",
     "text": [
      "100%|██████████| 1/1 [00:07<00:00,  7.16s/it]\n"
     ]
    },
    {
     "name": "stdout",
     "output_type": "stream",
     "text": [
      "Total page in རིག་དངོས་སྡེ་ཁག་འོས་སྦྱོར།: 1\n",
      "Total error in Page རིག་དངོས་སྡེ་ཁག་འོས་སྦྱོར། : 0\n",
      "\n",
      "\n",
      "Successfully saved: tbmgar_ALL_link_རིག་དངོས་སྡེ་ཁག་འོས་སྦྱོར།.json\n"
     ]
    },
    {
     "name": "stderr",
     "output_type": "stream",
     "text": [
      "100%|██████████| 1/1 [00:06<00:00,  6.05s/it]\n"
     ]
    },
    {
     "name": "stdout",
     "output_type": "stream",
     "text": [
      "Total page in སྒྱུ་རྩལ་པ་འོས་སྦྱོར།: 1\n",
      "Total error in Page སྒྱུ་རྩལ་པ་འོས་སྦྱོར། : 0\n",
      "\n",
      "\n",
      "Successfully saved: tbmgar_ALL_link_སྒྱུ་རྩལ་པ་འོས་སྦྱོར།.json\n"
     ]
    },
    {
     "name": "stderr",
     "output_type": "stream",
     "text": [
      "100%|██████████| 2/2 [00:13<00:00,  6.82s/it]\n"
     ]
    },
    {
     "name": "stdout",
     "output_type": "stream",
     "text": [
      "Total page in དགོང་ཚོགས། འོད་སྡེར་གསར་བ།: 2\n",
      "Total error in Page དགོང་ཚོགས། འོད་སྡེར་གསར་བ། : 0\n",
      "\n",
      "\n",
      "Successfully saved: tbmgar_ALL_link_དགོང་ཚོགས། འོད་སྡེར་གསར་བ།.json\n"
     ]
    },
    {
     "name": "stderr",
     "output_type": "stream",
     "text": [
      "100%|██████████| 1/1 [00:06<00:00,  6.25s/it]\n"
     ]
    },
    {
     "name": "stdout",
     "output_type": "stream",
     "text": [
      "Total page in གླུ་དབྱངས།: 1\n",
      "Total error in Page གླུ་དབྱངས། : 0\n",
      "\n",
      "\n",
      "Successfully saved: tbmgar_ALL_link_གླུ་དབྱངས།.json\n"
     ]
    },
    {
     "name": "stderr",
     "output_type": "stream",
     "text": [
      "100%|██████████| 1/1 [00:06<00:00,  6.47s/it]\n"
     ]
    },
    {
     "name": "stdout",
     "output_type": "stream",
     "text": [
      "Total page in དཔེ་ཁྲིད།: 1\n",
      "Total error in Page དཔེ་ཁྲིད། : 0\n",
      "\n",
      "\n",
      "Successfully saved: tbmgar_ALL_link_དཔེ་ཁྲིད།.json\n"
     ]
    },
    {
     "name": "stderr",
     "output_type": "stream",
     "text": [
      "100%|██████████| 1/1 [00:06<00:00,  6.07s/it]\n"
     ]
    },
    {
     "name": "stdout",
     "output_type": "stream",
     "text": [
      "Total page in དམངས་གླུ།: 1\n",
      "Total error in Page དམངས་གླུ། : 0\n",
      "\n",
      "\n",
      "Successfully saved: tbmgar_ALL_link_དམངས་གླུ།.json\n"
     ]
    },
    {
     "name": "stderr",
     "output_type": "stream",
     "text": [
      "100%|██████████| 1/1 [00:06<00:00,  6.70s/it]\n"
     ]
    },
    {
     "name": "stdout",
     "output_type": "stream",
     "text": [
      "Total page in སྒྲ་བརྙན་རྡུང་ལེན།: 1\n",
      "Total error in Page སྒྲ་བརྙན་རྡུང་ལེན། : 0\n",
      "\n",
      "\n",
      "Successfully saved: tbmgar_ALL_link_སྒྲ་བརྙན་རྡུང་ལེན།.json\n"
     ]
    },
    {
     "name": "stderr",
     "output_type": "stream",
     "text": [
      "100%|██████████| 1/1 [00:07<00:00,  7.73s/it]\n"
     ]
    },
    {
     "name": "stdout",
     "output_type": "stream",
     "text": [
      "Total page in དཔལ་འབྱོར་རིག་པ།: 1\n",
      "Total error in Page དཔལ་འབྱོར་རིག་པ། : 0\n",
      "\n",
      "\n",
      "Successfully saved: tbmgar_ALL_link_དཔལ་འབྱོར་རིག་པ།.json\n"
     ]
    },
    {
     "name": "stderr",
     "output_type": "stream",
     "text": [
      "100%|██████████| 2/2 [00:12<00:00,  6.44s/it]\n"
     ]
    },
    {
     "name": "stdout",
     "output_type": "stream",
     "text": [
      "Total page in ཐོན་རྫས་གསར་བ་འོས་སྦྱོར།: 2\n",
      "Total error in Page ཐོན་རྫས་གསར་བ་འོས་སྦྱོར། : 0\n",
      "\n",
      "\n",
      "Successfully saved: tbmgar_ALL_link_ཐོན་རྫས་གསར་བ་འོས་སྦྱོར།.json\n"
     ]
    },
    {
     "name": "stderr",
     "output_type": "stream",
     "text": [
      "100%|██████████| 2/2 [00:13<00:00,  6.64s/it]\n"
     ]
    },
    {
     "name": "stdout",
     "output_type": "stream",
     "text": [
      "Total page in ཚོང་ལས་འོས་སྦྱོར།: 2\n",
      "Total error in Page ཚོང་ལས་འོས་སྦྱོར། : 0\n",
      "\n",
      "\n",
      "Successfully saved: tbmgar_ALL_link_ཚོང་ལས་འོས་སྦྱོར།.json\n"
     ]
    },
    {
     "name": "stderr",
     "output_type": "stream",
     "text": [
      "100%|██████████| 2/2 [00:13<00:00,  6.53s/it]\n"
     ]
    },
    {
     "name": "stdout",
     "output_type": "stream",
     "text": [
      "Total page in འཛམ་གླིང་མཁས་དབང་།: 2\n",
      "Total error in Page འཛམ་གླིང་མཁས་དབང་། : 0\n",
      "\n",
      "\n",
      "Successfully saved: tbmgar_ALL_link_འཛམ་གླིང་མཁས་དབང་།.json\n"
     ]
    },
    {
     "name": "stderr",
     "output_type": "stream",
     "text": [
      "100%|██████████| 2/2 [00:33<00:00, 16.76s/it]\n"
     ]
    },
    {
     "name": "stdout",
     "output_type": "stream",
     "text": [
      "Total page in སློབ་གསོ་སྨྲ་བའི་སྡེ།: 2\n",
      "Total error in Page སློབ་གསོ་སྨྲ་བའི་སྡེ། : 0\n",
      "\n",
      "\n",
      "Successfully saved: tbmgar_ALL_link_སློབ་གསོ་སྨྲ་བའི་སྡེ།.json\n"
     ]
    },
    {
     "name": "stderr",
     "output_type": "stream",
     "text": [
      "100%|██████████| 1/1 [00:06<00:00,  6.50s/it]\n"
     ]
    },
    {
     "name": "stdout",
     "output_type": "stream",
     "text": [
      "Total page in མགར་གྱི་མི་སྣ།: 1\n",
      "Total error in Page མགར་གྱི་མི་སྣ། : 0\n",
      "\n",
      "\n",
      "Successfully saved: tbmgar_ALL_link_མགར་གྱི་མི་སྣ།.json\n"
     ]
    },
    {
     "name": "stderr",
     "output_type": "stream",
     "text": [
      "100%|██████████| 2/2 [00:18<00:00,  9.23s/it]\n"
     ]
    },
    {
     "name": "stdout",
     "output_type": "stream",
     "text": [
      "Total page in སྔོན་བྱོན་སྐྱེས་ཆེན།: 2\n",
      "Total error in Page སྔོན་བྱོན་སྐྱེས་ཆེན། : 0\n",
      "\n",
      "\n",
      "Successfully saved: tbmgar_ALL_link_སྔོན་བྱོན་སྐྱེས་ཆེན།.json\n"
     ]
    },
    {
     "name": "stderr",
     "output_type": "stream",
     "text": [
      "100%|██████████| 2/2 [00:25<00:00, 12.94s/it]\n"
     ]
    },
    {
     "name": "stdout",
     "output_type": "stream",
     "text": [
      "Total page in ཤེས་ཡོན་པའི་སྡེ།: 2\n",
      "Total error in Page ཤེས་ཡོན་པའི་སྡེ། : 0\n",
      "\n",
      "\n",
      "Successfully saved: tbmgar_ALL_link_ཤེས་ཡོན་པའི་སྡེ།.json\n"
     ]
    },
    {
     "name": "stderr",
     "output_type": "stream",
     "text": [
      "100%|██████████| 2/2 [00:13<00:00,  6.62s/it]"
     ]
    },
    {
     "name": "stdout",
     "output_type": "stream",
     "text": [
      "Total page in རིག་པ་སྨྲ་བའི་སྡེ།: 2\n",
      "Total error in Page རིག་པ་སྨྲ་བའི་སྡེ། : 0\n",
      "\n",
      "\n",
      "Successfully saved: tbmgar_ALL_link_རིག་པ་སྨྲ་བའི་སྡེ།.json\n"
     ]
    },
    {
     "name": "stderr",
     "output_type": "stream",
     "text": [
      "\n"
     ]
    }
   ],
   "source": [
    "for index, row in sample_df.iterrows():\n",
    "    # print(row)\n",
    "    name_of_cate = row[\"name_of_cate\"]\n",
    "    original_url = row[\"original_url\"]\n",
    "    Last_page_link = row[\"Last_page_link\"]\n",
    "    list_page_no = row[\"list_page_no\"]\n",
    "\n",
    "    # custom_url = original_url.replace(\"#ndbwNdCam\", \"\")\n",
    "    \n",
    "    pattern = r'(https?://[^/]+/[^?]+\\?)(?:id=(\\d+))?'\n",
    "    match = re.search(pattern, original_url)\n",
    "    if match:\n",
    "        custom_url = match.group(1)\n",
    "        id_value = match.group(2) if match.group(2) else \"ID not found\"\n",
    "\n",
    "    total_page = list_page_no\n",
    "    base_url = \"http://www.tbmgar.com/\"\n",
    "    article_tag = name_of_cate\n",
    "    key_code = \"Page \" + article_tag + \" \"\n",
    "    all_links = loop_article_page(total_page, custom_url, key_code, base_url, id_value)\n",
    "    \n",
    "    print(f\"Total page in {article_tag}: {len(all_links['Data'])}\")\n",
    "    check_error_in_links(all_links['Data'], key_code, print_each_error=True)\n",
    "\n",
    "    # Saving the final file\n",
    "    path = \"./data/links/\"\n",
    "    file_name = f\"{file_name_code}_ALL_link_{article_tag}.json\"\n",
    "    save_json(path, file_name, all_links['Data'])"
   ]
  },
  {
   "cell_type": "code",
   "execution_count": null,
   "id": "9f5b009e-18db-4c0c-a6e8-85796931a527",
   "metadata": {},
   "outputs": [],
   "source": []
  },
  {
   "cell_type": "code",
   "execution_count": null,
   "id": "07dbafae-8dae-43e7-909f-2eb631654e88",
   "metadata": {},
   "outputs": [],
   "source": []
  },
  {
   "cell_type": "code",
   "execution_count": null,
   "id": "ab872ff2-8780-4a34-ab1d-2ac06abcf112",
   "metadata": {},
   "outputs": [],
   "source": []
  },
  {
   "cell_type": "code",
   "execution_count": null,
   "id": "a731a864-4c05-4271-a381-2e88c537185b",
   "metadata": {},
   "outputs": [],
   "source": []
  },
  {
   "cell_type": "markdown",
   "id": "7412e72a-068f-4870-aa9f-494297159f7d",
   "metadata": {},
   "source": [
    "# test"
   ]
  },
  {
   "cell_type": "code",
   "execution_count": 12,
   "id": "be32abdc-e0e4-44cf-a5d7-670b8166464a",
   "metadata": {},
   "outputs": [
    {
     "name": "stdout",
     "output_type": "stream",
     "text": [
      "Original URL: http://www.tbmgar.com/lcqwbw.asp?id=374#ndbwNdCam\n",
      "Base URL: http://www.tbmgar.com/lcqwbw.asp?\n",
      "ID: id=374\n"
     ]
    }
   ],
   "source": [
    "import re\n",
    "\n",
    "def extract_url_components(url):\n",
    "    # Regular expression to match the base URL and ID\n",
    "    pattern = r'(https?://[^/]+/[^?]+\\?)(?:id=(\\d+))?'\n",
    "    \n",
    "    match = re.search(pattern, url)\n",
    "    if match:\n",
    "        base_url = match.group(1)\n",
    "        id_value = match.group(2) if match.group(2) else \"ID not found\"\n",
    "        return base_url, id_value\n",
    "    else:\n",
    "        return \"Base URL not found\", \"ID not found\"\n",
    "\n",
    "# Test with the provided URL\n",
    "full_url = \"http://www.tbmgar.com/lcqwbw.asp?id=374#ndbwNdCam\"\n",
    "base_url, id_value = extract_url_components(full_url)\n",
    "\n",
    "print(f\"Original URL: {full_url}\")\n",
    "print(f\"Base URL: {base_url}\")\n",
    "print(f\"ID: id={id_value}\")"
   ]
  },
  {
   "cell_type": "code",
   "execution_count": null,
   "id": "c3c2c076-6910-4c93-8c01-55bb14c60f0a",
   "metadata": {},
   "outputs": [],
   "source": []
  }
 ],
 "metadata": {
  "kernelspec": {
   "display_name": "Python 3 (ipykernel)",
   "language": "python",
   "name": "python3"
  },
  "language_info": {
   "codemirror_mode": {
    "name": "ipython",
    "version": 3
   },
   "file_extension": ".py",
   "mimetype": "text/x-python",
   "name": "python",
   "nbconvert_exporter": "python",
   "pygments_lexer": "ipython3",
   "version": "3.10.13"
  }
 },
 "nbformat": 4,
 "nbformat_minor": 5
}
