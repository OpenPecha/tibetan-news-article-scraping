{
 "cells": [
  {
   "cell_type": "code",
   "execution_count": 1,
   "id": "40147810-a5ac-49c4-9891-123f743b40eb",
   "metadata": {},
   "outputs": [],
   "source": [
    "import requests\n",
    "from bs4 import BeautifulSoup\n",
    "import json\n",
    "import time\n",
    "\n",
    "from tqdm import tqdm"
   ]
  },
  {
   "cell_type": "code",
   "execution_count": 2,
   "id": "7c3970d1-04ce-402d-afa7-fbf8323f6284",
   "metadata": {},
   "outputs": [],
   "source": [
    "import sertha_utils\n",
    "import pandas as pd"
   ]
  },
  {
   "cell_type": "code",
   "execution_count": null,
   "id": "ca1d7bbc-d27b-4c64-aa2d-5d27409915d7",
   "metadata": {},
   "outputs": [],
   "source": []
  },
  {
   "cell_type": "markdown",
   "id": "685b9b9e-98a7-4a1f-a674-2125437e3fe4",
   "metadata": {},
   "source": [
    "## Here we will extract all the articles links from https://sertha.net/ webpage\n"
   ]
  },
  {
   "cell_type": "markdown",
   "id": "95f69b28-a91e-479a-9d51-3e2d466692a6",
   "metadata": {},
   "source": [
    "Tabs not extracted:\n",
    "\n",
    "https://sertha.net/"
   ]
  },
  {
   "cell_type": "code",
   "execution_count": null,
   "id": "53f131a3-9008-4061-a1c1-191bf90cab51",
   "metadata": {},
   "outputs": [],
   "source": []
  },
  {
   "cell_type": "markdown",
   "id": "acd071a1-9fce-42e8-9d49-0e71dc3b42e4",
   "metadata": {},
   "source": [
    "\n",
    "------------\n",
    "-----------\n",
    "------------\n",
    "------------\n",
    "------------"
   ]
  },
  {
   "cell_type": "code",
   "execution_count": 3,
   "id": "467da2b4-69ca-4b77-b0b5-01ec39d844bc",
   "metadata": {},
   "outputs": [],
   "source": [
    "def loop_article_page(total_page, custom_url, key_code):\n",
    "    \"\"\"\n",
    "    \n",
    "    \"\"\"\n",
    "    return_file = {\n",
    "        \"Data\": [],\n",
    "        \"message\": \"success\",\n",
    "        \"response\": 200\n",
    "    }\n",
    "    All_url_links = {}\n",
    "    if total_page == 0:\n",
    "        total_page = 1\n",
    "    \n",
    "    try:\n",
    "        for i in tqdm(range(1, total_page+1)):\n",
    "            if i == 1:\n",
    "                final_url = custom_url\n",
    "            else:\n",
    "                final_url = custom_url+ \"page/\" + str(i) + \"/\"\n",
    "            found_url_links = sertha_utils.extract_sertha_page_article_links(final_url)\n",
    "            key = key_code + str(i)\n",
    "            All_url_links[key] = found_url_links\n",
    "        return_file[\"Data\"] = All_url_links\n",
    "        return return_file\n",
    "    \n",
    "    except Exception as e:\n",
    "        return_file[\"Data\"] = All_url_links\n",
    "        return_file[\"message\"] = e\n",
    "        return_file[\"response\"] = 404\n",
    "        return return_file"
   ]
  },
  {
   "cell_type": "code",
   "execution_count": 4,
   "id": "36d048db-f75b-4bbf-99ba-333eb7639175",
   "metadata": {},
   "outputs": [],
   "source": [
    "def check_error_in_links(All_url_link, page_code, print_each_error=False):\n",
    "    \"\"\"\n",
    "    \n",
    "    \n",
    "    \"\"\"\n",
    "\n",
    "    error_counter = 0\n",
    "    for page_id in range(1, len(All_url_link)):\n",
    "        page_key = page_code + str(page_id)\n",
    "        try:\n",
    "            All_url_link.get(page_key)\n",
    "            if  All_url_link.get(page_key)[\"Response\"]!= 200:\n",
    "                error_counter += 1\n",
    "                if print_each_error:\n",
    "                    print(page_key, All_url_link.get(page_key)[\"message\"])\n",
    "        except Exception as e:\n",
    "            print(page_key, e)\n",
    "\n",
    "    print(f\"Total error in {page_code}: {error_counter}\")"
   ]
  },
  {
   "cell_type": "code",
   "execution_count": 5,
   "id": "43edc8d7-14ca-44e8-9fda-7ec78d5e7fe8",
   "metadata": {},
   "outputs": [],
   "source": [
    "def save_json(path, file_name, data):\n",
    "    \"\"\"\n",
    "    \n",
    "    \"\"\"\n",
    "    with open(path+file_name, \"w\") as outfile:\n",
    "        json.dump(data, outfile, indent=4, ensure_ascii=False)\n",
    "        print(f\"\\n\\nSuccessfully saved: {file_name}\")"
   ]
  },
  {
   "cell_type": "code",
   "execution_count": null,
   "id": "1f46d139-cd34-40d1-be5f-93f40630ccbb",
   "metadata": {},
   "outputs": [],
   "source": []
  },
  {
   "cell_type": "code",
   "execution_count": null,
   "id": "2dfeb92c-62d7-404c-83cc-f2ec569ddadb",
   "metadata": {},
   "outputs": [],
   "source": []
  },
  {
   "cell_type": "markdown",
   "id": "8285b51c-3a40-4e55-bf05-b132ecb3d64c",
   "metadata": {},
   "source": [
    "### all data"
   ]
  },
  {
   "cell_type": "code",
   "execution_count": 6,
   "id": "25b41ef0-af0c-4cee-ad0f-2e6c73282629",
   "metadata": {},
   "outputs": [
    {
     "data": {
      "text/html": [
       "<div>\n",
       "<style scoped>\n",
       "    .dataframe tbody tr th:only-of-type {\n",
       "        vertical-align: middle;\n",
       "    }\n",
       "\n",
       "    .dataframe tbody tr th {\n",
       "        vertical-align: top;\n",
       "    }\n",
       "\n",
       "    .dataframe thead th {\n",
       "        text-align: right;\n",
       "    }\n",
       "</style>\n",
       "<table border=\"1\" class=\"dataframe\">\n",
       "  <thead>\n",
       "    <tr style=\"text-align: right;\">\n",
       "      <th></th>\n",
       "      <th>original_url</th>\n",
       "      <th>name_of_cate</th>\n",
       "      <th>Last_page_link</th>\n",
       "      <th>list_page_no</th>\n",
       "    </tr>\n",
       "  </thead>\n",
       "  <tbody>\n",
       "    <tr>\n",
       "      <th>0</th>\n",
       "      <td>https://sertha.net/category/hhdl/</td>\n",
       "      <td>༧གོང་ས་མཆོག</td>\n",
       "      <td>https://sertha.net/category/hhdl/page/3/</td>\n",
       "      <td>3</td>\n",
       "    </tr>\n",
       "    <tr>\n",
       "      <th>1</th>\n",
       "      <td>https://sertha.net/category/%e0%bd%a2%e0%be%a9...</td>\n",
       "      <td>རྩོམ་རིག</td>\n",
       "      <td>https://sertha.net/category/%E0%BD%A2%E0%BE%A9...</td>\n",
       "      <td>5</td>\n",
       "    </tr>\n",
       "    <tr>\n",
       "      <th>2</th>\n",
       "      <td>https://sertha.net/category/%e0%bd%a6%e0%be%b3...</td>\n",
       "      <td>སློབ་གསོ།</td>\n",
       "      <td>no link last page link</td>\n",
       "      <td>0</td>\n",
       "    </tr>\n",
       "    <tr>\n",
       "      <th>3</th>\n",
       "      <td>https://sertha.net/category/%e0%bd%82%e0%bd%a6...</td>\n",
       "      <td>གསར་རྩོམ།</td>\n",
       "      <td>no link last page link</td>\n",
       "      <td>0</td>\n",
       "    </tr>\n",
       "    <tr>\n",
       "      <th>4</th>\n",
       "      <td>https://sertha.net/category/%e0%bd%a3%e0%bd%bc...</td>\n",
       "      <td>ལོ་རྒྱུས།</td>\n",
       "      <td>https://sertha.net/category/%E0%BD%A3%E0%BD%BC...</td>\n",
       "      <td>2</td>\n",
       "    </tr>\n",
       "    <tr>\n",
       "      <th>5</th>\n",
       "      <td>https://sertha.net/category/%e0%bd%82%e0%bd%a6...</td>\n",
       "      <td>གསར་འགྱུར།</td>\n",
       "      <td>https://sertha.net/category/%E0%BD%82%E0%BD%A6...</td>\n",
       "      <td>2</td>\n",
       "    </tr>\n",
       "    <tr>\n",
       "      <th>6</th>\n",
       "      <td>https://sertha.net/category/%e0%bd%98%e0%bd%b2...</td>\n",
       "      <td>མི་སྣ་ངོ་སྤྲོད།</td>\n",
       "      <td>no link last page link</td>\n",
       "      <td>0</td>\n",
       "    </tr>\n",
       "    <tr>\n",
       "      <th>7</th>\n",
       "      <td>https://sertha.net/category/%e0%bd%a6%e0%be%b2...</td>\n",
       "      <td>སྲོལ་རྒྱུན།</td>\n",
       "      <td>no link last page link</td>\n",
       "      <td>0</td>\n",
       "    </tr>\n",
       "  </tbody>\n",
       "</table>\n",
       "</div>"
      ],
      "text/plain": [
       "                                        original_url     name_of_cate  \\\n",
       "0                  https://sertha.net/category/hhdl/      ༧གོང་ས་མཆོག   \n",
       "1  https://sertha.net/category/%e0%bd%a2%e0%be%a9...         རྩོམ་རིག   \n",
       "2  https://sertha.net/category/%e0%bd%a6%e0%be%b3...        སློབ་གསོ།   \n",
       "3  https://sertha.net/category/%e0%bd%82%e0%bd%a6...        གསར་རྩོམ།   \n",
       "4  https://sertha.net/category/%e0%bd%a3%e0%bd%bc...        ལོ་རྒྱུས།   \n",
       "5  https://sertha.net/category/%e0%bd%82%e0%bd%a6...       གསར་འགྱུར།   \n",
       "6  https://sertha.net/category/%e0%bd%98%e0%bd%b2...  མི་སྣ་ངོ་སྤྲོད།   \n",
       "7  https://sertha.net/category/%e0%bd%a6%e0%be%b2...      སྲོལ་རྒྱུན།   \n",
       "\n",
       "                                      Last_page_link  list_page_no  \n",
       "0           https://sertha.net/category/hhdl/page/3/             3  \n",
       "1  https://sertha.net/category/%E0%BD%A2%E0%BE%A9...             5  \n",
       "2                             no link last page link             0  \n",
       "3                             no link last page link             0  \n",
       "4  https://sertha.net/category/%E0%BD%A3%E0%BD%BC...             2  \n",
       "5  https://sertha.net/category/%E0%BD%82%E0%BD%A6...             2  \n",
       "6                             no link last page link             0  \n",
       "7                             no link last page link             0  "
      ]
     },
     "execution_count": 6,
     "metadata": {},
     "output_type": "execute_result"
    }
   ],
   "source": [
    "df = pd.read_csv(\"./data/All_cate.csv\")\n",
    "df.tail(40)"
   ]
  },
  {
   "cell_type": "code",
   "execution_count": 7,
   "id": "5dfd117b-f69d-4254-b729-99587d8af85e",
   "metadata": {},
   "outputs": [
    {
     "data": {
      "text/plain": [
       "(8, 4)"
      ]
     },
     "execution_count": 7,
     "metadata": {},
     "output_type": "execute_result"
    }
   ],
   "source": [
    "df.shape"
   ]
  },
  {
   "cell_type": "code",
   "execution_count": 11,
   "id": "3d271a88-5471-41a0-bd2d-838eca8b02d0",
   "metadata": {},
   "outputs": [
    {
     "data": {
      "text/plain": [
       "(8, 4)"
      ]
     },
     "execution_count": 11,
     "metadata": {},
     "output_type": "execute_result"
    }
   ],
   "source": [
    "sample_df = df\n",
    "sample_df.shape"
   ]
  },
  {
   "cell_type": "code",
   "execution_count": null,
   "id": "df6d6ba4-de9a-434b-a470-1bc2c060be8a",
   "metadata": {},
   "outputs": [],
   "source": []
  },
  {
   "cell_type": "code",
   "execution_count": 12,
   "id": "01bc0c85-ba0a-4e57-a946-cb8fb04cf7cc",
   "metadata": {},
   "outputs": [],
   "source": [
    "file_name_code = \"sertha\""
   ]
  },
  {
   "cell_type": "code",
   "execution_count": 14,
   "id": "81485921-1ab2-4589-9c7d-ab4ff580093d",
   "metadata": {},
   "outputs": [
    {
     "name": "stderr",
     "output_type": "stream",
     "text": [
      "100%|██████████| 3/3 [00:17<00:00,  5.95s/it]\n"
     ]
    },
    {
     "name": "stdout",
     "output_type": "stream",
     "text": [
      "Total page in ༧གོང་ས་མཆོག: 3\n",
      "Total error in Page ༧གོང་ས་མཆོག : 0\n",
      "\n",
      "\n",
      "Successfully saved: sertha_ALL_link_༧གོང་ས་མཆོག.json\n"
     ]
    },
    {
     "name": "stderr",
     "output_type": "stream",
     "text": [
      "100%|██████████| 5/5 [00:26<00:00,  5.22s/it]\n"
     ]
    },
    {
     "name": "stdout",
     "output_type": "stream",
     "text": [
      "Total page in རྩོམ་རིག: 5\n",
      "Total error in Page རྩོམ་རིག : 0\n",
      "\n",
      "\n",
      "Successfully saved: sertha_ALL_link_རྩོམ་རིག.json\n"
     ]
    },
    {
     "name": "stderr",
     "output_type": "stream",
     "text": [
      "100%|██████████| 1/1 [00:05<00:00,  5.47s/it]\n"
     ]
    },
    {
     "name": "stdout",
     "output_type": "stream",
     "text": [
      "Total page in སློབ་གསོ།: 1\n",
      "Total error in Page སློབ་གསོ། : 0\n",
      "\n",
      "\n",
      "Successfully saved: sertha_ALL_link_སློབ་གསོ།.json\n"
     ]
    },
    {
     "name": "stderr",
     "output_type": "stream",
     "text": [
      "100%|██████████| 1/1 [00:05<00:00,  5.66s/it]\n"
     ]
    },
    {
     "name": "stdout",
     "output_type": "stream",
     "text": [
      "Total page in གསར་རྩོམ།: 1\n",
      "Total error in Page གསར་རྩོམ། : 0\n",
      "\n",
      "\n",
      "Successfully saved: sertha_ALL_link_གསར་རྩོམ།.json\n"
     ]
    },
    {
     "name": "stderr",
     "output_type": "stream",
     "text": [
      "100%|██████████| 2/2 [00:10<00:00,  5.38s/it]\n"
     ]
    },
    {
     "name": "stdout",
     "output_type": "stream",
     "text": [
      "Total page in ལོ་རྒྱུས།: 2\n",
      "Total error in Page ལོ་རྒྱུས། : 0\n",
      "\n",
      "\n",
      "Successfully saved: sertha_ALL_link_ལོ་རྒྱུས།.json\n"
     ]
    },
    {
     "name": "stderr",
     "output_type": "stream",
     "text": [
      "100%|██████████| 2/2 [00:10<00:00,  5.42s/it]\n"
     ]
    },
    {
     "name": "stdout",
     "output_type": "stream",
     "text": [
      "Total page in གསར་འགྱུར།: 2\n",
      "Total error in Page གསར་འགྱུར། : 0\n",
      "\n",
      "\n",
      "Successfully saved: sertha_ALL_link_གསར་འགྱུར།.json\n"
     ]
    },
    {
     "name": "stderr",
     "output_type": "stream",
     "text": [
      "100%|██████████| 1/1 [00:05<00:00,  5.77s/it]\n"
     ]
    },
    {
     "name": "stdout",
     "output_type": "stream",
     "text": [
      "Total page in མི་སྣ་ངོ་སྤྲོད།: 1\n",
      "Total error in Page མི་སྣ་ངོ་སྤྲོད། : 0\n",
      "\n",
      "\n",
      "Successfully saved: sertha_ALL_link_མི་སྣ་ངོ་སྤྲོད།.json\n"
     ]
    },
    {
     "name": "stderr",
     "output_type": "stream",
     "text": [
      "100%|██████████| 1/1 [00:04<00:00,  4.95s/it]"
     ]
    },
    {
     "name": "stdout",
     "output_type": "stream",
     "text": [
      "Total page in སྲོལ་རྒྱུན།: 1\n",
      "Total error in Page སྲོལ་རྒྱུན། : 0\n",
      "\n",
      "\n",
      "Successfully saved: sertha_ALL_link_སྲོལ་རྒྱུན།.json\n"
     ]
    },
    {
     "name": "stderr",
     "output_type": "stream",
     "text": [
      "\n"
     ]
    }
   ],
   "source": [
    "for index, row in sample_df.iterrows():\n",
    "    # print(row)\n",
    "    name_of_cate = row[\"name_of_cate\"]\n",
    "    original_url = row[\"original_url\"]\n",
    "    Last_page_link = row[\"Last_page_link\"]\n",
    "    list_page_no = row[\"list_page_no\"]\n",
    "\n",
    "    custom_url = original_url\n",
    "\n",
    "    total_page = list_page_no\n",
    "    article_tag = name_of_cate\n",
    "    key_code = \"Page \" + article_tag + \" \"\n",
    "    all_links = loop_article_page(total_page, custom_url, key_code)\n",
    "    \n",
    "    print(f\"Total page in {article_tag}: {len(all_links['Data'])}\")\n",
    "    check_error_in_links(all_links['Data'], key_code, print_each_error=True)\n",
    "\n",
    "    # Saving the final file\n",
    "    path = \"./data/links/\"\n",
    "    file_name = f\"{file_name_code}_ALL_link_{article_tag}.json\"\n",
    "    save_json(path, file_name, all_links['Data'])"
   ]
  },
  {
   "cell_type": "code",
   "execution_count": null,
   "id": "9f5b009e-18db-4c0c-a6e8-85796931a527",
   "metadata": {},
   "outputs": [],
   "source": []
  },
  {
   "cell_type": "code",
   "execution_count": null,
   "id": "07dbafae-8dae-43e7-909f-2eb631654e88",
   "metadata": {},
   "outputs": [],
   "source": []
  },
  {
   "cell_type": "code",
   "execution_count": null,
   "id": "f8297d1c-0f4d-474c-9a1f-d4cd749d46d1",
   "metadata": {},
   "outputs": [],
   "source": []
  },
  {
   "cell_type": "code",
   "execution_count": null,
   "id": "10cc62f4-0c24-4e55-972c-11151bdf8248",
   "metadata": {},
   "outputs": [],
   "source": []
  }
 ],
 "metadata": {
  "kernelspec": {
   "display_name": "Python 3 (ipykernel)",
   "language": "python",
   "name": "python3"
  },
  "language_info": {
   "codemirror_mode": {
    "name": "ipython",
    "version": 3
   },
   "file_extension": ".py",
   "mimetype": "text/x-python",
   "name": "python",
   "nbconvert_exporter": "python",
   "pygments_lexer": "ipython3",
   "version": "3.10.13"
  }
 },
 "nbformat": 4,
 "nbformat_minor": 5
}
