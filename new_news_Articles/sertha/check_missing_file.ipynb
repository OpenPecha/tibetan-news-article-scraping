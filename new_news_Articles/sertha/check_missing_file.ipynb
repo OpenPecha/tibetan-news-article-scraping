{
 "cells": [
  {
   "cell_type": "code",
   "execution_count": 29,
   "id": "3a461d57-2faf-4cbe-8847-30750eee0544",
   "metadata": {},
   "outputs": [],
   "source": [
    "import os"
   ]
  },
  {
   "cell_type": "code",
   "execution_count": 30,
   "id": "bf585d8f-0e00-4241-b333-ff3069f824ae",
   "metadata": {},
   "outputs": [],
   "source": [
    "directory = './data/links/'"
   ]
  },
  {
   "cell_type": "code",
   "execution_count": 31,
   "id": "7491e53b-78da-49af-a4f3-b043d7b86884",
   "metadata": {
    "scrolled": true
   },
   "outputs": [
    {
     "data": {
      "text/plain": [
       "['./data/links/tb_xzxw_ALL_link_བརྩམས་ཆོས་ལྟ་ཀློག.json',\n",
       " './data/links/tb_xzxw_ALL_link_ཆེད་སྒྲིག.json',\n",
       " './data/links/tb_xzxw_ALL_link_སྲིད་དོན་གསར་འགྱུར།.json',\n",
       " './data/links/tb_xzxw_ALL_link_སྲིད་གཞུང་སྤྱི་བསྒྲགས།.json',\n",
       " './data/links/tb_xzxw_ALL_link_འགོ་ཁྲིད་བྱེད་སྒོ།.json',\n",
       " './data/links/tb_xzxw_ALL_link_སྲིད་གཞུང་ཡིག་ཆ།.json',\n",
       " './data/links/tb_xzxw_ALL_link_སྲིད་ཇུས་གསལ་འགྲེལ།.json',\n",
       " './data/links/tb_xzxw_ALL_link_ཏང་སྲིད་སྒྲིག་གཞི།.json',\n",
       " './data/links/tb_xzxw_ALL_link_མི་དོན་བསྐོ་འཐེན།.json',\n",
       " './data/links/tb_xzxw_ALL_link_རྒྱབ་ཤ་དཀར་པོའི་དེབ།.json',\n",
       " './data/links/tb_xzxw_ALL_link_དམངས་ཕན་སྲིད་ཇུས།.json',\n",
       " './data/links/tb_xzxw_ALL_link_གྲོང་གསེབ་གསར་པ་འཛུགས་སྐྲུན།.json',\n",
       " './data/links/tb_xzxw_ALL_link_ཕྱུག་འགྱུར་ལམ་བུ།.json',\n",
       " './data/links/tb_xzxw_ALL_link_ལས་མིའི་ལྡུམ་རྭ།.json',\n",
       " './data/links/tb_xzxw_ALL_link_ཞིང་འབྲོག་ཤེས་བྱ།.json',\n",
       " './data/links/tb_xzxw_ALL_link_ཁྱད་ལྡན་ཐོན་ཟོག.json',\n",
       " './data/links/tb_xzxw_ALL_link_ཁྲིམས་ལུགས་གསར་འགྱུར།.json',\n",
       " './data/links/tb_xzxw_ALL_link_བརྟན་ལྷིང་གསེར་ཕུབ།.json',\n",
       " './data/links/tb_xzxw_ALL_link_བཅའ་ཁྲིམས་བློ་འདྲི།.json',\n",
       " './data/links/tb_xzxw_ALL_link_ཁྲིམས་དང་སྤྱི་ཚོགས།.json',\n",
       " './data/links/tb_xzxw_ALL_link_ཞི་མཐུན་ས་མཐོ།.json',\n",
       " './data/links/tb_xzxw_ALL_link_བཅའ་ཁྲིམས་རྒྱུན་ཤེས།.json',\n",
       " './data/links/tb_xzxw_ALL_link_ཁྲིམས་སྐྱོང་དོ་རྭ།.json',\n",
       " './data/links/tb_xzxw_ALL_link_སློབ་གསོའི་གསར་འགྱུར།.json',\n",
       " './data/links/tb_xzxw_ALL_link_འཕྲོད་བསྟེན་གསར་འགྱུར།.json',\n",
       " './data/links/tb_xzxw_ALL_link_ཚན་རྩལ་གསར་འགྱུར།.json',\n",
       " './data/links/tb_xzxw_ALL_link_ཚན་རྩལ་ཁྱབ་གདལ།.json',\n",
       " './data/links/tb_xzxw_ALL_link_ལུས་ཁམས་འཕྲོད་སྦྱོར།.json',\n",
       " './data/links/tb_xzxw_ALL_link_སྤྱི་ཕན་བྱེད་སྒོ།.json',\n",
       " './data/links/tb_xzxw_ALL_link_སློབ་གསོའི་ལྡུམ་རྭ།.json',\n",
       " './data/links/tb_xzxw_ALL_link_སློབ་གྲྭའི་པར་རིས།.json',\n",
       " './data/links/tb_xzxw_ALL_link_བོད་ལྗོངས་སྒྱུ་རྩལ།.json',\n",
       " './data/links/tb_xzxw_ALL_link_བོད་ཀྱི་རྩོམ་རིག.json',\n",
       " './data/links/tb_xzxw_ALL_link_མངོན་མིན་རིག་གནས་ཤུལ་བཞག.json',\n",
       " './data/links/tb_xzxw_ALL_link_མི་སྣ།.json',\n",
       " './data/links/tb_xzxw_ALL_link_བོད་རིག་པ།.json',\n",
       " './data/links/tb_xzxw_ALL_link_བོད་ལྗོངས་སྣོད་བཅུད།.json',\n",
       " './data/links/tb_xzxw_ALL_link_ཁོར་ཡུག་སྲུང་སྐྱོང་།.json',\n",
       " './data/links/tb_xzxw_ALL_link_བོད་ལྗོངས་ཡུལ་སྐོར།.json',\n",
       " './data/links/tb_xzxw_ALL_link_ཡུལ་སྐོར་ཕྱོགས་སྟོན།.json',\n",
       " './data/links/tb_xzxw_ALL_link_ལྗོངས་ཕྱིའི་ཡུལ་སྐོར།.json',\n",
       " './data/links/tb_xzxw_ALL_link_བདག་གི་ཡུལ་སྐོར་མཐོང་ཐོས།.json',\n",
       " './data/links/tb_xzxw_ALL_link_དུས་ཐོག་གསར་འགྱུར།.json',\n",
       " './data/links/tb_xzxw_ALL_link_འཛམ་གླིང་རྒྱལ་ཁབ་དང་ས་ཁུལ།.json',\n",
       " './data/links/tb_xzxw_ALL_link_གོ་ལ་ཧྲིལ་པོར་ལྟ་བ།.json',\n",
       " './data/links/tb_xzxw_ALL_link_འཛམ་གླིང་གིས་བོད་ལ་ལྟ་བ།.json',\n",
       " './data/links/tb_xzxw_ALL_link_འཛམ་གླིང་གྲགས་ཅན་མཛེས་ལྗོངས།.json',\n",
       " './data/links/tb_xzxw_ALL_link_བརྙན་ཐུང་།.json',\n",
       " './data/links/tb_xzxw_ALL_link_བོད་གཞས།.json',\n",
       " './data/links/tb_xzxw_ALL_link_རིག་གནས།.json',\n",
       " './data/links/tb_xzxw_ALL_link_བོད་ལྗོངས་པར་རིས།.json',\n",
       " './data/links/tb_xzxw_ALL_link_པར་མཁན།.json']"
      ]
     },
     "execution_count": 31,
     "metadata": {},
     "output_type": "execute_result"
    }
   ],
   "source": [
    "json_files = [os.path.join(directory, f) for f in os.listdir(directory) if f.endswith('.json')]\n",
    "json_files"
   ]
  },
  {
   "cell_type": "code",
   "execution_count": 32,
   "id": "9da14d91-e9c1-4171-93cf-497f6fb9f9f0",
   "metadata": {},
   "outputs": [
    {
     "data": {
      "text/plain": [
       "52"
      ]
     },
     "execution_count": 32,
     "metadata": {},
     "output_type": "execute_result"
    }
   ],
   "source": [
    "len(json_files)"
   ]
  },
  {
   "cell_type": "code",
   "execution_count": 33,
   "id": "b885050f-30e4-4aee-ad33-a29f70f66362",
   "metadata": {},
   "outputs": [],
   "source": [
    "path_name_list = []\n",
    "\n",
    "for each_path in json_files:\n",
    "    # Split the filename by underscore\n",
    "    parts = each_path.split('_')\n",
    "    \n",
    "    # The Tibetan word is the last part, without the .json extension\n",
    "    tibetan_word = parts[-1].split('.')[0]\n",
    "\n",
    "    path_name_list.append(tibetan_word)\n",
    "    \n",
    "    # print(f\"The extracted Tibetan word is: {tibetan_word}\")"
   ]
  },
  {
   "cell_type": "code",
   "execution_count": 34,
   "id": "d922339f-fce6-4910-bbea-d1a063e1403a",
   "metadata": {},
   "outputs": [
    {
     "data": {
      "text/plain": [
       "52"
      ]
     },
     "execution_count": 34,
     "metadata": {},
     "output_type": "execute_result"
    }
   ],
   "source": [
    "len(path_name_list)"
   ]
  },
  {
   "cell_type": "code",
   "execution_count": null,
   "id": "e736c403-97e2-4e8f-8146-52d0237e14e9",
   "metadata": {},
   "outputs": [],
   "source": []
  },
  {
   "cell_type": "code",
   "execution_count": null,
   "id": "ffa43eff-8e7f-414e-b21e-3058202a0b1d",
   "metadata": {},
   "outputs": [],
   "source": []
  },
  {
   "cell_type": "code",
   "execution_count": null,
   "id": "ae03b49f-ab8e-4e8e-86f4-2a964597bff5",
   "metadata": {},
   "outputs": [],
   "source": []
  },
  {
   "cell_type": "code",
   "execution_count": 35,
   "id": "7e7ef688-a638-476f-9cba-7a46b999501e",
   "metadata": {},
   "outputs": [],
   "source": [
    "directory_parallel = './data/parallel_content/'"
   ]
  },
  {
   "cell_type": "code",
   "execution_count": 36,
   "id": "487f6f4d-c25d-43e5-9114-a6660bc28417",
   "metadata": {},
   "outputs": [
    {
     "data": {
      "text/plain": [
       "48"
      ]
     },
     "execution_count": 36,
     "metadata": {},
     "output_type": "execute_result"
    }
   ],
   "source": [
    "json_files_parallel = [os.path.join(directory_parallel, f) for f in os.listdir(directory_parallel) if f.endswith('.json')]\n",
    "len(json_files_parallel)"
   ]
  },
  {
   "cell_type": "code",
   "execution_count": 37,
   "id": "e2f1ad39-89dd-408c-93c4-fa5b85426294",
   "metadata": {},
   "outputs": [],
   "source": [
    "path_content_list = []\n",
    "\n",
    "for each_path in json_files_parallel:\n",
    "    # Split the filename by underscore\n",
    "    parts = each_path.split('_')\n",
    "    \n",
    "    # The Tibetan word is the last part, without the .json extension\n",
    "    tibetan_word = parts[-1].split('.')[0]\n",
    "\n",
    "    path_content_list.append(tibetan_word)\n",
    "    \n",
    "    # print(f\"The extracted Tibetan word is: {tibetan_word}\")"
   ]
  },
  {
   "cell_type": "code",
   "execution_count": 38,
   "id": "44f19689-37d5-4c1e-8b6a-1531f7df2618",
   "metadata": {},
   "outputs": [
    {
     "data": {
      "text/plain": [
       "48"
      ]
     },
     "execution_count": 38,
     "metadata": {},
     "output_type": "execute_result"
    }
   ],
   "source": [
    "len(path_content_list)"
   ]
  },
  {
   "cell_type": "code",
   "execution_count": null,
   "id": "b128dec0-7324-42b3-9b7f-35f21d0e92eb",
   "metadata": {},
   "outputs": [],
   "source": []
  },
  {
   "cell_type": "code",
   "execution_count": null,
   "id": "76bc7d4d-ca03-42c8-9b3f-917dac982432",
   "metadata": {},
   "outputs": [],
   "source": []
  },
  {
   "cell_type": "code",
   "execution_count": 13,
   "id": "02b4a310-136a-48d2-87a3-fdbdbe362352",
   "metadata": {},
   "outputs": [],
   "source": [
    "for each_link in path_name_list:\n",
    "    if each_link not in path_content_list:\n",
    "        print(each_link)"
   ]
  },
  {
   "cell_type": "code",
   "execution_count": null,
   "id": "9589407f-000f-4371-9681-1b341481965d",
   "metadata": {},
   "outputs": [],
   "source": []
  },
  {
   "cell_type": "code",
   "execution_count": null,
   "id": "5cb71c69-15ae-41d8-9e53-6567339e7042",
   "metadata": {},
   "outputs": [],
   "source": []
  },
  {
   "cell_type": "code",
   "execution_count": null,
   "id": "3fc1e5b9-54eb-4cf7-b8e8-92a37375bea5",
   "metadata": {},
   "outputs": [],
   "source": []
  },
  {
   "cell_type": "code",
   "execution_count": null,
   "id": "9b01876d-631e-4f05-97b8-cfa25704dcd8",
   "metadata": {},
   "outputs": [],
   "source": []
  }
 ],
 "metadata": {
  "kernelspec": {
   "display_name": "Python 3 (ipykernel)",
   "language": "python",
   "name": "python3"
  },
  "language_info": {
   "codemirror_mode": {
    "name": "ipython",
    "version": 3
   },
   "file_extension": ".py",
   "mimetype": "text/x-python",
   "name": "python",
   "nbconvert_exporter": "python",
   "pygments_lexer": "ipython3",
   "version": "3.10.13"
  }
 },
 "nbformat": 4,
 "nbformat_minor": 5
}
