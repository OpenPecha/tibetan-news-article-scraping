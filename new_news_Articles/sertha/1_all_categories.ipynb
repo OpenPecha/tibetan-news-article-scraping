{
 "cells": [
  {
   "cell_type": "code",
   "execution_count": 1,
   "id": "46ee2202-8595-4f7f-89e5-597fb6b904fa",
   "metadata": {},
   "outputs": [],
   "source": [
    "from bs4 import BeautifulSoup\n",
    "import requests\n",
    "import re\n"
   ]
  },
  {
   "cell_type": "code",
   "execution_count": null,
   "id": "6a6b471d-42a7-4378-af4d-26869217a131",
   "metadata": {},
   "outputs": [],
   "source": []
  },
  {
   "cell_type": "code",
   "execution_count": null,
   "id": "457ad338-815d-420e-ae38-2269298a0040",
   "metadata": {},
   "outputs": [],
   "source": []
  },
  {
   "cell_type": "code",
   "execution_count": 8,
   "id": "f3dc8abc-2068-4a13-8655-7c50f29c1df1",
   "metadata": {},
   "outputs": [
    {
     "name": "stdout",
     "output_type": "stream",
     "text": [
      "[]\n"
     ]
    }
   ],
   "source": [
    "# url = \"https://sertha.net/\"\n",
    "\n",
    "# headers = {\n",
    "#         'User-Agent': 'Mozilla/5.0 (Windows NT 10.0; Win64; x64) AppleWebKit/537.36 (KHTML, like Gecko) Chrome/91.0.4472.124 Safari/537.36'\n",
    "#     }\n",
    "# response = requests.get(url, headers=headers)\n",
    "# response.raise_for_status()\n",
    "\n",
    "# # Parse the page content with BeautifulSoup\n",
    "# soup = BeautifulSoup(response.content, 'html.parser')\n",
    "# all_menu = soup.find_all(\"li\", class_=\"menu-item menu-item-type-taxonomy menu-item-object-category menu-item-has-children\")\n",
    "# all_categories = []\n",
    "# print(all_menu)\n",
    "# if all_menu:\n",
    "#     for each_category in all_menu:\n",
    "#         print(each_category)\n",
    "#         each_link = each_category.find(\"a\", class_=\"elementor-item has-submenu\")\n",
    "#         if each_link:\n",
    "#             href = each_link.get('href')\n",
    "#             if href:\n",
    "#                     text = link.get_text(strip=True)\n",
    "#                     all_categories.append((text, href))"
   ]
  },
  {
   "cell_type": "markdown",
   "id": "36429e57-79cf-4a2a-9656-28dafe47d7e6",
   "metadata": {},
   "source": [
    "issues with extraction:\n",
    "- doing manuly"
   ]
  },
  {
   "cell_type": "code",
   "execution_count": 12,
   "id": "12117b0d-2c09-4d03-adba-80cf1ea7de93",
   "metadata": {},
   "outputs": [],
   "source": [
    "all_categories = []"
   ]
  },
  {
   "cell_type": "code",
   "execution_count": 13,
   "id": "646b680b-bf35-42be-bb5a-dc1371efea28",
   "metadata": {},
   "outputs": [],
   "source": [
    "all_categories.append([\"https://sertha.net/category/hhdl/\", \"༧གོང་ས་མཆོག\"])\n",
    "all_categories.append([\"https://sertha.net/category/%e0%bd%a2%e0%be%a9%e0%bd%bc%e0%bd%98%e0%bc%8b%e0%bd%a2%e0%bd%b2%e0%bd%82/\", \"རྩོམ་རིག\"])\n",
    "all_categories.append([\"https://sertha.net/category/%e0%bd%a6%e0%be%b3%e0%bd%bc%e0%bd%96%e0%bc%8b%e0%bd%82%e0%bd%a6%e0%bd%bc%e0%bc%8d/\", \"སློབ་གསོ།\"])\n",
    "all_categories.append([\"https://sertha.net/category/%e0%bd%82%e0%bd%a6%e0%bd%a2%e0%bc%8b%e0%bd%a2%e0%be%a9%e0%bd%bc%e0%bd%98%e0%bc%8d/\", \"གསར་རྩོམ།\"])\n",
    "all_categories.append([\"https://sertha.net/category/%e0%bd%a3%e0%bd%bc%e0%bc%8b%e0%bd%a2%e0%be%92%e0%be%b1%e0%bd%b4%e0%bd%a6%e0%bc%8d/\", \"ལོ་རྒྱུས།\"])\n",
    "all_categories.append([\"https://sertha.net/category/%e0%bd%82%e0%bd%a6%e0%bd%a2%e0%bc%8b%e0%bd%a0%e0%bd%82%e0%be%b1%e0%bd%b4%e0%bd%a2%e0%bc%8d/\", \"གསར་འགྱུར།\"])\n",
    "all_categories.append([\"https://sertha.net/category/%e0%bd%98%e0%bd%b2%e0%bc%8b%e0%bd%a6%e0%be%a3%e0%bc%8b%e0%bd%84%e0%bd%bc%e0%bc%8b%e0%bd%a6%e0%be%a4%e0%be%b2%e0%bd%bc%e0%bd%91%e0%bc%8d/\", \"མི་སྣ་ངོ་སྤྲོད།\"])\n",
    "all_categories.append([\"https://sertha.net/category/%e0%bd%a6%e0%be%b2%e0%bd%bc%e0%bd%a3%e0%bc%8b%e0%bd%a2%e0%be%92%e0%be%b1%e0%bd%b4%e0%bd%93%e0%bc%8d/\", \"སྲོལ་རྒྱུན།\"])\n"
   ]
  },
  {
   "cell_type": "code",
   "execution_count": 14,
   "id": "1455ba9d-db9b-4bf8-9cf7-ed824d8bef9c",
   "metadata": {},
   "outputs": [
    {
     "data": {
      "text/plain": [
       "[['https://sertha.net/category/hhdl/', '༧གོང་ས་མཆོག'],\n",
       " ['https://sertha.net/category/%e0%bd%a2%e0%be%a9%e0%bd%bc%e0%bd%98%e0%bc%8b%e0%bd%a2%e0%bd%b2%e0%bd%82/',\n",
       "  'རྩོམ་རིག'],\n",
       " ['https://sertha.net/category/%e0%bd%a6%e0%be%b3%e0%bd%bc%e0%bd%96%e0%bc%8b%e0%bd%82%e0%bd%a6%e0%bd%bc%e0%bc%8d/',\n",
       "  'སློབ་གསོ།'],\n",
       " ['https://sertha.net/category/%e0%bd%82%e0%bd%a6%e0%bd%a2%e0%bc%8b%e0%bd%a2%e0%be%a9%e0%bd%bc%e0%bd%98%e0%bc%8d/',\n",
       "  'གསར་རྩོམ།'],\n",
       " ['https://sertha.net/category/%e0%bd%a3%e0%bd%bc%e0%bc%8b%e0%bd%a2%e0%be%92%e0%be%b1%e0%bd%b4%e0%bd%a6%e0%bc%8d/',\n",
       "  'ལོ་རྒྱུས།'],\n",
       " ['https://sertha.net/category/%e0%bd%82%e0%bd%a6%e0%bd%a2%e0%bc%8b%e0%bd%a0%e0%bd%82%e0%be%b1%e0%bd%b4%e0%bd%a2%e0%bc%8d/',\n",
       "  'གསར་འགྱུར།'],\n",
       " ['https://sertha.net/category/%e0%bd%98%e0%bd%b2%e0%bc%8b%e0%bd%a6%e0%be%a3%e0%bc%8b%e0%bd%84%e0%bd%bc%e0%bc%8b%e0%bd%a6%e0%be%a4%e0%be%b2%e0%bd%bc%e0%bd%91%e0%bc%8d/',\n",
       "  'མི་སྣ་ངོ་སྤྲོད།'],\n",
       " ['https://sertha.net/category/%e0%bd%a6%e0%be%b2%e0%bd%bc%e0%bd%a3%e0%bc%8b%e0%bd%a2%e0%be%92%e0%be%b1%e0%bd%b4%e0%bd%93%e0%bc%8d/',\n",
       "  'སྲོལ་རྒྱུན།']]"
      ]
     },
     "execution_count": 14,
     "metadata": {},
     "output_type": "execute_result"
    }
   ],
   "source": [
    "all_categories"
   ]
  },
  {
   "cell_type": "code",
   "execution_count": 15,
   "id": "a1d45cb2-eee1-4973-80cd-31242d5ba011",
   "metadata": {},
   "outputs": [
    {
     "data": {
      "text/plain": [
       "8"
      ]
     },
     "execution_count": 15,
     "metadata": {},
     "output_type": "execute_result"
    }
   ],
   "source": [
    "len(all_categories)"
   ]
  },
  {
   "cell_type": "code",
   "execution_count": null,
   "id": "5ae48407-a6e4-4bca-9f68-c4e69d0da80c",
   "metadata": {},
   "outputs": [],
   "source": []
  },
  {
   "cell_type": "code",
   "execution_count": null,
   "id": "0c731687-54b2-4d27-9b22-156b284fbf10",
   "metadata": {},
   "outputs": [],
   "source": []
  },
  {
   "cell_type": "code",
   "execution_count": null,
   "id": "e68c29a1-3f1c-40af-b025-3bbeec98745b",
   "metadata": {},
   "outputs": [],
   "source": []
  },
  {
   "cell_type": "code",
   "execution_count": null,
   "id": "1e6e76f4-0d32-4c69-9b38-4e2c092855b9",
   "metadata": {},
   "outputs": [],
   "source": []
  },
  {
   "cell_type": "markdown",
   "id": "748060f9-8f9d-4c1d-97a1-b6b66cf79fe5",
   "metadata": {},
   "source": [
    "## Extarct each categories page number"
   ]
  },
  {
   "cell_type": "code",
   "execution_count": 39,
   "id": "bdf84d27-ff81-48dc-aaed-fc7e255fc468",
   "metadata": {},
   "outputs": [],
   "source": [
    "def get_page_no(url):\n",
    "    \"\"\"\n",
    "    \n",
    "    \"\"\"\n",
    "\n",
    "    headers = {\n",
    "        'User-Agent': 'Mozilla/5.0 (Windows NT 10.0; Win64; x64) AppleWebKit/537.36 (KHTML, like Gecko) Chrome/91.0.4472.124 Safari/537.36'\n",
    "    }\n",
    "    try:\n",
    "        # Make the request to the URL\n",
    "        response = requests.get(url, headers=headers)\n",
    "        response.raise_for_status()\n",
    "        \n",
    "        # Parse the page content with BeautifulSoup\n",
    "        soup = BeautifulSoup(response.content, 'html.parser')\n",
    "        page_content = soup.find(\"nav\", class_=\"elementor-pagination\")\n",
    "        # print(page_content)\n",
    "        if page_content:\n",
    "            \n",
    "            all_page_link = page_content.find_all(\"a\", class_=\"page-numbers\")\n",
    "            if all_page_link:\n",
    "                # print(all_page_link[-2])\n",
    "                page_no = all_page_link[-2].get_text(strip=True)\n",
    "                page_no = re.search(r'Page(\\d+)', page_no)\n",
    "                if page_no:\n",
    "                    return [all_page_link[-2].get(\"href\"), page_no.group(1)]\n",
    "                \n",
    "        return [\"no link last page link\" , 0]\n",
    "    except Exception as e:\n",
    "        print(e)\n",
    "        print(url, \"\\n\\n\")\n",
    "        return [\"no link last page link\" , 0]"
   ]
  },
  {
   "cell_type": "code",
   "execution_count": 40,
   "id": "eabf2fc9-3f11-4ec8-ac7a-38678c9f5197",
   "metadata": {},
   "outputs": [
    {
     "data": {
      "text/plain": [
       "['https://sertha.net/category/hhdl/page/3/', '3']"
      ]
     },
     "execution_count": 40,
     "metadata": {},
     "output_type": "execute_result"
    }
   ],
   "source": [
    "url = \"https://sertha.net/category/hhdl/\"\n",
    "# url = \"https://ti.zangdiyg.com/category/index/id/134/p/2.html\"\n",
    "\n",
    "get_page_no(url)\n"
   ]
  },
  {
   "cell_type": "code",
   "execution_count": null,
   "id": "fc64a061-a056-4e59-8ae1-8e1d53a2af17",
   "metadata": {},
   "outputs": [],
   "source": []
  },
  {
   "cell_type": "code",
   "execution_count": 43,
   "id": "029a9b6f-1b97-493b-8501-87bc3436f7ec",
   "metadata": {},
   "outputs": [
    {
     "name": "stdout",
     "output_type": "stream",
     "text": [
      "['no link last page link', 0]\n",
      "['no link last page link', 0]\n",
      "5\n",
      "['no link last page link', 0]\n",
      "['no link last page link', 0]\n"
     ]
    }
   ],
   "source": [
    "final_link = []\n",
    "new_categories = all_categories\n",
    "i = 0\n",
    "for each_link in new_categories:\n",
    "    link = each_link[0]\n",
    "    page_no = get_page_no(link)\n",
    "    if \"no link last page link\" == page_no[0]:\n",
    "        print(page_no)\n",
    "        \n",
    "    clean_list = []\n",
    "    clean_list.extend(each_link)\n",
    "    clean_list.extend(page_no)\n",
    "    # print(clean_list)\n",
    "    final_link.append(clean_list)\n",
    "    i = i+1\n",
    "    if i%5 == 0:\n",
    "        print(i)\n"
   ]
  },
  {
   "cell_type": "code",
   "execution_count": 44,
   "id": "d9cb015a-793e-4c47-a5f8-827d6bbaf00b",
   "metadata": {},
   "outputs": [
    {
     "data": {
      "text/plain": [
       "[['https://sertha.net/category/hhdl/',\n",
       "  '༧གོང་ས་མཆོག',\n",
       "  'https://sertha.net/category/hhdl/page/3/',\n",
       "  '3'],\n",
       " ['https://sertha.net/category/%e0%bd%a2%e0%be%a9%e0%bd%bc%e0%bd%98%e0%bc%8b%e0%bd%a2%e0%bd%b2%e0%bd%82/',\n",
       "  'རྩོམ་རིག',\n",
       "  'https://sertha.net/category/%E0%BD%A2%E0%BE%A9%E0%BD%BC%E0%BD%98%E0%BC%8B%E0%BD%A2%E0%BD%B2%E0%BD%82/page/5/',\n",
       "  '5'],\n",
       " ['https://sertha.net/category/%e0%bd%a6%e0%be%b3%e0%bd%bc%e0%bd%96%e0%bc%8b%e0%bd%82%e0%bd%a6%e0%bd%bc%e0%bc%8d/',\n",
       "  'སློབ་གསོ།',\n",
       "  'no link last page link',\n",
       "  0],\n",
       " ['https://sertha.net/category/%e0%bd%82%e0%bd%a6%e0%bd%a2%e0%bc%8b%e0%bd%a2%e0%be%a9%e0%bd%bc%e0%bd%98%e0%bc%8d/',\n",
       "  'གསར་རྩོམ།',\n",
       "  'no link last page link',\n",
       "  0],\n",
       " ['https://sertha.net/category/%e0%bd%a3%e0%bd%bc%e0%bc%8b%e0%bd%a2%e0%be%92%e0%be%b1%e0%bd%b4%e0%bd%a6%e0%bc%8d/',\n",
       "  'ལོ་རྒྱུས།',\n",
       "  'https://sertha.net/category/%E0%BD%A3%E0%BD%BC%E0%BC%8B%E0%BD%A2%E0%BE%92%E0%BE%B1%E0%BD%B4%E0%BD%A6%E0%BC%8D/page/2/',\n",
       "  '2']]"
      ]
     },
     "execution_count": 44,
     "metadata": {},
     "output_type": "execute_result"
    }
   ],
   "source": [
    "final_link[:5]"
   ]
  },
  {
   "cell_type": "code",
   "execution_count": null,
   "id": "99eaa940-3e9f-4242-8fb4-5eddf762c916",
   "metadata": {},
   "outputs": [],
   "source": []
  },
  {
   "cell_type": "code",
   "execution_count": null,
   "id": "9186ec04-6952-4676-8fb1-e50963392fb9",
   "metadata": {},
   "outputs": [],
   "source": []
  },
  {
   "cell_type": "markdown",
   "id": "bc6fd405-fb81-4fcf-9f1e-562c13bbe227",
   "metadata": {},
   "source": [
    "## saving the final file"
   ]
  },
  {
   "cell_type": "code",
   "execution_count": 45,
   "id": "b3cd8de9-dce3-43d4-9bf1-5fe4f55316df",
   "metadata": {},
   "outputs": [],
   "source": [
    "import pandas as pd"
   ]
  },
  {
   "cell_type": "code",
   "execution_count": null,
   "id": "205aca67-bffb-442f-88d4-7b85f7943a9f",
   "metadata": {},
   "outputs": [],
   "source": []
  },
  {
   "cell_type": "code",
   "execution_count": 46,
   "id": "2fa6a92b-8907-4222-b860-e5275ef8759f",
   "metadata": {},
   "outputs": [
    {
     "data": {
      "text/html": [
       "<div>\n",
       "<style scoped>\n",
       "    .dataframe tbody tr th:only-of-type {\n",
       "        vertical-align: middle;\n",
       "    }\n",
       "\n",
       "    .dataframe tbody tr th {\n",
       "        vertical-align: top;\n",
       "    }\n",
       "\n",
       "    .dataframe thead th {\n",
       "        text-align: right;\n",
       "    }\n",
       "</style>\n",
       "<table border=\"1\" class=\"dataframe\">\n",
       "  <thead>\n",
       "    <tr style=\"text-align: right;\">\n",
       "      <th></th>\n",
       "      <th>original_url</th>\n",
       "      <th>name_of_cate</th>\n",
       "      <th>Last_page_link</th>\n",
       "      <th>list_page_no</th>\n",
       "    </tr>\n",
       "  </thead>\n",
       "  <tbody>\n",
       "    <tr>\n",
       "      <th>0</th>\n",
       "      <td>https://sertha.net/category/hhdl/</td>\n",
       "      <td>༧གོང་ས་མཆོག</td>\n",
       "      <td>https://sertha.net/category/hhdl/page/3/</td>\n",
       "      <td>3</td>\n",
       "    </tr>\n",
       "    <tr>\n",
       "      <th>1</th>\n",
       "      <td>https://sertha.net/category/%e0%bd%a2%e0%be%a9...</td>\n",
       "      <td>རྩོམ་རིག</td>\n",
       "      <td>https://sertha.net/category/%E0%BD%A2%E0%BE%A9...</td>\n",
       "      <td>5</td>\n",
       "    </tr>\n",
       "    <tr>\n",
       "      <th>2</th>\n",
       "      <td>https://sertha.net/category/%e0%bd%a6%e0%be%b3...</td>\n",
       "      <td>སློབ་གསོ།</td>\n",
       "      <td>no link last page link</td>\n",
       "      <td>0</td>\n",
       "    </tr>\n",
       "    <tr>\n",
       "      <th>3</th>\n",
       "      <td>https://sertha.net/category/%e0%bd%82%e0%bd%a6...</td>\n",
       "      <td>གསར་རྩོམ།</td>\n",
       "      <td>no link last page link</td>\n",
       "      <td>0</td>\n",
       "    </tr>\n",
       "    <tr>\n",
       "      <th>4</th>\n",
       "      <td>https://sertha.net/category/%e0%bd%a3%e0%bd%bc...</td>\n",
       "      <td>ལོ་རྒྱུས།</td>\n",
       "      <td>https://sertha.net/category/%E0%BD%A3%E0%BD%BC...</td>\n",
       "      <td>2</td>\n",
       "    </tr>\n",
       "  </tbody>\n",
       "</table>\n",
       "</div>"
      ],
      "text/plain": [
       "                                        original_url name_of_cate  \\\n",
       "0                  https://sertha.net/category/hhdl/  ༧གོང་ས་མཆོག   \n",
       "1  https://sertha.net/category/%e0%bd%a2%e0%be%a9...     རྩོམ་རིག   \n",
       "2  https://sertha.net/category/%e0%bd%a6%e0%be%b3...    སློབ་གསོ།   \n",
       "3  https://sertha.net/category/%e0%bd%82%e0%bd%a6...    གསར་རྩོམ།   \n",
       "4  https://sertha.net/category/%e0%bd%a3%e0%bd%bc...    ལོ་རྒྱུས།   \n",
       "\n",
       "                                      Last_page_link list_page_no  \n",
       "0           https://sertha.net/category/hhdl/page/3/            3  \n",
       "1  https://sertha.net/category/%E0%BD%A2%E0%BE%A9...            5  \n",
       "2                             no link last page link            0  \n",
       "3                             no link last page link            0  \n",
       "4  https://sertha.net/category/%E0%BD%A3%E0%BD%BC...            2  "
      ]
     },
     "execution_count": 46,
     "metadata": {},
     "output_type": "execute_result"
    }
   ],
   "source": [
    "df = pd.DataFrame(final_link, columns=[ 'original_url', 'name_of_cate', 'Last_page_link', 'list_page_no'])\n",
    "df.head()"
   ]
  },
  {
   "cell_type": "code",
   "execution_count": 47,
   "id": "53b3fcfa-ac75-4393-a6d6-ba7fdac59f70",
   "metadata": {},
   "outputs": [
    {
     "data": {
      "text/html": [
       "<div>\n",
       "<style scoped>\n",
       "    .dataframe tbody tr th:only-of-type {\n",
       "        vertical-align: middle;\n",
       "    }\n",
       "\n",
       "    .dataframe tbody tr th {\n",
       "        vertical-align: top;\n",
       "    }\n",
       "\n",
       "    .dataframe thead th {\n",
       "        text-align: right;\n",
       "    }\n",
       "</style>\n",
       "<table border=\"1\" class=\"dataframe\">\n",
       "  <thead>\n",
       "    <tr style=\"text-align: right;\">\n",
       "      <th></th>\n",
       "      <th>original_url</th>\n",
       "      <th>name_of_cate</th>\n",
       "      <th>Last_page_link</th>\n",
       "      <th>list_page_no</th>\n",
       "    </tr>\n",
       "  </thead>\n",
       "  <tbody>\n",
       "    <tr>\n",
       "      <th>0</th>\n",
       "      <td>https://sertha.net/category/hhdl/</td>\n",
       "      <td>༧གོང་ས་མཆོག</td>\n",
       "      <td>https://sertha.net/category/hhdl/page/3/</td>\n",
       "      <td>3</td>\n",
       "    </tr>\n",
       "    <tr>\n",
       "      <th>1</th>\n",
       "      <td>https://sertha.net/category/%e0%bd%a2%e0%be%a9...</td>\n",
       "      <td>རྩོམ་རིག</td>\n",
       "      <td>https://sertha.net/category/%E0%BD%A2%E0%BE%A9...</td>\n",
       "      <td>5</td>\n",
       "    </tr>\n",
       "    <tr>\n",
       "      <th>2</th>\n",
       "      <td>https://sertha.net/category/%e0%bd%a6%e0%be%b3...</td>\n",
       "      <td>སློབ་གསོ།</td>\n",
       "      <td>no link last page link</td>\n",
       "      <td>0</td>\n",
       "    </tr>\n",
       "    <tr>\n",
       "      <th>3</th>\n",
       "      <td>https://sertha.net/category/%e0%bd%82%e0%bd%a6...</td>\n",
       "      <td>གསར་རྩོམ།</td>\n",
       "      <td>no link last page link</td>\n",
       "      <td>0</td>\n",
       "    </tr>\n",
       "    <tr>\n",
       "      <th>4</th>\n",
       "      <td>https://sertha.net/category/%e0%bd%a3%e0%bd%bc...</td>\n",
       "      <td>ལོ་རྒྱུས།</td>\n",
       "      <td>https://sertha.net/category/%E0%BD%A3%E0%BD%BC...</td>\n",
       "      <td>2</td>\n",
       "    </tr>\n",
       "    <tr>\n",
       "      <th>5</th>\n",
       "      <td>https://sertha.net/category/%e0%bd%82%e0%bd%a6...</td>\n",
       "      <td>གསར་འགྱུར།</td>\n",
       "      <td>https://sertha.net/category/%E0%BD%82%E0%BD%A6...</td>\n",
       "      <td>2</td>\n",
       "    </tr>\n",
       "    <tr>\n",
       "      <th>6</th>\n",
       "      <td>https://sertha.net/category/%e0%bd%98%e0%bd%b2...</td>\n",
       "      <td>མི་སྣ་ངོ་སྤྲོད།</td>\n",
       "      <td>no link last page link</td>\n",
       "      <td>0</td>\n",
       "    </tr>\n",
       "    <tr>\n",
       "      <th>7</th>\n",
       "      <td>https://sertha.net/category/%e0%bd%a6%e0%be%b2...</td>\n",
       "      <td>སྲོལ་རྒྱུན།</td>\n",
       "      <td>no link last page link</td>\n",
       "      <td>0</td>\n",
       "    </tr>\n",
       "  </tbody>\n",
       "</table>\n",
       "</div>"
      ],
      "text/plain": [
       "                                        original_url     name_of_cate  \\\n",
       "0                  https://sertha.net/category/hhdl/      ༧གོང་ས་མཆོག   \n",
       "1  https://sertha.net/category/%e0%bd%a2%e0%be%a9...         རྩོམ་རིག   \n",
       "2  https://sertha.net/category/%e0%bd%a6%e0%be%b3...        སློབ་གསོ།   \n",
       "3  https://sertha.net/category/%e0%bd%82%e0%bd%a6...        གསར་རྩོམ།   \n",
       "4  https://sertha.net/category/%e0%bd%a3%e0%bd%bc...        ལོ་རྒྱུས།   \n",
       "5  https://sertha.net/category/%e0%bd%82%e0%bd%a6...       གསར་འགྱུར།   \n",
       "6  https://sertha.net/category/%e0%bd%98%e0%bd%b2...  མི་སྣ་ངོ་སྤྲོད།   \n",
       "7  https://sertha.net/category/%e0%bd%a6%e0%be%b2...      སྲོལ་རྒྱུན།   \n",
       "\n",
       "                                      Last_page_link list_page_no  \n",
       "0           https://sertha.net/category/hhdl/page/3/            3  \n",
       "1  https://sertha.net/category/%E0%BD%A2%E0%BE%A9...            5  \n",
       "2                             no link last page link            0  \n",
       "3                             no link last page link            0  \n",
       "4  https://sertha.net/category/%E0%BD%A3%E0%BD%BC...            2  \n",
       "5  https://sertha.net/category/%E0%BD%82%E0%BD%A6...            2  \n",
       "6                             no link last page link            0  \n",
       "7                             no link last page link            0  "
      ]
     },
     "execution_count": 47,
     "metadata": {},
     "output_type": "execute_result"
    }
   ],
   "source": [
    "df.head(30)"
   ]
  },
  {
   "cell_type": "code",
   "execution_count": null,
   "id": "68f72689-7f0b-4301-9cb8-e71dc582f3a3",
   "metadata": {},
   "outputs": [],
   "source": []
  },
  {
   "cell_type": "code",
   "execution_count": null,
   "id": "87b709f9-e16b-45fb-98d3-258d543a0606",
   "metadata": {},
   "outputs": [],
   "source": []
  },
  {
   "cell_type": "code",
   "execution_count": 48,
   "id": "7a9dddfc-9d54-4c6f-9457-a0ca703d678f",
   "metadata": {},
   "outputs": [],
   "source": [
    "df.to_csv(\"./data/All_cate.csv\", index=False)"
   ]
  },
  {
   "cell_type": "code",
   "execution_count": 49,
   "id": "b8ece6f1-8be4-45ac-bd8b-e65ed382227f",
   "metadata": {},
   "outputs": [
    {
     "data": {
      "text/plain": [
       "(8, 4)"
      ]
     },
     "execution_count": 49,
     "metadata": {},
     "output_type": "execute_result"
    }
   ],
   "source": [
    "df.shape"
   ]
  },
  {
   "cell_type": "code",
   "execution_count": null,
   "id": "48301f20-5243-4fc9-9ea0-b6e870b3b226",
   "metadata": {},
   "outputs": [],
   "source": []
  }
 ],
 "metadata": {
  "kernelspec": {
   "display_name": "Python 3 (ipykernel)",
   "language": "python",
   "name": "python3"
  },
  "language_info": {
   "codemirror_mode": {
    "name": "ipython",
    "version": 3
   },
   "file_extension": ".py",
   "mimetype": "text/x-python",
   "name": "python",
   "nbconvert_exporter": "python",
   "pygments_lexer": "ipython3",
   "version": "3.10.13"
  }
 },
 "nbformat": 4,
 "nbformat_minor": 5
}
