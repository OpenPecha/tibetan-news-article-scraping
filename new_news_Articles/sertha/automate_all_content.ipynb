{
 "cells": [
  {
   "cell_type": "code",
   "execution_count": 8,
   "id": "9970f2f1-657b-4cbd-8565-0eee49cca39d",
   "metadata": {},
   "outputs": [],
   "source": [
    "import requests\n",
    "from bs4 import BeautifulSoup\n",
    "import json\n",
    "import time\n",
    "from tqdm import tqdm\n",
    "import re\n",
    "import kbcmw_utils\n",
    "\n",
    "import os\n",
    "import json"
   ]
  },
  {
   "cell_type": "code",
   "execution_count": null,
   "id": "a112f119-3bf5-4f13-8b48-10d149243e0b",
   "metadata": {},
   "outputs": [],
   "source": []
  },
  {
   "cell_type": "code",
   "execution_count": null,
   "id": "0e623992-f0b0-4fe7-84de-09ecc347e067",
   "metadata": {},
   "outputs": [],
   "source": []
  },
  {
   "cell_type": "code",
   "execution_count": null,
   "id": "70934882-67aa-4c82-b2f8-2b708c9f7787",
   "metadata": {},
   "outputs": [],
   "source": []
  },
  {
   "cell_type": "code",
   "execution_count": 9,
   "id": "fc6b61ca-dad1-486b-a98a-5d615b2276c6",
   "metadata": {},
   "outputs": [],
   "source": [
    "import json\n",
    "from bs4 import Tag\n",
    "from tqdm import tqdm\n",
    "import kbcmw_utils\n",
    "import os\n",
    "\n",
    "class CustomJSONEncoder(json.JSONEncoder):\n",
    "    def default(self, obj):\n",
    "        if isinstance(obj, Tag):\n",
    "            return obj.get_text()  # Get all text from the tag\n",
    "        return str(obj)  # Convert any other non-serializable object to string\n",
    "\n",
    "def save_json(path, file_name, data):\n",
    "    try: \n",
    "        with open(path + file_name, \"w\", encoding='utf-8') as outfile:\n",
    "            json.dump(data, outfile, indent=4, ensure_ascii=False, cls=CustomJSONEncoder)\n",
    "        print(f\"Successfully saved: {file_name}\")\n",
    "    except Exception as e:\n",
    "        print(f\"Error saving {file_name}: {str(e)}\")\n",
    "\n",
    "def read_json(path, file_name):\n",
    "    try:\n",
    "        with open(path+file_name, 'r', encoding='utf-8') as openfile:\n",
    "            Loaded_file = json.load(openfile)\n",
    "            print(f\"Successfully loaded: {file_name}\")\n",
    "        return Loaded_file\n",
    "    except Exception as e:\n",
    "        print(f\"Error loading {file_name}: {str(e)}\")\n",
    "        return None\n",
    "\n",
    "def get_content(All_links_data, Total_lenght, page_key_code, page_key_list):\n",
    "    start = 0\n",
    "    all_article = {}\n",
    "    \n",
    "    for i in tqdm(range(start, Total_lenght)):\n",
    "        page_key = page_key_code + str(i)\n",
    "        all_link_page = All_links_data[page_key][\"Links\"]\n",
    "        page_article_index = 1\n",
    "        \n",
    "        for each_URL in all_link_page:\n",
    "            try:\n",
    "                article_content = kbcmw_utils.scrape_kbcmw_article_content(each_URL, tags=page_key_code)\n",
    "                article_key = page_key + \"_kbcmw_Article_\" + str(page_article_index)\n",
    "                page_article_index += 1\n",
    "                all_article[article_key] = article_content\n",
    "            except Exception as e:\n",
    "                print(f\"Error scraping {each_URL}: {str(e)}\")\n",
    "    \n",
    "    Failure_count = 0\n",
    "    for each_article_key in all_article:\n",
    "        if all_article[each_article_key][\"Response\"] != 200:\n",
    "            print(each_article_key)\n",
    "            Failure_count += 1\n",
    "    print(f\"total Failure in the {page_key_list[1]} article: {Failure_count}\")\n",
    "    \n",
    "    save_file_name = f\"kbcmw_ALL_content_{page_key_list[1]}.json\"\n",
    "    print(save_file_name)\n",
    "    path = \"./data/all_content/\"\n",
    "    save_json(path, save_file_name, all_article)\n",
    "\n",
    "def get_json_files(directory):\n",
    "    json_files = []\n",
    "    i = 0\n",
    "    for filename in os.listdir(directory):\n",
    "        if filename.endswith('.json'):\n",
    "            file_path = os.path.join(directory, filename)\n",
    "            try:\n",
    "                with open(file_path, 'r', encoding='utf-8') as file:\n",
    "                    i += 1\n",
    "                    All_links_data = json.load(file)\n",
    "                    Total_lenght = len(All_links_data)\n",
    "                    print(f\"Total page in {filename}: {Total_lenght}\")\n",
    "                \n",
    "                    print(f\"page key name: {list(All_links_data.keys())[-1]}\")\n",
    "                    page_key_list = list(All_links_data.keys())[-1].split(\" \")\n",
    "                    \n",
    "                    page_key_code = \"Page \"+page_key_list[1]+\" \"\n",
    "                    print(f\"Page key code: {page_key_code}\")\n",
    "                    get_content(All_links_data, Total_lenght, page_key_code, page_key_list)\n",
    "            except json.JSONDecodeError as e:\n",
    "                print(f\"Error decoding JSON in file {filename}: {str(e)}\")\n",
    "            except Exception as e:\n",
    "                print(f\"Error processing file {filename}: {str(e)}\")\n",
    "        # break\n",
    "    print(f\"Processed {i} files\")\n"
   ]
  },
  {
   "cell_type": "code",
   "execution_count": null,
   "id": "1361d296-333a-4df0-b635-e97143a53c9b",
   "metadata": {},
   "outputs": [],
   "source": []
  },
  {
   "cell_type": "code",
   "execution_count": null,
   "id": "e31e3cf7-67fc-4bb8-873e-31d860ad32d0",
   "metadata": {},
   "outputs": [
    {
     "name": "stdout",
     "output_type": "stream",
     "text": [
      "Total page in tibetcm_ALL_link_ཆེད་བསྒྲིགས་གསར་འགྱུར།.json: 4\n",
      "page key name: Page ཆེད་བསྒྲིགས་གསར་འགྱུར། 3\n",
      "Page key code: Page ཆེད་བསྒྲིགས་གསར་འགྱུར། \n"
     ]
    },
    {
     "name": "stderr",
     "output_type": "stream",
     "text": [
      "100%|██████████| 4/4 [11:19<00:00, 169.97s/it]\n"
     ]
    },
    {
     "name": "stdout",
     "output_type": "stream",
     "text": [
      "total Failure in the ཆེད་བསྒྲིགས་གསར་འགྱུར། article: 0\n",
      "kbcmw_ALL_content_ཆེད་བསྒྲིགས་གསར་འགྱུར།.json\n",
      "Successfully saved: kbcmw_ALL_content_ཆེད་བསྒྲིགས་གསར་འགྱུར།.json\n",
      "Total page in tibetcm_ALL_link_ཁམས་ཀྱི་ཁྱབ་ཁོངས།.json: 2\n",
      "page key name: Page ཁམས་ཀྱི་ཁྱབ་ཁོངས། 1\n",
      "Page key code: Page ཁམས་ཀྱི་ཁྱབ་ཁོངས། \n"
     ]
    },
    {
     "name": "stderr",
     "output_type": "stream",
     "text": [
      "100%|██████████| 2/2 [05:02<00:00, 151.31s/it]\n"
     ]
    },
    {
     "name": "stdout",
     "output_type": "stream",
     "text": [
      "total Failure in the ཁམས་ཀྱི་ཁྱབ་ཁོངས། article: 0\n",
      "kbcmw_ALL_content_ཁམས་ཀྱི་ཁྱབ་ཁོངས།.json\n",
      "Successfully saved: kbcmw_ALL_content_ཁམས་ཀྱི་ཁྱབ་ཁོངས།.json\n",
      "Total page in tibetcm_ALL_link_ཁམས་ཁུལ་གསར་འགྱུར།.json: 264\n",
      "page key name: Page ཁམས་ཁུལ་གསར་འགྱུར། 263\n",
      "Page key code: Page ཁམས་ཁུལ་གསར་འགྱུར། \n"
     ]
    },
    {
     "name": "stderr",
     "output_type": "stream",
     "text": [
      "  6%|▌         | 16/264 [2:01:06<68:35:00, 995.57s/it]"
     ]
    }
   ],
   "source": [
    "%%time\n",
    "# Example usage\n",
    "directory_path = './data/links/'\n",
    "get_json_files(directory_path)"
   ]
  },
  {
   "cell_type": "code",
   "execution_count": null,
   "id": "4f778ea5-f282-494d-b513-771817cec220",
   "metadata": {},
   "outputs": [],
   "source": []
  },
  {
   "cell_type": "code",
   "execution_count": null,
   "id": "1d90ba8d-24a0-4af1-95fe-420a6cf5bda9",
   "metadata": {},
   "outputs": [],
   "source": []
  },
  {
   "cell_type": "code",
   "execution_count": null,
   "id": "70cb042b-1c2c-48ea-8615-5ecdf29880a7",
   "metadata": {},
   "outputs": [],
   "source": []
  }
 ],
 "metadata": {
  "kernelspec": {
   "display_name": "Python 3 (ipykernel)",
   "language": "python",
   "name": "python3"
  },
  "language_info": {
   "codemirror_mode": {
    "name": "ipython",
    "version": 3
   },
   "file_extension": ".py",
   "mimetype": "text/x-python",
   "name": "python",
   "nbconvert_exporter": "python",
   "pygments_lexer": "ipython3",
   "version": "3.10.13"
  }
 },
 "nbformat": 4,
 "nbformat_minor": 5
}
