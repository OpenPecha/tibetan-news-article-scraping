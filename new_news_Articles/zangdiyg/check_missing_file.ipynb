{
 "cells": [
  {
   "cell_type": "code",
   "execution_count": 3,
   "id": "3a461d57-2faf-4cbe-8847-30750eee0544",
   "metadata": {},
   "outputs": [],
   "source": [
    "import os"
   ]
  },
  {
   "cell_type": "code",
   "execution_count": 4,
   "id": "bf585d8f-0e00-4241-b333-ff3069f824ae",
   "metadata": {},
   "outputs": [],
   "source": [
    "directory = './data/links/'"
   ]
  },
  {
   "cell_type": "code",
   "execution_count": 5,
   "id": "7491e53b-78da-49af-a4f3-b043d7b86884",
   "metadata": {
    "scrolled": true
   },
   "outputs": [
    {
     "data": {
      "text/plain": [
       "['./data/links/zangdiyg_ALL_link_རྒྱལ་སྤྱི་གསར་འགྱུར།.json',\n",
       " './data/links/zangdiyg_ALL_link_རྒྱལ་ནང་གསར་འགྱུར།.json',\n",
       " './data/links/zangdiyg_ALL_link_སི་ཁྲོན་གསར་འགྱུར།.json',\n",
       " './data/links/zangdiyg_ALL_link_བོད་འབྲེལ་ས་ཁུལ།.json',\n",
       " './data/links/zangdiyg_ALL_link_སྒྲུང་གཏམ།.json',\n",
       " './data/links/zangdiyg_ALL_link_ལྷུག་རྩོམ།.json',\n",
       " './data/links/zangdiyg_ALL_link_སྙན་རྩོམ།.json',\n",
       " './data/links/zangdiyg_ALL_link_བསྒྱུར་རྩོམ།.json',\n",
       " './data/links/zangdiyg_ALL_link_དཔྱད་རྩོམ།.json',\n",
       " './data/links/zangdiyg_ALL_link_ལག་རྩལ།.json',\n",
       " './data/links/zangdiyg_ALL_link_རི་མོ།.json',\n",
       " './data/links/zangdiyg_ALL_link_ཡིག་གཟུགས།.json',\n",
       " './data/links/zangdiyg_ALL_link_སྒྱུ་རྩལ་ཞིབ་འཇུག.json',\n",
       " './data/links/zangdiyg_ALL_link_དམངས་རྩོམ།.json',\n",
       " './data/links/zangdiyg_ALL_link_དུས་ཆེན།.json',\n",
       " './data/links/zangdiyg_ALL_link_གཉེན་སྟོན།.json',\n",
       " './data/links/zangdiyg_ALL_link_གུས་ལུགས།.json',\n",
       " './data/links/zangdiyg_ALL_link_དུར་འཇུག.json',\n",
       " './data/links/zangdiyg_ALL_link_བཟའ་ཆས།.json',\n",
       " './data/links/zangdiyg_ALL_link_བཤད་པ།.json',\n",
       " './data/links/zangdiyg_ALL_link_བསང་མཆོད།.json',\n",
       " './data/links/zangdiyg_ALL_link_རྒྱན་གོས།.json',\n",
       " './data/links/zangdiyg_ALL_link_རི་ཆུའི་རིག་གནས།.json',\n",
       " './data/links/zangdiyg_ALL_link_དགོན་སྡེ།.json',\n",
       " './data/links/zangdiyg_ALL_link_ཡུལ་སྐོར་ཟིན་བྲིས།.json',\n",
       " './data/links/zangdiyg_ALL_link_རྒྱ་ནག་ཡུལ་གྱི་གནས་ཆེན།.json',\n",
       " './data/links/zangdiyg_ALL_link_ལོ་རྒྱུས།.json',\n",
       " './data/links/zangdiyg_ALL_link_ཆོས་ལུགས།.json',\n",
       " './data/links/zangdiyg_ALL_link_སྐད་ཡིག.json',\n",
       " './data/links/zangdiyg_ALL_link_རྒྱལ་རོང་ཞིབ་འཇུག.json',\n",
       " './data/links/zangdiyg_ALL_link_སྟག་ངར་གཡག་ངར།.json',\n",
       " './data/links/zangdiyg_ALL_link_ཀུན་འདུས།.json',\n",
       " './data/links/zangdiyg_ALL_link_རྟོག་ཞིབ།.json',\n",
       " './data/links/zangdiyg_ALL_link_གནའ་ཤུལ།.json',\n",
       " './data/links/zangdiyg_ALL_link_སྒྲུང་།.json',\n",
       " './data/links/zangdiyg_ALL_link_སྒྲུང་མཁན།.json',\n",
       " './data/links/zangdiyg_ALL_link_རྗེས་ཤུལ།.json',\n",
       " './data/links/zangdiyg_ALL_link_རྩི་ཤིང་།.json',\n",
       " './data/links/zangdiyg_ALL_link_ཤེས་བྱ།.json',\n",
       " './data/links/zangdiyg_ALL_link_སྲོག་ཆགས།.json',\n",
       " './data/links/zangdiyg_ALL_link_རྒྱལ་ཁབ་བཅའ་ཁྲིམས།.json',\n",
       " './data/links/zangdiyg_ALL_link_རང་སྐྱོང་ཁྲིམས་སྲོལ།.json',\n",
       " './data/links/zangdiyg_ALL_link_སྲིད་ཇུས་འགྲེལ་བཤད།.json',\n",
       " './data/links/zangdiyg_ALL_link_ཁྲིམས་ལུགས་ཤེས་བྱ།.json',\n",
       " './data/links/zangdiyg_ALL_link_གྱོད་དཔེ་འདེམས་བཀོད།.json',\n",
       " './data/links/zangdiyg_ALL_link_བོད་ཀྱི་གནའ་ཁྲིམས།.json',\n",
       " './data/links/zangdiyg_ALL_link_བོད་ཀྱི་གསོ་རིག.json',\n",
       " './data/links/zangdiyg_ALL_link_བདེ་ཐང་ཤེས་བྱ།.json',\n",
       " './data/links/zangdiyg_ALL_link_འཚོ་བའི་རྒྱུན་ཤེས།.json',\n",
       " './data/links/zangdiyg_ALL_link_སྐད་གཉིས་སློབ་གསོ།.json',\n",
       " './data/links/zangdiyg_ALL_link_སློབ་གསོའི་ཉམས་མྱོང་།.json',\n",
       " './data/links/zangdiyg_ALL_link_སྲོལ་རྒྱུན་སློབ་གསོ།.json',\n",
       " './data/links/zangdiyg_ALL_link_བོད་ཁུལ་སློབ་གྲྭ།.json',\n",
       " './data/links/zangdiyg_ALL_link_ཁྱིམ་ཚང་སློབ་གསོ།.json']"
      ]
     },
     "execution_count": 5,
     "metadata": {},
     "output_type": "execute_result"
    }
   ],
   "source": [
    "json_files = [os.path.join(directory, f) for f in os.listdir(directory) if f.endswith('.json')]\n",
    "json_files"
   ]
  },
  {
   "cell_type": "code",
   "execution_count": 6,
   "id": "9da14d91-e9c1-4171-93cf-497f6fb9f9f0",
   "metadata": {},
   "outputs": [
    {
     "data": {
      "text/plain": [
       "54"
      ]
     },
     "execution_count": 6,
     "metadata": {},
     "output_type": "execute_result"
    }
   ],
   "source": [
    "len(json_files)"
   ]
  },
  {
   "cell_type": "code",
   "execution_count": 7,
   "id": "b885050f-30e4-4aee-ad33-a29f70f66362",
   "metadata": {},
   "outputs": [],
   "source": [
    "path_name_list = []\n",
    "\n",
    "for each_path in json_files:\n",
    "    # Split the filename by underscore\n",
    "    parts = each_path.split('_')\n",
    "    \n",
    "    # The Tibetan word is the last part, without the .json extension\n",
    "    tibetan_word = parts[-1].split('.')[0]\n",
    "\n",
    "    path_name_list.append(tibetan_word)\n",
    "    \n",
    "    # print(f\"The extracted Tibetan word is: {tibetan_word}\")"
   ]
  },
  {
   "cell_type": "code",
   "execution_count": 8,
   "id": "d922339f-fce6-4910-bbea-d1a063e1403a",
   "metadata": {},
   "outputs": [
    {
     "data": {
      "text/plain": [
       "54"
      ]
     },
     "execution_count": 8,
     "metadata": {},
     "output_type": "execute_result"
    }
   ],
   "source": [
    "len(path_name_list)"
   ]
  },
  {
   "cell_type": "code",
   "execution_count": null,
   "id": "e736c403-97e2-4e8f-8146-52d0237e14e9",
   "metadata": {},
   "outputs": [],
   "source": []
  },
  {
   "cell_type": "code",
   "execution_count": null,
   "id": "ffa43eff-8e7f-414e-b21e-3058202a0b1d",
   "metadata": {},
   "outputs": [],
   "source": []
  },
  {
   "cell_type": "code",
   "execution_count": null,
   "id": "ae03b49f-ab8e-4e8e-86f4-2a964597bff5",
   "metadata": {},
   "outputs": [],
   "source": []
  },
  {
   "cell_type": "code",
   "execution_count": 9,
   "id": "7e7ef688-a638-476f-9cba-7a46b999501e",
   "metadata": {},
   "outputs": [],
   "source": [
    "directory_parallel = './data/parallel_content/'"
   ]
  },
  {
   "cell_type": "code",
   "execution_count": 10,
   "id": "487f6f4d-c25d-43e5-9114-a6660bc28417",
   "metadata": {},
   "outputs": [
    {
     "data": {
      "text/plain": [
       "54"
      ]
     },
     "execution_count": 10,
     "metadata": {},
     "output_type": "execute_result"
    }
   ],
   "source": [
    "json_files_parallel = [os.path.join(directory_parallel, f) for f in os.listdir(directory_parallel) if f.endswith('.json')]\n",
    "len(json_files_parallel)"
   ]
  },
  {
   "cell_type": "code",
   "execution_count": 11,
   "id": "e2f1ad39-89dd-408c-93c4-fa5b85426294",
   "metadata": {},
   "outputs": [],
   "source": [
    "path_content_list = []\n",
    "\n",
    "for each_path in json_files_parallel:\n",
    "    # Split the filename by underscore\n",
    "    parts = each_path.split('_')\n",
    "    \n",
    "    # The Tibetan word is the last part, without the .json extension\n",
    "    tibetan_word = parts[-1].split('.')[0]\n",
    "\n",
    "    path_content_list.append(tibetan_word)\n",
    "    \n",
    "    # print(f\"The extracted Tibetan word is: {tibetan_word}\")"
   ]
  },
  {
   "cell_type": "code",
   "execution_count": 12,
   "id": "44f19689-37d5-4c1e-8b6a-1531f7df2618",
   "metadata": {},
   "outputs": [
    {
     "data": {
      "text/plain": [
       "54"
      ]
     },
     "execution_count": 12,
     "metadata": {},
     "output_type": "execute_result"
    }
   ],
   "source": [
    "len(path_content_list)"
   ]
  },
  {
   "cell_type": "code",
   "execution_count": null,
   "id": "b128dec0-7324-42b3-9b7f-35f21d0e92eb",
   "metadata": {},
   "outputs": [],
   "source": []
  },
  {
   "cell_type": "code",
   "execution_count": null,
   "id": "76bc7d4d-ca03-42c8-9b3f-917dac982432",
   "metadata": {},
   "outputs": [],
   "source": []
  },
  {
   "cell_type": "code",
   "execution_count": 13,
   "id": "02b4a310-136a-48d2-87a3-fdbdbe362352",
   "metadata": {},
   "outputs": [],
   "source": [
    "for each_link in path_name_list:\n",
    "    if each_link not in path_content_list:\n",
    "        print(each_link)"
   ]
  },
  {
   "cell_type": "code",
   "execution_count": null,
   "id": "9589407f-000f-4371-9681-1b341481965d",
   "metadata": {},
   "outputs": [],
   "source": []
  },
  {
   "cell_type": "code",
   "execution_count": null,
   "id": "5cb71c69-15ae-41d8-9e53-6567339e7042",
   "metadata": {},
   "outputs": [],
   "source": []
  },
  {
   "cell_type": "code",
   "execution_count": null,
   "id": "3fc1e5b9-54eb-4cf7-b8e8-92a37375bea5",
   "metadata": {},
   "outputs": [],
   "source": []
  },
  {
   "cell_type": "code",
   "execution_count": null,
   "id": "9b01876d-631e-4f05-97b8-cfa25704dcd8",
   "metadata": {},
   "outputs": [],
   "source": []
  }
 ],
 "metadata": {
  "kernelspec": {
   "display_name": "Python 3 (ipykernel)",
   "language": "python",
   "name": "python3"
  },
  "language_info": {
   "codemirror_mode": {
    "name": "ipython",
    "version": 3
   },
   "file_extension": ".py",
   "mimetype": "text/x-python",
   "name": "python",
   "nbconvert_exporter": "python",
   "pygments_lexer": "ipython3",
   "version": "3.10.13"
  }
 },
 "nbformat": 4,
 "nbformat_minor": 5
}
