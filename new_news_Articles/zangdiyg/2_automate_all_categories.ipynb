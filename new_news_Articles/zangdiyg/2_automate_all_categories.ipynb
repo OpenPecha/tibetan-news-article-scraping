{
 "cells": [
  {
   "cell_type": "code",
   "execution_count": 18,
   "id": "40147810-a5ac-49c4-9891-123f743b40eb",
   "metadata": {},
   "outputs": [],
   "source": [
    "import requests\n",
    "from bs4 import BeautifulSoup\n",
    "import json\n",
    "import time\n",
    "\n",
    "from tqdm import tqdm"
   ]
  },
  {
   "cell_type": "code",
   "execution_count": 19,
   "id": "7c3970d1-04ce-402d-afa7-fbf8323f6284",
   "metadata": {},
   "outputs": [],
   "source": [
    "import zangdiyg_utils\n",
    "import pandas as pd"
   ]
  },
  {
   "cell_type": "code",
   "execution_count": null,
   "id": "ca1d7bbc-d27b-4c64-aa2d-5d27409915d7",
   "metadata": {},
   "outputs": [],
   "source": []
  },
  {
   "cell_type": "markdown",
   "id": "685b9b9e-98a7-4a1f-a674-2125437e3fe4",
   "metadata": {},
   "source": [
    "## Here we will extract all the articles links from https://ti.zangdiyg.com/index/index.html webpage\n",
    "URL:  https://ti.zangdiyg.com/index/index.html"
   ]
  },
  {
   "cell_type": "markdown",
   "id": "95f69b28-a91e-479a-9d51-3e2d466692a6",
   "metadata": {},
   "source": [
    "Tabs not extracted:\n",
    "\n",
    "- ('གཙོ་ངོས།', 'https://ti.zangdiyg.com/index/index.html'),\n",
    "- ('མི་སྣ།', 'https://ti.zangdiyg.com/people/index.html'),\n",
    "- ('དུས་དེབ།', 'https://ti.zangdiyg.comhttp://magzine.zangdiyg.com'),\n",
    "- ('བརྙན་འཕྲིན།', 'https://ti.zangdiyg.comhttps://video.zangdiyg.com/'),\n",
    "- ('འཚོལ་བཤེར།', 'https://ti.zangdiyg.com/search/index.html'),\n",
    "- ('汉文网站', 'https://ti.zangdiyg.comhttps://www.zangdiyg.com')"
   ]
  },
  {
   "cell_type": "code",
   "execution_count": null,
   "id": "53f131a3-9008-4061-a1c1-191bf90cab51",
   "metadata": {},
   "outputs": [],
   "source": []
  },
  {
   "cell_type": "markdown",
   "id": "acd071a1-9fce-42e8-9d49-0e71dc3b42e4",
   "metadata": {},
   "source": [
    "\n",
    "------------\n",
    "-----------\n",
    "------------\n",
    "------------\n",
    "------------"
   ]
  },
  {
   "cell_type": "code",
   "execution_count": 20,
   "id": "467da2b4-69ca-4b77-b0b5-01ec39d844bc",
   "metadata": {},
   "outputs": [],
   "source": [
    "def loop_article_page(total_page, custom_url, key_code, base_url):\n",
    "    \"\"\"\n",
    "    \n",
    "    \"\"\"\n",
    "    return_file = {\n",
    "        \"Data\": [],\n",
    "        \"message\": \"success\",\n",
    "        \"response\": 200\n",
    "    }\n",
    "    All_url_links = {}\n",
    "    if total_page == 0:\n",
    "        total_page = 1\n",
    "    \n",
    "    try:\n",
    "        for i in tqdm(range(1, total_page+1)):\n",
    "            final_url = custom_url+ \"/p/\" + str(i) + \".html\"\n",
    "            found_url_links = zangdiyg_utils.extract_zangdiyg_page_article_links(final_url, base_url)\n",
    "            key = key_code + str(i)\n",
    "            All_url_links[key] = found_url_links\n",
    "        return_file[\"Data\"] = All_url_links\n",
    "        return return_file\n",
    "    \n",
    "    except Exception as e:\n",
    "        return_file[\"Data\"] = All_url_links\n",
    "        return_file[\"message\"] = e\n",
    "        return_file[\"response\"] = 404\n",
    "        return return_file"
   ]
  },
  {
   "cell_type": "code",
   "execution_count": 21,
   "id": "36d048db-f75b-4bbf-99ba-333eb7639175",
   "metadata": {},
   "outputs": [],
   "source": [
    "def check_error_in_links(All_url_link, page_code, print_each_error=False):\n",
    "    \"\"\"\n",
    "    \n",
    "    \n",
    "    \"\"\"\n",
    "\n",
    "    error_counter = 0\n",
    "    for page_id in range(1, len(All_url_link)):\n",
    "        page_key = page_code + str(page_id)\n",
    "        try:\n",
    "            All_url_link.get(page_key)\n",
    "            if  All_url_link.get(page_key)[\"Response\"]!= 200:\n",
    "                error_counter += 1\n",
    "                if print_each_error:\n",
    "                    print(page_key, All_url_link.get(page_key)[\"message\"])\n",
    "        except Exception as e:\n",
    "            print(page_key, e)\n",
    "\n",
    "    print(f\"Total error in {page_code}: {error_counter}\")"
   ]
  },
  {
   "cell_type": "code",
   "execution_count": 22,
   "id": "43edc8d7-14ca-44e8-9fda-7ec78d5e7fe8",
   "metadata": {},
   "outputs": [],
   "source": [
    "def save_json(path, file_name, data):\n",
    "    \"\"\"\n",
    "    \n",
    "    \"\"\"\n",
    "    with open(path+file_name, \"w\") as outfile:\n",
    "        json.dump(data, outfile, indent=4, ensure_ascii=False)\n",
    "        print(f\"\\n\\nSuccessfully saved: {file_name}\")"
   ]
  },
  {
   "cell_type": "code",
   "execution_count": null,
   "id": "1f46d139-cd34-40d1-be5f-93f40630ccbb",
   "metadata": {},
   "outputs": [],
   "source": []
  },
  {
   "cell_type": "code",
   "execution_count": null,
   "id": "2dfeb92c-62d7-404c-83cc-f2ec569ddadb",
   "metadata": {},
   "outputs": [],
   "source": []
  },
  {
   "cell_type": "markdown",
   "id": "8285b51c-3a40-4e55-bf05-b132ecb3d64c",
   "metadata": {},
   "source": [
    "### all data"
   ]
  },
  {
   "cell_type": "code",
   "execution_count": 23,
   "id": "25b41ef0-af0c-4cee-ad0f-2e6c73282629",
   "metadata": {},
   "outputs": [
    {
     "data": {
      "text/html": [
       "<div>\n",
       "<style scoped>\n",
       "    .dataframe tbody tr th:only-of-type {\n",
       "        vertical-align: middle;\n",
       "    }\n",
       "\n",
       "    .dataframe tbody tr th {\n",
       "        vertical-align: top;\n",
       "    }\n",
       "\n",
       "    .dataframe thead th {\n",
       "        text-align: right;\n",
       "    }\n",
       "</style>\n",
       "<table border=\"1\" class=\"dataframe\">\n",
       "  <thead>\n",
       "    <tr style=\"text-align: right;\">\n",
       "      <th></th>\n",
       "      <th>name_of_cate</th>\n",
       "      <th>original_url</th>\n",
       "      <th>Last_page_link</th>\n",
       "      <th>list_page_no</th>\n",
       "    </tr>\n",
       "  </thead>\n",
       "  <tbody>\n",
       "    <tr>\n",
       "      <th>0</th>\n",
       "      <td>རྒྱལ་སྤྱི་གསར་འགྱུར།</td>\n",
       "      <td>https://ti.zangdiyg.com/category/index/id/134....</td>\n",
       "      <td>&lt;a class=\"end\" href=\"/category/index/id/134/p/...</td>\n",
       "      <td>76</td>\n",
       "    </tr>\n",
       "    <tr>\n",
       "      <th>1</th>\n",
       "      <td>རྒྱལ་ནང་གསར་འགྱུར།</td>\n",
       "      <td>https://ti.zangdiyg.com/category/index/id/135....</td>\n",
       "      <td>&lt;a class=\"end\" href=\"/category/index/id/135/p/...</td>\n",
       "      <td>198</td>\n",
       "    </tr>\n",
       "    <tr>\n",
       "      <th>2</th>\n",
       "      <td>སི་ཁྲོན་གསར་འགྱུར།</td>\n",
       "      <td>https://ti.zangdiyg.com/category/index/id/151....</td>\n",
       "      <td>&lt;a class=\"end\" href=\"/category/index/id/151/p/...</td>\n",
       "      <td>213</td>\n",
       "    </tr>\n",
       "    <tr>\n",
       "      <th>3</th>\n",
       "      <td>བོད་འབྲེལ་ས་ཁུལ།</td>\n",
       "      <td>https://ti.zangdiyg.com/category/index/id/152....</td>\n",
       "      <td>&lt;a class=\"end\" href=\"/category/index/id/152/p/...</td>\n",
       "      <td>185</td>\n",
       "    </tr>\n",
       "    <tr>\n",
       "      <th>4</th>\n",
       "      <td>སྒྲུང་གཏམ།</td>\n",
       "      <td>https://ti.zangdiyg.com/category/index/id/91.html</td>\n",
       "      <td>&lt;a class=\"num\" href=\"/category/index/id/91/p/4...</td>\n",
       "      <td>4</td>\n",
       "    </tr>\n",
       "    <tr>\n",
       "      <th>5</th>\n",
       "      <td>ལྷུག་རྩོམ།</td>\n",
       "      <td>https://ti.zangdiyg.com/category/index/id/92.html</td>\n",
       "      <td>&lt;a class=\"num\" href=\"/category/index/id/92/p/1...</td>\n",
       "      <td>10</td>\n",
       "    </tr>\n",
       "    <tr>\n",
       "      <th>6</th>\n",
       "      <td>སྙན་རྩོམ།</td>\n",
       "      <td>https://ti.zangdiyg.com/category/index/id/93.html</td>\n",
       "      <td>&lt;a class=\"end\" href=\"/category/index/id/93/p/1...</td>\n",
       "      <td>18</td>\n",
       "    </tr>\n",
       "    <tr>\n",
       "      <th>7</th>\n",
       "      <td>བསྒྱུར་རྩོམ།</td>\n",
       "      <td>https://ti.zangdiyg.com/category/index/id/94.html</td>\n",
       "      <td>&lt;a class=\"num\" href=\"/category/index/id/94/p/4...</td>\n",
       "      <td>4</td>\n",
       "    </tr>\n",
       "    <tr>\n",
       "      <th>8</th>\n",
       "      <td>དཔྱད་རྩོམ།</td>\n",
       "      <td>https://ti.zangdiyg.com/category/index/id/237....</td>\n",
       "      <td>&lt;a class=\"num\" href=\"/category/index/id/237/p/...</td>\n",
       "      <td>7</td>\n",
       "    </tr>\n",
       "    <tr>\n",
       "      <th>9</th>\n",
       "      <td>ལག་རྩལ།</td>\n",
       "      <td>https://ti.zangdiyg.com/category/index/id/61.html</td>\n",
       "      <td>&lt;a class=\"num\" href=\"/category/index/id/61/p/5...</td>\n",
       "      <td>5</td>\n",
       "    </tr>\n",
       "    <tr>\n",
       "      <th>10</th>\n",
       "      <td>རི་མོ།</td>\n",
       "      <td>https://ti.zangdiyg.com/category/index/id/63.html</td>\n",
       "      <td>&lt;a class=\"num\" href=\"/category/index/id/63/p/4...</td>\n",
       "      <td>4</td>\n",
       "    </tr>\n",
       "    <tr>\n",
       "      <th>11</th>\n",
       "      <td>ཡིག་གཟུགས།</td>\n",
       "      <td>https://ti.zangdiyg.com/category/index/id/64.html</td>\n",
       "      <td>&lt;a class=\"num\" href=\"/category/index/id/64/p/3...</td>\n",
       "      <td>3</td>\n",
       "    </tr>\n",
       "    <tr>\n",
       "      <th>12</th>\n",
       "      <td>སྒྱུ་རྩལ་ཞིབ་འཇུག</td>\n",
       "      <td>https://ti.zangdiyg.com/category/index/id/75.html</td>\n",
       "      <td>&lt;a class=\"num\" href=\"/category/index/id/75/p/6...</td>\n",
       "      <td>6</td>\n",
       "    </tr>\n",
       "    <tr>\n",
       "      <th>13</th>\n",
       "      <td>དམངས་རྩོམ།</td>\n",
       "      <td>https://ti.zangdiyg.com/category/index/id/70.html</td>\n",
       "      <td>&lt;a class=\"num\" href=\"/category/index/id/70/p/6...</td>\n",
       "      <td>6</td>\n",
       "    </tr>\n",
       "    <tr>\n",
       "      <th>14</th>\n",
       "      <td>དུས་ཆེན།</td>\n",
       "      <td>https://ti.zangdiyg.com/category/index/id/72.html</td>\n",
       "      <td>&lt;a class=\"num\" href=\"/category/index/id/72/p/6...</td>\n",
       "      <td>6</td>\n",
       "    </tr>\n",
       "    <tr>\n",
       "      <th>15</th>\n",
       "      <td>གཉེན་སྟོན།</td>\n",
       "      <td>https://ti.zangdiyg.com/category/index/id/154....</td>\n",
       "      <td>&lt;a class=\"num\" href=\"/category/index/id/154/p/...</td>\n",
       "      <td>3</td>\n",
       "    </tr>\n",
       "    <tr>\n",
       "      <th>16</th>\n",
       "      <td>གུས་ལུགས།</td>\n",
       "      <td>https://ti.zangdiyg.com/category/index/id/155....</td>\n",
       "      <td>&lt;a class=\"num\" href=\"/category/index/id/155/p/...</td>\n",
       "      <td>3</td>\n",
       "    </tr>\n",
       "    <tr>\n",
       "      <th>17</th>\n",
       "      <td>དུར་འཇུག</td>\n",
       "      <td>https://ti.zangdiyg.com/category/index/id/156....</td>\n",
       "      <td>&lt;a class=\"num\" href=\"/category/index/id/156/p/...</td>\n",
       "      <td>2</td>\n",
       "    </tr>\n",
       "    <tr>\n",
       "      <th>18</th>\n",
       "      <td>བཟའ་ཆས།</td>\n",
       "      <td>https://ti.zangdiyg.com/category/index/id/157....</td>\n",
       "      <td>&lt;a class=\"num\" href=\"/category/index/id/157/p/...</td>\n",
       "      <td>6</td>\n",
       "    </tr>\n",
       "    <tr>\n",
       "      <th>19</th>\n",
       "      <td>བཤད་པ།</td>\n",
       "      <td>https://ti.zangdiyg.com/category/index/id/158....</td>\n",
       "      <td>&lt;a class=\"num\" href=\"/category/index/id/158/p/...</td>\n",
       "      <td>6</td>\n",
       "    </tr>\n",
       "  </tbody>\n",
       "</table>\n",
       "</div>"
      ],
      "text/plain": [
       "            name_of_cate                                       original_url  \\\n",
       "0   རྒྱལ་སྤྱི་གསར་འགྱུར།  https://ti.zangdiyg.com/category/index/id/134....   \n",
       "1     རྒྱལ་ནང་གསར་འགྱུར།  https://ti.zangdiyg.com/category/index/id/135....   \n",
       "2     སི་ཁྲོན་གསར་འགྱུར།  https://ti.zangdiyg.com/category/index/id/151....   \n",
       "3       བོད་འབྲེལ་ས་ཁུལ།  https://ti.zangdiyg.com/category/index/id/152....   \n",
       "4             སྒྲུང་གཏམ།  https://ti.zangdiyg.com/category/index/id/91.html   \n",
       "5             ལྷུག་རྩོམ།  https://ti.zangdiyg.com/category/index/id/92.html   \n",
       "6              སྙན་རྩོམ།  https://ti.zangdiyg.com/category/index/id/93.html   \n",
       "7           བསྒྱུར་རྩོམ།  https://ti.zangdiyg.com/category/index/id/94.html   \n",
       "8             དཔྱད་རྩོམ།  https://ti.zangdiyg.com/category/index/id/237....   \n",
       "9                ལག་རྩལ།  https://ti.zangdiyg.com/category/index/id/61.html   \n",
       "10                རི་མོ།  https://ti.zangdiyg.com/category/index/id/63.html   \n",
       "11            ཡིག་གཟུགས།  https://ti.zangdiyg.com/category/index/id/64.html   \n",
       "12     སྒྱུ་རྩལ་ཞིབ་འཇུག  https://ti.zangdiyg.com/category/index/id/75.html   \n",
       "13            དམངས་རྩོམ།  https://ti.zangdiyg.com/category/index/id/70.html   \n",
       "14              དུས་ཆེན།  https://ti.zangdiyg.com/category/index/id/72.html   \n",
       "15            གཉེན་སྟོན།  https://ti.zangdiyg.com/category/index/id/154....   \n",
       "16             གུས་ལུགས།  https://ti.zangdiyg.com/category/index/id/155....   \n",
       "17              དུར་འཇུག  https://ti.zangdiyg.com/category/index/id/156....   \n",
       "18               བཟའ་ཆས།  https://ti.zangdiyg.com/category/index/id/157....   \n",
       "19                བཤད་པ།  https://ti.zangdiyg.com/category/index/id/158....   \n",
       "\n",
       "                                       Last_page_link  list_page_no  \n",
       "0   <a class=\"end\" href=\"/category/index/id/134/p/...            76  \n",
       "1   <a class=\"end\" href=\"/category/index/id/135/p/...           198  \n",
       "2   <a class=\"end\" href=\"/category/index/id/151/p/...           213  \n",
       "3   <a class=\"end\" href=\"/category/index/id/152/p/...           185  \n",
       "4   <a class=\"num\" href=\"/category/index/id/91/p/4...             4  \n",
       "5   <a class=\"num\" href=\"/category/index/id/92/p/1...            10  \n",
       "6   <a class=\"end\" href=\"/category/index/id/93/p/1...            18  \n",
       "7   <a class=\"num\" href=\"/category/index/id/94/p/4...             4  \n",
       "8   <a class=\"num\" href=\"/category/index/id/237/p/...             7  \n",
       "9   <a class=\"num\" href=\"/category/index/id/61/p/5...             5  \n",
       "10  <a class=\"num\" href=\"/category/index/id/63/p/4...             4  \n",
       "11  <a class=\"num\" href=\"/category/index/id/64/p/3...             3  \n",
       "12  <a class=\"num\" href=\"/category/index/id/75/p/6...             6  \n",
       "13  <a class=\"num\" href=\"/category/index/id/70/p/6...             6  \n",
       "14  <a class=\"num\" href=\"/category/index/id/72/p/6...             6  \n",
       "15  <a class=\"num\" href=\"/category/index/id/154/p/...             3  \n",
       "16  <a class=\"num\" href=\"/category/index/id/155/p/...             3  \n",
       "17  <a class=\"num\" href=\"/category/index/id/156/p/...             2  \n",
       "18  <a class=\"num\" href=\"/category/index/id/157/p/...             6  \n",
       "19  <a class=\"num\" href=\"/category/index/id/158/p/...             6  "
      ]
     },
     "execution_count": 23,
     "metadata": {},
     "output_type": "execute_result"
    }
   ],
   "source": [
    "df = pd.read_csv(\"./data/All_cate.csv\")\n",
    "df.head(20)"
   ]
  },
  {
   "cell_type": "code",
   "execution_count": 24,
   "id": "3d271a88-5471-41a0-bd2d-838eca8b02d0",
   "metadata": {},
   "outputs": [],
   "source": [
    "sample_df = df"
   ]
  },
  {
   "cell_type": "code",
   "execution_count": 25,
   "id": "01bc0c85-ba0a-4e57-a946-cb8fb04cf7cc",
   "metadata": {},
   "outputs": [],
   "source": [
    "file_name_code = \"zangdiyg\""
   ]
  },
  {
   "cell_type": "code",
   "execution_count": 26,
   "id": "81485921-1ab2-4589-9c7d-ab4ff580093d",
   "metadata": {},
   "outputs": [
    {
     "name": "stderr",
     "output_type": "stream",
     "text": [
      "100%|██████████| 76/76 [01:24<00:00,  1.12s/it]\n"
     ]
    },
    {
     "name": "stdout",
     "output_type": "stream",
     "text": [
      "Total page in རྒྱལ་སྤྱི་གསར་འགྱུར།: 76\n",
      "Total error in Page རྒྱལ་སྤྱི་གསར་འགྱུར། : 0\n",
      "\n",
      "\n",
      "Successfully saved: zangdiyg_ALL_link_རྒྱལ་སྤྱི་གསར་འགྱུར།.json\n"
     ]
    },
    {
     "name": "stderr",
     "output_type": "stream",
     "text": [
      "100%|██████████| 198/198 [03:49<00:00,  1.16s/it]\n"
     ]
    },
    {
     "name": "stdout",
     "output_type": "stream",
     "text": [
      "Total page in རྒྱལ་ནང་གསར་འགྱུར།: 198\n",
      "Total error in Page རྒྱལ་ནང་གསར་འགྱུར། : 0\n",
      "\n",
      "\n",
      "Successfully saved: zangdiyg_ALL_link_རྒྱལ་ནང་གསར་འགྱུར།.json\n"
     ]
    },
    {
     "name": "stderr",
     "output_type": "stream",
     "text": [
      "100%|██████████| 213/213 [04:10<00:00,  1.18s/it]\n"
     ]
    },
    {
     "name": "stdout",
     "output_type": "stream",
     "text": [
      "Total page in སི་ཁྲོན་གསར་འགྱུར།: 213\n",
      "Total error in Page སི་ཁྲོན་གསར་འགྱུར། : 0\n",
      "\n",
      "\n",
      "Successfully saved: zangdiyg_ALL_link_སི་ཁྲོན་གསར་འགྱུར།.json\n"
     ]
    },
    {
     "name": "stderr",
     "output_type": "stream",
     "text": [
      "100%|██████████| 185/185 [03:36<00:00,  1.17s/it]\n"
     ]
    },
    {
     "name": "stdout",
     "output_type": "stream",
     "text": [
      "Total page in བོད་འབྲེལ་ས་ཁུལ།: 185\n",
      "Total error in Page བོད་འབྲེལ་ས་ཁུལ། : 0\n",
      "\n",
      "\n",
      "Successfully saved: zangdiyg_ALL_link_བོད་འབྲེལ་ས་ཁུལ།.json\n"
     ]
    },
    {
     "name": "stderr",
     "output_type": "stream",
     "text": [
      "100%|██████████| 4/4 [00:04<00:00,  1.13s/it]\n"
     ]
    },
    {
     "name": "stdout",
     "output_type": "stream",
     "text": [
      "Total page in སྒྲུང་གཏམ།: 4\n",
      "Total error in Page སྒྲུང་གཏམ། : 0\n",
      "\n",
      "\n",
      "Successfully saved: zangdiyg_ALL_link_སྒྲུང་གཏམ།.json\n"
     ]
    },
    {
     "name": "stderr",
     "output_type": "stream",
     "text": [
      "100%|██████████| 10/10 [00:11<00:00,  1.11s/it]\n"
     ]
    },
    {
     "name": "stdout",
     "output_type": "stream",
     "text": [
      "Total page in ལྷུག་རྩོམ།: 10\n",
      "Total error in Page ལྷུག་རྩོམ། : 0\n",
      "\n",
      "\n",
      "Successfully saved: zangdiyg_ALL_link_ལྷུག་རྩོམ།.json\n"
     ]
    },
    {
     "name": "stderr",
     "output_type": "stream",
     "text": [
      "100%|██████████| 18/18 [00:20<00:00,  1.16s/it]\n"
     ]
    },
    {
     "name": "stdout",
     "output_type": "stream",
     "text": [
      "Total page in སྙན་རྩོམ།: 18\n",
      "Total error in Page སྙན་རྩོམ། : 0\n",
      "\n",
      "\n",
      "Successfully saved: zangdiyg_ALL_link_སྙན་རྩོམ།.json\n"
     ]
    },
    {
     "name": "stderr",
     "output_type": "stream",
     "text": [
      "100%|██████████| 4/4 [00:04<00:00,  1.12s/it]\n"
     ]
    },
    {
     "name": "stdout",
     "output_type": "stream",
     "text": [
      "Total page in བསྒྱུར་རྩོམ།: 4\n",
      "Total error in Page བསྒྱུར་རྩོམ། : 0\n",
      "\n",
      "\n",
      "Successfully saved: zangdiyg_ALL_link_བསྒྱུར་རྩོམ།.json\n"
     ]
    },
    {
     "name": "stderr",
     "output_type": "stream",
     "text": [
      "100%|██████████| 7/7 [00:08<00:00,  1.14s/it]\n"
     ]
    },
    {
     "name": "stdout",
     "output_type": "stream",
     "text": [
      "Total page in དཔྱད་རྩོམ།: 7\n",
      "Total error in Page དཔྱད་རྩོམ། : 0\n",
      "\n",
      "\n",
      "Successfully saved: zangdiyg_ALL_link_དཔྱད་རྩོམ།.json\n"
     ]
    },
    {
     "name": "stderr",
     "output_type": "stream",
     "text": [
      "100%|██████████| 5/5 [00:05<00:00,  1.13s/it]\n"
     ]
    },
    {
     "name": "stdout",
     "output_type": "stream",
     "text": [
      "Total page in ལག་རྩལ།: 5\n",
      "Total error in Page ལག་རྩལ། : 0\n",
      "\n",
      "\n",
      "Successfully saved: zangdiyg_ALL_link_ལག་རྩལ།.json\n"
     ]
    },
    {
     "name": "stderr",
     "output_type": "stream",
     "text": [
      "100%|██████████| 4/4 [00:06<00:00,  1.53s/it]\n"
     ]
    },
    {
     "name": "stdout",
     "output_type": "stream",
     "text": [
      "Total page in རི་མོ།: 4\n",
      "Total error in Page རི་མོ། : 0\n",
      "\n",
      "\n",
      "Successfully saved: zangdiyg_ALL_link_རི་མོ།.json\n"
     ]
    },
    {
     "name": "stderr",
     "output_type": "stream",
     "text": [
      "100%|██████████| 3/3 [00:03<00:00,  1.11s/it]\n"
     ]
    },
    {
     "name": "stdout",
     "output_type": "stream",
     "text": [
      "Total page in ཡིག་གཟུགས།: 3\n",
      "Total error in Page ཡིག་གཟུགས། : 0\n",
      "\n",
      "\n",
      "Successfully saved: zangdiyg_ALL_link_ཡིག་གཟུགས།.json\n"
     ]
    },
    {
     "name": "stderr",
     "output_type": "stream",
     "text": [
      "100%|██████████| 6/6 [00:07<00:00,  1.31s/it]\n"
     ]
    },
    {
     "name": "stdout",
     "output_type": "stream",
     "text": [
      "Total page in སྒྱུ་རྩལ་ཞིབ་འཇུག: 6\n",
      "Total error in Page སྒྱུ་རྩལ་ཞིབ་འཇུག : 0\n",
      "\n",
      "\n",
      "Successfully saved: zangdiyg_ALL_link_སྒྱུ་རྩལ་ཞིབ་འཇུག.json\n"
     ]
    },
    {
     "name": "stderr",
     "output_type": "stream",
     "text": [
      "100%|██████████| 6/6 [00:06<00:00,  1.10s/it]\n"
     ]
    },
    {
     "name": "stdout",
     "output_type": "stream",
     "text": [
      "Total page in དམངས་རྩོམ།: 6\n",
      "Total error in Page དམངས་རྩོམ། : 0\n",
      "\n",
      "\n",
      "Successfully saved: zangdiyg_ALL_link_དམངས་རྩོམ།.json\n"
     ]
    },
    {
     "name": "stderr",
     "output_type": "stream",
     "text": [
      "100%|██████████| 6/6 [00:06<00:00,  1.12s/it]\n"
     ]
    },
    {
     "name": "stdout",
     "output_type": "stream",
     "text": [
      "Total page in དུས་ཆེན།: 6\n",
      "Total error in Page དུས་ཆེན། : 0\n",
      "\n",
      "\n",
      "Successfully saved: zangdiyg_ALL_link_དུས་ཆེན།.json\n"
     ]
    },
    {
     "name": "stderr",
     "output_type": "stream",
     "text": [
      "100%|██████████| 3/3 [00:03<00:00,  1.13s/it]\n"
     ]
    },
    {
     "name": "stdout",
     "output_type": "stream",
     "text": [
      "Total page in གཉེན་སྟོན།: 3\n",
      "Total error in Page གཉེན་སྟོན། : 0\n",
      "\n",
      "\n",
      "Successfully saved: zangdiyg_ALL_link_གཉེན་སྟོན།.json\n"
     ]
    },
    {
     "name": "stderr",
     "output_type": "stream",
     "text": [
      "100%|██████████| 3/3 [00:03<00:00,  1.12s/it]\n"
     ]
    },
    {
     "name": "stdout",
     "output_type": "stream",
     "text": [
      "Total page in གུས་ལུགས།: 3\n",
      "Total error in Page གུས་ལུགས། : 0\n",
      "\n",
      "\n",
      "Successfully saved: zangdiyg_ALL_link_གུས་ལུགས།.json\n"
     ]
    },
    {
     "name": "stderr",
     "output_type": "stream",
     "text": [
      "100%|██████████| 2/2 [00:02<00:00,  1.12s/it]\n"
     ]
    },
    {
     "name": "stdout",
     "output_type": "stream",
     "text": [
      "Total page in དུར་འཇུག: 2\n",
      "Total error in Page དུར་འཇུག : 0\n",
      "\n",
      "\n",
      "Successfully saved: zangdiyg_ALL_link_དུར་འཇུག.json\n"
     ]
    },
    {
     "name": "stderr",
     "output_type": "stream",
     "text": [
      "100%|██████████| 6/6 [00:06<00:00,  1.11s/it]\n"
     ]
    },
    {
     "name": "stdout",
     "output_type": "stream",
     "text": [
      "Total page in བཟའ་ཆས།: 6\n",
      "Total error in Page བཟའ་ཆས། : 0\n",
      "\n",
      "\n",
      "Successfully saved: zangdiyg_ALL_link_བཟའ་ཆས།.json\n"
     ]
    },
    {
     "name": "stderr",
     "output_type": "stream",
     "text": [
      "100%|██████████| 6/6 [00:06<00:00,  1.11s/it]\n"
     ]
    },
    {
     "name": "stdout",
     "output_type": "stream",
     "text": [
      "Total page in བཤད་པ།: 6\n",
      "Total error in Page བཤད་པ། : 0\n",
      "\n",
      "\n",
      "Successfully saved: zangdiyg_ALL_link_བཤད་པ།.json\n"
     ]
    },
    {
     "name": "stderr",
     "output_type": "stream",
     "text": [
      "100%|██████████| 2/2 [00:02<00:00,  1.11s/it]\n"
     ]
    },
    {
     "name": "stdout",
     "output_type": "stream",
     "text": [
      "Total page in བསང་མཆོད།: 2\n",
      "Total error in Page བསང་མཆོད། : 0\n",
      "\n",
      "\n",
      "Successfully saved: zangdiyg_ALL_link_བསང་མཆོད།.json\n"
     ]
    },
    {
     "name": "stderr",
     "output_type": "stream",
     "text": [
      "100%|██████████| 6/6 [00:06<00:00,  1.11s/it]\n"
     ]
    },
    {
     "name": "stdout",
     "output_type": "stream",
     "text": [
      "Total page in རྒྱན་གོས།: 6\n",
      "Total error in Page རྒྱན་གོས། : 0\n",
      "\n",
      "\n",
      "Successfully saved: zangdiyg_ALL_link_རྒྱན་གོས།.json\n"
     ]
    },
    {
     "name": "stderr",
     "output_type": "stream",
     "text": [
      "100%|██████████| 13/13 [00:14<00:00,  1.11s/it]\n"
     ]
    },
    {
     "name": "stdout",
     "output_type": "stream",
     "text": [
      "Total page in རི་ཆུའི་རིག་གནས།: 13\n",
      "Total error in Page རི་ཆུའི་རིག་གནས། : 0\n",
      "\n",
      "\n",
      "Successfully saved: zangdiyg_ALL_link_རི་ཆུའི་རིག་གནས།.json\n"
     ]
    },
    {
     "name": "stderr",
     "output_type": "stream",
     "text": [
      "100%|██████████| 11/11 [00:12<00:00,  1.14s/it]\n"
     ]
    },
    {
     "name": "stdout",
     "output_type": "stream",
     "text": [
      "Total page in དགོན་སྡེ།: 11\n",
      "Total error in Page དགོན་སྡེ། : 0\n",
      "\n",
      "\n",
      "Successfully saved: zangdiyg_ALL_link_དགོན་སྡེ།.json\n"
     ]
    },
    {
     "name": "stderr",
     "output_type": "stream",
     "text": [
      "100%|██████████| 7/7 [00:07<00:00,  1.13s/it]\n"
     ]
    },
    {
     "name": "stdout",
     "output_type": "stream",
     "text": [
      "Total page in ཡུལ་སྐོར་ཟིན་བྲིས།: 7\n",
      "Total error in Page ཡུལ་སྐོར་ཟིན་བྲིས། : 0\n",
      "\n",
      "\n",
      "Successfully saved: zangdiyg_ALL_link_ཡུལ་སྐོར་ཟིན་བྲིས།.json\n"
     ]
    },
    {
     "name": "stderr",
     "output_type": "stream",
     "text": [
      "100%|██████████| 2/2 [00:02<00:00,  1.11s/it]\n"
     ]
    },
    {
     "name": "stdout",
     "output_type": "stream",
     "text": [
      "Total page in རྒྱ་ནག་ཡུལ་གྱི་གནས་ཆེན།: 2\n",
      "Total error in Page རྒྱ་ནག་ཡུལ་གྱི་གནས་ཆེན། : 0\n",
      "\n",
      "\n",
      "Successfully saved: zangdiyg_ALL_link_རྒྱ་ནག་ཡུལ་གྱི་གནས་ཆེན།.json\n"
     ]
    },
    {
     "name": "stderr",
     "output_type": "stream",
     "text": [
      "100%|██████████| 16/16 [00:18<00:00,  1.17s/it]\n"
     ]
    },
    {
     "name": "stdout",
     "output_type": "stream",
     "text": [
      "Total page in ལོ་རྒྱུས།: 16\n",
      "Total error in Page ལོ་རྒྱུས། : 0\n",
      "\n",
      "\n",
      "Successfully saved: zangdiyg_ALL_link_ལོ་རྒྱུས།.json\n"
     ]
    },
    {
     "name": "stderr",
     "output_type": "stream",
     "text": [
      "100%|██████████| 11/11 [00:12<00:00,  1.12s/it]\n"
     ]
    },
    {
     "name": "stdout",
     "output_type": "stream",
     "text": [
      "Total page in ཆོས་ལུགས།: 11\n",
      "Total error in Page ཆོས་ལུགས། : 0\n",
      "\n",
      "\n",
      "Successfully saved: zangdiyg_ALL_link_ཆོས་ལུགས།.json\n"
     ]
    },
    {
     "name": "stderr",
     "output_type": "stream",
     "text": [
      "100%|██████████| 13/13 [00:14<00:00,  1.12s/it]\n"
     ]
    },
    {
     "name": "stdout",
     "output_type": "stream",
     "text": [
      "Total page in སྐད་ཡིག: 13\n",
      "Total error in Page སྐད་ཡིག : 0\n",
      "\n",
      "\n",
      "Successfully saved: zangdiyg_ALL_link_སྐད་ཡིག.json\n"
     ]
    },
    {
     "name": "stderr",
     "output_type": "stream",
     "text": [
      "100%|██████████| 3/3 [00:03<00:00,  1.11s/it]\n"
     ]
    },
    {
     "name": "stdout",
     "output_type": "stream",
     "text": [
      "Total page in རྒྱལ་རོང་ཞིབ་འཇུག: 3\n",
      "Total error in Page རྒྱལ་རོང་ཞིབ་འཇུག : 0\n",
      "\n",
      "\n",
      "Successfully saved: zangdiyg_ALL_link_རྒྱལ་རོང་ཞིབ་འཇུག.json\n"
     ]
    },
    {
     "name": "stderr",
     "output_type": "stream",
     "text": [
      "100%|██████████| 3/3 [00:03<00:00,  1.12s/it]\n"
     ]
    },
    {
     "name": "stdout",
     "output_type": "stream",
     "text": [
      "Total page in སྟག་ངར་གཡག་ངར།: 3\n",
      "Total error in Page སྟག་ངར་གཡག་ངར། : 0\n",
      "\n",
      "\n",
      "Successfully saved: zangdiyg_ALL_link_སྟག་ངར་གཡག་ངར།.json\n"
     ]
    },
    {
     "name": "stderr",
     "output_type": "stream",
     "text": [
      "100%|██████████| 26/26 [00:29<00:00,  1.12s/it]\n"
     ]
    },
    {
     "name": "stdout",
     "output_type": "stream",
     "text": [
      "Total page in ཀུན་འདུས།: 26\n",
      "Total error in Page ཀུན་འདུས། : 0\n",
      "\n",
      "\n",
      "Successfully saved: zangdiyg_ALL_link_ཀུན་འདུས།.json\n"
     ]
    },
    {
     "name": "stderr",
     "output_type": "stream",
     "text": [
      "100%|██████████| 9/9 [00:10<00:00,  1.12s/it]\n"
     ]
    },
    {
     "name": "stdout",
     "output_type": "stream",
     "text": [
      "Total page in རྟོག་ཞིབ།: 9\n",
      "Total error in Page རྟོག་ཞིབ། : 0\n",
      "\n",
      "\n",
      "Successfully saved: zangdiyg_ALL_link_རྟོག་ཞིབ།.json\n"
     ]
    },
    {
     "name": "stderr",
     "output_type": "stream",
     "text": [
      "100%|██████████| 5/5 [00:05<00:00,  1.13s/it]\n"
     ]
    },
    {
     "name": "stdout",
     "output_type": "stream",
     "text": [
      "Total page in གནའ་ཤུལ།: 5\n",
      "Total error in Page གནའ་ཤུལ། : 0\n",
      "\n",
      "\n",
      "Successfully saved: zangdiyg_ALL_link_གནའ་ཤུལ།.json\n"
     ]
    },
    {
     "name": "stderr",
     "output_type": "stream",
     "text": [
      "100%|██████████| 6/6 [00:06<00:00,  1.10s/it]\n"
     ]
    },
    {
     "name": "stdout",
     "output_type": "stream",
     "text": [
      "Total page in སྒྲུང་།: 6\n",
      "Total error in Page སྒྲུང་། : 0\n",
      "\n",
      "\n",
      "Successfully saved: zangdiyg_ALL_link_སྒྲུང་།.json\n"
     ]
    },
    {
     "name": "stderr",
     "output_type": "stream",
     "text": [
      "100%|██████████| 2/2 [00:02<00:00,  1.09s/it]\n"
     ]
    },
    {
     "name": "stdout",
     "output_type": "stream",
     "text": [
      "Total page in སྒྲུང་མཁན།: 2\n",
      "Total error in Page སྒྲུང་མཁན། : 0\n",
      "\n",
      "\n",
      "Successfully saved: zangdiyg_ALL_link_སྒྲུང་མཁན།.json\n"
     ]
    },
    {
     "name": "stderr",
     "output_type": "stream",
     "text": [
      "100%|██████████| 9/9 [00:10<00:00,  1.15s/it]\n"
     ]
    },
    {
     "name": "stdout",
     "output_type": "stream",
     "text": [
      "Total page in དཔྱད་རྩོམ།: 9\n",
      "Total error in Page དཔྱད་རྩོམ། : 0\n",
      "\n",
      "\n",
      "Successfully saved: zangdiyg_ALL_link_དཔྱད་རྩོམ།.json\n"
     ]
    },
    {
     "name": "stderr",
     "output_type": "stream",
     "text": [
      "100%|██████████| 4/4 [00:04<00:00,  1.18s/it]\n"
     ]
    },
    {
     "name": "stdout",
     "output_type": "stream",
     "text": [
      "Total page in རྗེས་ཤུལ།: 4\n",
      "Total error in Page རྗེས་ཤུལ། : 0\n",
      "\n",
      "\n",
      "Successfully saved: zangdiyg_ALL_link_རྗེས་ཤུལ།.json\n"
     ]
    },
    {
     "name": "stderr",
     "output_type": "stream",
     "text": [
      "100%|██████████| 2/2 [00:03<00:00,  1.63s/it]\n"
     ]
    },
    {
     "name": "stdout",
     "output_type": "stream",
     "text": [
      "Total page in རྩི་ཤིང་།: 2\n",
      "Total error in Page རྩི་ཤིང་། : 0\n",
      "\n",
      "\n",
      "Successfully saved: zangdiyg_ALL_link_རྩི་ཤིང་།.json\n"
     ]
    },
    {
     "name": "stderr",
     "output_type": "stream",
     "text": [
      "100%|██████████| 8/8 [00:08<00:00,  1.11s/it]\n"
     ]
    },
    {
     "name": "stdout",
     "output_type": "stream",
     "text": [
      "Total page in ཤེས་བྱ།: 8\n",
      "Total error in Page ཤེས་བྱ། : 0\n",
      "\n",
      "\n",
      "Successfully saved: zangdiyg_ALL_link_ཤེས་བྱ།.json\n"
     ]
    },
    {
     "name": "stderr",
     "output_type": "stream",
     "text": [
      "100%|██████████| 5/5 [00:05<00:00,  1.12s/it]\n"
     ]
    },
    {
     "name": "stdout",
     "output_type": "stream",
     "text": [
      "Total page in སྲོག་ཆགས།: 5\n",
      "Total error in Page སྲོག་ཆགས། : 0\n",
      "\n",
      "\n",
      "Successfully saved: zangdiyg_ALL_link_སྲོག་ཆགས།.json\n"
     ]
    },
    {
     "name": "stderr",
     "output_type": "stream",
     "text": [
      "100%|██████████| 4/4 [00:04<00:00,  1.12s/it]\n"
     ]
    },
    {
     "name": "stdout",
     "output_type": "stream",
     "text": [
      "Total page in རྒྱལ་ཁབ་བཅའ་ཁྲིམས།: 4\n",
      "Total error in Page རྒྱལ་ཁབ་བཅའ་ཁྲིམས། : 0\n",
      "\n",
      "\n",
      "Successfully saved: zangdiyg_ALL_link_རྒྱལ་ཁབ་བཅའ་ཁྲིམས།.json\n"
     ]
    },
    {
     "name": "stderr",
     "output_type": "stream",
     "text": [
      "100%|██████████| 2/2 [00:02<00:00,  1.25s/it]\n"
     ]
    },
    {
     "name": "stdout",
     "output_type": "stream",
     "text": [
      "Total page in རང་སྐྱོང་ཁྲིམས་སྲོལ།: 2\n",
      "Total error in Page རང་སྐྱོང་ཁྲིམས་སྲོལ། : 0\n",
      "\n",
      "\n",
      "Successfully saved: zangdiyg_ALL_link_རང་སྐྱོང་ཁྲིམས་སྲོལ།.json\n"
     ]
    },
    {
     "name": "stderr",
     "output_type": "stream",
     "text": [
      "100%|██████████| 3/3 [00:03<00:00,  1.09s/it]\n"
     ]
    },
    {
     "name": "stdout",
     "output_type": "stream",
     "text": [
      "Total page in སྲིད་ཇུས་འགྲེལ་བཤད།: 3\n",
      "Total error in Page སྲིད་ཇུས་འགྲེལ་བཤད། : 0\n",
      "\n",
      "\n",
      "Successfully saved: zangdiyg_ALL_link_སྲིད་ཇུས་འགྲེལ་བཤད།.json\n"
     ]
    },
    {
     "name": "stderr",
     "output_type": "stream",
     "text": [
      "100%|██████████| 12/12 [00:13<00:00,  1.10s/it]\n"
     ]
    },
    {
     "name": "stdout",
     "output_type": "stream",
     "text": [
      "Total page in ཁྲིམས་ལུགས་ཤེས་བྱ།: 12\n",
      "Total error in Page ཁྲིམས་ལུགས་ཤེས་བྱ། : 0\n",
      "\n",
      "\n",
      "Successfully saved: zangdiyg_ALL_link_ཁྲིམས་ལུགས་ཤེས་བྱ།.json\n"
     ]
    },
    {
     "name": "stderr",
     "output_type": "stream",
     "text": [
      "100%|██████████| 5/5 [00:05<00:00,  1.11s/it]\n"
     ]
    },
    {
     "name": "stdout",
     "output_type": "stream",
     "text": [
      "Total page in གྱོད་དཔེ་འདེམས་བཀོད།: 5\n",
      "Total error in Page གྱོད་དཔེ་འདེམས་བཀོད། : 0\n",
      "\n",
      "\n",
      "Successfully saved: zangdiyg_ALL_link_གྱོད་དཔེ་འདེམས་བཀོད།.json\n"
     ]
    },
    {
     "name": "stderr",
     "output_type": "stream",
     "text": [
      "100%|██████████| 1/1 [00:01<00:00,  1.09s/it]\n"
     ]
    },
    {
     "name": "stdout",
     "output_type": "stream",
     "text": [
      "Total page in བོད་ཀྱི་གནའ་ཁྲིམས།: 1\n",
      "Total error in Page བོད་ཀྱི་གནའ་ཁྲིམས། : 0\n",
      "\n",
      "\n",
      "Successfully saved: zangdiyg_ALL_link_བོད་ཀྱི་གནའ་ཁྲིམས།.json\n"
     ]
    },
    {
     "name": "stderr",
     "output_type": "stream",
     "text": [
      "100%|██████████| 8/8 [00:09<00:00,  1.24s/it]\n"
     ]
    },
    {
     "name": "stdout",
     "output_type": "stream",
     "text": [
      "Total page in བོད་ཀྱི་གསོ་རིག: 8\n",
      "Total error in Page བོད་ཀྱི་གསོ་རིག : 0\n",
      "\n",
      "\n",
      "Successfully saved: zangdiyg_ALL_link_བོད་ཀྱི་གསོ་རིག.json\n"
     ]
    },
    {
     "name": "stderr",
     "output_type": "stream",
     "text": [
      "100%|██████████| 29/29 [00:32<00:00,  1.12s/it]\n"
     ]
    },
    {
     "name": "stdout",
     "output_type": "stream",
     "text": [
      "Total page in བདེ་ཐང་ཤེས་བྱ།: 29\n",
      "Total error in Page བདེ་ཐང་ཤེས་བྱ། : 0\n",
      "\n",
      "\n",
      "Successfully saved: zangdiyg_ALL_link_བདེ་ཐང་ཤེས་བྱ།.json\n"
     ]
    },
    {
     "name": "stderr",
     "output_type": "stream",
     "text": [
      "100%|██████████| 1/1 [00:01<00:00,  1.13s/it]\n"
     ]
    },
    {
     "name": "stdout",
     "output_type": "stream",
     "text": [
      "Total page in འཚོ་བའི་རྒྱུན་ཤེས།: 1\n",
      "Total error in Page འཚོ་བའི་རྒྱུན་ཤེས། : 0\n",
      "\n",
      "\n",
      "Successfully saved: zangdiyg_ALL_link_འཚོ་བའི་རྒྱུན་ཤེས།.json\n"
     ]
    },
    {
     "name": "stderr",
     "output_type": "stream",
     "text": [
      "100%|██████████| 1/1 [00:01<00:00,  1.04s/it]\n"
     ]
    },
    {
     "name": "stdout",
     "output_type": "stream",
     "text": [
      "Total page in སྐད་གཉིས་སློབ་གསོ།: 1\n",
      "Total error in Page སྐད་གཉིས་སློབ་གསོ། : 0\n",
      "\n",
      "\n",
      "Successfully saved: zangdiyg_ALL_link_སྐད་གཉིས་སློབ་གསོ།.json\n"
     ]
    },
    {
     "name": "stderr",
     "output_type": "stream",
     "text": [
      "100%|██████████| 11/11 [00:12<00:00,  1.15s/it]\n"
     ]
    },
    {
     "name": "stdout",
     "output_type": "stream",
     "text": [
      "Total page in སློབ་གསོའི་ཉམས་མྱོང་།: 11\n",
      "Total error in Page སློབ་གསོའི་ཉམས་མྱོང་། : 0\n",
      "\n",
      "\n",
      "Successfully saved: zangdiyg_ALL_link_སློབ་གསོའི་ཉམས་མྱོང་།.json\n"
     ]
    },
    {
     "name": "stderr",
     "output_type": "stream",
     "text": [
      "100%|██████████| 2/2 [00:02<00:00,  1.11s/it]\n"
     ]
    },
    {
     "name": "stdout",
     "output_type": "stream",
     "text": [
      "Total page in སྲོལ་རྒྱུན་སློབ་གསོ།: 2\n",
      "Total error in Page སྲོལ་རྒྱུན་སློབ་གསོ། : 0\n",
      "\n",
      "\n",
      "Successfully saved: zangdiyg_ALL_link_སྲོལ་རྒྱུན་སློབ་གསོ།.json\n"
     ]
    },
    {
     "name": "stderr",
     "output_type": "stream",
     "text": [
      "100%|██████████| 1/1 [00:01<00:00,  1.19s/it]\n"
     ]
    },
    {
     "name": "stdout",
     "output_type": "stream",
     "text": [
      "Total page in བོད་ཁུལ་སློབ་གྲྭ།: 1\n",
      "Total error in Page བོད་ཁུལ་སློབ་གྲྭ། : 0\n",
      "\n",
      "\n",
      "Successfully saved: zangdiyg_ALL_link_བོད་ཁུལ་སློབ་གྲྭ།.json\n"
     ]
    },
    {
     "name": "stderr",
     "output_type": "stream",
     "text": [
      "100%|██████████| 2/2 [00:02<00:00,  1.08s/it]"
     ]
    },
    {
     "name": "stdout",
     "output_type": "stream",
     "text": [
      "Total page in ཁྱིམ་ཚང་སློབ་གསོ།: 2\n",
      "Total error in Page ཁྱིམ་ཚང་སློབ་གསོ། : 0\n",
      "\n",
      "\n",
      "Successfully saved: zangdiyg_ALL_link_ཁྱིམ་ཚང་སློབ་གསོ།.json\n"
     ]
    },
    {
     "name": "stderr",
     "output_type": "stream",
     "text": [
      "\n"
     ]
    }
   ],
   "source": [
    "for index, row in sample_df.iterrows():\n",
    "    # print(row)\n",
    "    name_of_cate = row[\"name_of_cate\"]\n",
    "    original_url = row[\"original_url\"]\n",
    "    Last_page_link = row[\"Last_page_link\"]\n",
    "    list_page_no = row[\"list_page_no\"]\n",
    "\n",
    "    custom_url = original_url.replace(\".html\", \"\")\n",
    "\n",
    "    total_page = list_page_no\n",
    "    base_url = \"https://ti.zangdiyg.com\"\n",
    "    article_tag = name_of_cate\n",
    "    key_code = \"Page \" + article_tag + \" \"\n",
    "    all_links = loop_article_page(total_page, custom_url, key_code, base_url)\n",
    "    \n",
    "    print(f\"Total page in {article_tag}: {len(all_links['Data'])}\")\n",
    "    check_error_in_links(all_links['Data'], key_code, print_each_error=True)\n",
    "\n",
    "    # Saving the final file\n",
    "    path = \"./data/links/\"\n",
    "    file_name = f\"{file_name_code}_ALL_link_{article_tag}.json\"\n",
    "    save_json(path, file_name, all_links['Data'])"
   ]
  },
  {
   "cell_type": "code",
   "execution_count": null,
   "id": "9f5b009e-18db-4c0c-a6e8-85796931a527",
   "metadata": {},
   "outputs": [],
   "source": []
  },
  {
   "cell_type": "code",
   "execution_count": null,
   "id": "07dbafae-8dae-43e7-909f-2eb631654e88",
   "metadata": {},
   "outputs": [],
   "source": []
  }
 ],
 "metadata": {
  "kernelspec": {
   "display_name": "Python 3 (ipykernel)",
   "language": "python",
   "name": "python3"
  },
  "language_info": {
   "codemirror_mode": {
    "name": "ipython",
    "version": 3
   },
   "file_extension": ".py",
   "mimetype": "text/x-python",
   "name": "python",
   "nbconvert_exporter": "python",
   "pygments_lexer": "ipython3",
   "version": "3.10.13"
  }
 },
 "nbformat": 4,
 "nbformat_minor": 5
}
