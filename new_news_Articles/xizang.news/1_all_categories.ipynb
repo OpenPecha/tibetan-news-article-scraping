{
 "cells": [
  {
   "cell_type": "code",
   "execution_count": 2,
   "id": "46ee2202-8595-4f7f-89e5-597fb6b904fa",
   "metadata": {},
   "outputs": [],
   "source": [
    "from bs4 import BeautifulSoup\n",
    "import requests\n",
    "import re\n",
    "\n",
    "from urllib.parse import urljoin"
   ]
  },
  {
   "cell_type": "code",
   "execution_count": null,
   "id": "6a6b471d-42a7-4378-af4d-26869217a131",
   "metadata": {},
   "outputs": [],
   "source": []
  },
  {
   "cell_type": "code",
   "execution_count": 8,
   "id": "f3dc8abc-2068-4a13-8655-7c50f29c1df1",
   "metadata": {},
   "outputs": [],
   "source": [
    "url = \"http://xizang.news.cn/shizhengfalv/index.htm\"\n",
    "headers = {\n",
    "        'User-Agent': 'Mozilla/5.0 (Windows NT 10.0; Win64; x64) AppleWebKit/537.36 (KHTML, like Gecko) Chrome/91.0.4472.124 Safari/537.36'\n",
    "    }\n",
    "response = requests.get(url, headers=headers)\n",
    "response.raise_for_status()\n",
    "\n",
    "# Parse the page content with BeautifulSoup\n",
    "soup = BeautifulSoup(response.content, 'html.parser')\n",
    "\n",
    "all_categories = []\n",
    "catgory_center = soup.find(\"div\", class_=\"top-bottom-navBig\")\n",
    "if catgory_center:\n",
    "    catgory_center = catgory_center.find_all('a',)\n",
    "    if catgory_center:\n",
    "        # Find all 'a' tags\n",
    "        for each_link in catgory_center:\n",
    "            full_url = each_link.get(\"href\")\n",
    "            text = each_link.get_text(strip=True)\n",
    "            all_categories.append((full_url, text))\n",
    "            "
   ]
  },
  {
   "cell_type": "code",
   "execution_count": null,
   "id": "12117b0d-2c09-4d03-adba-80cf1ea7de93",
   "metadata": {},
   "outputs": [],
   "source": []
  },
  {
   "cell_type": "code",
   "execution_count": 9,
   "id": "0c731687-54b2-4d27-9b22-156b284fbf10",
   "metadata": {},
   "outputs": [
    {
     "data": {
      "text/plain": [
       "[('http://xizang.news.cn/', 'མ་ཤོག'),\n",
       " ('http://xizang.news.cn/xinwenzhongxin/index.htm', 'གསར་འགྱུར།'),\n",
       " ('http://xizang.news.cn/shizhengfalv/index.htm', 'སྲིད་དོན།'),\n",
       " ('http://xizang.news.cn/yuanzang/index.htm', 'བོད་སྐྱོར།'),\n",
       " ('http://xizang.news.cn/zangyiyao/index.htm', 'གསོ་རིག'),\n",
       " ('http://xizang.news.cn/yinshipinzhongxin/index.htm', 'བརྙན་པར།'),\n",
       " ('http://xizang.news.cn/shehuiminsheng/index.htm', 'དམངས་འཚོ།'),\n",
       " ('http://xizang.news.cn/lvyouhuanbao/index.htm', 'ཡུལ་སྐོར།'),\n",
       " ('http://xizang.news.cn/wenhuayishu/index.htm', 'རིག་གནས།'),\n",
       " ('http://xizang.news.cn/jiaoyukeji/index.htm', 'སློབ་གསོ།')]"
      ]
     },
     "execution_count": 9,
     "metadata": {},
     "output_type": "execute_result"
    }
   ],
   "source": [
    "all_categories"
   ]
  },
  {
   "cell_type": "code",
   "execution_count": 10,
   "id": "e68c29a1-3f1c-40af-b025-3bbeec98745b",
   "metadata": {},
   "outputs": [
    {
     "data": {
      "text/plain": [
       "10"
      ]
     },
     "execution_count": 10,
     "metadata": {},
     "output_type": "execute_result"
    }
   ],
   "source": [
    "len(all_categories)"
   ]
  },
  {
   "cell_type": "code",
   "execution_count": null,
   "id": "5c6af7da-9b2d-4692-906a-2f8e49b97fec",
   "metadata": {},
   "outputs": [],
   "source": []
  },
  {
   "cell_type": "code",
   "execution_count": null,
   "id": "25624b9f-a7b2-4167-a79e-1ef6c0e3b6cb",
   "metadata": {},
   "outputs": [],
   "source": []
  },
  {
   "cell_type": "code",
   "execution_count": 11,
   "id": "b3cd8de9-dce3-43d4-9bf1-5fe4f55316df",
   "metadata": {},
   "outputs": [],
   "source": [
    "import pandas as pd"
   ]
  },
  {
   "cell_type": "code",
   "execution_count": 13,
   "id": "2fa6a92b-8907-4222-b860-e5275ef8759f",
   "metadata": {},
   "outputs": [
    {
     "data": {
      "text/html": [
       "<div>\n",
       "<style scoped>\n",
       "    .dataframe tbody tr th:only-of-type {\n",
       "        vertical-align: middle;\n",
       "    }\n",
       "\n",
       "    .dataframe tbody tr th {\n",
       "        vertical-align: top;\n",
       "    }\n",
       "\n",
       "    .dataframe thead th {\n",
       "        text-align: right;\n",
       "    }\n",
       "</style>\n",
       "<table border=\"1\" class=\"dataframe\">\n",
       "  <thead>\n",
       "    <tr style=\"text-align: right;\">\n",
       "      <th></th>\n",
       "      <th>original_url</th>\n",
       "      <th>name_of_cate</th>\n",
       "    </tr>\n",
       "  </thead>\n",
       "  <tbody>\n",
       "    <tr>\n",
       "      <th>0</th>\n",
       "      <td>http://xizang.news.cn/</td>\n",
       "      <td>མ་ཤོག</td>\n",
       "    </tr>\n",
       "    <tr>\n",
       "      <th>1</th>\n",
       "      <td>http://xizang.news.cn/xinwenzhongxin/index.htm</td>\n",
       "      <td>གསར་འགྱུར།</td>\n",
       "    </tr>\n",
       "    <tr>\n",
       "      <th>2</th>\n",
       "      <td>http://xizang.news.cn/shizhengfalv/index.htm</td>\n",
       "      <td>སྲིད་དོན།</td>\n",
       "    </tr>\n",
       "    <tr>\n",
       "      <th>3</th>\n",
       "      <td>http://xizang.news.cn/yuanzang/index.htm</td>\n",
       "      <td>བོད་སྐྱོར།</td>\n",
       "    </tr>\n",
       "    <tr>\n",
       "      <th>4</th>\n",
       "      <td>http://xizang.news.cn/zangyiyao/index.htm</td>\n",
       "      <td>གསོ་རིག</td>\n",
       "    </tr>\n",
       "  </tbody>\n",
       "</table>\n",
       "</div>"
      ],
      "text/plain": [
       "                                     original_url name_of_cate\n",
       "0                          http://xizang.news.cn/        མ་ཤོག\n",
       "1  http://xizang.news.cn/xinwenzhongxin/index.htm   གསར་འགྱུར།\n",
       "2    http://xizang.news.cn/shizhengfalv/index.htm    སྲིད་དོན།\n",
       "3        http://xizang.news.cn/yuanzang/index.htm   བོད་སྐྱོར།\n",
       "4       http://xizang.news.cn/zangyiyao/index.htm      གསོ་རིག"
      ]
     },
     "execution_count": 13,
     "metadata": {},
     "output_type": "execute_result"
    }
   ],
   "source": [
    "df = pd.DataFrame(all_categories, columns=['original_url', 'name_of_cate'])\n",
    "df.head()"
   ]
  },
  {
   "cell_type": "code",
   "execution_count": null,
   "id": "eb2e841b-1fa8-411d-8b77-a640bbba3ad5",
   "metadata": {},
   "outputs": [],
   "source": []
  },
  {
   "cell_type": "code",
   "execution_count": null,
   "id": "02713225-cc56-420c-94fe-d97dde7a4cc3",
   "metadata": {},
   "outputs": [],
   "source": []
  },
  {
   "cell_type": "code",
   "execution_count": 14,
   "id": "7a9dddfc-9d54-4c6f-9457-a0ca703d678f",
   "metadata": {},
   "outputs": [],
   "source": [
    "df.to_csv(\"./data/All_cate.csv\", index=False)"
   ]
  },
  {
   "cell_type": "code",
   "execution_count": 15,
   "id": "b8ece6f1-8be4-45ac-bd8b-e65ed382227f",
   "metadata": {},
   "outputs": [
    {
     "data": {
      "text/plain": [
       "(10, 2)"
      ]
     },
     "execution_count": 15,
     "metadata": {},
     "output_type": "execute_result"
    }
   ],
   "source": [
    "df.shape"
   ]
  },
  {
   "cell_type": "code",
   "execution_count": null,
   "id": "ab20b105-a136-4d0f-b64f-bc7e0d818f51",
   "metadata": {},
   "outputs": [],
   "source": []
  }
 ],
 "metadata": {
  "kernelspec": {
   "display_name": "Python 3 (ipykernel)",
   "language": "python",
   "name": "python3"
  },
  "language_info": {
   "codemirror_mode": {
    "name": "ipython",
    "version": 3
   },
   "file_extension": ".py",
   "mimetype": "text/x-python",
   "name": "python",
   "nbconvert_exporter": "python",
   "pygments_lexer": "ipython3",
   "version": "3.10.13"
  }
 },
 "nbformat": 4,
 "nbformat_minor": 5
}
