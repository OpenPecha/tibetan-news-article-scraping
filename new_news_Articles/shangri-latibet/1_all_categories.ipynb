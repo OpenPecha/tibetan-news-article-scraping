{
 "cells": [
  {
   "cell_type": "code",
   "execution_count": 17,
   "id": "46ee2202-8595-4f7f-89e5-597fb6b904fa",
   "metadata": {},
   "outputs": [],
   "source": [
    "from bs4 import BeautifulSoup\n",
    "import requests\n",
    "import re\n"
   ]
  },
  {
   "cell_type": "code",
   "execution_count": null,
   "id": "6a6b471d-42a7-4378-af4d-26869217a131",
   "metadata": {},
   "outputs": [],
   "source": []
  },
  {
   "cell_type": "code",
   "execution_count": 18,
   "id": "cf968133-6194-462d-bd79-9710161b155a",
   "metadata": {},
   "outputs": [],
   "source": [
    "url = \"http://www.shangri-latibet.cn/node_5104.html\""
   ]
  },
  {
   "cell_type": "code",
   "execution_count": 19,
   "id": "3da69bb7-424d-4e40-9954-871586a4b14b",
   "metadata": {},
   "outputs": [],
   "source": [
    "headers = {\n",
    "        'User-Agent': 'Mozilla/5.0 (Windows NT 10.0; Win64; x64) AppleWebKit/537.36 (KHTML, like Gecko) Chrome/91.0.4472.124 Safari/537.36'\n",
    "    }\n",
    "response = requests.get(url, headers=headers)\n",
    "response.raise_for_status()\n",
    "\n",
    "# Parse the page content with BeautifulSoup\n",
    "soup1 = BeautifulSoup(response.content, 'html.parser')\n",
    "\n",
    "all_categories = []\n",
    "menu_list = soup1.find(\"div\", id=\"menulist\")\n",
    "# Find all 'a' tags\n",
    "if menu_list:\n",
    "    links = menu_list.find_all('a')\n",
    "    # Extract and print the href attribute from each link\n",
    "    for link in links:\n",
    "        href = link.get('href')\n",
    "        if href:\n",
    "            text = link.get_text()\n",
    "            all_categories.append((text, href))\n",
    "        # print(href)\n"
   ]
  },
  {
   "cell_type": "code",
   "execution_count": 21,
   "id": "0c731687-54b2-4d27-9b22-156b284fbf10",
   "metadata": {},
   "outputs": [
    {
     "data": {
      "text/plain": [
       "[('ས་གནས་གསར་འགྱུར།', 'http://www.shangri-latibet.cn/node_5112.html'),\n",
       " ('རྒྱལ་ཕྱི་ནང་གསར་འགྱུར།', 'http://www.shangri-latibet.cn/node_5113.html'),\n",
       " ('བོད་ཁུལ་གསར་འགྱུར།', 'http://www.shangri-latibet.cn/node_5114.html'),\n",
       " ('ཏང་གི་ཚོགས་ཆེན་བཅོ་བརྒྱད་པ།',\n",
       "  'http://www.shangri-latibet.cn/node_5115.html'),\n",
       " ('ཚོགས་ཆེན་གཉིས།', 'http://www.shangri-latibet.cn/node_5116.html'),\n",
       " ('གལ་ཆེའི་མཛད་སྒོ།', 'http://www.shangri-latibet.cn/node_5117.html'),\n",
       " ('དཔལ་འབྱོར་འགྱུར་སྟངས།', 'http://www.shangri-latibet.cn/node_5119.html'),\n",
       " ('མ་རྩའི་འདེབས་ཕྱོགས།', 'http://www.shangri-latibet.cn/node_5120.html'),\n",
       " ('ཁྱིམ་ཇུས་ནོར་གཉེར།', 'http://www.shangri-latibet.cn/node_5121.html'),\n",
       " ('འབྱོར་ཕྱུག་གཏམ་རྒྱུད།', 'http://www.shangri-latibet.cn/node_5122.html'),\n",
       " ('སློབ་གསོ།', 'http://www.shangri-latibet.cn/node_5123.html'),\n",
       " ('རྩོམ་རིག', 'http://www.shangri-latibet.cn/node_5124.html'),\n",
       " ('ལོ་རྒྱུས།', 'http://www.shangri-latibet.cn/node_5125.html'),\n",
       " ('གསོ་རིག', 'http://www.shangri-latibet.cn/node_5126.html'),\n",
       " ('དཔེ་གཟིགས།', 'http://www.shangri-latibet.cn/node_5127.html'),\n",
       " ('མི་རིགས་སྲིད་ཇུས།', 'http://www.shangri-latibet.cn/node_5148.html'),\n",
       " ('ཆོས་ལུགས་སྲིད་ཇུས།', 'http://www.shangri-latibet.cn/node_5149.html'),\n",
       " ('ཆོས་ལུགས་རིག་གནས།', 'http://www.shangri-latibet.cn/node_5150.html'),\n",
       " ('དགོན་སྡེ་ངོ་སྤྲོད།', 'http://www.shangri-latibet.cn/node_5151.html'),\n",
       " ('སྲོལ་རྒྱུན་དུས་སྟོན།', 'http://www.shangri-latibet.cn/node_5152.html'),\n",
       " ('ཡུལ་སྲོལ་གོམས་གཤིས།', 'http://www.shangri-latibet.cn/node_5153.html'),\n",
       " ('མི་རིགས་ཀྱི་ད་ཚུལ།', 'http://www.shangri-latibet.cn/node_5154.html'),\n",
       " ('ཆོས་ལུགས་ཀྱི་ད་ཚུལ།', 'http://www.shangri-latibet.cn/node_5155.html'),\n",
       " ('གནས་ཁམས་ཆེན།', 'http://www.shangri-latibet.cn/node_5156.html'),\n",
       " ('གནས་སྐོར་མཛེས་ལྗོངས།', 'http://www.shangri-latibet.cn/node_5157.html'),\n",
       " ('སྐྱེ་ཁམས་སྲུང་སྐྱོང་།', 'http://www.shangri-latibet.cn/node_5158.html'),\n",
       " ('ཡུལ་སྐོར་འགྱུར་སྟངས།', 'http://www.shangri-latibet.cn/node_5159.html'),\n",
       " ('བརྙན་གཟུགས་ཟློས་གར།', 'http://www.shangri-latibet.cn/node_5160.html'),\n",
       " ('སྙན་དབྱངས་འགྱུར་ཁུག', 'http://www.shangri-latibet.cn/node_5161.html'),\n",
       " ('རོལ་རྩེད།', 'http://www.shangri-latibet.cn/node_5162.html'),\n",
       " ('ཆེད་སྒྲིག', 'http://www.shangri-latibet.cn/node_5163.html'),\n",
       " ('རང་བྱུང་གི་མཛེས་ལྗོངས།', 'http://www.shangri-latibet.cn/node_5164.html'),\n",
       " ('མི་རིགས་ཀྱི་གོམས་གཤིས།', 'http://www.shangri-latibet.cn/node_5165.html')]"
      ]
     },
     "execution_count": 21,
     "metadata": {},
     "output_type": "execute_result"
    }
   ],
   "source": [
    "(all_categories)"
   ]
  },
  {
   "cell_type": "code",
   "execution_count": null,
   "id": "41d0c95b-6440-4cb5-a0d7-cb09fab6416e",
   "metadata": {},
   "outputs": [],
   "source": []
  },
  {
   "cell_type": "code",
   "execution_count": null,
   "id": "afa4b814-a4a4-4297-b75f-6ec2a307d041",
   "metadata": {},
   "outputs": [],
   "source": []
  },
  {
   "cell_type": "code",
   "execution_count": 26,
   "id": "24057e91-0340-4a7d-9b4b-b1b26a70145a",
   "metadata": {},
   "outputs": [],
   "source": [
    "def get_page_no(url):\n",
    "    \"\"\"\n",
    "    \n",
    "    \"\"\"\n",
    "\n",
    "    headers = {\n",
    "        'User-Agent': 'Mozilla/5.0 (Windows NT 10.0; Win64; x64) AppleWebKit/537.36 (KHTML, like Gecko) Chrome/91.0.4472.124 Safari/537.36'\n",
    "    }\n",
    "    try:\n",
    "        # Make the request to the URL\n",
    "        response = requests.get(url, headers=headers)\n",
    "        response.raise_for_status()\n",
    "        \n",
    "        # Parse the page content with BeautifulSoup\n",
    "        soup = BeautifulSoup(response.content, 'html.parser')\n",
    "        ul_element = soup.find(\"ul\", class_=\"pages\")\n",
    "        if ul_element and ul_element.has_attr('pages'):\n",
    "            last_page_no = int(ul_element.get('pages'))\n",
    "            page_last = ul_element.find_all(\"a\")[-2]\n",
    "            return [page_last, last_page_no]\n",
    "        # else:\n",
    "        #     all_page_link = soup.find_all(\"a\", class_=\"num\")\n",
    "        #     if all_page_link:\n",
    "        #         pages = ul_element.get('pages')\n",
    "        #         print(f\"Total pages: {pages}\")\n",
    "                # last_page_no = all_page_link[-1].get_text(strip=True)\n",
    "                # return [all_page_link[-1], last_page_no]\n",
    "                    \n",
    "        return [\"no link last page link\" , 1]\n",
    "    except Exception as e:\n",
    "        print(e)\n",
    "\n"
   ]
  },
  {
   "cell_type": "code",
   "execution_count": 27,
   "id": "aaa48a60-c20f-4aaa-99ed-d48f39ee5021",
   "metadata": {},
   "outputs": [
    {
     "data": {
      "text/plain": [
       "[<a href=\"http://www.shangri-latibet.cn/node_5112_150.html\">150</a>, 150]"
      ]
     },
     "execution_count": 27,
     "metadata": {},
     "output_type": "execute_result"
    }
   ],
   "source": [
    "get_page_no(\"http://www.shangri-latibet.cn/node_5112.html\")"
   ]
  },
  {
   "cell_type": "code",
   "execution_count": 29,
   "id": "ebd7ac0b-00c3-4de9-bf2d-08be201d11c9",
   "metadata": {},
   "outputs": [
    {
     "name": "stdout",
     "output_type": "stream",
     "text": [
      "5\n",
      "10\n",
      "15\n",
      "20\n",
      "25\n",
      "30\n"
     ]
    }
   ],
   "source": [
    "final_link = []\n",
    "i = 0\n",
    "for each_link in all_categories:\n",
    "    link = each_link[1]\n",
    "    page_no = get_page_no(link)\n",
    "    clean_list = []\n",
    "    clean_list.extend(each_link)\n",
    "    clean_list.extend(page_no)\n",
    "    # print(clean_list)\n",
    "    final_link.append(clean_list)\n",
    "    i = i+1\n",
    "    if i%5 == 0:\n",
    "        print(i)\n"
   ]
  },
  {
   "cell_type": "code",
   "execution_count": 30,
   "id": "81120aa3-9f93-4a0d-b4f7-47b6a3238b93",
   "metadata": {
    "scrolled": true
   },
   "outputs": [
    {
     "data": {
      "text/plain": [
       "[['ས་གནས་གསར་འགྱུར།',\n",
       "  'http://www.shangri-latibet.cn/node_5112.html',\n",
       "  <a href=\"http://www.shangri-latibet.cn/node_5112_150.html\">150</a>,\n",
       "  150],\n",
       " ['རྒྱལ་ཕྱི་ནང་གསར་འགྱུར།',\n",
       "  'http://www.shangri-latibet.cn/node_5113.html',\n",
       "  <a href=\"http://www.shangri-latibet.cn/node_5113_29.html\">29</a>,\n",
       "  29],\n",
       " ['བོད་ཁུལ་གསར་འགྱུར།',\n",
       "  'http://www.shangri-latibet.cn/node_5114.html',\n",
       "  <a href=\"http://www.shangri-latibet.cn/node_5114_74.html\">74</a>,\n",
       "  74],\n",
       " ['ཏང་གི་ཚོགས་ཆེན་བཅོ་བརྒྱད་པ།',\n",
       "  'http://www.shangri-latibet.cn/node_5115.html',\n",
       "  <a href=\"http://www.shangri-latibet.cn/node_5115_2.html\">2</a>,\n",
       "  2],\n",
       " ['ཚོགས་ཆེན་གཉིས།',\n",
       "  'http://www.shangri-latibet.cn/node_5116.html',\n",
       "  <a href=\"http://www.shangri-latibet.cn/node_5116_2.html\">2</a>,\n",
       "  2],\n",
       " ['གལ་ཆེའི་མཛད་སྒོ།',\n",
       "  'http://www.shangri-latibet.cn/node_5117.html',\n",
       "  <a href=\"http://www.shangri-latibet.cn/node_5117_2.html\">2</a>,\n",
       "  2],\n",
       " ['དཔལ་འབྱོར་འགྱུར་སྟངས།',\n",
       "  'http://www.shangri-latibet.cn/node_5119.html',\n",
       "  <a href=\"http://www.shangri-latibet.cn/node_5119_4.html\">4</a>,\n",
       "  4],\n",
       " ['མ་རྩའི་འདེབས་ཕྱོགས།',\n",
       "  'http://www.shangri-latibet.cn/node_5120.html',\n",
       "  <a href=\"http://www.shangri-latibet.cn/node_5120_2.html\">2</a>,\n",
       "  2],\n",
       " ['ཁྱིམ་ཇུས་ནོར་གཉེར།',\n",
       "  'http://www.shangri-latibet.cn/node_5121.html',\n",
       "  <a href=\"http://www.shangri-latibet.cn/node_5121_2.html\">2</a>,\n",
       "  2],\n",
       " ['འབྱོར་ཕྱུག་གཏམ་རྒྱུད།',\n",
       "  'http://www.shangri-latibet.cn/node_5122.html',\n",
       "  <a href=\"http://www.shangri-latibet.cn/node_5122_3.html\">3</a>,\n",
       "  3],\n",
       " ['སློབ་གསོ།',\n",
       "  'http://www.shangri-latibet.cn/node_5123.html',\n",
       "  <a href=\"http://www.shangri-latibet.cn/node_5123_12.html\">12</a>,\n",
       "  12],\n",
       " ['རྩོམ་རིག',\n",
       "  'http://www.shangri-latibet.cn/node_5124.html',\n",
       "  <a href=\"http://www.shangri-latibet.cn/node_5124_6.html\">6</a>,\n",
       "  6],\n",
       " ['ལོ་རྒྱུས།',\n",
       "  'http://www.shangri-latibet.cn/node_5125.html',\n",
       "  <a href=\"http://www.shangri-latibet.cn/node_5125_6.html\">6</a>,\n",
       "  6],\n",
       " ['གསོ་རིག',\n",
       "  'http://www.shangri-latibet.cn/node_5126.html',\n",
       "  <a href=\"http://www.shangri-latibet.cn/node_5126_25.html\">25</a>,\n",
       "  25],\n",
       " ['དཔེ་གཟིགས།',\n",
       "  'http://www.shangri-latibet.cn/node_5127.html',\n",
       "  <a href=\"http://www.shangri-latibet.cn/node_5127_2.html\">2</a>,\n",
       "  2],\n",
       " ['མི་རིགས་སྲིད་ཇུས།',\n",
       "  'http://www.shangri-latibet.cn/node_5148.html',\n",
       "  'no link last page link',\n",
       "  1],\n",
       " ['ཆོས་ལུགས་སྲིད་ཇུས།',\n",
       "  'http://www.shangri-latibet.cn/node_5149.html',\n",
       "  'no link last page link',\n",
       "  1],\n",
       " ['ཆོས་ལུགས་རིག་གནས།',\n",
       "  'http://www.shangri-latibet.cn/node_5150.html',\n",
       "  <a href=\"http://www.shangri-latibet.cn/node_5150_2.html\">2</a>,\n",
       "  2],\n",
       " ['དགོན་སྡེ་ངོ་སྤྲོད།',\n",
       "  'http://www.shangri-latibet.cn/node_5151.html',\n",
       "  <a href=\"http://www.shangri-latibet.cn/node_5151_2.html\">2</a>,\n",
       "  2],\n",
       " ['སྲོལ་རྒྱུན་དུས་སྟོན།',\n",
       "  'http://www.shangri-latibet.cn/node_5152.html',\n",
       "  <a href=\"http://www.shangri-latibet.cn/node_5152_4.html\">4</a>,\n",
       "  4],\n",
       " ['ཡུལ་སྲོལ་གོམས་གཤིས།',\n",
       "  'http://www.shangri-latibet.cn/node_5153.html',\n",
       "  <a href=\"http://www.shangri-latibet.cn/node_5153_11.html\">11</a>,\n",
       "  11],\n",
       " ['མི་རིགས་ཀྱི་ད་ཚུལ།',\n",
       "  'http://www.shangri-latibet.cn/node_5154.html',\n",
       "  'no link last page link',\n",
       "  1],\n",
       " ['ཆོས་ལུགས་ཀྱི་ད་ཚུལ།',\n",
       "  'http://www.shangri-latibet.cn/node_5155.html',\n",
       "  'no link last page link',\n",
       "  1],\n",
       " ['གནས་ཁམས་ཆེན།',\n",
       "  'http://www.shangri-latibet.cn/node_5156.html',\n",
       "  <a href=\"http://www.shangri-latibet.cn/node_5156_5.html\">5</a>,\n",
       "  5],\n",
       " ['གནས་སྐོར་མཛེས་ལྗོངས།',\n",
       "  'http://www.shangri-latibet.cn/node_5157.html',\n",
       "  <a href=\"http://www.shangri-latibet.cn/node_5157_6.html\">6</a>,\n",
       "  6],\n",
       " ['སྐྱེ་ཁམས་སྲུང་སྐྱོང་།',\n",
       "  'http://www.shangri-latibet.cn/node_5158.html',\n",
       "  <a href=\"http://www.shangri-latibet.cn/node_5158_10.html\">10</a>,\n",
       "  10],\n",
       " ['ཡུལ་སྐོར་འགྱུར་སྟངས།',\n",
       "  'http://www.shangri-latibet.cn/node_5159.html',\n",
       "  'no link last page link',\n",
       "  1],\n",
       " ['བརྙན་གཟུགས་ཟློས་གར།',\n",
       "  'http://www.shangri-latibet.cn/node_5160.html',\n",
       "  <a href=\"http://www.shangri-latibet.cn/node_5160_5.html\">5</a>,\n",
       "  5],\n",
       " ['སྙན་དབྱངས་འགྱུར་ཁུག',\n",
       "  'http://www.shangri-latibet.cn/node_5161.html',\n",
       "  <a href=\"http://www.shangri-latibet.cn/node_5161_6.html\">6</a>,\n",
       "  6],\n",
       " ['རོལ་རྩེད།',\n",
       "  'http://www.shangri-latibet.cn/node_5162.html',\n",
       "  <a href=\"http://www.shangri-latibet.cn/node_5162_2.html\">2</a>,\n",
       "  2],\n",
       " ['ཆེད་སྒྲིག',\n",
       "  'http://www.shangri-latibet.cn/node_5163.html',\n",
       "  'no link last page link',\n",
       "  1],\n",
       " ['རང་བྱུང་གི་མཛེས་ལྗོངས།',\n",
       "  'http://www.shangri-latibet.cn/node_5164.html',\n",
       "  <a href=\"http://www.shangri-latibet.cn/node_5164_2.html\">2</a>,\n",
       "  2],\n",
       " ['མི་རིགས་ཀྱི་གོམས་གཤིས།',\n",
       "  'http://www.shangri-latibet.cn/node_5165.html',\n",
       "  'no link last page link',\n",
       "  1]]"
      ]
     },
     "execution_count": 30,
     "metadata": {},
     "output_type": "execute_result"
    }
   ],
   "source": [
    "final_link"
   ]
  },
  {
   "cell_type": "code",
   "execution_count": null,
   "id": "e68c29a1-3f1c-40af-b025-3bbeec98745b",
   "metadata": {},
   "outputs": [],
   "source": []
  },
  {
   "cell_type": "code",
   "execution_count": 31,
   "id": "b3cd8de9-dce3-43d4-9bf1-5fe4f55316df",
   "metadata": {},
   "outputs": [],
   "source": [
    "import pandas as pd"
   ]
  },
  {
   "cell_type": "code",
   "execution_count": 33,
   "id": "2fa6a92b-8907-4222-b860-e5275ef8759f",
   "metadata": {},
   "outputs": [
    {
     "data": {
      "text/html": [
       "<div>\n",
       "<style scoped>\n",
       "    .dataframe tbody tr th:only-of-type {\n",
       "        vertical-align: middle;\n",
       "    }\n",
       "\n",
       "    .dataframe tbody tr th {\n",
       "        vertical-align: top;\n",
       "    }\n",
       "\n",
       "    .dataframe thead th {\n",
       "        text-align: right;\n",
       "    }\n",
       "</style>\n",
       "<table border=\"1\" class=\"dataframe\">\n",
       "  <thead>\n",
       "    <tr style=\"text-align: right;\">\n",
       "      <th></th>\n",
       "      <th>name_of_cate</th>\n",
       "      <th>original_url</th>\n",
       "      <th>Last_page_link</th>\n",
       "      <th>list_page_no</th>\n",
       "    </tr>\n",
       "  </thead>\n",
       "  <tbody>\n",
       "    <tr>\n",
       "      <th>0</th>\n",
       "      <td>ས་གནས་གསར་འགྱུར།</td>\n",
       "      <td>http://www.shangri-latibet.cn/node_5112.html</td>\n",
       "      <td>[150]</td>\n",
       "      <td>150</td>\n",
       "    </tr>\n",
       "    <tr>\n",
       "      <th>1</th>\n",
       "      <td>རྒྱལ་ཕྱི་ནང་གསར་འགྱུར།</td>\n",
       "      <td>http://www.shangri-latibet.cn/node_5113.html</td>\n",
       "      <td>[29]</td>\n",
       "      <td>29</td>\n",
       "    </tr>\n",
       "    <tr>\n",
       "      <th>2</th>\n",
       "      <td>བོད་ཁུལ་གསར་འགྱུར།</td>\n",
       "      <td>http://www.shangri-latibet.cn/node_5114.html</td>\n",
       "      <td>[74]</td>\n",
       "      <td>74</td>\n",
       "    </tr>\n",
       "    <tr>\n",
       "      <th>3</th>\n",
       "      <td>ཏང་གི་ཚོགས་ཆེན་བཅོ་བརྒྱད་པ།</td>\n",
       "      <td>http://www.shangri-latibet.cn/node_5115.html</td>\n",
       "      <td>[2]</td>\n",
       "      <td>2</td>\n",
       "    </tr>\n",
       "    <tr>\n",
       "      <th>4</th>\n",
       "      <td>ཚོགས་ཆེན་གཉིས།</td>\n",
       "      <td>http://www.shangri-latibet.cn/node_5116.html</td>\n",
       "      <td>[2]</td>\n",
       "      <td>2</td>\n",
       "    </tr>\n",
       "  </tbody>\n",
       "</table>\n",
       "</div>"
      ],
      "text/plain": [
       "                  name_of_cate                                  original_url  \\\n",
       "0             ས་གནས་གསར་འགྱུར།  http://www.shangri-latibet.cn/node_5112.html   \n",
       "1       རྒྱལ་ཕྱི་ནང་གསར་འགྱུར།  http://www.shangri-latibet.cn/node_5113.html   \n",
       "2           བོད་ཁུལ་གསར་འགྱུར།  http://www.shangri-latibet.cn/node_5114.html   \n",
       "3  ཏང་གི་ཚོགས་ཆེན་བཅོ་བརྒྱད་པ།  http://www.shangri-latibet.cn/node_5115.html   \n",
       "4               ཚོགས་ཆེན་གཉིས།  http://www.shangri-latibet.cn/node_5116.html   \n",
       "\n",
       "  Last_page_link  list_page_no  \n",
       "0          [150]           150  \n",
       "1           [29]            29  \n",
       "2           [74]            74  \n",
       "3            [2]             2  \n",
       "4            [2]             2  "
      ]
     },
     "execution_count": 33,
     "metadata": {},
     "output_type": "execute_result"
    }
   ],
   "source": [
    "df = pd.DataFrame(final_link, columns=['name_of_cate', 'original_url', 'Last_page_link', 'list_page_no'])\n",
    "df.head()"
   ]
  },
  {
   "cell_type": "code",
   "execution_count": null,
   "id": "ba54df9f-8b8c-457b-8de5-c3403663aa71",
   "metadata": {},
   "outputs": [],
   "source": []
  },
  {
   "cell_type": "code",
   "execution_count": 34,
   "id": "ef75950d-ae9a-4bf0-a284-21d07a30793b",
   "metadata": {},
   "outputs": [
    {
     "data": {
      "text/html": [
       "<div>\n",
       "<style scoped>\n",
       "    .dataframe tbody tr th:only-of-type {\n",
       "        vertical-align: middle;\n",
       "    }\n",
       "\n",
       "    .dataframe tbody tr th {\n",
       "        vertical-align: top;\n",
       "    }\n",
       "\n",
       "    .dataframe thead th {\n",
       "        text-align: right;\n",
       "    }\n",
       "</style>\n",
       "<table border=\"1\" class=\"dataframe\">\n",
       "  <thead>\n",
       "    <tr style=\"text-align: right;\">\n",
       "      <th></th>\n",
       "      <th>name_of_cate</th>\n",
       "      <th>original_url</th>\n",
       "      <th>Last_page_link</th>\n",
       "      <th>list_page_no</th>\n",
       "    </tr>\n",
       "  </thead>\n",
       "  <tbody>\n",
       "    <tr>\n",
       "      <th>15</th>\n",
       "      <td>མི་རིགས་སྲིད་ཇུས།</td>\n",
       "      <td>http://www.shangri-latibet.cn/node_5148.html</td>\n",
       "      <td>no link last page link</td>\n",
       "      <td>1</td>\n",
       "    </tr>\n",
       "    <tr>\n",
       "      <th>16</th>\n",
       "      <td>ཆོས་ལུགས་སྲིད་ཇུས།</td>\n",
       "      <td>http://www.shangri-latibet.cn/node_5149.html</td>\n",
       "      <td>no link last page link</td>\n",
       "      <td>1</td>\n",
       "    </tr>\n",
       "    <tr>\n",
       "      <th>21</th>\n",
       "      <td>མི་རིགས་ཀྱི་ད་ཚུལ།</td>\n",
       "      <td>http://www.shangri-latibet.cn/node_5154.html</td>\n",
       "      <td>no link last page link</td>\n",
       "      <td>1</td>\n",
       "    </tr>\n",
       "    <tr>\n",
       "      <th>22</th>\n",
       "      <td>ཆོས་ལུགས་ཀྱི་ད་ཚུལ།</td>\n",
       "      <td>http://www.shangri-latibet.cn/node_5155.html</td>\n",
       "      <td>no link last page link</td>\n",
       "      <td>1</td>\n",
       "    </tr>\n",
       "    <tr>\n",
       "      <th>26</th>\n",
       "      <td>ཡུལ་སྐོར་འགྱུར་སྟངས།</td>\n",
       "      <td>http://www.shangri-latibet.cn/node_5159.html</td>\n",
       "      <td>no link last page link</td>\n",
       "      <td>1</td>\n",
       "    </tr>\n",
       "    <tr>\n",
       "      <th>30</th>\n",
       "      <td>ཆེད་སྒྲིག</td>\n",
       "      <td>http://www.shangri-latibet.cn/node_5163.html</td>\n",
       "      <td>no link last page link</td>\n",
       "      <td>1</td>\n",
       "    </tr>\n",
       "    <tr>\n",
       "      <th>32</th>\n",
       "      <td>མི་རིགས་ཀྱི་གོམས་གཤིས།</td>\n",
       "      <td>http://www.shangri-latibet.cn/node_5165.html</td>\n",
       "      <td>no link last page link</td>\n",
       "      <td>1</td>\n",
       "    </tr>\n",
       "  </tbody>\n",
       "</table>\n",
       "</div>"
      ],
      "text/plain": [
       "              name_of_cate                                  original_url  \\\n",
       "15       མི་རིགས་སྲིད་ཇུས།  http://www.shangri-latibet.cn/node_5148.html   \n",
       "16      ཆོས་ལུགས་སྲིད་ཇུས།  http://www.shangri-latibet.cn/node_5149.html   \n",
       "21      མི་རིགས་ཀྱི་ད་ཚུལ།  http://www.shangri-latibet.cn/node_5154.html   \n",
       "22     ཆོས་ལུགས་ཀྱི་ད་ཚུལ།  http://www.shangri-latibet.cn/node_5155.html   \n",
       "26    ཡུལ་སྐོར་འགྱུར་སྟངས།  http://www.shangri-latibet.cn/node_5159.html   \n",
       "30               ཆེད་སྒྲིག  http://www.shangri-latibet.cn/node_5163.html   \n",
       "32  མི་རིགས་ཀྱི་གོམས་གཤིས།  http://www.shangri-latibet.cn/node_5165.html   \n",
       "\n",
       "            Last_page_link  list_page_no  \n",
       "15  no link last page link             1  \n",
       "16  no link last page link             1  \n",
       "21  no link last page link             1  \n",
       "22  no link last page link             1  \n",
       "26  no link last page link             1  \n",
       "30  no link last page link             1  \n",
       "32  no link last page link             1  "
      ]
     },
     "execution_count": 34,
     "metadata": {},
     "output_type": "execute_result"
    }
   ],
   "source": [
    "df.loc[df.Last_page_link == \"no link last page link\"]"
   ]
  },
  {
   "cell_type": "code",
   "execution_count": 35,
   "id": "7a9dddfc-9d54-4c6f-9457-a0ca703d678f",
   "metadata": {},
   "outputs": [],
   "source": [
    "df.to_csv(\"./data/All_cate.csv\", index=False)"
   ]
  },
  {
   "cell_type": "code",
   "execution_count": 36,
   "id": "b8ece6f1-8be4-45ac-bd8b-e65ed382227f",
   "metadata": {},
   "outputs": [
    {
     "data": {
      "text/plain": [
       "(33, 4)"
      ]
     },
     "execution_count": 36,
     "metadata": {},
     "output_type": "execute_result"
    }
   ],
   "source": [
    "df.shape"
   ]
  },
  {
   "cell_type": "code",
   "execution_count": null,
   "id": "48301f20-5243-4fc9-9ea0-b6e870b3b226",
   "metadata": {},
   "outputs": [],
   "source": []
  }
 ],
 "metadata": {
  "kernelspec": {
   "display_name": "Python 3 (ipykernel)",
   "language": "python",
   "name": "python3"
  },
  "language_info": {
   "codemirror_mode": {
    "name": "ipython",
    "version": 3
   },
   "file_extension": ".py",
   "mimetype": "text/x-python",
   "name": "python",
   "nbconvert_exporter": "python",
   "pygments_lexer": "ipython3",
   "version": "3.10.13"
  }
 },
 "nbformat": 4,
 "nbformat_minor": 5
}
