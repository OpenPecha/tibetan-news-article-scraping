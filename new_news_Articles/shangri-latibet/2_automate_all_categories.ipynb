{
 "cells": [
  {
   "cell_type": "code",
   "execution_count": 1,
   "id": "40147810-a5ac-49c4-9891-123f743b40eb",
   "metadata": {},
   "outputs": [],
   "source": [
    "import requests\n",
    "from bs4 import BeautifulSoup\n",
    "import json\n",
    "import time\n",
    "\n",
    "from tqdm import tqdm"
   ]
  },
  {
   "cell_type": "code",
   "execution_count": 2,
   "id": "7c3970d1-04ce-402d-afa7-fbf8323f6284",
   "metadata": {},
   "outputs": [],
   "source": [
    "import shangri_latibet_utils\n",
    "import pandas as pd"
   ]
  },
  {
   "cell_type": "code",
   "execution_count": null,
   "id": "ca1d7bbc-d27b-4c64-aa2d-5d27409915d7",
   "metadata": {},
   "outputs": [],
   "source": []
  },
  {
   "cell_type": "markdown",
   "id": "685b9b9e-98a7-4a1f-a674-2125437e3fe4",
   "metadata": {},
   "source": [
    "## Here we will extract all the articles links from http://www.shangri-latibet.cn/ webpage\n",
    "URL:  http://www.shangri-latibet.cn/"
   ]
  },
  {
   "cell_type": "markdown",
   "id": "95f69b28-a91e-479a-9d51-3e2d466692a6",
   "metadata": {},
   "source": [
    "Tabs not extracted\n",
    "\n",
    "http://www.shangri-latibet.cn/"
   ]
  },
  {
   "cell_type": "code",
   "execution_count": null,
   "id": "53f131a3-9008-4061-a1c1-191bf90cab51",
   "metadata": {},
   "outputs": [],
   "source": []
  },
  {
   "cell_type": "markdown",
   "id": "acd071a1-9fce-42e8-9d49-0e71dc3b42e4",
   "metadata": {},
   "source": [
    "\n",
    "------------\n",
    "-----------\n",
    "------------\n",
    "------------\n",
    "------------"
   ]
  },
  {
   "cell_type": "code",
   "execution_count": 7,
   "id": "467da2b4-69ca-4b77-b0b5-01ec39d844bc",
   "metadata": {},
   "outputs": [],
   "source": [
    "def loop_article_page(total_page, custom_url, key_code):\n",
    "    \"\"\"\n",
    "    \n",
    "    \"\"\"\n",
    "    return_file = {\n",
    "        \"Data\": [],\n",
    "        \"message\": \"success\",\n",
    "        \"response\": 200\n",
    "    }\n",
    "    All_url_links = {}\n",
    "    \n",
    "    try:\n",
    "        for i in tqdm(range(1, total_page+1)):\n",
    "            if i == 1:\n",
    "                final_url = custom_url + \".html\"\n",
    "            else:\n",
    "                final_url = custom_url+ \"_\" + str(i) + \".html\"\n",
    "                \n",
    "            found_url_links = shangri_latibet_utils.extract_shangri_latibet_page_article_links(final_url)\n",
    "            key = key_code + str(i)\n",
    "            All_url_links[key] = found_url_links\n",
    "        return_file[\"Data\"] = All_url_links\n",
    "        return return_file\n",
    "    \n",
    "    except Exception as e:\n",
    "        return_file[\"Data\"] = All_url_links\n",
    "        return_file[\"message\"] = e\n",
    "        return_file[\"response\"] = 404\n",
    "        return return_file"
   ]
  },
  {
   "cell_type": "code",
   "execution_count": 8,
   "id": "36d048db-f75b-4bbf-99ba-333eb7639175",
   "metadata": {},
   "outputs": [],
   "source": [
    "def check_error_in_links(All_url_link, page_code, print_each_error=False):\n",
    "    \"\"\"\n",
    "    \n",
    "    \n",
    "    \"\"\"\n",
    "\n",
    "    error_counter = 0\n",
    "    for page_id in range(1, len(All_url_link)):\n",
    "        page_key = page_code + str(page_id)\n",
    "        try:\n",
    "            All_url_link.get(page_key)\n",
    "            if  All_url_link.get(page_key)[\"Response\"]!= 200:\n",
    "                error_counter += 1\n",
    "                if print_each_error:\n",
    "                    print(page_key, All_url_link.get(page_key)[\"message\"])\n",
    "        except Exception as e:\n",
    "            print(page_key, e)\n",
    "\n",
    "    print(f\"Total error in {page_code}: {error_counter}\")"
   ]
  },
  {
   "cell_type": "code",
   "execution_count": 9,
   "id": "43edc8d7-14ca-44e8-9fda-7ec78d5e7fe8",
   "metadata": {},
   "outputs": [],
   "source": [
    "def save_json(path, file_name, data):\n",
    "    \"\"\"\n",
    "    \n",
    "    \"\"\"\n",
    "    with open(path+file_name, \"w\") as outfile:\n",
    "        json.dump(data, outfile, indent=4, ensure_ascii=False)\n",
    "        print(f\"Successfully saved: {file_name}\")"
   ]
  },
  {
   "cell_type": "code",
   "execution_count": null,
   "id": "1f46d139-cd34-40d1-be5f-93f40630ccbb",
   "metadata": {},
   "outputs": [],
   "source": []
  },
  {
   "cell_type": "code",
   "execution_count": null,
   "id": "2dfeb92c-62d7-404c-83cc-f2ec569ddadb",
   "metadata": {},
   "outputs": [],
   "source": []
  },
  {
   "cell_type": "markdown",
   "id": "8285b51c-3a40-4e55-bf05-b132ecb3d64c",
   "metadata": {},
   "source": [
    "### all data"
   ]
  },
  {
   "cell_type": "code",
   "execution_count": 10,
   "id": "25b41ef0-af0c-4cee-ad0f-2e6c73282629",
   "metadata": {},
   "outputs": [
    {
     "data": {
      "text/html": [
       "<div>\n",
       "<style scoped>\n",
       "    .dataframe tbody tr th:only-of-type {\n",
       "        vertical-align: middle;\n",
       "    }\n",
       "\n",
       "    .dataframe tbody tr th {\n",
       "        vertical-align: top;\n",
       "    }\n",
       "\n",
       "    .dataframe thead th {\n",
       "        text-align: right;\n",
       "    }\n",
       "</style>\n",
       "<table border=\"1\" class=\"dataframe\">\n",
       "  <thead>\n",
       "    <tr style=\"text-align: right;\">\n",
       "      <th></th>\n",
       "      <th>name_of_cate</th>\n",
       "      <th>original_url</th>\n",
       "      <th>Last_page_link</th>\n",
       "      <th>list_page_no</th>\n",
       "    </tr>\n",
       "  </thead>\n",
       "  <tbody>\n",
       "    <tr>\n",
       "      <th>0</th>\n",
       "      <td>ས་གནས་གསར་འགྱུར།</td>\n",
       "      <td>http://www.shangri-latibet.cn/node_5112.html</td>\n",
       "      <td>&lt;a href=\"http://www.shangri-latibet.cn/node_51...</td>\n",
       "      <td>150</td>\n",
       "    </tr>\n",
       "    <tr>\n",
       "      <th>1</th>\n",
       "      <td>རྒྱལ་ཕྱི་ནང་གསར་འགྱུར།</td>\n",
       "      <td>http://www.shangri-latibet.cn/node_5113.html</td>\n",
       "      <td>&lt;a href=\"http://www.shangri-latibet.cn/node_51...</td>\n",
       "      <td>29</td>\n",
       "    </tr>\n",
       "    <tr>\n",
       "      <th>2</th>\n",
       "      <td>བོད་ཁུལ་གསར་འགྱུར།</td>\n",
       "      <td>http://www.shangri-latibet.cn/node_5114.html</td>\n",
       "      <td>&lt;a href=\"http://www.shangri-latibet.cn/node_51...</td>\n",
       "      <td>74</td>\n",
       "    </tr>\n",
       "    <tr>\n",
       "      <th>3</th>\n",
       "      <td>ཏང་གི་ཚོགས་ཆེན་བཅོ་བརྒྱད་པ།</td>\n",
       "      <td>http://www.shangri-latibet.cn/node_5115.html</td>\n",
       "      <td>&lt;a href=\"http://www.shangri-latibet.cn/node_51...</td>\n",
       "      <td>2</td>\n",
       "    </tr>\n",
       "    <tr>\n",
       "      <th>4</th>\n",
       "      <td>ཚོགས་ཆེན་གཉིས།</td>\n",
       "      <td>http://www.shangri-latibet.cn/node_5116.html</td>\n",
       "      <td>&lt;a href=\"http://www.shangri-latibet.cn/node_51...</td>\n",
       "      <td>2</td>\n",
       "    </tr>\n",
       "  </tbody>\n",
       "</table>\n",
       "</div>"
      ],
      "text/plain": [
       "                  name_of_cate                                  original_url  \\\n",
       "0             ས་གནས་གསར་འགྱུར།  http://www.shangri-latibet.cn/node_5112.html   \n",
       "1       རྒྱལ་ཕྱི་ནང་གསར་འགྱུར།  http://www.shangri-latibet.cn/node_5113.html   \n",
       "2           བོད་ཁུལ་གསར་འགྱུར།  http://www.shangri-latibet.cn/node_5114.html   \n",
       "3  ཏང་གི་ཚོགས་ཆེན་བཅོ་བརྒྱད་པ།  http://www.shangri-latibet.cn/node_5115.html   \n",
       "4               ཚོགས་ཆེན་གཉིས།  http://www.shangri-latibet.cn/node_5116.html   \n",
       "\n",
       "                                      Last_page_link  list_page_no  \n",
       "0  <a href=\"http://www.shangri-latibet.cn/node_51...           150  \n",
       "1  <a href=\"http://www.shangri-latibet.cn/node_51...            29  \n",
       "2  <a href=\"http://www.shangri-latibet.cn/node_51...            74  \n",
       "3  <a href=\"http://www.shangri-latibet.cn/node_51...             2  \n",
       "4  <a href=\"http://www.shangri-latibet.cn/node_51...             2  "
      ]
     },
     "execution_count": 10,
     "metadata": {},
     "output_type": "execute_result"
    }
   ],
   "source": [
    "df = pd.read_csv(\"./data/All_cate.csv\")\n",
    "df.head()"
   ]
  },
  {
   "cell_type": "code",
   "execution_count": 16,
   "id": "3d271a88-5471-41a0-bd2d-838eca8b02d0",
   "metadata": {},
   "outputs": [
    {
     "data": {
      "text/plain": [
       "(33, 4)"
      ]
     },
     "execution_count": 16,
     "metadata": {},
     "output_type": "execute_result"
    }
   ],
   "source": [
    "sample_df = df\n",
    "sample_df.shape"
   ]
  },
  {
   "cell_type": "code",
   "execution_count": null,
   "id": "81485921-1ab2-4589-9c7d-ab4ff580093d",
   "metadata": {},
   "outputs": [
    {
     "name": "stderr",
     "output_type": "stream",
     "text": [
      "100%|██████████| 150/150 [02:14<00:00,  1.12it/s]\n"
     ]
    },
    {
     "name": "stdout",
     "output_type": "stream",
     "text": [
      "Total page in ས་གནས་གསར་འགྱུར།: 150\n",
      "Total error in Page ས་གནས་གསར་འགྱུར། : 0\n",
      "Successfully saved: shangri_latibet_ALL_link_ས་གནས་གསར་འགྱུར།.json\n"
     ]
    },
    {
     "name": "stderr",
     "output_type": "stream",
     "text": [
      "100%|██████████| 29/29 [00:26<00:00,  1.10it/s]\n"
     ]
    },
    {
     "name": "stdout",
     "output_type": "stream",
     "text": [
      "Total page in རྒྱལ་ཕྱི་ནང་གསར་འགྱུར།: 29\n",
      "Total error in Page རྒྱལ་ཕྱི་ནང་གསར་འགྱུར། : 0\n",
      "Successfully saved: shangri_latibet_ALL_link_རྒྱལ་ཕྱི་ནང་གསར་འགྱུར།.json\n"
     ]
    },
    {
     "name": "stderr",
     "output_type": "stream",
     "text": [
      "100%|██████████| 74/74 [01:04<00:00,  1.14it/s]\n"
     ]
    },
    {
     "name": "stdout",
     "output_type": "stream",
     "text": [
      "Total page in བོད་ཁུལ་གསར་འགྱུར།: 74\n",
      "Total error in Page བོད་ཁུལ་གསར་འགྱུར། : 0\n",
      "Successfully saved: shangri_latibet_ALL_link_བོད་ཁུལ་གསར་འགྱུར།.json\n"
     ]
    },
    {
     "name": "stderr",
     "output_type": "stream",
     "text": [
      "100%|██████████| 2/2 [00:01<00:00,  1.41it/s]\n"
     ]
    },
    {
     "name": "stdout",
     "output_type": "stream",
     "text": [
      "Total page in ཏང་གི་ཚོགས་ཆེན་བཅོ་བརྒྱད་པ།: 2\n",
      "Total error in Page ཏང་གི་ཚོགས་ཆེན་བཅོ་བརྒྱད་པ། : 0\n",
      "Successfully saved: shangri_latibet_ALL_link_ཏང་གི་ཚོགས་ཆེན་བཅོ་བརྒྱད་པ།.json\n"
     ]
    },
    {
     "name": "stderr",
     "output_type": "stream",
     "text": [
      "100%|██████████| 2/2 [00:01<00:00,  1.16it/s]\n"
     ]
    },
    {
     "name": "stdout",
     "output_type": "stream",
     "text": [
      "Total page in ཚོགས་ཆེན་གཉིས།: 2\n",
      "Total error in Page ཚོགས་ཆེན་གཉིས། : 0\n",
      "Successfully saved: shangri_latibet_ALL_link_ཚོགས་ཆེན་གཉིས།.json\n"
     ]
    },
    {
     "name": "stderr",
     "output_type": "stream",
     "text": [
      "100%|██████████| 2/2 [00:01<00:00,  1.16it/s]\n"
     ]
    },
    {
     "name": "stdout",
     "output_type": "stream",
     "text": [
      "Total page in གལ་ཆེའི་མཛད་སྒོ།: 2\n",
      "Total error in Page གལ་ཆེའི་མཛད་སྒོ། : 0\n",
      "Successfully saved: shangri_latibet_ALL_link_གལ་ཆེའི་མཛད་སྒོ།.json\n"
     ]
    },
    {
     "name": "stderr",
     "output_type": "stream",
     "text": [
      "100%|██████████| 4/4 [00:03<00:00,  1.15it/s]\n"
     ]
    },
    {
     "name": "stdout",
     "output_type": "stream",
     "text": [
      "Total page in དཔལ་འབྱོར་འགྱུར་སྟངས།: 4\n",
      "Total error in Page དཔལ་འབྱོར་འགྱུར་སྟངས། : 0\n",
      "Successfully saved: shangri_latibet_ALL_link_དཔལ་འབྱོར་འགྱུར་སྟངས།.json\n"
     ]
    },
    {
     "name": "stderr",
     "output_type": "stream",
     "text": [
      "100%|██████████| 2/2 [00:01<00:00,  1.13it/s]\n"
     ]
    },
    {
     "name": "stdout",
     "output_type": "stream",
     "text": [
      "Total page in མ་རྩའི་འདེབས་ཕྱོགས།: 2\n",
      "Total error in Page མ་རྩའི་འདེབས་ཕྱོགས། : 0\n",
      "Successfully saved: shangri_latibet_ALL_link_མ་རྩའི་འདེབས་ཕྱོགས།.json\n"
     ]
    },
    {
     "name": "stderr",
     "output_type": "stream",
     "text": [
      "100%|██████████| 2/2 [00:01<00:00,  1.18it/s]\n"
     ]
    },
    {
     "name": "stdout",
     "output_type": "stream",
     "text": [
      "Total page in ཁྱིམ་ཇུས་ནོར་གཉེར།: 2\n",
      "Total error in Page ཁྱིམ་ཇུས་ནོར་གཉེར། : 0\n",
      "Successfully saved: shangri_latibet_ALL_link_ཁྱིམ་ཇུས་ནོར་གཉེར།.json\n"
     ]
    },
    {
     "name": "stderr",
     "output_type": "stream",
     "text": [
      "100%|██████████| 3/3 [00:02<00:00,  1.18it/s]\n"
     ]
    },
    {
     "name": "stdout",
     "output_type": "stream",
     "text": [
      "Total page in འབྱོར་ཕྱུག་གཏམ་རྒྱུད།: 3\n",
      "Total error in Page འབྱོར་ཕྱུག་གཏམ་རྒྱུད། : 0\n",
      "Successfully saved: shangri_latibet_ALL_link_འབྱོར་ཕྱུག་གཏམ་རྒྱུད།.json\n"
     ]
    },
    {
     "name": "stderr",
     "output_type": "stream",
     "text": [
      "100%|██████████| 12/12 [00:11<00:00,  1.04it/s]\n"
     ]
    },
    {
     "name": "stdout",
     "output_type": "stream",
     "text": [
      "Total page in སློབ་གསོ།: 12\n",
      "Total error in Page སློབ་གསོ། : 0\n",
      "Successfully saved: shangri_latibet_ALL_link_སློབ་གསོ།.json\n"
     ]
    },
    {
     "name": "stderr",
     "output_type": "stream",
     "text": [
      "100%|██████████| 6/6 [00:05<00:00,  1.17it/s]\n"
     ]
    },
    {
     "name": "stdout",
     "output_type": "stream",
     "text": [
      "Total page in རྩོམ་རིག: 6\n",
      "Total error in Page རྩོམ་རིག : 0\n",
      "Successfully saved: shangri_latibet_ALL_link_རྩོམ་རིག.json\n"
     ]
    },
    {
     "name": "stderr",
     "output_type": "stream",
     "text": [
      "100%|██████████| 6/6 [00:05<00:00,  1.14it/s]\n"
     ]
    },
    {
     "name": "stdout",
     "output_type": "stream",
     "text": [
      "Total page in ལོ་རྒྱུས།: 6\n",
      "Total error in Page ལོ་རྒྱུས། : 0\n",
      "Successfully saved: shangri_latibet_ALL_link_ལོ་རྒྱུས།.json\n"
     ]
    },
    {
     "name": "stderr",
     "output_type": "stream",
     "text": [
      "100%|██████████| 25/25 [00:21<00:00,  1.14it/s]\n"
     ]
    },
    {
     "name": "stdout",
     "output_type": "stream",
     "text": [
      "Total page in གསོ་རིག: 25\n",
      "Total error in Page གསོ་རིག : 0\n",
      "Successfully saved: shangri_latibet_ALL_link_གསོ་རིག.json\n"
     ]
    },
    {
     "name": "stderr",
     "output_type": "stream",
     "text": [
      "100%|██████████| 2/2 [00:01<00:00,  1.35it/s]\n"
     ]
    },
    {
     "name": "stdout",
     "output_type": "stream",
     "text": [
      "Total page in དཔེ་གཟིགས།: 2\n",
      "Total error in Page དཔེ་གཟིགས། : 0\n",
      "Successfully saved: shangri_latibet_ALL_link_དཔེ་གཟིགས།.json\n"
     ]
    },
    {
     "name": "stderr",
     "output_type": "stream",
     "text": [
      "100%|██████████| 1/1 [00:00<00:00,  1.12it/s]\n"
     ]
    },
    {
     "name": "stdout",
     "output_type": "stream",
     "text": [
      "Total page in མི་རིགས་སྲིད་ཇུས།: 1\n",
      "Total error in Page མི་རིགས་སྲིད་ཇུས། : 0\n",
      "Successfully saved: shangri_latibet_ALL_link_མི་རིགས་སྲིད་ཇུས།.json\n"
     ]
    },
    {
     "name": "stderr",
     "output_type": "stream",
     "text": [
      "100%|██████████| 1/1 [00:00<00:00,  1.18it/s]\n"
     ]
    },
    {
     "name": "stdout",
     "output_type": "stream",
     "text": [
      "Total page in ཆོས་ལུགས་སྲིད་ཇུས།: 1\n",
      "Total error in Page ཆོས་ལུགས་སྲིད་ཇུས། : 0\n",
      "Successfully saved: shangri_latibet_ALL_link_ཆོས་ལུགས་སྲིད་ཇུས།.json\n"
     ]
    },
    {
     "name": "stderr",
     "output_type": "stream",
     "text": [
      "100%|██████████| 2/2 [00:01<00:00,  1.15it/s]\n"
     ]
    },
    {
     "name": "stdout",
     "output_type": "stream",
     "text": [
      "Total page in ཆོས་ལུགས་རིག་གནས།: 2\n",
      "Total error in Page ཆོས་ལུགས་རིག་གནས། : 0\n",
      "Successfully saved: shangri_latibet_ALL_link_ཆོས་ལུགས་རིག་གནས།.json\n"
     ]
    },
    {
     "name": "stderr",
     "output_type": "stream",
     "text": [
      "100%|██████████| 2/2 [00:01<00:00,  1.22it/s]\n"
     ]
    },
    {
     "name": "stdout",
     "output_type": "stream",
     "text": [
      "Total page in དགོན་སྡེ་ངོ་སྤྲོད།: 2\n",
      "Total error in Page དགོན་སྡེ་ངོ་སྤྲོད། : 0\n",
      "Successfully saved: shangri_latibet_ALL_link_དགོན་སྡེ་ངོ་སྤྲོད།.json\n"
     ]
    },
    {
     "name": "stderr",
     "output_type": "stream",
     "text": [
      "100%|██████████| 4/4 [00:03<00:00,  1.14it/s]\n"
     ]
    },
    {
     "name": "stdout",
     "output_type": "stream",
     "text": [
      "Total page in སྲོལ་རྒྱུན་དུས་སྟོན།: 4\n",
      "Total error in Page སྲོལ་རྒྱུན་དུས་སྟོན། : 0\n",
      "Successfully saved: shangri_latibet_ALL_link_སྲོལ་རྒྱུན་དུས་སྟོན།.json\n"
     ]
    },
    {
     "name": "stderr",
     "output_type": "stream",
     "text": [
      "100%|██████████| 11/11 [00:09<00:00,  1.20it/s]\n"
     ]
    },
    {
     "name": "stdout",
     "output_type": "stream",
     "text": [
      "Total page in ཡུལ་སྲོལ་གོམས་གཤིས།: 11\n",
      "Total error in Page ཡུལ་སྲོལ་གོམས་གཤིས། : 0\n",
      "Successfully saved: shangri_latibet_ALL_link_ཡུལ་སྲོལ་གོམས་གཤིས།.json\n"
     ]
    },
    {
     "name": "stderr",
     "output_type": "stream",
     "text": [
      "100%|██████████| 1/1 [00:00<00:00,  1.15it/s]\n"
     ]
    },
    {
     "name": "stdout",
     "output_type": "stream",
     "text": [
      "Total page in མི་རིགས་ཀྱི་ད་ཚུལ།: 1\n",
      "Total error in Page མི་རིགས་ཀྱི་ད་ཚུལ། : 0\n",
      "Successfully saved: shangri_latibet_ALL_link_མི་རིགས་ཀྱི་ད་ཚུལ།.json\n"
     ]
    },
    {
     "name": "stderr",
     "output_type": "stream",
     "text": [
      "100%|██████████| 1/1 [00:01<00:00,  1.02s/it]\n"
     ]
    },
    {
     "name": "stdout",
     "output_type": "stream",
     "text": [
      "Total page in ཆོས་ལུགས་ཀྱི་ད་ཚུལ།: 1\n",
      "Total error in Page ཆོས་ལུགས་ཀྱི་ད་ཚུལ། : 0\n",
      "Successfully saved: shangri_latibet_ALL_link_ཆོས་ལུགས་ཀྱི་ད་ཚུལ།.json\n"
     ]
    },
    {
     "name": "stderr",
     "output_type": "stream",
     "text": [
      "100%|██████████| 5/5 [00:04<00:00,  1.15it/s]\n"
     ]
    },
    {
     "name": "stdout",
     "output_type": "stream",
     "text": [
      "Total page in གནས་ཁམས་ཆེན།: 5\n",
      "Total error in Page གནས་ཁམས་ཆེན། : 0\n",
      "Successfully saved: shangri_latibet_ALL_link_གནས་ཁམས་ཆེན།.json\n"
     ]
    },
    {
     "name": "stderr",
     "output_type": "stream",
     "text": [
      "100%|██████████| 6/6 [00:05<00:00,  1.16it/s]\n"
     ]
    },
    {
     "name": "stdout",
     "output_type": "stream",
     "text": [
      "Total page in གནས་སྐོར་མཛེས་ལྗོངས།: 6\n",
      "Total error in Page གནས་སྐོར་མཛེས་ལྗོངས། : 0\n",
      "Successfully saved: shangri_latibet_ALL_link_གནས་སྐོར་མཛེས་ལྗོངས།.json\n"
     ]
    },
    {
     "name": "stderr",
     "output_type": "stream",
     "text": [
      "100%|██████████| 10/10 [00:09<00:00,  1.09it/s]\n"
     ]
    },
    {
     "name": "stdout",
     "output_type": "stream",
     "text": [
      "Total page in སྐྱེ་ཁམས་སྲུང་སྐྱོང་།: 10\n",
      "Total error in Page སྐྱེ་ཁམས་སྲུང་སྐྱོང་། : 0\n",
      "Successfully saved: shangri_latibet_ALL_link_སྐྱེ་ཁམས་སྲུང་སྐྱོང་།.json\n"
     ]
    }
   ],
   "source": [
    "for index, row in sample_df.iterrows():\n",
    "    # print(row)\n",
    "    name_of_cate = row[\"name_of_cate\"]\n",
    "    original_url = row[\"original_url\"]\n",
    "    Last_page_link = row[\"Last_page_link\"]\n",
    "    list_page_no = row[\"list_page_no\"]\n",
    "\n",
    "    total_page = list_page_no\n",
    "    custom_url = original_url.replace(\".html\", \"\")\n",
    "    article_tag = name_of_cate\n",
    "    key_code = \"Page \" + article_tag + \" \"\n",
    "    all_links = loop_article_page(total_page, custom_url, key_code)\n",
    "    \n",
    "    print(f\"Total page in {article_tag}: {len(all_links['Data'])}\")\n",
    "    check_error_in_links(all_links['Data'], key_code, print_each_error=True)\n",
    "\n",
    "    # Saving the final file\n",
    "    path = \"./data/links/\"\n",
    "    file_name = f\"shangri_latibet_ALL_link_{article_tag}.json\"\n",
    "    save_json(path, file_name, all_links['Data'])\n",
    "    "
   ]
  },
  {
   "cell_type": "code",
   "execution_count": null,
   "id": "9f5b009e-18db-4c0c-a6e8-85796931a527",
   "metadata": {},
   "outputs": [],
   "source": []
  },
  {
   "cell_type": "code",
   "execution_count": null,
   "id": "07dbafae-8dae-43e7-909f-2eb631654e88",
   "metadata": {},
   "outputs": [],
   "source": []
  }
 ],
 "metadata": {
  "kernelspec": {
   "display_name": "Python 3 (ipykernel)",
   "language": "python",
   "name": "python3"
  },
  "language_info": {
   "codemirror_mode": {
    "name": "ipython",
    "version": 3
   },
   "file_extension": ".py",
   "mimetype": "text/x-python",
   "name": "python",
   "nbconvert_exporter": "python",
   "pygments_lexer": "ipython3",
   "version": "3.10.13"
  }
 },
 "nbformat": 4,
 "nbformat_minor": 5
}
