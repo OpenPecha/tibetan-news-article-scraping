{
 "cells": [
  {
   "cell_type": "code",
   "execution_count": 20,
   "id": "9970f2f1-657b-4cbd-8565-0eee49cca39d",
   "metadata": {},
   "outputs": [],
   "source": [
    "import requests\n",
    "from bs4 import BeautifulSoup\n",
    "import json\n",
    "import time\n",
    "from tqdm import tqdm\n",
    "import re\n",
    "import tibetcm_utils\n",
    "\n",
    "import os\n",
    "import json"
   ]
  },
  {
   "cell_type": "code",
   "execution_count": 27,
   "id": "a112f119-3bf5-4f13-8b48-10d149243e0b",
   "metadata": {},
   "outputs": [],
   "source": [
    "class CustomJSONEncoder(json.JSONEncoder):\n",
    "    def default(self, obj):\n",
    "        if isinstance(obj, Tag):\n",
    "            return obj.string  # or obj.text, depending on what you want to extract\n",
    "        return super().default(obj)\n",
    "\n",
    "def save_json(path, file_name, data):\n",
    "    try: \n",
    "        with open(path + file_name, \"w\", encoding='utf-8') as outfile:\n",
    "            json.dump(data, outfile, indent=4, ensure_ascii=False, cls=CustomJSONEncoder)\n",
    "        print(f\"Successfully saved: {file_name}\")\n",
    "    except Exception as e:\n",
    "        print(e)\n",
    "\n",
    "def read_json(path, file_name):\n",
    "    \"\"\"\n",
    "    \n",
    "    \"\"\"\n",
    "    with open(path+file_name, 'r') as openfile:\n",
    "        # Reading from json file\n",
    "        Loaded_file = json.load(openfile)\n",
    "        print(f\"Successfully loaded: {file_name}\")\n",
    "\n",
    "    return Loaded_file\n"
   ]
  },
  {
   "cell_type": "code",
   "execution_count": 28,
   "id": "0e623992-f0b0-4fe7-84de-09ecc347e067",
   "metadata": {},
   "outputs": [],
   "source": []
  },
  {
   "cell_type": "code",
   "execution_count": null,
   "id": "94bb1bbf-4cd9-4dbb-8103-2cddb3a5c6e6",
   "metadata": {},
   "outputs": [],
   "source": []
  },
  {
   "cell_type": "code",
   "execution_count": 29,
   "id": "c8a194cb-f63b-4577-98bf-bf9236d72150",
   "metadata": {},
   "outputs": [],
   "source": [
    "def get_content(All_links_data, Total_lenght, page_key_code, page_key_list):\n",
    "    start = 1\n",
    "    all_article = {}\n",
    "    \n",
    "    for i in tqdm(range(start, Total_lenght+1)):\n",
    "        page_key = page_key_code + str(i)\n",
    "        all_link_page = All_links_data[page_key][\"Links\"]\n",
    "        page_article_index = 1\n",
    "        \n",
    "        for each_URL in all_link_page:\n",
    "            article_content = tibetcm_utils.scrape_tibetcm_article_content(each_URL, tags=page_key_code)\n",
    "            article_key = page_key + \"_tibetcm_Article_\" + str(page_article_index)\n",
    "            page_article_index += 1\n",
    "            all_article[article_key] = article_content\n",
    "\n",
    "\n",
    "    Failure_count = 0\n",
    "    for each_article_key in all_article:\n",
    "        if all_article[each_article_key][\"Response\"] != 200:\n",
    "            print(each_article_key)\n",
    "            Failure_count += 1\n",
    "    print(f\"total Failure in the {page_key_list[1]} article: {Failure_count}\")\n",
    "\n",
    "    save_file_name = f\"tibetcm_ALL_content_{page_key_list[1]}.json\"\n",
    "    print(save_file_name)\n",
    "    path = \"./data/all_content/\"\n",
    "    save_json(path, save_file_name, all_article)\n",
    "    return all_article\n",
    "    \n",
    "    "
   ]
  },
  {
   "cell_type": "code",
   "execution_count": null,
   "id": "72f99d5c-99be-47e3-814f-3f6d09cd68c8",
   "metadata": {},
   "outputs": [],
   "source": []
  },
  {
   "cell_type": "code",
   "execution_count": 26,
   "id": "5512531e-4d55-404a-9a7e-5629d57b6ce6",
   "metadata": {},
   "outputs": [
    {
     "name": "stdout",
     "output_type": "stream",
     "text": [
      "Total page in tibetcm_ALL_link_ལེགས་རྩོམ།.json: 1\n",
      "page key name: Page ལེགས་རྩོམ། 1\n",
      "Page key code: Page ལེགས་རྩོམ། \n"
     ]
    },
    {
     "name": "stderr",
     "output_type": "stream",
     "text": [
      "100%|██████████| 1/1 [01:25<00:00, 85.75s/it]"
     ]
    },
    {
     "name": "stdout",
     "output_type": "stream",
     "text": [
      "total Failure in the ལེགས་རྩོམ། article: 0\n",
      "tibetcm_ALL_content_ལེགས་རྩོམ།.json\n"
     ]
    },
    {
     "name": "stderr",
     "output_type": "stream",
     "text": [
      "\n"
     ]
    },
    {
     "ename": "NameError",
     "evalue": "name 'Tag' is not defined",
     "output_type": "error",
     "traceback": [
      "\u001b[0;31m---------------------------------------------------------------------------\u001b[0m",
      "\u001b[0;31mNameError\u001b[0m                                 Traceback (most recent call last)",
      "Cell \u001b[0;32mIn[26], line 37\u001b[0m\n\u001b[1;32m     33\u001b[0m     \u001b[38;5;66;03m# return json_files\u001b[39;00m\n\u001b[1;32m     34\u001b[0m \n\u001b[1;32m     35\u001b[0m \u001b[38;5;66;03m# Example usage\u001b[39;00m\n\u001b[1;32m     36\u001b[0m directory_path \u001b[38;5;241m=\u001b[39m \u001b[38;5;124m'\u001b[39m\u001b[38;5;124m./data/links/\u001b[39m\u001b[38;5;124m'\u001b[39m\n\u001b[0;32m---> 37\u001b[0m json_files \u001b[38;5;241m=\u001b[39m \u001b[43mget_json_files\u001b[49m\u001b[43m(\u001b[49m\u001b[43mdirectory_path\u001b[49m\u001b[43m)\u001b[49m\n",
      "Cell \u001b[0;32mIn[26], line 26\u001b[0m, in \u001b[0;36mget_json_files\u001b[0;34m(directory)\u001b[0m\n\u001b[1;32m     23\u001b[0m     page_key_code \u001b[38;5;241m=\u001b[39m \u001b[38;5;124m\"\u001b[39m\u001b[38;5;124mPage \u001b[39m\u001b[38;5;124m\"\u001b[39m\u001b[38;5;241m+\u001b[39mpage_key_list[\u001b[38;5;241m1\u001b[39m]\u001b[38;5;241m+\u001b[39m\u001b[38;5;124m\"\u001b[39m\u001b[38;5;124m \u001b[39m\u001b[38;5;124m\"\u001b[39m\n\u001b[1;32m     24\u001b[0m     \u001b[38;5;28mprint\u001b[39m(\u001b[38;5;124mf\u001b[39m\u001b[38;5;124m\"\u001b[39m\u001b[38;5;124mPage key code: \u001b[39m\u001b[38;5;132;01m{\u001b[39;00mpage_key_code\u001b[38;5;132;01m}\u001b[39;00m\u001b[38;5;124m\"\u001b[39m)\n\u001b[0;32m---> 26\u001b[0m     \u001b[43mget_content\u001b[49m\u001b[43m(\u001b[49m\u001b[43mAll_links_data\u001b[49m\u001b[43m,\u001b[49m\u001b[43m \u001b[49m\u001b[43mTotal_lenght\u001b[49m\u001b[43m,\u001b[49m\u001b[43m \u001b[49m\u001b[43mpage_key_code\u001b[49m\u001b[43m,\u001b[49m\u001b[43m \u001b[49m\u001b[43mpage_key_list\u001b[49m\u001b[43m)\u001b[49m\n\u001b[1;32m     28\u001b[0m     \u001b[38;5;66;03m# json_files.append((filename, json_data))\u001b[39;00m\n\u001b[1;32m     29\u001b[0m \u001b[38;5;28;01mexcept\u001b[39;00m json\u001b[38;5;241m.\u001b[39mJSONDecodeError:\n",
      "Cell \u001b[0;32mIn[23], line 27\u001b[0m, in \u001b[0;36mget_content\u001b[0;34m(All_links_data, Total_lenght, page_key_code, page_key_list)\u001b[0m\n\u001b[1;32m     25\u001b[0m \u001b[38;5;28mprint\u001b[39m(save_file_name)\n\u001b[1;32m     26\u001b[0m path \u001b[38;5;241m=\u001b[39m \u001b[38;5;124m\"\u001b[39m\u001b[38;5;124m./data/all_content/\u001b[39m\u001b[38;5;124m\"\u001b[39m\n\u001b[0;32m---> 27\u001b[0m \u001b[43msave_json\u001b[49m\u001b[43m(\u001b[49m\u001b[43mpath\u001b[49m\u001b[43m,\u001b[49m\u001b[43m \u001b[49m\u001b[43msave_file_name\u001b[49m\u001b[43m,\u001b[49m\u001b[43m \u001b[49m\u001b[43mall_article\u001b[49m\u001b[43m)\u001b[49m\n",
      "Cell \u001b[0;32mIn[25], line 9\u001b[0m, in \u001b[0;36msave_json\u001b[0;34m(path, file_name, data)\u001b[0m\n\u001b[1;32m      7\u001b[0m \u001b[38;5;28;01mdef\u001b[39;00m \u001b[38;5;21msave_json\u001b[39m(path, file_name, data):\n\u001b[1;32m      8\u001b[0m     \u001b[38;5;28;01mwith\u001b[39;00m \u001b[38;5;28mopen\u001b[39m(path \u001b[38;5;241m+\u001b[39m file_name, \u001b[38;5;124m\"\u001b[39m\u001b[38;5;124mw\u001b[39m\u001b[38;5;124m\"\u001b[39m, encoding\u001b[38;5;241m=\u001b[39m\u001b[38;5;124m'\u001b[39m\u001b[38;5;124mutf-8\u001b[39m\u001b[38;5;124m'\u001b[39m) \u001b[38;5;28;01mas\u001b[39;00m outfile:\n\u001b[0;32m----> 9\u001b[0m         \u001b[43mjson\u001b[49m\u001b[38;5;241;43m.\u001b[39;49m\u001b[43mdump\u001b[49m\u001b[43m(\u001b[49m\u001b[43mdata\u001b[49m\u001b[43m,\u001b[49m\u001b[43m \u001b[49m\u001b[43moutfile\u001b[49m\u001b[43m,\u001b[49m\u001b[43m \u001b[49m\u001b[43mindent\u001b[49m\u001b[38;5;241;43m=\u001b[39;49m\u001b[38;5;241;43m4\u001b[39;49m\u001b[43m,\u001b[49m\u001b[43m \u001b[49m\u001b[43mensure_ascii\u001b[49m\u001b[38;5;241;43m=\u001b[39;49m\u001b[38;5;28;43;01mFalse\u001b[39;49;00m\u001b[43m,\u001b[49m\u001b[43m \u001b[49m\u001b[38;5;28;43mcls\u001b[39;49m\u001b[38;5;241;43m=\u001b[39;49m\u001b[43mCustomJSONEncoder\u001b[49m\u001b[43m)\u001b[49m\n\u001b[1;32m     10\u001b[0m     \u001b[38;5;28mprint\u001b[39m(\u001b[38;5;124mf\u001b[39m\u001b[38;5;124m\"\u001b[39m\u001b[38;5;124mSuccessfully saved: \u001b[39m\u001b[38;5;132;01m{\u001b[39;00mfile_name\u001b[38;5;132;01m}\u001b[39;00m\u001b[38;5;124m\"\u001b[39m)\n",
      "File \u001b[0;32m/opt/conda/lib/python3.10/json/__init__.py:179\u001b[0m, in \u001b[0;36mdump\u001b[0;34m(obj, fp, skipkeys, ensure_ascii, check_circular, allow_nan, cls, indent, separators, default, sort_keys, **kw)\u001b[0m\n\u001b[1;32m    173\u001b[0m     iterable \u001b[38;5;241m=\u001b[39m \u001b[38;5;28mcls\u001b[39m(skipkeys\u001b[38;5;241m=\u001b[39mskipkeys, ensure_ascii\u001b[38;5;241m=\u001b[39mensure_ascii,\n\u001b[1;32m    174\u001b[0m         check_circular\u001b[38;5;241m=\u001b[39mcheck_circular, allow_nan\u001b[38;5;241m=\u001b[39mallow_nan, indent\u001b[38;5;241m=\u001b[39mindent,\n\u001b[1;32m    175\u001b[0m         separators\u001b[38;5;241m=\u001b[39mseparators,\n\u001b[1;32m    176\u001b[0m         default\u001b[38;5;241m=\u001b[39mdefault, sort_keys\u001b[38;5;241m=\u001b[39msort_keys, \u001b[38;5;241m*\u001b[39m\u001b[38;5;241m*\u001b[39mkw)\u001b[38;5;241m.\u001b[39miterencode(obj)\n\u001b[1;32m    177\u001b[0m \u001b[38;5;66;03m# could accelerate with writelines in some versions of Python, at\u001b[39;00m\n\u001b[1;32m    178\u001b[0m \u001b[38;5;66;03m# a debuggability cost\u001b[39;00m\n\u001b[0;32m--> 179\u001b[0m \u001b[38;5;28;01mfor\u001b[39;00m chunk \u001b[38;5;129;01min\u001b[39;00m iterable:\n\u001b[1;32m    180\u001b[0m     fp\u001b[38;5;241m.\u001b[39mwrite(chunk)\n",
      "File \u001b[0;32m/opt/conda/lib/python3.10/json/encoder.py:431\u001b[0m, in \u001b[0;36m_make_iterencode.<locals>._iterencode\u001b[0;34m(o, _current_indent_level)\u001b[0m\n\u001b[1;32m    429\u001b[0m     \u001b[38;5;28;01myield from\u001b[39;00m _iterencode_list(o, _current_indent_level)\n\u001b[1;32m    430\u001b[0m \u001b[38;5;28;01melif\u001b[39;00m \u001b[38;5;28misinstance\u001b[39m(o, \u001b[38;5;28mdict\u001b[39m):\n\u001b[0;32m--> 431\u001b[0m     \u001b[38;5;28;01myield from\u001b[39;00m _iterencode_dict(o, _current_indent_level)\n\u001b[1;32m    432\u001b[0m \u001b[38;5;28;01melse\u001b[39;00m:\n\u001b[1;32m    433\u001b[0m     \u001b[38;5;28;01mif\u001b[39;00m markers \u001b[38;5;129;01mis\u001b[39;00m \u001b[38;5;129;01mnot\u001b[39;00m \u001b[38;5;28;01mNone\u001b[39;00m:\n",
      "File \u001b[0;32m/opt/conda/lib/python3.10/json/encoder.py:405\u001b[0m, in \u001b[0;36m_make_iterencode.<locals>._iterencode_dict\u001b[0;34m(dct, _current_indent_level)\u001b[0m\n\u001b[1;32m    403\u001b[0m         \u001b[38;5;28;01melse\u001b[39;00m:\n\u001b[1;32m    404\u001b[0m             chunks \u001b[38;5;241m=\u001b[39m _iterencode(value, _current_indent_level)\n\u001b[0;32m--> 405\u001b[0m         \u001b[38;5;28;01myield from\u001b[39;00m chunks\n\u001b[1;32m    406\u001b[0m \u001b[38;5;28;01mif\u001b[39;00m newline_indent \u001b[38;5;129;01mis\u001b[39;00m \u001b[38;5;129;01mnot\u001b[39;00m \u001b[38;5;28;01mNone\u001b[39;00m:\n\u001b[1;32m    407\u001b[0m     _current_indent_level \u001b[38;5;241m-\u001b[39m\u001b[38;5;241m=\u001b[39m \u001b[38;5;241m1\u001b[39m\n",
      "File \u001b[0;32m/opt/conda/lib/python3.10/json/encoder.py:405\u001b[0m, in \u001b[0;36m_make_iterencode.<locals>._iterencode_dict\u001b[0;34m(dct, _current_indent_level)\u001b[0m\n\u001b[1;32m    403\u001b[0m         \u001b[38;5;28;01melse\u001b[39;00m:\n\u001b[1;32m    404\u001b[0m             chunks \u001b[38;5;241m=\u001b[39m _iterencode(value, _current_indent_level)\n\u001b[0;32m--> 405\u001b[0m         \u001b[38;5;28;01myield from\u001b[39;00m chunks\n\u001b[1;32m    406\u001b[0m \u001b[38;5;28;01mif\u001b[39;00m newline_indent \u001b[38;5;129;01mis\u001b[39;00m \u001b[38;5;129;01mnot\u001b[39;00m \u001b[38;5;28;01mNone\u001b[39;00m:\n\u001b[1;32m    407\u001b[0m     _current_indent_level \u001b[38;5;241m-\u001b[39m\u001b[38;5;241m=\u001b[39m \u001b[38;5;241m1\u001b[39m\n",
      "    \u001b[0;31m[... skipping similar frames: _make_iterencode.<locals>._iterencode_dict at line 405 (1 times)]\u001b[0m\n",
      "File \u001b[0;32m/opt/conda/lib/python3.10/json/encoder.py:405\u001b[0m, in \u001b[0;36m_make_iterencode.<locals>._iterencode_dict\u001b[0;34m(dct, _current_indent_level)\u001b[0m\n\u001b[1;32m    403\u001b[0m         \u001b[38;5;28;01melse\u001b[39;00m:\n\u001b[1;32m    404\u001b[0m             chunks \u001b[38;5;241m=\u001b[39m _iterencode(value, _current_indent_level)\n\u001b[0;32m--> 405\u001b[0m         \u001b[38;5;28;01myield from\u001b[39;00m chunks\n\u001b[1;32m    406\u001b[0m \u001b[38;5;28;01mif\u001b[39;00m newline_indent \u001b[38;5;129;01mis\u001b[39;00m \u001b[38;5;129;01mnot\u001b[39;00m \u001b[38;5;28;01mNone\u001b[39;00m:\n\u001b[1;32m    407\u001b[0m     _current_indent_level \u001b[38;5;241m-\u001b[39m\u001b[38;5;241m=\u001b[39m \u001b[38;5;241m1\u001b[39m\n",
      "File \u001b[0;32m/opt/conda/lib/python3.10/json/encoder.py:438\u001b[0m, in \u001b[0;36m_make_iterencode.<locals>._iterencode\u001b[0;34m(o, _current_indent_level)\u001b[0m\n\u001b[1;32m    436\u001b[0m         \u001b[38;5;28;01mraise\u001b[39;00m \u001b[38;5;167;01mValueError\u001b[39;00m(\u001b[38;5;124m\"\u001b[39m\u001b[38;5;124mCircular reference detected\u001b[39m\u001b[38;5;124m\"\u001b[39m)\n\u001b[1;32m    437\u001b[0m     markers[markerid] \u001b[38;5;241m=\u001b[39m o\n\u001b[0;32m--> 438\u001b[0m o \u001b[38;5;241m=\u001b[39m \u001b[43m_default\u001b[49m\u001b[43m(\u001b[49m\u001b[43mo\u001b[49m\u001b[43m)\u001b[49m\n\u001b[1;32m    439\u001b[0m \u001b[38;5;28;01myield from\u001b[39;00m _iterencode(o, _current_indent_level)\n\u001b[1;32m    440\u001b[0m \u001b[38;5;28;01mif\u001b[39;00m markers \u001b[38;5;129;01mis\u001b[39;00m \u001b[38;5;129;01mnot\u001b[39;00m \u001b[38;5;28;01mNone\u001b[39;00m:\n",
      "Cell \u001b[0;32mIn[25], line 3\u001b[0m, in \u001b[0;36mCustomJSONEncoder.default\u001b[0;34m(self, obj)\u001b[0m\n\u001b[1;32m      2\u001b[0m \u001b[38;5;28;01mdef\u001b[39;00m \u001b[38;5;21mdefault\u001b[39m(\u001b[38;5;28mself\u001b[39m, obj):\n\u001b[0;32m----> 3\u001b[0m     \u001b[38;5;28;01mif\u001b[39;00m \u001b[38;5;28misinstance\u001b[39m(obj, \u001b[43mTag\u001b[49m):\n\u001b[1;32m      4\u001b[0m         \u001b[38;5;28;01mreturn\u001b[39;00m obj\u001b[38;5;241m.\u001b[39mstring  \u001b[38;5;66;03m# or obj.text, depending on what you want to extract\u001b[39;00m\n\u001b[1;32m      5\u001b[0m     \u001b[38;5;28;01mreturn\u001b[39;00m \u001b[38;5;28msuper\u001b[39m()\u001b[38;5;241m.\u001b[39mdefault(obj)\n",
      "\u001b[0;31mNameError\u001b[0m: name 'Tag' is not defined"
     ]
    }
   ],
   "source": [
    "def get_json_files(directory):\n",
    "    json_files = []\n",
    "    i = 0\n",
    "    # Loop through all files in the given directory\n",
    "    for filename in os.listdir(directory):\n",
    "        if filename.endswith('.json'):\n",
    "            file_path = os.path.join(directory, filename)\n",
    "            \n",
    "            # Read and parse the JSON file\n",
    "            with open(file_path, 'r') as file:\n",
    "                try:\n",
    "                    i += 1\n",
    "                    All_links_data = json.load(file)\n",
    "                    Total_lenght = len(All_links_data)\n",
    "                    print(f\"Total page in {filename}: {Total_lenght}\")\n",
    "                \n",
    "                    print(f\"page key name: {list(All_links_data.keys())[-1]}\")\n",
    "                    page_key_list = list(All_links_data.keys())[-1].split(\" \")\n",
    "                    \n",
    "                    page_key_code = \"Page \"+page_key_list[1]+\" \"\n",
    "                    print(f\"Page key code: {page_key_code}\")\n",
    "\n",
    "                    final_file = get_content(All_links_data, Total_lenght, page_key_code, page_key_list)\n",
    "\n",
    "                    # json_files.append((filename, json_data))\n",
    "                except json.JSONDecodeError:\n",
    "                    print(f\"Error decoding JSON in file: {filename}\")\n",
    "        break\n",
    "    print(i)\n",
    "    # return json_files\n",
    "\n",
    "# Example usage\n",
    "directory_path = './data/links/'\n",
    "json_files = get_json_files(directory_path)"
   ]
  },
  {
   "cell_type": "code",
   "execution_count": null,
   "id": "4de344af-6dcd-416c-99d4-4b336a58da84",
   "metadata": {},
   "outputs": [],
   "source": []
  },
  {
   "cell_type": "code",
   "execution_count": null,
   "id": "467c68a4-55e1-4326-b3df-9ecebfa563b9",
   "metadata": {},
   "outputs": [],
   "source": []
  },
  {
   "cell_type": "code",
   "execution_count": null,
   "id": "9a59a6bc-5945-4bce-96fb-0fc213e9c5ac",
   "metadata": {},
   "outputs": [],
   "source": []
  },
  {
   "cell_type": "code",
   "execution_count": null,
   "id": "70934882-67aa-4c82-b2f8-2b708c9f7787",
   "metadata": {},
   "outputs": [],
   "source": []
  },
  {
   "cell_type": "code",
   "execution_count": 31,
   "id": "fc6b61ca-dad1-486b-a98a-5d615b2276c6",
   "metadata": {},
   "outputs": [
    {
     "name": "stdout",
     "output_type": "stream",
     "text": [
      "Total page in tibetcm_ALL_link_ལེགས་རྩོམ།.json: 1\n",
      "page key name: Page ལེགས་རྩོམ། 1\n",
      "Page key code: Page ལེགས་རྩོམ། \n"
     ]
    },
    {
     "name": "stderr",
     "output_type": "stream",
     "text": [
      "100%|██████████| 1/1 [01:20<00:00, 80.99s/it]\n"
     ]
    },
    {
     "name": "stdout",
     "output_type": "stream",
     "text": [
      "total Failure in the ལེགས་རྩོམ། article: 0\n",
      "tibetcm_ALL_content_ལེགས་རྩོམ།.json\n",
      "Successfully saved: tibetcm_ALL_content_ལེགས་རྩོམ།.json\n",
      "Total page in tibetcm_ALL_link_གཞུང་།.json: 1\n",
      "page key name: Page གཞུང་། 1\n",
      "Page key code: Page གཞུང་། \n"
     ]
    },
    {
     "name": "stderr",
     "output_type": "stream",
     "text": [
      "100%|██████████| 1/1 [00:11<00:00, 11.55s/it]\n"
     ]
    },
    {
     "name": "stdout",
     "output_type": "stream",
     "text": [
      "total Failure in the གཞུང་། article: 0\n",
      "tibetcm_ALL_content_གཞུང་།.json\n",
      "Successfully saved: tibetcm_ALL_content_གཞུང་།.json\n",
      "Total page in tibetcm_ALL_link_བསྟོད་ཚོགས།.json: 3\n",
      "page key name: Page བསྟོད་ཚོགས། 3\n",
      "Page key code: Page བསྟོད་ཚོགས། \n"
     ]
    },
    {
     "name": "stderr",
     "output_type": "stream",
     "text": [
      "100%|██████████| 3/3 [01:10<00:00, 23.62s/it]\n"
     ]
    },
    {
     "name": "stdout",
     "output_type": "stream",
     "text": [
      "total Failure in the བསྟོད་ཚོགས། article: 0\n",
      "tibetcm_ALL_content_བསྟོད་ཚོགས།.json\n",
      "Successfully saved: tibetcm_ALL_content_བསྟོད་ཚོགས།.json\n",
      "Total page in tibetcm_ALL_link_འཕྲིན་གསར།.json: 27\n",
      "page key name: Page འཕྲིན་གསར། 27\n",
      "Page key code: Page འཕྲིན་གསར། \n"
     ]
    },
    {
     "name": "stderr",
     "output_type": "stream",
     "text": [
      "100%|██████████| 27/27 [11:11<00:00, 24.89s/it]\n"
     ]
    },
    {
     "name": "stdout",
     "output_type": "stream",
     "text": [
      "Page འཕྲིན་གསར། 2_tibetcm_Article_13\n",
      "total Failure in the འཕྲིན་གསར། article: 1\n",
      "tibetcm_ALL_content_འཕྲིན་གསར།.json\n",
      "Successfully saved: tibetcm_ALL_content_འཕྲིན་གསར།.json\n",
      "Total page in tibetcm_ALL_link_མགུར་གླུ།.json: 3\n",
      "page key name: Page མགུར་གླུ། 3\n",
      "Page key code: Page མགུར་གླུ། \n"
     ]
    },
    {
     "name": "stderr",
     "output_type": "stream",
     "text": [
      "100%|██████████| 3/3 [00:53<00:00, 17.96s/it]\n"
     ]
    },
    {
     "name": "stdout",
     "output_type": "stream",
     "text": [
      "total Failure in the མགུར་གླུ། article: 0\n",
      "tibetcm_ALL_content_མགུར་གླུ།.json\n",
      "Successfully saved: tibetcm_ALL_content_མགུར་གླུ།.json\n",
      "Total page in tibetcm_ALL_link_བསླབ་བྱ།.json: 1\n",
      "page key name: Page བསླབ་བྱ། 1\n",
      "Page key code: Page བསླབ་བྱ། \n"
     ]
    },
    {
     "name": "stderr",
     "output_type": "stream",
     "text": [
      "100%|██████████| 1/1 [00:25<00:00, 25.04s/it]\n"
     ]
    },
    {
     "name": "stdout",
     "output_type": "stream",
     "text": [
      "total Failure in the བསླབ་བྱ། article: 0\n",
      "tibetcm_ALL_content_བསླབ་བྱ།.json\n",
      "Successfully saved: tibetcm_ALL_content_བསླབ་བྱ།.json\n",
      "Total page in tibetcm_ALL_link_ལེགས་བཤད།.json: 2\n",
      "page key name: Page ལེགས་བཤད། 2\n",
      "Page key code: Page ལེགས་བཤད། \n"
     ]
    },
    {
     "name": "stderr",
     "output_type": "stream",
     "text": [
      "100%|██████████| 2/2 [00:32<00:00, 16.20s/it]\n"
     ]
    },
    {
     "name": "stdout",
     "output_type": "stream",
     "text": [
      "total Failure in the ལེགས་བཤད། article: 0\n",
      "tibetcm_ALL_content_ལེགས་བཤད།.json\n",
      "Successfully saved: tibetcm_ALL_content_ལེགས་བཤད།.json\n",
      "Total page in tibetcm_ALL_link_ཟློས་གར།.json: 1\n",
      "page key name: Page ཟློས་གར། 1\n",
      "Page key code: Page ཟློས་གར། \n"
     ]
    },
    {
     "name": "stderr",
     "output_type": "stream",
     "text": [
      "100%|██████████| 1/1 [00:00<00:00, 18236.10it/s]\n"
     ]
    },
    {
     "name": "stdout",
     "output_type": "stream",
     "text": [
      "total Failure in the ཟློས་གར། article: 0\n",
      "tibetcm_ALL_content_ཟློས་གར།.json\n",
      "Successfully saved: tibetcm_ALL_content_ཟློས་གར།.json\n",
      "Total page in tibetcm_ALL_link_བསང་ཡིག.json: 1\n",
      "page key name: Page བསང་ཡིག 1\n",
      "Page key code: Page བསང་ཡིག \n"
     ]
    },
    {
     "name": "stderr",
     "output_type": "stream",
     "text": [
      "100%|██████████| 1/1 [00:08<00:00,  8.19s/it]\n"
     ]
    },
    {
     "name": "stdout",
     "output_type": "stream",
     "text": [
      "total Failure in the བསང་ཡིག article: 0\n",
      "tibetcm_ALL_content_བསང་ཡིག.json\n",
      "Successfully saved: tibetcm_ALL_content_བསང་ཡིག.json\n",
      "Total page in tibetcm_ALL_link_གནས་ཡིག.json: 1\n",
      "page key name: Page གནས་ཡིག 1\n",
      "Page key code: Page གནས་ཡིག \n"
     ]
    },
    {
     "name": "stderr",
     "output_type": "stream",
     "text": [
      "100%|██████████| 1/1 [00:01<00:00,  1.24s/it]\n"
     ]
    },
    {
     "name": "stdout",
     "output_type": "stream",
     "text": [
      "total Failure in the གནས་ཡིག article: 0\n",
      "tibetcm_ALL_content_གནས་ཡིག.json\n",
      "Successfully saved: tibetcm_ALL_content_གནས་ཡིག.json\n",
      "Total page in tibetcm_ALL_link_འབེལ་གཏམ།.json: 1\n",
      "page key name: Page འབེལ་གཏམ། 1\n",
      "Page key code: Page འབེལ་གཏམ། \n"
     ]
    },
    {
     "name": "stderr",
     "output_type": "stream",
     "text": [
      "100%|██████████| 1/1 [00:02<00:00,  2.55s/it]\n"
     ]
    },
    {
     "name": "stdout",
     "output_type": "stream",
     "text": [
      "total Failure in the འབེལ་གཏམ། article: 0\n",
      "tibetcm_ALL_content_འབེལ་གཏམ།.json\n",
      "Successfully saved: tibetcm_ALL_content_འབེལ་གཏམ།.json\n",
      "Total page in tibetcm_ALL_link_ཆོས་འབྱུང་།.json: 1\n",
      "page key name: Page ཆོས་འབྱུང་། 1\n",
      "Page key code: Page ཆོས་འབྱུང་། \n"
     ]
    },
    {
     "name": "stderr",
     "output_type": "stream",
     "text": [
      "100%|██████████| 1/1 [00:00<00:00, 19418.07it/s]\n"
     ]
    },
    {
     "name": "stdout",
     "output_type": "stream",
     "text": [
      "total Failure in the ཆོས་འབྱུང་། article: 0\n",
      "tibetcm_ALL_content_ཆོས་འབྱུང་།.json\n",
      "Successfully saved: tibetcm_ALL_content_ཆོས་འབྱུང་།.json\n",
      "Total page in tibetcm_ALL_link_ལོ་རྒྱུས།.json: 1\n",
      "page key name: Page ལོ་རྒྱུས། 1\n",
      "Page key code: Page ལོ་རྒྱུས། \n"
     ]
    },
    {
     "name": "stderr",
     "output_type": "stream",
     "text": [
      "100%|██████████| 1/1 [00:09<00:00,  9.19s/it]\n"
     ]
    },
    {
     "name": "stdout",
     "output_type": "stream",
     "text": [
      "total Failure in the ལོ་རྒྱུས། article: 0\n",
      "tibetcm_ALL_content_ལོ་རྒྱུས།.json\n",
      "Successfully saved: tibetcm_ALL_content_ལོ་རྒྱུས།.json\n",
      "Total page in tibetcm_ALL_link_གཏེར་མ།.json: 1\n",
      "page key name: Page གཏེར་མ། 1\n",
      "Page key code: Page གཏེར་མ། \n"
     ]
    },
    {
     "name": "stderr",
     "output_type": "stream",
     "text": [
      "100%|██████████| 1/1 [00:00<00:00, 17549.39it/s]\n"
     ]
    },
    {
     "name": "stdout",
     "output_type": "stream",
     "text": [
      "total Failure in the གཏེར་མ། article: 0\n",
      "tibetcm_ALL_content_གཏེར་མ།.json\n",
      "Successfully saved: tibetcm_ALL_content_གཏེར་མ།.json\n",
      "Total page in tibetcm_ALL_link_རྣམ་ཐར།.json: 1\n",
      "page key name: Page རྣམ་ཐར། 1\n",
      "Page key code: Page རྣམ་ཐར། \n"
     ]
    },
    {
     "name": "stderr",
     "output_type": "stream",
     "text": [
      "100%|██████████| 1/1 [00:30<00:00, 30.75s/it]\n"
     ]
    },
    {
     "name": "stdout",
     "output_type": "stream",
     "text": [
      "total Failure in the རྣམ་ཐར། article: 0\n",
      "tibetcm_ALL_content_རྣམ་ཐར།.json\n",
      "Successfully saved: tibetcm_ALL_content_རྣམ་ཐར།.json\n",
      "Total page in tibetcm_ALL_link_འདོན་ཆོག.json: 1\n",
      "page key name: Page འདོན་ཆོག 1\n",
      "Page key code: Page འདོན་ཆོག \n"
     ]
    },
    {
     "name": "stderr",
     "output_type": "stream",
     "text": [
      "100%|██████████| 1/1 [00:17<00:00, 17.97s/it]\n"
     ]
    },
    {
     "name": "stdout",
     "output_type": "stream",
     "text": [
      "total Failure in the འདོན་ཆོག article: 0\n",
      "tibetcm_ALL_content_འདོན་ཆོག.json\n",
      "Successfully saved: tibetcm_ALL_content_འདོན་ཆོག.json\n",
      "Total page in tibetcm_ALL_link_རྟོགས་བརྗོད།.json: 1\n",
      "page key name: Page རྟོགས་བརྗོད། 1\n",
      "Page key code: Page རྟོགས་བརྗོད། \n"
     ]
    },
    {
     "name": "stderr",
     "output_type": "stream",
     "text": [
      "100%|██████████| 1/1 [00:05<00:00,  5.63s/it]\n"
     ]
    },
    {
     "name": "stdout",
     "output_type": "stream",
     "text": [
      "total Failure in the རྟོགས་བརྗོད། article: 0\n",
      "tibetcm_ALL_content_རྟོགས་བརྗོད།.json\n",
      "Successfully saved: tibetcm_ALL_content_རྟོགས་བརྗོད།.json\n",
      "Total page in tibetcm_ALL_link_བཅའ་ཡིག.json: 1\n",
      "page key name: Page བཅའ་ཡིག 1\n",
      "Page key code: Page བཅའ་ཡིག \n"
     ]
    },
    {
     "name": "stderr",
     "output_type": "stream",
     "text": [
      "100%|██████████| 1/1 [00:00<00:00, 18978.75it/s]\n"
     ]
    },
    {
     "name": "stdout",
     "output_type": "stream",
     "text": [
      "total Failure in the བཅའ་ཡིག article: 0\n",
      "tibetcm_ALL_content_བཅའ་ཡིག.json\n",
      "Successfully saved: tibetcm_ALL_content_བཅའ་ཡིག.json\n",
      "Total page in tibetcm_ALL_link_ཁྲིམས་སྲོལ།.json: 1\n",
      "page key name: Page ཁྲིམས་སྲོལ། 1\n",
      "Page key code: Page ཁྲིམས་སྲོལ། \n"
     ]
    },
    {
     "name": "stderr",
     "output_type": "stream",
     "text": [
      "100%|██████████| 1/1 [00:00<00:00, 16710.37it/s]\n"
     ]
    },
    {
     "name": "stdout",
     "output_type": "stream",
     "text": [
      "total Failure in the ཁྲིམས་སྲོལ། article: 0\n",
      "tibetcm_ALL_content_ཁྲིམས་སྲོལ།.json\n",
      "Successfully saved: tibetcm_ALL_content_ཁྲིམས་སྲོལ།.json\n",
      "Total page in tibetcm_ALL_link_གཏམ་ཚོགས།.json: 1\n",
      "page key name: Page གཏམ་ཚོགས། 1\n",
      "Page key code: Page གཏམ་ཚོགས། \n"
     ]
    },
    {
     "name": "stderr",
     "output_type": "stream",
     "text": [
      "100%|██████████| 1/1 [00:00<00:00, 13981.01it/s]\n"
     ]
    },
    {
     "name": "stdout",
     "output_type": "stream",
     "text": [
      "total Failure in the གཏམ་ཚོགས། article: 0\n",
      "tibetcm_ALL_content_གཏམ་ཚོགས།.json\n",
      "Successfully saved: tibetcm_ALL_content_གཏམ་ཚོགས།.json\n",
      "Total page in tibetcm_ALL_link_གསོ་དཔྱད།.json: 1\n",
      "page key name: Page གསོ་དཔྱད། 1\n",
      "Page key code: Page གསོ་དཔྱད། \n"
     ]
    },
    {
     "name": "stderr",
     "output_type": "stream",
     "text": [
      "100%|██████████| 1/1 [00:03<00:00,  3.57s/it]\n"
     ]
    },
    {
     "name": "stdout",
     "output_type": "stream",
     "text": [
      "total Failure in the གསོ་དཔྱད། article: 0\n",
      "tibetcm_ALL_content_གསོ་དཔྱད།.json\n",
      "Successfully saved: tibetcm_ALL_content_གསོ་དཔྱད།.json\n",
      "Total page in tibetcm_ALL_link_རྒྱ་འགྱུར།.json: 1\n",
      "page key name: Page རྒྱ་འགྱུར། 1\n",
      "Page key code: Page རྒྱ་འགྱུར། \n"
     ]
    },
    {
     "name": "stderr",
     "output_type": "stream",
     "text": [
      "100%|██████████| 1/1 [00:15<00:00, 15.50s/it]\n"
     ]
    },
    {
     "name": "stdout",
     "output_type": "stream",
     "text": [
      "total Failure in the རྒྱ་འགྱུར། article: 0\n",
      "tibetcm_ALL_content_རྒྱ་འགྱུར།.json\n",
      "Successfully saved: tibetcm_ALL_content_རྒྱ་འགྱུར།.json\n",
      "Total page in tibetcm_ALL_link_སྤྲིངས་ཡིག.json: 1\n",
      "page key name: Page སྤྲིངས་ཡིག 1\n",
      "Page key code: Page སྤྲིངས་ཡིག \n"
     ]
    },
    {
     "name": "stderr",
     "output_type": "stream",
     "text": [
      "100%|██████████| 1/1 [00:02<00:00,  2.55s/it]\n"
     ]
    },
    {
     "name": "stdout",
     "output_type": "stream",
     "text": [
      "total Failure in the སྤྲིངས་ཡིག article: 0\n",
      "tibetcm_ALL_content_སྤྲིངས་ཡིག.json\n",
      "Successfully saved: tibetcm_ALL_content_སྤྲིངས་ཡིག.json\n",
      "Total page in tibetcm_ALL_link_ངག་རྩོམ།.json: 1\n",
      "page key name: Page ངག་རྩོམ། 1\n",
      "Page key code: Page ངག་རྩོམ། \n"
     ]
    },
    {
     "name": "stderr",
     "output_type": "stream",
     "text": [
      "100%|██████████| 1/1 [00:41<00:00, 41.45s/it]\n"
     ]
    },
    {
     "name": "stdout",
     "output_type": "stream",
     "text": [
      "total Failure in the ངག་རྩོམ། article: 0\n",
      "tibetcm_ALL_content_ངག་རྩོམ།.json\n",
      "Successfully saved: tibetcm_ALL_content_ངག་རྩོམ།.json\n",
      "Total page in tibetcm_ALL_link_གླིང་སྒྲུང་།.json: 1\n",
      "page key name: Page གླིང་སྒྲུང་། 1\n",
      "Page key code: Page གླིང་སྒྲུང་། \n"
     ]
    },
    {
     "name": "stderr",
     "output_type": "stream",
     "text": [
      "100%|██████████| 1/1 [00:10<00:00, 10.99s/it]\n"
     ]
    },
    {
     "name": "stdout",
     "output_type": "stream",
     "text": [
      "total Failure in the གླིང་སྒྲུང་། article: 0\n",
      "tibetcm_ALL_content_གླིང་སྒྲུང་།.json\n",
      "Successfully saved: tibetcm_ALL_content_གླིང་སྒྲུང་།.json\n",
      "Total page in tibetcm_ALL_link_ལ་གཞས།.json: 2\n",
      "page key name: Page ལ་གཞས། 2\n",
      "Page key code: Page ལ་གཞས། \n"
     ]
    },
    {
     "name": "stderr",
     "output_type": "stream",
     "text": [
      "100%|██████████| 2/2 [00:37<00:00, 18.72s/it]\n"
     ]
    },
    {
     "name": "stdout",
     "output_type": "stream",
     "text": [
      "total Failure in the ལ་གཞས། article: 0\n",
      "tibetcm_ALL_content_ལ་གཞས།.json\n",
      "Successfully saved: tibetcm_ALL_content_ལ་གཞས།.json\n",
      "Total page in tibetcm_ALL_link_དམངས་གཞས།.json: 1\n",
      "page key name: Page དམངས་གཞས། 1\n",
      "Page key code: Page དམངས་གཞས། \n"
     ]
    },
    {
     "name": "stderr",
     "output_type": "stream",
     "text": [
      "100%|██████████| 1/1 [00:25<00:00, 25.98s/it]\n"
     ]
    },
    {
     "name": "stdout",
     "output_type": "stream",
     "text": [
      "total Failure in the དམངས་གཞས། article: 0\n",
      "tibetcm_ALL_content_དམངས་གཞས།.json\n",
      "Successfully saved: tibetcm_ALL_content_དམངས་གཞས།.json\n",
      "Total page in tibetcm_ALL_link_བཤད་པ།.json: 1\n",
      "page key name: Page བཤད་པ། 1\n",
      "Page key code: Page བཤད་པ། \n"
     ]
    },
    {
     "name": "stderr",
     "output_type": "stream",
     "text": [
      "100%|██████████| 1/1 [00:02<00:00,  2.35s/it]\n"
     ]
    },
    {
     "name": "stdout",
     "output_type": "stream",
     "text": [
      "total Failure in the བཤད་པ། article: 0\n",
      "tibetcm_ALL_content_བཤད་པ།.json\n",
      "Successfully saved: tibetcm_ALL_content_བཤད་པ།.json\n",
      "Total page in tibetcm_ALL_link_གཏམ་རྒྱུད།.json: 1\n",
      "page key name: Page གཏམ་རྒྱུད། 1\n",
      "Page key code: Page གཏམ་རྒྱུད། \n"
     ]
    },
    {
     "name": "stderr",
     "output_type": "stream",
     "text": [
      "100%|██████████| 1/1 [00:05<00:00,  5.62s/it]\n"
     ]
    },
    {
     "name": "stdout",
     "output_type": "stream",
     "text": [
      "total Failure in the གཏམ་རྒྱུད། article: 0\n",
      "tibetcm_ALL_content_གཏམ་རྒྱུད།.json\n",
      "Successfully saved: tibetcm_ALL_content_གཏམ་རྒྱུད།.json\n",
      "Total page in tibetcm_ALL_link_རོགས་མཐུན།.json: 1\n",
      "page key name: Page རོགས་མཐུན། 1\n",
      "Page key code: Page རོགས་མཐུན། \n"
     ]
    },
    {
     "name": "stderr",
     "output_type": "stream",
     "text": [
      "100%|██████████| 1/1 [00:00<00:00, 17623.13it/s]\n"
     ]
    },
    {
     "name": "stdout",
     "output_type": "stream",
     "text": [
      "total Failure in the རོགས་མཐུན། article: 0\n",
      "tibetcm_ALL_content_རོགས་མཐུན།.json\n",
      "Successfully saved: tibetcm_ALL_content_རོགས་མཐུན།.json\n",
      "Total page in tibetcm_ALL_link_གཏམ་དཔེ།.json: 2\n",
      "page key name: Page གཏམ་དཔེ། 2\n",
      "Page key code: Page གཏམ་དཔེ། \n"
     ]
    },
    {
     "name": "stderr",
     "output_type": "stream",
     "text": [
      "100%|██████████| 2/2 [01:00<00:00, 30.22s/it]\n"
     ]
    },
    {
     "name": "stdout",
     "output_type": "stream",
     "text": [
      "total Failure in the གཏམ་དཔེ། article: 0\n",
      "tibetcm_ALL_content_གཏམ་དཔེ།.json\n",
      "Successfully saved: tibetcm_ALL_content_གཏམ་དཔེ།.json\n",
      "Total page in tibetcm_ALL_link_ཁ་མཚར།.json: 2\n",
      "page key name: Page ཁ་མཚར། 2\n",
      "Page key code: Page ཁ་མཚར། \n"
     ]
    },
    {
     "name": "stderr",
     "output_type": "stream",
     "text": [
      "100%|██████████| 2/2 [00:43<00:00, 21.50s/it]\n"
     ]
    },
    {
     "name": "stdout",
     "output_type": "stream",
     "text": [
      "total Failure in the ཁ་མཚར། article: 0\n",
      "tibetcm_ALL_content_ཁ་མཚར།.json\n",
      "Successfully saved: tibetcm_ALL_content_ཁ་མཚར།.json\n",
      "Total page in tibetcm_ALL_link_གབ་ཚིག.json: 1\n",
      "page key name: Page གབ་ཚིག 1\n",
      "Page key code: Page གབ་ཚིག \n"
     ]
    },
    {
     "name": "stderr",
     "output_type": "stream",
     "text": [
      "100%|██████████| 1/1 [00:02<00:00,  2.35s/it]\n"
     ]
    },
    {
     "name": "stdout",
     "output_type": "stream",
     "text": [
      "total Failure in the གབ་ཚིག article: 0\n",
      "tibetcm_ALL_content_གབ་ཚིག.json\n",
      "Successfully saved: tibetcm_ALL_content_གབ་ཚིག.json\n",
      "Total page in tibetcm_ALL_link_འདོགས་ར།.json: 1\n",
      "page key name: Page འདོགས་ར། 1\n",
      "Page key code: Page འདོགས་ར། \n"
     ]
    },
    {
     "name": "stderr",
     "output_type": "stream",
     "text": [
      "100%|██████████| 1/1 [00:00<00:00, 16256.99it/s]\n"
     ]
    },
    {
     "name": "stdout",
     "output_type": "stream",
     "text": [
      "total Failure in the འདོགས་ར། article: 0\n",
      "tibetcm_ALL_content_འདོགས་ར།.json\n",
      "Successfully saved: tibetcm_ALL_content_འདོགས་ར།.json\n",
      "Total page in tibetcm_ALL_link_དེང་རྩོམ།.json: 1\n",
      "page key name: Page དེང་རྩོམ། 1\n",
      "Page key code: Page དེང་རྩོམ། \n"
     ]
    },
    {
     "name": "stderr",
     "output_type": "stream",
     "text": [
      "100%|██████████| 1/1 [01:08<00:00, 68.97s/it]\n"
     ]
    },
    {
     "name": "stdout",
     "output_type": "stream",
     "text": [
      "total Failure in the དེང་རྩོམ། article: 0\n",
      "tibetcm_ALL_content_དེང་རྩོམ།.json\n",
      "Successfully saved: tibetcm_ALL_content_དེང་རྩོམ།.json\n",
      "Total page in tibetcm_ALL_link_བརྩམས་སྒྲུང་།.json: 18\n",
      "page key name: Page བརྩམས་སྒྲུང་། 18\n",
      "Page key code: Page བརྩམས་སྒྲུང་། \n"
     ]
    },
    {
     "name": "stderr",
     "output_type": "stream",
     "text": [
      "100%|██████████| 18/18 [10:02<00:00, 33.49s/it]\n"
     ]
    },
    {
     "name": "stdout",
     "output_type": "stream",
     "text": [
      "Page བརྩམས་སྒྲུང་། 11_tibetcm_Article_3\n",
      "total Failure in the བརྩམས་སྒྲུང་། article: 1\n",
      "tibetcm_ALL_content_བརྩམས་སྒྲུང་།.json\n",
      "Successfully saved: tibetcm_ALL_content_བརྩམས་སྒྲུང་།.json\n",
      "Total page in tibetcm_ALL_link_རིག་གཞུང་།.json: 6\n",
      "page key name: Page རིག་གཞུང་། 6\n",
      "Page key code: Page རིག་གཞུང་། \n"
     ]
    },
    {
     "name": "stderr",
     "output_type": "stream",
     "text": [
      "100%|██████████| 6/6 [03:58<00:00, 39.68s/it]\n"
     ]
    },
    {
     "name": "stdout",
     "output_type": "stream",
     "text": [
      "total Failure in the རིག་གཞུང་། article: 0\n",
      "tibetcm_ALL_content_རིག་གཞུང་།.json\n",
      "Successfully saved: tibetcm_ALL_content_རིག་གཞུང་།.json\n",
      "Total page in tibetcm_ALL_link_བཅད་རྩོམ།.json: 46\n",
      "page key name: Page བཅད་རྩོམ། 46\n",
      "Page key code: Page བཅད་རྩོམ། \n"
     ]
    },
    {
     "name": "stderr",
     "output_type": "stream",
     "text": [
      "100%|██████████| 46/46 [20:07<00:00, 26.25s/it]\n"
     ]
    },
    {
     "name": "stdout",
     "output_type": "stream",
     "text": [
      "Page བཅད་རྩོམ། 1_tibetcm_Article_4\n",
      "total Failure in the བཅད་རྩོམ། article: 1\n",
      "tibetcm_ALL_content_བཅད་རྩོམ།.json\n",
      "Successfully saved: tibetcm_ALL_content_བཅད་རྩོམ།.json\n",
      "Total page in tibetcm_ALL_link_ལྷུག་རྩོམ།.json: 33\n",
      "page key name: Page ལྷུག་རྩོམ། 33\n",
      "Page key code: Page ལྷུག་རྩོམ། \n"
     ]
    },
    {
     "name": "stderr",
     "output_type": "stream",
     "text": [
      "100%|██████████| 33/33 [17:00<00:00, 30.94s/it]\n"
     ]
    },
    {
     "name": "stdout",
     "output_type": "stream",
     "text": [
      "Page ལྷུག་རྩོམ། 32_tibetcm_Article_14\n",
      "total Failure in the ལྷུག་རྩོམ། article: 1\n",
      "tibetcm_ALL_content_ལྷུག་རྩོམ།.json\n",
      "Successfully saved: tibetcm_ALL_content_ལྷུག་རྩོམ།.json\n",
      "Total page in tibetcm_ALL_link_བཅར་འདྲི།.json: 1\n",
      "page key name: Page བཅར་འདྲི། 1\n",
      "Page key code: Page བཅར་འདྲི། \n"
     ]
    },
    {
     "name": "stderr",
     "output_type": "stream",
     "text": [
      "100%|██████████| 1/1 [00:22<00:00, 22.83s/it]\n"
     ]
    },
    {
     "name": "stdout",
     "output_type": "stream",
     "text": [
      "total Failure in the བཅར་འདྲི། article: 0\n",
      "tibetcm_ALL_content_བཅར་འདྲི།.json\n",
      "Successfully saved: tibetcm_ALL_content_བཅར་འདྲི།.json\n",
      "Total page in tibetcm_ALL_link_གྲོལ་རྩོམ།.json: 16\n",
      "page key name: Page གྲོལ་རྩོམ། 16\n",
      "Page key code: Page གྲོལ་རྩོམ། \n"
     ]
    },
    {
     "name": "stderr",
     "output_type": "stream",
     "text": [
      "100%|██████████| 16/16 [06:46<00:00, 25.41s/it]\n"
     ]
    },
    {
     "name": "stdout",
     "output_type": "stream",
     "text": [
      "Page གྲོལ་རྩོམ། 10_tibetcm_Article_15\n",
      "total Failure in the གྲོལ་རྩོམ། article: 1\n",
      "tibetcm_ALL_content_གྲོལ་རྩོམ།.json\n",
      "Successfully saved: tibetcm_ALL_content_གྲོལ་རྩོམ།.json\n",
      "Total page in tibetcm_ALL_link_ཤེས་བྱ།.json: 6\n",
      "page key name: Page ཤེས་བྱ། 6\n",
      "Page key code: Page ཤེས་བྱ། \n"
     ]
    },
    {
     "name": "stderr",
     "output_type": "stream",
     "text": [
      "100%|██████████| 6/6 [03:10<00:00, 31.78s/it]\n"
     ]
    },
    {
     "name": "stdout",
     "output_type": "stream",
     "text": [
      "total Failure in the ཤེས་བྱ། article: 0\n",
      "tibetcm_ALL_content_ཤེས་བྱ།.json\n",
      "Successfully saved: tibetcm_ALL_content_ཤེས་བྱ།.json\n",
      "Total page in tibetcm_ALL_link_འཁྲབ་གཞུང་།.json: 1\n",
      "page key name: Page འཁྲབ་གཞུང་། 1\n",
      "Page key code: Page འཁྲབ་གཞུང་། \n"
     ]
    },
    {
     "name": "stderr",
     "output_type": "stream",
     "text": [
      "100%|██████████| 1/1 [00:13<00:00, 13.01s/it]\n"
     ]
    },
    {
     "name": "stdout",
     "output_type": "stream",
     "text": [
      "total Failure in the འཁྲབ་གཞུང་། article: 0\n",
      "tibetcm_ALL_content_འཁྲབ་གཞུང་།.json\n",
      "Successfully saved: tibetcm_ALL_content_འཁྲབ་གཞུང་།.json\n",
      "Total page in tibetcm_ALL_link_འགྱུར་མ།.json: 14\n",
      "page key name: Page འགྱུར་མ། 14\n",
      "Page key code: Page འགྱུར་མ། \n"
     ]
    },
    {
     "name": "stderr",
     "output_type": "stream",
     "text": [
      "100%|██████████| 14/14 [07:14<00:00, 31.07s/it]\n"
     ]
    },
    {
     "name": "stdout",
     "output_type": "stream",
     "text": [
      "total Failure in the འགྱུར་མ། article: 0\n",
      "tibetcm_ALL_content_འགྱུར་མ།.json\n",
      "Successfully saved: tibetcm_ALL_content_འགྱུར་མ།.json\n",
      "Total page in tibetcm_ALL_link_ཁ་བརྡ།.json: 1\n",
      "page key name: Page ཁ་བརྡ། 1\n",
      "Page key code: Page ཁ་བརྡ། \n"
     ]
    },
    {
     "name": "stderr",
     "output_type": "stream",
     "text": [
      "100%|██████████| 1/1 [00:01<00:00,  1.40s/it]\n"
     ]
    },
    {
     "name": "stdout",
     "output_type": "stream",
     "text": [
      "total Failure in the ཁ་བརྡ། article: 0\n",
      "tibetcm_ALL_content_ཁ་བརྡ།.json\n",
      "Successfully saved: tibetcm_ALL_content_ཁ་བརྡ།.json\n",
      "Total page in tibetcm_ALL_link_དྲ་རྩོམ།.json: 94\n",
      "page key name: Page དྲ་རྩོམ། 94\n",
      "Page key code: Page དྲ་རྩོམ། \n"
     ]
    },
    {
     "name": "stderr",
     "output_type": "stream",
     "text": [
      "100%|██████████| 94/94 [38:28<00:00, 24.56s/it]\n"
     ]
    },
    {
     "name": "stdout",
     "output_type": "stream",
     "text": [
      "Page དྲ་རྩོམ། 19_tibetcm_Article_13\n",
      "Page དྲ་རྩོམ། 19_tibetcm_Article_17\n",
      "total Failure in the དྲ་རྩོམ། article: 2\n",
      "tibetcm_ALL_content_དྲ་རྩོམ།.json\n",
      "Successfully saved: tibetcm_ALL_content_དྲ་རྩོམ།.json\n",
      "Total page in tibetcm_ALL_link_རྩོམ་དཔྱད།.json: 9\n",
      "page key name: Page རྩོམ་དཔྱད། 9\n",
      "Page key code: Page རྩོམ་དཔྱད། \n"
     ]
    },
    {
     "name": "stderr",
     "output_type": "stream",
     "text": [
      "100%|██████████| 9/9 [05:14<00:00, 34.98s/it]\n"
     ]
    },
    {
     "name": "stdout",
     "output_type": "stream",
     "text": [
      "total Failure in the རྩོམ་དཔྱད། article: 0\n",
      "tibetcm_ALL_content_རྩོམ་དཔྱད།.json\n",
      "Successfully saved: tibetcm_ALL_content_རྩོམ་དཔྱད།.json\n",
      "Total page in tibetcm_ALL_link_སྒྲ་བརྙན།.json: 1\n",
      "page key name: Page སྒྲ་བརྙན། 1\n",
      "Page key code: Page སྒྲ་བརྙན། \n"
     ]
    },
    {
     "name": "stderr",
     "output_type": "stream",
     "text": [
      "100%|██████████| 1/1 [00:23<00:00, 23.58s/it]\n"
     ]
    },
    {
     "name": "stdout",
     "output_type": "stream",
     "text": [
      "total Failure in the སྒྲ་བརྙན། article: 0\n",
      "tibetcm_ALL_content_སྒྲ་བརྙན།.json\n",
      "Successfully saved: tibetcm_ALL_content_སྒྲ་བརྙན།.json\n",
      "Total page in tibetcm_ALL_link_གློག་བརྙན།.json: 1\n",
      "page key name: Page གློག་བརྙན། 1\n",
      "Page key code: Page གློག་བརྙན། \n"
     ]
    },
    {
     "name": "stderr",
     "output_type": "stream",
     "text": [
      "100%|██████████| 1/1 [00:02<00:00,  2.20s/it]\n"
     ]
    },
    {
     "name": "stdout",
     "output_type": "stream",
     "text": [
      "total Failure in the གློག་བརྙན། article: 0\n",
      "tibetcm_ALL_content_གློག་བརྙན།.json\n",
      "Successfully saved: tibetcm_ALL_content_གློག་བརྙན།.json\n",
      "Total page in tibetcm_ALL_link_བརྙན་ཐུང་།.json: 1\n",
      "page key name: Page བརྙན་ཐུང་། 1\n",
      "Page key code: Page བརྙན་ཐུང་། \n"
     ]
    },
    {
     "name": "stderr",
     "output_type": "stream",
     "text": [
      "100%|██████████| 1/1 [00:07<00:00,  7.74s/it]\n"
     ]
    },
    {
     "name": "stdout",
     "output_type": "stream",
     "text": [
      "total Failure in the བརྙན་ཐུང་། article: 0\n",
      "tibetcm_ALL_content_བརྙན་ཐུང་།.json\n",
      "Successfully saved: tibetcm_ALL_content_བརྙན་ཐུང་།.json\n",
      "Total page in tibetcm_ALL_link_པར་ལེན།.json: 3\n",
      "page key name: Page པར་ལེན། 3\n",
      "Page key code: Page པར་ལེན། \n"
     ]
    },
    {
     "name": "stderr",
     "output_type": "stream",
     "text": [
      "100%|██████████| 3/3 [00:50<00:00, 16.83s/it]\n"
     ]
    },
    {
     "name": "stdout",
     "output_type": "stream",
     "text": [
      "total Failure in the པར་ལེན། article: 0\n",
      "tibetcm_ALL_content_པར་ལེན།.json\n",
      "Successfully saved: tibetcm_ALL_content_པར་ལེན།.json\n",
      "Total page in tibetcm_ALL_link_གླུ་གཞས།.json: 1\n",
      "page key name: Page གླུ་གཞས། 1\n",
      "Page key code: Page གླུ་གཞས། \n"
     ]
    },
    {
     "name": "stderr",
     "output_type": "stream",
     "text": [
      "100%|██████████| 1/1 [00:04<00:00,  4.73s/it]\n"
     ]
    },
    {
     "name": "stdout",
     "output_type": "stream",
     "text": [
      "total Failure in the གླུ་གཞས། article: 0\n",
      "tibetcm_ALL_content_གླུ་གཞས།.json\n",
      "Successfully saved: tibetcm_ALL_content_གླུ་གཞས།.json\n",
      "Total page in tibetcm_ALL_link_རི་མོ།.json: 1\n",
      "page key name: Page རི་མོ། 1\n",
      "Page key code: Page རི་མོ། \n"
     ]
    },
    {
     "name": "stderr",
     "output_type": "stream",
     "text": [
      "100%|██████████| 1/1 [00:18<00:00, 18.70s/it]\n"
     ]
    },
    {
     "name": "stdout",
     "output_type": "stream",
     "text": [
      "total Failure in the རི་མོ། article: 0\n",
      "tibetcm_ALL_content_རི་མོ།.json\n",
      "Successfully saved: tibetcm_ALL_content_རི་མོ།.json\n",
      "Total page in tibetcm_ALL_link_རྩེད་མོ།.json: 1\n",
      "page key name: Page རྩེད་མོ། 1\n",
      "Page key code: Page རྩེད་མོ། \n"
     ]
    },
    {
     "name": "stderr",
     "output_type": "stream",
     "text": [
      "100%|██████████| 1/1 [00:00<00:00, 18978.75it/s]\n"
     ]
    },
    {
     "name": "stdout",
     "output_type": "stream",
     "text": [
      "total Failure in the རྩེད་མོ། article: 0\n",
      "tibetcm_ALL_content_རྩེད་མོ།.json\n",
      "Successfully saved: tibetcm_ALL_content_རྩེད་མོ།.json\n",
      "Total page in tibetcm_ALL_link_དཔེ་ཁྲིད།.json: 1\n",
      "page key name: Page དཔེ་ཁྲིད། 1\n",
      "Page key code: Page དཔེ་ཁྲིད། \n"
     ]
    },
    {
     "name": "stderr",
     "output_type": "stream",
     "text": [
      "100%|██████████| 1/1 [00:00<00:00,  1.12it/s]\n"
     ]
    },
    {
     "name": "stdout",
     "output_type": "stream",
     "text": [
      "total Failure in the དཔེ་ཁྲིད། article: 0\n",
      "tibetcm_ALL_content_དཔེ་ཁྲིད།.json\n",
      "Successfully saved: tibetcm_ALL_content_དཔེ་ཁྲིད།.json\n",
      "Total page in tibetcm_ALL_link_ཆེད་ཞུས།.json: 1\n",
      "page key name: Page ཆེད་ཞུས། 1\n",
      "Page key code: Page ཆེད་ཞུས། \n"
     ]
    },
    {
     "name": "stderr",
     "output_type": "stream",
     "text": [
      "100%|██████████| 1/1 [00:44<00:00, 44.40s/it]\n"
     ]
    },
    {
     "name": "stdout",
     "output_type": "stream",
     "text": [
      "total Failure in the ཆེད་ཞུས། article: 0\n",
      "tibetcm_ALL_content_ཆེད་ཞུས།.json\n",
      "Successfully saved: tibetcm_ALL_content_ཆེད་ཞུས།.json\n",
      "Total page in tibetcm_ALL_link_གཅན་མེ་སྟག.json: 2\n",
      "page key name: Page གཅན་མེ་སྟག 2\n",
      "Page key code: Page གཅན་མེ་སྟག \n"
     ]
    },
    {
     "name": "stderr",
     "output_type": "stream",
     "text": [
      "100%|██████████| 2/2 [00:49<00:00, 24.92s/it]\n"
     ]
    },
    {
     "name": "stdout",
     "output_type": "stream",
     "text": [
      "total Failure in the གཅན་མེ་སྟག article: 0\n",
      "tibetcm_ALL_content_གཅན་མེ་སྟག.json\n",
      "Successfully saved: tibetcm_ALL_content_གཅན་མེ་སྟག.json\n",
      "Total page in tibetcm_ALL_link_སེང་རྡོར།.json: 2\n",
      "page key name: Page སེང་རྡོར། 2\n",
      "Page key code: Page སེང་རྡོར། \n"
     ]
    },
    {
     "name": "stderr",
     "output_type": "stream",
     "text": [
      "100%|██████████| 2/2 [00:42<00:00, 21.03s/it]\n"
     ]
    },
    {
     "name": "stdout",
     "output_type": "stream",
     "text": [
      "total Failure in the སེང་རྡོར། article: 0\n",
      "tibetcm_ALL_content_སེང་རྡོར།.json\n",
      "Successfully saved: tibetcm_ALL_content_སེང་རྡོར།.json\n",
      "Total page in tibetcm_ALL_link_རེ་རྐང་གླིང་།.json: 3\n",
      "page key name: Page རེ་རྐང་གླིང་། 3\n",
      "Page key code: Page རེ་རྐང་གླིང་། \n"
     ]
    },
    {
     "name": "stderr",
     "output_type": "stream",
     "text": [
      "100%|██████████| 3/3 [01:39<00:00, 33.32s/it]\n"
     ]
    },
    {
     "name": "stdout",
     "output_type": "stream",
     "text": [
      "total Failure in the རེ་རྐང་གླིང་། article: 0\n",
      "tibetcm_ALL_content_རེ་རྐང་གླིང་།.json\n",
      "Successfully saved: tibetcm_ALL_content_རེ་རྐང་གླིང་།.json\n",
      "Total page in tibetcm_ALL_link_བྱམས་ཕྲུག.json: 2\n",
      "page key name: Page བྱམས་ཕྲུག 2\n",
      "Page key code: Page བྱམས་ཕྲུག \n"
     ]
    },
    {
     "name": "stderr",
     "output_type": "stream",
     "text": [
      "100%|██████████| 2/2 [00:34<00:00, 17.47s/it]\n"
     ]
    },
    {
     "name": "stdout",
     "output_type": "stream",
     "text": [
      "total Failure in the བྱམས་ཕྲུག article: 0\n",
      "tibetcm_ALL_content_བྱམས་ཕྲུག.json\n",
      "Successfully saved: tibetcm_ALL_content_བྱམས་ཕྲུག.json\n",
      "Total page in tibetcm_ALL_link_བདེ་གྲོལ།.json: 6\n",
      "page key name: Page བདེ་གྲོལ། 6\n",
      "Page key code: Page བདེ་གྲོལ། \n"
     ]
    },
    {
     "name": "stderr",
     "output_type": "stream",
     "text": [
      "100%|██████████| 6/6 [02:30<00:00, 25.07s/it]\n"
     ]
    },
    {
     "name": "stdout",
     "output_type": "stream",
     "text": [
      "total Failure in the བདེ་གྲོལ། article: 0\n",
      "tibetcm_ALL_content_བདེ་གྲོལ།.json\n",
      "Successfully saved: tibetcm_ALL_content_བདེ་གྲོལ།.json\n",
      "Total page in tibetcm_ALL_link_མི་ལ་ཙི་ཙི།.json: 1\n",
      "page key name: Page མི་ལ་ཙི་ཙི། 1\n",
      "Page key code: Page མི་ལ་ཙི་ཙི། \n"
     ]
    },
    {
     "name": "stderr",
     "output_type": "stream",
     "text": [
      "100%|██████████| 1/1 [00:11<00:00, 11.86s/it]\n"
     ]
    },
    {
     "name": "stdout",
     "output_type": "stream",
     "text": [
      "total Failure in the མི་ལ་ཙི་ཙི། article: 0\n",
      "tibetcm_ALL_content_མི་ལ་ཙི་ཙི།.json\n",
      "Successfully saved: tibetcm_ALL_content_མི་ལ་ཙི་ཙི།.json\n",
      "Total page in tibetcm_ALL_link_ཆེད་སྒྲིག.json: 8\n",
      "page key name: Page ཆེད་སྒྲིག 8\n",
      "Page key code: Page ཆེད་སྒྲིག \n"
     ]
    },
    {
     "name": "stderr",
     "output_type": "stream",
     "text": [
      "100%|██████████| 8/8 [05:21<00:00, 40.18s/it]\n"
     ]
    },
    {
     "name": "stdout",
     "output_type": "stream",
     "text": [
      "total Failure in the ཆེད་སྒྲིག article: 0\n",
      "tibetcm_ALL_content_ཆེད་སྒྲིག.json\n",
      "Successfully saved: tibetcm_ALL_content_ཆེད་སྒྲིག.json\n",
      "Total page in tibetcm_ALL_link_ཕབ་ལེན།.json: 1\n",
      "page key name: Page ཕབ་ལེན། 1\n",
      "Page key code: Page ཕབ་ལེན། \n"
     ]
    },
    {
     "name": "stderr",
     "output_type": "stream",
     "text": [
      "100%|██████████| 1/1 [00:04<00:00,  4.70s/it]\n"
     ]
    },
    {
     "name": "stdout",
     "output_type": "stream",
     "text": [
      "total Failure in the ཕབ་ལེན། article: 0\n",
      "tibetcm_ALL_content_ཕབ་ལེན།.json\n",
      "Successfully saved: tibetcm_ALL_content_ཕབ་ལེན།.json\n",
      "Total page in tibetcm_ALL_link_མཉེན་ཆས།.json: 1\n",
      "page key name: Page མཉེན་ཆས། 1\n",
      "Page key code: Page མཉེན་ཆས། \n"
     ]
    },
    {
     "name": "stderr",
     "output_type": "stream",
     "text": [
      "100%|██████████| 1/1 [00:01<00:00,  1.85s/it]\n"
     ]
    },
    {
     "name": "stdout",
     "output_type": "stream",
     "text": [
      "total Failure in the མཉེན་ཆས། article: 0\n",
      "tibetcm_ALL_content_མཉེན་ཆས།.json\n",
      "Successfully saved: tibetcm_ALL_content_མཉེན་ཆས།.json\n",
      "Total page in tibetcm_ALL_link_གློག་དེབ།.json: 1\n",
      "page key name: Page གློག་དེབ། 1\n",
      "Page key code: Page གློག་དེབ། \n"
     ]
    },
    {
     "name": "stderr",
     "output_type": "stream",
     "text": [
      "100%|██████████| 1/1 [00:02<00:00,  2.66s/it]\n"
     ]
    },
    {
     "name": "stdout",
     "output_type": "stream",
     "text": [
      "total Failure in the གློག་དེབ། article: 0\n",
      "tibetcm_ALL_content_གློག་དེབ།.json\n",
      "Successfully saved: tibetcm_ALL_content_གློག་དེབ།.json\n",
      "Total page in tibetcm_ALL_link_གཞན་དག.json: 1\n",
      "page key name: Page གཞན་དག 1\n",
      "Page key code: Page གཞན་དག \n"
     ]
    },
    {
     "name": "stderr",
     "output_type": "stream",
     "text": [
      "100%|██████████| 1/1 [00:24<00:00, 24.68s/it]\n"
     ]
    },
    {
     "name": "stdout",
     "output_type": "stream",
     "text": [
      "total Failure in the གཞན་དག article: 0\n",
      "tibetcm_ALL_content_གཞན་དག.json\n",
      "Successfully saved: tibetcm_ALL_content_གཞན་དག.json\n",
      "Total page in tibetcm_ALL_link_ཡིག་ཚགས།.json: 1\n",
      "page key name: Page ཡིག་ཚགས། 1\n",
      "Page key code: Page ཡིག་ཚགས། \n"
     ]
    },
    {
     "name": "stderr",
     "output_type": "stream",
     "text": [
      "100%|██████████| 1/1 [00:09<00:00,  9.90s/it]\n"
     ]
    },
    {
     "name": "stdout",
     "output_type": "stream",
     "text": [
      "total Failure in the ཡིག་ཚགས། article: 0\n",
      "tibetcm_ALL_content_ཡིག་ཚགས།.json\n",
      "Successfully saved: tibetcm_ALL_content_ཡིག་ཚགས།.json\n",
      "Total page in tibetcm_ALL_link_མི་རབས་གསུམ་པ།.json: 3\n",
      "page key name: Page མི་རབས་གསུམ་པ། 3\n",
      "Page key code: Page མི་རབས་གསུམ་པ། \n"
     ]
    },
    {
     "name": "stderr",
     "output_type": "stream",
     "text": [
      "100%|██████████| 3/3 [01:21<00:00, 27.02s/it]\n"
     ]
    },
    {
     "name": "stdout",
     "output_type": "stream",
     "text": [
      "total Failure in the མི་རབས་གསུམ་པ། article: 0\n",
      "tibetcm_ALL_content_མི་རབས་གསུམ་པ།.json\n",
      "Successfully saved: tibetcm_ALL_content_མི་རབས་གསུམ་པ།.json\n",
      "Total page in tibetcm_ALL_link_མི་རབས་བཞི་བ།.json: 1\n",
      "page key name: Page མི་རབས་བཞི་བ། 1\n",
      "Page key code: Page མི་རབས་བཞི་བ། \n"
     ]
    },
    {
     "name": "stderr",
     "output_type": "stream",
     "text": [
      "100%|██████████| 1/1 [00:02<00:00,  2.69s/it]\n"
     ]
    },
    {
     "name": "stdout",
     "output_type": "stream",
     "text": [
      "total Failure in the མི་རབས་བཞི་བ། article: 0\n",
      "tibetcm_ALL_content_མི་རབས་བཞི་བ།.json\n",
      "Successfully saved: tibetcm_ALL_content_མི་རབས་བཞི་བ།.json\n",
      "Total page in tibetcm_ALL_link_ཚོང་བརྡ།.json: 1\n",
      "page key name: Page ཚོང་བརྡ། 1\n",
      "Page key code: Page ཚོང་བརྡ། \n"
     ]
    },
    {
     "name": "stderr",
     "output_type": "stream",
     "text": [
      "100%|██████████| 1/1 [00:17<00:00, 17.16s/it]"
     ]
    },
    {
     "name": "stdout",
     "output_type": "stream",
     "text": [
      "total Failure in the ཚོང་བརྡ། article: 0\n",
      "tibetcm_ALL_content_ཚོང་བརྡ།.json\n",
      "Successfully saved: tibetcm_ALL_content_ཚོང་བརྡ།.json\n",
      "Processed 71 files\n"
     ]
    },
    {
     "name": "stderr",
     "output_type": "stream",
     "text": [
      "\n"
     ]
    }
   ],
   "source": [
    "import json\n",
    "from bs4 import Tag\n",
    "from tqdm import tqdm\n",
    "import tibetcm_utils\n",
    "import os\n",
    "\n",
    "class CustomJSONEncoder(json.JSONEncoder):\n",
    "    def default(self, obj):\n",
    "        if isinstance(obj, Tag):\n",
    "            return obj.get_text()  # Get all text from the tag\n",
    "        return str(obj)  # Convert any other non-serializable object to string\n",
    "\n",
    "def save_json(path, file_name, data):\n",
    "    try: \n",
    "        with open(path + file_name, \"w\", encoding='utf-8') as outfile:\n",
    "            json.dump(data, outfile, indent=4, ensure_ascii=False, cls=CustomJSONEncoder)\n",
    "        print(f\"Successfully saved: {file_name}\")\n",
    "    except Exception as e:\n",
    "        print(f\"Error saving {file_name}: {str(e)}\")\n",
    "\n",
    "def read_json(path, file_name):\n",
    "    try:\n",
    "        with open(path+file_name, 'r', encoding='utf-8') as openfile:\n",
    "            Loaded_file = json.load(openfile)\n",
    "            print(f\"Successfully loaded: {file_name}\")\n",
    "        return Loaded_file\n",
    "    except Exception as e:\n",
    "        print(f\"Error loading {file_name}: {str(e)}\")\n",
    "        return None\n",
    "\n",
    "def get_content(All_links_data, Total_lenght, page_key_code, page_key_list):\n",
    "    start = 1\n",
    "    all_article = {}\n",
    "    \n",
    "    for i in tqdm(range(start, Total_lenght+1)):\n",
    "        page_key = page_key_code + str(i)\n",
    "        all_link_page = All_links_data[page_key][\"Links\"]\n",
    "        page_article_index = 1\n",
    "        \n",
    "        for each_URL in all_link_page:\n",
    "            try:\n",
    "                article_content = tibetcm_utils.scrape_tibetcm_article_content(each_URL, tags=page_key_code)\n",
    "                article_key = page_key + \"_tibetcm_Article_\" + str(page_article_index)\n",
    "                page_article_index += 1\n",
    "                all_article[article_key] = article_content\n",
    "            except Exception as e:\n",
    "                print(f\"Error scraping {each_URL}: {str(e)}\")\n",
    "    \n",
    "    Failure_count = 0\n",
    "    for each_article_key in all_article:\n",
    "        if all_article[each_article_key][\"Response\"] != 200:\n",
    "            print(each_article_key)\n",
    "            Failure_count += 1\n",
    "    print(f\"total Failure in the {page_key_list[1]} article: {Failure_count}\")\n",
    "    \n",
    "    save_file_name = f\"tibetcm_ALL_content_{page_key_list[1]}.json\"\n",
    "    print(save_file_name)\n",
    "    path = \"./data/all_content/\"\n",
    "    save_json(path, save_file_name, all_article)\n",
    "\n",
    "def get_json_files(directory):\n",
    "    json_files = []\n",
    "    i = 0\n",
    "    for filename in os.listdir(directory):\n",
    "        if filename.endswith('.json'):\n",
    "            file_path = os.path.join(directory, filename)\n",
    "            try:\n",
    "                with open(file_path, 'r', encoding='utf-8') as file:\n",
    "                    i += 1\n",
    "                    All_links_data = json.load(file)\n",
    "                    Total_lenght = len(All_links_data)\n",
    "                    print(f\"Total page in {filename}: {Total_lenght}\")\n",
    "                \n",
    "                    print(f\"page key name: {list(All_links_data.keys())[-1]}\")\n",
    "                    page_key_list = list(All_links_data.keys())[-1].split(\" \")\n",
    "                    \n",
    "                    page_key_code = \"Page \"+page_key_list[1]+\" \"\n",
    "                    print(f\"Page key code: {page_key_code}\")\n",
    "                    get_content(All_links_data, Total_lenght, page_key_code, page_key_list)\n",
    "            except json.JSONDecodeError as e:\n",
    "                print(f\"Error decoding JSON in file {filename}: {str(e)}\")\n",
    "            except Exception as e:\n",
    "                print(f\"Error processing file {filename}: {str(e)}\")\n",
    "    print(f\"Processed {i} files\")\n",
    "\n",
    "# Example usage\n",
    "directory_path = './data/links/'\n",
    "get_json_files(directory_path)"
   ]
  },
  {
   "cell_type": "code",
   "execution_count": null,
   "id": "1361d296-333a-4df0-b635-e97143a53c9b",
   "metadata": {},
   "outputs": [],
   "source": []
  },
  {
   "cell_type": "code",
   "execution_count": null,
   "id": "e31e3cf7-67fc-4bb8-873e-31d860ad32d0",
   "metadata": {},
   "outputs": [],
   "source": []
  },
  {
   "cell_type": "code",
   "execution_count": null,
   "id": "4f778ea5-f282-494d-b513-771817cec220",
   "metadata": {},
   "outputs": [],
   "source": []
  },
  {
   "cell_type": "code",
   "execution_count": null,
   "id": "1d90ba8d-24a0-4af1-95fe-420a6cf5bda9",
   "metadata": {},
   "outputs": [],
   "source": []
  },
  {
   "cell_type": "code",
   "execution_count": null,
   "id": "70cb042b-1c2c-48ea-8615-5ecdf29880a7",
   "metadata": {},
   "outputs": [],
   "source": []
  }
 ],
 "metadata": {
  "kernelspec": {
   "display_name": "Python 3 (ipykernel)",
   "language": "python",
   "name": "python3"
  },
  "language_info": {
   "codemirror_mode": {
    "name": "ipython",
    "version": 3
   },
   "file_extension": ".py",
   "mimetype": "text/x-python",
   "name": "python",
   "nbconvert_exporter": "python",
   "pygments_lexer": "ipython3",
   "version": "3.10.13"
  }
 },
 "nbformat": 4,
 "nbformat_minor": 5
}
