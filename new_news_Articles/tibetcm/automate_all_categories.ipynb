{
 "cells": [
  {
   "cell_type": "code",
   "execution_count": 1,
   "id": "40147810-a5ac-49c4-9891-123f743b40eb",
   "metadata": {},
   "outputs": [],
   "source": [
    "import requests\n",
    "from bs4 import BeautifulSoup\n",
    "import json\n",
    "import time\n",
    "\n",
    "from tqdm import tqdm"
   ]
  },
  {
   "cell_type": "code",
   "execution_count": 2,
   "id": "7c3970d1-04ce-402d-afa7-fbf8323f6284",
   "metadata": {},
   "outputs": [],
   "source": [
    "import tibetcm_utils\n",
    "import pandas as pd"
   ]
  },
  {
   "cell_type": "code",
   "execution_count": null,
   "id": "ca1d7bbc-d27b-4c64-aa2d-5d27409915d7",
   "metadata": {},
   "outputs": [],
   "source": []
  },
  {
   "cell_type": "markdown",
   "id": "685b9b9e-98a7-4a1f-a674-2125437e3fe4",
   "metadata": {},
   "source": [
    "## Here we will extract all the articles links from  https://www.tibetcm.com/ webpage\n",
    "URL:  https://www.tibetcm.com/"
   ]
  },
  {
   "cell_type": "markdown",
   "id": "95f69b28-a91e-479a-9d51-3e2d466692a6",
   "metadata": {},
   "source": [
    "Tabs not extracted\n",
    "\n",
    " https://www.tibetcm.com/"
   ]
  },
  {
   "cell_type": "code",
   "execution_count": null,
   "id": "53f131a3-9008-4061-a1c1-191bf90cab51",
   "metadata": {},
   "outputs": [],
   "source": []
  },
  {
   "cell_type": "markdown",
   "id": "acd071a1-9fce-42e8-9d49-0e71dc3b42e4",
   "metadata": {},
   "source": [
    "\n",
    "------------\n",
    "-----------\n",
    "------------\n",
    "------------\n",
    "------------"
   ]
  },
  {
   "cell_type": "code",
   "execution_count": 3,
   "id": "467da2b4-69ca-4b77-b0b5-01ec39d844bc",
   "metadata": {},
   "outputs": [],
   "source": [
    "def loop_article_page(total_page, custom_url, key_code, base_url):\n",
    "    \"\"\"\n",
    "    \n",
    "    \"\"\"\n",
    "    return_file = {\n",
    "        \"Data\": [],\n",
    "        \"message\": \"success\",\n",
    "        \"response\": 200\n",
    "    }\n",
    "    All_url_links = {}\n",
    "    \n",
    "    try:\n",
    "        for i in tqdm(range(1, total_page+1)):\n",
    "            if i == 1:\n",
    "                final_url = custom_url + \".html\"\n",
    "            else:\n",
    "                final_url = custom_url+ \"_\" + str(i) + \".html\"\n",
    "                \n",
    "            found_url_links = tibetcm_utils.extract_all_tibetcm_page_article_links(final_url, base_url)\n",
    "            key = key_code + str(i)\n",
    "            All_url_links[key] = found_url_links\n",
    "        return_file[\"Data\"] = All_url_links\n",
    "        return return_file\n",
    "    \n",
    "    except Exception as e:\n",
    "        return_file[\"Data\"] = All_url_links\n",
    "        return_file[\"message\"] = e\n",
    "        return_file[\"response\"] = 404\n",
    "        return return_file"
   ]
  },
  {
   "cell_type": "code",
   "execution_count": 4,
   "id": "36d048db-f75b-4bbf-99ba-333eb7639175",
   "metadata": {},
   "outputs": [],
   "source": [
    "def check_error_in_links(All_url_link, page_code, print_each_error=False):\n",
    "    \"\"\"\n",
    "    \n",
    "    \n",
    "    \"\"\"\n",
    "\n",
    "    error_counter = 0\n",
    "    for page_id in range(1, len(All_url_link)):\n",
    "        page_key = page_code + str(page_id)\n",
    "        try:\n",
    "            All_url_link.get(page_key)\n",
    "            if  All_url_link.get(page_key)[\"Response\"]!= 200:\n",
    "                error_counter += 1\n",
    "                if print_each_error:\n",
    "                    print(page_key, All_url_link.get(page_key)[\"message\"])\n",
    "        except Exception as e:\n",
    "            print(page_key, e)\n",
    "\n",
    "    print(f\"Total error in {page_code}: {error_counter}\")"
   ]
  },
  {
   "cell_type": "code",
   "execution_count": 5,
   "id": "43edc8d7-14ca-44e8-9fda-7ec78d5e7fe8",
   "metadata": {},
   "outputs": [],
   "source": [
    "def save_json(path, file_name, data):\n",
    "    \"\"\"\n",
    "    \n",
    "    \"\"\"\n",
    "    with open(path+file_name, \"w\") as outfile:\n",
    "        json.dump(data, outfile, indent=4, ensure_ascii=False)\n",
    "        print(f\"Successfully saved: {file_name}\")"
   ]
  },
  {
   "cell_type": "code",
   "execution_count": null,
   "id": "1f46d139-cd34-40d1-be5f-93f40630ccbb",
   "metadata": {},
   "outputs": [],
   "source": []
  },
  {
   "cell_type": "code",
   "execution_count": null,
   "id": "2dfeb92c-62d7-404c-83cc-f2ec569ddadb",
   "metadata": {},
   "outputs": [],
   "source": []
  },
  {
   "cell_type": "markdown",
   "id": "8285b51c-3a40-4e55-bf05-b132ecb3d64c",
   "metadata": {},
   "source": [
    "### all data"
   ]
  },
  {
   "cell_type": "code",
   "execution_count": 6,
   "id": "25b41ef0-af0c-4cee-ad0f-2e6c73282629",
   "metadata": {},
   "outputs": [
    {
     "data": {
      "text/html": [
       "<div>\n",
       "<style scoped>\n",
       "    .dataframe tbody tr th:only-of-type {\n",
       "        vertical-align: middle;\n",
       "    }\n",
       "\n",
       "    .dataframe tbody tr th {\n",
       "        vertical-align: top;\n",
       "    }\n",
       "\n",
       "    .dataframe thead th {\n",
       "        text-align: right;\n",
       "    }\n",
       "</style>\n",
       "<table border=\"1\" class=\"dataframe\">\n",
       "  <thead>\n",
       "    <tr style=\"text-align: right;\">\n",
       "      <th></th>\n",
       "      <th>name_of_cate</th>\n",
       "      <th>original_url</th>\n",
       "      <th>Last_page_link</th>\n",
       "      <th>list_page_no</th>\n",
       "    </tr>\n",
       "  </thead>\n",
       "  <tbody>\n",
       "    <tr>\n",
       "      <th>0</th>\n",
       "      <td>མདུན་ཤོག</td>\n",
       "      <td>https://www.tibetcm.com/</td>\n",
       "      <td>no link last page link</td>\n",
       "      <td>1</td>\n",
       "    </tr>\n",
       "    <tr>\n",
       "      <th>1</th>\n",
       "      <td>འཕྲིན་གསར།</td>\n",
       "      <td>https://www.tibetcm.com/news/</td>\n",
       "      <td>https://www.tibetcm.com/news/index_27.html</td>\n",
       "      <td>27</td>\n",
       "    </tr>\n",
       "    <tr>\n",
       "      <th>2</th>\n",
       "      <td>ལེགས་རྩོམ།</td>\n",
       "      <td>https://www.tibetcm.com/classics/</td>\n",
       "      <td>no link last page link</td>\n",
       "      <td>1</td>\n",
       "    </tr>\n",
       "    <tr>\n",
       "      <th>3</th>\n",
       "      <td>གཞུང་།</td>\n",
       "      <td>https://www.tibetcm.com/classics/gzhung/</td>\n",
       "      <td>no link last page link</td>\n",
       "      <td>1</td>\n",
       "    </tr>\n",
       "    <tr>\n",
       "      <th>4</th>\n",
       "      <td>བསྟོད་ཚོགས།</td>\n",
       "      <td>https://www.tibetcm.com/classics/praise/</td>\n",
       "      <td>https://www.tibetcm.com/classics/praise/index_...</td>\n",
       "      <td>3</td>\n",
       "    </tr>\n",
       "  </tbody>\n",
       "</table>\n",
       "</div>"
      ],
      "text/plain": [
       "  name_of_cate                              original_url  \\\n",
       "0     མདུན་ཤོག                  https://www.tibetcm.com/   \n",
       "1   འཕྲིན་གསར།             https://www.tibetcm.com/news/   \n",
       "2   ལེགས་རྩོམ།         https://www.tibetcm.com/classics/   \n",
       "3       གཞུང་།  https://www.tibetcm.com/classics/gzhung/   \n",
       "4  བསྟོད་ཚོགས།  https://www.tibetcm.com/classics/praise/   \n",
       "\n",
       "                                      Last_page_link  list_page_no  \n",
       "0                             no link last page link             1  \n",
       "1         https://www.tibetcm.com/news/index_27.html            27  \n",
       "2                             no link last page link             1  \n",
       "3                             no link last page link             1  \n",
       "4  https://www.tibetcm.com/classics/praise/index_...             3  "
      ]
     },
     "execution_count": 6,
     "metadata": {},
     "output_type": "execute_result"
    }
   ],
   "source": [
    "df = pd.read_csv(\"./data/All_cate.csv\")\n",
    "df.head()"
   ]
  },
  {
   "cell_type": "code",
   "execution_count": 9,
   "id": "3d271a88-5471-41a0-bd2d-838eca8b02d0",
   "metadata": {},
   "outputs": [
    {
     "data": {
      "text/html": [
       "<div>\n",
       "<style scoped>\n",
       "    .dataframe tbody tr th:only-of-type {\n",
       "        vertical-align: middle;\n",
       "    }\n",
       "\n",
       "    .dataframe tbody tr th {\n",
       "        vertical-align: top;\n",
       "    }\n",
       "\n",
       "    .dataframe thead th {\n",
       "        text-align: right;\n",
       "    }\n",
       "</style>\n",
       "<table border=\"1\" class=\"dataframe\">\n",
       "  <thead>\n",
       "    <tr style=\"text-align: right;\">\n",
       "      <th></th>\n",
       "      <th>name_of_cate</th>\n",
       "      <th>original_url</th>\n",
       "      <th>Last_page_link</th>\n",
       "      <th>list_page_no</th>\n",
       "    </tr>\n",
       "  </thead>\n",
       "  <tbody>\n",
       "    <tr>\n",
       "      <th>1</th>\n",
       "      <td>འཕྲིན་གསར།</td>\n",
       "      <td>https://www.tibetcm.com/news/</td>\n",
       "      <td>https://www.tibetcm.com/news/index_27.html</td>\n",
       "      <td>27</td>\n",
       "    </tr>\n",
       "    <tr>\n",
       "      <th>2</th>\n",
       "      <td>ལེགས་རྩོམ།</td>\n",
       "      <td>https://www.tibetcm.com/classics/</td>\n",
       "      <td>no link last page link</td>\n",
       "      <td>1</td>\n",
       "    </tr>\n",
       "    <tr>\n",
       "      <th>3</th>\n",
       "      <td>གཞུང་།</td>\n",
       "      <td>https://www.tibetcm.com/classics/gzhung/</td>\n",
       "      <td>no link last page link</td>\n",
       "      <td>1</td>\n",
       "    </tr>\n",
       "    <tr>\n",
       "      <th>4</th>\n",
       "      <td>བསྟོད་ཚོགས།</td>\n",
       "      <td>https://www.tibetcm.com/classics/praise/</td>\n",
       "      <td>https://www.tibetcm.com/classics/praise/index_...</td>\n",
       "      <td>3</td>\n",
       "    </tr>\n",
       "    <tr>\n",
       "      <th>5</th>\n",
       "      <td>མགུར་གླུ།</td>\n",
       "      <td>https://www.tibetcm.com/classics/poem-songs/</td>\n",
       "      <td>https://www.tibetcm.com/classics/poem-songs/in...</td>\n",
       "      <td>3</td>\n",
       "    </tr>\n",
       "    <tr>\n",
       "      <th>...</th>\n",
       "      <td>...</td>\n",
       "      <td>...</td>\n",
       "      <td>...</td>\n",
       "      <td>...</td>\n",
       "    </tr>\n",
       "    <tr>\n",
       "      <th>68</th>\n",
       "      <td>གཞན་དག</td>\n",
       "      <td>https://www.tibetcm.com/other/</td>\n",
       "      <td>no link last page link</td>\n",
       "      <td>1</td>\n",
       "    </tr>\n",
       "    <tr>\n",
       "      <th>69</th>\n",
       "      <td>ཡིག་ཚགས།</td>\n",
       "      <td>https://www.tibetcm.com/other/archives/</td>\n",
       "      <td>no link last page link</td>\n",
       "      <td>1</td>\n",
       "    </tr>\n",
       "    <tr>\n",
       "      <th>70</th>\n",
       "      <td>མི་རབས་གསུམ་པ།</td>\n",
       "      <td>https://www.tibetcm.com/other/third-poets/</td>\n",
       "      <td>/other/third-poets/index_3.html</td>\n",
       "      <td>3</td>\n",
       "    </tr>\n",
       "    <tr>\n",
       "      <th>71</th>\n",
       "      <td>མི་རབས་བཞི་བ།</td>\n",
       "      <td>https://www.tibetcm.com/other/fourth-poets/</td>\n",
       "      <td>no link last page link</td>\n",
       "      <td>1</td>\n",
       "    </tr>\n",
       "    <tr>\n",
       "      <th>72</th>\n",
       "      <td>ཚོང་བརྡ།</td>\n",
       "      <td>https://www.tibetcm.com/other/ad/</td>\n",
       "      <td>no link last page link</td>\n",
       "      <td>1</td>\n",
       "    </tr>\n",
       "  </tbody>\n",
       "</table>\n",
       "<p>72 rows × 4 columns</p>\n",
       "</div>"
      ],
      "text/plain": [
       "      name_of_cate                                  original_url  \\\n",
       "1       འཕྲིན་གསར།                 https://www.tibetcm.com/news/   \n",
       "2       ལེགས་རྩོམ།             https://www.tibetcm.com/classics/   \n",
       "3           གཞུང་།      https://www.tibetcm.com/classics/gzhung/   \n",
       "4      བསྟོད་ཚོགས།      https://www.tibetcm.com/classics/praise/   \n",
       "5        མགུར་གླུ།  https://www.tibetcm.com/classics/poem-songs/   \n",
       "..             ...                                           ...   \n",
       "68          གཞན་དག                https://www.tibetcm.com/other/   \n",
       "69        ཡིག་ཚགས།       https://www.tibetcm.com/other/archives/   \n",
       "70  མི་རབས་གསུམ་པ།    https://www.tibetcm.com/other/third-poets/   \n",
       "71   མི་རབས་བཞི་བ།   https://www.tibetcm.com/other/fourth-poets/   \n",
       "72        ཚོང་བརྡ།             https://www.tibetcm.com/other/ad/   \n",
       "\n",
       "                                       Last_page_link  list_page_no  \n",
       "1          https://www.tibetcm.com/news/index_27.html            27  \n",
       "2                              no link last page link             1  \n",
       "3                              no link last page link             1  \n",
       "4   https://www.tibetcm.com/classics/praise/index_...             3  \n",
       "5   https://www.tibetcm.com/classics/poem-songs/in...             3  \n",
       "..                                                ...           ...  \n",
       "68                             no link last page link             1  \n",
       "69                             no link last page link             1  \n",
       "70                    /other/third-poets/index_3.html             3  \n",
       "71                             no link last page link             1  \n",
       "72                             no link last page link             1  \n",
       "\n",
       "[72 rows x 4 columns]"
      ]
     },
     "execution_count": 9,
     "metadata": {},
     "output_type": "execute_result"
    }
   ],
   "source": [
    "sample_df = df.iloc[1:-1]\n",
    "sample_df"
   ]
  },
  {
   "cell_type": "code",
   "execution_count": 10,
   "id": "81485921-1ab2-4589-9c7d-ab4ff580093d",
   "metadata": {},
   "outputs": [
    {
     "name": "stderr",
     "output_type": "stream",
     "text": [
      "100%|██████████| 27/27 [00:29<00:00,  1.08s/it]\n"
     ]
    },
    {
     "name": "stdout",
     "output_type": "stream",
     "text": [
      "Total page in འཕྲིན་གསར།: 27\n",
      "Total error in Page འཕྲིན་གསར། : 0\n",
      "Successfully saved: tibetcm_ALL_link_འཕྲིན་གསར།.json\n"
     ]
    },
    {
     "name": "stderr",
     "output_type": "stream",
     "text": [
      "100%|██████████| 1/1 [00:02<00:00,  2.15s/it]\n"
     ]
    },
    {
     "name": "stdout",
     "output_type": "stream",
     "text": [
      "Total page in ལེགས་རྩོམ།: 1\n",
      "Total error in Page ལེགས་རྩོམ། : 0\n",
      "Successfully saved: tibetcm_ALL_link_ལེགས་རྩོམ།.json\n"
     ]
    },
    {
     "name": "stderr",
     "output_type": "stream",
     "text": [
      "100%|██████████| 1/1 [00:00<00:00,  1.09it/s]\n"
     ]
    },
    {
     "name": "stdout",
     "output_type": "stream",
     "text": [
      "Total page in གཞུང་།: 1\n",
      "Total error in Page གཞུང་། : 0\n",
      "Successfully saved: tibetcm_ALL_link_གཞུང་།.json\n"
     ]
    },
    {
     "name": "stderr",
     "output_type": "stream",
     "text": [
      "100%|██████████| 3/3 [00:02<00:00,  1.12it/s]\n"
     ]
    },
    {
     "name": "stdout",
     "output_type": "stream",
     "text": [
      "Total page in བསྟོད་ཚོགས།: 3\n",
      "Total error in Page བསྟོད་ཚོགས། : 0\n",
      "Successfully saved: tibetcm_ALL_link_བསྟོད་ཚོགས།.json\n"
     ]
    },
    {
     "name": "stderr",
     "output_type": "stream",
     "text": [
      "100%|██████████| 3/3 [00:03<00:00,  1.04s/it]\n"
     ]
    },
    {
     "name": "stdout",
     "output_type": "stream",
     "text": [
      "Total page in མགུར་གླུ།: 3\n",
      "Total error in Page མགུར་གླུ། : 0\n",
      "Successfully saved: tibetcm_ALL_link_མགུར་གླུ།.json\n"
     ]
    },
    {
     "name": "stderr",
     "output_type": "stream",
     "text": [
      "100%|██████████| 1/1 [00:00<00:00,  1.07it/s]\n"
     ]
    },
    {
     "name": "stdout",
     "output_type": "stream",
     "text": [
      "Total page in བསླབ་བྱ།: 1\n",
      "Total error in Page བསླབ་བྱ། : 0\n",
      "Successfully saved: tibetcm_ALL_link_བསླབ་བྱ།.json\n"
     ]
    },
    {
     "name": "stderr",
     "output_type": "stream",
     "text": [
      "100%|██████████| 2/2 [00:01<00:00,  1.10it/s]\n"
     ]
    },
    {
     "name": "stdout",
     "output_type": "stream",
     "text": [
      "Total page in ལེགས་བཤད།: 2\n",
      "Total error in Page ལེགས་བཤད། : 0\n",
      "Successfully saved: tibetcm_ALL_link_ལེགས་བཤད།.json\n"
     ]
    },
    {
     "name": "stderr",
     "output_type": "stream",
     "text": [
      "100%|██████████| 1/1 [00:00<00:00,  1.14it/s]\n"
     ]
    },
    {
     "name": "stdout",
     "output_type": "stream",
     "text": [
      "Total page in ཟློས་གར།: 1\n",
      "Total error in Page ཟློས་གར། : 0\n",
      "Successfully saved: tibetcm_ALL_link_ཟློས་གར།.json\n"
     ]
    },
    {
     "name": "stderr",
     "output_type": "stream",
     "text": [
      "100%|██████████| 1/1 [00:00<00:00,  1.07it/s]\n"
     ]
    },
    {
     "name": "stdout",
     "output_type": "stream",
     "text": [
      "Total page in བསང་ཡིག: 1\n",
      "Total error in Page བསང་ཡིག : 0\n",
      "Successfully saved: tibetcm_ALL_link_བསང་ཡིག.json\n"
     ]
    },
    {
     "name": "stderr",
     "output_type": "stream",
     "text": [
      "100%|██████████| 1/1 [00:00<00:00,  1.06it/s]\n"
     ]
    },
    {
     "name": "stdout",
     "output_type": "stream",
     "text": [
      "Total page in གནས་ཡིག: 1\n",
      "Total error in Page གནས་ཡིག : 0\n",
      "Successfully saved: tibetcm_ALL_link_གནས་ཡིག.json\n"
     ]
    },
    {
     "name": "stderr",
     "output_type": "stream",
     "text": [
      "100%|██████████| 1/1 [00:00<00:00,  1.06it/s]\n"
     ]
    },
    {
     "name": "stdout",
     "output_type": "stream",
     "text": [
      "Total page in འབེལ་གཏམ།: 1\n",
      "Total error in Page འབེལ་གཏམ། : 0\n",
      "Successfully saved: tibetcm_ALL_link_འབེལ་གཏམ།.json\n"
     ]
    },
    {
     "name": "stderr",
     "output_type": "stream",
     "text": [
      "100%|██████████| 1/1 [00:00<00:00,  1.05it/s]\n"
     ]
    },
    {
     "name": "stdout",
     "output_type": "stream",
     "text": [
      "Total page in ཆོས་འབྱུང་།: 1\n",
      "Total error in Page ཆོས་འབྱུང་། : 0\n",
      "Successfully saved: tibetcm_ALL_link_ཆོས་འབྱུང་།.json\n"
     ]
    },
    {
     "name": "stderr",
     "output_type": "stream",
     "text": [
      "100%|██████████| 1/1 [00:00<00:00,  1.10it/s]\n"
     ]
    },
    {
     "name": "stdout",
     "output_type": "stream",
     "text": [
      "Total page in ལོ་རྒྱུས།: 1\n",
      "Total error in Page ལོ་རྒྱུས། : 0\n",
      "Successfully saved: tibetcm_ALL_link_ལོ་རྒྱུས།.json\n"
     ]
    },
    {
     "name": "stderr",
     "output_type": "stream",
     "text": [
      "100%|██████████| 1/1 [00:01<00:00,  1.80s/it]\n"
     ]
    },
    {
     "name": "stdout",
     "output_type": "stream",
     "text": [
      "Total page in གཏེར་མ།: 1\n",
      "Total error in Page གཏེར་མ། : 0\n",
      "Successfully saved: tibetcm_ALL_link_གཏེར་མ།.json\n"
     ]
    },
    {
     "name": "stderr",
     "output_type": "stream",
     "text": [
      "100%|██████████| 1/1 [00:00<00:00,  1.06it/s]\n"
     ]
    },
    {
     "name": "stdout",
     "output_type": "stream",
     "text": [
      "Total page in རྣམ་ཐར།: 1\n",
      "Total error in Page རྣམ་ཐར། : 0\n",
      "Successfully saved: tibetcm_ALL_link_རྣམ་ཐར།.json\n"
     ]
    },
    {
     "name": "stderr",
     "output_type": "stream",
     "text": [
      "100%|██████████| 1/1 [00:00<00:00,  1.09it/s]\n"
     ]
    },
    {
     "name": "stdout",
     "output_type": "stream",
     "text": [
      "Total page in འདོན་ཆོག: 1\n",
      "Total error in Page འདོན་ཆོག : 0\n",
      "Successfully saved: tibetcm_ALL_link_འདོན་ཆོག.json\n"
     ]
    },
    {
     "name": "stderr",
     "output_type": "stream",
     "text": [
      "100%|██████████| 1/1 [00:00<00:00,  1.11it/s]\n"
     ]
    },
    {
     "name": "stdout",
     "output_type": "stream",
     "text": [
      "Total page in རྟོགས་བརྗོད།: 1\n",
      "Total error in Page རྟོགས་བརྗོད། : 0\n",
      "Successfully saved: tibetcm_ALL_link_རྟོགས་བརྗོད།.json\n"
     ]
    },
    {
     "name": "stderr",
     "output_type": "stream",
     "text": [
      "100%|██████████| 1/1 [00:01<00:00,  1.19s/it]\n"
     ]
    },
    {
     "name": "stdout",
     "output_type": "stream",
     "text": [
      "Total page in བཅའ་ཡིག: 1\n",
      "Total error in Page བཅའ་ཡིག : 0\n",
      "Successfully saved: tibetcm_ALL_link_བཅའ་ཡིག.json\n"
     ]
    },
    {
     "name": "stderr",
     "output_type": "stream",
     "text": [
      "100%|██████████| 1/1 [00:00<00:00,  1.10it/s]\n"
     ]
    },
    {
     "name": "stdout",
     "output_type": "stream",
     "text": [
      "Total page in ཁྲིམས་སྲོལ།: 1\n",
      "Total error in Page ཁྲིམས་སྲོལ། : 0\n",
      "Successfully saved: tibetcm_ALL_link_ཁྲིམས་སྲོལ།.json\n"
     ]
    },
    {
     "name": "stderr",
     "output_type": "stream",
     "text": [
      "100%|██████████| 1/1 [00:00<00:00,  1.08it/s]\n"
     ]
    },
    {
     "name": "stdout",
     "output_type": "stream",
     "text": [
      "Total page in གཏམ་ཚོགས།: 1\n",
      "Total error in Page གཏམ་ཚོགས། : 0\n",
      "Successfully saved: tibetcm_ALL_link_གཏམ་ཚོགས།.json\n"
     ]
    },
    {
     "name": "stderr",
     "output_type": "stream",
     "text": [
      "100%|██████████| 1/1 [00:00<00:00,  1.13it/s]\n"
     ]
    },
    {
     "name": "stdout",
     "output_type": "stream",
     "text": [
      "Total page in གསོ་དཔྱད།: 1\n",
      "Total error in Page གསོ་དཔྱད། : 0\n",
      "Successfully saved: tibetcm_ALL_link_གསོ་དཔྱད།.json\n"
     ]
    },
    {
     "name": "stderr",
     "output_type": "stream",
     "text": [
      "100%|██████████| 1/1 [00:00<00:00,  1.15it/s]\n"
     ]
    },
    {
     "name": "stdout",
     "output_type": "stream",
     "text": [
      "Total page in རྒྱ་འགྱུར།: 1\n",
      "Total error in Page རྒྱ་འགྱུར། : 0\n",
      "Successfully saved: tibetcm_ALL_link_རྒྱ་འགྱུར།.json\n"
     ]
    },
    {
     "name": "stderr",
     "output_type": "stream",
     "text": [
      "100%|██████████| 1/1 [00:00<00:00,  1.15it/s]\n"
     ]
    },
    {
     "name": "stdout",
     "output_type": "stream",
     "text": [
      "Total page in སྤྲིངས་ཡིག: 1\n",
      "Total error in Page སྤྲིངས་ཡིག : 0\n",
      "Successfully saved: tibetcm_ALL_link_སྤྲིངས་ཡིག.json\n"
     ]
    },
    {
     "name": "stderr",
     "output_type": "stream",
     "text": [
      "100%|██████████| 1/1 [00:00<00:00,  1.14it/s]\n"
     ]
    },
    {
     "name": "stdout",
     "output_type": "stream",
     "text": [
      "Total page in ངག་རྩོམ།: 1\n",
      "Total error in Page ངག་རྩོམ། : 0\n",
      "Successfully saved: tibetcm_ALL_link_ངག་རྩོམ།.json\n"
     ]
    },
    {
     "name": "stderr",
     "output_type": "stream",
     "text": [
      "100%|██████████| 1/1 [00:01<00:00,  1.91s/it]\n"
     ]
    },
    {
     "name": "stdout",
     "output_type": "stream",
     "text": [
      "Total page in གླིང་སྒྲུང་།: 1\n",
      "Total error in Page གླིང་སྒྲུང་། : 0\n",
      "Successfully saved: tibetcm_ALL_link_གླིང་སྒྲུང་།.json\n"
     ]
    },
    {
     "name": "stderr",
     "output_type": "stream",
     "text": [
      "100%|██████████| 2/2 [00:01<00:00,  1.06it/s]\n"
     ]
    },
    {
     "name": "stdout",
     "output_type": "stream",
     "text": [
      "Total page in ལ་གཞས།: 2\n",
      "Total error in Page ལ་གཞས། : 0\n",
      "Successfully saved: tibetcm_ALL_link_ལ་གཞས།.json\n"
     ]
    },
    {
     "name": "stderr",
     "output_type": "stream",
     "text": [
      "100%|██████████| 1/1 [00:00<00:00,  1.08it/s]\n"
     ]
    },
    {
     "name": "stdout",
     "output_type": "stream",
     "text": [
      "Total page in དམངས་གཞས།: 1\n",
      "Total error in Page དམངས་གཞས། : 0\n",
      "Successfully saved: tibetcm_ALL_link_དམངས་གཞས།.json\n"
     ]
    },
    {
     "name": "stderr",
     "output_type": "stream",
     "text": [
      "100%|██████████| 1/1 [00:00<00:00,  1.08it/s]\n"
     ]
    },
    {
     "name": "stdout",
     "output_type": "stream",
     "text": [
      "Total page in བཤད་པ།: 1\n",
      "Total error in Page བཤད་པ། : 0\n",
      "Successfully saved: tibetcm_ALL_link_བཤད་པ།.json\n"
     ]
    },
    {
     "name": "stderr",
     "output_type": "stream",
     "text": [
      "100%|██████████| 1/1 [00:00<00:00,  1.04it/s]\n"
     ]
    },
    {
     "name": "stdout",
     "output_type": "stream",
     "text": [
      "Total page in གཏམ་རྒྱུད།: 1\n",
      "Total error in Page གཏམ་རྒྱུད། : 0\n",
      "Successfully saved: tibetcm_ALL_link_གཏམ་རྒྱུད།.json\n"
     ]
    },
    {
     "name": "stderr",
     "output_type": "stream",
     "text": [
      "100%|██████████| 1/1 [00:00<00:00,  1.00it/s]\n"
     ]
    },
    {
     "name": "stdout",
     "output_type": "stream",
     "text": [
      "Total page in རོགས་མཐུན།: 1\n",
      "Total error in Page རོགས་མཐུན། : 0\n",
      "Successfully saved: tibetcm_ALL_link_རོགས་མཐུན།.json\n"
     ]
    },
    {
     "name": "stderr",
     "output_type": "stream",
     "text": [
      "100%|██████████| 2/2 [00:01<00:00,  1.08it/s]\n"
     ]
    },
    {
     "name": "stdout",
     "output_type": "stream",
     "text": [
      "Total page in གཏམ་དཔེ།: 2\n",
      "Total error in Page གཏམ་དཔེ། : 0\n",
      "Successfully saved: tibetcm_ALL_link_གཏམ་དཔེ།.json\n"
     ]
    },
    {
     "name": "stderr",
     "output_type": "stream",
     "text": [
      "100%|██████████| 2/2 [00:01<00:00,  1.10it/s]\n"
     ]
    },
    {
     "name": "stdout",
     "output_type": "stream",
     "text": [
      "Total page in ཁ་མཚར།: 2\n",
      "Total error in Page ཁ་མཚར། : 0\n",
      "Successfully saved: tibetcm_ALL_link_ཁ་མཚར།.json\n"
     ]
    },
    {
     "name": "stderr",
     "output_type": "stream",
     "text": [
      "100%|██████████| 1/1 [00:00<00:00,  1.11it/s]\n"
     ]
    },
    {
     "name": "stdout",
     "output_type": "stream",
     "text": [
      "Total page in གབ་ཚིག: 1\n",
      "Total error in Page གབ་ཚིག : 0\n",
      "Successfully saved: tibetcm_ALL_link_གབ་ཚིག.json\n"
     ]
    },
    {
     "name": "stderr",
     "output_type": "stream",
     "text": [
      "100%|██████████| 1/1 [00:00<00:00,  1.05it/s]\n"
     ]
    },
    {
     "name": "stdout",
     "output_type": "stream",
     "text": [
      "Total page in འདོགས་ར།: 1\n",
      "Total error in Page འདོགས་ར། : 0\n",
      "Successfully saved: tibetcm_ALL_link_འདོགས་ར།.json\n"
     ]
    },
    {
     "name": "stderr",
     "output_type": "stream",
     "text": [
      "100%|██████████| 1/1 [00:01<00:00,  1.29s/it]\n"
     ]
    },
    {
     "name": "stdout",
     "output_type": "stream",
     "text": [
      "Total page in དེང་རྩོམ།: 1\n",
      "Total error in Page དེང་རྩོམ། : 0\n",
      "Successfully saved: tibetcm_ALL_link_དེང་རྩོམ།.json\n"
     ]
    },
    {
     "name": "stderr",
     "output_type": "stream",
     "text": [
      "100%|██████████| 18/18 [00:17<00:00,  1.04it/s]\n"
     ]
    },
    {
     "name": "stdout",
     "output_type": "stream",
     "text": [
      "Total page in བརྩམས་སྒྲུང་།: 18\n",
      "Total error in Page བརྩམས་སྒྲུང་། : 0\n",
      "Successfully saved: tibetcm_ALL_link_བརྩམས་སྒྲུང་།.json\n"
     ]
    },
    {
     "name": "stderr",
     "output_type": "stream",
     "text": [
      "100%|██████████| 6/6 [00:05<00:00,  1.09it/s]\n"
     ]
    },
    {
     "name": "stdout",
     "output_type": "stream",
     "text": [
      "Total page in རིག་གཞུང་།: 6\n",
      "Total error in Page རིག་གཞུང་། : 0\n",
      "Successfully saved: tibetcm_ALL_link_རིག་གཞུང་།.json\n"
     ]
    },
    {
     "name": "stderr",
     "output_type": "stream",
     "text": [
      "100%|██████████| 46/46 [00:44<00:00,  1.04it/s]\n"
     ]
    },
    {
     "name": "stdout",
     "output_type": "stream",
     "text": [
      "Total page in བཅད་རྩོམ།: 46\n",
      "Total error in Page བཅད་རྩོམ། : 0\n",
      "Successfully saved: tibetcm_ALL_link_བཅད་རྩོམ།.json\n"
     ]
    },
    {
     "name": "stderr",
     "output_type": "stream",
     "text": [
      "100%|██████████| 33/33 [00:33<00:00,  1.02s/it]\n"
     ]
    },
    {
     "name": "stdout",
     "output_type": "stream",
     "text": [
      "Total page in ལྷུག་རྩོམ།: 33\n",
      "Total error in Page ལྷུག་རྩོམ། : 0\n",
      "Successfully saved: tibetcm_ALL_link_ལྷུག་རྩོམ།.json\n"
     ]
    },
    {
     "name": "stderr",
     "output_type": "stream",
     "text": [
      "100%|██████████| 1/1 [00:01<00:00,  1.93s/it]\n"
     ]
    },
    {
     "name": "stdout",
     "output_type": "stream",
     "text": [
      "Total page in བཅར་འདྲི།: 1\n",
      "Total error in Page བཅར་འདྲི། : 0\n",
      "Successfully saved: tibetcm_ALL_link_བཅར་འདྲི།.json\n"
     ]
    },
    {
     "name": "stderr",
     "output_type": "stream",
     "text": [
      "100%|██████████| 16/16 [00:14<00:00,  1.10it/s]\n"
     ]
    },
    {
     "name": "stdout",
     "output_type": "stream",
     "text": [
      "Total page in གྲོལ་རྩོམ།: 16\n",
      "Total error in Page གྲོལ་རྩོམ། : 0\n",
      "Successfully saved: tibetcm_ALL_link_གྲོལ་རྩོམ།.json\n"
     ]
    },
    {
     "name": "stderr",
     "output_type": "stream",
     "text": [
      "100%|██████████| 6/6 [00:06<00:00,  1.08s/it]\n"
     ]
    },
    {
     "name": "stdout",
     "output_type": "stream",
     "text": [
      "Total page in ཤེས་བྱ།: 6\n",
      "Total error in Page ཤེས་བྱ། : 0\n",
      "Successfully saved: tibetcm_ALL_link_ཤེས་བྱ།.json\n"
     ]
    },
    {
     "name": "stderr",
     "output_type": "stream",
     "text": [
      "100%|██████████| 1/1 [00:00<00:00,  1.04it/s]\n"
     ]
    },
    {
     "name": "stdout",
     "output_type": "stream",
     "text": [
      "Total page in འཁྲབ་གཞུང་།: 1\n",
      "Total error in Page འཁྲབ་གཞུང་། : 0\n",
      "Successfully saved: tibetcm_ALL_link_འཁྲབ་གཞུང་།.json\n"
     ]
    },
    {
     "name": "stderr",
     "output_type": "stream",
     "text": [
      "100%|██████████| 14/14 [00:13<00:00,  1.07it/s]\n"
     ]
    },
    {
     "name": "stdout",
     "output_type": "stream",
     "text": [
      "Total page in འགྱུར་མ།: 14\n",
      "Total error in Page འགྱུར་མ། : 0\n",
      "Successfully saved: tibetcm_ALL_link_འགྱུར་མ།.json\n"
     ]
    },
    {
     "name": "stderr",
     "output_type": "stream",
     "text": [
      "100%|██████████| 1/1 [00:00<00:00,  1.05it/s]\n"
     ]
    },
    {
     "name": "stdout",
     "output_type": "stream",
     "text": [
      "Total page in ཁ་བརྡ།: 1\n",
      "Total error in Page ཁ་བརྡ། : 0\n",
      "Successfully saved: tibetcm_ALL_link_ཁ་བརྡ།.json\n"
     ]
    },
    {
     "name": "stderr",
     "output_type": "stream",
     "text": [
      "100%|██████████| 94/94 [01:34<00:00,  1.01s/it]\n"
     ]
    },
    {
     "name": "stdout",
     "output_type": "stream",
     "text": [
      "Total page in དྲ་རྩོམ།: 94\n",
      "Total error in Page དྲ་རྩོམ། : 0\n",
      "Successfully saved: tibetcm_ALL_link_དྲ་རྩོམ།.json\n"
     ]
    },
    {
     "name": "stderr",
     "output_type": "stream",
     "text": [
      "100%|██████████| 9/9 [00:08<00:00,  1.10it/s]\n"
     ]
    },
    {
     "name": "stdout",
     "output_type": "stream",
     "text": [
      "Total page in རྩོམ་དཔྱད།: 9\n",
      "Total error in Page རྩོམ་དཔྱད། : 0\n",
      "Successfully saved: tibetcm_ALL_link_རྩོམ་དཔྱད།.json\n"
     ]
    },
    {
     "name": "stderr",
     "output_type": "stream",
     "text": [
      "100%|██████████| 1/1 [00:00<00:00,  1.07it/s]\n"
     ]
    },
    {
     "name": "stdout",
     "output_type": "stream",
     "text": [
      "Total page in སྒྲ་བརྙན།: 1\n",
      "Total error in Page སྒྲ་བརྙན། : 0\n",
      "Successfully saved: tibetcm_ALL_link_སྒྲ་བརྙན།.json\n"
     ]
    },
    {
     "name": "stderr",
     "output_type": "stream",
     "text": [
      "100%|██████████| 1/1 [00:00<00:00,  1.17it/s]\n"
     ]
    },
    {
     "name": "stdout",
     "output_type": "stream",
     "text": [
      "Total page in གློག་བརྙན།: 1\n",
      "Total error in Page གློག་བརྙན། : 0\n",
      "Successfully saved: tibetcm_ALL_link_གློག་བརྙན།.json\n"
     ]
    },
    {
     "name": "stderr",
     "output_type": "stream",
     "text": [
      "100%|██████████| 1/1 [00:00<00:00,  1.13it/s]\n"
     ]
    },
    {
     "name": "stdout",
     "output_type": "stream",
     "text": [
      "Total page in བརྙན་ཐུང་།: 1\n",
      "Total error in Page བརྙན་ཐུང་། : 0\n",
      "Successfully saved: tibetcm_ALL_link_བརྙན་ཐུང་།.json\n"
     ]
    },
    {
     "name": "stderr",
     "output_type": "stream",
     "text": [
      "100%|██████████| 3/3 [00:02<00:00,  1.09it/s]\n"
     ]
    },
    {
     "name": "stdout",
     "output_type": "stream",
     "text": [
      "Total page in པར་ལེན།: 3\n",
      "Total error in Page པར་ལེན། : 0\n",
      "Successfully saved: tibetcm_ALL_link_པར་ལེན།.json\n"
     ]
    },
    {
     "name": "stderr",
     "output_type": "stream",
     "text": [
      "100%|██████████| 1/1 [00:00<00:00,  1.11it/s]\n"
     ]
    },
    {
     "name": "stdout",
     "output_type": "stream",
     "text": [
      "Total page in གླུ་གཞས།: 1\n",
      "Total error in Page གླུ་གཞས། : 0\n",
      "Successfully saved: tibetcm_ALL_link_གླུ་གཞས།.json\n"
     ]
    },
    {
     "name": "stderr",
     "output_type": "stream",
     "text": [
      "100%|██████████| 1/1 [00:00<00:00,  1.12it/s]\n"
     ]
    },
    {
     "name": "stdout",
     "output_type": "stream",
     "text": [
      "Total page in ཟློས་གར།: 1\n",
      "Total error in Page ཟློས་གར། : 0\n",
      "Successfully saved: tibetcm_ALL_link_ཟློས་གར།.json\n"
     ]
    },
    {
     "name": "stderr",
     "output_type": "stream",
     "text": [
      "100%|██████████| 1/1 [00:00<00:00,  1.09it/s]\n"
     ]
    },
    {
     "name": "stdout",
     "output_type": "stream",
     "text": [
      "Total page in རི་མོ།: 1\n",
      "Total error in Page རི་མོ། : 0\n",
      "Successfully saved: tibetcm_ALL_link_རི་མོ།.json\n"
     ]
    },
    {
     "name": "stderr",
     "output_type": "stream",
     "text": [
      "100%|██████████| 1/1 [00:00<00:00,  1.10it/s]\n"
     ]
    },
    {
     "name": "stdout",
     "output_type": "stream",
     "text": [
      "Total page in རྩེད་མོ།: 1\n",
      "Total error in Page རྩེད་མོ། : 0\n",
      "Successfully saved: tibetcm_ALL_link_རྩེད་མོ།.json\n"
     ]
    },
    {
     "name": "stderr",
     "output_type": "stream",
     "text": [
      "100%|██████████| 1/1 [00:00<00:00,  1.09it/s]\n"
     ]
    },
    {
     "name": "stdout",
     "output_type": "stream",
     "text": [
      "Total page in དཔེ་ཁྲིད།: 1\n",
      "Total error in Page དཔེ་ཁྲིད། : 0\n",
      "Successfully saved: tibetcm_ALL_link_དཔེ་ཁྲིད།.json\n"
     ]
    },
    {
     "name": "stderr",
     "output_type": "stream",
     "text": [
      "100%|██████████| 1/1 [00:00<00:00,  1.04it/s]\n"
     ]
    },
    {
     "name": "stdout",
     "output_type": "stream",
     "text": [
      "Total page in ཆེད་ཞུས།: 1\n",
      "Total error in Page ཆེད་ཞུས། : 0\n",
      "Successfully saved: tibetcm_ALL_link_ཆེད་ཞུས།.json\n"
     ]
    },
    {
     "name": "stderr",
     "output_type": "stream",
     "text": [
      "100%|██████████| 2/2 [00:01<00:00,  1.09it/s]\n"
     ]
    },
    {
     "name": "stdout",
     "output_type": "stream",
     "text": [
      "Total page in གཅན་མེ་སྟག: 2\n",
      "Total error in Page གཅན་མེ་སྟག : 0\n",
      "Successfully saved: tibetcm_ALL_link_གཅན་མེ་སྟག.json\n"
     ]
    },
    {
     "name": "stderr",
     "output_type": "stream",
     "text": [
      "100%|██████████| 2/2 [00:01<00:00,  1.02it/s]\n"
     ]
    },
    {
     "name": "stdout",
     "output_type": "stream",
     "text": [
      "Total page in སེང་རྡོར།: 2\n",
      "Total error in Page སེང་རྡོར། : 0\n",
      "Successfully saved: tibetcm_ALL_link_སེང་རྡོར།.json\n"
     ]
    },
    {
     "name": "stderr",
     "output_type": "stream",
     "text": [
      "100%|██████████| 3/3 [00:03<00:00,  1.06s/it]\n"
     ]
    },
    {
     "name": "stdout",
     "output_type": "stream",
     "text": [
      "Total page in རེ་རྐང་གླིང་།: 3\n",
      "Total error in Page རེ་རྐང་གླིང་། : 0\n",
      "Successfully saved: tibetcm_ALL_link_རེ་རྐང་གླིང་།.json\n"
     ]
    },
    {
     "name": "stderr",
     "output_type": "stream",
     "text": [
      "100%|██████████| 2/2 [00:01<00:00,  1.13it/s]\n"
     ]
    },
    {
     "name": "stdout",
     "output_type": "stream",
     "text": [
      "Total page in བྱམས་ཕྲུག: 2\n",
      "Total error in Page བྱམས་ཕྲུག : 0\n",
      "Successfully saved: tibetcm_ALL_link_བྱམས་ཕྲུག.json\n"
     ]
    },
    {
     "name": "stderr",
     "output_type": "stream",
     "text": [
      "100%|██████████| 6/6 [00:05<00:00,  1.13it/s]\n"
     ]
    },
    {
     "name": "stdout",
     "output_type": "stream",
     "text": [
      "Total page in བདེ་གྲོལ།: 6\n",
      "Page བདེ་གྲོལ། 3 'message'\n",
      "Total error in Page བདེ་གྲོལ། : 1\n",
      "Successfully saved: tibetcm_ALL_link_བདེ་གྲོལ།.json\n"
     ]
    },
    {
     "name": "stderr",
     "output_type": "stream",
     "text": [
      "100%|██████████| 1/1 [00:00<00:00,  1.12it/s]\n"
     ]
    },
    {
     "name": "stdout",
     "output_type": "stream",
     "text": [
      "Total page in མི་ལ་ཙི་ཙི།: 1\n",
      "Total error in Page མི་ལ་ཙི་ཙི། : 0\n",
      "Successfully saved: tibetcm_ALL_link_མི་ལ་ཙི་ཙི།.json\n"
     ]
    },
    {
     "name": "stderr",
     "output_type": "stream",
     "text": [
      "100%|██████████| 8/8 [00:07<00:00,  1.04it/s]\n"
     ]
    },
    {
     "name": "stdout",
     "output_type": "stream",
     "text": [
      "Total page in ཆེད་སྒྲིག: 8\n",
      "Total error in Page ཆེད་སྒྲིག : 0\n",
      "Successfully saved: tibetcm_ALL_link_ཆེད་སྒྲིག.json\n"
     ]
    },
    {
     "name": "stderr",
     "output_type": "stream",
     "text": [
      "100%|██████████| 1/1 [00:00<00:00,  1.13it/s]\n"
     ]
    },
    {
     "name": "stdout",
     "output_type": "stream",
     "text": [
      "Total page in ཕབ་ལེན།: 1\n",
      "Total error in Page ཕབ་ལེན། : 0\n",
      "Successfully saved: tibetcm_ALL_link_ཕབ་ལེན།.json\n"
     ]
    },
    {
     "name": "stderr",
     "output_type": "stream",
     "text": [
      "100%|██████████| 1/1 [00:00<00:00,  1.11it/s]\n"
     ]
    },
    {
     "name": "stdout",
     "output_type": "stream",
     "text": [
      "Total page in མཉེན་ཆས།: 1\n",
      "Total error in Page མཉེན་ཆས། : 0\n",
      "Successfully saved: tibetcm_ALL_link_མཉེན་ཆས།.json\n"
     ]
    },
    {
     "name": "stderr",
     "output_type": "stream",
     "text": [
      "100%|██████████| 1/1 [00:00<00:00,  1.16it/s]\n"
     ]
    },
    {
     "name": "stdout",
     "output_type": "stream",
     "text": [
      "Total page in གློག་དེབ།: 1\n",
      "Total error in Page གློག་དེབ། : 0\n",
      "Successfully saved: tibetcm_ALL_link_གློག་དེབ།.json\n"
     ]
    },
    {
     "name": "stderr",
     "output_type": "stream",
     "text": [
      "100%|██████████| 1/1 [00:00<00:00,  1.11it/s]\n"
     ]
    },
    {
     "name": "stdout",
     "output_type": "stream",
     "text": [
      "Total page in གཞན་དག: 1\n",
      "Total error in Page གཞན་དག : 0\n",
      "Successfully saved: tibetcm_ALL_link_གཞན་དག.json\n"
     ]
    },
    {
     "name": "stderr",
     "output_type": "stream",
     "text": [
      "100%|██████████| 1/1 [00:00<00:00,  1.16it/s]\n"
     ]
    },
    {
     "name": "stdout",
     "output_type": "stream",
     "text": [
      "Total page in ཡིག་ཚགས།: 1\n",
      "Total error in Page ཡིག་ཚགས། : 0\n",
      "Successfully saved: tibetcm_ALL_link_ཡིག་ཚགས།.json\n"
     ]
    },
    {
     "name": "stderr",
     "output_type": "stream",
     "text": [
      "100%|██████████| 3/3 [00:02<00:00,  1.14it/s]\n"
     ]
    },
    {
     "name": "stdout",
     "output_type": "stream",
     "text": [
      "Total page in མི་རབས་གསུམ་པ།: 3\n",
      "Total error in Page མི་རབས་གསུམ་པ། : 0\n",
      "Successfully saved: tibetcm_ALL_link_མི་རབས་གསུམ་པ།.json\n"
     ]
    },
    {
     "name": "stderr",
     "output_type": "stream",
     "text": [
      "100%|██████████| 1/1 [00:00<00:00,  1.11it/s]\n"
     ]
    },
    {
     "name": "stdout",
     "output_type": "stream",
     "text": [
      "Total page in མི་རབས་བཞི་བ།: 1\n",
      "Total error in Page མི་རབས་བཞི་བ། : 0\n",
      "Successfully saved: tibetcm_ALL_link_མི་རབས་བཞི་བ།.json\n"
     ]
    },
    {
     "name": "stderr",
     "output_type": "stream",
     "text": [
      "100%|██████████| 1/1 [00:00<00:00,  1.10it/s]"
     ]
    },
    {
     "name": "stdout",
     "output_type": "stream",
     "text": [
      "Total page in ཚོང་བརྡ།: 1\n",
      "Total error in Page ཚོང་བརྡ། : 0\n",
      "Successfully saved: tibetcm_ALL_link_ཚོང་བརྡ།.json\n"
     ]
    },
    {
     "name": "stderr",
     "output_type": "stream",
     "text": [
      "\n"
     ]
    }
   ],
   "source": [
    "for index, row in sample_df.iterrows():\n",
    "    # print(row)\n",
    "    name_of_cate = row[\"name_of_cate\"]\n",
    "    original_url = row[\"original_url\"]\n",
    "    Last_page_link = row[\"Last_page_link\"]\n",
    "    list_page_no = row[\"list_page_no\"]\n",
    "\n",
    "    total_page = list_page_no\n",
    "    custom_url= original_url + \"index\"\n",
    "    base_url = \"https://www.tibetcm.com\"\n",
    "    article_tag = name_of_cate\n",
    "    key_code = \"Page \" + article_tag + \" \"\n",
    "    all_links = loop_article_page(total_page, custom_url, key_code, base_url)\n",
    "    \n",
    "    print(f\"Total page in {article_tag}: {len(all_links['Data'])}\")\n",
    "    check_error_in_links(all_links['Data'], key_code, print_each_error=True)\n",
    "\n",
    "    # Saving the final file\n",
    "    path = \"./data/links/\"\n",
    "    file_name = f\"tibetcm_ALL_link_{article_tag}.json\"\n",
    "    save_json(path, file_name, all_links['Data'])\n",
    "    "
   ]
  },
  {
   "cell_type": "code",
   "execution_count": null,
   "id": "9f5b009e-18db-4c0c-a6e8-85796931a527",
   "metadata": {},
   "outputs": [],
   "source": []
  },
  {
   "cell_type": "code",
   "execution_count": null,
   "id": "07dbafae-8dae-43e7-909f-2eb631654e88",
   "metadata": {},
   "outputs": [],
   "source": []
  }
 ],
 "metadata": {
  "kernelspec": {
   "display_name": "Python 3 (ipykernel)",
   "language": "python",
   "name": "python3"
  },
  "language_info": {
   "codemirror_mode": {
    "name": "ipython",
    "version": 3
   },
   "file_extension": ".py",
   "mimetype": "text/x-python",
   "name": "python",
   "nbconvert_exporter": "python",
   "pygments_lexer": "ipython3",
   "version": "3.10.13"
  }
 },
 "nbformat": 4,
 "nbformat_minor": 5
}
