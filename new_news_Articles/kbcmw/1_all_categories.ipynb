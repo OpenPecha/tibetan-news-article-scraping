{
 "cells": [
  {
   "cell_type": "code",
   "execution_count": 25,
   "id": "46ee2202-8595-4f7f-89e5-597fb6b904fa",
   "metadata": {},
   "outputs": [],
   "source": [
    "from bs4 import BeautifulSoup\n",
    "import requests\n",
    "import re\n"
   ]
  },
  {
   "cell_type": "code",
   "execution_count": null,
   "id": "6a6b471d-42a7-4378-af4d-26869217a131",
   "metadata": {},
   "outputs": [],
   "source": []
  },
  {
   "cell_type": "code",
   "execution_count": null,
   "id": "cf968133-6194-462d-bd79-9710161b155a",
   "metadata": {},
   "outputs": [],
   "source": []
  },
  {
   "cell_type": "code",
   "execution_count": null,
   "id": "3da69bb7-424d-4e40-9954-871586a4b14b",
   "metadata": {},
   "outputs": [],
   "source": []
  },
  {
   "cell_type": "code",
   "execution_count": null,
   "id": "8c090bda-b700-415b-b7a4-c049c1e9c833",
   "metadata": {},
   "outputs": [],
   "source": []
  },
  {
   "cell_type": "code",
   "execution_count": null,
   "id": "5213562b-18cd-46a1-81f4-522acfb68484",
   "metadata": {},
   "outputs": [],
   "source": []
  },
  {
   "cell_type": "code",
   "execution_count": null,
   "id": "457ad338-815d-420e-ae38-2269298a0040",
   "metadata": {},
   "outputs": [],
   "source": []
  },
  {
   "cell_type": "code",
   "execution_count": 26,
   "id": "f3dc8abc-2068-4a13-8655-7c50f29c1df1",
   "metadata": {},
   "outputs": [],
   "source": [
    "url = \"http://ti.kbcmw.com\"\n",
    "headers = {\n",
    "        'User-Agent': 'Mozilla/5.0 (Windows NT 10.0; Win64; x64) AppleWebKit/537.36 (KHTML, like Gecko) Chrome/91.0.4472.124 Safari/537.36'\n",
    "    }\n",
    "response = requests.get(url, headers=headers)\n",
    "response.raise_for_status()\n",
    "\n",
    "# Parse the page content with BeautifulSoup\n",
    "soup = BeautifulSoup(response.content, 'html.parser')\n",
    "\n",
    "categ_center = soup.find(\"ul\", class_=\"cents\")\n",
    "# Find all 'a' tags\n",
    "links = categ_center.find_all('a')\n",
    "all_categories = []\n",
    "# Extract and print the href attribute from each link\n",
    "for link in links:\n",
    "    href = link.get('href')\n",
    "    if href:\n",
    "        href = url + href\n",
    "        text = link.get_text()\n",
    "        all_categories.append((text, href))\n",
    "        # print(href)"
   ]
  },
  {
   "cell_type": "code",
   "execution_count": null,
   "id": "12117b0d-2c09-4d03-adba-80cf1ea7de93",
   "metadata": {},
   "outputs": [],
   "source": []
  },
  {
   "cell_type": "code",
   "execution_count": 27,
   "id": "0c731687-54b2-4d27-9b22-156b284fbf10",
   "metadata": {},
   "outputs": [
    {
     "data": {
      "text/plain": [
       "[('མདུན་ཤོག', 'http://ti.kbcmw.com/'),\n",
       " ('གསར་འགྱུར།', 'http://ti.kbcmw.com/html/news/'),\n",
       " ('ཁམས་ཁུལ།', 'http://ti.kbcmw.com/html/kangba/'),\n",
       " ('རྩོམ་རིག', 'http://ti.kbcmw.com/html/WenXue/'),\n",
       " ('ལོ་རྒྱུས།', 'http://ti.kbcmw.com/html/lishi/'),\n",
       " ('གླིང་སྒྲུང་།', 'http://ti.kbcmw.com/html/Gesaer/'),\n",
       " ('གསོ་རིག', 'http://ti.kbcmw.com/html/YiYao/'),\n",
       " ('མི་སྣ།', 'http://ti.kbcmw.com/html/RenWu/'),\n",
       " ('སློབ་གསོ།', 'http://ti.kbcmw.com/html/jiaoyu/'),\n",
       " ('གནས་སྐོར།', 'http://ti.kbcmw.com/html/lvyou/'),\n",
       " ('ཆོས་ལུགས།', 'http://ti.kbcmw.com/html/zongjiao/'),\n",
       " ('ཡིག་བསྒྱུར།', 'http://ti.kbcmw.com/html/FanYi/'),\n",
       " ('བྲིས་གཟུགས།', 'http://ti.kbcmw.com/html/ZangWenShuFa/'),\n",
       " ('ཁོར་ཡུག', 'http://ti.kbcmw.com/html/huanbao/'),\n",
       " ('གླུ་གར།', 'http://ti.kbcmw.com/html/gw/'),\n",
       " ('པར་མཛོད།', 'http://ti.kbcmw.com/html/tuku/'),\n",
       " ('སྲིད་ཁྲིམས།', 'http://ti.kbcmw.com/html/zcfg/'),\n",
       " ('བོད་ཀྱི་བཟའ་བཏུང་།', 'http://ti.kbcmw.com/html/ys/'),\n",
       " ('མིང་མཛོད།', 'http://ti.kbcmw.com/html/cd/'),\n",
       " ('རོལ་མོ།', 'http://ti.kbcmw.com/html/yy/'),\n",
       " ('འཚོ་བའི་ཤེས་བྱ།', 'http://ti.kbcmw.com/html/shcs/')]"
      ]
     },
     "execution_count": 27,
     "metadata": {},
     "output_type": "execute_result"
    }
   ],
   "source": [
    "all_categories"
   ]
  },
  {
   "cell_type": "code",
   "execution_count": 28,
   "id": "e68c29a1-3f1c-40af-b025-3bbeec98745b",
   "metadata": {},
   "outputs": [],
   "source": [
    "def get_content(url):\n",
    "    \"\"\"\n",
    "    \n",
    "    \"\"\"\n",
    "    base_url = \"http://ti.kbcmw.com\"\n",
    "\n",
    "    headers = {\n",
    "        'User-Agent': 'Mozilla/5.0 (Windows NT 10.0; Win64; x64) AppleWebKit/537.36 (KHTML, like Gecko) Chrome/91.0.4472.124 Safari/537.36'\n",
    "    }\n",
    "    try:\n",
    "        # Make the request to the URL\n",
    "        response = requests.get(url, headers=headers)\n",
    "        response.raise_for_status()\n",
    "        \n",
    "        # Parse the page content with BeautifulSoup\n",
    "        soup = BeautifulSoup(response.content, 'html.parser')\n",
    "        each_sub_cata = soup.find(\"div\", id=\"xdh\")\n",
    "        all_new_link_text = []\n",
    "        if each_sub_cata:\n",
    "            all_links = each_sub_cata.find_all(\"a\")\n",
    "            if all_links:\n",
    "                for each_link in all_links:\n",
    "                    link = each_link.get('href')\n",
    "                    href = base_url + link\n",
    "                    text = each_link.get_text()\n",
    "                    all_new_link_text.append([text, href])\n",
    "\n",
    "                return all_new_link_text\n",
    "            return None\n",
    "        else:\n",
    "            return None\n",
    "    except Exception as e:\n",
    "        print(e)\n",
    "\n"
   ]
  },
  {
   "cell_type": "code",
   "execution_count": null,
   "id": "1e6e76f4-0d32-4c69-9b38-4e2c092855b9",
   "metadata": {},
   "outputs": [],
   "source": []
  },
  {
   "cell_type": "markdown",
   "id": "87a07a09-7113-480a-9796-ae6e2edbd0c4",
   "metadata": {},
   "source": [
    "## extract sub categories"
   ]
  },
  {
   "cell_type": "code",
   "execution_count": 31,
   "id": "b068eaa0-b71f-476c-98e2-623ddbd94a29",
   "metadata": {},
   "outputs": [
    {
     "name": "stdout",
     "output_type": "stream",
     "text": [
      "('གསར་འགྱུར།', 'http://ti.kbcmw.com/html/news/')\n",
      "[['ཁམས་ཁུལ་གསར་འགྱུར།', 'http://ti.kbcmw.com/html/news/kbnews/'], ['རྒྱལ་ནང་གསར་འགྱུར།', 'http://ti.kbcmw.com/html/news/china/'], ['རྒྱལ་སྤྱི་གསར་འགྱུར།', 'http://ti.kbcmw.com/html/news/gj/'], ['ཆེད་བསྒྲིགས་གསར་འགྱུར།', 'http://ti.kbcmw.com/html/news/zt/']]\n",
      "('ཁམས་ཁུལ།', 'http://ti.kbcmw.com/html/kangba/')\n",
      "[['ཁམས་ཀྱི་ཁྱབ་ཁོངས།', 'http://ti.kbcmw.com/html/kangba/gaikuang/'], ['རི་ཆུ།', 'http://ti.kbcmw.com/html/kangba/shanshui/'], ['གནའ་ཤུལ།', 'http://ti.kbcmw.com/html/kangba/lishi/'], ['ཁམས་ཀྱི་ཡུལ་སྲོལ།', 'http://ti.kbcmw.com/html/kangba/xishu/'], ['རྒྱན་གོས།', 'http://ti.kbcmw.com/html/kangba/fushi/'], ['རིག་རྩལ།', 'http://ti.kbcmw.com/html/kangba/wenyi/'], ['ཁམས་ཀྱི་འཛུགས་སྐྲུན །', 'http://ti.kbcmw.com/html/kangba/jianzu/'], ['ཁམས་ཀྱི་མི་སྣ།', 'http://ti.kbcmw.com/html/kangba/renwen/']]\n",
      "('རྩོམ་རིག', 'http://ti.kbcmw.com/html/WenXue/')\n",
      "[['སྒྲུང་རྩོམ།', 'http://ti.kbcmw.com/html/WenXue/XiaoShuo/'], ['ལྷུག་རྩོམ', 'http://ti.kbcmw.com/html/WenXue/SanWen/'], ['སྙན་རྩོམ།', 'http://ti.kbcmw.com/html/WenXue/ShiGe/'], ['སྙན་ཞུ་རྩོམ་རིག།', 'http://ti.kbcmw.com/html/WenXue/BaoGaoWenXue/'], ['ཕུལ་བྱུང་འགྱུར་རྩོམ།', 'http://ti.kbcmw.com/html/WenXue/WenXuePinLun/'], ['དམངས་ཁྲོད་རྩོམ་རིག', 'http://ti.kbcmw.com/html/WenXue/MinJianWenXue/'], ['རིག་རྩལ་དཔྱད་རྩོམ།', 'http://ti.kbcmw.com/html/WenXue/FanYiJiaZuo/'], ['སློབ་མའི་སྦྱངས་རྩོམ།', 'http://ti.kbcmw.com/html/WenXue/xueshengxizuo/'], ['ཁ་མཚར།', 'http://ti.kbcmw.com/html/WenXue/youmoxiaohua/']]\n",
      "('ལོ་རྒྱུས།', 'http://ti.kbcmw.com/html/lishi/')\n",
      "[['བསྐལ་པ་ཡ་ཐོག', 'http://ti.kbcmw.com/html/lishi/YuanGu/'], ['མངའ་མཛད་དུས་རབས།', 'http://ti.kbcmw.com/html/lishi/ShiQi/'], ['སྤུ་རྒྱལ་དུས་རབས།', 'http://ti.kbcmw.com/html/lishi/BenJiaoYuanLiu/'], ['ཆོས་ལྡན་རྒྱལ་རབས།', 'http://ti.kbcmw.com/html/lishi/FoJiaoYuanLiu/'], ['བོད་སིལ་བུའི་དུས།', 'http://ti.kbcmw.com/html/lishi/KangZangLiShi/'], ['ས་སྐྱའི་དུས།', 'http://ti.kbcmw.com/html/lishi/SaJia/'], ['ཕག་གྲུའི་དུས།', 'http://ti.kbcmw.com/html/lishi/PaZhu/'], ['གཙང་པའི་དུས།', 'http://ti.kbcmw.com/html/lishi/ZangBa/'], ['དགའ་ལྡན་དུས།', 'http://ti.kbcmw.com/html/lishi/GaDan/'], ['ཀྲུང་ཧྭའི་དུས།', 'http://ti.kbcmw.com/html/lishi/ZhongHua/'], ['ལོ་རྒྱུས་དཔྱད་རྩོམ།', 'http://ti.kbcmw.com/html/lishi/ShiLun/']]\n",
      "('གླིང་སྒྲུང་།', 'http://ti.kbcmw.com/html/Gesaer/')\n",
      "[['གེ་སར་འཁྲུངས་ཡུལ།', 'http://ti.kbcmw.com/html/Gesaer/DanShengDi/'], ['གླིང་སྒྲུང་མི་སྣ།', 'http://ti.kbcmw.com/html/Gesaer/renwu/'], ['གེ་སར་གནའ་ཤུལ།', 'http://ti.kbcmw.com/html/Gesaer/YiZhi/'], ['གེ་སར་ཞིབ་འཇུག', 'http://ti.kbcmw.com/html/Gesaer/XueShuYanJiu/'], ['སྒྲུང་ཡིག', 'http://ti.kbcmw.com/html/Gesaer/ChangBen/'], ['སྒྲུང་མཁན།', 'http://ti.kbcmw.com/html/Gesaer/YiRen/'], ['གེ་སར་ཞལ་ཐང་།', 'http://ti.kbcmw.com/html/Gesaer/QianFuTangKa/']]\n",
      "('གསོ་རིག', 'http://ti.kbcmw.com/html/YiYao/')\n",
      "[['གསོ་རིག་ལོ་རྒྱུས།', 'http://ti.kbcmw.com/html/YiYao/ZangYiYaoLiShi/'], ['ཟུར་ལུགས་བོད་སྨན།', 'http://ti.kbcmw.com/html/YiYao/NanPai/'], ['གསོ་རིག་མཁས་དབང་།', 'http://ti.kbcmw.com/html/YiYao/MingYi/'], ['གསོ་རིག་དཔྱད་རྩོམ།', 'http://ti.kbcmw.com/html/YiYao/YanJiu/'], ['རྒྱུུན་མཁོའི་བོད་སྨན།', 'http://ti.kbcmw.com/html/YiYao/CangYongZangYao/'], ['སྨན་ཁང་ངོ་སྤྲོད།', 'http://ti.kbcmw.com/html/YiYao/YiYuan/'], ['འཕྲོད་བསྟེན་རྒྱུན་ཤེས།', 'http://ti.kbcmw.com/html/YiYao/WeiSheng/']]\n",
      "('མི་སྣ།', 'http://ti.kbcmw.com/html/RenWu/')\n",
      "[['ལོ་རྒྱུས་མི་སྣ།', 'http://ti.kbcmw.com/html/RenWu/LiShiRenWu/'], ['དེང་རབས་མི་སྣ།', 'http://ti.kbcmw.com/html/RenWu/XianDai/'], ['གསར་འགྱུར་མི་སྣ།', 'http://ti.kbcmw.com/html/RenWu/XinWen/'], ['ཚན་རིག་པ་གྲགས་ཅན།', 'http://ti.kbcmw.com/html/RenWu/ChuanQi/'], ['ཚོང་དཔོན་གྲགས་ཅན།', 'http://ti.kbcmw.com/html/RenWu/ShangJia/']]\n",
      "('སློབ་གསོ།', 'http://ti.kbcmw.com/html/jiaoyu/')\n",
      "('གནས་སྐོར།', 'http://ti.kbcmw.com/html/lvyou/')\n",
      "[['བོད་ཀྱི་གནས་རི།', 'http://ti.kbcmw.com/html/lvyou/ShengShanShengShui/'], ['བོད་ཀྱི་གཙང་པོ།', 'http://ti.kbcmw.com/html/lvyou/MinShanDaChuan/'], ['བོད་ཀྱི་མཚོ་དང་མཚེའུ།', 'http://ti.kbcmw.com/html/lvyou/DaJiangDaHe/'], ['བོད་ཀྱི་གནའ་ཤུལ།', 'http://ti.kbcmw.com/html/lvyou/MinShengGuJi/'], ['གནས་སྐོར་ཟིན་བྲིས།', 'http://ti.kbcmw.com/html/lvyou/LvYouBlog/']]\n",
      "('ཆོས་ལུགས།', 'http://ti.kbcmw.com/html/zongjiao/')\n",
      "[['ནང་བསྟན་སྤྱི་བཤད།', 'http://ti.kbcmw.com/html/zongjiao/ZangChuanFoJiao/'], ['གཡུང་དྲུང་བོན་བསྟན།', 'http://ti.kbcmw.com/html/zongjiao/YongZongBenJiao/'], ['དགོན་སྡེའི་ངོ་སྤྲོད།', 'http://ti.kbcmw.com/html/zongjiao/SiMiaoJieShao/'], ['ཆོས་ལུགས་དུས་ཆེན།', 'http://ti.kbcmw.com/html/zongjiao/ZongJiaoJieRi/'], ['གསུང་རབ།', 'http://ti.kbcmw.com/html/zongjiao/FoJiaoJingDian/'], ['ཆོས་ལུགས་ཞིབ་འཇུག', 'http://ti.kbcmw.com/html/zongjiao/ZongJiaoYanJiu/'], ['ཆོས་ལུགས་གཞན་དག', 'http://ti.kbcmw.com/html/zongjiao/QiTa/']]\n",
      "('ཡིག་བསྒྱུར།', 'http://ti.kbcmw.com/html/FanYi/')\n",
      "[['གནའ་རབས་ཀྱི་ལོ་ཙྰ་བ།', 'http://ti.kbcmw.com/html/FanYi/FanYiDaShi/'], ['བརྡ་ཆད་གསར་པ།', 'http://ti.kbcmw.com/html/FanYi/XinShuYu/'], ['ཕུལ་བྱུང་འགྱུར་བརྩམས།', 'http://ti.kbcmw.com/html/FanYi/YouXiuYiWen/'], ['ཡིག་བསྒྱུར་དཔྱད་རྩོམ།', 'http://ti.kbcmw.com/html/FanYi/JiaZuoCangShi/']]\n",
      "('བྲིས་གཟུགས།', 'http://ti.kbcmw.com/html/ZangWenShuFa/')\n",
      "[['ཡིག་གཟུགས་ཀྱི་ལོ་རྒྱུས།', 'http://ti.kbcmw.com/html/ZangWenShuFa/LiShiYanBian/'], ['བྲིས་རྒྱུན་སྣ་ཚོགས།', 'http://ti.kbcmw.com/html/ZangWenShuFa/LiuPaiJieShao/'], ['བྲིས་རྒྱུན་དར་ཚུལ།', 'http://ti.kbcmw.com/html/ZangWenShuFa/FaZhanZhuangKuang/'], ['ཡིག་གཟུགས་རོལ་མྱོང་།', 'http://ti.kbcmw.com/html/ZangWenShuFa/JiaZuo/'], ['སྣག་ཚ་བཟོ་སྟངས།', 'http://ti.kbcmw.com/html/ZangWenShuFa/BiMo/'], ['སྨྱུ་གུ་གཞོག་སྟངས།', 'http://ti.kbcmw.com/html/ZangWenShuFa/ZhuBi/'], ['བྲིས་པ།', 'http://ti.kbcmw.com/html/ZangWenShuFa/shufajia/']]\n",
      "('ཁོར་ཡུག', 'http://ti.kbcmw.com/html/huanbao/')\n",
      "[['ཁོར་ཡུག་སྲུང་སྐྱོང་།', 'http://ti.kbcmw.com/html/huanbao/YiShi/'], ['སྲུང་སྐྱོང་རྒྱུན་ཤེས།', 'http://ti.kbcmw.com/html/huanbao/ChangShi/'], ['རྩི་ཤིང་དང་སྲོག་ཆགས།', 'http://ti.kbcmw.com/html/huanbao/ShuMuYuDongWu/'], ['སྲུང་སྐྱོང་ས་ཁུལ།', 'http://ti.kbcmw.com/html/huanbao/HuanBaoQuYu/'], ['སྲིད་ཇུས་ཁྲིམས་སྲོལ།', 'http://ti.kbcmw.com/html/huanbao/FaGui/']]\n",
      "('གླུ་གར།', 'http://ti.kbcmw.com/html/gw/')\n",
      "[['དམངས་གླུ།', 'http://ti.kbcmw.com/html/gw/mg/'], ['མགུར་གླུ།', 'http://ti.kbcmw.com/html/gw/dg/'], ['ལ་གཞས།', 'http://ti.kbcmw.com/html/gw/sg/'], ['འཆམ།', 'http://ti.kbcmw.com/html/gw/qg/'], ['ཟློས་གར།', 'http://ti.kbcmw.com/html/gw/ts/'], ['རས་པ།', 'http://ti.kbcmw.com/html/gw/rb/'], ['གླུ་བ་དང་གླུ་མ་གྲགས་ཅན།', 'http://ti.kbcmw.com/html/gw/MJGSJS/'], ['གར་མཁན་གྲགས་ཅན།', 'http://ti.kbcmw.com/html/gw/MJWDYYJS/'], ['བྲོ་གཞས།', 'http://ti.kbcmw.com/html/gw/xz/']]\n",
      "('པར་མཛོད།', 'http://ti.kbcmw.com/html/tuku/')\n",
      "[['བཀྲ་ཤིས་པའི་རི་མོ།', 'http://ti.kbcmw.com/html/tuku/jxta/'], ['མི་སྣ།', 'http://ti.kbcmw.com/html/tuku/RWHC/'], ['ཆོས་ཆས།', 'http://ti.kbcmw.com/html/tuku/ZJWQ/'], ['རང་བྱུང་ཡུལ་ལྗོངས།', 'http://ti.kbcmw.com/html/tuku/ZRFG/'], ['བཟོ་བཀོད།', 'http://ti.kbcmw.com/html/tuku/jz/'], ['སྲོག་ཆགས།', 'http://ti.kbcmw.com/html/tuku/dw/'], ['སྐྱེ་དངོས།', 'http://ti.kbcmw.com/html/tuku/sw/'], ['གོས་རྒྱན།', 'http://ti.kbcmw.com/html/tuku/fs/'], ['ཐོན་སྐྱེད་ཡོ་བྱད།', 'http://ti.kbcmw.com/html/tuku/scgj/'], ['ཡུལ་སྲོལ་གོམས་གཤིས།', 'http://ti.kbcmw.com/html/tuku/ftrq/']]\n",
      "('སྲིད་ཁྲིམས།', 'http://ti.kbcmw.com/html/zcfg/')\n",
      "[['རྒྱལ་ཁབ་བཅའ་ཁྲིམས།', 'http://ti.kbcmw.com/html/zcfg/djfl/'], ['བོད་སྲོལ་གནའ་ཁྲིམས', 'http://ti.kbcmw.com/html/zcfg/zcfg/'], ['སྲིད་ཇུས་འགྲེལ་བཤད།', 'http://ti.kbcmw.com/html/zcfg/jszc/']]\n",
      "('བོད་ཀྱི་བཟའ་བཏུང་།', 'http://ti.kbcmw.com/html/ys/')\n",
      "('མིང་མཛོད།', 'http://ti.kbcmw.com/html/cd/')\n",
      "('རོལ་མོ།', 'http://ti.kbcmw.com/html/yy/')\n",
      "[['དེང་རབས་གླུ་དབྱངས།', 'http://ti.kbcmw.com/html/yy/xdyy/'], ['གསར་བྱུང་འོད་སྡེར།', 'http://ti.kbcmw.com/html/yy/zxgd/'], ['རོལ་ཆས་ངོ་སྤྲོད།', 'http://ti.kbcmw.com/html/yy/yqjs/'], ['གླུ་བ་གླུ་མ།', 'http://ti.kbcmw.com/html/yy/gsjs/'], ['རོལ་མོའི་གླེང་སྟེགས།', 'http://ti.kbcmw.com/html/yy/zylt/']]\n",
      "('འཚོ་བའི་ཤེས་བྱ།', 'http://ti.kbcmw.com/html/shcs/')\n"
     ]
    }
   ],
   "source": [
    "final_link = []\n",
    "i = 0\n",
    "new_categories = []\n",
    "for each_link in all_categories[1:]:\n",
    "    print(each_link)\n",
    "    link = each_link[1]\n",
    "    other_content = get_content(link)\n",
    "    if other_content:\n",
    "        print(other_content)\n",
    "        new_categories.extend(other_content)\n",
    "    else:\n",
    "        new_categories.append(each_link)\n",
    "        \n"
   ]
  },
  {
   "cell_type": "code",
   "execution_count": null,
   "id": "1879b76e-568c-4cee-8b18-b3661268882e",
   "metadata": {},
   "outputs": [],
   "source": []
  },
  {
   "cell_type": "code",
   "execution_count": 41,
   "id": "af1b54d4-b489-4ea6-9326-65fdeef26613",
   "metadata": {},
   "outputs": [
    {
     "data": {
      "text/plain": [
       "110"
      ]
     },
     "execution_count": 41,
     "metadata": {},
     "output_type": "execute_result"
    }
   ],
   "source": [
    "len(new_categories)"
   ]
  },
  {
   "cell_type": "code",
   "execution_count": null,
   "id": "8a0f12c6-5862-433e-851e-d1ad1151762e",
   "metadata": {},
   "outputs": [],
   "source": []
  },
  {
   "cell_type": "code",
   "execution_count": null,
   "id": "8c6f770b-8319-4eea-bb55-5eebb99ba945",
   "metadata": {},
   "outputs": [],
   "source": []
  },
  {
   "cell_type": "markdown",
   "id": "748060f9-8f9d-4c1d-97a1-b6b66cf79fe5",
   "metadata": {},
   "source": [
    "## Extarct each categories page number"
   ]
  },
  {
   "cell_type": "code",
   "execution_count": 53,
   "id": "bdf84d27-ff81-48dc-aaed-fc7e255fc468",
   "metadata": {},
   "outputs": [],
   "source": [
    "def get_page_no(url):\n",
    "    \"\"\"\n",
    "    \n",
    "    \"\"\"\n",
    "\n",
    "    headers = {\n",
    "        'User-Agent': 'Mozilla/5.0 (Windows NT 10.0; Win64; x64) AppleWebKit/537.36 (KHTML, like Gecko) Chrome/91.0.4472.124 Safari/537.36'\n",
    "    }\n",
    "    try:\n",
    "        # Make the request to the URL\n",
    "        response = requests.get(url, headers=headers)\n",
    "        response.raise_for_status()\n",
    "        \n",
    "        # Parse the page content with BeautifulSoup\n",
    "        soup = BeautifulSoup(response.content, 'html.parser')\n",
    "        page_block = soup.find(\"td\", id=\"pagelist\")\n",
    "        if page_block:\n",
    "            all_page_link = page_block.find_all(\"a\", class_=\"num\")\n",
    "            if all_page_link:\n",
    "                link = all_page_link[0].get('href')\n",
    "                if link:\n",
    "                    match = re.search(r'index_(\\d+)\\.html', link)\n",
    "                    return [link, match.group(1)]\n",
    "                    \n",
    "        return [\"no link last page link\" , 0]\n",
    "    except Exception as e:\n",
    "        print(e)\n",
    "\n"
   ]
  },
  {
   "cell_type": "code",
   "execution_count": 44,
   "id": "eabf2fc9-3f11-4ec8-ac7a-38678c9f5197",
   "metadata": {},
   "outputs": [
    {
     "data": {
      "text/plain": [
       "['index_215.html', '215']"
      ]
     },
     "execution_count": 44,
     "metadata": {},
     "output_type": "execute_result"
    }
   ],
   "source": [
    "url = \"http://ti.kbcmw.com/html/news/china/\"\n",
    "\n",
    "get_page_no(url)"
   ]
  },
  {
   "cell_type": "code",
   "execution_count": null,
   "id": "9df2802d-7053-46c1-9974-f593018ecf1d",
   "metadata": {},
   "outputs": [],
   "source": []
  },
  {
   "cell_type": "code",
   "execution_count": null,
   "id": "94601585-67c3-4c97-9638-9b132ad263a3",
   "metadata": {},
   "outputs": [],
   "source": []
  },
  {
   "cell_type": "code",
   "execution_count": 54,
   "id": "029a9b6f-1b97-493b-8501-87bc3436f7ec",
   "metadata": {},
   "outputs": [
    {
     "name": "stdout",
     "output_type": "stream",
     "text": [
      "1\n",
      "2\n",
      "3\n",
      "4\n"
     ]
    }
   ],
   "source": [
    "final_link = []\n",
    "i = 0\n",
    "for each_link in new_categories:\n",
    "    link = each_link[1]\n",
    "    page_no = get_page_no(link)\n",
    "    clean_list = []\n",
    "    clean_list.extend(each_link)\n",
    "    clean_list.extend(page_no)\n",
    "    # print(clean_list)\n",
    "    final_link.append(clean_list)\n",
    "    i = i+1\n",
    "    if i//5 == 0:\n",
    "        print(i)\n",
    "        # break\n"
   ]
  },
  {
   "cell_type": "code",
   "execution_count": 55,
   "id": "d9cb015a-793e-4c47-a5f8-827d6bbaf00b",
   "metadata": {},
   "outputs": [
    {
     "data": {
      "text/plain": [
       "[['ཁམས་ཁུལ་གསར་འགྱུར།',\n",
       "  'http://ti.kbcmw.com/html/news/kbnews/',\n",
       "  'index_263.html',\n",
       "  '263'],\n",
       " ['རྒྱལ་ནང་གསར་འགྱུར།',\n",
       "  'http://ti.kbcmw.com/html/news/china/',\n",
       "  'index_215.html',\n",
       "  '215'],\n",
       " ['རྒྱལ་སྤྱི་གསར་འགྱུར།',\n",
       "  'http://ti.kbcmw.com/html/news/gj/',\n",
       "  'index_32.html',\n",
       "  '32'],\n",
       " ['ཆེད་བསྒྲིགས་གསར་འགྱུར།',\n",
       "  'http://ti.kbcmw.com/html/news/zt/',\n",
       "  'index_3.html',\n",
       "  '3'],\n",
       " ['ཁམས་ཀྱི་ཁྱབ་ཁོངས།',\n",
       "  'http://ti.kbcmw.com/html/kangba/gaikuang/',\n",
       "  'index_1.html',\n",
       "  '1'],\n",
       " ['རི་ཆུ།', 'http://ti.kbcmw.com/html/kangba/shanshui/', 'index_3.html', '3'],\n",
       " ['གནའ་ཤུལ།', 'http://ti.kbcmw.com/html/kangba/lishi/', 'index_2.html', '2'],\n",
       " ['ཁམས་ཀྱི་ཡུལ་སྲོལ།',\n",
       "  'http://ti.kbcmw.com/html/kangba/xishu/',\n",
       "  'index_6.html',\n",
       "  '6'],\n",
       " ['རྒྱན་གོས།',\n",
       "  'http://ti.kbcmw.com/html/kangba/fushi/',\n",
       "  'no link last page link',\n",
       "  0],\n",
       " ['རིག་རྩལ།', 'http://ti.kbcmw.com/html/kangba/wenyi/', 'index_7.html', '7']]"
      ]
     },
     "execution_count": 55,
     "metadata": {},
     "output_type": "execute_result"
    }
   ],
   "source": [
    "final_link[:10]"
   ]
  },
  {
   "cell_type": "code",
   "execution_count": null,
   "id": "99eaa940-3e9f-4242-8fb4-5eddf762c916",
   "metadata": {},
   "outputs": [],
   "source": []
  },
  {
   "cell_type": "code",
   "execution_count": 56,
   "id": "b3cd8de9-dce3-43d4-9bf1-5fe4f55316df",
   "metadata": {},
   "outputs": [],
   "source": [
    "import pandas as pd"
   ]
  },
  {
   "cell_type": "code",
   "execution_count": null,
   "id": "205aca67-bffb-442f-88d4-7b85f7943a9f",
   "metadata": {},
   "outputs": [],
   "source": []
  },
  {
   "cell_type": "code",
   "execution_count": 57,
   "id": "2fa6a92b-8907-4222-b860-e5275ef8759f",
   "metadata": {},
   "outputs": [
    {
     "data": {
      "text/html": [
       "<div>\n",
       "<style scoped>\n",
       "    .dataframe tbody tr th:only-of-type {\n",
       "        vertical-align: middle;\n",
       "    }\n",
       "\n",
       "    .dataframe tbody tr th {\n",
       "        vertical-align: top;\n",
       "    }\n",
       "\n",
       "    .dataframe thead th {\n",
       "        text-align: right;\n",
       "    }\n",
       "</style>\n",
       "<table border=\"1\" class=\"dataframe\">\n",
       "  <thead>\n",
       "    <tr style=\"text-align: right;\">\n",
       "      <th></th>\n",
       "      <th>name_of_cate</th>\n",
       "      <th>original_url</th>\n",
       "      <th>Last_page_link</th>\n",
       "      <th>list_page_no</th>\n",
       "    </tr>\n",
       "  </thead>\n",
       "  <tbody>\n",
       "    <tr>\n",
       "      <th>0</th>\n",
       "      <td>ཁམས་ཁུལ་གསར་འགྱུར།</td>\n",
       "      <td>http://ti.kbcmw.com/html/news/kbnews/</td>\n",
       "      <td>index_263.html</td>\n",
       "      <td>263</td>\n",
       "    </tr>\n",
       "    <tr>\n",
       "      <th>1</th>\n",
       "      <td>རྒྱལ་ནང་གསར་འགྱུར།</td>\n",
       "      <td>http://ti.kbcmw.com/html/news/china/</td>\n",
       "      <td>index_215.html</td>\n",
       "      <td>215</td>\n",
       "    </tr>\n",
       "    <tr>\n",
       "      <th>2</th>\n",
       "      <td>རྒྱལ་སྤྱི་གསར་འགྱུར།</td>\n",
       "      <td>http://ti.kbcmw.com/html/news/gj/</td>\n",
       "      <td>index_32.html</td>\n",
       "      <td>32</td>\n",
       "    </tr>\n",
       "    <tr>\n",
       "      <th>3</th>\n",
       "      <td>ཆེད་བསྒྲིགས་གསར་འགྱུར།</td>\n",
       "      <td>http://ti.kbcmw.com/html/news/zt/</td>\n",
       "      <td>index_3.html</td>\n",
       "      <td>3</td>\n",
       "    </tr>\n",
       "    <tr>\n",
       "      <th>4</th>\n",
       "      <td>ཁམས་ཀྱི་ཁྱབ་ཁོངས།</td>\n",
       "      <td>http://ti.kbcmw.com/html/kangba/gaikuang/</td>\n",
       "      <td>index_1.html</td>\n",
       "      <td>1</td>\n",
       "    </tr>\n",
       "  </tbody>\n",
       "</table>\n",
       "</div>"
      ],
      "text/plain": [
       "             name_of_cate                               original_url  \\\n",
       "0      ཁམས་ཁུལ་གསར་འགྱུར།      http://ti.kbcmw.com/html/news/kbnews/   \n",
       "1      རྒྱལ་ནང་གསར་འགྱུར།       http://ti.kbcmw.com/html/news/china/   \n",
       "2    རྒྱལ་སྤྱི་གསར་འགྱུར།          http://ti.kbcmw.com/html/news/gj/   \n",
       "3  ཆེད་བསྒྲིགས་གསར་འགྱུར།          http://ti.kbcmw.com/html/news/zt/   \n",
       "4       ཁམས་ཀྱི་ཁྱབ་ཁོངས།  http://ti.kbcmw.com/html/kangba/gaikuang/   \n",
       "\n",
       "   Last_page_link list_page_no  \n",
       "0  index_263.html          263  \n",
       "1  index_215.html          215  \n",
       "2   index_32.html           32  \n",
       "3    index_3.html            3  \n",
       "4    index_1.html            1  "
      ]
     },
     "execution_count": 57,
     "metadata": {},
     "output_type": "execute_result"
    }
   ],
   "source": [
    "df = pd.DataFrame(final_link, columns=['name_of_cate', 'original_url', 'Last_page_link', 'list_page_no'])\n",
    "df.head()"
   ]
  },
  {
   "cell_type": "code",
   "execution_count": 58,
   "id": "7a9dddfc-9d54-4c6f-9457-a0ca703d678f",
   "metadata": {},
   "outputs": [],
   "source": [
    "df.to_csv(\"./data/All_cate.csv\", index=False)"
   ]
  },
  {
   "cell_type": "code",
   "execution_count": 59,
   "id": "b8ece6f1-8be4-45ac-bd8b-e65ed382227f",
   "metadata": {},
   "outputs": [
    {
     "data": {
      "text/plain": [
       "(110, 4)"
      ]
     },
     "execution_count": 59,
     "metadata": {},
     "output_type": "execute_result"
    }
   ],
   "source": [
    "df.shape"
   ]
  },
  {
   "cell_type": "code",
   "execution_count": null,
   "id": "48301f20-5243-4fc9-9ea0-b6e870b3b226",
   "metadata": {},
   "outputs": [],
   "source": []
  },
  {
   "cell_type": "code",
   "execution_count": null,
   "id": "dc350e4f-e440-4879-af1d-ca2d9bb888bb",
   "metadata": {},
   "outputs": [],
   "source": []
  }
 ],
 "metadata": {
  "kernelspec": {
   "display_name": "Python 3 (ipykernel)",
   "language": "python",
   "name": "python3"
  },
  "language_info": {
   "codemirror_mode": {
    "name": "ipython",
    "version": 3
   },
   "file_extension": ".py",
   "mimetype": "text/x-python",
   "name": "python",
   "nbconvert_exporter": "python",
   "pygments_lexer": "ipython3",
   "version": "3.10.13"
  }
 },
 "nbformat": 4,
 "nbformat_minor": 5
}
