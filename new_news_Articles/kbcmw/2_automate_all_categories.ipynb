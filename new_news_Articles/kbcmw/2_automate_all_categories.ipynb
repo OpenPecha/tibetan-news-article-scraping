{
 "cells": [
  {
   "cell_type": "code",
   "execution_count": 1,
   "id": "40147810-a5ac-49c4-9891-123f743b40eb",
   "metadata": {},
   "outputs": [],
   "source": [
    "import requests\n",
    "from bs4 import BeautifulSoup\n",
    "import json\n",
    "import time\n",
    "\n",
    "from tqdm import tqdm"
   ]
  },
  {
   "cell_type": "code",
   "execution_count": 2,
   "id": "7c3970d1-04ce-402d-afa7-fbf8323f6284",
   "metadata": {},
   "outputs": [],
   "source": [
    "import kbcmw_utils\n",
    "import pandas as pd"
   ]
  },
  {
   "cell_type": "code",
   "execution_count": null,
   "id": "ca1d7bbc-d27b-4c64-aa2d-5d27409915d7",
   "metadata": {},
   "outputs": [],
   "source": []
  },
  {
   "cell_type": "markdown",
   "id": "685b9b9e-98a7-4a1f-a674-2125437e3fe4",
   "metadata": {},
   "source": [
    "## Here we will extract all the articles links from http://ti.kbcmw.com/ webpage\n",
    "URL:  http://ti.kbcmw.com/"
   ]
  },
  {
   "cell_type": "markdown",
   "id": "95f69b28-a91e-479a-9d51-3e2d466692a6",
   "metadata": {},
   "source": [
    "Tabs not extracted\n",
    "\n",
    " http://ti.kbcmw.com/"
   ]
  },
  {
   "cell_type": "code",
   "execution_count": null,
   "id": "53f131a3-9008-4061-a1c1-191bf90cab51",
   "metadata": {},
   "outputs": [],
   "source": []
  },
  {
   "cell_type": "markdown",
   "id": "acd071a1-9fce-42e8-9d49-0e71dc3b42e4",
   "metadata": {},
   "source": [
    "\n",
    "------------\n",
    "-----------\n",
    "------------\n",
    "------------\n",
    "------------"
   ]
  },
  {
   "cell_type": "code",
   "execution_count": 3,
   "id": "467da2b4-69ca-4b77-b0b5-01ec39d844bc",
   "metadata": {},
   "outputs": [],
   "source": [
    "def loop_article_page(total_page, custom_url, key_code, base_url):\n",
    "    \"\"\"\n",
    "    \n",
    "    \"\"\"\n",
    "    return_file = {\n",
    "        \"Data\": [],\n",
    "        \"message\": \"success\",\n",
    "        \"response\": 200\n",
    "    }\n",
    "    All_url_links = {}\n",
    "    \n",
    "    try:\n",
    "        for i in tqdm(range(0, total_page+1)):\n",
    "            if i == 0:\n",
    "                final_url = custom_url + \".html\"\n",
    "            else:\n",
    "                final_url = custom_url+ \"_\" + str(i) + \".html\"\n",
    "                \n",
    "            found_url_links = kbcmw_utils.extract_kbcmw_page_article_links(final_url, base_url)\n",
    "            key = key_code + str(i)\n",
    "            All_url_links[key] = found_url_links\n",
    "        return_file[\"Data\"] = All_url_links\n",
    "        return return_file\n",
    "    \n",
    "    except Exception as e:\n",
    "        return_file[\"Data\"] = All_url_links\n",
    "        return_file[\"message\"] = e\n",
    "        return_file[\"response\"] = 404\n",
    "        return return_file"
   ]
  },
  {
   "cell_type": "code",
   "execution_count": 4,
   "id": "36d048db-f75b-4bbf-99ba-333eb7639175",
   "metadata": {},
   "outputs": [],
   "source": [
    "def check_error_in_links(All_url_link, page_code, print_each_error=False):\n",
    "    \"\"\"\n",
    "    \n",
    "    \n",
    "    \"\"\"\n",
    "\n",
    "    error_counter = 0\n",
    "    for page_id in range(1, len(All_url_link)):\n",
    "        page_key = page_code + str(page_id)\n",
    "        try:\n",
    "            All_url_link.get(page_key)\n",
    "            if  All_url_link.get(page_key)[\"Response\"]!= 200:\n",
    "                error_counter += 1\n",
    "                if print_each_error:\n",
    "                    print(page_key, All_url_link.get(page_key)[\"message\"])\n",
    "        except Exception as e:\n",
    "            print(page_key, e)\n",
    "\n",
    "    print(f\"Total error in {page_code}: {error_counter}\")"
   ]
  },
  {
   "cell_type": "code",
   "execution_count": 14,
   "id": "43edc8d7-14ca-44e8-9fda-7ec78d5e7fe8",
   "metadata": {},
   "outputs": [],
   "source": [
    "def save_json(path, file_name, data):\n",
    "    \"\"\"\n",
    "    \n",
    "    \"\"\"\n",
    "    with open(path+file_name, \"w\") as outfile:\n",
    "        json.dump(data, outfile, indent=4, ensure_ascii=False)\n",
    "        print(f\"\\n\\nSuccessfully saved: {file_name}\")"
   ]
  },
  {
   "cell_type": "code",
   "execution_count": null,
   "id": "1f46d139-cd34-40d1-be5f-93f40630ccbb",
   "metadata": {},
   "outputs": [],
   "source": []
  },
  {
   "cell_type": "code",
   "execution_count": null,
   "id": "2dfeb92c-62d7-404c-83cc-f2ec569ddadb",
   "metadata": {},
   "outputs": [],
   "source": []
  },
  {
   "cell_type": "markdown",
   "id": "8285b51c-3a40-4e55-bf05-b132ecb3d64c",
   "metadata": {},
   "source": [
    "### all data"
   ]
  },
  {
   "cell_type": "code",
   "execution_count": 12,
   "id": "25b41ef0-af0c-4cee-ad0f-2e6c73282629",
   "metadata": {},
   "outputs": [
    {
     "data": {
      "text/html": [
       "<div>\n",
       "<style scoped>\n",
       "    .dataframe tbody tr th:only-of-type {\n",
       "        vertical-align: middle;\n",
       "    }\n",
       "\n",
       "    .dataframe tbody tr th {\n",
       "        vertical-align: top;\n",
       "    }\n",
       "\n",
       "    .dataframe thead th {\n",
       "        text-align: right;\n",
       "    }\n",
       "</style>\n",
       "<table border=\"1\" class=\"dataframe\">\n",
       "  <thead>\n",
       "    <tr style=\"text-align: right;\">\n",
       "      <th></th>\n",
       "      <th>name_of_cate</th>\n",
       "      <th>original_url</th>\n",
       "      <th>Last_page_link</th>\n",
       "      <th>list_page_no</th>\n",
       "    </tr>\n",
       "  </thead>\n",
       "  <tbody>\n",
       "    <tr>\n",
       "      <th>0</th>\n",
       "      <td>ཁམས་ཁུལ་གསར་འགྱུར།</td>\n",
       "      <td>http://ti.kbcmw.com/html/news/kbnews/</td>\n",
       "      <td>index_263.html</td>\n",
       "      <td>263</td>\n",
       "    </tr>\n",
       "    <tr>\n",
       "      <th>1</th>\n",
       "      <td>རྒྱལ་ནང་གསར་འགྱུར།</td>\n",
       "      <td>http://ti.kbcmw.com/html/news/china/</td>\n",
       "      <td>index_215.html</td>\n",
       "      <td>215</td>\n",
       "    </tr>\n",
       "    <tr>\n",
       "      <th>2</th>\n",
       "      <td>རྒྱལ་སྤྱི་གསར་འགྱུར།</td>\n",
       "      <td>http://ti.kbcmw.com/html/news/gj/</td>\n",
       "      <td>index_32.html</td>\n",
       "      <td>32</td>\n",
       "    </tr>\n",
       "    <tr>\n",
       "      <th>3</th>\n",
       "      <td>ཆེད་བསྒྲིགས་གསར་འགྱུར།</td>\n",
       "      <td>http://ti.kbcmw.com/html/news/zt/</td>\n",
       "      <td>index_3.html</td>\n",
       "      <td>3</td>\n",
       "    </tr>\n",
       "    <tr>\n",
       "      <th>4</th>\n",
       "      <td>ཁམས་ཀྱི་ཁྱབ་ཁོངས།</td>\n",
       "      <td>http://ti.kbcmw.com/html/kangba/gaikuang/</td>\n",
       "      <td>index_1.html</td>\n",
       "      <td>1</td>\n",
       "    </tr>\n",
       "    <tr>\n",
       "      <th>5</th>\n",
       "      <td>རི་ཆུ།</td>\n",
       "      <td>http://ti.kbcmw.com/html/kangba/shanshui/</td>\n",
       "      <td>index_3.html</td>\n",
       "      <td>3</td>\n",
       "    </tr>\n",
       "    <tr>\n",
       "      <th>6</th>\n",
       "      <td>གནའ་ཤུལ།</td>\n",
       "      <td>http://ti.kbcmw.com/html/kangba/lishi/</td>\n",
       "      <td>index_2.html</td>\n",
       "      <td>2</td>\n",
       "    </tr>\n",
       "    <tr>\n",
       "      <th>7</th>\n",
       "      <td>ཁམས་ཀྱི་ཡུལ་སྲོལ།</td>\n",
       "      <td>http://ti.kbcmw.com/html/kangba/xishu/</td>\n",
       "      <td>index_6.html</td>\n",
       "      <td>6</td>\n",
       "    </tr>\n",
       "    <tr>\n",
       "      <th>8</th>\n",
       "      <td>རྒྱན་གོས།</td>\n",
       "      <td>http://ti.kbcmw.com/html/kangba/fushi/</td>\n",
       "      <td>no link last page link</td>\n",
       "      <td>0</td>\n",
       "    </tr>\n",
       "    <tr>\n",
       "      <th>9</th>\n",
       "      <td>རིག་རྩལ།</td>\n",
       "      <td>http://ti.kbcmw.com/html/kangba/wenyi/</td>\n",
       "      <td>index_7.html</td>\n",
       "      <td>7</td>\n",
       "    </tr>\n",
       "  </tbody>\n",
       "</table>\n",
       "</div>"
      ],
      "text/plain": [
       "             name_of_cate                               original_url  \\\n",
       "0      ཁམས་ཁུལ་གསར་འགྱུར།      http://ti.kbcmw.com/html/news/kbnews/   \n",
       "1      རྒྱལ་ནང་གསར་འགྱུར།       http://ti.kbcmw.com/html/news/china/   \n",
       "2    རྒྱལ་སྤྱི་གསར་འགྱུར།          http://ti.kbcmw.com/html/news/gj/   \n",
       "3  ཆེད་བསྒྲིགས་གསར་འགྱུར།          http://ti.kbcmw.com/html/news/zt/   \n",
       "4       ཁམས་ཀྱི་ཁྱབ་ཁོངས།  http://ti.kbcmw.com/html/kangba/gaikuang/   \n",
       "5                  རི་ཆུ།  http://ti.kbcmw.com/html/kangba/shanshui/   \n",
       "6                གནའ་ཤུལ།     http://ti.kbcmw.com/html/kangba/lishi/   \n",
       "7       ཁམས་ཀྱི་ཡུལ་སྲོལ།     http://ti.kbcmw.com/html/kangba/xishu/   \n",
       "8               རྒྱན་གོས།     http://ti.kbcmw.com/html/kangba/fushi/   \n",
       "9                རིག་རྩལ།     http://ti.kbcmw.com/html/kangba/wenyi/   \n",
       "\n",
       "           Last_page_link  list_page_no  \n",
       "0          index_263.html           263  \n",
       "1          index_215.html           215  \n",
       "2           index_32.html            32  \n",
       "3            index_3.html             3  \n",
       "4            index_1.html             1  \n",
       "5            index_3.html             3  \n",
       "6            index_2.html             2  \n",
       "7            index_6.html             6  \n",
       "8  no link last page link             0  \n",
       "9            index_7.html             7  "
      ]
     },
     "execution_count": 12,
     "metadata": {},
     "output_type": "execute_result"
    }
   ],
   "source": [
    "df = pd.read_csv(\"./data/All_cate.csv\")\n",
    "df.head(10)"
   ]
  },
  {
   "cell_type": "code",
   "execution_count": 13,
   "id": "3d271a88-5471-41a0-bd2d-838eca8b02d0",
   "metadata": {},
   "outputs": [
    {
     "data": {
      "text/html": [
       "<div>\n",
       "<style scoped>\n",
       "    .dataframe tbody tr th:only-of-type {\n",
       "        vertical-align: middle;\n",
       "    }\n",
       "\n",
       "    .dataframe tbody tr th {\n",
       "        vertical-align: top;\n",
       "    }\n",
       "\n",
       "    .dataframe thead th {\n",
       "        text-align: right;\n",
       "    }\n",
       "</style>\n",
       "<table border=\"1\" class=\"dataframe\">\n",
       "  <thead>\n",
       "    <tr style=\"text-align: right;\">\n",
       "      <th></th>\n",
       "      <th>name_of_cate</th>\n",
       "      <th>original_url</th>\n",
       "      <th>Last_page_link</th>\n",
       "      <th>list_page_no</th>\n",
       "    </tr>\n",
       "  </thead>\n",
       "  <tbody>\n",
       "    <tr>\n",
       "      <th>0</th>\n",
       "      <td>ཁམས་ཁུལ་གསར་འགྱུར།</td>\n",
       "      <td>http://ti.kbcmw.com/html/news/kbnews/</td>\n",
       "      <td>index_263.html</td>\n",
       "      <td>263</td>\n",
       "    </tr>\n",
       "    <tr>\n",
       "      <th>1</th>\n",
       "      <td>རྒྱལ་ནང་གསར་འགྱུར།</td>\n",
       "      <td>http://ti.kbcmw.com/html/news/china/</td>\n",
       "      <td>index_215.html</td>\n",
       "      <td>215</td>\n",
       "    </tr>\n",
       "    <tr>\n",
       "      <th>2</th>\n",
       "      <td>རྒྱལ་སྤྱི་གསར་འགྱུར།</td>\n",
       "      <td>http://ti.kbcmw.com/html/news/gj/</td>\n",
       "      <td>index_32.html</td>\n",
       "      <td>32</td>\n",
       "    </tr>\n",
       "    <tr>\n",
       "      <th>3</th>\n",
       "      <td>ཆེད་བསྒྲིགས་གསར་འགྱུར།</td>\n",
       "      <td>http://ti.kbcmw.com/html/news/zt/</td>\n",
       "      <td>index_3.html</td>\n",
       "      <td>3</td>\n",
       "    </tr>\n",
       "    <tr>\n",
       "      <th>4</th>\n",
       "      <td>ཁམས་ཀྱི་ཁྱབ་ཁོངས།</td>\n",
       "      <td>http://ti.kbcmw.com/html/kangba/gaikuang/</td>\n",
       "      <td>index_1.html</td>\n",
       "      <td>1</td>\n",
       "    </tr>\n",
       "    <tr>\n",
       "      <th>...</th>\n",
       "      <td>...</td>\n",
       "      <td>...</td>\n",
       "      <td>...</td>\n",
       "      <td>...</td>\n",
       "    </tr>\n",
       "    <tr>\n",
       "      <th>105</th>\n",
       "      <td>གསར་བྱུང་འོད་སྡེར།</td>\n",
       "      <td>http://ti.kbcmw.com/html/yy/zxgd/</td>\n",
       "      <td>no link last page link</td>\n",
       "      <td>0</td>\n",
       "    </tr>\n",
       "    <tr>\n",
       "      <th>106</th>\n",
       "      <td>རོལ་ཆས་ངོ་སྤྲོད།</td>\n",
       "      <td>http://ti.kbcmw.com/html/yy/yqjs/</td>\n",
       "      <td>no link last page link</td>\n",
       "      <td>0</td>\n",
       "    </tr>\n",
       "    <tr>\n",
       "      <th>107</th>\n",
       "      <td>གླུ་བ་གླུ་མ།</td>\n",
       "      <td>http://ti.kbcmw.com/html/yy/gsjs/</td>\n",
       "      <td>no link last page link</td>\n",
       "      <td>0</td>\n",
       "    </tr>\n",
       "    <tr>\n",
       "      <th>108</th>\n",
       "      <td>རོལ་མོའི་གླེང་སྟེགས།</td>\n",
       "      <td>http://ti.kbcmw.com/html/yy/zylt/</td>\n",
       "      <td>no link last page link</td>\n",
       "      <td>0</td>\n",
       "    </tr>\n",
       "    <tr>\n",
       "      <th>109</th>\n",
       "      <td>འཚོ་བའི་ཤེས་བྱ།</td>\n",
       "      <td>http://ti.kbcmw.com/html/shcs/</td>\n",
       "      <td>index_6.html</td>\n",
       "      <td>6</td>\n",
       "    </tr>\n",
       "  </tbody>\n",
       "</table>\n",
       "<p>110 rows × 4 columns</p>\n",
       "</div>"
      ],
      "text/plain": [
       "               name_of_cate                               original_url  \\\n",
       "0        ཁམས་ཁུལ་གསར་འགྱུར།      http://ti.kbcmw.com/html/news/kbnews/   \n",
       "1        རྒྱལ་ནང་གསར་འགྱུར།       http://ti.kbcmw.com/html/news/china/   \n",
       "2      རྒྱལ་སྤྱི་གསར་འགྱུར།          http://ti.kbcmw.com/html/news/gj/   \n",
       "3    ཆེད་བསྒྲིགས་གསར་འགྱུར།          http://ti.kbcmw.com/html/news/zt/   \n",
       "4         ཁམས་ཀྱི་ཁྱབ་ཁོངས།  http://ti.kbcmw.com/html/kangba/gaikuang/   \n",
       "..                      ...                                        ...   \n",
       "105      གསར་བྱུང་འོད་སྡེར།          http://ti.kbcmw.com/html/yy/zxgd/   \n",
       "106        རོལ་ཆས་ངོ་སྤྲོད།          http://ti.kbcmw.com/html/yy/yqjs/   \n",
       "107            གླུ་བ་གླུ་མ།          http://ti.kbcmw.com/html/yy/gsjs/   \n",
       "108    རོལ་མོའི་གླེང་སྟེགས།          http://ti.kbcmw.com/html/yy/zylt/   \n",
       "109         འཚོ་བའི་ཤེས་བྱ།             http://ti.kbcmw.com/html/shcs/   \n",
       "\n",
       "             Last_page_link  list_page_no  \n",
       "0            index_263.html           263  \n",
       "1            index_215.html           215  \n",
       "2             index_32.html            32  \n",
       "3              index_3.html             3  \n",
       "4              index_1.html             1  \n",
       "..                      ...           ...  \n",
       "105  no link last page link             0  \n",
       "106  no link last page link             0  \n",
       "107  no link last page link             0  \n",
       "108  no link last page link             0  \n",
       "109            index_6.html             6  \n",
       "\n",
       "[110 rows x 4 columns]"
      ]
     },
     "execution_count": 13,
     "metadata": {},
     "output_type": "execute_result"
    }
   ],
   "source": [
    "sample_df = df\n",
    "sample_df"
   ]
  },
  {
   "cell_type": "code",
   "execution_count": 15,
   "id": "81485921-1ab2-4589-9c7d-ab4ff580093d",
   "metadata": {},
   "outputs": [
    {
     "name": "stderr",
     "output_type": "stream",
     "text": [
      "100%|██████████| 264/264 [34:56<00:00,  7.94s/it]\n"
     ]
    },
    {
     "name": "stdout",
     "output_type": "stream",
     "text": [
      "Total page in ཁམས་ཁུལ་གསར་འགྱུར།: 264\n",
      "Total error in Page ཁམས་ཁུལ་གསར་འགྱུར། : 0\n",
      "\n",
      "\n",
      "Successfully saved: tibetcm_ALL_link_ཁམས་ཁུལ་གསར་འགྱུར།.json\n"
     ]
    },
    {
     "name": "stderr",
     "output_type": "stream",
     "text": [
      "100%|██████████| 216/216 [28:42<00:00,  7.98s/it]\n"
     ]
    },
    {
     "name": "stdout",
     "output_type": "stream",
     "text": [
      "Total page in རྒྱལ་ནང་གསར་འགྱུར།: 216\n",
      "Total error in Page རྒྱལ་ནང་གསར་འགྱུར། : 0\n",
      "\n",
      "\n",
      "Successfully saved: tibetcm_ALL_link_རྒྱལ་ནང་གསར་འགྱུར།.json\n"
     ]
    },
    {
     "name": "stderr",
     "output_type": "stream",
     "text": [
      "100%|██████████| 33/33 [04:18<00:00,  7.84s/it]\n"
     ]
    },
    {
     "name": "stdout",
     "output_type": "stream",
     "text": [
      "Total page in རྒྱལ་སྤྱི་གསར་འགྱུར།: 33\n",
      "Total error in Page རྒྱལ་སྤྱི་གསར་འགྱུར། : 0\n",
      "\n",
      "\n",
      "Successfully saved: tibetcm_ALL_link_རྒྱལ་སྤྱི་གསར་འགྱུར།.json\n"
     ]
    },
    {
     "name": "stderr",
     "output_type": "stream",
     "text": [
      "100%|██████████| 4/4 [00:29<00:00,  7.28s/it]\n"
     ]
    },
    {
     "name": "stdout",
     "output_type": "stream",
     "text": [
      "Total page in ཆེད་བསྒྲིགས་གསར་འགྱུར།: 4\n",
      "Total error in Page ཆེད་བསྒྲིགས་གསར་འགྱུར། : 0\n",
      "\n",
      "\n",
      "Successfully saved: tibetcm_ALL_link_ཆེད་བསྒྲིགས་གསར་འགྱུར།.json\n"
     ]
    },
    {
     "name": "stderr",
     "output_type": "stream",
     "text": [
      "100%|██████████| 2/2 [00:14<00:00,  7.10s/it]\n"
     ]
    },
    {
     "name": "stdout",
     "output_type": "stream",
     "text": [
      "Total page in ཁམས་ཀྱི་ཁྱབ་ཁོངས།: 2\n",
      "Total error in Page ཁམས་ཀྱི་ཁྱབ་ཁོངས། : 0\n",
      "\n",
      "\n",
      "Successfully saved: tibetcm_ALL_link_ཁམས་ཀྱི་ཁྱབ་ཁོངས།.json\n"
     ]
    },
    {
     "name": "stderr",
     "output_type": "stream",
     "text": [
      "100%|██████████| 4/4 [00:29<00:00,  7.34s/it]\n"
     ]
    },
    {
     "name": "stdout",
     "output_type": "stream",
     "text": [
      "Total page in རི་ཆུ།: 4\n",
      "Total error in Page རི་ཆུ། : 0\n",
      "\n",
      "\n",
      "Successfully saved: tibetcm_ALL_link_རི་ཆུ།.json\n"
     ]
    },
    {
     "name": "stderr",
     "output_type": "stream",
     "text": [
      "100%|██████████| 3/3 [00:21<00:00,  7.28s/it]\n"
     ]
    },
    {
     "name": "stdout",
     "output_type": "stream",
     "text": [
      "Total page in གནའ་ཤུལ།: 3\n",
      "Total error in Page གནའ་ཤུལ། : 0\n",
      "\n",
      "\n",
      "Successfully saved: tibetcm_ALL_link_གནའ་ཤུལ།.json\n"
     ]
    },
    {
     "name": "stderr",
     "output_type": "stream",
     "text": [
      "100%|██████████| 7/7 [00:48<00:00,  6.97s/it]\n"
     ]
    },
    {
     "name": "stdout",
     "output_type": "stream",
     "text": [
      "Total page in ཁམས་ཀྱི་ཡུལ་སྲོལ།: 7\n",
      "Total error in Page ཁམས་ཀྱི་ཡུལ་སྲོལ། : 0\n",
      "\n",
      "\n",
      "Successfully saved: tibetcm_ALL_link_ཁམས་ཀྱི་ཡུལ་སྲོལ།.json\n"
     ]
    },
    {
     "name": "stderr",
     "output_type": "stream",
     "text": [
      "100%|██████████| 1/1 [00:07<00:00,  7.37s/it]\n"
     ]
    },
    {
     "name": "stdout",
     "output_type": "stream",
     "text": [
      "Total page in རྒྱན་གོས།: 1\n",
      "Total error in Page རྒྱན་གོས། : 0\n",
      "\n",
      "\n",
      "Successfully saved: tibetcm_ALL_link_རྒྱན་གོས།.json\n"
     ]
    },
    {
     "name": "stderr",
     "output_type": "stream",
     "text": [
      "100%|██████████| 8/8 [00:58<00:00,  7.31s/it]\n"
     ]
    },
    {
     "name": "stdout",
     "output_type": "stream",
     "text": [
      "Total page in རིག་རྩལ།: 8\n",
      "Total error in Page རིག་རྩལ། : 0\n",
      "\n",
      "\n",
      "Successfully saved: tibetcm_ALL_link_རིག་རྩལ།.json\n"
     ]
    },
    {
     "name": "stderr",
     "output_type": "stream",
     "text": [
      "100%|██████████| 2/2 [00:14<00:00,  7.11s/it]\n"
     ]
    },
    {
     "name": "stdout",
     "output_type": "stream",
     "text": [
      "Total page in ཁམས་ཀྱི་འཛུགས་སྐྲུན །: 2\n",
      "Total error in Page ཁམས་ཀྱི་འཛུགས་སྐྲུན ། : 0\n",
      "\n",
      "\n",
      "Successfully saved: tibetcm_ALL_link_ཁམས་ཀྱི་འཛུགས་སྐྲུན །.json\n"
     ]
    },
    {
     "name": "stderr",
     "output_type": "stream",
     "text": [
      "100%|██████████| 8/8 [00:59<00:00,  7.39s/it]\n"
     ]
    },
    {
     "name": "stdout",
     "output_type": "stream",
     "text": [
      "Total page in ཁམས་ཀྱི་མི་སྣ།: 8\n",
      "Total error in Page ཁམས་ཀྱི་མི་སྣ། : 0\n",
      "\n",
      "\n",
      "Successfully saved: tibetcm_ALL_link_ཁམས་ཀྱི་མི་སྣ།.json\n"
     ]
    },
    {
     "name": "stderr",
     "output_type": "stream",
     "text": [
      "100%|██████████| 4/4 [00:28<00:00,  7.17s/it]\n"
     ]
    },
    {
     "name": "stdout",
     "output_type": "stream",
     "text": [
      "Total page in སྒྲུང་རྩོམ།: 4\n",
      "Total error in Page སྒྲུང་རྩོམ། : 0\n",
      "\n",
      "\n",
      "Successfully saved: tibetcm_ALL_link_སྒྲུང་རྩོམ།.json\n"
     ]
    },
    {
     "name": "stderr",
     "output_type": "stream",
     "text": [
      "100%|██████████| 33/33 [03:55<00:00,  7.15s/it]\n"
     ]
    },
    {
     "name": "stdout",
     "output_type": "stream",
     "text": [
      "Total page in ལྷུག་རྩོམ: 33\n",
      "Total error in Page ལྷུག་རྩོམ : 0\n",
      "\n",
      "\n",
      "Successfully saved: tibetcm_ALL_link_ལྷུག་རྩོམ.json\n"
     ]
    },
    {
     "name": "stderr",
     "output_type": "stream",
     "text": [
      "100%|██████████| 88/88 [10:29<00:00,  7.15s/it]\n"
     ]
    },
    {
     "name": "stdout",
     "output_type": "stream",
     "text": [
      "Total page in སྙན་རྩོམ།: 88\n",
      "Total error in Page སྙན་རྩོམ། : 0\n",
      "\n",
      "\n",
      "Successfully saved: tibetcm_ALL_link_སྙན་རྩོམ།.json\n"
     ]
    },
    {
     "name": "stderr",
     "output_type": "stream",
     "text": [
      "100%|██████████| 1/1 [00:06<00:00,  6.52s/it]\n"
     ]
    },
    {
     "name": "stdout",
     "output_type": "stream",
     "text": [
      "Total page in སྙན་ཞུ་རྩོམ་རིག།: 1\n",
      "Total error in Page སྙན་ཞུ་རྩོམ་རིག། : 0\n",
      "\n",
      "\n",
      "Successfully saved: tibetcm_ALL_link_སྙན་ཞུ་རྩོམ་རིག།.json\n"
     ]
    },
    {
     "name": "stderr",
     "output_type": "stream",
     "text": [
      "100%|██████████| 2/2 [00:13<00:00,  6.95s/it]\n"
     ]
    },
    {
     "name": "stdout",
     "output_type": "stream",
     "text": [
      "Total page in ཕུལ་བྱུང་འགྱུར་རྩོམ།: 2\n",
      "Total error in Page ཕུལ་བྱུང་འགྱུར་རྩོམ། : 0\n",
      "\n",
      "\n",
      "Successfully saved: tibetcm_ALL_link_ཕུལ་བྱུང་འགྱུར་རྩོམ།.json\n"
     ]
    },
    {
     "name": "stderr",
     "output_type": "stream",
     "text": [
      "100%|██████████| 4/4 [00:27<00:00,  6.77s/it]\n"
     ]
    },
    {
     "name": "stdout",
     "output_type": "stream",
     "text": [
      "Total page in དམངས་ཁྲོད་རྩོམ་རིག: 4\n",
      "Total error in Page དམངས་ཁྲོད་རྩོམ་རིག : 0\n",
      "\n",
      "\n",
      "Successfully saved: tibetcm_ALL_link_དམངས་ཁྲོད་རྩོམ་རིག.json\n"
     ]
    },
    {
     "name": "stderr",
     "output_type": "stream",
     "text": [
      "100%|██████████| 6/6 [00:44<00:00,  7.35s/it]\n"
     ]
    },
    {
     "name": "stdout",
     "output_type": "stream",
     "text": [
      "Total page in རིག་རྩལ་དཔྱད་རྩོམ།: 6\n",
      "Total error in Page རིག་རྩལ་དཔྱད་རྩོམ། : 0\n",
      "\n",
      "\n",
      "Successfully saved: tibetcm_ALL_link_རིག་རྩལ་དཔྱད་རྩོམ།.json\n"
     ]
    },
    {
     "name": "stderr",
     "output_type": "stream",
     "text": [
      "100%|██████████| 3/3 [00:20<00:00,  6.85s/it]\n"
     ]
    },
    {
     "name": "stdout",
     "output_type": "stream",
     "text": [
      "Total page in སློབ་མའི་སྦྱངས་རྩོམ།: 3\n",
      "Total error in Page སློབ་མའི་སྦྱངས་རྩོམ། : 0\n",
      "\n",
      "\n",
      "Successfully saved: tibetcm_ALL_link_སློབ་མའི་སྦྱངས་རྩོམ།.json\n"
     ]
    },
    {
     "name": "stderr",
     "output_type": "stream",
     "text": [
      "100%|██████████| 2/2 [00:13<00:00,  6.72s/it]\n"
     ]
    },
    {
     "name": "stdout",
     "output_type": "stream",
     "text": [
      "Total page in ཁ་མཚར།: 2\n",
      "Total error in Page ཁ་མཚར། : 0\n",
      "\n",
      "\n",
      "Successfully saved: tibetcm_ALL_link_ཁ་མཚར།.json\n"
     ]
    },
    {
     "name": "stderr",
     "output_type": "stream",
     "text": [
      "100%|██████████| 1/1 [00:07<00:00,  7.36s/it]\n"
     ]
    },
    {
     "name": "stdout",
     "output_type": "stream",
     "text": [
      "Total page in བསྐལ་པ་ཡ་ཐོག: 1\n",
      "Total error in Page བསྐལ་པ་ཡ་ཐོག : 0\n",
      "\n",
      "\n",
      "Successfully saved: tibetcm_ALL_link_བསྐལ་པ་ཡ་ཐོག.json\n"
     ]
    },
    {
     "name": "stderr",
     "output_type": "stream",
     "text": [
      "100%|██████████| 1/1 [00:06<00:00,  6.53s/it]\n"
     ]
    },
    {
     "name": "stdout",
     "output_type": "stream",
     "text": [
      "Total page in མངའ་མཛད་དུས་རབས།: 1\n",
      "Total error in Page མངའ་མཛད་དུས་རབས། : 0\n",
      "\n",
      "\n",
      "Successfully saved: tibetcm_ALL_link_མངའ་མཛད་དུས་རབས།.json\n"
     ]
    },
    {
     "name": "stderr",
     "output_type": "stream",
     "text": [
      "100%|██████████| 1/1 [00:06<00:00,  6.57s/it]\n"
     ]
    },
    {
     "name": "stdout",
     "output_type": "stream",
     "text": [
      "Total page in སྤུ་རྒྱལ་དུས་རབས།: 1\n",
      "Total error in Page སྤུ་རྒྱལ་དུས་རབས། : 0\n",
      "\n",
      "\n",
      "Successfully saved: tibetcm_ALL_link_སྤུ་རྒྱལ་དུས་རབས།.json\n"
     ]
    },
    {
     "name": "stderr",
     "output_type": "stream",
     "text": [
      "100%|██████████| 1/1 [00:07<00:00,  7.50s/it]\n"
     ]
    },
    {
     "name": "stdout",
     "output_type": "stream",
     "text": [
      "Total page in ཆོས་ལྡན་རྒྱལ་རབས།: 1\n",
      "Total error in Page ཆོས་ལྡན་རྒྱལ་རབས། : 0\n",
      "\n",
      "\n",
      "Successfully saved: tibetcm_ALL_link_ཆོས་ལྡན་རྒྱལ་རབས།.json\n"
     ]
    },
    {
     "name": "stderr",
     "output_type": "stream",
     "text": [
      "100%|██████████| 1/1 [00:06<00:00,  6.54s/it]\n"
     ]
    },
    {
     "name": "stdout",
     "output_type": "stream",
     "text": [
      "Total page in བོད་སིལ་བུའི་དུས།: 1\n",
      "Total error in Page བོད་སིལ་བུའི་དུས། : 0\n",
      "\n",
      "\n",
      "Successfully saved: tibetcm_ALL_link_བོད་སིལ་བུའི་དུས།.json\n"
     ]
    },
    {
     "name": "stderr",
     "output_type": "stream",
     "text": [
      "100%|██████████| 1/1 [00:06<00:00,  6.55s/it]\n"
     ]
    },
    {
     "name": "stdout",
     "output_type": "stream",
     "text": [
      "Total page in ས་སྐྱའི་དུས།: 1\n",
      "Total error in Page ས་སྐྱའི་དུས། : 0\n",
      "\n",
      "\n",
      "Successfully saved: tibetcm_ALL_link_ས་སྐྱའི་དུས།.json\n"
     ]
    },
    {
     "name": "stderr",
     "output_type": "stream",
     "text": [
      "100%|██████████| 1/1 [00:06<00:00,  6.80s/it]\n"
     ]
    },
    {
     "name": "stdout",
     "output_type": "stream",
     "text": [
      "Total page in ཕག་གྲུའི་དུས།: 1\n",
      "Total error in Page ཕག་གྲུའི་དུས། : 0\n",
      "\n",
      "\n",
      "Successfully saved: tibetcm_ALL_link_ཕག་གྲུའི་དུས།.json\n"
     ]
    },
    {
     "name": "stderr",
     "output_type": "stream",
     "text": [
      "100%|██████████| 1/1 [00:06<00:00,  6.74s/it]\n"
     ]
    },
    {
     "name": "stdout",
     "output_type": "stream",
     "text": [
      "Total page in གཙང་པའི་དུས།: 1\n",
      "Total error in Page གཙང་པའི་དུས། : 0\n",
      "\n",
      "\n",
      "Successfully saved: tibetcm_ALL_link_གཙང་པའི་དུས།.json\n"
     ]
    },
    {
     "name": "stderr",
     "output_type": "stream",
     "text": [
      "100%|██████████| 1/1 [00:06<00:00,  6.62s/it]\n"
     ]
    },
    {
     "name": "stdout",
     "output_type": "stream",
     "text": [
      "Total page in དགའ་ལྡན་དུས།: 1\n",
      "Total error in Page དགའ་ལྡན་དུས། : 0\n",
      "\n",
      "\n",
      "Successfully saved: tibetcm_ALL_link_དགའ་ལྡན་དུས།.json\n"
     ]
    },
    {
     "name": "stderr",
     "output_type": "stream",
     "text": [
      "100%|██████████| 1/1 [00:06<00:00,  6.90s/it]\n"
     ]
    },
    {
     "name": "stdout",
     "output_type": "stream",
     "text": [
      "Total page in ཀྲུང་ཧྭའི་དུས།: 1\n",
      "Total error in Page ཀྲུང་ཧྭའི་དུས། : 0\n",
      "\n",
      "\n",
      "Successfully saved: tibetcm_ALL_link_ཀྲུང་ཧྭའི་དུས།.json\n"
     ]
    },
    {
     "name": "stderr",
     "output_type": "stream",
     "text": [
      "100%|██████████| 4/4 [00:30<00:00,  7.51s/it]\n"
     ]
    },
    {
     "name": "stdout",
     "output_type": "stream",
     "text": [
      "Total page in ལོ་རྒྱུས་དཔྱད་རྩོམ།: 4\n",
      "Total error in Page ལོ་རྒྱུས་དཔྱད་རྩོམ། : 0\n",
      "\n",
      "\n",
      "Successfully saved: tibetcm_ALL_link_ལོ་རྒྱུས་དཔྱད་རྩོམ།.json\n"
     ]
    },
    {
     "name": "stderr",
     "output_type": "stream",
     "text": [
      "100%|██████████| 1/1 [00:07<00:00,  7.09s/it]\n"
     ]
    },
    {
     "name": "stdout",
     "output_type": "stream",
     "text": [
      "Total page in གེ་སར་འཁྲུངས་ཡུལ།: 1\n",
      "Total error in Page གེ་སར་འཁྲུངས་ཡུལ། : 0\n",
      "\n",
      "\n",
      "Successfully saved: tibetcm_ALL_link_གེ་སར་འཁྲུངས་ཡུལ།.json\n"
     ]
    },
    {
     "name": "stderr",
     "output_type": "stream",
     "text": [
      "100%|██████████| 2/2 [00:13<00:00,  6.57s/it]\n"
     ]
    },
    {
     "name": "stdout",
     "output_type": "stream",
     "text": [
      "Total page in གླིང་སྒྲུང་མི་སྣ།: 2\n",
      "Total error in Page གླིང་སྒྲུང་མི་སྣ། : 0\n",
      "\n",
      "\n",
      "Successfully saved: tibetcm_ALL_link_གླིང་སྒྲུང་མི་སྣ།.json\n"
     ]
    },
    {
     "name": "stderr",
     "output_type": "stream",
     "text": [
      "100%|██████████| 2/2 [00:14<00:00,  7.22s/it]\n"
     ]
    },
    {
     "name": "stdout",
     "output_type": "stream",
     "text": [
      "Total page in གེ་སར་གནའ་ཤུལ།: 2\n",
      "Total error in Page གེ་སར་གནའ་ཤུལ། : 0\n",
      "\n",
      "\n",
      "Successfully saved: tibetcm_ALL_link_གེ་སར་གནའ་ཤུལ།.json\n"
     ]
    },
    {
     "name": "stderr",
     "output_type": "stream",
     "text": [
      "100%|██████████| 2/2 [00:14<00:00,  7.50s/it]\n"
     ]
    },
    {
     "name": "stdout",
     "output_type": "stream",
     "text": [
      "Total page in གེ་སར་ཞིབ་འཇུག: 2\n",
      "Total error in Page གེ་སར་ཞིབ་འཇུག : 0\n",
      "\n",
      "\n",
      "Successfully saved: tibetcm_ALL_link_གེ་སར་ཞིབ་འཇུག.json\n"
     ]
    },
    {
     "name": "stderr",
     "output_type": "stream",
     "text": [
      "100%|██████████| 1/1 [00:07<00:00,  7.38s/it]\n"
     ]
    },
    {
     "name": "stdout",
     "output_type": "stream",
     "text": [
      "Total page in སྒྲུང་ཡིག: 1\n",
      "Total error in Page སྒྲུང་ཡིག : 0\n",
      "\n",
      "\n",
      "Successfully saved: tibetcm_ALL_link_སྒྲུང་ཡིག.json\n"
     ]
    },
    {
     "name": "stderr",
     "output_type": "stream",
     "text": [
      "100%|██████████| 1/1 [00:06<00:00,  6.80s/it]\n"
     ]
    },
    {
     "name": "stdout",
     "output_type": "stream",
     "text": [
      "Total page in སྒྲུང་མཁན།: 1\n",
      "Total error in Page སྒྲུང་མཁན། : 0\n",
      "\n",
      "\n",
      "Successfully saved: tibetcm_ALL_link_སྒྲུང་མཁན།.json\n"
     ]
    },
    {
     "name": "stderr",
     "output_type": "stream",
     "text": [
      "100%|██████████| 1/1 [00:07<00:00,  7.10s/it]\n"
     ]
    },
    {
     "name": "stdout",
     "output_type": "stream",
     "text": [
      "Total page in གེ་སར་ཞལ་ཐང་།: 1\n",
      "Total error in Page གེ་སར་ཞལ་ཐང་། : 0\n",
      "\n",
      "\n",
      "Successfully saved: tibetcm_ALL_link_གེ་སར་ཞལ་ཐང་།.json\n"
     ]
    },
    {
     "name": "stderr",
     "output_type": "stream",
     "text": [
      "100%|██████████| 1/1 [00:06<00:00,  6.54s/it]\n"
     ]
    },
    {
     "name": "stdout",
     "output_type": "stream",
     "text": [
      "Total page in གསོ་རིག་ལོ་རྒྱུས།: 1\n",
      "Total error in Page གསོ་རིག་ལོ་རྒྱུས། : 0\n",
      "\n",
      "\n",
      "Successfully saved: tibetcm_ALL_link_གསོ་རིག་ལོ་རྒྱུས།.json\n"
     ]
    },
    {
     "name": "stderr",
     "output_type": "stream",
     "text": [
      "100%|██████████| 1/1 [00:06<00:00,  6.80s/it]\n"
     ]
    },
    {
     "name": "stdout",
     "output_type": "stream",
     "text": [
      "Total page in ཟུར་ལུགས་བོད་སྨན།: 1\n",
      "Total error in Page ཟུར་ལུགས་བོད་སྨན། : 0\n",
      "\n",
      "\n",
      "Successfully saved: tibetcm_ALL_link_ཟུར་ལུགས་བོད་སྨན།.json\n"
     ]
    },
    {
     "name": "stderr",
     "output_type": "stream",
     "text": [
      "100%|██████████| 1/1 [00:07<00:00,  7.06s/it]\n"
     ]
    },
    {
     "name": "stdout",
     "output_type": "stream",
     "text": [
      "Total page in གསོ་རིག་མཁས་དབང་།: 1\n",
      "Total error in Page གསོ་རིག་མཁས་དབང་། : 0\n",
      "\n",
      "\n",
      "Successfully saved: tibetcm_ALL_link_གསོ་རིག་མཁས་དབང་།.json\n"
     ]
    },
    {
     "name": "stderr",
     "output_type": "stream",
     "text": [
      "100%|██████████| 1/1 [00:10<00:00, 10.25s/it]\n"
     ]
    },
    {
     "name": "stdout",
     "output_type": "stream",
     "text": [
      "Total page in གསོ་རིག་དཔྱད་རྩོམ།: 1\n",
      "Total error in Page གསོ་རིག་དཔྱད་རྩོམ། : 0\n",
      "\n",
      "\n",
      "Successfully saved: tibetcm_ALL_link_གསོ་རིག་དཔྱད་རྩོམ།.json\n"
     ]
    },
    {
     "name": "stderr",
     "output_type": "stream",
     "text": [
      "100%|██████████| 1/1 [00:06<00:00,  6.55s/it]\n"
     ]
    },
    {
     "name": "stdout",
     "output_type": "stream",
     "text": [
      "Total page in རྒྱུུན་མཁོའི་བོད་སྨན།: 1\n",
      "Total error in Page རྒྱུུན་མཁོའི་བོད་སྨན། : 0\n",
      "\n",
      "\n",
      "Successfully saved: tibetcm_ALL_link_རྒྱུུན་མཁོའི་བོད་སྨན།.json\n"
     ]
    },
    {
     "name": "stderr",
     "output_type": "stream",
     "text": [
      "100%|██████████| 1/1 [00:06<00:00,  6.82s/it]\n"
     ]
    },
    {
     "name": "stdout",
     "output_type": "stream",
     "text": [
      "Total page in སྨན་ཁང་ངོ་སྤྲོད།: 1\n",
      "Total error in Page སྨན་ཁང་ངོ་སྤྲོད། : 0\n",
      "\n",
      "\n",
      "Successfully saved: tibetcm_ALL_link_སྨན་ཁང་ངོ་སྤྲོད།.json\n"
     ]
    },
    {
     "name": "stderr",
     "output_type": "stream",
     "text": [
      "100%|██████████| 1/1 [00:07<00:00,  7.34s/it]\n"
     ]
    },
    {
     "name": "stdout",
     "output_type": "stream",
     "text": [
      "Total page in འཕྲོད་བསྟེན་རྒྱུན་ཤེས།: 1\n",
      "Total error in Page འཕྲོད་བསྟེན་རྒྱུན་ཤེས། : 0\n",
      "\n",
      "\n",
      "Successfully saved: tibetcm_ALL_link_འཕྲོད་བསྟེན་རྒྱུན་ཤེས།.json\n"
     ]
    },
    {
     "name": "stderr",
     "output_type": "stream",
     "text": [
      "100%|██████████| 2/2 [00:13<00:00,  6.74s/it]\n"
     ]
    },
    {
     "name": "stdout",
     "output_type": "stream",
     "text": [
      "Total page in ལོ་རྒྱུས་མི་སྣ།: 2\n",
      "Total error in Page ལོ་རྒྱུས་མི་སྣ། : 0\n",
      "\n",
      "\n",
      "Successfully saved: tibetcm_ALL_link_ལོ་རྒྱུས་མི་སྣ།.json\n"
     ]
    },
    {
     "name": "stderr",
     "output_type": "stream",
     "text": [
      "100%|██████████| 4/4 [00:26<00:00,  6.70s/it]\n"
     ]
    },
    {
     "name": "stdout",
     "output_type": "stream",
     "text": [
      "Total page in དེང་རབས་མི་སྣ།: 4\n",
      "Total error in Page དེང་རབས་མི་སྣ། : 0\n",
      "\n",
      "\n",
      "Successfully saved: tibetcm_ALL_link_དེང་རབས་མི་སྣ།.json\n"
     ]
    },
    {
     "name": "stderr",
     "output_type": "stream",
     "text": [
      "100%|██████████| 1/1 [00:07<00:00,  7.90s/it]\n"
     ]
    },
    {
     "name": "stdout",
     "output_type": "stream",
     "text": [
      "Total page in གསར་འགྱུར་མི་སྣ།: 1\n",
      "Total error in Page གསར་འགྱུར་མི་སྣ། : 0\n",
      "\n",
      "\n",
      "Successfully saved: tibetcm_ALL_link_གསར་འགྱུར་མི་སྣ།.json\n"
     ]
    },
    {
     "name": "stderr",
     "output_type": "stream",
     "text": [
      "100%|██████████| 1/1 [00:06<00:00,  6.84s/it]\n"
     ]
    },
    {
     "name": "stdout",
     "output_type": "stream",
     "text": [
      "Total page in ཚན་རིག་པ་གྲགས་ཅན།: 1\n",
      "Total error in Page ཚན་རིག་པ་གྲགས་ཅན། : 0\n",
      "\n",
      "\n",
      "Successfully saved: tibetcm_ALL_link_ཚན་རིག་པ་གྲགས་ཅན།.json\n"
     ]
    },
    {
     "name": "stderr",
     "output_type": "stream",
     "text": [
      "100%|██████████| 1/1 [00:06<00:00,  6.71s/it]\n"
     ]
    },
    {
     "name": "stdout",
     "output_type": "stream",
     "text": [
      "Total page in ཚོང་དཔོན་གྲགས་ཅན།: 1\n",
      "Total error in Page ཚོང་དཔོན་གྲགས་ཅན། : 0\n",
      "\n",
      "\n",
      "Successfully saved: tibetcm_ALL_link_ཚོང་དཔོན་གྲགས་ཅན།.json\n"
     ]
    },
    {
     "name": "stderr",
     "output_type": "stream",
     "text": [
      "100%|██████████| 3/3 [00:23<00:00,  7.75s/it]\n"
     ]
    },
    {
     "name": "stdout",
     "output_type": "stream",
     "text": [
      "Total page in སློབ་གསོ།: 3\n",
      "Total error in Page སློབ་གསོ། : 0\n",
      "\n",
      "\n",
      "Successfully saved: tibetcm_ALL_link_སློབ་གསོ།.json\n"
     ]
    },
    {
     "name": "stderr",
     "output_type": "stream",
     "text": [
      "100%|██████████| 2/2 [00:16<00:00,  8.07s/it]\n"
     ]
    },
    {
     "name": "stdout",
     "output_type": "stream",
     "text": [
      "Total page in བོད་ཀྱི་གནས་རི།: 2\n",
      "Total error in Page བོད་ཀྱི་གནས་རི། : 0\n",
      "\n",
      "\n",
      "Successfully saved: tibetcm_ALL_link_བོད་ཀྱི་གནས་རི།.json\n"
     ]
    },
    {
     "name": "stderr",
     "output_type": "stream",
     "text": [
      "100%|██████████| 1/1 [00:07<00:00,  7.12s/it]\n"
     ]
    },
    {
     "name": "stdout",
     "output_type": "stream",
     "text": [
      "Total page in བོད་ཀྱི་གཙང་པོ།: 1\n",
      "Total error in Page བོད་ཀྱི་གཙང་པོ། : 0\n",
      "\n",
      "\n",
      "Successfully saved: tibetcm_ALL_link_བོད་ཀྱི་གཙང་པོ།.json\n"
     ]
    },
    {
     "name": "stderr",
     "output_type": "stream",
     "text": [
      "100%|██████████| 1/1 [00:06<00:00,  6.60s/it]\n"
     ]
    },
    {
     "name": "stdout",
     "output_type": "stream",
     "text": [
      "Total page in བོད་ཀྱི་མཚོ་དང་མཚེའུ།: 1\n",
      "Total error in Page བོད་ཀྱི་མཚོ་དང་མཚེའུ། : 0\n",
      "\n",
      "\n",
      "Successfully saved: tibetcm_ALL_link_བོད་ཀྱི་མཚོ་དང་མཚེའུ།.json\n"
     ]
    },
    {
     "name": "stderr",
     "output_type": "stream",
     "text": [
      "100%|██████████| 3/3 [00:21<00:00,  7.17s/it]\n"
     ]
    },
    {
     "name": "stdout",
     "output_type": "stream",
     "text": [
      "Total page in བོད་ཀྱི་གནའ་ཤུལ།: 3\n",
      "Total error in Page བོད་ཀྱི་གནའ་ཤུལ། : 0\n",
      "\n",
      "\n",
      "Successfully saved: tibetcm_ALL_link_བོད་ཀྱི་གནའ་ཤུལ།.json\n"
     ]
    },
    {
     "name": "stderr",
     "output_type": "stream",
     "text": [
      "100%|██████████| 1/1 [00:07<00:00,  7.05s/it]\n"
     ]
    },
    {
     "name": "stdout",
     "output_type": "stream",
     "text": [
      "Total page in གནས་སྐོར་ཟིན་བྲིས།: 1\n",
      "Total error in Page གནས་སྐོར་ཟིན་བྲིས། : 0\n",
      "\n",
      "\n",
      "Successfully saved: tibetcm_ALL_link_གནས་སྐོར་ཟིན་བྲིས།.json\n"
     ]
    },
    {
     "name": "stderr",
     "output_type": "stream",
     "text": [
      "100%|██████████| 1/1 [00:06<00:00,  6.74s/it]\n"
     ]
    },
    {
     "name": "stdout",
     "output_type": "stream",
     "text": [
      "Total page in ནང་བསྟན་སྤྱི་བཤད།: 1\n",
      "Total error in Page ནང་བསྟན་སྤྱི་བཤད། : 0\n",
      "\n",
      "\n",
      "Successfully saved: tibetcm_ALL_link_ནང་བསྟན་སྤྱི་བཤད།.json\n"
     ]
    },
    {
     "name": "stderr",
     "output_type": "stream",
     "text": [
      "100%|██████████| 1/1 [00:06<00:00,  6.83s/it]\n"
     ]
    },
    {
     "name": "stdout",
     "output_type": "stream",
     "text": [
      "Total page in གཡུང་དྲུང་བོན་བསྟན།: 1\n",
      "Total error in Page གཡུང་དྲུང་བོན་བསྟན། : 0\n",
      "\n",
      "\n",
      "Successfully saved: tibetcm_ALL_link_གཡུང་དྲུང་བོན་བསྟན།.json\n"
     ]
    },
    {
     "name": "stderr",
     "output_type": "stream",
     "text": [
      "100%|██████████| 3/3 [00:20<00:00,  6.78s/it]\n"
     ]
    },
    {
     "name": "stdout",
     "output_type": "stream",
     "text": [
      "Total page in དགོན་སྡེའི་ངོ་སྤྲོད།: 3\n",
      "Total error in Page དགོན་སྡེའི་ངོ་སྤྲོད། : 0\n",
      "\n",
      "\n",
      "Successfully saved: tibetcm_ALL_link_དགོན་སྡེའི་ངོ་སྤྲོད།.json\n"
     ]
    },
    {
     "name": "stderr",
     "output_type": "stream",
     "text": [
      "100%|██████████| 1/1 [00:06<00:00,  6.54s/it]\n"
     ]
    },
    {
     "name": "stdout",
     "output_type": "stream",
     "text": [
      "Total page in ཆོས་ལུགས་དུས་ཆེན།: 1\n",
      "Total error in Page ཆོས་ལུགས་དུས་ཆེན། : 0\n",
      "\n",
      "\n",
      "Successfully saved: tibetcm_ALL_link_ཆོས་ལུགས་དུས་ཆེན།.json\n"
     ]
    },
    {
     "name": "stderr",
     "output_type": "stream",
     "text": [
      "100%|██████████| 1/1 [00:06<00:00,  6.34s/it]\n"
     ]
    },
    {
     "name": "stdout",
     "output_type": "stream",
     "text": [
      "Total page in གསུང་རབ།: 1\n",
      "Total error in Page གསུང་རབ། : 0\n",
      "\n",
      "\n",
      "Successfully saved: tibetcm_ALL_link_གསུང་རབ།.json\n"
     ]
    },
    {
     "name": "stderr",
     "output_type": "stream",
     "text": [
      "100%|██████████| 1/1 [00:06<00:00,  6.79s/it]\n"
     ]
    },
    {
     "name": "stdout",
     "output_type": "stream",
     "text": [
      "Total page in ཆོས་ལུགས་ཞིབ་འཇུག: 1\n",
      "Total error in Page ཆོས་ལུགས་ཞིབ་འཇུག : 0\n",
      "\n",
      "\n",
      "Successfully saved: tibetcm_ALL_link_ཆོས་ལུགས་ཞིབ་འཇུག.json\n"
     ]
    },
    {
     "name": "stderr",
     "output_type": "stream",
     "text": [
      "100%|██████████| 1/1 [00:07<00:00,  7.06s/it]\n"
     ]
    },
    {
     "name": "stdout",
     "output_type": "stream",
     "text": [
      "Total page in ཆོས་ལུགས་གཞན་དག: 1\n",
      "Total error in Page ཆོས་ལུགས་གཞན་དག : 0\n",
      "\n",
      "\n",
      "Successfully saved: tibetcm_ALL_link_ཆོས་ལུགས་གཞན་དག.json\n"
     ]
    },
    {
     "name": "stderr",
     "output_type": "stream",
     "text": [
      "100%|██████████| 1/1 [00:07<00:00,  7.43s/it]\n"
     ]
    },
    {
     "name": "stdout",
     "output_type": "stream",
     "text": [
      "Total page in གནའ་རབས་ཀྱི་ལོ་ཙྰ་བ།: 1\n",
      "Total error in Page གནའ་རབས་ཀྱི་ལོ་ཙྰ་བ། : 0\n",
      "\n",
      "\n",
      "Successfully saved: tibetcm_ALL_link_གནའ་རབས་ཀྱི་ལོ་ཙྰ་བ།.json\n"
     ]
    },
    {
     "name": "stderr",
     "output_type": "stream",
     "text": [
      "100%|██████████| 1/1 [00:07<00:00,  7.12s/it]\n"
     ]
    },
    {
     "name": "stdout",
     "output_type": "stream",
     "text": [
      "Total page in བརྡ་ཆད་གསར་པ།: 1\n",
      "Total error in Page བརྡ་ཆད་གསར་པ། : 0\n",
      "\n",
      "\n",
      "Successfully saved: tibetcm_ALL_link_བརྡ་ཆད་གསར་པ།.json\n"
     ]
    },
    {
     "name": "stderr",
     "output_type": "stream",
     "text": [
      "100%|██████████| 1/1 [00:06<00:00,  6.83s/it]\n"
     ]
    },
    {
     "name": "stdout",
     "output_type": "stream",
     "text": [
      "Total page in ཕུལ་བྱུང་འགྱུར་བརྩམས།: 1\n",
      "Total error in Page ཕུལ་བྱུང་འགྱུར་བརྩམས། : 0\n",
      "\n",
      "\n",
      "Successfully saved: tibetcm_ALL_link_ཕུལ་བྱུང་འགྱུར་བརྩམས།.json\n"
     ]
    },
    {
     "name": "stderr",
     "output_type": "stream",
     "text": [
      "100%|██████████| 1/1 [00:07<00:00,  7.31s/it]\n"
     ]
    },
    {
     "name": "stdout",
     "output_type": "stream",
     "text": [
      "Total page in ཡིག་བསྒྱུར་དཔྱད་རྩོམ།: 1\n",
      "Total error in Page ཡིག་བསྒྱུར་དཔྱད་རྩོམ། : 0\n",
      "\n",
      "\n",
      "Successfully saved: tibetcm_ALL_link_ཡིག་བསྒྱུར་དཔྱད་རྩོམ།.json\n"
     ]
    },
    {
     "name": "stderr",
     "output_type": "stream",
     "text": [
      "100%|██████████| 1/1 [00:06<00:00,  6.55s/it]\n"
     ]
    },
    {
     "name": "stdout",
     "output_type": "stream",
     "text": [
      "Total page in ཡིག་གཟུགས་ཀྱི་ལོ་རྒྱུས།: 1\n",
      "Total error in Page ཡིག་གཟུགས་ཀྱི་ལོ་རྒྱུས། : 0\n",
      "\n",
      "\n",
      "Successfully saved: tibetcm_ALL_link_ཡིག་གཟུགས་ཀྱི་ལོ་རྒྱུས།.json\n"
     ]
    },
    {
     "name": "stderr",
     "output_type": "stream",
     "text": [
      "100%|██████████| 1/1 [00:06<00:00,  6.35s/it]\n"
     ]
    },
    {
     "name": "stdout",
     "output_type": "stream",
     "text": [
      "Total page in བྲིས་རྒྱུན་སྣ་ཚོགས།: 1\n",
      "Total error in Page བྲིས་རྒྱུན་སྣ་ཚོགས། : 0\n",
      "\n",
      "\n",
      "Successfully saved: tibetcm_ALL_link_བྲིས་རྒྱུན་སྣ་ཚོགས།.json\n"
     ]
    },
    {
     "name": "stderr",
     "output_type": "stream",
     "text": [
      "100%|██████████| 1/1 [00:07<00:00,  7.28s/it]\n"
     ]
    },
    {
     "name": "stdout",
     "output_type": "stream",
     "text": [
      "Total page in བྲིས་རྒྱུན་དར་ཚུལ།: 1\n",
      "Total error in Page བྲིས་རྒྱུན་དར་ཚུལ། : 0\n",
      "\n",
      "\n",
      "Successfully saved: tibetcm_ALL_link_བྲིས་རྒྱུན་དར་ཚུལ།.json\n"
     ]
    },
    {
     "name": "stderr",
     "output_type": "stream",
     "text": [
      "100%|██████████| 1/1 [00:08<00:00,  8.23s/it]\n"
     ]
    },
    {
     "name": "stdout",
     "output_type": "stream",
     "text": [
      "Total page in ཡིག་གཟུགས་རོལ་མྱོང་།: 1\n",
      "Total error in Page ཡིག་གཟུགས་རོལ་མྱོང་། : 0\n",
      "\n",
      "\n",
      "Successfully saved: tibetcm_ALL_link_ཡིག་གཟུགས་རོལ་མྱོང་།.json\n"
     ]
    },
    {
     "name": "stderr",
     "output_type": "stream",
     "text": [
      "100%|██████████| 1/1 [00:06<00:00,  6.60s/it]\n"
     ]
    },
    {
     "name": "stdout",
     "output_type": "stream",
     "text": [
      "Total page in སྣག་ཚ་བཟོ་སྟངས།: 1\n",
      "Total error in Page སྣག་ཚ་བཟོ་སྟངས། : 0\n",
      "\n",
      "\n",
      "Successfully saved: tibetcm_ALL_link_སྣག་ཚ་བཟོ་སྟངས།.json\n"
     ]
    },
    {
     "name": "stderr",
     "output_type": "stream",
     "text": [
      "100%|██████████| 1/1 [00:07<00:00,  7.12s/it]\n"
     ]
    },
    {
     "name": "stdout",
     "output_type": "stream",
     "text": [
      "Total page in སྨྱུ་གུ་གཞོག་སྟངས།: 1\n",
      "Total error in Page སྨྱུ་གུ་གཞོག་སྟངས། : 0\n",
      "\n",
      "\n",
      "Successfully saved: tibetcm_ALL_link_སྨྱུ་གུ་གཞོག་སྟངས།.json\n"
     ]
    },
    {
     "name": "stderr",
     "output_type": "stream",
     "text": [
      "100%|██████████| 1/1 [00:08<00:00,  8.26s/it]\n"
     ]
    },
    {
     "name": "stdout",
     "output_type": "stream",
     "text": [
      "Total page in བྲིས་པ།: 1\n",
      "Total error in Page བྲིས་པ། : 0\n",
      "\n",
      "\n",
      "Successfully saved: tibetcm_ALL_link_བྲིས་པ།.json\n"
     ]
    },
    {
     "name": "stderr",
     "output_type": "stream",
     "text": [
      "100%|██████████| 1/1 [00:07<00:00,  7.31s/it]\n"
     ]
    },
    {
     "name": "stdout",
     "output_type": "stream",
     "text": [
      "Total page in ཁོར་ཡུག་སྲུང་སྐྱོང་།: 1\n",
      "Total error in Page ཁོར་ཡུག་སྲུང་སྐྱོང་། : 0\n",
      "\n",
      "\n",
      "Successfully saved: tibetcm_ALL_link_ཁོར་ཡུག་སྲུང་སྐྱོང་།.json\n"
     ]
    },
    {
     "name": "stderr",
     "output_type": "stream",
     "text": [
      "100%|██████████| 1/1 [00:06<00:00,  6.81s/it]\n"
     ]
    },
    {
     "name": "stdout",
     "output_type": "stream",
     "text": [
      "Total page in སྲུང་སྐྱོང་རྒྱུན་ཤེས།: 1\n",
      "Total error in Page སྲུང་སྐྱོང་རྒྱུན་ཤེས། : 0\n",
      "\n",
      "\n",
      "Successfully saved: tibetcm_ALL_link_སྲུང་སྐྱོང་རྒྱུན་ཤེས།.json\n"
     ]
    },
    {
     "name": "stderr",
     "output_type": "stream",
     "text": [
      "100%|██████████| 1/1 [00:07<00:00,  7.09s/it]\n"
     ]
    },
    {
     "name": "stdout",
     "output_type": "stream",
     "text": [
      "Total page in རྩི་ཤིང་དང་སྲོག་ཆགས།: 1\n",
      "Total error in Page རྩི་ཤིང་དང་སྲོག་ཆགས། : 0\n",
      "\n",
      "\n",
      "Successfully saved: tibetcm_ALL_link_རྩི་ཤིང་དང་སྲོག་ཆགས།.json\n"
     ]
    },
    {
     "name": "stderr",
     "output_type": "stream",
     "text": [
      "100%|██████████| 1/1 [00:06<00:00,  6.58s/it]\n"
     ]
    },
    {
     "name": "stdout",
     "output_type": "stream",
     "text": [
      "Total page in སྲུང་སྐྱོང་ས་ཁུལ།: 1\n",
      "Total error in Page སྲུང་སྐྱོང་ས་ཁུལ། : 0\n",
      "\n",
      "\n",
      "Successfully saved: tibetcm_ALL_link_སྲུང་སྐྱོང་ས་ཁུལ།.json\n"
     ]
    },
    {
     "name": "stderr",
     "output_type": "stream",
     "text": [
      "100%|██████████| 1/1 [00:06<00:00,  6.58s/it]\n"
     ]
    },
    {
     "name": "stdout",
     "output_type": "stream",
     "text": [
      "Total page in སྲིད་ཇུས་ཁྲིམས་སྲོལ།: 1\n",
      "Total error in Page སྲིད་ཇུས་ཁྲིམས་སྲོལ། : 0\n",
      "\n",
      "\n",
      "Successfully saved: tibetcm_ALL_link_སྲིད་ཇུས་ཁྲིམས་སྲོལ།.json\n"
     ]
    },
    {
     "name": "stderr",
     "output_type": "stream",
     "text": [
      "100%|██████████| 1/1 [00:07<00:00,  7.33s/it]\n"
     ]
    },
    {
     "name": "stdout",
     "output_type": "stream",
     "text": [
      "Total page in དམངས་གླུ།: 1\n",
      "Total error in Page དམངས་གླུ། : 0\n",
      "\n",
      "\n",
      "Successfully saved: tibetcm_ALL_link_དམངས་གླུ།.json\n"
     ]
    },
    {
     "name": "stderr",
     "output_type": "stream",
     "text": [
      "100%|██████████| 1/1 [00:06<00:00,  6.85s/it]\n"
     ]
    },
    {
     "name": "stdout",
     "output_type": "stream",
     "text": [
      "Total page in མགུར་གླུ།: 1\n",
      "Total error in Page མགུར་གླུ། : 0\n",
      "\n",
      "\n",
      "Successfully saved: tibetcm_ALL_link_མགུར་གླུ།.json\n"
     ]
    },
    {
     "name": "stderr",
     "output_type": "stream",
     "text": [
      "100%|██████████| 1/1 [00:07<00:00,  7.05s/it]\n"
     ]
    },
    {
     "name": "stdout",
     "output_type": "stream",
     "text": [
      "Total page in ལ་གཞས།: 1\n",
      "Total error in Page ལ་གཞས། : 0\n",
      "\n",
      "\n",
      "Successfully saved: tibetcm_ALL_link_ལ་གཞས།.json\n"
     ]
    },
    {
     "name": "stderr",
     "output_type": "stream",
     "text": [
      "100%|██████████| 1/1 [00:06<00:00,  6.57s/it]\n"
     ]
    },
    {
     "name": "stdout",
     "output_type": "stream",
     "text": [
      "Total page in འཆམ།: 1\n",
      "Total error in Page འཆམ། : 0\n",
      "\n",
      "\n",
      "Successfully saved: tibetcm_ALL_link_འཆམ།.json\n"
     ]
    },
    {
     "name": "stderr",
     "output_type": "stream",
     "text": [
      "100%|██████████| 1/1 [00:06<00:00,  6.83s/it]\n"
     ]
    },
    {
     "name": "stdout",
     "output_type": "stream",
     "text": [
      "Total page in ཟློས་གར།: 1\n",
      "Total error in Page ཟློས་གར། : 0\n",
      "\n",
      "\n",
      "Successfully saved: tibetcm_ALL_link_ཟློས་གར།.json\n"
     ]
    },
    {
     "name": "stderr",
     "output_type": "stream",
     "text": [
      "100%|██████████| 1/1 [00:06<00:00,  6.30s/it]\n"
     ]
    },
    {
     "name": "stdout",
     "output_type": "stream",
     "text": [
      "Total page in རས་པ།: 1\n",
      "Total error in Page རས་པ། : 0\n",
      "\n",
      "\n",
      "Successfully saved: tibetcm_ALL_link_རས་པ།.json\n"
     ]
    },
    {
     "name": "stderr",
     "output_type": "stream",
     "text": [
      "100%|██████████| 1/1 [00:07<00:00,  7.35s/it]\n"
     ]
    },
    {
     "name": "stdout",
     "output_type": "stream",
     "text": [
      "Total page in གླུ་བ་དང་གླུ་མ་གྲགས་ཅན།: 1\n",
      "Total error in Page གླུ་བ་དང་གླུ་མ་གྲགས་ཅན། : 0\n",
      "\n",
      "\n",
      "Successfully saved: tibetcm_ALL_link_གླུ་བ་དང་གླུ་མ་གྲགས་ཅན།.json\n"
     ]
    },
    {
     "name": "stderr",
     "output_type": "stream",
     "text": [
      "100%|██████████| 1/1 [00:06<00:00,  6.67s/it]\n"
     ]
    },
    {
     "name": "stdout",
     "output_type": "stream",
     "text": [
      "Total page in གར་མཁན་གྲགས་ཅན།: 1\n",
      "Total error in Page གར་མཁན་གྲགས་ཅན། : 0\n",
      "\n",
      "\n",
      "Successfully saved: tibetcm_ALL_link_གར་མཁན་གྲགས་ཅན།.json\n"
     ]
    },
    {
     "name": "stderr",
     "output_type": "stream",
     "text": [
      "100%|██████████| 2/2 [00:14<00:00,  7.19s/it]\n"
     ]
    },
    {
     "name": "stdout",
     "output_type": "stream",
     "text": [
      "Total page in བྲོ་གཞས།: 2\n",
      "Total error in Page བྲོ་གཞས། : 0\n",
      "\n",
      "\n",
      "Successfully saved: tibetcm_ALL_link_བྲོ་གཞས།.json\n"
     ]
    },
    {
     "name": "stderr",
     "output_type": "stream",
     "text": [
      "100%|██████████| 1/1 [00:07<00:00,  7.11s/it]\n"
     ]
    },
    {
     "name": "stdout",
     "output_type": "stream",
     "text": [
      "Total page in བཀྲ་ཤིས་པའི་རི་མོ།: 1\n",
      "Total error in Page བཀྲ་ཤིས་པའི་རི་མོ། : 0\n",
      "\n",
      "\n",
      "Successfully saved: tibetcm_ALL_link_བཀྲ་ཤིས་པའི་རི་མོ།.json\n"
     ]
    },
    {
     "name": "stderr",
     "output_type": "stream",
     "text": [
      "100%|██████████| 1/1 [00:07<00:00,  7.10s/it]\n"
     ]
    },
    {
     "name": "stdout",
     "output_type": "stream",
     "text": [
      "Total page in མི་སྣ།: 1\n",
      "Total error in Page མི་སྣ། : 0\n",
      "\n",
      "\n",
      "Successfully saved: tibetcm_ALL_link_མི་སྣ།.json\n"
     ]
    },
    {
     "name": "stderr",
     "output_type": "stream",
     "text": [
      "100%|██████████| 1/1 [00:07<00:00,  7.41s/it]\n"
     ]
    },
    {
     "name": "stdout",
     "output_type": "stream",
     "text": [
      "Total page in ཆོས་ཆས།: 1\n",
      "Total error in Page ཆོས་ཆས། : 0\n",
      "\n",
      "\n",
      "Successfully saved: tibetcm_ALL_link_ཆོས་ཆས།.json\n"
     ]
    },
    {
     "name": "stderr",
     "output_type": "stream",
     "text": [
      "100%|██████████| 3/3 [00:21<00:00,  7.27s/it]\n"
     ]
    },
    {
     "name": "stdout",
     "output_type": "stream",
     "text": [
      "Total page in རང་བྱུང་ཡུལ་ལྗོངས།: 3\n",
      "Total error in Page རང་བྱུང་ཡུལ་ལྗོངས། : 0\n",
      "\n",
      "\n",
      "Successfully saved: tibetcm_ALL_link_རང་བྱུང་ཡུལ་ལྗོངས།.json\n"
     ]
    },
    {
     "name": "stderr",
     "output_type": "stream",
     "text": [
      "100%|██████████| 1/1 [00:06<00:00,  6.57s/it]\n"
     ]
    },
    {
     "name": "stdout",
     "output_type": "stream",
     "text": [
      "Total page in བཟོ་བཀོད།: 1\n",
      "Total error in Page བཟོ་བཀོད། : 0\n",
      "\n",
      "\n",
      "Successfully saved: tibetcm_ALL_link_བཟོ་བཀོད།.json\n"
     ]
    },
    {
     "name": "stderr",
     "output_type": "stream",
     "text": [
      "100%|██████████| 1/1 [00:06<00:00,  6.60s/it]\n"
     ]
    },
    {
     "name": "stdout",
     "output_type": "stream",
     "text": [
      "Total page in སྲོག་ཆགས།: 1\n",
      "Total error in Page སྲོག་ཆགས། : 0\n",
      "\n",
      "\n",
      "Successfully saved: tibetcm_ALL_link_སྲོག་ཆགས།.json\n"
     ]
    },
    {
     "name": "stderr",
     "output_type": "stream",
     "text": [
      "100%|██████████| 1/1 [00:06<00:00,  6.83s/it]\n"
     ]
    },
    {
     "name": "stdout",
     "output_type": "stream",
     "text": [
      "Total page in སྐྱེ་དངོས།: 1\n",
      "Total error in Page སྐྱེ་དངོས། : 0\n",
      "\n",
      "\n",
      "Successfully saved: tibetcm_ALL_link_སྐྱེ་དངོས།.json\n"
     ]
    },
    {
     "name": "stderr",
     "output_type": "stream",
     "text": [
      "100%|██████████| 1/1 [00:08<00:00,  8.00s/it]\n"
     ]
    },
    {
     "name": "stdout",
     "output_type": "stream",
     "text": [
      "Total page in གོས་རྒྱན།: 1\n",
      "Total error in Page གོས་རྒྱན། : 0\n",
      "\n",
      "\n",
      "Successfully saved: tibetcm_ALL_link_གོས་རྒྱན།.json\n"
     ]
    },
    {
     "name": "stderr",
     "output_type": "stream",
     "text": [
      "100%|██████████| 1/1 [00:07<00:00,  7.03s/it]\n"
     ]
    },
    {
     "name": "stdout",
     "output_type": "stream",
     "text": [
      "Total page in ཐོན་སྐྱེད་ཡོ་བྱད།: 1\n",
      "Total error in Page ཐོན་སྐྱེད་ཡོ་བྱད། : 0\n",
      "\n",
      "\n",
      "Successfully saved: tibetcm_ALL_link_ཐོན་སྐྱེད་ཡོ་བྱད།.json\n"
     ]
    },
    {
     "name": "stderr",
     "output_type": "stream",
     "text": [
      "100%|██████████| 1/1 [00:07<00:00,  7.09s/it]\n"
     ]
    },
    {
     "name": "stdout",
     "output_type": "stream",
     "text": [
      "Total page in ཡུལ་སྲོལ་གོམས་གཤིས།: 1\n",
      "Total error in Page ཡུལ་སྲོལ་གོམས་གཤིས། : 0\n",
      "\n",
      "\n",
      "Successfully saved: tibetcm_ALL_link_ཡུལ་སྲོལ་གོམས་གཤིས།.json\n"
     ]
    },
    {
     "name": "stderr",
     "output_type": "stream",
     "text": [
      "100%|██████████| 1/1 [00:06<00:00,  6.62s/it]\n"
     ]
    },
    {
     "name": "stdout",
     "output_type": "stream",
     "text": [
      "Total page in རྒྱལ་ཁབ་བཅའ་ཁྲིམས།: 1\n",
      "Total error in Page རྒྱལ་ཁབ་བཅའ་ཁྲིམས། : 0\n",
      "\n",
      "\n",
      "Successfully saved: tibetcm_ALL_link_རྒྱལ་ཁབ་བཅའ་ཁྲིམས།.json\n"
     ]
    },
    {
     "name": "stderr",
     "output_type": "stream",
     "text": [
      "100%|██████████| 1/1 [00:07<00:00,  7.09s/it]\n"
     ]
    },
    {
     "name": "stdout",
     "output_type": "stream",
     "text": [
      "Total page in བོད་སྲོལ་གནའ་ཁྲིམས: 1\n",
      "Total error in Page བོད་སྲོལ་གནའ་ཁྲིམས : 0\n",
      "\n",
      "\n",
      "Successfully saved: tibetcm_ALL_link_བོད་སྲོལ་གནའ་ཁྲིམས.json\n"
     ]
    },
    {
     "name": "stderr",
     "output_type": "stream",
     "text": [
      "100%|██████████| 1/1 [00:07<00:00,  7.18s/it]\n"
     ]
    },
    {
     "name": "stdout",
     "output_type": "stream",
     "text": [
      "Total page in སྲིད་ཇུས་འགྲེལ་བཤད།: 1\n",
      "Total error in Page སྲིད་ཇུས་འགྲེལ་བཤད། : 0\n",
      "\n",
      "\n",
      "Successfully saved: tibetcm_ALL_link_སྲིད་ཇུས་འགྲེལ་བཤད།.json\n"
     ]
    },
    {
     "name": "stderr",
     "output_type": "stream",
     "text": [
      "100%|██████████| 3/3 [00:20<00:00,  6.84s/it]\n"
     ]
    },
    {
     "name": "stdout",
     "output_type": "stream",
     "text": [
      "Total page in བོད་ཀྱི་བཟའ་བཏུང་།: 3\n",
      "Total error in Page བོད་ཀྱི་བཟའ་བཏུང་། : 0\n",
      "\n",
      "\n",
      "Successfully saved: tibetcm_ALL_link_བོད་ཀྱི་བཟའ་བཏུང་།.json\n"
     ]
    },
    {
     "name": "stderr",
     "output_type": "stream",
     "text": [
      "100%|██████████| 1/1 [00:06<00:00,  6.90s/it]\n"
     ]
    },
    {
     "name": "stdout",
     "output_type": "stream",
     "text": [
      "Total page in མིང་མཛོད།: 1\n",
      "Total error in Page མིང་མཛོད། : 0\n",
      "\n",
      "\n",
      "Successfully saved: tibetcm_ALL_link_མིང་མཛོད།.json\n"
     ]
    },
    {
     "name": "stderr",
     "output_type": "stream",
     "text": [
      "100%|██████████| 1/1 [00:06<00:00,  6.56s/it]\n"
     ]
    },
    {
     "name": "stdout",
     "output_type": "stream",
     "text": [
      "Total page in དེང་རབས་གླུ་དབྱངས།: 1\n",
      "Total error in Page དེང་རབས་གླུ་དབྱངས། : 0\n",
      "\n",
      "\n",
      "Successfully saved: tibetcm_ALL_link_དེང་རབས་གླུ་དབྱངས།.json\n"
     ]
    },
    {
     "name": "stderr",
     "output_type": "stream",
     "text": [
      "100%|██████████| 1/1 [00:07<00:00,  7.37s/it]\n"
     ]
    },
    {
     "name": "stdout",
     "output_type": "stream",
     "text": [
      "Total page in གསར་བྱུང་འོད་སྡེར།: 1\n",
      "Total error in Page གསར་བྱུང་འོད་སྡེར། : 0\n",
      "\n",
      "\n",
      "Successfully saved: tibetcm_ALL_link_གསར་བྱུང་འོད་སྡེར།.json\n"
     ]
    },
    {
     "name": "stderr",
     "output_type": "stream",
     "text": [
      "100%|██████████| 1/1 [00:07<00:00,  7.06s/it]\n"
     ]
    },
    {
     "name": "stdout",
     "output_type": "stream",
     "text": [
      "Total page in རོལ་ཆས་ངོ་སྤྲོད།: 1\n",
      "Total error in Page རོལ་ཆས་ངོ་སྤྲོད། : 0\n",
      "\n",
      "\n",
      "Successfully saved: tibetcm_ALL_link_རོལ་ཆས་ངོ་སྤྲོད།.json\n"
     ]
    },
    {
     "name": "stderr",
     "output_type": "stream",
     "text": [
      "100%|██████████| 1/1 [00:06<00:00,  6.56s/it]\n"
     ]
    },
    {
     "name": "stdout",
     "output_type": "stream",
     "text": [
      "Total page in གླུ་བ་གླུ་མ།: 1\n",
      "Total error in Page གླུ་བ་གླུ་མ། : 0\n",
      "\n",
      "\n",
      "Successfully saved: tibetcm_ALL_link_གླུ་བ་གླུ་མ།.json\n"
     ]
    },
    {
     "name": "stderr",
     "output_type": "stream",
     "text": [
      "100%|██████████| 1/1 [00:06<00:00,  6.56s/it]\n"
     ]
    },
    {
     "name": "stdout",
     "output_type": "stream",
     "text": [
      "Total page in རོལ་མོའི་གླེང་སྟེགས།: 1\n",
      "Total error in Page རོལ་མོའི་གླེང་སྟེགས། : 0\n",
      "\n",
      "\n",
      "Successfully saved: tibetcm_ALL_link_རོལ་མོའི་གླེང་སྟེགས།.json\n"
     ]
    },
    {
     "name": "stderr",
     "output_type": "stream",
     "text": [
      "100%|██████████| 7/7 [00:50<00:00,  7.26s/it]"
     ]
    },
    {
     "name": "stdout",
     "output_type": "stream",
     "text": [
      "Total page in འཚོ་བའི་ཤེས་བྱ།: 7\n",
      "Total error in Page འཚོ་བའི་ཤེས་བྱ། : 0\n",
      "\n",
      "\n",
      "Successfully saved: tibetcm_ALL_link_འཚོ་བའི་ཤེས་བྱ།.json\n"
     ]
    },
    {
     "name": "stderr",
     "output_type": "stream",
     "text": [
      "\n"
     ]
    }
   ],
   "source": [
    "for index, row in sample_df.iterrows():\n",
    "    # print(row)\n",
    "    name_of_cate = row[\"name_of_cate\"]\n",
    "    original_url = row[\"original_url\"]\n",
    "    Last_page_link = row[\"Last_page_link\"]\n",
    "    list_page_no = row[\"list_page_no\"]\n",
    "\n",
    "    total_page = list_page_no\n",
    "    custom_url= original_url + \"index\"\n",
    "    base_url = \"http://ti.kbcmw.com\"\n",
    "    article_tag = name_of_cate\n",
    "    key_code = \"Page \" + article_tag + \" \"\n",
    "    all_links = loop_article_page(total_page, custom_url, key_code, base_url)\n",
    "    \n",
    "    print(f\"Total page in {article_tag}: {len(all_links['Data'])}\")\n",
    "    check_error_in_links(all_links['Data'], key_code, print_each_error=True)\n",
    "\n",
    "    # Saving the final file\n",
    "    path = \"./data/links/\"\n",
    "    file_name = f\"tibetcm_ALL_link_{article_tag}.json\"\n",
    "    save_json(path, file_name, all_links['Data'])\n",
    "    "
   ]
  },
  {
   "cell_type": "code",
   "execution_count": null,
   "id": "9f5b009e-18db-4c0c-a6e8-85796931a527",
   "metadata": {},
   "outputs": [],
   "source": []
  },
  {
   "cell_type": "code",
   "execution_count": null,
   "id": "07dbafae-8dae-43e7-909f-2eb631654e88",
   "metadata": {},
   "outputs": [],
   "source": []
  }
 ],
 "metadata": {
  "kernelspec": {
   "display_name": "Python 3 (ipykernel)",
   "language": "python",
   "name": "python3"
  },
  "language_info": {
   "codemirror_mode": {
    "name": "ipython",
    "version": 3
   },
   "file_extension": ".py",
   "mimetype": "text/x-python",
   "name": "python",
   "nbconvert_exporter": "python",
   "pygments_lexer": "ipython3",
   "version": "3.10.13"
  }
 },
 "nbformat": 4,
 "nbformat_minor": 5
}
