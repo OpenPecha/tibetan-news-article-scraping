{
 "cells": [
  {
   "cell_type": "code",
   "execution_count": 2,
   "metadata": {},
   "outputs": [],
   "source": [
    "import requests\n",
    "from bs4 import BeautifulSoup\n",
    "from typing import Dict, Any, List\n",
    "import time\n",
    "from tqdm import tqdm \n",
    "import json"
   ]
  },
  {
   "cell_type": "code",
   "execution_count": 1,
   "metadata": {},
   "outputs": [],
   "source": [
    "import VOATibetan_utils"
   ]
  },
  {
   "cell_type": "code",
   "execution_count": null,
   "metadata": {},
   "outputs": [],
   "source": []
  },
  {
   "cell_type": "code",
   "execution_count": null,
   "metadata": {},
   "outputs": [],
   "source": []
  },
  {
   "cell_type": "markdown",
   "metadata": {},
   "source": [
    "## with the help of VOATibetan_utils.py we can use two main function\n",
    "1. **extract_all_VOATibetan_article_links: Extracts all article links from a given VOATibetan_utils webpage.**\n",
    "\n",
    "\n",
    "------------\n",
    "-----------\n",
    "------------\n",
    "------------\n",
    "------------"
   ]
  },
  {
   "cell_type": "code",
   "execution_count": 39,
   "metadata": {},
   "outputs": [],
   "source": [
    "def loop_article_page(total_page, custom_url, key_code):\n",
    "    \"\"\"\n",
    "    \n",
    "    \"\"\"\n",
    "    return_file = {\n",
    "        \"Data\": [],\n",
    "        \"message\": \"success\",\n",
    "        \"response\": 200\n",
    "    }\n",
    "    All_url_links = {}\n",
    "    \n",
    "    try:\n",
    "        for i in tqdm(range(0, total_page)):\n",
    "            final_url = custom_url + str(i) \n",
    "            found_url_links, load_more = VOATibetan_utils.extract_all_VOATibetan_article_links(final_url)\n",
    "            key = key_code + str(i)\n",
    "            All_url_links[key] = found_url_links\n",
    "            if load_more==False:\n",
    "                print(f\"Final page number: {i}\")\n",
    "                break\n",
    "        return_file[\"Data\"] = All_url_links\n",
    "        # print(final_url)\n",
    "        return return_file\n",
    "    \n",
    "    except Exception as e:\n",
    "        return_file[\"Data\"] = All_url_links\n",
    "        return_file[\"message\"] = e\n",
    "        return_file[\"response\"] = 404\n",
    "        return return_file"
   ]
  },
  {
   "cell_type": "code",
   "execution_count": 14,
   "metadata": {},
   "outputs": [],
   "source": [
    "def check_error_in_links(All_url_link, page_code, print_each_error=False):\n",
    "    \"\"\"\n",
    "    \n",
    "    \"\"\"\n",
    "\n",
    "    error_counter = 0\n",
    "    for page_id in range(1, len(All_url_link)):\n",
    "        page_key = page_code + str(page_id)\n",
    "        try:\n",
    "            All_url_link.get(page_key)\n",
    "            if  All_url_link.get(page_key)[\"Response\"]!= 200:\n",
    "                error_counter += 1\n",
    "                if print_each_error:\n",
    "                    print(page_key, All_url_link.get(page_key)[\"message\"])\n",
    "        except Exception as e:\n",
    "            print(page_key, e)\n",
    "\n",
    "    print(f\"Total error in {page_code}: {error_counter}\")"
   ]
  },
  {
   "cell_type": "code",
   "execution_count": 15,
   "metadata": {},
   "outputs": [],
   "source": [
    "def save_json(path, file_name, data):\n",
    "    \"\"\"\n",
    "    \n",
    "    \"\"\"\n",
    "    with open(path+file_name, \"w\") as outfile:\n",
    "        json.dump(data, outfile, indent=4)\n",
    "        print(f\"Successfully saved: {file_name}\")"
   ]
  },
  {
   "cell_type": "markdown",
   "metadata": {},
   "source": [
    "------------\n",
    "------------\n",
    "------------\n",
    "\n",
    "\n",
    "\n",
    "# A. Extracting all Article links from བོད། \n",
    "- Base url: https://www.voatibetan.com/z/2253?p=0\n",
    "- Custom URL: https://www.voatibetan.com/z/2253?p= + str(i) \n",
    "- Total page: unknown"
   ]
  },
  {
   "cell_type": "code",
   "execution_count": 6,
   "metadata": {},
   "outputs": [
    {
     "name": "stdout",
     "output_type": "stream",
     "text": [
      "Page code: Page བོད། \n"
     ]
    },
    {
     "name": "stderr",
     "output_type": "stream",
     "text": [
      "  0%|          | 0/1000 [00:00<?, ?it/s]"
     ]
    },
    {
     "name": "stderr",
     "output_type": "stream",
     "text": [
      " 10%|█         | 100/1000 [01:35<14:18,  1.05it/s]"
     ]
    },
    {
     "name": "stdout",
     "output_type": "stream",
     "text": [
      "Final page number: 100\n"
     ]
    },
    {
     "name": "stderr",
     "output_type": "stream",
     "text": [
      "\n"
     ]
    }
   ],
   "source": [
    "total_page = 1000 # for custom check\n",
    "custom_url= \"https://www.voatibetan.com/z/2253?p=\"\n",
    "article_tag = \"བོད།\"\n",
    "key_code = \"Page \" + article_tag + \" \"\n",
    "print(f\"Page code: {key_code}\")\n",
    "\n",
    "all_links = loop_article_page(total_page, custom_url, key_code)\n"
   ]
  },
  {
   "cell_type": "code",
   "execution_count": 7,
   "metadata": {},
   "outputs": [
    {
     "name": "stdout",
     "output_type": "stream",
     "text": [
      "Total page in བོད།: 101\n"
     ]
    }
   ],
   "source": [
    "print(f\"Total page in {article_tag}: {len(all_links['Data'])}\")"
   ]
  },
  {
   "cell_type": "code",
   "execution_count": 8,
   "metadata": {},
   "outputs": [
    {
     "name": "stdout",
     "output_type": "stream",
     "text": [
      "Total error in Page བོད། : 0\n"
     ]
    }
   ],
   "source": [
    "check_error_in_links(all_links['Data'], key_code, print_each_error=True)"
   ]
  },
  {
   "cell_type": "code",
   "execution_count": 9,
   "metadata": {},
   "outputs": [
    {
     "name": "stdout",
     "output_type": "stream",
     "text": [
      "Successfully saved: VOATibetan_ALL_link_བོད།.json\n"
     ]
    }
   ],
   "source": [
    "# Saving the final file\n",
    "path = \"./data/\"\n",
    "file_name = f\"VOATibetan_ALL_link_{article_tag}.json\"\n",
    "save_json(path, file_name, all_links['Data'])"
   ]
  },
  {
   "cell_type": "code",
   "execution_count": null,
   "metadata": {},
   "outputs": [],
   "source": []
  },
  {
   "cell_type": "code",
   "execution_count": null,
   "metadata": {},
   "outputs": [],
   "source": []
  },
  {
   "cell_type": "markdown",
   "metadata": {},
   "source": [
    "------------\n",
    "------------\n",
    "------------\n",
    "\n",
    "\n",
    "\n",
    "# B. Extracting all Article links from ཨ་རི། \n",
    "- Base url: https://www.voatibetan.com/z/2252?p=1\n",
    "- Custom URL: https://www.voatibetan.com/z/2252?p= + str(i) \n",
    "- Total page: unknown"
   ]
  },
  {
   "cell_type": "code",
   "execution_count": 21,
   "metadata": {},
   "outputs": [
    {
     "name": "stdout",
     "output_type": "stream",
     "text": [
      "Page code: Page ཨ་རི། \n"
     ]
    },
    {
     "name": "stderr",
     "output_type": "stream",
     "text": [
      " 10%|█         | 100/1000 [01:22<12:25,  1.21it/s]"
     ]
    },
    {
     "name": "stdout",
     "output_type": "stream",
     "text": [
      "Final page number: 100\n"
     ]
    },
    {
     "name": "stderr",
     "output_type": "stream",
     "text": [
      "\n"
     ]
    }
   ],
   "source": [
    "total_page = 1000 # for custom check\n",
    "custom_url= \"https://www.voatibetan.com/z/2252?p=\"\n",
    "article_tag = \"ཨ་རི།\"\n",
    "key_code = \"Page \" + article_tag + \" \"\n",
    "print(f\"Page code: {key_code}\")\n",
    "\n",
    "all_links = loop_article_page(total_page, custom_url, key_code)\n"
   ]
  },
  {
   "cell_type": "code",
   "execution_count": 22,
   "metadata": {},
   "outputs": [
    {
     "name": "stdout",
     "output_type": "stream",
     "text": [
      "Total page in ཨ་རི།: 101\n"
     ]
    }
   ],
   "source": [
    "print(f\"Total page in {article_tag}: {len(all_links['Data'])}\")"
   ]
  },
  {
   "cell_type": "code",
   "execution_count": 23,
   "metadata": {},
   "outputs": [
    {
     "name": "stdout",
     "output_type": "stream",
     "text": [
      "Total error in Page ཨ་རི། : 0\n"
     ]
    }
   ],
   "source": [
    "check_error_in_links(all_links['Data'], key_code, print_each_error=True)"
   ]
  },
  {
   "cell_type": "code",
   "execution_count": 24,
   "metadata": {},
   "outputs": [
    {
     "name": "stdout",
     "output_type": "stream",
     "text": [
      "Successfully saved: VOATibetan_ALL_link_ཨ་རི།.json\n"
     ]
    }
   ],
   "source": [
    "# Saving the final file\n",
    "path = \"./data/\"\n",
    "file_name = f\"VOATibetan_ALL_link_{article_tag}.json\"\n",
    "save_json(path, file_name, all_links['Data'])"
   ]
  },
  {
   "cell_type": "code",
   "execution_count": null,
   "metadata": {},
   "outputs": [],
   "source": []
  },
  {
   "cell_type": "code",
   "execution_count": null,
   "metadata": {},
   "outputs": [],
   "source": []
  },
  {
   "cell_type": "markdown",
   "metadata": {},
   "source": [
    "------------\n",
    "------------\n",
    "------------\n",
    "\n",
    "\n",
    "\n",
    "# C. Extracting all Article links from རྒྱ་ནག \n",
    "- Base url: https://www.voatibetan.com/z/2244?p=1\n",
    "- Custom URL: https://www.voatibetan.com/z/2244?p= + str(i) \n",
    "- Total page: unknown"
   ]
  },
  {
   "cell_type": "code",
   "execution_count": 25,
   "metadata": {},
   "outputs": [
    {
     "name": "stdout",
     "output_type": "stream",
     "text": [
      "Page code: Page རྒྱ་ནག \n"
     ]
    },
    {
     "name": "stderr",
     "output_type": "stream",
     "text": [
      " 10%|█         | 100/1000 [01:25<12:53,  1.16it/s]"
     ]
    },
    {
     "name": "stdout",
     "output_type": "stream",
     "text": [
      "Final page number: 100\n"
     ]
    },
    {
     "name": "stderr",
     "output_type": "stream",
     "text": [
      "\n"
     ]
    }
   ],
   "source": [
    "total_page = 1000 # for custom check\n",
    "custom_url= \"https://www.voatibetan.com/z/2244?p=\"\n",
    "article_tag = \"རྒྱ་ནག\"\n",
    "key_code = \"Page \" + article_tag + \" \"\n",
    "print(f\"Page code: {key_code}\")\n",
    "\n",
    "all_links = loop_article_page(total_page, custom_url, key_code)\n"
   ]
  },
  {
   "cell_type": "code",
   "execution_count": 26,
   "metadata": {},
   "outputs": [
    {
     "name": "stdout",
     "output_type": "stream",
     "text": [
      "Total page in རྒྱ་ནག: 101\n"
     ]
    }
   ],
   "source": [
    "print(f\"Total page in {article_tag}: {len(all_links['Data'])}\")"
   ]
  },
  {
   "cell_type": "code",
   "execution_count": 27,
   "metadata": {},
   "outputs": [
    {
     "name": "stdout",
     "output_type": "stream",
     "text": [
      "Total error in Page རྒྱ་ནག : 0\n"
     ]
    }
   ],
   "source": [
    "check_error_in_links(all_links['Data'], key_code, print_each_error=True)"
   ]
  },
  {
   "cell_type": "code",
   "execution_count": null,
   "metadata": {},
   "outputs": [],
   "source": []
  },
  {
   "cell_type": "code",
   "execution_count": 29,
   "metadata": {},
   "outputs": [
    {
     "name": "stdout",
     "output_type": "stream",
     "text": [
      "Successfully saved: VOATibetan_ALL_link_རྒྱ་ནག.json\n"
     ]
    }
   ],
   "source": [
    "# Saving the final file\n",
    "path = \"./data/\"\n",
    "file_name = f\"VOATibetan_ALL_link_{article_tag}.json\"\n",
    "save_json(path, file_name, all_links['Data'])"
   ]
  },
  {
   "cell_type": "code",
   "execution_count": null,
   "metadata": {},
   "outputs": [],
   "source": []
  },
  {
   "cell_type": "code",
   "execution_count": null,
   "metadata": {},
   "outputs": [],
   "source": []
  },
  {
   "cell_type": "code",
   "execution_count": null,
   "metadata": {},
   "outputs": [],
   "source": []
  },
  {
   "cell_type": "markdown",
   "metadata": {},
   "source": [
    "------------\n",
    "------------\n",
    "------------\n",
    "\n",
    "\n",
    "\n",
    "# D. Extracting all Article links from འཛམ་གླིང་། \n",
    "- Base url: https://www.voatibetan.com/z/2254?p=1\n",
    "- Custom URL: https://www.voatibetan.com/z/2254?p= + str(i) \n",
    "- Total page: unknown"
   ]
  },
  {
   "cell_type": "code",
   "execution_count": 40,
   "metadata": {},
   "outputs": [
    {
     "name": "stdout",
     "output_type": "stream",
     "text": [
      "Page code: Page འཛམ་གླིང་། \n"
     ]
    },
    {
     "name": "stderr",
     "output_type": "stream",
     "text": [
      " 10%|█         | 100/1000 [01:28<13:20,  1.12it/s]"
     ]
    },
    {
     "name": "stdout",
     "output_type": "stream",
     "text": [
      "Final page number: 100\n"
     ]
    },
    {
     "name": "stderr",
     "output_type": "stream",
     "text": [
      "\n"
     ]
    }
   ],
   "source": [
    "total_page = 1000 # for custom check\n",
    "custom_url= \"https://www.voatibetan.com/z/2254?p=\"\n",
    "article_tag = \"འཛམ་གླིང་།\"\n",
    "key_code = \"Page \" + article_tag + \" \"\n",
    "print(f\"Page code: {key_code}\")\n",
    "\n",
    "all_links = loop_article_page(total_page, custom_url, key_code)\n"
   ]
  },
  {
   "cell_type": "code",
   "execution_count": 41,
   "metadata": {},
   "outputs": [
    {
     "name": "stdout",
     "output_type": "stream",
     "text": [
      "Total page in འཛམ་གླིང་།: 101\n"
     ]
    }
   ],
   "source": [
    "print(f\"Total page in {article_tag}: {len(all_links['Data'])}\")"
   ]
  },
  {
   "cell_type": "code",
   "execution_count": 42,
   "metadata": {},
   "outputs": [
    {
     "name": "stdout",
     "output_type": "stream",
     "text": [
      "Total error in Page འཛམ་གླིང་། : 0\n"
     ]
    }
   ],
   "source": [
    "check_error_in_links(all_links['Data'], key_code, print_each_error=True)"
   ]
  },
  {
   "cell_type": "code",
   "execution_count": 43,
   "metadata": {},
   "outputs": [
    {
     "name": "stdout",
     "output_type": "stream",
     "text": [
      "Successfully saved: VOATibetan_ALL_link_འཛམ་གླིང་།.json\n"
     ]
    }
   ],
   "source": [
    "# Saving the final file\n",
    "path = \"./data/\"\n",
    "file_name = f\"VOATibetan_ALL_link_{article_tag}.json\"\n",
    "save_json(path, file_name, all_links['Data'])"
   ]
  },
  {
   "cell_type": "code",
   "execution_count": null,
   "metadata": {},
   "outputs": [],
   "source": []
  },
  {
   "cell_type": "code",
   "execution_count": 37,
   "metadata": {},
   "outputs": [
    {
     "data": {
      "text/plain": [
       "{'Data': {'Page འཛམ་གླིང་། 0': {'Links': [None,\n",
       "    'https://www.voatibetan.com/a/we-re-going-nowhere---thai-opposition-figure-says-court-interventions-must-stop/7750908.html',\n",
       "    'https://www.voatibetan.com/a/japan-s-governing-party-to-choose-its-head-who-will-also-be-the-new-pm-on-sept-27-/7750903.html',\n",
       "    'https://www.voatibetan.com/a/mongolia-excludes-russia-china-pipeline-from-its-national-action-program/7750893.html',\n",
       "    'https://www.voatibetan.com/a/ukrainian-president-says-the-push-into-russia-s-kursk-region-is-to-create-a-buffer-zone-there/7749423.html',\n",
       "    'https://www.voatibetan.com/a/indian-medics-refuse-to-end-protests-over-doctor-s-rape-and-murder-/7749404.html',\n",
       "    'https://www.voatibetan.com/a/ukraine-claims-destruction-of-second-bridge-in-russia-s-kursk-region-/7748214.html'],\n",
       "   'Message': 'Success',\n",
       "   'Response': 200,\n",
       "   'source_url': 'https://www.voatibetan.com/z/2254?p=0'}},\n",
       " 'message': AttributeError(\"'ValueError' object has no attribute 'response'\"),\n",
       " 'response': 404}"
      ]
     },
     "execution_count": 37,
     "metadata": {},
     "output_type": "execute_result"
    }
   ],
   "source": [
    "all_links"
   ]
  },
  {
   "cell_type": "code",
   "execution_count": null,
   "metadata": {},
   "outputs": [],
   "source": []
  }
 ],
 "metadata": {
  "kernelspec": {
   "display_name": "base",
   "language": "python",
   "name": "python3"
  },
  "language_info": {
   "codemirror_mode": {
    "name": "ipython",
    "version": 3
   },
   "file_extension": ".py",
   "mimetype": "text/x-python",
   "name": "python",
   "nbconvert_exporter": "python",
   "pygments_lexer": "ipython3",
   "version": "3.9.13"
  }
 },
 "nbformat": 4,
 "nbformat_minor": 2
}
