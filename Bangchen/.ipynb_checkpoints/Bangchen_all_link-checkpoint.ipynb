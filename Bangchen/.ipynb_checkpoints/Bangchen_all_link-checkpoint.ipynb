{
 "cells": [
  {
   "cell_type": "code",
   "execution_count": 12,
   "metadata": {},
   "outputs": [],
   "source": [
    "import requests\n",
    "from bs4 import BeautifulSoup\n",
    "from typing import Dict, Any, List\n",
    "import time\n",
    "from tqdm import tqdm \n",
    "import json"
   ]
  },
  {
   "cell_type": "code",
   "execution_count": 13,
   "metadata": {},
   "outputs": [],
   "source": [
    "import bangchen_utils"
   ]
  },
  {
   "cell_type": "code",
   "execution_count": null,
   "metadata": {},
   "outputs": [],
   "source": []
  },
  {
   "cell_type": "code",
   "execution_count": null,
   "metadata": {},
   "outputs": [],
   "source": []
  },
  {
   "cell_type": "markdown",
   "metadata": {},
   "source": [
    "## with the help of bangchen_utils we can use two main function\n",
    "1. **extract_all_Bangchen_article_links: Extracts all article links from a given Bangchen webpage.**\n",
    "\n",
    "\n",
    "------------\n",
    "-----------\n",
    "------------\n",
    "------------\n",
    "------------"
   ]
  },
  {
   "cell_type": "code",
   "execution_count": 14,
   "metadata": {},
   "outputs": [],
   "source": [
    "def loop_article_page(total_page, custom_url, key_code):\n",
    "    \"\"\"\n",
    "    \n",
    "    \"\"\"\n",
    "    return_file = {\n",
    "        \"Data\": [],\n",
    "        \"message\": \"success\",\n",
    "        \"response\": 200\n",
    "    }\n",
    "    All_url_links = {}\n",
    "    \n",
    "    try:\n",
    "        for i in tqdm(range(1, total_page+1)):\n",
    "            final_url = custom_url + str(i) + \"/\"\n",
    "            found_url_links = bangchen_utils.extract_all_Bangchen_article_links(final_url)\n",
    "            key = key_code + str(i)\n",
    "            All_url_links[key] = found_url_links\n",
    "        return_file[\"Data\"] = All_url_links\n",
    "        return return_file\n",
    "    \n",
    "    except Exception as e:\n",
    "        return_file[\"Data\"] = All_url_links\n",
    "        return_file[\"message\"] = e\n",
    "        return_file[\"response\"] = 404\n",
    "        return return_file"
   ]
  },
  {
   "cell_type": "code",
   "execution_count": 15,
   "metadata": {},
   "outputs": [],
   "source": [
    "def check_error_in_links(All_url_link, page_code, print_each_error=False):\n",
    "    \"\"\"\n",
    "    \n",
    "    \"\"\"\n",
    "\n",
    "    error_counter = 0\n",
    "    for page_id in range(1, len(All_url_link)):\n",
    "        page_key = page_code + str(page_id)\n",
    "        try:\n",
    "            All_url_link.get(page_key)\n",
    "            if  All_url_link.get(page_key)[\"Response\"]!= 200:\n",
    "                error_counter += 1\n",
    "                if print_each_error:\n",
    "                    print(page_key, All_url_link.get(page_key)[\"message\"])\n",
    "        except Exception as e:\n",
    "            print(page_key, e)\n",
    "\n",
    "    print(f\"Total error in {page_code}: {error_counter}\")"
   ]
  },
  {
   "cell_type": "code",
   "execution_count": 16,
   "metadata": {},
   "outputs": [],
   "source": [
    "def save_json(path, file_name, data):\n",
    "    \"\"\"\n",
    "    \n",
    "    \"\"\"\n",
    "    with open(path+file_name, \"w\") as outfile:\n",
    "        json.dump(data, outfile, indent=4)\n",
    "        print(f\"Successfully saved: {file_name}\")"
   ]
  },
  {
   "cell_type": "markdown",
   "metadata": {},
   "source": [
    "------------\n",
    "------------\n",
    "------------\n",
    "\n",
    "\n",
    "\n",
    "# A. Extracting all Article links from བཙན་བྱོལ། \n",
    "- Base url: https://bangchen.tibetexpress.net/category/news/exile/page/3/\n",
    "- Custom URL: https://bangchen.tibetexpress.net/category/news/exile/page/ + str(i) + \"/\"\n",
    "- Total page:543"
   ]
  },
  {
   "cell_type": "code",
   "execution_count": 6,
   "metadata": {},
   "outputs": [
    {
     "name": "stdout",
     "output_type": "stream",
     "text": [
      "Page code: Page བཙན་བྱོལ། \n"
     ]
    },
    {
     "name": "stderr",
     "output_type": "stream",
     "text": [
      "100%|█████████████████████████████████████████| 543/543 [20:51<00:00,  2.31s/it]\n"
     ]
    }
   ],
   "source": [
    "total_page = 543 + 1\n",
    "custom_url= \"https://bangchen.tibetexpress.net/category/news/exile/page/\"\n",
    "article_tag = \"བཙན་བྱོལ།\"\n",
    "key_code = \"Page \" + article_tag + \" \"\n",
    "print(f\"Page code: {key_code}\")\n",
    "\n",
    "all_links = loop_article_page(total_page, custom_url, key_code)\n"
   ]
  },
  {
   "cell_type": "code",
   "execution_count": 7,
   "metadata": {},
   "outputs": [
    {
     "name": "stdout",
     "output_type": "stream",
     "text": [
      "Total page in བཙན་བྱོལ།: 543\n"
     ]
    }
   ],
   "source": [
    "print(f\"Total page in {article_tag}: {len(all_links['Data'])}\")"
   ]
  },
  {
   "cell_type": "code",
   "execution_count": 8,
   "metadata": {},
   "outputs": [
    {
     "name": "stdout",
     "output_type": "stream",
     "text": [
      "Page བཙན་བྱོལ། 531 'message'\n",
      "Total error in Page བཙན་བྱོལ། : 1\n"
     ]
    }
   ],
   "source": [
    "check_error_in_links(all_links['Data'], key_code, print_each_error=True)"
   ]
  },
  {
   "cell_type": "code",
   "execution_count": 9,
   "metadata": {},
   "outputs": [
    {
     "name": "stdout",
     "output_type": "stream",
     "text": [
      "Successfully saved: Bangchoe_ALL_link_བཙན་བྱོལ།.json\n"
     ]
    }
   ],
   "source": [
    "# Saving the final file\n",
    "path = \"./data/\"\n",
    "file_name = f\"Bangchoe_ALL_link_{article_tag}.json\"\n",
    "save_json(path, file_name, all_links['Data'])"
   ]
  },
  {
   "cell_type": "code",
   "execution_count": null,
   "metadata": {},
   "outputs": [],
   "source": []
  },
  {
   "cell_type": "markdown",
   "metadata": {},
   "source": [
    "------------\n",
    "------------\n",
    "------------\n",
    "\n",
    "\n",
    "\n",
    "# B. Extracting all Article links from བོད།\n",
    "- Base url: https://bangchen.tibetexpress.net/category/news/tibet/page/2/\n",
    "- Custom URL: https://bangchen.tibetexpress.net/category/news/tibet/page/ + str(i) + \"/\"\n",
    "- Total page: 135"
   ]
  },
  {
   "cell_type": "code",
   "execution_count": 16,
   "metadata": {},
   "outputs": [
    {
     "name": "stdout",
     "output_type": "stream",
     "text": [
      "Page code: Page བོད། \n"
     ]
    },
    {
     "name": "stderr",
     "output_type": "stream",
     "text": [
      "100%|█████████████████████████████████████████| 135/135 [04:49<00:00,  2.14s/it]\n"
     ]
    }
   ],
   "source": [
    "total_page = 135 + 1\n",
    "custom_url= \"https://bangchen.tibetexpress.net/category/news/tibet/page/\"\n",
    "article_tag = \"བོད།\"\n",
    "key_code = \"Page \" + article_tag + \" \"\n",
    "print(f\"Page code: {key_code}\")\n",
    "\n",
    "all_links = loop_article_page(total_page, custom_url, key_code)\n"
   ]
  },
  {
   "cell_type": "code",
   "execution_count": 17,
   "metadata": {},
   "outputs": [
    {
     "name": "stdout",
     "output_type": "stream",
     "text": [
      "Total page in བོད།: 135\n"
     ]
    }
   ],
   "source": [
    "print(f\"Total page in {article_tag}: {len(all_links['Data'])}\")"
   ]
  },
  {
   "cell_type": "code",
   "execution_count": 18,
   "metadata": {},
   "outputs": [
    {
     "name": "stdout",
     "output_type": "stream",
     "text": [
      "Total error in Page བོད། : 0\n"
     ]
    }
   ],
   "source": [
    "check_error_in_links(all_links['Data'], key_code, print_each_error=True)"
   ]
  },
  {
   "cell_type": "code",
   "execution_count": 19,
   "metadata": {},
   "outputs": [
    {
     "name": "stdout",
     "output_type": "stream",
     "text": [
      "Successfully saved: Bangchoe_ALL_link_བོད།.json\n"
     ]
    }
   ],
   "source": [
    "# Saving the final file\n",
    "path = \"./data/\"\n",
    "file_name = f\"Bangchoe_ALL_link_{article_tag}.json\"\n",
    "save_json(path, file_name, all_links['Data'])"
   ]
  },
  {
   "cell_type": "code",
   "execution_count": null,
   "metadata": {},
   "outputs": [],
   "source": []
  },
  {
   "cell_type": "markdown",
   "metadata": {},
   "source": [
    "------------\n",
    "------------\n",
    "------------\n",
    "\n",
    "\n",
    "\n",
    "# C. Extracting all Article links from རྒྱལ་སྤྱི།\n",
    "- Base url: https://bangchen.tibetexpress.net/category/news/world/page/3/\n",
    "- Custom URL: https://bangchen.tibetexpress.net/category/news/world/page/ + str(i) + \"/\"\n",
    "- Total page:353"
   ]
  },
  {
   "cell_type": "code",
   "execution_count": 20,
   "metadata": {},
   "outputs": [
    {
     "name": "stdout",
     "output_type": "stream",
     "text": [
      "Page code: Page རྒྱལ་སྤྱི། \n"
     ]
    },
    {
     "name": "stderr",
     "output_type": "stream",
     "text": [
      "100%|█████████████████████████████████████████| 353/353 [12:48<00:00,  2.18s/it]\n"
     ]
    }
   ],
   "source": [
    "total_page = 353 + 1\n",
    "custom_url= \"https://bangchen.tibetexpress.net/category/news/world/page/\"\n",
    "article_tag = \"རྒྱལ་སྤྱི།\"\n",
    "key_code = \"Page \" + article_tag + \" \"\n",
    "print(f\"Page code: {key_code}\")\n",
    "\n",
    "all_links = loop_article_page(total_page, custom_url, key_code)\n"
   ]
  },
  {
   "cell_type": "code",
   "execution_count": 21,
   "metadata": {},
   "outputs": [
    {
     "name": "stdout",
     "output_type": "stream",
     "text": [
      "Total page in རྒྱལ་སྤྱི།: 353\n"
     ]
    }
   ],
   "source": [
    "print(f\"Total page in {article_tag}: {len(all_links['Data'])}\")"
   ]
  },
  {
   "cell_type": "code",
   "execution_count": 22,
   "metadata": {},
   "outputs": [
    {
     "name": "stdout",
     "output_type": "stream",
     "text": [
      "Total error in Page རྒྱལ་སྤྱི། : 0\n"
     ]
    }
   ],
   "source": [
    "check_error_in_links(all_links['Data'], key_code, print_each_error=True)"
   ]
  },
  {
   "cell_type": "code",
   "execution_count": 23,
   "metadata": {},
   "outputs": [
    {
     "name": "stdout",
     "output_type": "stream",
     "text": [
      "Successfully saved: Bangchoe_ALL_link_རྒྱལ་སྤྱི།.json\n"
     ]
    }
   ],
   "source": [
    "# Saving the final file\n",
    "path = \"./data/\"\n",
    "file_name = f\"Bangchoe_ALL_link_{article_tag}.json\"\n",
    "save_json(path, file_name, all_links['Data'])"
   ]
  },
  {
   "cell_type": "code",
   "execution_count": null,
   "metadata": {},
   "outputs": [],
   "source": []
  },
  {
   "cell_type": "code",
   "execution_count": null,
   "metadata": {},
   "outputs": [],
   "source": []
  },
  {
   "cell_type": "markdown",
   "metadata": {},
   "source": [
    "------------\n",
    "------------\n",
    "------------\n",
    "\n",
    "\n",
    "\n",
    "# D. Extracting all Article links from ཆེད་བརྗོད།\n",
    "- Base url: https://bangchen.tibetexpress.net/category/opinions/editoral-column/page/2/\n",
    "- Custom URL: https://bangchen.tibetexpress.net/category/opinions/editoral-column/page/ + str(i) + \"/\"\n",
    "- Total page:73"
   ]
  },
  {
   "cell_type": "code",
   "execution_count": 13,
   "metadata": {},
   "outputs": [
    {
     "name": "stdout",
     "output_type": "stream",
     "text": [
      "Page code: Page ཆེད་བརྗོད། \n"
     ]
    },
    {
     "name": "stderr",
     "output_type": "stream",
     "text": [
      "100%|███████████████████████████████████████████| 73/73 [02:38<00:00,  2.17s/it]\n"
     ]
    }
   ],
   "source": [
    "total_page = 73 + 1\n",
    "custom_url= \"https://bangchen.tibetexpress.net/category/opinions/editoral-column/page/\"\n",
    "article_tag = \"ཆེད་བརྗོད།\"\n",
    "key_code = \"Page \" + article_tag + \" \"\n",
    "print(f\"Page code: {key_code}\")\n",
    "\n",
    "all_links = loop_article_page(total_page, custom_url, key_code)\n"
   ]
  },
  {
   "cell_type": "code",
   "execution_count": 14,
   "metadata": {},
   "outputs": [
    {
     "name": "stdout",
     "output_type": "stream",
     "text": [
      "Total page in ཆེད་བརྗོད།: 73\n"
     ]
    }
   ],
   "source": [
    "print(f\"Total page in {article_tag}: {len(all_links['Data'])}\")"
   ]
  },
  {
   "cell_type": "code",
   "execution_count": 15,
   "metadata": {},
   "outputs": [
    {
     "name": "stdout",
     "output_type": "stream",
     "text": [
      "Total error in Page ཆེད་བརྗོད། : 0\n"
     ]
    }
   ],
   "source": [
    "check_error_in_links(all_links['Data'], key_code, print_each_error=True)"
   ]
  },
  {
   "cell_type": "code",
   "execution_count": 16,
   "metadata": {},
   "outputs": [
    {
     "name": "stdout",
     "output_type": "stream",
     "text": [
      "Successfully saved: Bangchoe_ALL_link_ཆེད་བརྗོད།.json\n"
     ]
    }
   ],
   "source": [
    "# Saving the final file\n",
    "path = \"./data/\"\n",
    "file_name = f\"Bangchoe_ALL_link_{article_tag}.json\"\n",
    "save_json(path, file_name, all_links['Data'])"
   ]
  },
  {
   "cell_type": "code",
   "execution_count": null,
   "metadata": {},
   "outputs": [],
   "source": []
  },
  {
   "cell_type": "code",
   "execution_count": null,
   "metadata": {},
   "outputs": [],
   "source": []
  },
  {
   "cell_type": "markdown",
   "metadata": {},
   "source": [
    "------------\n",
    "------------\n",
    "------------\n",
    "\n",
    "\n",
    "\n",
    "# E. Extracting all Article links from དཔེ་དེབ་ངོ་སྤྲོད།\n",
    "- Base url: https://bangchen.tibetexpress.net/category/opinions/%e0%bd%91%e0%bd%94%e0%bd%ba%e0%bc%8b%e0%bd%91%e0%bd%ba%e0%bd%96%e0%bc%8b%e0%bd%84%e0%bd%bc%e0%bc%8b%e0%bd%a6%e0%be%a4%e0%be%b2%e0%bd%bc%e0%bd%91%e0%bc%8d-opinions/page/2/\n",
    "- Custom URL: https://bangchen.tibetexpress.net/category/opinions/%e0%bd%91%e0%bd%94%e0%bd%ba%e0%bc%8b%e0%bd%91%e0%bd%ba%e0%bd%96%e0%bc%8b%e0%bd%84%e0%bd%bc%e0%bc%8b%e0%bd%a6%e0%be%a4%e0%be%b2%e0%bd%bc%e0%bd%91%e0%bc%8d-opinions/page/ + str(i) + \"/\"\n",
    "- Total page:3"
   ]
  },
  {
   "cell_type": "code",
   "execution_count": 18,
   "metadata": {},
   "outputs": [
    {
     "name": "stdout",
     "output_type": "stream",
     "text": [
      "Page code: Page དཔེ་དེབ་ངོ་སྤྲོད། \n"
     ]
    },
    {
     "name": "stderr",
     "output_type": "stream",
     "text": [
      "100%|█████████████████████████████████████████████| 3/3 [00:08<00:00,  2.67s/it]\n"
     ]
    }
   ],
   "source": [
    "total_page = 3 + 1\n",
    "custom_url= \"https://bangchen.tibetexpress.net/category/opinions/%e0%bd%91%e0%bd%94%e0%bd%ba%e0%bc%8b%e0%bd%91%e0%bd%ba%e0%bd%96%e0%bc%8b%e0%bd%84%e0%bd%bc%e0%bc%8b%e0%bd%a6%e0%be%a4%e0%be%b2%e0%bd%bc%e0%bd%91%e0%bc%8d-opinions/page/\"\n",
    "article_tag = \"དཔེ་དེབ་ངོ་སྤྲོད།\"\n",
    "key_code = \"Page \" + article_tag + \" \"\n",
    "print(f\"Page code: {key_code}\")\n",
    "\n",
    "all_links = loop_article_page(total_page, custom_url, key_code)\n"
   ]
  },
  {
   "cell_type": "code",
   "execution_count": 19,
   "metadata": {},
   "outputs": [
    {
     "name": "stdout",
     "output_type": "stream",
     "text": [
      "Total page in དཔེ་དེབ་ངོ་སྤྲོད།: 3\n"
     ]
    }
   ],
   "source": [
    "print(f\"Total page in {article_tag}: {len(all_links['Data'])}\")"
   ]
  },
  {
   "cell_type": "code",
   "execution_count": 20,
   "metadata": {},
   "outputs": [
    {
     "name": "stdout",
     "output_type": "stream",
     "text": [
      "Total error in Page དཔེ་དེབ་ངོ་སྤྲོད། : 0\n"
     ]
    }
   ],
   "source": [
    "check_error_in_links(all_links['Data'], key_code, print_each_error=True)"
   ]
  },
  {
   "cell_type": "code",
   "execution_count": 21,
   "metadata": {},
   "outputs": [
    {
     "name": "stdout",
     "output_type": "stream",
     "text": [
      "Successfully saved: Bangchoe_ALL_link_དཔེ་དེབ་ངོ་སྤྲོད།.json\n"
     ]
    }
   ],
   "source": [
    "# Saving the final file\n",
    "path = \"./data/\"\n",
    "file_name = f\"Bangchoe_ALL_link_{article_tag}.json\"\n",
    "save_json(path, file_name, all_links['Data'])"
   ]
  },
  {
   "cell_type": "code",
   "execution_count": null,
   "metadata": {},
   "outputs": [],
   "source": []
  },
  {
   "cell_type": "code",
   "execution_count": null,
   "metadata": {},
   "outputs": [],
   "source": []
  },
  {
   "cell_type": "markdown",
   "metadata": {},
   "source": [
    "------------\n",
    "------------\n",
    "------------\n",
    "\n",
    "\n",
    "\n",
    "# F. Extracting all Article links from བཅར་འདྲི།\n",
    "- Base url: https://bangchen.tibetexpress.net/category/opinions/interviews/page/2/\n",
    "- Custom URL: https://bangchen.tibetexpress.net/category/opinions/interviews/page/ + str(i) + \"/\"\n",
    "- Total page:23"
   ]
  },
  {
   "cell_type": "code",
   "execution_count": 22,
   "metadata": {},
   "outputs": [
    {
     "name": "stdout",
     "output_type": "stream",
     "text": [
      "Page code: Page བཅར་འདྲི། \n"
     ]
    },
    {
     "name": "stderr",
     "output_type": "stream",
     "text": [
      "100%|███████████████████████████████████████████| 23/23 [00:52<00:00,  2.29s/it]\n"
     ]
    }
   ],
   "source": [
    "total_page = 23 + 1\n",
    "custom_url= \"https://bangchen.tibetexpress.net/category/opinions/interviews/page/\"\n",
    "article_tag = \"བཅར་འདྲི།\"\n",
    "key_code = \"Page \" + article_tag + \" \"\n",
    "print(f\"Page code: {key_code}\")\n",
    "\n",
    "all_links = loop_article_page(total_page, custom_url, key_code)\n"
   ]
  },
  {
   "cell_type": "code",
   "execution_count": 23,
   "metadata": {},
   "outputs": [
    {
     "name": "stdout",
     "output_type": "stream",
     "text": [
      "Total page in བཅར་འདྲི།: 23\n"
     ]
    }
   ],
   "source": [
    "print(f\"Total page in {article_tag}: {len(all_links['Data'])}\")"
   ]
  },
  {
   "cell_type": "code",
   "execution_count": 24,
   "metadata": {},
   "outputs": [
    {
     "name": "stdout",
     "output_type": "stream",
     "text": [
      "Total error in Page བཅར་འདྲི། : 0\n"
     ]
    }
   ],
   "source": [
    "check_error_in_links(all_links['Data'], key_code, print_each_error=True)"
   ]
  },
  {
   "cell_type": "code",
   "execution_count": 25,
   "metadata": {},
   "outputs": [
    {
     "name": "stdout",
     "output_type": "stream",
     "text": [
      "Successfully saved: Bangchoe_ALL_link_བཅར་འདྲི།.json\n"
     ]
    }
   ],
   "source": [
    "# Saving the final file\n",
    "path = \"./data/\"\n",
    "file_name = f\"Bangchoe_ALL_link_{article_tag}.json\"\n",
    "save_json(path, file_name, all_links['Data'])"
   ]
  },
  {
   "cell_type": "code",
   "execution_count": null,
   "metadata": {},
   "outputs": [],
   "source": []
  },
  {
   "cell_type": "code",
   "execution_count": null,
   "metadata": {},
   "outputs": [],
   "source": []
  },
  {
   "cell_type": "markdown",
   "metadata": {},
   "source": [
    "------------\n",
    "------------\n",
    "------------\n",
    "\n",
    "\n",
    "\n",
    "# G. Extracting all Article links from མི་རབས་གསར་པའི་གླེང་སྟེཌ།\n",
    "- Base url: https://bangchen.tibetexpress.net/category/opinions/forum-for-new-generation/page/3/\n",
    "- Custom URL: https://bangchen.tibetexpress.net/category/opinions/forum-for-new-generation/page/ + str(i) + \"/\"\n",
    "- Total page:3"
   ]
  },
  {
   "cell_type": "code",
   "execution_count": 26,
   "metadata": {},
   "outputs": [
    {
     "name": "stdout",
     "output_type": "stream",
     "text": [
      "Page code: Page མི་རབས་གསར་པའི་གླེང་སྟེཌ། \n"
     ]
    },
    {
     "name": "stderr",
     "output_type": "stream",
     "text": [
      "100%|█████████████████████████████████████████████| 3/3 [00:10<00:00,  3.59s/it]\n"
     ]
    }
   ],
   "source": [
    "total_page = 3 + 1\n",
    "custom_url= \"https://bangchen.tibetexpress.net/category/opinions/forum-for-new-generation/page/\"\n",
    "article_tag = \"མི་རབས་གསར་པའི་གླེང་སྟེཌ།\"\n",
    "key_code = \"Page \" + article_tag + \" \"\n",
    "print(f\"Page code: {key_code}\")\n",
    "\n",
    "all_links = loop_article_page(total_page, custom_url, key_code)\n"
   ]
  },
  {
   "cell_type": "code",
   "execution_count": 27,
   "metadata": {},
   "outputs": [
    {
     "name": "stdout",
     "output_type": "stream",
     "text": [
      "Total page in མི་རབས་གསར་པའི་གླེང་སྟེཌ།: 3\n"
     ]
    }
   ],
   "source": [
    "print(f\"Total page in {article_tag}: {len(all_links['Data'])}\")"
   ]
  },
  {
   "cell_type": "code",
   "execution_count": 28,
   "metadata": {},
   "outputs": [
    {
     "name": "stdout",
     "output_type": "stream",
     "text": [
      "Total error in Page མི་རབས་གསར་པའི་གླེང་སྟེཌ། : 0\n"
     ]
    }
   ],
   "source": [
    "check_error_in_links(all_links['Data'], key_code, print_each_error=True)"
   ]
  },
  {
   "cell_type": "code",
   "execution_count": 29,
   "metadata": {},
   "outputs": [
    {
     "name": "stdout",
     "output_type": "stream",
     "text": [
      "Successfully saved: Bangchoe_ALL_link_མི་རབས་གསར་པའི་གླེང་སྟེཌ།.json\n"
     ]
    }
   ],
   "source": [
    "# Saving the final file\n",
    "path = \"./data/\"\n",
    "file_name = f\"Bangchoe_ALL_link_{article_tag}.json\"\n",
    "save_json(path, file_name, all_links['Data'])"
   ]
  },
  {
   "cell_type": "code",
   "execution_count": null,
   "metadata": {},
   "outputs": [],
   "source": []
  },
  {
   "cell_type": "code",
   "execution_count": null,
   "metadata": {},
   "outputs": [],
   "source": []
  },
  {
   "cell_type": "markdown",
   "metadata": {},
   "source": [
    "------------\n",
    "------------\n",
    "------------\n",
    "\n",
    "\n",
    "\n",
    "# H. Extracting all Article links from རྩོམ་ཡིག\n",
    "- Base url: https://bangchen.tibetexpress.net/category/opinions/literary-compositions/page/2/\n",
    "- Custom URL: https://bangchen.tibetexpress.net/category/opinions/literary-compositions/page/ + str(i) + \"/\"\n",
    "- Total page:115"
   ]
  },
  {
   "cell_type": "code",
   "execution_count": 30,
   "metadata": {},
   "outputs": [
    {
     "name": "stdout",
     "output_type": "stream",
     "text": [
      "Page code: Page རྩོམ་ཡིག \n"
     ]
    },
    {
     "name": "stderr",
     "output_type": "stream",
     "text": [
      "100%|█████████████████████████████████████████| 115/115 [04:21<00:00,  2.27s/it]\n"
     ]
    }
   ],
   "source": [
    "total_page = 115 + 1\n",
    "custom_url= \"https://bangchen.tibetexpress.net/category/opinions/literary-compositions/page/\"\n",
    "article_tag = \"རྩོམ་ཡིག\"\n",
    "key_code = \"Page \" + article_tag + \" \"\n",
    "print(f\"Page code: {key_code}\")\n",
    "\n",
    "all_links = loop_article_page(total_page, custom_url, key_code)\n"
   ]
  },
  {
   "cell_type": "code",
   "execution_count": 31,
   "metadata": {},
   "outputs": [
    {
     "name": "stdout",
     "output_type": "stream",
     "text": [
      "Total page in རྩོམ་ཡིག: 115\n"
     ]
    }
   ],
   "source": [
    "print(f\"Total page in {article_tag}: {len(all_links['Data'])}\")"
   ]
  },
  {
   "cell_type": "code",
   "execution_count": 32,
   "metadata": {},
   "outputs": [
    {
     "name": "stdout",
     "output_type": "stream",
     "text": [
      "Total error in Page རྩོམ་ཡིག : 0\n"
     ]
    }
   ],
   "source": [
    "check_error_in_links(all_links['Data'], key_code, print_each_error=True)"
   ]
  },
  {
   "cell_type": "code",
   "execution_count": 33,
   "metadata": {},
   "outputs": [
    {
     "name": "stdout",
     "output_type": "stream",
     "text": [
      "Successfully saved: Bangchoe_ALL_link_རྩོམ་ཡིག.json\n"
     ]
    }
   ],
   "source": [
    "# Saving the final file\n",
    "path = \"./data/\"\n",
    "file_name = f\"Bangchoe_ALL_link_{article_tag}.json\"\n",
    "save_json(path, file_name, all_links['Data'])"
   ]
  },
  {
   "cell_type": "code",
   "execution_count": null,
   "metadata": {},
   "outputs": [],
   "source": []
  },
  {
   "cell_type": "code",
   "execution_count": null,
   "metadata": {},
   "outputs": [],
   "source": []
  },
  {
   "cell_type": "markdown",
   "metadata": {},
   "source": [
    "------------\n",
    "------------\n",
    "------------\n",
    "\n",
    "\n",
    "\n",
    "# I. Extracting all Article links from བོད་ཀྱི་ལོ་རྒྱུས།\n",
    "- Base url: https://bangchen.tibetexpress.net/category/tibetan-history/page/4/\n",
    "- Custom URL: https://bangchen.tibetexpress.net/category/tibetan-history/page/ + str(i) + \"/\"\n",
    "- Total page:4"
   ]
  },
  {
   "cell_type": "code",
   "execution_count": 34,
   "metadata": {},
   "outputs": [
    {
     "name": "stdout",
     "output_type": "stream",
     "text": [
      "Page code: Page བོད་ཀྱི་ལོ་རྒྱུས། \n"
     ]
    },
    {
     "name": "stderr",
     "output_type": "stream",
     "text": [
      "100%|█████████████████████████████████████████████| 4/4 [00:08<00:00,  2.04s/it]\n"
     ]
    }
   ],
   "source": [
    "total_page = 4 + 1\n",
    "custom_url= \"https://bangchen.tibetexpress.net/category/tibetan-history/page/\"\n",
    "article_tag = \"བོད་ཀྱི་ལོ་རྒྱུས།\"\n",
    "key_code = \"Page \" + article_tag + \" \"\n",
    "print(f\"Page code: {key_code}\")\n",
    "\n",
    "all_links = loop_article_page(total_page, custom_url, key_code)\n"
   ]
  },
  {
   "cell_type": "code",
   "execution_count": 35,
   "metadata": {},
   "outputs": [
    {
     "name": "stdout",
     "output_type": "stream",
     "text": [
      "Total page in བོད་ཀྱི་ལོ་རྒྱུས།: 4\n"
     ]
    }
   ],
   "source": [
    "print(f\"Total page in {article_tag}: {len(all_links['Data'])}\")"
   ]
  },
  {
   "cell_type": "code",
   "execution_count": 36,
   "metadata": {},
   "outputs": [
    {
     "name": "stdout",
     "output_type": "stream",
     "text": [
      "Total error in Page བོད་ཀྱི་ལོ་རྒྱུས། : 0\n"
     ]
    }
   ],
   "source": [
    "check_error_in_links(all_links['Data'], key_code, print_each_error=True)"
   ]
  },
  {
   "cell_type": "code",
   "execution_count": 37,
   "metadata": {},
   "outputs": [
    {
     "name": "stdout",
     "output_type": "stream",
     "text": [
      "Successfully saved: Bangchoe_ALL_link_བོད་ཀྱི་ལོ་རྒྱུས།.json\n"
     ]
    }
   ],
   "source": [
    "# Saving the final file\n",
    "path = \"./data/\"\n",
    "file_name = f\"Bangchoe_ALL_link_{article_tag}.json\"\n",
    "save_json(path, file_name, all_links['Data'])"
   ]
  },
  {
   "cell_type": "code",
   "execution_count": null,
   "metadata": {},
   "outputs": [],
   "source": []
  },
  {
   "cell_type": "code",
   "execution_count": null,
   "metadata": {},
   "outputs": [],
   "source": []
  },
  {
   "cell_type": "markdown",
   "metadata": {},
   "source": [
    "------------\n",
    "------------\n",
    "------------\n",
    "\n",
    "\n",
    "\n",
    "# J. Extracting all Article links from ནང་ཆོས་ངོ་སྤྲོད།\n",
    "- Base url: https://bangchen.tibetexpress.net/category/buddhisim/page/2/\n",
    "- Custom URL: https://bangchen.tibetexpress.net/category/buddhisim/page/ + str(i) + \"/\"\n",
    "- Total page:5"
   ]
  },
  {
   "cell_type": "code",
   "execution_count": 38,
   "metadata": {},
   "outputs": [
    {
     "name": "stdout",
     "output_type": "stream",
     "text": [
      "Page code: Page ནང་ཆོས་ངོ་སྤྲོད། \n"
     ]
    },
    {
     "name": "stderr",
     "output_type": "stream",
     "text": [
      "100%|█████████████████████████████████████████████| 5/5 [00:10<00:00,  2.05s/it]\n"
     ]
    }
   ],
   "source": [
    "total_page = 5 + 1\n",
    "custom_url= \"https://bangchen.tibetexpress.net/category/buddhisim/page/\"\n",
    "article_tag = \"ནང་ཆོས་ངོ་སྤྲོད།\"\n",
    "key_code = \"Page \" + article_tag + \" \"\n",
    "print(f\"Page code: {key_code}\")\n",
    "\n",
    "all_links = loop_article_page(total_page, custom_url, key_code)\n"
   ]
  },
  {
   "cell_type": "code",
   "execution_count": 39,
   "metadata": {},
   "outputs": [
    {
     "name": "stdout",
     "output_type": "stream",
     "text": [
      "Total page in ནང་ཆོས་ངོ་སྤྲོད།: 5\n"
     ]
    }
   ],
   "source": [
    "print(f\"Total page in {article_tag}: {len(all_links['Data'])}\")"
   ]
  },
  {
   "cell_type": "code",
   "execution_count": 40,
   "metadata": {},
   "outputs": [
    {
     "name": "stdout",
     "output_type": "stream",
     "text": [
      "Total error in Page ནང་ཆོས་ངོ་སྤྲོད། : 0\n"
     ]
    }
   ],
   "source": [
    "check_error_in_links(all_links['Data'], key_code, print_each_error=True)"
   ]
  },
  {
   "cell_type": "code",
   "execution_count": 41,
   "metadata": {},
   "outputs": [
    {
     "name": "stdout",
     "output_type": "stream",
     "text": [
      "Successfully saved: Bangchoe_ALL_link_ནང་ཆོས་ངོ་སྤྲོད།.json\n"
     ]
    }
   ],
   "source": [
    "# Saving the final file\n",
    "path = \"./data/\"\n",
    "file_name = f\"Bangchoe_ALL_link_{article_tag}.json\"\n",
    "save_json(path, file_name, all_links['Data'])"
   ]
  },
  {
   "cell_type": "code",
   "execution_count": null,
   "metadata": {},
   "outputs": [],
   "source": []
  },
  {
   "cell_type": "code",
   "execution_count": null,
   "metadata": {},
   "outputs": [],
   "source": []
  },
  {
   "cell_type": "markdown",
   "metadata": {},
   "source": [
    "------------\n",
    "------------\n",
    "------------\n",
    "\n",
    "\n",
    "\n",
    "# K. Extracting all Article links from བོད་ཀྱི་སྐད་ཡིག\n",
    "- Base url: https://bangchen.tibetexpress.net/category/tibetan-language/page/1\n",
    "- Custom URL: https://bangchen.tibetexpress.net/category/tibetan-language/ + str(i) + \"/\"\n",
    "- Total page:1"
   ]
  },
  {
   "cell_type": "code",
   "execution_count": 46,
   "metadata": {},
   "outputs": [
    {
     "name": "stdout",
     "output_type": "stream",
     "text": [
      "Page code: Page བོད་ཀྱི་སྐད་ཡིག \n"
     ]
    },
    {
     "name": "stderr",
     "output_type": "stream",
     "text": [
      "100%|█████████████████████████████████████████████| 2/2 [00:03<00:00,  1.80s/it]\n"
     ]
    }
   ],
   "source": [
    "total_page = 1 + 1\n",
    "custom_url= \"https://bangchen.tibetexpress.net/category/tibetan-language/\"\n",
    "article_tag = \"བོད་ཀྱི་སྐད་ཡིག\"\n",
    "key_code = \"Page \" + article_tag + \" \"\n",
    "print(f\"Page code: {key_code}\")\n",
    "\n",
    "all_links = loop_article_page(total_page, custom_url, key_code)\n"
   ]
  },
  {
   "cell_type": "code",
   "execution_count": 47,
   "metadata": {},
   "outputs": [
    {
     "name": "stdout",
     "output_type": "stream",
     "text": [
      "Total page in བོད་ཀྱི་སྐད་ཡིག: 2\n"
     ]
    }
   ],
   "source": [
    "print(f\"Total page in {article_tag}: {len(all_links['Data'])}\")"
   ]
  },
  {
   "cell_type": "code",
   "execution_count": 48,
   "metadata": {},
   "outputs": [
    {
     "name": "stdout",
     "output_type": "stream",
     "text": [
      "Page བོད་ཀྱི་སྐད་ཡིག 1 'message'\n",
      "Total error in Page བོད་ཀྱི་སྐད་ཡིག : 1\n"
     ]
    }
   ],
   "source": [
    "check_error_in_links(all_links['Data'], key_code, print_each_error=True)"
   ]
  },
  {
   "cell_type": "code",
   "execution_count": 49,
   "metadata": {},
   "outputs": [
    {
     "name": "stdout",
     "output_type": "stream",
     "text": [
      "Successfully saved: Bangchoe_ALL_link_བོད་ཀྱི་སྐད་ཡིག.json\n"
     ]
    }
   ],
   "source": [
    "# Saving the final file\n",
    "path = \"./data/\"\n",
    "file_name = f\"Bangchoe_ALL_link_{article_tag}.json\"\n",
    "save_json(path, file_name, all_links['Data'])"
   ]
  },
  {
   "cell_type": "code",
   "execution_count": null,
   "metadata": {},
   "outputs": [],
   "source": []
  },
  {
   "cell_type": "code",
   "execution_count": null,
   "metadata": {},
   "outputs": [],
   "source": []
  },
  {
   "cell_type": "markdown",
   "metadata": {},
   "source": [
    "------------\n",
    "------------\n",
    "------------\n",
    "\n",
    "\n",
    "\n",
    "# L. Extracting all Article links from འཕྲོད་བསྟན་ཤེས་བྱ།\n",
    "- Base url: https://bangchen.tibetexpress.net/category/health-and-hygiene/page/1\n",
    "- Custom URL: https://bangchen.tibetexpress.net/category/health-and-hygiene/ + str(i) + \"/\"\n",
    "- Total page:1"
   ]
  },
  {
   "cell_type": "code",
   "execution_count": 50,
   "metadata": {},
   "outputs": [
    {
     "name": "stdout",
     "output_type": "stream",
     "text": [
      "Page code: Page འཕྲོད་བསྟན་ཤེས་བྱ། \n"
     ]
    },
    {
     "name": "stderr",
     "output_type": "stream",
     "text": [
      "100%|█████████████████████████████████████████████| 2/2 [00:04<00:00,  2.21s/it]\n"
     ]
    }
   ],
   "source": [
    "total_page = 1 + 1\n",
    "custom_url= \"https://bangchen.tibetexpress.net/category/health-and-hygiene/\"\n",
    "article_tag = \"འཕྲོད་བསྟན་ཤེས་བྱ།\"\n",
    "key_code = \"Page \" + article_tag + \" \"\n",
    "print(f\"Page code: {key_code}\")\n",
    "\n",
    "all_links = loop_article_page(total_page, custom_url, key_code)\n"
   ]
  },
  {
   "cell_type": "code",
   "execution_count": 51,
   "metadata": {},
   "outputs": [
    {
     "name": "stdout",
     "output_type": "stream",
     "text": [
      "Total page in འཕྲོད་བསྟན་ཤེས་བྱ།: 2\n"
     ]
    }
   ],
   "source": [
    "print(f\"Total page in {article_tag}: {len(all_links['Data'])}\")"
   ]
  },
  {
   "cell_type": "code",
   "execution_count": 52,
   "metadata": {},
   "outputs": [
    {
     "name": "stdout",
     "output_type": "stream",
     "text": [
      "Page འཕྲོད་བསྟན་ཤེས་བྱ། 1 'message'\n",
      "Total error in Page འཕྲོད་བསྟན་ཤེས་བྱ། : 1\n"
     ]
    }
   ],
   "source": [
    "check_error_in_links(all_links['Data'], key_code, print_each_error=True)"
   ]
  },
  {
   "cell_type": "code",
   "execution_count": 53,
   "metadata": {},
   "outputs": [
    {
     "name": "stdout",
     "output_type": "stream",
     "text": [
      "Successfully saved: Bangchoe_ALL_link_འཕྲོད་བསྟན་ཤེས་བྱ།.json\n"
     ]
    }
   ],
   "source": [
    "# Saving the final file\n",
    "path = \"./data/\"\n",
    "file_name = f\"Bangchoe_ALL_link_{article_tag}.json\"\n",
    "save_json(path, file_name, all_links['Data'])"
   ]
  },
  {
   "cell_type": "code",
   "execution_count": null,
   "metadata": {},
   "outputs": [],
   "source": []
  },
  {
   "cell_type": "code",
   "execution_count": null,
   "metadata": {},
   "outputs": [],
   "source": []
  },
  {
   "cell_type": "markdown",
   "metadata": {},
   "source": [
    "------------\n",
    "------------\n",
    "------------\n",
    "\n",
    "\n",
    "\n",
    "# M. Extracting all Article links from ལེགས་བཤད་གཅེས་བཏུས།\n",
    "- Base url: https://bangchen.tibetexpress.net/category/elegant-excerpts/page/1\n",
    "- Custom URL: https://bangchen.tibetexpress.net/category/elegant-excerpts/ + str(i) + \"/\"\n",
    "- Total page:1"
   ]
  },
  {
   "cell_type": "code",
   "execution_count": 54,
   "metadata": {},
   "outputs": [
    {
     "name": "stdout",
     "output_type": "stream",
     "text": [
      "Page code: Page ལེགས་བཤད་གཅེས་བཏུས། \n"
     ]
    },
    {
     "name": "stderr",
     "output_type": "stream",
     "text": [
      "100%|█████████████████████████████████████████████| 2/2 [00:03<00:00,  1.98s/it]\n"
     ]
    }
   ],
   "source": [
    "total_page = 1 + 1\n",
    "custom_url= \"https://bangchen.tibetexpress.net/category/elegant-excerpts/\"\n",
    "article_tag = \"ལེགས་བཤད་གཅེས་བཏུས།\"\n",
    "key_code = \"Page \" + article_tag + \" \"\n",
    "print(f\"Page code: {key_code}\")\n",
    "\n",
    "all_links = loop_article_page(total_page, custom_url, key_code)\n"
   ]
  },
  {
   "cell_type": "code",
   "execution_count": 55,
   "metadata": {},
   "outputs": [
    {
     "name": "stdout",
     "output_type": "stream",
     "text": [
      "Total page in ལེགས་བཤད་གཅེས་བཏུས།: 2\n"
     ]
    }
   ],
   "source": [
    "print(f\"Total page in {article_tag}: {len(all_links['Data'])}\")"
   ]
  },
  {
   "cell_type": "code",
   "execution_count": 56,
   "metadata": {},
   "outputs": [
    {
     "name": "stdout",
     "output_type": "stream",
     "text": [
      "Page ལེགས་བཤད་གཅེས་བཏུས། 1 'message'\n",
      "Total error in Page ལེགས་བཤད་གཅེས་བཏུས། : 1\n"
     ]
    }
   ],
   "source": [
    "check_error_in_links(all_links['Data'], key_code, print_each_error=True)"
   ]
  },
  {
   "cell_type": "code",
   "execution_count": 57,
   "metadata": {},
   "outputs": [
    {
     "name": "stdout",
     "output_type": "stream",
     "text": [
      "Successfully saved: Bangchoe_ALL_link_ལེགས་བཤད་གཅེས་བཏུས།.json\n"
     ]
    }
   ],
   "source": [
    "# Saving the final file\n",
    "path = \"./data/\"\n",
    "file_name = f\"Bangchoe_ALL_link_{article_tag}.json\"\n",
    "save_json(path, file_name, all_links['Data'])"
   ]
  },
  {
   "cell_type": "code",
   "execution_count": null,
   "metadata": {},
   "outputs": [],
   "source": []
  },
  {
   "cell_type": "code",
   "execution_count": null,
   "metadata": {},
   "outputs": [],
   "source": []
  }
 ],
 "metadata": {
  "kernelspec": {
   "display_name": "Python 3 (ipykernel)",
   "language": "python",
   "name": "python3"
  },
  "language_info": {
   "codemirror_mode": {
    "name": "ipython",
    "version": 3
   },
   "file_extension": ".py",
   "mimetype": "text/x-python",
   "name": "python",
   "nbconvert_exporter": "python",
   "pygments_lexer": "ipython3",
   "version": "3.12.3"
  }
 },
 "nbformat": 4,
 "nbformat_minor": 4
}
