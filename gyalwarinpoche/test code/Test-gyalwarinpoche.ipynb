{
 "cells": [
  {
   "cell_type": "code",
   "execution_count": 3,
   "metadata": {},
   "outputs": [],
   "source": [
    "import requests\n",
    "from bs4 import BeautifulSoup\n",
    "from typing import Dict, Any, List\n",
    "import time"
   ]
  },
  {
   "cell_type": "code",
   "execution_count": null,
   "metadata": {},
   "outputs": [],
   "source": []
  },
  {
   "cell_type": "code",
   "execution_count": 4,
   "metadata": {},
   "outputs": [],
   "source": [
    "\n",
    "def extract_all_gyalwarinpoche_article_links(url: str) -> Dict[str, Any]:\n",
    "    \"\"\"\n",
    "    Extracts all article links from a given gyalwarinpoche webpage.\n",
    "\n",
    "    Args:\n",
    "    url (str): The URL of the gyalwarinpoche webpage containing article links.\n",
    "\n",
    "    Returns:\n",
    "    Dict[str, Any]: A dictionary containing article links and status details.\n",
    "    \"\"\"\n",
    "    \n",
    "    headers = {\n",
    "        'User-Agent': 'Mozilla/5.0 (Windows NT 10.0; Win64; x64) AppleWebKit/537.36 (KHTML, like Gecko) Chrome/91.0.4472.124 Safari/537.36'\n",
    "    }\n",
    "    final_response = {\n",
    "        \"Links\": [],\n",
    "        \"Message\": \"Success\",\n",
    "        \"Response\": 200,\n",
    "        \"source_url\": url\n",
    "    }\n",
    "    load_more = False\n",
    "    \n",
    "    try:\n",
    "        start_time = time.time()\n",
    "        response = requests.get(url, headers=headers, timeout=(5, 60-5))\n",
    "        response.raise_for_status()\n",
    "        end_time = time.time()\n",
    "        if end_time - start_time > 50:\n",
    "            print(f\"This URL took more than 50s: {url}\")\n",
    "\n",
    "        soup = BeautifulSoup(response.content, 'html.parser')\n",
    "        article_div = soup.find(\"div\", class_=\"grid grid-thirds\")\n",
    "        if not article_div:\n",
    "            raise ValueError(\"Could not find the main article container on the page.\")\n",
    "        \n",
    "        all_articles = article_div.find_all(\"div\", class_=\"cardImage\")\n",
    "        if not all_articles:\n",
    "            raise ValueError(\"Could not find the each article container on the page.\")\n",
    "        article_links = []\n",
    "        for article in all_articles:\n",
    "            links = article.find(\"a\")\n",
    "            if links.get(\"href\"):\n",
    "                article_links.append(links.get(\"href\"))\n",
    "        \n",
    "        final_response[\"Links\"] = article_links\n",
    "\n",
    "        load_more_span = soup.find(\"section\", role=\"loadMore\")\n",
    "        if load_more_span:\n",
    "            load_more = True\n",
    "\n",
    "        return final_response, load_more\n",
    "    \n",
    "    except requests.Timeout:\n",
    "        final_response[\"Message\"] = \"Request timed out\"\n",
    "        final_response[\"Response\"] = 408\n",
    "        return final_response, True\n",
    "    except requests.RequestException as e:\n",
    "        final_response[\"Message\"] = f\"An error occurred while fetching the webpage: {e}\"\n",
    "        final_response[\"Response\"] = getattr(e.response, 'status_code', 500)\n",
    "        return final_response, True\n",
    "    except ValueError as e:\n",
    "        final_response[\"Message\"] = f\"An error occurred while parsing the webpage: {e}\"\n",
    "        final_response[\"Response\"] = getattr(e.response, 'status_code', 500)\n",
    "        return final_response, True\n",
    "    except Exception as e:\n",
    "        final_response[\"Message\"] = f\"An unexpected error occurred: {e}\"\n",
    "        final_response[\"Response\"] = 500\n",
    "        return final_response, True\n",
    "\n"
   ]
  },
  {
   "cell_type": "code",
   "execution_count": 5,
   "metadata": {},
   "outputs": [
    {
     "data": {
      "text/plain": [
       "({'Links': ['https://gyalwarinpoche.com/news/2020/2020-06-07',\n",
       "   'https://gyalwarinpoche.com/news/2020/2020-06-03',\n",
       "   'https://gyalwarinpoche.com/news/2020/2020-05-30',\n",
       "   'https://gyalwarinpoche.com/news/2020/2020-05-29',\n",
       "   'https://gyalwarinpoche.com/news/2020/2020-05-29-1',\n",
       "   'https://gyalwarinpoche.com/news/2020/2020-05-21'],\n",
       "  'Message': 'Success',\n",
       "  'Response': 200,\n",
       "  'source_url': 'https://gyalwarinpoche.com/news/p50'},\n",
       " True)"
      ]
     },
     "execution_count": 5,
     "metadata": {},
     "output_type": "execute_result"
    }
   ],
   "source": [
    "url = \"https://gyalwarinpoche.com/news/p50\"\n",
    "\n",
    "extract_all_gyalwarinpoche_article_links(url)"
   ]
  },
  {
   "cell_type": "code",
   "execution_count": null,
   "metadata": {},
   "outputs": [],
   "source": []
  },
  {
   "cell_type": "code",
   "execution_count": 24,
   "metadata": {},
   "outputs": [],
   "source": [
    "\n",
    "def scrape_gyalwarinpoche_article_content(url):\n",
    "    \"\"\"\n",
    "    \n",
    "    \n",
    "    \"\"\"\n",
    "\n",
    "\n",
    "    headers = {\n",
    "        'User-Agent': 'Mozilla/5.0 (Windows NT 10.0; Win64; x64) AppleWebKit/537.36 (KHTML, like Gecko) Chrome/91.0.4472.124 Safari/537.36'\n",
    "    }\n",
    "    \n",
    "    final_response = {\n",
    "        \"data\": {\n",
    "            'title': \"\",\n",
    "            'body': {\"Audio\": \"No Audio in GyalwaRinpoche\", \"Text\": []},\n",
    "            'meta_data': {'URL': url, 'Author': \"\", 'Date': \"\", 'Tags': []}\n",
    "        },\n",
    "        \"Message\": \"Success\",\n",
    "        \"Response\": 200\n",
    "    }\n",
    "    \n",
    "    try:\n",
    "        # Make the request to the URL\n",
    "        response = requests.get(url, headers=headers)\n",
    "        response.raise_for_status()\n",
    "        \n",
    "        # Parse the page content with BeautifulSoup\n",
    "        soup = BeautifulSoup(response.content, 'html.parser')\n",
    "        \n",
    "        # getting title, date, tags\n",
    "        # section role=\"header\"\n",
    "        Tag_title_date = soup.find(\"section\", role=\"header\")\n",
    "        \n",
    "        # Extract title\n",
    "        title_h1 = Tag_title_date.find(\"h1\")\n",
    "        if title_h1:\n",
    "            title_text = title_h1.contents[0].strip()\n",
    "            date_time = title_h1.span.text.strip()\n",
    "            # title_text = title_h1.get_text(strip=True) if title_h1 else \"Title not found\"\n",
    "        else:\n",
    "            title_text = \"Title not found\"\n",
    "            date_time = None\n",
    "        final_response['data'][\"title\"] = title_text\n",
    "        final_response['data']['meta_data'][\"Date\"] = date_time\n",
    "        # for tags\n",
    "        tag_list = []\n",
    "        All_Tags = Tag_title_date.find('div', class_=\"controls\")\n",
    "        if All_Tags:\n",
    "            tag_list.append(All_Tags.get_text(strip=True))          \n",
    "        final_response['data']['meta_data'][\"Tags\"] = tag_list\n",
    "        \n",
    "        # Extract body content\n",
    "        try:\n",
    "            body = soup.find('section', role='newsPost')\n",
    "            if body:\n",
    "                # print(body)\n",
    "                # Extracting all <p> tags for text content\n",
    "                paragraphs = body.find_all('p')\n",
    "                final_response['data']['body'][\"Text\"] = [para.get_text(strip=True) for para in paragraphs]\n",
    "            else:\n",
    "                final_response['data']['body'][\"Text\"] = [\"No Content in the article\"]\n",
    "\n",
    "        except AttributeError as e:\n",
    "            final_response['data']['body'][\"Text\"] = [f\"Error fetching body content{str(e)}\"]\n",
    "        \n",
    "        return final_response\n",
    "    except requests.Timeout:\n",
    "        final_response[\"Message\"] = \"Request timed out\"\n",
    "        final_response[\"Response\"] = 408  # Request Timeout\n",
    "        return final_response\n",
    "        \n",
    "    except requests.RequestException as e:\n",
    "        final_response[\"Message\"] = f\"An error occurred while fetching the article: {str(e)}\"\n",
    "        final_response[\"Response\"] = getattr(e.response, 'status_code', 500)\n",
    "        return final_response\n",
    "    \n",
    "    except Exception as e:\n",
    "        final_response[\"Message\"] = f\"An error occurred in code: {str(e)}\"\n",
    "        final_response[\"Response\"] = 404\n",
    "        return final_response\n",
    "\n",
    "\n",
    "\n"
   ]
  },
  {
   "cell_type": "code",
   "execution_count": 25,
   "metadata": {},
   "outputs": [
    {
     "data": {
      "text/plain": [
       "{'data': {'title': '༸གོང་ས་མཆོག་ནིའུ་ཡོག་གྲོང་ཁྱེར་དུ་ཆིབས་བསྒྱུར་བསྐྱངས་པ།',\n",
       "  'body': {'Audio': 'No Audio in GyalwaRinpoche',\n",
       "   'Text': ['༄༅། །ཕྱི་ལོ་ ༢༠༢༤ ཟླ་ ༨ ཚེས་ ༢༠ ཉིན་གྱི་སྔ་དྲོ་སྤྱི་ནོར་༸གོང་ས་༸སྐྱབས་མགོན་ཆེན་པོ་མཆོག་ཨ་རིའི་ནེའུ་ཡོག་གྲོང་ཁྱེར་དུ་ཆིབས་བསྒྱུར་བསྐྱངས་ཡོད།',\n",
       "    'ཟླ་ ༦ ཚེས་ ༢༨ ཉིན་ཞབས་པུས་སྨན་བཅོས་ལེགས་གྲུབ་བྱུང་རྗེས་སྤྱི་ནོར་༸གོང་ས་༸སྐྱབས་མགོན་ཆེན་པོ་མཆོག་གིས་ནིའུ་ཡོག་མངའ་སྡེའི་བྱང་ཕྱོགས་སའེ་ར་ཁྱུ་སི་ Syracuse ས་གནས་ཀྱི་ Nappi Farmhouse ལ་བདུན་ཕྲག་དྲུག་རིང་སྐུའི་ངལ་གསོ་མཛད་ཡོད་པ་དང་། སྐུའི་ངལ་གསོའི་རིང་འབྲེལ་ཡོད་རྣམ་པས་མགོན་པོ་གང་ཉིད་མཆོག་ལ་དམིགས་བསལ་ཞབས་ཞུ་ལྷོད་མེད་ཞུས་ཡོད་པ་མ་ཟད། ཞབས་པུས་བསྙུང་གཞི་མྱུར་དྭངས་ཆེད་ལུས་རྩལ་སྨན་པ་རྣམས་དང་ལྷན་དུ་ཐུགས་བརྩོན་ཆེན་པོས་སྦྱོང་བརྡར་གནང་ཡོད།',\n",
       "    'ནིའུ་ཡོག་གྲོང་ཁྱེར་གྱི་གཤག་བཅོས་ཆེད་ལས་སྨན་ཁང་གི་དར་མའི་ལུས་པོ་བསྐྱར་བཟོ་དང་རུས་ཚིགས་གཤག་བཅོས་ཚན་པའི་འགན་འཛིན་སྨན་པ་སྐུ་ཞབས་ཌེ་ཝིཌ་མེ་མེན་ལགས་ཀྱིས། ༸གོང་ས་མཆོག་གི་སྐུ་གཟུགས་ཟླ་བ་ ༦ ནས་ ༡༢ བར་མུ་མཐུད་ཡར་རྒྱས་འགྲོ་རྒྱུའི་རེ་བ་ཡོད་ཚུལ་གསུངས་ཡོད།',\n",
       "    'ཟླ་ ༨ ཚེས་ ༢༢ ཉིན་སྤྱི་ནོར་༸གོང་ས་༸སྐྱབས་མགོན་ཆེན་པོ་མཆོག་ལ་བྱང་ཨ་རིའི་བོད་རིགས་སྤྱི་མཐུན་ཚོགས་པས་ཇི་ལྟར་སྔོན་ནས་གསོལ་བ་བཏབ་པ་ལྟར་ནིའུ་ཡོག་གྲོང་ཁྱེར་གྱི་ UBS རྩེད་འགྲན་ར་བར་མགོན་པོ་གང་ཉིད་མཆོག་སྐུ་ཚེ་ཡུན་དུ་བརྟན་ཆེད་མཚོན་དོན་བརྟན་བཞུགས་འབུལ་ལམ་ཞུ་རྒྱུ་དང་། དེ་རྗེས་སུད་སིར་ཆིབས་བསྒྱུར་གནང་སྟེ་ཛུ་རིག་གྲོང་ཁྱེར་ཏུ་དུས་ཡུན་ཐུང་ཙམ་བཞུགས་པའི་རིང་གི་ཚེས་ ༢༥ ཉིན་ Hallenstadion ཚོགས་ཁང་དུ་སུད་སི་བོད་རིགས་ཚོགས་པས་མཚོན་དོན་བརྟན་བཞུགས་བསྟར་འབུལ་ཞུ་རྒྱུ་དང་། ཚེས་ ༢༨ ཉིན་བཞུགས་སྒར་དྷ་རམ་ས་ལར་ཆིབས་བསྒྱུར་མཛད་རྒྱུ།',\n",
       "    'གཞན་ཡང་། ནིའུ་ཡོག་ཏུ་༸གོང་ས་མཆོག་གི་ཞབས་པུས་སྨན་བཅོས་གནང་བའི་རིང་སྐུ་ཞབས་སེམ་དང་ཁེ་རོལ་ནེ་པི་སྟངས་དཔྱལ་གཉིས་ནས་མགྲོན་བསུའི་སྣེ་ལེན་གཟབ་རྒྱས་གནང་བ་དང་། ཞབས་པུས་གཤག་བཅོས་ལེགས་གྲུབ་ཡོང་བར་མཐུན་འགྱུར་གོ་སྒྲིག་གནང་བར་༸གོང་ས་མཆོག་ནས་ཐུགས་རྗེ་ཆེ་ཞུ་བཞིན་ཡོད་པ་དང་། ནིའུ་ཡོག་མངའ་སྡེའི་སའེ་ར་ཁྱུ་སི་གྲོང་ཁྱེར་གྱི་ཨབ་སི་ཊེཊ་སྨན་ཁང་ཆེན་མོའི་ལུས་རྩལ་སྨན་བཅོས་ཚོགས་པ་དང་སྨན་པ་རྣམས་༸གོང་ས་མཆོག་གི་བཞུགས་གནས་སུ་ཆེད་གཏོང་གནང་སྟེ། ཁོང་རྣམ་པས་སྨན་བཅོས་དང་མཐུན་འགྱུར་ཞབས་ཞུ་རྒྱ་ཆེ་གནང་བར་སྐུའི་ཆིབས་ཞབས་པ་ཡོངས་ཀྱིས་སྙིང་ཐག་པ་ནས་བཀའ་དྲིན་ཆེ་ཞུ་བཞིན་ཡོད།']},\n",
       "  'meta_data': {'URL': 'https://gyalwarinpoche.com/news/2024/8-20',\n",
       "   'Author': '',\n",
       "   'Date': '༢༠༢༤ ཟླ་བ་ ༨ ཚེས་ ༢༠',\n",
       "   'Tags': ['འགྲེམ་སྤེལ།']}},\n",
       " 'Message': 'Success',\n",
       " 'Response': 200}"
      ]
     },
     "execution_count": 25,
     "metadata": {},
     "output_type": "execute_result"
    }
   ],
   "source": [
    "url = \"https://gyalwarinpoche.com/news/2024/8-20\"\n",
    "scrape_gyalwarinpoche_article_content(url)"
   ]
  },
  {
   "cell_type": "code",
   "execution_count": null,
   "metadata": {},
   "outputs": [],
   "source": []
  },
  {
   "cell_type": "code",
   "execution_count": null,
   "metadata": {},
   "outputs": [],
   "source": []
  },
  {
   "cell_type": "code",
   "execution_count": null,
   "metadata": {},
   "outputs": [],
   "source": []
  },
  {
   "cell_type": "code",
   "execution_count": null,
   "metadata": {},
   "outputs": [],
   "source": []
  },
  {
   "cell_type": "code",
   "execution_count": null,
   "metadata": {},
   "outputs": [],
   "source": []
  },
  {
   "cell_type": "code",
   "execution_count": null,
   "metadata": {},
   "outputs": [],
   "source": []
  },
  {
   "cell_type": "code",
   "execution_count": null,
   "metadata": {},
   "outputs": [],
   "source": []
  },
  {
   "cell_type": "code",
   "execution_count": null,
   "metadata": {},
   "outputs": [],
   "source": []
  }
 ],
 "metadata": {
  "kernelspec": {
   "display_name": "base",
   "language": "python",
   "name": "python3"
  },
  "language_info": {
   "codemirror_mode": {
    "name": "ipython",
    "version": 3
   },
   "file_extension": ".py",
   "mimetype": "text/x-python",
   "name": "python",
   "nbconvert_exporter": "python",
   "pygments_lexer": "ipython3",
   "version": "3.9.13"
  }
 },
 "nbformat": 4,
 "nbformat_minor": 2
}
