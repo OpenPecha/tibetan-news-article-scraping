{
 "cells": [
  {
   "cell_type": "code",
   "execution_count": 1,
   "metadata": {},
   "outputs": [],
   "source": [
    "import requests\n",
    "from bs4 import BeautifulSoup\n",
    "import json\n",
    "import time"
   ]
  },
  {
   "cell_type": "code",
   "execution_count": null,
   "metadata": {},
   "outputs": [],
   "source": []
  },
  {
   "cell_type": "code",
   "execution_count": null,
   "metadata": {},
   "outputs": [],
   "source": []
  },
  {
   "cell_type": "markdown",
   "metadata": {},
   "source": []
  },
  {
   "cell_type": "code",
   "execution_count": 10,
   "metadata": {},
   "outputs": [],
   "source": []
  },
  {
   "cell_type": "code",
   "execution_count": null,
   "metadata": {},
   "outputs": [],
   "source": [
    "\n",
    "def extract_all_BOD_ASIA_page_article_links(url: str):\n",
    "    \"\"\"\n",
    "    Extracts all article links from a given BOD_ASIA webpage.\n",
    "\n",
    "    This function scrapes the provided URL and extracts links to individual articles\n",
    "    found on the page.\n",
    "\n",
    "    Args:\n",
    "    url (str): The URL of the VOT webpage containing article links.\n",
    "\n",
    "    Returns:\n",
    "        {\n",
    "            \"Links\": List[],\n",
    "            \"Message\": string,\n",
    "            \"Response\": int,\n",
    "            \"source_url\": string\n",
    "        }\n",
    "    Raises:\n",
    "    requests.RequestException: If there's an error fetching the webpage.\n",
    "    ValueError: If the expected HTML structure is not found on the page.\n",
    "    \"\"\"\n",
    "\n",
    "    headers = {\n",
    "        'User-Agent': 'Mozilla/5.0 (Windows NT 10.0; Win64; x64) AppleWebKit/537.36 (KHTML, like Gecko) Chrome/91.0.4472.124 Safari/537.36'\n",
    "    }\n",
    "    final_response = {\n",
    "        \"Links\": [],\n",
    "        \"Message\": \"Success\",\n",
    "        \"Response\": 200,\n",
    "        \"source_url\": url\n",
    "    }\n",
    "    \n",
    "    try:\n",
    "        start_time = time.time()\n",
    "        response = requests.get(url, headers=headers, timeout=(5, 60-5))\n",
    "        response.raise_for_status()\n",
    "        end_time = time.time()\n",
    "\n",
    "        if end_time-start_time > 50:\n",
    "            print(f\"This ULR Took more then 50s: {url}\")\n",
    "        \n",
    "        soup = BeautifulSoup(response.content, 'html.parser')\n",
    "        \n",
    "        # # Getting all the links of articles \n",
    "        all_links = []\n",
    "\n",
    "        # Extracting all the articles in the DIV\n",
    "        all_article = soup.find_all(\"div\", class_=\"w-post-elm post_image usg_post_image_1 has_ratio\")\n",
    "        if all_article:\n",
    "            for each_head in all_article:\n",
    "                article_links = each_head.find(\"a\")\n",
    "                if article_links is not None:\n",
    "                    all_links.append(article_links.get(\"href\"))\n",
    "\n",
    "        if len(all_links) < 4:\n",
    "            all_article = soup.find_all(\"div\", class_=\"w-post-elm post_image usg_post_image_1 has_ratio with_placeholder\")\n",
    "            if all_article:\n",
    "                for each_head in all_article:\n",
    "                    article_links = each_head.find(\"a\")\n",
    "                    if article_links is not None:\n",
    "                        all_links.append(article_links.get(\"href\"))\n",
    "\n",
    "\n",
    "        final_response[\"Links\"] = all_links\n",
    "        return final_response\n",
    "     \n",
    "    except requests.Timeout:\n",
    "        final_response[\"Message\"] = \"Request timed out\"\n",
    "        final_response[\"Response\"] = 408  # Request Timeout\n",
    "        return final_response\n",
    "    except requests.RequestException as e:\n",
    "        # print(f\"An error occurred while fetching the webpage: {e}\")\n",
    "        final_response[\"Message\"] = f\"An error occurred while fetching the webpage: {e}\"\n",
    "        final_response[\"Response\"] = getattr(e.response, 'status_code', None)\n",
    "        return final_response\n",
    "    except ValueError as e:\n",
    "        # print(f\"An error occurred while parsing the webpage: {e}\")\n",
    "        final_response[\"Message\"] = f\"An error occurred while parsing the webpage: {e}\"\n",
    "        final_response[\"Response\"] = 404\n",
    "        # getattr(e.response, 'status_code', None)\n",
    "        return final_response\n",
    "    except Exception as e:\n",
    "        # print(f\"An unexpected error occurred: {e}\")\n",
    "        final_response[\"Message\"] = f\"An unexpected error occurred: {e}\"\n",
    "        final_response[\"Response\"] = 500\n",
    "        return final_response\n",
    "\n",
    "\n"
   ]
  },
  {
   "cell_type": "code",
   "execution_count": 11,
   "metadata": {},
   "outputs": [
    {
     "data": {
      "text/plain": [
       "{'Links': ['https://bod.asia/2015/08/%e0%bd%81%e0%bd%98%e0%bd%a6%e0%bc%8b%e0%bd%93%e0%bd%84%e0%bc%8b%e0%bd%86%e0%bd%ba%e0%bd%93%e0%bc%8b%e0%bd%81%e0%bd%b4%e0%bd%a3%e0%bc%8b%e0%bd%82%e0%be%b1%e0%bd%b2%e0%bc%8b%e0%bd%96%e0%bd%bc%e0%bd%91/',\n",
       "  'https://bod.asia/2016/02/%e0%bd%a2%e0%be%92%e0%be%b1%e0%bc%8b%e0%bd%93%e0%bd%82%e0%bc%8b%e0%bd%82%e0%bd%9e%e0%bd%b4%e0%bd%84%e0%bc%8b%e0%bd%82%e0%bd%b2%e0%bd%a6%e0%bc%8b%e0%bd%a2%e0%bd%ba%e0%bd%96%e0%bc%8b%e0%bd%82%e0%bd%bc/',\n",
       "  'https://bod.asia/2016/02/%e0%bd%9e%e0%bd%bc%e0%bd%82%e0%bd%a6%e0%bc%8b%e0%bd%a3%e0%be%97%e0%bd%84%e0%bc%8b%e0%bd%a3%e0%bd%82%e0%bd%a6%e0%bc%8b%e0%bd%a3%e0%bc%8b%e0%bd%a3%e0%bd%bc%e0%bc%8b%e0%bd%82%e0%bd%a6%e0%bd%b4%e0%bd%98/',\n",
       "  'https://bod.asia/2016/02/%e0%bd%81%e0%bd%98%e0%bd%a6%e0%bc%8b%e0%bd%91%e0%bd%80%e0%bd%a2%e0%bc%8b%e0%bd%98%e0%bd%9b%e0%bd%ba%e0%bd%a6%e0%bc%8b%e0%bd%96%e0%be%b2%e0%bd%82%e0%bc%8b%e0%bd%a0%e0%bd%82%e0%bd%bc%e0%bd%a2%e0%bc%8b/',\n",
       "  'https://bod.asia/2015/12/%e0%bd%98%e0%bd%91%e0%bd%bc%e0%bc%8b%e0%bd%a6%e0%be%a8%e0%bd%91%e0%bc%8b%e0%bd%98%e0%bd%9b%e0%bd%bc%e0%bd%91%e0%bc%8b%e0%bd%91%e0%bd%82%e0%bd%ba%e0%bc%8b%e0%bd%a2%e0%be%ab%e0%bd%bc%e0%bd%84%e0%bc%8b/',\n",
       "  'https://bod.asia/2015/12/%e0%bd%a2%e0%be%94%e0%bc%8b%e0%bd%94%e0%bc%8b%e0%bd%80%e0%bd%b2%e0%bd%a2%e0%be%9f%e0%bd%b2%e0%bc%8b%e0%bd%91%e0%bd%82%e0%bd%bc%e0%bd%93%e0%bc%8b%e0%bd%94%e0%bd%a0%e0%bd%b2%e0%bc%8b%e0%bd%82%e0%be%b2-4/',\n",
       "  'https://bod.asia/2015/11/%e0%bd%81%e0%bd%98%e0%bd%a6%e0%bc%8b%e0%bd%91%e0%bd%80%e0%bd%a2%e0%bc%8b%e0%bd%98%e0%bd%9b%e0%bd%ba%e0%bd%a6%e0%bc%8b%e0%bd%81%e0%bd%b4%e0%bd%a3%e0%bc%8b%e0%bd%91%e0%bd%b4%e0%bc%8b%e0%bd%96%e0%bd%bc/',\n",
       "  'https://bod.asia/2015/11/%e0%bd%a8%e0%bc%8b%e0%bd%98%e0%bd%b2%e0%bc%8b%e0%bd%a2%e0%bd%b2%e0%bc%8b%e0%bd%80%e0%bd%a0%e0%bd%b2%e0%bc%8b%e0%bd%82%e0%be%b2%e0%bd%bc%e0%bd%a6%e0%bc%8b%e0%bd%9a%e0%bd%bc%e0%bd%82%e0%bd%a6%e0%bc%8b/',\n",
       "  'https://bod.asia/2015/10/%e0%bd%9f%e0%be%b3%e0%bc%8b%e0%bd%a0%e0%bd%91%e0%bd%b2%e0%bd%a0%e0%bd%b2%e0%bc%8b%e0%bd%9a%e0%bd%ba%e0%bd%a6%e0%bc%8b%e0%bc%a2%e0%bc%a6-%e0%bd%89%e0%bd%b2%e0%bd%93%e0%bc%8b%e0%bd%96%e0%bd%bc%e0%bd%91/',\n",
       "  'https://bod.asia/2015/09/%e0%bd%a2%e0%be%94%e0%bc%8b%e0%bd%94%e0%bc%8b%e0%bd%a2%e0%be%ab%e0%bd%bc%e0%bd%84%e0%bc%8b%e0%bd%91%e0%bd%b4%e0%bc%8b%e0%bd%96%e0%bd%bc%e0%bd%91%e0%bc%8b%e0%bd%98%e0%bd%b2%e0%bc%8b%e0%bd%81%e0%bd%82/',\n",
       "  'https://bod.asia/2015/09/%e0%bd%a8%e0%bc%8b%e0%bd%98%e0%bd%91%e0%bd%bc%e0%bc%8b%e0%bd%a2%e0%be%94%e0%bc%8b%e0%bd%94%e0%bd%a2%e0%bc%8b%e0%bd%a8%e0%bc%8b%e0%bd%82%e0%be%b2%e0%bd%82%e0%bd%a6%e0%bc%8b%e0%bd%a3%e0%bd%82%e0%bd%a6/',\n",
       "  'https://bod.asia/2015/09/%e0%bd%a2%e0%be%94%e0%bc%8b%e0%bd%94%e0%bc%8b%e0%bd%a2%e0%be%ab%e0%bd%bc%e0%bd%84%e0%bc%8b%e0%bd%91%e0%bd%b4%e0%bc%8b%e0%bd%91%e0%bd%82%e0%bd%ba%e0%bc%8b%e0%bd%a0%e0%bd%91%e0%bd%b4%e0%bd%93%e0%bc%8b/',\n",
       "  'https://bod.asia/2015/08/%e0%bd%96%e0%bd%80%e0%be%b2%e0%bc%8b%e0%bd%a4%e0%bd%b2%e0%bd%a6%e0%bc%8b%e0%bd%a6%e0%be%90%e0%be%b1%e0%bd%b2%e0%bd%91%e0%bc%8b%e0%bd%a3%e0%bd%82%e0%bd%a6%e0%bc%8b%e0%bd%80%e0%be%b1%e0%bd%b2%e0%bd%a6/',\n",
       "  'https://bod.asia/2015/08/%e0%bd%93%e0%bd%84%e0%bc%8b%e0%bd%86%e0%bd%ba%e0%bd%93%e0%bc%8b%e0%bd%a2%e0%be%ab%e0%bd%bc%e0%bd%84%e0%bc%8b%e0%bd%89%e0%bd%82%e0%bc%8b%e0%bd%a3%e0%bc%8b%e0%bd%a1%e0%bd%b4%e0%bd%a3%e0%bc%8b%e0%bd%9a/',\n",
       "  'https://bod.asia/2015/08/%e0%bd%a8%e0%bc%8b%e0%bd%98%e0%bd%91%e0%bd%bc%e0%bc%8b%e0%bd%a2%e0%be%94%e0%bc%8b%e0%bd%96%e0%bc%8b%e0%bd%93%e0%bd%a6%e0%bc%8b%e0%bd%a1%e0%bd%b2%e0%bd%93%e0%bc%8b%e0%bd%94%e0%bd%a0%e0%bd%b2%e0%bc%8b/'],\n",
       " 'Message': 'Success',\n",
       " 'Response': 200,\n",
       " 'source_url': 'https://bod.asia/category/situation-in-tibet/page/7/'}"
      ]
     },
     "execution_count": 11,
     "metadata": {},
     "output_type": "execute_result"
    }
   ],
   "source": [
    "url = \"https://bod.asia/category/situation-in-tibet/page/7/\"\n",
    "\n",
    "(extract_all_BOD_ASIA_page_article_links(url))"
   ]
  },
  {
   "cell_type": "code",
   "execution_count": null,
   "metadata": {},
   "outputs": [],
   "source": []
  },
  {
   "cell_type": "code",
   "execution_count": null,
   "metadata": {},
   "outputs": [],
   "source": []
  },
  {
   "cell_type": "code",
   "execution_count": 5,
   "metadata": {},
   "outputs": [],
   "source": [
    "\n",
    "\n",
    "def scrape_BOD_ASIA_article_content(url, tags=\"གསར་འགྱུར།\"):\n",
    "    \"\"\"\n",
    "    \n",
    "    \n",
    "    \"\"\"\n",
    "\n",
    "\n",
    "    headers = {\n",
    "        'User-Agent': 'Mozilla/5.0 (Windows NT 10.0; Win64; x64) AppleWebKit/537.36 (KHTML, like Gecko) Chrome/91.0.4472.124 Safari/537.36'\n",
    "    }\n",
    "    \n",
    "    final_response = {\n",
    "        \"data\": {\n",
    "            'title': \"\",\n",
    "            'body': {\"Audio\": \"No Audio in TibetTimes\", \"Text\": []},\n",
    "            'meta_data': {'URL': url, 'Author': \"\", 'Date': \"\", 'Tags': [tags]}\n",
    "        },\n",
    "        \"Message\": \"Success\",\n",
    "        \"Response\": 200\n",
    "    }\n",
    "    \n",
    "    try:\n",
    "        # Make the request to the URL\n",
    "        response = requests.get(url, headers=headers)\n",
    "        response.raise_for_status()\n",
    "        \n",
    "        # Parse the page content with BeautifulSoup\n",
    "        soup = BeautifulSoup(response.content, 'html.parser')\n",
    "        \n",
    "        # Extract title\n",
    "        title = soup.find('div', class_=\"w-post-elm post_title us_custom_4795c0ba entry-title color_link_inherit has_text_color\")\n",
    "        if title:\n",
    "            title_text = title.get_text(strip=True) \n",
    "        else:\n",
    "            title_text = \"Title not found\"\n",
    "        final_response['data'][\"title\"] = title_text\n",
    "\n",
    "        \n",
    "        # Extracting Meta Data\n",
    "        try:\n",
    "            date_time = soup.find(\"div\", class_=\"w-post-elm post_date us_custom_7d2836c4 entry-date published\")\n",
    "            final_response['data']['meta_data'][\"Date\"] = date_time.get_text(strip=True) if date_time else \"Date not found\"\n",
    "            author_name = soup.find('div', class_=\"post-author-name\")\n",
    "            final_response['data']['meta_data'][\"Author\"] = author_name.get_text(strip=True) if author_name else \"Author not found\"\n",
    "\n",
    "        except AttributeError:\n",
    "            final_response['data']['meta_data'][\"Author\"] = \"Error fetching author\"\n",
    "            final_response['data']['meta_data'][\"Date\"] = \"Error fetching date\"\n",
    "\n",
    "\n",
    "        # Extract body content\n",
    "        try:\n",
    "            body = soup.find('div', class_='w-post-elm post_content us_custom_9e109403')\n",
    "            if body:\n",
    "                paragraphs = body.find_all('p')\n",
    "                if paragraphs:\n",
    "                    # Extracting all <p> tags for text content\n",
    "                    final_response['data']['body'][\"Text\"] = [para.get_text(strip=True) for para in paragraphs]\n",
    "                else:\n",
    "                    final_response['data']['body'][\"Text\"] = [\"No Content in the article\"]\n",
    "\n",
    "        except AttributeError as e:\n",
    "            final_response['data']['body'][\"Text\"] = [f\"Error fetching body content{str(e)}\"]\n",
    "        \n",
    "        return final_response\n",
    "    except requests.Timeout:\n",
    "        final_response[\"Message\"] = \"Request timed out\"\n",
    "        final_response[\"Response\"] = 408  # Request Timeout\n",
    "        return final_response\n",
    "        \n",
    "    except requests.RequestException as e:\n",
    "        final_response[\"Message\"] = f\"An error occurred while fetching the article: {str(e)}\"\n",
    "        final_response[\"Response\"] = getattr(e.response, 'status_code', 500)\n",
    "        return final_response\n",
    "\n"
   ]
  },
  {
   "cell_type": "code",
   "execution_count": null,
   "metadata": {},
   "outputs": [],
   "source": []
  },
  {
   "cell_type": "code",
   "execution_count": 6,
   "metadata": {},
   "outputs": [
    {
     "data": {
      "text/plain": [
       "{'data': {'title': 'བོད་མིའི་མང་གཙོའི་དུས་ཆེན་ཐེངས་ ༦༤ སྲུང་བརྩི་གཟབ་རྒྱས་ཞུས་པ།',\n",
       "  'body': {'Audio': 'No Audio in TibetTimes',\n",
       "   'Text': ['༄༅། །བོད་རྒྱལ་ལོ་ ༢༡༥༠ ཕྱི་ལོ་ ༢༠༢༤ ཟླ་བ་ ༩ ཚེས་ ༢ ཉིན་བཞུགས་སྒར་རྡ་ས་ཐེག་ཆེན་ཆོས་གླིང་གཙུག་ལག་ཁང་གི་གསུང་རའི་ནང་།བོད་མིའི་སྒྲིག་འཛུགས་ཀྱི་མཛད་གཙོ་རྣམ་པས་དབུས་ལྷན་ཁང་ཁག་གི་དྲུང་ཆེ་ཆུང་རྣམས་དང་། སྲི་ཞུ་བ།གཞུང་ཁོངས་མིན་པའི་ཚོགས་སྐྱིད་ཁག་གི་འཐུས་མི་རྣམ་པ། སེར་སྐྱ་ཕོ་མོ། སློབ་ཕྲུག་སོགས་ཚང་འཛོམས་ཐོགབོད་མིའི་བླ་ན་མེད་པའི་དབུ་ཁྲིད་སྤྱི་ནོར་༸གོང་ས་༸སྐྱབས་མགོན་རྒྱལ་དབང་ཐམས་ཅད་མཁྱེན་ཅིང་གཟིགས་པ་ཆེན་པོ་རྒྱལ་མཆོག་སྐུ་ཕྲེང་བཅུ་བཞི་པ་ཆེན་པོ་མཆོག་གིས་མང་གཙོའི་ལམ་བཟང་གསོལ་བསྩལ་བཀའ་དྲིན་བསྐྱངས་ཏེ་མི་ལོ་ ༦༤ འཁོར་བའི་དུས་ཆེན་གྱི་གཞུང་འབྲེལ་མཛད་སྒོ་སྲུང་བརྩི་གཟབ་རྒྱས་ཞུས་ཡོད།དེ་ཡང་གོང་ཚེས་ཉིན་གྱི་སྔ་དྲོ་ཆུ་ཚོད་ ༡༠ ཐོག་སྐུ་མགྲོན་གཙོ་བོ་ཨི་སི་ཊོ་ནི་ཡ་གྲོས་ཚོགས་འཐུས་མིའི་སྐུ་ཚབ་རྣམ་པ་དང་། ཨི་སི་ཊོ་ནི་ཡ་བོད་དོན་རྒྱབ་སྐྱོར་ཚོགས་མི། བོད་མིའི་སྒྲིག་འཛུགས་ཀྱི་མཛད་གཙོ་རྣམ་པ་བཅས་ཐེག་ཆེན་ཆོས་གླིང་གཙུག་ལག་ཁང་གི་གསུང་རར་ཞབས་སོར་འཁོད་མཚམས་མཛད་སྒོ་དབུ་འཛུགས་ཀྱི་ཐོག་མར་ཚང་མ་སྐུ་བཞེངས་ཐོག་དཔལ་ལྡན་སྲིད་སྐྱོང་སྤེན་པ་ཚེ་རིང་མཆོག་གིས་བོད་རྒྱལ་ཁབ་ཆེན་པོའི་རྒྱལ་དར་མཁའ་དབྱིངས་སུ་སྒྲེང་འཛུགས་གནང་སྐབས་བོད་ཀྱི་ཟློས་གར་ཚོགས་པ་ནས་རྔ་རོལ་དང་བཅས་བོད་རྒྱལ་ཁབ་ཆེན་པོའི་རྒྱལ་གླུ་དང་། རྒྱ་གར་རྒྱལ་གླུ་དབྱངས་སུ་གྱེར།དེ་ནས་བོད་ཀྱི་ཟློས་གར་ཚོགས་པས་མང་གཙོའི་གསར་གཞས་འབུལ་ལམ་ཞུས་གྲུབ་མཚམས་དཔལ་ལྡན་སྲིད་སྐྱོང་སྤེན་པ་ཚེ་རིང་མཆོག་གིས་བཀའ་ཤག་གི་གསུང་བཤད་དང་། དཔལ་ལྡན་བོད་མི་མང་སྤྱི་འཐུས་ཚོགས་གཙོ་མཁན་པོ་བསོད་ནམས་བསྟན་འཕེལ་མཆོག་གིས་བོད་མི་མང་སྤྱི་འཐུས་ལྷན་ཚོགས་ཀྱི་གསུང་བཤད་གནང་རྗེས་བོད་ཀྱི་ཟློས་གར་ཚོགས་པ་ནས་ཀོང་གཞས་རྫི་གླུ་ཞེས་པ་གཟིགས་ཕུལ་ཞུས་རྗེས་ཨི་སི་ཊོ་ནི་ཡ་བོད་དོན་རྒྱབ་སྐྱོར་ཚོགས་པའི་འབྲེལ་མཐུད་པ་ (Mr. Roy Strider) ལགས་ཀྱིས་ཐོག་མར་འཚམས་འདྲི་དང་འབྲེལ་བཞུགས་སྒར་དུ་བསྐྱར་དུ་བཅར་བ་དེ་སོ་སོའི་ནང་དུ་སླེབས་པའི་ཚོར་སྣང་བྱུང་ཞེས་གསུངས། དེ་ནས་ཁོང་གིས་སྤྱི་ནོར་༸གོང་ས་༸སྐྱབས་མགོན་ཆེན་པོ་མཆོག་སྐུ་ཚེ་ཡུན་རིང་བསྟན་ཆེད་གསོལ་བ་སྨོན་ལམ་བཏབ་གྲུབ་མཚམས་༸གོང་ས་མཆོག་གིས་ང་ཆུང་དུས་སུ་མགོ་ལ་ཕྱག་དབང་གནང་སྐབས་ཕྲུ་གུ་དེ་གྲུང་པོ་འདུག་ཅེས་གསུངས་པ་ནས་བཟུང་མ་འོངས་དེ་བཞིན་གྲུང་པོ་བྱ་དགོས་ཀྱི་ཡོད་ཅེས་དྲན་ཡོད་པ་མ་ཟད། ད་ལྟ་ང་དང་ལྷན་དུ་གྲོས་ཚོགས་འཐུས་མི་རྣམས་བཞུགས་སྒར་དུ་ཐེངས་གཉིས་གསུམ་བཅར་ཡོད་པ་དེས་གསལ་པོ་བསྟན་ཐུབ། གང་ལྟར་ངའི་ངོས་ནས་༸གོང་ས་མཆོག་གི་དགོངས་པ་གང་མཚམས་ཤིག་བསྒྲུབས་ཡོད་པ་དྲན་གྱི་ཡོད་ཅེས་གསུངས། དེ་བཞིན་ཁོང་གིས་དེ་རིང་བོད་ཀྱི་མང་གཙོ་དུས་ཆེན་རེད། མང་གཙོའི་གོ་དོན་ནི་རང་དབང་དང་། རང་དབང་ནི་ང་ལྟ་བུ་མི་དཀྱུས་མ་ཞིག་གིས་མང་ཚོགས་ལ་གཏམ་བཤད་ཤོད་ཐུབ་པ་ལ་ཟེར། གཞན་ཡང་མང་གཙོ་ཟེར་དུས་མི་མང་ཆ་ཚང་གལ་ཆེན་པོ་ཡིན་ཞེས་གསུངས།དེ་རྗེས་ཨེས་ཌོ་ནི་ཡའི་གྲོས་ཚོགས་འཐུས་མི་ལྕམ་ (Ester Aruse) མཆོག་གིས་བོད་མིའི་སྒྲིག་འཛུགས་ནས་མགྲོན་འབོད་གནང་བར་ཐུགས་རྗེ་ཆེ་ཞུ་རྒྱུ་དང་ཆབས་ཅིག་ང་འདིར་བསྡད་པའི་རིང་བོད་ཀྱི་རིག་གཞུང་དང་མི་རིགས་ལྟ་རྒྱུ་གོ་སྐབས་ཐོབ་སོང་། ཕྱོགས་གཅིག་ནས་བལྟས་ན་བོད་དང་ཨེས་ཌོ་ནི་ཡའི་གཉིས་ཀྱི་ལོ་རྒྱུས་བར་མཚུངས་ཆོས་ཡོད། ང་དང་ངའི་ཕྱག་རོགས་རྣམས་དམར་ཤོག་རིང་ལུགས་འོག་ཚར་ལོངས་བྱས་པ་མ་ཟད། འགྲོ་བ་མིིའི་ཐོབ་ཐང་རྡོག་རོལ་དང་། སློབ་གྲྭ་ཁག་ཏུ་བཙན་དབང་བཏང་བ་སོགས་མི་རིགས་ཀྱི་ངོ་བོ་རྩ་མེད་བཟོ་ཐབས་བྱས་པ་གཅིག་མཚུངས་ཡིན། ངས་བོད་པའི་སྤྱི་ཚོགས་ཁྲོད་གཅིག་གིས་གཅིག་ལ་གུས་བརྩི་དང་བྱམས་བརྩེ། ཞི་བའི་ལམ་ནས་བོད་ཀྱི་བེདན་མཐའ་གསལ་བར་འབད་བརྩོན་བཅས་མཐོང་རྒྱུ་བྱུང་། ཁྱེད་རྣམ་པའི་འབད་བརྩོན་དང་ལྷག་བསམ་སུས་ཀྱང་འཕྲོག་ཐུབ་པ་མེད་ཅེས་གསུངས།',\n",
       "    'དེ་རྗེས་ཨི་སི་ཊོ་ནི་ཡའི་གྲོས་ཚོགས་འཐུས་མི་ལྕམ་སྐུ་ཀར་མན་ཇོ་ལར་ (Karmen Joller) ལགས་ཀྱིས་གསུང་བཤད་གནང་དོན། ངའི་ལས་རོགས་ཀྱིས་དེ་སྔོན་ང་ཚོ་ནི་བསམ་བློ་མཐུན་པའི་མི་རིགས་ཡིན་པ་གསལ་བཤད་གནང་སོང་། ང་རང་ཕྱི་ལོ་ ༡༩༩༢ ལོར་རང་དབང་ལྡན་པའི་རྒྱལ་ཁབ་ཨི་སི་ཊོ་ནི་ཡར་སྐྱེས་ཤིང་། ང་སྐྱེས་པའི་སྐབས་ཨི་སི་ཊོ་ནི་ཡར་རང་བཙན་ཐོབ་ཟིན་པས་ངས་དྲག་གནོན་འོག་སྡུག་ངལ་ཇི་ཙམ་ཡོད་པ་ཚོར་ཤེས་མི་ཐུབ་ཀྱང་། ད་ལྟའི་ཆར་ང་ཚོར་རང་དབང་ཡོད་པས་དེར་ངས་ཡིད་སྨོན་བྱེད་ཀྱི་ཡོད། ངའི་རྨོ་རྨོའི་མདུན་ནས་དེ་སྔོན་ཨི་སི་ཊོ་ནི་ཡའི་རྒྱལ་དར་སྦས་དགོས་བྱུང་བའི་གནས་ཚུལ་གོ་ཐོས་བྱུང་། སྟབས་མ་ལེགས་པ་ཞིག་ལ་དེ་ལྟ་བུའི་གནས་སྟངས་དེ་ད་ལྟ་བོད་ནང་བྱུང་བཞིན་ཡོད།',\n",
       "    'དེ་ཡིན་དུས་ངས་བོད་དོན་ཆེད་གང་བྱེད་ཐུབ་བམ་ཞེས་དྲི་བ་དྲིས་པ་ཡིན། ང་ཚོས་ཁྱེད་ཚོར་གདུང་སེམས་མཉམ་སྐྱེ་དང་བོད་དོན་ལ་རྒྱབ་སྐྱོར་བྱ་རྒྱུ་ཡིན། བྱས་ཙང་དེ་རིང་ང་ཚོ་ཁྱེད་རྣམ་པ་ལྷན་དུ་བོད་ཀྱི་མང་གཙོའི་དུས་ཆེན་སྲུང་བརྩི་ཞུ་བར་བཅར་བ་ཡིན། དེ་ལས་ལྷག་པ་ངས་བོད་ཀྱི་ཆོས་དང་རིག་གཞུང་། དེ་བཞིན་བོད་ཀྱི་དཀའ་ངལ་སྐོར་ངའི་ལས་རོགས་དང་། ཡུ་རོབ། དེ་ལས་རྒྱ་ཆེ་ས་ནས་འཛམ་བུ་གླིང་ལ་འཆད་རྒྱུ་ཡིན། དེ་གལ་ཆེན་པོ་རེད་བསམ་གྱི་འདུག མི་མང་པོས་བོད་དོན་སྐོར་ཤེས་ཀྱི་མེད། ང་ཚོས་ཁོ་ཚོར་ཁག་དཀྲི་རྒྱུ་མེད། བོད་དོན་སྐོར་གོ་རྟོགས་སྤེལ་རྒྱུ་དེ་ང་ཚོའི་ལས་འགན་རེད། ཉིན་དེ་རིང་ནས་བཟུང་ང་དང་ངའི་ལས་རོགས་ཚོས་བོད་དོན་སྐོར་གླེང་སློང་ཞུ་རྒྱུ་ཡིན། ང་ཚོ་ཚང་མ་འཆམ་མཐུན་དང་། མཛའ་བརྩེ་ལྡན་ཞིང་རང་དབང་ལྡན་པའི་རྒྱལ་ཁབ་ཏུ་འཚོ་བ་སྐྱེལ་འདོད་ཡོད། ཞེས་གསུངས།སྐུ་མགྲོན་གཙོ་བོ་ཨི་སི་ཊོ་ནི་ཡའི་གྲོས་ཚོགས་འཐུས་མིའི་བོད་དོན་རྒྱབ་སྐྱོར་ཚོགས་པའི་ཚོགས་གཙོ་སྐུ་ཞབས་ཇུ་ཀུ་ཁ་ལེ་རེཊ་(Juku Kalle Raid)ལགས་ཀྱིས་དུས་ཆེན་དང་འབྲེལ་ཏེ་གསུང་བཤད་གནང་དོན། དེ་རིང་ང་ཚོས་བོད་ཀྱི་མང་གཙོའི་དུས་ཆེན་སྲུང་བརྩི་ཞུ་གི་ཡོད། མང་གཙོ་ནི་སྲིད་དབང་སྒེར་འཛིན་རིང་ལུགས་ལས་ཧ་ཅང་གི་ཡག་གི་རེད། རྒྱ་ནག་དང་། ཨི་རན། བྱང་ཀོ་རི་ཡ་སོགས་ནི་སྲིད་དབང་སྒེར་འཛིན་པའི་དབང་སྒྱུར་འོག་ཏུ་ཡོད། མང་གཙོ་ལག་བསྟར་ཚུལ་བཞིན་བྱེད་ཐུབ་ན་ཡག་པོ་ཡོད། མང་གཙོ་ནི་ལག་ཆ་ལྟ་བུ་རེད། དེ་བེད་སྤྱོད་གཏང་རྒྱུ་ལས་སླ་པོ་མེད། མང་གཙོ་ལག་བསྟར་ཚུལ་བཞིན་བྱེད་མ་ཤེས་ན་དཀའ་ངལ་འཕྲད་སྲིད་པ་རེད། མང་གཙོའི་ལམ་སྲོལ་དེ་རྙིང་པ་ཞེ་དྲག་མ་རེད། རྒྱ་ནག་ལའང་མང་གཙོ་ལག་བསྟར་བྱ་རྒྱུའི་གོ་སྐབས་བྱུང་ཡོད།མང་གཙོ་ནི་བསམ་ཚུལ་འདྲ་མིན་ལ་བསམ་ཤེས་ཀྱིས་རང་དབང་ལྡན་ཞིང་ཞི་བདེའི་འཚོ་བ་སྐྱེལ་རྒྱུ་དེ་རེད། མང་གཙོའི་ནང་ཕན་ཚུན་བསམ་ཤེས་གུ་ཡངས་བྱ་དགོས། ང་ཚོ་ཕན་ཚུན་བར་ལྟ་བ་ལངས་ཕྱོགས་མི་མཐུན་པ་ཡོད་ནའང་གཞི་རྩ་དེ་རང་དབང་རེད། དེང་སང་འཛམ་བུ་གླིང་འདི་རང་དབང་ནས་ཐག་ཇེ་རིང་དུ་འགྲོ་བཞིན་ཡོད་པས། དེ་ནི་བློ་འཚབ་སྐྱེ་གཞི་ཞིག་རེད།ཉེ་ཆར་རྒྱ་ནག་གཞུང་ཚབ་ཁང་གི་ཡི་གེ་ཞིག་བཏང་འདུག་པ་དེའི་ནང་ང་རང་གླེན་པ་རེད་ཅེས་གསལ་འདུག་པ་མ་ཟད། རྒྱ་ནག་གིས་བོད་བཅིངས་གྲོལ་བཏང་བ་ཡིན་ཞེས་རྫུན་གཏམ་བསྐྱར་བཤད་བྱས་འདུག རང་དབང་གི་ལས་འགུལ་དེ་མི་རེ་ངོ་རེ་ལས་འགོ་བཙུགས་དགོས། ང་ཚོས་ཁྱེད་རྣམ་པར་རྒྱབ་སྐྱོར་བྱེད་ངེས་རེད། བྱས་ཙང་དེ་རིང་ང་ཚོ་འདིར་བཅར་བ་ཡིན།ཨི་སི་ཊོ་ནི་ཡ་གྲོས་ཚོགས་ནས་གཞུང་འབྲེལ་ཐོག་བོད་ཀྱི་ཆོས་དང་རིག་གཞུང་། རང་དབང་ལ་རྒྱབ་སྐྱོར་བྱེད་པའི་རེ་བ་འཆང་གི་ཡོད། ཅེས་གསུངས་ཡོད།',\n",
       "    'དེ་ནས་དཔལ་ལྡན་ཁྲིམས་ཞིབ་པ་གཞན་བསྟན་འཛིན་ལུང་རྟོགས་མཆོག་གིས་འདི་ལོར་ཕུལ་བྱུང་སློབ་ཡོན་བཞེས་མཁན་སློབ་ཕྲུག་གྲངས་ ༢ ལ་ཕྱག་འཁྱེར་དང་པང་ཐོག་ཀམ་པཱུ་ཊར། དེ་བཞིན་རིག་ཚན་སོ་སོའི་རྩེ་ཕུད་སོན་པའི་སློབ་ཕྲུག་གྲངས་ ༡༡ ལ་དགའ་ལྡན་ཕོ་བྲང་གི་གཟེངས་བསྟོད་ཕྱག་འཁྱེར་དང་། དཔལ་ལྡན་བོད་མི་མང་སྤྱི་འཐུས་ཚོགས་གཙོ་མཁན་པོ་བསོད་ནམས་བསྟན་འཕེལ་མཆོག་གིས་འབུམ་རམས་པ་ཆེ་བསྟོད་བྱ་དགའ་བཞེས་མཁན་ ༡༦ ལ་ཕྱག་འཁྱེར་དང་ལེགས་གསོལ་དང་། དཔལ་ལྡན་སྲིད་སྐྱོང་སྤེན་པ་ཚེ་རིང་མཆོག་གིས་དབུས་རང་ཁོངས་ལས་བྱེད་ཞབས་ལོ་ ༢༥ ཡན་འཁོར་མཁན་ལས་བྱེད་བཞི་ལ་ལེགས་གསོལ་ཕྱག་འཁྱེར་གནང་།',\n",
       "    'དེ་ནས་ཡོངས་གླིང་སློབ་གྲྭ་ནས་སྐར་མ་ཁྲ་འཛུམ་བཞེས་པ་དང་། དྷ་སྟེང་བོད་ཁྱིམ་ནས་ཨ་མདོའི་འཁྲབ་གཞས། དྷ་ཤོད་བོད་ཁྱིམ་ནས་ནང་མ་བྱ་ལ་ཞེས་པ། གངས་སྐྱིད་དཔེ་སྟོན་སློབ་གྲྭ་ནས་མདོ་སྨད་གསེར་ཁྲི་མངའ་གསོལ་ཞེས་པ་གཟིགས་ཕུལ་ཞུ་ཡོད་པ་བཅས།།',\n",
       "    '']},\n",
       "  'meta_data': {'URL': 'https://bod.asia/2024/09/%e0%bd%96%e0%bd%bc%e0%bd%91%e0%bc%8b%e0%bd%98%e0%bd%b2%e0%bd%a0%e0%bd%b2%e0%bc%8b%e0%bd%98%e0%bd%84%e0%bc%8b%e0%bd%82%e0%bd%99%e0%bd%bc%e0%bd%a0%e0%bd%b2%e0%bc%8b%e0%bd%91%e0%bd%b4%e0%bd%a6-12/',\n",
       "   'Author': 'གསར་ལས་ཁང་གི་གསར་འགོད་པས།',\n",
       "   'Date': 'Date not found',\n",
       "   'Tags': ['གསར་འགྱུར།']}},\n",
       " 'Message': 'Success',\n",
       " 'Response': 200}"
      ]
     },
     "execution_count": 6,
     "metadata": {},
     "output_type": "execute_result"
    }
   ],
   "source": [
    "url = \"https://bod.asia/2024/09/%e0%bd%96%e0%bd%bc%e0%bd%91%e0%bc%8b%e0%bd%98%e0%bd%b2%e0%bd%a0%e0%bd%b2%e0%bc%8b%e0%bd%98%e0%bd%84%e0%bc%8b%e0%bd%82%e0%bd%99%e0%bd%bc%e0%bd%a0%e0%bd%b2%e0%bc%8b%e0%bd%91%e0%bd%b4%e0%bd%a6-12/\"\n",
    "scrape_BOD_ASIA_article_content(url)\n"
   ]
  },
  {
   "cell_type": "code",
   "execution_count": null,
   "metadata": {},
   "outputs": [],
   "source": []
  },
  {
   "cell_type": "code",
   "execution_count": null,
   "metadata": {},
   "outputs": [],
   "source": []
  },
  {
   "cell_type": "code",
   "execution_count": null,
   "metadata": {},
   "outputs": [],
   "source": []
  },
  {
   "cell_type": "code",
   "execution_count": null,
   "metadata": {},
   "outputs": [],
   "source": []
  },
  {
   "cell_type": "code",
   "execution_count": null,
   "metadata": {},
   "outputs": [],
   "source": []
  },
  {
   "cell_type": "code",
   "execution_count": null,
   "metadata": {},
   "outputs": [],
   "source": []
  },
  {
   "cell_type": "code",
   "execution_count": null,
   "metadata": {},
   "outputs": [],
   "source": []
  },
  {
   "cell_type": "code",
   "execution_count": null,
   "metadata": {},
   "outputs": [],
   "source": []
  },
  {
   "cell_type": "code",
   "execution_count": null,
   "metadata": {},
   "outputs": [],
   "source": []
  }
 ],
 "metadata": {
  "kernelspec": {
   "display_name": "base",
   "language": "python",
   "name": "python3"
  },
  "language_info": {
   "codemirror_mode": {
    "name": "ipython",
    "version": 3
   },
   "file_extension": ".py",
   "mimetype": "text/x-python",
   "name": "python",
   "nbconvert_exporter": "python",
   "pygments_lexer": "ipython3",
   "version": "3.9.13"
  }
 },
 "nbformat": 4,
 "nbformat_minor": 2
}
