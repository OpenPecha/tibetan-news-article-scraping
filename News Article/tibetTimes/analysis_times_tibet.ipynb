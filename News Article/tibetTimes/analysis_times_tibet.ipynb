{
 "cells": [
  {
   "cell_type": "code",
   "execution_count": 1,
   "metadata": {},
   "outputs": [],
   "source": [
    "import os\n",
    "import json"
   ]
  },
  {
   "cell_type": "code",
   "execution_count": 2,
   "metadata": {},
   "outputs": [],
   "source": [
    "\n",
    "\n",
    "def analyze_json_files(folder_path):\n",
    "    each_catogory = {}\n",
    "    \n",
    "\n",
    "    # Iterate through all files in the folder\n",
    "    for filename in os.listdir(folder_path):\n",
    "        if filename.endswith(\".json\"):\n",
    "            file_path = os.path.join(folder_path, filename)\n",
    "            file_name_list = filename.split(\"_\")\n",
    "            # if file is part of //link// then go to next file. \n",
    "            if \"link\" in file_name_list:\n",
    "                continue\n",
    "\n",
    "            with open(file_path, 'r', encoding='utf-8') as file:\n",
    "                try:\n",
    "                    each_body = {\n",
    "                                \"Audio_Count\": \"\",\n",
    "                                \"Text_Count\": \"\",\n",
    "                                \"Title_Count\": \"\",\n",
    "                                \"Total_Article\": \"\",\n",
    "                                \"Total_Error\": \"\"\n",
    "\n",
    "                            }\n",
    "                    articles_with_audio = 0\n",
    "                    articles_with_text = 0\n",
    "                    articles_with_title = 0\n",
    "                    total_error = 0\n",
    "\n",
    "                    data = json.load(file)\n",
    "\n",
    "                    each_body[\"Total_Article\"] = len(data)\n",
    "                    # checking each audio in the content.\n",
    "                    for each_key in data:\n",
    "                        if data.get(each_key)['Response'] == 200:\n",
    "                            text_data = data.get(each_key)['data']['body']['Text']\n",
    "                            audio_data = data.get(each_key)['data']['body']['Audio']\n",
    "                            title_data = data.get(each_key)['data']['title']\n",
    "                            \n",
    "                            if audio_data != \"No Audio in TibetTimes\":\n",
    "                                articles_with_audio += 1\n",
    "                            # checking each body in the content.\n",
    "                            if text_data != \"No Content in the article\":\n",
    "                                articles_with_text += 1\n",
    "                            # checking each title in the content.\n",
    "                            if title_data != \"Title not found\":\n",
    "                                articles_with_title += 1\n",
    "                        else:\n",
    "                            total_error += 1\n",
    "\n",
    "                    each_body['Audio_Count'] = articles_with_audio\n",
    "                    each_body['Text_Count'] = articles_with_text\n",
    "                    each_body['Title_Count'] = articles_with_title\n",
    "                    each_body['Total_Error'] = total_error\n",
    "                    \n",
    "                    each_catogory[filename] = each_body\n",
    "\n",
    "                except json.JSONDecodeError:\n",
    "                    print(f\"Error decoding JSON in file: {filename}\")\n",
    "                except KeyError:\n",
    "                    print(f\"Unexpected structure in file: {filename}\")\n",
    "\n",
    "    # Print the analysis results\n",
    "    return each_catogory\n",
    "\n",
    "\n",
    "\n"
   ]
  },
  {
   "cell_type": "code",
   "execution_count": 3,
   "metadata": {},
   "outputs": [
    {
     "name": "stdout",
     "output_type": "stream",
     "text": [
      "Unexpected structure in file: TT_Analysis.json\n"
     ]
    },
    {
     "data": {
      "text/plain": [
       "{'TT_ALL_content_གསུང་འཕྲིན།.json': {'Audio_Count': 0,\n",
       "  'Text_Count': 96,\n",
       "  'Title_Count': 96,\n",
       "  'Total_Article': 96,\n",
       "  'Total_Error': 0},\n",
       " 'TT_ALL_content_གོང་ས་མཆོག.json': {'Audio_Count': 0,\n",
       "  'Text_Count': 1012,\n",
       "  'Title_Count': 1012,\n",
       "  'Total_Article': 1012,\n",
       "  'Total_Error': 0},\n",
       " 'TT_ALL_content_བཙན་བྱོལ།.json': {'Audio_Count': 0,\n",
       "  'Text_Count': 6422,\n",
       "  'Title_Count': 6422,\n",
       "  'Total_Article': 6423,\n",
       "  'Total_Error': 1},\n",
       " 'TT_ALL_content_བསམ་ཚུལ།.json': {'Audio_Count': 0,\n",
       "  'Text_Count': 2168,\n",
       "  'Title_Count': 2168,\n",
       "  'Total_Article': 2168,\n",
       "  'Total_Error': 0},\n",
       " 'TT_ALL_content_བོད.json': {'Audio_Count': 0,\n",
       "  'Text_Count': 3104,\n",
       "  'Title_Count': 3104,\n",
       "  'Total_Article': 3104,\n",
       "  'Total_Error': 0},\n",
       " 'TT_ALL_content_རྒྱ་ནག.json': {'Audio_Count': 0,\n",
       "  'Text_Count': 1504,\n",
       "  'Title_Count': 1504,\n",
       "  'Total_Article': 1504,\n",
       "  'Total_Error': 0},\n",
       " 'TT_ALL_content_རྒྱལ་སྤྱི།.json': {'Audio_Count': 0,\n",
       "  'Text_Count': 3336,\n",
       "  'Title_Count': 3336,\n",
       "  'Total_Article': 3336,\n",
       "  'Total_Error': 0},\n",
       " 'TT_ALL_content_རྩོམ་སྒྲིག་པའི་གཏམ།.json': {'Audio_Count': 0,\n",
       "  'Text_Count': 216,\n",
       "  'Title_Count': 216,\n",
       "  'Total_Article': 216,\n",
       "  'Total_Error': 0},\n",
       " 'TT_ALL_content_སྒྱུར་རྩོམ།.json': {'Audio_Count': 0,\n",
       "  'Text_Count': 232,\n",
       "  'Title_Count': 232,\n",
       "  'Total_Article': 232,\n",
       "  'Total_Error': 0}}"
      ]
     },
     "execution_count": 3,
     "metadata": {},
     "output_type": "execute_result"
    }
   ],
   "source": [
    "# Usage\n",
    "folder_path = './data/'  # Replace with the actual path to your data folder\n",
    "Analysis = analyze_json_files(folder_path)\n",
    "Analysis"
   ]
  },
  {
   "cell_type": "code",
   "execution_count": 4,
   "metadata": {},
   "outputs": [],
   "source": [
    "def save_json(path, file_name, data):\n",
    "    \"\"\"\n",
    "    \n",
    "    \"\"\"\n",
    "    with open(path+file_name, \"w\") as outfile:\n",
    "        json.dump(data, outfile, indent=4)\n",
    "        print(f\"Successfully saved: {file_name}\")"
   ]
  },
  {
   "cell_type": "code",
   "execution_count": 5,
   "metadata": {},
   "outputs": [
    {
     "name": "stdout",
     "output_type": "stream",
     "text": [
      "Successfully saved: TT_Analysis.json\n"
     ]
    }
   ],
   "source": [
    "save_file_name = f\"TT_Analysis.json\"\n",
    "path = \"./data/\"\n",
    "save_json(path, save_file_name, Analysis)"
   ]
  },
  {
   "cell_type": "code",
   "execution_count": 6,
   "metadata": {},
   "outputs": [
    {
     "name": "stderr",
     "output_type": "stream",
     "text": [
      "C:\\Users\\tashi\\AppData\\Roaming\\Python\\Python39\\site-packages\\pandas\\core\\arrays\\masked.py:60: UserWarning: Pandas requires version '1.3.6' or newer of 'bottleneck' (version '1.3.5' currently installed).\n",
      "  from pandas.core import (\n"
     ]
    },
    {
     "name": "stdout",
     "output_type": "stream",
     "text": [
      "Chart saved as TT_Analysis.png\n"
     ]
    },
    {
     "data": {
      "image/png": "[encoded data removed]",
      "text/plain": [
       "<Figure size 1200x600 with 1 Axes>"
      ]
     },
     "metadata": {},
     "output_type": "display_data"
    }
   ],
   "source": [
    "import pandas as pd\n",
    "import seaborn as sns\n",
    "import matplotlib.pyplot as plt\n",
    "\n",
    "\n",
    "data = Analysis\n",
    "\n",
    "# Sum up the counts\n",
    "total_counts = {\n",
    "    \"Audio\": sum(file_data[\"Audio_Count\"] for file_data in data.values()),\n",
    "    \"Text\": sum(file_data[\"Text_Count\"] for file_data in data.values()),\n",
    "    \"Title\": sum(file_data[\"Title_Count\"] for file_data in data.values()),\n",
    "    \"Total Articles\": sum(file_data[\"Total_Article\"] for file_data in data.values()),\n",
    "    \"Errors\": sum(file_data[\"Total_Error\"] for file_data in data.values())\n",
    "}\n",
    "\n",
    "# Create a DataFrame\n",
    "df = pd.DataFrame(list(total_counts.items()), columns=['Category', 'Count'])\n",
    "\n",
    "# Set up the plot style\n",
    "sns.set_style(\"whitegrid\")\n",
    "plt.figure(figsize=(12, 6))\n",
    "\n",
    "# Create the bar plot\n",
    "ax = sns.barplot(x='Category', y='Count', data=df, palette='viridis')\n",
    "\n",
    "# Customize the plot\n",
    "plt.title('Aggregated Article Content Analysis in Tibet Times', fontsize=20, pad=20)\n",
    "plt.xlabel('Category', fontsize=14, labelpad=10)\n",
    "plt.ylabel('Count', fontsize=14, labelpad=10)\n",
    "\n",
    "# Add value labels on top of each bar\n",
    "for i, v in enumerate(df['Count']):\n",
    "    ax.text(i, v, f'{v:,}', ha='center', va='bottom', fontsize=12)\n",
    "\n",
    "# Rotate x-axis labels for better readability\n",
    "plt.xticks(rotation=45, ha='right')\n",
    "\n",
    "# Adjust layout and display the plot\n",
    "plt.tight_layout()\n",
    "\n",
    "\n",
    "file_name = \"TT_Analysis.png\"\n",
    "# Save the plot in the data directory\n",
    "plt.savefig(path+file_name, dpi=300, bbox_inches='tight')\n",
    "\n",
    "print(f\"Chart saved as {file_name}\")\n",
    "\n",
    "plt.show()\n"
   ]
  }
 ],
 "metadata": {
  "kernelspec": {
   "display_name": "base",
   "language": "python",
   "name": "python3"
  },
  "language_info": {
   "codemirror_mode": {
    "name": "ipython",
    "version": 3
   },
   "file_extension": ".py",
   "mimetype": "text/x-python",
   "name": "python",
   "nbconvert_exporter": "python",
   "pygments_lexer": "ipython3",
   "version": "3.9.13"
  }
 },
 "nbformat": 4,
 "nbformat_minor": 2
}
