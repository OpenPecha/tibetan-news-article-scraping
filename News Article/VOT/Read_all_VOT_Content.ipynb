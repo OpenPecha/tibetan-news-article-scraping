{
 "cells": [
  {
   "cell_type": "code",
   "execution_count": 2,
   "metadata": {},
   "outputs": [
    {
     "name": "stderr",
     "output_type": "stream",
     "text": [
      "C:\\Users\\tashi\\AppData\\Roaming\\Python\\Python39\\site-packages\\pandas\\core\\arrays\\masked.py:60: UserWarning: Pandas requires version '1.3.6' or newer of 'bottleneck' (version '1.3.5' currently installed).\n",
      "  from pandas.core import (\n"
     ]
    }
   ],
   "source": [
    "import requests\n",
    "from bs4 import BeautifulSoup\n",
    "from tqdm import tqdm\n",
    "import pandas as pd\n",
    "import json\n",
    "\n",
    "from typing import Dict, Any"
   ]
  },
  {
   "cell_type": "code",
   "execution_count": 60,
   "metadata": {},
   "outputs": [],
   "source": [
    "def scrape_vot_article(url: str) -> Dict[str, Any]:\n",
    "    \"\"\"\n",
    "    Scrapes an article from the VOT (Voice of Tibet) website.\n",
    "\n",
    "    Args:\n",
    "    url (str): The URL of the VOT article to scrape.\n",
    "\n",
    "    Returns:\n",
    "    Dict[str, Any]: A dictionary containing the scraped information and status details:\n",
    "        {\n",
    "            'data': {\n",
    "                'title': str,\n",
    "                'body': {\n",
    "                    'Audio': str,\n",
    "                    'Text': List[str]\n",
    "                },\n",
    "                'meta_data': {\n",
    "                    'Author': str,\n",
    "                    'Date': str,\n",
    "                    'Tags': List[str],\n",
    "                    'URL': str\n",
    "                }\n",
    "            },\n",
    "            'Message': str,\n",
    "            'Response': int\n",
    "        }\n",
    "    \"\"\"\n",
    "    headers = {\n",
    "        'User-Agent': 'Mozilla/5.0 (Windows NT 10.0; Win64; x64) AppleWebKit/537.36 (KHTML, like Gecko) Chrome/91.0.4472.124 Safari/537.36'\n",
    "    }\n",
    "    \n",
    "    final_response = {\n",
    "        \"data\": {\n",
    "            'title': \"\",\n",
    "            'body': {\"Audio\": \"\", \"Text\": []},\n",
    "            'meta_data': {'URL': url, 'Author': \"\", 'Date': \"\", 'Tags': []}\n",
    "        },\n",
    "        \"Message\": \"Success\",\n",
    "        \"Response\": 200\n",
    "    }\n",
    "    \n",
    "    try:\n",
    "        response = requests.get(url, headers=headers, timeout=120)\n",
    "        response.raise_for_status()\n",
    "        soup = BeautifulSoup(response.content, 'html.parser')\n",
    "        \n",
    "        # Extract title\n",
    "        title = soup.find('h1', class_='tdb-title-text')\n",
    "        final_response['data']['title'] = title.text.strip() if title else \"Title not found\"\n",
    "\n",
    "        # Extracting Meta Data\n",
    "        try:\n",
    "            meta_data_body = soup.find('div', class_=\"vc_column_inner tdi_85 wpb_column vc_column_container tdc-inner-column td-pb-span6\")\n",
    "            if meta_data_body:\n",
    "                author_name = meta_data_body.find('a', class_=\"tdb-author-name\")\n",
    "                final_response['data']['meta_data'][\"Author\"] = author_name.get_text() if author_name else \"Author not found\"\n",
    "                \n",
    "                date_time = meta_data_body.find('time', class_=\"entry-date updated td-module-date\")\n",
    "                final_response['data']['meta_data'][\"Date\"] = date_time.get_text() if date_time else \"Date not found\"\n",
    "        except AttributeError:\n",
    "            final_response['data']['meta_data'][\"Author\"] = \"Error fetching author\"\n",
    "            final_response['data']['meta_data'][\"Date\"] = \"Error fetching date\"\n",
    "\n",
    "        # Getting tag meta data \n",
    "        try:\n",
    "            tag_meta = soup.find('ul', class_='tdb-tags')\n",
    "            if tag_meta:\n",
    "                tag_meta = tag_meta.select('li a')\n",
    "                final_response['data']['meta_data'][\"Tags\"] = [tag.text for tag in tag_meta]\n",
    "        except AttributeError:\n",
    "            final_response['data']['meta_data'][\"Tags\"] = []\n",
    "\n",
    "        # Extract body content\n",
    "        try:\n",
    "            body = soup.find('div', class_='td_block_wrap tdb_single_content tdi_100 td-pb-border-top td_block_template_1 td-post-content tagdiv-type')\n",
    "            if body:\n",
    "                # Extracting all <p> tags for text content\n",
    "                paragraphs = body.find_all('p')\n",
    "                final_response['data']['body'][\"Text\"] = [para.get_text(strip=True) for para in paragraphs]\n",
    "\n",
    "                # Find the audio tag and get its src attribute\n",
    "                audio = body.find('figure', class_='wp-block-audio')\n",
    "                if audio:\n",
    "                    audio_tag = audio.find('audio')\n",
    "                    if audio_tag:\n",
    "                        final_response['data']['body'][\"Audio\"] = audio_tag.get('src', \"No audio source found\")\n",
    "        except AttributeError:\n",
    "            final_response['data']['body'][\"Text\"] = [\"Error fetching body content\"]\n",
    "        \n",
    "        return final_response\n",
    "    except requests.Timeout:\n",
    "        final_response[\"Message\"] = \"Request timed out\"\n",
    "        final_response[\"Response\"] = 408  # Request Timeout\n",
    "        return final_response\n",
    "        \n",
    "    except requests.RequestException as e:\n",
    "        final_response[\"Message\"] = f\"An error occurred while fetching the article: {str(e)}\"\n",
    "        final_response[\"Response\"] = getattr(e.response, 'status_code', 500)\n",
    "        return final_response\n"
   ]
  },
  {
   "cell_type": "markdown",
   "metadata": {},
   "source": [
    "### Test Code for Extracting the Article content"
   ]
  },
  {
   "cell_type": "code",
   "execution_count": 3,
   "metadata": {},
   "outputs": [
    {
     "data": {
      "text/plain": [
       "{'data': {'title': 'བོད་ཀྱི་གཞོན་ནུ་ལྷན་ཚོགས་ཀྱི་འགན་འཛིན་ལྷན་ཚོགས་ཐེངས་ ༥༤ པ་མཇུག་བསྒྲིལ་འདུག',\n",
       "  'body': {'Audio': 'https://vot.org/wp-content/uploads/2024/08/Gangtok-TYC-54-Working-Committee-Meet-Concludes.mp3',\n",
       "   'Text': ['ཁ་སྔོན་ཕྱི་ཚེས་ ༥ ནས་འགོ་འཛུགས་བྱུང་བའི་བོད་ཀྱི་གཞོན་ནུ་ལྷན་ཚོགས་ཀྱི་འགན་འཛིན་ལྷན་ཚོགས་ཐེངས་ ༥༤ དེ་ཕྱི་ཚེས་ ༡༠ ཉིན་མཇུག་བསྒྲིལ་ཡོད་པ་དང་།\\xa0\\xa0 བོད་ཀྱི་གཞོན་ནུ་ལྷན་ཚོགས་ཀྱི་ངོས་ནས་ད་རེས་ཀྱི་འགན་འཛིན་ལྷན་ཚོགས་འདིའི་བརྒྱུད།\\xa0 རྒྱ་ནག་གཞུང་གིས་བོད་མིའི་ངོ་བོ་རྩ་མེད་བཟོ་བའི་སྲིད་བྱུས་འོག\\xa0\\xa0 བོད་ཀྱི་ཆོས་དང་རིག་གཞུང་སྐད་ཡིག་བཅས་པར་ཕྱོགས་གང་ས་ནས་དམ་དྲག་ཇེ་ཆེར་བྱེད་བཞིན་པ་དེར་ངོ་རྒོལ་གྱིས་བསྒྲགས་གཏམ་ཞིག་སྤེལ་ཡོད་པ་རེད།',\n",
       "    'ད་རེས་ཀྱི་འགན་འཛིན་ལྷན་ཚོགས་ཐེངས་ ༥༤ པ་དེའི་ཐོག\\xa0\\xa0 རྒྱ་གར་དང་བལ་ཡུལ་བཅས་ས་གནས་ཁག་ ༣༨ ནས་ཚོགས་བཅར་བ་མི་གྲངས་\\xa0 ༢༠༠ ཙམ་ཞིག་འདུ་འཛོམས་བྱུང་ཡོད་པ་དང་།\\xa0 ཉིན་གྲངས་ལྔའི་རིང་ཚོགས་བཅར་བ་ཕན་ཚུན་བཀའ་བསྡུར་དང་འབྲེལ་གྲོས་ཆོད་དོན་ཚན་བརྒྱད་གཏན་འབེབས་གནང་ཐུབ་པ་མ་ཟད།\\xa0 སྤྱི་མོས་གྲོས་ཆོད་ཞིག་གཏན་འབེབས་བྱུང་ཡོད་པ་དེའི་ནང་བོད་ཀྱི་སྐད་ཡིག་མི་ཉམས་རྒྱུན་འཛིན་སླད།\\xa0 བོད་པའི་ཚོང་ཁང་དང་། ཟ་ཁང་།\\xa0\\xa0 མགྲོན་ཁང་།\\xa0 འགྲིམ་འགྲུལ་ཁང་སོགས་ཀྱི་སྒོ་བྱང་ཐོག་ངེས་པར་དུ་བོད་ཡིག་འབྲི་འགོད་ཡོང་ཐབས་དང་།\\xa0\\xa0 ལྷག་པར་གཞོན་ནུའི་སྒྲིག་འཛུགས་ཁྱབ་ཁོངས་ནས་ཕྱིར་འཐེན་བྱས་པའི་སྦེལ་ཀོབ་དང་ཧོན་སུར།\\xa0 ཀོ་ལི་གྷལ་བཅས་ཀྱི་གཞོན་ནུའི་མིང་འཛིན་པ་ཚོས་གཞོན་ནུའི་མཚན་བྱང་བཀོལ་སྤྱོད་མི་ཆོག་པ་བཅས་ཀྱི་གྲོས་ཆོད་ཀྱང་གཏན་འབེབས་བྱུང་ཡོད་པ་རེད།',\n",
       "    'བོད་ཀྱི་གཞོན་ནུ་ལྷན་ཚོགས་ཀྱི་སྤྱི་ཁྱབ་ཚོགས་གཙོ་མགོན་པོ་དོན་གྲུབ་ལགས་ཀྱིས།\\xa0\\xa0 ད་རེས་ཀྱི་འགན་འཛིན་ལྷན་ཚོགས་ཐེངས་ ༥༤ པ་དེ་སྒང་ཏོག་ས་གནས་ཀྱི་གཞོན་ནུ་ལྷན་ཚོགས་ངོས་ནས་གོ་སྒྲིག་ཞུས་པ་ཞིག་ཡིན་པ་དང་།\\xa0\\xa0 ལྷན་ཚོགས་དེ་ཚགས་ཚུད་ཡོང་ཐབས་སུ་ས་གནས་དབུས་རྒྱུན་ཟུར་པ་དང་།\\xa0 མངའ་སྡེའི་གཞུང་གི་ངོས་ནས་ཀྱང་མཐུན་འགྱུར་གང་འོས་གནང་ཡོད་པ་བཅས་འགྲེལ་བརྗོད་གནང་འདུག']},\n",
       "  'meta_data': {'URL': 'https://vot.org/%e0%bd%96%e0%bd%bc%e0%bd%91%e0%bc%8b%e0%bd%80%e0%be%b1%e0%bd%b2%e0%bc%8b%e0%bd%82%e0%bd%9e%e0%bd%bc%e0%bd%93%e0%bc%8b%e0%bd%93%e0%bd%b4%e0%bc%8b%e0%bd%a3%e0%be%b7%e0%bd%93%e0%bc%8b%e0%bd%9a-20/',\n",
       "   'Author': 'vot.org',\n",
       "   'Date': '13/08/2024',\n",
       "   'Tags': ['གསར་འགྱུར།', 'བཙན་བྱོལ།']}},\n",
       " 'Message': 'Success',\n",
       " 'Response': 200}"
      ]
     },
     "execution_count": 3,
     "metadata": {},
     "output_type": "execute_result"
    }
   ],
   "source": [
    "# Usage\n",
    "url = \"https://vot.org/%e0%bd%96%e0%bd%bc%e0%bd%91%e0%bc%8b%e0%bd%80%e0%be%b1%e0%bd%b2%e0%bc%8b%e0%bd%82%e0%bd%9e%e0%bd%bc%e0%bd%93%e0%bc%8b%e0%bd%93%e0%bd%b4%e0%bc%8b%e0%bd%a3%e0%be%b7%e0%bd%93%e0%bc%8b%e0%bd%9a-20/\"\n",
    "article = scrape_vot_article(url)\n",
    "\n",
    "article"
   ]
  },
  {
   "cell_type": "markdown",
   "metadata": {},
   "source": [
    "----------\n",
    "----------\n",
    "------------\n",
    "--------\n",
    "------------\n",
    "\n",
    "## Extracting all the article content from VOT >> གོང་ས་མཆོག page"
   ]
  },
  {
   "cell_type": "code",
   "execution_count": 12,
   "metadata": {},
   "outputs": [],
   "source": [
    "with open('ALL_link_གོང་ས་མཆོག.json', 'r') as openfile:\n",
    "    # Reading from json file\n",
    "    Loaded_All_VOT_CAT1_url_link = json.load(openfile)"
   ]
  },
  {
   "cell_type": "code",
   "execution_count": 32,
   "metadata": {},
   "outputs": [
    {
     "name": "stdout",
     "output_type": "stream",
     "text": [
      "Total count in the differnt article in གོང་ས་མཆོག: 213\n"
     ]
    }
   ],
   "source": [
    "Total_lenght = len(Loaded_All_VOT_CAT1_url_link)\n",
    "\n",
    "print(f\"Total count in the differnt article in གོང་ས་མཆོག: {Total_lenght}\")"
   ]
  },
  {
   "cell_type": "markdown",
   "metadata": {},
   "source": [
    "### running batch of 50 pages to prevent runtime error \n",
    "#### A. First 50 batches\n"
   ]
  },
  {
   "cell_type": "code",
   "execution_count": 26,
   "metadata": {},
   "outputs": [
    {
     "name": "stderr",
     "output_type": "stream",
     "text": [
      "  0%|          | 0/49 [00:00<?, ?it/s]"
     ]
    },
    {
     "name": "stderr",
     "output_type": "stream",
     "text": [
      "100%|██████████| 49/49 [17:35<00:00, 21.53s/it]\n"
     ]
    }
   ],
   "source": [
    "# running batch of 50 pages \n",
    "n = 50 \n",
    "all_article = {}\n",
    "for i in tqdm(range(1, n)):\n",
    "    page_key = \"Page གོང་ས་མཆོག \" + str(i)\n",
    "    all_link_page = Loaded_All_VOT_CAT1_url_link[page_key]\n",
    "    page_article_index = 1\n",
    "    for each_URL in all_link_page:\n",
    "        article_content = scrape_vot_article(each_URL)\n",
    "        article_key = page_key + \"_Article_\" + str(page_article_index)\n",
    "        page_article_index += 1\n",
    "        all_article[article_key] = article_content\n"
   ]
  },
  {
   "cell_type": "code",
   "execution_count": 27,
   "metadata": {},
   "outputs": [
    {
     "name": "stdout",
     "output_type": "stream",
     "text": [
      "Total Article extarcted from གོང་ས་མཆོག: 441\n"
     ]
    }
   ],
   "source": [
    "print(f\"Total Article extarcted from གོང་ས་མཆོག: {len(all_article)}\")"
   ]
  },
  {
   "cell_type": "markdown",
   "metadata": {},
   "source": [
    "#### Checking Failure count in གོང་ས་མཆོག in first 50 batch"
   ]
  },
  {
   "cell_type": "code",
   "execution_count": 28,
   "metadata": {},
   "outputs": [
    {
     "name": "stdout",
     "output_type": "stream",
     "text": [
      "total Failure in the གོང་ས་མཆོག article: 0\n"
     ]
    }
   ],
   "source": [
    "Failure_count = 0\n",
    "for each_article_key in all_article:\n",
    "    if all_article[each_article_key][\"Response\"] != 200:\n",
    "        print(each_article_key)\n",
    "        Failure_count += 1\n",
    "\n",
    "print(f\"total Failure in the གོང་ས་མཆོག article: {Failure_count}\")"
   ]
  },
  {
   "cell_type": "markdown",
   "metadata": {},
   "source": [
    "#### Running next bacth of གོང་ས་མཆོག \n",
    "#### B. next 50 batches\n"
   ]
  },
  {
   "cell_type": "code",
   "execution_count": 29,
   "metadata": {},
   "outputs": [
    {
     "name": "stderr",
     "output_type": "stream",
     "text": [
      "100%|██████████| 50/50 [18:08<00:00, 21.78s/it]\n"
     ]
    }
   ],
   "source": [
    "start = n\n",
    "n = n + 50\n",
    "for i in tqdm(range(start, n)):\n",
    "    page_key = \"Page གོང་ས་མཆོག \" + str(i)\n",
    "    all_link_page = Loaded_All_VOT_CAT1_url_link[page_key]\n",
    "    page_article_index = 1\n",
    "    for each_URL in all_link_page:\n",
    "        article_content = scrape_vot_article(each_URL)\n",
    "        article_key = page_key + \"_Article_\" + str(page_article_index)\n",
    "        page_article_index += 1\n",
    "        all_article[article_key] = article_content"
   ]
  },
  {
   "cell_type": "code",
   "execution_count": 30,
   "metadata": {},
   "outputs": [
    {
     "name": "stdout",
     "output_type": "stream",
     "text": [
      "Total Article extarcted from གོང་ས་མཆོག: 891\n"
     ]
    }
   ],
   "source": [
    "print(f\"Total Article extarcted from གོང་ས་མཆོག: {len(all_article)}\")"
   ]
  },
  {
   "cell_type": "markdown",
   "metadata": {},
   "source": [
    "#### Checking Failure count in གོང་ས་མཆོག next 50 batch"
   ]
  },
  {
   "cell_type": "code",
   "execution_count": null,
   "metadata": {},
   "outputs": [
    {
     "name": "stdout",
     "output_type": "stream",
     "text": [
      "total Failure in the གོང་ས་མཆོག article: 0\n"
     ]
    }
   ],
   "source": [
    "Failure_count = 0\n",
    "for each_article_key in all_article:\n",
    "    if all_article[each_article_key][\"Response\"] != 200:\n",
    "        print(each_article_key)\n",
    "        Failure_count += 1\n",
    "\n",
    "print(f\"total Failure in the གོང་ས་མཆོག article: {Failure_count}\")"
   ]
  },
  {
   "cell_type": "markdown",
   "metadata": {},
   "source": [
    "### Saving first 100 process "
   ]
  },
  {
   "cell_type": "code",
   "execution_count": 31,
   "metadata": {},
   "outputs": [],
   "source": [
    "with open(\"ALL_content_གོང་ས་མཆོག.json\", \"w\") as outfile:\n",
    "    json.dump(all_article , outfile, indent=5)"
   ]
  },
  {
   "cell_type": "markdown",
   "metadata": {},
   "source": [
    "#### Running next bacth of གོང་ས་མཆོག \n",
    "#### C. Next 50 batches total of 150 process"
   ]
  },
  {
   "cell_type": "code",
   "execution_count": 33,
   "metadata": {},
   "outputs": [
    {
     "name": "stderr",
     "output_type": "stream",
     "text": [
      "100%|██████████| 50/50 [21:22<00:00, 25.66s/it]\n"
     ]
    }
   ],
   "source": [
    "start = n\n",
    "n = n + 50\n",
    "for i in tqdm(range(start, n)):\n",
    "    page_key = \"Page གོང་ས་མཆོག \" + str(i)\n",
    "    all_link_page = Loaded_All_VOT_CAT1_url_link[page_key]\n",
    "    page_article_index = 1\n",
    "    for each_URL in all_link_page:\n",
    "        article_content = scrape_vot_article(each_URL)\n",
    "        article_key = page_key + \"_Article_\" + str(page_article_index)\n",
    "        page_article_index += 1\n",
    "        all_article[article_key] = article_content"
   ]
  },
  {
   "cell_type": "code",
   "execution_count": 34,
   "metadata": {},
   "outputs": [
    {
     "name": "stdout",
     "output_type": "stream",
     "text": [
      "Total Article extarcted from གོང་ས་མཆོག: 1341\n"
     ]
    }
   ],
   "source": [
    "print(f\"Total Article extarcted from གོང་ས་མཆོག: {len(all_article)}\")"
   ]
  },
  {
   "cell_type": "markdown",
   "metadata": {},
   "source": [
    "#### Checking Failure count in གོང་ས་མཆོག next 50 batch"
   ]
  },
  {
   "cell_type": "code",
   "execution_count": 35,
   "metadata": {},
   "outputs": [
    {
     "name": "stdout",
     "output_type": "stream",
     "text": [
      "total Failure in the གོང་ས་མཆོག article: 0\n"
     ]
    }
   ],
   "source": [
    "Failure_count = 0\n",
    "for each_article_key in all_article:\n",
    "    if all_article[each_article_key][\"Response\"] != 200:\n",
    "        print(each_article_key)\n",
    "        Failure_count += 1\n",
    "\n",
    "print(f\"total Failure in the གོང་ས་མཆོག article: {Failure_count}\")"
   ]
  },
  {
   "cell_type": "markdown",
   "metadata": {},
   "source": [
    "#### D. Running next bacth of གོང་ས་མཆོག (Total of 200 process)\n"
   ]
  },
  {
   "cell_type": "code",
   "execution_count": 36,
   "metadata": {},
   "outputs": [
    {
     "name": "stderr",
     "output_type": "stream",
     "text": [
      "100%|██████████| 50/50 [21:17<00:00, 25.55s/it]\n"
     ]
    }
   ],
   "source": [
    "start = n\n",
    "n = n + 50\n",
    "for i in tqdm(range(start, n)):\n",
    "    page_key = \"Page གོང་ས་མཆོག \" + str(i)\n",
    "    all_link_page = Loaded_All_VOT_CAT1_url_link[page_key]\n",
    "    page_article_index = 1\n",
    "    for each_URL in all_link_page:\n",
    "        article_content = scrape_vot_article(each_URL)\n",
    "        article_key = page_key + \"_Article_\" + str(page_article_index)\n",
    "        page_article_index += 1\n",
    "        all_article[article_key] = article_content"
   ]
  },
  {
   "cell_type": "code",
   "execution_count": 37,
   "metadata": {},
   "outputs": [
    {
     "name": "stdout",
     "output_type": "stream",
     "text": [
      "Total Article extarcted from གོང་ས་མཆོག: 1791\n"
     ]
    }
   ],
   "source": [
    "print(f\"Total Article extarcted from གོང་ས་མཆོག: {len(all_article)}\")"
   ]
  },
  {
   "cell_type": "markdown",
   "metadata": {},
   "source": [
    "#### Checking Failure count in གོང་ས་མཆོག next 50 batch"
   ]
  },
  {
   "cell_type": "code",
   "execution_count": 38,
   "metadata": {},
   "outputs": [
    {
     "name": "stdout",
     "output_type": "stream",
     "text": [
      "total Failure in the གོང་ས་མཆོག article: 0\n"
     ]
    }
   ],
   "source": [
    "Failure_count = 0\n",
    "for each_article_key in all_article:\n",
    "    if all_article[each_article_key][\"Response\"] != 200:\n",
    "        print(each_article_key)\n",
    "        Failure_count += 1\n",
    "\n",
    "print(f\"total Failure in the གོང་ས་མཆོག article: {Failure_count}\")"
   ]
  },
  {
   "cell_type": "markdown",
   "metadata": {},
   "source": [
    "### Saving next 100 process total 200 process "
   ]
  },
  {
   "cell_type": "code",
   "execution_count": 39,
   "metadata": {},
   "outputs": [],
   "source": [
    "with open(\"ALL_content_གོང་ས་མཆོག.json\", \"w\") as outfile:\n",
    "    json.dump(all_article , outfile, indent=5)"
   ]
  },
  {
   "cell_type": "markdown",
   "metadata": {},
   "source": [
    "#### Running the last 13 remaning process total of 213 process"
   ]
  },
  {
   "cell_type": "code",
   "execution_count": 41,
   "metadata": {},
   "outputs": [
    {
     "name": "stderr",
     "output_type": "stream",
     "text": [
      " 43%|████▎     | 6/14 [01:46<02:07, 15.92s/it]"
     ]
    }
   ],
   "source": [
    "start = n\n",
    "n = n + 14\n",
    "for i in tqdm(range(start, n)):\n",
    "    page_key = \"Page གོང་ས་མཆོག \" + str(i)\n",
    "    all_link_page = Loaded_All_VOT_CAT1_url_link[page_key]\n",
    "    page_article_index = 1\n",
    "    for each_URL in all_link_page:\n",
    "        article_content = scrape_vot_article(each_URL)\n",
    "        article_key = page_key + \"_Article_\" + str(page_article_index)\n",
    "        page_article_index += 1\n",
    "        all_article[article_key] = article_content"
   ]
  },
  {
   "cell_type": "code",
   "execution_count": null,
   "metadata": {},
   "outputs": [],
   "source": [
    "print(f\"Total Article extarcted from གོང་ས་མཆོག: {len(all_article)}\")"
   ]
  },
  {
   "cell_type": "code",
   "execution_count": null,
   "metadata": {},
   "outputs": [],
   "source": [
    "Failure_count = 0\n",
    "for each_article_key in all_article:\n",
    "    if all_article[each_article_key][\"Response\"] != 200:\n",
    "        print(each_article_key)\n",
    "        Failure_count += 1\n",
    "\n",
    "print(f\"total Failure in the གོང་ས་མཆོག article: {Failure_count}\")"
   ]
  },
  {
   "cell_type": "markdown",
   "metadata": {},
   "source": [
    "### Saving next 13 process total 213 process "
   ]
  },
  {
   "cell_type": "code",
   "execution_count": null,
   "metadata": {},
   "outputs": [],
   "source": [
    "with open(\"ALL_content_གོང་ས་མཆོག.json\", \"w\") as outfile:\n",
    "    json.dump(all_article , outfile, indent=5)"
   ]
  },
  {
   "cell_type": "code",
   "execution_count": null,
   "metadata": {},
   "outputs": [],
   "source": []
  },
  {
   "cell_type": "code",
   "execution_count": null,
   "metadata": {},
   "outputs": [],
   "source": []
  },
  {
   "cell_type": "code",
   "execution_count": null,
   "metadata": {},
   "outputs": [],
   "source": []
  },
  {
   "cell_type": "markdown",
   "metadata": {},
   "source": [
    "----------\n",
    "-------------\n",
    "-----------\n",
    "--------------"
   ]
  },
  {
   "cell_type": "markdown",
   "metadata": {},
   "source": [
    "## Extracting all the article content from VOT >> བོད page"
   ]
  },
  {
   "cell_type": "code",
   "execution_count": 100,
   "metadata": {},
   "outputs": [],
   "source": [
    "with open('ALL_link_བོད།.json', 'r') as openfile:\n",
    "    # Reading from json file\n",
    "    Loaded_All_VOT_CAT2_url_link = json.load(openfile)"
   ]
  },
  {
   "cell_type": "code",
   "execution_count": 101,
   "metadata": {},
   "outputs": [
    {
     "name": "stdout",
     "output_type": "stream",
     "text": [
      "Total count in the differnt article in བོད།: 174\n"
     ]
    }
   ],
   "source": [
    "Total_lenght = len(Loaded_All_VOT_CAT2_url_link)\n",
    "print(f\"Total count in the differnt article in བོད།: {Total_lenght}\")"
   ]
  },
  {
   "cell_type": "markdown",
   "metadata": {},
   "source": [
    "### running batch of 50 pages to prevent runtime error \n",
    "#### A. First 50 batches\n"
   ]
  },
  {
   "cell_type": "code",
   "execution_count": 107,
   "metadata": {},
   "outputs": [
    {
     "name": "stderr",
     "output_type": "stream",
     "text": [
      "100%|██████████| 49/49 [18:32<00:00, 22.70s/it]\n"
     ]
    }
   ],
   "source": [
    "# running batch of 50 pages \n",
    "start = 1\n",
    "if Total_lenght - start > 50:\n",
    "    n = 50\n",
    "else:\n",
    "    n = Total_lenght - start\n",
    "all_article = {}\n",
    "\n",
    "for i in tqdm(range(start, n)):\n",
    "    page_key = \"Page བོད \" + str(i)\n",
    "    all_link_page = Loaded_All_VOT_CAT2_url_link[page_key][\"Links\"]\n",
    "    page_article_index = 1\n",
    "    for each_URL in all_link_page:\n",
    "        article_content = scrape_vot_article(each_URL)\n",
    "        article_key = page_key + \"_Article_\" + str(page_article_index)\n",
    "        page_article_index += 1\n",
    "        all_article[article_key] = article_content"
   ]
  },
  {
   "cell_type": "code",
   "execution_count": 108,
   "metadata": {},
   "outputs": [
    {
     "name": "stdout",
     "output_type": "stream",
     "text": [
      "Total Article extarcted from བོད: 441\n"
     ]
    }
   ],
   "source": [
    "print(f\"Total Article extarcted from བོད: {len(all_article)}\")"
   ]
  },
  {
   "cell_type": "code",
   "execution_count": null,
   "metadata": {},
   "outputs": [],
   "source": []
  },
  {
   "cell_type": "markdown",
   "metadata": {},
   "source": [
    "#### Checking Failure count in བོད in first 50 batch"
   ]
  },
  {
   "cell_type": "code",
   "execution_count": 109,
   "metadata": {},
   "outputs": [
    {
     "name": "stdout",
     "output_type": "stream",
     "text": [
      "total Failure in the བོད article: 0\n"
     ]
    }
   ],
   "source": [
    "Failure_count = 0\n",
    "for each_article_key in all_article:\n",
    "    if all_article[each_article_key][\"Response\"] != 200:\n",
    "        print(each_article_key)\n",
    "        Failure_count += 1\n",
    "\n",
    "print(f\"total Failure in the བོད article: {Failure_count}\")"
   ]
  },
  {
   "cell_type": "markdown",
   "metadata": {},
   "source": [
    "### Saving First 50 batch total 50 process \n"
   ]
  },
  {
   "cell_type": "code",
   "execution_count": 110,
   "metadata": {},
   "outputs": [],
   "source": [
    "with open(\"ALL_content_བོད.json\", \"w\") as outfile:\n",
    "    json.dump(all_article , outfile, indent=5)"
   ]
  },
  {
   "cell_type": "markdown",
   "metadata": {},
   "source": [
    "#### Running next bacth of བོད\n",
    "#### B. Next 50 batches total of 100 process"
   ]
  },
  {
   "cell_type": "code",
   "execution_count": 111,
   "metadata": {},
   "outputs": [
    {
     "name": "stderr",
     "output_type": "stream",
     "text": [
      "100%|██████████| 50/50 [17:41<00:00, 21.23s/it]\n"
     ]
    }
   ],
   "source": [
    "# running batch of 50 pages \n",
    "start = n\n",
    "if Total_lenght - start > 50:\n",
    "    n = n + 50\n",
    "else:\n",
    "    n = n + Total_lenght - start\n",
    "    \n",
    "for i in tqdm(range(start, n)):\n",
    "    page_key = \"Page བོད \" + str(i)\n",
    "    all_link_page = Loaded_All_VOT_CAT2_url_link[page_key][\"Links\"]\n",
    "    page_article_index = 1\n",
    "    for each_URL in all_link_page:\n",
    "        article_content = scrape_vot_article(each_URL)\n",
    "        article_key = page_key + \"_Article_\" + str(page_article_index)\n",
    "        page_article_index += 1\n",
    "        all_article[article_key] = article_content"
   ]
  },
  {
   "cell_type": "code",
   "execution_count": 112,
   "metadata": {},
   "outputs": [
    {
     "name": "stdout",
     "output_type": "stream",
     "text": [
      "Total Article extarcted from བོད: 891\n"
     ]
    }
   ],
   "source": [
    "print(f\"Total Article extarcted from བོད: {len(all_article)}\")"
   ]
  },
  {
   "cell_type": "markdown",
   "metadata": {},
   "source": [
    "#### Checking Failure count in བཙན་བྱོལ། in next 50 batch"
   ]
  },
  {
   "cell_type": "code",
   "execution_count": 113,
   "metadata": {},
   "outputs": [
    {
     "name": "stdout",
     "output_type": "stream",
     "text": [
      "total Failure in the བོད article: 0\n"
     ]
    }
   ],
   "source": [
    "Failure_count = 0\n",
    "for each_article_key in all_article:\n",
    "    if all_article[each_article_key][\"Response\"] != 200:\n",
    "        print(each_article_key)\n",
    "        Failure_count += 1\n",
    "\n",
    "print(f\"total Failure in the བོད article: {Failure_count}\")"
   ]
  },
  {
   "cell_type": "markdown",
   "metadata": {},
   "source": [
    "### Saving next 50 process total 100 process "
   ]
  },
  {
   "cell_type": "code",
   "execution_count": null,
   "metadata": {},
   "outputs": [],
   "source": [
    "with open(\"ALL_content_བོད.json\", \"w\") as outfile:\n",
    "    json.dump(all_article , outfile, indent=5)"
   ]
  },
  {
   "cell_type": "code",
   "execution_count": 116,
   "metadata": {},
   "outputs": [],
   "source": []
  },
  {
   "cell_type": "markdown",
   "metadata": {},
   "source": [
    "#### Running next bacth of བོད \n",
    "#### C. Running the next batch 150 process"
   ]
  },
  {
   "cell_type": "code",
   "execution_count": 117,
   "metadata": {},
   "outputs": [
    {
     "name": "stderr",
     "output_type": "stream",
     "text": [
      "100%|██████████| 50/50 [17:39<00:00, 21.20s/it]\n"
     ]
    }
   ],
   "source": [
    "# running batch of 50 pages \n",
    "start = n\n",
    "if Total_lenght - start > 50:\n",
    "    n = n + 50\n",
    "else:\n",
    "    n = n + Total_lenght - start\n",
    "for i in tqdm(range(start, n)):\n",
    "    page_key = \"Page བོད \" + str(i)\n",
    "    all_link_page = Loaded_All_VOT_CAT2_url_link[page_key][\"Links\"]\n",
    "    page_article_index = 1\n",
    "    for each_URL in all_link_page:\n",
    "        article_content = scrape_vot_article(each_URL)\n",
    "        article_key = page_key + \"_Article_\" + str(page_article_index)\n",
    "        page_article_index += 1\n",
    "        all_article[article_key] = article_content"
   ]
  },
  {
   "cell_type": "code",
   "execution_count": 118,
   "metadata": {},
   "outputs": [
    {
     "name": "stdout",
     "output_type": "stream",
     "text": [
      "Total Article extarcted from བོད: 1341\n"
     ]
    }
   ],
   "source": [
    "print(f\"Total Article extarcted from བོད: {len(all_article)}\")"
   ]
  },
  {
   "cell_type": "markdown",
   "metadata": {},
   "source": [
    "#### Checking Failure count in བོད in next 50 batch"
   ]
  },
  {
   "cell_type": "code",
   "execution_count": 119,
   "metadata": {},
   "outputs": [
    {
     "name": "stdout",
     "output_type": "stream",
     "text": [
      "total Failure in the བོད article: 0\n"
     ]
    }
   ],
   "source": [
    "Failure_count = 0\n",
    "for each_article_key in all_article:\n",
    "    if all_article[each_article_key][\"Response\"] != 200:\n",
    "        print(each_article_key)\n",
    "        Failure_count += 1\n",
    "\n",
    "print(f\"total Failure in the བོད article: {Failure_count}\")"
   ]
  },
  {
   "cell_type": "markdown",
   "metadata": {},
   "source": [
    "### Saving next 50 process total 150 process "
   ]
  },
  {
   "cell_type": "code",
   "execution_count": 120,
   "metadata": {},
   "outputs": [],
   "source": [
    "with open(\"ALL_content_བོད.json\", \"w\") as outfile:\n",
    "    json.dump(all_article , outfile, indent=5)"
   ]
  },
  {
   "cell_type": "markdown",
   "metadata": {},
   "source": [
    "#### Running Final bacth of བོད \n",
    "#### D. Running the last 34 remaning process total of 174 process"
   ]
  },
  {
   "cell_type": "code",
   "execution_count": 121,
   "metadata": {},
   "outputs": [
    {
     "name": "stderr",
     "output_type": "stream",
     "text": [
      "100%|██████████| 24/24 [08:17<00:00, 20.72s/it]\n"
     ]
    }
   ],
   "source": [
    "# running batch of 50 pages \n",
    "start = n\n",
    "if Total_lenght - start > 50:\n",
    "    n = n + 50\n",
    "else:\n",
    "    n = n + Total_lenght - start\n",
    "for i in tqdm(range(start, n)):\n",
    "    page_key = \"Page བོད \" + str(i)\n",
    "    all_link_page = Loaded_All_VOT_CAT2_url_link[page_key][\"Links\"]\n",
    "    page_article_index = 1\n",
    "    for each_URL in all_link_page:\n",
    "        article_content = scrape_vot_article(each_URL)\n",
    "        article_key = page_key + \"_Article_\" + str(page_article_index)\n",
    "        page_article_index += 1\n",
    "        all_article[article_key] = article_content"
   ]
  },
  {
   "cell_type": "code",
   "execution_count": 122,
   "metadata": {},
   "outputs": [
    {
     "name": "stdout",
     "output_type": "stream",
     "text": [
      "Total Article extarcted from བོད: 1557\n"
     ]
    }
   ],
   "source": [
    "print(f\"Total Article extarcted from བོད: {len(all_article)}\")"
   ]
  },
  {
   "cell_type": "markdown",
   "metadata": {},
   "source": [
    "#### Checking Failure count in བོད in next 50 batch"
   ]
  },
  {
   "cell_type": "code",
   "execution_count": 123,
   "metadata": {},
   "outputs": [
    {
     "name": "stdout",
     "output_type": "stream",
     "text": [
      "total Failure in the བོད article: 0\n"
     ]
    }
   ],
   "source": [
    "Failure_count = 0\n",
    "for each_article_key in all_article:\n",
    "    if all_article[each_article_key][\"Response\"] != 200:\n",
    "        print(each_article_key)\n",
    "        Failure_count += 1\n",
    "\n",
    "print(f\"total Failure in the བོད article: {Failure_count}\")"
   ]
  },
  {
   "cell_type": "markdown",
   "metadata": {},
   "source": [
    "### Saving next 24 process total 174 process "
   ]
  },
  {
   "cell_type": "code",
   "execution_count": 124,
   "metadata": {},
   "outputs": [],
   "source": [
    "with open(\"ALL_content_བོད.json\", \"w\") as outfile:\n",
    "    json.dump(all_article , outfile, indent=5)"
   ]
  },
  {
   "cell_type": "code",
   "execution_count": null,
   "metadata": {},
   "outputs": [],
   "source": []
  },
  {
   "cell_type": "code",
   "execution_count": null,
   "metadata": {},
   "outputs": [],
   "source": []
  },
  {
   "cell_type": "markdown",
   "metadata": {},
   "source": [
    "------------\n",
    "------------\n",
    "------------\n",
    "------------\n",
    "## Extracting all the article content from VOT >> རྒྱ་ནག page\n"
   ]
  },
  {
   "cell_type": "code",
   "execution_count": null,
   "metadata": {},
   "outputs": [],
   "source": [
    "with open('ALL_link_རྒྱནག.json', 'r') as openfile:\n",
    "    # Reading from json file\n",
    "    Loaded_All_VOT_CAT4_url_link = json.load(openfile)"
   ]
  },
  {
   "cell_type": "code",
   "execution_count": null,
   "metadata": {},
   "outputs": [
    {
     "name": "stdout",
     "output_type": "stream",
     "text": [
      "Total count in the differnt article in རྒྱ་ནག: 123\n"
     ]
    }
   ],
   "source": [
    "Total_lenght = len(Loaded_All_VOT_CAT4_url_link)\n",
    "print(f\"Total count in the differnt article in རྒྱ་ནག: {Total_lenght}\")"
   ]
  },
  {
   "cell_type": "markdown",
   "metadata": {},
   "source": [
    "### running batch of 50 pages to prevent runtime error \n",
    "#### A. First 50 batches\n"
   ]
  },
  {
   "cell_type": "code",
   "execution_count": null,
   "metadata": {},
   "outputs": [
    {
     "name": "stderr",
     "output_type": "stream",
     "text": [
      "100%|██████████| 49/49 [18:27<00:00, 22.60s/it]\n"
     ]
    }
   ],
   "source": [
    "# running batch of 50 pages \n",
    "start = 1\n",
    "if Total_lenght - start > 50:\n",
    "    n = 50\n",
    "else:\n",
    "    n = n + Total_lenght - start\n",
    "all_article = {}\n",
    "for i in tqdm(range(start, n)):\n",
    "    page_key = \"Page རྒྱནག \" + str(i)\n",
    "    all_link_page = Loaded_All_VOT_CAT4_url_link[page_key][\"Links\"]\n",
    "    page_article_index = 1\n",
    "    for each_URL in all_link_page:\n",
    "        article_content = scrape_vot_article(each_URL)\n",
    "        article_key = page_key + \"_Article_\" + str(page_article_index)\n",
    "        page_article_index += 1\n",
    "        all_article[article_key] = article_content"
   ]
  },
  {
   "cell_type": "code",
   "execution_count": null,
   "metadata": {},
   "outputs": [
    {
     "name": "stdout",
     "output_type": "stream",
     "text": [
      "Total Article extarcted from རྒྱ་ནག: 441\n"
     ]
    }
   ],
   "source": [
    "print(f\"Total Article extarcted from རྒྱ་ནག: {len(all_article)}\")"
   ]
  },
  {
   "cell_type": "markdown",
   "metadata": {},
   "source": [
    "#### Checking Failure count in རྒྱ་ནག in first 50 batch"
   ]
  },
  {
   "cell_type": "code",
   "execution_count": null,
   "metadata": {},
   "outputs": [
    {
     "name": "stdout",
     "output_type": "stream",
     "text": [
      "total Failure in the རྒྱ་ནག article: 0\n"
     ]
    }
   ],
   "source": [
    "Failure_count = 0\n",
    "for each_article_key in all_article:\n",
    "    if all_article[each_article_key][\"Response\"] != 200:\n",
    "        print(each_article_key)\n",
    "        Failure_count += 1\n",
    "\n",
    "print(f\"total Failure in the རྒྱ་ནག article: {Failure_count}\")"
   ]
  },
  {
   "cell_type": "markdown",
   "metadata": {},
   "source": [
    "### Saving First 50 batch total 50 process "
   ]
  },
  {
   "cell_type": "code",
   "execution_count": null,
   "metadata": {},
   "outputs": [],
   "source": [
    "with open(\"ALL_content_རྒྱནག.json\", \"w\") as outfile:\n",
    "    json.dump(all_article , outfile, indent=5)"
   ]
  },
  {
   "cell_type": "markdown",
   "metadata": {},
   "source": [
    "#### Running next bacth of རྒྱནག \n",
    "#### B. Next 50 batches total of 100 process"
   ]
  },
  {
   "cell_type": "code",
   "execution_count": null,
   "metadata": {},
   "outputs": [
    {
     "name": "stderr",
     "output_type": "stream",
     "text": [
      "100%|██████████| 50/50 [20:01<00:00, 24.04s/it]\n"
     ]
    }
   ],
   "source": [
    "# running batch of 50 pages \n",
    "start = n\n",
    "if Total_lenght - start > 50:\n",
    "    n = n + 50\n",
    "else:\n",
    "    n = n + Total_lenght - start\n",
    "\n",
    "for i in tqdm(range(start, n)):\n",
    "    page_key = \"Page རྒྱནག \" + str(i)\n",
    "    all_link_page = Loaded_All_VOT_CAT4_url_link[page_key][\"Links\"]\n",
    "    page_article_index = 1\n",
    "    for each_URL in all_link_page:\n",
    "        article_content = scrape_vot_article(each_URL)\n",
    "        article_key = page_key + \"_Article_\" + str(page_article_index)\n",
    "        page_article_index += 1\n",
    "        all_article[article_key] = article_content"
   ]
  },
  {
   "cell_type": "code",
   "execution_count": null,
   "metadata": {},
   "outputs": [
    {
     "name": "stdout",
     "output_type": "stream",
     "text": [
      "Total Article extarcted from རྒྱནག: 891\n"
     ]
    }
   ],
   "source": [
    "print(f\"Total Article extarcted from རྒྱནག: {len(all_article)}\")"
   ]
  },
  {
   "cell_type": "markdown",
   "metadata": {},
   "source": [
    "#### Checking Failure count in རྒྱནག in next 50 batch"
   ]
  },
  {
   "cell_type": "code",
   "execution_count": null,
   "metadata": {},
   "outputs": [
    {
     "name": "stdout",
     "output_type": "stream",
     "text": [
      "total Failure in the རྒྱནག article: 0\n"
     ]
    }
   ],
   "source": [
    "Failure_count = 0\n",
    "for each_article_key in all_article:\n",
    "    if all_article[each_article_key][\"Response\"] != 200:\n",
    "        print(each_article_key)\n",
    "        Failure_count += 1\n",
    "\n",
    "print(f\"total Failure in the རྒྱནག article: {Failure_count}\")"
   ]
  },
  {
   "cell_type": "markdown",
   "metadata": {},
   "source": [
    "### Saving next 50 process total 100 process "
   ]
  },
  {
   "cell_type": "code",
   "execution_count": null,
   "metadata": {},
   "outputs": [],
   "source": [
    "with open(\"ALL_content_རྒྱནག.json\", \"w\") as outfile:\n",
    "    json.dump(all_article , outfile, indent=5)"
   ]
  },
  {
   "cell_type": "markdown",
   "metadata": {},
   "source": [
    "#### Running Final bacth of རྒྱནག\n",
    "#### C. Running the last 23 remaning process total of 123 process"
   ]
  },
  {
   "cell_type": "code",
   "execution_count": null,
   "metadata": {},
   "outputs": [
    {
     "name": "stderr",
     "output_type": "stream",
     "text": [
      "100%|██████████| 23/23 [07:59<00:00, 20.87s/it]\n"
     ]
    }
   ],
   "source": [
    "# running batch of 50 pages \n",
    "start = n\n",
    "if Total_lenght - start > 50:\n",
    "    n = n + 50\n",
    "else:\n",
    "    n = n + Total_lenght - start\n",
    "\n",
    "for i in tqdm(range(start, n)):\n",
    "    page_key = \"Page རྒྱནག \" + str(i)\n",
    "    all_link_page = Loaded_All_VOT_CAT4_url_link[page_key][\"Links\"]\n",
    "    page_article_index = 1\n",
    "    for each_URL in all_link_page:\n",
    "        article_content = scrape_vot_article(each_URL)\n",
    "        article_key = page_key + \"_Article_\" + str(page_article_index)\n",
    "        page_article_index += 1\n",
    "        all_article[article_key] = article_content"
   ]
  },
  {
   "cell_type": "code",
   "execution_count": null,
   "metadata": {},
   "outputs": [],
   "source": [
    "print(f\"Total Article extarcted from རྒྱནག: {len(all_article)}\")"
   ]
  },
  {
   "cell_type": "markdown",
   "metadata": {},
   "source": [
    "#### Checking Failure count in རྒྱནག in next 50 batch"
   ]
  },
  {
   "cell_type": "code",
   "execution_count": null,
   "metadata": {},
   "outputs": [],
   "source": [
    "Failure_count = 0\n",
    "for each_article_key in all_article:\n",
    "    if all_article[each_article_key][\"Response\"] != 200:\n",
    "        print(each_article_key)\n",
    "        Failure_count += 1\n",
    "\n",
    "print(f\"total Failure in the རྒྱནག article: {Failure_count}\")"
   ]
  },
  {
   "cell_type": "markdown",
   "metadata": {},
   "source": [
    "### Saving next 18 process total 118 process "
   ]
  },
  {
   "cell_type": "code",
   "execution_count": null,
   "metadata": {},
   "outputs": [],
   "source": [
    "with open(\"ALL_content_རྒྱནག.json\", \"w\") as outfile:\n",
    "    json.dump(all_article , outfile, indent=5)"
   ]
  },
  {
   "cell_type": "code",
   "execution_count": null,
   "metadata": {},
   "outputs": [],
   "source": []
  },
  {
   "cell_type": "code",
   "execution_count": null,
   "metadata": {},
   "outputs": [],
   "source": []
  },
  {
   "cell_type": "markdown",
   "metadata": {},
   "source": [
    "------------\n",
    "------------\n",
    "------------\n",
    "------------\n",
    "## Extracting all the article content from VOT >> བཙན་བྱོལ། page\n"
   ]
  },
  {
   "cell_type": "code",
   "execution_count": 57,
   "metadata": {},
   "outputs": [],
   "source": [
    "with open('ALL_link_བཙན.json', 'r') as openfile:\n",
    "    # Reading from json file\n",
    "    Loaded_All_VOT_CAT3_url_link = json.load(openfile)"
   ]
  },
  {
   "cell_type": "code",
   "execution_count": 58,
   "metadata": {},
   "outputs": [
    {
     "name": "stdout",
     "output_type": "stream",
     "text": [
      "Total count in the differnt article in བཙན་བྱོལ།: 118\n"
     ]
    }
   ],
   "source": [
    "Total_lenght = len(Loaded_All_VOT_CAT3_url_link)\n",
    "print(f\"Total count in the differnt article in བཙན་བྱོལ།: {Total_lenght}\")"
   ]
  },
  {
   "cell_type": "markdown",
   "metadata": {},
   "source": [
    "### running batch of 50 pages to prevent runtime error \n",
    "#### A. First 50 batches\n"
   ]
  },
  {
   "cell_type": "code",
   "execution_count": 61,
   "metadata": {},
   "outputs": [
    {
     "name": "stderr",
     "output_type": "stream",
     "text": [
      "100%|██████████| 49/49 [17:59<00:00, 22.04s/it]\n"
     ]
    }
   ],
   "source": [
    "# running batch of 50 pages \n",
    "start = 1\n",
    "if Total_lenght - start > 50:\n",
    "    n = 50\n",
    "else:\n",
    "    n = n + Total_lenght - start\n",
    "all_article = {}\n",
    "for i in tqdm(range(start, n)):\n",
    "    page_key = \"Page བཙན་བྱོལ \" + str(i)\n",
    "    all_link_page = Loaded_All_VOT_CAT3_url_link[page_key][\"Links\"]\n",
    "    page_article_index = 1\n",
    "    for each_URL in all_link_page:\n",
    "        article_content = scrape_vot_article(each_URL)\n",
    "        article_key = page_key + \"_Article_\" + str(page_article_index)\n",
    "        page_article_index += 1\n",
    "        all_article[article_key] = article_content"
   ]
  },
  {
   "cell_type": "code",
   "execution_count": 62,
   "metadata": {},
   "outputs": [
    {
     "name": "stdout",
     "output_type": "stream",
     "text": [
      "Total Article extarcted from བཙན་བྱོལ།: 441\n"
     ]
    }
   ],
   "source": [
    "print(f\"Total Article extarcted from བཙན་བྱོལ།: {len(all_article)}\")"
   ]
  },
  {
   "cell_type": "markdown",
   "metadata": {},
   "source": [
    "#### Checking Failure count in བཙན་བྱོལ། in first 50 batch"
   ]
  },
  {
   "cell_type": "code",
   "execution_count": 63,
   "metadata": {},
   "outputs": [
    {
     "name": "stdout",
     "output_type": "stream",
     "text": [
      "total Failure in the བཙན་བྱོལ། article: 0\n"
     ]
    }
   ],
   "source": [
    "Failure_count = 0\n",
    "for each_article_key in all_article:\n",
    "    if all_article[each_article_key][\"Response\"]:\n",
    "        if all_article[each_article_key][\"Response\"] != 200:\n",
    "            print(each_article_key)\n",
    "            Failure_count += 1\n",
    "    else: \n",
    "        print(each_article_key)\n",
    "        Failure_count += 1\n",
    "\n",
    "print(f\"total Failure in the བཙན་བྱོལ། article: {Failure_count}\")"
   ]
  },
  {
   "cell_type": "markdown",
   "metadata": {},
   "source": [
    "### Saving First 50 batch total 50 process "
   ]
  },
  {
   "cell_type": "code",
   "execution_count": 64,
   "metadata": {},
   "outputs": [],
   "source": [
    "with open(\"ALL_content_བཙན་བྱོལ།.json\", \"w\") as outfile:\n",
    "    json.dump(all_article , outfile, indent=5)"
   ]
  },
  {
   "cell_type": "markdown",
   "metadata": {},
   "source": [
    "#### Running next bacth of བཙན་བྱོལ \n",
    "#### B. Next 50 batches total of 100 process"
   ]
  },
  {
   "cell_type": "code",
   "execution_count": 65,
   "metadata": {},
   "outputs": [
    {
     "name": "stderr",
     "output_type": "stream",
     "text": [
      "100%|██████████| 50/50 [16:10<00:00, 19.40s/it]\n"
     ]
    }
   ],
   "source": [
    "# running batch of 50 pages \n",
    "start = n\n",
    "if Total_lenght - start > 50:\n",
    "    n = n + 50\n",
    "else:\n",
    "    n = n + Total_lenght - start\n",
    "    \n",
    "for i in tqdm(range(start, n)):\n",
    "    page_key = \"Page བཙན་བྱོལ \" + str(i)\n",
    "    all_link_page = Loaded_All_VOT_CAT3_url_link[page_key][\"Links\"]\n",
    "    page_article_index = 1\n",
    "    for each_URL in all_link_page:\n",
    "        article_content = scrape_vot_article(each_URL)\n",
    "        article_key = page_key + \"_Article_\" + str(page_article_index)\n",
    "        page_article_index += 1\n",
    "        all_article[article_key] = article_content"
   ]
  },
  {
   "cell_type": "code",
   "execution_count": 66,
   "metadata": {},
   "outputs": [
    {
     "name": "stdout",
     "output_type": "stream",
     "text": [
      "Total Article extarcted from བཙན་བྱོལ།: 891\n"
     ]
    }
   ],
   "source": [
    "print(f\"Total Article extarcted from བཙན་བྱོལ།: {len(all_article)}\")"
   ]
  },
  {
   "cell_type": "markdown",
   "metadata": {},
   "source": [
    "#### Checking Failure count in བཙན་བྱོལ། in next 50 batch"
   ]
  },
  {
   "cell_type": "code",
   "execution_count": 67,
   "metadata": {},
   "outputs": [
    {
     "name": "stdout",
     "output_type": "stream",
     "text": [
      "total Failure in the བཙན་བྱོལ། article: 0\n"
     ]
    }
   ],
   "source": [
    "Failure_count = 0\n",
    "for each_article_key in all_article:\n",
    "    if all_article[each_article_key][\"Response\"] != 200:\n",
    "        print(each_article_key)\n",
    "        Failure_count += 1\n",
    "\n",
    "print(f\"total Failure in the བཙན་བྱོལ། article: {Failure_count}\")"
   ]
  },
  {
   "cell_type": "markdown",
   "metadata": {},
   "source": [
    "### Saving next 50 process total 100 process "
   ]
  },
  {
   "cell_type": "code",
   "execution_count": 72,
   "metadata": {},
   "outputs": [],
   "source": [
    "with open(\"ALL_content_བཙན་བྱོལ།.json\", \"w\") as outfile:\n",
    "    json.dump(all_article , outfile, indent=5)"
   ]
  },
  {
   "cell_type": "markdown",
   "metadata": {},
   "source": [
    "#### Running Final bacth of བཙན་བྱོལ \n",
    "#### C. Running the last 18 remaning process total of 118 process"
   ]
  },
  {
   "cell_type": "code",
   "execution_count": 73,
   "metadata": {},
   "outputs": [
    {
     "name": "stderr",
     "output_type": "stream",
     "text": [
      "0it [00:00, ?it/s]\n"
     ]
    }
   ],
   "source": [
    "# running batch of 50 pages \n",
    "start = n\n",
    "if Total_lenght - start > 50:\n",
    "    n = n + 50\n",
    "else:\n",
    "    n = n + Total_lenght - start\n",
    "for i in tqdm(range(start, n)):\n",
    "    page_key = \"Page བཙན་བྱོལ \" + str(i)\n",
    "    all_link_page = Loaded_All_VOT_CAT3_url_link[page_key][\"Links\"]\n",
    "    page_article_index = 1\n",
    "    for each_URL in all_link_page:\n",
    "        article_content = scrape_vot_article(each_URL)\n",
    "        article_key = page_key + \"_Article_\" + str(page_article_index)\n",
    "        page_article_index += 1\n",
    "        all_article[article_key] = article_content"
   ]
  },
  {
   "cell_type": "code",
   "execution_count": 74,
   "metadata": {},
   "outputs": [
    {
     "name": "stdout",
     "output_type": "stream",
     "text": [
      "Total Article extarcted from བཙན་བྱོལ།: 1053\n"
     ]
    }
   ],
   "source": [
    "print(f\"Total Article extarcted from བཙན་བྱོལ།: {len(all_article)}\")"
   ]
  },
  {
   "cell_type": "markdown",
   "metadata": {},
   "source": [
    "#### Checking Failure count in བཙན་བྱོལ། in next 50 batch"
   ]
  },
  {
   "cell_type": "code",
   "execution_count": 75,
   "metadata": {},
   "outputs": [
    {
     "name": "stdout",
     "output_type": "stream",
     "text": [
      "total Failure in the བཙན་བྱོལ། article: 0\n"
     ]
    }
   ],
   "source": [
    "Failure_count = 0\n",
    "for each_article_key in all_article:\n",
    "    if all_article[each_article_key][\"Response\"] != 200:\n",
    "        print(each_article_key)\n",
    "        Failure_count += 1\n",
    "\n",
    "print(f\"total Failure in the བཙན་བྱོལ། article: {Failure_count}\")"
   ]
  },
  {
   "cell_type": "markdown",
   "metadata": {},
   "source": [
    "### Saving next 18 process total 118 process "
   ]
  },
  {
   "cell_type": "code",
   "execution_count": 76,
   "metadata": {},
   "outputs": [],
   "source": [
    "with open(\"ALL_content_བཙན་བྱོལ།.json\", \"w\") as outfile:\n",
    "    json.dump(all_article , outfile, indent=5)"
   ]
  },
  {
   "cell_type": "code",
   "execution_count": null,
   "metadata": {},
   "outputs": [],
   "source": []
  },
  {
   "cell_type": "code",
   "execution_count": null,
   "metadata": {},
   "outputs": [],
   "source": []
  },
  {
   "cell_type": "code",
   "execution_count": null,
   "metadata": {},
   "outputs": [],
   "source": []
  },
  {
   "cell_type": "markdown",
   "metadata": {},
   "source": [
    "------------\n",
    "------------\n",
    "------------\n",
    "------------\n",
    "## Extracting all the article content from VOT >> རྒྱ་ནག page\n"
   ]
  },
  {
   "cell_type": "code",
   "execution_count": 77,
   "metadata": {},
   "outputs": [],
   "source": [
    "with open('ALL_link_རྒྱནག.json', 'r') as openfile:\n",
    "    # Reading from json file\n",
    "    Loaded_All_VOT_CAT4_url_link = json.load(openfile)"
   ]
  },
  {
   "cell_type": "code",
   "execution_count": 78,
   "metadata": {},
   "outputs": [
    {
     "name": "stdout",
     "output_type": "stream",
     "text": [
      "Total count in the differnt article in རྒྱ་ནག: 123\n"
     ]
    }
   ],
   "source": [
    "Total_lenght = len(Loaded_All_VOT_CAT4_url_link)\n",
    "print(f\"Total count in the differnt article in རྒྱ་ནག: {Total_lenght}\")"
   ]
  },
  {
   "cell_type": "markdown",
   "metadata": {},
   "source": [
    "### running batch of 50 pages to prevent runtime error \n",
    "#### A. First 50 batches\n"
   ]
  },
  {
   "cell_type": "code",
   "execution_count": 79,
   "metadata": {},
   "outputs": [
    {
     "name": "stderr",
     "output_type": "stream",
     "text": [
      "100%|██████████| 49/49 [18:27<00:00, 22.60s/it]\n"
     ]
    }
   ],
   "source": [
    "# running batch of 50 pages \n",
    "start = 1\n",
    "if Total_lenght - start > 50:\n",
    "    n = 50\n",
    "else:\n",
    "    n = n + Total_lenght - start\n",
    "all_article = {}\n",
    "for i in tqdm(range(start, n)):\n",
    "    page_key = \"Page རྒྱནག \" + str(i)\n",
    "    all_link_page = Loaded_All_VOT_CAT4_url_link[page_key][\"Links\"]\n",
    "    page_article_index = 1\n",
    "    for each_URL in all_link_page:\n",
    "        article_content = scrape_vot_article(each_URL)\n",
    "        article_key = page_key + \"_Article_\" + str(page_article_index)\n",
    "        page_article_index += 1\n",
    "        all_article[article_key] = article_content"
   ]
  },
  {
   "cell_type": "code",
   "execution_count": 80,
   "metadata": {},
   "outputs": [
    {
     "name": "stdout",
     "output_type": "stream",
     "text": [
      "Total Article extarcted from རྒྱ་ནག: 441\n"
     ]
    }
   ],
   "source": [
    "print(f\"Total Article extarcted from རྒྱ་ནག: {len(all_article)}\")"
   ]
  },
  {
   "cell_type": "markdown",
   "metadata": {},
   "source": [
    "#### Checking Failure count in རྒྱ་ནག in first 50 batch"
   ]
  },
  {
   "cell_type": "code",
   "execution_count": 81,
   "metadata": {},
   "outputs": [
    {
     "name": "stdout",
     "output_type": "stream",
     "text": [
      "total Failure in the རྒྱ་ནག article: 0\n"
     ]
    }
   ],
   "source": [
    "Failure_count = 0\n",
    "for each_article_key in all_article:\n",
    "    if all_article[each_article_key][\"Response\"] != 200:\n",
    "        print(each_article_key)\n",
    "        Failure_count += 1\n",
    "\n",
    "print(f\"total Failure in the རྒྱ་ནག article: {Failure_count}\")"
   ]
  },
  {
   "cell_type": "markdown",
   "metadata": {},
   "source": [
    "### Saving First 50 batch total 50 process "
   ]
  },
  {
   "cell_type": "code",
   "execution_count": 82,
   "metadata": {},
   "outputs": [],
   "source": [
    "with open(\"ALL_content_རྒྱནག.json\", \"w\") as outfile:\n",
    "    json.dump(all_article , outfile, indent=5)"
   ]
  },
  {
   "cell_type": "markdown",
   "metadata": {},
   "source": [
    "#### Running next bacth of རྒྱནག \n",
    "#### B. Next 50 batches total of 100 process"
   ]
  },
  {
   "cell_type": "code",
   "execution_count": 83,
   "metadata": {},
   "outputs": [
    {
     "name": "stderr",
     "output_type": "stream",
     "text": [
      "100%|██████████| 50/50 [20:01<00:00, 24.04s/it]\n"
     ]
    }
   ],
   "source": [
    "# running batch of 50 pages \n",
    "start = n\n",
    "if Total_lenght - start > 50:\n",
    "    n = n + 50\n",
    "else:\n",
    "    n = n + Total_lenght - start\n",
    "\n",
    "for i in tqdm(range(start, n)):\n",
    "    page_key = \"Page རྒྱནག \" + str(i)\n",
    "    all_link_page = Loaded_All_VOT_CAT4_url_link[page_key][\"Links\"]\n",
    "    page_article_index = 1\n",
    "    for each_URL in all_link_page:\n",
    "        article_content = scrape_vot_article(each_URL)\n",
    "        article_key = page_key + \"_Article_\" + str(page_article_index)\n",
    "        page_article_index += 1\n",
    "        all_article[article_key] = article_content"
   ]
  },
  {
   "cell_type": "code",
   "execution_count": 84,
   "metadata": {},
   "outputs": [
    {
     "name": "stdout",
     "output_type": "stream",
     "text": [
      "Total Article extarcted from རྒྱནག: 891\n"
     ]
    }
   ],
   "source": [
    "print(f\"Total Article extarcted from རྒྱནག: {len(all_article)}\")"
   ]
  },
  {
   "cell_type": "markdown",
   "metadata": {},
   "source": [
    "#### Checking Failure count in རྒྱནག in next 50 batch"
   ]
  },
  {
   "cell_type": "code",
   "execution_count": 85,
   "metadata": {},
   "outputs": [
    {
     "name": "stdout",
     "output_type": "stream",
     "text": [
      "total Failure in the རྒྱནག article: 0\n"
     ]
    }
   ],
   "source": [
    "Failure_count = 0\n",
    "for each_article_key in all_article:\n",
    "    if all_article[each_article_key][\"Response\"] != 200:\n",
    "        print(each_article_key)\n",
    "        Failure_count += 1\n",
    "\n",
    "print(f\"total Failure in the རྒྱནག article: {Failure_count}\")"
   ]
  },
  {
   "cell_type": "markdown",
   "metadata": {},
   "source": [
    "### Saving next 50 process total 100 process "
   ]
  },
  {
   "cell_type": "code",
   "execution_count": 86,
   "metadata": {},
   "outputs": [],
   "source": [
    "with open(\"ALL_content_རྒྱནག.json\", \"w\") as outfile:\n",
    "    json.dump(all_article , outfile, indent=5)"
   ]
  },
  {
   "cell_type": "markdown",
   "metadata": {},
   "source": [
    "#### Running Final bacth of རྒྱནག\n",
    "#### C. Running the last 23 remaning process total of 123 process"
   ]
  },
  {
   "cell_type": "code",
   "execution_count": 96,
   "metadata": {},
   "outputs": [
    {
     "name": "stderr",
     "output_type": "stream",
     "text": [
      "100%|██████████| 23/23 [07:59<00:00, 20.87s/it]\n"
     ]
    }
   ],
   "source": [
    "# running batch of 50 pages \n",
    "start = n\n",
    "if Total_lenght - start > 50:\n",
    "    n = n + 50\n",
    "else:\n",
    "    n = n + Total_lenght - start\n",
    "\n",
    "for i in tqdm(range(start, n)):\n",
    "    page_key = \"Page རྒྱནག \" + str(i)\n",
    "    all_link_page = Loaded_All_VOT_CAT4_url_link[page_key][\"Links\"]\n",
    "    page_article_index = 1\n",
    "    for each_URL in all_link_page:\n",
    "        article_content = scrape_vot_article(each_URL)\n",
    "        article_key = page_key + \"_Article_\" + str(page_article_index)\n",
    "        page_article_index += 1\n",
    "        all_article[article_key] = article_content"
   ]
  },
  {
   "cell_type": "code",
   "execution_count": 97,
   "metadata": {},
   "outputs": [
    {
     "name": "stdout",
     "output_type": "stream",
     "text": [
      "Total Article extarcted from རྒྱནག: 1098\n"
     ]
    }
   ],
   "source": [
    "print(f\"Total Article extarcted from རྒྱནག: {len(all_article)}\")"
   ]
  },
  {
   "cell_type": "markdown",
   "metadata": {},
   "source": [
    "#### Checking Failure count in རྒྱནག in next 50 batch"
   ]
  },
  {
   "cell_type": "code",
   "execution_count": 98,
   "metadata": {},
   "outputs": [
    {
     "name": "stdout",
     "output_type": "stream",
     "text": [
      "total Failure in the རྒྱནག article: 0\n"
     ]
    }
   ],
   "source": [
    "Failure_count = 0\n",
    "for each_article_key in all_article:\n",
    "    if all_article[each_article_key][\"Response\"] != 200:\n",
    "        print(each_article_key)\n",
    "        Failure_count += 1\n",
    "\n",
    "print(f\"total Failure in the རྒྱནག article: {Failure_count}\")"
   ]
  },
  {
   "cell_type": "markdown",
   "metadata": {},
   "source": [
    "### Saving next 18 process total 118 process "
   ]
  },
  {
   "cell_type": "code",
   "execution_count": 99,
   "metadata": {},
   "outputs": [],
   "source": [
    "with open(\"ALL_content_རྒྱནག.json\", \"w\") as outfile:\n",
    "    json.dump(all_article , outfile, indent=5)"
   ]
  },
  {
   "cell_type": "code",
   "execution_count": null,
   "metadata": {},
   "outputs": [],
   "source": []
  },
  {
   "cell_type": "code",
   "execution_count": null,
   "metadata": {},
   "outputs": [],
   "source": []
  },
  {
   "cell_type": "code",
   "execution_count": null,
   "metadata": {},
   "outputs": [],
   "source": []
  },
  {
   "cell_type": "code",
   "execution_count": null,
   "metadata": {},
   "outputs": [],
   "source": []
  },
  {
   "cell_type": "code",
   "execution_count": null,
   "metadata": {},
   "outputs": [],
   "source": []
  },
  {
   "cell_type": "markdown",
   "metadata": {},
   "source": [
    "------------\n",
    "------------\n",
    "------------\n",
    "------------\n",
    "## Extracting all the article content from VOT >> རྒྱལསྤྱི page\n"
   ]
  },
  {
   "cell_type": "code",
   "execution_count": 143,
   "metadata": {},
   "outputs": [],
   "source": [
    "with open('ALL_link_རྒྱལསྤྱི.json', 'r') as openfile:\n",
    "    # Reading from json file\n",
    "    Loaded_All_VOT_CAT5_url_link = json.load(openfile)"
   ]
  },
  {
   "cell_type": "code",
   "execution_count": 144,
   "metadata": {},
   "outputs": [
    {
     "name": "stdout",
     "output_type": "stream",
     "text": [
      "Total count in the differnt article in རྒྱལསྤྱི: 218\n"
     ]
    }
   ],
   "source": [
    "Total_lenght = len(Loaded_All_VOT_CAT5_url_link)\n",
    "print(f\"Total count in the differnt article in རྒྱལསྤྱི: {Total_lenght}\")"
   ]
  },
  {
   "cell_type": "markdown",
   "metadata": {},
   "source": [
    "### running batch of 50 pages to prevent runtime error \n",
    "#### A. First 50 batches\n"
   ]
  },
  {
   "cell_type": "code",
   "execution_count": 145,
   "metadata": {},
   "outputs": [
    {
     "name": "stderr",
     "output_type": "stream",
     "text": [
      "100%|██████████| 49/49 [21:19<00:00, 26.10s/it]\n"
     ]
    }
   ],
   "source": [
    "# running batch of 50 pages \n",
    "start = 1\n",
    "if Total_lenght - start > 50:\n",
    "    n = 50\n",
    "else:\n",
    "    n = n + Total_lenght - start\n",
    "all_article = {}\n",
    "for i in tqdm(range(start, n)):\n",
    "    page_key = \"Page རྒྱལསྤྱི \" + str(i)\n",
    "    all_link_page = Loaded_All_VOT_CAT5_url_link[page_key][\"Links\"]\n",
    "    page_article_index = 1\n",
    "    for each_URL in all_link_page:\n",
    "        article_content = scrape_vot_article(each_URL)\n",
    "        article_key = page_key + \"_Article_\" + str(page_article_index)\n",
    "        page_article_index += 1\n",
    "        all_article[article_key] = article_content"
   ]
  },
  {
   "cell_type": "code",
   "execution_count": 146,
   "metadata": {},
   "outputs": [
    {
     "name": "stdout",
     "output_type": "stream",
     "text": [
      "Total Article extarcted from རྒྱལསྤྱི: 441\n"
     ]
    }
   ],
   "source": [
    "print(f\"Total Article extarcted from རྒྱལསྤྱི: {len(all_article)}\")"
   ]
  },
  {
   "cell_type": "markdown",
   "metadata": {},
   "source": [
    "#### Checking Failure count in རྒྱལསྤྱི in first 50 batch"
   ]
  },
  {
   "cell_type": "code",
   "execution_count": 148,
   "metadata": {},
   "outputs": [
    {
     "name": "stdout",
     "output_type": "stream",
     "text": [
      "total Failure in the རྒྱལསྤྱི article: 0\n"
     ]
    }
   ],
   "source": [
    "Failure_count = 0\n",
    "for each_article_key in all_article:\n",
    "    if all_article[each_article_key][\"Response\"] != 200:\n",
    "        print(each_article_key)\n",
    "        Failure_count += 1\n",
    "\n",
    "print(f\"total Failure in the རྒྱལསྤྱི article: {Failure_count}\")"
   ]
  },
  {
   "cell_type": "markdown",
   "metadata": {},
   "source": [
    "### Saving First 50 batch total 50 process "
   ]
  },
  {
   "cell_type": "code",
   "execution_count": 149,
   "metadata": {},
   "outputs": [],
   "source": [
    "with open(\"ALL_content_རྒྱལསྤྱི.json\", \"w\") as outfile:\n",
    "    json.dump(all_article , outfile, indent=5)"
   ]
  },
  {
   "cell_type": "markdown",
   "metadata": {},
   "source": [
    "#### Running next bacth of རྒྱལསྤྱི \n",
    "#### B. Next 50 batches total of 100 process"
   ]
  },
  {
   "cell_type": "code",
   "execution_count": 150,
   "metadata": {},
   "outputs": [
    {
     "name": "stderr",
     "output_type": "stream",
     "text": [
      "100%|██████████| 50/50 [19:26<00:00, 23.34s/it]\n"
     ]
    }
   ],
   "source": [
    "# running batch of 50 pages \n",
    "start = n\n",
    "if Total_lenght - start > 50:\n",
    "    n = n + 50\n",
    "else:\n",
    "    n = n + Total_lenght - start\n",
    "\n",
    "for i in tqdm(range(start, n)):\n",
    "    page_key = \"Page རྒྱལསྤྱི \" + str(i)\n",
    "    all_link_page = Loaded_All_VOT_CAT5_url_link[page_key][\"Links\"]\n",
    "    page_article_index = 1\n",
    "    for each_URL in all_link_page:\n",
    "        article_content = scrape_vot_article(each_URL)\n",
    "        article_key = page_key + \"_Article_\" + str(page_article_index)\n",
    "        page_article_index += 1\n",
    "        all_article[article_key] = article_content"
   ]
  },
  {
   "cell_type": "code",
   "execution_count": 151,
   "metadata": {},
   "outputs": [
    {
     "name": "stdout",
     "output_type": "stream",
     "text": [
      "Total Article extarcted from རྒྱལསྤྱི: 891\n"
     ]
    }
   ],
   "source": [
    "print(f\"Total Article extarcted from རྒྱལསྤྱི: {len(all_article)}\")"
   ]
  },
  {
   "cell_type": "markdown",
   "metadata": {},
   "source": [
    "#### Checking Failure count in རྒྱལསྤྱི in next 50 batch"
   ]
  },
  {
   "cell_type": "code",
   "execution_count": 152,
   "metadata": {},
   "outputs": [
    {
     "name": "stdout",
     "output_type": "stream",
     "text": [
      "total Failure in the རྒྱལསྤྱི article: 0\n"
     ]
    }
   ],
   "source": [
    "Failure_count = 0\n",
    "for each_article_key in all_article:\n",
    "    if all_article[each_article_key][\"Response\"] != 200:\n",
    "        print(each_article_key)\n",
    "        Failure_count += 1\n",
    "\n",
    "print(f\"total Failure in the རྒྱལསྤྱི article: {Failure_count}\")"
   ]
  },
  {
   "cell_type": "markdown",
   "metadata": {},
   "source": [
    "### Saving next 50 process total 100 process "
   ]
  },
  {
   "cell_type": "code",
   "execution_count": 153,
   "metadata": {},
   "outputs": [],
   "source": [
    "with open(\"ALL_content_རྒྱལསྤྱི.json\", \"w\") as outfile:\n",
    "    json.dump(all_article , outfile, indent=5)"
   ]
  },
  {
   "cell_type": "code",
   "execution_count": 154,
   "metadata": {},
   "outputs": [
    {
     "data": {
      "text/plain": [
       "891"
      ]
     },
     "execution_count": 154,
     "metadata": {},
     "output_type": "execute_result"
    }
   ],
   "source": [
    "len(all_article)"
   ]
  },
  {
   "cell_type": "code",
   "execution_count": null,
   "metadata": {},
   "outputs": [],
   "source": []
  },
  {
   "cell_type": "markdown",
   "metadata": {},
   "source": [
    "#### Running Final bacth of རྒྱལསྤྱི\n",
    "#### C. Running the next 50 remaning process total of 150 process"
   ]
  },
  {
   "cell_type": "code",
   "execution_count": 155,
   "metadata": {},
   "outputs": [
    {
     "name": "stderr",
     "output_type": "stream",
     "text": [
      "100%|██████████| 50/50 [20:56<00:00, 25.12s/it]\n"
     ]
    }
   ],
   "source": [
    "# running batch of 50 pages \n",
    "start = n\n",
    "if Total_lenght - start > 50:\n",
    "    n = n + 50\n",
    "else:\n",
    "    n = n + Total_lenght - start\n",
    "\n",
    "for i in tqdm(range(start, n)):\n",
    "    page_key = \"Page རྒྱལསྤྱི \" + str(i)\n",
    "    all_link_page = Loaded_All_VOT_CAT5_url_link[page_key][\"Links\"]\n",
    "    page_article_index = 1\n",
    "    for each_URL in all_link_page:\n",
    "        article_content = scrape_vot_article(each_URL)\n",
    "        article_key = page_key + \"_Article_\" + str(page_article_index)\n",
    "        page_article_index += 1\n",
    "        all_article[article_key] = article_content"
   ]
  },
  {
   "cell_type": "code",
   "execution_count": 156,
   "metadata": {},
   "outputs": [
    {
     "name": "stdout",
     "output_type": "stream",
     "text": [
      "Total Article extarcted from རྒྱལསྤྱི: 1341\n"
     ]
    }
   ],
   "source": [
    "print(f\"Total Article extarcted from རྒྱལསྤྱི: {len(all_article)}\")"
   ]
  },
  {
   "cell_type": "markdown",
   "metadata": {},
   "source": [
    "#### Checking Failure count in རྒྱནག in next 50 batch"
   ]
  },
  {
   "cell_type": "code",
   "execution_count": 157,
   "metadata": {},
   "outputs": [
    {
     "name": "stdout",
     "output_type": "stream",
     "text": [
      "total Failure in the རྒྱལསྤྱི article: 0\n"
     ]
    }
   ],
   "source": [
    "Failure_count = 0\n",
    "for each_article_key in all_article:\n",
    "    if all_article[each_article_key][\"Response\"] != 200:\n",
    "        print(each_article_key)\n",
    "        Failure_count += 1\n",
    "\n",
    "print(f\"total Failure in the རྒྱལསྤྱི article: {Failure_count}\")"
   ]
  },
  {
   "cell_type": "markdown",
   "metadata": {},
   "source": [
    "### Saving next 50 process total 150 process "
   ]
  },
  {
   "cell_type": "code",
   "execution_count": 158,
   "metadata": {},
   "outputs": [],
   "source": [
    "with open(\"ALL_content_རྒྱལསྤྱི.json\", \"w\") as outfile:\n",
    "    json.dump(all_article , outfile, indent=5)"
   ]
  },
  {
   "cell_type": "code",
   "execution_count": null,
   "metadata": {},
   "outputs": [],
   "source": []
  },
  {
   "cell_type": "code",
   "execution_count": null,
   "metadata": {},
   "outputs": [],
   "source": []
  },
  {
   "cell_type": "code",
   "execution_count": null,
   "metadata": {},
   "outputs": [],
   "source": []
  },
  {
   "cell_type": "markdown",
   "metadata": {},
   "source": [
    "#### Running next bacth of རྒྱལསྤྱི\n",
    "#### D. Running the next 50 remaning process total of 200 process"
   ]
  },
  {
   "cell_type": "code",
   "execution_count": 159,
   "metadata": {},
   "outputs": [
    {
     "name": "stderr",
     "output_type": "stream",
     "text": [
      "100%|██████████| 50/50 [18:56<00:00, 22.73s/it]\n"
     ]
    }
   ],
   "source": [
    "# running batch of 50 pages \n",
    "start = n\n",
    "if Total_lenght - start > 50:\n",
    "    n = n + 50\n",
    "else:\n",
    "    n = n + Total_lenght - start\n",
    "\n",
    "for i in tqdm(range(start, n)):\n",
    "    page_key = \"Page རྒྱལསྤྱི \" + str(i)\n",
    "    all_link_page = Loaded_All_VOT_CAT5_url_link[page_key][\"Links\"]\n",
    "    page_article_index = 1\n",
    "    for each_URL in all_link_page:\n",
    "        article_content = scrape_vot_article(each_URL)\n",
    "        article_key = page_key + \"_Article_\" + str(page_article_index)\n",
    "        page_article_index += 1\n",
    "        all_article[article_key] = article_content"
   ]
  },
  {
   "cell_type": "code",
   "execution_count": 160,
   "metadata": {},
   "outputs": [
    {
     "name": "stdout",
     "output_type": "stream",
     "text": [
      "Total Article extarcted from རྒྱལསྤྱི: 1791\n"
     ]
    }
   ],
   "source": [
    "print(f\"Total Article extarcted from རྒྱལསྤྱི: {len(all_article)}\")"
   ]
  },
  {
   "cell_type": "markdown",
   "metadata": {},
   "source": [
    "#### Checking Failure count in རྒྱལསྤྱི in next 50 batch"
   ]
  },
  {
   "cell_type": "code",
   "execution_count": 161,
   "metadata": {},
   "outputs": [
    {
     "name": "stdout",
     "output_type": "stream",
     "text": [
      "total Failure in the རྒྱལསྤྱི article: 0\n"
     ]
    }
   ],
   "source": [
    "Failure_count = 0\n",
    "for each_article_key in all_article:\n",
    "    if all_article[each_article_key][\"Response\"] != 200:\n",
    "        print(each_article_key)\n",
    "        Failure_count += 1\n",
    "\n",
    "print(f\"total Failure in the རྒྱལསྤྱི article: {Failure_count}\")"
   ]
  },
  {
   "cell_type": "markdown",
   "metadata": {},
   "source": [
    "### Saving next 50 process total 200 process "
   ]
  },
  {
   "cell_type": "code",
   "execution_count": 162,
   "metadata": {},
   "outputs": [],
   "source": [
    "with open(\"ALL_content_རྒྱལསྤྱི.json\", \"w\") as outfile:\n",
    "    json.dump(all_article , outfile, indent=5)"
   ]
  },
  {
   "cell_type": "code",
   "execution_count": null,
   "metadata": {},
   "outputs": [],
   "source": []
  },
  {
   "cell_type": "code",
   "execution_count": null,
   "metadata": {},
   "outputs": [],
   "source": []
  },
  {
   "cell_type": "markdown",
   "metadata": {},
   "source": [
    "#### Running Final bacth of རྒྱལསྤྱི\n",
    "#### E. Running the next 18 remaning process total of 218 process"
   ]
  },
  {
   "cell_type": "code",
   "execution_count": 163,
   "metadata": {},
   "outputs": [
    {
     "name": "stderr",
     "output_type": "stream",
     "text": [
      "100%|██████████| 18/18 [06:56<00:00, 23.13s/it]\n"
     ]
    }
   ],
   "source": [
    "# running batch of 50 pages \n",
    "start = n\n",
    "if Total_lenght - start > 50:\n",
    "    n = n + 50\n",
    "else:\n",
    "    n = n + Total_lenght - start\n",
    "\n",
    "for i in tqdm(range(start, n)):\n",
    "    page_key = \"Page རྒྱལསྤྱི \" + str(i)\n",
    "    all_link_page = Loaded_All_VOT_CAT5_url_link[page_key][\"Links\"]\n",
    "    page_article_index = 1\n",
    "    for each_URL in all_link_page:\n",
    "        article_content = scrape_vot_article(each_URL)\n",
    "        article_key = page_key + \"_Article_\" + str(page_article_index)\n",
    "        page_article_index += 1\n",
    "        all_article[article_key] = article_content"
   ]
  },
  {
   "cell_type": "code",
   "execution_count": 164,
   "metadata": {},
   "outputs": [
    {
     "name": "stdout",
     "output_type": "stream",
     "text": [
      "Total Article extarcted from རྒྱལསྤྱི: 1953\n"
     ]
    }
   ],
   "source": [
    "print(f\"Total Article extarcted from རྒྱལསྤྱི: {len(all_article)}\")"
   ]
  },
  {
   "cell_type": "markdown",
   "metadata": {},
   "source": [
    "#### Checking Failure count in རྒྱནག in next 50 batch"
   ]
  },
  {
   "cell_type": "code",
   "execution_count": 165,
   "metadata": {},
   "outputs": [
    {
     "name": "stdout",
     "output_type": "stream",
     "text": [
      "total Failure in the རྒྱལསྤྱི article: 0\n"
     ]
    }
   ],
   "source": [
    "Failure_count = 0\n",
    "for each_article_key in all_article:\n",
    "    if all_article[each_article_key][\"Response\"] != 200:\n",
    "        print(each_article_key)\n",
    "        Failure_count += 1\n",
    "\n",
    "print(f\"total Failure in the རྒྱལསྤྱི article: {Failure_count}\")"
   ]
  },
  {
   "cell_type": "markdown",
   "metadata": {},
   "source": [
    "### Saving next 18 process total 218 process "
   ]
  },
  {
   "cell_type": "code",
   "execution_count": 166,
   "metadata": {},
   "outputs": [],
   "source": [
    "with open(\"ALL_content_རྒྱལསྤྱི.json\", \"w\") as outfile:\n",
    "    json.dump(all_article , outfile, indent=5)"
   ]
  },
  {
   "cell_type": "code",
   "execution_count": null,
   "metadata": {},
   "outputs": [],
   "source": []
  },
  {
   "cell_type": "code",
   "execution_count": null,
   "metadata": {},
   "outputs": [],
   "source": []
  },
  {
   "cell_type": "code",
   "execution_count": null,
   "metadata": {},
   "outputs": [],
   "source": []
  },
  {
   "cell_type": "code",
   "execution_count": null,
   "metadata": {},
   "outputs": [],
   "source": []
  },
  {
   "cell_type": "code",
   "execution_count": null,
   "metadata": {},
   "outputs": [],
   "source": []
  },
  {
   "cell_type": "code",
   "execution_count": null,
   "metadata": {},
   "outputs": [],
   "source": []
  },
  {
   "cell_type": "code",
   "execution_count": null,
   "metadata": {},
   "outputs": [],
   "source": []
  },
  {
   "cell_type": "code",
   "execution_count": null,
   "metadata": {},
   "outputs": [],
   "source": []
  }
 ],
 "metadata": {
  "kernelspec": {
   "display_name": "base",
   "language": "python",
   "name": "python3"
  },
  "language_info": {
   "codemirror_mode": {
    "name": "ipython",
    "version": 3
   },
   "file_extension": ".py",
   "mimetype": "text/x-python",
   "name": "python",
   "nbconvert_exporter": "python",
   "pygments_lexer": "ipython3",
   "version": "3.9.13"
  }
 },
 "nbformat": 4,
 "nbformat_minor": 2
}
