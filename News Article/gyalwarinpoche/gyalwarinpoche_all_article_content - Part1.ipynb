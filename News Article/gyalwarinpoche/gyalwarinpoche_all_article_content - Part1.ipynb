{
 "cells": [
  {
   "cell_type": "code",
   "execution_count": 1,
   "metadata": {},
   "outputs": [],
   "source": [
    "import requests\n",
    "from bs4 import BeautifulSoup\n",
    "import json\n",
    "import time\n",
    "from tqdm import tqdm"
   ]
  },
  {
   "cell_type": "code",
   "execution_count": 2,
   "metadata": {},
   "outputs": [],
   "source": [
    "import gyalwarinpoche_utils"
   ]
  },
  {
   "cell_type": "code",
   "execution_count": null,
   "metadata": {},
   "outputs": [],
   "source": []
  },
  {
   "cell_type": "markdown",
   "metadata": {},
   "source": [
    "## Here we will extract all the articles content from gyalwarinpoche webpage\n",
    "URL: https://gyalwarinpoche.com/"
   ]
  },
  {
   "cell_type": "code",
   "execution_count": 3,
   "metadata": {},
   "outputs": [],
   "source": [
    "def save_json(path, file_name, data):\n",
    "    \"\"\"\n",
    "    \n",
    "    \"\"\"\n",
    "    with open(path+file_name, \"w\") as outfile:\n",
    "        json.dump(data, outfile, indent=4)\n",
    "        print(f\"Successfully saved: {file_name}\")"
   ]
  },
  {
   "cell_type": "code",
   "execution_count": 4,
   "metadata": {},
   "outputs": [],
   "source": [
    "def read_json(path, file_name):\n",
    "    \"\"\"\n",
    "    \n",
    "    \"\"\"\n",
    "    with open(path+file_name, 'r') as openfile:\n",
    "        # Reading from json file\n",
    "        Loaded_file = json.load(openfile)\n",
    "        print(f\"Successfully loaded: {file_name}\")\n",
    "\n",
    "    return Loaded_file\n"
   ]
  },
  {
   "cell_type": "code",
   "execution_count": null,
   "metadata": {},
   "outputs": [],
   "source": []
  },
  {
   "cell_type": "code",
   "execution_count": null,
   "metadata": {},
   "outputs": [],
   "source": []
  },
  {
   "cell_type": "markdown",
   "metadata": {},
   "source": [
    "## all gyalwarinpoche_ALL_link_འཕྲིན་གསར།"
   ]
  },
  {
   "cell_type": "code",
   "execution_count": 5,
   "metadata": {},
   "outputs": [
    {
     "name": "stdout",
     "output_type": "stream",
     "text": [
      "Successfully loaded: gyalwarinpoche_ALL_link_འཕྲིན་གསར།.json\n",
      "Total page in gyalwarinpoche_ALL_link_འཕྲིན་གསར།.json: 96\n"
     ]
    }
   ],
   "source": [
    "path = \"./data/\"\n",
    "file_name = \"gyalwarinpoche_ALL_link_འཕྲིན་གསར།.json\"\n",
    "All_links_data = read_json(path, file_name)\n",
    "Total_lenght = len(All_links_data)\n",
    "print(f\"Total page in {file_name}: {Total_lenght}\")"
   ]
  },
  {
   "cell_type": "code",
   "execution_count": 7,
   "metadata": {},
   "outputs": [
    {
     "name": "stdout",
     "output_type": "stream",
     "text": [
      "page key name: Page འཕྲིན་གསར། 2\n",
      "Page key code: Page འཕྲིན་གསར། \n"
     ]
    }
   ],
   "source": [
    "print(f\"page key name: {list(All_links_data.keys())[1]}\")\n",
    "page_key_list = list(All_links_data.keys())[1].split(\" \")\n",
    "\n",
    "page_key_code = \"Page \"+page_key_list[1]+\" \"\n",
    "print(f\"Page key code: {page_key_code}\")"
   ]
  },
  {
   "cell_type": "code",
   "execution_count": 10,
   "metadata": {},
   "outputs": [
    {
     "name": "stderr",
     "output_type": "stream",
     "text": [
      "100%|██████████| 96/96 [12:16<00:00,  7.67s/it]\n"
     ]
    }
   ],
   "source": [
    "start = 1\n",
    "all_article = {}\n",
    "\n",
    "for i in tqdm(range(start, Total_lenght+1)):\n",
    "    page_key = page_key_code + str(i)\n",
    "    all_link_page = All_links_data[page_key][\"Links\"]\n",
    "    page_article_index = 1\n",
    "    \n",
    "    for each_URL in all_link_page:\n",
    "        article_content = gyalwarinpoche_utils.scrape_gyalwarinpoche_article_content(each_URL)\n",
    "        article_key = page_key + \"_gyalwarinpoche_Article_\" + str(page_article_index)\n",
    "        page_article_index += 1\n",
    "        all_article[article_key] = article_content"
   ]
  },
  {
   "cell_type": "code",
   "execution_count": 11,
   "metadata": {},
   "outputs": [
    {
     "name": "stdout",
     "output_type": "stream",
     "text": [
      "total Failure in the འཕྲིན་གསར། article: 0\n"
     ]
    }
   ],
   "source": [
    "Failure_count = 0\n",
    "for each_article_key in all_article:\n",
    "    if all_article[each_article_key][\"Response\"] != 200:\n",
    "        print(each_article_key)\n",
    "        Failure_count += 1\n",
    "\n",
    "print(f\"total Failure in the {page_key_list[1]} article: {Failure_count}\")"
   ]
  },
  {
   "cell_type": "markdown",
   "metadata": {},
   "source": [
    "### saving file"
   ]
  },
  {
   "cell_type": "code",
   "execution_count": 12,
   "metadata": {},
   "outputs": [
    {
     "name": "stdout",
     "output_type": "stream",
     "text": [
      "Successfully saved: gyalwarinpoche_ALL_content_འཕྲིན་གསར།.json\n"
     ]
    }
   ],
   "source": [
    "save_file_name = f\"gyalwarinpoche_ALL_content_{page_key_list[1]}.json\"\n",
    "save_json(path, save_file_name, all_article)"
   ]
  },
  {
   "cell_type": "code",
   "execution_count": 13,
   "metadata": {},
   "outputs": [
    {
     "data": {
      "text/plain": [
       "574"
      ]
     },
     "execution_count": 13,
     "metadata": {},
     "output_type": "execute_result"
    }
   ],
   "source": [
    "len(all_article)"
   ]
  },
  {
   "cell_type": "code",
   "execution_count": null,
   "metadata": {},
   "outputs": [],
   "source": []
  },
  {
   "cell_type": "code",
   "execution_count": null,
   "metadata": {},
   "outputs": [],
   "source": []
  },
  {
   "cell_type": "code",
   "execution_count": null,
   "metadata": {},
   "outputs": [],
   "source": []
  },
  {
   "cell_type": "code",
   "execution_count": null,
   "metadata": {},
   "outputs": [],
   "source": []
  },
  {
   "cell_type": "code",
   "execution_count": null,
   "metadata": {},
   "outputs": [],
   "source": []
  }
 ],
 "metadata": {
  "kernelspec": {
   "display_name": "Python 3 (ipykernel)",
   "language": "python",
   "name": "python3"
  },
  "language_info": {
   "codemirror_mode": {
    "name": "ipython",
    "version": 3
   },
   "file_extension": ".py",
   "mimetype": "text/x-python",
   "name": "python",
   "nbconvert_exporter": "python",
   "pygments_lexer": "ipython3",
   "version": "3.9.13"
  }
 },
 "nbformat": 4,
 "nbformat_minor": 4
}
