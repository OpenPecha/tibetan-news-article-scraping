{
 "cells": [
  {
   "cell_type": "code",
   "execution_count": 1,
   "metadata": {},
   "outputs": [],
   "source": [
    "import requests\n",
    "from bs4 import BeautifulSoup\n",
    "import json\n",
    "import time\n",
    "from tqdm import tqdm"
   ]
  },
  {
   "cell_type": "code",
   "execution_count": 2,
   "metadata": {},
   "outputs": [],
   "source": [
    "import VOATibetan_utils"
   ]
  },
  {
   "cell_type": "code",
   "execution_count": null,
   "metadata": {},
   "outputs": [],
   "source": []
  },
  {
   "cell_type": "markdown",
   "metadata": {},
   "source": [
    "## Here we will extract all the articles content from voatibetan webpage\n",
    "URL: https://www.voatibetan.com/"
   ]
  },
  {
   "cell_type": "code",
   "execution_count": 3,
   "metadata": {},
   "outputs": [],
   "source": [
    "def save_json(path, file_name, data):\n",
    "    \"\"\"\n",
    "    \n",
    "    \"\"\"\n",
    "    with open(path+file_name, \"w\") as outfile:\n",
    "        json.dump(data, outfile, indent=4)\n",
    "        print(f\"Successfully saved: {file_name}\")"
   ]
  },
  {
   "cell_type": "code",
   "execution_count": 4,
   "metadata": {},
   "outputs": [],
   "source": [
    "def read_json(path, file_name):\n",
    "    \"\"\"\n",
    "    \n",
    "    \"\"\"\n",
    "    with open(path+file_name, 'r') as openfile:\n",
    "        # Reading from json file\n",
    "        Loaded_file = json.load(openfile)\n",
    "        print(f\"Successfully loaded: {file_name}\")\n",
    "\n",
    "    return Loaded_file\n"
   ]
  },
  {
   "cell_type": "code",
   "execution_count": null,
   "metadata": {},
   "outputs": [],
   "source": []
  },
  {
   "cell_type": "code",
   "execution_count": null,
   "metadata": {},
   "outputs": [],
   "source": []
  },
  {
   "cell_type": "markdown",
   "metadata": {},
   "source": [
    "## all VOATibetan_ALL_link_ཨ་རི།"
   ]
  },
  {
   "cell_type": "code",
   "execution_count": 5,
   "metadata": {},
   "outputs": [
    {
     "name": "stdout",
     "output_type": "stream",
     "text": [
      "Successfully loaded: VOATibetan_ALL_link_ཨ་རི།.json\n",
      "Total page in VOATibetan_ALL_link_ཨ་རི།.json: 101\n"
     ]
    }
   ],
   "source": [
    "path = \"./data/\"\n",
    "file_name = \"VOATibetan_ALL_link_ཨ་རི།.json\"\n",
    "All_links_data = read_json(path, file_name)\n",
    "Total_lenght = len(All_links_data)\n",
    "print(f\"Total page in {file_name}: {Total_lenght}\")"
   ]
  },
  {
   "cell_type": "code",
   "execution_count": 6,
   "metadata": {},
   "outputs": [
    {
     "name": "stdout",
     "output_type": "stream",
     "text": [
      "page key name: Page ཨ་རི། 1\n",
      "Page key code: Page ཨ་རི། \n"
     ]
    }
   ],
   "source": [
    "print(f\"page key name: {list(All_links_data.keys())[1]}\")\n",
    "page_key_list = list(All_links_data.keys())[1].split(\" \")\n",
    "\n",
    "page_key_code = \"Page \"+page_key_list[1]+\" \"\n",
    "print(f\"Page key code: {page_key_code}\")"
   ]
  },
  {
   "cell_type": "code",
   "execution_count": 9,
   "metadata": {},
   "outputs": [
    {
     "name": "stderr",
     "output_type": "stream",
     "text": [
      "100%|██████████| 101/101 [01:30<00:00,  1.12it/s]\n"
     ]
    }
   ],
   "source": [
    "start = 0\n",
    "all_article = {}\n",
    "\n",
    "for i in tqdm(range(start, Total_lenght)):\n",
    "    page_key = page_key_code + str(i)\n",
    "    all_link_page = All_links_data[page_key][\"Links\"]\n",
    "    page_article_index = 1\n",
    "    \n",
    "    for each_URL in all_link_page:\n",
    "        article_content = VOATibetan_utils.scrape_VOATibetan_article_content(each_URL, Tags=page_key_list[1])\n",
    "        article_key = page_key + \"_VOATibetan_Article_\" + str(page_article_index)\n",
    "        page_article_index += 1\n",
    "        all_article[article_key] = article_content"
   ]
  },
  {
   "cell_type": "code",
   "execution_count": 10,
   "metadata": {},
   "outputs": [
    {
     "name": "stdout",
     "output_type": "stream",
     "text": [
      "Page ཨ་རི། 0_VOATibetan_Article_1\n",
      "Page ཨ་རི། 1_VOATibetan_Article_1\n",
      "Page ཨ་རི། 3_VOATibetan_Article_1\n",
      "Page ཨ་རི། 4_VOATibetan_Article_1\n",
      "Page ཨ་རི། 5_VOATibetan_Article_1\n",
      "Page ཨ་རི། 7_VOATibetan_Article_1\n",
      "Page ཨ་རི། 9_VOATibetan_Article_1\n",
      "Page ཨ་རི། 10_VOATibetan_Article_1\n",
      "Page ཨ་རི། 11_VOATibetan_Article_1\n",
      "Page ཨ་རི། 12_VOATibetan_Article_1\n",
      "Page ཨ་རི། 13_VOATibetan_Article_1\n",
      "Page ཨ་རི། 14_VOATibetan_Article_1\n",
      "Page ཨ་རི། 16_VOATibetan_Article_1\n",
      "Page ཨ་རི། 17_VOATibetan_Article_1\n",
      "Page ཨ་རི། 19_VOATibetan_Article_1\n",
      "Page ཨ་རི། 20_VOATibetan_Article_1\n",
      "Page ཨ་རི། 21_VOATibetan_Article_1\n",
      "Page ཨ་རི། 22_VOATibetan_Article_1\n",
      "Page ཨ་རི། 23_VOATibetan_Article_1\n",
      "Page ཨ་རི། 24_VOATibetan_Article_1\n",
      "Page ཨ་རི། 25_VOATibetan_Article_1\n",
      "Page ཨ་རི། 26_VOATibetan_Article_1\n",
      "Page ཨ་རི། 27_VOATibetan_Article_1\n",
      "Page ཨ་རི། 28_VOATibetan_Article_1\n",
      "Page ཨ་རི། 29_VOATibetan_Article_1\n",
      "Page ཨ་རི། 30_VOATibetan_Article_1\n",
      "Page ཨ་རི། 31_VOATibetan_Article_1\n",
      "Page ཨ་རི། 32_VOATibetan_Article_1\n",
      "Page ཨ་རི། 33_VOATibetan_Article_1\n",
      "Page ཨ་རི། 34_VOATibetan_Article_1\n",
      "Page ཨ་རི། 35_VOATibetan_Article_1\n",
      "Page ཨ་རི། 37_VOATibetan_Article_1\n",
      "Page ཨ་རི། 38_VOATibetan_Article_1\n",
      "Page ཨ་རི། 39_VOATibetan_Article_1\n",
      "Page ཨ་རི། 40_VOATibetan_Article_1\n",
      "Page ཨ་རི། 41_VOATibetan_Article_1\n",
      "Page ཨ་རི། 43_VOATibetan_Article_1\n",
      "Page ཨ་རི། 44_VOATibetan_Article_1\n",
      "Page ཨ་རི། 45_VOATibetan_Article_1\n",
      "Page ཨ་རི། 46_VOATibetan_Article_1\n",
      "Page ཨ་རི། 47_VOATibetan_Article_1\n",
      "Page ཨ་རི། 48_VOATibetan_Article_1\n",
      "Page ཨ་རི། 49_VOATibetan_Article_1\n",
      "Page ཨ་རི། 50_VOATibetan_Article_1\n",
      "Page ཨ་རི། 51_VOATibetan_Article_1\n",
      "Page ཨ་རི། 52_VOATibetan_Article_1\n",
      "Page ཨ་རི། 53_VOATibetan_Article_1\n",
      "Page ཨ་རི། 54_VOATibetan_Article_1\n",
      "Page ཨ་རི། 55_VOATibetan_Article_1\n",
      "Page ཨ་རི། 56_VOATibetan_Article_1\n",
      "Page ཨ་རི། 57_VOATibetan_Article_1\n",
      "Page ཨ་རི། 58_VOATibetan_Article_1\n",
      "Page ཨ་རི། 59_VOATibetan_Article_1\n",
      "Page ཨ་རི། 60_VOATibetan_Article_1\n",
      "Page ཨ་རི། 61_VOATibetan_Article_1\n",
      "Page ཨ་རི། 62_VOATibetan_Article_1\n",
      "Page ཨ་རི། 63_VOATibetan_Article_1\n",
      "Page ཨ་རི། 64_VOATibetan_Article_1\n",
      "Page ཨ་རི། 65_VOATibetan_Article_1\n",
      "Page ཨ་རི། 67_VOATibetan_Article_1\n",
      "Page ཨ་རི། 68_VOATibetan_Article_1\n",
      "Page ཨ་རི། 69_VOATibetan_Article_1\n",
      "Page ཨ་རི། 70_VOATibetan_Article_1\n",
      "Page ཨ་རི། 71_VOATibetan_Article_1\n",
      "Page ཨ་རི། 72_VOATibetan_Article_1\n",
      "Page ཨ་རི། 73_VOATibetan_Article_1\n",
      "Page ཨ་རི། 74_VOATibetan_Article_1\n",
      "Page ཨ་རི། 75_VOATibetan_Article_1\n",
      "Page ཨ་རི། 76_VOATibetan_Article_1\n",
      "Page ཨ་རི། 77_VOATibetan_Article_1\n",
      "Page ཨ་རི། 78_VOATibetan_Article_1\n",
      "Page ཨ་རི། 79_VOATibetan_Article_1\n",
      "Page ཨ་རི། 80_VOATibetan_Article_1\n",
      "Page ཨ་རི། 81_VOATibetan_Article_1\n",
      "Page ཨ་རི། 82_VOATibetan_Article_1\n",
      "Page ཨ་རི། 83_VOATibetan_Article_1\n",
      "Page ཨ་རི། 84_VOATibetan_Article_1\n",
      "Page ཨ་རི། 85_VOATibetan_Article_1\n",
      "Page ཨ་རི། 86_VOATibetan_Article_1\n",
      "Page ཨ་རི། 87_VOATibetan_Article_1\n",
      "Page ཨ་རི། 88_VOATibetan_Article_1\n",
      "Page ཨ་རི། 89_VOATibetan_Article_1\n",
      "Page ཨ་རི། 91_VOATibetan_Article_1\n",
      "Page ཨ་རི། 92_VOATibetan_Article_1\n",
      "Page ཨ་རི། 93_VOATibetan_Article_1\n",
      "Page ཨ་རི། 94_VOATibetan_Article_1\n",
      "Page ཨ་རི། 95_VOATibetan_Article_1\n",
      "Page ཨ་རི། 96_VOATibetan_Article_1\n",
      "Page ཨ་རི། 97_VOATibetan_Article_1\n",
      "Page ཨ་རི། 98_VOATibetan_Article_1\n",
      "Page ཨ་རི། 100_VOATibetan_Article_1\n",
      "total Failure in the ཨ་རི། article: 91\n"
     ]
    }
   ],
   "source": [
    "Failure_count = 0\n",
    "for each_article_key in all_article:\n",
    "    if all_article[each_article_key][\"Response\"] != 200:\n",
    "        print(each_article_key)\n",
    "        Failure_count += 1\n",
    "\n",
    "print(f\"total Failure in the {page_key_list[1]} article: {Failure_count}\")"
   ]
  },
  {
   "cell_type": "markdown",
   "metadata": {},
   "source": [
    "### saving file"
   ]
  },
  {
   "cell_type": "code",
   "execution_count": 11,
   "metadata": {},
   "outputs": [
    {
     "name": "stdout",
     "output_type": "stream",
     "text": [
      "Successfully saved: gyalwarinpoche_ALL_content_ཨ་རི།.json\n"
     ]
    }
   ],
   "source": [
    "save_file_name = f\"gyalwarinpoche_ALL_content_{page_key_list[1]}.json\"\n",
    "save_json(path, save_file_name, all_article)"
   ]
  },
  {
   "cell_type": "code",
   "execution_count": 12,
   "metadata": {},
   "outputs": [
    {
     "data": {
      "text/plain": [
       "240"
      ]
     },
     "execution_count": 12,
     "metadata": {},
     "output_type": "execute_result"
    }
   ],
   "source": [
    "len(all_article)"
   ]
  },
  {
   "cell_type": "code",
   "execution_count": null,
   "metadata": {},
   "outputs": [],
   "source": []
  },
  {
   "cell_type": "code",
   "execution_count": null,
   "metadata": {},
   "outputs": [],
   "source": []
  },
  {
   "cell_type": "code",
   "execution_count": null,
   "metadata": {},
   "outputs": [],
   "source": []
  },
  {
   "cell_type": "code",
   "execution_count": null,
   "metadata": {},
   "outputs": [],
   "source": []
  },
  {
   "cell_type": "code",
   "execution_count": null,
   "metadata": {},
   "outputs": [],
   "source": []
  }
 ],
 "metadata": {
  "kernelspec": {
   "display_name": "Python 3 (ipykernel)",
   "language": "python",
   "name": "python3"
  },
  "language_info": {
   "codemirror_mode": {
    "name": "ipython",
    "version": 3
   },
   "file_extension": ".py",
   "mimetype": "text/x-python",
   "name": "python",
   "nbconvert_exporter": "python",
   "pygments_lexer": "ipython3",
   "version": "3.9.13"
  }
 },
 "nbformat": 4,
 "nbformat_minor": 4
}
