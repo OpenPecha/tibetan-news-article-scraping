{
 "cells": [
  {
   "cell_type": "code",
   "execution_count": 9,
   "metadata": {},
   "outputs": [],
   "source": [
    "import requests\n",
    "from bs4 import BeautifulSoup\n",
    "import json\n",
    "import time\n",
    "from tqdm import tqdm"
   ]
  },
  {
   "cell_type": "code",
   "execution_count": 10,
   "metadata": {},
   "outputs": [],
   "source": [
    "import VOATibetan_utils"
   ]
  },
  {
   "cell_type": "code",
   "execution_count": null,
   "metadata": {},
   "outputs": [],
   "source": []
  },
  {
   "cell_type": "markdown",
   "metadata": {},
   "source": [
    "## Here we will extract all the articles content from voatibetan webpage\n",
    "URL: https://www.voatibetan.com/"
   ]
  },
  {
   "cell_type": "code",
   "execution_count": 11,
   "metadata": {},
   "outputs": [],
   "source": [
    "def save_json(path, file_name, data):\n",
    "    \"\"\"\n",
    "    \n",
    "    \"\"\"\n",
    "    with open(path+file_name, \"w\") as outfile:\n",
    "        json.dump(data, outfile, indent=4)\n",
    "        print(f\"Successfully saved: {file_name}\")"
   ]
  },
  {
   "cell_type": "code",
   "execution_count": 12,
   "metadata": {},
   "outputs": [],
   "source": [
    "def read_json(path, file_name):\n",
    "    \"\"\"\n",
    "    \n",
    "    \"\"\"\n",
    "    with open(path+file_name, 'r') as openfile:\n",
    "        # Reading from json file\n",
    "        Loaded_file = json.load(openfile)\n",
    "        print(f\"Successfully loaded: {file_name}\")\n",
    "\n",
    "    return Loaded_file\n"
   ]
  },
  {
   "cell_type": "code",
   "execution_count": null,
   "metadata": {},
   "outputs": [],
   "source": []
  },
  {
   "cell_type": "code",
   "execution_count": null,
   "metadata": {},
   "outputs": [],
   "source": []
  },
  {
   "cell_type": "markdown",
   "metadata": {},
   "source": [
    "## all VOATibetan_ALL_link_འཛམ་གླིང་།"
   ]
  },
  {
   "cell_type": "code",
   "execution_count": 13,
   "metadata": {},
   "outputs": [
    {
     "name": "stdout",
     "output_type": "stream",
     "text": [
      "Successfully loaded: VOATibetan_ALL_link_འཛམ་གླིང་།.json\n",
      "Total page in VOATibetan_ALL_link_འཛམ་གླིང་།.json: 101\n"
     ]
    }
   ],
   "source": [
    "path = \"./data/\"\n",
    "file_name = \"VOATibetan_ALL_link_འཛམ་གླིང་།.json\"\n",
    "All_links_data = read_json(path, file_name)\n",
    "Total_lenght = len(All_links_data)\n",
    "print(f\"Total page in {file_name}: {Total_lenght}\")"
   ]
  },
  {
   "cell_type": "code",
   "execution_count": 14,
   "metadata": {},
   "outputs": [
    {
     "name": "stdout",
     "output_type": "stream",
     "text": [
      "page key name: Page འཛམ་གླིང་། 1\n",
      "Page key code: Page འཛམ་གླིང་། \n"
     ]
    }
   ],
   "source": [
    "print(f\"page key name: {list(All_links_data.keys())[1]}\")\n",
    "page_key_list = list(All_links_data.keys())[1].split(\" \")\n",
    "\n",
    "page_key_code = \"Page \"+page_key_list[1]+\" \"\n",
    "print(f\"Page key code: {page_key_code}\")"
   ]
  },
  {
   "cell_type": "code",
   "execution_count": 15,
   "metadata": {},
   "outputs": [
    {
     "name": "stderr",
     "output_type": "stream",
     "text": [
      "100%|██████████| 101/101 [01:03<00:00,  1.60it/s]\n"
     ]
    }
   ],
   "source": [
    "start = 0\n",
    "all_article = {}\n",
    "\n",
    "for i in tqdm(range(start, Total_lenght)):\n",
    "    page_key = page_key_code + str(i)\n",
    "    all_link_page = All_links_data[page_key][\"Links\"]\n",
    "    page_article_index = 1\n",
    "    \n",
    "    for each_URL in all_link_page:\n",
    "        article_content = VOATibetan_utils.scrape_VOATibetan_article_content(each_URL, Tags=page_key_list[1])\n",
    "        article_key = page_key + \"_VOATibetan_Article_\" + str(page_article_index)\n",
    "        page_article_index += 1\n",
    "        all_article[article_key] = article_content"
   ]
  },
  {
   "cell_type": "code",
   "execution_count": 16,
   "metadata": {},
   "outputs": [
    {
     "name": "stdout",
     "output_type": "stream",
     "text": [
      "Page འཛམ་གླིང་། 0_VOATibetan_Article_1\n",
      "Page འཛམ་གླིང་། 1_VOATibetan_Article_1\n",
      "Page འཛམ་གླིང་། 2_VOATibetan_Article_1\n",
      "Page འཛམ་གླིང་། 4_VOATibetan_Article_1\n",
      "Page འཛམ་གླིང་། 6_VOATibetan_Article_1\n",
      "Page འཛམ་གླིང་། 7_VOATibetan_Article_1\n",
      "Page འཛམ་གླིང་། 8_VOATibetan_Article_1\n",
      "Page འཛམ་གླིང་། 9_VOATibetan_Article_1\n",
      "Page འཛམ་གླིང་། 10_VOATibetan_Article_1\n",
      "Page འཛམ་གླིང་། 11_VOATibetan_Article_1\n",
      "Page འཛམ་གླིང་། 13_VOATibetan_Article_1\n",
      "Page འཛམ་གླིང་། 14_VOATibetan_Article_1\n",
      "Page འཛམ་གླིང་། 15_VOATibetan_Article_1\n",
      "Page འཛམ་གླིང་། 16_VOATibetan_Article_1\n",
      "Page འཛམ་གླིང་། 17_VOATibetan_Article_1\n",
      "Page འཛམ་གླིང་། 18_VOATibetan_Article_1\n",
      "Page འཛམ་གླིང་། 19_VOATibetan_Article_1\n",
      "Page འཛམ་གླིང་། 20_VOATibetan_Article_1\n",
      "Page འཛམ་གླིང་། 21_VOATibetan_Article_1\n",
      "Page འཛམ་གླིང་། 22_VOATibetan_Article_1\n",
      "Page འཛམ་གླིང་། 23_VOATibetan_Article_1\n",
      "Page འཛམ་གླིང་། 24_VOATibetan_Article_1\n",
      "Page འཛམ་གླིང་། 25_VOATibetan_Article_1\n",
      "Page འཛམ་གླིང་། 26_VOATibetan_Article_1\n",
      "Page འཛམ་གླིང་། 27_VOATibetan_Article_1\n",
      "Page འཛམ་གླིང་། 28_VOATibetan_Article_1\n",
      "Page འཛམ་གླིང་། 30_VOATibetan_Article_1\n",
      "Page འཛམ་གླིང་། 32_VOATibetan_Article_1\n",
      "Page འཛམ་གླིང་། 33_VOATibetan_Article_1\n",
      "Page འཛམ་གླིང་། 34_VOATibetan_Article_1\n",
      "Page འཛམ་གླིང་། 35_VOATibetan_Article_1\n",
      "Page འཛམ་གླིང་། 37_VOATibetan_Article_1\n",
      "Page འཛམ་གླིང་། 38_VOATibetan_Article_1\n",
      "Page འཛམ་གླིང་། 40_VOATibetan_Article_1\n",
      "Page འཛམ་གླིང་། 41_VOATibetan_Article_1\n",
      "Page འཛམ་གླིང་། 42_VOATibetan_Article_1\n",
      "Page འཛམ་གླིང་། 43_VOATibetan_Article_1\n",
      "Page འཛམ་གླིང་། 45_VOATibetan_Article_1\n",
      "Page འཛམ་གླིང་། 46_VOATibetan_Article_1\n",
      "Page འཛམ་གླིང་། 47_VOATibetan_Article_1\n",
      "Page འཛམ་གླིང་། 48_VOATibetan_Article_1\n",
      "Page འཛམ་གླིང་། 49_VOATibetan_Article_1\n",
      "Page འཛམ་གླིང་། 51_VOATibetan_Article_1\n",
      "Page འཛམ་གླིང་། 52_VOATibetan_Article_1\n",
      "Page འཛམ་གླིང་། 53_VOATibetan_Article_1\n",
      "Page འཛམ་གླིང་། 54_VOATibetan_Article_1\n",
      "Page འཛམ་གླིང་། 55_VOATibetan_Article_1\n",
      "Page འཛམ་གླིང་། 56_VOATibetan_Article_1\n",
      "Page འཛམ་གླིང་། 57_VOATibetan_Article_1\n",
      "Page འཛམ་གླིང་། 58_VOATibetan_Article_1\n",
      "Page འཛམ་གླིང་། 59_VOATibetan_Article_1\n",
      "Page འཛམ་གླིང་། 60_VOATibetan_Article_1\n",
      "Page འཛམ་གླིང་། 61_VOATibetan_Article_1\n",
      "Page འཛམ་གླིང་། 62_VOATibetan_Article_1\n",
      "Page འཛམ་གླིང་། 63_VOATibetan_Article_1\n",
      "Page འཛམ་གླིང་། 64_VOATibetan_Article_1\n",
      "Page འཛམ་གླིང་། 65_VOATibetan_Article_1\n",
      "Page འཛམ་གླིང་། 66_VOATibetan_Article_1\n",
      "Page འཛམ་གླིང་། 67_VOATibetan_Article_1\n",
      "Page འཛམ་གླིང་། 68_VOATibetan_Article_1\n",
      "Page འཛམ་གླིང་། 69_VOATibetan_Article_1\n",
      "Page འཛམ་གླིང་། 70_VOATibetan_Article_1\n",
      "Page འཛམ་གླིང་། 71_VOATibetan_Article_1\n",
      "Page འཛམ་གླིང་། 72_VOATibetan_Article_1\n",
      "Page འཛམ་གླིང་། 73_VOATibetan_Article_1\n",
      "Page འཛམ་གླིང་། 74_VOATibetan_Article_1\n",
      "Page འཛམ་གླིང་། 76_VOATibetan_Article_1\n",
      "Page འཛམ་གླིང་། 77_VOATibetan_Article_1\n",
      "Page འཛམ་གླིང་། 78_VOATibetan_Article_1\n",
      "Page འཛམ་གླིང་། 79_VOATibetan_Article_1\n",
      "Page འཛམ་གླིང་། 80_VOATibetan_Article_1\n",
      "Page འཛམ་གླིང་། 81_VOATibetan_Article_1\n",
      "Page འཛམ་གླིང་། 82_VOATibetan_Article_1\n",
      "Page འཛམ་གླིང་། 83_VOATibetan_Article_1\n",
      "Page འཛམ་གླིང་། 84_VOATibetan_Article_1\n",
      "Page འཛམ་གླིང་། 85_VOATibetan_Article_1\n",
      "Page འཛམ་གླིང་། 86_VOATibetan_Article_1\n",
      "Page འཛམ་གླིང་། 87_VOATibetan_Article_1\n",
      "Page འཛམ་གླིང་། 88_VOATibetan_Article_1\n",
      "Page འཛམ་གླིང་། 90_VOATibetan_Article_1\n",
      "Page འཛམ་གླིང་། 91_VOATibetan_Article_1\n",
      "Page འཛམ་གླིང་། 92_VOATibetan_Article_1\n",
      "Page འཛམ་གླིང་། 93_VOATibetan_Article_1\n",
      "Page འཛམ་གླིང་། 94_VOATibetan_Article_1\n",
      "Page འཛམ་གླིང་། 95_VOATibetan_Article_1\n",
      "Page འཛམ་གླིང་། 96_VOATibetan_Article_1\n",
      "Page འཛམ་གླིང་། 97_VOATibetan_Article_1\n",
      "Page འཛམ་གླིང་། 98_VOATibetan_Article_1\n",
      "Page འཛམ་གླིང་། 99_VOATibetan_Article_1\n",
      "Page འཛམ་གླིང་། 100_VOATibetan_Article_1\n",
      "total Failure in the འཛམ་གླིང་། article: 90\n"
     ]
    }
   ],
   "source": [
    "Failure_count = 0\n",
    "for each_article_key in all_article:\n",
    "    if all_article[each_article_key][\"Response\"] != 200:\n",
    "        print(each_article_key)\n",
    "        Failure_count += 1\n",
    "\n",
    "print(f\"total Failure in the {page_key_list[1]} article: {Failure_count}\")"
   ]
  },
  {
   "cell_type": "markdown",
   "metadata": {},
   "source": [
    "### saving file"
   ]
  },
  {
   "cell_type": "code",
   "execution_count": 17,
   "metadata": {},
   "outputs": [
    {
     "name": "stdout",
     "output_type": "stream",
     "text": [
      "Successfully saved: gyalwarinpoche_ALL_content_འཛམ་གླིང་།.json\n"
     ]
    }
   ],
   "source": [
    "save_file_name = f\"gyalwarinpoche_ALL_content_{page_key_list[1]}.json\"\n",
    "save_json(path, save_file_name, all_article)"
   ]
  },
  {
   "cell_type": "code",
   "execution_count": 18,
   "metadata": {},
   "outputs": [
    {
     "data": {
      "text/plain": [
       "244"
      ]
     },
     "execution_count": 18,
     "metadata": {},
     "output_type": "execute_result"
    }
   ],
   "source": [
    "len(all_article)"
   ]
  },
  {
   "cell_type": "code",
   "execution_count": null,
   "metadata": {},
   "outputs": [],
   "source": []
  },
  {
   "cell_type": "code",
   "execution_count": null,
   "metadata": {},
   "outputs": [],
   "source": []
  },
  {
   "cell_type": "code",
   "execution_count": null,
   "metadata": {},
   "outputs": [],
   "source": []
  },
  {
   "cell_type": "code",
   "execution_count": null,
   "metadata": {},
   "outputs": [],
   "source": []
  },
  {
   "cell_type": "code",
   "execution_count": null,
   "metadata": {},
   "outputs": [],
   "source": []
  }
 ],
 "metadata": {
  "kernelspec": {
   "display_name": "Python 3 (ipykernel)",
   "language": "python",
   "name": "python3"
  },
  "language_info": {
   "codemirror_mode": {
    "name": "ipython",
    "version": 3
   },
   "file_extension": ".py",
   "mimetype": "text/x-python",
   "name": "python",
   "nbconvert_exporter": "python",
   "pygments_lexer": "ipython3",
   "version": "3.9.13"
  }
 },
 "nbformat": 4,
 "nbformat_minor": 4
}
