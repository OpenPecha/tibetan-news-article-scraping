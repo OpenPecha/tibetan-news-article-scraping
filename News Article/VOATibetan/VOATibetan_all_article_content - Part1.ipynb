{
 "cells": [
  {
   "cell_type": "code",
   "execution_count": 14,
   "metadata": {},
   "outputs": [],
   "source": [
    "import requests\n",
    "from bs4 import BeautifulSoup\n",
    "import json\n",
    "import time\n",
    "from tqdm import tqdm"
   ]
  },
  {
   "cell_type": "code",
   "execution_count": 15,
   "metadata": {},
   "outputs": [],
   "source": [
    "import VOATibetan_utils"
   ]
  },
  {
   "cell_type": "code",
   "execution_count": null,
   "metadata": {},
   "outputs": [],
   "source": []
  },
  {
   "cell_type": "markdown",
   "metadata": {},
   "source": [
    "## Here we will extract all the articles content from voatibetan webpage\n",
    "URL: https://www.voatibetan.com/"
   ]
  },
  {
   "cell_type": "code",
   "execution_count": 16,
   "metadata": {},
   "outputs": [],
   "source": [
    "def save_json(path, file_name, data):\n",
    "    \"\"\"\n",
    "    \n",
    "    \"\"\"\n",
    "    with open(path+file_name, \"w\") as outfile:\n",
    "        json.dump(data, outfile, indent=4)\n",
    "        print(f\"Successfully saved: {file_name}\")"
   ]
  },
  {
   "cell_type": "code",
   "execution_count": 17,
   "metadata": {},
   "outputs": [],
   "source": [
    "def read_json(path, file_name):\n",
    "    \"\"\"\n",
    "    \n",
    "    \"\"\"\n",
    "    with open(path+file_name, 'r') as openfile:\n",
    "        # Reading from json file\n",
    "        Loaded_file = json.load(openfile)\n",
    "        print(f\"Successfully loaded: {file_name}\")\n",
    "\n",
    "    return Loaded_file\n"
   ]
  },
  {
   "cell_type": "code",
   "execution_count": null,
   "metadata": {},
   "outputs": [],
   "source": []
  },
  {
   "cell_type": "code",
   "execution_count": null,
   "metadata": {},
   "outputs": [],
   "source": []
  },
  {
   "cell_type": "markdown",
   "metadata": {},
   "source": [
    "## all VOATibetan_ALL_link_བོད།"
   ]
  },
  {
   "cell_type": "code",
   "execution_count": 18,
   "metadata": {},
   "outputs": [
    {
     "name": "stdout",
     "output_type": "stream",
     "text": [
      "Successfully loaded: VOATibetan_ALL_link_བོད།.json\n",
      "Total page in VOATibetan_ALL_link_བོད།.json: 101\n"
     ]
    }
   ],
   "source": [
    "path = \"./data/\"\n",
    "file_name = \"VOATibetan_ALL_link_བོད།.json\"\n",
    "All_links_data = read_json(path, file_name)\n",
    "Total_lenght = len(All_links_data)\n",
    "print(f\"Total page in {file_name}: {Total_lenght}\")"
   ]
  },
  {
   "cell_type": "code",
   "execution_count": 19,
   "metadata": {},
   "outputs": [
    {
     "name": "stdout",
     "output_type": "stream",
     "text": [
      "page key name: Page བོད། 1\n",
      "Page key code: Page བོད། \n"
     ]
    }
   ],
   "source": [
    "print(f\"page key name: {list(All_links_data.keys())[1]}\")\n",
    "page_key_list = list(All_links_data.keys())[1].split(\" \")\n",
    "\n",
    "page_key_code = \"Page \"+page_key_list[1]+\" \"\n",
    "print(f\"Page key code: {page_key_code}\")"
   ]
  },
  {
   "cell_type": "code",
   "execution_count": 20,
   "metadata": {},
   "outputs": [
    {
     "name": "stderr",
     "output_type": "stream",
     "text": [
      "100%|██████████| 101/101 [02:28<00:00,  1.47s/it]\n"
     ]
    }
   ],
   "source": [
    "start = 0\n",
    "all_article = {}\n",
    "\n",
    "for i in tqdm(range(start, Total_lenght)):\n",
    "    page_key = page_key_code + str(i)\n",
    "    all_link_page = All_links_data[page_key][\"Links\"]\n",
    "    page_article_index = 1\n",
    "    \n",
    "    for each_URL in all_link_page:\n",
    "        article_content = VOATibetan_utils.scrape_VOATibetan_article_content(each_URL, Tags=page_key_list[1])\n",
    "        article_key = page_key + \"_VOATibetan_Article_\" + str(page_article_index)\n",
    "        page_article_index += 1\n",
    "        all_article[article_key] = article_content"
   ]
  },
  {
   "cell_type": "code",
   "execution_count": 21,
   "metadata": {},
   "outputs": [
    {
     "name": "stdout",
     "output_type": "stream",
     "text": [
      "Page བོད། 0_VOATibetan_Article_1\n",
      "Page བོད། 1_VOATibetan_Article_1\n",
      "Page བོད། 2_VOATibetan_Article_1\n",
      "Page བོད། 3_VOATibetan_Article_1\n",
      "Page བོད། 4_VOATibetan_Article_1\n",
      "Page བོད། 5_VOATibetan_Article_1\n",
      "Page བོད། 7_VOATibetan_Article_1\n",
      "Page བོད། 8_VOATibetan_Article_1\n",
      "Page བོད། 10_VOATibetan_Article_1\n",
      "Page བོད། 11_VOATibetan_Article_1\n",
      "Page བོད། 12_VOATibetan_Article_1\n",
      "Page བོད། 13_VOATibetan_Article_1\n",
      "Page བོད། 14_VOATibetan_Article_1\n",
      "Page བོད། 15_VOATibetan_Article_1\n",
      "Page བོད། 16_VOATibetan_Article_1\n",
      "Page བོད། 17_VOATibetan_Article_1\n",
      "Page བོད། 19_VOATibetan_Article_1\n",
      "Page བོད། 20_VOATibetan_Article_1\n",
      "Page བོད། 21_VOATibetan_Article_1\n",
      "Page བོད། 23_VOATibetan_Article_1\n",
      "Page བོད། 24_VOATibetan_Article_1\n",
      "Page བོད། 25_VOATibetan_Article_1\n",
      "Page བོད། 26_VOATibetan_Article_1\n",
      "Page བོད། 27_VOATibetan_Article_1\n",
      "Page བོད། 29_VOATibetan_Article_1\n",
      "Page བོད། 30_VOATibetan_Article_1\n",
      "Page བོད། 31_VOATibetan_Article_1\n",
      "Page བོད། 32_VOATibetan_Article_1\n",
      "Page བོད། 33_VOATibetan_Article_1\n",
      "Page བོད། 38_VOATibetan_Article_1\n",
      "Page བོད། 39_VOATibetan_Article_1\n",
      "Page བོད། 40_VOATibetan_Article_1\n",
      "Page བོད། 41_VOATibetan_Article_1\n",
      "Page བོད། 42_VOATibetan_Article_1\n",
      "Page བོད། 43_VOATibetan_Article_1\n",
      "Page བོད། 45_VOATibetan_Article_1\n",
      "Page བོད། 46_VOATibetan_Article_1\n",
      "Page བོད། 48_VOATibetan_Article_1\n",
      "Page བོད། 49_VOATibetan_Article_1\n",
      "Page བོད། 51_VOATibetan_Article_1\n",
      "Page བོད། 52_VOATibetan_Article_1\n",
      "Page བོད། 53_VOATibetan_Article_1\n",
      "Page བོད། 54_VOATibetan_Article_1\n",
      "Page བོད། 55_VOATibetan_Article_1\n",
      "Page བོད། 57_VOATibetan_Article_1\n",
      "Page བོད། 58_VOATibetan_Article_1\n",
      "Page བོད། 60_VOATibetan_Article_1\n",
      "Page བོད། 61_VOATibetan_Article_1\n",
      "Page བོད། 62_VOATibetan_Article_1\n",
      "Page བོད། 63_VOATibetan_Article_1\n",
      "Page བོད། 64_VOATibetan_Article_1\n",
      "Page བོད། 65_VOATibetan_Article_1\n",
      "Page བོད། 66_VOATibetan_Article_1\n",
      "Page བོད། 69_VOATibetan_Article_1\n",
      "Page བོད། 70_VOATibetan_Article_1\n",
      "Page བོད། 71_VOATibetan_Article_1\n",
      "Page བོད། 72_VOATibetan_Article_1\n",
      "Page བོད། 73_VOATibetan_Article_1\n",
      "Page བོད། 74_VOATibetan_Article_1\n",
      "Page བོད། 75_VOATibetan_Article_1\n",
      "Page བོད། 76_VOATibetan_Article_1\n",
      "Page བོད། 77_VOATibetan_Article_1\n",
      "Page བོད། 78_VOATibetan_Article_1\n",
      "Page བོད། 79_VOATibetan_Article_1\n",
      "Page བོད། 80_VOATibetan_Article_1\n",
      "Page བོད། 81_VOATibetan_Article_1\n",
      "Page བོད། 82_VOATibetan_Article_1\n",
      "Page བོད། 83_VOATibetan_Article_1\n",
      "Page བོད། 84_VOATibetan_Article_1\n",
      "Page བོད། 85_VOATibetan_Article_1\n",
      "Page བོད། 86_VOATibetan_Article_1\n",
      "Page བོད། 87_VOATibetan_Article_1\n",
      "Page བོད། 88_VOATibetan_Article_1\n",
      "Page བོད། 89_VOATibetan_Article_1\n",
      "Page བོད། 90_VOATibetan_Article_1\n",
      "Page བོད། 91_VOATibetan_Article_1\n",
      "Page བོད། 92_VOATibetan_Article_1\n",
      "Page བོད། 93_VOATibetan_Article_1\n",
      "Page བོད། 95_VOATibetan_Article_1\n",
      "Page བོད། 96_VOATibetan_Article_1\n",
      "Page བོད། 97_VOATibetan_Article_1\n",
      "Page བོད། 98_VOATibetan_Article_1\n",
      "Page བོད། 99_VOATibetan_Article_1\n",
      "Page བོད། 100_VOATibetan_Article_1\n",
      "total Failure in the བོད། article: 84\n"
     ]
    }
   ],
   "source": [
    "Failure_count = 0\n",
    "for each_article_key in all_article:\n",
    "    if all_article[each_article_key][\"Response\"] != 200:\n",
    "        print(each_article_key)\n",
    "        Failure_count += 1\n",
    "\n",
    "print(f\"total Failure in the {page_key_list[1]} article: {Failure_count}\")"
   ]
  },
  {
   "cell_type": "markdown",
   "metadata": {},
   "source": [
    "### saving file"
   ]
  },
  {
   "cell_type": "code",
   "execution_count": 22,
   "metadata": {},
   "outputs": [
    {
     "name": "stdout",
     "output_type": "stream",
     "text": [
      "Successfully saved: gyalwarinpoche_ALL_content_བོད།.json\n"
     ]
    }
   ],
   "source": [
    "save_file_name = f\"voatibetan_ALL_content_{page_key_list[1]}.json\"\n",
    "save_json(path, save_file_name, all_article)"
   ]
  },
  {
   "cell_type": "code",
   "execution_count": 23,
   "metadata": {},
   "outputs": [
    {
     "data": {
      "text/plain": [
       "241"
      ]
     },
     "execution_count": 23,
     "metadata": {},
     "output_type": "execute_result"
    }
   ],
   "source": [
    "len(all_article)"
   ]
  },
  {
   "cell_type": "code",
   "execution_count": null,
   "metadata": {},
   "outputs": [],
   "source": []
  },
  {
   "cell_type": "code",
   "execution_count": null,
   "metadata": {},
   "outputs": [],
   "source": []
  },
  {
   "cell_type": "code",
   "execution_count": null,
   "metadata": {},
   "outputs": [],
   "source": []
  },
  {
   "cell_type": "code",
   "execution_count": null,
   "metadata": {},
   "outputs": [],
   "source": []
  },
  {
   "cell_type": "code",
   "execution_count": null,
   "metadata": {},
   "outputs": [],
   "source": []
  }
 ],
 "metadata": {
  "kernelspec": {
   "display_name": "Python 3 (ipykernel)",
   "language": "python",
   "name": "python3"
  },
  "language_info": {
   "codemirror_mode": {
    "name": "ipython",
    "version": 3
   },
   "file_extension": ".py",
   "mimetype": "text/x-python",
   "name": "python",
   "nbconvert_exporter": "python",
   "pygments_lexer": "ipython3",
   "version": "3.9.13"
  }
 },
 "nbformat": 4,
 "nbformat_minor": 4
}
