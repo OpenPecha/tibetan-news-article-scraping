{
 "cells": [
  {
   "cell_type": "code",
   "execution_count": null,
   "metadata": {},
   "outputs": [],
   "source": [
    "from bs4 import BeautifulSoup\n",
    "import requests\n"
   ]
  },
  {
   "cell_type": "code",
   "execution_count": 2,
   "metadata": {},
   "outputs": [
    {
     "ename": "SyntaxError",
     "evalue": "invalid syntax (3239737870.py, line 10)",
     "output_type": "error",
     "traceback": [
      "\u001b[1;36m  Cell \u001b[1;32mIn[2], line 10\u001b[1;36m\u001b[0m\n\u001b[1;33m    menu_items = soup.find_all('li', class='menu-item')\u001b[0m\n\u001b[1;37m                                     ^\u001b[0m\n\u001b[1;31mSyntaxError\u001b[0m\u001b[1;31m:\u001b[0m invalid syntax\n"
     ]
    }
   ],
   "source": [
    "\n",
    "def fetcharticles_from_menu(url):\n",
    "    try:\n",
    "        response = requests.get(url)\n",
    "        response.raise_for_status()\n",
    "    except requests.RequestException as e:\n",
    "        print(f\"Error fetching the URL: {e}\")\n",
    "        return []\n",
    "\n",
    "    soup = BeautifulSoup(response.content, 'html.parser')\n",
    "    menu_items = soup.find_all('li', class='menu-item')\n",
    "\n",
    "    articles = []\n",
    "    for item in menu_items:\n",
    "        link_tag = item.find('a')\n",
    "        text_tag = item.find('div', class_='tdb-menu-item-text')\n",
    "\n",
    "        if link_tag and text_tag:\n",
    "            title = text_tag.get_text(strip=True)\n",
    "            link = link_tag.get('href')\n",
    "            articles.append({'title': title, 'link': link})\n",
    "\n",
    "    return articles\n",
    "\n",
    "url = \"https://vot.org/\" \n",
    "articles = fetcharticles_from_menu(url)\n",
    "for article in articles:\n",
    "    print(f\"Title: {article['title']}\")\n",
    "    print(f\"Link: {article['link']}\")\n",
    "    print('---')"
   ]
  },
  {
   "cell_type": "code",
   "execution_count": null,
   "metadata": {},
   "outputs": [],
   "source": []
  },
  {
   "cell_type": "code",
   "execution_count": null,
   "metadata": {},
   "outputs": [],
   "source": []
  },
  {
   "cell_type": "code",
   "execution_count": 6,
   "metadata": {},
   "outputs": [
    {
     "name": "stdout",
     "output_type": "stream",
     "text": [
      "Title: མདུན་ངོས།\n",
      "Link: https://vot.org/\n",
      "---\n",
      "Title: ངོ་སྤྲོད།\n",
      "Link: https://vot.org/about-us/\n",
      "---\n",
      "Title: ༸གོང་ས་མཆོག\n",
      "Link: https://vot.org/category/%e0%bc%b8%e0%bd%82%e0%bd%bc%e0%bd%84%e0%bc%8b%e0%bd%a6%e0%bc%8b%e0%bd%98%e0%bd%86%e0%bd%bc%e0%bd%82/\n",
      "---\n",
      "Title: བོད།\n",
      "Link: https://vot.org/category/%e0%bd%96%e0%bd%bc%e0%bd%91%e0%bc%8d/\n",
      "---\n",
      "Title: བཙན་བྱོལ།\n",
      "Link: https://vot.org/category/%e0%bd%96%e0%bd%99%e0%bd%93%e0%bc%8b%e0%bd%96%e0%be%b1%e0%bd%bc%e0%bd%a3%e0%bc%8d/\n",
      "---\n",
      "Title: རྒྱ་ནག\n",
      "Link: https://vot.org/category/%e0%bd%a2%e0%be%92%e0%be%b1%e0%bc%8b%e0%bd%93%e0%bd%82/\n",
      "---\n",
      "Title: རྒྱལ་སྤྱི།\n",
      "Link: https://vot.org/category/%e0%bd%a2%e0%be%92%e0%be%b1%e0%bd%a3%e0%bc%8b%e0%bd%a6%e0%be%a4%e0%be%b1%e0%bd%b2%e0%bc%8d/\n",
      "---\n",
      "Title: རྒྱང་སྲིང་འོད་ཚད།\n",
      "Link: https://vot.org/satellite-info/\n",
      "---\n",
      "Title: སྒྲ་མཛོད།\n",
      "Link: https://vot.org/archive/\n",
      "---\n",
      "Title: བརྙན་མཛོད།\n",
      "Link: https://vot.org/features/\n",
      "---\n",
      "Title: འབྲེལ་ལམ།\n",
      "Link: https://vot.org/contact/\n",
      "---\n"
     ]
    }
   ],
   "source": [
    "import requests\n",
    "from bs4 import BeautifulSoup\n",
    "\n",
    "def fetch_articles_from_menu(url):\n",
    "    try:\n",
    "        headers = {\n",
    "            'User-Agent': 'Mozilla/5.0 (Windows NT 10.0; Win64; x64) AppleWebKit/537.36 (KHTML, like Gecko) Chrome/91.0.4472.124 Safari/537.36'\n",
    "        }\n",
    "        response = requests.get(url, headers=headers)\n",
    "        response.raise_for_status()\n",
    "    except requests.RequestException as e:\n",
    "        print(f\"Error fetching the URL: {e}\")\n",
    "        return []\n",
    "    \n",
    "    soup = BeautifulSoup(response.content, 'html.parser')\n",
    "    \n",
    "    # Find the main navigation menu\n",
    "    nav_menu = soup.find('ul', class_='tdb-block-menu')\n",
    "    \n",
    "    if not nav_menu:\n",
    "        print(\"Could not find the main navigation menu\")\n",
    "        return []\n",
    "    \n",
    "    articles = []\n",
    "    menu_items = nav_menu.find_all('li', class_='menu-item')\n",
    "    \n",
    "    for item in menu_items:\n",
    "        link_tag = item.find('a')\n",
    "        if link_tag:\n",
    "            title = link_tag.get_text(strip=True)\n",
    "            link = link_tag.get('href')\n",
    "            articles.append({'title': title, 'link': link})\n",
    "    \n",
    "    return articles\n",
    "\n",
    "url = \"https://vot.org/%e0%bd%96%e0%bd%bc%e0%bd%91%e0%bc%8b%e0%bd%80%e0%be%b1%e0%bd%b2%e0%bc%8b%e0%bd%82%e0%bd%9e%e0%bd%bc%e0%bd%93%e0%bc%8b%e0%bd%93%e0%bd%b4%e0%bc%8b%e0%bd%a3%e0%be%b7%e0%bd%93%e0%bc%8b%e0%bd%9a-20/\"\n",
    "articles = fetch_articles_from_menu(url)\n",
    "\n",
    "for article in articles:\n",
    "    print(f\"Title: {article['title']}\")\n",
    "    print(f\"Link: {article['link']}\")\n",
    "    print('---')"
   ]
  },
  {
   "cell_type": "code",
   "execution_count": 5,
   "metadata": {},
   "outputs": [
    {
     "data": {
      "text/plain": [
       "11"
      ]
     },
     "execution_count": 5,
     "metadata": {},
     "output_type": "execute_result"
    }
   ],
   "source": [
    "len(articles)"
   ]
  },
  {
   "cell_type": "code",
   "execution_count": null,
   "metadata": {},
   "outputs": [],
   "source": []
  },
  {
   "cell_type": "code",
   "execution_count": 9,
   "metadata": {},
   "outputs": [
    {
     "name": "stdout",
     "output_type": "stream",
     "text": [
      "Title: བོད་ཀྱི་གཞོན་ནུ་ལྷན་ཚོགས་ཀྱི་འགན་འཛིན་ལྷན་ཚོགས་ཐེངས་ ༥༤ པ་མཇུག་བསྒྲིལ་འདུག\n",
      "\n",
      "Body:\n",
      "<div class=\"tdb-block-inner td-fix-index\"><span class=\"tdb-header-search-button-mob dropdown-toggle\" data-toggle=\"dropdown\"><i class=\"tdb-mobile-search-icon td-icon-search\"></i></span></div>\n"
     ]
    }
   ],
   "source": []
  },
  {
   "cell_type": "code",
   "execution_count": 10,
   "metadata": {},
   "outputs": [
    {
     "data": {
      "text/plain": [
       "<div class=\"tdb-block-inner td-fix-index\"><span class=\"tdb-header-search-button-mob dropdown-toggle\" data-toggle=\"dropdown\"><i class=\"tdb-mobile-search-icon td-icon-search\"></i></span></div>"
      ]
     },
     "execution_count": 10,
     "metadata": {},
     "output_type": "execute_result"
    }
   ],
   "source": [
    "article['body']"
   ]
  },
  {
   "cell_type": "code",
   "execution_count": null,
   "metadata": {},
   "outputs": [],
   "source": []
  }
 ],
 "metadata": {
  "kernelspec": {
   "display_name": "base",
   "language": "python",
   "name": "python3"
  },
  "language_info": {
   "codemirror_mode": {
    "name": "ipython",
    "version": 3
   },
   "file_extension": ".py",
   "mimetype": "text/x-python",
   "name": "python",
   "nbconvert_exporter": "python",
   "pygments_lexer": "ipython3",
   "version": "3.9.13"
  }
 },
 "nbformat": 4,
 "nbformat_minor": 2
}
