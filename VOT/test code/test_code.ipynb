{
 "cells": [
  {
   "cell_type": "code",
   "execution_count": 1,
   "metadata": {},
   "outputs": [],
   "source": [
    "from newspaper import Article\n",
    "import nltk\n"
   ]
  },
  {
   "cell_type": "code",
   "execution_count": null,
   "metadata": {},
   "outputs": [],
   "source": [
    "# Download required nltk data (only needed once)\n",
    "nltk.download('punkt')\n",
    "\n",
    "# Initialize an Article object with a URL\n",
    "url = \"https://example.com/news-article\"\n",
    "article = Article(url)\n",
    "\n",
    "# Download and parse the article\n",
    "article.download()\n",
    "article.parse()\n",
    "\n",
    "# Extract basic information\n",
    "print(f\"Title: {article.title}\")\n",
    "print(f\"Authors: {article.authors}\")\n",
    "print(f\"Publish Date: {article.publish_date}\")\n",
    "print(f\"Top Image: {article.top_image}\")\n",
    "\n",
    "# Extract the main text content\n",
    "print(f\"Text: {article.text}\")\n",
    "\n",
    "# Perform natural language processing\n",
    "article.nlp()\n",
    "\n",
    "# Get keywords and summary\n",
    "print(f\"Keywords: {article.keywords}\")\n",
    "print(f\"Summary: {article.summary}\")\n",
    "\n",
    "# Get other metadata\n",
    "print(f\"Meta Data: {article.meta_data}\")"
   ]
  },
  {
   "cell_type": "code",
   "execution_count": null,
   "metadata": {},
   "outputs": [],
   "source": []
  },
  {
   "cell_type": "code",
   "execution_count": 3,
   "metadata": {},
   "outputs": [],
   "source": [
    "import requests\n",
    "from bs4 import BeautifulSoup\n"
   ]
  },
  {
   "cell_type": "code",
   "execution_count": 19,
   "metadata": {},
   "outputs": [
    {
     "data": {
      "text/plain": [
       "{'title': 'བོད་ཀྱི་གཞོན་ནུ་ལྷན་ཚོགས་ཀྱི་འགན་འཛིན་ལྷན་ཚོགས་ཐེངས་ ༥༤ པ་མཇུག་བསྒྲིལ་འདུག',\n",
       " 'body': {'Audio': 'https://vot.org/wp-content/uploads/2024/08/Gangtok-TYC-54-Working-Committee-Meet-Concludes.mp3',\n",
       "  'Text': ['ཁ་སྔོན་ཕྱི་ཚེས་ ༥ ནས་འགོ་འཛུགས་བྱུང་བའི་བོད་ཀྱི་གཞོན་ནུ་ལྷན་ཚོགས་ཀྱི་འགན་འཛིན་ལྷན་ཚོགས་ཐེངས་ ༥༤ དེ་ཕྱི་ཚེས་ ༡༠ ཉིན་མཇུག་བསྒྲིལ་ཡོད་པ་དང་།\\xa0\\xa0 བོད་ཀྱི་གཞོན་ནུ་ལྷན་ཚོགས་ཀྱི་ངོས་ནས་ད་རེས་ཀྱི་འགན་འཛིན་ལྷན་ཚོགས་འདིའི་བརྒྱུད།\\xa0 རྒྱ་ནག་གཞུང་གིས་བོད་མིའི་ངོ་བོ་རྩ་མེད་བཟོ་བའི་སྲིད་བྱུས་འོག\\xa0\\xa0 བོད་ཀྱི་ཆོས་དང་རིག་གཞུང་སྐད་ཡིག་བཅས་པར་ཕྱོགས་གང་ས་ནས་དམ་དྲག་ཇེ་ཆེར་བྱེད་བཞིན་པ་དེར་ངོ་རྒོལ་གྱིས་བསྒྲགས་གཏམ་ཞིག་སྤེལ་ཡོད་པ་རེད།',\n",
       "   'ད་རེས་ཀྱི་འགན་འཛིན་ལྷན་ཚོགས་ཐེངས་ ༥༤ པ་དེའི་ཐོག\\xa0\\xa0 རྒྱ་གར་དང་བལ་ཡུལ་བཅས་ས་གནས་ཁག་ ༣༨ ནས་ཚོགས་བཅར་བ་མི་གྲངས་\\xa0 ༢༠༠ ཙམ་ཞིག་འདུ་འཛོམས་བྱུང་ཡོད་པ་དང་།\\xa0 ཉིན་གྲངས་ལྔའི་རིང་ཚོགས་བཅར་བ་ཕན་ཚུན་བཀའ་བསྡུར་དང་འབྲེལ་གྲོས་ཆོད་དོན་ཚན་བརྒྱད་གཏན་འབེབས་གནང་ཐུབ་པ་མ་ཟད།\\xa0 སྤྱི་མོས་གྲོས་ཆོད་ཞིག་གཏན་འབེབས་བྱུང་ཡོད་པ་དེའི་ནང་བོད་ཀྱི་སྐད་ཡིག་མི་ཉམས་རྒྱུན་འཛིན་སླད།\\xa0 བོད་པའི་ཚོང་ཁང་དང་། ཟ་ཁང་།\\xa0\\xa0 མགྲོན་ཁང་།\\xa0 འགྲིམ་འགྲུལ་ཁང་སོགས་ཀྱི་སྒོ་བྱང་ཐོག་ངེས་པར་དུ་བོད་ཡིག་འབྲི་འགོད་ཡོང་ཐབས་དང་།\\xa0\\xa0 ལྷག་པར་གཞོན་ནུའི་སྒྲིག་འཛུགས་ཁྱབ་ཁོངས་ནས་ཕྱིར་འཐེན་བྱས་པའི་སྦེལ་ཀོབ་དང་ཧོན་སུར།\\xa0 ཀོ་ལི་གྷལ་བཅས་ཀྱི་གཞོན་ནུའི་མིང་འཛིན་པ་ཚོས་གཞོན་ནུའི་མཚན་བྱང་བཀོལ་སྤྱོད་མི་ཆོག་པ་བཅས་ཀྱི་གྲོས་ཆོད་ཀྱང་གཏན་འབེབས་བྱུང་ཡོད་པ་རེད།',\n",
       "   'བོད་ཀྱི་གཞོན་ནུ་ལྷན་ཚོགས་ཀྱི་སྤྱི་ཁྱབ་ཚོགས་གཙོ་མགོན་པོ་དོན་གྲུབ་ལགས་ཀྱིས།\\xa0\\xa0 ད་རེས་ཀྱི་འགན་འཛིན་ལྷན་ཚོགས་ཐེངས་ ༥༤ པ་དེ་སྒང་ཏོག་ས་གནས་ཀྱི་གཞོན་ནུ་ལྷན་ཚོགས་ངོས་ནས་གོ་སྒྲིག་ཞུས་པ་ཞིག་ཡིན་པ་དང་།\\xa0\\xa0 ལྷན་ཚོགས་དེ་ཚགས་ཚུད་ཡོང་ཐབས་སུ་ས་གནས་དབུས་རྒྱུན་ཟུར་པ་དང་།\\xa0 མངའ་སྡེའི་གཞུང་གི་ངོས་ནས་ཀྱང་མཐུན་འགྱུར་གང་འོས་གནང་ཡོད་པ་བཅས་འགྲེལ་བརྗོད་གནང་འདུག']},\n",
       " 'meta_data': {'Author': 'vot.org',\n",
       "  'Date': '13/08/2024',\n",
       "  'Tags': ['གསར་འགྱུར།', 'བཙན་བྱོལ།'],\n",
       "  'URL': 'https://vot.org/%e0%bd%96%e0%bd%bc%e0%bd%91%e0%bc%8b%e0%bd%80%e0%be%b1%e0%bd%b2%e0%bc%8b%e0%bd%82%e0%bd%9e%e0%bd%bc%e0%bd%93%e0%bc%8b%e0%bd%93%e0%bd%b4%e0%bc%8b%e0%bd%a3%e0%be%b7%e0%bd%93%e0%bc%8b%e0%bd%9a-20/'}}"
      ]
     },
     "execution_count": 19,
     "metadata": {},
     "output_type": "execute_result"
    }
   ],
   "source": [
    "\n",
    "def scrape_vot_article(url):\n",
    "    headers = {\n",
    "        'User-Agent': 'Mozilla/5.0 (Windows NT 10.0; Win64; x64) AppleWebKit/537.36 (KHTML, like Gecko) Chrome/91.0.4472.124 Safari/537.36'\n",
    "    }\n",
    "    \n",
    "    try:\n",
    "        response = requests.get(url, headers=headers)\n",
    "        response.raise_for_status()\n",
    "        soup = BeautifulSoup(response.content, 'html.parser')\n",
    "        \n",
    "        # Extract title\n",
    "        title = soup.find('h1', class_='tdb-title-text')\n",
    "        title_text = title.text.strip() if title else \"Title not found\"\n",
    "\n",
    "        # Extracting Meta Data\n",
    "        meta_data_body = soup.find('div', class_=\"vc_column_inner tdi_85 wpb_column vc_column_container tdc-inner-column td-pb-span6\")\n",
    "        author_name = meta_data_body.find('a', class_=\"tdb-author-name\").get_text()\n",
    "        date_time_meta = meta_data_body.find('time', class_=\"entry-date updated td-module-date\").get_text()\n",
    "\n",
    "        # getting tag meta data \n",
    "        tag_meta = soup.find('ul', class_='tdb-tags')\n",
    "        tag_meta = tag_meta.select('li a')\n",
    "        # print(tag_meta)\n",
    "        # store the tags in a list\n",
    "        tag_list_meta = [tag.text for tag in tag_meta]\n",
    "        \n",
    "\n",
    "        \n",
    "        website_meta = url\n",
    "\n",
    "        meta_data = {\n",
    "            \"Author\": author_name,\n",
    "            \"Date\": date_time_meta,\n",
    "            \"Tags\": tag_list_meta,\n",
    "            \"URL\": website_meta\n",
    "        }\n",
    "\n",
    "        # Extract body content\n",
    "        body = soup.find('div', class_='td_block_wrap tdb_single_content tdi_100 td-pb-border-top td_block_template_1 td-post-content tagdiv-type')\n",
    "        if body:\n",
    "\n",
    "            # Extracting all <p> tags for text content\n",
    "            paragraphs = body.find_all('p')\n",
    "            # Getting the text from each <p> tag\n",
    "            text_content=[]\n",
    "            for para in paragraphs:\n",
    "                text_content.append(para.get_text(strip=True))\n",
    "\n",
    "            # Audio Example:\n",
    "            # <figure class=\"wp-block-audio\">\n",
    "            # <audio controls=\"\" src=\"https://vot.org/wp-content/uploads/2024/08/Gangtok-TYC-54-Working-Committee-Meet-Concludes.mp3\">\n",
    "            # </audio></figure>\n",
    "            # Find the audio tag and get its src attribute\n",
    "            audio = body.find('figure', class_='wp-block-audio')\n",
    "            audio_tag = audio.find('audio')\n",
    "            if audio_tag:\n",
    "                audio_src = audio_tag.get('src')\n",
    "            else:\n",
    "                audio_src = \"No audio tag found\"\n",
    "            body_text = {\n",
    "                \"Audio\": audio_src,\n",
    "                \"Text\": text_content\n",
    "            }\n",
    "        \n",
    "        else:\n",
    "            body_text = \"Body content not found\"\n",
    "        \n",
    "        return {\n",
    "            'title': title_text,\n",
    "            'body': body_text,\n",
    "            'meta_data': meta_data\n",
    "        }\n",
    "    except requests.RequestException as e:\n",
    "        return {\n",
    "            'title': \"Error\",\n",
    "            'body': f\"An error occurred while fetching the article: {str(e)}\",\n",
    "            'meta_data': {'URL': url}\n",
    "        }\n",
    "\n",
    "# Usage\n",
    "url = \"https://vot.org/%e0%bd%96%e0%bd%bc%e0%bd%91%e0%bc%8b%e0%bd%80%e0%be%b1%e0%bd%b2%e0%bc%8b%e0%bd%82%e0%bd%9e%e0%bd%bc%e0%bd%93%e0%bc%8b%e0%bd%93%e0%bd%b4%e0%bc%8b%e0%bd%a3%e0%be%b7%e0%bd%93%e0%bc%8b%e0%bd%9a-20/\"\n",
    "article = scrape_vot_article(url)\n",
    "\n",
    "\n",
    "article"
   ]
  },
  {
   "cell_type": "code",
   "execution_count": 36,
   "metadata": {},
   "outputs": [
    {
     "data": {
      "text/plain": [
       "{'title': 'Error',\n",
       " 'body': 'An error occurred while fetching the article: 404 Client Error: Not Found for url: https://vot.org/vott%25E0%25BD%25A2%25E0%25BD%2582%25E0%25BD%25A6%25E0%25BD%2582%25E0%25%2585%25E0%25BD%2582%25E0%25BD%25A2%25E0%25BD%2584%25E0%25BD%25A0%25E0%25BD%259B%25E0%25BD%2593%25E0%25BD%25A3%25E0%25BD%2591/',\n",
       " 'meta_data': {'URL': 'https://vot.org/vott%e0%bd%a2%e0%bd%82%e0%bd%a6%e0%bd%82%e0%%85%e0%bd%82%e0%bd%a2%e0%bd%84%e0%bd%a0%e0%bd%9b%e0%bd%93%e0%bd%a3%e0%bd%91/'}}"
      ]
     },
     "execution_count": 36,
     "metadata": {},
     "output_type": "execute_result"
    }
   ],
   "source": [
    "# Usage\n",
    "url = \"https://vot.org/vott%e0%bd%a2%e0%bd%82%e0%bd%a6%e0%bd%82%e0%bd%85%e0%bd%82%e0%bd%a2%e0%bd%84%e0%bd%a0%e0%bd%9b%e0%bd%93%e0%bd%a3%e0%bd%91/\"\n",
    "article = scrape_vot_article(url)\n",
    "\n"
   ]
  },
  {
   "cell_type": "code",
   "execution_count": 34,
   "metadata": {},
   "outputs": [
    {
     "data": {
      "text/plain": [
       "{'title': 'ས་རཱ་མཐོ་སློབ་ཀྱི་ལོ་རྒྱུས་དང་རྩོམ་རིག་གཙུག་ལག་རབ་འབྱམས་པའི་སློབ་ཐོན་མཛད་སྒོར་རིགས་གཅིག་རྐང་འཛིན་ལ་དོ་སྣང་གནང་གལ་ཡིན་པ་གསུངས་སོང་།',\n",
       " 'body': {'Audio': 'https://vot.org/wp-content/uploads/2024/08/tib_13_08_2024-1.mp3',\n",
       "  'Text': ['དེ་རིང་ཕྱི་ཟླ་ ༨ ཚེས་ ༡༣ ཉིན་རིགས་ལམ་སློབ་གཉེར་ཁང་གི་ཡན་ལག་ས་རཱ་བོད་ཀྱི་མཐོ་རིམ་སློབ་གཉེར་ཁང་དབུ་བརྙེས་ཏེ་ལོ་ངོ་ ༢༦ འཁོར་བ་དང་བསྟུན། སྐབས་ལྔ་པའི་ལོ་རྒྱུས་གཙུག་ལ་རབ་འབྱམས་པའི་སློབ་མ་ ༧ དང་སྐབས་བཞི་པའི་རྩོམ་རིག་གཙུག་ལག་རབ་འབྱམས་པའི་སློབ་མ་ ༥ བཅས་ཁྱོན་སློབ་མ་ ༡༢ ལ་སློབ་ཐོན་ཕྱག་འཁྱེར་གནང་ཡོད་པ་དང་འབྲེལ། རིགས་གཅིག་རྐང་འཛིན་ལ་དོ་སྣང་ཆེན་པོ་བྱ་དགོས་ཤིང་། མ་འོངས་སྤྱི་ཚོགས་ལ་ཕན་པའི་ལས་དོན་རྒྱ་གང་ཆེ་གནང་བའི་རེ་བ་དང་སྨོན་འདུན་ཞུས་སོང་།',\n",
       "   'དེ་ཡང་དེ་རིང་གི་མཛད་སྒོའི་ཐོག་སྐུ་མགྲོན་གཙོ་བོ་བོད་ཀྱི་དཔེ་མཛོད་ཁང་གི་འགན་འཛིན་དགེ་བཤེས་ལྷག་རྡོར་ལགས་དང་། རིགས་སློབ་མ་ལག་གཉིས་ཀྱི་དྲུང་ཆེ་བསྟན་འཛིན་སྟོབས་རྒྱས་ལགས། འཇར་མན་བོད་ཁང་གི་འགན་འཛིན་སྤྲུལ་སྐུ་ཐོས་བསམ་ལགས། ས་རཱ་མཐོ་སློབ་ཀྱི་སློབ་སྤྱི་བགྲེས་གཞོན་གཙོས་པའི་སློབ་དཔོན་རྣམ་པ། ལས་བྱེད། དེ་བཞིན་སློབ་གཉེར་བ་དང་སློབ་ཐོན་པའི་ཕ་མ་བཅས་ནས་མཉམ་ཞུགས་གནང་འདུག',\n",
       "   'སྐབས་དེར་སྐུ་མགྲོན་གཙོ་བོ་དགེ་བཤེས་ལྷག་རྡོར་ལགས་ཀྱིས། དེ་རིང་ས་རཱ་བོད་ཀྱི་མཐོ་སློབ་དབུ་བརྙེས་ནས་ལོ་ངོ་ ༢༦ འཁོར་གྱི་ཡོད་པར་འདས་པའི་དུས་ཡུན་ཁྲོད་རང་རེ་སྤྱི་ཚོགས་ལ་ཕན་རླབས་ཆེན་པོ་བྱུང་ཡོད་པ་དང་། གོ་སྐབས་འདིའི་བརྒྱུད་ནས་སྤྱི་ནོར་༸གོང་ས་༸སྐྱབས་མགོན་ཆེན་པོ་མཆོག་གི་བཀའ་དྲིན་དྲན་དགོས་གལ་ཐོག་སྐུ་གཟུགས་གསལ་ཐང་ཡོང་བའི་སྨོན་འདུན་དང་། དེ་བཞིན་སློབ་གཉེར་ཁང་འདི་ཉིད་ཐོག་མ་གསར་འཛུགས་གནང་མཁན་རྒན་དམ་པ་བློ་བཟང་རྒྱ་མཚོ་མཆོག་གིས་དབུས་པའི་རྒན་རབས་རྣམ་པའི་བཀའ་དྲིན་དྲན་དགོས་གལ་ཡིན་པ་དྲན་སྐུལ་གནང་སོང་།',\n",
       "   'ལྷག་པར་སློབ་སྦྱོང་གི་གྲུབ་འབྲས་ཞེས་པ་དེ་ནང་སེམས་ཀྱི་འགྱུར་བ་དང་འབྲེལ་བ་ཡོད་པར་ཕྱི་ལ་མངོན་གསལ་དོད་པོ་མེད་སྟབས། སྐབས་འགར་སེམས་ཤུགས་ཆགས་པ་དང་དོ་སྣང་མེད་པ་དེ་འདྲ་ཡོང་སྲིད་པར་གཟབ་ནན་བྱ་དགོས་གལ་དང་། སྤྱི་ཚོགས་ནང་མི་གཅིག་ཡག་པོ་བཟོ་ཐུབ་ན་དེའི་བསྟན་འགྲོ་སྤྱི་དང་ཡང་སྒོས་བོད་སྤྱི་བའི་དོན་དུ་ཞབས་འདེགས་ཆེན་པོ་སྒྲུབ་མཁན་ཞིག་ཆགས་ཐུབ་ཀྱི་ཡོད་པར་བརྟེན། ད་བར་ས་རཱ་མཐོ་སློབ་ཀྱི་ངོས་ནས་བོད་པའི་སྤྱི་ཚོགས་ནང་ཞབས་ཞུ་ཆེན་པོ་སྒྲུབ་བཞིན་པར་སླད་མར་མུ་མཐུད་དེ་ལྟར་གནང་སྐྱོང་ཡོང་བའི་འབོད་སྐུལ་ཞུས་གནང་སོང་།',\n",
       "   'ད་དུང་འཛམ་གླིང་གང་དུ་སོང་ཡང་བོད་པའི་རིག་གཞུང་དེ་ངོམས་སུ་ཆོག་པ་ཞིག་ཡིན་པར་ནོར་བུ་རང་ལ་ཡོད་དུས་ནོར་ཉམས་ཆོད་པ་ཞིག་བྱ་དགོས་གལ་ཡིན་པ་དང་། དེ་བཞིན་རིགས་གཅིག་རྐང་འཛིན་ལ་དོན་སྣང་ཆེན་པོ་དགོས་ཤིང་། ལྷག་པར་བོད་ནང་རྒྱ་གཞུང་གི་དམ་བསྒྲགས་ཆེན་པོའི་འོག་བོད་རྒྱ་སྒྱུར་གྱི་སྲིད་བྱུས་ལག་བསྟར་གྱིས་བོད་ཀྱི་ཆོས་དང་རིག་གཞུང་རྩ་མེད་གཏོང་བཞིན་ཡོད་པར་ང་ཚོ་བཙན་བྱོལ་ནང་ཡོད་མཁན་རྣམ་པས་རང་ལ་འཁྲི་བའི་འགན་དེ་ངེས་པར་དུ་འཁུར་དགོས་གལ་སོགས་ཀྱི་ལམ་སྟོན་གནང་སོང་།',\n",
       "   'དེ་བཞིན་ས་རཱ་བོད་ཀྱི་མཐོ་རིམ་སློབ་གཉེར་ཁང་གི་སློབ་སྤྱི་པ་སངས་ཚེ་རིང་ལགས་ཀྱིས། ཕྱི་ལོ་ ༡༩༩༨ ཟླ་ ༨ ཚེས་ ༡༣ ཉིན་སྤྱི་ནོར་༸གོང་ས་༸སྐྱབས་མགོན་ཆེན་པོ་མཆོག་གིས་ས་རཱ་མཐོ་སློབ་དེ་ཉིད་དབུ་འབྱེད་མཛད་པའི་དེ་བྱུང་ལོ་རྒྱུས་ཁག་ངོ་སྤྲོད་དང་ད་ལྟའི་ཆར་སློབ་མ་ཁྱོན་ ༢༣༣ དང་དགེ་རྒན་ ༥༨ བཅས་དགེ་སློབ་གྲངས་ ༢༩༡ ཡོད་སྐོར་གསུངས་པ་དང་འབྲེལ། ལྷག་པར་༸གོང་ས་མཆོག་གི་བཀའ་སློབ་ལམ་སྟོན་བཞིན་བོད་པའི་སྤྱི་ཚོགས་ནང་ལོ་རྒྱུས་དང་རྩོམ་རིག དེ་བཞིན་སྐད་བརྡ་རིག་པའི་ཆེད་ལས་ཀྱི་མི་སྣ་གསོ་སྐྱོང་དང་སྟོང་ཆ་སྐོང་ཆེད་གཙུག་ལག་རབ་འབྱམས་པའི་ལས་གཞི་གསར་འཛུགས་གནང་བ་ཞིག་ཡིན་པ་མ་ཟད། ད་ལྟའི་ཆར་ལོ་རྒྱུས་ཀྱི་གཙུག་ལག་རབ་འབྱམས་པ་སྐབས་ལྔ་པ་ཆགས་ཀྱི་ཡོད་ཅིང་ད་བར་སློབ་མ་ ༢༠ ལྷག་སློབ་ཐོན་ཟིན་པ་དང་། རྩོམ་རིག་གཙུག་ལག་རབ་འབྱམས་པ་སྐབས་བཞི་པ་ཆགས་ཀྱི་ཡོད་ཅིང་ད་བར་སློབ་མ་ ༢༠ ཙམ་སློབ་ཐོན་ཟིན་ཏེ་ཐོག་མའི་དམིགས་ཡུལ་དང་འཚམས་པའི་ལས་དོན་གནང་བཞིན་ཡོད་པ་སོགས་འགྲེལ་བརྗོད་ཀྱིས་མ་འོངས་སྤྱི་ཚོགས་ལ་ཕན་པའི་ལས་དོན་ནང་ཞུགས་པའི་རེ་བ་དང་སྨོན་ལམ་ཡོད་ཅེས་སྐུལ་མ་གནང་སོང་།',\n",
       "   'འདི་ག་རླུང་འཕྲིན་ཁང་ནས་ལོ་རྒྱུས་དང་རྩོམ་རིག་གཙུག་ལག་རབ་འབྱམས་སློབ་ཐོན་སློབ་མ་ཁག་གཅིག་ལ་བཅར་འདྲི་ཞུས་ཡོད་པས་གོང་གི་སྒྲ་སྒམ་ནས་གསན་ཐུབ།']},\n",
       " 'meta_data': {'Author': 'vot.org',\n",
       "  'Date': '13/08/2024',\n",
       "  'URL': 'https://vot.org/vott%e0%bd%a2%e0%bd%82%e0%bd%a6%e0%bd%82%e0%bd%85%e0%bd%82%e0%bd%a2%e0%bd%84%e0%bd%a0%e0%bd%9b%e0%bd%93%e0%bd%a3%e0%bd%91/'}}"
      ]
     },
     "execution_count": 34,
     "metadata": {},
     "output_type": "execute_result"
    }
   ],
   "source": []
  },
  {
   "cell_type": "markdown",
   "metadata": {},
   "source": [
    "## test code\n"
   ]
  },
  {
   "cell_type": "code",
   "execution_count": 13,
   "metadata": {},
   "outputs": [
    {
     "data": {
      "text/plain": [
       "['ཁ་སྔོན་ཕྱི་ཚེས་ ༥ ནས་འགོ་འཛུགས་བྱུང་བའི་བོད་ཀྱི་གཞོན་ནུ་ལྷན་ཚོགས་ཀྱི་འགན་འཛིན་ལྷན་ཚོགས་ཐེངས་ ༥༤ དེ་ཕྱི་ཚེས་ ༡༠ ཉིན་མཇུག་བསྒྲིལ་ཡོད་པ་དང་།   བོད་ཀྱི་གཞོན་ནུ་ལྷན་ཚོགས་ཀྱི་ངོས་ནས་ད་རེས་ཀྱི་འགན་འཛིན་ལྷན་ཚོགས་འདིའི་བརྒྱུད།  རྒྱ་ནག་གཞུང་གིས་བོད་མིའི་ངོ་བོ་རྩ་མེད་བཟོ་བའི་སྲིད་བྱུས་འོག   བོད་ཀྱི་ཆོས་དང་རིག་གཞུང་སྐད་ཡིག་བཅས་པར་ཕྱོགས་གང་ས་ནས་དམ་དྲག་ཇེ་ཆེར་བྱེད་བཞིན་པ་དེར་ངོ་རྒོལ་གྱིས་བསྒྲགས་གཏམ་ཞིག་སྤེལ་ཡོད་པ་རེད།',\n",
       " 'ད་རེས་ཀྱི་འགན་འཛིན་ལྷན་ཚོགས་ཐེངས་ ༥༤ པ་དེའི་ཐོག   རྒྱ་གར་དང་བལ་ཡུལ་བཅས་ས་གནས་ཁག་ ༣༨ ནས་ཚོགས་བཅར་བ་མི་གྲངས་  ༢༠༠ ཙམ་ཞིག་འདུ་འཛོམས་བྱུང་ཡོད་པ་དང་།  ཉིན་གྲངས་ལྔའི་རིང་ཚོགས་བཅར་བ་ཕན་ཚུན་བཀའ་བསྡུར་དང་འབྲེལ་གྲོས་ཆོད་དོན་ཚན་བརྒྱད་གཏན་འབེབས་གནང་ཐུབ་པ་མ་ཟད།  སྤྱི་མོས་གྲོས་ཆོད་ཞིག་གཏན་འབེབས་བྱུང་ཡོད་པ་དེའི་ནང་བོད་ཀྱི་སྐད་ཡིག་མི་ཉམས་རྒྱུན་འཛིན་སླད།  བོད་པའི་ཚོང་ཁང་དང་། ཟ་ཁང་།   མགྲོན་ཁང་།  འགྲིམ་འགྲུལ་ཁང་སོགས་ཀྱི་སྒོ་བྱང་ཐོག་ངེས་པར་དུ་བོད་ཡིག་འབྲི་འགོད་ཡོང་ཐབས་དང་།   ལྷག་པར་གཞོན་ནུའི་སྒྲིག་འཛུགས་ཁྱབ་ཁོངས་ནས་ཕྱིར་འཐེན་བྱས་པའི་སྦེལ་ཀོབ་དང་ཧོན་སུར།  ཀོ་ལི་གྷལ་བཅས་ཀྱི་གཞོན་ནུའི་མིང་འཛིན་པ་ཚོས་གཞོན་ནུའི་མཚན་བྱང་བཀོལ་སྤྱོད་མི་ཆོག་པ་བཅས་ཀྱི་གྲོས་ཆོད་ཀྱང་གཏན་འབེབས་བྱུང་ཡོད་པ་རེད།',\n",
       " 'བོད་ཀྱི་གཞོན་ནུ་ལྷན་ཚོགས་ཀྱི་སྤྱི་ཁྱབ་ཚོགས་གཙོ་མགོན་པོ་དོན་གྲུབ་ལགས་ཀྱིས།   ད་རེས་ཀྱི་འགན་འཛིན་ལྷན་ཚོགས་ཐེངས་ ༥༤ པ་དེ་སྒང་ཏོག་ས་གནས་ཀྱི་གཞོན་ནུ་ལྷན་ཚོགས་ངོས་ནས་གོ་སྒྲིག་ཞུས་པ་ཞིག་ཡིན་པ་དང་།   ལྷན་ཚོགས་དེ་ཚགས་ཚུད་ཡོང་ཐབས་སུ་ས་གནས་དབུས་རྒྱུན་ཟུར་པ་དང་།  མངའ་སྡེའི་གཞུང་གི་ངོས་ནས་ཀྱང་མཐུན་འགྱུར་གང་འོས་གནང་ཡོད་པ་བཅས་འགྲེལ་བརྗོད་གནང་འདུག']"
      ]
     },
     "execution_count": 13,
     "metadata": {},
     "output_type": "execute_result"
    }
   ],
   "source": [
    "from bs4 import BeautifulSoup\n",
    "\n",
    "# Sample HTML content\n",
    "html_content = \"\"\"\n",
    "<div class=\"td_block_wrap tdb_single_content tdi_100 td-pb-border-top td_block_template_1 td-post-content tagdiv-type\" data-td-block-uid=\"tdi_100\">\n",
    "<style>.tdi_100{margin-top:0px!important}</style>\n",
    "<style>.tdb_single_content{margin-bottom:0;*zoom:1}.tdb_single_content:before,.tdb_single_content:after{display:table;content:'';line-height:0}.tdb_single_content:after{clear:both}.tdb_single_content .tdb-block-inner>*:not(.wp-block-quote):not(.alignwide):not(.alignfull.wp-block-cover.has-parallax):not(.td-a-ad){margin-left:auto;margin-right:auto}.tdb_single_content a{pointer-events:auto}.tdb_single_content .td-spot-id-top_ad .tdc-placeholder-title:before{content:'Article Top Ad'!important}.tdb_single_content .td-spot-id-inline_ad0 .tdc-placeholder-title:before{content:'Article Inline Ad 1'!important}.tdb_single_content .td-spot-id-inline_ad1 .tdc-placeholder-title:before{content:'Article Inline Ad 2'!important}.tdb_single_content .td-spot-id-inline_ad2 .tdc-placeholder-title:before{content:'Article Inline Ad 3'!important}.tdb_single_content .td-spot-id-bottom_ad .tdc-placeholder-title:before{content:'Article Bottom Ad'!important}.tdb_single_content .id_top_ad,.tdb_single_content .id_bottom_ad{clear:both;margin-bottom:21px;text-align:center}.tdb_single_content .id_top_ad img,.tdb_single_content .id_bottom_ad img{margin-bottom:0}.tdb_single_content .id_top_ad .adsbygoogle,.tdb_single_content .id_bottom_ad .adsbygoogle{position:relative}.tdb_single_content .id_ad_content-horiz-left,.tdb_single_content .id_ad_content-horiz-right,.tdb_single_content .id_ad_content-horiz-center{margin-bottom:15px}.tdb_single_content .id_ad_content-horiz-left img,.tdb_single_content .id_ad_content-horiz-right img,.tdb_single_content .id_ad_content-horiz-center img{margin-bottom:0}.tdb_single_content .id_ad_content-horiz-center{text-align:center}.tdb_single_content .id_ad_content-horiz-center img{margin-right:auto;margin-left:auto}.tdb_single_content .id_ad_content-horiz-left{float:left;margin-top:9px;margin-right:21px}.tdb_single_content .id_ad_content-horiz-right{float:right;margin-top:6px;margin-left:21px}.tdb_single_content .tdc-a-ad .tdc-placeholder-title{width:300px;height:250px}.tdb_single_content .tdc-a-ad .tdc-placeholder-title:before{position:absolute;top:50%;-webkit-transform:translateY(-50%);transform:translateY(-50%);margin:auto;display:table;width:100%}.tdb_single_content .tdb-block-inner.td-fix-index{word-break:break-word}.tdi_100,.tdi_100>p,.tdi_100 .tdb-block-inner>p{font-family:MonlamOuchen2!important;font-size:20px!important;line-height:1.6!important}.tdi_100 h1{font-family:MonlamOuchen2!important}.tdi_100 h2{font-family:MonlamOuchen2!important}.tdi_100 .tdb-block-inner blockquote p{font-family:MonlamOuchen2!important;font-style:normal!important}.tdi_100 .wp-caption-text,.tdi_100 figcaption{font-family:MonlamOuchen2!important}.tdi_100 .page-nav a,.tdi_100 .page-nav span,.tdi_100 .page-nav>div{font-family:MonlamOuchen2!important}@media (max-width:767px){.tdb_single_content .id_ad_content-horiz-left,.tdb_single_content .id_ad_content-horiz-right,.tdb_single_content .id_ad_content-horiz-center{margin:0 auto 26px auto}}@media (max-width:767px){.tdb_single_content .id_ad_content-horiz-left{margin-right:0}}@media (max-width:767px){.tdb_single_content .id_ad_content-horiz-right{margin-left:0}}@media (max-width:767px){.tdb_single_content .td-a-ad{float:none;text-align:center}.tdb_single_content .td-a-ad img{margin-right:auto;margin-left:auto}.tdb_single_content .tdc-a-ad{float:none}}@media (min-width:768px) and (max-width:1018px){.tdi_100,.tdi_100>p,.tdi_100 .tdb-block-inner>p{font-size:15px!important}}</style><div class=\"tdb-block-inner td-fix-index\">\n",
    "<figure class=\"wp-block-audio\"><audio controls=\"\" src=\"https://vot.org/wp-content/uploads/2024/08/Gangtok-TYC-54-Working-Committee-Meet-Concludes.mp3\"></audio></figure>\n",
    "<p>ཁ་སྔོན་ཕྱི་ཚེས་ ༥ ནས་འགོ་འཛུགས་བྱུང་བའི་བོད་ཀྱི་གཞོན་ནུ་ལྷན་ཚོགས་ཀྱི་འགན་འཛིན་ལྷན་ཚོགས་ཐེངས་ ༥༤ དེ་ཕྱི་ཚེས་ ༡༠ ཉིན་མཇུག་བསྒྲིལ་ཡོད་པ་དང་།   བོད་ཀྱི་གཞོན་ནུ་ལྷན་ཚོགས་ཀྱི་ངོས་ནས་ད་རེས་ཀྱི་འགན་འཛིན་ལྷན་ཚོགས་འདིའི་བརྒྱུད།  རྒྱ་ནག་གཞུང་གིས་བོད་མིའི་ངོ་བོ་རྩ་མེད་བཟོ་བའི་སྲིད་བྱུས་འོག   བོད་ཀྱི་ཆོས་དང་རིག་གཞུང་སྐད་ཡིག་བཅས་པར་ཕྱོགས་གང་ས་ནས་དམ་དྲག་ཇེ་ཆེར་བྱེད་བཞིན་པ་དེར་ངོ་རྒོལ་གྱིས་བསྒྲགས་གཏམ་ཞིག་སྤེལ་ཡོད་པ་རེད།  </p>\n",
    "<figure class=\"wp-block-image size-full\"><img alt=\"TYC meeting 2024 concluded\" class=\"wp-image-127463\" decoding=\"async\" fetchpriority=\"high\" height=\"1152\" sizes=\"(max-width: 2048px) 100vw, 2048px\" src=\"https://vot.org/wp-content/uploads/2024/08/455184244_547361780947286_4277832480054834483_n.jpg\" srcset=\"https://vot.org/wp-content/uploads/2024/08/455184244_547361780947286_4277832480054834483_n.jpg 2048w, https://vot.org/wp-content/uploads/2024/08/455184244_547361780947286_4277832480054834483_n-768x432.jpg 768w, https://vot.org/wp-content/uploads/2024/08/455184244_547361780947286_4277832480054834483_n-1536x864.jpg 1536w, https://vot.org/wp-content/uploads/2024/08/455184244_547361780947286_4277832480054834483_n-150x84.jpg 150w, https://vot.org/wp-content/uploads/2024/08/455184244_547361780947286_4277832480054834483_n-300x169.jpg 300w, https://vot.org/wp-content/uploads/2024/08/455184244_547361780947286_4277832480054834483_n-600x338.jpg 600w, https://vot.org/wp-content/uploads/2024/08/455184244_547361780947286_4277832480054834483_n-696x392.jpg 696w, https://vot.org/wp-content/uploads/2024/08/455184244_547361780947286_4277832480054834483_n-1392x783.jpg 1392w, https://vot.org/wp-content/uploads/2024/08/455184244_547361780947286_4277832480054834483_n-1068x601.jpg 1068w, https://vot.org/wp-content/uploads/2024/08/455184244_547361780947286_4277832480054834483_n-1920x1080.jpg 1920w, https://vot.org/wp-content/uploads/2024/08/455184244_547361780947286_4277832480054834483_n-747x420.jpg 747w, https://vot.org/wp-content/uploads/2024/08/455184244_547361780947286_4277832480054834483_n-1493x840.jpg 1493w\" width=\"2048\"/></figure>\n",
    "<p>ད་རེས་ཀྱི་འགན་འཛིན་ལྷན་ཚོགས་ཐེངས་ ༥༤ པ་དེའི་ཐོག   རྒྱ་གར་དང་བལ་ཡུལ་བཅས་ས་གནས་ཁག་ ༣༨ ནས་ཚོགས་བཅར་བ་མི་གྲངས་  ༢༠༠ ཙམ་ཞིག་འདུ་འཛོམས་བྱུང་ཡོད་པ་དང་།  ཉིན་གྲངས་ལྔའི་རིང་ཚོགས་བཅར་བ་ཕན་ཚུན་བཀའ་བསྡུར་དང་འབྲེལ་གྲོས་ཆོད་དོན་ཚན་བརྒྱད་གཏན་འབེབས་གནང་ཐུབ་པ་མ་ཟད།  སྤྱི་མོས་གྲོས་ཆོད་ཞིག་གཏན་འབེབས་བྱུང་ཡོད་པ་དེའི་ནང་བོད་ཀྱི་སྐད་ཡིག་མི་ཉམས་རྒྱུན་འཛིན་སླད།  བོད་པའི་ཚོང་ཁང་དང་། ཟ་ཁང་།   མགྲོན་ཁང་།  འགྲིམ་འགྲུལ་ཁང་སོགས་ཀྱི་སྒོ་བྱང་ཐོག་ངེས་པར་དུ་བོད་ཡིག་འབྲི་འགོད་ཡོང་ཐབས་དང་།   ལྷག་པར་གཞོན་ནུའི་སྒྲིག་འཛུགས་ཁྱབ་ཁོངས་ནས་ཕྱིར་འཐེན་བྱས་པའི་སྦེལ་ཀོབ་དང་ཧོན་སུར།  ཀོ་ལི་གྷལ་བཅས་ཀྱི་གཞོན་ནུའི་མིང་འཛིན་པ་ཚོས་གཞོན་ནུའི་མཚན་བྱང་བཀོལ་སྤྱོད་མི་ཆོག་པ་བཅས་ཀྱི་གྲོས་ཆོད་ཀྱང་གཏན་འབེབས་བྱུང་ཡོད་པ་རེད། </p>\n",
    "<figure class=\"wp-block-image size-full\"><img alt=\"TYC meeting 2024 concluded\" class=\"wp-image-127465\" decoding=\"async\" height=\"1152\" sizes=\"(max-width: 2048px) 100vw, 2048px\" src=\"https://vot.org/wp-content/uploads/2024/08/455277083_547360910947373_3766711190846205726_n.jpg\" srcset=\"https://vot.org/wp-content/uploads/2024/08/455277083_547360910947373_3766711190846205726_n.jpg 2048w, https://vot.org/wp-content/uploads/2024/08/455277083_547360910947373_3766711190846205726_n-768x432.jpg 768w, https://vot.org/wp-content/uploads/2024/08/455277083_547360910947373_3766711190846205726_n-1536x864.jpg 1536w, https://vot.org/wp-content/uploads/2024/08/455277083_547360910947373_3766711190846205726_n-150x84.jpg 150w, https://vot.org/wp-content/uploads/2024/08/455277083_547360910947373_3766711190846205726_n-300x169.jpg 300w, https://vot.org/wp-content/uploads/2024/08/455277083_547360910947373_3766711190846205726_n-600x338.jpg 600w, https://vot.org/wp-content/uploads/2024/08/455277083_547360910947373_3766711190846205726_n-696x392.jpg 696w, https://vot.org/wp-content/uploads/2024/08/455277083_547360910947373_3766711190846205726_n-1392x783.jpg 1392w, https://vot.org/wp-content/uploads/2024/08/455277083_547360910947373_3766711190846205726_n-1068x601.jpg 1068w, https://vot.org/wp-content/uploads/2024/08/455277083_547360910947373_3766711190846205726_n-1920x1080.jpg 1920w, https://vot.org/wp-content/uploads/2024/08/455277083_547360910947373_3766711190846205726_n-747x420.jpg 747w, https://vot.org/wp-content/uploads/2024/08/455277083_547360910947373_3766711190846205726_n-1493x840.jpg 1493w\" width=\"2048\"/></figure>\n",
    "<p>བོད་ཀྱི་གཞོན་ནུ་ལྷན་ཚོགས་ཀྱི་སྤྱི་ཁྱབ་ཚོགས་གཙོ་མགོན་པོ་དོན་གྲུབ་ལགས་ཀྱིས།   ད་རེས་ཀྱི་འགན་འཛིན་ལྷན་ཚོགས་ཐེངས་ ༥༤ པ་དེ་སྒང་ཏོག་ས་གནས་ཀྱི་གཞོན་ནུ་ལྷན་ཚོགས་ངོས་ནས་གོ་སྒྲིག་ཞུས་པ་ཞིག་ཡིན་པ་དང་།   ལྷན་ཚོགས་དེ་ཚགས་ཚུད་ཡོང་ཐབས་སུ་ས་གནས་དབུས་རྒྱུན་ཟུར་པ་དང་།  མངའ་སྡེའི་གཞུང་གི་ངོས་ནས་ཀྱང་མཐུན་འགྱུར་གང་འོས་གནང་ཡོད་པ་བཅས་འགྲེལ་བརྗོད་གནང་འདུག<a></a></p>\n",
    "</div></div>\n",
    "\"\"\"\n",
    "\n",
    "# Parse the HTML\n",
    "soup = BeautifulSoup(html_content, 'html.parser')\n",
    "\n",
    "paragraphs = soup.find_all('p')\n",
    "\n",
    "# Getting the text from each <p> tag\n",
    "text_content=[]\n",
    "for para in paragraphs:\n",
    "    text_content.append(para.get_text(strip=True))\n",
    "text_content          "
   ]
  },
  {
   "cell_type": "code",
   "execution_count": 49,
   "metadata": {},
   "outputs": [
    {
     "name": "stdout",
     "output_type": "stream",
     "text": [
      "54\n",
      "68\n"
     ]
    }
   ],
   "source": [
    "lsit_num = [1,2,3,54,4,5,68,5,1,5,]\n",
    "for each in lsit_num:\n",
    "    if each>50:\n",
    "        print(each)"
   ]
  },
  {
   "cell_type": "code",
   "execution_count": null,
   "metadata": {},
   "outputs": [],
   "source": []
  },
  {
   "cell_type": "code",
   "execution_count": 16,
   "metadata": {},
   "outputs": [
    {
     "name": "stdout",
     "output_type": "stream",
     "text": [
      "None\n"
     ]
    }
   ],
   "source": [
    "headers = {\n",
    "        'User-Agent': 'Mozilla/5.0 (Windows NT 10.0; Win64; x64) AppleWebKit/537.36 (KHTML, like Gecko) Chrome/91.0.4472.124 Safari/537.36'\n",
    "    }\n",
    "\n",
    "response = requests.get(url, headers=headers)\n",
    "response.raise_for_status()\n",
    "soup = BeautifulSoup(response.content, 'html.parser')\n"
   ]
  },
  {
   "cell_type": "code",
   "execution_count": null,
   "metadata": {},
   "outputs": [],
   "source": []
  },
  {
   "cell_type": "code",
   "execution_count": 48,
   "metadata": {},
   "outputs": [
    {
     "name": "stdout",
     "output_type": "stream",
     "text": [
      "<div class=\"vc_column_inner tdi_99 wpb_column vc_column_container tdc-inner-column td-pb-span8\">\n",
      "<style scoped=\"\">.tdi_99{vertical-align:baseline}.tdi_99 .vc_column-inner>.wpb_wrapper,.tdi_99 .vc_column-inner>.wpb_wrapper .tdc-elements{display:block}.tdi_99 .vc_column-inner>.wpb_wrapper .tdc-elements{width:100%}@media (min-width:768px) and (max-width:1018px){.tdi_99{width:100%!important}}</style><div class=\"vc_column-inner\"><div class=\"wpb_wrapper\"><div class=\"td_block_wrap tdb_single_content tdi_100 td-pb-border-top td_block_template_1 td-post-content tagdiv-type\" data-td-block-uid=\"tdi_100\">\n",
      "<style>.tdi_100{margin-top:0px!important}</style>\n",
      "<style>.tdb_single_content{margin-bottom:0;*zoom:1}.tdb_single_content:before,.tdb_single_content:after{display:table;content:'';line-height:0}.tdb_single_content:after{clear:both}.tdb_single_content .tdb-block-inner>*:not(.wp-block-quote):not(.alignwide):not(.alignfull.wp-block-cover.has-parallax):not(.td-a-ad){margin-left:auto;margin-right:auto}.tdb_single_content a{pointer-events:auto}.tdb_single_content .td-spot-id-top_ad .tdc-placeholder-title:before{content:'Article Top Ad'!important}.tdb_single_content .td-spot-id-inline_ad0 .tdc-placeholder-title:before{content:'Article Inline Ad 1'!important}.tdb_single_content .td-spot-id-inline_ad1 .tdc-placeholder-title:before{content:'Article Inline Ad 2'!important}.tdb_single_content .td-spot-id-inline_ad2 .tdc-placeholder-title:before{content:'Article Inline Ad 3'!important}.tdb_single_content .td-spot-id-bottom_ad .tdc-placeholder-title:before{content:'Article Bottom Ad'!important}.tdb_single_content .id_top_ad,.tdb_single_content .id_bottom_ad{clear:both;margin-bottom:21px;text-align:center}.tdb_single_content .id_top_ad img,.tdb_single_content .id_bottom_ad img{margin-bottom:0}.tdb_single_content .id_top_ad .adsbygoogle,.tdb_single_content .id_bottom_ad .adsbygoogle{position:relative}.tdb_single_content .id_ad_content-horiz-left,.tdb_single_content .id_ad_content-horiz-right,.tdb_single_content .id_ad_content-horiz-center{margin-bottom:15px}.tdb_single_content .id_ad_content-horiz-left img,.tdb_single_content .id_ad_content-horiz-right img,.tdb_single_content .id_ad_content-horiz-center img{margin-bottom:0}.tdb_single_content .id_ad_content-horiz-center{text-align:center}.tdb_single_content .id_ad_content-horiz-center img{margin-right:auto;margin-left:auto}.tdb_single_content .id_ad_content-horiz-left{float:left;margin-top:9px;margin-right:21px}.tdb_single_content .id_ad_content-horiz-right{float:right;margin-top:6px;margin-left:21px}.tdb_single_content .tdc-a-ad .tdc-placeholder-title{width:300px;height:250px}.tdb_single_content .tdc-a-ad .tdc-placeholder-title:before{position:absolute;top:50%;-webkit-transform:translateY(-50%);transform:translateY(-50%);margin:auto;display:table;width:100%}.tdb_single_content .tdb-block-inner.td-fix-index{word-break:break-word}.tdi_100,.tdi_100>p,.tdi_100 .tdb-block-inner>p{font-family:MonlamOuchen2!important;font-size:20px!important;line-height:1.6!important}.tdi_100 h1{font-family:MonlamOuchen2!important}.tdi_100 h2{font-family:MonlamOuchen2!important}.tdi_100 .tdb-block-inner blockquote p{font-family:MonlamOuchen2!important;font-style:normal!important}.tdi_100 .wp-caption-text,.tdi_100 figcaption{font-family:MonlamOuchen2!important}.tdi_100 .page-nav a,.tdi_100 .page-nav span,.tdi_100 .page-nav>div{font-family:MonlamOuchen2!important}@media (max-width:767px){.tdb_single_content .id_ad_content-horiz-left,.tdb_single_content .id_ad_content-horiz-right,.tdb_single_content .id_ad_content-horiz-center{margin:0 auto 26px auto}}@media (max-width:767px){.tdb_single_content .id_ad_content-horiz-left{margin-right:0}}@media (max-width:767px){.tdb_single_content .id_ad_content-horiz-right{margin-left:0}}@media (max-width:767px){.tdb_single_content .td-a-ad{float:none;text-align:center}.tdb_single_content .td-a-ad img{margin-right:auto;margin-left:auto}.tdb_single_content .tdc-a-ad{float:none}}@media (min-width:768px) and (max-width:1018px){.tdi_100,.tdi_100>p,.tdi_100 .tdb-block-inner>p{font-size:15px!important}}</style><div class=\"tdb-block-inner td-fix-index\">\n",
      "<figure class=\"wp-block-audio\"><audio controls=\"\" src=\"https://vot.org/wp-content/uploads/2024/08/Gangtok-TYC-54-Working-Committee-Meet-Concludes.mp3\"></audio></figure>\n",
      "<p>ཁ་སྔོན་ཕྱི་ཚེས་ ༥ ནས་འགོ་འཛུགས་བྱུང་བའི་བོད་ཀྱི་གཞོན་ནུ་ལྷན་ཚོགས་ཀྱི་འགན་འཛིན་ལྷན་ཚོགས་ཐེངས་ ༥༤ དེ་ཕྱི་ཚེས་ ༡༠ ཉིན་མཇུག་བསྒྲིལ་ཡོད་པ་དང་།   བོད་ཀྱི་གཞོན་ནུ་ལྷན་ཚོགས་ཀྱི་ངོས་ནས་ད་རེས་ཀྱི་འགན་འཛིན་ལྷན་ཚོགས་འདིའི་བརྒྱུད།  རྒྱ་ནག་གཞུང་གིས་བོད་མིའི་ངོ་བོ་རྩ་མེད་བཟོ་བའི་སྲིད་བྱུས་འོག   བོད་ཀྱི་ཆོས་དང་རིག་གཞུང་སྐད་ཡིག་བཅས་པར་ཕྱོགས་གང་ས་ནས་དམ་དྲག་ཇེ་ཆེར་བྱེད་བཞིན་པ་དེར་ངོ་རྒོལ་གྱིས་བསྒྲགས་གཏམ་ཞིག་སྤེལ་ཡོད་པ་རེད།  </p>\n",
      "<figure class=\"wp-block-image size-full\"><img alt=\"TYC meeting 2024 concluded\" class=\"wp-image-127463\" decoding=\"async\" fetchpriority=\"high\" height=\"1152\" sizes=\"(max-width: 2048px) 100vw, 2048px\" src=\"https://vot.org/wp-content/uploads/2024/08/455184244_547361780947286_4277832480054834483_n.jpg\" srcset=\"https://vot.org/wp-content/uploads/2024/08/455184244_547361780947286_4277832480054834483_n.jpg 2048w, https://vot.org/wp-content/uploads/2024/08/455184244_547361780947286_4277832480054834483_n-768x432.jpg 768w, https://vot.org/wp-content/uploads/2024/08/455184244_547361780947286_4277832480054834483_n-1536x864.jpg 1536w, https://vot.org/wp-content/uploads/2024/08/455184244_547361780947286_4277832480054834483_n-150x84.jpg 150w, https://vot.org/wp-content/uploads/2024/08/455184244_547361780947286_4277832480054834483_n-300x169.jpg 300w, https://vot.org/wp-content/uploads/2024/08/455184244_547361780947286_4277832480054834483_n-600x338.jpg 600w, https://vot.org/wp-content/uploads/2024/08/455184244_547361780947286_4277832480054834483_n-696x392.jpg 696w, https://vot.org/wp-content/uploads/2024/08/455184244_547361780947286_4277832480054834483_n-1392x783.jpg 1392w, https://vot.org/wp-content/uploads/2024/08/455184244_547361780947286_4277832480054834483_n-1068x601.jpg 1068w, https://vot.org/wp-content/uploads/2024/08/455184244_547361780947286_4277832480054834483_n-1920x1080.jpg 1920w, https://vot.org/wp-content/uploads/2024/08/455184244_547361780947286_4277832480054834483_n-747x420.jpg 747w, https://vot.org/wp-content/uploads/2024/08/455184244_547361780947286_4277832480054834483_n-1493x840.jpg 1493w\" width=\"2048\"/></figure>\n",
      "<p>ད་རེས་ཀྱི་འགན་འཛིན་ལྷན་ཚོགས་ཐེངས་ ༥༤ པ་དེའི་ཐོག   རྒྱ་གར་དང་བལ་ཡུལ་བཅས་ས་གནས་ཁག་ ༣༨ ནས་ཚོགས་བཅར་བ་མི་གྲངས་  ༢༠༠ ཙམ་ཞིག་འདུ་འཛོམས་བྱུང་ཡོད་པ་དང་།  ཉིན་གྲངས་ལྔའི་རིང་ཚོགས་བཅར་བ་ཕན་ཚུན་བཀའ་བསྡུར་དང་འབྲེལ་གྲོས་ཆོད་དོན་ཚན་བརྒྱད་གཏན་འབེབས་གནང་ཐུབ་པ་མ་ཟད།  སྤྱི་མོས་གྲོས་ཆོད་ཞིག་གཏན་འབེབས་བྱུང་ཡོད་པ་དེའི་ནང་བོད་ཀྱི་སྐད་ཡིག་མི་ཉམས་རྒྱུན་འཛིན་སླད།  བོད་པའི་ཚོང་ཁང་དང་། ཟ་ཁང་།   མགྲོན་ཁང་།  འགྲིམ་འགྲུལ་ཁང་སོགས་ཀྱི་སྒོ་བྱང་ཐོག་ངེས་པར་དུ་བོད་ཡིག་འབྲི་འགོད་ཡོང་ཐབས་དང་།   ལྷག་པར་གཞོན་ནུའི་སྒྲིག་འཛུགས་ཁྱབ་ཁོངས་ནས་ཕྱིར་འཐེན་བྱས་པའི་སྦེལ་ཀོབ་དང་ཧོན་སུར།  ཀོ་ལི་གྷལ་བཅས་ཀྱི་གཞོན་ནུའི་མིང་འཛིན་པ་ཚོས་གཞོན་ནུའི་མཚན་བྱང་བཀོལ་སྤྱོད་མི་ཆོག་པ་བཅས་ཀྱི་གྲོས་ཆོད་ཀྱང་གཏན་འབེབས་བྱུང་ཡོད་པ་རེད། </p>\n",
      "<figure class=\"wp-block-image size-full\"><img alt=\"TYC meeting 2024 concluded\" class=\"wp-image-127465\" decoding=\"async\" height=\"1152\" sizes=\"(max-width: 2048px) 100vw, 2048px\" src=\"https://vot.org/wp-content/uploads/2024/08/455277083_547360910947373_3766711190846205726_n.jpg\" srcset=\"https://vot.org/wp-content/uploads/2024/08/455277083_547360910947373_3766711190846205726_n.jpg 2048w, https://vot.org/wp-content/uploads/2024/08/455277083_547360910947373_3766711190846205726_n-768x432.jpg 768w, https://vot.org/wp-content/uploads/2024/08/455277083_547360910947373_3766711190846205726_n-1536x864.jpg 1536w, https://vot.org/wp-content/uploads/2024/08/455277083_547360910947373_3766711190846205726_n-150x84.jpg 150w, https://vot.org/wp-content/uploads/2024/08/455277083_547360910947373_3766711190846205726_n-300x169.jpg 300w, https://vot.org/wp-content/uploads/2024/08/455277083_547360910947373_3766711190846205726_n-600x338.jpg 600w, https://vot.org/wp-content/uploads/2024/08/455277083_547360910947373_3766711190846205726_n-696x392.jpg 696w, https://vot.org/wp-content/uploads/2024/08/455277083_547360910947373_3766711190846205726_n-1392x783.jpg 1392w, https://vot.org/wp-content/uploads/2024/08/455277083_547360910947373_3766711190846205726_n-1068x601.jpg 1068w, https://vot.org/wp-content/uploads/2024/08/455277083_547360910947373_3766711190846205726_n-1920x1080.jpg 1920w, https://vot.org/wp-content/uploads/2024/08/455277083_547360910947373_3766711190846205726_n-747x420.jpg 747w, https://vot.org/wp-content/uploads/2024/08/455277083_547360910947373_3766711190846205726_n-1493x840.jpg 1493w\" width=\"2048\"/></figure>\n",
      "<p>བོད་ཀྱི་གཞོན་ནུ་ལྷན་ཚོགས་ཀྱི་སྤྱི་ཁྱབ་ཚོགས་གཙོ་མགོན་པོ་དོན་གྲུབ་ལགས་ཀྱིས།   ད་རེས་ཀྱི་འགན་འཛིན་ལྷན་ཚོགས་ཐེངས་ ༥༤ པ་དེ་སྒང་ཏོག་ས་གནས་ཀྱི་གཞོན་ནུ་ལྷན་ཚོགས་ངོས་ནས་གོ་སྒྲིག་ཞུས་པ་ཞིག་ཡིན་པ་དང་།   ལྷན་ཚོགས་དེ་ཚགས་ཚུད་ཡོང་ཐབས་སུ་ས་གནས་དབུས་རྒྱུན་ཟུར་པ་དང་།  མངའ་སྡེའི་གཞུང་གི་ངོས་ནས་ཀྱང་མཐུན་འགྱུར་གང་འོས་གནང་ཡོད་པ་བཅས་འགྲེལ་བརྗོད་གནང་འདུག<a></a></p>\n",
      "</div></div><div class=\"td_block_wrap tdb_single_tags tdi_101 td-pb-border-top td_block_template_1\" data-td-block-uid=\"tdi_101\">\n",
      "<style>.tdb_single_tags{margin-bottom:2px;font-family:'Open Sans','Open Sans Regular',sans-serif;font-weight:600}.tdb_single_tags span,.tdb_single_tags a{font-size:11px}.tdb_single_tags span{text-transform:uppercase}.tdb_single_tags a:hover{background-color:var(--td_theme_color,#4db2ec);border-color:var(--td_theme_color,#4db2ec);color:#fff}.tdb_single_tags ul{display:inline-block;margin:0;list-style-type:none;font-size:0}.tdb_single_tags li{display:inline-block;margin-left:0}.tdi_101 span{margin-right:4px;padding:2px 8px 3px;color:#fff;background-color:#222;font-family:Source Sans Pro!important;font-size:12px!important}.tdi_101 a{margin-right:4px;padding:1px 7px 2px;border:1px solid #ededed;color:#111;font-family:MonlamOuchen2!important;font-size:12px!important;font-style:italic!important;font-weight:400!important}@media (min-width:1019px) and (max-width:1140px){.tdi_101 a{border:1px solid #ededed}}@media (min-width:768px) and (max-width:1018px){.tdi_101 a{border:1px solid #ededed}}@media (max-width:767px){.tdi_101 a{border:1px solid #ededed}}</style><div class=\"tdb-block-inner td-fix-index\"><ul class=\"tdb-tags\"><li><span>Tags</span></li><li><a href=\"https://vot.org/tag/%e0%bd%82%e0%bd%a6%e0%bd%a2%e0%bc%8b%e0%bd%a0%e0%bd%82%e0%be%b1%e0%bd%b4%e0%bd%a2%e0%bc%8d/\">གསར་འགྱུར།</a></li><li><a href=\"https://vot.org/tag/%e0%bd%96%e0%bd%99%e0%bd%93%e0%bc%8b%e0%bd%96%e0%be%b1%e0%bd%bc%e0%bd%a3%e0%bc%8d/\">བཙན་བྱོལ།</a></li></ul></div></div></div></div></div>\n"
     ]
    }
   ],
   "source": [
    "\n",
    "class_name = \"vc_column_inner tdi_99 wpb_column vc_column_container tdc-inner-column td-pb-span8\"\n",
    "meta_data_body = soup.find('div', class_=class_name)\n",
    "print(meta_data_body)"
   ]
  },
  {
   "cell_type": "code",
   "execution_count": 42,
   "metadata": {},
   "outputs": [
    {
     "name": "stdout",
     "output_type": "stream",
     "text": [
      "<a class=\"tdb-author-name\" href=\"https://vot.org/author/gurbumch_editor/\">vot.org</a>\n"
     ]
    }
   ],
   "source": [
    "author = meta_data_body.find('a', class_=\"tdb-author-name\")\n",
    "print(author)"
   ]
  },
  {
   "cell_type": "code",
   "execution_count": 43,
   "metadata": {},
   "outputs": [
    {
     "data": {
      "text/plain": [
       "'vot.org'"
      ]
     },
     "execution_count": 43,
     "metadata": {},
     "output_type": "execute_result"
    }
   ],
   "source": [
    "author.get_text()"
   ]
  },
  {
   "cell_type": "code",
   "execution_count": 44,
   "metadata": {},
   "outputs": [
    {
     "data": {
      "text/plain": [
       "'13/08/2024'"
      ]
     },
     "execution_count": 44,
     "metadata": {},
     "output_type": "execute_result"
    }
   ],
   "source": [
    "date_time = meta_data_body.find('time', class_=\"entry-date updated td-module-date\").get_text()\n",
    "date_time"
   ]
  },
  {
   "cell_type": "markdown",
   "metadata": {},
   "source": [
    "## title extraction"
   ]
  },
  {
   "cell_type": "code",
   "execution_count": 39,
   "metadata": {},
   "outputs": [],
   "source": [
    "url = \"https://vot.org/%e0%bd%96%e0%bd%bc%e0%bd%91%e0%bc%8b%e0%bd%80%e0%be%b1%e0%bd%b2%e0%bc%8b%e0%bd%82%e0%bd%9e%e0%bd%bc%e0%bd%93%e0%bc%8b%e0%bd%93%e0%bd%b4%e0%bc%8b%e0%bd%a3%e0%be%b7%e0%bd%93%e0%bc%8b%e0%bd%9a-20/\"\n",
    "\n",
    "\n",
    "response = requests.get(url, headers=headers)\n",
    "response.raise_for_status()\n",
    "soup = BeautifulSoup(response.content, 'html.parser')\n",
    "\n"
   ]
  },
  {
   "cell_type": "code",
   "execution_count": 40,
   "metadata": {},
   "outputs": [
    {
     "data": {
      "text/plain": [
       "<h1 class=\"tdb-title-text\">བོད་ཀྱི་གཞོན་ནུ་ལྷན་ཚོགས་ཀྱི་འགན་འཛིན་ལྷན་ཚོགས་ཐེངས་ ༥༤ པ་མཇུག་བསྒྲིལ་འདུག</h1>"
      ]
     },
     "execution_count": 40,
     "metadata": {},
     "output_type": "execute_result"
    }
   ],
   "source": [
    "\n",
    "# Extract title\n",
    "title = soup.find('h1', class_='tdb-title-text')\n",
    "title"
   ]
  },
  {
   "cell_type": "code",
   "execution_count": null,
   "metadata": {},
   "outputs": [],
   "source": [
    "\n",
    "title_text = title.text.strip() if title else \"Title not found\""
   ]
  },
  {
   "cell_type": "code",
   "execution_count": 41,
   "metadata": {},
   "outputs": [
    {
     "data": {
      "text/plain": [
       "'བོད་ཀྱི་གཞོན་ནུ་ལྷན་ཚོགས་ཀྱི་འགན་འཛིན་ལྷན་ཚོགས་ཐེངས་ ༥༤ པ་མཇུག་བསྒྲིལ་འདུག'"
      ]
     },
     "execution_count": 41,
     "metadata": {},
     "output_type": "execute_result"
    }
   ],
   "source": [
    "title.text"
   ]
  },
  {
   "cell_type": "code",
   "execution_count": null,
   "metadata": {},
   "outputs": [],
   "source": []
  },
  {
   "cell_type": "code",
   "execution_count": 1,
   "metadata": {},
   "outputs": [],
   "source": [
    "html_content = \"\"\"\n",
    "<ul class=\"tdb-tags\">\n",
    "<li><span>Tags</span>\n",
    "</li><li><a href=\"https://vot.org/tag/%e0%bd%82%e0%bd%a6%e0%bd%a2%e0%bc%8b%e0%bd%a0%e0%bd%82%e0%be%b1%e0%bd%b4%e0%bd%a2%e0%bc%8d/\">གསར་འགྱུར།</a></li>\n",
    "<li><a href=\"https://vot.org/tag/%e0%bd%96%e0%bd%99%e0%bd%93%e0%bc%8b%e0%bd%96%e0%be%b1%e0%bd%bc%e0%bd%a3%e0%bc%8d/\">བཙན་བྱོལ།</a></li></ul>\n",
    "</div>\n",
    "\n",
    "\"\"\""
   ]
  },
  {
   "cell_type": "code",
   "execution_count": 5,
   "metadata": {},
   "outputs": [],
   "source": [
    "\n",
    "# Parse the HTML\n",
    "meta_data_body = BeautifulSoup(html_content, 'html.parser')\n"
   ]
  },
  {
   "cell_type": "code",
   "execution_count": null,
   "metadata": {},
   "outputs": [],
   "source": []
  },
  {
   "cell_type": "code",
   "execution_count": 17,
   "metadata": {},
   "outputs": [
    {
     "data": {
      "text/plain": [
       "['གསར་འགྱུར།', 'བཙན་བྱོལ།']"
      ]
     },
     "execution_count": 17,
     "metadata": {},
     "output_type": "execute_result"
    }
   ],
   "source": []
  },
  {
   "cell_type": "code",
   "execution_count": null,
   "metadata": {},
   "outputs": [],
   "source": []
  },
  {
   "cell_type": "code",
   "execution_count": null,
   "metadata": {},
   "outputs": [],
   "source": []
  },
  {
   "cell_type": "code",
   "execution_count": 21,
   "metadata": {},
   "outputs": [],
   "source": [
    "url = \"https://vot.org/category/%e0%bc%b8%e0%bd%82%e0%bd%bc%e0%bd%84%e0%bc%8b%e0%bd%a6%e0%bc%8b%e0%bd%98%e0%bd%86%e0%bd%bc%e0%bd%82/\"\n",
    "headers = {\n",
    "        'User-Agent': 'Mozilla/5.0 (Windows NT 10.0; Win64; x64) AppleWebKit/537.36 (KHTML, like Gecko) Chrome/91.0.4472.124 Safari/537.36'\n",
    "    }\n",
    "response = requests.get(url, headers=headers)\n",
    "response.raise_for_status()\n",
    "soup = BeautifulSoup(response.content, 'html.parser')"
   ]
  },
  {
   "cell_type": "code",
   "execution_count": 29,
   "metadata": {},
   "outputs": [
    {
     "data": {
      "text/plain": [
       "['https://vot.org/%e0%bc%b8%e0%bd%82%e0%bd%bc%e0%bd%84%e0%bc%8b%e0%bd%a6%e0%bc%8b%e0%bd%98%e0%bd%86%e0%bd%bc%e0%bd%82%e0%bc%8b%e0%bd%82%e0%bd%b2%e0%bd%a6%e0%bc%8b-swiss-%e0%bd%91%e0%bd%84%e0%bc%8b-liechtenstein/',\n",
       " 'https://vot.org/%e0%bd%a8%e0%bc%8b%e0%bd%a2%e0%bd%b2%e0%bd%a0%e0%bd%b2%e0%bc%8b%e0%bd%93%e0%bd%b2%e0%bd%a0%e0%bd%b4%e0%bc%8b%e0%bd%a1%e0%bd%bc%e0%bd%82%e0%bc%8b%e0%bd%82%e0%bd%b2%e0%bc%8b-ubs-arena-%e0%bd%a2/',\n",
       " 'https://vot.org/vot%e0%bd%82%e0%bd%84%e0%bd%a6%e0%bd%98%e0%bd%86%e0%bd%82%e0%bd%a3%e0%bd%96%e0%bd%a2%e0%bd%93%e0%bd%96%e0%bd%9e-2/',\n",
       " 'https://vot.org/wisdom-of-happiness-%e0%bd%9e%e0%bd%ba%e0%bd%a6%e0%bc%8b%e0%bc%b8%e0%bd%82%e0%bd%bc%e0%bd%84%e0%bc%8b%e0%bd%a6%e0%bc%8b%e0%bd%98%e0%bd%86%e0%bd%bc%e0%bd%82%e0%bc%8b%e0%bd%91%e0%bd%84%e0%bc%8b%e0%bd%a0/',\n",
       " 'https://vot.org/vott%e0%bd%82%e0%bd%84%e0%bd%a6%e0%bd%98%e0%bd%86%e0%bd%82%e0%bd%82%e0%bd%a6%e0%bd%80%e0%bd%a2/',\n",
       " 'https://vot.org/vott%e0%bd%82%e0%bd%84%e0%bd%a6%e0%bd%98%e0%bd%86%e0%bd%82%e0%bd%82%e0%bd%a6%e0%bd%a6%e0%bd%91%e0%bd%a6-3/',\n",
       " 'https://vot.org/%e0%bc%b8%e0%bd%82%e0%bd%bc%e0%bd%84%e0%bc%8b%e0%bd%a6%e0%bc%8b%e0%bd%98%e0%bd%86%e0%bd%bc%e0%bd%82%e0%bc%8b%e0%bd%82%e0%bd%b2%e0%bc%8b%e0%bd%9e%e0%bd%96%e0%bd%a6%e0%bc%8b%e0%bd%94%e0%bd%b4%e0%bd%a6-2/',\n",
       " 'https://vot.org/%e0%bd%a2%e0%be%92%e0%be%b1%e0%bc%8b%e0%bd%82%e0%bd%a2%e0%bc%8b%e0%bd%82%e0%bd%9e%e0%bd%b4%e0%bd%84%e0%bc%8b%e0%bd%93%e0%bd%a6%e0%bc%8b%e0%bc%b8%e0%bd%82%e0%bd%bc%e0%bd%84%e0%bc%8b%e0%bd%a6%e0%bc%8b-3/',\n",
       " 'https://vot.org/vot%e0%bd%96%e0%bd%a3%e0%bd%a1%e0%bd%a3%e0%bd%91%e0%bd%a6%e0%bd%a0%e0%bd%a0%e0%bd%81%e0%bd%84/']"
      ]
     },
     "execution_count": 29,
     "metadata": {},
     "output_type": "execute_result"
    }
   ],
   "source": [
    "\n",
    "all_article = soup.find(\"div\", class_=\"td_block_inner tdb-block-inner td-fix-index\")\n",
    "article_links = all_article.find_all(\"a\", class_=\"td-image-wrap\")\n",
    "all_links = []\n",
    "for each_link in article_links:\n",
    "    all_links.append(each_link.get(\"href\"))\n",
    "all_links"
   ]
  },
  {
   "cell_type": "code",
   "execution_count": null,
   "metadata": {},
   "outputs": [],
   "source": [
    "\n",
    "    \n"
   ]
  },
  {
   "cell_type": "code",
   "execution_count": null,
   "metadata": {},
   "outputs": [],
   "source": []
  },
  {
   "cell_type": "code",
   "execution_count": 1,
   "metadata": {},
   "outputs": [],
   "source": [
    "import requests\n",
    "from bs4 import BeautifulSoup\n",
    "import json\n",
    "\n",
    "def scrape_tt_article(url):\n",
    "    headers = {\n",
    "        'User-Agent': 'Mozilla/5.0 (Windows NT 10.0; Win64; x64) AppleWebKit/537.36 (KHTML, like Gecko) Chrome/91.0.4472.124 Safari/537.36'\n",
    "    }\n",
    "    \n",
    "    try:\n",
    "        # Make the request to the URL\n",
    "        response = requests.get(url, headers=headers)\n",
    "        response.raise_for_status()  \n",
    "        \n",
    "        # Parse the page content with BeautifulSoup\n",
    "        soup = BeautifulSoup(response.content, 'html.parser')\n",
    "        \n",
    "        # Extract title\n",
    "        title = soup.find('h3')\n",
    "        title_text = title.get_text(strip=True) if title else \"Title not found\"\n",
    "\n",
    "        # Locate the main content container\n",
    "        body = soup.find('div', class_='jeg_post_excerpt') # content-inner\n",
    "        \n",
    "        # Initialize variables for content\n",
    "        text_content = []\n",
    "        author = \"Author not found\"\n",
    "        date = \"Date not found\"\n",
    "        audio_src = \"No audio found\"\n",
    "\n",
    "        if body:\n",
    "            # Extract all <span> tags within the main content container\n",
    "            spans = body.find_all('span')\n",
    "            \n",
    "            # Iterate through the spans and extract text\n",
    "            for span in spans:\n",
    "                text_content.append(span.get_text(strip=True))\n",
    "\n",
    "            # Extract author and date from meta-data if available\n",
    "            meta_data = soup.find('div', class_='jeg_post_meta')\n",
    "            if meta_data:\n",
    "                author_tag = meta_data.find('span', class_='by')\n",
    "                date_tag = meta_data.find('time', class_='entry-date')\n",
    "                audio_tag = body.find('figure', class_='wp-block-audio')\n",
    "                \n",
    "                author = author_tag.get_text(strip=True) if author_tag else \"Author not found\"\n",
    "                date = date_tag.get_text(strip=True) if date_tag else \"Date not found\"\n",
    "                \n",
    "                if audio_tag:\n",
    "                    audio = audio_tag.find('audio')\n",
    "                    audio_src = audio.get('src') if audio else \"No audio source found\"\n",
    "        \n",
    "        # Return the structured result\n",
    "        return {\n",
    "            'title': title_text,\n",
    "            'text': '\\n'.join(text_content) if text_content else \"No text content found\",\n",
    "            'meta_data': {\n",
    "                'author': author,\n",
    "                'date': date,\n",
    "                'audio': audio_src\n",
    "            }\n",
    "        }\n",
    "    \n",
    "    except requests.RequestException as e:\n",
    "        return {\n",
    "            'title': \"Error\",\n",
    "            'text': f\"An error occurred while fetching the article: {str(e)}\",\n",
    "            'meta_data': {'author': \"Unknown\", 'date': \"Unknown\", 'audio': \"None\"}\n",
    "        }\n",
    "\n",
    "def scrape_multiple_articles(base_url, num_articles):\n",
    "    articles = []\n",
    "    for i in range(1, num_articles + 1):\n",
    "        # Generate the URL for each article (assuming a pattern in URL)\n",
    "        url = f\"{base_url}/{i}/\"\n",
    "        print(f\"Scraping {url}...\")\n",
    "        article = scrape_tt_article(url)\n",
    "        articles.append(article)\n",
    "    \n",
    "    # Saving to a JSON file\n",
    "    with open('articles.json', 'w', encoding='utf-8') as f:\n",
    "        json.dump(articles, f, ensure_ascii=False, indent=4)\n",
    "\n",
    "    print(\"All article data has been saved to 'articles.json'\")\n",
    "\n"
   ]
  },
  {
   "cell_type": "code",
   "execution_count": 2,
   "metadata": {},
   "outputs": [
    {
     "name": "stdout",
     "output_type": "stream",
     "text": [
      "Scraping https://tibettimes.net/category/news/dalai-lama/page//1/...\n",
      "Scraping https://tibettimes.net/category/news/dalai-lama/page//2/...\n",
      "All article data has been saved to 'articles.json'\n"
     ]
    }
   ],
   "source": [
    "\n",
    "# Usage\n",
    "base_url = \"https://tibettimes.net/category/news/dalai-lama/page/\"\n",
    "num_articles = 2  # Specify the number of articles to scrape\n",
    "scrape_multiple_articles(base_url, num_articles)"
   ]
  },
  {
   "cell_type": "code",
   "execution_count": null,
   "metadata": {},
   "outputs": [],
   "source": []
  },
  {
   "cell_type": "code",
   "execution_count": null,
   "metadata": {},
   "outputs": [],
   "source": []
  },
  {
   "cell_type": "code",
   "execution_count": null,
   "metadata": {},
   "outputs": [],
   "source": []
  },
  {
   "cell_type": "code",
   "execution_count": null,
   "metadata": {},
   "outputs": [],
   "source": []
  },
  {
   "cell_type": "code",
   "execution_count": null,
   "metadata": {},
   "outputs": [],
   "source": []
  }
 ],
 "metadata": {
  "kernelspec": {
   "display_name": "base",
   "language": "python",
   "name": "python3"
  },
  "language_info": {
   "codemirror_mode": {
    "name": "ipython",
    "version": 3
   },
   "file_extension": ".py",
   "mimetype": "text/x-python",
   "name": "python",
   "nbconvert_exporter": "python",
   "pygments_lexer": "ipython3",
   "version": "3.9.13"
  }
 },
 "nbformat": 4,
 "nbformat_minor": 2
}
